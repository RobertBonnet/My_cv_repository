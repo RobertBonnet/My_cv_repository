{
 "cells": [
  {
   "cell_type": "markdown",
   "metadata": {},
   "source": [
    "# ¡Hola Robert!\n",
    "\n",
    "Mi nombre es Ezequiel Ferrario, soy code reviewer en Tripleten y tengo el agrado de revisar el proyecto que entregaste.\n",
    "\n",
    "Para simular la dinámica de un ambiente de trabajo, si veo algún error, en primer instancia solo los señalaré, dándote la oportunidad de encontrarlos y corregirlos por tu cuenta. En un trabajo real, el líder de tu equipo hará una dinámica similar. En caso de que no puedas resolver la tarea, te daré una información más precisa en la próxima revisión.\n",
    "\n",
    "Encontrarás mis comentarios más abajo - **por favor, no los muevas, no los modifiques ni los borres**.\n",
    "\n",
    "¿Cómo lo voy a hacer? Voy a leer detenidamente cada una de las implementaciones que has llevado a cabo para cumplir con lo solicitado. Verás los comentarios de esta forma:\n",
    "\n",
    "\n",
    "<div class=\"alert alert-block alert-success\">\n",
    "<b>Comentario del revisor</b> <a class=\"tocSkip\"></a>\n",
    "\n",
    "Si todo está perfecto.\n",
    "</div>\n",
    "\n",
    "\n",
    "<div class=\"alert alert-block alert-warning\">\n",
    "<b>Comentario del revisor</b> <a class=\"tocSkip\"></a>\n",
    "\n",
    "Si tu código está bien pero se puede mejorar o hay algún detalle que le hace falta. Se aceptan uno o dos comentarios de este tipo en el borrador, pero si hay más, deberá hacer las correcciones. Es como una tarea de prueba al solicitar un trabajo: muchos pequeños errores pueden hacer que un candidato sea rechazado.\n",
    "</div>\n",
    "\n",
    "<div class=\"alert alert-block alert-danger\">\n",
    "\n",
    "<b>Comentario del revisor</b> <a class=\"tocSkip\"></a>\n",
    "\n",
    "Si de pronto hace falta algo o existe algún problema con tu código o conclusiones.\n",
    "</div>\n",
    "\n",
    "Puedes responderme de esta forma:\n",
    "\n",
    "<div class=\"alert alert-block alert-info\">\n",
    "<b>Respuesta del estudiante</b> <a class=\"tocSkip\"></a>\n",
    "\n",
    "Hola, muchas gracias por tus comentarios y la revisión.\n",
    "</div>\n",
    "\n",
    "¡Empecemos!"
   ]
  },
  {
   "cell_type": "markdown",
   "metadata": {},
   "source": [
    "------------\n",
    "\n",
    "<div class=\"alert alert-block alert-danger\">\n",
    "\n",
    "<b>Comentario general #1</b> <a class=\"tocSkip\"></a>\n",
    "\n",
    "Robert, has realizado un excelente proyecto aqui.\n",
    "    \n",
    "  Desde el principio del trabajo supiste extraer toda la informacion que necesitabamos. Donde limpiaste muy bien los datasets  y luego utilizaste perfecto las agrupaciones y funciones.\n",
    "    \n",
    "  Asi, solo restaria abarcar un minimo detalle para finalizar este trabajo.\n",
    "    \n",
    "  Espero tu correccion, saludos.\n",
    "\n",
    "</div>\n",
    "\n",
    "------------\n",
    "\n",
    "<div class=\"alert alert-block alert-success\">\n",
    "<b>Comentario general #2</b> <a class=\"tocSkip\"></a>\n",
    "\n",
    "Robert, corregido el detalle que restaba finalizas un gran proyecto.\n",
    "    \n",
    "  Me gusto mucho como quedo el trabajo  a nivel general y por ello el mismo pasa a estar **aprobado**.\n",
    "    \n",
    "  Exitos en lo que viene, saludos.</div>\n",
    "\n",
    "---------"
   ]
  },
  {
   "cell_type": "markdown",
   "metadata": {
    "id": "E0vqbgi9ay0H"
   },
   "source": [
    "# Déjame escuchar la música"
   ]
  },
  {
   "cell_type": "markdown",
   "metadata": {
    "id": "fhq_eyov_Zcs"
   },
   "source": [
    "# Contenido <a id='back'></a>\n",
    "\n",
    "* [Introducción](#intro)\n",
    "* [Etapa 1. Descripción de los datos](#data_review)\n",
    "    * [Conclusiones](#data_review_conclusions)\n",
    "* [Etapa 2. Preprocesamiento de datos](#data_preprocessing)\n",
    "    * [2.1 Estilo del encabezado](#header_style)\n",
    "    * [2.2 Valores ausentes](#missing_values)\n",
    "    * [2.3 Duplicados](#duplicates)\n",
    "    * [2.4 Conclusiones](#data_preprocessing_conclusions)\n",
    "* [Etapa 3. Prueba de hipótesis](#hypothesis)\n",
    "    * [3.1 Hipótesis 1: actividad de los usuarios y las usuarias en las dos ciudades](#activity)\n",
    "* [Conclusiones](#end)"
   ]
  },
  {
   "cell_type": "markdown",
   "metadata": {},
   "source": [
    "<div class=\"alert alert-block alert-warning\">\n",
    "\n",
    "<b>Comentario del revisor</b> <a class=\"tocSkip\"></a>\n",
    "\n",
    "Muy bien la tabla de contenidos pero debe estar linkeada a las secciones (al clickear debe llevarnos a esa seccion) de esta menera es mas facil desplazarse.\n",
    "\n",
    "Como consejo, si realizas bien todas las secciones (con su respectivo #) podes generarlo automáticamente desde jupyter lab. Para hacerlo, en la pestaña de herramientas de jupyter lab clickeas en el **botón de los puntos y barras**  (Table of contents) te generara automáticamente una tabla de contenidos linkeable y estética. A la **derecha** del seleccionador del tipo de celda (code/markdown)\n",
    "</div>"
   ]
  },
  {
   "cell_type": "markdown",
   "metadata": {
    "id": "VUC88oWjTJw2"
   },
   "source": [
    "## Introducción <a id='intro'></a>\n",
    "Como analista de datos, tu trabajo consiste en analizar datos para extraer información valiosa y tomar decisiones basadas en ellos. Esto implica diferentes etapas, como la descripción general de los datos, el preprocesamiento y la prueba de hipótesis.\n",
    "\n",
    "Siempre que investigamos, necesitamos formular hipótesis que después podamos probar. A veces aceptamos estas hipótesis; otras veces, las rechazamos. Para tomar las decisiones correctas, una empresa debe ser capaz de entender si está haciendo las suposiciones correctas.\n",
    "\n",
    "En este proyecto, compararás las preferencias musicales de las ciudades de Springfield y Shelbyville. Estudiarás datos reales de transmisión de música online para probar la hipótesis a continuación y comparar el comportamiento de los usuarios y las usuarias de estas dos ciudades.\n",
    "\n",
    "### Objetivo:\n",
    "Prueba la hipótesis:\n",
    "1. La actividad de los usuarios y las usuarias difiere según el día de la semana y dependiendo de la ciudad.\n",
    "\n",
    "\n",
    "### Etapas\n",
    "Los datos del comportamiento del usuario se almacenan en el archivo `/datasets/music_project_en.csv`. No hay ninguna información sobre la calidad de los datos, así que necesitarás examinarlos antes de probar la hipótesis.\n",
    "\n",
    "Primero, evaluarás la calidad de los datos y verás si los problemas son significativos. Entonces, durante el preprocesamiento de datos, tomarás en cuenta los problemas más críticos.\n",
    "\n",
    "Tu proyecto consistirá en tres etapas:\n",
    " 1. Descripción de los datos.\n",
    " 2. Preprocesamiento de datos.\n",
    " 3. Prueba de hipótesis.\n",
    "\n",
    "\n",
    "\n",
    "\n",
    "\n",
    "\n"
   ]
  },
  {
   "cell_type": "markdown",
   "metadata": {
    "id": "hDt6pg-Rw-1U"
   },
   "source": [
    "[Volver a Contenidos](#back)"
   ]
  },
  {
   "cell_type": "markdown",
   "metadata": {
    "id": "Ml1hmfXC_Zcs"
   },
   "source": [
    "## Etapa 1. Descripción de los datos <a id='data_review'></a>\n",
    "\n",
    "Abre los datos y examínalos."
   ]
  },
  {
   "cell_type": "markdown",
   "metadata": {
    "id": "57eAOGIz_Zcs"
   },
   "source": [
    "Necesitarás `pandas`, así que impórtalo."
   ]
  },
  {
   "cell_type": "code",
   "execution_count": 1,
   "metadata": {
    "id": "AXN7PHPN_Zcs"
   },
   "outputs": [],
   "source": [
    "# Importar pandas\n",
    "import pandas as pd"
   ]
  },
  {
   "cell_type": "markdown",
   "metadata": {
    "id": "SG23P8tt_Zcs"
   },
   "source": [
    "Lee el archivo `music_project_en.csv` de la carpeta `/datasets/` y guárdalo en la variable `df`:"
   ]
  },
  {
   "cell_type": "code",
   "execution_count": 2,
   "metadata": {
    "id": "fFVu7vqh_Zct"
   },
   "outputs": [],
   "source": [
    "# Leer el archivo y almacenarlo en df\n",
    "df = pd.read_csv('/datasets/music_project_en.csv')"
   ]
  },
  {
   "cell_type": "markdown",
   "metadata": {
    "id": "rDoOMd3uTqnZ"
   },
   "source": [
    "Muestra las 10 primeras filas de la tabla:"
   ]
  },
  {
   "cell_type": "code",
   "execution_count": 3,
   "metadata": {
    "id": "oWTVX3gW_Zct"
   },
   "outputs": [
    {
     "data": {
      "text/html": [
       "<div>\n",
       "<style scoped>\n",
       "    .dataframe tbody tr th:only-of-type {\n",
       "        vertical-align: middle;\n",
       "    }\n",
       "\n",
       "    .dataframe tbody tr th {\n",
       "        vertical-align: top;\n",
       "    }\n",
       "\n",
       "    .dataframe thead th {\n",
       "        text-align: right;\n",
       "    }\n",
       "</style>\n",
       "<table border=\"1\" class=\"dataframe\">\n",
       "  <thead>\n",
       "    <tr style=\"text-align: right;\">\n",
       "      <th></th>\n",
       "      <th>userID</th>\n",
       "      <th>Track</th>\n",
       "      <th>artist</th>\n",
       "      <th>genre</th>\n",
       "      <th>City</th>\n",
       "      <th>time</th>\n",
       "      <th>Day</th>\n",
       "    </tr>\n",
       "  </thead>\n",
       "  <tbody>\n",
       "    <tr>\n",
       "      <th>0</th>\n",
       "      <td>FFB692EC</td>\n",
       "      <td>Kamigata To Boots</td>\n",
       "      <td>The Mass Missile</td>\n",
       "      <td>rock</td>\n",
       "      <td>Shelbyville</td>\n",
       "      <td>20:28:33</td>\n",
       "      <td>Wednesday</td>\n",
       "    </tr>\n",
       "    <tr>\n",
       "      <th>1</th>\n",
       "      <td>55204538</td>\n",
       "      <td>Delayed Because of Accident</td>\n",
       "      <td>Andreas Rönnberg</td>\n",
       "      <td>rock</td>\n",
       "      <td>Springfield</td>\n",
       "      <td>14:07:09</td>\n",
       "      <td>Friday</td>\n",
       "    </tr>\n",
       "    <tr>\n",
       "      <th>2</th>\n",
       "      <td>20EC38</td>\n",
       "      <td>Funiculì funiculà</td>\n",
       "      <td>Mario Lanza</td>\n",
       "      <td>pop</td>\n",
       "      <td>Shelbyville</td>\n",
       "      <td>20:58:07</td>\n",
       "      <td>Wednesday</td>\n",
       "    </tr>\n",
       "    <tr>\n",
       "      <th>3</th>\n",
       "      <td>A3DD03C9</td>\n",
       "      <td>Dragons in the Sunset</td>\n",
       "      <td>Fire + Ice</td>\n",
       "      <td>folk</td>\n",
       "      <td>Shelbyville</td>\n",
       "      <td>08:37:09</td>\n",
       "      <td>Monday</td>\n",
       "    </tr>\n",
       "    <tr>\n",
       "      <th>4</th>\n",
       "      <td>E2DC1FAE</td>\n",
       "      <td>Soul People</td>\n",
       "      <td>Space Echo</td>\n",
       "      <td>dance</td>\n",
       "      <td>Springfield</td>\n",
       "      <td>08:34:34</td>\n",
       "      <td>Monday</td>\n",
       "    </tr>\n",
       "    <tr>\n",
       "      <th>5</th>\n",
       "      <td>842029A1</td>\n",
       "      <td>Chains</td>\n",
       "      <td>Obladaet</td>\n",
       "      <td>rusrap</td>\n",
       "      <td>Shelbyville</td>\n",
       "      <td>13:09:41</td>\n",
       "      <td>Friday</td>\n",
       "    </tr>\n",
       "    <tr>\n",
       "      <th>6</th>\n",
       "      <td>4CB90AA5</td>\n",
       "      <td>True</td>\n",
       "      <td>Roman Messer</td>\n",
       "      <td>dance</td>\n",
       "      <td>Springfield</td>\n",
       "      <td>13:00:07</td>\n",
       "      <td>Wednesday</td>\n",
       "    </tr>\n",
       "    <tr>\n",
       "      <th>7</th>\n",
       "      <td>F03E1C1F</td>\n",
       "      <td>Feeling This Way</td>\n",
       "      <td>Polina Griffith</td>\n",
       "      <td>dance</td>\n",
       "      <td>Springfield</td>\n",
       "      <td>20:47:49</td>\n",
       "      <td>Wednesday</td>\n",
       "    </tr>\n",
       "    <tr>\n",
       "      <th>8</th>\n",
       "      <td>8FA1D3BE</td>\n",
       "      <td>L’estate</td>\n",
       "      <td>Julia Dalia</td>\n",
       "      <td>ruspop</td>\n",
       "      <td>Springfield</td>\n",
       "      <td>09:17:40</td>\n",
       "      <td>Friday</td>\n",
       "    </tr>\n",
       "    <tr>\n",
       "      <th>9</th>\n",
       "      <td>E772D5C0</td>\n",
       "      <td>Pessimist</td>\n",
       "      <td>NaN</td>\n",
       "      <td>dance</td>\n",
       "      <td>Shelbyville</td>\n",
       "      <td>21:20:49</td>\n",
       "      <td>Wednesday</td>\n",
       "    </tr>\n",
       "  </tbody>\n",
       "</table>\n",
       "</div>"
      ],
      "text/plain": [
       "     userID                        Track            artist   genre  \\\n",
       "0  FFB692EC            Kamigata To Boots  The Mass Missile    rock   \n",
       "1  55204538  Delayed Because of Accident  Andreas Rönnberg    rock   \n",
       "2    20EC38            Funiculì funiculà       Mario Lanza     pop   \n",
       "3  A3DD03C9        Dragons in the Sunset        Fire + Ice    folk   \n",
       "4  E2DC1FAE                  Soul People        Space Echo   dance   \n",
       "5  842029A1                       Chains          Obladaet  rusrap   \n",
       "6  4CB90AA5                         True      Roman Messer   dance   \n",
       "7  F03E1C1F             Feeling This Way   Polina Griffith   dance   \n",
       "8  8FA1D3BE                     L’estate       Julia Dalia  ruspop   \n",
       "9  E772D5C0                    Pessimist               NaN   dance   \n",
       "\n",
       "        City        time        Day  \n",
       "0  Shelbyville  20:28:33  Wednesday  \n",
       "1  Springfield  14:07:09     Friday  \n",
       "2  Shelbyville  20:58:07  Wednesday  \n",
       "3  Shelbyville  08:37:09     Monday  \n",
       "4  Springfield  08:34:34     Monday  \n",
       "5  Shelbyville  13:09:41     Friday  \n",
       "6  Springfield  13:00:07  Wednesday  \n",
       "7  Springfield  20:47:49  Wednesday  \n",
       "8  Springfield  09:17:40     Friday  \n",
       "9  Shelbyville  21:20:49  Wednesday  "
      ]
     },
     "execution_count": 3,
     "metadata": {},
     "output_type": "execute_result"
    }
   ],
   "source": [
    "# Obtener las 10 primeras filas de la tabla df\n",
    "df.head(10)"
   ]
  },
  {
   "cell_type": "markdown",
   "metadata": {},
   "source": [
    "<div class=\"alert alert-block alert-danger\">\n",
    "<b>Comentario del revisor</b> <a class=\"tocSkip\"></a>\n",
    "\n",
    "Esta bien. Pero en este caso remplaza el print() y utiliza el metodo sin nada (llamalo solo). Es decir llamas a la variable y al metodo correspondiente y ejecutas.\n",
    "\n",
    "- *El ejemplo seria: nombre_df.metodo(10)*\n",
    "\n",
    "Esto hara que sea mas legible y estetico.</div>\n",
    "\n",
    "<div class=\"alert alert-block alert-success\">\n",
    "<b>Comentario del revisor #2</b> <a class=\"tocSkip\"></a>\n",
    "\n",
    "Corregido, muy bien.</div>"
   ]
  },
  {
   "cell_type": "markdown",
   "metadata": {
    "id": "EO73Kwic_Zct"
   },
   "source": [
    "Obtén la información general sobre la tabla con un comando. Conoces el método que muestra la información general que necesitamos."
   ]
  },
  {
   "cell_type": "code",
   "execution_count": 5,
   "metadata": {
    "id": "DSf2kIb-_Zct"
   },
   "outputs": [
    {
     "name": "stdout",
     "output_type": "stream",
     "text": [
      "<class 'pandas.core.frame.DataFrame'>\n",
      "RangeIndex: 65079 entries, 0 to 65078\n",
      "Data columns (total 7 columns):\n",
      " #   Column    Non-Null Count  Dtype \n",
      "---  ------    --------------  ----- \n",
      " 0     userID  65079 non-null  object\n",
      " 1   Track     63736 non-null  object\n",
      " 2   artist    57512 non-null  object\n",
      " 3   genre     63881 non-null  object\n",
      " 4     City    65079 non-null  object\n",
      " 5   time      65079 non-null  object\n",
      " 6   Day       65079 non-null  object\n",
      "dtypes: object(7)\n",
      "memory usage: 3.5+ MB\n"
     ]
    },
    {
     "data": {
      "text/plain": [
       "3826"
      ]
     },
     "execution_count": 5,
     "metadata": {},
     "output_type": "execute_result"
    }
   ],
   "source": [
    "# Obtener la información general sobre nuestros datos\n",
    "df.info()\n",
    "df.duplicated().sum()"
   ]
  },
  {
   "cell_type": "markdown",
   "metadata": {
    "id": "TaQ2Iwbr_Zct"
   },
   "source": [
    "Estas son nuestras observaciones sobre la tabla. Contiene siete columnas. Almacenan los mismos tipos de datos: `object`.\n",
    "\n",
    "Según la documentación:\n",
    "- `' userID'`: identificador del usuario o la usuaria;\n",
    "- `'Track'`: título de la canción;\n",
    "- `'artist'`: nombre del artista;\n",
    "- `'genre'`: género de la pista;\n",
    "- `'City'`: ciudad del usuario o la usuaria;\n",
    "- `'time'`: la hora exacta en la que se reprodujo la canción;\n",
    "- `'Day'`: día de la semana.\n",
    "\n",
    "Podemos ver tres problemas con el estilo en los encabezados de la tabla:\n",
    "1. Algunos encabezados están en mayúsculas, otros en minúsculas.\n",
    "2. Hay espacios en algunos encabezados.\n",
    "3. `Detecta el tercer problema por tu cuenta y descríbelo aquí`.\n",
    "Algunos nombres de las columnas no describen precisamente sus valores.\n",
    "\n"
   ]
  },
  {
   "cell_type": "markdown",
   "metadata": {
    "id": "MCB6-dXG_Zct"
   },
   "source": [
    "### Escribe observaciones de tu parte. Estas son algunas de las preguntas que pueden ser útiles: <a id='data_review_conclusions'></a>\n",
    "\n",
    "`1.   ¿Qué tipo de datos tenemos a nuestra disposición en las filas? ¿Y cómo podemos entender lo que almacenan las columnas?`\n",
    "Tenemos datos de tipo object. Podríamos imprimir ya sea los primeros datos de nuestro df o imprimir de forma aleatorizada unos cuantos para tener un panorama general del contenido. Una vez teniendo este conocimiento, podríamos modificar el nombre de las columnas con una descripción breve pero más específica de los datos que albergan.\n",
    "`2.   ¿Hay suficientes datos para proporcionar respuestas a nuestra hipótesis o necesitamos más información?`\n",
    "Con la descripción general previa podríamos decir que tenemos suficientes datos, en tipo y en número para probar nuestra hipotesis.\n",
    "\n",
    "`3.   ¿Notaste algún problema en los datos, como valores ausentes, duplicados o tipos de datos incorrectos?`\n",
    "Ciertamente tenemos algunos problemas como valores ausentes, duplicados e inconsistencia en la escritura de los datos, pues algunos de ellos presentan una combinación de mayúsculas con minúsculas."
   ]
  },
  {
   "cell_type": "markdown",
   "metadata": {},
   "source": [
    "<div class=\"alert alert-block alert-success\">\n",
    "\n",
    "<b>Comentario del revisor</b> <a class=\"tocSkip\"></a>\n",
    "\n",
    "Excelentes observaciones.\n",
    "\n",
    "\n",
    "</div>"
   ]
  },
  {
   "cell_type": "markdown",
   "metadata": {
    "id": "3eL__vcwViOi"
   },
   "source": [
    "[Volver a Contenidos](#back)"
   ]
  },
  {
   "cell_type": "markdown",
   "metadata": {
    "id": "SjYF6Ub9_Zct"
   },
   "source": [
    "## Etapa 2. Preprocesamiento de datos <a id='data_preprocessing'></a>\n",
    "\n",
    "El objetivo aquí es preparar los datos para que sean analizados.\n",
    "El primer paso es resolver cualquier problema con los encabezados. Luego podemos avanzar a los valores ausentes y duplicados. Empecemos.\n",
    "\n",
    "Corrige el formato en los encabezados de la tabla.\n"
   ]
  },
  {
   "cell_type": "markdown",
   "metadata": {
    "id": "dIaKXr29_Zct"
   },
   "source": [
    "### Estilo del encabezado <a id='header_style'></a>\n",
    "Muestra los encabezados de la tabla (los nombres de las columnas):"
   ]
  },
  {
   "cell_type": "code",
   "execution_count": 6,
   "metadata": {
    "id": "oKOTdF_Q_Zct"
   },
   "outputs": [
    {
     "data": {
      "text/plain": [
       "Index(['  userID', 'Track', 'artist', 'genre', '  City  ', 'time', 'Day'], dtype='object')"
      ]
     },
     "execution_count": 6,
     "metadata": {},
     "output_type": "execute_result"
    }
   ],
   "source": [
    "# Muestra los nombres de las columnas\n",
    "df.columns"
   ]
  },
  {
   "cell_type": "markdown",
   "metadata": {
    "id": "zj5534cv_Zct"
   },
   "source": [
    "Cambia los encabezados de la tabla de acuerdo con las reglas del buen estilo:\n",
    "* Todos los caracteres deben ser minúsculas.\n",
    "* Elimina los espacios.\n",
    "* Si el nombre tiene varias palabras, utiliza snake_case."
   ]
  },
  {
   "cell_type": "markdown",
   "metadata": {
    "id": "Xu0zkfe5zNJe"
   },
   "source": [
    "Anteriormente, aprendiste acerca de la forma automática de cambiar el nombre de las columnas. Vamos a aplicarla ahora. Utiliza el bucle for para iterar sobre los nombres de las columnas y poner todos los caracteres en minúsculas. Cuando hayas terminado, vuelve a mostrar los encabezados de la tabla:"
   ]
  },
  {
   "cell_type": "code",
   "execution_count": 7,
   "metadata": {
    "id": "6I_RwwMhzM4e"
   },
   "outputs": [
    {
     "name": "stdout",
     "output_type": "stream",
     "text": [
      "['  userid', 'track', 'artist', 'genre', '  city  ', 'time', 'day']\n"
     ]
    }
   ],
   "source": [
    "# Bucle en los encabezados poniendo todo en minúsculas\n",
    "lowered_columns = []\n",
    "for column in df.columns:\n",
    "    lowered_column = str.lower(column)\n",
    "    lowered_columns.append(lowered_column)\n",
    "print(lowered_columns)\n"
   ]
  },
  {
   "cell_type": "markdown",
   "metadata": {
    "id": "pweIRxjSzPYW"
   },
   "source": [
    "Ahora, utilizando el mismo método, elimina los espacios al principio y al final de los nombres de las columnas e imprime los nombres de las columnas nuevamente:"
   ]
  },
  {
   "cell_type": "code",
   "execution_count": 8,
   "metadata": {
    "id": "vVQXbFyJzSYl"
   },
   "outputs": [
    {
     "name": "stdout",
     "output_type": "stream",
     "text": [
      "['userid', 'track', 'artist', 'genre', 'city', 'time', 'day']\n"
     ]
    }
   ],
   "source": [
    "# Bucle en los encabezados eliminando los espacios\n",
    "stripped_columns = []\n",
    "for column in lowered_columns:\n",
    "    stripped_column = column.strip()\n",
    "    stripped_columns.append(stripped_column)\n",
    "print(stripped_columns)\n"
   ]
  },
  {
   "cell_type": "markdown",
   "metadata": {
    "id": "yCb8MW1JzURd"
   },
   "source": [
    "Necesitamos aplicar la regla de snake_case a la columna `userid`. Debe ser `user_id`. Cambia el nombre de esta columna y muestra los nombres de todas las columnas cuando hayas terminado."
   ]
  },
  {
   "cell_type": "code",
   "execution_count": 9,
   "metadata": {
    "id": "ISlFqs5y_Zct"
   },
   "outputs": [
    {
     "name": "stdout",
     "output_type": "stream",
     "text": [
      "['user_id', 'track', 'artist', 'genre', 'city', 'time', 'day']\n"
     ]
    }
   ],
   "source": [
    "# Cambiar el nombre de la columna \"userid\"\n",
    "stripped_columns[0] = 'user_id'\n",
    "print(stripped_columns)\n"
   ]
  },
  {
   "cell_type": "markdown",
   "metadata": {
    "id": "1dqbh00J_Zct"
   },
   "source": [
    "Comprueba el resultado. Muestra los encabezados una vez más:"
   ]
  },
  {
   "cell_type": "code",
   "execution_count": 10,
   "metadata": {
    "id": "d4NOAmTW_Zct"
   },
   "outputs": [
    {
     "name": "stdout",
     "output_type": "stream",
     "text": [
      "Index(['user_id', 'track', 'artist', 'genre', 'city', 'time', 'day'], dtype='object')\n"
     ]
    }
   ],
   "source": [
    "# Comprobar el resultado: la lista de encabezados\n",
    "df.columns = stripped_columns\n",
    "print(df.columns)\n"
   ]
  },
  {
   "cell_type": "markdown",
   "metadata": {},
   "source": [
    "<div class=\"alert alert-block alert-success\">\n",
    "\n",
    "<b>Comentario del revisor</b> <a class=\"tocSkip\"></a>\n",
    "\n",
    "Muy bien cambiando los encabezados.\n",
    "\n",
    "</div>"
   ]
  },
  {
   "cell_type": "markdown",
   "metadata": {
    "id": "xYJk6ksJVpOl"
   },
   "source": [
    "[Volver a Contenidos](#back)"
   ]
  },
  {
   "cell_type": "markdown",
   "metadata": {
    "id": "5ISfbcfY_Zct"
   },
   "source": [
    "### Valores ausentes <a id='missing_values'></a>\n",
    " Primero, encuentra el número de valores ausentes en la tabla. Debes utilizar dos métodos en una secuencia para obtener el número de valores ausentes."
   ]
  },
  {
   "cell_type": "code",
   "execution_count": 11,
   "metadata": {
    "id": "RskX29qr_Zct"
   },
   "outputs": [
    {
     "name": "stdout",
     "output_type": "stream",
     "text": [
      "user_id       0\n",
      "track      1343\n",
      "artist     7567\n",
      "genre      1198\n",
      "city          0\n",
      "time          0\n",
      "day           0\n",
      "dtype: int64\n",
      "10108\n"
     ]
    }
   ],
   "source": [
    "# Calcular el número de valores ausentes\n",
    "print(df.isna().sum())\n",
    "print(df.isna().sum().sum())"
   ]
  },
  {
   "cell_type": "markdown",
   "metadata": {
    "id": "qubhgnlO_Zct"
   },
   "source": [
    "No todos los valores ausentes afectan a la investigación. Por ejemplo, los valores ausentes en `track` y `artist` no son cruciales. Simplemente puedes reemplazarlos con valores predeterminados como el string `'unknown'` (desconocido).\n",
    "\n",
    "Pero los valores ausentes en `'genre'` pueden afectar la comparación entre las preferencias musicales de Springfield y Shelbyville. En la vida real, sería útil saber las razones por las cuales hay datos ausentes e intentar recuperarlos. Pero no tenemos esa oportunidad en este proyecto. Así que tendrás que:\n",
    "* rellenar estos valores ausentes con un valor predeterminado;\n",
    "* evaluar cuánto podrían afectar los valores ausentes a tus cómputos;"
   ]
  },
  {
   "cell_type": "markdown",
   "metadata": {
    "id": "fSv2laPA_Zct"
   },
   "source": [
    "Reemplazar los valores ausentes en las columnas `'track'`, `'artist'` y `'genre'` con el string `'unknown'`. Como mostramos anteriormente en las lecciones, la mejor forma de hacerlo es crear una lista que almacene los nombres de las columnas donde se necesita el reemplazo. Luego, utiliza esta lista e itera sobre las columnas donde se necesita el reemplazo haciendo el propio reemplazo."
   ]
  },
  {
   "cell_type": "code",
   "execution_count": 12,
   "metadata": {
    "id": "KplB5qWs_Zct"
   },
   "outputs": [],
   "source": [
    "# Bucle en los encabezados reemplazando los valores ausentes con 'unknown'\n",
    "columns_to_replace = ['track', 'artist', 'genre']\n",
    "for column in columns_to_replace:\n",
    "    df[column] = df[column].fillna('unknown')"
   ]
  },
  {
   "cell_type": "markdown",
   "metadata": {
    "id": "Ilsm-MZo_Zct"
   },
   "source": [
    "Ahora comprueba el resultado para asegurarte de que después del reemplazo no haya valores ausentes en el conjunto de datos. Para hacer esto, cuenta los valores ausentes nuevamente."
   ]
  },
  {
   "cell_type": "code",
   "execution_count": 13,
   "metadata": {
    "id": "Tq4nYRX4_Zct"
   },
   "outputs": [
    {
     "name": "stdout",
     "output_type": "stream",
     "text": [
      "user_id    0\n",
      "track      0\n",
      "artist     0\n",
      "genre      0\n",
      "city       0\n",
      "time       0\n",
      "day        0\n",
      "dtype: int64\n",
      "0\n"
     ]
    }
   ],
   "source": [
    "# Contar valores ausentes\n",
    "print(df.isna().sum())\n",
    "print(df.isna().sum().sum())\n"
   ]
  },
  {
   "cell_type": "markdown",
   "metadata": {},
   "source": [
    "<div class=\"alert alert-block alert-success\">\n",
    "\n",
    "<b>Comentario del revisor</b> <a class=\"tocSkip\"></a>\n",
    "\n",
    "Buen bucle para completar los nulos.\n",
    "\n",
    "</div>"
   ]
  },
  {
   "cell_type": "markdown",
   "metadata": {
    "id": "74ZIBmq9VrsK"
   },
   "source": [
    "[Volver a Contenidos](#back)"
   ]
  },
  {
   "cell_type": "markdown",
   "metadata": {
    "id": "BWKRtBJ3_Zct"
   },
   "source": [
    "### Duplicados <a id='duplicates'></a>\n",
    "Encuentra el número de duplicados explícitos en la tabla. Una vez más, debes aplicar dos métodos en una secuencia para obtener la cantidad de duplicados explícitos."
   ]
  },
  {
   "cell_type": "code",
   "execution_count": 14,
   "metadata": {
    "id": "36eES_S0_Zct"
   },
   "outputs": [
    {
     "data": {
      "text/plain": [
       "3826"
      ]
     },
     "execution_count": 14,
     "metadata": {},
     "output_type": "execute_result"
    }
   ],
   "source": [
    "# Contar duplicados explícitos\n",
    "df.duplicated().sum()\n"
   ]
  },
  {
   "cell_type": "markdown",
   "metadata": {
    "id": "Ot25h6XR_Zct"
   },
   "source": [
    "Ahora, elimina todos los duplicados. Para ello, llama al método que hace exactamente esto."
   ]
  },
  {
   "cell_type": "code",
   "execution_count": 15,
   "metadata": {
    "id": "exFHq6tt_Zct"
   },
   "outputs": [],
   "source": [
    "# Eliminar duplicados explícitos\n",
    "df.drop_duplicates(inplace=True)\n"
   ]
  },
  {
   "cell_type": "markdown",
   "metadata": {
    "id": "Im2YwBEG_Zct"
   },
   "source": [
    "Comprobemos ahora si eliminamos con éxito todos los duplicados. Cuenta los duplicados explícitos una vez más para asegurarte de haberlos eliminado todos:"
   ]
  },
  {
   "cell_type": "code",
   "execution_count": 16,
   "metadata": {
    "id": "-8PuNWQ0_Zct"
   },
   "outputs": [
    {
     "data": {
      "text/plain": [
       "0"
      ]
     },
     "execution_count": 16,
     "metadata": {},
     "output_type": "execute_result"
    }
   ],
   "source": [
    "# Comprobar de nuevo si hay duplicados\n",
    "df.duplicated().sum()\n"
   ]
  },
  {
   "cell_type": "markdown",
   "metadata": {
    "id": "QlFBsxAr_Zct"
   },
   "source": [
    "Ahora queremos deshacernos de los duplicados implícitos en la columna `genre`. Por ejemplo, el nombre de un género se puede escribir de varias formas. Dichos errores también pueden afectar al resultado."
   ]
  },
  {
   "cell_type": "markdown",
   "metadata": {
    "id": "eSjWwsOh_Zct"
   },
   "source": [
    "Para hacerlo, primero mostremos una lista de nombres de género únicos, ordenados en orden alfabético. Para ello:\n",
    "* Extrae la columna `genre` del DataFrame.\n",
    "* Llama al método que devolverá todos los valores únicos en la columna extraída.\n"
   ]
  },
  {
   "cell_type": "code",
   "execution_count": 17,
   "metadata": {
    "id": "JIUcqzZN_Zct"
   },
   "outputs": [
    {
     "name": "stdout",
     "output_type": "stream",
     "text": [
      "['acid', 'acoustic', 'action', 'adult', 'africa', 'afrikaans', 'alternative', 'ambient', 'americana', 'animated', 'anime', 'arabesk', 'arabic', 'arena', 'argentinetango', 'art', 'audiobook', 'avantgarde', 'axé', 'baile', 'balkan', 'beats', 'bigroom', 'black', 'bluegrass', 'blues', 'bollywood', 'bossa', 'brazilian', 'breakbeat', 'breaks', 'broadway', 'cantautori', 'cantopop', 'canzone', 'caribbean', 'caucasian', 'celtic', 'chamber', 'children', 'chill', 'chinese', 'choral', 'christian', 'christmas', 'classical', 'classicmetal', 'club', 'colombian', 'comedy', 'conjazz', 'contemporary', 'country', 'cuban', 'dance', 'dancehall', 'dancepop', 'dark', 'death', 'deep', 'deutschrock', 'deutschspr', 'dirty', 'disco', 'dnb', 'documentary', 'downbeat', 'downtempo', 'drum', 'dub', 'dubstep', 'eastern', 'easy', 'electronic', 'electropop', 'emo', 'entehno', 'epicmetal', 'estrada', 'ethnic', 'eurofolk', 'european', 'experimental', 'extrememetal', 'fado', 'film', 'fitness', 'flamenco', 'folk', 'folklore', 'folkmetal', 'folkrock', 'folktronica', 'forró', 'frankreich', 'französisch', 'french', 'funk', 'future', 'gangsta', 'garage', 'german', 'ghazal', 'gitarre', 'glitch', 'gospel', 'gothic', 'grime', 'grunge', 'gypsy', 'handsup', \"hard'n'heavy\", 'hardcore', 'hardstyle', 'hardtechno', 'hip', 'hip-hop', 'hiphop', 'historisch', 'holiday', 'hop', 'horror', 'house', 'idm', 'independent', 'indian', 'indie', 'indipop', 'industrial', 'inspirational', 'instrumental', 'international', 'irish', 'jam', 'japanese', 'jazz', 'jewish', 'jpop', 'jungle', 'k-pop', 'karadeniz', 'karaoke', 'kayokyoku', 'korean', 'laiko', 'latin', 'latino', 'leftfield', 'local', 'lounge', 'loungeelectronic', 'lovers', 'malaysian', 'mandopop', 'marschmusik', 'meditative', 'mediterranean', 'melodic', 'metal', 'metalcore', 'mexican', 'middle', 'minimal', 'miscellaneous', 'modern', 'mood', 'mpb', 'muslim', 'native', 'neoklassik', 'neue', 'new', 'newage', 'newwave', 'nu', 'nujazz', 'numetal', 'oceania', 'old', 'opera', 'orchestral', 'other', 'piano', 'pop', 'popelectronic', 'popeurodance', 'post', 'posthardcore', 'postrock', 'power', 'progmetal', 'progressive', 'psychedelic', 'punjabi', 'punk', 'quebecois', 'ragga', 'ram', 'rancheras', 'rap', 'rave', 'reggae', 'reggaeton', 'regional', 'relax', 'religious', 'retro', 'rhythm', 'rnb', 'rnr', 'rock', 'rockabilly', 'romance', 'roots', 'ruspop', 'rusrap', 'rusrock', 'salsa', 'samba', 'schlager', 'self', 'sertanejo', 'shoegazing', 'showtunes', 'singer', 'ska', 'slow', 'smooth', 'soul', 'soulful', 'sound', 'soundtrack', 'southern', 'specialty', 'speech', 'spiritual', 'sport', 'stonerrock', 'surf', 'swing', 'synthpop', 'sängerportrait', 'tango', 'tanzorchester', 'taraftar', 'tech', 'techno', 'thrash', 'top', 'traditional', 'tradjazz', 'trance', 'tribal', 'trip', 'triphop', 'tropical', 'türk', 'türkçe', 'unknown', 'urban', 'uzbek', 'variété', 'vi', 'videogame', 'vocal', 'western', 'world', 'worldbeat', 'ïîï']\n",
      "269\n"
     ]
    }
   ],
   "source": [
    "# Inspeccionar los nombres de géneros únicos\n",
    "genres = df['genre']\n",
    "unique_genres = genres.unique()\n",
    "sorted_unique_genres = sorted(unique_genres)\n",
    "print(sorted_unique_genres)\n",
    "print(len(sorted_unique_genres))"
   ]
  },
  {
   "cell_type": "markdown",
   "metadata": {},
   "source": [
    "<div class=\"alert alert-block alert-success\">\n",
    "\n",
    "<b>Comentario del revisor</b> <a class=\"tocSkip\"></a>\n",
    "\n",
    "Excelente Robert, muy bien ordenando los valores y mejor aun utilizando el nunique.\n",
    "\n",
    "</div>"
   ]
  },
  {
   "cell_type": "markdown",
   "metadata": {
    "id": "qej-Qmuo_Zct"
   },
   "source": [
    "Busca en la lista para encontrar duplicados implícitos del género `hiphop`. Estos pueden ser nombres escritos incorrectamente o nombres alternativos para el mismo género.\n",
    "\n",
    "Verás los siguientes duplicados implícitos:\n",
    "* `hip`\n",
    "* `hop`\n",
    "* `hip-hop`\n",
    "\n",
    "Para deshacerte de ellos, crea una función llamada `replace_wrong_genres()` con dos parámetros:\n",
    "* `wrong_genres=`: esta es una lista que contiene todos los valores que necesitas reemplazar.\n",
    "* `correct_genre=`: este es un string que vas a utilizar como reemplazo.\n",
    "\n",
    "Como resultado, la función debería corregir los nombres en la columna `'genre'` de la tabla `df`, es decir, remplazar cada valor de la lista `wrong_genres` por el valor en `correct_genre`.\n",
    "\n",
    "Dentro del cuerpo de la función, utiliza un bucle `'for'` para iterar sobre la lista de géneros incorrectos, extrae la columna `'genre'` y aplica el método `replace` para hacer correcciones."
   ]
  },
  {
   "cell_type": "code",
   "execution_count": 18,
   "metadata": {
    "id": "ErNDkmns_Zct"
   },
   "outputs": [],
   "source": [
    "# Función para reemplazar duplicados implícitos\n",
    "def replace_wrong_genres(wrong_genres, correct_genre):\n",
    "    for wrong_genre in wrong_genres:\n",
    "        df['genre'] = df['genre'].replace(wrong_genres, correct_genre)"
   ]
  },
  {
   "cell_type": "markdown",
   "metadata": {
    "id": "aDoBJxbA_Zct"
   },
   "source": [
    "Ahora, llama a `replace_wrong_genres()` y pásale tales argumentos para que retire los duplicados implícitos (`hip`, `hop` y `hip-hop`) y los reemplace por `hiphop`:"
   ]
  },
  {
   "cell_type": "code",
   "execution_count": 19,
   "metadata": {
    "id": "YN5i2hpmSo09"
   },
   "outputs": [],
   "source": [
    "# Eliminar duplicados implícitos\n",
    "wrong_genres = ['hip', 'hop', 'hip-hop']\n",
    "correct_genre = 'hiphop'\n",
    "replace_wrong_genres(wrong_genres, correct_genre)"
   ]
  },
  {
   "cell_type": "markdown",
   "metadata": {
    "id": "zQKF16_RG15m"
   },
   "source": [
    "Asegúrate de que los nombres duplicados han sido eliminados. Muestra la lista de valores únicos de la columna `'genre'` una vez más:"
   ]
  },
  {
   "cell_type": "code",
   "execution_count": 20,
   "metadata": {
    "id": "wvixALnFG15m"
   },
   "outputs": [
    {
     "name": "stdout",
     "output_type": "stream",
     "text": [
      "['acid', 'acoustic', 'action', 'adult', 'africa', 'afrikaans', 'alternative', 'ambient', 'americana', 'animated', 'anime', 'arabesk', 'arabic', 'arena', 'argentinetango', 'art', 'audiobook', 'avantgarde', 'axé', 'baile', 'balkan', 'beats', 'bigroom', 'black', 'bluegrass', 'blues', 'bollywood', 'bossa', 'brazilian', 'breakbeat', 'breaks', 'broadway', 'cantautori', 'cantopop', 'canzone', 'caribbean', 'caucasian', 'celtic', 'chamber', 'children', 'chill', 'chinese', 'choral', 'christian', 'christmas', 'classical', 'classicmetal', 'club', 'colombian', 'comedy', 'conjazz', 'contemporary', 'country', 'cuban', 'dance', 'dancehall', 'dancepop', 'dark', 'death', 'deep', 'deutschrock', 'deutschspr', 'dirty', 'disco', 'dnb', 'documentary', 'downbeat', 'downtempo', 'drum', 'dub', 'dubstep', 'eastern', 'easy', 'electronic', 'electropop', 'emo', 'entehno', 'epicmetal', 'estrada', 'ethnic', 'eurofolk', 'european', 'experimental', 'extrememetal', 'fado', 'film', 'fitness', 'flamenco', 'folk', 'folklore', 'folkmetal', 'folkrock', 'folktronica', 'forró', 'frankreich', 'französisch', 'french', 'funk', 'future', 'gangsta', 'garage', 'german', 'ghazal', 'gitarre', 'glitch', 'gospel', 'gothic', 'grime', 'grunge', 'gypsy', 'handsup', \"hard'n'heavy\", 'hardcore', 'hardstyle', 'hardtechno', 'hiphop', 'historisch', 'holiday', 'horror', 'house', 'idm', 'independent', 'indian', 'indie', 'indipop', 'industrial', 'inspirational', 'instrumental', 'international', 'irish', 'jam', 'japanese', 'jazz', 'jewish', 'jpop', 'jungle', 'k-pop', 'karadeniz', 'karaoke', 'kayokyoku', 'korean', 'laiko', 'latin', 'latino', 'leftfield', 'local', 'lounge', 'loungeelectronic', 'lovers', 'malaysian', 'mandopop', 'marschmusik', 'meditative', 'mediterranean', 'melodic', 'metal', 'metalcore', 'mexican', 'middle', 'minimal', 'miscellaneous', 'modern', 'mood', 'mpb', 'muslim', 'native', 'neoklassik', 'neue', 'new', 'newage', 'newwave', 'nu', 'nujazz', 'numetal', 'oceania', 'old', 'opera', 'orchestral', 'other', 'piano', 'pop', 'popelectronic', 'popeurodance', 'post', 'posthardcore', 'postrock', 'power', 'progmetal', 'progressive', 'psychedelic', 'punjabi', 'punk', 'quebecois', 'ragga', 'ram', 'rancheras', 'rap', 'rave', 'reggae', 'reggaeton', 'regional', 'relax', 'religious', 'retro', 'rhythm', 'rnb', 'rnr', 'rock', 'rockabilly', 'romance', 'roots', 'ruspop', 'rusrap', 'rusrock', 'salsa', 'samba', 'schlager', 'self', 'sertanejo', 'shoegazing', 'showtunes', 'singer', 'ska', 'slow', 'smooth', 'soul', 'soulful', 'sound', 'soundtrack', 'southern', 'specialty', 'speech', 'spiritual', 'sport', 'stonerrock', 'surf', 'swing', 'synthpop', 'sängerportrait', 'tango', 'tanzorchester', 'taraftar', 'tech', 'techno', 'thrash', 'top', 'traditional', 'tradjazz', 'trance', 'tribal', 'trip', 'triphop', 'tropical', 'türk', 'türkçe', 'unknown', 'urban', 'uzbek', 'variété', 'vi', 'videogame', 'vocal', 'western', 'world', 'worldbeat', 'ïîï']\n",
      "266\n"
     ]
    }
   ],
   "source": [
    "# Comprobación de duplicados implícitos\n",
    "genres = df['genre']\n",
    "unique_genres = genres.unique()\n",
    "sorted_unique_genres = sorted(unique_genres)\n",
    "print(sorted_unique_genres)\n",
    "print(len(sorted_unique_genres))"
   ]
  },
  {
   "cell_type": "markdown",
   "metadata": {},
   "source": [
    "<div class=\"alert alert-block alert-success\">\n",
    "\n",
    "<b>Comentario del revisor</b> <a class=\"tocSkip\"></a>\n",
    "\n",
    "Perfecto.\n",
    "\n",
    "</div>"
   ]
  },
  {
   "cell_type": "markdown",
   "metadata": {
    "id": "ALgNbvF3VtPA"
   },
   "source": [
    "[Volver a Contenidos](#back)"
   ]
  },
  {
   "cell_type": "markdown",
   "metadata": {
    "id": "jz6a9-7HQUDd"
   },
   "source": [
    "### Tus observaciones <a id='data_preprocessing_conclusions'></a>\n",
    "\n",
    "`Describe brevemente lo que has notado al analizar duplicados, cómo abordaste sus eliminaciones y qué resultados obtuviste.`\n",
    "\n",
    "Utilice dos enfoques para eliminar duplicados:\n",
    "\n",
    "Duplicados explicitos. Eliminé los duplicados explicitos por medio del método drop_duplicates() que los borra directamente.\n",
    "\n",
    "Duplicados implicitos. Primero imprimí una lista de los géneros únicos reconocidos por Python por medio del método unique(). Una vez que identifique visualmente los duplicados implicitos, cree una defined-user function utilizando un bucle for, iterando en cada duplicado implicito del genero. Reemplacé esta lista por el género correcto usando el método replace(). Finalmente, reimprimí los datos únicos de la columna 'genre' para verificar el éxtio en mi operación."
   ]
  },
  {
   "cell_type": "markdown",
   "metadata": {},
   "source": [
    "<div class=\"alert alert-block alert-success\">\n",
    "\n",
    "<b>Comentario del revisor</b> <a class=\"tocSkip\"></a>\n",
    "\n",
    "Buenas observaciones.\n",
    "\n",
    "</div>"
   ]
  },
  {
   "cell_type": "markdown",
   "metadata": {
    "id": "eK1es74rVujj"
   },
   "source": [
    "[Volver a Contenidos](#back)"
   ]
  },
  {
   "cell_type": "markdown",
   "metadata": {
    "id": "WttZHXH0SqKk"
   },
   "source": [
    "## Etapa 3. Prueba de hipótesis <a id='hypothesis'></a>"
   ]
  },
  {
   "cell_type": "markdown",
   "metadata": {
    "id": "Im936VVi_Zcu"
   },
   "source": [
    "### Hipótesis: comparar el comportamiento del usuario o la usuaria en las dos ciudades <a id='activity'></a>"
   ]
  },
  {
   "cell_type": "markdown",
   "metadata": {
    "id": "nwt_MuaL_Zcu"
   },
   "source": [
    "La hipótesis afirma que existen diferencias en la forma en que los usuarios y las usuarias de Springfield y Shelbyville consumen música. Para comprobar esto, usa los datos de tres días de la semana: lunes, miércoles y viernes.\n",
    "\n",
    "* Agrupa a los usuarios y las usuarias por ciudad.\n",
    "* Compara el número de canciones que cada grupo reprodujo el lunes, el miércoles y el viernes.\n"
   ]
  },
  {
   "cell_type": "markdown",
   "metadata": {
    "id": "8Dw_YMmT_Zcu"
   },
   "source": [
    "Realiza cada cálculo por separado.\n",
    "\n",
    "El primer paso es evaluar la actividad del usuario en cada ciudad. Recuerda las etapas dividir-aplicar-combinar de las que hablamos anteriormente en la lección. Tu objetivo ahora es agrupar los datos por ciudad, aplicar el método apropiado para contar durante la etapa de aplicación y luego encontrar la cantidad de canciones reproducidas en cada grupo especificando la columna para obtener el recuento.\n",
    "\n",
    "A continuación se muestra un ejemplo de cómo debería verse el resultado final:\n",
    "`df.groupby(by='....')['column'].method()`Realiza cada cálculo por separado.\n",
    "\n",
    "Para evaluar la actividad de los usuarios y las usuarias en cada ciudad, agrupa los datos por ciudad y encuentra la cantidad de canciones reproducidas en cada grupo.\n",
    "\n"
   ]
  },
  {
   "cell_type": "code",
   "execution_count": 21,
   "metadata": {
    "id": "0_Qs96oh_Zcu"
   },
   "outputs": [
    {
     "name": "stdout",
     "output_type": "stream",
     "text": [
      "          city  track\n",
      "0  Shelbyville  18512\n",
      "1  Springfield  42741\n",
      "\n",
      "Music consumption is 2.31 times higher in Springfield that in Shelbyville\n"
     ]
    }
   ],
   "source": [
    "# Contar las canciones reproducidas en cada ciudad\n",
    "city_tracks = df.groupby('city')['track'].count().reset_index()\n",
    "print((city_tracks))\n",
    "\n",
    "highest_ranked_city = 'Springfield'\n",
    "lowest_ranked_city = 'Shelbyville'\n",
    "\n",
    "track_ratio = round((city_tracks.loc[1, 'track'] / city_tracks.loc[0, 'track']), 2)\n",
    "print()\n",
    "print(f'Music consumption is {track_ratio} times higher in {highest_ranked_city} that in {lowest_ranked_city}')"
   ]
  },
  {
   "cell_type": "markdown",
   "metadata": {
    "id": "t_Qx-3NewAnK"
   },
   "source": [
    "`Comenta tus observaciones aquí`\n",
    "Springfield consume 2.3 veces más musica que Shelbyville"
   ]
  },
  {
   "cell_type": "markdown",
   "metadata": {},
   "source": [
    "<div class=\"alert alert-block alert-success\">\n",
    "\n",
    "<b>Comentario del revisor</b> <a class=\"tocSkip\"></a>\n",
    "\n",
    "Excelente.\n",
    "\n",
    "</div>"
   ]
  },
  {
   "cell_type": "markdown",
   "metadata": {
    "id": "dzli3w8o_Zcu"
   },
   "source": [
    "Ahora agrupemos los datos por día de la semana y encontremos el número de canciones reproducidas el lunes, miércoles y viernes. Utiliza el mismo método que antes, pero ahora necesitamos una agrupación diferente.\n"
   ]
  },
  {
   "cell_type": "code",
   "execution_count": 23,
   "metadata": {
    "id": "uZMKjiJz_Zcu"
   },
   "outputs": [
    {
     "name": "stdout",
     "output_type": "stream",
     "text": [
      "          city        day  track\n",
      "0  Shelbyville     Friday   5895\n",
      "1  Shelbyville     Monday   5614\n",
      "2  Shelbyville  Wednesday   7003\n",
      "3  Springfield     Friday  15945\n",
      "4  Springfield     Monday  15740\n",
      "5  Springfield  Wednesday  11056\n",
      "\n",
      "\n",
      "Music consumption on Fridays is 2.7 times higher in Springfield that in Shelbyville\n",
      "\n",
      "Music consumption on Mondays is 2.8 times higher in Springfield that in Shelbyville\n",
      "\n",
      "Music consumption on Wednesdays is 1.58 times higher in Springfield that in Shelbyville\n"
     ]
    }
   ],
   "source": [
    "# Calcular las canciones reproducidas en cada uno de los tres días\n",
    "day_city_tracks = df.groupby(['city', 'day'])['track'].count().reset_index()\n",
    "print((day_city_tracks))\n",
    "\n",
    "#Aquí estoy calculando la proporción de cuantas veces más...\n",
    "#...se escuchan canciones en una ciudad en comparación de la otra...\n",
    "#...de acuerdo a cada día de la semana\n",
    "print()\n",
    "friday_track_ratio = round((day_city_tracks.loc[3, 'track']/day_city_tracks.loc[0, 'track']), 2)\n",
    "monday_track_ratio = round((day_city_tracks.loc[4, 'track']/day_city_tracks.loc[1, 'track']), 2)\n",
    "wednesday_track_ratio = round((day_city_tracks.loc[5, 'track']/day_city_tracks.loc[2, 'track']), 2)\n",
    "print()\n",
    "highest_ranked_city = 'Springfield'\n",
    "lowest_ranked_city = 'Shelbyville'\n",
    "print(f'Music consumption on Fridays is {friday_track_ratio} times higher in {highest_ranked_city} that in {lowest_ranked_city}')\n",
    "print()\n",
    "print(f'Music consumption on Mondays is {monday_track_ratio} times higher in {highest_ranked_city} that in {lowest_ranked_city}')\n",
    "print()\n",
    "print(f'Music consumption on Wednesdays is {wednesday_track_ratio} times higher in {highest_ranked_city} that in {lowest_ranked_city}')"
   ]
  },
  {
   "cell_type": "markdown",
   "metadata": {
    "id": "cC2tNrlL_Zcu"
   },
   "source": [
    "`Comenta tus observaciones aquí`\n",
    "En los tres días de la semana analizados, Springfield consume hasta casi 3 veces más musica que Shelbyville"
   ]
  },
  {
   "cell_type": "markdown",
   "metadata": {},
   "source": [
    "<div class=\"alert alert-block alert-success\">\n",
    "\n",
    "<b>Comentario del revisor</b> <a class=\"tocSkip\"></a>\n",
    "\n",
    "Muy bueno el agregado de los ratios.\n",
    "\n",
    "</div>"
   ]
  },
  {
   "cell_type": "markdown",
   "metadata": {
    "id": "POzs8bGa_Zcu"
   },
   "source": [
    "Ya sabes cómo contar entradas agrupándolas por ciudad o día. Ahora necesitas escribir una función que pueda contar entradas según ambos criterios simultáneamente.\n",
    "\n",
    "Crea la función `number_tracks()` para calcular el número de canciones reproducidas en un determinado día **y** ciudad. La función debe aceptar dos parámetros:\n",
    "\n",
    "- `day`: un día de la semana para filtrar. Por ejemplo, `'Monday'` (lunes).\n",
    "- `city`: una ciudad para filtrar. Por ejemplo, `'Springfield'`.\n",
    "\n",
    "Dentro de la función, aplicarás un filtrado consecutivo con indexación lógica.\n",
    "\n",
    "Primero filtra los datos por día y luego filtra la tabla resultante por ciudad.\n",
    "\n",
    "Después de filtrar los datos por dos criterios, cuenta el número de valores de la columna 'user_id' en la tabla resultante. Este recuento representa el número de entradas que estás buscando. Guarda el resultado en una nueva variable y devuélvelo desde la función."
   ]
  },
  {
   "cell_type": "code",
   "execution_count": 24,
   "metadata": {
    "id": "Nz3GdQB1_Zcu"
   },
   "outputs": [],
   "source": [
    "# Declara la función number_tracks() con dos parámetros: day= y city=.\n",
    "def number_tracks(day, city):\n",
    "    \n",
    "    # Almacena las filas del DataFrame donde el valor en la columna 'day' es igual al parámetro day=\n",
    "    filtered_data = df[(df['day']==day)\n",
    "    # Filtra las filas donde el valor en la columna 'city' es igual al parámetro city=\n",
    "    & (df['city']== city)]\n",
    "    # Extrae la columna 'user_id' de la tabla filtrada y aplica el método count()\n",
    "    track_count = filtered_data['user_id'].count()\n",
    "    # Devolve el número de valores de la columna 'user_id'\n",
    "    return track_count"
   ]
  },
  {
   "cell_type": "markdown",
   "metadata": {},
   "source": [
    "<div class=\"alert alert-block alert-success\">\n",
    "\n",
    "<b>Comentario del revisor</b> <a class=\"tocSkip\"></a>\n",
    "\n",
    "Excelentes uso de las expresiones anidadas.\n",
    "\n",
    "</div>"
   ]
  },
  {
   "cell_type": "markdown",
   "metadata": {
    "id": "ytf7xFrFJQ2r"
   },
   "source": [
    "Llama a `number_tracks()` seis veces, cambiando los valores de los parámetros para que recuperes los datos de ambas ciudades para cada uno de los tres días."
   ]
  },
  {
   "cell_type": "code",
   "execution_count": 25,
   "metadata": {
    "id": "rJcRATNQ_Zcu"
   },
   "outputs": [
    {
     "data": {
      "text/plain": [
       "15740"
      ]
     },
     "execution_count": 25,
     "metadata": {},
     "output_type": "execute_result"
    }
   ],
   "source": [
    "# El número de canciones reproducidas en Springfield el lunes\n",
    "number_tracks('Monday', 'Springfield')"
   ]
  },
  {
   "cell_type": "code",
   "execution_count": 26,
   "metadata": {
    "id": "hq_ncZ5T_Zcu"
   },
   "outputs": [
    {
     "data": {
      "text/plain": [
       "5614"
      ]
     },
     "execution_count": 26,
     "metadata": {},
     "output_type": "execute_result"
    }
   ],
   "source": [
    "# El número de canciones reproducidas en Shelbyville el lunes\n",
    "number_tracks('Monday', 'Shelbyville')"
   ]
  },
  {
   "cell_type": "code",
   "execution_count": 27,
   "metadata": {
    "id": "_NTy2VPU_Zcu"
   },
   "outputs": [
    {
     "data": {
      "text/plain": [
       "11056"
      ]
     },
     "execution_count": 27,
     "metadata": {},
     "output_type": "execute_result"
    }
   ],
   "source": [
    "# El número de canciones reproducidas en Springfield el miércoles\n",
    "number_tracks('Wednesday', 'Springfield')"
   ]
  },
  {
   "cell_type": "code",
   "execution_count": 28,
   "metadata": {
    "id": "j2y3TAwo_Zcu"
   },
   "outputs": [
    {
     "data": {
      "text/plain": [
       "7003"
      ]
     },
     "execution_count": 28,
     "metadata": {},
     "output_type": "execute_result"
    }
   ],
   "source": [
    "# El número de canciones reproducidas en Shelbyville el miércoles\n",
    "number_tracks('Wednesday', 'Shelbyville')"
   ]
  },
  {
   "cell_type": "code",
   "execution_count": 29,
   "metadata": {
    "id": "vYDw5u_K_Zcu"
   },
   "outputs": [
    {
     "data": {
      "text/plain": [
       "15945"
      ]
     },
     "execution_count": 29,
     "metadata": {},
     "output_type": "execute_result"
    }
   ],
   "source": [
    "# El número de canciones reproducidas en Springfield el viernes\n",
    "number_tracks('Friday', 'Springfield')"
   ]
  },
  {
   "cell_type": "code",
   "execution_count": 30,
   "metadata": {
    "id": "8_yzFtW3_Zcu"
   },
   "outputs": [
    {
     "data": {
      "text/plain": [
       "5895"
      ]
     },
     "execution_count": 30,
     "metadata": {},
     "output_type": "execute_result"
    }
   ],
   "source": [
    "# El número de canciones reproducidas en Shelbyville el viernes\n",
    "number_tracks('Friday', 'Shelbyville')"
   ]
  },
  {
   "cell_type": "markdown",
   "metadata": {
    "id": "-EgPIHYu_Zcu"
   },
   "source": [
    "**Conclusiones**\n",
    "\n",
    "`Comenta si la hipótesis es correcta o se debe rechazar. Explica tu razonamiento.`\n",
    "La hipótesis alternativa se debe aceptar puesto que en una de las ciudades el consumo de musica es superior."
   ]
  },
  {
   "cell_type": "markdown",
   "metadata": {
    "id": "p7nFQajCVw5B"
   },
   "source": [
    "[Volver a Contenidos](#back)"
   ]
  },
  {
   "cell_type": "markdown",
   "metadata": {
    "id": "ykKQ0N65_Zcv"
   },
   "source": [
    "# Conclusiones <a id='end'></a>"
   ]
  },
  {
   "cell_type": "markdown",
   "metadata": {
    "id": "tjUwbHb3_Zcv"
   },
   "source": [
    "`Resume aquí tus conclusiones sobre la hipótesis.`\n",
    "Se puede concluir que en una de las ciudades el consumo de musica es superior.\n",
    "El consumo de musica en toda la semana es superior en Springfield.\n",
    "El consumo de musica los días lunes es superior en Springfield.\n",
    "El consumo de musica los días miercoles es superior en Springfield.\n",
    "El consumo de musica los días viernes es superior en Springfield."
   ]
  },
  {
   "cell_type": "markdown",
   "metadata": {},
   "source": [
    "<div class=\"alert alert-block alert-success\">\n",
    "\n",
    "<b>Comentario del revisor</b> <a class=\"tocSkip\"></a>\n",
    "\n",
    "Buenas conclusiones.\n",
    "\n",
    "</div>"
   ]
  },
  {
   "cell_type": "markdown",
   "metadata": {
    "id": "azLHu64yOIp7"
   },
   "source": [
    "### Nota\n",
    "En proyectos de investigación reales, la prueba de hipótesis estadística es más precisa y cuantitativa. También ten en cuenta que no siempre se pueden sacar conclusiones sobre una ciudad entera a partir de datos de una sola fuente.\n",
    "\n",
    "Aprenderás más sobre la prueba de hipótesis en el sprint de análisis estadístico de datos."
   ]
  },
  {
   "cell_type": "markdown",
   "metadata": {
    "id": "Ju4AHDSgV1FE"
   },
   "source": [
    "[Volver a Contenidos](#back)"
   ]
  }
 ],
 "metadata": {
  "ExecuteTimeLog": [
   {
    "duration": 316,
    "start_time": "2024-10-12T00:30:38.456Z"
   },
   {
    "duration": 177,
    "start_time": "2024-10-12T00:33:07.530Z"
   },
   {
    "duration": 127,
    "start_time": "2024-10-12T00:33:24.096Z"
   },
   {
    "duration": 10,
    "start_time": "2024-10-12T00:33:29.007Z"
   },
   {
    "duration": 30,
    "start_time": "2024-10-12T00:34:09.197Z"
   },
   {
    "duration": 29,
    "start_time": "2024-10-12T00:35:28.074Z"
   },
   {
    "duration": 65,
    "start_time": "2024-10-12T00:35:52.339Z"
   },
   {
    "duration": 14,
    "start_time": "2024-10-12T00:39:33.494Z"
   },
   {
    "duration": 3,
    "start_time": "2024-10-12T00:39:39.124Z"
   },
   {
    "duration": 3,
    "start_time": "2024-10-12T00:39:58.118Z"
   },
   {
    "duration": 19,
    "start_time": "2024-10-12T00:40:07.531Z"
   },
   {
    "duration": 4,
    "start_time": "2024-10-12T00:40:36.420Z"
   },
   {
    "duration": 3,
    "start_time": "2024-10-12T00:40:45.172Z"
   },
   {
    "duration": 3,
    "start_time": "2024-10-12T00:41:30.075Z"
   },
   {
    "duration": 3,
    "start_time": "2024-10-12T00:41:40.191Z"
   },
   {
    "duration": 3,
    "start_time": "2024-10-12T01:00:40.971Z"
   },
   {
    "duration": 19,
    "start_time": "2024-10-12T01:00:54.882Z"
   },
   {
    "duration": 67,
    "start_time": "2024-10-12T01:02:20.310Z"
   },
   {
    "duration": 68,
    "start_time": "2024-10-12T01:04:26.774Z"
   },
   {
    "duration": 17,
    "start_time": "2024-10-12T01:04:37.880Z"
   },
   {
    "duration": 29,
    "start_time": "2024-10-12T01:05:59.266Z"
   },
   {
    "duration": 15,
    "start_time": "2024-10-12T01:06:07.648Z"
   },
   {
    "duration": 28,
    "start_time": "2024-10-12T01:06:11.888Z"
   },
   {
    "duration": 12,
    "start_time": "2024-10-12T01:10:15.025Z"
   },
   {
    "duration": 13,
    "start_time": "2024-10-12T01:12:14.856Z"
   },
   {
    "duration": 12,
    "start_time": "2024-10-12T01:12:18.899Z"
   },
   {
    "duration": 30,
    "start_time": "2024-10-12T01:12:39.396Z"
   },
   {
    "duration": 86,
    "start_time": "2024-10-12T01:14:07.428Z"
   },
   {
    "duration": 43,
    "start_time": "2024-10-12T01:14:15.591Z"
   },
   {
    "duration": 42,
    "start_time": "2024-10-12T01:14:25.259Z"
   },
   {
    "duration": 79,
    "start_time": "2024-10-12T01:14:33.543Z"
   },
   {
    "duration": 41,
    "start_time": "2024-10-12T01:15:27.162Z"
   },
   {
    "duration": 43,
    "start_time": "2024-10-12T01:15:57.311Z"
   },
   {
    "duration": 28,
    "start_time": "2024-10-12T01:16:47.962Z"
   },
   {
    "duration": 43,
    "start_time": "2024-10-12T01:16:59.455Z"
   },
   {
    "duration": 10,
    "start_time": "2024-10-12T01:18:01.048Z"
   },
   {
    "duration": 44,
    "start_time": "2024-10-12T01:18:18.534Z"
   },
   {
    "duration": 39,
    "start_time": "2024-10-12T01:18:20.781Z"
   },
   {
    "duration": 10,
    "start_time": "2024-10-12T01:20:52.785Z"
   },
   {
    "duration": 10,
    "start_time": "2024-10-12T01:21:02.369Z"
   },
   {
    "duration": 7,
    "start_time": "2024-10-12T01:23:37.253Z"
   },
   {
    "duration": 5,
    "start_time": "2024-10-12T01:24:18.332Z"
   },
   {
    "duration": 7,
    "start_time": "2024-10-12T01:27:09.435Z"
   },
   {
    "duration": 3,
    "start_time": "2024-10-12T01:35:08.395Z"
   },
   {
    "duration": 12,
    "start_time": "2024-10-12T01:35:12.475Z"
   },
   {
    "duration": 7,
    "start_time": "2024-10-12T01:46:33.010Z"
   },
   {
    "duration": 3,
    "start_time": "2024-10-12T01:46:52.738Z"
   },
   {
    "duration": 3,
    "start_time": "2024-10-12T01:47:08.492Z"
   },
   {
    "duration": 18,
    "start_time": "2024-10-12T01:49:52.560Z"
   },
   {
    "duration": 3,
    "start_time": "2024-10-12T01:50:21.464Z"
   },
   {
    "duration": 6,
    "start_time": "2024-10-12T01:51:36.916Z"
   },
   {
    "duration": 6,
    "start_time": "2024-10-12T01:52:27.780Z"
   },
   {
    "duration": 15,
    "start_time": "2024-10-12T01:53:59.597Z"
   },
   {
    "duration": 5,
    "start_time": "2024-10-12T01:55:45.411Z"
   },
   {
    "duration": 6,
    "start_time": "2024-10-12T01:56:06.947Z"
   },
   {
    "duration": 112,
    "start_time": "2024-10-12T02:11:20.183Z"
   },
   {
    "duration": 12,
    "start_time": "2024-10-12T02:11:30.175Z"
   },
   {
    "duration": 13,
    "start_time": "2024-10-12T02:11:34.161Z"
   },
   {
    "duration": 18,
    "start_time": "2024-10-12T02:11:47.065Z"
   },
   {
    "duration": 29,
    "start_time": "2024-10-12T02:12:00.936Z"
   },
   {
    "duration": 61,
    "start_time": "2024-10-12T02:12:11.560Z"
   },
   {
    "duration": 21,
    "start_time": "2024-10-12T02:12:47.980Z"
   },
   {
    "duration": 26,
    "start_time": "2024-10-12T02:13:37.890Z"
   },
   {
    "duration": 11,
    "start_time": "2024-10-12T02:26:26.216Z"
   },
   {
    "duration": 15,
    "start_time": "2024-10-12T02:28:51.471Z"
   },
   {
    "duration": 9,
    "start_time": "2024-10-12T02:29:34.555Z"
   },
   {
    "duration": 9,
    "start_time": "2024-10-12T02:31:13.591Z"
   },
   {
    "duration": 9,
    "start_time": "2024-10-12T02:32:11.007Z"
   },
   {
    "duration": 20,
    "start_time": "2024-10-12T02:32:39.917Z"
   },
   {
    "duration": 18,
    "start_time": "2024-10-12T02:32:45.710Z"
   },
   {
    "duration": 9,
    "start_time": "2024-10-12T02:33:43.595Z"
   },
   {
    "duration": 8,
    "start_time": "2024-10-12T02:33:55.652Z"
   },
   {
    "duration": 9,
    "start_time": "2024-10-12T02:34:03.091Z"
   },
   {
    "duration": 10,
    "start_time": "2024-10-12T02:34:32.938Z"
   },
   {
    "duration": 3,
    "start_time": "2024-10-12T02:40:02.328Z"
   },
   {
    "duration": 13,
    "start_time": "2024-10-12T02:40:17.470Z"
   },
   {
    "duration": 23,
    "start_time": "2024-10-12T02:41:23.264Z"
   },
   {
    "duration": 13,
    "start_time": "2024-10-12T02:41:31.339Z"
   },
   {
    "duration": 188,
    "start_time": "2024-10-12T02:47:13.261Z"
   },
   {
    "duration": 13,
    "start_time": "2024-10-12T02:47:30.794Z"
   },
   {
    "duration": 64,
    "start_time": "2024-10-12T02:47:37.189Z"
   },
   {
    "duration": 13,
    "start_time": "2024-10-12T02:47:47.674Z"
   },
   {
    "duration": 13,
    "start_time": "2024-10-12T02:48:36.526Z"
   },
   {
    "duration": 64,
    "start_time": "2024-10-12T02:48:48.785Z"
   },
   {
    "duration": 13,
    "start_time": "2024-10-12T02:48:54.491Z"
   },
   {
    "duration": 14,
    "start_time": "2024-10-12T02:55:25.382Z"
   },
   {
    "duration": 14,
    "start_time": "2024-10-12T02:55:31.557Z"
   },
   {
    "duration": 5,
    "start_time": "2024-10-12T03:01:30.478Z"
   },
   {
    "duration": 16,
    "start_time": "2024-10-12T03:03:39.238Z"
   },
   {
    "duration": 7,
    "start_time": "2024-10-12T03:09:02.728Z"
   },
   {
    "duration": 15,
    "start_time": "2024-10-12T03:09:40.769Z"
   },
   {
    "duration": 15,
    "start_time": "2024-10-12T03:10:01.546Z"
   },
   {
    "duration": 15,
    "start_time": "2024-10-12T03:10:37.885Z"
   },
   {
    "duration": 24,
    "start_time": "2024-10-12T03:11:30.716Z"
   },
   {
    "duration": 17,
    "start_time": "2024-10-12T03:12:00.208Z"
   },
   {
    "duration": 24,
    "start_time": "2024-10-12T03:12:17.175Z"
   },
   {
    "duration": 15,
    "start_time": "2024-10-12T03:13:23.999Z"
   },
   {
    "duration": 28,
    "start_time": "2024-10-12T03:16:24.253Z"
   },
   {
    "duration": 16,
    "start_time": "2024-10-12T03:19:15.669Z"
   },
   {
    "duration": 23,
    "start_time": "2024-10-12T03:19:39.449Z"
   },
   {
    "duration": 16,
    "start_time": "2024-10-12T03:19:54.254Z"
   },
   {
    "duration": 16,
    "start_time": "2024-10-12T03:21:43.898Z"
   },
   {
    "duration": 15,
    "start_time": "2024-10-12T03:23:17.889Z"
   },
   {
    "duration": 10,
    "start_time": "2024-10-12T03:23:36.487Z"
   },
   {
    "duration": 416,
    "start_time": "2024-10-12T03:26:54.293Z"
   },
   {
    "duration": 11,
    "start_time": "2024-10-12T03:28:30.514Z"
   },
   {
    "duration": 10,
    "start_time": "2024-10-12T03:28:48.882Z"
   },
   {
    "duration": 11,
    "start_time": "2024-10-12T03:29:00.862Z"
   },
   {
    "duration": 2,
    "start_time": "2024-10-12T03:53:42.079Z"
   },
   {
    "duration": 10,
    "start_time": "2024-10-12T03:55:20.171Z"
   },
   {
    "duration": 12,
    "start_time": "2024-10-12T03:55:53.577Z"
   },
   {
    "duration": 4,
    "start_time": "2024-10-12T03:57:44.088Z"
   },
   {
    "duration": 3,
    "start_time": "2024-10-12T03:57:50.440Z"
   },
   {
    "duration": 11,
    "start_time": "2024-10-12T03:57:54.549Z"
   },
   {
    "duration": 4,
    "start_time": "2024-10-12T03:58:47.712Z"
   },
   {
    "duration": 13,
    "start_time": "2024-10-12T03:58:58.614Z"
   },
   {
    "duration": 13,
    "start_time": "2024-10-12T03:59:24.798Z"
   },
   {
    "duration": 12,
    "start_time": "2024-10-12T03:59:37.790Z"
   },
   {
    "duration": 16,
    "start_time": "2024-10-12T04:00:11.697Z"
   },
   {
    "duration": 12,
    "start_time": "2024-10-12T04:00:14.620Z"
   },
   {
    "duration": 13,
    "start_time": "2024-10-12T04:00:35.434Z"
   },
   {
    "duration": 306,
    "start_time": "2024-10-12T04:05:54.250Z"
   },
   {
    "duration": 89,
    "start_time": "2024-10-12T04:05:56.468Z"
   },
   {
    "duration": 6,
    "start_time": "2024-10-12T04:05:59.369Z"
   },
   {
    "duration": 65,
    "start_time": "2024-10-12T04:06:03.202Z"
   },
   {
    "duration": 3,
    "start_time": "2024-10-12T04:06:19.321Z"
   },
   {
    "duration": 3,
    "start_time": "2024-10-12T04:06:22.337Z"
   },
   {
    "duration": 3,
    "start_time": "2024-10-12T04:06:25.167Z"
   },
   {
    "duration": 4,
    "start_time": "2024-10-12T04:06:28.131Z"
   },
   {
    "duration": 3,
    "start_time": "2024-10-12T04:06:33.257Z"
   },
   {
    "duration": 31,
    "start_time": "2024-10-12T04:06:37.920Z"
   },
   {
    "duration": 12,
    "start_time": "2024-10-12T04:06:40.087Z"
   },
   {
    "duration": 30,
    "start_time": "2024-10-12T04:06:42.045Z"
   },
   {
    "duration": 46,
    "start_time": "2024-10-12T04:06:45.125Z"
   },
   {
    "duration": 46,
    "start_time": "2024-10-12T04:06:47.663Z"
   },
   {
    "duration": 41,
    "start_time": "2024-10-12T04:06:49.613Z"
   },
   {
    "duration": 6,
    "start_time": "2024-10-12T04:06:53.563Z"
   },
   {
    "duration": 3,
    "start_time": "2024-10-12T04:06:58.510Z"
   },
   {
    "duration": 17,
    "start_time": "2024-10-12T04:07:00.319Z"
   },
   {
    "duration": 5,
    "start_time": "2024-10-12T04:07:02.586Z"
   },
   {
    "duration": 12,
    "start_time": "2024-10-12T04:07:13.014Z"
   },
   {
    "duration": 16,
    "start_time": "2024-10-12T04:07:18.115Z"
   },
   {
    "duration": 3,
    "start_time": "2024-10-12T04:07:23.063Z"
   },
   {
    "duration": 14,
    "start_time": "2024-10-12T04:07:24.897Z"
   },
   {
    "duration": 12,
    "start_time": "2024-10-12T04:07:27.265Z"
   },
   {
    "duration": 12,
    "start_time": "2024-10-12T04:07:28.993Z"
   },
   {
    "duration": 11,
    "start_time": "2024-10-12T04:07:30.116Z"
   },
   {
    "duration": 14,
    "start_time": "2024-10-12T04:07:31.405Z"
   },
   {
    "duration": 12,
    "start_time": "2024-10-12T04:07:32.468Z"
   },
   {
    "duration": 164,
    "start_time": "2024-10-12T13:29:27.361Z"
   },
   {
    "duration": 299,
    "start_time": "2024-10-12T13:29:37.170Z"
   },
   {
    "duration": 134,
    "start_time": "2024-10-12T13:29:39.750Z"
   },
   {
    "duration": 11,
    "start_time": "2024-10-12T13:29:41.775Z"
   },
   {
    "duration": 6,
    "start_time": "2024-10-12T13:30:04.231Z"
   },
   {
    "duration": 278,
    "start_time": "2024-10-12T13:30:19.180Z"
   },
   {
    "duration": 92,
    "start_time": "2024-10-12T13:30:21.219Z"
   },
   {
    "duration": 12,
    "start_time": "2024-10-12T13:30:29.816Z"
   },
   {
    "duration": 4,
    "start_time": "2024-10-12T13:31:05.619Z"
   },
   {
    "duration": 64,
    "start_time": "2024-10-12T13:32:58.685Z"
   },
   {
    "duration": 3,
    "start_time": "2024-10-12T13:33:21.008Z"
   },
   {
    "duration": 3,
    "start_time": "2024-10-12T13:33:25.176Z"
   },
   {
    "duration": 3,
    "start_time": "2024-10-12T13:33:28.813Z"
   },
   {
    "duration": 3,
    "start_time": "2024-10-12T13:33:30.995Z"
   },
   {
    "duration": 4,
    "start_time": "2024-10-12T13:33:33.127Z"
   },
   {
    "duration": 31,
    "start_time": "2024-10-12T13:33:36.245Z"
   },
   {
    "duration": 14,
    "start_time": "2024-10-12T13:33:40.553Z"
   },
   {
    "duration": 30,
    "start_time": "2024-10-12T13:33:43.069Z"
   },
   {
    "duration": 43,
    "start_time": "2024-10-12T13:33:47.744Z"
   },
   {
    "duration": 46,
    "start_time": "2024-10-12T13:33:49.660Z"
   },
   {
    "duration": 42,
    "start_time": "2024-10-12T13:33:52.807Z"
   },
   {
    "duration": 6,
    "start_time": "2024-10-12T13:33:55.368Z"
   },
   {
    "duration": 3,
    "start_time": "2024-10-12T13:34:21.540Z"
   },
   {
    "duration": 19,
    "start_time": "2024-10-12T13:34:24.591Z"
   },
   {
    "duration": 6,
    "start_time": "2024-10-12T13:34:26.587Z"
   },
   {
    "duration": 12,
    "start_time": "2024-10-12T13:34:33.909Z"
   },
   {
    "duration": 16,
    "start_time": "2024-10-12T13:35:04.744Z"
   },
   {
    "duration": 16,
    "start_time": "2024-10-12T13:35:14.709Z"
   },
   {
    "duration": 3,
    "start_time": "2024-10-12T13:36:41.276Z"
   },
   {
    "duration": 15,
    "start_time": "2024-10-12T13:36:49.454Z"
   },
   {
    "duration": 12,
    "start_time": "2024-10-12T13:36:50.664Z"
   },
   {
    "duration": 14,
    "start_time": "2024-10-12T13:36:51.996Z"
   },
   {
    "duration": 13,
    "start_time": "2024-10-12T13:36:52.827Z"
   },
   {
    "duration": 14,
    "start_time": "2024-10-12T13:36:54.135Z"
   },
   {
    "duration": 13,
    "start_time": "2024-10-12T13:36:54.967Z"
   }
  ],
  "colab": {
   "collapsed_sections": [
    "E0vqbgi9ay0H",
    "VUC88oWjTJw2"
   ],
   "provenance": []
  },
  "kernelspec": {
   "display_name": "Python 3 (ipykernel)",
   "language": "python",
   "name": "python3"
  },
  "language_info": {
   "codemirror_mode": {
    "name": "ipython",
    "version": 3
   },
   "file_extension": ".py",
   "mimetype": "text/x-python",
   "name": "python",
   "nbconvert_exporter": "python",
   "pygments_lexer": "ipython3",
   "version": "3.9.19"
  },
  "toc": {
   "base_numbering": 1,
   "nav_menu": {},
   "number_sections": true,
   "sideBar": true,
   "skip_h1_title": true,
   "title_cell": "Table of Contents",
   "title_sidebar": "Contents",
   "toc_cell": false,
   "toc_position": {},
   "toc_section_display": true,
   "toc_window_display": false
  }
 },
 "nbformat": 4,
 "nbformat_minor": 1
}
