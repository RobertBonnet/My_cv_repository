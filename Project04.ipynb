{
 "cells": [
  {
   "cell_type": "markdown",
   "id": "e30a7bfc",
   "metadata": {},
   "source": [
    "\n",
    "¡Hola, Robert!\n",
    "\n",
    "Mi nombre es Tonatiuh Cruz. Me complace revisar tu proyecto hoy.\n",
    "\n",
    "Al identificar cualquier error inicialmente, simplemente los destacaré. Te animo a localizar y abordar los problemas de forma independiente como parte de tu preparación para un rol como data-scientist. En un entorno profesional, tu líder de equipo seguiría un enfoque similar. Si encuentras la tarea desafiante, proporcionaré una pista más específica en la próxima iteración.\n",
    "\n",
    "Encontrarás mis comentarios a continuación - **por favor no los muevas, modifiques o elimines**.\n",
    "\n",
    "Puedes encontrar mis comentarios en cajas verdes, amarillas o rojas como esta:\n",
    "\n",
    "<div class=\"alert alert-block alert-success\">\n",
    "<b>Comentario del revisor</b> <a class=\"tocSkip\"></a>\n",
    "\n",
    "Éxito. Todo está hecho correctamente.\n",
    "</div>\n",
    "\n",
    "<div class=\"alert alert-block alert-warning\">\n",
    "<b>Comentario del revisor</b> <a class=\"tocSkip\"></a>\n",
    "\n",
    "Observaciones. Algunas recomendaciones.\n",
    "</div>\n",
    "\n",
    "<div class=\"alert alert-block alert-danger\">\n",
    "<b>Comentario del revisor</b> <a class=\"tocSkip\"></a>\n",
    "\n",
    "Necesita corrección. El bloque requiere algunas correcciones. El trabajo no puede ser aceptado con comentarios en rojo.\n",
    "</div>\n",
    "\n",
    "Puedes responderme utilizando esto:\n",
    "\n",
    "<div class=\"alert alert-block alert-info\">\n",
    "<b>Respuesta del estudiante.</b> <a class=\"tocSkip\"></a>\n",
    "</div>"
   ]
  },
  {
   "cell_type": "markdown",
   "id": "0256d07b",
   "metadata": {},
   "source": [
    "<div class=\"alert alert-block alert-success\">\n",
    "<b>Resumen de la revisión 1</b> <a class=\"tocSkip\"></a>\n",
    "\n",
    "Hola,  Robert! Has hecho un excelente trabajo al realizar el proyecto, cargaste correctamente la información y la limpieza de esta información. Además, desarrollaste perfectamente el desarrollo del análisis con gráficas e interpretación. Solamente te dejo algunos comentarios para terminar de complementar el análisis. \n",
    "\n",
    "Sigue con el excelente trabajo!\n",
    "</div>"
   ]
  },
  {
   "cell_type": "markdown",
   "id": "3Xg_RQfnafXz",
   "metadata": {
    "id": "3Xg_RQfnafXz"
   },
   "source": [
    "# ¡Llena ese carrito!"
   ]
  },
  {
   "cell_type": "markdown",
   "id": "mhIvmmkW414q",
   "metadata": {
    "id": "mhIvmmkW414q"
   },
   "source": [
    "# Introducción\n",
    "\n",
    "Instacart es una plataforma de entregas de comestibles donde la clientela puede registrar un pedido y hacer que se lo entreguen, similar a Uber Eats y Door Dash.\n",
    "El conjunto de datos que te hemos proporcionado tiene modificaciones del original. Redujimos el tamaño del conjunto para que tus cálculos se hicieran más rápido e introdujimos valores ausentes y duplicados. Tuvimos cuidado de conservar las distribuciones de los datos originales cuando hicimos los cambios.\n",
    "\n",
    "Debes completar tres pasos. Para cada uno de ellos, escribe una breve introducción que refleje con claridad cómo pretendes resolver cada paso, y escribe párrafos explicatorios que justifiquen tus decisiones al tiempo que avanzas en tu solución.  También escribe una conclusión que resuma tus hallazgos y elecciones.\n"
   ]
  },
  {
   "cell_type": "markdown",
   "id": "3MbyzpOQZ5Or",
   "metadata": {
    "id": "3MbyzpOQZ5Or"
   },
   "source": [
    "## Diccionario de datos\n",
    "\n",
    "Hay cinco tablas en el conjunto de datos, y tendrás que usarlas todas para hacer el preprocesamiento de datos y el análisis exploratorio de datos. A continuación se muestra un diccionario de datos que enumera las columnas de cada tabla y describe los datos que contienen.\n",
    "\n",
    "- `instacart_orders.csv`: cada fila corresponde a un pedido en la aplicación Instacart.\n",
    "    - `'order_id'`: número de ID que identifica de manera única cada pedido.\n",
    "    - `'user_id'`: número de ID que identifica de manera única la cuenta de cada cliente.\n",
    "    - `'order_number'`: el número de veces que este cliente ha hecho un pedido.\n",
    "    - `'order_dow'`: día de la semana en que se hizo el pedido (0 si es domingo).\n",
    "    - `'order_hour_of_day'`: hora del día en que se hizo el pedido.\n",
    "    - `'days_since_prior_order'`: número de días transcurridos desde que este cliente hizo su pedido anterior.\n",
    "- `products.csv`: cada fila corresponde a un producto único que pueden comprar los clientes.\n",
    "    - `'product_id'`: número ID que identifica de manera única cada producto.\n",
    "    - `'product_name'`: nombre del producto.\n",
    "    - `'aisle_id'`: número ID que identifica de manera única cada categoría de pasillo de víveres.\n",
    "    - `'department_id'`: número ID que identifica de manera única cada departamento de víveres.\n",
    "- `order_products.csv`: cada fila corresponde a un artículo pedido en un pedido.\n",
    "    - `'order_id'`: número de ID que identifica de manera única cada pedido.\n",
    "    - `'product_id'`: número ID que identifica de manera única cada producto.\n",
    "    - `'add_to_cart_order'`: el orden secuencial en el que se añadió cada artículo en el carrito.\n",
    "    - `'reordered'`: 0 si el cliente nunca ha pedido este producto antes, 1 si lo ha pedido.\n",
    "- `aisles.csv`\n",
    "    - `'aisle_id'`: número ID que identifica de manera única cada categoría de pasillo de víveres.\n",
    "    - `'aisle'`: nombre del pasillo.\n",
    "- `departments.csv`\n",
    "    - `'department_id'`: número ID que identifica de manera única cada departamento de víveres.\n",
    "    - `'department'`: nombre del departamento."
   ]
  },
  {
   "cell_type": "markdown",
   "id": "9053c27b",
   "metadata": {},
   "source": [
    "<div class=\"alert alert-block alert-success\">\n",
    "<b>Comentario del revisor</b> <a class=\"tocSkip\"></a>\n",
    "\n",
    "¡Hola! Excelente trabajo desarrollando la introducción y el diccionario de datos. Esto es crucial para cualquier proyecto, ya que establece una guía clara sobre los pasos a seguir. Tener estos elementos bien definidos desde el principio nos permite trabajar de manera más organizada y eficiente. En un futuro lo podrías complementar con una tabla de contenido.\n",
    "</div>"
   ]
  },
  {
   "cell_type": "markdown",
   "id": "n3Ha_cNSZ8lK",
   "metadata": {
    "id": "n3Ha_cNSZ8lK"
   },
   "source": [
    "# Paso 1. Descripción de los datos\n",
    "\n",
    "Lee los archivos de datos (`/datasets/instacart_orders.csv`, `/datasets/products.csv`, `/datasets/aisles.csv`, `/datasets/departments.csv` y `/datasets/order_products.csv`) con `pd.read_csv()` usando los parámetros adecuados para leer los datos correctamente. Verifica la información para cada DataFrame creado.\n"
   ]
  },
  {
   "cell_type": "markdown",
   "id": "OmlQPLlyaAfR",
   "metadata": {
    "id": "OmlQPLlyaAfR"
   },
   "source": [
    "## Plan de solución\n",
    "\n",
    "Escribe aquí tu plan de solución para el Paso 1. Descripción de los datos.\n",
    "Descargaré las liberías necesarias para trabajar con archivos de tipo DataFrame.\n",
    "Importaré cada archivo csv por medio del método .read_csv().\n",
    "Imprimiré la información general y algunas filas de cada DataFrame para tener una noción general de como luce cada tabla y como están estructurados los datos.\n",
    "Si existen consideraciones manifestadas por el paso previo, volveré a llamar la función .read_csv() incluyendo argumentos para cada parámetro que encuentre necesario."
   ]
  },
  {
   "cell_type": "code",
   "execution_count": 1,
   "id": "fbf1adab",
   "metadata": {
    "id": "fbf1adab"
   },
   "outputs": [],
   "source": [
    "# importar librerías\n",
    "import pandas as pd"
   ]
  },
  {
   "cell_type": "code",
   "execution_count": 2,
   "id": "ad36396d",
   "metadata": {
    "id": "ad36396d"
   },
   "outputs": [],
   "source": [
    "# leer conjuntos de datos en los DataFrames\n",
    "instacart_orders = pd.read_csv('/datasets/instacart_orders.csv', sep=\";\")\n",
    "products = pd.read_csv('/datasets/products.csv', sep=\";\")\n",
    "aisles = pd.read_csv('/datasets/aisles.csv', sep=\";\")\n",
    "departments = pd.read_csv('/datasets/departments.csv', sep=\";\")\n",
    "order_products = pd.read_csv('/datasets/order_products.csv', sep=\";\")"
   ]
  },
  {
   "cell_type": "markdown",
   "id": "3e747a8a",
   "metadata": {},
   "source": [
    "<div class=\"alert alert-block alert-success\">\n",
    "<b>Comentario del revisor</b> <a class=\"tocSkip\"></a>\n",
    "\n",
    "Muy buen trabajo con la carga de la información"
   ]
  },
  {
   "cell_type": "code",
   "execution_count": 3,
   "id": "ad6a1efa",
   "metadata": {
    "id": "ad6a1efa"
   },
   "outputs": [
    {
     "name": "stdout",
     "output_type": "stream",
     "text": [
      "<class 'pandas.core.frame.DataFrame'>\n",
      "RangeIndex: 478967 entries, 0 to 478966\n",
      "Data columns (total 6 columns):\n",
      " #   Column                  Non-Null Count   Dtype  \n",
      "---  ------                  --------------   -----  \n",
      " 0   order_id                478967 non-null  int64  \n",
      " 1   user_id                 478967 non-null  int64  \n",
      " 2   order_number            478967 non-null  int64  \n",
      " 3   order_dow               478967 non-null  int64  \n",
      " 4   order_hour_of_day       478967 non-null  int64  \n",
      " 5   days_since_prior_order  450148 non-null  float64\n",
      "dtypes: float64(1), int64(5)\n",
      "memory usage: 21.9 MB\n",
      "\n",
      "   order_id  user_id  order_number  order_dow  order_hour_of_day  \\\n",
      "0   1515936   183418            11          6                 13   \n",
      "1   1690866   163593             5          5                 12   \n",
      "2   1454967    39980             4          5                 19   \n",
      "3   1768857    82516            56          0                 20   \n",
      "4   3007858   196724             2          4                 12   \n",
      "\n",
      "   days_since_prior_order  \n",
      "0                    30.0  \n",
      "1                     9.0  \n",
      "2                     2.0  \n",
      "3                    10.0  \n",
      "4                    17.0  \n"
     ]
    }
   ],
   "source": [
    "# mostrar información del DataFrame\n",
    "instacart_orders.info()\n",
    "print()\n",
    "print(instacart_orders.head())"
   ]
  },
  {
   "cell_type": "code",
   "execution_count": 4,
   "id": "5130e05e",
   "metadata": {
    "id": "5130e05e"
   },
   "outputs": [
    {
     "name": "stdout",
     "output_type": "stream",
     "text": [
      "<class 'pandas.core.frame.DataFrame'>\n",
      "RangeIndex: 49694 entries, 0 to 49693\n",
      "Data columns (total 4 columns):\n",
      " #   Column         Non-Null Count  Dtype \n",
      "---  ------         --------------  ----- \n",
      " 0   product_id     49694 non-null  int64 \n",
      " 1   product_name   48436 non-null  object\n",
      " 2   aisle_id       49694 non-null  int64 \n",
      " 3   department_id  49694 non-null  int64 \n",
      "dtypes: int64(3), object(1)\n",
      "memory usage: 1.5+ MB\n",
      "\n",
      "   product_id                                       product_name  aisle_id  \\\n",
      "0           1                         Chocolate Sandwich Cookies        61   \n",
      "1           2                                   All-Seasons Salt       104   \n",
      "2           3               Robust Golden Unsweetened Oolong Tea        94   \n",
      "3           4  Smart Ones Classic Favorites Mini Rigatoni Wit...        38   \n",
      "4           5                          Green Chile Anytime Sauce         5   \n",
      "\n",
      "   department_id  \n",
      "0             19  \n",
      "1             13  \n",
      "2              7  \n",
      "3              1  \n",
      "4             13  \n"
     ]
    }
   ],
   "source": [
    "# mostrar información del DataFrame\n",
    "products.info()\n",
    "print()\n",
    "print(products.head())"
   ]
  },
  {
   "cell_type": "code",
   "execution_count": 5,
   "id": "d8370c05",
   "metadata": {
    "id": "d8370c05"
   },
   "outputs": [
    {
     "name": "stdout",
     "output_type": "stream",
     "text": [
      "<class 'pandas.core.frame.DataFrame'>\n",
      "RangeIndex: 134 entries, 0 to 133\n",
      "Data columns (total 2 columns):\n",
      " #   Column    Non-Null Count  Dtype \n",
      "---  ------    --------------  ----- \n",
      " 0   aisle_id  134 non-null    int64 \n",
      " 1   aisle     134 non-null    object\n",
      "dtypes: int64(1), object(1)\n",
      "memory usage: 2.2+ KB\n",
      "\n",
      "   aisle_id                       aisle\n",
      "0         1       prepared soups salads\n",
      "1         2           specialty cheeses\n",
      "2         3         energy granola bars\n",
      "3         4               instant foods\n",
      "4         5  marinades meat preparation\n"
     ]
    }
   ],
   "source": [
    "# mostrar información del DataFrame\n",
    "aisles.info()\n",
    "print()\n",
    "print(aisles.head())"
   ]
  },
  {
   "cell_type": "code",
   "execution_count": 6,
   "id": "59e2090f",
   "metadata": {
    "id": "59e2090f"
   },
   "outputs": [
    {
     "name": "stdout",
     "output_type": "stream",
     "text": [
      "<class 'pandas.core.frame.DataFrame'>\n",
      "RangeIndex: 21 entries, 0 to 20\n",
      "Data columns (total 2 columns):\n",
      " #   Column         Non-Null Count  Dtype \n",
      "---  ------         --------------  ----- \n",
      " 0   department_id  21 non-null     int64 \n",
      " 1   department     21 non-null     object\n",
      "dtypes: int64(1), object(1)\n",
      "memory usage: 464.0+ bytes\n",
      "\n",
      "    department_id       department\n",
      "0               1           frozen\n",
      "1               2            other\n",
      "2               3           bakery\n",
      "3               4          produce\n",
      "4               5          alcohol\n",
      "5               6    international\n",
      "6               7        beverages\n",
      "7               8             pets\n",
      "8               9  dry goods pasta\n",
      "9              10             bulk\n",
      "10             11    personal care\n",
      "11             12     meat seafood\n",
      "12             13           pantry\n",
      "13             14        breakfast\n",
      "14             15     canned goods\n",
      "15             16       dairy eggs\n",
      "16             17        household\n",
      "17             18           babies\n",
      "18             19           snacks\n",
      "19             20             deli\n",
      "20             21          missing\n"
     ]
    }
   ],
   "source": [
    "# mostrar información del DataFrame\n",
    "departments.info()\n",
    "print()\n",
    "print(departments)"
   ]
  },
  {
   "cell_type": "code",
   "execution_count": 7,
   "id": "6fc81694",
   "metadata": {
    "id": "6fc81694"
   },
   "outputs": [
    {
     "name": "stdout",
     "output_type": "stream",
     "text": [
      "<class 'pandas.core.frame.DataFrame'>\n",
      "RangeIndex: 4545007 entries, 0 to 4545006\n",
      "Data columns (total 4 columns):\n",
      " #   Column             Dtype  \n",
      "---  ------             -----  \n",
      " 0   order_id           int64  \n",
      " 1   product_id         int64  \n",
      " 2   add_to_cart_order  float64\n",
      " 3   reordered          int64  \n",
      "dtypes: float64(1), int64(3)\n",
      "memory usage: 138.7 MB\n",
      "\n",
      "   order_id  product_id  add_to_cart_order  reordered\n",
      "0   2141543       11440               17.0          0\n",
      "1    567889        1560                1.0          1\n",
      "2   2261212       26683                1.0          1\n",
      "3    491251        8670               35.0          1\n",
      "4   2571142        1940                5.0          1\n"
     ]
    }
   ],
   "source": [
    "# mostrar información del DataFrame\n",
    "order_products.info()\n",
    "print()\n",
    "print(order_products.head())"
   ]
  },
  {
   "cell_type": "markdown",
   "id": "eadd9d14",
   "metadata": {},
   "source": [
    "<div class=\"alert alert-block alert-success\">\n",
    "<b>Comentario del revisor</b> <a class=\"tocSkip\"></a>\n",
    "\n",
    "Robert, excelente trabajo con el uso de info() para mostrar la información general de las bases con las que vamos a trabajr"
   ]
  },
  {
   "cell_type": "markdown",
   "id": "t75BD19oaR5f",
   "metadata": {
    "id": "t75BD19oaR5f"
   },
   "source": [
    "## Conclusiones\n",
    "\n",
    "Escribe aquí tus conclusiones intermedias sobre el Paso 1. Descripción de los datos.\n",
    "\n",
    "Debido a que encontré una sola columna para el DataFrame y me di cuenta de un conjunto de cadenas estaban separadas por \";\" tuve que incluir el parametro \"sep\" con su argumento \";\" para indicar al método pd.read_csv() que cada columna no esta separado por comas sino por \";\".\n",
    "La mayoria de los objetos cadena estan escrito en snake_case a excepción de los nombres de los productos. Más adelante me daré cuenta de si es necesario también cambiarlos a snake_case.\n",
    "Las columnas llamadas days_since_prior_order y add_to_cart_order que indican el número de días transcurridos desde la orden anterior y la secuencia en que el producto fue añadido al carrito, respectivamente, estan innecesariamente definidas como variables de tipo float64 cuando bastaría que fueran variables int, puesto que no tendría mucho sentido que tuvieran decimales. "
   ]
  },
  {
   "cell_type": "markdown",
   "id": "8RJHqxVmaVsF",
   "metadata": {
    "id": "8RJHqxVmaVsF"
   },
   "source": [
    "# Paso 2. Preprocesamiento de los datos\n",
    "\n",
    "Preprocesa los datos de la siguiente manera:\n",
    "\n",
    "- Verifica y corrige los tipos de datos (por ejemplo, asegúrate de que las columnas de ID sean números enteros).\n",
    "- Identifica y completa los valores ausentes.\n",
    "- Identifica y elimina los valores duplicados.\n",
    "\n",
    "Asegúrate de explicar qué tipos de valores ausentes y duplicados encontraste, cómo los completaste o eliminaste y por qué usaste esos métodos. ¿Por qué crees que estos valores ausentes y duplicados pueden haber estado presentes en el conjunto de datos?"
   ]
  },
  {
   "cell_type": "markdown",
   "id": "p6poABZQaZYb",
   "metadata": {
    "id": "p6poABZQaZYb"
   },
   "source": [
    "## Plan de solución\n",
    "\n",
    "Escribe aquí tu plan para el Paso 2. Preprocesamiento de los datos."
   ]
  },
  {
   "cell_type": "markdown",
   "id": "07357848-dc64-4156-9cc3-01ff4365226d",
   "metadata": {
    "id": "07357848-dc64-4156-9cc3-01ff4365226d"
   },
   "source": [
    "## Encuentra y elimina los valores duplicados (y describe cómo tomaste tus decisiones)."
   ]
  },
  {
   "cell_type": "markdown",
   "id": "f179f0a9",
   "metadata": {
    "id": "f179f0a9"
   },
   "source": [
    "### `instacart_orders` data frame"
   ]
  },
  {
   "cell_type": "code",
   "execution_count": 8,
   "id": "b99297a5-405a-463d-8535-9adc3da4ad74",
   "metadata": {
    "id": "b99297a5-405a-463d-8535-9adc3da4ad74"
   },
   "outputs": [
    {
     "name": "stdout",
     "output_type": "stream",
     "text": [
      "15\n",
      "        order_id  user_id  order_number  order_dow  order_hour_of_day  \\\n",
      "30371    1918001   188546            14          3                  2   \n",
      "99462     794638    50898            24          3                  2   \n",
      "119251    408114    68324             4          3                  2   \n",
      "142258   2845099    31189            11          3                  2   \n",
      "145574    794638    50898            24          3                  2   \n",
      "164581   1112182   202304            84          3                  2   \n",
      "200059   1782114   106752             1          3                  2   \n",
      "204042   2125197    14050            48          3                  2   \n",
      "215294   2160484   107525            16          3                  2   \n",
      "223105   2160484   107525            16          3                  2   \n",
      "230807   1918001   188546            14          3                  2   \n",
      "242618   1021560    53767             3          3                  2   \n",
      "250626    467134    63189            21          3                  2   \n",
      "257934   1919531   191501            32          3                  2   \n",
      "259636   2282673    86751            49          3                  2   \n",
      "266232   1782114   106752             1          3                  2   \n",
      "273805   1112182   202304            84          3                  2   \n",
      "284038   2845099    31189            11          3                  2   \n",
      "311713   1021560    53767             3          3                  2   \n",
      "314427   1286742   183220            48          3                  2   \n",
      "321100    408114    68324             4          3                  2   \n",
      "323900   1919531   191501            32          3                  2   \n",
      "324868   2232988    82565             1          3                  2   \n",
      "345917   2232988    82565             1          3                  2   \n",
      "354993    391768    57671            19          3                  2   \n",
      "371905    391768    57671            19          3                  2   \n",
      "394347    467134    63189            21          3                  2   \n",
      "411408   1286742   183220            48          3                  2   \n",
      "415163   2282673    86751            49          3                  2   \n",
      "441599   2125197    14050            48          3                  2   \n",
      "\n",
      "        days_since_prior_order  \n",
      "30371                     16.0  \n",
      "99462                      2.0  \n",
      "119251                    18.0  \n",
      "142258                     7.0  \n",
      "145574                     2.0  \n",
      "164581                     6.0  \n",
      "200059                     NaN  \n",
      "204042                     3.0  \n",
      "215294                    30.0  \n",
      "223105                    30.0  \n",
      "230807                    16.0  \n",
      "242618                     9.0  \n",
      "250626                     2.0  \n",
      "257934                     7.0  \n",
      "259636                     2.0  \n",
      "266232                     NaN  \n",
      "273805                     6.0  \n",
      "284038                     7.0  \n",
      "311713                     9.0  \n",
      "314427                     4.0  \n",
      "321100                    18.0  \n",
      "323900                     7.0  \n",
      "324868                     NaN  \n",
      "345917                     NaN  \n",
      "354993                    10.0  \n",
      "371905                    10.0  \n",
      "394347                     2.0  \n",
      "411408                     4.0  \n",
      "415163                     2.0  \n",
      "441599                     3.0  \n"
     ]
    }
   ],
   "source": [
    "# Revisa si hay pedidos duplicados\n",
    "print(instacart_orders.duplicated().sum())\n",
    "duplicated_instacart_orders = instacart_orders[instacart_orders.duplicated(keep=False)]\n",
    "\n",
    "print(duplicated_instacart_orders)"
   ]
  },
  {
   "cell_type": "markdown",
   "id": "PEkwUX_gvt5A",
   "metadata": {
    "id": "PEkwUX_gvt5A"
   },
   "source": [
    "¿Tienes líneas duplicadas? Si sí, ¿qué tienen en común?\n",
    "Sí, las entradas duplicadas fueron generadas en días miércoles a las 2 AM"
   ]
  },
  {
   "cell_type": "code",
   "execution_count": 9,
   "id": "0d44de5d",
   "metadata": {
    "id": "0d44de5d"
   },
   "outputs": [
    {
     "name": "stdout",
     "output_type": "stream",
     "text": [
      "        order_id  user_id  order_number  order_dow  order_hour_of_day  \\\n",
      "4838     2766110   162084            41          3                  2   \n",
      "5156     2190225   138285            18          3                  2   \n",
      "15506     553049    58599            13          3                  2   \n",
      "18420     382357   120200            19          3                  2   \n",
      "24691     690242    77357             2          3                  2   \n",
      "...          ...      ...           ...        ...                ...   \n",
      "457013   3384021    14881             6          3                  2   \n",
      "458816    910166   164782            18          3                  2   \n",
      "459635   1680532   106435             6          3                  2   \n",
      "468324    222962    54979            59          3                  2   \n",
      "477526   2592344    46860            38          3                  2   \n",
      "\n",
      "        days_since_prior_order  \n",
      "4838                      16.0  \n",
      "5156                      11.0  \n",
      "15506                      7.0  \n",
      "18420                     11.0  \n",
      "24691                      9.0  \n",
      "...                        ...  \n",
      "457013                    30.0  \n",
      "458816                     4.0  \n",
      "459635                    21.0  \n",
      "468324                     3.0  \n",
      "477526                     3.0  \n",
      "\n",
      "[121 rows x 6 columns]\n",
      "\n",
      "order_id                  121\n",
      "user_id                   121\n",
      "order_number              121\n",
      "order_dow                 121\n",
      "order_hour_of_day         121\n",
      "days_since_prior_order    114\n",
      "dtype: int64\n"
     ]
    }
   ],
   "source": [
    "# Basándote en tus hallazgos,\n",
    "# Verifica todos los pedidos que se hicieron el miércoles a las 2:00 a.m.\n",
    "print(instacart_orders[(instacart_orders['order_dow']==3) & (instacart_orders['order_hour_of_day']==2)])\n",
    "print()\n",
    "print(instacart_orders[(instacart_orders['order_dow']==3) & (instacart_orders['order_hour_of_day']==2)].count())"
   ]
  },
  {
   "cell_type": "markdown",
   "id": "vu2OWyoqwOx5",
   "metadata": {
    "id": "vu2OWyoqwOx5"
   },
   "source": [
    "¿Qué sugiere este resultado?\n",
    "Poco más del 10% de las ordenes que se generan los días miércoles a las 2 AM generan erroneamente entradas duplicadas."
   ]
  },
  {
   "cell_type": "code",
   "execution_count": 10,
   "id": "480563c7",
   "metadata": {
    "id": "480563c7"
   },
   "outputs": [],
   "source": [
    "# Elimina los pedidos duplicados\n",
    "instacart_orders = instacart_orders.drop_duplicates().reset_index(drop=True)"
   ]
  },
  {
   "cell_type": "code",
   "execution_count": 11,
   "id": "0b2396a2",
   "metadata": {
    "id": "0b2396a2"
   },
   "outputs": [
    {
     "name": "stdout",
     "output_type": "stream",
     "text": [
      "0\n"
     ]
    }
   ],
   "source": [
    "# Vuelve a verificar si hay filas duplicadas\n",
    "print(instacart_orders.duplicated().sum())"
   ]
  },
  {
   "cell_type": "code",
   "execution_count": 12,
   "id": "f6113ef1",
   "metadata": {
    "id": "f6113ef1"
   },
   "outputs": [
    {
     "name": "stdout",
     "output_type": "stream",
     "text": [
      "0\n"
     ]
    }
   ],
   "source": [
    "# Vuelve a verificar si hay IDs duplicados de pedidos\n",
    "print(instacart_orders['order_id'].duplicated().sum())"
   ]
  },
  {
   "cell_type": "markdown",
   "id": "5e8905ae",
   "metadata": {
    "id": "5e8905ae"
   },
   "source": [
    "Describe brevemente tus hallazgos y lo que hiciste con ellos\n",
    "Busqué y encontré que sí había datos duplicados en el DataFrame instacart_orders.\n",
    "Revisé los datos comunes de las entradas duplicadas para hallar un patrón.\n",
    "Obtuve conclusiones del patrón encontrado para informarlo al ingeniero de datos y que tome medidas correctivas.\n",
    "Eliminé ciertamente las entradas duplicadas, pues no tiene sentido que un número de pedido se encuentre más de una vez, pues debería ser único.\n",
    "Verifiqué nuevamente si habían entradas duplicadas después de su eliminación.\n",
    "Busqué especificamente entradas duplicadas para la columna \"order_id\" que debería tener solo valores únicos."
   ]
  },
  {
   "cell_type": "markdown",
   "id": "35b6014d",
   "metadata": {},
   "source": [
    "<div class=\"alert alert-block alert-success\">\n",
    "<b>Comentario del revisor</b> <a class=\"tocSkip\"></a>\n",
    "\n",
    "Muy buen trabajo!! Desarrollaste de manera excelente el análisis de duplicados y eliminaste esos casos. \n",
    "    \n",
    "</div>"
   ]
  },
  {
   "cell_type": "markdown",
   "id": "45e6bc46",
   "metadata": {
    "id": "45e6bc46"
   },
   "source": [
    "### `products` data frame"
   ]
  },
  {
   "cell_type": "code",
   "execution_count": 13,
   "id": "5f526b5b-8175-46fa-a0fd-441767d50e64",
   "metadata": {
    "id": "5f526b5b-8175-46fa-a0fd-441767d50e64"
   },
   "outputs": [
    {
     "name": "stdout",
     "output_type": "stream",
     "text": [
      "0\n",
      "Empty DataFrame\n",
      "Columns: [product_id, product_name, aisle_id, department_id]\n",
      "Index: []\n"
     ]
    }
   ],
   "source": [
    "# Verifica si hay filas totalmente duplicadas\n",
    "print(products.duplicated().sum())\n",
    "duplicated_products = products[products.duplicated(keep=False)]\n",
    "\n",
    "print(duplicated_products)"
   ]
  },
  {
   "cell_type": "code",
   "execution_count": 14,
   "id": "88daa4f4",
   "metadata": {
    "id": "88daa4f4"
   },
   "outputs": [
    {
     "name": "stdout",
     "output_type": "stream",
     "text": [
      "0\n",
      "\n",
      "Empty DataFrame\n",
      "Columns: [product_id, product_name, aisle_id, department_id]\n",
      "Index: []\n"
     ]
    }
   ],
   "source": [
    "# Verifica si hay IDs duplicadas de productos\n",
    "print(products['product_id'].duplicated().sum())\n",
    "print()\n",
    "print(products[products['product_id'].duplicated(keep=False)])"
   ]
  },
  {
   "cell_type": "code",
   "execution_count": 15,
   "id": "c773f0bf",
   "metadata": {
    "id": "c773f0bf"
   },
   "outputs": [
    {
     "name": "stdout",
     "output_type": "stream",
     "text": [
      "1361\n",
      "\n",
      "       product_id                                     product_name  aisle_id  \\\n",
      "37             38                                              NaN       100   \n",
      "41             42                                  BIOTIN 1000 MCG        47   \n",
      "71             72                                              NaN       100   \n",
      "109           110                                              NaN       100   \n",
      "185           186       FRESH SCENT DISHWASHER DETERGENT WITH DAWN        74   \n",
      "...           ...                                              ...       ...   \n",
      "49689       49690                    HIGH PERFORMANCE ENERGY DRINK        64   \n",
      "49690       49691                    ORIGINAL PANCAKE & WAFFLE MIX       130   \n",
      "49691       49692  ORGANIC INSTANT OATMEAL LIGHT MAPLE BROWN SUGAR       130   \n",
      "49692       49693                           SPRING WATER BODY WASH       127   \n",
      "49693       49694                          BURRITO- STEAK & CHEESE        38   \n",
      "\n",
      "       department_id  \n",
      "37                21  \n",
      "41                11  \n",
      "71                21  \n",
      "109               21  \n",
      "185               17  \n",
      "...              ...  \n",
      "49689              7  \n",
      "49690             14  \n",
      "49691             14  \n",
      "49692             11  \n",
      "49693              1  \n",
      "\n",
      "[1465 rows x 4 columns]\n"
     ]
    }
   ],
   "source": [
    "# Revisa si hay nombres duplicados de productos (convierte los nombres a letras mayúsculas para compararlos mejor)\n",
    "products['product_name'] = products['product_name'].str.upper()\n",
    "print(products['product_name'].duplicated().sum())\n",
    "print()\n",
    "print(products[products['product_name'].duplicated(keep=False)])"
   ]
  },
  {
   "cell_type": "code",
   "execution_count": 16,
   "id": "01efd02e",
   "metadata": {
    "id": "01efd02e"
   },
   "outputs": [
    {
     "name": "stdout",
     "output_type": "stream",
     "text": [
      "104\n",
      "\n",
      "       product_id                                     product_name  aisle_id  \\\n",
      "2058         2059                                  BIOTIN 1000 MCG        47   \n",
      "5455         5456                 GREEN TEA WITH GINSENG AND HONEY        96   \n",
      "5558         5559                           CREAM OF MUSHROOM SOUP        69   \n",
      "7558         7559                        CINNAMON ROLLS WITH ICING       105   \n",
      "9037         9038                           AMERICAN CHEESE SLICES        21   \n",
      "...           ...                                              ...       ...   \n",
      "49689       49690                    HIGH PERFORMANCE ENERGY DRINK        64   \n",
      "49690       49691                    ORIGINAL PANCAKE & WAFFLE MIX       130   \n",
      "49691       49692  ORGANIC INSTANT OATMEAL LIGHT MAPLE BROWN SUGAR       130   \n",
      "49692       49693                           SPRING WATER BODY WASH       127   \n",
      "49693       49694                          BURRITO- STEAK & CHEESE        38   \n",
      "\n",
      "       department_id  \n",
      "2058              11  \n",
      "5455              20  \n",
      "5558              15  \n",
      "7558              13  \n",
      "9037              16  \n",
      "...              ...  \n",
      "49689              7  \n",
      "49690             14  \n",
      "49691             14  \n",
      "49692             11  \n",
      "49693              1  \n",
      "\n",
      "[104 rows x 4 columns]\n"
     ]
    }
   ],
   "source": [
    "# Revisa si hay nombres duplicados de productos no faltantes\n",
    "print(((products['product_name'].duplicated()) & (~ products['product_name'].isna())).sum())\n",
    "print()\n",
    "print(products[(products['product_name'].duplicated()) & (~ products['product_name'].isna())])"
   ]
  },
  {
   "cell_type": "markdown",
   "id": "8ec9843f",
   "metadata": {},
   "source": [
    "<div class=\"alert alert-block alert-danger\">\n",
    "<b>Comentario del revisor</b> <a class=\"tocSkip\"></a>\n",
    "\n",
    "Excelente trabajo! Solamente la verificación de duplicados te recomiendo hacerla sobre la varialble de nombre del producto. Para esto te puedes guiar del siguiente ejemplo:\n",
    "    \n",
    "    products[(~products['product_name'].isna()) & products['product_name'].duplicated()]\n",
    "    \n",
    "</div>"
   ]
  },
  {
   "cell_type": "markdown",
   "id": "afd3f771",
   "metadata": {},
   "source": [
    "<div class=\"alert alert-block alert-info\">\n",
    "<b>Respuesta del estudiante.</b> <a class=\"tocSkip\"></a>\n",
    "    No entiendo la correción que debo hacer. El código que me sugieres es el mismo que tengo en la línea de código anterior, con la única diferencia de que las dos condiciones lógicas están en diferente órden, pero de cualquier forma arrojaría el mismo resultado.\n",
    "</div> "
   ]
  },
  {
   "cell_type": "markdown",
   "id": "a10c225e",
   "metadata": {},
   "source": [
    "<div class=\"alert alert-block alert-danger\">\n",
    "<b>Comentario del revisor</b> <a class=\"tocSkip\"></a>\n",
    "\n",
    "Hola, Robert. Justamente tienes el mismo código, solamente que recuerda que en el paso anterior el ejercicio nos pedía poner los nombres en mayúsculas. En este sentido en este apartado debes de analizar sobre estos nombres en mayúsculas. Te puedes guiar del ejemplo:\n",
    "    \n",
    "    print(((products['product_name'].str.upper().duplicated()) & (~ products['product_name'].str.upper().isna())).sum())"
   ]
  },
  {
   "cell_type": "markdown",
   "id": "42675e7b",
   "metadata": {},
   "source": [
    "\n",
    "<div class=\"alert alert-block alert-info\">\n",
    "<b>Respuesta del estudiante.</b> <a class=\"tocSkip\"></a>\n",
    " En ese caso de esta otra correción que haces, me parece mejor utilizar el método str.upper() reasignando los valores para la columna original. Fue justamente la modificación que hice.\n",
    "</div>"
   ]
  },
  {
   "cell_type": "markdown",
   "id": "04af784d",
   "metadata": {},
   "source": [
    "<div class=\"alert alert-block alert-success\">\n",
    "<b>Comentario del revisor</b> <a class=\"tocSkip\"></a>\n",
    "\n",
    "Excelente trabajo con el ajuste, como comestas usar el método de str.upper() es correcto. "
   ]
  },
  {
   "cell_type": "markdown",
   "id": "9da8d293",
   "metadata": {
    "id": "9da8d293"
   },
   "source": [
    "Describe brevemente tus hallazgos y lo que hiciste con ellos.\n",
    "Busqué si existían entradas totalmente duplicadas así como duplicados para las columnas 'product_id' y 'product_name'.\n",
    "De éstos, la columna 'product_name' tiene datos duplicados únicamente de tipo \"NaN\"."
   ]
  },
  {
   "cell_type": "markdown",
   "id": "60f30db1",
   "metadata": {
    "id": "60f30db1"
   },
   "source": [
    "### `departments` data frame"
   ]
  },
  {
   "cell_type": "code",
   "execution_count": 17,
   "id": "fb410ad4-0fbf-4b80-bb09-23fdea79afe3",
   "metadata": {
    "id": "fb410ad4-0fbf-4b80-bb09-23fdea79afe3"
   },
   "outputs": [
    {
     "name": "stdout",
     "output_type": "stream",
     "text": [
      "0\n",
      "\n",
      " Empty DataFrame\n",
      "Columns: [department_id, department]\n",
      "Index: []\n"
     ]
    }
   ],
   "source": [
    "# Revisa si hay filas totalmente duplicadas\n",
    "print(departments.duplicated().sum())\n",
    "duplicated_deparments = departments[departments.duplicated(keep=False)]\n",
    "\n",
    "print(\"\\n\", duplicated_deparments)"
   ]
  },
  {
   "cell_type": "code",
   "execution_count": 18,
   "id": "332b12bb",
   "metadata": {
    "id": "332b12bb"
   },
   "outputs": [
    {
     "name": "stdout",
     "output_type": "stream",
     "text": [
      "0\n",
      "\n",
      " Empty DataFrame\n",
      "Columns: [department_id, department]\n",
      "Index: []\n"
     ]
    }
   ],
   "source": [
    "# Revisa si hay IDs duplicadas de productos\n",
    "print(departments['department_id'].duplicated().sum())\n",
    "print(\"\\n\", departments[departments['department_id'].duplicated(keep=False)])"
   ]
  },
  {
   "cell_type": "markdown",
   "id": "bd30d78e",
   "metadata": {
    "id": "bd30d78e"
   },
   "source": [
    "Describe brevemente tus hallazgos y lo que hiciste con ellos.\n",
    "Busqué y no encontré ninguna entrada duplicada para el DataFrame departments ni para su columna department_id."
   ]
  },
  {
   "cell_type": "markdown",
   "id": "889349c1",
   "metadata": {
    "id": "889349c1"
   },
   "source": [
    "### `aisles` data frame"
   ]
  },
  {
   "cell_type": "code",
   "execution_count": 19,
   "id": "9da89fb9-4679-40f5-ad0d-c34df753a3f8",
   "metadata": {
    "id": "9da89fb9-4679-40f5-ad0d-c34df753a3f8"
   },
   "outputs": [
    {
     "name": "stdout",
     "output_type": "stream",
     "text": [
      "0\n",
      "\n",
      " Empty DataFrame\n",
      "Columns: [aisle_id, aisle]\n",
      "Index: []\n"
     ]
    }
   ],
   "source": [
    "# Revisa si hay filas totalmente duplicadas\n",
    "print(aisles.duplicated().sum())\n",
    "duplicated_aisles = aisles[aisles.duplicated(keep=False)]\n",
    "\n",
    "print(\"\\n\", duplicated_aisles)"
   ]
  },
  {
   "cell_type": "code",
   "execution_count": 20,
   "id": "da7c2822",
   "metadata": {
    "id": "da7c2822"
   },
   "outputs": [
    {
     "name": "stdout",
     "output_type": "stream",
     "text": [
      "0\n",
      "\n",
      " Empty DataFrame\n",
      "Columns: [aisle_id, aisle]\n",
      "Index: []\n"
     ]
    }
   ],
   "source": [
    "# Revisa si hay IDs duplicadas de productos\n",
    "print(aisles['aisle_id'].duplicated().sum())\n",
    "print('\\n', aisles[aisles['aisle_id'].duplicated(keep=False)])"
   ]
  },
  {
   "cell_type": "markdown",
   "id": "ac63826f",
   "metadata": {
    "id": "ac63826f"
   },
   "source": [
    "Describe brevemente tus hallazgos y lo que hiciste con ellos.\n",
    "Busqué y no encontré ninguna entrada duplicada para el DataFrame aisles ni para su columna aisle_id."
   ]
  },
  {
   "cell_type": "markdown",
   "id": "274cd06a",
   "metadata": {
    "id": "274cd06a"
   },
   "source": [
    "### `order_products` data frame"
   ]
  },
  {
   "cell_type": "code",
   "execution_count": 21,
   "id": "52326689-84a8-4b8f-a881-7c68780f62c9",
   "metadata": {
    "id": "52326689-84a8-4b8f-a881-7c68780f62c9"
   },
   "outputs": [
    {
     "name": "stdout",
     "output_type": "stream",
     "text": [
      "0\n",
      "\n",
      " Empty DataFrame\n",
      "Columns: [order_id, product_id, add_to_cart_order, reordered]\n",
      "Index: []\n"
     ]
    }
   ],
   "source": [
    "# Revisa si hay filas totalmente duplicadas\n",
    "print(order_products.duplicated().sum())\n",
    "duplicated_order_products = order_products[order_products.duplicated(keep=False)]\n",
    "print(\"\\n\", duplicated_order_products)"
   ]
  },
  {
   "cell_type": "code",
   "execution_count": 22,
   "id": "7b861391",
   "metadata": {
    "id": "7b861391"
   },
   "outputs": [
    {
     "name": "stdout",
     "output_type": "stream",
     "text": [
      "4094961\n",
      "4499434\n",
      "4544942\n",
      "4545005\n"
     ]
    }
   ],
   "source": [
    "# Vuelve a verificar si hay cualquier otro duplicado engañoso\n",
    "print(order_products['order_id'].duplicated().sum())\n",
    "print(order_products['product_id'].duplicated().sum())\n",
    "print(order_products['add_to_cart_order'].duplicated().sum())\n",
    "print(order_products['reordered'].duplicated().sum())"
   ]
  },
  {
   "cell_type": "markdown",
   "id": "0b890492",
   "metadata": {
    "id": "0b890492"
   },
   "source": [
    "Describe brevemente tus hallazgos y lo que hiciste con ellos.\n",
    "No se encontraron valores totalmente duplicados para el DataFrame \"order_products\". Analianzod este DataFrame por cada columna individual, claro que se encontraron muchos valores duplicados pero éstos no se asocian con errores. Lo anterior debido a que cada fila muestra un producto que ordenó en un pedido. Por ello \"order_id\" puede y está repetido ya que puede haber varios productos en una misma orden. \"product_id\" también puede y está repetido porque un producto puede comprarse en diferentes órdenes. \"add_to_cart_order\" también puede y está repetido porque refleja la secuencia en que un producto se coloco en una órden y ésta secuencia se reinicia con cada pedido diferente. Finalmente, \"reordered\" también puede y está repetido porque muestra el valor 1 si se trata de una recompra o 0 en caso contrario, por ello estos valores pueden repetirse facilmente."
   ]
  },
  {
   "cell_type": "markdown",
   "id": "1e46de76",
   "metadata": {
    "id": "1e46de76"
   },
   "source": [
    "## Encuentra y elimina los valores ausentes\n",
    "\n",
    "Al trabajar con valores duplicados, pudimos observar que también nos falta investigar valores ausentes:\n",
    "\n",
    "* La columna `'product_name'` de la tabla products.\n",
    "* La columna `'days_since_prior_order'` de la tabla orders.\n",
    "* La columna `'add_to_cart_order'` de la tabla order_productos."
   ]
  },
  {
   "cell_type": "markdown",
   "id": "c0aebd78",
   "metadata": {
    "id": "c0aebd78"
   },
   "source": [
    "### `products` data frame"
   ]
  },
  {
   "cell_type": "code",
   "execution_count": 23,
   "id": "fe4a8b0f",
   "metadata": {
    "id": "fe4a8b0f"
   },
   "outputs": [
    {
     "name": "stdout",
     "output_type": "stream",
     "text": [
      "<class 'pandas.core.frame.DataFrame'>\n",
      "RangeIndex: 49694 entries, 0 to 49693\n",
      "Data columns (total 4 columns):\n",
      " #   Column         Non-Null Count  Dtype \n",
      "---  ------         --------------  ----- \n",
      " 0   product_id     49694 non-null  int64 \n",
      " 1   product_name   48436 non-null  object\n",
      " 2   aisle_id       49694 non-null  int64 \n",
      " 3   department_id  49694 non-null  int64 \n",
      "dtypes: int64(3), object(1)\n",
      "memory usage: 1.5+ MB\n",
      "\n",
      " 1258\n"
     ]
    }
   ],
   "source": [
    "# Encuentra los valores ausentes en la columna 'product_name'\n",
    "products.info()\n",
    "print(\"\\n\",products['product_name'].isna().sum())"
   ]
  },
  {
   "cell_type": "markdown",
   "id": "-A6x1AbJhjkp",
   "metadata": {
    "id": "-A6x1AbJhjkp"
   },
   "source": [
    "Describe brevemente cuáles son tus hallazgos.\n",
    "Existen 1,258 valores ausentes en la columna \"product_name\""
   ]
  },
  {
   "cell_type": "code",
   "execution_count": 24,
   "id": "e96167bc",
   "metadata": {
    "id": "e96167bc"
   },
   "outputs": [
    {
     "name": "stdout",
     "output_type": "stream",
     "text": [
      "0\n",
      "\n",
      " 1258\n"
     ]
    }
   ],
   "source": [
    "#  ¿Todos los nombres de productos ausentes están relacionados con el pasillo con ID 100?\n",
    "print(((products['product_name'].isna()) & ~(products['aisle_id']==100)).sum())\n",
    "print(\"\\n\", ((products['product_name'].isna()) & (products['aisle_id']==100)).sum())"
   ]
  },
  {
   "cell_type": "markdown",
   "id": "WRpIfXRphpSL",
   "metadata": {
    "id": "WRpIfXRphpSL"
   },
   "source": [
    "Describe brevemente cuáles son tus hallazgos.\n",
    "Busque y no encontré algun dato ausente que no estuviera relacionado con el pasillo 100.\n",
    "Para confirmar mi hallazgo busqué y encontré todos los datos ausentes de los 1,258 en total pertenecen al pasillo 100"
   ]
  },
  {
   "cell_type": "code",
   "execution_count": 25,
   "id": "8fd0a541",
   "metadata": {
    "id": "8fd0a541"
   },
   "outputs": [
    {
     "name": "stdout",
     "output_type": "stream",
     "text": [
      "0\n",
      "\n",
      " 1258\n"
     ]
    }
   ],
   "source": [
    "# ¿Todos los nombres de productos ausentes están relacionados con el departamento con ID 21?\n",
    "print(((products['product_name'].isna()) & ~(products['department_id']==21)).sum())\n",
    "print(\"\\n\", ((products['product_name'].isna()) & (products['department_id']==21)).sum())"
   ]
  },
  {
   "cell_type": "markdown",
   "id": "qDpdYn1Fht_I",
   "metadata": {
    "id": "qDpdYn1Fht_I"
   },
   "source": [
    "Describe brevemente cuáles son tus hallazgos.\n",
    "Busque y no encontré algun dato ausente que no estuviera relacionado con el departamento 21.\n",
    "Para confirmar mi hallazgo busqué y encontré todos los datos ausentes de los 1,258 en total pertenecen al departamento 21. Seguramente todos los productos del pasillo 100 pertenecen al departamento 21."
   ]
  },
  {
   "cell_type": "code",
   "execution_count": 26,
   "id": "325c3464",
   "metadata": {
    "id": "325c3464"
   },
   "outputs": [
    {
     "name": "stdout",
     "output_type": "stream",
     "text": [
      "<class 'pandas.core.frame.DataFrame'>\n",
      "RangeIndex: 21 entries, 0 to 20\n",
      "Data columns (total 2 columns):\n",
      " #   Column         Non-Null Count  Dtype \n",
      "---  ------         --------------  ----- \n",
      " 0   department_id  21 non-null     int64 \n",
      " 1   department     21 non-null     object\n",
      "dtypes: int64(1), object(1)\n",
      "memory usage: 464.0+ bytes\n",
      "\n",
      "\n",
      "<class 'pandas.core.frame.DataFrame'>\n",
      "RangeIndex: 134 entries, 0 to 133\n",
      "Data columns (total 2 columns):\n",
      " #   Column    Non-Null Count  Dtype \n",
      "---  ------    --------------  ----- \n",
      " 0   aisle_id  134 non-null    int64 \n",
      " 1   aisle     134 non-null    object\n",
      "dtypes: int64(1), object(1)\n",
      "memory usage: 2.2+ KB\n",
      "\n",
      "\n",
      "    department_id department\n",
      "20             21    missing\n",
      "\n",
      "\n",
      "    aisle_id    aisle\n",
      "99       100  missing\n"
     ]
    }
   ],
   "source": [
    "# Usa las tablas department y aisle para revisar los datos del pasillo con ID 100 y el departamento con ID 21.\n",
    "departments.info()\n",
    "print(\"\\n\")\n",
    "aisles.info()\n",
    "print(\"\\n\")\n",
    "print(departments[departments[\"department_id\"]==21])\n",
    "print(\"\\n\")\n",
    "print(aisles[aisles[\"aisle_id\"]==100])"
   ]
  },
  {
   "cell_type": "markdown",
   "id": "nqhSTUPhhvEJ",
   "metadata": {
    "id": "nqhSTUPhhvEJ"
   },
   "source": [
    "Describe brevemente cuáles son tus hallazgos.\n",
    "Me doy cuenta de que tanto el pasillo 100 como el departamento 21 tienen una denominación como 'perdido' o 'faltante'. Sin embargo, aún no entiendo del todo porque tendrían esta denominación si estos artículos aparecen en algunas órdenes de compra. Sigo desconociendo cual es el motivo de por qué no tienen nombre aún si estuvieran haciendo falta.\n"
   ]
  },
  {
   "cell_type": "code",
   "execution_count": 27,
   "id": "6b295120",
   "metadata": {
    "id": "6b295120"
   },
   "outputs": [
    {
     "name": "stdout",
     "output_type": "stream",
     "text": [
      "\n",
      " 0\n"
     ]
    }
   ],
   "source": [
    "# Completa los nombres de productos ausentes con 'Unknown'\n",
    "products.fillna('Unknown', inplace=True)\n",
    "print(\"\\n\", products['product_name'].isna().sum())"
   ]
  },
  {
   "cell_type": "markdown",
   "id": "fc70e5ad",
   "metadata": {
    "id": "fc70e5ad"
   },
   "source": [
    "Describe brevemente tus hallazgos y lo que hiciste con ellos.\n",
    "Busqué y encontre valores ausentes en el DataFrame \"products\". Me di cuenta de que pertenecian todos al pasillo y departamento denominado como \"missing\". Por ello, rellené estos valores ausentes con el valor de tipo object \"Unknown\"."
   ]
  },
  {
   "cell_type": "markdown",
   "id": "a2599154",
   "metadata": {},
   "source": [
    "\n",
    "<div class=\"alert alert-block alert-success\">\n",
    "<b>Comentario del revisor</b> <a class=\"tocSkip\"></a>\n",
    "\n",
    "Muy buen trabajo!! Desarrollaste de manera excelente el análisis de valores faltantes y los llenaste con \"unknown\".\n",
    "    \n",
    "</div>"
   ]
  },
  {
   "cell_type": "markdown",
   "id": "7eb45c86",
   "metadata": {
    "id": "7eb45c86"
   },
   "source": [
    "### `orders` data frame"
   ]
  },
  {
   "cell_type": "code",
   "execution_count": 28,
   "id": "93e41d96",
   "metadata": {
    "id": "93e41d96"
   },
   "outputs": [
    {
     "name": "stdout",
     "output_type": "stream",
     "text": [
      "<class 'pandas.core.frame.DataFrame'>\n",
      "RangeIndex: 478952 entries, 0 to 478951\n",
      "Data columns (total 6 columns):\n",
      " #   Column                  Non-Null Count   Dtype  \n",
      "---  ------                  --------------   -----  \n",
      " 0   order_id                478952 non-null  int64  \n",
      " 1   user_id                 478952 non-null  int64  \n",
      " 2   order_number            478952 non-null  int64  \n",
      " 3   order_dow               478952 non-null  int64  \n",
      " 4   order_hour_of_day       478952 non-null  int64  \n",
      " 5   days_since_prior_order  450135 non-null  float64\n",
      "dtypes: float64(1), int64(5)\n",
      "memory usage: 21.9 MB\n",
      "\n",
      " order_id                      0\n",
      "user_id                       0\n",
      "order_number                  0\n",
      "order_dow                     0\n",
      "order_hour_of_day             0\n",
      "days_since_prior_order    28817\n",
      "dtype: int64\n"
     ]
    }
   ],
   "source": [
    "# Encuentra los valores ausentes\n",
    "instacart_orders.info()\n",
    "print(\"\\n\", instacart_orders.isna().sum())"
   ]
  },
  {
   "cell_type": "code",
   "execution_count": 29,
   "id": "166e5a86",
   "metadata": {
    "id": "166e5a86"
   },
   "outputs": [
    {
     "name": "stdout",
     "output_type": "stream",
     "text": [
      "0\n",
      "28817\n"
     ]
    }
   ],
   "source": [
    "# ¿Hay algún valor ausente que no sea el primer pedido del cliente?\n",
    "print(((instacart_orders['order_number']!=1) & (instacart_orders['days_since_prior_order'].isna())).sum())\n",
    "print(((instacart_orders['order_number']==1) & (instacart_orders['days_since_prior_order'].isna())).sum())"
   ]
  },
  {
   "cell_type": "markdown",
   "id": "4e23d089",
   "metadata": {
    "id": "4e23d089"
   },
   "source": [
    "Describe brevemente tus hallazgos y lo que hiciste con ellos.\n",
    "No lo hay. Primero verifique por medio de dos condiciones, buscar valores ausentes que coincidan con la orden 1 del cliente y no encontré alguno. Después solamente para corroborar, utilice otras dos condiciones, valores ausentes y ordenes diferentes a la 1. Con este último código obtuve que todos los valores de los 28,817 fueron por órdenes primeras. Este hallazgo tiene sentido puesto que no hay días transcurridos desde una órden previa si es la primera vez que se ordena."
   ]
  },
  {
   "cell_type": "markdown",
   "id": "69dc9ca4",
   "metadata": {
    "id": "69dc9ca4"
   },
   "source": [
    "### `order_products` data frame"
   ]
  },
  {
   "cell_type": "code",
   "execution_count": 30,
   "id": "b8240253",
   "metadata": {
    "id": "b8240253"
   },
   "outputs": [
    {
     "name": "stdout",
     "output_type": "stream",
     "text": [
      "<class 'pandas.core.frame.DataFrame'>\n",
      "RangeIndex: 4545007 entries, 0 to 4545006\n",
      "Data columns (total 4 columns):\n",
      " #   Column             Dtype  \n",
      "---  ------             -----  \n",
      " 0   order_id           int64  \n",
      " 1   product_id         int64  \n",
      " 2   add_to_cart_order  float64\n",
      " 3   reordered          int64  \n",
      "dtypes: float64(1), int64(3)\n",
      "memory usage: 138.7 MB\n",
      "\n",
      " order_id               0\n",
      "product_id             0\n",
      "add_to_cart_order    836\n",
      "reordered              0\n",
      "dtype: int64\n"
     ]
    }
   ],
   "source": [
    "# Encuentra los valores ausentes\n",
    "order_products.info()\n",
    "print(\"\\n\", order_products.isna().sum())"
   ]
  },
  {
   "cell_type": "code",
   "execution_count": 31,
   "id": "9a78e5ee",
   "metadata": {
    "id": "9a78e5ee"
   },
   "outputs": [
    {
     "data": {
      "text/plain": [
       "count    4.544171e+06\n",
       "mean     8.351669e+00\n",
       "std      7.080368e+00\n",
       "min      1.000000e+00\n",
       "25%      3.000000e+00\n",
       "50%      6.000000e+00\n",
       "75%      1.100000e+01\n",
       "max      6.400000e+01\n",
       "Name: add_to_cart_order, dtype: float64"
      ]
     },
     "execution_count": 31,
     "metadata": {},
     "output_type": "execute_result"
    }
   ],
   "source": [
    "# ¿Cuáles son los valores mínimos y máximos en esta columna?\n",
    "order_products[\"add_to_cart_order\"].describe()"
   ]
  },
  {
   "cell_type": "markdown",
   "id": "-Z2Ja215jW78",
   "metadata": {
    "id": "-Z2Ja215jW78"
   },
   "source": [
    "Describe brevemente cuáles son tus hallazgos.\n",
    "El valor mínimo y máximo de la columna que representa la secuencia de colocación del producto en la órden es de 1 y 64, respectivamente."
   ]
  },
  {
   "cell_type": "code",
   "execution_count": 32,
   "id": "ab9d0c2b",
   "metadata": {
    "id": "ab9d0c2b"
   },
   "outputs": [
    {
     "name": "stdout",
     "output_type": "stream",
     "text": [
      "       order_id  product_id  add_to_cart_order  reordered\n",
      "737     2449164        5068                NaN          0\n",
      "9926    1968313       43867                NaN          0\n",
      "14394   2926893       11688                NaN          0\n",
      "16418   1717990        4142                NaN          0\n",
      "30114   1959075       42828                NaN          1\n"
     ]
    }
   ],
   "source": [
    "# Guarda todas las IDs de pedidos que tengan un valor ausente en 'add_to_cart_order'\n",
    "missing_add_to_cart_order_id = order_products[order_products['add_to_cart_order'].isna()]\n",
    "print(missing_add_to_cart_order_id.head())"
   ]
  },
  {
   "cell_type": "code",
   "execution_count": 33,
   "id": "54c31695",
   "metadata": {
    "id": "54c31695"
   },
   "outputs": [
    {
     "name": "stdout",
     "output_type": "stream",
     "text": [
      "0\n",
      "order_id\n",
      "9310        1\n",
      "61355      63\n",
      "102236     31\n",
      "129627      5\n",
      "165801      6\n",
      "           ..\n",
      "2999801     6\n",
      "3125735    22\n",
      "3308010    51\n",
      "3347453     7\n",
      "3383594     5\n",
      "Length: 70, dtype: int64\n",
      "\n",
      " 1\n",
      "\n",
      " 63\n"
     ]
    }
   ],
   "source": [
    "# ¿Todos los pedidos con valores ausentes tienen más de 64 productos?\n",
    "print(((order_products[\"add_to_cart_order\"].isna()) & (order_products[\"add_to_cart_order\"]>64)).sum())\n",
    "# Agrupa todos los pedidos con datos ausentes por su ID de pedido.\n",
    "missing_add_to_cart_order_id_groupedby = missing_add_to_cart_order_id.groupby(\"order_id\").size()\n",
    "# Cuenta el número de 'product_id' en cada pedido y revisa el valor mínimo del conteo.\n",
    "print(missing_add_to_cart_order_id_groupedby)\n",
    "print(\"\\n\", missing_add_to_cart_order_id_groupedby.min())\n",
    "print(\"\\n\", missing_add_to_cart_order_id_groupedby.max())"
   ]
  },
  {
   "cell_type": "markdown",
   "id": "p9V6pddtjglj",
   "metadata": {
    "id": "p9V6pddtjglj"
   },
   "source": [
    "Describe brevemente cuáles son tus hallazgos.\n",
    "Las filas con valores ausentes para la columna \"add_to_cart_order\" se tratan de órdenes en donde se ordena desde 1 solo proudcto hasta 63."
   ]
  },
  {
   "cell_type": "code",
   "execution_count": 34,
   "id": "7a987d08",
   "metadata": {
    "id": "7a987d08",
    "scrolled": true
   },
   "outputs": [
    {
     "name": "stdout",
     "output_type": "stream",
     "text": [
      "<class 'pandas.core.frame.DataFrame'>\n",
      "RangeIndex: 4545007 entries, 0 to 4545006\n",
      "Data columns (total 4 columns):\n",
      " #   Column             Dtype\n",
      "---  ------             -----\n",
      " 0   order_id           int64\n",
      " 1   product_id         int64\n",
      " 2   add_to_cart_order  int64\n",
      " 3   reordered          int64\n",
      "dtypes: int64(4)\n",
      "memory usage: 138.7 MB\n",
      "\n",
      " order_id             0\n",
      "product_id           0\n",
      "add_to_cart_order    0\n",
      "reordered            0\n",
      "dtype: int64\n"
     ]
    }
   ],
   "source": [
    "# Remplaza los valores ausentes en la columna 'add_to_cart? con 999 y convierte la columna al tipo entero.\n",
    "order_products.fillna(999, inplace=True)\n",
    "order_products[\"add_to_cart_order\"] = order_products[\"add_to_cart_order\"].astype(int)\n",
    "order_products.info()\n",
    "print(\"\\n\", order_products.isna().sum())"
   ]
  },
  {
   "cell_type": "markdown",
   "id": "fea4bcc7",
   "metadata": {
    "id": "fea4bcc7"
   },
   "source": [
    "Describe brevemente tus hallazgos y lo que hiciste con ellos.\n",
    "Reemplacé los valores ausente del DataFrame order_products con el método fillna() y el argumento 999.\n",
    "Convertí los valores de la columna 'add_to_cart_order' a tipo int.\n",
    "Imprimí nuevamente la información general del DataFrame y la información de sus valores ausentes para verificar que efectivamente, éstos se han reemplazado correctamente."
   ]
  },
  {
   "cell_type": "markdown",
   "id": "f275cceb",
   "metadata": {},
   "source": [
    "\n",
    "<div class=\"alert alert-block alert-success\">\n",
    "<b>Comentario del revisor</b> <a class=\"tocSkip\"></a>\n",
    "\n",
    "Excelente trabajo con este ejercicio, completaste de manera perfecta los valores ausentes con 999. Solamente para complementar el análisis que podríamos decir de los productos que tienen más de 64 productos?"
   ]
  },
  {
   "cell_type": "markdown",
   "id": "0e67a5c4",
   "metadata": {},
   "source": [
    "<div class=\"alert alert-block alert-info\">\n",
    "<b>Respuesta del estudiante.</b> <a class=\"tocSkip\"></a>\n",
    "    Es posible que las órdenes con más de 64 productos no registren la secuencia de los últimos productos que fueron agregados.\n",
    "</div>"
   ]
  },
  {
   "cell_type": "markdown",
   "id": "f887c2c1",
   "metadata": {},
   "source": [
    "<div class=\"alert alert-block alert-success\">\n",
    "<b>Comentario del revisor</b> <a class=\"tocSkip\"></a>\n",
    "\n",
    "Gran trabajo con la interpretación"
   ]
  },
  {
   "cell_type": "markdown",
   "id": "a1f8df8d",
   "metadata": {},
   "source": [
    "<div class=\"alert alert-block alert-info\">\n",
    "<b>Respuesta del estudiante.</b> <a class=\"tocSkip\"></a>\n",
    "    ¿Por qué se sugiere rellenar los valores ausentes con el entero 999? Este número no tiene sentido para mí en este contexto de la secuencia en que el producto fue agregado al carrito.\n",
    "</div>"
   ]
  },
  {
   "cell_type": "markdown",
   "id": "8909c962",
   "metadata": {},
   "source": [
    "<div class=\"alert alert-block alert-info\">\n",
    "<b>Comentario del revisor</b> <a class=\"tocSkip\"></a>\n",
    "\n",
    "En este caso se sugiere completar los valores usentes con el entero 999 para no confundirse con los valores reales. Este metodo se usa cuando no queremos que estos valores se confundan con datos reales pero queremos que tengan el mismo tipo de variable que los datos de esa columna"
   ]
  },
  {
   "cell_type": "markdown",
   "id": "RnplPFY1gSrb",
   "metadata": {
    "id": "RnplPFY1gSrb"
   },
   "source": [
    "## Conclusiones\n",
    "\n",
    "Escribe aquí tus conclusiones intermedias sobre el Paso 2. Preprocesamiento de los datos\n",
    "\n",
    "Verifiqué en cada uno de los DataFrame que las columnas de ID sean números enteros, así como la existencia de valores duplicados y ausentes.\n",
    "Eliminé los valores duplicados innecesarios.\n",
    "Rellené los valores ausentes con el número 999, aunque siendo honesto, no entendí el por qué de éste número."
   ]
  },
  {
   "cell_type": "markdown",
   "id": "UjrOIwTcz3ri",
   "metadata": {
    "id": "UjrOIwTcz3ri"
   },
   "source": [
    "# Paso 3. Análisis de los datos\n",
    "\n",
    "Una vez los datos estén procesados y listos, haz el siguiente análisis:"
   ]
  },
  {
   "cell_type": "markdown",
   "id": "turkish-kidney",
   "metadata": {
    "id": "turkish-kidney"
   },
   "source": [
    "# [A] Fácil (deben completarse todos para aprobar)\n",
    "\n",
    "1. Verifica que los valores en las columnas `'order_hour_of_day'` y `'order_dow'` en la tabla orders sean razonables (es decir, `'order_hour_of_day'` oscile entre 0 y 23 y `'order_dow'` oscile entre 0 y 6).\n",
    "2. Crea un gráfico que muestre el número de personas que hacen pedidos dependiendo de la hora del día.\n",
    "3. Crea un gráfico que muestre qué día de la semana la gente hace sus compras.\n",
    "4. Crea un gráfico que muestre el tiempo que la gente espera hasta hacer su siguiente pedido, y comenta sobre los valores mínimos y máximos."
   ]
  },
  {
   "cell_type": "markdown",
   "id": "short-capability",
   "metadata": {
    "id": "short-capability"
   },
   "source": [
    "### [A1] Verifica que los valores sean sensibles"
   ]
  },
  {
   "cell_type": "code",
   "execution_count": 35,
   "id": "growing-fruit",
   "metadata": {
    "id": "growing-fruit"
   },
   "outputs": [
    {
     "name": "stdout",
     "output_type": "stream",
     "text": [
      "count    478952.000000\n",
      "mean         13.447034\n",
      "std           4.224567\n",
      "min           0.000000\n",
      "25%          10.000000\n",
      "50%          13.000000\n",
      "75%          16.000000\n",
      "max          23.000000\n",
      "Name: order_hour_of_day, dtype: float64\n",
      "\n",
      "[13 12 19 20 11  8 18 15 16  9 22 10  0 14 17  1  7  6  2 21  3 23  5  4]\n",
      "\n",
      "0      3180\n",
      "1      1763\n",
      "2       989\n",
      "3       770\n",
      "4       765\n",
      "5      1371\n",
      "6      4215\n",
      "7     13043\n",
      "8     25024\n",
      "9     35896\n",
      "10    40578\n",
      "11    40032\n",
      "12    38034\n",
      "13    39007\n",
      "14    39631\n",
      "15    39789\n",
      "16    38112\n",
      "17    31930\n",
      "18    25510\n",
      "19    19547\n",
      "20    14624\n",
      "21    11019\n",
      "22     8512\n",
      "23     5611\n",
      "Name: order_hour_of_day, dtype: int64\n"
     ]
    }
   ],
   "source": [
    "print(instacart_orders['order_hour_of_day'].describe())\n",
    "print()\n",
    "print(instacart_orders['order_hour_of_day'].unique())\n",
    "print()\n",
    "print(instacart_orders['order_hour_of_day'].value_counts().sort_index())"
   ]
  },
  {
   "cell_type": "code",
   "execution_count": 36,
   "id": "accessory-malaysia",
   "metadata": {
    "id": "accessory-malaysia"
   },
   "outputs": [
    {
     "name": "stdout",
     "output_type": "stream",
     "text": [
      "count    478952.000000\n",
      "mean          2.775051\n",
      "std           2.045901\n",
      "min           0.000000\n",
      "25%           1.000000\n",
      "50%           3.000000\n",
      "75%           5.000000\n",
      "max           6.000000\n",
      "Name: order_dow, dtype: float64\n",
      "\n",
      "[6 5 0 4 3 1 2]\n",
      "\n",
      "0    84090\n",
      "1    82185\n",
      "2    65833\n",
      "3    60897\n",
      "4    59810\n",
      "5    63488\n",
      "6    62649\n",
      "Name: order_dow, dtype: int64\n"
     ]
    }
   ],
   "source": [
    "print(instacart_orders['order_dow'].describe())\n",
    "print()\n",
    "print(instacart_orders['order_dow'].unique())\n",
    "print()\n",
    "print(instacart_orders['order_dow'].value_counts().sort_index())"
   ]
  },
  {
   "cell_type": "markdown",
   "id": "hmR2GNQ6lCsX",
   "metadata": {
    "id": "hmR2GNQ6lCsX"
   },
   "source": [
    "Escribe aquí tus conclusiones\n",
    "Las columnas 'order_hour_of_day' y 'order_dow' tienen valores razonables que oscilan de 0 a 23 y de 0 a 6 respectivamente."
   ]
  },
  {
   "cell_type": "markdown",
   "id": "427317fa",
   "metadata": {},
   "source": [
    "<div class=\"alert alert-block alert-warning\">\n",
    "<b>Comentario Revisor</b> <a class=\"tocSkip\"></a>\n",
    "\n",
    "Muy buena forma de revisar que los valores sean sensibles. Otra forma de hacerlo que puedes explorar más adeltante es el uso de la función .unique() o .value_counts(). \n",
    "</div>"
   ]
  },
  {
   "cell_type": "markdown",
   "id": "0045c767",
   "metadata": {},
   "source": [
    "<div class=\"alert alert-block alert-info\">\n",
    "<b>Respuesta del estudiante.</b> <a class=\"tocSkip\"></a>\n",
    "    Ya habia visto los métodos .unique() y .value_counts(), gracias por recordarmelos. He implementado la sugerencia en las dos líneas de código anteriores.\n",
    "</div>"
   ]
  },
  {
   "cell_type": "markdown",
   "id": "7d7baf37",
   "metadata": {},
   "source": [
    "<div class=\"alert alert-block alert-success\">\n",
    "<b>Comentario del revisor</b> <a class=\"tocSkip\"></a>\n",
    "\n",
    "Excelente, Robert. En futuros proyectos puedes seguir explorando estas herramientas"
   ]
  },
  {
   "cell_type": "markdown",
   "id": "a6743a70",
   "metadata": {
    "id": "a6743a70"
   },
   "source": [
    "### [A2] Para cada hora del día, ¿cuántas personas hacen órdenes?"
   ]
  },
  {
   "cell_type": "code",
   "execution_count": 37,
   "id": "a36cca27",
   "metadata": {
    "id": "a36cca27"
   },
   "outputs": [
    {
     "name": "stdout",
     "output_type": "stream",
     "text": [
      "order_hour_of_day\n",
      "0      3180\n",
      "1      1763\n",
      "2       989\n",
      "3       770\n",
      "4       765\n",
      "5      1371\n",
      "6      4215\n",
      "7     13043\n",
      "8     25024\n",
      "9     35896\n",
      "10    40578\n",
      "11    40032\n",
      "12    38034\n",
      "13    39007\n",
      "14    39631\n",
      "15    39789\n",
      "16    38112\n",
      "17    31930\n",
      "18    25510\n",
      "19    19547\n",
      "20    14624\n",
      "21    11019\n",
      "22     8512\n",
      "23     5611\n",
      "Name: user_id, dtype: int64\n",
      "\n",
      " count       24.000000\n",
      "mean     19956.333333\n",
      "std      15984.910152\n",
      "min        765.000000\n",
      "25%       3956.250000\n",
      "50%      17085.500000\n",
      "75%      38053.500000\n",
      "max      40578.000000\n",
      "Name: user_id, dtype: float64\n"
     ]
    },
    {
     "data": {
      "text/plain": [
       "<AxesSubplot:title={'center':'Client orders per hour of the day'}, xlabel='order_hour_of_day', ylabel='Buyers'>"
      ]
     },
     "execution_count": 37,
     "metadata": {},
     "output_type": "execute_result"
    },
    {
     "data": {
      "image/png": "[encoded data removed]",
      "text/plain": [
       "<Figure size 640x480 with 1 Axes>"
      ]
     },
     "metadata": {},
     "output_type": "display_data"
    }
   ],
   "source": [
    "print(instacart_orders.groupby('order_hour_of_day')['user_id'].count())\n",
    "print(\"\\n\", instacart_orders.groupby('order_hour_of_day')['user_id'].count().describe())\n",
    "(instacart_orders.groupby('order_hour_of_day')['user_id'].count()).plot(kind='bar', ylabel='Buyers', title=\"Client orders per hour of the day\")"
   ]
  },
  {
   "cell_type": "markdown",
   "id": "11270eed",
   "metadata": {
    "id": "11270eed"
   },
   "source": [
    "Escribe aquí tus conclusiones\n",
    "Para cada hora del día, en promedio, 19,956 personas realizan órdenes con un rango desde 765 hasta 40,578.\n",
    "La hora donde más se ordena son las 10 AM mientras que a las 4 AM es cuando menos se ordena."
   ]
  },
  {
   "cell_type": "markdown",
   "id": "f45f8806",
   "metadata": {},
   "source": [
    "<div class=\"alert alert-block alert-success\">\n",
    "<b>Comentario revisor</b> <a class=\"tocSkip\"></a>\n",
    "\n",
    "\n",
    "Muy buen trabajo el desarrollar una gráfica para visualizar los resultados\n",
    "</div>"
   ]
  },
  {
   "cell_type": "markdown",
   "id": "documented-command",
   "metadata": {
    "id": "documented-command"
   },
   "source": [
    "### [A3] ¿Qué día de la semana compran víveres las personas?"
   ]
  },
  {
   "cell_type": "code",
   "execution_count": 38,
   "id": "chief-digit",
   "metadata": {
    "id": "chief-digit"
   },
   "outputs": [
    {
     "name": "stdout",
     "output_type": "stream",
     "text": [
      "\n",
      " count        7.000000\n",
      "mean     68421.714286\n",
      "std      10247.547409\n",
      "min      59810.000000\n",
      "25%      61773.000000\n",
      "50%      63488.000000\n",
      "75%      74009.000000\n",
      "max      84090.000000\n",
      "Name: user_id, dtype: float64\n",
      "           user_id\n",
      "order_dow         \n",
      "Sunday       84090\n",
      "Monday       82185\n",
      "Tuesday      65833\n",
      "Wednesday    60897\n",
      "Thursday     59810\n",
      "Friday       63488\n",
      "Saturday     62649\n"
     ]
    },
    {
     "data": {
      "text/plain": [
       "<AxesSubplot:title={'center':'Sales per day of the week'}, xlabel='Day of the week', ylabel='Buyers'>"
      ]
     },
     "execution_count": 38,
     "metadata": {},
     "output_type": "execute_result"
    },
    {
     "data": {
      "image/png": "[encoded data removed]",
      "text/plain": [
       "<Figure size 640x480 with 1 Axes>"
      ]
     },
     "metadata": {},
     "output_type": "display_data"
    }
   ],
   "source": [
    "print(\"\\n\", instacart_orders.groupby('order_dow')['user_id'].count().describe())\n",
    "days_dictionary = {0:'Sunday', 1:'Monday', 2:'Tuesday', 3:'Wednesday', 4:'Thursday', 5:'Friday', 6:'Saturday'}\n",
    "raw_dow_data = instacart_orders.groupby('order_dow')['user_id'].count()\n",
    "graph_dow_data_day_column = raw_dow_data.index.map(days_dictionary)\n",
    "graph_dow_data = pd.DataFrame(raw_dow_data)\n",
    "graph_dow_data.rename(index=dict(zip(graph_dow_data.index, graph_dow_data_day_column)), inplace=True)\n",
    "print(graph_dow_data)\n",
    "graph_dow_data.plot(kind='bar', xlabel='Day of the week', ylabel='Buyers', title='Sales per day of the week')"
   ]
  },
  {
   "cell_type": "markdown",
   "id": "dominant-lightning",
   "metadata": {
    "id": "dominant-lightning"
   },
   "source": [
    "Escribe aquí tus conclusiones\n",
    "En promedio, 68,421 personas compran cada día de la semana con un rango de 59,810 hasta 84,090. El día cuando más se realizan compras es el domingo, mientras que el día de menor venta en número de clientes es el jueves."
   ]
  },
  {
   "cell_type": "markdown",
   "id": "cutting-concert",
   "metadata": {
    "id": "cutting-concert"
   },
   "source": [
    "### [A4] ¿Cuánto tiempo esperan las personas hasta hacer otro pedido? Comenta sobre los valores mínimos y máximos."
   ]
  },
  {
   "cell_type": "code",
   "execution_count": 39,
   "id": "c231f523",
   "metadata": {
    "id": "c231f523"
   },
   "outputs": [
    {
     "name": "stdout",
     "output_type": "stream",
     "text": [
      "<class 'pandas.core.frame.DataFrame'>\n",
      "RangeIndex: 478952 entries, 0 to 478951\n",
      "Data columns (total 6 columns):\n",
      " #   Column                  Non-Null Count   Dtype  \n",
      "---  ------                  --------------   -----  \n",
      " 0   order_id                478952 non-null  int64  \n",
      " 1   user_id                 478952 non-null  int64  \n",
      " 2   order_number            478952 non-null  int64  \n",
      " 3   order_dow               478952 non-null  int64  \n",
      " 4   order_hour_of_day       478952 non-null  int64  \n",
      " 5   days_since_prior_order  450135 non-null  float64\n",
      "dtypes: float64(1), int64(5)\n",
      "memory usage: 21.9 MB\n",
      "\n",
      " count    450135.000000\n",
      "mean         11.101814\n",
      "std           9.190004\n",
      "min           0.000000\n",
      "25%           4.000000\n",
      "50%           7.000000\n",
      "75%          15.000000\n",
      "max          30.000000\n",
      "Name: days_since_prior_order, dtype: float64\n",
      "\n",
      " days_since_prior_order\n",
      "0.0      9589\n",
      "1.0     20179\n",
      "2.0     27138\n",
      "3.0     30224\n",
      "4.0     31006\n",
      "5.0     30096\n",
      "6.0     33930\n",
      "7.0     44577\n",
      "8.0     25361\n",
      "9.0     16753\n",
      "10.0    13309\n",
      "11.0    11467\n",
      "12.0    10658\n",
      "13.0    11737\n",
      "14.0    13992\n",
      "15.0     9416\n",
      "16.0     6587\n",
      "17.0     5498\n",
      "18.0     4971\n",
      "19.0     4939\n",
      "20.0     5302\n",
      "21.0     6448\n",
      "22.0     4514\n",
      "23.0     3337\n",
      "24.0     3015\n",
      "25.0     2711\n",
      "26.0     2640\n",
      "27.0     2986\n",
      "28.0     3745\n",
      "29.0     2673\n",
      "30.0    51337\n",
      "Name: user_id, dtype: int64\n",
      "\n",
      " count       31.000000\n",
      "mean     14520.483871\n",
      "std      13291.068783\n",
      "min       2640.000000\n",
      "25%       4726.500000\n",
      "50%       9589.000000\n",
      "75%      22770.000000\n",
      "max      51337.000000\n",
      "Name: user_id, dtype: float64\n"
     ]
    },
    {
     "data": {
      "text/plain": [
       "<AxesSubplot:title={'center':'Days since prior order Buyers'}, xlabel='Days since prior order', ylabel='Buyers'>"
      ]
     },
     "execution_count": 39,
     "metadata": {},
     "output_type": "execute_result"
    },
    {
     "data": {
      "image/png": "[encoded data removed]",
      "text/plain": [
       "<Figure size 640x480 with 1 Axes>"
      ]
     },
     "metadata": {},
     "output_type": "display_data"
    }
   ],
   "source": [
    "instacart_orders.info()\n",
    "print(\"\\n\", instacart_orders['days_since_prior_order'].describe())\n",
    "print(\"\\n\", instacart_orders.groupby('days_since_prior_order')['user_id'].count())\n",
    "print(\"\\n\", instacart_orders.groupby('days_since_prior_order')['user_id'].count().describe())\n",
    "instacart_orders.groupby('days_since_prior_order')['user_id'].count().plot(kind='bar', title='Days since prior order Buyers', ylabel='Buyers', xlabel='Days since prior order')"
   ]
  },
  {
   "cell_type": "markdown",
   "id": "discrete-vertex",
   "metadata": {
    "id": "discrete-vertex"
   },
   "source": [
    "Escribe aquí tus conclusiones\n",
    "Las personas esperan hasta 30 días en volver a hacer una compra, o al menos el sistema está habilitado en registrar una recompra hasta 30 días. En promedio se recompra cada 11 días, con una mediana de 7 días. Para cada número de día de recompra, existen en promedio 14,520 personas comprando con un rango desde 2,640 hasta 51,337. La recompra con mayor número de personas es el día 30 y la menor es el día 26."
   ]
  },
  {
   "cell_type": "markdown",
   "id": "b7b2892b",
   "metadata": {},
   "source": [
    "<div class=\"alert alert-block alert-success\">\n",
    "<b>Comentario revisor</b> <a class=\"tocSkip\"></a>\n",
    "\n",
    "En los´tres ejercicios finales, complementaste con alguna gráfica que ayuda al análisis de los resultados"
   ]
  },
  {
   "cell_type": "markdown",
   "id": "tight-staff",
   "metadata": {
    "id": "tight-staff"
   },
   "source": [
    "# [B] Intermedio (deben completarse todos para aprobar)\n",
    "\n",
    "1. ¿Existe alguna diferencia entre las distribuciones `'order_hour_of_day'` de los miércoles y los sábados? Traza gráficos de barra de `'order_hour_of_day'` para ambos días en la misma figura y describe las diferencias que observes.\n",
    "2. Grafica la distribución para el número de órdenes que hacen los clientes (es decir, cuántos clientes hicieron solo 1 pedido, cuántos hicieron 2, cuántos 3, y así sucesivamente...).\n",
    "3. ¿Cuáles son los 20 principales productos que se piden con más frecuencia (muestra su identificación y nombre)?"
   ]
  },
  {
   "cell_type": "markdown",
   "id": "packed-classic",
   "metadata": {
    "id": "packed-classic"
   },
   "source": [
    "### [B1] Diferencia entre miércoles y sábados para  `'order_hour_of_day'`. Traza gráficos de barra para los dos días y describe las diferencias que veas."
   ]
  },
  {
   "cell_type": "code",
   "execution_count": 40,
   "id": "d89b8403",
   "metadata": {
    "id": "d89b8403"
   },
   "outputs": [],
   "source": [
    "from matplotlib import pyplot as plt"
   ]
  },
  {
   "cell_type": "code",
   "execution_count": 41,
   "id": "94e54e8a",
   "metadata": {
    "id": "94e54e8a"
   },
   "outputs": [
    {
     "name": "stdout",
     "output_type": "stream",
     "text": [
      "    order_id  user_id  order_number  order_dow  order_hour_of_day  \\\n",
      "6    2511640   148233            40          3                  8   \n",
      "16   3109465    55090            19          3                 15   \n",
      "28    133707   182261             1          3                 10   \n",
      "30   1890318   193501             3          3                 15   \n",
      "35    125325   106853             6          3                 19   \n",
      "\n",
      "    days_since_prior_order  \n",
      "6                      2.0  \n",
      "16                     9.0  \n",
      "28                     NaN  \n",
      "30                    30.0  \n",
      "35                    30.0  \n",
      "\n",
      "     order_id  user_id  order_number  order_dow  order_hour_of_day  \\\n",
      "0    1515936   183418            11          6                 13   \n",
      "11    102585   191558            18          6                 16   \n",
      "14   2843219    74699             4          6                 11   \n",
      "20     50934   178510             9          6                  9   \n",
      "26   1844247   122558             4          6                 18   \n",
      "\n",
      "    days_since_prior_order  \n",
      "0                     30.0  \n",
      "11                     8.0  \n",
      "14                    30.0  \n",
      "20                     5.0  \n",
      "26                    30.0  \n"
     ]
    }
   ],
   "source": [
    "wednesday_instacart_orders = instacart_orders[instacart_orders['order_dow']==3]\n",
    "print(wednesday_instacart_orders.head())\n",
    "saturday_instacart_orders = instacart_orders[instacart_orders['order_dow']==6]\n",
    "print(\"\\n\", saturday_instacart_orders.head())"
   ]
  },
  {
   "cell_type": "code",
   "execution_count": 42,
   "id": "797c90a8",
   "metadata": {
    "id": "797c90a8"
   },
   "outputs": [
    {
     "data": {
      "text/plain": [
       "<AxesSubplot:title={'center':'order_hour_of_day histogram'}, ylabel='Frequency'>"
      ]
     },
     "execution_count": 42,
     "metadata": {},
     "output_type": "execute_result"
    },
    {
     "data": {
      "image/png": "[encoded data removed]",
      "text/plain": [
       "<Figure size 640x480 with 1 Axes>"
      ]
     },
     "metadata": {},
     "output_type": "display_data"
    }
   ],
   "source": [
    "import pandas as pd\n",
    "wednesday_instacart_orders['order_hour_of_day'].plot(title='order_hour_of_day histogram', kind='hist', bins=24, xlabel='hour of day', xlim=[0, 23], grid=True)\n",
    "saturday_instacart_orders['order_hour_of_day'].plot(kind='hist', bins=24, xlabel='hour of day', xlim=[0, 23], grid=True, alpha=0.8)"
   ]
  },
  {
   "cell_type": "code",
   "execution_count": 43,
   "id": "35bcea30",
   "metadata": {
    "id": "35bcea30"
   },
   "outputs": [],
   "source": [
    "plt.show()"
   ]
  },
  {
   "cell_type": "markdown",
   "id": "charitable-congo",
   "metadata": {
    "id": "charitable-congo"
   },
   "source": [
    "Escribe aquí tus conclusiones\n",
    "El comportamiento para ambos días es muy similar.\n",
    "Desde las 0 hasta las 6 horas se observa la meseta de menor venta. Después de las 6 AM y hasta las 10 AM se observa un incremento lineal en las ventas. Después de las 10 AM y hasta las 16 horas se observa una meseta de ventas altas pero sin desplazamiento. Después de las 16 horas existe un declive importante en las ventas que permanece hasta que se acaba el día."
   ]
  },
  {
   "cell_type": "markdown",
   "id": "e3891143",
   "metadata": {
    "id": "e3891143"
   },
   "source": [
    "### [B2] ¿Cuál es la distribución para el número de pedidos por cliente?"
   ]
  },
  {
   "cell_type": "code",
   "execution_count": 44,
   "id": "d8c26c23",
   "metadata": {
    "id": "d8c26c23"
   },
   "outputs": [
    {
     "name": "stdout",
     "output_type": "stream",
     "text": [
      "user_id\n",
      "152331     1\n",
      "139876     1\n",
      "60408      1\n",
      "139873     1\n",
      "139871     1\n",
      "          ..\n",
      "66664     24\n",
      "148162    24\n",
      "78375     25\n",
      "193164    26\n",
      "149605    28\n",
      "Name: order_id, Length: 157437, dtype: int64\n",
      "\n",
      " count    157437.000000\n",
      "mean          3.042182\n",
      "std           2.746842\n",
      "min           1.000000\n",
      "25%           1.000000\n",
      "50%           2.000000\n",
      "75%           4.000000\n",
      "max          28.000000\n",
      "Name: order_id, dtype: float64\n",
      "\n",
      " 1     55357\n",
      "2     36508\n",
      "3     21547\n",
      "4     13498\n",
      "5      8777\n",
      "6      6012\n",
      "7      4240\n",
      "8      3019\n",
      "9      2152\n",
      "10     1645\n",
      "11     1308\n",
      "12      947\n",
      "13      703\n",
      "14      512\n",
      "15      437\n",
      "16      263\n",
      "17      184\n",
      "18      121\n",
      "19       85\n",
      "20       52\n",
      "22       23\n",
      "21       22\n",
      "23       19\n",
      "24        3\n",
      "25        1\n",
      "26        1\n",
      "28        1\n",
      "Name: order_id, dtype: int64\n"
     ]
    }
   ],
   "source": [
    "clients = instacart_orders.groupby('user_id')['order_id'].count().sort_values()\n",
    "print(clients)\n",
    "print(\"\\n\", clients.describe())\n",
    "print(\"\\n\", clients.value_counts())"
   ]
  },
  {
   "cell_type": "code",
   "execution_count": 45,
   "id": "00e69a66",
   "metadata": {
    "id": "00e69a66"
   },
   "outputs": [
    {
     "data": {
      "text/plain": [
       "<AxesSubplot:title={'center':'Sales per client Frecuency'}, ylabel='Frequency'>"
      ]
     },
     "execution_count": 45,
     "metadata": {},
     "output_type": "execute_result"
    },
    {
     "data": {
      "image/png": "[encoded data removed]",
      "text/plain": [
       "<Figure size 640x480 with 1 Axes>"
      ]
     },
     "metadata": {},
     "output_type": "display_data"
    }
   ],
   "source": [
    "clients.plot(kind='hist', title='Sales per client Frecuency', bins=28, xlabel='Sales per client')"
   ]
  },
  {
   "cell_type": "markdown",
   "id": "d2eff7d5",
   "metadata": {
    "id": "d2eff7d5"
   },
   "source": [
    "Escribe aquí tus conclusiones\n",
    "En general esta tienda en linea tiene como oportunidad mejorar que sus clientes vuelvan a comprar. La mayoría de sus clientes solo ha comprado una vez. Conforme aumenta el número de compras por cliente, disminuye el número de clientes que recompra, es decir existe una correlacion inversa. Esto está evidenciado por una mediana de 2 compras por cliente."
   ]
  },
  {
   "cell_type": "markdown",
   "id": "54a0319c",
   "metadata": {
    "id": "54a0319c"
   },
   "source": [
    "### [B3] ¿Cuáles son los 20 productos más populares (muestra su ID y nombre)?"
   ]
  },
  {
   "cell_type": "code",
   "execution_count": 46,
   "id": "exterior-arizona",
   "metadata": {
    "id": "exterior-arizona",
    "scrolled": true
   },
   "outputs": [],
   "source": [
    "product_names = dict(zip(products['product_id'], products['product_name']))"
   ]
  },
  {
   "cell_type": "code",
   "execution_count": 47,
   "id": "universal-facial",
   "metadata": {
    "id": "universal-facial"
   },
   "outputs": [
    {
     "name": "stdout",
     "output_type": "stream",
     "text": [
      "\n",
      " count       20.00000\n",
      "mean     23334.85000\n",
      "std      14521.15308\n",
      "min      11781.00000\n",
      "25%      13828.00000\n",
      "50%      19398.50000\n",
      "75%      25960.00000\n",
      "max      66050.00000\n",
      "Name: product_id, dtype: float64\n",
      "\n",
      " product_id\n",
      "24852    66050\n",
      "13176    53297\n",
      "21137    37039\n",
      "21903    33971\n",
      "47209    29773\n",
      "47766    24689\n",
      "47626    21495\n",
      "16797    20018\n",
      "26209    19690\n",
      "27845    19600\n",
      "27966    19197\n",
      "22935    15898\n",
      "24964    15292\n",
      "45007    14584\n",
      "39275    13879\n",
      "49683    13675\n",
      "28204    12544\n",
      "5876     12232\n",
      "8277     11993\n",
      "40706    11781\n",
      "Name: product_id, dtype: int64\n",
      "<class 'pandas.core.series.Series'>\n"
     ]
    }
   ],
   "source": [
    "top_20_products = order_products.groupby('product_id')['product_id'].count().sort_values(ascending=False).head(20)\n",
    "print(\"\\n\", top_20_products.describe())\n",
    "print(\"\\n\", top_20_products)\n",
    "print(type(top_20_products))"
   ]
  },
  {
   "cell_type": "code",
   "execution_count": 48,
   "id": "bbcdd20b",
   "metadata": {
    "id": "bbcdd20b"
   },
   "outputs": [
    {
     "name": "stdout",
     "output_type": "stream",
     "text": [
      "            count              product_name\n",
      "product_id                                 \n",
      "24852       66050                    BANANA\n",
      "13176       53297    BAG OF ORGANIC BANANAS\n",
      "21137       37039      ORGANIC STRAWBERRIES\n",
      "21903       33971      ORGANIC BABY SPINACH\n",
      "47209       29773      ORGANIC HASS AVOCADO\n",
      "47766       24689           ORGANIC AVOCADO\n",
      "47626       21495               LARGE LEMON\n",
      "16797       20018              STRAWBERRIES\n",
      "26209       19690                     LIMES\n",
      "27845       19600        ORGANIC WHOLE MILK\n",
      "27966       19197       ORGANIC RASPBERRIES\n",
      "22935       15898      ORGANIC YELLOW ONION\n",
      "24964       15292            ORGANIC GARLIC\n",
      "45007       14584          ORGANIC ZUCCHINI\n",
      "39275       13879       ORGANIC BLUEBERRIES\n",
      "49683       13675            CUCUMBER KIRBY\n",
      "28204       12544        ORGANIC FUJI APPLE\n",
      "5876        12232             ORGANIC LEMON\n",
      "8277        11993  APPLE HONEYCRISP ORGANIC\n",
      "40706       11781    ORGANIC GRAPE TOMATOES\n"
     ]
    }
   ],
   "source": [
    "top_20_products = pd.DataFrame(top_20_products)\n",
    "top_20_products['product_name'] = top_20_products.index.map(product_names)\n",
    "top_20_products.columns = ['count', 'product_name']\n",
    "print(top_20_products)"
   ]
  },
  {
   "cell_type": "markdown",
   "id": "7df00f47",
   "metadata": {
    "id": "7df00f47"
   },
   "source": [
    "Escribe aquí tus conclusiones\n",
    "La gran mayoría de los artículos del top 20 de ventas pertenecen a la sección de frutas y verduras. El producto más comprado ha sido la \"Banana\" con un volumen de ventas de 66,050 órdenes. El producto menos comprado de este top 20 es el \"Organic Grape Tomatoes\" con un volumen de ventas de 11,781 órdenes. Las medidas de tendencia central para estos productos van alrededor de las 20,000 órdenes de compra."
   ]
  },
  {
   "cell_type": "markdown",
   "id": "8176a87c",
   "metadata": {},
   "source": [
    "<div class=\"alert alert-block alert-success\">\n",
    "<b>Comentario del revisor</b> <a class=\"tocSkip\"></a>\n",
    "\n",
    "Muy buen desarrollo de la sección. Desarrollaste de buena manera todos los análisis y lo complementaste con una gráfica.  \n",
    "</div>"
   ]
  },
  {
   "cell_type": "markdown",
   "id": "gross-theme",
   "metadata": {
    "id": "gross-theme"
   },
   "source": [
    "# [C] Difícil (deben completarse todos para aprobar)\n",
    "\n",
    "1. ¿Cuántos artículos suelen comprar las personas en un pedido? ¿Cómo es la distribución?\n",
    "2. ¿Cuáles son los 20 principales artículos que vuelven a pedirse con mayor frecuencia (muestra sus nombres e IDs de los productos)?\n",
    "3. Para cada producto, ¿cuál es la tasa de repetición del pedido (número de repeticiones de pedido/total de pedidos?\n",
    "4. Para cada cliente, ¿qué proporción de los productos que pidió ya los había pedido? Calcula la tasa de repetición de pedido para cada usuario en lugar de para cada producto.\n",
    "5. ¿Cuáles son los 20 principales artículos que la gente pone primero en sus carritos (muestra las IDs de los productos, sus nombres, y el número de veces en que fueron el primer artículo en añadirse al carrito)?"
   ]
  },
  {
   "cell_type": "markdown",
   "id": "romantic-deposit",
   "metadata": {
    "id": "romantic-deposit"
   },
   "source": [
    "### [C1] ¿Cuántos artículos compran normalmente las personas en un pedido? ¿Cómo es la distribución?"
   ]
  },
  {
   "cell_type": "code",
   "execution_count": 49,
   "id": "virtual-punch",
   "metadata": {
    "id": "virtual-punch"
   },
   "outputs": [
    {
     "name": "stdout",
     "output_type": "stream",
     "text": [
      "<class 'pandas.core.frame.DataFrame'>\n",
      "RangeIndex: 4545007 entries, 0 to 4545006\n",
      "Data columns (total 4 columns):\n",
      " #   Column             Dtype\n",
      "---  ------             -----\n",
      " 0   order_id           int64\n",
      " 1   product_id         int64\n",
      " 2   add_to_cart_order  int64\n",
      " 3   reordered          int64\n",
      "dtypes: int64(4)\n",
      "memory usage: 138.7 MB\n"
     ]
    }
   ],
   "source": [
    "order_products.info()\n",
    "items_in_orders = order_products.groupby('order_id')['order_id'].count().sort_values()"
   ]
  },
  {
   "cell_type": "code",
   "execution_count": 50,
   "id": "sensitive-breathing",
   "metadata": {
    "id": "sensitive-breathing"
   },
   "outputs": [
    {
     "name": "stdout",
     "output_type": "stream",
     "text": [
      "\n",
      " order_id\n",
      "3421079      1\n",
      "1288686      1\n",
      "1288764      1\n",
      "1288825      1\n",
      "1288873      1\n",
      "          ... \n",
      "1959075     98\n",
      "171934     104\n",
      "2136777    108\n",
      "3308010    115\n",
      "61355      127\n",
      "Name: order_id, Length: 450046, dtype: int64\n",
      "\n",
      "count    450046.000000\n",
      "mean         10.098983\n",
      "std           7.540206\n",
      "min           1.000000\n",
      "25%           5.000000\n",
      "50%           8.000000\n",
      "75%          14.000000\n",
      "max         127.000000\n",
      "Name: order_id, dtype: float64\n"
     ]
    }
   ],
   "source": [
    "print(\"\\n\", items_in_orders)\n",
    "print()\n",
    "print(items_in_orders.describe())"
   ]
  },
  {
   "cell_type": "code",
   "execution_count": 51,
   "id": "completed-frank",
   "metadata": {
    "id": "completed-frank"
   },
   "outputs": [
    {
     "data": {
      "text/plain": [
       "<AxesSubplot:title={'center':'Items per order Frequency'}, ylabel='Frequency'>"
      ]
     },
     "execution_count": 51,
     "metadata": {},
     "output_type": "execute_result"
    },
    {
     "data": {
      "image/png": "[encoded data removed]",
      "text/plain": [
       "<Figure size 640x480 with 1 Axes>"
      ]
     },
     "metadata": {},
     "output_type": "display_data"
    }
   ],
   "source": [
    "items_in_orders.plot(kind='hist', bins=21, title=\"Items per order Frequency\", grid=True, xlabel=\"Items per order\")"
   ]
  },
  {
   "cell_type": "markdown",
   "id": "designed-mortality",
   "metadata": {
    "id": "designed-mortality"
   },
   "source": [
    "Escribe aquí tus conclusiones\n",
    "En la mayoría de las compras se órdena un solo producto. En un 50% de las compras se ordenan 8 artículos o menos. Conforme se aumenta el número de artículos por compra la frecuencia de las órdenes se reduce radicalmente. En otras palabras, existe un correlación inversa entre el número de artículos por órden y su frecuencia."
   ]
  },
  {
   "cell_type": "markdown",
   "id": "5e6b5537",
   "metadata": {
    "id": "5e6b5537"
   },
   "source": [
    "### [C2] ¿Cuáles son los 20 principales artículos que vuelven a pedirse con mayor frecuencia (muestra sus nombres e IDs de los productos)?"
   ]
  },
  {
   "cell_type": "code",
   "execution_count": 52,
   "id": "9374e55a",
   "metadata": {
    "id": "9374e55a"
   },
   "outputs": [
    {
     "name": "stdout",
     "output_type": "stream",
     "text": [
      "<class 'pandas.core.frame.DataFrame'>\n",
      "RangeIndex: 4545007 entries, 0 to 4545006\n",
      "Data columns (total 4 columns):\n",
      " #   Column             Dtype\n",
      "---  ------             -----\n",
      " 0   order_id           int64\n",
      " 1   product_id         int64\n",
      " 2   add_to_cart_order  int64\n",
      " 3   reordered          int64\n",
      "dtypes: int64(4)\n",
      "memory usage: 138.7 MB\n"
     ]
    }
   ],
   "source": [
    "order_products.info()"
   ]
  },
  {
   "cell_type": "code",
   "execution_count": 53,
   "id": "possible-change",
   "metadata": {
    "id": "possible-change",
    "scrolled": true
   },
   "outputs": [
    {
     "name": "stdout",
     "output_type": "stream",
     "text": [
      "         order_id  product_id  add_to_cart_order  reordered\n",
      "1          567889        1560                  1          1\n",
      "2         2261212       26683                  1          1\n",
      "3          491251        8670                 35          1\n",
      "4         2571142        1940                  5          1\n",
      "5         2456893       21616                  4          1\n",
      "...           ...         ...                ...        ...\n",
      "4544999   1622300       24852                  1          1\n",
      "4545000   1125324       40600                  6          1\n",
      "4545002    577211       15290                 12          1\n",
      "4545004    692640       47766                  4          1\n",
      "4545005    319435         691                  8          1\n",
      "\n",
      "[2683838 rows x 4 columns]\n"
     ]
    }
   ],
   "source": [
    "reordered_items = order_products[order_products['reordered']==1]\n",
    "print(reordered_items)\n"
   ]
  },
  {
   "cell_type": "code",
   "execution_count": 54,
   "id": "professional-surfing",
   "metadata": {
    "id": "professional-surfing",
    "scrolled": true
   },
   "outputs": [],
   "source": [
    "top_reordered_products = reordered_items.groupby('product_id')['product_id'].count().sort_values(ascending=False).head(20)\n",
    "top_reordered_products = pd.DataFrame(top_reordered_products)\n",
    "top_reordered_products['product_name'] = top_reordered_products.index.map(product_names)"
   ]
  },
  {
   "cell_type": "code",
   "execution_count": 55,
   "id": "48dd3658",
   "metadata": {
    "id": "48dd3658"
   },
   "outputs": [
    {
     "name": "stdout",
     "output_type": "stream",
     "text": [
      "            count              product_name\n",
      "product_id                                 \n",
      "24852       66050                    BANANA\n",
      "13176       53297    BAG OF ORGANIC BANANAS\n",
      "21137       37039      ORGANIC STRAWBERRIES\n",
      "21903       33971      ORGANIC BABY SPINACH\n",
      "47209       29773      ORGANIC HASS AVOCADO\n",
      "47766       24689           ORGANIC AVOCADO\n",
      "47626       21495               LARGE LEMON\n",
      "16797       20018              STRAWBERRIES\n",
      "26209       19690                     LIMES\n",
      "27845       19600        ORGANIC WHOLE MILK\n",
      "27966       19197       ORGANIC RASPBERRIES\n",
      "22935       15898      ORGANIC YELLOW ONION\n",
      "24964       15292            ORGANIC GARLIC\n",
      "45007       14584          ORGANIC ZUCCHINI\n",
      "39275       13879       ORGANIC BLUEBERRIES\n",
      "49683       13675            CUCUMBER KIRBY\n",
      "28204       12544        ORGANIC FUJI APPLE\n",
      "5876        12232             ORGANIC LEMON\n",
      "8277        11993  APPLE HONEYCRISP ORGANIC\n",
      "40706       11781    ORGANIC GRAPE TOMATOES\n",
      "\n",
      "            product_id              product_name\n",
      "product_id                                      \n",
      "24852            55763                    BANANA\n",
      "13176            44450    BAG OF ORGANIC BANANAS\n",
      "21137            28639      ORGANIC STRAWBERRIES\n",
      "21903            26233      ORGANIC BABY SPINACH\n",
      "47209            23629      ORGANIC HASS AVOCADO\n",
      "47766            18743           ORGANIC AVOCADO\n",
      "27845            16251        ORGANIC WHOLE MILK\n",
      "47626            15044               LARGE LEMON\n",
      "27966            14748       ORGANIC RASPBERRIES\n",
      "16797            13945              STRAWBERRIES\n",
      "26209            13327                     LIMES\n",
      "22935            11145      ORGANIC YELLOW ONION\n",
      "24964            10411            ORGANIC GARLIC\n",
      "45007            10076          ORGANIC ZUCCHINI\n",
      "49683             9538            CUCUMBER KIRBY\n",
      "28204             8989        ORGANIC FUJI APPLE\n",
      "8277              8836  APPLE HONEYCRISP ORGANIC\n",
      "39275             8799       ORGANIC BLUEBERRIES\n",
      "5876              8412             ORGANIC LEMON\n",
      "49235             8389       ORGANIC HALF & HALF\n"
     ]
    }
   ],
   "source": [
    "print(top_20_products)\n",
    "print()\n",
    "print(top_reordered_products)"
   ]
  },
  {
   "cell_type": "markdown",
   "id": "80e70c74",
   "metadata": {
    "id": "80e70c74"
   },
   "source": [
    "Escribe aquí tus conclusiones\n",
    "Algunos de los productos que más se venden coinciden con los productos que más se recompran. Casi todos los productos más recomprados también pertenecen a la sección de frutas y verduras, en su mayoría \"orgánicos\"."
   ]
  },
  {
   "cell_type": "markdown",
   "id": "9d312b14",
   "metadata": {
    "id": "9d312b14"
   },
   "source": [
    "### [C3] Para cada producto, ¿cuál es la proporción de las veces que se pide y que se vuelve a pedir?"
   ]
  },
  {
   "cell_type": "code",
   "execution_count": 56,
   "id": "8ae9f4b1",
   "metadata": {
    "id": "8ae9f4b1"
   },
   "outputs": [
    {
     "name": "stdout",
     "output_type": "stream",
     "text": [
      "product_id\n",
      "1        280\n",
      "2         11\n",
      "3         42\n",
      "4         49\n",
      "7          2\n",
      "        ... \n",
      "49690      5\n",
      "49691     72\n",
      "49692     12\n",
      "49693     25\n",
      "49694      9\n",
      "Name: product_id, Length: 45573, dtype: int64\n"
     ]
    }
   ],
   "source": [
    "total_orders = order_products.groupby('product_id')['product_id'].count()\n",
    "print(total_orders)"
   ]
  },
  {
   "cell_type": "code",
   "execution_count": 57,
   "id": "103e7fe1",
   "metadata": {
    "id": "103e7fe1"
   },
   "outputs": [
    {
     "name": "stdout",
     "output_type": "stream",
     "text": [
      "product_id\n",
      "1        158\n",
      "2          0\n",
      "3         31\n",
      "4         25\n",
      "7          1\n",
      "        ... \n",
      "49690      4\n",
      "49691     31\n",
      "49692      5\n",
      "49693     11\n",
      "49694      3\n",
      "Name: reordered, Length: 45573, dtype: int64\n"
     ]
    }
   ],
   "source": [
    "reordered_products = order_products.groupby('product_id')['reordered'].sum()\n",
    "print(reordered_products)"
   ]
  },
  {
   "cell_type": "code",
   "execution_count": 58,
   "id": "social-individual",
   "metadata": {
    "id": "social-individual"
   },
   "outputs": [
    {
     "name": "stdout",
     "output_type": "stream",
     "text": [
      "product_id\n",
      "1        0.564286\n",
      "2        0.000000\n",
      "3        0.738095\n",
      "4        0.510204\n",
      "7        0.500000\n",
      "           ...   \n",
      "49690    0.800000\n",
      "49691    0.430556\n",
      "49692    0.416667\n",
      "49693    0.440000\n",
      "49694    0.333333\n",
      "Length: 45573, dtype: float64\n",
      "\n",
      "count    45573.000000\n",
      "mean         0.386707\n",
      "std          0.272132\n",
      "min          0.000000\n",
      "25%          0.166667\n",
      "50%          0.408163\n",
      "75%          0.575758\n",
      "max          1.000000\n",
      "dtype: float64\n"
     ]
    },
    {
     "data": {
      "text/plain": [
       "<AxesSubplot:title={'center':'Reordered products/Total sells ratio Frecuency'}, ylabel='Frequency'>"
      ]
     },
     "execution_count": 58,
     "metadata": {},
     "output_type": "execute_result"
    },
    {
     "data": {
      "image/png": "[encoded data removed]",
      "text/plain": [
       "<Figure size 640x480 with 1 Axes>"
      ]
     },
     "metadata": {},
     "output_type": "display_data"
    }
   ],
   "source": [
    "print(reordered_products / total_orders)\n",
    "print()\n",
    "print((reordered_products / total_orders).describe())\n",
    "(reordered_products / total_orders).plot(kind='hist', title='Reordered products/Total sells ratio Frecuency', bins=11)"
   ]
  },
  {
   "cell_type": "markdown",
   "id": "I10dEIAyldcO",
   "metadata": {
    "id": "I10dEIAyldcO"
   },
   "source": [
    "Escribe aquí tus conclusiones\n",
    "Se observa con mayor frecuencia que cada producto se vende por única ocasión, por lo que fortalecer la recompra de un producto es un área de oportunidad para la empresa. Hay una segunda frecuencia mayor que se observa en productos que la mitad de su volumen de venta es por recompra."
   ]
  },
  {
   "cell_type": "markdown",
   "id": "subject-boxing",
   "metadata": {
    "id": "subject-boxing"
   },
   "source": [
    "### [C4] Para cada cliente, ¿qué proporción de sus productos ya los había pedido?"
   ]
  },
  {
   "cell_type": "code",
   "execution_count": 59,
   "id": "medical-couple",
   "metadata": {
    "id": "medical-couple",
    "scrolled": true
   },
   "outputs": [
    {
     "name": "stdout",
     "output_type": "stream",
     "text": [
      "         order_id  product_id  add_to_cart_order  reordered  user_id\n",
      "0         2141543       11440                 17          0    58454\n",
      "1          567889        1560                  1          1   129474\n",
      "2         2261212       26683                  1          1    47476\n",
      "3          491251        8670                 35          1   134505\n",
      "4         2571142        1940                  5          1   155995\n",
      "...           ...         ...                ...        ...      ...\n",
      "4545002    577211       15290                 12          1    76414\n",
      "4545003   1219554       21914                  9          0   163902\n",
      "4545004    692640       47766                  4          1      597\n",
      "4545005    319435         691                  8          1     7124\n",
      "4545006   1398151       28733                  9          0    85144\n",
      "\n",
      "[4545007 rows x 5 columns]\n"
     ]
    }
   ],
   "source": [
    "client_for_order_dict = dict(zip(instacart_orders['order_id'], instacart_orders['user_id']))\n",
    "new_order_products = order_products\n",
    "new_order_products['user_id'] = order_products['order_id'].map(client_for_order_dict)\n",
    "print(new_order_products)"
   ]
  },
  {
   "cell_type": "code",
   "execution_count": 60,
   "id": "8892e4b4",
   "metadata": {
    "id": "8892e4b4"
   },
   "outputs": [
    {
     "name": "stdout",
     "output_type": "stream",
     "text": [
      "user_id\n",
      "2         0.038462\n",
      "4         0.000000\n",
      "5         0.666667\n",
      "6         0.000000\n",
      "7         0.928571\n",
      "            ...   \n",
      "206203    0.222222\n",
      "206206    0.714286\n",
      "206207    0.891304\n",
      "206208    0.696000\n",
      "206209    0.320000\n",
      "Length: 149626, dtype: float64\n",
      "\n",
      "count    149626.000000\n",
      "mean          0.494853\n",
      "std           0.292685\n",
      "min           0.000000\n",
      "25%           0.272727\n",
      "50%           0.500000\n",
      "75%           0.724138\n",
      "max           1.000000\n",
      "dtype: float64\n"
     ]
    },
    {
     "data": {
      "text/plain": [
       "<AxesSubplot:ylabel='Frequency'>"
      ]
     },
     "execution_count": 60,
     "metadata": {},
     "output_type": "execute_result"
    },
    {
     "data": {
      "image/png": "[encoded data removed]",
      "text/plain": [
       "<Figure size 640x480 with 1 Axes>"
      ]
     },
     "metadata": {},
     "output_type": "display_data"
    }
   ],
   "source": [
    "total_products_sold_per_client = new_order_products.groupby('user_id')['product_id'].count()\n",
    "reordered_products_per_client = new_order_products.groupby('user_id')['reordered'].sum()\n",
    "reordered_ratio_per_client = reordered_products_per_client / total_products_sold_per_client\n",
    "print(reordered_ratio_per_client)\n",
    "print()\n",
    "print(reordered_ratio_per_client.describe())\n",
    "reordered_ratio_per_client.plot(kind='hist', bins=11)"
   ]
  },
  {
   "cell_type": "markdown",
   "id": "BgJSvXDsleXz",
   "metadata": {
    "id": "BgJSvXDsleXz"
   },
   "source": [
    "Escribe aquí tus conclusiones\n",
    "Existe una gran proporcion de clientes que en todas sus compras compran los mismos productos que ya habian comprado antes. Esto significa una frecuencia acostumbrada en el consumo de productos. Sin embargo, hay un grupo importante de clientes que compran productos por única ocasión. Se sugiere trabajar en el fortalecimiento de marca o de productos para estos clientes con compras no repetidas."
   ]
  },
  {
   "cell_type": "markdown",
   "id": "92d35137",
   "metadata": {
    "id": "92d35137"
   },
   "source": [
    "### [C5] ¿Cuáles son los 20 principales artículos que las personas ponen primero en sus carritos?"
   ]
  },
  {
   "cell_type": "code",
   "execution_count": 61,
   "id": "0ae57274",
   "metadata": {
    "id": "0ae57274",
    "scrolled": true
   },
   "outputs": [
    {
     "name": "stdout",
     "output_type": "stream",
     "text": [
      "count    4.545007e+06\n",
      "mean     8.533887e+00\n",
      "std      1.518562e+01\n",
      "min      1.000000e+00\n",
      "25%      3.000000e+00\n",
      "50%      6.000000e+00\n",
      "75%      1.100000e+01\n",
      "max      9.990000e+02\n",
      "Name: add_to_cart_order, dtype: float64\n"
     ]
    }
   ],
   "source": [
    "print(order_products['add_to_cart_order'].describe())"
   ]
  },
  {
   "cell_type": "code",
   "execution_count": null,
   "id": "forty-netherlands",
   "metadata": {
    "id": "forty-netherlands",
    "scrolled": true
   },
   "outputs": [],
   "source": [
    "top_20_first_placed_products = order_products[order_products['add_to_cart_order']==1].groupby('product_id')['product_id'].count().sort_values(ascending=False).head(20)\n",
    "print(top_20_first_placed_products)"
   ]
  },
  {
   "cell_type": "code",
   "execution_count": null,
   "id": "08e41ec2",
   "metadata": {
    "id": "08e41ec2"
   },
   "outputs": [],
   "source": [
    "top_20_first_placed_products = pd.DataFrame(top_20_first_placed_products)\n",
    "top_20_first_placed_products['product_name'] = top_20_first_placed_products.index.map(product_names)\n",
    "top_20_first_placed_products.rename(columns={'product_id': 'buy_count'}, inplace=True)\n",
    "print(top_20_first_placed_products)\n",
    "print()\n",
    "print(top_20_first_placed_products.describe())"
   ]
  },
  {
   "cell_type": "markdown",
   "id": "28ce9872",
   "metadata": {
    "id": "28ce9872"
   },
   "source": [
    "Escribe aquí tus conclusiones\n",
    "El artículo que más se coloca en primer lugar en una compra posee 15,562 compras. Del top 20 de los articulos de primera elección el de menor compra tiene un volumen de venta de 1,246 unidades. La mediana del volumen de ventas de este top 20 de articulos de primera elección es de 1,969."
   ]
  },
  {
   "cell_type": "markdown",
   "id": "225c25c8",
   "metadata": {},
   "source": [
    "<div class=\"alert alert-block alert-success\">\n",
    "<b>Comentario del revisor</b> <a class=\"tocSkip\"></a>\n",
    "\n",
    "Muy buen desarrollo de la sección. Desarrollaste de buena manera todos los análisis y lo complementaste con una gráfica.  \n",
    "</div>"
   ]
  },
  {
   "cell_type": "markdown",
   "id": "uITbFCEoDosC",
   "metadata": {
    "id": "uITbFCEoDosC"
   },
   "source": [
    "### Conclusion general del proyecto:\n",
    "Preprocesamiento de datos\n",
    "\n",
    "Existing datos duplicados que fueron eliminados.\n",
    "Se encontró un patrón para los datos duplicados. Se sugiere que este patrón sea comunicado al ingeniero d datos para evitar futuros duplicados innecesarios.\n",
    "Se rellenaron los valores ausentes con el valor 999.\n",
    "\n",
    "Análisis de los datos\n",
    "En general las columnas de los Dataframes contienen valores razonables que hacen sentido.\n",
    "La hora donde más se realizan órdenes es a las 10 AM, mientras que la hora de menor venta es a las 4 AM.\n",
    "El día cuando más se realizan compras es el domingo, mientras que el día de menor venta en número de clientes es el jueves.\n",
    "Las personas esperan hasta 30 días en volver a hacer una compra, o al menos el sistema está habilitado en registrar una recompra hasta 30 días. En promedio se recompra cada 11 días, con una mediana de 7 días. La recompra con mayor número de personas es el día 30 y la menor es el día 26.\n",
    "Desde las 0 hasta 6 horas se observa la meseta de menor venta.\n",
    "Después de las 6 AM y hasta las 10 AM se observa un incremento lineal en las ventas. Después de las 10 AM y hasta las 16 horas se observa una meseta de ventas altas pero sin desplazamiento. Después de las 16 horas existe un declive importante en las ventas que permanece hasta que se acaba el día.\n",
    "En general esta tienda en linea tiene como oportunidad mejorar la recompra en sus clientes la mayoría de sus clientes solo ha comprado una vez. Conforme aumenta el número de compras por cliente, disminuye el número de clientes que recompra. Esto está evidenciado por una mediana de 2 compras por cliente.\n",
    "La gran mayoría de los artículos del top 20 de ventas pertenecen a la sección de frutas y verduras. El producto más comprado ha sido la \"Banana\" con un volumen de ventas de 66,050 órdenes.\n",
    "En la mayoría de las compras se órdena un solo producto. En un 50% de las compras se ordenan 8 artículos o menos. Conforme se aumenta el número de artículos por compra la frecuencia de las órdenes se reduce radicalmente.\n",
    "Algunos de los productos que más se venden coinciden con los productos que más se recompran. Casi todos los productos más recomprados también pertenecen a la sección de frutas y verduras, en su mayoría \"orgánicos\".\n",
    "Se observa con mayor frecuencia que cada producto se vende por única ocasión, por lo que fortalecer la recompra de un producto es un área de oportunidad para la empresa.\n",
    "El artículo que más se coloca en primer lugar en una compra posee 15,562 compras."
   ]
  },
  {
   "cell_type": "markdown",
   "id": "ab0d25d4",
   "metadata": {
    "id": "Nk-4GS7mDwqY"
   },
   "source": [
    "<div class=\"alert alert-block alert-warning\">\n",
    "<b>Comentario revisor</b> <a class=\"tocSkip\"></a>\n",
    "\n",
    "Robert, en general creo que hiciste un muy buen trabajo con el proyecto, pudiste limpiar y trabajar las bases de datos de beuna manera, análisis de duplicados, y de valores faltantes. Además dearrollaste de buena manera los diferentes anális que se solicitaban y cuando podías los complementabas con greaficas. No obstante, recuerda que siempre podemos mejorar y te menciono algunos puntos que debes considerar:\n",
    "\n",
    "* Revisar que los filtros sean correctos en algunos apartados con base en la indicación\n",
    "    \n",
    "    \n",
    "*  Realizar análisis complementarios eliminando los valores que parecen ser atípicos. \n",
    "    \n",
    "\n",
    "    \n",
    "*  Profundizar en los resultados intermedios y en la conclusión final.\n",
    "\n",
    "</div>"
   ]
  }
 ],
 "metadata": {
  "ExecuteTimeLog": [
   {
    "duration": 298,
    "start_time": "2024-10-20T20:12:58.306Z"
   },
   {
    "duration": 540,
    "start_time": "2024-10-20T20:20:26.820Z"
   },
   {
    "duration": 60,
    "start_time": "2024-10-20T20:27:40.019Z"
   },
   {
    "duration": 66,
    "start_time": "2024-10-20T20:29:00.699Z"
   },
   {
    "duration": 66,
    "start_time": "2024-10-20T20:29:52.931Z"
   },
   {
    "duration": 59,
    "start_time": "2024-10-20T20:36:06.769Z"
   },
   {
    "duration": 63,
    "start_time": "2024-10-20T20:38:42.961Z"
   },
   {
    "duration": 59,
    "start_time": "2024-10-20T20:39:28.521Z"
   },
   {
    "duration": 3,
    "start_time": "2024-10-20T20:42:55.956Z"
   },
   {
    "duration": 12,
    "start_time": "2024-10-20T20:49:39.765Z"
   },
   {
    "duration": 155,
    "start_time": "2024-10-21T01:24:11.500Z"
   },
   {
    "duration": 284,
    "start_time": "2024-10-21T01:24:22.980Z"
   },
   {
    "duration": 380,
    "start_time": "2024-10-21T01:24:29.117Z"
   },
   {
    "duration": 331,
    "start_time": "2024-10-21T21:01:43.031Z"
   },
   {
    "duration": 541,
    "start_time": "2024-10-21T21:01:49.200Z"
   },
   {
    "duration": 320,
    "start_time": "2024-10-21T21:57:04.219Z"
   },
   {
    "duration": 266,
    "start_time": "2024-10-21T21:57:18.860Z"
   },
   {
    "duration": 155,
    "start_time": "2024-10-22T00:33:25.080Z"
   },
   {
    "duration": 321,
    "start_time": "2024-10-22T00:35:47.161Z"
   },
   {
    "duration": 286,
    "start_time": "2024-10-22T00:35:50.492Z"
   },
   {
    "duration": 316,
    "start_time": "2024-10-22T00:36:14.573Z"
   },
   {
    "duration": 245,
    "start_time": "2024-10-22T00:36:31.850Z"
   },
   {
    "duration": 244,
    "start_time": "2024-10-22T00:36:35.519Z"
   },
   {
    "duration": 258,
    "start_time": "2024-10-22T00:36:38.687Z"
   },
   {
    "duration": 254,
    "start_time": "2024-10-22T00:36:57.865Z"
   },
   {
    "duration": 366,
    "start_time": "2024-10-22T00:38:23.048Z"
   },
   {
    "duration": 286,
    "start_time": "2024-10-22T00:38:38.507Z"
   },
   {
    "duration": 62,
    "start_time": "2024-10-22T00:56:02.472Z"
   },
   {
    "duration": 320,
    "start_time": "2024-10-22T00:58:17.165Z"
   },
   {
    "duration": 162,
    "start_time": "2024-10-22T16:50:01.571Z"
   },
   {
    "duration": 282,
    "start_time": "2024-10-22T16:50:07.053Z"
   },
   {
    "duration": 2201,
    "start_time": "2024-10-22T16:50:09.898Z"
   },
   {
    "duration": 5,
    "start_time": "2024-10-22T16:51:04.487Z"
   },
   {
    "duration": 5,
    "start_time": "2024-10-22T16:51:19.453Z"
   },
   {
    "duration": 4,
    "start_time": "2024-10-22T16:51:35.597Z"
   },
   {
    "duration": 21,
    "start_time": "2024-10-22T16:52:13.391Z"
   },
   {
    "duration": 20,
    "start_time": "2024-10-22T16:52:19.300Z"
   },
   {
    "duration": 2068,
    "start_time": "2024-10-22T16:56:49.952Z"
   },
   {
    "duration": 13,
    "start_time": "2024-10-22T16:56:54.407Z"
   },
   {
    "duration": 11,
    "start_time": "2024-10-22T17:01:08.072Z"
   },
   {
    "duration": 1913,
    "start_time": "2024-10-22T17:01:29.490Z"
   },
   {
    "duration": 14,
    "start_time": "2024-10-22T17:01:36.878Z"
   },
   {
    "duration": 7,
    "start_time": "2024-10-22T17:02:41.385Z"
   },
   {
    "duration": 8,
    "start_time": "2024-10-22T17:02:59.250Z"
   },
   {
    "duration": 1891,
    "start_time": "2024-10-22T17:03:25.790Z"
   },
   {
    "duration": 10,
    "start_time": "2024-10-22T17:03:37.984Z"
   },
   {
    "duration": 8,
    "start_time": "2024-10-22T17:04:45.283Z"
   },
   {
    "duration": 2094,
    "start_time": "2024-10-22T17:05:00.930Z"
   },
   {
    "duration": 10,
    "start_time": "2024-10-22T17:05:08.909Z"
   },
   {
    "duration": 10,
    "start_time": "2024-10-22T17:05:26.474Z"
   },
   {
    "duration": 8,
    "start_time": "2024-10-22T17:06:11.995Z"
   },
   {
    "duration": 888,
    "start_time": "2024-10-22T17:06:22.198Z"
   },
   {
    "duration": 8,
    "start_time": "2024-10-22T17:06:29.926Z"
   },
   {
    "duration": 71,
    "start_time": "2024-10-22T18:10:19.229Z"
   },
   {
    "duration": 76,
    "start_time": "2024-10-22T18:12:52.879Z"
   },
   {
    "duration": 160,
    "start_time": "2024-10-23T00:46:43.987Z"
   },
   {
    "duration": 306,
    "start_time": "2024-10-23T00:47:02.889Z"
   },
   {
    "duration": 1026,
    "start_time": "2024-10-23T00:47:04.929Z"
   },
   {
    "duration": 14,
    "start_time": "2024-10-23T00:47:11.716Z"
   },
   {
    "duration": 10,
    "start_time": "2024-10-23T00:47:14.824Z"
   },
   {
    "duration": 9,
    "start_time": "2024-10-23T00:47:20.160Z"
   },
   {
    "duration": 9,
    "start_time": "2024-10-23T00:47:23.915Z"
   },
   {
    "duration": 189,
    "start_time": "2024-10-23T00:47:29.367Z"
   },
   {
    "duration": 203,
    "start_time": "2024-10-23T00:55:37.217Z"
   },
   {
    "duration": 13,
    "start_time": "2024-10-23T00:59:09.224Z"
   },
   {
    "duration": 41,
    "start_time": "2024-10-23T00:59:51.308Z"
   },
   {
    "duration": 19,
    "start_time": "2024-10-23T01:00:33.988Z"
   },
   {
    "duration": 10,
    "start_time": "2024-10-23T01:00:57.623Z"
   },
   {
    "duration": 8,
    "start_time": "2024-10-23T01:01:24.979Z"
   },
   {
    "duration": 2,
    "start_time": "2024-10-23T01:02:36.071Z"
   },
   {
    "duration": 2,
    "start_time": "2024-10-23T01:02:58.564Z"
   },
   {
    "duration": 208,
    "start_time": "2024-10-23T01:06:30.899Z"
   },
   {
    "duration": 9,
    "start_time": "2024-10-23T01:07:04.792Z"
   },
   {
    "duration": 9,
    "start_time": "2024-10-23T01:08:28.784Z"
   },
   {
    "duration": 7,
    "start_time": "2024-10-23T01:09:00.748Z"
   },
   {
    "duration": 3,
    "start_time": "2024-10-23T01:09:25.939Z"
   },
   {
    "duration": 7,
    "start_time": "2024-10-23T01:09:54.093Z"
   },
   {
    "duration": 7,
    "start_time": "2024-10-23T01:10:29.987Z"
   },
   {
    "duration": 9,
    "start_time": "2024-10-23T01:11:31.840Z"
   },
   {
    "duration": 9,
    "start_time": "2024-10-23T01:11:39.290Z"
   },
   {
    "duration": 10,
    "start_time": "2024-10-23T01:18:29.894Z"
   },
   {
    "duration": 119,
    "start_time": "2024-10-23T01:22:57.792Z"
   },
   {
    "duration": 101,
    "start_time": "2024-10-23T01:24:13.131Z"
   },
   {
    "duration": 100,
    "start_time": "2024-10-23T01:25:45.961Z"
   },
   {
    "duration": 138,
    "start_time": "2024-10-23T01:25:59.387Z"
   },
   {
    "duration": 71,
    "start_time": "2024-10-23T01:26:09.581Z"
   },
   {
    "duration": 24,
    "start_time": "2024-10-23T01:27:23.145Z"
   },
   {
    "duration": 24,
    "start_time": "2024-10-23T01:39:54.931Z"
   },
   {
    "duration": 5,
    "start_time": "2024-10-23T01:42:25.703Z"
   },
   {
    "duration": 7,
    "start_time": "2024-10-23T01:43:10.460Z"
   },
   {
    "duration": 406,
    "start_time": "2024-10-23T01:44:03.871Z"
   },
   {
    "duration": 15,
    "start_time": "2024-10-23T01:44:22.354Z"
   },
   {
    "duration": 19,
    "start_time": "2024-10-23T01:45:16.882Z"
   },
   {
    "duration": 22,
    "start_time": "2024-10-23T01:48:07.522Z"
   },
   {
    "duration": 19,
    "start_time": "2024-10-23T01:52:14.264Z"
   },
   {
    "duration": 19,
    "start_time": "2024-10-23T01:52:24.934Z"
   },
   {
    "duration": 17,
    "start_time": "2024-10-23T01:52:42.347Z"
   },
   {
    "duration": 17,
    "start_time": "2024-10-23T01:53:53.689Z"
   },
   {
    "duration": 5,
    "start_time": "2024-10-23T01:53:57.666Z"
   },
   {
    "duration": 15,
    "start_time": "2024-10-23T01:54:33.662Z"
   },
   {
    "duration": 15,
    "start_time": "2024-10-23T01:56:33.329Z"
   },
   {
    "duration": 27,
    "start_time": "2024-10-23T01:58:26.058Z"
   },
   {
    "duration": 4,
    "start_time": "2024-10-23T01:58:43.069Z"
   },
   {
    "duration": 4,
    "start_time": "2024-10-23T01:59:01.362Z"
   },
   {
    "duration": 5,
    "start_time": "2024-10-23T02:00:09.994Z"
   },
   {
    "duration": 21,
    "start_time": "2024-10-23T02:00:55.518Z"
   },
   {
    "duration": 21,
    "start_time": "2024-10-23T02:01:13.327Z"
   },
   {
    "duration": 18,
    "start_time": "2024-10-23T02:01:26.477Z"
   },
   {
    "duration": 15,
    "start_time": "2024-10-23T02:01:59.001Z"
   },
   {
    "duration": 16,
    "start_time": "2024-10-23T02:03:06.378Z"
   },
   {
    "duration": 8,
    "start_time": "2024-10-23T02:05:04.191Z"
   },
   {
    "duration": 4,
    "start_time": "2024-10-23T02:08:27.005Z"
   },
   {
    "duration": 20,
    "start_time": "2024-10-23T02:09:19.327Z"
   },
   {
    "duration": 362,
    "start_time": "2024-10-23T14:20:29.138Z"
   },
   {
    "duration": 1042,
    "start_time": "2024-10-23T14:20:33.983Z"
   },
   {
    "duration": 16,
    "start_time": "2024-10-23T14:21:04.227Z"
   },
   {
    "duration": 12,
    "start_time": "2024-10-23T14:21:10.273Z"
   },
   {
    "duration": 9,
    "start_time": "2024-10-23T14:21:13.090Z"
   },
   {
    "duration": 10,
    "start_time": "2024-10-23T14:21:16.223Z"
   },
   {
    "duration": 9,
    "start_time": "2024-10-23T14:21:18.457Z"
   },
   {
    "duration": 228,
    "start_time": "2024-10-23T14:21:22.796Z"
   },
   {
    "duration": 16,
    "start_time": "2024-10-23T14:21:27.325Z"
   },
   {
    "duration": 113,
    "start_time": "2024-10-23T14:21:29.629Z"
   },
   {
    "duration": 114,
    "start_time": "2024-10-23T14:21:31.241Z"
   },
   {
    "duration": 29,
    "start_time": "2024-10-23T14:21:33.116Z"
   },
   {
    "duration": 26,
    "start_time": "2024-10-23T14:21:35.842Z"
   },
   {
    "duration": 5,
    "start_time": "2024-10-23T14:21:37.433Z"
   },
   {
    "duration": 25,
    "start_time": "2024-10-23T14:21:41.776Z"
   },
   {
    "duration": 12,
    "start_time": "2024-10-23T14:21:44.439Z"
   },
   {
    "duration": 6,
    "start_time": "2024-10-23T14:22:10.402Z"
   },
   {
    "duration": 5,
    "start_time": "2024-10-23T14:23:13.913Z"
   },
   {
    "duration": 3,
    "start_time": "2024-10-23T14:23:16.721Z"
   },
   {
    "duration": 5,
    "start_time": "2024-10-23T14:24:06.686Z"
   },
   {
    "duration": 5,
    "start_time": "2024-10-23T14:24:11.784Z"
   },
   {
    "duration": 4,
    "start_time": "2024-10-23T14:26:17.926Z"
   },
   {
    "duration": 4,
    "start_time": "2024-10-23T14:27:07.129Z"
   },
   {
    "duration": 7,
    "start_time": "2024-10-23T14:31:38.411Z"
   },
   {
    "duration": 190,
    "start_time": "2024-10-23T14:32:58.954Z"
   },
   {
    "duration": 13,
    "start_time": "2024-10-23T14:33:09.569Z"
   },
   {
    "duration": 4,
    "start_time": "2024-10-23T14:34:44.098Z"
   },
   {
    "duration": 3,
    "start_time": "2024-10-23T14:35:58.007Z"
   },
   {
    "duration": 1914,
    "start_time": "2024-10-23T14:38:49.448Z"
   },
   {
    "duration": 1734,
    "start_time": "2024-10-23T14:39:10.919Z"
   },
   {
    "duration": 1704,
    "start_time": "2024-10-23T14:40:48.967Z"
   },
   {
    "duration": 808,
    "start_time": "2024-10-23T14:41:12.405Z"
   },
   {
    "duration": 820,
    "start_time": "2024-10-23T14:41:47.419Z"
   },
   {
    "duration": 828,
    "start_time": "2024-10-23T14:42:22.517Z"
   },
   {
    "duration": 14,
    "start_time": "2024-10-23T14:43:22.284Z"
   },
   {
    "duration": 318,
    "start_time": "2024-10-24T23:26:47.474Z"
   },
   {
    "duration": 1155,
    "start_time": "2024-10-24T23:26:48.852Z"
   },
   {
    "duration": 37,
    "start_time": "2024-10-24T23:26:50.009Z"
   },
   {
    "duration": 11,
    "start_time": "2024-10-24T23:26:50.265Z"
   },
   {
    "duration": 12,
    "start_time": "2024-10-24T23:26:51.080Z"
   },
   {
    "duration": 18,
    "start_time": "2024-10-24T23:26:51.505Z"
   },
   {
    "duration": 8,
    "start_time": "2024-10-24T23:26:51.852Z"
   },
   {
    "duration": 210,
    "start_time": "2024-10-24T23:26:55.109Z"
   },
   {
    "duration": 11,
    "start_time": "2024-10-24T23:26:55.844Z"
   },
   {
    "duration": 127,
    "start_time": "2024-10-24T23:26:56.437Z"
   },
   {
    "duration": 101,
    "start_time": "2024-10-24T23:26:56.857Z"
   },
   {
    "duration": 29,
    "start_time": "2024-10-24T23:26:57.171Z"
   },
   {
    "duration": 23,
    "start_time": "2024-10-24T23:26:57.832Z"
   },
   {
    "duration": 4,
    "start_time": "2024-10-24T23:26:58.069Z"
   },
   {
    "duration": 26,
    "start_time": "2024-10-24T23:26:58.288Z"
   },
   {
    "duration": 14,
    "start_time": "2024-10-24T23:26:58.538Z"
   },
   {
    "duration": 5,
    "start_time": "2024-10-24T23:26:59.167Z"
   },
   {
    "duration": 4,
    "start_time": "2024-10-24T23:26:59.385Z"
   },
   {
    "duration": 5,
    "start_time": "2024-10-24T23:27:00.236Z"
   },
   {
    "duration": 4,
    "start_time": "2024-10-24T23:27:02.346Z"
   },
   {
    "duration": 929,
    "start_time": "2024-10-24T23:27:04.442Z"
   },
   {
    "duration": 2,
    "start_time": "2024-10-24T23:27:05.956Z"
   },
   {
    "duration": 1971,
    "start_time": "2024-10-24T23:28:54.569Z"
   },
   {
    "duration": 80,
    "start_time": "2024-10-24T23:37:02.937Z"
   },
   {
    "duration": 119,
    "start_time": "2024-10-24T23:38:10.381Z"
   },
   {
    "duration": 177,
    "start_time": "2024-10-24T23:38:30.754Z"
   },
   {
    "duration": 173,
    "start_time": "2024-10-24T23:38:41.086Z"
   },
   {
    "duration": 6,
    "start_time": "2024-10-24T23:48:21.943Z"
   },
   {
    "duration": 8,
    "start_time": "2024-10-24T23:50:43.020Z"
   },
   {
    "duration": 13,
    "start_time": "2024-10-24T23:50:57.177Z"
   },
   {
    "duration": 15,
    "start_time": "2024-10-24T23:51:24.274Z"
   },
   {
    "duration": 14,
    "start_time": "2024-10-24T23:51:52.334Z"
   },
   {
    "duration": 13,
    "start_time": "2024-10-24T23:52:03.584Z"
   },
   {
    "duration": 6,
    "start_time": "2024-10-25T00:02:15.469Z"
   },
   {
    "duration": 6,
    "start_time": "2024-10-25T00:05:02.266Z"
   },
   {
    "duration": 7,
    "start_time": "2024-10-25T00:05:40.512Z"
   },
   {
    "duration": 18,
    "start_time": "2024-10-25T00:05:47.217Z"
   },
   {
    "duration": 246,
    "start_time": "2024-10-25T00:06:16.995Z"
   },
   {
    "duration": 8,
    "start_time": "2024-10-25T00:06:25.466Z"
   },
   {
    "duration": 8,
    "start_time": "2024-10-25T00:09:20.755Z"
   },
   {
    "duration": 12,
    "start_time": "2024-10-25T00:15:57.495Z"
   },
   {
    "duration": 11,
    "start_time": "2024-10-25T00:16:01.721Z"
   },
   {
    "duration": 8,
    "start_time": "2024-10-25T00:16:10.441Z"
   },
   {
    "duration": 17,
    "start_time": "2024-10-25T00:16:21.219Z"
   },
   {
    "duration": 13,
    "start_time": "2024-10-25T00:16:28.412Z"
   },
   {
    "duration": 13,
    "start_time": "2024-10-25T00:16:41.155Z"
   },
   {
    "duration": 24,
    "start_time": "2024-10-25T00:19:46.391Z"
   },
   {
    "duration": 22,
    "start_time": "2024-10-25T00:19:54.402Z"
   },
   {
    "duration": 14,
    "start_time": "2024-10-25T00:20:09.398Z"
   },
   {
    "duration": 15,
    "start_time": "2024-10-25T00:20:54.864Z"
   },
   {
    "duration": 3,
    "start_time": "2024-10-25T00:26:59.154Z"
   },
   {
    "duration": 4,
    "start_time": "2024-10-25T00:27:24.977Z"
   },
   {
    "duration": 7,
    "start_time": "2024-10-25T00:27:46.874Z"
   },
   {
    "duration": 13,
    "start_time": "2024-10-25T00:30:21.068Z"
   },
   {
    "duration": 11,
    "start_time": "2024-10-25T00:30:57.093Z"
   },
   {
    "duration": 20,
    "start_time": "2024-10-25T00:32:11.015Z"
   },
   {
    "duration": 15,
    "start_time": "2024-10-25T00:32:39.045Z"
   },
   {
    "duration": 3,
    "start_time": "2024-10-25T00:36:48.018Z"
   },
   {
    "duration": 14,
    "start_time": "2024-10-25T00:37:56.883Z"
   },
   {
    "duration": 7,
    "start_time": "2024-10-25T00:39:03.306Z"
   },
   {
    "duration": 7,
    "start_time": "2024-10-25T00:39:19.611Z"
   },
   {
    "duration": 12,
    "start_time": "2024-10-25T00:43:09.168Z"
   },
   {
    "duration": 5,
    "start_time": "2024-10-25T00:44:28.489Z"
   },
   {
    "duration": 12,
    "start_time": "2024-10-25T00:45:01.253Z"
   },
   {
    "duration": 13,
    "start_time": "2024-10-25T00:45:33.058Z"
   },
   {
    "duration": 12,
    "start_time": "2024-10-25T00:45:37.018Z"
   },
   {
    "duration": 197,
    "start_time": "2024-10-25T00:55:19.115Z"
   },
   {
    "duration": 6,
    "start_time": "2024-10-25T00:55:59.902Z"
   },
   {
    "duration": 5,
    "start_time": "2024-10-25T00:56:48.118Z"
   },
   {
    "duration": 6,
    "start_time": "2024-10-25T00:57:20.338Z"
   },
   {
    "duration": 19,
    "start_time": "2024-10-25T01:01:05.172Z"
   },
   {
    "duration": 725,
    "start_time": "2024-10-25T01:06:13.129Z"
   },
   {
    "duration": 496,
    "start_time": "2024-10-25T01:06:22.876Z"
   },
   {
    "duration": 183,
    "start_time": "2024-10-25T01:07:02.637Z"
   },
   {
    "duration": 182,
    "start_time": "2024-10-25T01:07:11.918Z"
   },
   {
    "duration": 6,
    "start_time": "2024-10-25T01:14:41.900Z"
   },
   {
    "duration": 8,
    "start_time": "2024-10-25T01:14:58.569Z"
   },
   {
    "duration": 282,
    "start_time": "2024-10-26T13:04:56.593Z"
   },
   {
    "duration": 1037,
    "start_time": "2024-10-26T13:04:57.450Z"
   },
   {
    "duration": 15,
    "start_time": "2024-10-26T13:04:58.490Z"
   },
   {
    "duration": 10,
    "start_time": "2024-10-26T13:04:58.507Z"
   },
   {
    "duration": 11,
    "start_time": "2024-10-26T13:04:58.532Z"
   },
   {
    "duration": 10,
    "start_time": "2024-10-26T13:04:58.654Z"
   },
   {
    "duration": 8,
    "start_time": "2024-10-26T13:04:58.880Z"
   },
   {
    "duration": 203,
    "start_time": "2024-10-26T13:05:00.141Z"
   },
   {
    "duration": 10,
    "start_time": "2024-10-26T13:05:00.994Z"
   },
   {
    "duration": 109,
    "start_time": "2024-10-26T13:05:01.437Z"
   },
   {
    "duration": 87,
    "start_time": "2024-10-26T13:05:01.676Z"
   },
   {
    "duration": 29,
    "start_time": "2024-10-26T13:05:01.912Z"
   },
   {
    "duration": 20,
    "start_time": "2024-10-26T13:05:02.574Z"
   },
   {
    "duration": 5,
    "start_time": "2024-10-26T13:05:02.817Z"
   },
   {
    "duration": 24,
    "start_time": "2024-10-26T13:05:03.030Z"
   },
   {
    "duration": 12,
    "start_time": "2024-10-26T13:05:03.254Z"
   },
   {
    "duration": 5,
    "start_time": "2024-10-26T13:05:03.942Z"
   },
   {
    "duration": 4,
    "start_time": "2024-10-26T13:05:04.164Z"
   },
   {
    "duration": 6,
    "start_time": "2024-10-26T13:05:04.839Z"
   },
   {
    "duration": 5,
    "start_time": "2024-10-26T13:05:05.057Z"
   },
   {
    "duration": 1643,
    "start_time": "2024-10-26T13:05:06.042Z"
   },
   {
    "duration": 208,
    "start_time": "2024-10-26T13:05:07.687Z"
   },
   {
    "duration": 12,
    "start_time": "2024-10-26T13:05:07.896Z"
   },
   {
    "duration": 26,
    "start_time": "2024-10-26T13:05:07.910Z"
   },
   {
    "duration": 8,
    "start_time": "2024-10-26T13:05:08.146Z"
   },
   {
    "duration": 15,
    "start_time": "2024-10-26T13:05:08.671Z"
   },
   {
    "duration": 7,
    "start_time": "2024-10-26T13:05:09.302Z"
   },
   {
    "duration": 13,
    "start_time": "2024-10-26T13:05:10.190Z"
   },
   {
    "duration": 7,
    "start_time": "2024-10-26T13:05:10.489Z"
   },
   {
    "duration": 20,
    "start_time": "2024-10-26T13:05:11.328Z"
   },
   {
    "duration": 194,
    "start_time": "2024-10-26T13:05:13.320Z"
   },
   {
    "duration": 8,
    "start_time": "2024-10-26T13:05:17.823Z"
   },
   {
    "duration": 5,
    "start_time": "2024-10-26T13:05:19.430Z"
   },
   {
    "duration": 20,
    "start_time": "2024-10-26T13:06:06.350Z"
   },
   {
    "duration": 20,
    "start_time": "2024-10-26T13:06:38.778Z"
   },
   {
    "duration": 9,
    "start_time": "2024-10-26T13:13:50.844Z"
   },
   {
    "duration": 11,
    "start_time": "2024-10-26T13:14:09.140Z"
   },
   {
    "duration": 19,
    "start_time": "2024-10-26T13:19:28.578Z"
   },
   {
    "duration": 257,
    "start_time": "2024-10-26T13:20:32.708Z"
   },
   {
    "duration": 4,
    "start_time": "2024-10-26T13:24:58.771Z"
   },
   {
    "duration": 4,
    "start_time": "2024-10-26T13:25:09.377Z"
   },
   {
    "duration": 4,
    "start_time": "2024-10-26T13:25:29.514Z"
   },
   {
    "duration": 4,
    "start_time": "2024-10-26T13:25:38.208Z"
   },
   {
    "duration": 21,
    "start_time": "2024-10-26T13:26:40.301Z"
   },
   {
    "duration": 960,
    "start_time": "2024-10-26T13:27:33.213Z"
   },
   {
    "duration": 44678,
    "start_time": "2024-10-26T13:28:04.582Z"
   },
   {
    "duration": 6,
    "start_time": "2024-10-26T13:32:39.869Z"
   },
   {
    "duration": 49333,
    "start_time": "2024-10-26T13:32:47.244Z"
   },
   {
    "duration": 325,
    "start_time": "2024-10-27T13:07:51.125Z"
   },
   {
    "duration": 1030,
    "start_time": "2024-10-27T13:07:51.454Z"
   },
   {
    "duration": 19,
    "start_time": "2024-10-27T13:07:52.486Z"
   },
   {
    "duration": 11,
    "start_time": "2024-10-27T13:07:52.507Z"
   },
   {
    "duration": 12,
    "start_time": "2024-10-27T13:07:52.553Z"
   },
   {
    "duration": 9,
    "start_time": "2024-10-27T13:07:52.742Z"
   },
   {
    "duration": 8,
    "start_time": "2024-10-27T13:07:53.029Z"
   },
   {
    "duration": 189,
    "start_time": "2024-10-27T13:07:54.575Z"
   },
   {
    "duration": 13,
    "start_time": "2024-10-27T13:07:55.131Z"
   },
   {
    "duration": 103,
    "start_time": "2024-10-27T13:07:55.685Z"
   },
   {
    "duration": 84,
    "start_time": "2024-10-27T13:07:55.961Z"
   },
   {
    "duration": 27,
    "start_time": "2024-10-27T13:07:56.246Z"
   },
   {
    "duration": 19,
    "start_time": "2024-10-27T13:07:57.055Z"
   },
   {
    "duration": 4,
    "start_time": "2024-10-27T13:07:57.356Z"
   },
   {
    "duration": 22,
    "start_time": "2024-10-27T13:07:57.614Z"
   },
   {
    "duration": 11,
    "start_time": "2024-10-27T13:07:57.869Z"
   },
   {
    "duration": 5,
    "start_time": "2024-10-27T13:07:58.722Z"
   },
   {
    "duration": 3,
    "start_time": "2024-10-27T13:07:59.009Z"
   },
   {
    "duration": 4,
    "start_time": "2024-10-27T13:07:59.729Z"
   },
   {
    "duration": 4,
    "start_time": "2024-10-27T13:07:59.958Z"
   },
   {
    "duration": 1576,
    "start_time": "2024-10-27T13:08:00.754Z"
   },
   {
    "duration": 183,
    "start_time": "2024-10-27T13:08:02.332Z"
   },
   {
    "duration": 12,
    "start_time": "2024-10-27T13:08:02.517Z"
   },
   {
    "duration": 9,
    "start_time": "2024-10-27T13:08:02.615Z"
   },
   {
    "duration": 8,
    "start_time": "2024-10-27T13:08:03.132Z"
   },
   {
    "duration": 14,
    "start_time": "2024-10-27T13:08:03.725Z"
   },
   {
    "duration": 7,
    "start_time": "2024-10-27T13:08:05.022Z"
   },
   {
    "duration": 13,
    "start_time": "2024-10-27T13:08:06.075Z"
   },
   {
    "duration": 5,
    "start_time": "2024-10-27T13:08:06.306Z"
   },
   {
    "duration": 19,
    "start_time": "2024-10-27T13:08:06.988Z"
   },
   {
    "duration": 186,
    "start_time": "2024-10-27T13:08:07.196Z"
   },
   {
    "duration": 7,
    "start_time": "2024-10-27T13:08:07.718Z"
   },
   {
    "duration": 46968,
    "start_time": "2024-10-27T13:08:08.006Z"
   },
   {
    "duration": 2,
    "start_time": "2024-10-27T13:08:54.977Z"
   },
   {
    "duration": 179,
    "start_time": "2024-10-27T13:10:18.392Z"
   },
   {
    "duration": 10,
    "start_time": "2024-10-27T13:14:56.680Z"
   },
   {
    "duration": 11,
    "start_time": "2024-10-27T13:15:13.113Z"
   },
   {
    "duration": 14,
    "start_time": "2024-10-27T13:17:44.122Z"
   },
   {
    "duration": 84,
    "start_time": "2024-10-27T13:18:02.965Z"
   },
   {
    "duration": 15,
    "start_time": "2024-10-27T13:18:06.392Z"
   },
   {
    "duration": 11,
    "start_time": "2024-10-27T13:18:20.547Z"
   },
   {
    "duration": 13,
    "start_time": "2024-10-27T13:19:45.053Z"
   },
   {
    "duration": 12,
    "start_time": "2024-10-27T13:19:57.712Z"
   },
   {
    "duration": 13,
    "start_time": "2024-10-27T13:23:33.004Z"
   },
   {
    "duration": 11,
    "start_time": "2024-10-27T13:23:49.697Z"
   },
   {
    "duration": 277,
    "start_time": "2024-10-28T21:56:33.983Z"
   },
   {
    "duration": 975,
    "start_time": "2024-10-28T21:56:34.877Z"
   },
   {
    "duration": 15,
    "start_time": "2024-10-28T21:56:35.854Z"
   },
   {
    "duration": 11,
    "start_time": "2024-10-28T21:56:35.870Z"
   },
   {
    "duration": 28,
    "start_time": "2024-10-28T21:56:35.883Z"
   },
   {
    "duration": 8,
    "start_time": "2024-10-28T21:56:35.913Z"
   },
   {
    "duration": 7,
    "start_time": "2024-10-28T21:56:35.961Z"
   },
   {
    "duration": 180,
    "start_time": "2024-10-28T21:56:37.385Z"
   },
   {
    "duration": 10,
    "start_time": "2024-10-28T21:56:37.707Z"
   },
   {
    "duration": 101,
    "start_time": "2024-10-28T21:56:38.035Z"
   },
   {
    "duration": 83,
    "start_time": "2024-10-28T21:56:38.203Z"
   },
   {
    "duration": 28,
    "start_time": "2024-10-28T21:56:38.405Z"
   },
   {
    "duration": 19,
    "start_time": "2024-10-28T21:56:39.024Z"
   },
   {
    "duration": 4,
    "start_time": "2024-10-28T21:56:39.218Z"
   },
   {
    "duration": 21,
    "start_time": "2024-10-28T21:56:39.446Z"
   },
   {
    "duration": 12,
    "start_time": "2024-10-28T21:56:39.685Z"
   },
   {
    "duration": 5,
    "start_time": "2024-10-28T21:56:40.590Z"
   },
   {
    "duration": 4,
    "start_time": "2024-10-28T21:56:40.851Z"
   },
   {
    "duration": 6,
    "start_time": "2024-10-28T21:56:41.410Z"
   },
   {
    "duration": 4,
    "start_time": "2024-10-28T21:56:41.591Z"
   },
   {
    "duration": 1594,
    "start_time": "2024-10-28T21:56:42.226Z"
   },
   {
    "duration": 170,
    "start_time": "2024-10-28T21:56:43.822Z"
   },
   {
    "duration": 17,
    "start_time": "2024-10-28T21:56:43.994Z"
   },
   {
    "duration": 8,
    "start_time": "2024-10-28T21:56:44.368Z"
   },
   {
    "duration": 8,
    "start_time": "2024-10-28T21:56:45.034Z"
   },
   {
    "duration": 15,
    "start_time": "2024-10-28T21:56:46.087Z"
   },
   {
    "duration": 7,
    "start_time": "2024-10-28T21:56:48.571Z"
   },
   {
    "duration": 12,
    "start_time": "2024-10-28T21:56:49.333Z"
   },
   {
    "duration": 6,
    "start_time": "2024-10-28T21:56:49.518Z"
   },
   {
    "duration": 19,
    "start_time": "2024-10-28T21:56:50.103Z"
   },
   {
    "duration": 185,
    "start_time": "2024-10-28T21:56:50.314Z"
   },
   {
    "duration": 8,
    "start_time": "2024-10-28T21:56:50.698Z"
   },
   {
    "duration": 14,
    "start_time": "2024-10-28T21:56:50.915Z"
   },
   {
    "duration": 2,
    "start_time": "2024-10-28T21:56:51.332Z"
   },
   {
    "duration": 11,
    "start_time": "2024-10-28T21:58:01.901Z"
   },
   {
    "duration": 12,
    "start_time": "2024-10-28T21:58:36.680Z"
   },
   {
    "duration": 13,
    "start_time": "2024-10-28T22:00:34.730Z"
   },
   {
    "duration": 15,
    "start_time": "2024-10-28T22:03:30.961Z"
   },
   {
    "duration": 8,
    "start_time": "2024-10-28T22:10:44.499Z"
   },
   {
    "duration": 35,
    "start_time": "2024-10-28T22:11:11.521Z"
   },
   {
    "duration": 585,
    "start_time": "2024-10-28T22:12:07.313Z"
   },
   {
    "duration": 44,
    "start_time": "2024-10-28T22:13:28.429Z"
   },
   {
    "duration": 39,
    "start_time": "2024-10-28T22:14:02.393Z"
   },
   {
    "duration": 46,
    "start_time": "2024-10-28T22:14:07.503Z"
   },
   {
    "duration": 74,
    "start_time": "2024-10-28T22:16:10.596Z"
   },
   {
    "duration": 64,
    "start_time": "2024-10-28T22:16:16.563Z"
   },
   {
    "duration": 35,
    "start_time": "2024-10-28T22:16:49.627Z"
   },
   {
    "duration": 68,
    "start_time": "2024-10-28T22:30:36.281Z"
   },
   {
    "duration": 38,
    "start_time": "2024-10-28T22:32:10.199Z"
   },
   {
    "duration": 306,
    "start_time": "2024-10-29T14:15:40.109Z"
   },
   {
    "duration": 969,
    "start_time": "2024-10-29T14:15:40.417Z"
   },
   {
    "duration": 14,
    "start_time": "2024-10-29T14:15:41.388Z"
   },
   {
    "duration": 11,
    "start_time": "2024-10-29T14:15:41.404Z"
   },
   {
    "duration": 8,
    "start_time": "2024-10-29T14:15:41.417Z"
   },
   {
    "duration": 8,
    "start_time": "2024-10-29T14:15:41.427Z"
   },
   {
    "duration": 36,
    "start_time": "2024-10-29T14:15:41.437Z"
   },
   {
    "duration": 191,
    "start_time": "2024-10-29T14:15:42.745Z"
   },
   {
    "duration": 11,
    "start_time": "2024-10-29T14:15:43.142Z"
   },
   {
    "duration": 110,
    "start_time": "2024-10-29T14:15:43.582Z"
   },
   {
    "duration": 88,
    "start_time": "2024-10-29T14:15:43.982Z"
   },
   {
    "duration": 28,
    "start_time": "2024-10-29T14:15:44.247Z"
   },
   {
    "duration": 22,
    "start_time": "2024-10-29T14:15:44.852Z"
   },
   {
    "duration": 5,
    "start_time": "2024-10-29T14:15:45.060Z"
   },
   {
    "duration": 25,
    "start_time": "2024-10-29T14:15:45.254Z"
   },
   {
    "duration": 12,
    "start_time": "2024-10-29T14:15:45.462Z"
   },
   {
    "duration": 5,
    "start_time": "2024-10-29T14:15:46.162Z"
   },
   {
    "duration": 5,
    "start_time": "2024-10-29T14:15:46.409Z"
   },
   {
    "duration": 5,
    "start_time": "2024-10-29T14:15:47.131Z"
   },
   {
    "duration": 5,
    "start_time": "2024-10-29T14:15:47.344Z"
   },
   {
    "duration": 1674,
    "start_time": "2024-10-29T14:15:48.071Z"
   },
   {
    "duration": 181,
    "start_time": "2024-10-29T14:15:49.747Z"
   },
   {
    "duration": 13,
    "start_time": "2024-10-29T14:15:49.929Z"
   },
   {
    "duration": 10,
    "start_time": "2024-10-29T14:15:51.576Z"
   },
   {
    "duration": 8,
    "start_time": "2024-10-29T14:15:53.102Z"
   },
   {
    "duration": 15,
    "start_time": "2024-10-29T14:15:54.178Z"
   },
   {
    "duration": 7,
    "start_time": "2024-10-29T14:15:55.244Z"
   },
   {
    "duration": 12,
    "start_time": "2024-10-29T14:15:57.093Z"
   },
   {
    "duration": 6,
    "start_time": "2024-10-29T14:15:57.293Z"
   },
   {
    "duration": 19,
    "start_time": "2024-10-29T14:15:59.238Z"
   },
   {
    "duration": 187,
    "start_time": "2024-10-29T14:15:59.844Z"
   },
   {
    "duration": 9,
    "start_time": "2024-10-29T14:16:01.797Z"
   },
   {
    "duration": 16,
    "start_time": "2024-10-29T14:16:02.831Z"
   },
   {
    "duration": 39,
    "start_time": "2024-10-29T14:16:04.211Z"
   },
   {
    "duration": 78,
    "start_time": "2024-10-29T14:25:01.097Z"
   },
   {
    "duration": 69,
    "start_time": "2024-10-29T14:25:08.170Z"
   },
   {
    "duration": 71,
    "start_time": "2024-10-29T14:25:41.620Z"
   },
   {
    "duration": 13,
    "start_time": "2024-10-29T14:29:00.853Z"
   },
   {
    "duration": 13,
    "start_time": "2024-10-29T14:29:21.000Z"
   },
   {
    "duration": 71,
    "start_time": "2024-10-29T14:32:19.747Z"
   },
   {
    "duration": 75,
    "start_time": "2024-10-29T14:33:39.143Z"
   },
   {
    "duration": 9,
    "start_time": "2024-10-29T14:34:03.575Z"
   },
   {
    "duration": 14,
    "start_time": "2024-10-29T14:35:08.307Z"
   },
   {
    "duration": 14,
    "start_time": "2024-10-29T14:35:23.631Z"
   },
   {
    "duration": 504,
    "start_time": "2024-10-29T14:39:59.837Z"
   },
   {
    "duration": 19,
    "start_time": "2024-10-29T14:40:17.096Z"
   },
   {
    "duration": 25,
    "start_time": "2024-10-29T14:40:24.962Z"
   },
   {
    "duration": 13,
    "start_time": "2024-10-29T14:41:15.787Z"
   },
   {
    "duration": 11,
    "start_time": "2024-10-29T14:43:42.006Z"
   },
   {
    "duration": 10,
    "start_time": "2024-10-29T14:43:58.120Z"
   },
   {
    "duration": 20,
    "start_time": "2024-10-29T14:45:11.396Z"
   },
   {
    "duration": 40,
    "start_time": "2024-10-29T14:45:35.870Z"
   },
   {
    "duration": 24,
    "start_time": "2024-10-29T14:48:25.211Z"
   },
   {
    "duration": 41,
    "start_time": "2024-10-29T14:48:31.788Z"
   },
   {
    "duration": 25,
    "start_time": "2024-10-29T14:50:45.418Z"
   },
   {
    "duration": 26,
    "start_time": "2024-10-29T14:50:50.533Z"
   },
   {
    "duration": 40,
    "start_time": "2024-10-29T14:51:07.305Z"
   },
   {
    "duration": 42,
    "start_time": "2024-10-29T14:51:25.910Z"
   },
   {
    "duration": 41,
    "start_time": "2024-10-29T14:51:52.076Z"
   },
   {
    "duration": 41,
    "start_time": "2024-10-29T14:51:57.885Z"
   },
   {
    "duration": 2061,
    "start_time": "2024-10-29T15:58:20.675Z"
   },
   {
    "duration": 135,
    "start_time": "2024-10-29T15:58:30.009Z"
   },
   {
    "duration": 1045,
    "start_time": "2024-10-29T15:58:30.750Z"
   },
   {
    "duration": 20,
    "start_time": "2024-10-29T15:58:31.797Z"
   },
   {
    "duration": 11,
    "start_time": "2024-10-29T15:58:31.818Z"
   },
   {
    "duration": 8,
    "start_time": "2024-10-29T15:58:31.831Z"
   },
   {
    "duration": 10,
    "start_time": "2024-10-29T15:58:31.841Z"
   },
   {
    "duration": 8,
    "start_time": "2024-10-29T15:58:31.852Z"
   },
   {
    "duration": 202,
    "start_time": "2024-10-29T15:58:32.948Z"
   },
   {
    "duration": 11,
    "start_time": "2024-10-29T15:58:33.369Z"
   },
   {
    "duration": 113,
    "start_time": "2024-10-29T15:58:33.784Z"
   },
   {
    "duration": 94,
    "start_time": "2024-10-29T15:58:33.992Z"
   },
   {
    "duration": 31,
    "start_time": "2024-10-29T15:58:34.204Z"
   },
   {
    "duration": 20,
    "start_time": "2024-10-29T15:58:34.839Z"
   },
   {
    "duration": 5,
    "start_time": "2024-10-29T15:58:35.035Z"
   },
   {
    "duration": 24,
    "start_time": "2024-10-29T15:58:35.255Z"
   },
   {
    "duration": 12,
    "start_time": "2024-10-29T15:58:35.448Z"
   },
   {
    "duration": 5,
    "start_time": "2024-10-29T15:58:36.118Z"
   },
   {
    "duration": 4,
    "start_time": "2024-10-29T15:58:36.386Z"
   },
   {
    "duration": 6,
    "start_time": "2024-10-29T15:58:37.034Z"
   },
   {
    "duration": 4,
    "start_time": "2024-10-29T15:58:37.293Z"
   },
   {
    "duration": 1699,
    "start_time": "2024-10-29T15:58:37.923Z"
   },
   {
    "duration": 207,
    "start_time": "2024-10-29T15:58:39.625Z"
   },
   {
    "duration": 12,
    "start_time": "2024-10-29T15:58:39.834Z"
   },
   {
    "duration": 7,
    "start_time": "2024-10-29T15:58:39.848Z"
   },
   {
    "duration": 7,
    "start_time": "2024-10-29T15:58:39.860Z"
   },
   {
    "duration": 15,
    "start_time": "2024-10-29T15:58:40.339Z"
   },
   {
    "duration": 8,
    "start_time": "2024-10-29T15:58:40.767Z"
   },
   {
    "duration": 12,
    "start_time": "2024-10-29T15:58:41.419Z"
   },
   {
    "duration": 6,
    "start_time": "2024-10-29T15:58:41.674Z"
   },
   {
    "duration": 19,
    "start_time": "2024-10-29T15:58:42.699Z"
   },
   {
    "duration": 187,
    "start_time": "2024-10-29T15:58:43.199Z"
   },
   {
    "duration": 8,
    "start_time": "2024-10-29T15:58:44.491Z"
   },
   {
    "duration": 19,
    "start_time": "2024-10-29T15:58:45.154Z"
   },
   {
    "duration": 51,
    "start_time": "2024-10-29T15:58:47.246Z"
   },
   {
    "duration": 14,
    "start_time": "2024-10-29T15:58:52.280Z"
   },
   {
    "duration": 14,
    "start_time": "2024-10-29T15:58:52.548Z"
   },
   {
    "duration": 13,
    "start_time": "2024-10-29T15:58:53.262Z"
   },
   {
    "duration": 16,
    "start_time": "2024-10-29T15:58:54.422Z"
   },
   {
    "duration": 43,
    "start_time": "2024-10-29T15:58:55.648Z"
   },
   {
    "duration": 3,
    "start_time": "2024-10-29T15:59:05.872Z"
   },
   {
    "duration": 96,
    "start_time": "2024-10-29T16:11:22.793Z"
   },
   {
    "duration": 44,
    "start_time": "2024-10-29T16:11:34.912Z"
   },
   {
    "duration": 16,
    "start_time": "2024-10-29T16:43:38.840Z"
   },
   {
    "duration": 13,
    "start_time": "2024-10-29T16:44:05.938Z"
   },
   {
    "duration": 137,
    "start_time": "2024-10-29T16:45:10.607Z"
   },
   {
    "duration": 3,
    "start_time": "2024-10-29T16:45:17.757Z"
   },
   {
    "duration": 127,
    "start_time": "2024-10-29T16:45:43.353Z"
   },
   {
    "duration": 162,
    "start_time": "2024-10-29T16:45:50.591Z"
   },
   {
    "duration": 124,
    "start_time": "2024-10-29T16:45:56.761Z"
   },
   {
    "duration": 6,
    "start_time": "2024-10-29T16:47:52.082Z"
   },
   {
    "duration": 137,
    "start_time": "2024-10-29T16:48:05.739Z"
   },
   {
    "duration": 143,
    "start_time": "2024-10-29T16:48:23.224Z"
   },
   {
    "duration": 4,
    "start_time": "2024-10-29T16:49:11.121Z"
   },
   {
    "duration": 6,
    "start_time": "2024-10-29T16:57:19.897Z"
   },
   {
    "duration": 4,
    "start_time": "2024-10-29T16:58:58.681Z"
   },
   {
    "duration": 6,
    "start_time": "2024-10-29T17:01:34.149Z"
   },
   {
    "duration": 4,
    "start_time": "2024-10-29T17:03:11.114Z"
   },
   {
    "duration": 4,
    "start_time": "2024-10-29T17:05:41.048Z"
   },
   {
    "duration": 130,
    "start_time": "2024-10-29T17:09:08.071Z"
   },
   {
    "duration": 168,
    "start_time": "2024-10-29T17:12:41.221Z"
   },
   {
    "duration": 121,
    "start_time": "2024-10-29T17:13:22.079Z"
   },
   {
    "duration": 144,
    "start_time": "2024-10-29T17:13:28.673Z"
   },
   {
    "duration": 118,
    "start_time": "2024-10-29T17:14:14.651Z"
   },
   {
    "duration": 165,
    "start_time": "2024-10-29T17:14:20.570Z"
   },
   {
    "duration": 148,
    "start_time": "2024-10-29T17:14:30.594Z"
   },
   {
    "duration": 309,
    "start_time": "2024-10-29T17:14:42.874Z"
   },
   {
    "duration": 956,
    "start_time": "2024-10-29T17:14:43.185Z"
   },
   {
    "duration": 15,
    "start_time": "2024-10-29T17:14:44.143Z"
   },
   {
    "duration": 13,
    "start_time": "2024-10-29T17:14:44.161Z"
   },
   {
    "duration": 10,
    "start_time": "2024-10-29T17:14:44.175Z"
   },
   {
    "duration": 11,
    "start_time": "2024-10-29T17:14:44.210Z"
   },
   {
    "duration": 22,
    "start_time": "2024-10-29T17:14:44.223Z"
   },
   {
    "duration": 228,
    "start_time": "2024-10-29T17:14:44.247Z"
   },
   {
    "duration": 11,
    "start_time": "2024-10-29T17:14:44.477Z"
   },
   {
    "duration": 128,
    "start_time": "2024-10-29T17:14:44.492Z"
   },
   {
    "duration": 102,
    "start_time": "2024-10-29T17:14:44.621Z"
   },
   {
    "duration": 33,
    "start_time": "2024-10-29T17:14:44.724Z"
   },
   {
    "duration": 21,
    "start_time": "2024-10-29T17:14:44.759Z"
   },
   {
    "duration": 6,
    "start_time": "2024-10-29T17:14:44.782Z"
   },
   {
    "duration": 38,
    "start_time": "2024-10-29T17:14:44.823Z"
   },
   {
    "duration": 13,
    "start_time": "2024-10-29T17:14:44.863Z"
   },
   {
    "duration": 5,
    "start_time": "2024-10-29T17:14:44.878Z"
   },
   {
    "duration": 4,
    "start_time": "2024-10-29T17:14:44.885Z"
   },
   {
    "duration": 6,
    "start_time": "2024-10-29T17:14:44.890Z"
   },
   {
    "duration": 7,
    "start_time": "2024-10-29T17:14:44.909Z"
   },
   {
    "duration": 1868,
    "start_time": "2024-10-29T17:14:44.917Z"
   },
   {
    "duration": 204,
    "start_time": "2024-10-29T17:14:46.786Z"
   },
   {
    "duration": 41,
    "start_time": "2024-10-29T17:14:46.992Z"
   },
   {
    "duration": 9,
    "start_time": "2024-10-29T17:14:47.035Z"
   },
   {
    "duration": 8,
    "start_time": "2024-10-29T17:14:47.046Z"
   },
   {
    "duration": 17,
    "start_time": "2024-10-29T17:14:47.056Z"
   },
   {
    "duration": 6,
    "start_time": "2024-10-29T17:14:47.075Z"
   },
   {
    "duration": 39,
    "start_time": "2024-10-29T17:14:47.085Z"
   },
   {
    "duration": 7,
    "start_time": "2024-10-29T17:14:47.133Z"
   },
   {
    "duration": 20,
    "start_time": "2024-10-29T17:14:47.142Z"
   },
   {
    "duration": 218,
    "start_time": "2024-10-29T17:14:47.164Z"
   },
   {
    "duration": 7,
    "start_time": "2024-10-29T17:14:47.384Z"
   },
   {
    "duration": 36,
    "start_time": "2024-10-29T17:14:47.392Z"
   },
   {
    "duration": 38,
    "start_time": "2024-10-29T17:14:47.441Z"
   },
   {
    "duration": 13,
    "start_time": "2024-10-29T17:14:47.481Z"
   },
   {
    "duration": 14,
    "start_time": "2024-10-29T17:14:47.496Z"
   },
   {
    "duration": 17,
    "start_time": "2024-10-29T17:14:47.525Z"
   },
   {
    "duration": 14,
    "start_time": "2024-10-29T17:14:47.545Z"
   },
   {
    "duration": 72,
    "start_time": "2024-10-29T17:14:47.560Z"
   },
   {
    "duration": 140,
    "start_time": "2024-10-29T17:14:47.638Z"
   },
   {
    "duration": 13,
    "start_time": "2024-10-29T17:14:47.780Z"
   },
   {
    "duration": 195,
    "start_time": "2024-10-29T17:14:47.795Z"
   },
   {
    "duration": 2,
    "start_time": "2024-10-29T17:14:47.993Z"
   },
   {
    "duration": 180,
    "start_time": "2024-10-29T17:14:57.260Z"
   },
   {
    "duration": 153,
    "start_time": "2024-10-29T17:21:30.029Z"
   },
   {
    "duration": 147,
    "start_time": "2024-10-29T17:24:30.733Z"
   },
   {
    "duration": 969,
    "start_time": "2024-10-29T17:24:58.133Z"
   },
   {
    "duration": 318,
    "start_time": "2024-10-29T17:25:33.300Z"
   },
   {
    "duration": 158,
    "start_time": "2024-10-29T17:26:01.278Z"
   },
   {
    "duration": 3,
    "start_time": "2024-10-29T17:28:13.780Z"
   },
   {
    "duration": 173,
    "start_time": "2024-10-29T17:30:06.155Z"
   },
   {
    "duration": 150,
    "start_time": "2024-10-29T17:30:20.852Z"
   },
   {
    "duration": 8,
    "start_time": "2024-10-29T17:30:37.629Z"
   },
   {
    "duration": 45,
    "start_time": "2024-10-29T17:50:29.918Z"
   },
   {
    "duration": 52,
    "start_time": "2024-10-29T17:51:00.293Z"
   },
   {
    "duration": 41,
    "start_time": "2024-10-29T17:52:17.755Z"
   },
   {
    "duration": 52,
    "start_time": "2024-10-29T17:54:35.725Z"
   },
   {
    "duration": 111,
    "start_time": "2024-10-29T17:54:49.134Z"
   },
   {
    "duration": 137,
    "start_time": "2024-10-29T17:55:43.593Z"
   },
   {
    "duration": 287,
    "start_time": "2024-10-29T17:56:15.368Z"
   },
   {
    "duration": 68,
    "start_time": "2024-10-29T17:58:20.909Z"
   },
   {
    "duration": 52,
    "start_time": "2024-10-29T17:58:50.430Z"
   },
   {
    "duration": 50,
    "start_time": "2024-10-29T17:59:00.333Z"
   },
   {
    "duration": 101,
    "start_time": "2024-10-29T18:07:56.191Z"
   },
   {
    "duration": 4,
    "start_time": "2024-10-29T18:09:06.657Z"
   },
   {
    "duration": 6,
    "start_time": "2024-10-29T18:12:03.825Z"
   },
   {
    "duration": 8,
    "start_time": "2024-10-29T18:12:28.558Z"
   },
   {
    "duration": 4,
    "start_time": "2024-10-29T18:13:19.474Z"
   },
   {
    "duration": 91,
    "start_time": "2024-10-29T18:13:40.872Z"
   },
   {
    "duration": 437,
    "start_time": "2024-10-29T18:15:06.302Z"
   },
   {
    "duration": 47,
    "start_time": "2024-10-29T18:17:31.952Z"
   },
   {
    "duration": 4,
    "start_time": "2024-10-29T18:31:04.073Z"
   },
   {
    "duration": 4,
    "start_time": "2024-10-29T18:31:13.435Z"
   },
   {
    "duration": 54,
    "start_time": "2024-10-29T18:31:42.839Z"
   },
   {
    "duration": 20,
    "start_time": "2024-10-29T18:31:57.573Z"
   },
   {
    "duration": 10,
    "start_time": "2024-10-29T18:32:05.067Z"
   },
   {
    "duration": 109,
    "start_time": "2024-10-29T18:33:09.878Z"
   },
   {
    "duration": 123,
    "start_time": "2024-10-29T18:33:50.701Z"
   },
   {
    "duration": 217,
    "start_time": "2024-10-29T18:34:32.256Z"
   },
   {
    "duration": 216,
    "start_time": "2024-10-29T18:34:42.034Z"
   },
   {
    "duration": 286,
    "start_time": "2024-10-29T18:35:48.929Z"
   },
   {
    "duration": 137,
    "start_time": "2024-10-29T18:36:10.704Z"
   },
   {
    "duration": 204,
    "start_time": "2024-10-29T18:36:23.578Z"
   },
   {
    "duration": 204,
    "start_time": "2024-10-29T18:37:30.593Z"
   },
   {
    "duration": 243,
    "start_time": "2024-10-29T18:38:44.703Z"
   },
   {
    "duration": 6,
    "start_time": "2024-10-29T18:40:02.173Z"
   },
   {
    "duration": 216,
    "start_time": "2024-10-29T18:40:07.384Z"
   },
   {
    "duration": 119,
    "start_time": "2024-10-29T18:42:16.741Z"
   },
   {
    "duration": 158,
    "start_time": "2024-10-30T01:20:21.008Z"
   },
   {
    "duration": 326,
    "start_time": "2024-10-30T01:20:36.374Z"
   },
   {
    "duration": 1062,
    "start_time": "2024-10-30T01:20:36.702Z"
   },
   {
    "duration": 14,
    "start_time": "2024-10-30T01:20:37.766Z"
   },
   {
    "duration": 10,
    "start_time": "2024-10-30T01:20:37.781Z"
   },
   {
    "duration": 9,
    "start_time": "2024-10-30T01:20:37.793Z"
   },
   {
    "duration": 10,
    "start_time": "2024-10-30T01:20:37.803Z"
   },
   {
    "duration": 7,
    "start_time": "2024-10-30T01:20:37.815Z"
   },
   {
    "duration": 188,
    "start_time": "2024-10-30T01:20:38.913Z"
   },
   {
    "duration": 10,
    "start_time": "2024-10-30T01:20:39.343Z"
   },
   {
    "duration": 103,
    "start_time": "2024-10-30T01:20:39.803Z"
   },
   {
    "duration": 84,
    "start_time": "2024-10-30T01:20:40.036Z"
   },
   {
    "duration": 31,
    "start_time": "2024-10-30T01:20:40.318Z"
   },
   {
    "duration": 21,
    "start_time": "2024-10-30T01:20:40.991Z"
   },
   {
    "duration": 5,
    "start_time": "2024-10-30T01:20:41.217Z"
   },
   {
    "duration": 23,
    "start_time": "2024-10-30T01:20:41.429Z"
   },
   {
    "duration": 13,
    "start_time": "2024-10-30T01:20:41.633Z"
   },
   {
    "duration": 5,
    "start_time": "2024-10-30T01:20:42.406Z"
   },
   {
    "duration": 5,
    "start_time": "2024-10-30T01:20:42.633Z"
   },
   {
    "duration": 5,
    "start_time": "2024-10-30T01:20:43.313Z"
   },
   {
    "duration": 5,
    "start_time": "2024-10-30T01:20:43.479Z"
   },
   {
    "duration": 1587,
    "start_time": "2024-10-30T01:20:44.142Z"
   },
   {
    "duration": 195,
    "start_time": "2024-10-30T01:20:45.732Z"
   },
   {
    "duration": 13,
    "start_time": "2024-10-30T01:20:45.929Z"
   },
   {
    "duration": 7,
    "start_time": "2024-10-30T01:20:45.944Z"
   },
   {
    "duration": 8,
    "start_time": "2024-10-30T01:20:46.280Z"
   },
   {
    "duration": 14,
    "start_time": "2024-10-30T01:20:46.835Z"
   },
   {
    "duration": 7,
    "start_time": "2024-10-30T01:20:47.844Z"
   },
   {
    "duration": 13,
    "start_time": "2024-10-30T01:20:48.519Z"
   },
   {
    "duration": 7,
    "start_time": "2024-10-30T01:20:48.724Z"
   },
   {
    "duration": 19,
    "start_time": "2024-10-30T01:20:49.362Z"
   },
   {
    "duration": 189,
    "start_time": "2024-10-30T01:20:49.565Z"
   },
   {
    "duration": 8,
    "start_time": "2024-10-30T01:20:49.946Z"
   },
   {
    "duration": 16,
    "start_time": "2024-10-30T01:20:50.148Z"
   },
   {
    "duration": 38,
    "start_time": "2024-10-30T01:20:50.514Z"
   },
   {
    "duration": 13,
    "start_time": "2024-10-30T01:20:51.814Z"
   },
   {
    "duration": 12,
    "start_time": "2024-10-30T01:20:52.054Z"
   },
   {
    "duration": 13,
    "start_time": "2024-10-30T01:20:52.831Z"
   },
   {
    "duration": 14,
    "start_time": "2024-10-30T01:20:53.572Z"
   },
   {
    "duration": 40,
    "start_time": "2024-10-30T01:20:54.291Z"
   },
   {
    "duration": 1852,
    "start_time": "2024-10-30T01:20:55.139Z"
   },
   {
    "duration": 15,
    "start_time": "2024-10-30T01:20:56.993Z"
   },
   {
    "duration": 255,
    "start_time": "2024-10-30T01:20:57.010Z"
   },
   {
    "duration": 3,
    "start_time": "2024-10-30T01:20:57.269Z"
   },
   {
    "duration": 53,
    "start_time": "2024-10-30T01:20:58.338Z"
   },
   {
    "duration": 126,
    "start_time": "2024-10-30T01:20:58.951Z"
   },
   {
    "duration": 10,
    "start_time": "2024-10-30T01:21:01.277Z"
   },
   {
    "duration": 100,
    "start_time": "2024-10-30T01:21:02.484Z"
   },
   {
    "duration": 168,
    "start_time": "2024-10-30T01:21:03.372Z"
   },
   {
    "duration": 12,
    "start_time": "2024-10-30T01:50:53.066Z"
   },
   {
    "duration": 14,
    "start_time": "2024-10-30T01:51:10.108Z"
   },
   {
    "duration": 14,
    "start_time": "2024-10-30T01:52:27.731Z"
   },
   {
    "duration": 2,
    "start_time": "2024-10-30T01:53:25.063Z"
   },
   {
    "duration": 838,
    "start_time": "2024-10-30T01:53:25.263Z"
   },
   {
    "duration": 12,
    "start_time": "2024-10-30T01:53:26.103Z"
   },
   {
    "duration": 11,
    "start_time": "2024-10-30T01:53:26.117Z"
   },
   {
    "duration": 8,
    "start_time": "2024-10-30T01:53:26.130Z"
   },
   {
    "duration": 34,
    "start_time": "2024-10-30T01:53:26.141Z"
   },
   {
    "duration": 8,
    "start_time": "2024-10-30T01:53:26.226Z"
   },
   {
    "duration": 144,
    "start_time": "2024-10-30T01:53:27.416Z"
   },
   {
    "duration": 10,
    "start_time": "2024-10-30T01:53:27.812Z"
   },
   {
    "duration": 82,
    "start_time": "2024-10-30T01:53:28.170Z"
   },
   {
    "duration": 69,
    "start_time": "2024-10-30T01:53:28.312Z"
   },
   {
    "duration": 29,
    "start_time": "2024-10-30T01:53:28.446Z"
   },
   {
    "duration": 19,
    "start_time": "2024-10-30T01:53:28.957Z"
   },
   {
    "duration": 5,
    "start_time": "2024-10-30T01:53:29.134Z"
   },
   {
    "duration": 24,
    "start_time": "2024-10-30T01:53:29.325Z"
   },
   {
    "duration": 14,
    "start_time": "2024-10-30T01:53:29.533Z"
   },
   {
    "duration": 5,
    "start_time": "2024-10-30T01:53:30.094Z"
   },
   {
    "duration": 4,
    "start_time": "2024-10-30T01:53:30.293Z"
   },
   {
    "duration": 5,
    "start_time": "2024-10-30T01:53:30.920Z"
   },
   {
    "duration": 5,
    "start_time": "2024-10-30T01:53:31.116Z"
   },
   {
    "duration": 1534,
    "start_time": "2024-10-30T01:53:31.699Z"
   },
   {
    "duration": 167,
    "start_time": "2024-10-30T01:53:33.236Z"
   },
   {
    "duration": 12,
    "start_time": "2024-10-30T01:53:33.405Z"
   },
   {
    "duration": 9,
    "start_time": "2024-10-30T01:53:33.676Z"
   },
   {
    "duration": 8,
    "start_time": "2024-10-30T01:53:35.567Z"
   },
   {
    "duration": 5,
    "start_time": "2024-10-30T01:53:56.535Z"
   },
   {
    "duration": 288,
    "start_time": "2024-10-30T01:54:07.355Z"
   },
   {
    "duration": 868,
    "start_time": "2024-10-30T01:54:07.646Z"
   },
   {
    "duration": 15,
    "start_time": "2024-10-30T01:54:08.515Z"
   },
   {
    "duration": 11,
    "start_time": "2024-10-30T01:54:08.532Z"
   },
   {
    "duration": 26,
    "start_time": "2024-10-30T01:54:08.545Z"
   },
   {
    "duration": 9,
    "start_time": "2024-10-30T01:54:08.573Z"
   },
   {
    "duration": 8,
    "start_time": "2024-10-30T01:54:08.583Z"
   },
   {
    "duration": 222,
    "start_time": "2024-10-30T01:54:08.593Z"
   },
   {
    "duration": 12,
    "start_time": "2024-10-30T01:54:08.817Z"
   },
   {
    "duration": 116,
    "start_time": "2024-10-30T01:54:08.831Z"
   },
   {
    "duration": 90,
    "start_time": "2024-10-30T01:54:08.948Z"
   },
   {
    "duration": 36,
    "start_time": "2024-10-30T01:54:09.040Z"
   },
   {
    "duration": 20,
    "start_time": "2024-10-30T01:54:09.077Z"
   },
   {
    "duration": 4,
    "start_time": "2024-10-30T01:54:09.101Z"
   },
   {
    "duration": 22,
    "start_time": "2024-10-30T01:54:09.107Z"
   },
   {
    "duration": 39,
    "start_time": "2024-10-30T01:54:09.131Z"
   },
   {
    "duration": 6,
    "start_time": "2024-10-30T01:54:09.172Z"
   },
   {
    "duration": 5,
    "start_time": "2024-10-30T01:54:09.180Z"
   },
   {
    "duration": 5,
    "start_time": "2024-10-30T01:54:09.186Z"
   },
   {
    "duration": 3,
    "start_time": "2024-10-30T01:54:09.193Z"
   },
   {
    "duration": 1665,
    "start_time": "2024-10-30T01:54:09.198Z"
   },
   {
    "duration": 197,
    "start_time": "2024-10-30T01:54:10.865Z"
   },
   {
    "duration": 15,
    "start_time": "2024-10-30T01:54:11.064Z"
   },
   {
    "duration": 8,
    "start_time": "2024-10-30T01:54:11.081Z"
   },
   {
    "duration": 7,
    "start_time": "2024-10-30T01:54:11.090Z"
   },
   {
    "duration": 15,
    "start_time": "2024-10-30T01:54:11.098Z"
   },
   {
    "duration": 7,
    "start_time": "2024-10-30T01:54:11.114Z"
   },
   {
    "duration": 47,
    "start_time": "2024-10-30T01:54:11.123Z"
   },
   {
    "duration": 6,
    "start_time": "2024-10-30T01:54:11.172Z"
   },
   {
    "duration": 20,
    "start_time": "2024-10-30T01:54:11.179Z"
   },
   {
    "duration": 206,
    "start_time": "2024-10-30T01:54:11.201Z"
   },
   {
    "duration": 7,
    "start_time": "2024-10-30T01:54:11.409Z"
   },
   {
    "duration": 16,
    "start_time": "2024-10-30T01:54:11.418Z"
   },
   {
    "duration": 57,
    "start_time": "2024-10-30T01:54:11.436Z"
   },
   {
    "duration": 13,
    "start_time": "2024-10-30T01:54:11.495Z"
   },
   {
    "duration": 12,
    "start_time": "2024-10-30T01:54:11.510Z"
   },
   {
    "duration": 13,
    "start_time": "2024-10-30T01:54:11.523Z"
   },
   {
    "duration": 38,
    "start_time": "2024-10-30T01:54:11.538Z"
   },
   {
    "duration": 41,
    "start_time": "2024-10-30T01:54:11.578Z"
   },
   {
    "duration": 146,
    "start_time": "2024-10-30T01:54:11.621Z"
   },
   {
    "duration": 13,
    "start_time": "2024-10-30T01:54:11.774Z"
   },
   {
    "duration": 205,
    "start_time": "2024-10-30T01:54:11.789Z"
   },
   {
    "duration": 2,
    "start_time": "2024-10-30T01:54:11.996Z"
   },
   {
    "duration": 46,
    "start_time": "2024-10-30T01:54:11.999Z"
   },
   {
    "duration": 141,
    "start_time": "2024-10-30T01:54:12.047Z"
   },
   {
    "duration": 9,
    "start_time": "2024-10-30T01:54:12.190Z"
   },
   {
    "duration": 110,
    "start_time": "2024-10-30T01:54:12.201Z"
   },
   {
    "duration": 201,
    "start_time": "2024-10-30T01:54:12.313Z"
   },
   {
    "duration": 13,
    "start_time": "2024-10-30T01:54:29.641Z"
   },
   {
    "duration": 3,
    "start_time": "2024-10-30T01:59:01.465Z"
   },
   {
    "duration": 3,
    "start_time": "2024-10-30T01:59:12.593Z"
   },
   {
    "duration": 11,
    "start_time": "2024-10-30T02:00:29.205Z"
   },
   {
    "duration": 13,
    "start_time": "2024-10-30T02:00:40.875Z"
   },
   {
    "duration": 21,
    "start_time": "2024-10-30T02:03:30.422Z"
   },
   {
    "duration": 12,
    "start_time": "2024-10-30T02:04:57.995Z"
   },
   {
    "duration": 12,
    "start_time": "2024-10-30T02:05:12.759Z"
   },
   {
    "duration": 12,
    "start_time": "2024-10-30T02:05:47.668Z"
   },
   {
    "duration": 298,
    "start_time": "2024-10-30T02:06:00.115Z"
   },
   {
    "duration": 862,
    "start_time": "2024-10-30T02:06:00.415Z"
   },
   {
    "duration": 14,
    "start_time": "2024-10-30T02:06:01.279Z"
   },
   {
    "duration": 11,
    "start_time": "2024-10-30T02:06:01.295Z"
   },
   {
    "duration": 9,
    "start_time": "2024-10-30T02:06:01.308Z"
   },
   {
    "duration": 8,
    "start_time": "2024-10-30T02:06:01.319Z"
   },
   {
    "duration": 8,
    "start_time": "2024-10-30T02:06:01.328Z"
   },
   {
    "duration": 232,
    "start_time": "2024-10-30T02:06:01.338Z"
   },
   {
    "duration": 10,
    "start_time": "2024-10-30T02:06:01.572Z"
   },
   {
    "duration": 131,
    "start_time": "2024-10-30T02:06:01.585Z"
   },
   {
    "duration": 98,
    "start_time": "2024-10-30T02:06:01.717Z"
   },
   {
    "duration": 29,
    "start_time": "2024-10-30T02:06:01.816Z"
   },
   {
    "duration": 33,
    "start_time": "2024-10-30T02:06:01.847Z"
   },
   {
    "duration": 5,
    "start_time": "2024-10-30T02:06:01.883Z"
   },
   {
    "duration": 22,
    "start_time": "2024-10-30T02:06:01.889Z"
   },
   {
    "duration": 10,
    "start_time": "2024-10-30T02:06:01.913Z"
   },
   {
    "duration": 8,
    "start_time": "2024-10-30T02:06:01.924Z"
   },
   {
    "duration": 4,
    "start_time": "2024-10-30T02:06:01.933Z"
   },
   {
    "duration": 6,
    "start_time": "2024-10-30T02:06:01.970Z"
   },
   {
    "duration": 4,
    "start_time": "2024-10-30T02:06:01.977Z"
   },
   {
    "duration": 1693,
    "start_time": "2024-10-30T02:06:01.983Z"
   },
   {
    "duration": 176,
    "start_time": "2024-10-30T02:06:03.679Z"
   },
   {
    "duration": 18,
    "start_time": "2024-10-30T02:06:03.857Z"
   },
   {
    "duration": 8,
    "start_time": "2024-10-30T02:06:03.876Z"
   },
   {
    "duration": 8,
    "start_time": "2024-10-30T02:06:03.885Z"
   },
   {
    "duration": 15,
    "start_time": "2024-10-30T02:06:03.894Z"
   },
   {
    "duration": 6,
    "start_time": "2024-10-30T02:06:03.911Z"
   },
   {
    "duration": 12,
    "start_time": "2024-10-30T02:06:03.919Z"
   },
   {
    "duration": 42,
    "start_time": "2024-10-30T02:06:03.933Z"
   },
   {
    "duration": 20,
    "start_time": "2024-10-30T02:06:03.976Z"
   },
   {
    "duration": 205,
    "start_time": "2024-10-30T02:06:03.997Z"
   },
   {
    "duration": 8,
    "start_time": "2024-10-30T02:06:04.204Z"
   },
   {
    "duration": 16,
    "start_time": "2024-10-30T02:06:04.214Z"
   },
   {
    "duration": 57,
    "start_time": "2024-10-30T02:06:04.232Z"
   },
   {
    "duration": 12,
    "start_time": "2024-10-30T02:06:04.291Z"
   },
   {
    "duration": 12,
    "start_time": "2024-10-30T02:06:04.305Z"
   },
   {
    "duration": 12,
    "start_time": "2024-10-30T02:06:04.319Z"
   },
   {
    "duration": 38,
    "start_time": "2024-10-30T02:06:04.333Z"
   },
   {
    "duration": 43,
    "start_time": "2024-10-30T02:06:04.372Z"
   },
   {
    "duration": 138,
    "start_time": "2024-10-30T02:06:04.417Z"
   },
   {
    "duration": 19,
    "start_time": "2024-10-30T02:06:04.560Z"
   },
   {
    "duration": 207,
    "start_time": "2024-10-30T02:06:04.581Z"
   },
   {
    "duration": 2,
    "start_time": "2024-10-30T02:06:04.790Z"
   },
   {
    "duration": 45,
    "start_time": "2024-10-30T02:06:04.794Z"
   },
   {
    "duration": 141,
    "start_time": "2024-10-30T02:06:04.842Z"
   },
   {
    "duration": 9,
    "start_time": "2024-10-30T02:06:04.985Z"
   },
   {
    "duration": 116,
    "start_time": "2024-10-30T02:06:04.996Z"
   },
   {
    "duration": 12,
    "start_time": "2024-10-30T02:06:05.114Z"
   },
   {
    "duration": 7,
    "start_time": "2024-10-30T02:17:30.007Z"
   },
   {
    "duration": 254,
    "start_time": "2024-10-30T02:25:33.059Z"
   },
   {
    "duration": 270,
    "start_time": "2024-10-30T02:25:52.595Z"
   },
   {
    "duration": 257,
    "start_time": "2024-10-30T02:26:30.760Z"
   },
   {
    "duration": 296,
    "start_time": "2024-10-30T02:27:16.540Z"
   },
   {
    "duration": 284,
    "start_time": "2024-10-30T02:27:56.171Z"
   },
   {
    "duration": 188,
    "start_time": "2024-10-30T02:28:28.758Z"
   },
   {
    "duration": 121,
    "start_time": "2024-10-30T02:28:42.454Z"
   },
   {
    "duration": 133,
    "start_time": "2024-10-30T02:29:12.055Z"
   },
   {
    "duration": 138,
    "start_time": "2024-10-30T02:30:12.657Z"
   },
   {
    "duration": 140,
    "start_time": "2024-10-30T02:30:28.479Z"
   },
   {
    "duration": 190,
    "start_time": "2024-10-30T02:30:49.587Z"
   },
   {
    "duration": 138,
    "start_time": "2024-10-30T02:33:20.053Z"
   },
   {
    "duration": 277,
    "start_time": "2024-10-30T02:34:43.498Z"
   },
   {
    "duration": 4,
    "start_time": "2024-10-30T02:34:50.925Z"
   },
   {
    "duration": 140,
    "start_time": "2024-10-30T02:34:55.692Z"
   },
   {
    "duration": 11,
    "start_time": "2024-10-30T02:35:53.523Z"
   },
   {
    "duration": 366,
    "start_time": "2024-10-30T15:25:49.643Z"
   },
   {
    "duration": 1139,
    "start_time": "2024-10-30T15:25:50.012Z"
   },
   {
    "duration": 14,
    "start_time": "2024-10-30T15:25:51.153Z"
   },
   {
    "duration": 20,
    "start_time": "2024-10-30T15:25:51.169Z"
   },
   {
    "duration": 28,
    "start_time": "2024-10-30T15:25:51.192Z"
   },
   {
    "duration": 23,
    "start_time": "2024-10-30T15:25:51.221Z"
   },
   {
    "duration": 8,
    "start_time": "2024-10-30T15:25:51.245Z"
   },
   {
    "duration": 233,
    "start_time": "2024-10-30T15:25:52.428Z"
   },
   {
    "duration": 11,
    "start_time": "2024-10-30T15:25:52.842Z"
   },
   {
    "duration": 115,
    "start_time": "2024-10-30T15:25:53.253Z"
   },
   {
    "duration": 92,
    "start_time": "2024-10-30T15:25:53.457Z"
   },
   {
    "duration": 31,
    "start_time": "2024-10-30T15:25:53.678Z"
   },
   {
    "duration": 22,
    "start_time": "2024-10-30T15:25:54.327Z"
   },
   {
    "duration": 7,
    "start_time": "2024-10-30T15:25:54.543Z"
   },
   {
    "duration": 35,
    "start_time": "2024-10-30T15:25:54.768Z"
   },
   {
    "duration": 13,
    "start_time": "2024-10-30T15:25:54.989Z"
   },
   {
    "duration": 6,
    "start_time": "2024-10-30T15:25:55.648Z"
   },
   {
    "duration": 4,
    "start_time": "2024-10-30T15:25:55.898Z"
   },
   {
    "duration": 6,
    "start_time": "2024-10-30T15:25:56.604Z"
   },
   {
    "duration": 5,
    "start_time": "2024-10-30T15:25:56.843Z"
   },
   {
    "duration": 1921,
    "start_time": "2024-10-30T15:25:57.488Z"
   },
   {
    "duration": 238,
    "start_time": "2024-10-30T15:25:59.413Z"
   },
   {
    "duration": 14,
    "start_time": "2024-10-30T15:25:59.653Z"
   },
   {
    "duration": 10,
    "start_time": "2024-10-30T15:25:59.669Z"
   },
   {
    "duration": 10,
    "start_time": "2024-10-30T15:25:59.681Z"
   },
   {
    "duration": 18,
    "start_time": "2024-10-30T15:26:00.031Z"
   },
   {
    "duration": 9,
    "start_time": "2024-10-30T15:26:00.454Z"
   },
   {
    "duration": 16,
    "start_time": "2024-10-30T15:26:01.174Z"
   },
   {
    "duration": 7,
    "start_time": "2024-10-30T15:26:01.413Z"
   },
   {
    "duration": 28,
    "start_time": "2024-10-30T15:26:02.109Z"
   },
   {
    "duration": 193,
    "start_time": "2024-10-30T15:26:02.365Z"
   },
   {
    "duration": 9,
    "start_time": "2024-10-30T15:26:02.851Z"
   },
   {
    "duration": 18,
    "start_time": "2024-10-30T15:26:03.109Z"
   },
   {
    "duration": 40,
    "start_time": "2024-10-30T15:26:03.536Z"
   },
   {
    "duration": 2253,
    "start_time": "2024-10-30T15:31:22.651Z"
   },
   {
    "duration": 317,
    "start_time": "2024-10-30T15:31:33.399Z"
   },
   {
    "duration": 206,
    "start_time": "2024-10-30T15:33:33.934Z"
   },
   {
    "duration": 34,
    "start_time": "2024-10-30T15:38:05.646Z"
   },
   {
    "duration": 36,
    "start_time": "2024-10-30T15:38:40.484Z"
   },
   {
    "duration": 30,
    "start_time": "2024-10-30T15:39:08.001Z"
   },
   {
    "duration": 121,
    "start_time": "2024-10-30T15:39:54.123Z"
   },
   {
    "duration": 123,
    "start_time": "2024-10-30T15:40:10.720Z"
   },
   {
    "duration": 141,
    "start_time": "2024-10-30T15:43:08.550Z"
   },
   {
    "duration": 38,
    "start_time": "2024-10-30T15:59:34.219Z"
   },
   {
    "duration": 130,
    "start_time": "2024-10-30T16:00:22.542Z"
   },
   {
    "duration": 27,
    "start_time": "2024-10-30T16:00:55.062Z"
   },
   {
    "duration": 22,
    "start_time": "2024-10-30T16:01:24.094Z"
   },
   {
    "duration": 7,
    "start_time": "2024-10-30T16:02:16.968Z"
   },
   {
    "duration": 19,
    "start_time": "2024-10-30T16:02:23.386Z"
   },
   {
    "duration": 22,
    "start_time": "2024-10-30T16:02:38.148Z"
   },
   {
    "duration": 6,
    "start_time": "2024-10-30T16:13:08.246Z"
   },
   {
    "duration": 30,
    "start_time": "2024-10-30T16:13:27.821Z"
   },
   {
    "duration": 26,
    "start_time": "2024-10-30T16:20:20.529Z"
   },
   {
    "duration": 30,
    "start_time": "2024-10-30T16:20:44.224Z"
   },
   {
    "duration": 17,
    "start_time": "2024-10-30T16:21:04.175Z"
   },
   {
    "duration": 13,
    "start_time": "2024-10-30T16:21:10.342Z"
   },
   {
    "duration": 20,
    "start_time": "2024-10-30T16:21:32.112Z"
   },
   {
    "duration": 10,
    "start_time": "2024-10-30T16:21:52.697Z"
   },
   {
    "duration": 10,
    "start_time": "2024-10-30T16:22:33.587Z"
   },
   {
    "duration": 14,
    "start_time": "2024-10-30T16:22:39.287Z"
   },
   {
    "duration": 32,
    "start_time": "2024-10-30T16:34:54.990Z"
   },
   {
    "duration": 23,
    "start_time": "2024-10-30T16:34:57.983Z"
   },
   {
    "duration": 29,
    "start_time": "2024-10-30T16:35:42.365Z"
   },
   {
    "duration": 28,
    "start_time": "2024-10-30T16:35:53.904Z"
   },
   {
    "duration": 493,
    "start_time": "2024-10-30T16:37:29.020Z"
   },
   {
    "duration": 11,
    "start_time": "2024-10-30T16:37:58.588Z"
   },
   {
    "duration": 14,
    "start_time": "2024-10-30T16:38:29.894Z"
   },
   {
    "duration": 13,
    "start_time": "2024-10-30T16:38:42.756Z"
   },
   {
    "duration": 25,
    "start_time": "2024-10-30T16:39:36.839Z"
   },
   {
    "duration": 11,
    "start_time": "2024-10-30T16:40:10.818Z"
   },
   {
    "duration": 24,
    "start_time": "2024-10-30T16:41:57.636Z"
   },
   {
    "duration": 536,
    "start_time": "2024-10-30T16:42:00.652Z"
   },
   {
    "duration": 35,
    "start_time": "2024-10-30T16:42:53.611Z"
   },
   {
    "duration": 4,
    "start_time": "2024-10-30T16:45:03.077Z"
   },
   {
    "duration": 15,
    "start_time": "2024-10-30T16:45:20.053Z"
   },
   {
    "duration": 26,
    "start_time": "2024-10-30T16:45:33.294Z"
   },
   {
    "duration": 25,
    "start_time": "2024-10-30T16:45:52.997Z"
   },
   {
    "duration": 149,
    "start_time": "2024-10-30T16:46:28.162Z"
   },
   {
    "duration": 152,
    "start_time": "2024-10-30T16:52:07.873Z"
   },
   {
    "duration": 258,
    "start_time": "2024-10-30T16:52:16.581Z"
   },
   {
    "duration": 285,
    "start_time": "2024-10-30T16:54:27.082Z"
   },
   {
    "duration": 319,
    "start_time": "2024-10-30T16:55:26.217Z"
   },
   {
    "duration": 16,
    "start_time": "2024-10-30T17:07:10.877Z"
   },
   {
    "duration": 309,
    "start_time": "2024-10-30T17:07:32.931Z"
   },
   {
    "duration": 943,
    "start_time": "2024-10-30T17:07:33.242Z"
   },
   {
    "duration": 16,
    "start_time": "2024-10-30T17:07:34.187Z"
   },
   {
    "duration": 26,
    "start_time": "2024-10-30T17:07:34.205Z"
   },
   {
    "duration": 10,
    "start_time": "2024-10-30T17:07:34.233Z"
   },
   {
    "duration": 10,
    "start_time": "2024-10-30T17:07:34.246Z"
   },
   {
    "duration": 10,
    "start_time": "2024-10-30T17:07:34.259Z"
   },
   {
    "duration": 262,
    "start_time": "2024-10-30T17:07:34.270Z"
   },
   {
    "duration": 13,
    "start_time": "2024-10-30T17:07:34.534Z"
   },
   {
    "duration": 134,
    "start_time": "2024-10-30T17:07:34.551Z"
   },
   {
    "duration": 106,
    "start_time": "2024-10-30T17:07:34.687Z"
   },
   {
    "duration": 42,
    "start_time": "2024-10-30T17:07:34.794Z"
   },
   {
    "duration": 22,
    "start_time": "2024-10-30T17:07:34.837Z"
   },
   {
    "duration": 6,
    "start_time": "2024-10-30T17:07:34.861Z"
   },
   {
    "duration": 35,
    "start_time": "2024-10-30T17:07:34.868Z"
   },
   {
    "duration": 41,
    "start_time": "2024-10-30T17:07:34.904Z"
   },
   {
    "duration": 5,
    "start_time": "2024-10-30T17:07:34.947Z"
   },
   {
    "duration": 5,
    "start_time": "2024-10-30T17:07:34.954Z"
   },
   {
    "duration": 7,
    "start_time": "2024-10-30T17:07:34.961Z"
   },
   {
    "duration": 5,
    "start_time": "2024-10-30T17:07:34.970Z"
   },
   {
    "duration": 1830,
    "start_time": "2024-10-30T17:07:34.980Z"
   },
   {
    "duration": 197,
    "start_time": "2024-10-30T17:07:36.814Z"
   },
   {
    "duration": 19,
    "start_time": "2024-10-30T17:07:37.013Z"
   },
   {
    "duration": 9,
    "start_time": "2024-10-30T17:07:37.034Z"
   },
   {
    "duration": 8,
    "start_time": "2024-10-30T17:07:37.045Z"
   },
   {
    "duration": 15,
    "start_time": "2024-10-30T17:07:37.055Z"
   },
   {
    "duration": 8,
    "start_time": "2024-10-30T17:07:37.073Z"
   },
   {
    "duration": 46,
    "start_time": "2024-10-30T17:07:37.086Z"
   },
   {
    "duration": 7,
    "start_time": "2024-10-30T17:07:37.134Z"
   },
   {
    "duration": 21,
    "start_time": "2024-10-30T17:07:37.143Z"
   },
   {
    "duration": 220,
    "start_time": "2024-10-30T17:07:37.166Z"
   },
   {
    "duration": 9,
    "start_time": "2024-10-30T17:07:37.388Z"
   },
   {
    "duration": 35,
    "start_time": "2024-10-30T17:07:37.398Z"
   },
   {
    "duration": 40,
    "start_time": "2024-10-30T17:07:37.435Z"
   },
   {
    "duration": 17,
    "start_time": "2024-10-30T17:07:37.477Z"
   },
   {
    "duration": 15,
    "start_time": "2024-10-30T17:07:37.497Z"
   },
   {
    "duration": 471,
    "start_time": "2024-10-30T17:07:37.532Z"
   },
   {
    "duration": 162,
    "start_time": "2024-10-30T17:07:38.006Z"
   },
   {
    "duration": 261,
    "start_time": "2024-10-30T17:07:38.170Z"
   },
   {
    "duration": 3,
    "start_time": "2024-10-30T17:07:38.433Z"
   },
   {
    "duration": 16,
    "start_time": "2024-10-30T17:07:38.438Z"
   },
   {
    "duration": 188,
    "start_time": "2024-10-30T17:07:38.456Z"
   },
   {
    "duration": 2,
    "start_time": "2024-10-30T17:07:38.646Z"
   },
   {
    "duration": 62,
    "start_time": "2024-10-30T17:07:38.650Z"
   },
   {
    "duration": 179,
    "start_time": "2024-10-30T17:07:38.714Z"
   },
   {
    "duration": 15,
    "start_time": "2024-10-30T17:07:38.897Z"
   },
   {
    "duration": 145,
    "start_time": "2024-10-30T17:07:38.914Z"
   },
   {
    "duration": 14,
    "start_time": "2024-10-30T17:07:39.061Z"
   },
   {
    "duration": 348,
    "start_time": "2024-10-30T17:07:39.077Z"
   },
   {
    "duration": 14,
    "start_time": "2024-10-30T17:07:39.427Z"
   },
   {
    "duration": 168,
    "start_time": "2024-10-30T17:07:39.443Z"
   },
   {
    "duration": 4,
    "start_time": "2024-10-30T17:07:39.613Z"
   },
   {
    "duration": 8,
    "start_time": "2024-10-30T17:13:16.661Z"
   },
   {
    "duration": 9,
    "start_time": "2024-10-30T17:13:26.676Z"
   },
   {
    "duration": 246,
    "start_time": "2024-10-30T17:16:06.225Z"
   },
   {
    "duration": 353,
    "start_time": "2024-10-30T17:16:25.926Z"
   },
   {
    "duration": 113,
    "start_time": "2024-10-30T17:16:50.666Z"
   },
   {
    "duration": 22,
    "start_time": "2024-10-30T17:18:28.282Z"
   },
   {
    "duration": 101,
    "start_time": "2024-10-30T17:18:32.571Z"
   },
   {
    "duration": 99,
    "start_time": "2024-10-30T17:18:50.689Z"
   },
   {
    "duration": 162,
    "start_time": "2024-10-30T17:19:10.125Z"
   },
   {
    "duration": 82,
    "start_time": "2024-10-30T17:19:40.379Z"
   },
   {
    "duration": 72,
    "start_time": "2024-10-30T17:20:27.346Z"
   },
   {
    "duration": 3,
    "start_time": "2024-10-30T17:20:34.988Z"
   },
   {
    "duration": 5,
    "start_time": "2024-10-30T17:22:17.005Z"
   },
   {
    "duration": 69,
    "start_time": "2024-10-30T17:22:24.958Z"
   },
   {
    "duration": 69,
    "start_time": "2024-10-30T17:22:38.874Z"
   },
   {
    "duration": 118,
    "start_time": "2024-10-30T17:23:47.363Z"
   },
   {
    "duration": 286,
    "start_time": "2024-10-30T18:56:56.976Z"
   },
   {
    "duration": 1042,
    "start_time": "2024-10-30T18:56:57.265Z"
   },
   {
    "duration": 16,
    "start_time": "2024-10-30T18:56:58.311Z"
   },
   {
    "duration": 11,
    "start_time": "2024-10-30T18:56:58.329Z"
   },
   {
    "duration": 9,
    "start_time": "2024-10-30T18:56:58.343Z"
   },
   {
    "duration": 9,
    "start_time": "2024-10-30T18:56:58.353Z"
   },
   {
    "duration": 8,
    "start_time": "2024-10-30T18:56:58.364Z"
   },
   {
    "duration": 237,
    "start_time": "2024-10-30T18:56:58.374Z"
   },
   {
    "duration": 11,
    "start_time": "2024-10-30T18:56:58.614Z"
   },
   {
    "duration": 118,
    "start_time": "2024-10-30T18:56:58.627Z"
   },
   {
    "duration": 95,
    "start_time": "2024-10-30T18:56:58.746Z"
   },
   {
    "duration": 27,
    "start_time": "2024-10-30T18:56:58.843Z"
   },
   {
    "duration": 19,
    "start_time": "2024-10-30T18:56:58.872Z"
   },
   {
    "duration": 5,
    "start_time": "2024-10-30T18:56:58.912Z"
   },
   {
    "duration": 24,
    "start_time": "2024-10-30T18:56:58.919Z"
   },
   {
    "duration": 14,
    "start_time": "2024-10-30T18:56:58.945Z"
   },
   {
    "duration": 6,
    "start_time": "2024-10-30T18:56:58.960Z"
   },
   {
    "duration": 5,
    "start_time": "2024-10-30T18:56:58.968Z"
   },
   {
    "duration": 38,
    "start_time": "2024-10-30T18:56:58.975Z"
   },
   {
    "duration": 4,
    "start_time": "2024-10-30T18:56:59.015Z"
   },
   {
    "duration": 1726,
    "start_time": "2024-10-30T18:56:59.021Z"
   },
   {
    "duration": 266,
    "start_time": "2024-10-30T18:57:00.748Z"
   },
   {
    "duration": 13,
    "start_time": "2024-10-30T18:57:01.016Z"
   },
   {
    "duration": 8,
    "start_time": "2024-10-30T18:57:01.032Z"
   },
   {
    "duration": 10,
    "start_time": "2024-10-30T18:57:01.042Z"
   },
   {
    "duration": 20,
    "start_time": "2024-10-30T18:57:01.055Z"
   },
   {
    "duration": 8,
    "start_time": "2024-10-30T18:57:01.113Z"
   },
   {
    "duration": 15,
    "start_time": "2024-10-30T18:57:01.123Z"
   },
   {
    "duration": 7,
    "start_time": "2024-10-30T18:57:01.140Z"
   },
   {
    "duration": 20,
    "start_time": "2024-10-30T18:57:01.149Z"
   },
   {
    "duration": 236,
    "start_time": "2024-10-30T18:57:01.171Z"
   },
   {
    "duration": 9,
    "start_time": "2024-10-30T18:57:01.412Z"
   },
   {
    "duration": 19,
    "start_time": "2024-10-30T18:57:01.423Z"
   },
   {
    "duration": 67,
    "start_time": "2024-10-30T18:57:01.445Z"
   },
   {
    "duration": 16,
    "start_time": "2024-10-30T18:57:01.513Z"
   },
   {
    "duration": 15,
    "start_time": "2024-10-30T18:57:01.531Z"
   },
   {
    "duration": 2271,
    "start_time": "2024-10-30T18:57:01.547Z"
   },
   {
    "duration": 158,
    "start_time": "2024-10-30T18:57:03.820Z"
   },
   {
    "duration": 254,
    "start_time": "2024-10-30T18:57:03.979Z"
   },
   {
    "duration": 3,
    "start_time": "2024-10-30T18:57:04.235Z"
   },
   {
    "duration": 16,
    "start_time": "2024-10-30T18:57:04.244Z"
   },
   {
    "duration": 233,
    "start_time": "2024-10-30T18:57:04.261Z"
   },
   {
    "duration": 2,
    "start_time": "2024-10-30T18:57:04.496Z"
   },
   {
    "duration": 63,
    "start_time": "2024-10-30T18:57:04.500Z"
   },
   {
    "duration": 155,
    "start_time": "2024-10-30T18:57:04.565Z"
   },
   {
    "duration": 12,
    "start_time": "2024-10-30T18:57:04.721Z"
   },
   {
    "duration": 108,
    "start_time": "2024-10-30T18:57:04.735Z"
   },
   {
    "duration": 15,
    "start_time": "2024-10-30T18:57:04.844Z"
   },
   {
    "duration": 352,
    "start_time": "2024-10-30T18:57:04.860Z"
   },
   {
    "duration": 11,
    "start_time": "2024-10-30T18:57:05.214Z"
   },
   {
    "duration": 174,
    "start_time": "2024-10-30T18:57:05.227Z"
   },
   {
    "duration": 14,
    "start_time": "2024-10-30T18:57:05.403Z"
   },
   {
    "duration": 125,
    "start_time": "2024-10-30T18:57:05.419Z"
   },
   {
    "duration": 261,
    "start_time": "2024-10-30T18:57:05.546Z"
   },
   {
    "duration": 0,
    "start_time": "2024-10-30T18:57:05.812Z"
   },
   {
    "duration": 79,
    "start_time": "2024-10-30T19:00:12.764Z"
   },
   {
    "duration": 4,
    "start_time": "2024-10-30T19:00:34.677Z"
   },
   {
    "duration": 5,
    "start_time": "2024-10-30T19:03:03.484Z"
   },
   {
    "duration": 6,
    "start_time": "2024-10-30T19:04:09.004Z"
   },
   {
    "duration": 167,
    "start_time": "2024-10-30T20:13:02.446Z"
   },
   {
    "duration": 309,
    "start_time": "2024-10-30T20:13:11.407Z"
   },
   {
    "duration": 1024,
    "start_time": "2024-10-30T20:13:11.718Z"
   },
   {
    "duration": 17,
    "start_time": "2024-10-30T20:13:12.744Z"
   },
   {
    "duration": 10,
    "start_time": "2024-10-30T20:13:12.763Z"
   },
   {
    "duration": 8,
    "start_time": "2024-10-30T20:13:12.776Z"
   },
   {
    "duration": 29,
    "start_time": "2024-10-30T20:13:12.786Z"
   },
   {
    "duration": 8,
    "start_time": "2024-10-30T20:13:12.817Z"
   },
   {
    "duration": 222,
    "start_time": "2024-10-30T20:13:12.826Z"
   },
   {
    "duration": 10,
    "start_time": "2024-10-30T20:13:13.050Z"
   },
   {
    "duration": 122,
    "start_time": "2024-10-30T20:13:13.062Z"
   },
   {
    "duration": 93,
    "start_time": "2024-10-30T20:13:13.185Z"
   },
   {
    "duration": 37,
    "start_time": "2024-10-30T20:13:13.279Z"
   },
   {
    "duration": 21,
    "start_time": "2024-10-30T20:13:13.318Z"
   },
   {
    "duration": 4,
    "start_time": "2024-10-30T20:13:13.343Z"
   },
   {
    "duration": 26,
    "start_time": "2024-10-30T20:13:13.349Z"
   },
   {
    "duration": 32,
    "start_time": "2024-10-30T20:13:13.378Z"
   },
   {
    "duration": 5,
    "start_time": "2024-10-30T20:13:13.412Z"
   },
   {
    "duration": 4,
    "start_time": "2024-10-30T20:13:13.419Z"
   },
   {
    "duration": 5,
    "start_time": "2024-10-30T20:13:13.425Z"
   },
   {
    "duration": 4,
    "start_time": "2024-10-30T20:13:13.431Z"
   },
   {
    "duration": 1772,
    "start_time": "2024-10-30T20:13:13.437Z"
   },
   {
    "duration": 204,
    "start_time": "2024-10-30T20:13:15.211Z"
   },
   {
    "duration": 11,
    "start_time": "2024-10-30T20:13:15.418Z"
   },
   {
    "duration": 7,
    "start_time": "2024-10-30T20:13:15.431Z"
   },
   {
    "duration": 7,
    "start_time": "2024-10-30T20:13:15.440Z"
   },
   {
    "duration": 15,
    "start_time": "2024-10-30T20:13:15.449Z"
   },
   {
    "duration": 7,
    "start_time": "2024-10-30T20:13:15.465Z"
   },
   {
    "duration": 48,
    "start_time": "2024-10-30T20:13:15.473Z"
   },
   {
    "duration": 5,
    "start_time": "2024-10-30T20:13:15.522Z"
   },
   {
    "duration": 19,
    "start_time": "2024-10-30T20:13:15.529Z"
   },
   {
    "duration": 216,
    "start_time": "2024-10-30T20:13:15.549Z"
   },
   {
    "duration": 9,
    "start_time": "2024-10-30T20:13:15.767Z"
   },
   {
    "duration": 33,
    "start_time": "2024-10-30T20:13:15.778Z"
   },
   {
    "duration": 37,
    "start_time": "2024-10-30T20:13:15.813Z"
   },
   {
    "duration": 13,
    "start_time": "2024-10-30T20:13:15.852Z"
   },
   {
    "duration": 12,
    "start_time": "2024-10-30T20:13:15.866Z"
   },
   {
    "duration": 2153,
    "start_time": "2024-10-30T20:13:15.879Z"
   },
   {
    "duration": 161,
    "start_time": "2024-10-30T20:13:18.033Z"
   },
   {
    "duration": 255,
    "start_time": "2024-10-30T20:13:18.196Z"
   },
   {
    "duration": 3,
    "start_time": "2024-10-30T20:13:18.453Z"
   },
   {
    "duration": 14,
    "start_time": "2024-10-30T20:13:18.461Z"
   },
   {
    "duration": 223,
    "start_time": "2024-10-30T20:13:18.477Z"
   },
   {
    "duration": 7,
    "start_time": "2024-10-30T20:13:18.702Z"
   },
   {
    "duration": 50,
    "start_time": "2024-10-30T20:13:18.711Z"
   },
   {
    "duration": 152,
    "start_time": "2024-10-30T20:13:18.763Z"
   },
   {
    "duration": 11,
    "start_time": "2024-10-30T20:13:18.917Z"
   },
   {
    "duration": 127,
    "start_time": "2024-10-30T20:13:18.930Z"
   },
   {
    "duration": 14,
    "start_time": "2024-10-30T20:13:19.060Z"
   },
   {
    "duration": 336,
    "start_time": "2024-10-30T20:13:19.075Z"
   },
   {
    "duration": 11,
    "start_time": "2024-10-30T20:13:19.413Z"
   },
   {
    "duration": 153,
    "start_time": "2024-10-30T20:13:19.425Z"
   },
   {
    "duration": 7,
    "start_time": "2024-10-30T20:13:19.579Z"
   },
   {
    "duration": 122,
    "start_time": "2024-10-30T20:13:19.587Z"
   },
   {
    "duration": 75,
    "start_time": "2024-10-30T20:13:19.711Z"
   },
   {
    "duration": 5,
    "start_time": "2024-10-30T20:13:19.788Z"
   },
   {
    "duration": 294,
    "start_time": "2024-10-30T20:13:19.795Z"
   },
   {
    "duration": 271,
    "start_time": "2024-10-30T20:16:26.147Z"
   },
   {
    "duration": 341,
    "start_time": "2024-10-30T20:17:10.376Z"
   },
   {
    "duration": 7,
    "start_time": "2024-10-30T20:18:08.903Z"
   },
   {
    "duration": 192,
    "start_time": "2024-10-30T20:18:19.910Z"
   },
   {
    "duration": 13,
    "start_time": "2024-10-30T20:19:32.915Z"
   },
   {
    "duration": 6,
    "start_time": "2024-10-30T20:21:22.991Z"
   },
   {
    "duration": 34,
    "start_time": "2024-10-30T20:22:12.817Z"
   },
   {
    "duration": 35,
    "start_time": "2024-10-30T20:22:22.836Z"
   },
   {
    "duration": 36,
    "start_time": "2024-10-30T20:22:32.697Z"
   },
   {
    "duration": 36,
    "start_time": "2024-10-30T20:22:48.865Z"
   },
   {
    "duration": 7,
    "start_time": "2024-10-30T20:23:01.078Z"
   },
   {
    "duration": 150,
    "start_time": "2024-10-30T20:24:02.061Z"
   },
   {
    "duration": 145,
    "start_time": "2024-10-30T20:24:21.339Z"
   },
   {
    "duration": 648,
    "start_time": "2024-10-30T20:25:15.976Z"
   },
   {
    "duration": 148,
    "start_time": "2024-10-30T20:25:20.477Z"
   },
   {
    "duration": 208,
    "start_time": "2024-10-30T20:27:04.842Z"
   },
   {
    "duration": 166,
    "start_time": "2024-10-30T20:28:01.595Z"
   },
   {
    "duration": 176,
    "start_time": "2024-10-30T20:28:07.699Z"
   },
   {
    "duration": 105,
    "start_time": "2024-10-30T20:53:57.785Z"
   },
   {
    "duration": 365,
    "start_time": "2024-10-30T20:56:57.622Z"
   },
   {
    "duration": 434,
    "start_time": "2024-10-30T20:57:09.991Z"
   },
   {
    "duration": 345,
    "start_time": "2024-10-30T20:57:33.195Z"
   },
   {
    "duration": 414,
    "start_time": "2024-10-30T20:57:43.346Z"
   },
   {
    "duration": 393,
    "start_time": "2024-10-30T20:58:20.678Z"
   },
   {
    "duration": 362,
    "start_time": "2024-10-30T20:58:33.107Z"
   },
   {
    "duration": 565,
    "start_time": "2024-10-30T21:04:22.563Z"
   },
   {
    "duration": 548,
    "start_time": "2024-10-30T21:05:11.190Z"
   },
   {
    "duration": 651,
    "start_time": "2024-10-30T21:05:39.229Z"
   },
   {
    "duration": 784,
    "start_time": "2024-10-30T21:06:25.388Z"
   },
   {
    "duration": 6,
    "start_time": "2024-10-30T21:11:42.940Z"
   },
   {
    "duration": 94,
    "start_time": "2024-10-30T21:15:48.880Z"
   },
   {
    "duration": 106,
    "start_time": "2024-10-30T21:16:15.259Z"
   },
   {
    "duration": 115,
    "start_time": "2024-10-30T21:16:30.044Z"
   },
   {
    "duration": 114,
    "start_time": "2024-10-30T21:21:32.658Z"
   },
   {
    "duration": 701,
    "start_time": "2024-10-30T21:22:04.769Z"
   },
   {
    "duration": 6,
    "start_time": "2024-10-30T21:40:31.813Z"
   },
   {
    "duration": 108,
    "start_time": "2024-10-30T21:40:43.357Z"
   },
   {
    "duration": 4,
    "start_time": "2024-10-30T22:25:55.743Z"
   },
   {
    "duration": 14,
    "start_time": "2024-10-30T22:26:42.754Z"
   },
   {
    "duration": 15,
    "start_time": "2024-10-30T22:27:26.545Z"
   },
   {
    "duration": 3,
    "start_time": "2024-10-30T22:31:52.017Z"
   },
   {
    "duration": 84,
    "start_time": "2024-10-30T22:31:57.062Z"
   },
   {
    "duration": 32,
    "start_time": "2024-10-30T22:32:49.086Z"
   },
   {
    "duration": 35,
    "start_time": "2024-10-30T22:33:29.447Z"
   },
   {
    "duration": 14,
    "start_time": "2024-10-30T22:35:56.056Z"
   },
   {
    "duration": 41,
    "start_time": "2024-10-30T22:37:01.543Z"
   },
   {
    "duration": 25,
    "start_time": "2024-10-30T22:37:22.992Z"
   },
   {
    "duration": 14,
    "start_time": "2024-10-30T22:38:23.299Z"
   },
   {
    "duration": 18,
    "start_time": "2024-10-30T22:41:26.602Z"
   },
   {
    "duration": 313,
    "start_time": "2024-10-30T23:56:02.280Z"
   },
   {
    "duration": 1036,
    "start_time": "2024-10-30T23:56:02.595Z"
   },
   {
    "duration": 15,
    "start_time": "2024-10-30T23:56:03.632Z"
   },
   {
    "duration": 12,
    "start_time": "2024-10-30T23:56:03.648Z"
   },
   {
    "duration": 9,
    "start_time": "2024-10-30T23:56:03.663Z"
   },
   {
    "duration": 8,
    "start_time": "2024-10-30T23:56:03.673Z"
   },
   {
    "duration": 8,
    "start_time": "2024-10-30T23:56:03.684Z"
   },
   {
    "duration": 220,
    "start_time": "2024-10-30T23:56:03.693Z"
   },
   {
    "duration": 10,
    "start_time": "2024-10-30T23:56:03.915Z"
   },
   {
    "duration": 126,
    "start_time": "2024-10-30T23:56:03.926Z"
   },
   {
    "duration": 95,
    "start_time": "2024-10-30T23:56:04.054Z"
   },
   {
    "duration": 27,
    "start_time": "2024-10-30T23:56:04.150Z"
   },
   {
    "duration": 20,
    "start_time": "2024-10-30T23:56:04.179Z"
   },
   {
    "duration": 4,
    "start_time": "2024-10-30T23:56:04.203Z"
   },
   {
    "duration": 51,
    "start_time": "2024-10-30T23:56:04.209Z"
   },
   {
    "duration": 11,
    "start_time": "2024-10-30T23:56:04.263Z"
   },
   {
    "duration": 5,
    "start_time": "2024-10-30T23:56:04.276Z"
   },
   {
    "duration": 5,
    "start_time": "2024-10-30T23:56:04.282Z"
   },
   {
    "duration": 4,
    "start_time": "2024-10-30T23:56:04.288Z"
   },
   {
    "duration": 4,
    "start_time": "2024-10-30T23:56:04.294Z"
   },
   {
    "duration": 1648,
    "start_time": "2024-10-30T23:56:04.300Z"
   },
   {
    "duration": 176,
    "start_time": "2024-10-30T23:56:05.950Z"
   },
   {
    "duration": 20,
    "start_time": "2024-10-30T23:56:06.128Z"
   },
   {
    "duration": 9,
    "start_time": "2024-10-30T23:56:06.150Z"
   },
   {
    "duration": 8,
    "start_time": "2024-10-30T23:56:06.160Z"
   },
   {
    "duration": 16,
    "start_time": "2024-10-30T23:56:06.170Z"
   },
   {
    "duration": 7,
    "start_time": "2024-10-30T23:56:06.187Z"
   },
   {
    "duration": 46,
    "start_time": "2024-10-30T23:56:06.196Z"
   },
   {
    "duration": 6,
    "start_time": "2024-10-30T23:56:06.244Z"
   },
   {
    "duration": 20,
    "start_time": "2024-10-30T23:56:06.252Z"
   },
   {
    "duration": 206,
    "start_time": "2024-10-30T23:56:06.274Z"
   },
   {
    "duration": 7,
    "start_time": "2024-10-30T23:56:06.482Z"
   },
   {
    "duration": 15,
    "start_time": "2024-10-30T23:56:06.491Z"
   },
   {
    "duration": 58,
    "start_time": "2024-10-30T23:56:06.507Z"
   },
   {
    "duration": 14,
    "start_time": "2024-10-30T23:56:06.567Z"
   },
   {
    "duration": 12,
    "start_time": "2024-10-30T23:56:06.582Z"
   },
   {
    "duration": 2076,
    "start_time": "2024-10-30T23:56:06.596Z"
   },
   {
    "duration": 152,
    "start_time": "2024-10-30T23:56:08.675Z"
   },
   {
    "duration": 250,
    "start_time": "2024-10-30T23:56:08.829Z"
   },
   {
    "duration": 2,
    "start_time": "2024-10-30T23:56:09.081Z"
   },
   {
    "duration": 12,
    "start_time": "2024-10-30T23:56:09.089Z"
   },
   {
    "duration": 166,
    "start_time": "2024-10-30T23:56:09.103Z"
   },
   {
    "duration": 2,
    "start_time": "2024-10-30T23:56:09.271Z"
   },
   {
    "duration": 46,
    "start_time": "2024-10-30T23:56:09.275Z"
   },
   {
    "duration": 156,
    "start_time": "2024-10-30T23:56:09.323Z"
   },
   {
    "duration": 9,
    "start_time": "2024-10-30T23:56:09.481Z"
   },
   {
    "duration": 118,
    "start_time": "2024-10-30T23:56:09.492Z"
   },
   {
    "duration": 12,
    "start_time": "2024-10-30T23:56:09.612Z"
   },
   {
    "duration": 287,
    "start_time": "2024-10-30T23:56:09.626Z"
   },
   {
    "duration": 10,
    "start_time": "2024-10-30T23:56:09.915Z"
   },
   {
    "duration": 158,
    "start_time": "2024-10-30T23:56:09.927Z"
   },
   {
    "duration": 7,
    "start_time": "2024-10-30T23:56:10.087Z"
   },
   {
    "duration": 120,
    "start_time": "2024-10-30T23:56:10.096Z"
   },
   {
    "duration": 90,
    "start_time": "2024-10-30T23:56:10.218Z"
   },
   {
    "duration": 4,
    "start_time": "2024-10-30T23:56:10.310Z"
   },
   {
    "duration": 110,
    "start_time": "2024-10-30T23:56:10.316Z"
   },
   {
    "duration": 137,
    "start_time": "2024-10-30T23:56:10.428Z"
   },
   {
    "duration": 195,
    "start_time": "2024-10-30T23:56:10.568Z"
   },
   {
    "duration": 379,
    "start_time": "2024-10-30T23:56:10.765Z"
   },
   {
    "duration": 672,
    "start_time": "2024-10-30T23:56:11.147Z"
   },
   {
    "duration": 116,
    "start_time": "2024-10-30T23:56:11.821Z"
   },
   {
    "duration": 80,
    "start_time": "2024-10-30T23:56:11.942Z"
   },
   {
    "duration": 25,
    "start_time": "2024-10-30T23:56:12.024Z"
   },
   {
    "duration": 43,
    "start_time": "2024-10-31T00:18:27.515Z"
   },
   {
    "duration": 139,
    "start_time": "2024-10-31T00:22:12.951Z"
   },
   {
    "duration": 337,
    "start_time": "2024-10-31T00:26:33.659Z"
   },
   {
    "duration": 309,
    "start_time": "2024-10-31T00:46:37.678Z"
   },
   {
    "duration": 881,
    "start_time": "2024-10-31T00:46:37.989Z"
   },
   {
    "duration": 15,
    "start_time": "2024-10-31T00:46:38.871Z"
   },
   {
    "duration": 10,
    "start_time": "2024-10-31T00:46:38.888Z"
   },
   {
    "duration": 8,
    "start_time": "2024-10-31T00:46:38.900Z"
   },
   {
    "duration": 34,
    "start_time": "2024-10-31T00:46:38.909Z"
   },
   {
    "duration": 7,
    "start_time": "2024-10-31T00:46:38.945Z"
   },
   {
    "duration": 198,
    "start_time": "2024-10-31T00:46:38.953Z"
   },
   {
    "duration": 10,
    "start_time": "2024-10-31T00:46:39.153Z"
   },
   {
    "duration": 117,
    "start_time": "2024-10-31T00:46:39.166Z"
   },
   {
    "duration": 91,
    "start_time": "2024-10-31T00:46:39.285Z"
   },
   {
    "duration": 27,
    "start_time": "2024-10-31T00:46:39.378Z"
   },
   {
    "duration": 19,
    "start_time": "2024-10-31T00:46:39.406Z"
   },
   {
    "duration": 18,
    "start_time": "2024-10-31T00:46:39.427Z"
   },
   {
    "duration": 23,
    "start_time": "2024-10-31T00:46:39.447Z"
   },
   {
    "duration": 11,
    "start_time": "2024-10-31T00:46:39.471Z"
   },
   {
    "duration": 5,
    "start_time": "2024-10-31T00:46:39.483Z"
   },
   {
    "duration": 4,
    "start_time": "2024-10-31T00:46:39.490Z"
   },
   {
    "duration": 5,
    "start_time": "2024-10-31T00:46:39.495Z"
   },
   {
    "duration": 45,
    "start_time": "2024-10-31T00:46:39.501Z"
   },
   {
    "duration": 1623,
    "start_time": "2024-10-31T00:46:39.547Z"
   },
   {
    "duration": 176,
    "start_time": "2024-10-31T00:46:41.172Z"
   },
   {
    "duration": 12,
    "start_time": "2024-10-31T00:46:41.349Z"
   },
   {
    "duration": 8,
    "start_time": "2024-10-31T00:46:41.362Z"
   },
   {
    "duration": 8,
    "start_time": "2024-10-31T00:46:41.371Z"
   },
   {
    "duration": 14,
    "start_time": "2024-10-31T00:46:41.381Z"
   },
   {
    "duration": 7,
    "start_time": "2024-10-31T00:46:41.397Z"
   },
   {
    "duration": 12,
    "start_time": "2024-10-31T00:46:41.445Z"
   },
   {
    "duration": 6,
    "start_time": "2024-10-31T00:46:41.459Z"
   },
   {
    "duration": 18,
    "start_time": "2024-10-31T00:46:41.467Z"
   },
   {
    "duration": 210,
    "start_time": "2024-10-31T00:46:41.487Z"
   },
   {
    "duration": 7,
    "start_time": "2024-10-31T00:46:41.699Z"
   },
   {
    "duration": 15,
    "start_time": "2024-10-31T00:46:41.708Z"
   },
   {
    "duration": 37,
    "start_time": "2024-10-31T00:46:41.742Z"
   },
   {
    "duration": 13,
    "start_time": "2024-10-31T00:46:41.781Z"
   },
   {
    "duration": 12,
    "start_time": "2024-10-31T00:46:41.795Z"
   },
   {
    "duration": 398,
    "start_time": "2024-10-31T00:46:41.808Z"
   },
   {
    "duration": 149,
    "start_time": "2024-10-31T00:46:42.209Z"
   },
   {
    "duration": 248,
    "start_time": "2024-10-31T00:46:42.360Z"
   },
   {
    "duration": 2,
    "start_time": "2024-10-31T00:46:42.611Z"
   },
   {
    "duration": 12,
    "start_time": "2024-10-31T00:46:42.615Z"
   },
   {
    "duration": 148,
    "start_time": "2024-10-31T00:46:42.644Z"
   },
   {
    "duration": 3,
    "start_time": "2024-10-31T00:46:42.793Z"
   },
   {
    "duration": 60,
    "start_time": "2024-10-31T00:46:42.797Z"
   },
   {
    "duration": 138,
    "start_time": "2024-10-31T00:46:42.859Z"
   },
   {
    "duration": 10,
    "start_time": "2024-10-31T00:46:42.999Z"
   },
   {
    "duration": 119,
    "start_time": "2024-10-31T00:46:43.010Z"
   },
   {
    "duration": 16,
    "start_time": "2024-10-31T00:46:43.131Z"
   },
   {
    "duration": 281,
    "start_time": "2024-10-31T00:46:43.149Z"
   },
   {
    "duration": 19,
    "start_time": "2024-10-31T00:46:43.432Z"
   },
   {
    "duration": 149,
    "start_time": "2024-10-31T00:46:43.453Z"
   },
   {
    "duration": 7,
    "start_time": "2024-10-31T00:46:43.603Z"
   },
   {
    "duration": 119,
    "start_time": "2024-10-31T00:46:43.612Z"
   },
   {
    "duration": 77,
    "start_time": "2024-10-31T00:46:43.733Z"
   },
   {
    "duration": 5,
    "start_time": "2024-10-31T00:46:43.812Z"
   },
   {
    "duration": 109,
    "start_time": "2024-10-31T00:46:43.819Z"
   },
   {
    "duration": 115,
    "start_time": "2024-10-31T00:46:43.931Z"
   },
   {
    "duration": 138,
    "start_time": "2024-10-31T00:46:44.047Z"
   },
   {
    "duration": 343,
    "start_time": "2024-10-31T00:46:44.187Z"
   },
   {
    "duration": 382,
    "start_time": "2024-10-31T00:46:44.532Z"
   },
   {
    "duration": 106,
    "start_time": "2024-10-31T00:46:44.915Z"
   },
   {
    "duration": 89,
    "start_time": "2024-10-31T00:46:45.023Z"
   },
   {
    "duration": 28,
    "start_time": "2024-10-31T00:46:45.114Z"
   },
   {
    "duration": 288,
    "start_time": "2024-11-03T17:52:13.414Z"
   },
   {
    "duration": 1015,
    "start_time": "2024-11-03T17:52:13.704Z"
   },
   {
    "duration": 15,
    "start_time": "2024-11-03T17:52:14.721Z"
   },
   {
    "duration": 11,
    "start_time": "2024-11-03T17:52:14.737Z"
   },
   {
    "duration": 9,
    "start_time": "2024-11-03T17:52:14.751Z"
   },
   {
    "duration": 8,
    "start_time": "2024-11-03T17:52:14.762Z"
   },
   {
    "duration": 9,
    "start_time": "2024-11-03T17:52:14.771Z"
   },
   {
    "duration": 210,
    "start_time": "2024-11-03T17:52:14.781Z"
   },
   {
    "duration": 10,
    "start_time": "2024-11-03T17:52:14.993Z"
   },
   {
    "duration": 117,
    "start_time": "2024-11-03T17:52:15.004Z"
   },
   {
    "duration": 83,
    "start_time": "2024-11-03T17:52:15.123Z"
   },
   {
    "duration": 35,
    "start_time": "2024-11-03T17:52:15.208Z"
   },
   {
    "duration": 19,
    "start_time": "2024-11-03T17:52:15.244Z"
   },
   {
    "duration": 4,
    "start_time": "2024-11-03T17:52:15.266Z"
   },
   {
    "duration": 22,
    "start_time": "2024-11-03T17:52:15.272Z"
   },
   {
    "duration": 38,
    "start_time": "2024-11-03T17:52:15.295Z"
   },
   {
    "duration": 5,
    "start_time": "2024-11-03T17:52:15.335Z"
   },
   {
    "duration": 3,
    "start_time": "2024-11-03T17:52:15.342Z"
   },
   {
    "duration": 6,
    "start_time": "2024-11-03T17:52:15.347Z"
   },
   {
    "duration": 5,
    "start_time": "2024-11-03T17:52:15.354Z"
   },
   {
    "duration": 1602,
    "start_time": "2024-11-03T17:52:15.361Z"
   },
   {
    "duration": 178,
    "start_time": "2024-11-03T17:52:16.965Z"
   },
   {
    "duration": 13,
    "start_time": "2024-11-03T17:52:17.144Z"
   },
   {
    "duration": 7,
    "start_time": "2024-11-03T17:52:17.159Z"
   },
   {
    "duration": 7,
    "start_time": "2024-11-03T17:52:17.168Z"
   },
   {
    "duration": 15,
    "start_time": "2024-11-03T17:52:17.176Z"
   },
   {
    "duration": 6,
    "start_time": "2024-11-03T17:52:17.192Z"
   },
   {
    "duration": 34,
    "start_time": "2024-11-03T17:52:17.200Z"
   },
   {
    "duration": 6,
    "start_time": "2024-11-03T17:52:17.236Z"
   },
   {
    "duration": 20,
    "start_time": "2024-11-03T17:52:17.243Z"
   },
   {
    "duration": 213,
    "start_time": "2024-11-03T17:52:17.265Z"
   },
   {
    "duration": 9,
    "start_time": "2024-11-03T17:52:17.480Z"
   },
   {
    "duration": 34,
    "start_time": "2024-11-03T17:52:17.491Z"
   },
   {
    "duration": 40,
    "start_time": "2024-11-03T17:52:17.528Z"
   },
   {
    "duration": 12,
    "start_time": "2024-11-03T17:52:17.570Z"
   },
   {
    "duration": 12,
    "start_time": "2024-11-03T17:52:17.584Z"
   },
   {
    "duration": 2064,
    "start_time": "2024-11-03T17:52:17.597Z"
   },
   {
    "duration": 154,
    "start_time": "2024-11-03T17:52:19.663Z"
   },
   {
    "duration": 275,
    "start_time": "2024-11-03T17:52:19.819Z"
   },
   {
    "duration": 3,
    "start_time": "2024-11-03T17:52:20.095Z"
   },
   {
    "duration": 25,
    "start_time": "2024-11-03T17:52:20.102Z"
   },
   {
    "duration": 154,
    "start_time": "2024-11-03T17:52:20.129Z"
   },
   {
    "duration": 2,
    "start_time": "2024-11-03T17:52:20.286Z"
   },
   {
    "duration": 59,
    "start_time": "2024-11-03T17:52:20.291Z"
   },
   {
    "duration": 129,
    "start_time": "2024-11-03T17:52:20.353Z"
   },
   {
    "duration": 10,
    "start_time": "2024-11-03T17:52:20.484Z"
   },
   {
    "duration": 115,
    "start_time": "2024-11-03T17:52:20.496Z"
   },
   {
    "duration": 16,
    "start_time": "2024-11-03T17:52:20.614Z"
   },
   {
    "duration": 276,
    "start_time": "2024-11-03T17:52:20.632Z"
   },
   {
    "duration": 15,
    "start_time": "2024-11-03T17:52:20.909Z"
   },
   {
    "duration": 146,
    "start_time": "2024-11-03T17:52:20.926Z"
   },
   {
    "duration": 7,
    "start_time": "2024-11-03T17:52:21.074Z"
   },
   {
    "duration": 123,
    "start_time": "2024-11-03T17:52:21.083Z"
   },
   {
    "duration": 76,
    "start_time": "2024-11-03T17:52:21.208Z"
   },
   {
    "duration": 6,
    "start_time": "2024-11-03T17:52:21.285Z"
   },
   {
    "duration": 118,
    "start_time": "2024-11-03T17:52:21.293Z"
   },
   {
    "duration": 117,
    "start_time": "2024-11-03T17:52:21.413Z"
   },
   {
    "duration": 121,
    "start_time": "2024-11-03T17:52:21.533Z"
   },
   {
    "duration": 369,
    "start_time": "2024-11-03T17:52:21.656Z"
   },
   {
    "duration": 382,
    "start_time": "2024-11-03T17:52:22.027Z"
   },
   {
    "duration": 113,
    "start_time": "2024-11-03T17:52:22.411Z"
   },
   {
    "duration": 80,
    "start_time": "2024-11-03T17:52:22.526Z"
   },
   {
    "duration": 25,
    "start_time": "2024-11-03T17:52:22.607Z"
   },
   {
    "duration": 15,
    "start_time": "2024-11-03T17:53:02.569Z"
   },
   {
    "duration": 19,
    "start_time": "2024-11-03T17:53:32.126Z"
   },
   {
    "duration": 18,
    "start_time": "2024-11-03T17:54:00.225Z"
   },
   {
    "duration": 17,
    "start_time": "2024-11-03T17:54:29.797Z"
   },
   {
    "duration": 19,
    "start_time": "2024-11-03T17:54:55.006Z"
   },
   {
    "duration": 197,
    "start_time": "2024-11-03T17:55:28.289Z"
   },
   {
    "duration": 19,
    "start_time": "2024-11-03T17:55:35.908Z"
   },
   {
    "duration": 26,
    "start_time": "2024-11-03T17:55:46.911Z"
   },
   {
    "duration": 25,
    "start_time": "2024-11-03T17:55:50.544Z"
   },
   {
    "duration": 18,
    "start_time": "2024-11-03T17:56:51.794Z"
   },
   {
    "duration": 18,
    "start_time": "2024-11-03T17:57:23.881Z"
   },
   {
    "duration": 645,
    "start_time": "2024-11-03T19:52:44.517Z"
   },
   {
    "duration": 997,
    "start_time": "2024-11-03T19:52:45.164Z"
   },
   {
    "duration": 14,
    "start_time": "2024-11-03T19:52:46.163Z"
   },
   {
    "duration": 11,
    "start_time": "2024-11-03T19:52:46.180Z"
   },
   {
    "duration": 8,
    "start_time": "2024-11-03T19:52:46.192Z"
   },
   {
    "duration": 8,
    "start_time": "2024-11-03T19:52:46.225Z"
   },
   {
    "duration": 8,
    "start_time": "2024-11-03T19:52:46.235Z"
   },
   {
    "duration": 207,
    "start_time": "2024-11-03T19:52:46.245Z"
   },
   {
    "duration": 10,
    "start_time": "2024-11-03T19:52:46.454Z"
   },
   {
    "duration": 115,
    "start_time": "2024-11-03T19:52:46.468Z"
   },
   {
    "duration": 93,
    "start_time": "2024-11-03T19:52:46.584Z"
   },
   {
    "duration": 30,
    "start_time": "2024-11-03T19:52:46.679Z"
   },
   {
    "duration": 29,
    "start_time": "2024-11-03T19:52:46.712Z"
   },
   {
    "duration": 4,
    "start_time": "2024-11-03T19:52:46.743Z"
   },
   {
    "duration": 22,
    "start_time": "2024-11-03T19:52:46.749Z"
   },
   {
    "duration": 14,
    "start_time": "2024-11-03T19:52:49.812Z"
   },
   {
    "duration": 31,
    "start_time": "2024-11-03T19:53:13.696Z"
   },
   {
    "duration": 299,
    "start_time": "2024-11-03T20:58:24.497Z"
   },
   {
    "duration": 984,
    "start_time": "2024-11-03T20:58:24.798Z"
   },
   {
    "duration": 14,
    "start_time": "2024-11-03T20:58:25.784Z"
   },
   {
    "duration": 10,
    "start_time": "2024-11-03T20:58:25.809Z"
   },
   {
    "duration": 9,
    "start_time": "2024-11-03T20:58:25.821Z"
   },
   {
    "duration": 9,
    "start_time": "2024-11-03T20:58:25.832Z"
   },
   {
    "duration": 8,
    "start_time": "2024-11-03T20:58:25.844Z"
   },
   {
    "duration": 235,
    "start_time": "2024-11-03T20:58:25.854Z"
   },
   {
    "duration": 21,
    "start_time": "2024-11-03T20:58:26.091Z"
   },
   {
    "duration": 114,
    "start_time": "2024-11-03T20:58:26.115Z"
   },
   {
    "duration": 93,
    "start_time": "2024-11-03T20:58:26.230Z"
   },
   {
    "duration": 32,
    "start_time": "2024-11-03T20:58:26.325Z"
   },
   {
    "duration": 20,
    "start_time": "2024-11-03T20:58:26.359Z"
   },
   {
    "duration": 5,
    "start_time": "2024-11-03T20:58:26.380Z"
   },
   {
    "duration": 43,
    "start_time": "2024-11-03T20:58:26.387Z"
   },
   {
    "duration": 12,
    "start_time": "2024-11-03T20:58:26.432Z"
   },
   {
    "duration": 4,
    "start_time": "2024-11-03T20:58:26.447Z"
   },
   {
    "duration": 4,
    "start_time": "2024-11-03T20:58:26.453Z"
   },
   {
    "duration": 5,
    "start_time": "2024-11-03T20:58:26.458Z"
   },
   {
    "duration": 4,
    "start_time": "2024-11-03T20:58:26.464Z"
   },
   {
    "duration": 1666,
    "start_time": "2024-11-03T20:58:26.509Z"
   },
   {
    "duration": 190,
    "start_time": "2024-11-03T20:58:28.177Z"
   },
   {
    "duration": 12,
    "start_time": "2024-11-03T20:58:28.369Z"
   },
   {
    "duration": 7,
    "start_time": "2024-11-03T20:58:28.383Z"
   },
   {
    "duration": 9,
    "start_time": "2024-11-03T20:58:28.408Z"
   },
   {
    "duration": 16,
    "start_time": "2024-11-03T20:58:28.418Z"
   },
   {
    "duration": 7,
    "start_time": "2024-11-03T20:58:28.436Z"
   },
   {
    "duration": 13,
    "start_time": "2024-11-03T20:58:28.448Z"
   },
   {
    "duration": 7,
    "start_time": "2024-11-03T20:58:28.463Z"
   },
   {
    "duration": 20,
    "start_time": "2024-11-03T20:58:28.508Z"
   },
   {
    "duration": 199,
    "start_time": "2024-11-03T20:58:28.530Z"
   },
   {
    "duration": 8,
    "start_time": "2024-11-03T20:58:28.730Z"
   },
   {
    "duration": 16,
    "start_time": "2024-11-03T20:58:28.740Z"
   },
   {
    "duration": 61,
    "start_time": "2024-11-03T20:58:28.758Z"
   },
   {
    "duration": 19,
    "start_time": "2024-11-03T20:58:28.821Z"
   },
   {
    "duration": 17,
    "start_time": "2024-11-03T20:58:28.842Z"
   },
   {
    "duration": 2055,
    "start_time": "2024-11-03T20:58:28.861Z"
   },
   {
    "duration": 160,
    "start_time": "2024-11-03T20:58:30.918Z"
   },
   {
    "duration": 293,
    "start_time": "2024-11-03T20:58:31.079Z"
   },
   {
    "duration": 3,
    "start_time": "2024-11-03T20:58:31.374Z"
   },
   {
    "duration": 14,
    "start_time": "2024-11-03T20:58:31.380Z"
   },
   {
    "duration": 155,
    "start_time": "2024-11-03T20:58:31.408Z"
   },
   {
    "duration": 4,
    "start_time": "2024-11-03T20:58:31.565Z"
   },
   {
    "duration": 60,
    "start_time": "2024-11-03T20:58:31.571Z"
   },
   {
    "duration": 138,
    "start_time": "2024-11-03T20:58:31.634Z"
   },
   {
    "duration": 9,
    "start_time": "2024-11-03T20:58:31.775Z"
   },
   {
    "duration": 111,
    "start_time": "2024-11-03T20:58:31.786Z"
   },
   {
    "duration": 19,
    "start_time": "2024-11-03T20:58:31.899Z"
   },
   {
    "duration": 295,
    "start_time": "2024-11-03T20:58:31.920Z"
   },
   {
    "duration": 11,
    "start_time": "2024-11-03T20:58:32.217Z"
   },
   {
    "duration": 161,
    "start_time": "2024-11-03T20:58:32.229Z"
   },
   {
    "duration": 8,
    "start_time": "2024-11-03T20:58:32.392Z"
   },
   {
    "duration": 115,
    "start_time": "2024-11-03T20:58:32.409Z"
   },
   {
    "duration": 69,
    "start_time": "2024-11-03T20:58:32.526Z"
   },
   {
    "duration": 14,
    "start_time": "2024-11-03T20:58:32.597Z"
   },
   {
    "duration": 112,
    "start_time": "2024-11-03T20:58:32.612Z"
   },
   {
    "duration": 112,
    "start_time": "2024-11-03T20:58:32.726Z"
   },
   {
    "duration": 117,
    "start_time": "2024-11-03T20:58:32.840Z"
   },
   {
    "duration": 362,
    "start_time": "2024-11-03T20:58:32.959Z"
   },
   {
    "duration": 371,
    "start_time": "2024-11-03T20:58:33.323Z"
   },
   {
    "duration": 114,
    "start_time": "2024-11-03T20:58:33.696Z"
   },
   {
    "duration": 82,
    "start_time": "2024-11-03T20:58:33.812Z"
   },
   {
    "duration": 18,
    "start_time": "2024-11-03T20:58:33.909Z"
   },
   {
    "duration": 26,
    "start_time": "2024-11-03T21:00:41.226Z"
   },
   {
    "duration": 17,
    "start_time": "2024-11-03T21:00:50.559Z"
   },
   {
    "duration": 301,
    "start_time": "2024-11-03T21:05:23.353Z"
   },
   {
    "duration": 857,
    "start_time": "2024-11-03T21:05:23.656Z"
   },
   {
    "duration": 14,
    "start_time": "2024-11-03T21:05:24.514Z"
   },
   {
    "duration": 10,
    "start_time": "2024-11-03T21:05:24.530Z"
   },
   {
    "duration": 9,
    "start_time": "2024-11-03T21:05:24.542Z"
   },
   {
    "duration": 9,
    "start_time": "2024-11-03T21:05:24.553Z"
   },
   {
    "duration": 9,
    "start_time": "2024-11-03T21:05:24.563Z"
   },
   {
    "duration": 243,
    "start_time": "2024-11-03T21:05:24.573Z"
   },
   {
    "duration": 12,
    "start_time": "2024-11-03T21:05:24.818Z"
   },
   {
    "duration": 118,
    "start_time": "2024-11-03T21:05:24.832Z"
   },
   {
    "duration": 94,
    "start_time": "2024-11-03T21:05:24.952Z"
   },
   {
    "duration": 30,
    "start_time": "2024-11-03T21:05:25.048Z"
   },
   {
    "duration": 31,
    "start_time": "2024-11-03T21:05:25.080Z"
   },
   {
    "duration": 5,
    "start_time": "2024-11-03T21:05:25.113Z"
   },
   {
    "duration": 24,
    "start_time": "2024-11-03T21:05:25.119Z"
   },
   {
    "duration": 10,
    "start_time": "2024-11-03T21:05:25.146Z"
   },
   {
    "duration": 4,
    "start_time": "2024-11-03T21:05:25.158Z"
   },
   {
    "duration": 4,
    "start_time": "2024-11-03T21:05:25.164Z"
   },
   {
    "duration": 38,
    "start_time": "2024-11-03T21:05:25.170Z"
   },
   {
    "duration": 4,
    "start_time": "2024-11-03T21:05:25.210Z"
   },
   {
    "duration": 1688,
    "start_time": "2024-11-03T21:05:25.216Z"
   },
   {
    "duration": 171,
    "start_time": "2024-11-03T21:05:26.905Z"
   },
   {
    "duration": 12,
    "start_time": "2024-11-03T21:05:27.078Z"
   },
   {
    "duration": 20,
    "start_time": "2024-11-03T21:05:27.091Z"
   },
   {
    "duration": 10,
    "start_time": "2024-11-03T21:05:27.114Z"
   },
   {
    "duration": 17,
    "start_time": "2024-11-03T21:05:27.126Z"
   },
   {
    "duration": 7,
    "start_time": "2024-11-03T21:05:27.145Z"
   },
   {
    "duration": 13,
    "start_time": "2024-11-03T21:05:27.156Z"
   },
   {
    "duration": 5,
    "start_time": "2024-11-03T21:05:27.171Z"
   },
   {
    "duration": 21,
    "start_time": "2024-11-03T21:05:27.213Z"
   },
   {
    "duration": 208,
    "start_time": "2024-11-03T21:05:27.235Z"
   },
   {
    "duration": 8,
    "start_time": "2024-11-03T21:05:27.446Z"
   },
   {
    "duration": 16,
    "start_time": "2024-11-03T21:05:27.456Z"
   },
   {
    "duration": 64,
    "start_time": "2024-11-03T21:05:27.474Z"
   },
   {
    "duration": 19,
    "start_time": "2024-11-03T21:05:27.540Z"
   },
   {
    "duration": 18,
    "start_time": "2024-11-03T21:05:27.561Z"
   },
   {
    "duration": 405,
    "start_time": "2024-11-03T21:05:27.581Z"
   },
   {
    "duration": 158,
    "start_time": "2024-11-03T21:05:27.988Z"
   },
   {
    "duration": 265,
    "start_time": "2024-11-03T21:05:28.147Z"
   },
   {
    "duration": 3,
    "start_time": "2024-11-03T21:05:28.414Z"
   },
   {
    "duration": 13,
    "start_time": "2024-11-03T21:05:28.418Z"
   },
   {
    "duration": 163,
    "start_time": "2024-11-03T21:05:28.432Z"
   },
   {
    "duration": 12,
    "start_time": "2024-11-03T21:05:28.597Z"
   },
   {
    "duration": 48,
    "start_time": "2024-11-03T21:05:28.610Z"
   },
   {
    "duration": 138,
    "start_time": "2024-11-03T21:05:28.660Z"
   },
   {
    "duration": 13,
    "start_time": "2024-11-03T21:05:28.800Z"
   },
   {
    "duration": 112,
    "start_time": "2024-11-03T21:05:28.815Z"
   },
   {
    "duration": 12,
    "start_time": "2024-11-03T21:05:28.929Z"
   },
   {
    "duration": 302,
    "start_time": "2024-11-03T21:05:28.942Z"
   },
   {
    "duration": 11,
    "start_time": "2024-11-03T21:05:29.246Z"
   },
   {
    "duration": 161,
    "start_time": "2024-11-03T21:05:29.259Z"
   },
   {
    "duration": 7,
    "start_time": "2024-11-03T21:05:29.421Z"
   },
   {
    "duration": 120,
    "start_time": "2024-11-03T21:05:29.430Z"
   },
   {
    "duration": 73,
    "start_time": "2024-11-03T21:05:29.552Z"
   },
   {
    "duration": 5,
    "start_time": "2024-11-03T21:05:29.626Z"
   },
   {
    "duration": 111,
    "start_time": "2024-11-03T21:05:29.633Z"
   },
   {
    "duration": 121,
    "start_time": "2024-11-03T21:05:29.746Z"
   },
   {
    "duration": 127,
    "start_time": "2024-11-03T21:05:29.869Z"
   },
   {
    "duration": 367,
    "start_time": "2024-11-03T21:05:29.998Z"
   },
   {
    "duration": 381,
    "start_time": "2024-11-03T21:05:30.366Z"
   },
   {
    "duration": 111,
    "start_time": "2024-11-03T21:05:30.749Z"
   },
   {
    "duration": 88,
    "start_time": "2024-11-03T21:05:30.862Z"
   },
   {
    "duration": 20,
    "start_time": "2024-11-03T21:05:30.952Z"
   },
   {
    "duration": 26,
    "start_time": "2024-11-03T21:06:10.973Z"
   },
   {
    "duration": 17,
    "start_time": "2024-11-03T21:09:13.389Z"
   },
   {
    "duration": 279,
    "start_time": "2024-11-04T01:05:35.551Z"
   },
   {
    "duration": 1012,
    "start_time": "2024-11-04T01:05:35.832Z"
   },
   {
    "duration": 15,
    "start_time": "2024-11-04T01:05:36.846Z"
   },
   {
    "duration": 23,
    "start_time": "2024-11-04T01:05:36.863Z"
   },
   {
    "duration": 8,
    "start_time": "2024-11-04T01:05:36.889Z"
   },
   {
    "duration": 9,
    "start_time": "2024-11-04T01:05:36.899Z"
   },
   {
    "duration": 8,
    "start_time": "2024-11-04T01:05:36.910Z"
   },
   {
    "duration": 234,
    "start_time": "2024-11-04T01:05:36.919Z"
   },
   {
    "duration": 11,
    "start_time": "2024-11-04T01:05:37.155Z"
   },
   {
    "duration": 120,
    "start_time": "2024-11-04T01:05:37.168Z"
   },
   {
    "duration": 88,
    "start_time": "2024-11-04T01:05:37.290Z"
   },
   {
    "duration": 28,
    "start_time": "2024-11-04T01:05:37.387Z"
   },
   {
    "duration": 19,
    "start_time": "2024-11-04T01:05:37.416Z"
   },
   {
    "duration": 5,
    "start_time": "2024-11-04T01:05:37.438Z"
   },
   {
    "duration": 49,
    "start_time": "2024-11-04T01:05:37.444Z"
   },
   {
    "duration": 15,
    "start_time": "2024-11-04T01:05:39.896Z"
   },
   {
    "duration": 306,
    "start_time": "2024-11-05T01:37:17.125Z"
   },
   {
    "duration": 1050,
    "start_time": "2024-11-05T01:37:17.433Z"
   },
   {
    "duration": 15,
    "start_time": "2024-11-05T01:37:18.485Z"
   },
   {
    "duration": 11,
    "start_time": "2024-11-05T01:37:18.503Z"
   },
   {
    "duration": 24,
    "start_time": "2024-11-05T01:37:18.516Z"
   },
   {
    "duration": 8,
    "start_time": "2024-11-05T01:37:18.542Z"
   },
   {
    "duration": 9,
    "start_time": "2024-11-05T01:37:18.552Z"
   },
   {
    "duration": 228,
    "start_time": "2024-11-05T01:37:18.563Z"
   },
   {
    "duration": 11,
    "start_time": "2024-11-05T01:37:18.793Z"
   },
   {
    "duration": 123,
    "start_time": "2024-11-05T01:37:18.808Z"
   },
   {
    "duration": 90,
    "start_time": "2024-11-05T01:37:18.933Z"
   },
   {
    "duration": 36,
    "start_time": "2024-11-05T01:37:19.030Z"
   },
   {
    "duration": 22,
    "start_time": "2024-11-05T01:37:19.068Z"
   },
   {
    "duration": 5,
    "start_time": "2024-11-05T01:37:19.092Z"
   },
   {
    "duration": 52,
    "start_time": "2024-11-05T01:37:19.099Z"
   },
   {
    "duration": 13,
    "start_time": "2024-11-05T01:37:19.153Z"
   },
   {
    "duration": 5,
    "start_time": "2024-11-05T01:37:19.168Z"
   },
   {
    "duration": 4,
    "start_time": "2024-11-05T01:37:19.175Z"
   },
   {
    "duration": 5,
    "start_time": "2024-11-05T01:37:19.181Z"
   },
   {
    "duration": 4,
    "start_time": "2024-11-05T01:37:19.187Z"
   },
   {
    "duration": 1749,
    "start_time": "2024-11-05T01:37:19.193Z"
   },
   {
    "duration": 181,
    "start_time": "2024-11-05T01:37:20.944Z"
   },
   {
    "duration": 14,
    "start_time": "2024-11-05T01:37:21.127Z"
   },
   {
    "duration": 8,
    "start_time": "2024-11-05T01:37:21.143Z"
   },
   {
    "duration": 8,
    "start_time": "2024-11-05T01:37:21.152Z"
   },
   {
    "duration": 16,
    "start_time": "2024-11-05T01:37:21.161Z"
   },
   {
    "duration": 6,
    "start_time": "2024-11-05T01:37:21.179Z"
   },
   {
    "duration": 50,
    "start_time": "2024-11-05T01:37:21.191Z"
   },
   {
    "duration": 6,
    "start_time": "2024-11-05T01:37:21.243Z"
   },
   {
    "duration": 19,
    "start_time": "2024-11-05T01:37:21.252Z"
   },
   {
    "duration": 219,
    "start_time": "2024-11-05T01:37:21.273Z"
   },
   {
    "duration": 8,
    "start_time": "2024-11-05T01:37:21.494Z"
   },
   {
    "duration": 30,
    "start_time": "2024-11-05T01:37:21.503Z"
   },
   {
    "duration": 39,
    "start_time": "2024-11-05T01:37:21.535Z"
   },
   {
    "duration": 19,
    "start_time": "2024-11-05T01:37:21.576Z"
   },
   {
    "duration": 38,
    "start_time": "2024-11-05T01:37:21.597Z"
   },
   {
    "duration": 2103,
    "start_time": "2024-11-05T01:37:21.637Z"
   },
   {
    "duration": 155,
    "start_time": "2024-11-05T01:37:23.742Z"
   },
   {
    "duration": 262,
    "start_time": "2024-11-05T01:37:23.899Z"
   },
   {
    "duration": 2,
    "start_time": "2024-11-05T01:37:24.163Z"
   },
   {
    "duration": 15,
    "start_time": "2024-11-05T01:37:24.167Z"
   },
   {
    "duration": 174,
    "start_time": "2024-11-05T01:37:24.184Z"
   },
   {
    "duration": 3,
    "start_time": "2024-11-05T01:37:24.360Z"
   },
   {
    "duration": 52,
    "start_time": "2024-11-05T01:37:24.365Z"
   },
   {
    "duration": 148,
    "start_time": "2024-11-05T01:37:24.431Z"
   },
   {
    "duration": 10,
    "start_time": "2024-11-05T01:37:24.580Z"
   },
   {
    "duration": 109,
    "start_time": "2024-11-05T01:37:24.592Z"
   },
   {
    "duration": 13,
    "start_time": "2024-11-05T01:37:24.703Z"
   },
   {
    "duration": 322,
    "start_time": "2024-11-05T01:37:24.731Z"
   },
   {
    "duration": 13,
    "start_time": "2024-11-05T01:37:25.054Z"
   },
   {
    "duration": 157,
    "start_time": "2024-11-05T01:37:25.069Z"
   },
   {
    "duration": 7,
    "start_time": "2024-11-05T01:37:25.230Z"
   },
   {
    "duration": 125,
    "start_time": "2024-11-05T01:37:25.239Z"
   },
   {
    "duration": 73,
    "start_time": "2024-11-05T01:37:25.366Z"
   },
   {
    "duration": 5,
    "start_time": "2024-11-05T01:37:25.441Z"
   },
   {
    "duration": 110,
    "start_time": "2024-11-05T01:37:25.448Z"
   },
   {
    "duration": 115,
    "start_time": "2024-11-05T01:37:25.560Z"
   },
   {
    "duration": 185,
    "start_time": "2024-11-05T01:37:25.677Z"
   },
   {
    "duration": 379,
    "start_time": "2024-11-05T01:37:25.864Z"
   },
   {
    "duration": 391,
    "start_time": "2024-11-05T01:37:26.244Z"
   },
   {
    "duration": 115,
    "start_time": "2024-11-05T01:37:26.637Z"
   },
   {
    "duration": 94,
    "start_time": "2024-11-05T01:37:26.754Z"
   },
   {
    "duration": 18,
    "start_time": "2024-11-05T01:37:26.851Z"
   }
  ],
  "colab": {
   "provenance": []
  },
  "kernelspec": {
   "display_name": "Python 3 (ipykernel)",
   "language": "python",
   "name": "python3"
  },
  "language_info": {
   "codemirror_mode": {
    "name": "ipython",
    "version": 3
   },
   "file_extension": ".py",
   "mimetype": "text/x-python",
   "name": "python",
   "nbconvert_exporter": "python",
   "pygments_lexer": "ipython3",
   "version": "3.9.19"
  },
  "toc": {
   "base_numbering": 1,
   "nav_menu": {},
   "number_sections": true,
   "sideBar": true,
   "skip_h1_title": true,
   "title_cell": "Table of Contents",
   "title_sidebar": "Contents",
   "toc_cell": false,
   "toc_position": {},
   "toc_section_display": true,
   "toc_window_display": false
  },
  "vscode": {
   "interpreter": {
    "hash": "01a7be9ec63e704a62cefc5fe7a4756944464ee731be31632bdf42a4cb4688cf"
   }
  }
 },
 "nbformat": 4,
 "nbformat_minor": 5
}
