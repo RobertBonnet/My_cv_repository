{
 "cells": [
  {
   "cell_type": "markdown",
   "metadata": {},
   "source": [
    "¡Hola, Robert!\n",
    "\n",
    "Mi nombre es Tonatiuh Cruz. Me complace revisar tu proyecto hoy.\n",
    "\n",
    "Al identificar cualquier error inicialmente, simplemente los destacaré. Te animo a localizar y abordar los problemas de forma independiente como parte de tu preparación para un rol como data-scientist. En un entorno profesional, tu líder de equipo seguiría un enfoque similar. Si encuentras la tarea desafiante, proporcionaré una pista más específica en la próxima iteración.\n",
    "\n",
    "Encontrarás mis comentarios a continuación - **por favor no los muevas, modifiques o elimines**.\n",
    "\n",
    "Puedes encontrar mis comentarios en cajas verdes, amarillas o rojas como esta:\n",
    "\n",
    "<div class=\"alert alert-block alert-success\">\n",
    "<b>Comentario del revisor</b> <a class=\"tocSkip\"></a>\n",
    "\n",
    "Éxito. Todo está hecho correctamente.\n",
    "</div>\n",
    "\n",
    "<div class=\"alert alert-block alert-warning\">\n",
    "<b>Comentario del revisor</b> <a class=\"tocSkip\"></a>\n",
    "\n",
    "Observaciones. Algunas recomendaciones.\n",
    "</div>\n",
    "\n",
    "<div class=\"alert alert-block alert-danger\">\n",
    "<b>Comentario del revisor</b> <a class=\"tocSkip\"></a>\n",
    "\n",
    "Necesita corrección. El bloque requiere algunas correcciones. El trabajo no puede ser aceptado con comentarios en rojo.\n",
    "</div>\n",
    "\n",
    "Puedes responderme utilizando esto:\n",
    "\n",
    "<div class=\"alert alert-block alert-info\">"
   ]
  },
  {
   "cell_type": "markdown",
   "metadata": {},
   "source": [
    "<div class=\"alert alert-block alert-success\">\n",
    "<b>Resumen de la revisión 1</b> <a class=\"tocSkip\"></a>\n",
    "\n",
    "Hola Robert! Has hecho un excelente trabajo con el proyecto, cada vez más cercas de convertirte en un analista de datos. Realizaste la carga de bases, su análisis inicial, sus ajustes, un análisis de algunos variables conmplementado con gráficas y el desarrollo de las pruebas d ehipótesis. Solamente te dejo algunos comentarios para complementar el análisis. \n",
    "\n",
    "Sigue con el excelente trabajo!\n",
    "</div>"
   ]
  },
  {
   "cell_type": "markdown",
   "metadata": {
    "id": "3rYiDeEH0q0f"
   },
   "source": [
    "# ¿Cuál es la mejor tarifa?\n",
    "\n",
    "Trabajas como analista para el operador de telecomunicaciones Megaline. La empresa ofrece a sus clientes dos tarifas de prepago, Surf y Ultimate. El departamento comercial quiere saber cuál de las tarifas genera más ingresos para poder ajustar el presupuesto de publicidad.\n",
    "\n",
    "Vas a realizar un análisis preliminar de las tarifas basado en una selección de clientes relativamente pequeña. Tendrás los datos de 500 clientes de Megaline: quiénes son los clientes, de dónde son, qué tarifa usan, así como la cantidad de llamadas que hicieron y los mensajes de texto que enviaron en 2018. Tu trabajo es analizar el comportamiento de los clientes y determinar qué tarifa de prepago genera más ingresos."
   ]
  },
  {
   "cell_type": "markdown",
   "metadata": {
    "id": "VNddPNRQ0q0w"
   },
   "source": [
    "[Te proporcionamos algunos comentarios para orientarte mientras completas este proyecto. Pero debes asegurarte de eliminar todos los comentarios entre corchetes antes de entregar tu proyecto.]\n",
    "\n",
    "[Antes de sumergirte en el análisis de datos, explica por tu propia cuenta el propósito del proyecto y las acciones que planeas realizar.]\n",
    "\n",
    "[Ten en cuenta que estudiar, modificar y analizar datos es un proceso iterativo. Es normal volver a los pasos anteriores y corregirlos/ampliarlos para permitir nuevos pasos.]"
   ]
  },
  {
   "cell_type": "markdown",
   "metadata": {},
   "source": [
    "Objetivo del proyecto:\n",
    "Determinar la magnitud de ingresos que genera cada uno de los dos planes tarifarios de la empresa.\n",
    "\n",
    "Acciones:\n",
    "Contar cuantos clientes están subscritos en cada plan tarifario.\n",
    "Sumar el total de ingresos que genera cada plan tarifario.\n",
    "Sumar el total de ingresos excedentes al plan por cada plan tarifario.\n",
    "Sumar la cantidad de llamadas, los minutos en llamada, numero de SMS y MB adicionales que gastaron los clientes de forma excedente a cada tipo de plan."
   ]
  },
  {
   "cell_type": "markdown",
   "metadata": {
    "id": "MQi4IPy70q0y"
   },
   "source": [
    "## Inicialización"
   ]
  },
  {
   "cell_type": "code",
   "execution_count": 1,
   "metadata": {
    "id": "MtYIuBxu0q0z"
   },
   "outputs": [],
   "source": [
    "# Cargar todas las librerías\n",
    "\n",
    "import pandas as pd\n",
    "import numpy as np\n",
    "import matplotlib.pyplot as plt\n",
    "import seaborn as sns\n",
    "import math\n",
    "from scipy.stats import shapiro\n",
    "from scipy.stats import mannwhitneyu"
   ]
  },
  {
   "cell_type": "markdown",
   "metadata": {},
   "source": [
    "<div class=\"alert alert-block alert-success\">\n",
    "<b>Comentario revisor</b> <a class=\"tocSkip\"></a>\n",
    "\n",
    "Muy buen trabajo con la carga de math para el redondeo de las variables"
   ]
  },
  {
   "cell_type": "markdown",
   "metadata": {
    "id": "4ysWWC5i0q00"
   },
   "source": [
    "## Cargar datos"
   ]
  },
  {
   "cell_type": "code",
   "execution_count": 2,
   "metadata": {
    "id": "CCqPW7rS0q01"
   },
   "outputs": [],
   "source": [
    "# Carga los archivos de datos en diferentes DataFrames\n",
    "\n",
    "calls = pd.read_csv('/datasets/megaline_calls.csv')\n",
    "internet = pd.read_csv('/datasets/megaline_internet.csv')\n",
    "messages = pd.read_csv('/datasets/megaline_messages.csv')\n",
    "plans = pd.read_csv('/datasets/megaline_plans.csv')\n",
    "users = pd.read_csv('/datasets/megaline_users.csv')"
   ]
  },
  {
   "cell_type": "markdown",
   "metadata": {
    "id": "69qqoJ3r0q01"
   },
   "source": [
    "## Preparar los datos"
   ]
  },
  {
   "cell_type": "markdown",
   "metadata": {
    "id": "vUuZw80S0q01"
   },
   "source": [
    "[Los datos para este proyecto se dividen en varias tablas. Explora cada una para tener una comprensión inicial de los datos. Si es necesario, haz las correcciones requeridas en cada tabla.]\n",
    "\n",
    "Imprimir la informacion general de cada tabla asi como sus primeras lineas para identificar cualquier error en los datos que deban corregirse o limpiarse antes de ser procesados."
   ]
  },
  {
   "cell_type": "markdown",
   "metadata": {
    "id": "ohBhimvH0q01"
   },
   "source": [
    "## Tarifas"
   ]
  },
  {
   "cell_type": "code",
   "execution_count": 3,
   "metadata": {
    "id": "GptqP3Q40q02"
   },
   "outputs": [
    {
     "name": "stdout",
     "output_type": "stream",
     "text": [
      "<class 'pandas.core.frame.DataFrame'>\n",
      "RangeIndex: 2 entries, 0 to 1\n",
      "Data columns (total 8 columns):\n",
      " #   Column                 Non-Null Count  Dtype  \n",
      "---  ------                 --------------  -----  \n",
      " 0   messages_included      2 non-null      int64  \n",
      " 1   mb_per_month_included  2 non-null      int64  \n",
      " 2   minutes_included       2 non-null      int64  \n",
      " 3   usd_monthly_pay        2 non-null      int64  \n",
      " 4   usd_per_gb             2 non-null      int64  \n",
      " 5   usd_per_message        2 non-null      float64\n",
      " 6   usd_per_minute         2 non-null      float64\n",
      " 7   plan_name              2 non-null      object \n",
      "dtypes: float64(2), int64(5), object(1)\n",
      "memory usage: 256.0+ bytes\n"
     ]
    }
   ],
   "source": [
    "# Imprime la información general/resumida sobre el DataFrame de las tarifas\n",
    "plans.info()\n"
   ]
  },
  {
   "cell_type": "code",
   "execution_count": 4,
   "metadata": {
    "id": "64xzjwL70q02"
   },
   "outputs": [
    {
     "data": {
      "text/html": [
       "<div>\n",
       "<style scoped>\n",
       "    .dataframe tbody tr th:only-of-type {\n",
       "        vertical-align: middle;\n",
       "    }\n",
       "\n",
       "    .dataframe tbody tr th {\n",
       "        vertical-align: top;\n",
       "    }\n",
       "\n",
       "    .dataframe thead th {\n",
       "        text-align: right;\n",
       "    }\n",
       "</style>\n",
       "<table border=\"1\" class=\"dataframe\">\n",
       "  <thead>\n",
       "    <tr style=\"text-align: right;\">\n",
       "      <th></th>\n",
       "      <th>messages_included</th>\n",
       "      <th>mb_per_month_included</th>\n",
       "      <th>minutes_included</th>\n",
       "      <th>usd_monthly_pay</th>\n",
       "      <th>usd_per_gb</th>\n",
       "      <th>usd_per_message</th>\n",
       "      <th>usd_per_minute</th>\n",
       "      <th>plan_name</th>\n",
       "    </tr>\n",
       "  </thead>\n",
       "  <tbody>\n",
       "    <tr>\n",
       "      <th>0</th>\n",
       "      <td>50</td>\n",
       "      <td>15360</td>\n",
       "      <td>500</td>\n",
       "      <td>20</td>\n",
       "      <td>10</td>\n",
       "      <td>0.03</td>\n",
       "      <td>0.03</td>\n",
       "      <td>surf</td>\n",
       "    </tr>\n",
       "    <tr>\n",
       "      <th>1</th>\n",
       "      <td>1000</td>\n",
       "      <td>30720</td>\n",
       "      <td>3000</td>\n",
       "      <td>70</td>\n",
       "      <td>7</td>\n",
       "      <td>0.01</td>\n",
       "      <td>0.01</td>\n",
       "      <td>ultimate</td>\n",
       "    </tr>\n",
       "  </tbody>\n",
       "</table>\n",
       "</div>"
      ],
      "text/plain": [
       "   messages_included  mb_per_month_included  minutes_included  \\\n",
       "0                 50                  15360               500   \n",
       "1               1000                  30720              3000   \n",
       "\n",
       "   usd_monthly_pay  usd_per_gb  usd_per_message  usd_per_minute plan_name  \n",
       "0               20          10             0.03            0.03      surf  \n",
       "1               70           7             0.01            0.01  ultimate  "
      ]
     },
     "execution_count": 4,
     "metadata": {},
     "output_type": "execute_result"
    }
   ],
   "source": [
    "# Imprime una muestra de los datos para las tarifas\n",
    "plans.head()\n"
   ]
  },
  {
   "cell_type": "markdown",
   "metadata": {
    "id": "mEc_3_hs0q02"
   },
   "source": [
    "[Describe lo que ves y observas en la información general y en la muestra de datos impresa para el precio de datos anterior. ¿Hay algún problema (tipos de datos no adecuados, datos ausentes, etc.) que pudieran necesitar investigación y cambios adicionales? ¿Cómo se puede arreglar?]\n",
    "\n",
    "Los datos de este DataFrame parecen estar en órden.\n",
    "Los nombres de las columnas y los de tipo object dentro del DataFrame están en camel case.\n",
    "Los datos fueron separados correctamente al importarse de un csv a un DataFrame de Pandas.\n",
    "No existen datos ausentes ni repetidos.\n",
    "Cada tipo de dato corresponde al esperado."
   ]
  },
  {
   "cell_type": "markdown",
   "metadata": {
    "id": "R3C05i1l0q03"
   },
   "source": [
    "## Corregir datos"
   ]
  },
  {
   "cell_type": "markdown",
   "metadata": {
    "id": "bIi8StZI0q03"
   },
   "source": [
    "[Corrige los problemas obvios con los datos basándote en las observaciones iniciales.]"
   ]
  },
  {
   "cell_type": "code",
   "execution_count": 5,
   "metadata": {
    "id": "Y7SVmjGn0q03"
   },
   "outputs": [
    {
     "data": {
      "text/html": [
       "<div>\n",
       "<style scoped>\n",
       "    .dataframe tbody tr th:only-of-type {\n",
       "        vertical-align: middle;\n",
       "    }\n",
       "\n",
       "    .dataframe tbody tr th {\n",
       "        vertical-align: top;\n",
       "    }\n",
       "\n",
       "    .dataframe thead th {\n",
       "        text-align: right;\n",
       "    }\n",
       "</style>\n",
       "<table border=\"1\" class=\"dataframe\">\n",
       "  <thead>\n",
       "    <tr style=\"text-align: right;\">\n",
       "      <th></th>\n",
       "      <th>messages_included</th>\n",
       "      <th>mb_per_month_included</th>\n",
       "      <th>minutes_included</th>\n",
       "      <th>usd_monthly_pay</th>\n",
       "      <th>usd_per_gb</th>\n",
       "      <th>usd_per_message</th>\n",
       "      <th>usd_per_minute</th>\n",
       "    </tr>\n",
       "  </thead>\n",
       "  <tbody>\n",
       "    <tr>\n",
       "      <th>count</th>\n",
       "      <td>2.000000</td>\n",
       "      <td>2.000000</td>\n",
       "      <td>2.000000</td>\n",
       "      <td>2.000000</td>\n",
       "      <td>2.00000</td>\n",
       "      <td>2.000000</td>\n",
       "      <td>2.000000</td>\n",
       "    </tr>\n",
       "    <tr>\n",
       "      <th>mean</th>\n",
       "      <td>525.000000</td>\n",
       "      <td>23040.000000</td>\n",
       "      <td>1750.000000</td>\n",
       "      <td>45.000000</td>\n",
       "      <td>8.50000</td>\n",
       "      <td>0.020000</td>\n",
       "      <td>0.020000</td>\n",
       "    </tr>\n",
       "    <tr>\n",
       "      <th>std</th>\n",
       "      <td>671.751442</td>\n",
       "      <td>10861.160159</td>\n",
       "      <td>1767.766953</td>\n",
       "      <td>35.355339</td>\n",
       "      <td>2.12132</td>\n",
       "      <td>0.014142</td>\n",
       "      <td>0.014142</td>\n",
       "    </tr>\n",
       "    <tr>\n",
       "      <th>min</th>\n",
       "      <td>50.000000</td>\n",
       "      <td>15360.000000</td>\n",
       "      <td>500.000000</td>\n",
       "      <td>20.000000</td>\n",
       "      <td>7.00000</td>\n",
       "      <td>0.010000</td>\n",
       "      <td>0.010000</td>\n",
       "    </tr>\n",
       "    <tr>\n",
       "      <th>25%</th>\n",
       "      <td>287.500000</td>\n",
       "      <td>19200.000000</td>\n",
       "      <td>1125.000000</td>\n",
       "      <td>32.500000</td>\n",
       "      <td>7.75000</td>\n",
       "      <td>0.015000</td>\n",
       "      <td>0.015000</td>\n",
       "    </tr>\n",
       "    <tr>\n",
       "      <th>50%</th>\n",
       "      <td>525.000000</td>\n",
       "      <td>23040.000000</td>\n",
       "      <td>1750.000000</td>\n",
       "      <td>45.000000</td>\n",
       "      <td>8.50000</td>\n",
       "      <td>0.020000</td>\n",
       "      <td>0.020000</td>\n",
       "    </tr>\n",
       "    <tr>\n",
       "      <th>75%</th>\n",
       "      <td>762.500000</td>\n",
       "      <td>26880.000000</td>\n",
       "      <td>2375.000000</td>\n",
       "      <td>57.500000</td>\n",
       "      <td>9.25000</td>\n",
       "      <td>0.025000</td>\n",
       "      <td>0.025000</td>\n",
       "    </tr>\n",
       "    <tr>\n",
       "      <th>max</th>\n",
       "      <td>1000.000000</td>\n",
       "      <td>30720.000000</td>\n",
       "      <td>3000.000000</td>\n",
       "      <td>70.000000</td>\n",
       "      <td>10.00000</td>\n",
       "      <td>0.030000</td>\n",
       "      <td>0.030000</td>\n",
       "    </tr>\n",
       "  </tbody>\n",
       "</table>\n",
       "</div>"
      ],
      "text/plain": [
       "       messages_included  mb_per_month_included  minutes_included  \\\n",
       "count           2.000000               2.000000          2.000000   \n",
       "mean          525.000000           23040.000000       1750.000000   \n",
       "std           671.751442           10861.160159       1767.766953   \n",
       "min            50.000000           15360.000000        500.000000   \n",
       "25%           287.500000           19200.000000       1125.000000   \n",
       "50%           525.000000           23040.000000       1750.000000   \n",
       "75%           762.500000           26880.000000       2375.000000   \n",
       "max          1000.000000           30720.000000       3000.000000   \n",
       "\n",
       "       usd_monthly_pay  usd_per_gb  usd_per_message  usd_per_minute  \n",
       "count         2.000000     2.00000         2.000000        2.000000  \n",
       "mean         45.000000     8.50000         0.020000        0.020000  \n",
       "std          35.355339     2.12132         0.014142        0.014142  \n",
       "min          20.000000     7.00000         0.010000        0.010000  \n",
       "25%          32.500000     7.75000         0.015000        0.015000  \n",
       "50%          45.000000     8.50000         0.020000        0.020000  \n",
       "75%          57.500000     9.25000         0.025000        0.025000  \n",
       "max          70.000000    10.00000         0.030000        0.030000  "
      ]
     },
     "execution_count": 5,
     "metadata": {},
     "output_type": "execute_result"
    }
   ],
   "source": [
    "plans.describe()"
   ]
  },
  {
   "cell_type": "markdown",
   "metadata": {
    "id": "LJir7bml0q03"
   },
   "source": [
    "## Enriquecer los datos"
   ]
  },
  {
   "cell_type": "markdown",
   "metadata": {
    "id": "eqADpCfg0q04"
   },
   "source": [
    "[Agrega factores adicionales a los datos si crees que pudieran ser útiles.]\n"
   ]
  },
  {
   "cell_type": "markdown",
   "metadata": {
    "id": "gfcIEuXV0q04"
   },
   "source": [
    "\n",
    "<div class=\"alert alert-block alert-warning\">\n",
    "<b>Comentario Revisor</b> <a class=\"tocSkip\"></a>\n",
    "\n",
    "Muy buen trabajo, solamente te sugiero que en este apartado menciones un poco sobre la transformación que se debe realizar de megabytes a gigabytes. \n",
    "</div>"
   ]
  },
  {
   "cell_type": "markdown",
   "metadata": {},
   "source": [
    "<div class=\"alert alert-block alert-info\">\n",
    "Gracias por el comentario. Me gustaria conservar por el momento los datos en su unidad original que es mb y solo convertirlo a gb cuando sea necesario en su analisis."
   ]
  },
  {
   "cell_type": "markdown",
   "metadata": {},
   "source": [
    "<div class=\"alert alert-block alert-success\">\n",
    "<b>Comentario revisor</b> <a class=\"tocSkip\"></a>\n",
    "\n",
    "Robert, claro solamente era una sugerencia para llevar un control pero es correcto realizar posteriormente"
   ]
  },
  {
   "cell_type": "markdown",
   "metadata": {
    "id": "1n2X6WXf0q04"
   },
   "source": [
    "## Usuarios/as"
   ]
  },
  {
   "cell_type": "code",
   "execution_count": 6,
   "metadata": {
    "id": "2NgjWFqx0q05"
   },
   "outputs": [
    {
     "name": "stdout",
     "output_type": "stream",
     "text": [
      "<class 'pandas.core.frame.DataFrame'>\n",
      "RangeIndex: 500 entries, 0 to 499\n",
      "Data columns (total 8 columns):\n",
      " #   Column      Non-Null Count  Dtype \n",
      "---  ------      --------------  ----- \n",
      " 0   user_id     500 non-null    int64 \n",
      " 1   first_name  500 non-null    object\n",
      " 2   last_name   500 non-null    object\n",
      " 3   age         500 non-null    int64 \n",
      " 4   city        500 non-null    object\n",
      " 5   reg_date    500 non-null    object\n",
      " 6   plan        500 non-null    object\n",
      " 7   churn_date  34 non-null     object\n",
      "dtypes: int64(2), object(6)\n",
      "memory usage: 31.4+ KB\n"
     ]
    }
   ],
   "source": [
    "# Imprime la información general/resumida sobre el DataFrame de usuarios\n",
    "\n",
    "users.info()"
   ]
  },
  {
   "cell_type": "code",
   "execution_count": 7,
   "metadata": {
    "id": "1IN1L9uh0q05"
   },
   "outputs": [
    {
     "data": {
      "text/html": [
       "<div>\n",
       "<style scoped>\n",
       "    .dataframe tbody tr th:only-of-type {\n",
       "        vertical-align: middle;\n",
       "    }\n",
       "\n",
       "    .dataframe tbody tr th {\n",
       "        vertical-align: top;\n",
       "    }\n",
       "\n",
       "    .dataframe thead th {\n",
       "        text-align: right;\n",
       "    }\n",
       "</style>\n",
       "<table border=\"1\" class=\"dataframe\">\n",
       "  <thead>\n",
       "    <tr style=\"text-align: right;\">\n",
       "      <th></th>\n",
       "      <th>user_id</th>\n",
       "      <th>first_name</th>\n",
       "      <th>last_name</th>\n",
       "      <th>age</th>\n",
       "      <th>city</th>\n",
       "      <th>reg_date</th>\n",
       "      <th>plan</th>\n",
       "      <th>churn_date</th>\n",
       "    </tr>\n",
       "  </thead>\n",
       "  <tbody>\n",
       "    <tr>\n",
       "      <th>0</th>\n",
       "      <td>1000</td>\n",
       "      <td>Anamaria</td>\n",
       "      <td>Bauer</td>\n",
       "      <td>45</td>\n",
       "      <td>Atlanta-Sandy Springs-Roswell, GA MSA</td>\n",
       "      <td>2018-12-24</td>\n",
       "      <td>ultimate</td>\n",
       "      <td>NaN</td>\n",
       "    </tr>\n",
       "    <tr>\n",
       "      <th>1</th>\n",
       "      <td>1001</td>\n",
       "      <td>Mickey</td>\n",
       "      <td>Wilkerson</td>\n",
       "      <td>28</td>\n",
       "      <td>Seattle-Tacoma-Bellevue, WA MSA</td>\n",
       "      <td>2018-08-13</td>\n",
       "      <td>surf</td>\n",
       "      <td>NaN</td>\n",
       "    </tr>\n",
       "    <tr>\n",
       "      <th>2</th>\n",
       "      <td>1002</td>\n",
       "      <td>Carlee</td>\n",
       "      <td>Hoffman</td>\n",
       "      <td>36</td>\n",
       "      <td>Las Vegas-Henderson-Paradise, NV MSA</td>\n",
       "      <td>2018-10-21</td>\n",
       "      <td>surf</td>\n",
       "      <td>NaN</td>\n",
       "    </tr>\n",
       "    <tr>\n",
       "      <th>3</th>\n",
       "      <td>1003</td>\n",
       "      <td>Reynaldo</td>\n",
       "      <td>Jenkins</td>\n",
       "      <td>52</td>\n",
       "      <td>Tulsa, OK MSA</td>\n",
       "      <td>2018-01-28</td>\n",
       "      <td>surf</td>\n",
       "      <td>NaN</td>\n",
       "    </tr>\n",
       "    <tr>\n",
       "      <th>4</th>\n",
       "      <td>1004</td>\n",
       "      <td>Leonila</td>\n",
       "      <td>Thompson</td>\n",
       "      <td>40</td>\n",
       "      <td>Seattle-Tacoma-Bellevue, WA MSA</td>\n",
       "      <td>2018-05-23</td>\n",
       "      <td>surf</td>\n",
       "      <td>NaN</td>\n",
       "    </tr>\n",
       "  </tbody>\n",
       "</table>\n",
       "</div>"
      ],
      "text/plain": [
       "   user_id first_name  last_name  age                                   city  \\\n",
       "0     1000   Anamaria      Bauer   45  Atlanta-Sandy Springs-Roswell, GA MSA   \n",
       "1     1001     Mickey  Wilkerson   28        Seattle-Tacoma-Bellevue, WA MSA   \n",
       "2     1002     Carlee    Hoffman   36   Las Vegas-Henderson-Paradise, NV MSA   \n",
       "3     1003   Reynaldo    Jenkins   52                          Tulsa, OK MSA   \n",
       "4     1004    Leonila   Thompson   40        Seattle-Tacoma-Bellevue, WA MSA   \n",
       "\n",
       "     reg_date      plan churn_date  \n",
       "0  2018-12-24  ultimate        NaN  \n",
       "1  2018-08-13      surf        NaN  \n",
       "2  2018-10-21      surf        NaN  \n",
       "3  2018-01-28      surf        NaN  \n",
       "4  2018-05-23      surf        NaN  "
      ]
     },
     "execution_count": 7,
     "metadata": {},
     "output_type": "execute_result"
    }
   ],
   "source": [
    "# Imprime una muestra de datos para usuarios\n",
    "\n",
    "users.head()"
   ]
  },
  {
   "cell_type": "markdown",
   "metadata": {
    "id": "dCZoUq4f0q06"
   },
   "source": [
    "[Describe lo que ves y observas en la información general y en la muestra de datos impresa para el precio de datos anterior. ¿Hay algún problema (tipos de datos no adecuados, datos ausentes, etc.) que pudieran necesitar investigación y cambios adicionales? ¿Cómo se puede arreglar?]\n",
    "\n",
    "Existen datos 466 datos ausentes en la columna \"churn_date\". Esto hace sentido, pues muchos de los usuarios no han abandonado sus planes y por eso no hay fecha de cancelación de sus servicios hasta el momento.\n",
    "Los datos de las columnas \"reg_date\" y \"churn_date\" son de tipo object cuando deberían de ser Data Time. En el siguiente código haré la corrección de los mismos.\n"
   ]
  },
  {
   "cell_type": "markdown",
   "metadata": {
    "id": "BX5FQh_I0q06"
   },
   "source": [
    "### Corregir los datos"
   ]
  },
  {
   "cell_type": "markdown",
   "metadata": {
    "id": "8OdKMwJv0q06"
   },
   "source": [
    "[Corrige los problemas obvios con los datos basándote en las observaciones iniciales.]"
   ]
  },
  {
   "cell_type": "code",
   "execution_count": 8,
   "metadata": {
    "id": "yUqX-K0C0q07"
   },
   "outputs": [
    {
     "name": "stdout",
     "output_type": "stream",
     "text": [
      "6     2018-12-18\n",
      "12    2018-11-16\n",
      "22    2018-09-07\n",
      "40    2018-12-30\n",
      "50    2018-10-07\n",
      "Name: churn_date, dtype: object\n",
      "\n",
      "<class 'pandas.core.frame.DataFrame'>\n",
      "RangeIndex: 500 entries, 0 to 499\n",
      "Data columns (total 8 columns):\n",
      " #   Column      Non-Null Count  Dtype         \n",
      "---  ------      --------------  -----         \n",
      " 0   user_id     500 non-null    int64         \n",
      " 1   first_name  500 non-null    object        \n",
      " 2   last_name   500 non-null    object        \n",
      " 3   age         500 non-null    int64         \n",
      " 4   city        500 non-null    object        \n",
      " 5   reg_date    500 non-null    datetime64[ns]\n",
      " 6   plan        500 non-null    object        \n",
      " 7   churn_date  34 non-null     datetime64[ns]\n",
      "dtypes: datetime64[ns](2), int64(2), object(4)\n",
      "memory usage: 31.4+ KB\n"
     ]
    }
   ],
   "source": [
    "users[\"reg_date\"] = pd.to_datetime(users[\"reg_date\"], format='%Y-%m-%d')\n",
    "print(users[\"churn_date\"][users[\"churn_date\"].notna()].head()) #este codigo es para verificar el formato de la columna\n",
    "users[\"churn_date\"] = pd.to_datetime(users[\"churn_date\"], format='%Y-%m-%d')\n",
    "print()\n",
    "users.info()"
   ]
  },
  {
   "cell_type": "markdown",
   "metadata": {
    "id": "ycwuARJp0q07"
   },
   "source": [
    "### Enriquecer los datos"
   ]
  },
  {
   "cell_type": "markdown",
   "metadata": {
    "id": "96NIh4CJ0q08"
   },
   "source": [
    "[Agrega factores adicionales a los datos si crees que pudieran ser útiles.]"
   ]
  },
  {
   "cell_type": "code",
   "execution_count": null,
   "metadata": {
    "id": "iq0AaBS90q08"
   },
   "outputs": [],
   "source": []
  },
  {
   "cell_type": "markdown",
   "metadata": {
    "id": "o7MeKCid0q08"
   },
   "source": [
    "## Llamadas"
   ]
  },
  {
   "cell_type": "code",
   "execution_count": 9,
   "metadata": {
    "id": "6dDlnoDm0q08"
   },
   "outputs": [
    {
     "name": "stdout",
     "output_type": "stream",
     "text": [
      "<class 'pandas.core.frame.DataFrame'>\n",
      "RangeIndex: 137735 entries, 0 to 137734\n",
      "Data columns (total 4 columns):\n",
      " #   Column     Non-Null Count   Dtype  \n",
      "---  ------     --------------   -----  \n",
      " 0   id         137735 non-null  object \n",
      " 1   user_id    137735 non-null  int64  \n",
      " 2   call_date  137735 non-null  object \n",
      " 3   duration   137735 non-null  float64\n",
      "dtypes: float64(1), int64(1), object(2)\n",
      "memory usage: 4.2+ MB\n"
     ]
    }
   ],
   "source": [
    "# Imprime la información general/resumida sobre el DataFrame de las llamadas\n",
    "\n",
    "calls.info()"
   ]
  },
  {
   "cell_type": "code",
   "execution_count": 36,
   "metadata": {
    "id": "kuh1vlNB0q09"
   },
   "outputs": [
    {
     "data": {
      "text/html": [
       "<div>\n",
       "<style scoped>\n",
       "    .dataframe tbody tr th:only-of-type {\n",
       "        vertical-align: middle;\n",
       "    }\n",
       "\n",
       "    .dataframe tbody tr th {\n",
       "        vertical-align: top;\n",
       "    }\n",
       "\n",
       "    .dataframe thead th {\n",
       "        text-align: right;\n",
       "    }\n",
       "</style>\n",
       "<table border=\"1\" class=\"dataframe\">\n",
       "  <thead>\n",
       "    <tr style=\"text-align: right;\">\n",
       "      <th></th>\n",
       "      <th>id</th>\n",
       "      <th>user_id</th>\n",
       "      <th>call_date</th>\n",
       "      <th>duration</th>\n",
       "    </tr>\n",
       "  </thead>\n",
       "  <tbody>\n",
       "    <tr>\n",
       "      <th>19</th>\n",
       "      <td>1001_4</td>\n",
       "      <td>1001</td>\n",
       "      <td>2018-12-05</td>\n",
       "      <td>0.00</td>\n",
       "    </tr>\n",
       "    <tr>\n",
       "      <th>25</th>\n",
       "      <td>1001_13</td>\n",
       "      <td>1001</td>\n",
       "      <td>2018-12-24</td>\n",
       "      <td>0.00</td>\n",
       "    </tr>\n",
       "    <tr>\n",
       "      <th>28</th>\n",
       "      <td>1001_23</td>\n",
       "      <td>1001</td>\n",
       "      <td>2018-10-27</td>\n",
       "      <td>0.98</td>\n",
       "    </tr>\n",
       "    <tr>\n",
       "      <th>31</th>\n",
       "      <td>1001_30</td>\n",
       "      <td>1001</td>\n",
       "      <td>2018-10-17</td>\n",
       "      <td>0.00</td>\n",
       "    </tr>\n",
       "    <tr>\n",
       "      <th>32</th>\n",
       "      <td>1001_31</td>\n",
       "      <td>1001</td>\n",
       "      <td>2018-11-03</td>\n",
       "      <td>0.00</td>\n",
       "    </tr>\n",
       "    <tr>\n",
       "      <th>...</th>\n",
       "      <td>...</td>\n",
       "      <td>...</td>\n",
       "      <td>...</td>\n",
       "      <td>...</td>\n",
       "    </tr>\n",
       "    <tr>\n",
       "      <th>137720</th>\n",
       "      <td>1499_189</td>\n",
       "      <td>1499</td>\n",
       "      <td>2018-12-27</td>\n",
       "      <td>0.00</td>\n",
       "    </tr>\n",
       "    <tr>\n",
       "      <th>137722</th>\n",
       "      <td>1499_191</td>\n",
       "      <td>1499</td>\n",
       "      <td>2018-12-24</td>\n",
       "      <td>0.00</td>\n",
       "    </tr>\n",
       "    <tr>\n",
       "      <th>137725</th>\n",
       "      <td>1499_194</td>\n",
       "      <td>1499</td>\n",
       "      <td>2018-10-31</td>\n",
       "      <td>0.00</td>\n",
       "    </tr>\n",
       "    <tr>\n",
       "      <th>137727</th>\n",
       "      <td>1499_196</td>\n",
       "      <td>1499</td>\n",
       "      <td>2018-11-22</td>\n",
       "      <td>0.27</td>\n",
       "    </tr>\n",
       "    <tr>\n",
       "      <th>137733</th>\n",
       "      <td>1499_202</td>\n",
       "      <td>1499</td>\n",
       "      <td>2018-10-10</td>\n",
       "      <td>0.37</td>\n",
       "    </tr>\n",
       "  </tbody>\n",
       "</table>\n",
       "<p>32559 rows × 4 columns</p>\n",
       "</div>"
      ],
      "text/plain": [
       "              id  user_id  call_date  duration\n",
       "19        1001_4     1001 2018-12-05      0.00\n",
       "25       1001_13     1001 2018-12-24      0.00\n",
       "28       1001_23     1001 2018-10-27      0.98\n",
       "31       1001_30     1001 2018-10-17      0.00\n",
       "32       1001_31     1001 2018-11-03      0.00\n",
       "...          ...      ...        ...       ...\n",
       "137720  1499_189     1499 2018-12-27      0.00\n",
       "137722  1499_191     1499 2018-12-24      0.00\n",
       "137725  1499_194     1499 2018-10-31      0.00\n",
       "137727  1499_196     1499 2018-11-22      0.27\n",
       "137733  1499_202     1499 2018-10-10      0.37\n",
       "\n",
       "[32559 rows x 4 columns]"
      ]
     },
     "execution_count": 36,
     "metadata": {},
     "output_type": "execute_result"
    }
   ],
   "source": [
    "# Imprime una muestra de datos para las llamadas\n",
    "\n",
    "calls.head()\n",
    "calls[calls['duration']<1]"
   ]
  },
  {
   "cell_type": "markdown",
   "metadata": {
    "id": "DOAxYJSx0q09"
   },
   "source": [
    "[Describe lo que ves y observas en la información general y en la muestra de datos impresa para el precio de datos anterior. ¿Hay algún problema (tipos de datos no adecuados, datos ausentes, etc.) que pudieran necesitar investigación y cambios adicionales? ¿Cómo se puede arreglar?]\n",
    "\n",
    "Casi todos los todos parecen estar en órden a excepción de la columna \"call_date\", la cual debería ser convertida al tipo DateTime."
   ]
  },
  {
   "cell_type": "markdown",
   "metadata": {
    "id": "S7hzxmbX0q0-"
   },
   "source": [
    "### Corregir los datos"
   ]
  },
  {
   "cell_type": "markdown",
   "metadata": {
    "id": "YxWyAjD20q0-"
   },
   "source": [
    "[Corrige los problemas obvios con los datos basándote en las observaciones iniciales.]"
   ]
  },
  {
   "cell_type": "code",
   "execution_count": 11,
   "metadata": {
    "id": "S2r8xA4f0q0-"
   },
   "outputs": [
    {
     "name": "stdout",
     "output_type": "stream",
     "text": [
      "<class 'pandas.core.frame.DataFrame'>\n",
      "RangeIndex: 137735 entries, 0 to 137734\n",
      "Data columns (total 4 columns):\n",
      " #   Column     Non-Null Count   Dtype         \n",
      "---  ------     --------------   -----         \n",
      " 0   id         137735 non-null  object        \n",
      " 1   user_id    137735 non-null  int64         \n",
      " 2   call_date  137735 non-null  datetime64[ns]\n",
      " 3   duration   137735 non-null  float64       \n",
      "dtypes: datetime64[ns](1), float64(1), int64(1), object(1)\n",
      "memory usage: 4.2+ MB\n"
     ]
    }
   ],
   "source": [
    "calls[\"call_date\"] = pd.to_datetime(calls[\"call_date\"], format='%Y-%m-%d')\n",
    "calls.info()"
   ]
  },
  {
   "cell_type": "markdown",
   "metadata": {
    "id": "KrMgTrlG0q0_"
   },
   "source": [
    "### Enriquecer los datos"
   ]
  },
  {
   "cell_type": "markdown",
   "metadata": {
    "id": "a9MbmEvE0q0_"
   },
   "source": [
    "[Agrega factores adicionales a los datos si crees que pudieran ser útiles.]"
   ]
  },
  {
   "cell_type": "markdown",
   "metadata": {
    "id": "iZ1avpA_0q0_"
   },
   "source": [
    "<div class=\"alert alert-block alert-warning\">\n",
    "<b>Comentario Revisor</b> <a class=\"tocSkip\"></a>\n",
    "\n",
    "Qué podríamos decir hasta el momento de las llamadas que tienen una duración de 0?\n",
    "</div>"
   ]
  },
  {
   "cell_type": "markdown",
   "metadata": {},
   "source": [
    "<div class=\"alert alert-block alert-info\">\n",
    "    Es un punto interesante que no había considerado. Gracias por señalarlo.\n",
    "    Debido a que se tienen registros de llamadas menores a 1 minuto es razonable pensar que sí se registran correctamente las llamadas que solo duran algunos segundos. Por lo tanto las llamadas que tienen 0 absoluto como duración entiendo que fueron intentos de llamada pero el receptor no logró contestar el teléfono. Según la descripción de los planes tarifarios, estos intentos de llamada no se cobran, o al menos no se menciona que se deban cobrar en ningún momento."
   ]
  },
  {
   "cell_type": "markdown",
   "metadata": {},
   "source": [
    "<div class=\"alert alert-block alert-success\">\n",
    "<b>Comentario revisor</b> <a class=\"tocSkip\"></a>\n",
    "\n",
    "Gran trabajo con la interpretación"
   ]
  },
  {
   "cell_type": "markdown",
   "metadata": {
    "id": "mOUZSi180q0_"
   },
   "source": [
    "## Mensajes"
   ]
  },
  {
   "cell_type": "code",
   "execution_count": 12,
   "metadata": {
    "id": "R-bYJpdV0q1A"
   },
   "outputs": [
    {
     "name": "stdout",
     "output_type": "stream",
     "text": [
      "<class 'pandas.core.frame.DataFrame'>\n",
      "RangeIndex: 76051 entries, 0 to 76050\n",
      "Data columns (total 3 columns):\n",
      " #   Column        Non-Null Count  Dtype \n",
      "---  ------        --------------  ----- \n",
      " 0   id            76051 non-null  object\n",
      " 1   user_id       76051 non-null  int64 \n",
      " 2   message_date  76051 non-null  object\n",
      "dtypes: int64(1), object(2)\n",
      "memory usage: 1.7+ MB\n"
     ]
    }
   ],
   "source": [
    "# Imprime la información general/resumida sobre el DataFrame de los mensajes\n",
    "\n",
    "messages.info()"
   ]
  },
  {
   "cell_type": "code",
   "execution_count": 13,
   "metadata": {
    "id": "mCEl2iGE0q1A"
   },
   "outputs": [
    {
     "data": {
      "text/html": [
       "<div>\n",
       "<style scoped>\n",
       "    .dataframe tbody tr th:only-of-type {\n",
       "        vertical-align: middle;\n",
       "    }\n",
       "\n",
       "    .dataframe tbody tr th {\n",
       "        vertical-align: top;\n",
       "    }\n",
       "\n",
       "    .dataframe thead th {\n",
       "        text-align: right;\n",
       "    }\n",
       "</style>\n",
       "<table border=\"1\" class=\"dataframe\">\n",
       "  <thead>\n",
       "    <tr style=\"text-align: right;\">\n",
       "      <th></th>\n",
       "      <th>id</th>\n",
       "      <th>user_id</th>\n",
       "      <th>message_date</th>\n",
       "    </tr>\n",
       "  </thead>\n",
       "  <tbody>\n",
       "    <tr>\n",
       "      <th>18392</th>\n",
       "      <td>1120_188</td>\n",
       "      <td>1120</td>\n",
       "      <td>2018-04-24</td>\n",
       "    </tr>\n",
       "    <tr>\n",
       "      <th>2144</th>\n",
       "      <td>1028_49</td>\n",
       "      <td>1028</td>\n",
       "      <td>2018-08-23</td>\n",
       "    </tr>\n",
       "    <tr>\n",
       "      <th>8452</th>\n",
       "      <td>1061_458</td>\n",
       "      <td>1061</td>\n",
       "      <td>2018-06-10</td>\n",
       "    </tr>\n",
       "    <tr>\n",
       "      <th>36859</th>\n",
       "      <td>1247_23</td>\n",
       "      <td>1247</td>\n",
       "      <td>2018-08-27</td>\n",
       "    </tr>\n",
       "    <tr>\n",
       "      <th>56952</th>\n",
       "      <td>1362_17</td>\n",
       "      <td>1362</td>\n",
       "      <td>2018-05-02</td>\n",
       "    </tr>\n",
       "  </tbody>\n",
       "</table>\n",
       "</div>"
      ],
      "text/plain": [
       "             id  user_id message_date\n",
       "18392  1120_188     1120   2018-04-24\n",
       "2144    1028_49     1028   2018-08-23\n",
       "8452   1061_458     1061   2018-06-10\n",
       "36859   1247_23     1247   2018-08-27\n",
       "56952   1362_17     1362   2018-05-02"
      ]
     },
     "execution_count": 13,
     "metadata": {},
     "output_type": "execute_result"
    }
   ],
   "source": [
    "# Imprime una muestra de datos para los mensajes\n",
    "\n",
    "messages.sample(5)"
   ]
  },
  {
   "cell_type": "markdown",
   "metadata": {
    "id": "04xDj7KH0q1A"
   },
   "source": [
    "[Describe lo que ves y observas en la información general y en la muestra de datos impresa para el precio de datos anterior. ¿Hay algún problema (tipos de datos no adecuados, datos ausentes, etc.) que pudieran necesitar investigación y cambios adicionales? ¿Cómo se puede arreglar?]\n",
    "\n",
    "Casi todos los todos parecen estar en órden a excepción de la columna \"message_date\", la cual debería ser convertida al tipo DateTime."
   ]
  },
  {
   "cell_type": "markdown",
   "metadata": {
    "id": "Sprfak900q1B"
   },
   "source": [
    "### Corregir los datos"
   ]
  },
  {
   "cell_type": "markdown",
   "metadata": {
    "id": "eGw7d9j10q1B"
   },
   "source": [
    "[Corrige los problemas obvios con los datos basándote en las observaciones iniciales.]"
   ]
  },
  {
   "cell_type": "code",
   "execution_count": 14,
   "metadata": {
    "id": "vsllvkoa0q1B"
   },
   "outputs": [
    {
     "name": "stdout",
     "output_type": "stream",
     "text": [
      "<class 'pandas.core.frame.DataFrame'>\n",
      "RangeIndex: 76051 entries, 0 to 76050\n",
      "Data columns (total 3 columns):\n",
      " #   Column        Non-Null Count  Dtype         \n",
      "---  ------        --------------  -----         \n",
      " 0   id            76051 non-null  object        \n",
      " 1   user_id       76051 non-null  int64         \n",
      " 2   message_date  76051 non-null  datetime64[ns]\n",
      "dtypes: datetime64[ns](1), int64(1), object(1)\n",
      "memory usage: 1.7+ MB\n"
     ]
    }
   ],
   "source": [
    "messages[\"message_date\"] = pd.to_datetime(messages[\"message_date\"], format='%Y-%m-%d')\n",
    "messages.info()"
   ]
  },
  {
   "cell_type": "markdown",
   "metadata": {
    "id": "HvLid7iD0q1B"
   },
   "source": [
    "### Enriquecer los datos"
   ]
  },
  {
   "cell_type": "markdown",
   "metadata": {
    "id": "8nhPFKIe0q1C"
   },
   "source": [
    "[Agrega factores adicionales a los datos si crees que pudieran ser útiles.]"
   ]
  },
  {
   "cell_type": "code",
   "execution_count": null,
   "metadata": {
    "id": "zYEXZac10q1C"
   },
   "outputs": [],
   "source": []
  },
  {
   "cell_type": "markdown",
   "metadata": {
    "id": "bStkaxn40q1C"
   },
   "source": [
    "## Internet"
   ]
  },
  {
   "cell_type": "code",
   "execution_count": 15,
   "metadata": {
    "id": "e-Uz5qyn0q1C"
   },
   "outputs": [
    {
     "name": "stdout",
     "output_type": "stream",
     "text": [
      "<class 'pandas.core.frame.DataFrame'>\n",
      "RangeIndex: 104825 entries, 0 to 104824\n",
      "Data columns (total 4 columns):\n",
      " #   Column        Non-Null Count   Dtype  \n",
      "---  ------        --------------   -----  \n",
      " 0   id            104825 non-null  object \n",
      " 1   user_id       104825 non-null  int64  \n",
      " 2   session_date  104825 non-null  object \n",
      " 3   mb_used       104825 non-null  float64\n",
      "dtypes: float64(1), int64(1), object(2)\n",
      "memory usage: 3.2+ MB\n"
     ]
    }
   ],
   "source": [
    "# Imprime la información general/resumida sobre el DataFrame de internet\n",
    "internet.info()\n"
   ]
  },
  {
   "cell_type": "code",
   "execution_count": 16,
   "metadata": {
    "id": "9r3x_XLw0q1C"
   },
   "outputs": [
    {
     "data": {
      "text/html": [
       "<div>\n",
       "<style scoped>\n",
       "    .dataframe tbody tr th:only-of-type {\n",
       "        vertical-align: middle;\n",
       "    }\n",
       "\n",
       "    .dataframe tbody tr th {\n",
       "        vertical-align: top;\n",
       "    }\n",
       "\n",
       "    .dataframe thead th {\n",
       "        text-align: right;\n",
       "    }\n",
       "</style>\n",
       "<table border=\"1\" class=\"dataframe\">\n",
       "  <thead>\n",
       "    <tr style=\"text-align: right;\">\n",
       "      <th></th>\n",
       "      <th>id</th>\n",
       "      <th>user_id</th>\n",
       "      <th>session_date</th>\n",
       "      <th>mb_used</th>\n",
       "    </tr>\n",
       "  </thead>\n",
       "  <tbody>\n",
       "    <tr>\n",
       "      <th>87351</th>\n",
       "      <td>1405_55</td>\n",
       "      <td>1405</td>\n",
       "      <td>2018-06-23</td>\n",
       "      <td>421.04</td>\n",
       "    </tr>\n",
       "    <tr>\n",
       "      <th>80273</th>\n",
       "      <td>1374_349</td>\n",
       "      <td>1374</td>\n",
       "      <td>2018-05-16</td>\n",
       "      <td>823.26</td>\n",
       "    </tr>\n",
       "    <tr>\n",
       "      <th>2320</th>\n",
       "      <td>1011_60</td>\n",
       "      <td>1011</td>\n",
       "      <td>2018-07-17</td>\n",
       "      <td>114.31</td>\n",
       "    </tr>\n",
       "    <tr>\n",
       "      <th>28083</th>\n",
       "      <td>1128_237</td>\n",
       "      <td>1128</td>\n",
       "      <td>2018-10-11</td>\n",
       "      <td>36.04</td>\n",
       "    </tr>\n",
       "    <tr>\n",
       "      <th>58228</th>\n",
       "      <td>1263_32</td>\n",
       "      <td>1263</td>\n",
       "      <td>2018-11-15</td>\n",
       "      <td>886.27</td>\n",
       "    </tr>\n",
       "  </tbody>\n",
       "</table>\n",
       "</div>"
      ],
      "text/plain": [
       "             id  user_id session_date  mb_used\n",
       "87351   1405_55     1405   2018-06-23   421.04\n",
       "80273  1374_349     1374   2018-05-16   823.26\n",
       "2320    1011_60     1011   2018-07-17   114.31\n",
       "28083  1128_237     1128   2018-10-11    36.04\n",
       "58228   1263_32     1263   2018-11-15   886.27"
      ]
     },
     "execution_count": 16,
     "metadata": {},
     "output_type": "execute_result"
    }
   ],
   "source": [
    "# Imprime una muestra de datos para el tráfico de internet\n",
    "\n",
    "internet.sample(5)"
   ]
  },
  {
   "cell_type": "markdown",
   "metadata": {
    "id": "EzOG5ik30q1D"
   },
   "source": [
    "[Describe lo que ves y observas en la información general y en la muestra de datos impresa para el precio de datos anterior. ¿Hay algún problema (tipos de datos no adecuados, datos ausentes, etc.) que pudieran necesitar investigación y cambios adicionales? ¿Cómo se puede arreglar?]\n",
    "\n",
    "Casi todos los todos parecen estar en órden a excepción de la columna \"session_date\", la cual debería ser convertida al tipo DateTime."
   ]
  },
  {
   "cell_type": "markdown",
   "metadata": {
    "id": "yA0tkPFg0q1D"
   },
   "source": [
    "### Corregir los datos"
   ]
  },
  {
   "cell_type": "markdown",
   "metadata": {
    "id": "zlZMuIEK0q1D"
   },
   "source": [
    "[Corrige los problemas obvios con los datos basándote en las observaciones iniciales.]"
   ]
  },
  {
   "cell_type": "code",
   "execution_count": 17,
   "metadata": {
    "id": "zVeanzdd0q1E"
   },
   "outputs": [
    {
     "name": "stdout",
     "output_type": "stream",
     "text": [
      "<class 'pandas.core.frame.DataFrame'>\n",
      "RangeIndex: 104825 entries, 0 to 104824\n",
      "Data columns (total 4 columns):\n",
      " #   Column        Non-Null Count   Dtype         \n",
      "---  ------        --------------   -----         \n",
      " 0   id            104825 non-null  object        \n",
      " 1   user_id       104825 non-null  int64         \n",
      " 2   session_date  104825 non-null  datetime64[ns]\n",
      " 3   mb_used       104825 non-null  float64       \n",
      "dtypes: datetime64[ns](1), float64(1), int64(1), object(1)\n",
      "memory usage: 3.2+ MB\n"
     ]
    }
   ],
   "source": [
    "internet['session_date'] = pd.to_datetime(internet['session_date'], format='%Y-%m-%d')\n",
    "internet.info()"
   ]
  },
  {
   "cell_type": "markdown",
   "metadata": {
    "id": "e8_mLF4a0q1E"
   },
   "source": [
    "### Enriquecer los datos"
   ]
  },
  {
   "cell_type": "markdown",
   "metadata": {
    "id": "xhNdn2tE0q1E"
   },
   "source": [
    "[Agrega factores adicionales a los datos si crees que pudieran ser útiles.]"
   ]
  },
  {
   "cell_type": "markdown",
   "metadata": {
    "id": "ESiYPIEK0q1E"
   },
   "source": [
    "<div class=\"alert alert-block alert-warning\">\n",
    "<b>Comentario revisor</b> <a class=\"tocSkip\"></a>\n",
    "\n",
    "\n",
    "Te recomiendo solamente comentar que cuando agrupemos los datos vamos a tener que redondear hacia arriba lo valores de la transformación de mbegabyter a gigabyte, para este ejercicio debemos hacer el redondeo superior dado que se cobra el costo extra en cuanto se pasa de los límites.Por lo que es necesario hacer la transformación de mb a gb y después hacer el redondeo.  \n",
    "</div>"
   ]
  },
  {
   "cell_type": "markdown",
   "metadata": {},
   "source": [
    "<div class=\"alert alert-block alert-info\">\n",
    "Sí lo tengo contemplado. Más adelante tengo la conversión."
   ]
  },
  {
   "cell_type": "markdown",
   "metadata": {
    "id": "3UA2cqIW0q1E"
   },
   "source": [
    "## Estudiar las condiciones de las tarifas"
   ]
  },
  {
   "cell_type": "markdown",
   "metadata": {
    "id": "T86Sqltq0q1F"
   },
   "source": [
    "[Es sumamente importante entender cómo funcionan las tarifas, cómo se les cobra a los usuarios en función de su plan de suscripción. Así que te sugerimos imprimir la información de la tarifa para ver una vez más sus condiciones.]"
   ]
  },
  {
   "cell_type": "code",
   "execution_count": 18,
   "metadata": {
    "id": "i409op8p0q1F"
   },
   "outputs": [
    {
     "name": "stdout",
     "output_type": "stream",
     "text": [
      "Surf\n",
      "\n",
      "Pago mensual: $20.\n",
      "500 minutos al mes, 50 SMS y 15 GB de datos.\n",
      "Si se exceden los límites del paquete:\n",
      "1 minuto: 3 centavos.\n",
      "1 SMS: 3 centavos.\n",
      "1 GB de datos: $10.\n",
      "     \n",
      "\n",
      "Ultimate\n",
      "\n",
      "Pago mensual: $70.\n",
      "3000 minutos al mes, 1000 SMS y 30 GB de datos.\n",
      "Si se exceden los límites del paquete:\n",
      "1 minuto: 1 centavo.\n",
      "1 SMS: 1 centavo.\n",
      "1 GB de datos: $7.\n"
     ]
    }
   ],
   "source": [
    "# Imprime las condiciones de la tarifa y asegúrate de que te quedan claras\n",
    "print('''Surf\n",
    "\n",
    "Pago mensual: $20.\n",
    "500 minutos al mes, 50 SMS y 15 GB de datos.\n",
    "Si se exceden los límites del paquete:\n",
    "1 minuto: 3 centavos.\n",
    "1 SMS: 3 centavos.\n",
    "1 GB de datos: $10.\n",
    "     ''')\n",
    "print()\n",
    "print('''Ultimate\n",
    "\n",
    "Pago mensual: $70.\n",
    "3000 minutos al mes, 1000 SMS y 30 GB de datos.\n",
    "Si se exceden los límites del paquete:\n",
    "1 minuto: 1 centavo.\n",
    "1 SMS: 1 centavo.\n",
    "1 GB de datos: $7.''')"
   ]
  },
  {
   "cell_type": "markdown",
   "metadata": {
    "id": "hMR1tP5d0q1F"
   },
   "source": [
    "## Agregar datos por usuario\n",
    "\n",
    "[Ahora que los datos están limpios, agrega los datos por usuario y por periodo para que solo haya un registro por usuario y por periodo. Esto facilitará mucho el análisis posterior.]"
   ]
  },
  {
   "cell_type": "code",
   "execution_count": 19,
   "metadata": {
    "id": "A332cedB0q1G"
   },
   "outputs": [
    {
     "name": "stdout",
     "output_type": "stream",
     "text": [
      "<class 'pandas.core.frame.DataFrame'>\n",
      "RangeIndex: 137735 entries, 0 to 137734\n",
      "Data columns (total 4 columns):\n",
      " #   Column     Non-Null Count   Dtype         \n",
      "---  ------     --------------   -----         \n",
      " 0   id         137735 non-null  object        \n",
      " 1   user_id    137735 non-null  int64         \n",
      " 2   call_date  137735 non-null  datetime64[ns]\n",
      " 3   duration   137735 non-null  float64       \n",
      "dtypes: datetime64[ns](1), float64(1), int64(1), object(1)\n",
      "memory usage: 4.2+ MB\n"
     ]
    },
    {
     "data": {
      "text/plain": [
       "user_id  call_date\n",
       "1000     12            16\n",
       "1001     8             27\n",
       "         9             49\n",
       "         10            65\n",
       "         11            64\n",
       "         12            56\n",
       "1002     10            11\n",
       "         11            55\n",
       "         12            47\n",
       "1003     12           149\n",
       "Name: id, dtype: int64"
      ]
     },
     "execution_count": 19,
     "metadata": {},
     "output_type": "execute_result"
    }
   ],
   "source": [
    "# Calcula el número de llamadas hechas por cada usuario al mes. Guarda el resultado.\n",
    "calls.info()\n",
    "user_calls_num = calls.groupby(['user_id', calls['call_date'].dt.month])['id'].count()\n",
    "user_calls_num.head(10)"
   ]
  },
  {
   "cell_type": "markdown",
   "metadata": {},
   "source": [
    "\n",
    "<div class=\"alert alert-block alert-warning\">\n",
    "\n",
    "<b>Comentario revisor</b> <a class=\"tocSkip\"></a>\n",
    "\n",
    "Si bien es correcta la forma de agrupar para sacar la duración de las llamadas por cada ususario, para proximas ocasiones puedes hacer uso de la siguiente forma:\n",
    "    \n",
    "    pivot_calls = calls.pivot_table(index=['user_id', 'month'],\n",
    "                                values=['duration'],\n",
    "                                aggfunc=['sum','count']).reset_index()\n",
    "\n",
    "</div>"
   ]
  },
  {
   "cell_type": "markdown",
   "metadata": {},
   "source": [
    "<div class=\"alert alert-block alert-info\">\n",
    "Es verdad, se pueden hacer representaciones interesantes con el método pivot_table. Gracias por resaltarlo. Lo tendré en cuenta para futuras operaciones ya que si lo utilizo ahora me cambiaria todo el ordenamiento de los datos y tendria que volver a hacer todo el analisis con este nuevo orden."
   ]
  },
  {
   "cell_type": "markdown",
   "metadata": {},
   "source": [
    "<div class=\"alert alert-block alert-success\">\n",
    "<b>Comentario revisor</b> <a class=\"tocSkip\"></a>\n",
    "\n",
    "Claro, en futuras ocasiones puedes explorar esta herramienta"
   ]
  },
  {
   "cell_type": "code",
   "execution_count": 47,
   "metadata": {
    "id": "aw2cmuql0q1G"
   },
   "outputs": [
    {
     "data": {
      "text/html": [
       "<div>\n",
       "<style scoped>\n",
       "    .dataframe tbody tr th:only-of-type {\n",
       "        vertical-align: middle;\n",
       "    }\n",
       "\n",
       "    .dataframe tbody tr th {\n",
       "        vertical-align: top;\n",
       "    }\n",
       "\n",
       "    .dataframe thead tr th {\n",
       "        text-align: left;\n",
       "    }\n",
       "\n",
       "    .dataframe thead tr:last-of-type th {\n",
       "        text-align: right;\n",
       "    }\n",
       "</style>\n",
       "<table border=\"1\" class=\"dataframe\">\n",
       "  <thead>\n",
       "    <tr>\n",
       "      <th></th>\n",
       "      <th colspan=\"10\" halign=\"left\">sum</th>\n",
       "      <th>...</th>\n",
       "      <th colspan=\"10\" halign=\"left\">count</th>\n",
       "    </tr>\n",
       "    <tr>\n",
       "      <th></th>\n",
       "      <th colspan=\"10\" halign=\"left\">duration</th>\n",
       "      <th>...</th>\n",
       "      <th colspan=\"10\" halign=\"left\">duration</th>\n",
       "    </tr>\n",
       "    <tr>\n",
       "      <th>call_date</th>\n",
       "      <th>1</th>\n",
       "      <th>2</th>\n",
       "      <th>3</th>\n",
       "      <th>4</th>\n",
       "      <th>5</th>\n",
       "      <th>6</th>\n",
       "      <th>7</th>\n",
       "      <th>8</th>\n",
       "      <th>9</th>\n",
       "      <th>10</th>\n",
       "      <th>...</th>\n",
       "      <th>3</th>\n",
       "      <th>4</th>\n",
       "      <th>5</th>\n",
       "      <th>6</th>\n",
       "      <th>7</th>\n",
       "      <th>8</th>\n",
       "      <th>9</th>\n",
       "      <th>10</th>\n",
       "      <th>11</th>\n",
       "      <th>12</th>\n",
       "    </tr>\n",
       "    <tr>\n",
       "      <th>user_id</th>\n",
       "      <th></th>\n",
       "      <th></th>\n",
       "      <th></th>\n",
       "      <th></th>\n",
       "      <th></th>\n",
       "      <th></th>\n",
       "      <th></th>\n",
       "      <th></th>\n",
       "      <th></th>\n",
       "      <th></th>\n",
       "      <th></th>\n",
       "      <th></th>\n",
       "      <th></th>\n",
       "      <th></th>\n",
       "      <th></th>\n",
       "      <th></th>\n",
       "      <th></th>\n",
       "      <th></th>\n",
       "      <th></th>\n",
       "      <th></th>\n",
       "      <th></th>\n",
       "    </tr>\n",
       "  </thead>\n",
       "  <tbody>\n",
       "    <tr>\n",
       "      <th>1000</th>\n",
       "      <td>NaN</td>\n",
       "      <td>NaN</td>\n",
       "      <td>NaN</td>\n",
       "      <td>NaN</td>\n",
       "      <td>NaN</td>\n",
       "      <td>NaN</td>\n",
       "      <td>NaN</td>\n",
       "      <td>NaN</td>\n",
       "      <td>NaN</td>\n",
       "      <td>NaN</td>\n",
       "      <td>...</td>\n",
       "      <td>NaN</td>\n",
       "      <td>NaN</td>\n",
       "      <td>NaN</td>\n",
       "      <td>NaN</td>\n",
       "      <td>NaN</td>\n",
       "      <td>NaN</td>\n",
       "      <td>NaN</td>\n",
       "      <td>NaN</td>\n",
       "      <td>NaN</td>\n",
       "      <td>16.0</td>\n",
       "    </tr>\n",
       "    <tr>\n",
       "      <th>1001</th>\n",
       "      <td>NaN</td>\n",
       "      <td>NaN</td>\n",
       "      <td>NaN</td>\n",
       "      <td>NaN</td>\n",
       "      <td>NaN</td>\n",
       "      <td>NaN</td>\n",
       "      <td>NaN</td>\n",
       "      <td>171.14</td>\n",
       "      <td>297.69</td>\n",
       "      <td>374.11</td>\n",
       "      <td>...</td>\n",
       "      <td>NaN</td>\n",
       "      <td>NaN</td>\n",
       "      <td>NaN</td>\n",
       "      <td>NaN</td>\n",
       "      <td>NaN</td>\n",
       "      <td>27.0</td>\n",
       "      <td>49.0</td>\n",
       "      <td>65.0</td>\n",
       "      <td>64.0</td>\n",
       "      <td>56.0</td>\n",
       "    </tr>\n",
       "    <tr>\n",
       "      <th>1002</th>\n",
       "      <td>NaN</td>\n",
       "      <td>NaN</td>\n",
       "      <td>NaN</td>\n",
       "      <td>NaN</td>\n",
       "      <td>NaN</td>\n",
       "      <td>NaN</td>\n",
       "      <td>NaN</td>\n",
       "      <td>NaN</td>\n",
       "      <td>NaN</td>\n",
       "      <td>54.13</td>\n",
       "      <td>...</td>\n",
       "      <td>NaN</td>\n",
       "      <td>NaN</td>\n",
       "      <td>NaN</td>\n",
       "      <td>NaN</td>\n",
       "      <td>NaN</td>\n",
       "      <td>NaN</td>\n",
       "      <td>NaN</td>\n",
       "      <td>11.0</td>\n",
       "      <td>55.0</td>\n",
       "      <td>47.0</td>\n",
       "    </tr>\n",
       "    <tr>\n",
       "      <th>1003</th>\n",
       "      <td>NaN</td>\n",
       "      <td>NaN</td>\n",
       "      <td>NaN</td>\n",
       "      <td>NaN</td>\n",
       "      <td>NaN</td>\n",
       "      <td>NaN</td>\n",
       "      <td>NaN</td>\n",
       "      <td>NaN</td>\n",
       "      <td>NaN</td>\n",
       "      <td>NaN</td>\n",
       "      <td>...</td>\n",
       "      <td>NaN</td>\n",
       "      <td>NaN</td>\n",
       "      <td>NaN</td>\n",
       "      <td>NaN</td>\n",
       "      <td>NaN</td>\n",
       "      <td>NaN</td>\n",
       "      <td>NaN</td>\n",
       "      <td>NaN</td>\n",
       "      <td>NaN</td>\n",
       "      <td>149.0</td>\n",
       "    </tr>\n",
       "    <tr>\n",
       "      <th>1004</th>\n",
       "      <td>NaN</td>\n",
       "      <td>NaN</td>\n",
       "      <td>NaN</td>\n",
       "      <td>NaN</td>\n",
       "      <td>181.58</td>\n",
       "      <td>261.32</td>\n",
       "      <td>358.45</td>\n",
       "      <td>334.86</td>\n",
       "      <td>284.60</td>\n",
       "      <td>341.63</td>\n",
       "      <td>...</td>\n",
       "      <td>NaN</td>\n",
       "      <td>NaN</td>\n",
       "      <td>21.0</td>\n",
       "      <td>44.0</td>\n",
       "      <td>49.0</td>\n",
       "      <td>49.0</td>\n",
       "      <td>42.0</td>\n",
       "      <td>61.0</td>\n",
       "      <td>54.0</td>\n",
       "      <td>50.0</td>\n",
       "    </tr>\n",
       "    <tr>\n",
       "      <th>1005</th>\n",
       "      <td>NaN</td>\n",
       "      <td>NaN</td>\n",
       "      <td>NaN</td>\n",
       "      <td>NaN</td>\n",
       "      <td>NaN</td>\n",
       "      <td>NaN</td>\n",
       "      <td>NaN</td>\n",
       "      <td>NaN</td>\n",
       "      <td>NaN</td>\n",
       "      <td>NaN</td>\n",
       "      <td>...</td>\n",
       "      <td>NaN</td>\n",
       "      <td>NaN</td>\n",
       "      <td>NaN</td>\n",
       "      <td>NaN</td>\n",
       "      <td>NaN</td>\n",
       "      <td>NaN</td>\n",
       "      <td>NaN</td>\n",
       "      <td>NaN</td>\n",
       "      <td>NaN</td>\n",
       "      <td>59.0</td>\n",
       "    </tr>\n",
       "    <tr>\n",
       "      <th>1006</th>\n",
       "      <td>NaN</td>\n",
       "      <td>NaN</td>\n",
       "      <td>NaN</td>\n",
       "      <td>NaN</td>\n",
       "      <td>NaN</td>\n",
       "      <td>NaN</td>\n",
       "      <td>NaN</td>\n",
       "      <td>NaN</td>\n",
       "      <td>NaN</td>\n",
       "      <td>NaN</td>\n",
       "      <td>...</td>\n",
       "      <td>NaN</td>\n",
       "      <td>NaN</td>\n",
       "      <td>NaN</td>\n",
       "      <td>NaN</td>\n",
       "      <td>NaN</td>\n",
       "      <td>NaN</td>\n",
       "      <td>NaN</td>\n",
       "      <td>NaN</td>\n",
       "      <td>2.0</td>\n",
       "      <td>9.0</td>\n",
       "    </tr>\n",
       "    <tr>\n",
       "      <th>1007</th>\n",
       "      <td>NaN</td>\n",
       "      <td>NaN</td>\n",
       "      <td>NaN</td>\n",
       "      <td>NaN</td>\n",
       "      <td>NaN</td>\n",
       "      <td>NaN</td>\n",
       "      <td>NaN</td>\n",
       "      <td>427.95</td>\n",
       "      <td>375.83</td>\n",
       "      <td>610.65</td>\n",
       "      <td>...</td>\n",
       "      <td>NaN</td>\n",
       "      <td>NaN</td>\n",
       "      <td>NaN</td>\n",
       "      <td>NaN</td>\n",
       "      <td>NaN</td>\n",
       "      <td>70.0</td>\n",
       "      <td>63.0</td>\n",
       "      <td>80.0</td>\n",
       "      <td>80.0</td>\n",
       "      <td>87.0</td>\n",
       "    </tr>\n",
       "    <tr>\n",
       "      <th>1008</th>\n",
       "      <td>NaN</td>\n",
       "      <td>NaN</td>\n",
       "      <td>NaN</td>\n",
       "      <td>NaN</td>\n",
       "      <td>NaN</td>\n",
       "      <td>NaN</td>\n",
       "      <td>NaN</td>\n",
       "      <td>NaN</td>\n",
       "      <td>NaN</td>\n",
       "      <td>450.21</td>\n",
       "      <td>...</td>\n",
       "      <td>NaN</td>\n",
       "      <td>NaN</td>\n",
       "      <td>NaN</td>\n",
       "      <td>NaN</td>\n",
       "      <td>NaN</td>\n",
       "      <td>NaN</td>\n",
       "      <td>NaN</td>\n",
       "      <td>71.0</td>\n",
       "      <td>63.0</td>\n",
       "      <td>85.0</td>\n",
       "    </tr>\n",
       "    <tr>\n",
       "      <th>1009</th>\n",
       "      <td>NaN</td>\n",
       "      <td>NaN</td>\n",
       "      <td>NaN</td>\n",
       "      <td>NaN</td>\n",
       "      <td>498.93</td>\n",
       "      <td>775.52</td>\n",
       "      <td>826.74</td>\n",
       "      <td>680.39</td>\n",
       "      <td>730.47</td>\n",
       "      <td>696.35</td>\n",
       "      <td>...</td>\n",
       "      <td>NaN</td>\n",
       "      <td>NaN</td>\n",
       "      <td>71.0</td>\n",
       "      <td>110.0</td>\n",
       "      <td>124.0</td>\n",
       "      <td>109.0</td>\n",
       "      <td>116.0</td>\n",
       "      <td>114.0</td>\n",
       "      <td>105.0</td>\n",
       "      <td>107.0</td>\n",
       "    </tr>\n",
       "    <tr>\n",
       "      <th>1010</th>\n",
       "      <td>NaN</td>\n",
       "      <td>NaN</td>\n",
       "      <td>408.42</td>\n",
       "      <td>618.43</td>\n",
       "      <td>497.94</td>\n",
       "      <td>524.14</td>\n",
       "      <td>658.24</td>\n",
       "      <td>598.94</td>\n",
       "      <td>568.75</td>\n",
       "      <td>668.63</td>\n",
       "      <td>...</td>\n",
       "      <td>63.0</td>\n",
       "      <td>90.0</td>\n",
       "      <td>81.0</td>\n",
       "      <td>77.0</td>\n",
       "      <td>101.0</td>\n",
       "      <td>93.0</td>\n",
       "      <td>83.0</td>\n",
       "      <td>95.0</td>\n",
       "      <td>30.0</td>\n",
       "      <td>NaN</td>\n",
       "    </tr>\n",
       "    <tr>\n",
       "      <th>1011</th>\n",
       "      <td>NaN</td>\n",
       "      <td>NaN</td>\n",
       "      <td>NaN</td>\n",
       "      <td>NaN</td>\n",
       "      <td>NaN</td>\n",
       "      <td>111.68</td>\n",
       "      <td>472.66</td>\n",
       "      <td>460.12</td>\n",
       "      <td>455.22</td>\n",
       "      <td>476.99</td>\n",
       "      <td>...</td>\n",
       "      <td>NaN</td>\n",
       "      <td>NaN</td>\n",
       "      <td>NaN</td>\n",
       "      <td>19.0</td>\n",
       "      <td>63.0</td>\n",
       "      <td>61.0</td>\n",
       "      <td>73.0</td>\n",
       "      <td>76.0</td>\n",
       "      <td>65.0</td>\n",
       "      <td>56.0</td>\n",
       "    </tr>\n",
       "    <tr>\n",
       "      <th>1012</th>\n",
       "      <td>NaN</td>\n",
       "      <td>NaN</td>\n",
       "      <td>NaN</td>\n",
       "      <td>NaN</td>\n",
       "      <td>NaN</td>\n",
       "      <td>NaN</td>\n",
       "      <td>NaN</td>\n",
       "      <td>NaN</td>\n",
       "      <td>NaN</td>\n",
       "      <td>NaN</td>\n",
       "      <td>...</td>\n",
       "      <td>NaN</td>\n",
       "      <td>NaN</td>\n",
       "      <td>NaN</td>\n",
       "      <td>NaN</td>\n",
       "      <td>NaN</td>\n",
       "      <td>NaN</td>\n",
       "      <td>NaN</td>\n",
       "      <td>NaN</td>\n",
       "      <td>10.0</td>\n",
       "      <td>16.0</td>\n",
       "    </tr>\n",
       "    <tr>\n",
       "      <th>1013</th>\n",
       "      <td>NaN</td>\n",
       "      <td>NaN</td>\n",
       "      <td>NaN</td>\n",
       "      <td>NaN</td>\n",
       "      <td>NaN</td>\n",
       "      <td>NaN</td>\n",
       "      <td>NaN</td>\n",
       "      <td>NaN</td>\n",
       "      <td>NaN</td>\n",
       "      <td>NaN</td>\n",
       "      <td>...</td>\n",
       "      <td>NaN</td>\n",
       "      <td>NaN</td>\n",
       "      <td>NaN</td>\n",
       "      <td>NaN</td>\n",
       "      <td>NaN</td>\n",
       "      <td>NaN</td>\n",
       "      <td>NaN</td>\n",
       "      <td>NaN</td>\n",
       "      <td>NaN</td>\n",
       "      <td>35.0</td>\n",
       "    </tr>\n",
       "    <tr>\n",
       "      <th>1014</th>\n",
       "      <td>NaN</td>\n",
       "      <td>NaN</td>\n",
       "      <td>NaN</td>\n",
       "      <td>NaN</td>\n",
       "      <td>NaN</td>\n",
       "      <td>NaN</td>\n",
       "      <td>NaN</td>\n",
       "      <td>NaN</td>\n",
       "      <td>NaN</td>\n",
       "      <td>NaN</td>\n",
       "      <td>...</td>\n",
       "      <td>NaN</td>\n",
       "      <td>NaN</td>\n",
       "      <td>NaN</td>\n",
       "      <td>NaN</td>\n",
       "      <td>NaN</td>\n",
       "      <td>NaN</td>\n",
       "      <td>NaN</td>\n",
       "      <td>NaN</td>\n",
       "      <td>28.0</td>\n",
       "      <td>150.0</td>\n",
       "    </tr>\n",
       "  </tbody>\n",
       "</table>\n",
       "<p>15 rows × 24 columns</p>\n",
       "</div>"
      ],
      "text/plain": [
       "               sum                                                      \\\n",
       "          duration                                                       \n",
       "call_date       1   2       3       4       5       6       7       8    \n",
       "user_id                                                                  \n",
       "1000           NaN NaN     NaN     NaN     NaN     NaN     NaN     NaN   \n",
       "1001           NaN NaN     NaN     NaN     NaN     NaN     NaN  171.14   \n",
       "1002           NaN NaN     NaN     NaN     NaN     NaN     NaN     NaN   \n",
       "1003           NaN NaN     NaN     NaN     NaN     NaN     NaN     NaN   \n",
       "1004           NaN NaN     NaN     NaN  181.58  261.32  358.45  334.86   \n",
       "1005           NaN NaN     NaN     NaN     NaN     NaN     NaN     NaN   \n",
       "1006           NaN NaN     NaN     NaN     NaN     NaN     NaN     NaN   \n",
       "1007           NaN NaN     NaN     NaN     NaN     NaN     NaN  427.95   \n",
       "1008           NaN NaN     NaN     NaN     NaN     NaN     NaN     NaN   \n",
       "1009           NaN NaN     NaN     NaN  498.93  775.52  826.74  680.39   \n",
       "1010           NaN NaN  408.42  618.43  497.94  524.14  658.24  598.94   \n",
       "1011           NaN NaN     NaN     NaN     NaN  111.68  472.66  460.12   \n",
       "1012           NaN NaN     NaN     NaN     NaN     NaN     NaN     NaN   \n",
       "1013           NaN NaN     NaN     NaN     NaN     NaN     NaN     NaN   \n",
       "1014           NaN NaN     NaN     NaN     NaN     NaN     NaN     NaN   \n",
       "\n",
       "                           ...    count                                   \\\n",
       "                           ... duration                                    \n",
       "call_date      9       10  ...       3     4     5      6      7      8    \n",
       "user_id                    ...                                             \n",
       "1000          NaN     NaN  ...      NaN   NaN   NaN    NaN    NaN    NaN   \n",
       "1001       297.69  374.11  ...      NaN   NaN   NaN    NaN    NaN   27.0   \n",
       "1002          NaN   54.13  ...      NaN   NaN   NaN    NaN    NaN    NaN   \n",
       "1003          NaN     NaN  ...      NaN   NaN   NaN    NaN    NaN    NaN   \n",
       "1004       284.60  341.63  ...      NaN   NaN  21.0   44.0   49.0   49.0   \n",
       "1005          NaN     NaN  ...      NaN   NaN   NaN    NaN    NaN    NaN   \n",
       "1006          NaN     NaN  ...      NaN   NaN   NaN    NaN    NaN    NaN   \n",
       "1007       375.83  610.65  ...      NaN   NaN   NaN    NaN    NaN   70.0   \n",
       "1008          NaN  450.21  ...      NaN   NaN   NaN    NaN    NaN    NaN   \n",
       "1009       730.47  696.35  ...      NaN   NaN  71.0  110.0  124.0  109.0   \n",
       "1010       568.75  668.63  ...     63.0  90.0  81.0   77.0  101.0   93.0   \n",
       "1011       455.22  476.99  ...      NaN   NaN   NaN   19.0   63.0   61.0   \n",
       "1012          NaN     NaN  ...      NaN   NaN   NaN    NaN    NaN    NaN   \n",
       "1013          NaN     NaN  ...      NaN   NaN   NaN    NaN    NaN    NaN   \n",
       "1014          NaN     NaN  ...      NaN   NaN   NaN    NaN    NaN    NaN   \n",
       "\n",
       "                                       \n",
       "                                       \n",
       "call_date     9      10     11     12  \n",
       "user_id                                \n",
       "1000         NaN    NaN    NaN   16.0  \n",
       "1001        49.0   65.0   64.0   56.0  \n",
       "1002         NaN   11.0   55.0   47.0  \n",
       "1003         NaN    NaN    NaN  149.0  \n",
       "1004        42.0   61.0   54.0   50.0  \n",
       "1005         NaN    NaN    NaN   59.0  \n",
       "1006         NaN    NaN    2.0    9.0  \n",
       "1007        63.0   80.0   80.0   87.0  \n",
       "1008         NaN   71.0   63.0   85.0  \n",
       "1009       116.0  114.0  105.0  107.0  \n",
       "1010        83.0   95.0   30.0    NaN  \n",
       "1011        73.0   76.0   65.0   56.0  \n",
       "1012         NaN    NaN   10.0   16.0  \n",
       "1013         NaN    NaN    NaN   35.0  \n",
       "1014         NaN    NaN   28.0  150.0  \n",
       "\n",
       "[15 rows x 24 columns]"
      ]
     },
     "execution_count": 47,
     "metadata": {},
     "output_type": "execute_result"
    }
   ],
   "source": [
    "# Calcula la cantidad de minutos usados por cada usuario al mes. Guarda el resultado.\n",
    "pivot_calls = calls.pivot_table(index=['user_id'],\n",
    "                            columns=calls['call_date'].dt.month,\n",
    "                            values=['duration'],\n",
    "                            aggfunc=['sum','count'])\n",
    "pivot_calls.head(15)"
   ]
  },
  {
   "cell_type": "code",
   "execution_count": 50,
   "metadata": {},
   "outputs": [
    {
     "data": {
      "text/plain": [
       "user_id  call_date\n",
       "1000     12           116.83\n",
       "1001     8            171.14\n",
       "         9            297.69\n",
       "         10           374.11\n",
       "         11           404.59\n",
       "                       ...  \n",
       "1498     12           324.77\n",
       "1499     9            330.37\n",
       "         10           363.28\n",
       "         11           288.56\n",
       "         12           468.10\n",
       "Name: duration, Length: 2258, dtype: float64"
      ]
     },
     "execution_count": 50,
     "metadata": {},
     "output_type": "execute_result"
    }
   ],
   "source": [
    "user_calls_min = calls.groupby(['user_id', calls['call_date'].dt.month])['duration'].sum()\n",
    "user_calls_min"
   ]
  },
  {
   "cell_type": "code",
   "execution_count": 21,
   "metadata": {
    "id": "CcQvNHn60q1G"
   },
   "outputs": [
    {
     "name": "stdout",
     "output_type": "stream",
     "text": [
      "<class 'pandas.core.frame.DataFrame'>\n",
      "RangeIndex: 76051 entries, 0 to 76050\n",
      "Data columns (total 3 columns):\n",
      " #   Column        Non-Null Count  Dtype         \n",
      "---  ------        --------------  -----         \n",
      " 0   id            76051 non-null  object        \n",
      " 1   user_id       76051 non-null  int64         \n",
      " 2   message_date  76051 non-null  datetime64[ns]\n",
      "dtypes: datetime64[ns](1), int64(1), object(1)\n",
      "memory usage: 1.7+ MB\n"
     ]
    },
    {
     "data": {
      "text/plain": [
       "user_id  call_date\n",
       "1000     12           11\n",
       "1001     8            21\n",
       "         9            39\n",
       "         10           52\n",
       "         11           48\n",
       "Name: id, dtype: int64"
      ]
     },
     "execution_count": 21,
     "metadata": {},
     "output_type": "execute_result"
    }
   ],
   "source": [
    "# Calcula el número de mensajes enviados por cada usuario al mes. Guarda el resultado.\n",
    "\n",
    "messages.info()\n",
    "user_messages_num = messages.groupby(['user_id', calls['call_date'].dt.month])['id'].count()\n",
    "user_messages_num.head()"
   ]
  },
  {
   "cell_type": "code",
   "execution_count": 22,
   "metadata": {
    "id": "H1AqN2eG0q1H"
   },
   "outputs": [
    {
     "name": "stdout",
     "output_type": "stream",
     "text": [
      "<class 'pandas.core.frame.DataFrame'>\n",
      "RangeIndex: 104825 entries, 0 to 104824\n",
      "Data columns (total 4 columns):\n",
      " #   Column        Non-Null Count   Dtype         \n",
      "---  ------        --------------   -----         \n",
      " 0   id            104825 non-null  object        \n",
      " 1   user_id       104825 non-null  int64         \n",
      " 2   session_date  104825 non-null  datetime64[ns]\n",
      " 3   mb_used       104825 non-null  float64       \n",
      "dtypes: datetime64[ns](1), float64(1), int64(1), object(1)\n",
      "memory usage: 3.2+ MB\n"
     ]
    },
    {
     "data": {
      "text/plain": [
       "user_id  call_date\n",
       "1000     12            1901.47\n",
       "1001     8             7131.50\n",
       "         9            13311.04\n",
       "         10           20406.45\n",
       "         11           20873.07\n",
       "Name: mb_used, dtype: float64"
      ]
     },
     "execution_count": 22,
     "metadata": {},
     "output_type": "execute_result"
    }
   ],
   "source": [
    "# Calcula el volumen del tráfico de Internet usado por cada usuario al mes. Guarda el resultado.\n",
    "internet.info()\n",
    "user_mb = internet.groupby(['user_id', calls['call_date'].dt.month])['mb_used'].sum()\n",
    "user_mb.head()\n"
   ]
  },
  {
   "cell_type": "markdown",
   "metadata": {
    "id": "VDfYXnj80q1H"
   },
   "source": [
    "[Junta los datos agregados en un DataFrame para que haya un registro que represente lo que consumió un usuario único en un mes determinado.]"
   ]
  },
  {
   "cell_type": "code",
   "execution_count": 23,
   "metadata": {
    "id": "FW99ykyf0q1H"
   },
   "outputs": [
    {
     "name": "stdout",
     "output_type": "stream",
     "text": [
      "                   calls_count  calls_duration  message_count   mb_used\n",
      "user_id call_date                                                      \n",
      "1000    12                16.0          116.83           11.0   1901.47\n",
      "1001    8                 27.0          171.14           21.0   7131.50\n",
      "        9                 49.0          297.69           39.0  13311.04\n",
      "        10                65.0          374.11           52.0  20406.45\n",
      "        11                64.0          404.59           48.0  20873.07\n",
      "...                        ...             ...            ...       ...\n",
      "1495    8                  0.0            0.00            0.0  14337.64\n",
      "1499    5                  0.0            0.00            0.0   3482.36\n",
      "        6                  0.0            0.00            0.0  11588.41\n",
      "        7                  0.0            0.00            0.0   6775.95\n",
      "        8                  0.0            0.00            0.0   9488.37\n",
      "\n",
      "[4310 rows x 4 columns]\n",
      "\n",
      "<class 'pandas.core.frame.DataFrame'>\n",
      "MultiIndex: 4310 entries, (1000, 12) to (1499, 8)\n",
      "Data columns (total 4 columns):\n",
      " #   Column          Non-Null Count  Dtype  \n",
      "---  ------          --------------  -----  \n",
      " 0   calls_count     4310 non-null   float64\n",
      " 1   calls_duration  4310 non-null   float64\n",
      " 2   message_count   4310 non-null   float64\n",
      " 3   mb_used         4310 non-null   float64\n",
      "dtypes: float64(4)\n",
      "memory usage: 167.8 KB\n"
     ]
    }
   ],
   "source": [
    "# Fusiona los datos de llamadas, minutos, mensajes e Internet con base en user_id y month\n",
    "merged_expends = pd.merge(user_calls_num, user_calls_min, how='outer', on=['user_id', 'call_date'])\n",
    "merged_expends = pd.merge(merged_expends, user_messages_num, how='outer', on=['user_id', 'call_date'])\n",
    "merged_expends = pd.merge(merged_expends, user_mb, how='outer', on=['user_id', 'call_date'])\n",
    "merged_expends.columns = ['calls_count', 'calls_duration', 'message_count', 'mb_used']\n",
    "\n",
    "merged_expends.fillna(0, inplace=True)\n",
    "print(merged_expends)\n",
    "print()\n",
    "merged_expends.info()"
   ]
  },
  {
   "cell_type": "markdown",
   "metadata": {},
   "source": [
    "<div class=\"alert alert-block alert-success\">\n",
    "<b>Comentario del revisor</b> <a class=\"tocSkip\"></a>\n",
    "\n",
    "Muy buen trabajo!! el merge es correcto para unir todas las bases trabajadas.\n",
    "    \n",
    "</div>"
   ]
  },
  {
   "cell_type": "code",
   "execution_count": 24,
   "metadata": {
    "id": "0dNOXHag0q1H"
   },
   "outputs": [
    {
     "name": "stdout",
     "output_type": "stream",
     "text": [
      "<class 'pandas.core.frame.DataFrame'>\n",
      "RangeIndex: 500 entries, 0 to 499\n",
      "Data columns (total 8 columns):\n",
      " #   Column      Non-Null Count  Dtype         \n",
      "---  ------      --------------  -----         \n",
      " 0   user_id     500 non-null    int64         \n",
      " 1   first_name  500 non-null    object        \n",
      " 2   last_name   500 non-null    object        \n",
      " 3   age         500 non-null    int64         \n",
      " 4   city        500 non-null    object        \n",
      " 5   reg_date    500 non-null    datetime64[ns]\n",
      " 6   plan        500 non-null    object        \n",
      " 7   churn_date  34 non-null     datetime64[ns]\n",
      "dtypes: datetime64[ns](2), int64(2), object(4)\n",
      "memory usage: 31.4+ KB\n",
      "\n",
      "                   calls_count  calls_duration  message_count   mb_used  \\\n",
      "user_id call_date                                                         \n",
      "1000    12                16.0          116.83           11.0   1901.47   \n",
      "1001    8                 27.0          171.14           21.0   7131.50   \n",
      "        9                 49.0          297.69           39.0  13311.04   \n",
      "        10                65.0          374.11           52.0  20406.45   \n",
      "        11                64.0          404.59           48.0  20873.07   \n",
      "        12                56.0          392.93           47.0  18715.88   \n",
      "1002    10                11.0           54.13           16.0   7210.80   \n",
      "        11                55.0          359.76           33.0  18238.99   \n",
      "        12                47.0          363.24           23.0  12526.43   \n",
      "1003    12               149.0         1041.00           22.0  24440.03   \n",
      "\n",
      "                       plan  plan_fee  \n",
      "user_id call_date                      \n",
      "1000    12         ultimate        70  \n",
      "1001    8              surf        20  \n",
      "        9              surf        20  \n",
      "        10             surf        20  \n",
      "        11             surf        20  \n",
      "        12             surf        20  \n",
      "1002    10             surf        20  \n",
      "        11             surf        20  \n",
      "        12             surf        20  \n",
      "1003    12             surf        20  \n",
      "\n",
      "<class 'pandas.core.frame.DataFrame'>\n",
      "MultiIndex: 4310 entries, (1000, 12) to (1499, 8)\n",
      "Data columns (total 6 columns):\n",
      " #   Column          Non-Null Count  Dtype  \n",
      "---  ------          --------------  -----  \n",
      " 0   calls_count     4310 non-null   float64\n",
      " 1   calls_duration  4310 non-null   float64\n",
      " 2   message_count   4310 non-null   float64\n",
      " 3   mb_used         4310 non-null   float64\n",
      " 4   plan            4310 non-null   object \n",
      " 5   plan_fee        4310 non-null   int64  \n",
      "dtypes: float64(4), int64(1), object(1)\n",
      "memory usage: 235.1+ KB\n"
     ]
    }
   ],
   "source": [
    "# Añade la información de la tarifa\n",
    "\n",
    "users.info()\n",
    "plan_map = dict(zip(users['user_id'], users['plan']))\n",
    "print()\n",
    "merged_expends['plan'] = merged_expends.index.get_level_values('user_id').map(plan_map)\n",
    "merged_expends.head()\n",
    "plan_fee_map = {'surf': 20, 'ultimate': 70}\n",
    "merged_expends['plan_fee'] = merged_expends['plan'].map(plan_fee_map)\n",
    "print(merged_expends.head(10))\n",
    "print()\n",
    "merged_expends.info()"
   ]
  },
  {
   "cell_type": "markdown",
   "metadata": {
    "id": "1IwGo4wg0q1I"
   },
   "source": [
    "[Calcula los ingresos mensuales por usuario (resta el límite del paquete gratuito del número total de llamadas, mensajes de texto y datos; multiplica el resultado por el valor del plan de llamadas; añade la tarifa mensual en función del plan de llamadas). Nota: Dadas las condiciones del plan, ¡esto podría no ser tan trivial como un par de líneas! Así que no pasa nada si dedicas algo de tiempo a ello.]"
   ]
  },
  {
   "cell_type": "code",
   "execution_count": 51,
   "metadata": {
    "id": "5FGCf_c60q1I"
   },
   "outputs": [
    {
     "data": {
      "text/html": [
       "<div>\n",
       "<style scoped>\n",
       "    .dataframe tbody tr th:only-of-type {\n",
       "        vertical-align: middle;\n",
       "    }\n",
       "\n",
       "    .dataframe tbody tr th {\n",
       "        vertical-align: top;\n",
       "    }\n",
       "\n",
       "    .dataframe thead th {\n",
       "        text-align: right;\n",
       "    }\n",
       "</style>\n",
       "<table border=\"1\" class=\"dataframe\">\n",
       "  <thead>\n",
       "    <tr style=\"text-align: right;\">\n",
       "      <th></th>\n",
       "      <th></th>\n",
       "      <th>calls_count</th>\n",
       "      <th>calls_duration</th>\n",
       "      <th>message_count</th>\n",
       "      <th>mb_used</th>\n",
       "      <th>plan</th>\n",
       "      <th>plan_fee</th>\n",
       "      <th>total_month_charge</th>\n",
       "      <th>city</th>\n",
       "    </tr>\n",
       "    <tr>\n",
       "      <th>user_id</th>\n",
       "      <th>call_date</th>\n",
       "      <th></th>\n",
       "      <th></th>\n",
       "      <th></th>\n",
       "      <th></th>\n",
       "      <th></th>\n",
       "      <th></th>\n",
       "      <th></th>\n",
       "      <th></th>\n",
       "    </tr>\n",
       "  </thead>\n",
       "  <tbody>\n",
       "    <tr>\n",
       "      <th>1000</th>\n",
       "      <th>12</th>\n",
       "      <td>16.0</td>\n",
       "      <td>116.83</td>\n",
       "      <td>11.0</td>\n",
       "      <td>1901.47</td>\n",
       "      <td>ultimate</td>\n",
       "      <td>70</td>\n",
       "      <td>70.00</td>\n",
       "      <td>Atlanta-Sandy Springs-Roswell, GA MSA</td>\n",
       "    </tr>\n",
       "    <tr>\n",
       "      <th rowspan=\"5\" valign=\"top\">1001</th>\n",
       "      <th>8</th>\n",
       "      <td>27.0</td>\n",
       "      <td>171.14</td>\n",
       "      <td>21.0</td>\n",
       "      <td>7131.50</td>\n",
       "      <td>surf</td>\n",
       "      <td>20</td>\n",
       "      <td>20.00</td>\n",
       "      <td>Seattle-Tacoma-Bellevue, WA MSA</td>\n",
       "    </tr>\n",
       "    <tr>\n",
       "      <th>9</th>\n",
       "      <td>49.0</td>\n",
       "      <td>297.69</td>\n",
       "      <td>39.0</td>\n",
       "      <td>13311.04</td>\n",
       "      <td>surf</td>\n",
       "      <td>20</td>\n",
       "      <td>20.00</td>\n",
       "      <td>Seattle-Tacoma-Bellevue, WA MSA</td>\n",
       "    </tr>\n",
       "    <tr>\n",
       "      <th>10</th>\n",
       "      <td>65.0</td>\n",
       "      <td>374.11</td>\n",
       "      <td>52.0</td>\n",
       "      <td>20406.45</td>\n",
       "      <td>surf</td>\n",
       "      <td>20</td>\n",
       "      <td>70.06</td>\n",
       "      <td>Seattle-Tacoma-Bellevue, WA MSA</td>\n",
       "    </tr>\n",
       "    <tr>\n",
       "      <th>11</th>\n",
       "      <td>64.0</td>\n",
       "      <td>404.59</td>\n",
       "      <td>48.0</td>\n",
       "      <td>20873.07</td>\n",
       "      <td>surf</td>\n",
       "      <td>20</td>\n",
       "      <td>80.00</td>\n",
       "      <td>Seattle-Tacoma-Bellevue, WA MSA</td>\n",
       "    </tr>\n",
       "    <tr>\n",
       "      <th>12</th>\n",
       "      <td>56.0</td>\n",
       "      <td>392.93</td>\n",
       "      <td>47.0</td>\n",
       "      <td>18715.88</td>\n",
       "      <td>surf</td>\n",
       "      <td>20</td>\n",
       "      <td>60.00</td>\n",
       "      <td>Seattle-Tacoma-Bellevue, WA MSA</td>\n",
       "    </tr>\n",
       "    <tr>\n",
       "      <th rowspan=\"3\" valign=\"top\">1002</th>\n",
       "      <th>10</th>\n",
       "      <td>11.0</td>\n",
       "      <td>54.13</td>\n",
       "      <td>16.0</td>\n",
       "      <td>7210.80</td>\n",
       "      <td>surf</td>\n",
       "      <td>20</td>\n",
       "      <td>20.00</td>\n",
       "      <td>Las Vegas-Henderson-Paradise, NV MSA</td>\n",
       "    </tr>\n",
       "    <tr>\n",
       "      <th>11</th>\n",
       "      <td>55.0</td>\n",
       "      <td>359.76</td>\n",
       "      <td>33.0</td>\n",
       "      <td>18238.99</td>\n",
       "      <td>surf</td>\n",
       "      <td>20</td>\n",
       "      <td>50.00</td>\n",
       "      <td>Las Vegas-Henderson-Paradise, NV MSA</td>\n",
       "    </tr>\n",
       "    <tr>\n",
       "      <th>12</th>\n",
       "      <td>47.0</td>\n",
       "      <td>363.24</td>\n",
       "      <td>23.0</td>\n",
       "      <td>12526.43</td>\n",
       "      <td>surf</td>\n",
       "      <td>20</td>\n",
       "      <td>20.00</td>\n",
       "      <td>Las Vegas-Henderson-Paradise, NV MSA</td>\n",
       "    </tr>\n",
       "    <tr>\n",
       "      <th>1003</th>\n",
       "      <th>12</th>\n",
       "      <td>149.0</td>\n",
       "      <td>1041.00</td>\n",
       "      <td>22.0</td>\n",
       "      <td>24440.03</td>\n",
       "      <td>surf</td>\n",
       "      <td>20</td>\n",
       "      <td>126.23</td>\n",
       "      <td>Tulsa, OK MSA</td>\n",
       "    </tr>\n",
       "  </tbody>\n",
       "</table>\n",
       "</div>"
      ],
      "text/plain": [
       "                   calls_count  calls_duration  message_count   mb_used  \\\n",
       "user_id call_date                                                         \n",
       "1000    12                16.0          116.83           11.0   1901.47   \n",
       "1001    8                 27.0          171.14           21.0   7131.50   \n",
       "        9                 49.0          297.69           39.0  13311.04   \n",
       "        10                65.0          374.11           52.0  20406.45   \n",
       "        11                64.0          404.59           48.0  20873.07   \n",
       "        12                56.0          392.93           47.0  18715.88   \n",
       "1002    10                11.0           54.13           16.0   7210.80   \n",
       "        11                55.0          359.76           33.0  18238.99   \n",
       "        12                47.0          363.24           23.0  12526.43   \n",
       "1003    12               149.0         1041.00           22.0  24440.03   \n",
       "\n",
       "                       plan  plan_fee  total_month_charge  \\\n",
       "user_id call_date                                           \n",
       "1000    12         ultimate        70               70.00   \n",
       "1001    8              surf        20               20.00   \n",
       "        9              surf        20               20.00   \n",
       "        10             surf        20               70.06   \n",
       "        11             surf        20               80.00   \n",
       "        12             surf        20               60.00   \n",
       "1002    10             surf        20               20.00   \n",
       "        11             surf        20               50.00   \n",
       "        12             surf        20               20.00   \n",
       "1003    12             surf        20              126.23   \n",
       "\n",
       "                                                    city  \n",
       "user_id call_date                                         \n",
       "1000    12         Atlanta-Sandy Springs-Roswell, GA MSA  \n",
       "1001    8                Seattle-Tacoma-Bellevue, WA MSA  \n",
       "        9                Seattle-Tacoma-Bellevue, WA MSA  \n",
       "        10               Seattle-Tacoma-Bellevue, WA MSA  \n",
       "        11               Seattle-Tacoma-Bellevue, WA MSA  \n",
       "        12               Seattle-Tacoma-Bellevue, WA MSA  \n",
       "1002    10          Las Vegas-Henderson-Paradise, NV MSA  \n",
       "        11          Las Vegas-Henderson-Paradise, NV MSA  \n",
       "        12          Las Vegas-Henderson-Paradise, NV MSA  \n",
       "1003    12                                 Tulsa, OK MSA  "
      ]
     },
     "execution_count": 51,
     "metadata": {},
     "output_type": "execute_result"
    }
   ],
   "source": [
    "# Calcula el ingreso mensual para cada usuario\n",
    "def user_monthly_profit(row):\n",
    "    extra_calls_charge = 0\n",
    "    extra_message_count_charge = 0\n",
    "    extra_gb_used_charge = 0\n",
    "    if row['plan'] == 'ultimate':\n",
    "        extra_calls_time = row['calls_duration']-3000\n",
    "        if extra_calls_time >0:\n",
    "            extra_time_fee = 0.01 #tarifa por minutos de llamadas extra\n",
    "            extra_calls_charge = extra_calls_time * extra_time_fee\n",
    "        else:\n",
    "            extra_calls_charge = 0\n",
    "        extra_message_count = row['message_count']-1000\n",
    "        if extra_message_count >0:\n",
    "            extra_mesage_count_fee = 0.01 #tarifa por SMS excedidos\n",
    "            extra_message_count_charge = extra_message_count * extra_mesage_count_fee\n",
    "        else:\n",
    "            extra_message_count_charge = 0\n",
    "        extra_gb_used = math.ceil(row['mb_used']/1000) - 30 #Se convierte mb a gb y se redondea hacia arriba\n",
    "        if extra_gb_used >0:\n",
    "            extra_gb_used_fee = 7 #Tarifa por gb excedido\n",
    "            extra_gb_used_charge = extra_gb_used * extra_gb_used_fee\n",
    "        else:\n",
    "            extra_gb_used_charge = 0\n",
    "        total_month_charge = extra_calls_charge + extra_message_count_charge + extra_gb_used_charge + row['plan_fee']\n",
    "        return total_month_charge\n",
    "    elif row['plan'] == 'surf':\n",
    "        extra_calls_time = row['calls_duration']-500\n",
    "        if extra_calls_time >0:\n",
    "            extra_time_fee = 0.03 #tarifa por minutos de llamadas extra\n",
    "            extra_calls_charge = extra_calls_time * extra_time_fee\n",
    "        extra_message_count = row['message_count']-50\n",
    "        if extra_message_count >0:\n",
    "            extra_mesage_count_fee = 0.03 #tarifa por SMS excedidos\n",
    "            extra_message_count_charge = extra_message_count * extra_mesage_count_fee\n",
    "        extra_gb_used = math.ceil(row['mb_used']/1024) - 15 #Se convierte mb a gb y se redondea hacia arriba\n",
    "        if extra_gb_used >0:\n",
    "            extra_gb_used_fee = 10 #Tarifa por gb excedido\n",
    "            extra_gb_used_charge = extra_gb_used * extra_gb_used_fee\n",
    "        total_month_charge = extra_calls_charge + extra_message_count_charge + extra_gb_used_charge + row['plan_fee']\n",
    "        return total_month_charge\n",
    "    \n",
    "merged_expends['total_month_charge'] = merged_expends.apply(user_monthly_profit, axis=1)\n",
    "\n",
    "merged_expends.head(10)\n",
    "\n"
   ]
  },
  {
   "cell_type": "markdown",
   "metadata": {},
   "source": [
    "<div class=\"alert alert-block alert-danger\">\n",
    "\n",
    "<b>Comentario revisor</b> <a class=\"tocSkip\"></a>\n",
    "\n",
    "Te sugiero verificar a cuánto equivale un gb para cuando hagas la transformación.\n",
    "\n",
    "</div>"
   ]
  },
  {
   "cell_type": "markdown",
   "metadata": {},
   "source": [
    "<div class=\"alert alert-block alert-info\">\n",
    "Gracias por sugerirme verificar la equivalencia entre gb mb. Ironicamente no son 1000 sino 1024 la proporcion de conversion. Ya corregí esta proporción en el código anterior."
   ]
  },
  {
   "cell_type": "markdown",
   "metadata": {},
   "source": [
    "<div class=\"alert alert-block alert-success\">\n",
    "<b>Comentario revisor</b> <a class=\"tocSkip\"></a>\n",
    "\n",
    "Excelente trabajo con el ajuste!"
   ]
  },
  {
   "cell_type": "markdown",
   "metadata": {
    "id": "-jtyHzJb0q1I"
   },
   "source": [
    "## Estudia el comportamiento de usuario"
   ]
  },
  {
   "cell_type": "markdown",
   "metadata": {
    "id": "AxU3Y0N70q1J"
   },
   "source": [
    "[Calcula algunas estadísticas descriptivas para los datos agregados y fusionados que nos sean útiles y que muestren un panorama general captado por los datos. Dibuja gráficos útiles para facilitar la comprensión. Dado que la tarea principal es comparar las tarifas y decidir cuál es más rentable, las estadísticas y gráficas deben calcularse por tarifa.]\n",
    "\n",
    "[En los comentarios hallarás pistas relevantes para las llamadas, pero no las hay para los mensajes e Internet. Sin embargo, el principio del estudio estadístico que se aplica para ellos es el mismo que para las llamadas.]"
   ]
  },
  {
   "cell_type": "markdown",
   "metadata": {
    "id": "vtW4CJEe0q1J"
   },
   "source": [
    "### Llamadas"
   ]
  },
  {
   "cell_type": "code",
   "execution_count": 26,
   "metadata": {
    "id": "Jf5v5--k0q1J"
   },
   "outputs": [
    {
     "name": "stdout",
     "output_type": "stream",
     "text": [
      "plan      call_date\n",
      "surf      1             12.856000\n",
      "          2             36.109429\n",
      "          3             54.597786\n",
      "          4             80.674757\n",
      "          5            116.132400\n",
      "          6            137.628084\n",
      "          7            167.320228\n",
      "          8            196.004625\n",
      "          9            234.112531\n",
      "          10           292.246474\n",
      "          11           343.728723\n",
      "          12           428.605843\n",
      "ultimate  1             36.632500\n",
      "          2             71.865676\n",
      "          3             50.417941\n",
      "          4             63.910288\n",
      "          5             94.290508\n",
      "          6            122.694925\n",
      "          7            166.589301\n",
      "          8            185.569145\n",
      "          9            230.796818\n",
      "          10           294.560850\n",
      "          11           344.520323\n",
      "          12           416.464331\n",
      "Name: calls_duration, dtype: float64\n"
     ]
    },
    {
     "data": {
      "text/plain": [
       "<AxesSubplot:xlabel='Plan & Month', ylabel='minutes mean'>"
      ]
     },
     "execution_count": 26,
     "metadata": {},
     "output_type": "execute_result"
    },
    {
     "data": {
      "image/png": "[encoded data removed]",
      "text/plain": [
       "<Figure size 640x480 with 1 Axes>"
      ]
     },
     "metadata": {},
     "output_type": "display_data"
    }
   ],
   "source": [
    "# Compara la duración promedio de llamadas por cada plan y por cada mes. Traza un gráfico de barras para visualizarla.\n",
    "avg_duration = merged_expends.groupby(['plan', 'call_date'])['calls_duration'].mean()\n",
    "print(avg_duration)\n",
    "avg_duration.plot(kind='bar', ylabel='minutes mean', xlabel='Plan & Month')\n"
   ]
  },
  {
   "cell_type": "code",
   "execution_count": 27,
   "metadata": {
    "id": "QoLqW1S_0q1J"
   },
   "outputs": [],
   "source": [
    "# Compara el número de minutos mensuales que necesitan los usuarios de cada plan. Traza un histograma.\n",
    "\n"
   ]
  },
  {
   "cell_type": "markdown",
   "metadata": {
    "id": "bLS9T8OH0q1K"
   },
   "source": [
    "[Calcula la media y la variable de la duración de las llamadas para averiguar si los usuarios de los distintos planes se comportan de forma diferente al realizar sus llamadas.]"
   ]
  },
  {
   "cell_type": "code",
   "execution_count": 28,
   "metadata": {
    "id": "oSndbAnt0q1K"
   },
   "outputs": [
    {
     "name": "stdout",
     "output_type": "stream",
     "text": [
      "                          mean           var\n",
      "plan     call_date                          \n",
      "surf     1           12.856000   2903.850666\n",
      "         2           36.109429  14410.109000\n",
      "         3           54.597786  19490.173414\n",
      "         4           80.674757  31308.571228\n",
      "         5          116.132400  46686.116965\n",
      "         6          137.628084  50912.842265\n",
      "         7          167.320228  64522.640756\n",
      "         8          196.004625  62123.316498\n",
      "         9          234.112531  61686.482402\n",
      "         10         292.246474  66879.074750\n",
      "         11         343.728723  58902.180912\n",
      "         12         428.605843  62685.065644\n",
      "ultimate 1           36.632500   8017.332336\n",
      "         2           71.865676  34172.546581\n",
      "         3           50.417941  20950.216715\n",
      "         4           63.910288  22330.959362\n",
      "         5           94.290508  36921.340219\n",
      "         6          122.694925  41191.866691\n",
      "         7          166.589301  66275.315622\n",
      "         8          185.569145  61649.606783\n",
      "         9          230.796818  70723.791836\n",
      "         10         294.560850  72139.193482\n",
      "         11         344.520323  70737.500182\n",
      "         12         416.464331  60572.201284\n"
     ]
    }
   ],
   "source": [
    "# Calcula la media y la varianza de la duración mensual de llamadas.\n",
    "mean_var_calls = merged_expends.groupby(['plan', 'call_date'])['calls_duration'].agg([np.mean, np.var])\n",
    "print(mean_var_calls)"
   ]
  },
  {
   "cell_type": "code",
   "execution_count": 29,
   "metadata": {
    "id": "nZzoRUKc0q1K"
   },
   "outputs": [
    {
     "data": {
      "image/png": "[encoded data removed]",
      "text/plain": [
       "<Figure size 1200x600 with 1 Axes>"
      ]
     },
     "metadata": {},
     "output_type": "display_data"
    }
   ],
   "source": [
    "# Traza un diagrama de caja para visualizar la distribución de la duración mensual de llamadas\n",
    "plt.figure(figsize=(12, 6))\n",
    "sns.boxplot(x=merged_expends.index.get_level_values('call_date'), y='calls_duration', hue=('plan'), data=merged_expends)\n",
    "plt.title('Distribución de la duración de las llamadas mensuales')\n",
    "plt.xticks(rotation=45)\n",
    "plt.show()\n"
   ]
  },
  {
   "cell_type": "markdown",
   "metadata": {
    "id": "r627zBO50q1K"
   },
   "source": [
    "[Elabora las conclusiones sobre el comportamiento de los usuarios con respecto a las llamadas. ¿Su comportamiento varía en función del plan?]\n",
    "El comportamiento de consumo de minutos en llamada es muy similar entre los usuarios de ambos planes"
   ]
  },
  {
   "cell_type": "markdown",
   "metadata": {
    "id": "8idKy8Wh0q1L"
   },
   "source": [
    "### Mensajes"
   ]
  },
  {
   "cell_type": "code",
   "execution_count": 30,
   "metadata": {
    "id": "NXLxiTit0q1L"
   },
   "outputs": [
    {
     "name": "stdout",
     "output_type": "stream",
     "text": [
      "<class 'pandas.core.frame.DataFrame'>\n",
      "RangeIndex: 76051 entries, 0 to 76050\n",
      "Data columns (total 3 columns):\n",
      " #   Column        Non-Null Count  Dtype         \n",
      "---  ------        --------------  -----         \n",
      " 0   id            76051 non-null  object        \n",
      " 1   user_id       76051 non-null  int64         \n",
      " 2   message_date  76051 non-null  datetime64[ns]\n",
      "dtypes: datetime64[ns](1), int64(1), object(1)\n",
      "memory usage: 1.7+ MB\n",
      "plan      call_date\n",
      "surf      1             2.433333\n",
      "          2             5.442857\n",
      "          3             4.435115\n",
      "          4             6.281553\n",
      "          5             9.464000\n",
      "          6            10.282230\n",
      "          7            13.244300\n",
      "          8            15.156250\n",
      "          9            17.549383\n",
      "          10           22.753799\n",
      "          11           25.768997\n",
      "          12           32.536145\n",
      "ultimate  1             2.850000\n",
      "          2             4.270270\n",
      "          3             6.573529\n",
      "          4             7.134615\n",
      "          5            10.203390\n",
      "          6            12.813433\n",
      "          7            16.132867\n",
      "          8            18.565789\n",
      "          9            20.616883\n",
      "          10           27.013072\n",
      "          11           29.838710\n",
      "          12           35.987261\n",
      "Name: message_count, dtype: float64\n",
      "\n"
     ]
    },
    {
     "data": {
      "image/png": "[encoded data removed]",
      "text/plain": [
       "<Figure size 640x480 with 1 Axes>"
      ]
     },
     "metadata": {},
     "output_type": "display_data"
    },
    {
     "data": {
      "image/png": "[encoded data removed]",
      "text/plain": [
       "<Figure size 1200x600 with 1 Axes>"
      ]
     },
     "metadata": {},
     "output_type": "display_data"
    }
   ],
   "source": [
    "# Comprara el número de mensajes que tienden a enviar cada mes los usuarios de cada plan\n",
    "messages.info()\n",
    "messages_num_mean = merged_expends.groupby(['plan', 'call_date'])['message_count'].mean()\n",
    "print(messages_num_mean)\n",
    "messages_num_mean.plot(kind='bar', ylabel='messages mean', xlabel='Plan & Month')\n",
    "print()\n",
    "plt.figure(figsize=(12, 6))\n",
    "sns.boxplot(x=merged_expends.index.get_level_values('call_date'), y='message_count', hue=('plan'), data=merged_expends)\n",
    "plt.title('Distribución de los mensajes mensuales')\n",
    "plt.xticks(rotation=45)\n",
    "plt.show()"
   ]
  },
  {
   "cell_type": "code",
   "execution_count": 31,
   "metadata": {
    "id": "GRI_R7xF0q1L"
   },
   "outputs": [
    {
     "name": "stdout",
     "output_type": "stream",
     "text": [
      "<class 'pandas.core.frame.DataFrame'>\n",
      "RangeIndex: 104825 entries, 0 to 104824\n",
      "Data columns (total 4 columns):\n",
      " #   Column        Non-Null Count   Dtype         \n",
      "---  ------        --------------   -----         \n",
      " 0   id            104825 non-null  object        \n",
      " 1   user_id       104825 non-null  int64         \n",
      " 2   session_date  104825 non-null  datetime64[ns]\n",
      " 3   mb_used       104825 non-null  float64       \n",
      "dtypes: datetime64[ns](1), float64(1), int64(1), object(1)\n",
      "memory usage: 3.2+ MB\n",
      "plan      call_date\n",
      "surf      1             1469.808000\n",
      "          2             2440.690429\n",
      "          3             2482.415802\n",
      "          4             3322.963155\n",
      "          5             5168.915960\n",
      "          6             5614.155575\n",
      "          7             7262.757622\n",
      "          8             8388.410813\n",
      "          9             9818.320648\n",
      "          10           12160.753131\n",
      "          11           13335.450881\n",
      "          12           16369.499337\n",
      "ultimate  1             1080.038000\n",
      "          2             2686.490000\n",
      "          3             2603.476176\n",
      "          4             3320.677981\n",
      "          5             4587.568983\n",
      "          6             5410.037985\n",
      "          7             6551.149021\n",
      "          8             7291.863092\n",
      "          9             8816.253831\n",
      "          10           12141.989477\n",
      "          11           14626.305806\n",
      "          12           18835.894204\n",
      "Name: mb_used, dtype: float64\n",
      "\n"
     ]
    },
    {
     "data": {
      "image/png": "[encoded data removed]",
      "text/plain": [
       "<Figure size 640x480 with 1 Axes>"
      ]
     },
     "metadata": {},
     "output_type": "display_data"
    },
    {
     "data": {
      "image/png": "[encoded data removed]",
      "text/plain": [
       "<Figure size 1200x600 with 1 Axes>"
      ]
     },
     "metadata": {},
     "output_type": "display_data"
    }
   ],
   "source": [
    "# Compara la cantidad de tráfico de Internet consumido por usuarios por plan\n",
    "internet.info()\n",
    "mb_used_mean = merged_expends.groupby(['plan', 'call_date'])['mb_used'].mean()\n",
    "print(mb_used_mean)\n",
    "mb_used_mean.plot(kind='bar', ylabel='mb used mean', xlabel='Plan & Month')\n",
    "print()\n",
    "plt.figure(figsize=(12, 6))\n",
    "sns.boxplot(x=merged_expends.index.get_level_values('call_date'), y='mb_used', hue=('plan'), data=merged_expends)\n",
    "plt.title('Distribución de los mb usados mensuales')\n",
    "plt.xticks(rotation=45)\n",
    "plt.show()\n"
   ]
  },
  {
   "cell_type": "code",
   "execution_count": null,
   "metadata": {
    "id": "dtFwCGAp0q1M"
   },
   "outputs": [],
   "source": []
  },
  {
   "cell_type": "markdown",
   "metadata": {
    "id": "390SSL480q1M"
   },
   "source": [
    "[Elabora las conclusiones sobre el comportamiento de los usuarios con respecto a los mensajes. ¿Su comportamiento varía en función del plan?]\n",
    "El consumo de mensajes es muy similar entre los usuarios que se encuentran en un plan en comparación del otro."
   ]
  },
  {
   "cell_type": "markdown",
   "metadata": {
    "id": "42YSypXz0q1M"
   },
   "source": [
    "### Internet"
   ]
  },
  {
   "cell_type": "code",
   "execution_count": null,
   "metadata": {
    "id": "lSuKPtjh0q1M"
   },
   "outputs": [],
   "source": []
  },
  {
   "cell_type": "code",
   "execution_count": null,
   "metadata": {
    "id": "wnh8jYXi0q1N"
   },
   "outputs": [],
   "source": []
  },
  {
   "cell_type": "code",
   "execution_count": null,
   "metadata": {
    "id": "5VlyJ9ry0q1N"
   },
   "outputs": [],
   "source": []
  },
  {
   "cell_type": "markdown",
   "metadata": {
    "id": "UN9zwuMP0q1N"
   },
   "source": [
    "[Elabora las conclusiones sobre cómo los usuarios tienden a consumir el tráfico de Internet. ¿Su comportamiento varía en función del plan?]\n",
    "El consumo de internet en mb es muy similar entre los usuarios que se encuentran en un plan en comparación del otro."
   ]
  },
  {
   "cell_type": "markdown",
   "metadata": {
    "id": "tCijq3260q1N"
   },
   "source": [
    "## Ingreso"
   ]
  },
  {
   "cell_type": "markdown",
   "metadata": {
    "id": "9nq5IAcy0q1O"
   },
   "source": [
    "[Del mismo modo que has estudiado el comportamiento de los usuarios, describe estadísticamente los ingresos de los planes.]"
   ]
  },
  {
   "cell_type": "code",
   "execution_count": 32,
   "metadata": {
    "id": "tz-dq_V00q1O"
   },
   "outputs": [
    {
     "name": "stdout",
     "output_type": "stream",
     "text": [
      "plan      call_date\n",
      "surf      1             20.000000\n",
      "          2             21.686723\n",
      "          3             21.700656\n",
      "          4             21.605461\n",
      "          5             24.769948\n",
      "          6             24.553942\n",
      "          7             28.995814\n",
      "          8             32.672109\n",
      "          9             39.467027\n",
      "          10            54.453526\n",
      "          11            64.348523\n",
      "          12            92.530375\n",
      "ultimate  1             70.000000\n",
      "          2             70.000000\n",
      "          3             70.000000\n",
      "          4             70.000000\n",
      "          5             70.118644\n",
      "          6             70.156716\n",
      "          7             70.832168\n",
      "          8             70.644737\n",
      "          9             70.318182\n",
      "          10            76.359477\n",
      "          11            84.316129\n",
      "          12           101.522293\n",
      "Name: total_month_charge, dtype: float64\n",
      "\n"
     ]
    },
    {
     "data": {
      "image/png": "[encoded data removed]",
      "text/plain": [
       "<Figure size 640x480 with 1 Axes>"
      ]
     },
     "metadata": {},
     "output_type": "display_data"
    },
    {
     "data": {
      "image/png": "[encoded data removed]",
      "text/plain": [
       "<Figure size 1200x600 with 1 Axes>"
      ]
     },
     "metadata": {},
     "output_type": "display_data"
    }
   ],
   "source": [
    "\n",
    "earnings_mean = merged_expends.groupby(['plan', 'call_date'])['total_month_charge'].mean()\n",
    "print(earnings_mean)\n",
    "earnings_mean.plot(kind='bar', ylabel='earnings mean', xlabel='Plan & Month')\n",
    "print()\n",
    "plt.figure(figsize=(12, 6))\n",
    "sns.boxplot(x=merged_expends.index.get_level_values('call_date'), y='total_month_charge', hue=('plan'), data=merged_expends)\n",
    "plt.title('Distribución de las ganacias mensuales')\n",
    "plt.xticks(rotation=45)\n",
    "plt.show()"
   ]
  },
  {
   "cell_type": "code",
   "execution_count": null,
   "metadata": {
    "id": "0Y1v8ZUz0q1P"
   },
   "outputs": [],
   "source": []
  },
  {
   "cell_type": "code",
   "execution_count": null,
   "metadata": {
    "id": "bYmwxyVh0q1P"
   },
   "outputs": [],
   "source": []
  },
  {
   "cell_type": "markdown",
   "metadata": {
    "id": "KAFidcXZ0q1P"
   },
   "source": [
    "[Elabora las conclusiones sobre cómo difiere el ingreso entre los planes.]\n",
    "Los ingresos del plan Ultimate son superiores a los del plan surf en cada uno de los meses del año."
   ]
  },
  {
   "cell_type": "markdown",
   "metadata": {},
   "source": [
    "<div class=\"alert alert-block alert-success\">\n",
    "<b>Comentario revisor</b> <a class=\"tocSkip\"></a>\n",
    "\n",
    " Muy buena prática la de usar distintos tipos de gráficas identificar algunos hallazgos y llegar a conclusiones. En este caso las gráficas de box-plots nos ayudan a identificar outiers que pueden sesgar nuestros resultados, especificamente las pruebas de hipótesis. Es por ello que con estás gráficas puedes complementar el análisis eliminando los valores atipicos. \n",
    "</div>"
   ]
  },
  {
   "cell_type": "markdown",
   "metadata": {
    "id": "ajJ7VKeI0q1Q"
   },
   "source": [
    "## Prueba las hipótesis estadísticas"
   ]
  },
  {
   "cell_type": "markdown",
   "metadata": {
    "id": "AdXAZ-yL0q1Q"
   },
   "source": [
    "[Prueba la hipótesis de que son diferentes los ingresos promedio procedentes de los usuarios de los planes de llamada Ultimate y Surf.]"
   ]
  },
  {
   "cell_type": "markdown",
   "metadata": {
    "id": "IQwa_hsh0q1Q"
   },
   "source": [
    "[Elabora las hipótesis nula y alternativa, escoge la prueba estadística, determina el valor alfa.]"
   ]
  },
  {
   "cell_type": "code",
   "execution_count": 33,
   "metadata": {
    "id": "nFoPNlPq0q1R"
   },
   "outputs": [
    {
     "name": "stdout",
     "output_type": "stream",
     "text": [
      "<class 'pandas.core.frame.DataFrame'>\n",
      "MultiIndex: 4310 entries, (1000, 12) to (1499, 8)\n",
      "Data columns (total 7 columns):\n",
      " #   Column              Non-Null Count  Dtype  \n",
      "---  ------              --------------  -----  \n",
      " 0   calls_count         4310 non-null   float64\n",
      " 1   calls_duration      4310 non-null   float64\n",
      " 2   message_count       4310 non-null   float64\n",
      " 3   mb_used             4310 non-null   float64\n",
      " 4   plan                4310 non-null   object \n",
      " 5   plan_fee            4310 non-null   int64  \n",
      " 6   total_month_charge  4310 non-null   float64\n",
      "dtypes: float64(5), int64(1), object(1)\n",
      "memory usage: 268.8+ KB\n",
      "                    estadistico       p_value\n",
      "plan     call_date                           \n",
      "surf     1             1.000000  1.000000e+00\n",
      "         2             0.186155  8.604009e-18\n",
      "         3             0.119715  1.500836e-24\n",
      "         4             0.147574  1.540112e-29\n",
      "         5             0.263745  2.422169e-30\n",
      "         6             0.277657  6.029350e-32\n",
      "         7             0.319611  3.863238e-32\n",
      "         8             0.407957  4.939240e-31\n",
      "         9             0.456177  3.398588e-30\n",
      "         10            0.533497  1.274850e-28\n",
      "         11            0.546478  2.666788e-28\n",
      "         12            0.505484  2.090246e-29\n",
      "ultimate 1             1.000000  1.000000e+00\n",
      "         2             1.000000  1.000000e+00\n",
      "         3             1.000000  1.000000e+00\n",
      "         4             1.000000  1.000000e+00\n",
      "         5             0.066304  5.254939e-24\n",
      "         6             0.095529  4.503943e-25\n",
      "         7             0.097755  8.905299e-26\n",
      "         8             0.144526  6.408521e-26\n",
      "         9             0.067947  5.673648e-27\n",
      "         10            0.280461  3.175139e-24\n",
      "         11            0.334195  1.363475e-23\n",
      "         12            0.360939  2.523493e-23\n",
      "\n",
      "<class 'pandas.core.frame.DataFrame'>\n",
      "Int64Index: 397373 entries, 12 to 2\n",
      "Data columns (total 2 columns):\n",
      " #   Column                       Non-Null Count   Dtype  \n",
      "---  ------                       --------------   -----  \n",
      " 0   ultimate_total_month_charge  397373 non-null  float64\n",
      " 1   surf_total_month_charge      397373 non-null  float64\n",
      "dtypes: float64(2)\n",
      "memory usage: 9.1 MB\n",
      "           ultimate_total_month_charge  surf_total_month_charge\n",
      "call_date                                                      \n",
      "12                                70.0                  60.0000\n",
      "12                                70.0                  20.0000\n",
      "12                                70.0                 136.2300\n",
      "12                                70.0                 443.2700\n",
      "12                                70.0                  20.0000\n",
      "12                                70.0                 243.0429\n",
      "12                                70.0                 286.3813\n",
      "12                                70.0                  20.0000\n",
      "12                                70.0                  36.5186\n",
      "12                                70.0                  20.0000\n",
      "12                                70.0                  28.6898\n",
      "12                                70.0                  20.0000\n",
      "12                                70.0                  20.0000\n",
      "12                                70.0                  20.0000\n",
      "12                                70.0                  20.0000\n",
      "12                                70.0                  20.0000\n",
      "12                                70.0                 781.5681\n",
      "12                                70.0                  20.9006\n",
      "12                                70.0                 140.0000\n",
      "12                                70.0                 172.9739\n"
     ]
    },
    {
     "name": "stderr",
     "output_type": "stream",
     "text": [
      "/opt/conda/envs/python3/lib/python3.9/site-packages/scipy/stats/_morestats.py:1813: UserWarning: Input data for shapiro has range zero. The results may not be accurate.\n",
      "  warnings.warn(\"Input data for shapiro has range zero. The results \"\n",
      "/opt/conda/envs/python3/lib/python3.9/site-packages/pandas/core/frame.py:4441: SettingWithCopyWarning: \n",
      "A value is trying to be set on a copy of a slice from a DataFrame\n",
      "\n",
      "See the caveats in the documentation: https://pandas.pydata.org/pandas-docs/stable/user_guide/indexing.html#returning-a-view-versus-a-copy\n",
      "  return super().rename(\n"
     ]
    },
    {
     "data": {
      "text/html": [
       "<div>\n",
       "<style scoped>\n",
       "    .dataframe tbody tr th:only-of-type {\n",
       "        vertical-align: middle;\n",
       "    }\n",
       "\n",
       "    .dataframe tbody tr th {\n",
       "        vertical-align: top;\n",
       "    }\n",
       "\n",
       "    .dataframe thead th {\n",
       "        text-align: right;\n",
       "    }\n",
       "</style>\n",
       "<table border=\"1\" class=\"dataframe\">\n",
       "  <thead>\n",
       "    <tr style=\"text-align: right;\">\n",
       "      <th></th>\n",
       "      <th>ultimate_total_month_charge</th>\n",
       "      <th>surf_total_month_charge</th>\n",
       "    </tr>\n",
       "  </thead>\n",
       "  <tbody>\n",
       "    <tr>\n",
       "      <th>count</th>\n",
       "      <td>397373.000000</td>\n",
       "      <td>397373.000000</td>\n",
       "    </tr>\n",
       "    <tr>\n",
       "      <th>mean</th>\n",
       "      <td>77.012384</td>\n",
       "      <td>45.489400</td>\n",
       "    </tr>\n",
       "    <tr>\n",
       "      <th>std</th>\n",
       "      <td>42.340832</td>\n",
       "      <td>78.952607</td>\n",
       "    </tr>\n",
       "    <tr>\n",
       "      <th>min</th>\n",
       "      <td>70.000000</td>\n",
       "      <td>20.000000</td>\n",
       "    </tr>\n",
       "    <tr>\n",
       "      <th>25%</th>\n",
       "      <td>70.000000</td>\n",
       "      <td>20.000000</td>\n",
       "    </tr>\n",
       "    <tr>\n",
       "      <th>50%</th>\n",
       "      <td>70.000000</td>\n",
       "      <td>20.000000</td>\n",
       "    </tr>\n",
       "    <tr>\n",
       "      <th>75%</th>\n",
       "      <td>70.000000</td>\n",
       "      <td>25.719800</td>\n",
       "    </tr>\n",
       "    <tr>\n",
       "      <th>max</th>\n",
       "      <td>868.000000</td>\n",
       "      <td>1570.000000</td>\n",
       "    </tr>\n",
       "  </tbody>\n",
       "</table>\n",
       "</div>"
      ],
      "text/plain": [
       "       ultimate_total_month_charge  surf_total_month_charge\n",
       "count                397373.000000            397373.000000\n",
       "mean                     77.012384                45.489400\n",
       "std                      42.340832                78.952607\n",
       "min                      70.000000                20.000000\n",
       "25%                      70.000000                20.000000\n",
       "50%                      70.000000                20.000000\n",
       "75%                      70.000000                25.719800\n",
       "max                     868.000000              1570.000000"
      ]
     },
     "execution_count": 33,
     "metadata": {},
     "output_type": "execute_result"
    }
   ],
   "source": [
    "# Prueba las hipótesis\n",
    "merged_expends.info()\n",
    "def apply_shapiro(group):\n",
    "    # Realizar la prueba de Shapiro-Wilk sobre el grupo\n",
    "    estadistico, p_value = shapiro(group['total_month_charge'])\n",
    "    \n",
    "    # Devolver los resultados\n",
    "    return pd.Series({\n",
    "        'estadistico': estadistico,\n",
    "        'p_value': p_value\n",
    "    })\n",
    "shapiro_results = merged_expends.groupby(['plan', 'call_date']).apply(apply_shapiro)\n",
    "print(shapiro_results)\n",
    "print()\n",
    "merged_expends.groupby(['plan', 'call_date']).head()\n",
    "merging_ultimate = merged_expends[merged_expends['plan']=='ultimate']\n",
    "merging_ultimate.rename(columns={'total_month_charge': 'ultimate_total_month_charge'}, inplace=True)\n",
    "merging_surf = merged_expends[merged_expends['plan']=='surf']\n",
    "merging_surf.rename(columns={'total_month_charge': 'surf_total_month_charge'}, inplace=True)\n",
    "comparing_merged_expends = pd.merge(merging_ultimate, merging_surf, how='outer', on=['call_date'])\n",
    "comparing_merged_expends.drop(columns=['calls_count_x', 'calls_duration_x', 'message_count_x', 'mb_used_x', 'plan_x', 'plan_fee_x', 'calls_count_y', 'calls_duration_y', 'message_count_y', 'mb_used_y', 'plan_y', 'plan_fee_y'], inplace=True)\n",
    "comparing_merged_expends.info()\n",
    "print(comparing_merged_expends.head(20))\n",
    "mannwhitneyu(comparing_merged_expends['ultimate_total_month_charge'], comparing_merged_expends['surf_total_month_charge'])\n",
    "comparing_merged_expends.describe()"
   ]
  },
  {
   "cell_type": "markdown",
   "metadata": {
    "id": "tCcAruM60q1R"
   },
   "source": [
    "[Prueba la hipótesis de que el ingreso promedio de los usuarios del área NY-NJ es diferente al de los usuarios de otras regiones.]"
   ]
  },
  {
   "cell_type": "markdown",
   "metadata": {
    "id": "LsBgitqj0q1R"
   },
   "source": [
    "[Elabora las hipótesis nula y alternativa, escoge la prueba estadística, determina el valor alfa.]"
   ]
  },
  {
   "cell_type": "code",
   "execution_count": 34,
   "metadata": {
    "id": "Cqcj7wrZ0q1S"
   },
   "outputs": [
    {
     "name": "stdout",
     "output_type": "stream",
     "text": [
      "count    695.000000\n",
      "mean      54.288251\n",
      "std       74.212650\n",
      "min       20.000000\n",
      "25%       20.000000\n",
      "50%       20.480000\n",
      "75%       70.000000\n",
      "max      781.568100\n",
      "Name: total_month_charge, dtype: float64\n",
      "37730.3344\n",
      "\n",
      "count    3615.000000\n",
      "mean       53.378363\n",
      "std        65.535216\n",
      "min        20.000000\n",
      "25%        20.000000\n",
      "50%        23.312000\n",
      "75%        70.000000\n",
      "max      1570.000000\n",
      "Name: total_month_charge, dtype: float64\n",
      "192962.7812\n",
      "ShapiroResult(statistic=0.47948944568634033, pvalue=8.381586504666028e-41)\n",
      "ShapiroResult(statistic=0.45398372411727905, pvalue=0.0)\n"
     ]
    },
    {
     "data": {
      "text/plain": [
       "MannwhitneyuResult(statistic=1311855.0, pvalue=0.047895811490935226)"
      ]
     },
     "execution_count": 34,
     "metadata": {},
     "output_type": "execute_result"
    }
   ],
   "source": [
    "# Prueba las hipótesis\n",
    "city_map = dict(zip(users['user_id'], users['city']))\n",
    "merged_expends['city'] = merged_expends.index.get_level_values('user_id').map(city_map)\n",
    "len(merged_expends['city'].unique())\n",
    "ny_nj_merged_expends = merged_expends[merged_expends['city']=='New York-Newark-Jersey City, NY-NJ-PA MSA']\n",
    "print(ny_nj_merged_expends['total_month_charge'].describe())\n",
    "print(ny_nj_merged_expends['total_month_charge'].sum())\n",
    "print()\n",
    "not_ny_nj_merged_expends = merged_expends[merged_expends['city']!='New York-Newark-Jersey City, NY-NJ-PA MSA']\n",
    "print(not_ny_nj_merged_expends['total_month_charge'].describe())\n",
    "print(not_ny_nj_merged_expends['total_month_charge'].sum())\n",
    "not_ny_nj_merged_expends\n",
    "print(shapiro(ny_nj_merged_expends['total_month_charge']))#aplicamos una prueba de normalidad para saber que tipo de prueba de hipotesis usar\n",
    "print(shapiro(not_ny_nj_merged_expends['total_month_charge']))\n",
    "mannwhitneyu(not_ny_nj_merged_expends['total_month_charge'], ny_nj_merged_expends['total_month_charge'])"
   ]
  },
  {
   "cell_type": "markdown",
   "metadata": {},
   "source": [
    "<div class=\"alert alert-block alert-success\">\n",
    "<b>Comentario revisor</b> <a class=\"tocSkip\"></a>\n",
    "\n",
    "Gran trabajo con el desarrollo de las pruebas de hipótesis. "
   ]
  },
  {
   "cell_type": "markdown",
   "metadata": {
    "id": "bbTR8UQO0q1T"
   },
   "source": [
    "## Conclusión general\n",
    "\n",
    "[En esta sección final, enumera tus conclusiones importantes. Asegúrate de que estas abarquen todas las decisiones (suposiciones) importantes que adoptaste y que determinaron la forma elegida para procesar y analizar los datos.]\n",
    "El plan Ultimate genera más ganacias por cada usuario que el plan surf, evidenciado por una prueba de hipotesis estadística no paramétrica con una p < 0.05.\n",
    "Los usuarios que encuentran en el área NY-NJ generan por cada usuario menos ganancias que en el resto de la población. Ésto es evidenciado por una prueba de hipotesis no paramétrica con una significancia estadística de una p < 0.05."
   ]
  },
  {
   "cell_type": "markdown",
   "metadata": {},
   "source": [
    "<div class=\"alert alert-block alert-warning\">\n",
    "<b>Comentario revisor</b> <a class=\"tocSkip\"></a>\n",
    "\n",
    "Robert, en general creo que hiciste un muy buen trabajo con el proyecto, pudiste limpiar y trabajar las bases de datos de beuna manera. Además, el análisis explorario de datos fue completo al mostrar resultados relevantes que pueden ser de mucha utilidad para la toma de decisiones y desarrollaste las pruebas de hipótesis de una buena manera. No obstante, recuerda que siempre podemos mejorar y te menciono algunos puntos que debes considerar:\n",
    "\n",
    "* Verificar la tranformación a gb\n",
    "\n",
    "*  Considerar eliminar registros atipicos que puedan sesgar nuestros resultados. \n",
    "    \n",
    "\n",
    "</div>"
   ]
  }
 ],
 "metadata": {
  "ExecuteTimeLog": [
   {
    "duration": 828,
    "start_time": "2021-11-16T09:21:11.304Z"
   },
   {
    "duration": 893,
    "start_time": "2021-11-16T09:21:17.728Z"
   },
   {
    "duration": 1150,
    "start_time": "2021-11-16T09:21:29.568Z"
   },
   {
    "duration": 3,
    "start_time": "2021-11-16T09:24:14.495Z"
   },
   {
    "duration": 120,
    "start_time": "2021-11-16T09:24:46.630Z"
   },
   {
    "duration": 3,
    "start_time": "2021-11-16T09:28:27.882Z"
   },
   {
    "duration": 4,
    "start_time": "2021-11-16T09:29:54.281Z"
   },
   {
    "duration": 3,
    "start_time": "2021-11-16T09:30:45.936Z"
   },
   {
    "duration": 4,
    "start_time": "2021-11-16T09:31:06.300Z"
   },
   {
    "duration": 113,
    "start_time": "2021-11-16T09:31:37.208Z"
   },
   {
    "duration": 143,
    "start_time": "2021-11-16T09:31:48.656Z"
   },
   {
    "duration": 98,
    "start_time": "2021-11-16T09:31:55.678Z"
   },
   {
    "duration": 3,
    "start_time": "2021-11-16T09:32:08.535Z"
   },
   {
    "duration": 111,
    "start_time": "2021-11-16T09:32:10.120Z"
   },
   {
    "duration": 3,
    "start_time": "2021-11-16T09:32:15.732Z"
   },
   {
    "duration": 4,
    "start_time": "2021-11-16T09:32:29.423Z"
   },
   {
    "duration": 3,
    "start_time": "2021-11-16T10:03:03.074Z"
   },
   {
    "duration": 3,
    "start_time": "2021-11-16T10:10:01.288Z"
   },
   {
    "duration": 3,
    "start_time": "2021-11-16T10:10:46.923Z"
   },
   {
    "duration": 121,
    "start_time": "2021-11-16T10:37:46.494Z"
   },
   {
    "duration": 125,
    "start_time": "2021-11-16T10:38:20.632Z"
   },
   {
    "duration": 112,
    "start_time": "2021-11-16T10:46:53.001Z"
   },
   {
    "duration": 110,
    "start_time": "2021-11-16T10:48:25.775Z"
   },
   {
    "duration": 3,
    "start_time": "2021-11-16T10:50:18.720Z"
   },
   {
    "duration": 4,
    "start_time": "2021-11-16T10:50:37.649Z"
   },
   {
    "duration": 2,
    "start_time": "2021-11-16T10:50:51.884Z"
   },
   {
    "duration": 3,
    "start_time": "2021-11-16T10:51:56.237Z"
   },
   {
    "duration": 101,
    "start_time": "2021-11-16T10:53:13.791Z"
   },
   {
    "duration": 3,
    "start_time": "2021-11-16T10:55:59.186Z"
   },
   {
    "duration": 3,
    "start_time": "2021-11-16T10:56:10.751Z"
   },
   {
    "duration": 3,
    "start_time": "2021-11-16T10:56:49.038Z"
   },
   {
    "duration": 3,
    "start_time": "2021-11-16T10:56:49.174Z"
   },
   {
    "duration": 4,
    "start_time": "2021-11-16T10:56:49.414Z"
   },
   {
    "duration": 3,
    "start_time": "2021-11-16T10:56:49.680Z"
   },
   {
    "duration": 3,
    "start_time": "2021-11-16T10:56:50.370Z"
   },
   {
    "duration": 114,
    "start_time": "2021-11-16T10:59:34.518Z"
   },
   {
    "duration": 3,
    "start_time": "2021-11-16T11:01:41.201Z"
   },
   {
    "duration": 116,
    "start_time": "2021-11-16T11:01:48.754Z"
   },
   {
    "duration": 3,
    "start_time": "2021-11-16T11:02:16.685Z"
   },
   {
    "duration": 3,
    "start_time": "2021-11-16T11:02:19.479Z"
   },
   {
    "duration": 3,
    "start_time": "2021-11-16T11:02:47.067Z"
   },
   {
    "duration": 3,
    "start_time": "2021-11-16T11:02:49.353Z"
   },
   {
    "duration": 3,
    "start_time": "2021-11-16T11:03:07.835Z"
   },
   {
    "duration": 3,
    "start_time": "2021-11-16T11:03:07.953Z"
   },
   {
    "duration": 112,
    "start_time": "2021-11-16T11:07:52.072Z"
   },
   {
    "duration": 187,
    "start_time": "2021-11-16T11:09:23.468Z"
   },
   {
    "duration": 4,
    "start_time": "2021-11-16T11:10:01.455Z"
   },
   {
    "duration": 3,
    "start_time": "2021-11-16T11:10:05.069Z"
   },
   {
    "duration": 4,
    "start_time": "2021-11-16T11:10:13.376Z"
   },
   {
    "duration": 3,
    "start_time": "2021-11-16T11:10:14.434Z"
   },
   {
    "duration": 3,
    "start_time": "2021-11-16T11:10:22.853Z"
   },
   {
    "duration": 4,
    "start_time": "2021-11-16T11:27:29.279Z"
   },
   {
    "duration": 4,
    "start_time": "2021-11-16T11:29:08.919Z"
   },
   {
    "duration": 118,
    "start_time": "2021-11-16T11:29:46.703Z"
   },
   {
    "duration": 437,
    "start_time": "2021-11-16T11:36:02.181Z"
   },
   {
    "duration": 157,
    "start_time": "2021-11-16T11:36:14.388Z"
   },
   {
    "duration": 207,
    "start_time": "2021-11-16T11:47:15.898Z"
   },
   {
    "duration": 3,
    "start_time": "2021-11-16T11:53:52.092Z"
   },
   {
    "duration": 3,
    "start_time": "2021-11-16T11:53:52.236Z"
   },
   {
    "duration": 3,
    "start_time": "2021-11-16T11:59:12.005Z"
   },
   {
    "duration": 112,
    "start_time": "2021-11-16T12:00:33.446Z"
   },
   {
    "duration": 3,
    "start_time": "2021-11-16T12:02:14.453Z"
   },
   {
    "duration": 3,
    "start_time": "2021-11-16T12:02:39.512Z"
   },
   {
    "duration": 106,
    "start_time": "2021-11-16T12:03:03.460Z"
   },
   {
    "duration": 3,
    "start_time": "2021-11-17T20:37:21.139Z"
   },
   {
    "duration": 3,
    "start_time": "2021-11-17T20:37:22.229Z"
   },
   {
    "duration": 3,
    "start_time": "2021-11-17T20:38:38.806Z"
   },
   {
    "duration": 3,
    "start_time": "2021-11-17T20:38:41.958Z"
   },
   {
    "duration": 3,
    "start_time": "2021-11-17T20:43:46.551Z"
   },
   {
    "duration": 4,
    "start_time": "2021-11-17T20:58:21.835Z"
   },
   {
    "duration": 3,
    "start_time": "2021-11-17T20:59:21.872Z"
   },
   {
    "duration": 4,
    "start_time": "2021-11-17T20:59:45.352Z"
   },
   {
    "duration": 4,
    "start_time": "2021-11-17T20:59:49.646Z"
   },
   {
    "duration": 159,
    "start_time": "2021-11-17T21:02:26.949Z"
   },
   {
    "duration": 3,
    "start_time": "2021-11-17T21:03:53.461Z"
   },
   {
    "duration": 3,
    "start_time": "2021-11-17T21:03:53.694Z"
   },
   {
    "duration": 3,
    "start_time": "2021-11-17T21:05:28.145Z"
   },
   {
    "duration": 116,
    "start_time": "2021-11-17T21:05:57.787Z"
   },
   {
    "duration": 3,
    "start_time": "2021-11-17T21:06:37.993Z"
   },
   {
    "duration": 3,
    "start_time": "2021-11-17T21:06:38.261Z"
   },
   {
    "duration": 3,
    "start_time": "2021-11-17T21:11:54.358Z"
   },
   {
    "duration": 3,
    "start_time": "2021-11-17T21:12:43.846Z"
   },
   {
    "duration": 4,
    "start_time": "2021-11-17T21:13:08.773Z"
   },
   {
    "duration": 3,
    "start_time": "2021-11-17T21:14:44.441Z"
   },
   {
    "duration": 3,
    "start_time": "2021-11-17T21:15:42.059Z"
   },
   {
    "duration": 4,
    "start_time": "2021-11-17T21:15:51.995Z"
   },
   {
    "duration": 3,
    "start_time": "2021-11-17T21:15:53.923Z"
   },
   {
    "duration": 3,
    "start_time": "2021-11-17T21:15:55.282Z"
   },
   {
    "duration": 3,
    "start_time": "2021-11-17T21:16:28.492Z"
   },
   {
    "duration": 3,
    "start_time": "2021-11-17T21:16:32.603Z"
   },
   {
    "duration": 3,
    "start_time": "2021-11-17T21:17:06.941Z"
   },
   {
    "duration": 98,
    "start_time": "2021-11-17T21:18:05.733Z"
   },
   {
    "duration": 4,
    "start_time": "2021-11-17T21:21:35.255Z"
   },
   {
    "duration": 3,
    "start_time": "2021-11-17T21:21:37.804Z"
   },
   {
    "duration": 4,
    "start_time": "2021-11-17T21:23:06.071Z"
   },
   {
    "duration": 3,
    "start_time": "2021-11-17T21:23:24.799Z"
   },
   {
    "duration": 3,
    "start_time": "2021-11-17T21:23:32.591Z"
   },
   {
    "duration": 98,
    "start_time": "2021-11-17T21:28:31.559Z"
   },
   {
    "duration": 3,
    "start_time": "2021-11-17T21:28:45.448Z"
   },
   {
    "duration": 3,
    "start_time": "2021-11-17T21:29:17.303Z"
   },
   {
    "duration": 3,
    "start_time": "2021-11-17T21:29:29.617Z"
   },
   {
    "duration": 3,
    "start_time": "2021-11-17T21:29:32.681Z"
   },
   {
    "duration": 3,
    "start_time": "2021-11-17T21:36:11.474Z"
   },
   {
    "duration": 3,
    "start_time": "2021-11-17T21:36:14.791Z"
   },
   {
    "duration": 3,
    "start_time": "2021-11-17T21:36:53.943Z"
   },
   {
    "duration": 3,
    "start_time": "2021-11-17T21:36:56.165Z"
   },
   {
    "duration": 4,
    "start_time": "2021-11-17T21:37:16.590Z"
   },
   {
    "duration": 3,
    "start_time": "2021-11-17T21:37:22.702Z"
   },
   {
    "duration": 4,
    "start_time": "2021-11-17T21:38:03.479Z"
   },
   {
    "duration": 3,
    "start_time": "2021-11-17T21:38:08.601Z"
   },
   {
    "duration": 3,
    "start_time": "2021-11-17T21:38:12.928Z"
   },
   {
    "duration": 3,
    "start_time": "2021-11-17T21:38:48.896Z"
   },
   {
    "duration": 2,
    "start_time": "2021-11-17T21:38:49.171Z"
   },
   {
    "duration": 4,
    "start_time": "2021-11-17T21:39:57.889Z"
   },
   {
    "duration": 3,
    "start_time": "2021-11-17T21:39:58.057Z"
   },
   {
    "duration": 3,
    "start_time": "2021-11-17T21:41:20.108Z"
   },
   {
    "duration": 3,
    "start_time": "2021-11-17T21:41:20.629Z"
   },
   {
    "duration": 3,
    "start_time": "2021-11-17T21:42:49.136Z"
   },
   {
    "duration": 3,
    "start_time": "2021-11-17T21:43:15.137Z"
   },
   {
    "duration": 4,
    "start_time": "2021-11-17T21:43:16.766Z"
   },
   {
    "duration": 4,
    "start_time": "2021-11-17T21:43:31.711Z"
   },
   {
    "duration": 3,
    "start_time": "2021-11-17T21:43:36.312Z"
   },
   {
    "duration": 4,
    "start_time": "2021-11-17T21:45:08.825Z"
   },
   {
    "duration": 4,
    "start_time": "2021-11-17T21:45:10.119Z"
   },
   {
    "duration": 4,
    "start_time": "2021-11-17T21:45:13.748Z"
   },
   {
    "duration": 3,
    "start_time": "2021-11-17T21:45:22.219Z"
   },
   {
    "duration": 3,
    "start_time": "2021-11-17T21:45:33.412Z"
   },
   {
    "duration": 2,
    "start_time": "2021-11-17T21:46:01.885Z"
   },
   {
    "duration": 3,
    "start_time": "2021-11-17T21:46:03.628Z"
   },
   {
    "duration": 107,
    "start_time": "2021-11-17T21:47:32.512Z"
   },
   {
    "duration": 103,
    "start_time": "2021-11-17T21:50:36.243Z"
   },
   {
    "duration": 3,
    "start_time": "2021-11-18T06:28:31.440Z"
   },
   {
    "duration": 3,
    "start_time": "2021-11-18T06:29:00.168Z"
   },
   {
    "duration": 3,
    "start_time": "2021-11-18T06:31:27.008Z"
   },
   {
    "duration": 2,
    "start_time": "2021-11-18T06:35:34.288Z"
   },
   {
    "duration": 2,
    "start_time": "2021-11-18T06:38:04.527Z"
   },
   {
    "duration": 159,
    "start_time": "2024-11-24T16:41:03.753Z"
   },
   {
    "duration": 2578,
    "start_time": "2024-11-24T16:41:23.204Z"
   },
   {
    "duration": 450,
    "start_time": "2024-11-24T16:41:28.314Z"
   },
   {
    "duration": 213,
    "start_time": "2024-11-24T16:42:18.227Z"
   },
   {
    "duration": 9,
    "start_time": "2024-11-24T16:45:33.400Z"
   },
   {
    "duration": 229,
    "start_time": "2024-11-24T16:46:47.930Z"
   },
   {
    "duration": 25,
    "start_time": "2024-11-24T16:48:50.315Z"
   },
   {
    "duration": 10,
    "start_time": "2024-11-24T16:49:09.962Z"
   },
   {
    "duration": 19,
    "start_time": "2024-11-24T16:59:50.135Z"
   },
   {
    "duration": 9,
    "start_time": "2024-11-24T17:00:50.896Z"
   },
   {
    "duration": 8,
    "start_time": "2024-11-24T17:04:42.071Z"
   },
   {
    "duration": 4,
    "start_time": "2024-11-24T17:15:22.356Z"
   },
   {
    "duration": 7,
    "start_time": "2024-11-24T17:15:39.415Z"
   },
   {
    "duration": 9,
    "start_time": "2024-11-24T17:15:47.705Z"
   },
   {
    "duration": 11,
    "start_time": "2024-11-24T17:16:09.016Z"
   },
   {
    "duration": 13,
    "start_time": "2024-11-24T17:16:43.392Z"
   },
   {
    "duration": 6,
    "start_time": "2024-11-24T17:19:25.075Z"
   },
   {
    "duration": 6,
    "start_time": "2024-11-24T17:20:18.934Z"
   },
   {
    "duration": 7,
    "start_time": "2024-11-24T17:20:33.674Z"
   },
   {
    "duration": 14,
    "start_time": "2024-11-24T17:21:53.046Z"
   },
   {
    "duration": 12,
    "start_time": "2024-11-24T17:21:59.091Z"
   },
   {
    "duration": 15,
    "start_time": "2024-11-24T17:23:09.506Z"
   },
   {
    "duration": 7,
    "start_time": "2024-11-24T17:25:56.943Z"
   },
   {
    "duration": 19,
    "start_time": "2024-11-24T17:30:34.072Z"
   },
   {
    "duration": 30,
    "start_time": "2024-11-24T17:30:49.096Z"
   },
   {
    "duration": 14,
    "start_time": "2024-11-24T17:32:18.157Z"
   },
   {
    "duration": 16,
    "start_time": "2024-11-24T17:34:02.190Z"
   },
   {
    "duration": 7,
    "start_time": "2024-11-24T17:34:18.769Z"
   },
   {
    "duration": 19,
    "start_time": "2024-11-24T17:36:35.202Z"
   },
   {
    "duration": 16,
    "start_time": "2024-11-24T17:36:48.589Z"
   },
   {
    "duration": 21,
    "start_time": "2024-11-24T17:36:57.771Z"
   },
   {
    "duration": 17,
    "start_time": "2024-11-24T17:37:02.167Z"
   },
   {
    "duration": 18,
    "start_time": "2024-11-24T17:37:21.602Z"
   },
   {
    "duration": 11,
    "start_time": "2024-11-24T17:37:47.389Z"
   },
   {
    "duration": 33,
    "start_time": "2024-11-24T17:39:58.612Z"
   },
   {
    "duration": 32,
    "start_time": "2024-11-24T17:40:04.906Z"
   },
   {
    "duration": 6,
    "start_time": "2024-11-24T17:41:54.782Z"
   },
   {
    "duration": 5,
    "start_time": "2024-11-24T17:42:09.324Z"
   },
   {
    "duration": 4,
    "start_time": "2024-11-24T17:42:11.707Z"
   },
   {
    "duration": 7,
    "start_time": "2024-11-24T17:42:37.407Z"
   },
   {
    "duration": 3,
    "start_time": "2024-11-24T17:44:12.918Z"
   },
   {
    "duration": 3,
    "start_time": "2024-11-24T17:44:47.662Z"
   },
   {
    "duration": 3,
    "start_time": "2024-11-24T17:45:01.483Z"
   },
   {
    "duration": 10,
    "start_time": "2024-11-24T17:49:24.095Z"
   },
   {
    "duration": 20,
    "start_time": "2024-11-24T17:53:20.892Z"
   },
   {
    "duration": 22,
    "start_time": "2024-11-24T18:01:24.963Z"
   },
   {
    "duration": 29,
    "start_time": "2024-11-24T18:03:00.648Z"
   },
   {
    "duration": 28,
    "start_time": "2024-11-24T18:03:05.393Z"
   },
   {
    "duration": 29,
    "start_time": "2024-11-24T18:03:15.310Z"
   },
   {
    "duration": 21,
    "start_time": "2024-11-24T18:03:19.163Z"
   },
   {
    "duration": 8,
    "start_time": "2024-11-24T18:06:36.035Z"
   },
   {
    "duration": 10,
    "start_time": "2024-11-24T18:07:35.977Z"
   },
   {
    "duration": 15,
    "start_time": "2024-11-24T18:09:26.206Z"
   },
   {
    "duration": 11,
    "start_time": "2024-11-24T18:10:51.565Z"
   },
   {
    "duration": 25,
    "start_time": "2024-11-24T18:13:04.652Z"
   },
   {
    "duration": 4,
    "start_time": "2024-11-24T18:13:14.895Z"
   },
   {
    "duration": 15,
    "start_time": "2024-11-24T18:13:19.858Z"
   },
   {
    "duration": 36,
    "start_time": "2024-11-24T18:23:31.230Z"
   },
   {
    "duration": 37,
    "start_time": "2024-11-24T18:23:43.800Z"
   },
   {
    "duration": 3,
    "start_time": "2024-11-24T18:24:59.651Z"
   },
   {
    "duration": 20,
    "start_time": "2024-11-24T18:25:15.785Z"
   },
   {
    "duration": 25,
    "start_time": "2024-11-24T18:29:19.486Z"
   },
   {
    "duration": 27,
    "start_time": "2024-11-24T18:29:55.254Z"
   },
   {
    "duration": 14,
    "start_time": "2024-11-24T18:48:03.357Z"
   },
   {
    "duration": 19,
    "start_time": "2024-11-24T18:52:51.625Z"
   },
   {
    "duration": 157,
    "start_time": "2024-11-24T18:56:45.352Z"
   },
   {
    "duration": 19,
    "start_time": "2024-11-24T18:57:24.343Z"
   },
   {
    "duration": 41,
    "start_time": "2024-11-24T18:57:39.676Z"
   },
   {
    "duration": 33,
    "start_time": "2024-11-24T18:59:13.184Z"
   },
   {
    "duration": 17,
    "start_time": "2024-11-24T18:59:18.899Z"
   },
   {
    "duration": 19,
    "start_time": "2024-11-24T18:59:40.162Z"
   },
   {
    "duration": 43,
    "start_time": "2024-11-24T19:02:21.999Z"
   },
   {
    "duration": 43,
    "start_time": "2024-11-24T19:03:01.689Z"
   },
   {
    "duration": 20,
    "start_time": "2024-11-24T19:03:11.420Z"
   },
   {
    "duration": 21,
    "start_time": "2024-11-24T19:03:26.284Z"
   },
   {
    "duration": 9,
    "start_time": "2024-11-24T19:11:38.652Z"
   },
   {
    "duration": 157,
    "start_time": "2024-11-25T00:50:49.662Z"
   },
   {
    "duration": 15,
    "start_time": "2024-11-25T00:52:43.235Z"
   },
   {
    "duration": 2796,
    "start_time": "2024-11-25T00:53:29.907Z"
   },
   {
    "duration": 248,
    "start_time": "2024-11-25T00:53:32.706Z"
   },
   {
    "duration": 12,
    "start_time": "2024-11-25T00:53:32.956Z"
   },
   {
    "duration": 11,
    "start_time": "2024-11-25T00:53:32.971Z"
   },
   {
    "duration": 19,
    "start_time": "2024-11-25T00:53:32.985Z"
   },
   {
    "duration": 10,
    "start_time": "2024-11-25T00:53:33.006Z"
   },
   {
    "duration": 8,
    "start_time": "2024-11-25T00:53:33.017Z"
   },
   {
    "duration": 43,
    "start_time": "2024-11-25T00:53:33.027Z"
   },
   {
    "duration": 16,
    "start_time": "2024-11-25T00:53:33.073Z"
   },
   {
    "duration": 8,
    "start_time": "2024-11-25T00:53:33.091Z"
   },
   {
    "duration": 26,
    "start_time": "2024-11-25T00:53:33.100Z"
   },
   {
    "duration": 15,
    "start_time": "2024-11-25T00:53:33.128Z"
   },
   {
    "duration": 7,
    "start_time": "2024-11-25T00:53:33.170Z"
   },
   {
    "duration": 26,
    "start_time": "2024-11-25T00:53:33.182Z"
   },
   {
    "duration": 15,
    "start_time": "2024-11-25T00:53:33.210Z"
   },
   {
    "duration": 12,
    "start_time": "2024-11-25T00:53:33.227Z"
   },
   {
    "duration": 45,
    "start_time": "2024-11-25T00:53:33.241Z"
   },
   {
    "duration": 5,
    "start_time": "2024-11-25T00:53:33.287Z"
   },
   {
    "duration": 34,
    "start_time": "2024-11-25T00:53:33.294Z"
   },
   {
    "duration": 51,
    "start_time": "2024-11-25T00:53:33.330Z"
   },
   {
    "duration": 27,
    "start_time": "2024-11-25T00:53:33.382Z"
   },
   {
    "duration": 25,
    "start_time": "2024-11-25T00:53:33.411Z"
   },
   {
    "duration": 45,
    "start_time": "2024-11-25T00:53:33.438Z"
   },
   {
    "duration": 656,
    "start_time": "2024-11-25T00:53:33.485Z"
   },
   {
    "duration": 0,
    "start_time": "2024-11-25T00:53:34.143Z"
   },
   {
    "duration": 0,
    "start_time": "2024-11-25T00:53:34.144Z"
   },
   {
    "duration": 0,
    "start_time": "2024-11-25T00:53:34.146Z"
   },
   {
    "duration": 0,
    "start_time": "2024-11-25T00:53:34.148Z"
   },
   {
    "duration": 0,
    "start_time": "2024-11-25T00:53:34.149Z"
   },
   {
    "duration": 0,
    "start_time": "2024-11-25T00:53:34.150Z"
   },
   {
    "duration": 0,
    "start_time": "2024-11-25T00:53:34.152Z"
   },
   {
    "duration": 0,
    "start_time": "2024-11-25T00:53:34.153Z"
   },
   {
    "duration": 0,
    "start_time": "2024-11-25T00:53:34.154Z"
   },
   {
    "duration": 822,
    "start_time": "2024-11-25T01:00:51.739Z"
   },
   {
    "duration": 151,
    "start_time": "2024-11-25T01:00:52.563Z"
   },
   {
    "duration": 9,
    "start_time": "2024-11-25T01:00:52.716Z"
   },
   {
    "duration": 9,
    "start_time": "2024-11-25T01:00:52.727Z"
   },
   {
    "duration": 32,
    "start_time": "2024-11-25T01:00:52.739Z"
   },
   {
    "duration": 7,
    "start_time": "2024-11-25T01:00:52.773Z"
   },
   {
    "duration": 7,
    "start_time": "2024-11-25T01:00:52.782Z"
   },
   {
    "duration": 12,
    "start_time": "2024-11-25T01:00:52.791Z"
   },
   {
    "duration": 14,
    "start_time": "2024-11-25T01:00:52.805Z"
   },
   {
    "duration": 6,
    "start_time": "2024-11-25T01:00:52.821Z"
   },
   {
    "duration": 61,
    "start_time": "2024-11-25T01:00:52.829Z"
   },
   {
    "duration": 11,
    "start_time": "2024-11-25T01:00:52.892Z"
   },
   {
    "duration": 7,
    "start_time": "2024-11-25T01:00:52.905Z"
   },
   {
    "duration": 16,
    "start_time": "2024-11-25T01:00:52.916Z"
   },
   {
    "duration": 40,
    "start_time": "2024-11-25T01:00:52.934Z"
   },
   {
    "duration": 8,
    "start_time": "2024-11-25T01:00:52.975Z"
   },
   {
    "duration": 20,
    "start_time": "2024-11-25T01:00:52.986Z"
   },
   {
    "duration": 4,
    "start_time": "2024-11-25T01:00:53.007Z"
   },
   {
    "duration": 31,
    "start_time": "2024-11-25T01:00:53.012Z"
   },
   {
    "duration": 42,
    "start_time": "2024-11-25T01:00:53.045Z"
   },
   {
    "duration": 23,
    "start_time": "2024-11-25T01:00:53.089Z"
   },
   {
    "duration": 23,
    "start_time": "2024-11-25T01:00:53.114Z"
   },
   {
    "duration": 45,
    "start_time": "2024-11-25T01:00:53.139Z"
   },
   {
    "duration": 695,
    "start_time": "2024-11-25T01:00:53.186Z"
   },
   {
    "duration": 0,
    "start_time": "2024-11-25T01:00:53.883Z"
   },
   {
    "duration": 0,
    "start_time": "2024-11-25T01:00:53.884Z"
   },
   {
    "duration": 0,
    "start_time": "2024-11-25T01:00:53.885Z"
   },
   {
    "duration": 0,
    "start_time": "2024-11-25T01:00:53.886Z"
   },
   {
    "duration": 0,
    "start_time": "2024-11-25T01:00:53.887Z"
   },
   {
    "duration": 0,
    "start_time": "2024-11-25T01:00:53.888Z"
   },
   {
    "duration": 0,
    "start_time": "2024-11-25T01:00:53.889Z"
   },
   {
    "duration": 0,
    "start_time": "2024-11-25T01:00:53.890Z"
   },
   {
    "duration": 0,
    "start_time": "2024-11-25T01:00:53.890Z"
   },
   {
    "duration": 14,
    "start_time": "2024-11-25T01:07:32.031Z"
   },
   {
    "duration": 17,
    "start_time": "2024-11-25T01:07:52.768Z"
   },
   {
    "duration": 18,
    "start_time": "2024-11-25T01:11:55.815Z"
   },
   {
    "duration": 17,
    "start_time": "2024-11-25T01:12:04.381Z"
   },
   {
    "duration": 17,
    "start_time": "2024-11-25T01:12:29.054Z"
   },
   {
    "duration": 10,
    "start_time": "2024-11-25T01:15:29.199Z"
   },
   {
    "duration": 5,
    "start_time": "2024-11-25T01:15:33.018Z"
   },
   {
    "duration": 5,
    "start_time": "2024-11-25T01:15:41.602Z"
   },
   {
    "duration": 7,
    "start_time": "2024-11-25T01:15:55.096Z"
   },
   {
    "duration": 14,
    "start_time": "2024-11-25T01:16:10.520Z"
   },
   {
    "duration": 15,
    "start_time": "2024-11-25T01:16:47.362Z"
   },
   {
    "duration": 18,
    "start_time": "2024-11-25T01:16:56.788Z"
   },
   {
    "duration": 14,
    "start_time": "2024-11-25T01:17:45.535Z"
   },
   {
    "duration": 13,
    "start_time": "2024-11-25T01:17:54.033Z"
   },
   {
    "duration": 14,
    "start_time": "2024-11-25T01:21:23.373Z"
   },
   {
    "duration": 15,
    "start_time": "2024-11-25T01:21:33.571Z"
   },
   {
    "duration": 22,
    "start_time": "2024-11-25T01:22:02.335Z"
   },
   {
    "duration": 19,
    "start_time": "2024-11-25T01:22:13.271Z"
   },
   {
    "duration": 15,
    "start_time": "2024-11-25T01:22:33.632Z"
   },
   {
    "duration": 14,
    "start_time": "2024-11-25T01:22:41.156Z"
   },
   {
    "duration": 16,
    "start_time": "2024-11-25T01:22:46.403Z"
   },
   {
    "duration": 15,
    "start_time": "2024-11-25T01:22:55.911Z"
   },
   {
    "duration": 138,
    "start_time": "2024-11-25T01:23:04.626Z"
   },
   {
    "duration": 12,
    "start_time": "2024-11-25T01:23:09.142Z"
   },
   {
    "duration": 12,
    "start_time": "2024-11-25T01:23:12.500Z"
   },
   {
    "duration": 12,
    "start_time": "2024-11-25T01:23:16.671Z"
   },
   {
    "duration": 12,
    "start_time": "2024-11-25T01:23:20.974Z"
   },
   {
    "duration": 5,
    "start_time": "2024-11-25T01:23:37.732Z"
   },
   {
    "duration": 13,
    "start_time": "2024-11-25T01:23:40.684Z"
   },
   {
    "duration": 19,
    "start_time": "2024-11-25T01:30:32.823Z"
   },
   {
    "duration": 15,
    "start_time": "2024-11-25T01:30:55.368Z"
   },
   {
    "duration": 21,
    "start_time": "2024-11-25T01:31:43.487Z"
   },
   {
    "duration": 21,
    "start_time": "2024-11-25T01:31:52.597Z"
   },
   {
    "duration": 4,
    "start_time": "2024-11-25T01:33:45.789Z"
   },
   {
    "duration": 21,
    "start_time": "2024-11-25T01:33:54.428Z"
   },
   {
    "duration": 24,
    "start_time": "2024-11-25T01:38:08.717Z"
   },
   {
    "duration": 32,
    "start_time": "2024-11-25T01:38:17.176Z"
   },
   {
    "duration": 17,
    "start_time": "2024-11-25T01:38:25.024Z"
   },
   {
    "duration": 156,
    "start_time": "2024-11-25T02:08:00.115Z"
   },
   {
    "duration": 2401,
    "start_time": "2024-11-25T02:08:17.758Z"
   },
   {
    "duration": 213,
    "start_time": "2024-11-25T02:08:20.161Z"
   },
   {
    "duration": 10,
    "start_time": "2024-11-25T02:08:20.375Z"
   },
   {
    "duration": 9,
    "start_time": "2024-11-25T02:08:20.386Z"
   },
   {
    "duration": 18,
    "start_time": "2024-11-25T02:08:20.398Z"
   },
   {
    "duration": 8,
    "start_time": "2024-11-25T02:08:20.418Z"
   },
   {
    "duration": 8,
    "start_time": "2024-11-25T02:08:20.427Z"
   },
   {
    "duration": 11,
    "start_time": "2024-11-25T02:08:20.437Z"
   },
   {
    "duration": 14,
    "start_time": "2024-11-25T02:08:20.450Z"
   },
   {
    "duration": 6,
    "start_time": "2024-11-25T02:08:20.466Z"
   },
   {
    "duration": 24,
    "start_time": "2024-11-25T02:08:20.506Z"
   },
   {
    "duration": 10,
    "start_time": "2024-11-25T02:08:20.532Z"
   },
   {
    "duration": 7,
    "start_time": "2024-11-25T02:08:20.544Z"
   },
   {
    "duration": 16,
    "start_time": "2024-11-25T02:08:20.555Z"
   },
   {
    "duration": 38,
    "start_time": "2024-11-25T02:08:20.572Z"
   },
   {
    "duration": 8,
    "start_time": "2024-11-25T02:08:20.612Z"
   },
   {
    "duration": 19,
    "start_time": "2024-11-25T02:08:20.622Z"
   },
   {
    "duration": 3,
    "start_time": "2024-11-25T02:08:20.643Z"
   },
   {
    "duration": 32,
    "start_time": "2024-11-25T02:08:20.647Z"
   },
   {
    "duration": 18,
    "start_time": "2024-11-25T02:08:20.705Z"
   },
   {
    "duration": 23,
    "start_time": "2024-11-25T02:08:20.725Z"
   },
   {
    "duration": 23,
    "start_time": "2024-11-25T02:08:20.750Z"
   },
   {
    "duration": 43,
    "start_time": "2024-11-25T02:08:20.774Z"
   },
   {
    "duration": 20,
    "start_time": "2024-11-25T02:08:20.819Z"
   },
   {
    "duration": 2,
    "start_time": "2024-11-25T02:08:20.840Z"
   },
   {
    "duration": 3,
    "start_time": "2024-11-25T02:08:20.843Z"
   },
   {
    "duration": 2,
    "start_time": "2024-11-25T02:08:20.847Z"
   },
   {
    "duration": 2,
    "start_time": "2024-11-25T02:08:20.851Z"
   },
   {
    "duration": 2,
    "start_time": "2024-11-25T02:08:20.855Z"
   },
   {
    "duration": 3,
    "start_time": "2024-11-25T02:08:20.859Z"
   },
   {
    "duration": 2,
    "start_time": "2024-11-25T02:08:20.864Z"
   },
   {
    "duration": 2,
    "start_time": "2024-11-25T02:08:20.905Z"
   },
   {
    "duration": 2,
    "start_time": "2024-11-25T02:08:20.909Z"
   },
   {
    "duration": 20,
    "start_time": "2024-11-25T02:08:49.536Z"
   },
   {
    "duration": 750,
    "start_time": "2024-11-25T02:09:54.174Z"
   },
   {
    "duration": 153,
    "start_time": "2024-11-25T02:09:54.927Z"
   },
   {
    "duration": 9,
    "start_time": "2024-11-25T02:09:55.081Z"
   },
   {
    "duration": 18,
    "start_time": "2024-11-25T02:09:55.091Z"
   },
   {
    "duration": 18,
    "start_time": "2024-11-25T02:09:55.111Z"
   },
   {
    "duration": 9,
    "start_time": "2024-11-25T02:09:55.130Z"
   },
   {
    "duration": 8,
    "start_time": "2024-11-25T02:09:55.140Z"
   },
   {
    "duration": 11,
    "start_time": "2024-11-25T02:09:55.149Z"
   },
   {
    "duration": 43,
    "start_time": "2024-11-25T02:09:55.162Z"
   },
   {
    "duration": 6,
    "start_time": "2024-11-25T02:09:55.206Z"
   },
   {
    "duration": 24,
    "start_time": "2024-11-25T02:09:55.214Z"
   },
   {
    "duration": 12,
    "start_time": "2024-11-25T02:09:55.239Z"
   },
   {
    "duration": 7,
    "start_time": "2024-11-25T02:09:55.252Z"
   },
   {
    "duration": 44,
    "start_time": "2024-11-25T02:09:55.263Z"
   },
   {
    "duration": 13,
    "start_time": "2024-11-25T02:09:55.308Z"
   },
   {
    "duration": 8,
    "start_time": "2024-11-25T02:09:55.323Z"
   },
   {
    "duration": 19,
    "start_time": "2024-11-25T02:09:55.332Z"
   },
   {
    "duration": 3,
    "start_time": "2024-11-25T02:09:55.353Z"
   },
   {
    "duration": 59,
    "start_time": "2024-11-25T02:09:55.357Z"
   },
   {
    "duration": 18,
    "start_time": "2024-11-25T02:09:55.418Z"
   },
   {
    "duration": 22,
    "start_time": "2024-11-25T02:09:55.438Z"
   },
   {
    "duration": 45,
    "start_time": "2024-11-25T02:09:55.462Z"
   },
   {
    "duration": 20,
    "start_time": "2024-11-25T02:09:55.509Z"
   },
   {
    "duration": 16,
    "start_time": "2024-11-25T02:09:55.531Z"
   },
   {
    "duration": 2,
    "start_time": "2024-11-25T02:09:55.549Z"
   },
   {
    "duration": 2,
    "start_time": "2024-11-25T02:09:55.553Z"
   },
   {
    "duration": 2,
    "start_time": "2024-11-25T02:09:55.557Z"
   },
   {
    "duration": 2,
    "start_time": "2024-11-25T02:09:55.561Z"
   },
   {
    "duration": 40,
    "start_time": "2024-11-25T02:09:55.565Z"
   },
   {
    "duration": 2,
    "start_time": "2024-11-25T02:09:55.606Z"
   },
   {
    "duration": 2,
    "start_time": "2024-11-25T02:09:55.610Z"
   },
   {
    "duration": 3,
    "start_time": "2024-11-25T02:09:55.614Z"
   },
   {
    "duration": 2,
    "start_time": "2024-11-25T02:09:55.619Z"
   },
   {
    "duration": 20,
    "start_time": "2024-11-25T02:10:24.670Z"
   },
   {
    "duration": 18,
    "start_time": "2024-11-25T02:11:03.557Z"
   },
   {
    "duration": 20,
    "start_time": "2024-11-25T02:11:58.973Z"
   },
   {
    "duration": 21,
    "start_time": "2024-11-25T02:12:20.788Z"
   },
   {
    "duration": 17,
    "start_time": "2024-11-25T02:12:43.968Z"
   },
   {
    "duration": 2706,
    "start_time": "2024-11-26T23:53:37.649Z"
   },
   {
    "duration": 240,
    "start_time": "2024-11-26T23:53:40.358Z"
   },
   {
    "duration": 10,
    "start_time": "2024-11-26T23:53:40.599Z"
   },
   {
    "duration": 9,
    "start_time": "2024-11-26T23:53:40.611Z"
   },
   {
    "duration": 19,
    "start_time": "2024-11-26T23:53:40.622Z"
   },
   {
    "duration": 9,
    "start_time": "2024-11-26T23:53:40.643Z"
   },
   {
    "duration": 8,
    "start_time": "2024-11-26T23:53:40.654Z"
   },
   {
    "duration": 41,
    "start_time": "2024-11-26T23:53:40.664Z"
   },
   {
    "duration": 16,
    "start_time": "2024-11-26T23:53:40.707Z"
   },
   {
    "duration": 6,
    "start_time": "2024-11-26T23:53:40.726Z"
   },
   {
    "duration": 26,
    "start_time": "2024-11-26T23:53:40.734Z"
   },
   {
    "duration": 45,
    "start_time": "2024-11-26T23:53:40.763Z"
   },
   {
    "duration": 8,
    "start_time": "2024-11-26T23:53:40.810Z"
   },
   {
    "duration": 17,
    "start_time": "2024-11-26T23:53:40.821Z"
   },
   {
    "duration": 15,
    "start_time": "2024-11-26T23:53:40.840Z"
   },
   {
    "duration": 9,
    "start_time": "2024-11-26T23:53:40.857Z"
   },
   {
    "duration": 51,
    "start_time": "2024-11-26T23:53:40.867Z"
   },
   {
    "duration": 3,
    "start_time": "2024-11-26T23:53:40.920Z"
   },
   {
    "duration": 36,
    "start_time": "2024-11-26T23:53:40.924Z"
   },
   {
    "duration": 50,
    "start_time": "2024-11-26T23:53:40.961Z"
   },
   {
    "duration": 28,
    "start_time": "2024-11-26T23:53:41.013Z"
   },
   {
    "duration": 25,
    "start_time": "2024-11-26T23:53:41.044Z"
   },
   {
    "duration": 41,
    "start_time": "2024-11-26T23:53:41.072Z"
   },
   {
    "duration": 19,
    "start_time": "2024-11-26T23:53:41.116Z"
   },
   {
    "duration": 2,
    "start_time": "2024-11-26T23:53:41.137Z"
   },
   {
    "duration": 2,
    "start_time": "2024-11-26T23:53:41.141Z"
   },
   {
    "duration": 2,
    "start_time": "2024-11-26T23:53:41.145Z"
   },
   {
    "duration": 2,
    "start_time": "2024-11-26T23:53:41.151Z"
   },
   {
    "duration": 3,
    "start_time": "2024-11-26T23:53:41.154Z"
   },
   {
    "duration": 2,
    "start_time": "2024-11-26T23:53:41.158Z"
   },
   {
    "duration": 44,
    "start_time": "2024-11-26T23:53:41.162Z"
   },
   {
    "duration": 2,
    "start_time": "2024-11-26T23:53:41.208Z"
   },
   {
    "duration": 3,
    "start_time": "2024-11-26T23:53:41.212Z"
   },
   {
    "duration": 2500,
    "start_time": "2024-11-28T15:29:42.059Z"
   },
   {
    "duration": 222,
    "start_time": "2024-11-28T15:29:44.561Z"
   },
   {
    "duration": 9,
    "start_time": "2024-11-28T15:29:44.784Z"
   },
   {
    "duration": 9,
    "start_time": "2024-11-28T15:29:44.796Z"
   },
   {
    "duration": 20,
    "start_time": "2024-11-28T15:29:44.806Z"
   },
   {
    "duration": 8,
    "start_time": "2024-11-28T15:29:44.827Z"
   },
   {
    "duration": 9,
    "start_time": "2024-11-28T15:29:44.836Z"
   },
   {
    "duration": 11,
    "start_time": "2024-11-28T15:29:44.846Z"
   },
   {
    "duration": 15,
    "start_time": "2024-11-28T15:29:44.860Z"
   },
   {
    "duration": 7,
    "start_time": "2024-11-28T15:29:44.878Z"
   },
   {
    "duration": 53,
    "start_time": "2024-11-28T15:29:44.886Z"
   },
   {
    "duration": 12,
    "start_time": "2024-11-28T15:29:44.941Z"
   },
   {
    "duration": 9,
    "start_time": "2024-11-28T15:29:44.954Z"
   },
   {
    "duration": 21,
    "start_time": "2024-11-28T15:29:44.966Z"
   },
   {
    "duration": 14,
    "start_time": "2024-11-28T15:29:44.988Z"
   },
   {
    "duration": 33,
    "start_time": "2024-11-28T15:29:45.003Z"
   },
   {
    "duration": 20,
    "start_time": "2024-11-28T15:29:45.038Z"
   },
   {
    "duration": 3,
    "start_time": "2024-11-28T15:29:45.060Z"
   },
   {
    "duration": 31,
    "start_time": "2024-11-28T15:29:45.064Z"
   },
   {
    "duration": 47,
    "start_time": "2024-11-28T15:29:45.097Z"
   },
   {
    "duration": 24,
    "start_time": "2024-11-28T15:29:45.146Z"
   },
   {
    "duration": 24,
    "start_time": "2024-11-28T15:29:45.172Z"
   },
   {
    "duration": 41,
    "start_time": "2024-11-28T15:29:45.197Z"
   },
   {
    "duration": 19,
    "start_time": "2024-11-28T15:29:45.239Z"
   },
   {
    "duration": 6,
    "start_time": "2024-11-28T15:29:45.259Z"
   },
   {
    "duration": 2,
    "start_time": "2024-11-28T15:29:45.267Z"
   },
   {
    "duration": 3,
    "start_time": "2024-11-28T15:29:45.271Z"
   },
   {
    "duration": 1,
    "start_time": "2024-11-28T15:29:45.278Z"
   },
   {
    "duration": 2,
    "start_time": "2024-11-28T15:29:45.281Z"
   },
   {
    "duration": 2,
    "start_time": "2024-11-28T15:29:45.285Z"
   },
   {
    "duration": 43,
    "start_time": "2024-11-28T15:29:45.288Z"
   },
   {
    "duration": 2,
    "start_time": "2024-11-28T15:29:45.333Z"
   },
   {
    "duration": 2,
    "start_time": "2024-11-28T15:29:45.337Z"
   },
   {
    "duration": 5,
    "start_time": "2024-11-28T15:32:18.498Z"
   },
   {
    "duration": 220,
    "start_time": "2024-11-28T15:32:29.076Z"
   },
   {
    "duration": 863,
    "start_time": "2024-11-28T15:32:53.748Z"
   },
   {
    "duration": 163,
    "start_time": "2024-11-28T15:32:54.613Z"
   },
   {
    "duration": 9,
    "start_time": "2024-11-28T15:32:54.778Z"
   },
   {
    "duration": 9,
    "start_time": "2024-11-28T15:32:54.789Z"
   },
   {
    "duration": 32,
    "start_time": "2024-11-28T15:32:54.799Z"
   },
   {
    "duration": 8,
    "start_time": "2024-11-28T15:32:54.833Z"
   },
   {
    "duration": 8,
    "start_time": "2024-11-28T15:32:54.842Z"
   },
   {
    "duration": 12,
    "start_time": "2024-11-28T15:32:54.851Z"
   },
   {
    "duration": 15,
    "start_time": "2024-11-28T15:32:54.864Z"
   },
   {
    "duration": 7,
    "start_time": "2024-11-28T15:32:54.884Z"
   },
   {
    "duration": 57,
    "start_time": "2024-11-28T15:32:54.892Z"
   },
   {
    "duration": 12,
    "start_time": "2024-11-28T15:32:54.951Z"
   },
   {
    "duration": 7,
    "start_time": "2024-11-28T15:32:54.965Z"
   },
   {
    "duration": 18,
    "start_time": "2024-11-28T15:32:54.974Z"
   },
   {
    "duration": 39,
    "start_time": "2024-11-28T15:32:54.993Z"
   },
   {
    "duration": 9,
    "start_time": "2024-11-28T15:32:55.033Z"
   },
   {
    "duration": 21,
    "start_time": "2024-11-28T15:32:55.044Z"
   },
   {
    "duration": 3,
    "start_time": "2024-11-28T15:32:55.066Z"
   },
   {
    "duration": 32,
    "start_time": "2024-11-28T15:32:55.071Z"
   },
   {
    "duration": 19,
    "start_time": "2024-11-28T15:32:55.131Z"
   },
   {
    "duration": 23,
    "start_time": "2024-11-28T15:32:55.151Z"
   },
   {
    "duration": 23,
    "start_time": "2024-11-28T15:32:55.176Z"
   },
   {
    "duration": 44,
    "start_time": "2024-11-28T15:32:55.201Z"
   },
   {
    "duration": 18,
    "start_time": "2024-11-28T15:32:55.246Z"
   },
   {
    "duration": 298,
    "start_time": "2024-11-28T15:32:55.267Z"
   },
   {
    "duration": 0,
    "start_time": "2024-11-28T15:32:55.567Z"
   },
   {
    "duration": 0,
    "start_time": "2024-11-28T15:32:55.568Z"
   },
   {
    "duration": 0,
    "start_time": "2024-11-28T15:32:55.570Z"
   },
   {
    "duration": 0,
    "start_time": "2024-11-28T15:32:55.572Z"
   },
   {
    "duration": 0,
    "start_time": "2024-11-28T15:32:55.573Z"
   },
   {
    "duration": 0,
    "start_time": "2024-11-28T15:32:55.574Z"
   },
   {
    "duration": 0,
    "start_time": "2024-11-28T15:32:55.578Z"
   },
   {
    "duration": 0,
    "start_time": "2024-11-28T15:32:55.580Z"
   },
   {
    "duration": 233,
    "start_time": "2024-11-28T15:33:33.408Z"
   },
   {
    "duration": 53,
    "start_time": "2024-11-28T15:38:13.146Z"
   },
   {
    "duration": 51,
    "start_time": "2024-11-28T15:49:05.863Z"
   },
   {
    "duration": 17,
    "start_time": "2024-11-28T15:50:36.695Z"
   },
   {
    "duration": 18,
    "start_time": "2024-11-28T15:52:00.761Z"
   },
   {
    "duration": 32,
    "start_time": "2024-11-28T16:01:34.364Z"
   },
   {
    "duration": 25,
    "start_time": "2024-11-28T16:01:40.681Z"
   },
   {
    "duration": 24,
    "start_time": "2024-11-28T16:05:49.544Z"
   },
   {
    "duration": 24,
    "start_time": "2024-11-28T16:05:55.400Z"
   },
   {
    "duration": 24,
    "start_time": "2024-11-28T16:06:23.590Z"
   },
   {
    "duration": 29,
    "start_time": "2024-11-28T16:07:55.622Z"
   },
   {
    "duration": 24,
    "start_time": "2024-11-28T16:08:07.188Z"
   },
   {
    "duration": 20,
    "start_time": "2024-11-28T16:08:30.668Z"
   },
   {
    "duration": 795,
    "start_time": "2024-11-28T16:08:43.374Z"
   },
   {
    "duration": 159,
    "start_time": "2024-11-28T16:08:44.172Z"
   },
   {
    "duration": 9,
    "start_time": "2024-11-28T16:08:44.333Z"
   },
   {
    "duration": 9,
    "start_time": "2024-11-28T16:08:44.344Z"
   },
   {
    "duration": 19,
    "start_time": "2024-11-28T16:08:44.354Z"
   },
   {
    "duration": 8,
    "start_time": "2024-11-28T16:08:44.375Z"
   },
   {
    "duration": 7,
    "start_time": "2024-11-28T16:08:44.385Z"
   },
   {
    "duration": 40,
    "start_time": "2024-11-28T16:08:44.394Z"
   },
   {
    "duration": 14,
    "start_time": "2024-11-28T16:08:44.436Z"
   },
   {
    "duration": 7,
    "start_time": "2024-11-28T16:08:44.453Z"
   },
   {
    "duration": 24,
    "start_time": "2024-11-28T16:08:44.462Z"
   },
   {
    "duration": 11,
    "start_time": "2024-11-28T16:08:44.488Z"
   },
   {
    "duration": 31,
    "start_time": "2024-11-28T16:08:44.501Z"
   },
   {
    "duration": 19,
    "start_time": "2024-11-28T16:08:44.534Z"
   },
   {
    "duration": 12,
    "start_time": "2024-11-28T16:08:44.555Z"
   },
   {
    "duration": 9,
    "start_time": "2024-11-28T16:08:44.569Z"
   },
   {
    "duration": 51,
    "start_time": "2024-11-28T16:08:44.580Z"
   },
   {
    "duration": 3,
    "start_time": "2024-11-28T16:08:44.633Z"
   },
   {
    "duration": 36,
    "start_time": "2024-11-28T16:08:44.639Z"
   },
   {
    "duration": 19,
    "start_time": "2024-11-28T16:08:44.677Z"
   },
   {
    "duration": 51,
    "start_time": "2024-11-28T16:08:44.697Z"
   },
   {
    "duration": 24,
    "start_time": "2024-11-28T16:08:44.750Z"
   },
   {
    "duration": 23,
    "start_time": "2024-11-28T16:08:44.776Z"
   },
   {
    "duration": 37,
    "start_time": "2024-11-28T16:08:44.801Z"
   },
   {
    "duration": 67,
    "start_time": "2024-11-28T16:08:44.840Z"
   },
   {
    "duration": 2,
    "start_time": "2024-11-28T16:08:44.909Z"
   },
   {
    "duration": 18,
    "start_time": "2024-11-28T16:08:44.913Z"
   },
   {
    "duration": 2,
    "start_time": "2024-11-28T16:08:44.934Z"
   },
   {
    "duration": 2,
    "start_time": "2024-11-28T16:08:44.938Z"
   },
   {
    "duration": 2,
    "start_time": "2024-11-28T16:08:44.942Z"
   },
   {
    "duration": 3,
    "start_time": "2024-11-28T16:08:44.945Z"
   },
   {
    "duration": 2,
    "start_time": "2024-11-28T16:08:44.950Z"
   },
   {
    "duration": 2,
    "start_time": "2024-11-28T16:08:44.954Z"
   },
   {
    "duration": 75,
    "start_time": "2024-11-28T16:09:08.478Z"
   },
   {
    "duration": 2525,
    "start_time": "2024-11-29T13:23:09.499Z"
   },
   {
    "duration": 224,
    "start_time": "2024-11-29T13:23:12.026Z"
   },
   {
    "duration": 9,
    "start_time": "2024-11-29T13:23:12.252Z"
   },
   {
    "duration": 9,
    "start_time": "2024-11-29T13:23:12.264Z"
   },
   {
    "duration": 20,
    "start_time": "2024-11-29T13:23:12.275Z"
   },
   {
    "duration": 7,
    "start_time": "2024-11-29T13:23:12.297Z"
   },
   {
    "duration": 8,
    "start_time": "2024-11-29T13:23:12.306Z"
   },
   {
    "duration": 12,
    "start_time": "2024-11-29T13:23:12.316Z"
   },
   {
    "duration": 15,
    "start_time": "2024-11-29T13:23:12.329Z"
   },
   {
    "duration": 6,
    "start_time": "2024-11-29T13:23:12.348Z"
   },
   {
    "duration": 23,
    "start_time": "2024-11-29T13:23:12.387Z"
   },
   {
    "duration": 12,
    "start_time": "2024-11-29T13:23:12.412Z"
   },
   {
    "duration": 8,
    "start_time": "2024-11-29T13:23:12.425Z"
   },
   {
    "duration": 17,
    "start_time": "2024-11-29T13:23:12.434Z"
   },
   {
    "duration": 39,
    "start_time": "2024-11-29T13:23:12.453Z"
   },
   {
    "duration": 8,
    "start_time": "2024-11-29T13:23:12.494Z"
   },
   {
    "duration": 21,
    "start_time": "2024-11-29T13:23:12.504Z"
   },
   {
    "duration": 3,
    "start_time": "2024-11-29T13:23:12.527Z"
   },
   {
    "duration": 61,
    "start_time": "2024-11-29T13:23:12.532Z"
   },
   {
    "duration": 19,
    "start_time": "2024-11-29T13:23:12.595Z"
   },
   {
    "duration": 24,
    "start_time": "2024-11-29T13:23:12.616Z"
   },
   {
    "duration": 49,
    "start_time": "2024-11-29T13:23:12.641Z"
   },
   {
    "duration": 25,
    "start_time": "2024-11-29T13:23:12.691Z"
   },
   {
    "duration": 19,
    "start_time": "2024-11-29T13:23:12.718Z"
   },
   {
    "duration": 100,
    "start_time": "2024-11-29T13:23:12.739Z"
   },
   {
    "duration": 2,
    "start_time": "2024-11-29T13:23:12.840Z"
   },
   {
    "duration": 2,
    "start_time": "2024-11-29T13:23:12.844Z"
   },
   {
    "duration": 4,
    "start_time": "2024-11-29T13:23:12.850Z"
   },
   {
    "duration": 3,
    "start_time": "2024-11-29T13:23:12.856Z"
   },
   {
    "duration": 2,
    "start_time": "2024-11-29T13:23:12.860Z"
   },
   {
    "duration": 23,
    "start_time": "2024-11-29T13:23:12.864Z"
   },
   {
    "duration": 3,
    "start_time": "2024-11-29T13:23:12.888Z"
   },
   {
    "duration": 3,
    "start_time": "2024-11-29T13:23:12.892Z"
   },
   {
    "duration": 159,
    "start_time": "2024-11-30T16:23:42.331Z"
   },
   {
    "duration": 2510,
    "start_time": "2024-11-30T16:23:48.213Z"
   },
   {
    "duration": 210,
    "start_time": "2024-11-30T16:23:50.725Z"
   },
   {
    "duration": 10,
    "start_time": "2024-11-30T16:23:50.936Z"
   },
   {
    "duration": 9,
    "start_time": "2024-11-30T16:23:50.948Z"
   },
   {
    "duration": 21,
    "start_time": "2024-11-30T16:23:50.960Z"
   },
   {
    "duration": 9,
    "start_time": "2024-11-30T16:23:50.983Z"
   },
   {
    "duration": 37,
    "start_time": "2024-11-30T16:23:50.994Z"
   },
   {
    "duration": 13,
    "start_time": "2024-11-30T16:23:51.033Z"
   },
   {
    "duration": 16,
    "start_time": "2024-11-30T16:23:51.047Z"
   },
   {
    "duration": 7,
    "start_time": "2024-11-30T16:23:51.065Z"
   },
   {
    "duration": 26,
    "start_time": "2024-11-30T16:23:51.073Z"
   },
   {
    "duration": 36,
    "start_time": "2024-11-30T16:23:51.101Z"
   },
   {
    "duration": 7,
    "start_time": "2024-11-30T16:23:51.139Z"
   },
   {
    "duration": 17,
    "start_time": "2024-11-30T16:23:51.150Z"
   },
   {
    "duration": 14,
    "start_time": "2024-11-30T16:23:51.169Z"
   },
   {
    "duration": 8,
    "start_time": "2024-11-30T16:23:51.185Z"
   },
   {
    "duration": 53,
    "start_time": "2024-11-30T16:23:51.195Z"
   },
   {
    "duration": 3,
    "start_time": "2024-11-30T16:23:51.250Z"
   },
   {
    "duration": 34,
    "start_time": "2024-11-30T16:23:51.255Z"
   },
   {
    "duration": 44,
    "start_time": "2024-11-30T16:23:51.291Z"
   },
   {
    "duration": 24,
    "start_time": "2024-11-30T16:23:51.337Z"
   },
   {
    "duration": 25,
    "start_time": "2024-11-30T16:23:51.363Z"
   },
   {
    "duration": 47,
    "start_time": "2024-11-30T16:23:51.390Z"
   },
   {
    "duration": 21,
    "start_time": "2024-11-30T16:23:51.439Z"
   },
   {
    "duration": 93,
    "start_time": "2024-11-30T16:23:51.461Z"
   },
   {
    "duration": 5,
    "start_time": "2024-11-30T16:23:51.555Z"
   },
   {
    "duration": 3,
    "start_time": "2024-11-30T16:23:51.562Z"
   },
   {
    "duration": 2,
    "start_time": "2024-11-30T16:23:51.567Z"
   },
   {
    "duration": 2,
    "start_time": "2024-11-30T16:23:51.570Z"
   },
   {
    "duration": 3,
    "start_time": "2024-11-30T16:23:51.574Z"
   },
   {
    "duration": 3,
    "start_time": "2024-11-30T16:23:51.578Z"
   },
   {
    "duration": 6,
    "start_time": "2024-11-30T16:23:51.583Z"
   },
   {
    "duration": 3,
    "start_time": "2024-11-30T16:23:51.590Z"
   },
   {
    "duration": 4,
    "start_time": "2024-11-30T16:28:30.606Z"
   },
   {
    "duration": 8,
    "start_time": "2024-11-30T16:29:40.400Z"
   },
   {
    "duration": 190,
    "start_time": "2024-11-30T16:33:01.229Z"
   },
   {
    "duration": 5,
    "start_time": "2024-11-30T16:33:23.710Z"
   },
   {
    "duration": 6,
    "start_time": "2024-11-30T16:33:31.317Z"
   },
   {
    "duration": 184,
    "start_time": "2024-11-30T16:34:03.062Z"
   },
   {
    "duration": 8,
    "start_time": "2024-11-30T16:34:56.938Z"
   },
   {
    "duration": 424,
    "start_time": "2024-11-30T16:35:11.227Z"
   },
   {
    "duration": 178,
    "start_time": "2024-11-30T16:35:34.164Z"
   },
   {
    "duration": 192,
    "start_time": "2024-11-30T16:36:11.979Z"
   },
   {
    "duration": 184,
    "start_time": "2024-11-30T16:36:48.056Z"
   },
   {
    "duration": 82,
    "start_time": "2024-11-30T16:44:44.360Z"
   },
   {
    "duration": 18,
    "start_time": "2024-11-30T16:45:47.676Z"
   },
   {
    "duration": 11,
    "start_time": "2024-11-30T16:47:01.446Z"
   },
   {
    "duration": 66,
    "start_time": "2024-11-30T16:58:13.018Z"
   },
   {
    "duration": 45,
    "start_time": "2024-11-30T16:58:24.082Z"
   },
   {
    "duration": 6,
    "start_time": "2024-11-30T16:59:00.736Z"
   },
   {
    "duration": 8,
    "start_time": "2024-11-30T16:59:15.386Z"
   },
   {
    "duration": 46,
    "start_time": "2024-11-30T16:59:20.349Z"
   },
   {
    "duration": 41,
    "start_time": "2024-11-30T16:59:31.817Z"
   },
   {
    "duration": 58,
    "start_time": "2024-11-30T16:59:43.157Z"
   },
   {
    "duration": 5,
    "start_time": "2024-11-30T17:05:25.573Z"
   },
   {
    "duration": 221,
    "start_time": "2024-11-30T17:05:30.930Z"
   },
   {
    "duration": 184,
    "start_time": "2024-11-30T17:06:53.884Z"
   },
   {
    "duration": 10,
    "start_time": "2024-11-30T17:07:14.557Z"
   },
   {
    "duration": 43,
    "start_time": "2024-11-30T17:07:21.705Z"
   },
   {
    "duration": 15,
    "start_time": "2024-11-30T20:46:44.767Z"
   },
   {
    "duration": 43,
    "start_time": "2024-11-30T20:47:08.831Z"
   },
   {
    "duration": 9,
    "start_time": "2024-11-30T20:47:18.489Z"
   },
   {
    "duration": 42,
    "start_time": "2024-11-30T20:52:17.087Z"
   },
   {
    "duration": 44,
    "start_time": "2024-11-30T20:52:28.186Z"
   },
   {
    "duration": 5,
    "start_time": "2024-11-30T20:53:59.029Z"
   },
   {
    "duration": 45,
    "start_time": "2024-11-30T20:57:25.081Z"
   },
   {
    "duration": 407,
    "start_time": "2024-11-30T21:00:12.543Z"
   },
   {
    "duration": 191,
    "start_time": "2024-11-30T21:01:39.709Z"
   },
   {
    "duration": 186,
    "start_time": "2024-11-30T21:01:45.190Z"
   },
   {
    "duration": 200,
    "start_time": "2024-11-30T21:02:00.336Z"
   },
   {
    "duration": 118,
    "start_time": "2024-11-30T21:02:44.470Z"
   },
   {
    "duration": 390,
    "start_time": "2024-11-30T21:03:50.660Z"
   },
   {
    "duration": 194,
    "start_time": "2024-11-30T21:04:22.639Z"
   },
   {
    "duration": 12,
    "start_time": "2024-11-30T21:14:40.941Z"
   },
   {
    "duration": 202,
    "start_time": "2024-11-30T21:17:18.231Z"
   },
   {
    "duration": 225,
    "start_time": "2024-11-30T21:18:03.112Z"
   },
   {
    "duration": 704,
    "start_time": "2024-11-30T21:18:39.691Z"
   },
   {
    "duration": 11,
    "start_time": "2024-11-30T21:19:53.663Z"
   },
   {
    "duration": 599,
    "start_time": "2024-11-30T21:21:35.234Z"
   },
   {
    "duration": 566,
    "start_time": "2024-11-30T21:28:48.825Z"
   },
   {
    "duration": 8,
    "start_time": "2024-11-30T21:36:01.532Z"
   },
   {
    "duration": 24,
    "start_time": "2024-11-30T21:45:38.225Z"
   },
   {
    "duration": 3,
    "start_time": "2024-11-30T21:45:57.246Z"
   },
   {
    "duration": 842,
    "start_time": "2024-11-30T21:46:03.478Z"
   },
   {
    "duration": 161,
    "start_time": "2024-11-30T21:46:04.322Z"
   },
   {
    "duration": 9,
    "start_time": "2024-11-30T21:46:04.486Z"
   },
   {
    "duration": 10,
    "start_time": "2024-11-30T21:46:04.497Z"
   },
   {
    "duration": 28,
    "start_time": "2024-11-30T21:46:04.509Z"
   },
   {
    "duration": 13,
    "start_time": "2024-11-30T21:46:04.538Z"
   },
   {
    "duration": 9,
    "start_time": "2024-11-30T21:46:04.553Z"
   },
   {
    "duration": 12,
    "start_time": "2024-11-30T21:46:04.564Z"
   },
   {
    "duration": 18,
    "start_time": "2024-11-30T21:46:04.578Z"
   },
   {
    "duration": 7,
    "start_time": "2024-11-30T21:46:04.597Z"
   },
   {
    "duration": 26,
    "start_time": "2024-11-30T21:46:04.633Z"
   },
   {
    "duration": 12,
    "start_time": "2024-11-30T21:46:04.661Z"
   },
   {
    "duration": 7,
    "start_time": "2024-11-30T21:46:04.675Z"
   },
   {
    "duration": 17,
    "start_time": "2024-11-30T21:46:04.686Z"
   },
   {
    "duration": 14,
    "start_time": "2024-11-30T21:46:04.732Z"
   },
   {
    "duration": 9,
    "start_time": "2024-11-30T21:46:04.748Z"
   },
   {
    "duration": 22,
    "start_time": "2024-11-30T21:46:04.759Z"
   },
   {
    "duration": 3,
    "start_time": "2024-11-30T21:46:04.783Z"
   },
   {
    "duration": 63,
    "start_time": "2024-11-30T21:46:04.787Z"
   },
   {
    "duration": 19,
    "start_time": "2024-11-30T21:46:04.852Z"
   },
   {
    "duration": 25,
    "start_time": "2024-11-30T21:46:04.874Z"
   },
   {
    "duration": 46,
    "start_time": "2024-11-30T21:46:04.901Z"
   },
   {
    "duration": 23,
    "start_time": "2024-11-30T21:46:04.949Z"
   },
   {
    "duration": 20,
    "start_time": "2024-11-30T21:46:04.974Z"
   },
   {
    "duration": 100,
    "start_time": "2024-11-30T21:46:04.996Z"
   },
   {
    "duration": 214,
    "start_time": "2024-11-30T21:46:05.098Z"
   },
   {
    "duration": 2,
    "start_time": "2024-11-30T21:46:05.314Z"
   },
   {
    "duration": 19,
    "start_time": "2024-11-30T21:46:05.317Z"
   },
   {
    "duration": 456,
    "start_time": "2024-11-30T21:46:05.338Z"
   },
   {
    "duration": 583,
    "start_time": "2024-11-30T21:46:05.796Z"
   },
   {
    "duration": 596,
    "start_time": "2024-11-30T21:46:06.381Z"
   },
   {
    "duration": 650,
    "start_time": "2024-11-30T21:46:06.979Z"
   },
   {
    "duration": 779,
    "start_time": "2024-11-30T21:46:07.632Z"
   },
   {
    "duration": 0,
    "start_time": "2024-11-30T21:46:08.413Z"
   },
   {
    "duration": 1112,
    "start_time": "2024-11-30T21:48:52.411Z"
   },
   {
    "duration": 21,
    "start_time": "2024-11-30T21:50:50.103Z"
   },
   {
    "duration": 22,
    "start_time": "2024-11-30T21:51:01.397Z"
   },
   {
    "duration": 3,
    "start_time": "2024-11-30T21:56:45.256Z"
   },
   {
    "duration": 27,
    "start_time": "2024-11-30T22:01:45.224Z"
   },
   {
    "duration": 26,
    "start_time": "2024-11-30T22:06:16.047Z"
   },
   {
    "duration": 25,
    "start_time": "2024-11-30T22:06:28.736Z"
   },
   {
    "duration": 30,
    "start_time": "2024-11-30T22:06:54.202Z"
   },
   {
    "duration": 37,
    "start_time": "2024-11-30T22:07:42.844Z"
   },
   {
    "duration": 2630,
    "start_time": "2024-12-01T18:30:28.325Z"
   },
   {
    "duration": 202,
    "start_time": "2024-12-01T18:30:30.957Z"
   },
   {
    "duration": 10,
    "start_time": "2024-12-01T18:30:31.161Z"
   },
   {
    "duration": 10,
    "start_time": "2024-12-01T18:30:31.174Z"
   },
   {
    "duration": 20,
    "start_time": "2024-12-01T18:30:31.186Z"
   },
   {
    "duration": 9,
    "start_time": "2024-12-01T18:30:31.207Z"
   },
   {
    "duration": 9,
    "start_time": "2024-12-01T18:30:31.231Z"
   },
   {
    "duration": 13,
    "start_time": "2024-12-01T18:30:31.242Z"
   },
   {
    "duration": 15,
    "start_time": "2024-12-01T18:30:31.256Z"
   },
   {
    "duration": 7,
    "start_time": "2024-12-01T18:30:31.274Z"
   },
   {
    "duration": 64,
    "start_time": "2024-12-01T18:30:31.282Z"
   },
   {
    "duration": 14,
    "start_time": "2024-12-01T18:30:31.348Z"
   },
   {
    "duration": 8,
    "start_time": "2024-12-01T18:30:31.364Z"
   },
   {
    "duration": 18,
    "start_time": "2024-12-01T18:30:31.374Z"
   },
   {
    "duration": 15,
    "start_time": "2024-12-01T18:30:31.394Z"
   },
   {
    "duration": 9,
    "start_time": "2024-12-01T18:30:31.431Z"
   },
   {
    "duration": 21,
    "start_time": "2024-12-01T18:30:31.441Z"
   },
   {
    "duration": 3,
    "start_time": "2024-12-01T18:30:31.464Z"
   },
   {
    "duration": 33,
    "start_time": "2024-12-01T18:30:31.469Z"
   },
   {
    "duration": 45,
    "start_time": "2024-12-01T18:30:31.504Z"
   },
   {
    "duration": 25,
    "start_time": "2024-12-01T18:30:31.551Z"
   },
   {
    "duration": 27,
    "start_time": "2024-12-01T18:30:31.578Z"
   },
   {
    "duration": 27,
    "start_time": "2024-12-01T18:30:31.632Z"
   },
   {
    "duration": 21,
    "start_time": "2024-12-01T18:30:31.661Z"
   },
   {
    "duration": 95,
    "start_time": "2024-12-01T18:30:31.684Z"
   },
   {
    "duration": 213,
    "start_time": "2024-12-01T18:30:31.781Z"
   },
   {
    "duration": 2,
    "start_time": "2024-12-01T18:30:31.996Z"
   },
   {
    "duration": 9,
    "start_time": "2024-12-01T18:30:32.002Z"
   },
   {
    "duration": 476,
    "start_time": "2024-12-01T18:30:32.013Z"
   },
   {
    "duration": 584,
    "start_time": "2024-12-01T18:30:32.491Z"
   },
   {
    "duration": 577,
    "start_time": "2024-12-01T18:30:33.077Z"
   },
   {
    "duration": 696,
    "start_time": "2024-12-01T18:30:33.657Z"
   },
   {
    "duration": 36,
    "start_time": "2024-12-01T18:30:34.355Z"
   },
   {
    "duration": 2,
    "start_time": "2024-12-01T18:30:34.393Z"
   },
   {
    "duration": 83,
    "start_time": "2024-12-01T18:38:46.263Z"
   },
   {
    "duration": 72,
    "start_time": "2024-12-01T18:39:01.868Z"
   },
   {
    "duration": 51,
    "start_time": "2024-12-01T18:41:52.865Z"
   },
   {
    "duration": 55,
    "start_time": "2024-12-01T18:42:31.933Z"
   },
   {
    "duration": 245,
    "start_time": "2024-12-01T18:46:09.780Z"
   },
   {
    "duration": 43,
    "start_time": "2024-12-01T18:51:20.953Z"
   },
   {
    "duration": 56,
    "start_time": "2024-12-01T18:51:52.140Z"
   },
   {
    "duration": 50,
    "start_time": "2024-12-01T18:53:30.993Z"
   },
   {
    "duration": 75,
    "start_time": "2024-12-01T18:55:38.359Z"
   },
   {
    "duration": 77,
    "start_time": "2024-12-01T19:00:39.960Z"
   },
   {
    "duration": 933,
    "start_time": "2024-12-01T19:01:03.485Z"
   },
   {
    "duration": 198,
    "start_time": "2024-12-01T19:01:04.421Z"
   },
   {
    "duration": 12,
    "start_time": "2024-12-01T19:01:04.621Z"
   },
   {
    "duration": 10,
    "start_time": "2024-12-01T19:01:04.635Z"
   },
   {
    "duration": 21,
    "start_time": "2024-12-01T19:01:04.648Z"
   },
   {
    "duration": 10,
    "start_time": "2024-12-01T19:01:04.672Z"
   },
   {
    "duration": 12,
    "start_time": "2024-12-01T19:01:04.684Z"
   },
   {
    "duration": 43,
    "start_time": "2024-12-01T19:01:04.698Z"
   },
   {
    "duration": 16,
    "start_time": "2024-12-01T19:01:04.744Z"
   },
   {
    "duration": 6,
    "start_time": "2024-12-01T19:01:04.762Z"
   },
   {
    "duration": 28,
    "start_time": "2024-12-01T19:01:04.771Z"
   },
   {
    "duration": 39,
    "start_time": "2024-12-01T19:01:04.801Z"
   },
   {
    "duration": 7,
    "start_time": "2024-12-01T19:01:04.842Z"
   },
   {
    "duration": 17,
    "start_time": "2024-12-01T19:01:04.853Z"
   },
   {
    "duration": 18,
    "start_time": "2024-12-01T19:01:04.872Z"
   },
   {
    "duration": 41,
    "start_time": "2024-12-01T19:01:04.893Z"
   },
   {
    "duration": 23,
    "start_time": "2024-12-01T19:01:04.936Z"
   },
   {
    "duration": 4,
    "start_time": "2024-12-01T19:01:04.960Z"
   },
   {
    "duration": 49,
    "start_time": "2024-12-01T19:01:04.967Z"
   },
   {
    "duration": 25,
    "start_time": "2024-12-01T19:01:05.031Z"
   },
   {
    "duration": 31,
    "start_time": "2024-12-01T19:01:05.058Z"
   },
   {
    "duration": 43,
    "start_time": "2024-12-01T19:01:05.091Z"
   },
   {
    "duration": 26,
    "start_time": "2024-12-01T19:01:05.136Z"
   },
   {
    "duration": 21,
    "start_time": "2024-12-01T19:01:05.165Z"
   },
   {
    "duration": 103,
    "start_time": "2024-12-01T19:01:05.188Z"
   },
   {
    "duration": 219,
    "start_time": "2024-12-01T19:01:05.293Z"
   },
   {
    "duration": 3,
    "start_time": "2024-12-01T19:01:05.514Z"
   },
   {
    "duration": 18,
    "start_time": "2024-12-01T19:01:05.519Z"
   },
   {
    "duration": 451,
    "start_time": "2024-12-01T19:01:05.540Z"
   },
   {
    "duration": 610,
    "start_time": "2024-12-01T19:01:05.993Z"
   },
   {
    "duration": 598,
    "start_time": "2024-12-01T19:01:06.604Z"
   },
   {
    "duration": 686,
    "start_time": "2024-12-01T19:01:07.204Z"
   },
   {
    "duration": 325,
    "start_time": "2024-12-01T19:01:07.892Z"
   },
   {
    "duration": 0,
    "start_time": "2024-12-01T19:01:08.219Z"
   },
   {
    "duration": 82,
    "start_time": "2024-12-01T19:04:02.271Z"
   },
   {
    "duration": 74,
    "start_time": "2024-12-01T19:04:23.687Z"
   },
   {
    "duration": 365,
    "start_time": "2024-12-01T19:12:21.017Z"
   },
   {
    "duration": 370,
    "start_time": "2024-12-01T19:16:53.287Z"
   },
   {
    "duration": 369,
    "start_time": "2024-12-01T19:20:45.552Z"
   },
   {
    "duration": 2488,
    "start_time": "2024-12-01T22:38:41.566Z"
   },
   {
    "duration": 207,
    "start_time": "2024-12-01T22:38:44.057Z"
   },
   {
    "duration": 10,
    "start_time": "2024-12-01T22:38:44.266Z"
   },
   {
    "duration": 9,
    "start_time": "2024-12-01T22:38:44.278Z"
   },
   {
    "duration": 19,
    "start_time": "2024-12-01T22:38:44.290Z"
   },
   {
    "duration": 7,
    "start_time": "2024-12-01T22:38:44.311Z"
   },
   {
    "duration": 8,
    "start_time": "2024-12-01T22:38:44.319Z"
   },
   {
    "duration": 11,
    "start_time": "2024-12-01T22:38:44.328Z"
   },
   {
    "duration": 46,
    "start_time": "2024-12-01T22:38:44.342Z"
   },
   {
    "duration": 6,
    "start_time": "2024-12-01T22:38:44.390Z"
   },
   {
    "duration": 25,
    "start_time": "2024-12-01T22:38:44.397Z"
   },
   {
    "duration": 11,
    "start_time": "2024-12-01T22:38:44.423Z"
   },
   {
    "duration": 7,
    "start_time": "2024-12-01T22:38:44.435Z"
   },
   {
    "duration": 41,
    "start_time": "2024-12-01T22:38:44.445Z"
   },
   {
    "duration": 13,
    "start_time": "2024-12-01T22:38:44.488Z"
   },
   {
    "duration": 8,
    "start_time": "2024-12-01T22:38:44.503Z"
   },
   {
    "duration": 20,
    "start_time": "2024-12-01T22:38:44.512Z"
   },
   {
    "duration": 3,
    "start_time": "2024-12-01T22:38:44.534Z"
   },
   {
    "duration": 60,
    "start_time": "2024-12-01T22:38:44.539Z"
   },
   {
    "duration": 18,
    "start_time": "2024-12-01T22:38:44.601Z"
   },
   {
    "duration": 24,
    "start_time": "2024-12-01T22:38:44.620Z"
   },
   {
    "duration": 44,
    "start_time": "2024-12-01T22:38:44.645Z"
   },
   {
    "duration": 24,
    "start_time": "2024-12-01T22:38:44.690Z"
   },
   {
    "duration": 19,
    "start_time": "2024-12-01T22:38:44.715Z"
   },
   {
    "duration": 98,
    "start_time": "2024-12-01T22:38:44.736Z"
   },
   {
    "duration": 199,
    "start_time": "2024-12-01T22:38:44.835Z"
   },
   {
    "duration": 2,
    "start_time": "2024-12-01T22:38:45.036Z"
   },
   {
    "duration": 8,
    "start_time": "2024-12-01T22:38:45.040Z"
   },
   {
    "duration": 407,
    "start_time": "2024-12-01T22:38:45.050Z"
   },
   {
    "duration": 639,
    "start_time": "2024-12-01T22:38:45.459Z"
   },
   {
    "duration": 582,
    "start_time": "2024-12-01T22:38:46.099Z"
   },
   {
    "duration": 583,
    "start_time": "2024-12-01T22:38:46.682Z"
   },
   {
    "duration": 479,
    "start_time": "2024-12-01T22:38:47.267Z"
   },
   {
    "duration": 2,
    "start_time": "2024-12-01T22:38:47.748Z"
   },
   {
    "duration": 393,
    "start_time": "2024-12-01T22:39:02.014Z"
   },
   {
    "duration": 16,
    "start_time": "2024-12-01T22:43:35.718Z"
   },
   {
    "duration": 14,
    "start_time": "2024-12-01T22:45:08.497Z"
   },
   {
    "duration": 3,
    "start_time": "2024-12-01T22:46:26.522Z"
   },
   {
    "duration": 3,
    "start_time": "2024-12-01T22:46:42.712Z"
   },
   {
    "duration": 16,
    "start_time": "2024-12-01T22:46:49.524Z"
   },
   {
    "duration": 631,
    "start_time": "2024-12-01T22:50:05.829Z"
   },
   {
    "duration": 17,
    "start_time": "2024-12-01T22:50:24.325Z"
   },
   {
    "duration": 14,
    "start_time": "2024-12-01T22:51:10.200Z"
   },
   {
    "duration": 16,
    "start_time": "2024-12-01T22:51:37.485Z"
   },
   {
    "duration": 19,
    "start_time": "2024-12-01T22:52:08.546Z"
   },
   {
    "duration": 24,
    "start_time": "2024-12-01T22:53:23.657Z"
   },
   {
    "duration": 14,
    "start_time": "2024-12-01T22:53:29.175Z"
   },
   {
    "duration": 15,
    "start_time": "2024-12-01T22:54:14.248Z"
   },
   {
    "duration": 6,
    "start_time": "2024-12-01T22:55:29.179Z"
   },
   {
    "duration": 15,
    "start_time": "2024-12-01T22:59:12.354Z"
   },
   {
    "duration": 16,
    "start_time": "2024-12-01T22:59:53.896Z"
   },
   {
    "duration": 6,
    "start_time": "2024-12-01T23:00:16.911Z"
   },
   {
    "duration": 8,
    "start_time": "2024-12-01T23:00:31.984Z"
   },
   {
    "duration": 11,
    "start_time": "2024-12-01T23:00:43.199Z"
   },
   {
    "duration": 9,
    "start_time": "2024-12-01T23:00:54.278Z"
   },
   {
    "duration": 26,
    "start_time": "2024-12-01T23:02:01.242Z"
   },
   {
    "duration": 6,
    "start_time": "2024-12-01T23:03:01.587Z"
   },
   {
    "duration": 19,
    "start_time": "2024-12-01T23:03:20.657Z"
   },
   {
    "duration": 9,
    "start_time": "2024-12-01T23:04:42.396Z"
   },
   {
    "duration": 9,
    "start_time": "2024-12-01T23:05:00.884Z"
   },
   {
    "duration": 10,
    "start_time": "2024-12-01T23:05:13.899Z"
   },
   {
    "duration": 10,
    "start_time": "2024-12-01T23:05:25.392Z"
   },
   {
    "duration": 20,
    "start_time": "2024-12-01T23:05:38.705Z"
   },
   {
    "duration": 7,
    "start_time": "2024-12-01T23:05:50.198Z"
   },
   {
    "duration": 18,
    "start_time": "2024-12-01T23:05:57.028Z"
   },
   {
    "duration": 8,
    "start_time": "2024-12-01T23:06:35.123Z"
   },
   {
    "duration": 11,
    "start_time": "2024-12-01T23:07:00.644Z"
   },
   {
    "duration": 20,
    "start_time": "2024-12-01T23:08:44.890Z"
   },
   {
    "duration": 13,
    "start_time": "2024-12-01T23:09:39.485Z"
   },
   {
    "duration": 14,
    "start_time": "2024-12-01T23:09:46.662Z"
   },
   {
    "duration": 23,
    "start_time": "2024-12-01T23:11:02.657Z"
   },
   {
    "duration": 13,
    "start_time": "2024-12-01T23:14:38.876Z"
   },
   {
    "duration": 14,
    "start_time": "2024-12-01T23:16:18.905Z"
   },
   {
    "duration": 12,
    "start_time": "2024-12-01T23:17:08.100Z"
   },
   {
    "duration": 26,
    "start_time": "2024-12-01T23:17:31.466Z"
   },
   {
    "duration": 24,
    "start_time": "2024-12-01T23:17:45.729Z"
   },
   {
    "duration": 108,
    "start_time": "2024-12-01T23:21:55.339Z"
   },
   {
    "duration": 435,
    "start_time": "2024-12-01T23:22:15.153Z"
   },
   {
    "duration": 54,
    "start_time": "2024-12-01T23:22:54.726Z"
   },
   {
    "duration": 92,
    "start_time": "2024-12-01T23:23:05.450Z"
   },
   {
    "duration": 18,
    "start_time": "2024-12-01T23:23:33.698Z"
   },
   {
    "duration": 167,
    "start_time": "2024-12-03T00:19:47.285Z"
   },
   {
    "duration": 2510,
    "start_time": "2024-12-03T00:20:01.747Z"
   },
   {
    "duration": 254,
    "start_time": "2024-12-03T00:20:04.260Z"
   },
   {
    "duration": 10,
    "start_time": "2024-12-03T00:20:04.516Z"
   },
   {
    "duration": 10,
    "start_time": "2024-12-03T00:20:04.528Z"
   },
   {
    "duration": 24,
    "start_time": "2024-12-03T00:20:04.540Z"
   },
   {
    "duration": 10,
    "start_time": "2024-12-03T00:20:04.566Z"
   },
   {
    "duration": 8,
    "start_time": "2024-12-03T00:20:04.578Z"
   },
   {
    "duration": 12,
    "start_time": "2024-12-03T00:20:04.587Z"
   },
   {
    "duration": 37,
    "start_time": "2024-12-03T00:20:04.601Z"
   },
   {
    "duration": 34,
    "start_time": "2024-12-03T00:20:04.640Z"
   },
   {
    "duration": 52,
    "start_time": "2024-12-03T00:20:04.677Z"
   },
   {
    "duration": 13,
    "start_time": "2024-12-03T00:20:04.731Z"
   },
   {
    "duration": 7,
    "start_time": "2024-12-03T00:20:04.746Z"
   },
   {
    "duration": 25,
    "start_time": "2024-12-03T00:20:04.757Z"
   },
   {
    "duration": 13,
    "start_time": "2024-12-03T00:20:04.784Z"
   },
   {
    "duration": 9,
    "start_time": "2024-12-03T00:20:04.799Z"
   },
   {
    "duration": 26,
    "start_time": "2024-12-03T00:20:04.810Z"
   },
   {
    "duration": 4,
    "start_time": "2024-12-03T00:20:04.837Z"
   },
   {
    "duration": 59,
    "start_time": "2024-12-03T00:20:04.842Z"
   },
   {
    "duration": 23,
    "start_time": "2024-12-03T00:20:04.903Z"
   },
   {
    "duration": 46,
    "start_time": "2024-12-03T00:20:04.928Z"
   },
   {
    "duration": 27,
    "start_time": "2024-12-03T00:20:04.976Z"
   },
   {
    "duration": 25,
    "start_time": "2024-12-03T00:20:05.005Z"
   },
   {
    "duration": 38,
    "start_time": "2024-12-03T00:20:05.033Z"
   },
   {
    "duration": 102,
    "start_time": "2024-12-03T00:20:05.072Z"
   },
   {
    "duration": 213,
    "start_time": "2024-12-03T00:20:05.177Z"
   },
   {
    "duration": 2,
    "start_time": "2024-12-03T00:20:05.394Z"
   },
   {
    "duration": 8,
    "start_time": "2024-12-03T00:20:05.398Z"
   },
   {
    "duration": 483,
    "start_time": "2024-12-03T00:20:05.408Z"
   },
   {
    "duration": 601,
    "start_time": "2024-12-03T00:20:05.893Z"
   },
   {
    "duration": 614,
    "start_time": "2024-12-03T00:20:06.495Z"
   },
   {
    "duration": 690,
    "start_time": "2024-12-03T00:20:07.111Z"
   },
   {
    "duration": 424,
    "start_time": "2024-12-03T00:20:07.803Z"
   },
   {
    "duration": 17,
    "start_time": "2024-12-03T00:20:08.229Z"
   },
   {
    "duration": 9,
    "start_time": "2024-12-03T00:22:21.795Z"
   },
   {
    "duration": 13,
    "start_time": "2024-12-03T00:22:50.083Z"
   },
   {
    "duration": 675,
    "start_time": "2024-12-03T00:31:43.497Z"
   },
   {
    "duration": 36,
    "start_time": "2024-12-03T00:32:16.712Z"
   },
   {
    "duration": 42,
    "start_time": "2024-12-03T00:32:42.372Z"
   },
   {
    "duration": 11,
    "start_time": "2024-12-03T00:33:27.927Z"
   },
   {
    "duration": 6,
    "start_time": "2024-12-03T00:33:41.993Z"
   },
   {
    "duration": 62,
    "start_time": "2024-12-03T00:41:26.748Z"
   },
   {
    "duration": 59,
    "start_time": "2024-12-03T00:44:04.555Z"
   },
   {
    "duration": 65,
    "start_time": "2024-12-03T00:44:13.901Z"
   },
   {
    "duration": 5,
    "start_time": "2024-12-03T00:45:51.308Z"
   },
   {
    "duration": 60,
    "start_time": "2024-12-03T00:46:47.757Z"
   },
   {
    "duration": 59,
    "start_time": "2024-12-03T00:48:17.902Z"
   },
   {
    "duration": 15,
    "start_time": "2024-12-03T00:49:30.323Z"
   },
   {
    "duration": 15,
    "start_time": "2024-12-03T00:49:39.463Z"
   },
   {
    "duration": 15,
    "start_time": "2024-12-03T00:49:54.053Z"
   },
   {
    "duration": 72,
    "start_time": "2024-12-03T00:53:23.767Z"
   }
  ],
  "colab": {
   "provenance": []
  },
  "kernelspec": {
   "display_name": "Python 3 (ipykernel)",
   "language": "python",
   "name": "python3"
  },
  "language_info": {
   "codemirror_mode": {
    "name": "ipython",
    "version": 3
   },
   "file_extension": ".py",
   "mimetype": "text/x-python",
   "name": "python",
   "nbconvert_exporter": "python",
   "pygments_lexer": "ipython3",
   "version": "3.9.19"
  },
  "toc": {
   "base_numbering": 1,
   "nav_menu": {},
   "number_sections": true,
   "sideBar": true,
   "skip_h1_title": false,
   "title_cell": "Table of Contents",
   "title_sidebar": "Contents",
   "toc_cell": false,
   "toc_position": {},
   "toc_section_display": true,
   "toc_window_display": true
  }
 },
 "nbformat": 4,
 "nbformat_minor": 1
}
