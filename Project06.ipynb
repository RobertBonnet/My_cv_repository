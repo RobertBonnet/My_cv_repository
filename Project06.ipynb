{
 "cells": [
  {
   "cell_type": "markdown",
   "metadata": {},
   "source": [
    "# ¡Feliz Navidad a toda LATAM! 🎄✨\n",
    "\n",
    "Soy **Hesus Garcia** – tu revisor de confianza y ahora también el **Hesus que trae la magia navideña al código** 🎅🦸‍♂️. Sí, soy el único Hesus con H que viene cargado de observaciones, sugerencias y buenos deseos para ayudarte a mejorar tu proyecto en estas fechas tan especiales. 🎁\n",
    "\n",
    "Quiero aprovechar esta oportunidad para desearte a ti y a toda nuestra increíble comunidad de estudiantes en Latinoamérica unas fiestas llenas de alegría, aprendizaje y nuevos logros. 🌟 ¡Que esta Navidad esté llena de código limpio, proyectos exitosos y muchos \"outputs\" perfectos! 🚀\n",
    "\n",
    "Cada vez que encuentre un detalle importante en tu código, te lo señalaré con la intención de que puedas corregirlo y brilles en tu camino profesional. Recuerda que estos comentarios no son más que regalos disfrazados, pensados para ayudarte a crecer y mejorar. 🎁 Si alguna vez te encuentras con un problema que no logras resolver, no te preocupes; estaré aquí para guiarte.\n",
    "\n",
    "Es importante que cuando encuentres un comentario, **no los muevas, no los modifiques, ni los borres**. Estos son como los adornos de un árbol de Navidad 🎄; cada uno está puesto en su lugar por una razón. \n",
    "\n",
    "---\n",
    "\n",
    "### **Formato de Comentarios**\n",
    "\n",
    "Revisaré cuidadosamente cada implementación en tu notebook para asegurar que cumpla con los requisitos y te daré comentarios de acuerdo al siguiente formato:\n",
    "\n",
    "---\n",
    "\n",
    "<div class=\"alert alert-block alert-success\">\n",
    "<b>Comentario del revisor</b> <a class=\"tocSkip\"></a><br>\n",
    "    \n",
    "<b>Éxito</b> - ¡Excelente trabajo! Esta parte está bien implementada y contribuye significativamente al análisis de datos o al proyecto. Continúa aplicando estas buenas prácticas en futuras secciones. 🎉\n",
    "    \n",
    "</div>\n",
    "\n",
    "<div class=\"alert alert-block alert-warning\">\n",
    "<b>Comentario del revisor</b> <a class=\"tocSkip\"></a><br>\n",
    "    \n",
    "<b>Atención</b> ⚠️ - Este código está correcto, pero se puede optimizar. Considera implementar mejoras para que sea más eficiente y fácil de leer. Esto fortalecerá la calidad de tu proyecto. 🔧\n",
    "    \n",
    "</div>\n",
    "\n",
    "<div class=\"alert alert-block alert-danger\">\n",
    "<b>Comentario del revisor</b> <a class=\"tocSkip\"></a><br>\n",
    "    \n",
    "<b>A resolver</b> ❗ - Aquí hay un problema o error en el código que es necesario corregir para aprobar esta sección. Por favor, revisa y corrige este punto, ya que es fundamental para la validez del análisis y la precisión de los resultados. 🚨\n",
    "    \n",
    "</div>\n",
    "\n",
    "---\n",
    "\n",
    "Al final de cada revisión, recibirás un **Comentario General del Revisor**, como un resumen festivo de los aspectos positivos y áreas para mejorar en tu proyecto. Esto incluirá:\n",
    "\n",
    "- **Aspectos positivos:** Un resumen de los puntos fuertes de tu proyecto. 🎯\n",
    "- **Áreas de mejora:** Sugerencias donde puedes mejorar. 🔍\n",
    "- **Temas adicionales para investigar:** Ideas opcionales para expandir tus habilidades. 🌱\n",
    "\n",
    "---\n",
    "\n",
    "Espero que este espíritu navideño te motive a seguir adelante y que este proyecto sea uno de muchos logros en tu camino. ¡Felicidades por tu dedicación y esfuerzo! 💪🎅✨\n",
    "\n",
    "### ¡Empecemos con esta revisión navideña! 🎄🚀"
   ]
  },
  {
   "cell_type": "code",
   "execution_count": 1,
   "metadata": {
    "tags": [
     "e5c1f0c2-db9f-43a0-99b9-4875c52427e8"
    ]
   },
   "outputs": [],
   "source": [
    "import pandas as pd\n",
    "import numpy as np\n",
    "import matplotlib.pyplot as plt\n",
    "import seaborn as sns\n",
    "from scipy import stats"
   ]
  },
  {
   "cell_type": "code",
   "execution_count": 2,
   "metadata": {},
   "outputs": [],
   "source": [
    "df = pd.read_csv('/datasets/games.csv')"
   ]
  },
  {
   "cell_type": "code",
   "execution_count": 3,
   "metadata": {},
   "outputs": [
    {
     "data": {
      "text/html": [
       "<div>\n",
       "<style scoped>\n",
       "    .dataframe tbody tr th:only-of-type {\n",
       "        vertical-align: middle;\n",
       "    }\n",
       "\n",
       "    .dataframe tbody tr th {\n",
       "        vertical-align: top;\n",
       "    }\n",
       "\n",
       "    .dataframe thead th {\n",
       "        text-align: right;\n",
       "    }\n",
       "</style>\n",
       "<table border=\"1\" class=\"dataframe\">\n",
       "  <thead>\n",
       "    <tr style=\"text-align: right;\">\n",
       "      <th></th>\n",
       "      <th>Name</th>\n",
       "      <th>Platform</th>\n",
       "      <th>Year_of_Release</th>\n",
       "      <th>Genre</th>\n",
       "      <th>NA_sales</th>\n",
       "      <th>EU_sales</th>\n",
       "      <th>JP_sales</th>\n",
       "      <th>Other_sales</th>\n",
       "      <th>Critic_Score</th>\n",
       "      <th>User_Score</th>\n",
       "      <th>Rating</th>\n",
       "    </tr>\n",
       "  </thead>\n",
       "  <tbody>\n",
       "    <tr>\n",
       "      <th>0</th>\n",
       "      <td>Wii Sports</td>\n",
       "      <td>Wii</td>\n",
       "      <td>2006.0</td>\n",
       "      <td>Sports</td>\n",
       "      <td>41.36</td>\n",
       "      <td>28.96</td>\n",
       "      <td>3.77</td>\n",
       "      <td>8.45</td>\n",
       "      <td>76.0</td>\n",
       "      <td>8</td>\n",
       "      <td>E</td>\n",
       "    </tr>\n",
       "    <tr>\n",
       "      <th>1</th>\n",
       "      <td>Super Mario Bros.</td>\n",
       "      <td>NES</td>\n",
       "      <td>1985.0</td>\n",
       "      <td>Platform</td>\n",
       "      <td>29.08</td>\n",
       "      <td>3.58</td>\n",
       "      <td>6.81</td>\n",
       "      <td>0.77</td>\n",
       "      <td>NaN</td>\n",
       "      <td>NaN</td>\n",
       "      <td>NaN</td>\n",
       "    </tr>\n",
       "    <tr>\n",
       "      <th>2</th>\n",
       "      <td>Mario Kart Wii</td>\n",
       "      <td>Wii</td>\n",
       "      <td>2008.0</td>\n",
       "      <td>Racing</td>\n",
       "      <td>15.68</td>\n",
       "      <td>12.76</td>\n",
       "      <td>3.79</td>\n",
       "      <td>3.29</td>\n",
       "      <td>82.0</td>\n",
       "      <td>8.3</td>\n",
       "      <td>E</td>\n",
       "    </tr>\n",
       "    <tr>\n",
       "      <th>3</th>\n",
       "      <td>Wii Sports Resort</td>\n",
       "      <td>Wii</td>\n",
       "      <td>2009.0</td>\n",
       "      <td>Sports</td>\n",
       "      <td>15.61</td>\n",
       "      <td>10.93</td>\n",
       "      <td>3.28</td>\n",
       "      <td>2.95</td>\n",
       "      <td>80.0</td>\n",
       "      <td>8</td>\n",
       "      <td>E</td>\n",
       "    </tr>\n",
       "    <tr>\n",
       "      <th>4</th>\n",
       "      <td>Pokemon Red/Pokemon Blue</td>\n",
       "      <td>GB</td>\n",
       "      <td>1996.0</td>\n",
       "      <td>Role-Playing</td>\n",
       "      <td>11.27</td>\n",
       "      <td>8.89</td>\n",
       "      <td>10.22</td>\n",
       "      <td>1.00</td>\n",
       "      <td>NaN</td>\n",
       "      <td>NaN</td>\n",
       "      <td>NaN</td>\n",
       "    </tr>\n",
       "  </tbody>\n",
       "</table>\n",
       "</div>"
      ],
      "text/plain": [
       "                       Name Platform  Year_of_Release         Genre  NA_sales  \\\n",
       "0                Wii Sports      Wii           2006.0        Sports     41.36   \n",
       "1         Super Mario Bros.      NES           1985.0      Platform     29.08   \n",
       "2            Mario Kart Wii      Wii           2008.0        Racing     15.68   \n",
       "3         Wii Sports Resort      Wii           2009.0        Sports     15.61   \n",
       "4  Pokemon Red/Pokemon Blue       GB           1996.0  Role-Playing     11.27   \n",
       "\n",
       "   EU_sales  JP_sales  Other_sales  Critic_Score User_Score Rating  \n",
       "0     28.96      3.77         8.45          76.0          8      E  \n",
       "1      3.58      6.81         0.77           NaN        NaN    NaN  \n",
       "2     12.76      3.79         3.29          82.0        8.3      E  \n",
       "3     10.93      3.28         2.95          80.0          8      E  \n",
       "4      8.89     10.22         1.00           NaN        NaN    NaN  "
      ]
     },
     "execution_count": 3,
     "metadata": {},
     "output_type": "execute_result"
    }
   ],
   "source": [
    "df.head()"
   ]
  },
  {
   "cell_type": "code",
   "execution_count": 4,
   "metadata": {},
   "outputs": [
    {
     "name": "stdout",
     "output_type": "stream",
     "text": [
      "<class 'pandas.core.frame.DataFrame'>\n",
      "RangeIndex: 16715 entries, 0 to 16714\n",
      "Data columns (total 11 columns):\n",
      " #   Column           Non-Null Count  Dtype  \n",
      "---  ------           --------------  -----  \n",
      " 0   Name             16713 non-null  object \n",
      " 1   Platform         16715 non-null  object \n",
      " 2   Year_of_Release  16446 non-null  float64\n",
      " 3   Genre            16713 non-null  object \n",
      " 4   NA_sales         16715 non-null  float64\n",
      " 5   EU_sales         16715 non-null  float64\n",
      " 6   JP_sales         16715 non-null  float64\n",
      " 7   Other_sales      16715 non-null  float64\n",
      " 8   Critic_Score     8137 non-null   float64\n",
      " 9   User_Score       10014 non-null  object \n",
      " 10  Rating           9949 non-null   object \n",
      "dtypes: float64(6), object(5)\n",
      "memory usage: 1.4+ MB\n"
     ]
    }
   ],
   "source": [
    "df.info()"
   ]
  },
  {
   "cell_type": "code",
   "execution_count": 5,
   "metadata": {},
   "outputs": [],
   "source": [
    "df.columns = df.columns.str.lower() #Reemplazo los nombres de las columnas (los pongo en minúsculas)."
   ]
  },
  {
   "cell_type": "code",
   "execution_count": 6,
   "metadata": {},
   "outputs": [
    {
     "name": "stdout",
     "output_type": "stream",
     "text": [
      "<class 'pandas.core.frame.DataFrame'>\n",
      "RangeIndex: 16715 entries, 0 to 16714\n",
      "Data columns (total 11 columns):\n",
      " #   Column           Non-Null Count  Dtype  \n",
      "---  ------           --------------  -----  \n",
      " 0   name             16713 non-null  object \n",
      " 1   platform         16715 non-null  object \n",
      " 2   year_of_release  16446 non-null  float64\n",
      " 3   genre            16713 non-null  object \n",
      " 4   na_sales         16715 non-null  float64\n",
      " 5   eu_sales         16715 non-null  float64\n",
      " 6   jp_sales         16715 non-null  float64\n",
      " 7   other_sales      16715 non-null  float64\n",
      " 8   critic_score     8137 non-null   float64\n",
      " 9   user_score       10014 non-null  object \n",
      " 10  rating           9949 non-null   object \n",
      "dtypes: float64(6), object(5)\n",
      "memory usage: 1.4+ MB\n"
     ]
    }
   ],
   "source": [
    "df.info()"
   ]
  },
  {
   "cell_type": "markdown",
   "metadata": {},
   "source": [
    "Aunque los datos de la columna 'year_of_release' deberían ser ser de tipo int, los dejaré en tipo float porque existen datos NaN y por el momento no es necesario modificarlos."
   ]
  },
  {
   "cell_type": "code",
   "execution_count": 7,
   "metadata": {},
   "outputs": [
    {
     "data": {
      "text/plain": [
       "0                           Wii Sports\n",
       "1                    Super Mario Bros.\n",
       "2                       Mario Kart Wii\n",
       "3                    Wii Sports Resort\n",
       "4             Pokemon Red/Pokemon Blue\n",
       "                     ...              \n",
       "16710    Samurai Warriors: Sanada Maru\n",
       "16711                 LMA Manager 2007\n",
       "16712          Haitaka no Psychedelica\n",
       "16713                 Spirits & Spells\n",
       "16714              Winning Post 8 2016\n",
       "Name: name, Length: 16715, dtype: object"
      ]
     },
     "execution_count": 7,
     "metadata": {},
     "output_type": "execute_result"
    }
   ],
   "source": [
    "df['name']"
   ]
  },
  {
   "cell_type": "markdown",
   "metadata": {},
   "source": [
    "Aunque los datos de la columna 'user_score' deberían ser de tipo float, los dejaré por el momento en object porque existen datos con el valor \"tbd\" (to be determined). Probablemente sean juegos en espera de ser evaluados. No modificaré su valor."
   ]
  },
  {
   "cell_type": "markdown",
   "metadata": {},
   "source": [
    "Explica por qué rellenaste los valores ausentes como lo hiciste o por qué decidiste dejarlos en blanco.\n",
    "Por el momento no creo conveniente rellenar los valores ausentes ni con la media de su valor ni con valor cero."
   ]
  },
  {
   "cell_type": "markdown",
   "metadata": {},
   "source": [
    "¿Por qué creo que los valores están ausentes?\n",
    "No tengo idea de por qué puediera haber valores ausentes. Eso me genera ansiedad."
   ]
  },
  {
   "cell_type": "markdown",
   "metadata": {},
   "source": [
    "\n",
    "<div class=\"alert alert-block alert-warning\">\n",
    "\n",
    "<b>Comentario del revisor</b> <a class=\"tocSkip\"></a><br>\n",
    "\n",
    "<b>Atención</b> ⚠️ - Entender la razón detrás de los valores ausentes es fundamental en el análisis de datos. Apreciamos tu honestidad al expresar cómo te sientes al enfrentarte a estos casos, y es completamente válido tener dudas o sentir incertidumbre en ciertos puntos del proceso. Sin embargo, permíteme guiarte sobre cómo abordar esta situación desde una perspectiva científica y estructurada.\n",
    "\n",
    "### ¿Por qué suelen existir valores ausentes?\n",
    "\n",
    "En la ciencia de datos, los valores ausentes pueden ocurrir por varias razones, entre ellas:\n",
    "\n",
    "1. **Falta de recolección de datos:** Algunas variables pueden no haberse registrado durante el proceso de captura de información.\n",
    "2. **Errores humanos:** Los datos pueden haberse omitido por error durante la entrada o procesamiento.\n",
    "3. **Restricciones del sistema:** Puede que algunas plataformas o sistemas no permitan registrar ciertas métricas.\n",
    "4. **Condiciones externas:** Factores como problemas técnicos o falta de acceso a datos en tiempo real también pueden ocasionar datos faltantes.\n",
    "\n",
    "En lugar de asumir una posición emocional sobre los valores ausentes (como ansiedad), recuerda que el análisis de datos sigue el **método científico**. Este enfoque nos ayuda a tratar los problemas como hipótesis que deben investigarse, probando soluciones objetivas y justificadas. Esto no solo reduce la incertidumbre, sino que también fomenta una mentalidad más resiliente y curiosa frente a los retos.\n",
    "\n",
    "### Recomendaciones para manejar esta situación:\n",
    "\n",
    "1. **Investigar la fuente del dataset:** A menudo, los metadatos o la documentación pueden proporcionar pistas sobre por qué faltan ciertos valores.\n",
    "2. **Hipótesis basada en el contexto:** Por ejemplo, si algunos valores de `user_score` son \"tbd\", podría deberse a que los juegos están en espera de evaluación. Esto puede ser validado investigando si esta columna depende del tiempo o de la popularidad del juego.\n",
    "3. **Pruebas estructuradas:** Analiza si los valores ausentes tienen patrones sistemáticos (por ejemplo, más ausentes en ciertas plataformas o géneros) para tomar decisiones informadas sobre cómo manejarlos.\n",
    "4. **Confiar en el proceso científico:** La incertidumbre inicial es común, pero cada paso que das hacia el análisis te acerca a descubrir patrones y respuestas.\n",
    "\n",
    "### Conclusión:\n",
    "\n",
    "Recuerda, es completamente válido no saber algo en un momento dado. Sin embargo, adoptar una mentalidad curiosa y metódica no solo te ayudará a superar esa incertidumbre, sino que también te permitirá crecer como analista. Confío en que, con práctica y paciencia, podrás manejar cualquier desafío en tu camino. ¡Ánimo y sigue adelante! 😊\n",
    "\n",
    "</div>"
   ]
  },
  {
   "cell_type": "code",
   "execution_count": 8,
   "metadata": {},
   "outputs": [
    {
     "name": "stdout",
     "output_type": "stream",
     "text": [
      "<class 'pandas.core.frame.DataFrame'>\n",
      "RangeIndex: 16715 entries, 0 to 16714\n",
      "Data columns (total 12 columns):\n",
      " #   Column           Non-Null Count  Dtype  \n",
      "---  ------           --------------  -----  \n",
      " 0   name             16713 non-null  object \n",
      " 1   platform         16715 non-null  object \n",
      " 2   year_of_release  16446 non-null  float64\n",
      " 3   genre            16713 non-null  object \n",
      " 4   na_sales         16715 non-null  float64\n",
      " 5   eu_sales         16715 non-null  float64\n",
      " 6   jp_sales         16715 non-null  float64\n",
      " 7   other_sales      16715 non-null  float64\n",
      " 8   critic_score     8137 non-null   float64\n",
      " 9   user_score       10014 non-null  object \n",
      " 10  rating           9949 non-null   object \n",
      " 11  total_sales      16715 non-null  float64\n",
      "dtypes: float64(7), object(5)\n",
      "memory usage: 1.5+ MB\n"
     ]
    }
   ],
   "source": [
    "df['total_sales'] = df['na_sales'] + df['eu_sales'] + df['jp_sales'] + df['other_sales']\n",
    "df.info()"
   ]
  },
  {
   "cell_type": "code",
   "execution_count": 9,
   "metadata": {},
   "outputs": [
    {
     "name": "stdout",
     "output_type": "stream",
     "text": [
      "year_of_release\n",
      "1980.0       9\n",
      "1981.0      46\n",
      "1982.0      36\n",
      "1983.0      17\n",
      "1984.0      14\n",
      "1985.0      14\n",
      "1986.0      21\n",
      "1987.0      16\n",
      "1988.0      15\n",
      "1989.0      17\n",
      "1990.0      16\n",
      "1991.0      41\n",
      "1992.0      43\n",
      "1993.0      62\n",
      "1994.0     121\n",
      "1995.0     219\n",
      "1996.0     263\n",
      "1997.0     289\n",
      "1998.0     379\n",
      "1999.0     338\n",
      "2000.0     350\n",
      "2001.0     482\n",
      "2002.0     829\n",
      "2003.0     775\n",
      "2004.0     762\n",
      "2005.0     939\n",
      "2006.0    1006\n",
      "2007.0    1197\n",
      "2008.0    1427\n",
      "2009.0    1426\n",
      "2010.0    1255\n",
      "2011.0    1136\n",
      "2012.0     653\n",
      "2013.0     544\n",
      "2014.0     581\n",
      "2015.0     606\n",
      "2016.0     502\n",
      "Name: year_of_release, dtype: int64\n"
     ]
    }
   ],
   "source": [
    "df_groupedby_year_of_release = df.groupby('year_of_release')['year_of_release'].count()\n",
    "print(df_groupedby_year_of_release)"
   ]
  },
  {
   "cell_type": "code",
   "execution_count": 10,
   "metadata": {},
   "outputs": [
    {
     "data": {
      "text/plain": [
       "<AxesSubplot:xlabel='year_of_release'>"
      ]
     },
     "execution_count": 10,
     "metadata": {},
     "output_type": "execute_result"
    },
    {
     "data": {
      "image/png": "[encoded data removed]",
      "text/plain": [
       "<Figure size 640x480 with 1 Axes>"
      ]
     },
     "metadata": {},
     "output_type": "display_data"
    }
   ],
   "source": [
    "df_groupedby_year_of_release.plot(kind='bar')"
   ]
  },
  {
   "cell_type": "code",
   "execution_count": 11,
   "metadata": {},
   "outputs": [
    {
     "data": {
      "text/plain": [
       "count    16715.000000\n",
       "mean         0.533396\n",
       "std          1.548261\n",
       "min          0.000000\n",
       "25%          0.060000\n",
       "50%          0.170000\n",
       "75%          0.470000\n",
       "max         82.540000\n",
       "Name: total_sales, dtype: float64"
      ]
     },
     "execution_count": 11,
     "metadata": {},
     "output_type": "execute_result"
    }
   ],
   "source": [
    "df['total_sales'].describe()"
   ]
  },
  {
   "cell_type": "code",
   "execution_count": null,
   "metadata": {},
   "outputs": [],
   "source": []
  },
  {
   "cell_type": "code",
   "execution_count": 12,
   "metadata": {},
   "outputs": [
    {
     "data": {
      "text/plain": [
       "<AxesSubplot:xlabel='platform'>"
      ]
     },
     "execution_count": 12,
     "metadata": {},
     "output_type": "execute_result"
    },
    {
     "data": {
      "image/png": "[encoded data removed]",
      "text/plain": [
       "<Figure size 640x480 with 1 Axes>"
      ]
     },
     "metadata": {},
     "output_type": "display_data"
    }
   ],
   "source": [
    "df_groupedby_platform_total_sales = df.groupby('platform')['total_sales'].sum()\n",
    "df_groupedby_platform_total_sales.plot(kind='bar')"
   ]
  },
  {
   "cell_type": "code",
   "execution_count": 13,
   "metadata": {},
   "outputs": [
    {
     "data": {
      "text/plain": [
       "platform\n",
       "PS2     1255.77\n",
       "X360     971.42\n",
       "PS3      939.65\n",
       "Wii      907.51\n",
       "DS       806.12\n",
       "PS       730.86\n",
       "GBA      317.85\n",
       "PS4      314.14\n",
       "PSP      294.05\n",
       "PC       259.52\n",
       "3DS      259.00\n",
       "XB       257.74\n",
       "GB       255.46\n",
       "NES      251.05\n",
       "N64      218.68\n",
       "SNES     200.04\n",
       "GC       198.93\n",
       "XOne     159.32\n",
       "2600      96.98\n",
       "WiiU      82.19\n",
       "PSV       54.07\n",
       "SAT       33.59\n",
       "GEN       30.77\n",
       "DC        15.95\n",
       "SCD        1.86\n",
       "NG         1.44\n",
       "WS         1.42\n",
       "TG16       0.16\n",
       "3DO        0.10\n",
       "GG         0.04\n",
       "PCFX       0.03\n",
       "Name: total_sales, dtype: float64"
      ]
     },
     "execution_count": 13,
     "metadata": {},
     "output_type": "execute_result"
    }
   ],
   "source": [
    "df_groupedby_platform_total_sales.sort_values(ascending=False)"
   ]
  },
  {
   "cell_type": "markdown",
   "metadata": {},
   "source": [
    "Las plataformas con mayores ventas totales han sido: PS2, X360, PS3, Wii, DS, y PS"
   ]
  },
  {
   "cell_type": "code",
   "execution_count": 14,
   "metadata": {},
   "outputs": [],
   "source": [
    "df['platform'].unique()\n",
    "top_platforms = ['PS2','X360', 'PS3', 'Wii', 'DS', 'PS']"
   ]
  },
  {
   "cell_type": "code",
   "execution_count": 15,
   "metadata": {},
   "outputs": [],
   "source": [
    "df_top_platforms = df[df['platform'].isin(top_platforms)]"
   ]
  },
  {
   "cell_type": "code",
   "execution_count": 16,
   "metadata": {},
   "outputs": [
    {
     "data": {
      "text/html": [
       "<div>\n",
       "<style scoped>\n",
       "    .dataframe tbody tr th:only-of-type {\n",
       "        vertical-align: middle;\n",
       "    }\n",
       "\n",
       "    .dataframe tbody tr th {\n",
       "        vertical-align: top;\n",
       "    }\n",
       "\n",
       "    .dataframe thead th {\n",
       "        text-align: right;\n",
       "    }\n",
       "</style>\n",
       "<table border=\"1\" class=\"dataframe\">\n",
       "  <thead>\n",
       "    <tr style=\"text-align: right;\">\n",
       "      <th></th>\n",
       "      <th>name</th>\n",
       "      <th>platform</th>\n",
       "      <th>year_of_release</th>\n",
       "      <th>genre</th>\n",
       "      <th>na_sales</th>\n",
       "      <th>eu_sales</th>\n",
       "      <th>jp_sales</th>\n",
       "      <th>other_sales</th>\n",
       "      <th>critic_score</th>\n",
       "      <th>user_score</th>\n",
       "      <th>rating</th>\n",
       "      <th>total_sales</th>\n",
       "    </tr>\n",
       "  </thead>\n",
       "  <tbody>\n",
       "    <tr>\n",
       "      <th>0</th>\n",
       "      <td>Wii Sports</td>\n",
       "      <td>Wii</td>\n",
       "      <td>2006.0</td>\n",
       "      <td>Sports</td>\n",
       "      <td>41.36</td>\n",
       "      <td>28.96</td>\n",
       "      <td>3.77</td>\n",
       "      <td>8.45</td>\n",
       "      <td>76.0</td>\n",
       "      <td>8</td>\n",
       "      <td>E</td>\n",
       "      <td>82.54</td>\n",
       "    </tr>\n",
       "    <tr>\n",
       "      <th>2</th>\n",
       "      <td>Mario Kart Wii</td>\n",
       "      <td>Wii</td>\n",
       "      <td>2008.0</td>\n",
       "      <td>Racing</td>\n",
       "      <td>15.68</td>\n",
       "      <td>12.76</td>\n",
       "      <td>3.79</td>\n",
       "      <td>3.29</td>\n",
       "      <td>82.0</td>\n",
       "      <td>8.3</td>\n",
       "      <td>E</td>\n",
       "      <td>35.52</td>\n",
       "    </tr>\n",
       "    <tr>\n",
       "      <th>3</th>\n",
       "      <td>Wii Sports Resort</td>\n",
       "      <td>Wii</td>\n",
       "      <td>2009.0</td>\n",
       "      <td>Sports</td>\n",
       "      <td>15.61</td>\n",
       "      <td>10.93</td>\n",
       "      <td>3.28</td>\n",
       "      <td>2.95</td>\n",
       "      <td>80.0</td>\n",
       "      <td>8</td>\n",
       "      <td>E</td>\n",
       "      <td>32.77</td>\n",
       "    </tr>\n",
       "    <tr>\n",
       "      <th>6</th>\n",
       "      <td>New Super Mario Bros.</td>\n",
       "      <td>DS</td>\n",
       "      <td>2006.0</td>\n",
       "      <td>Platform</td>\n",
       "      <td>11.28</td>\n",
       "      <td>9.14</td>\n",
       "      <td>6.50</td>\n",
       "      <td>2.88</td>\n",
       "      <td>89.0</td>\n",
       "      <td>8.5</td>\n",
       "      <td>E</td>\n",
       "      <td>29.80</td>\n",
       "    </tr>\n",
       "    <tr>\n",
       "      <th>7</th>\n",
       "      <td>Wii Play</td>\n",
       "      <td>Wii</td>\n",
       "      <td>2006.0</td>\n",
       "      <td>Misc</td>\n",
       "      <td>13.96</td>\n",
       "      <td>9.18</td>\n",
       "      <td>2.93</td>\n",
       "      <td>2.84</td>\n",
       "      <td>58.0</td>\n",
       "      <td>6.6</td>\n",
       "      <td>E</td>\n",
       "      <td>28.91</td>\n",
       "    </tr>\n",
       "    <tr>\n",
       "      <th>...</th>\n",
       "      <td>...</td>\n",
       "      <td>...</td>\n",
       "      <td>...</td>\n",
       "      <td>...</td>\n",
       "      <td>...</td>\n",
       "      <td>...</td>\n",
       "      <td>...</td>\n",
       "      <td>...</td>\n",
       "      <td>...</td>\n",
       "      <td>...</td>\n",
       "      <td>...</td>\n",
       "      <td>...</td>\n",
       "    </tr>\n",
       "    <tr>\n",
       "      <th>16700</th>\n",
       "      <td>Mezase!! Tsuri Master DS</td>\n",
       "      <td>DS</td>\n",
       "      <td>2009.0</td>\n",
       "      <td>Sports</td>\n",
       "      <td>0.00</td>\n",
       "      <td>0.00</td>\n",
       "      <td>0.01</td>\n",
       "      <td>0.00</td>\n",
       "      <td>NaN</td>\n",
       "      <td>NaN</td>\n",
       "      <td>NaN</td>\n",
       "      <td>0.01</td>\n",
       "    </tr>\n",
       "    <tr>\n",
       "      <th>16704</th>\n",
       "      <td>Plushees</td>\n",
       "      <td>DS</td>\n",
       "      <td>2008.0</td>\n",
       "      <td>Simulation</td>\n",
       "      <td>0.01</td>\n",
       "      <td>0.00</td>\n",
       "      <td>0.00</td>\n",
       "      <td>0.00</td>\n",
       "      <td>NaN</td>\n",
       "      <td>tbd</td>\n",
       "      <td>E</td>\n",
       "      <td>0.01</td>\n",
       "    </tr>\n",
       "    <tr>\n",
       "      <th>16709</th>\n",
       "      <td>SCORE International Baja 1000: The Official Game</td>\n",
       "      <td>PS2</td>\n",
       "      <td>2008.0</td>\n",
       "      <td>Racing</td>\n",
       "      <td>0.00</td>\n",
       "      <td>0.00</td>\n",
       "      <td>0.00</td>\n",
       "      <td>0.00</td>\n",
       "      <td>NaN</td>\n",
       "      <td>NaN</td>\n",
       "      <td>NaN</td>\n",
       "      <td>0.00</td>\n",
       "    </tr>\n",
       "    <tr>\n",
       "      <th>16710</th>\n",
       "      <td>Samurai Warriors: Sanada Maru</td>\n",
       "      <td>PS3</td>\n",
       "      <td>2016.0</td>\n",
       "      <td>Action</td>\n",
       "      <td>0.00</td>\n",
       "      <td>0.00</td>\n",
       "      <td>0.01</td>\n",
       "      <td>0.00</td>\n",
       "      <td>NaN</td>\n",
       "      <td>NaN</td>\n",
       "      <td>NaN</td>\n",
       "      <td>0.01</td>\n",
       "    </tr>\n",
       "    <tr>\n",
       "      <th>16711</th>\n",
       "      <td>LMA Manager 2007</td>\n",
       "      <td>X360</td>\n",
       "      <td>2006.0</td>\n",
       "      <td>Sports</td>\n",
       "      <td>0.00</td>\n",
       "      <td>0.01</td>\n",
       "      <td>0.00</td>\n",
       "      <td>0.00</td>\n",
       "      <td>NaN</td>\n",
       "      <td>NaN</td>\n",
       "      <td>NaN</td>\n",
       "      <td>0.01</td>\n",
       "    </tr>\n",
       "  </tbody>\n",
       "</table>\n",
       "<p>9422 rows × 12 columns</p>\n",
       "</div>"
      ],
      "text/plain": [
       "                                                   name platform  \\\n",
       "0                                            Wii Sports      Wii   \n",
       "2                                        Mario Kart Wii      Wii   \n",
       "3                                     Wii Sports Resort      Wii   \n",
       "6                                 New Super Mario Bros.       DS   \n",
       "7                                              Wii Play      Wii   \n",
       "...                                                 ...      ...   \n",
       "16700                          Mezase!! Tsuri Master DS       DS   \n",
       "16704                                          Plushees       DS   \n",
       "16709  SCORE International Baja 1000: The Official Game      PS2   \n",
       "16710                     Samurai Warriors: Sanada Maru      PS3   \n",
       "16711                                  LMA Manager 2007     X360   \n",
       "\n",
       "       year_of_release       genre  na_sales  eu_sales  jp_sales  other_sales  \\\n",
       "0               2006.0      Sports     41.36     28.96      3.77         8.45   \n",
       "2               2008.0      Racing     15.68     12.76      3.79         3.29   \n",
       "3               2009.0      Sports     15.61     10.93      3.28         2.95   \n",
       "6               2006.0    Platform     11.28      9.14      6.50         2.88   \n",
       "7               2006.0        Misc     13.96      9.18      2.93         2.84   \n",
       "...                ...         ...       ...       ...       ...          ...   \n",
       "16700           2009.0      Sports      0.00      0.00      0.01         0.00   \n",
       "16704           2008.0  Simulation      0.01      0.00      0.00         0.00   \n",
       "16709           2008.0      Racing      0.00      0.00      0.00         0.00   \n",
       "16710           2016.0      Action      0.00      0.00      0.01         0.00   \n",
       "16711           2006.0      Sports      0.00      0.01      0.00         0.00   \n",
       "\n",
       "       critic_score user_score rating  total_sales  \n",
       "0              76.0          8      E        82.54  \n",
       "2              82.0        8.3      E        35.52  \n",
       "3              80.0          8      E        32.77  \n",
       "6              89.0        8.5      E        29.80  \n",
       "7              58.0        6.6      E        28.91  \n",
       "...             ...        ...    ...          ...  \n",
       "16700           NaN        NaN    NaN         0.01  \n",
       "16704           NaN        tbd      E         0.01  \n",
       "16709           NaN        NaN    NaN         0.00  \n",
       "16710           NaN        NaN    NaN         0.01  \n",
       "16711           NaN        NaN    NaN         0.01  \n",
       "\n",
       "[9422 rows x 12 columns]"
      ]
     },
     "execution_count": 16,
     "metadata": {},
     "output_type": "execute_result"
    }
   ],
   "source": [
    "df_top_platforms"
   ]
  },
  {
   "cell_type": "code",
   "execution_count": 17,
   "metadata": {},
   "outputs": [
    {
     "data": {
      "text/html": [
       "<div>\n",
       "<style scoped>\n",
       "    .dataframe tbody tr th:only-of-type {\n",
       "        vertical-align: middle;\n",
       "    }\n",
       "\n",
       "    .dataframe tbody tr th {\n",
       "        vertical-align: top;\n",
       "    }\n",
       "\n",
       "    .dataframe thead th {\n",
       "        text-align: right;\n",
       "    }\n",
       "</style>\n",
       "<table border=\"1\" class=\"dataframe\">\n",
       "  <thead>\n",
       "    <tr style=\"text-align: right;\">\n",
       "      <th></th>\n",
       "      <th>platform</th>\n",
       "      <th>year_of_release</th>\n",
       "      <th>total_sales</th>\n",
       "    </tr>\n",
       "  </thead>\n",
       "  <tbody>\n",
       "    <tr>\n",
       "      <th>0</th>\n",
       "      <td>DS</td>\n",
       "      <td>1985.0</td>\n",
       "      <td>0.02</td>\n",
       "    </tr>\n",
       "    <tr>\n",
       "      <th>1</th>\n",
       "      <td>DS</td>\n",
       "      <td>2004.0</td>\n",
       "      <td>17.27</td>\n",
       "    </tr>\n",
       "    <tr>\n",
       "      <th>2</th>\n",
       "      <td>DS</td>\n",
       "      <td>2005.0</td>\n",
       "      <td>130.14</td>\n",
       "    </tr>\n",
       "    <tr>\n",
       "      <th>3</th>\n",
       "      <td>DS</td>\n",
       "      <td>2006.0</td>\n",
       "      <td>119.81</td>\n",
       "    </tr>\n",
       "    <tr>\n",
       "      <th>4</th>\n",
       "      <td>DS</td>\n",
       "      <td>2007.0</td>\n",
       "      <td>146.94</td>\n",
       "    </tr>\n",
       "    <tr>\n",
       "      <th>...</th>\n",
       "      <td>...</td>\n",
       "      <td>...</td>\n",
       "      <td>...</td>\n",
       "    </tr>\n",
       "    <tr>\n",
       "      <th>62</th>\n",
       "      <td>X360</td>\n",
       "      <td>2012.0</td>\n",
       "      <td>99.74</td>\n",
       "    </tr>\n",
       "    <tr>\n",
       "      <th>63</th>\n",
       "      <td>X360</td>\n",
       "      <td>2013.0</td>\n",
       "      <td>88.58</td>\n",
       "    </tr>\n",
       "    <tr>\n",
       "      <th>64</th>\n",
       "      <td>X360</td>\n",
       "      <td>2014.0</td>\n",
       "      <td>34.74</td>\n",
       "    </tr>\n",
       "    <tr>\n",
       "      <th>65</th>\n",
       "      <td>X360</td>\n",
       "      <td>2015.0</td>\n",
       "      <td>11.96</td>\n",
       "    </tr>\n",
       "    <tr>\n",
       "      <th>66</th>\n",
       "      <td>X360</td>\n",
       "      <td>2016.0</td>\n",
       "      <td>1.52</td>\n",
       "    </tr>\n",
       "  </tbody>\n",
       "</table>\n",
       "<p>67 rows × 3 columns</p>\n",
       "</div>"
      ],
      "text/plain": [
       "   platform  year_of_release  total_sales\n",
       "0        DS           1985.0         0.02\n",
       "1        DS           2004.0        17.27\n",
       "2        DS           2005.0       130.14\n",
       "3        DS           2006.0       119.81\n",
       "4        DS           2007.0       146.94\n",
       "..      ...              ...          ...\n",
       "62     X360           2012.0        99.74\n",
       "63     X360           2013.0        88.58\n",
       "64     X360           2014.0        34.74\n",
       "65     X360           2015.0        11.96\n",
       "66     X360           2016.0         1.52\n",
       "\n",
       "[67 rows x 3 columns]"
      ]
     },
     "execution_count": 17,
     "metadata": {},
     "output_type": "execute_result"
    }
   ],
   "source": [
    "df_yearly_sales = df_top_platforms.groupby(['platform', 'year_of_release'])['total_sales'].sum().reset_index()\n",
    "df_yearly_sales"
   ]
  },
  {
   "cell_type": "code",
   "execution_count": 18,
   "metadata": {},
   "outputs": [
    {
     "data": {
      "text/html": [
       "<div>\n",
       "<style scoped>\n",
       "    .dataframe tbody tr th:only-of-type {\n",
       "        vertical-align: middle;\n",
       "    }\n",
       "\n",
       "    .dataframe tbody tr th {\n",
       "        vertical-align: top;\n",
       "    }\n",
       "\n",
       "    .dataframe thead th {\n",
       "        text-align: right;\n",
       "    }\n",
       "</style>\n",
       "<table border=\"1\" class=\"dataframe\">\n",
       "  <thead>\n",
       "    <tr style=\"text-align: right;\">\n",
       "      <th></th>\n",
       "      <th>platform</th>\n",
       "      <th>year_of_release</th>\n",
       "      <th>total_sales</th>\n",
       "      <th>platform_year_of_release</th>\n",
       "    </tr>\n",
       "  </thead>\n",
       "  <tbody>\n",
       "    <tr>\n",
       "      <th>0</th>\n",
       "      <td>DS</td>\n",
       "      <td>1985.0</td>\n",
       "      <td>0.02</td>\n",
       "      <td>DS-1985.0</td>\n",
       "    </tr>\n",
       "    <tr>\n",
       "      <th>1</th>\n",
       "      <td>DS</td>\n",
       "      <td>2004.0</td>\n",
       "      <td>17.27</td>\n",
       "      <td>DS-2004.0</td>\n",
       "    </tr>\n",
       "    <tr>\n",
       "      <th>2</th>\n",
       "      <td>DS</td>\n",
       "      <td>2005.0</td>\n",
       "      <td>130.14</td>\n",
       "      <td>DS-2005.0</td>\n",
       "    </tr>\n",
       "    <tr>\n",
       "      <th>3</th>\n",
       "      <td>DS</td>\n",
       "      <td>2006.0</td>\n",
       "      <td>119.81</td>\n",
       "      <td>DS-2006.0</td>\n",
       "    </tr>\n",
       "    <tr>\n",
       "      <th>4</th>\n",
       "      <td>DS</td>\n",
       "      <td>2007.0</td>\n",
       "      <td>146.94</td>\n",
       "      <td>DS-2007.0</td>\n",
       "    </tr>\n",
       "    <tr>\n",
       "      <th>...</th>\n",
       "      <td>...</td>\n",
       "      <td>...</td>\n",
       "      <td>...</td>\n",
       "      <td>...</td>\n",
       "    </tr>\n",
       "    <tr>\n",
       "      <th>62</th>\n",
       "      <td>X360</td>\n",
       "      <td>2012.0</td>\n",
       "      <td>99.74</td>\n",
       "      <td>X360-2012.0</td>\n",
       "    </tr>\n",
       "    <tr>\n",
       "      <th>63</th>\n",
       "      <td>X360</td>\n",
       "      <td>2013.0</td>\n",
       "      <td>88.58</td>\n",
       "      <td>X360-2013.0</td>\n",
       "    </tr>\n",
       "    <tr>\n",
       "      <th>64</th>\n",
       "      <td>X360</td>\n",
       "      <td>2014.0</td>\n",
       "      <td>34.74</td>\n",
       "      <td>X360-2014.0</td>\n",
       "    </tr>\n",
       "    <tr>\n",
       "      <th>65</th>\n",
       "      <td>X360</td>\n",
       "      <td>2015.0</td>\n",
       "      <td>11.96</td>\n",
       "      <td>X360-2015.0</td>\n",
       "    </tr>\n",
       "    <tr>\n",
       "      <th>66</th>\n",
       "      <td>X360</td>\n",
       "      <td>2016.0</td>\n",
       "      <td>1.52</td>\n",
       "      <td>X360-2016.0</td>\n",
       "    </tr>\n",
       "  </tbody>\n",
       "</table>\n",
       "<p>67 rows × 4 columns</p>\n",
       "</div>"
      ],
      "text/plain": [
       "   platform  year_of_release  total_sales platform_year_of_release\n",
       "0        DS           1985.0         0.02                DS-1985.0\n",
       "1        DS           2004.0        17.27                DS-2004.0\n",
       "2        DS           2005.0       130.14                DS-2005.0\n",
       "3        DS           2006.0       119.81                DS-2006.0\n",
       "4        DS           2007.0       146.94                DS-2007.0\n",
       "..      ...              ...          ...                      ...\n",
       "62     X360           2012.0        99.74              X360-2012.0\n",
       "63     X360           2013.0        88.58              X360-2013.0\n",
       "64     X360           2014.0        34.74              X360-2014.0\n",
       "65     X360           2015.0        11.96              X360-2015.0\n",
       "66     X360           2016.0         1.52              X360-2016.0\n",
       "\n",
       "[67 rows x 4 columns]"
      ]
     },
     "execution_count": 18,
     "metadata": {},
     "output_type": "execute_result"
    }
   ],
   "source": [
    "df_yearly_sales['platform_year_of_release'] = df_yearly_sales['platform'] + '-' + df_yearly_sales['year_of_release'].astype(str)\n",
    "df_yearly_sales"
   ]
  },
  {
   "cell_type": "markdown",
   "metadata": {},
   "source": [
    "\n",
    "<div class=\"alert alert-block alert-success\">\n",
    "\n",
    "<b>Comentario del revisor</b> <a class=\"tocSkip\"></a><br>\n",
    "\n",
    "<b>Éxito</b> - ¡Excelente trabajo! Has aplicado un enfoque sólido y organizado para analizar las ventas totales de juegos y examinar las tendencias por plataforma y año. Aquí están algunos puntos clave que destacan en esta sección:\n",
    "\n",
    "1. **Cálculo de las Ventas Totales:** La creación de la columna `total_sales` sumando las ventas regionales (`na_sales`, `eu_sales`, `jp_sales`, `other_sales`) es una buena práctica que facilita un análisis agregado de los datos y permite hacer comparaciones generales entre plataformas y años.\n",
    "\n",
    "2. **Análisis Agrupado por Año y Plataforma:** \n",
    "   - La agrupación por `year_of_release` para contar la cantidad de lanzamientos es una buena forma de analizar tendencias temporales.\n",
    "   - Agrupar por `platform` y calcular las ventas totales permite identificar las plataformas más exitosas y entender su impacto en el mercado. La selección de las plataformas principales (`top_platforms`) es un enfoque práctico que ayuda a centrar el análisis en los datos más relevantes.\n",
    "\n",
    "3. **Uso de Visualizaciones:** La inclusión de gráficos de barras para visualizar las ventas totales por plataforma y año facilita la interpretación de los datos. Este enfoque visual refuerza tus observaciones sobre las plataformas con mayor éxito.\n",
    "\n",
    "4. **Preparación de Datos para Análisis Detallado:** \n",
    "   - Crear un DataFrame filtrado con las plataformas principales (`df_top_platforms`) y añadir una nueva columna combinada `platform_year_of_release` demuestra un buen manejo de la ingeniería de características para facilitar el análisis detallado.\n",
    "\n",
    "En general, este enfoque estructurado y visual es una excelente práctica para explorar los datos y obtener insights valiosos. ¡Sigue así, estás en el camino correcto! 😊\n",
    "\n",
    "</div> "
   ]
  },
  {
   "cell_type": "code",
   "execution_count": 19,
   "metadata": {},
   "outputs": [
    {
     "data": {
      "text/plain": [
       "<Figure size 1500x600 with 0 Axes>"
      ]
     },
     "metadata": {},
     "output_type": "display_data"
    },
    {
     "data": {
      "image/png": "[encoded data removed]",
      "text/plain": [
       "<Figure size 640x480 with 1 Axes>"
      ]
     },
     "metadata": {},
     "output_type": "display_data"
    }
   ],
   "source": [
    "plt.figure(figsize=(15, 6))\n",
    "df_yearly_sales.plot(kind='bar', x=('platform_year_of_release'), y='total_sales')\n",
    "plt.tight_layout()"
   ]
  },
  {
   "cell_type": "markdown",
   "metadata": {},
   "source": [
    "<div class=\"alert alert-block alert-warning\">\n",
    "<b>Comentario del revisor</b> <a class=\"tocSkip\"></a><br>\n",
    "\n",
    "<b>Atención</b> ⚠️ -\n",
    "\n",
    "El gráfico presenta un problema de legibilidad debido a la sobresaturación de etiquetas en el eje X, lo que dificulta interpretar la información de manera clara. Para mejorar esta visualización, considera los siguientes conceptos:\n",
    "\n",
    "1. **Reducción de Complejidad Visual:** Si tienes demasiados datos, agrupa la información en categorías más generales o resúmelas por intervalos de tiempo (por ejemplo, agrupando por décadas o por plataformas principales). Esto hace que los patrones sean más visibles.\n",
    "\n",
    "2. **Rotación de Etiquetas:** Al rotar las etiquetas del eje X (por ejemplo, 45 o 90 grados), se reduce el solapamiento, mejorando la legibilidad del gráfico.\n",
    "\n",
    "3. **Selección de Datos Relevantes:** Filtra los datos para enfocarte solo en las plataformas o años más representativos. Esto evita el ruido visual y permite destacar los insights más importantes.\n",
    "\n",
    "4. **Elección del Tipo de Gráfico:** Para tendencias temporales, un gráfico de líneas podría ser más adecuado que un gráfico de barras, ya que permite observar cambios a lo largo del tiempo de forma más intuitiva.\n",
    "\n",
    "Con estos ajustes, tu gráfico será más claro, profesional y efectivo para comunicar la información. ¡Buen trabajo! 😊\n",
    "</div>"
   ]
  },
  {
   "cell_type": "markdown",
   "metadata": {},
   "source": [
    "Despues de que una plataforma ha aparecido pro primera vez tarda en promedio 6 años para que una nueva aparezca de la misma línea. Sin embargo, la duración total de una plataforma es de 10 años en promedio a pesar de que ya una nueva se ha lanzado."
   ]
  },
  {
   "cell_type": "markdown",
   "metadata": {},
   "source": [
    "Todas las plataformas experimentan un inicio de ventas bajo un pico de ventas en vida media y un declive en su fase final antes de su desaparición."
   ]
  },
  {
   "cell_type": "code",
   "execution_count": 20,
   "metadata": {},
   "outputs": [
    {
     "data": {
      "image/png": "[encoded data removed]",
      "text/plain": [
       "<Figure size 640x480 with 1 Axes>"
      ]
     },
     "metadata": {},
     "output_type": "display_data"
    }
   ],
   "source": [
    "df_yearly_sales['platform']\n",
    "sns.boxplot(x='platform', y='total_sales', data=df_yearly_sales)\n",
    "plt.title('Diagramas de Caja por Plataforma. Comparacion en ventas por año')\n",
    "plt.show()"
   ]
  },
  {
   "cell_type": "code",
   "execution_count": 21,
   "metadata": {},
   "outputs": [
    {
     "data": {
      "image/png": "[encoded data removed]",
      "text/plain": [
       "<Figure size 640x480 with 1 Axes>"
      ]
     },
     "metadata": {},
     "output_type": "display_data"
    }
   ],
   "source": [
    "df['platform']\n",
    "sns.boxplot(x='platform', y='total_sales', data=df)\n",
    "plt.title('Diagramas de Caja por Plataforma')\n",
    "plt.show()"
   ]
  },
  {
   "cell_type": "markdown",
   "metadata": {},
   "source": [
    "<div class=\"alert alert-block alert-warning\">\n",
    "\n",
    "<b>Comentario del revisor</b> <a class=\"tocSkip\"></a><br>\n",
    "\n",
    "<b>Atención</b> ⚠️ - El diagrama de caja muestra información útil sobre las ventas por plataforma, pero puede mejorarse para facilitar su interpretación. Considera las siguientes sugerencias:\n",
    "\n",
    "1. **Agrupación de Plataformas con Menor Contribución:** Las plataformas que tienen un bajo impacto en las ventas totales pueden ser agrupadas en una categoría general como \"Other\". Esto reducirá la cantidad de categorías en el eje X y hará que los datos más relevantes destaquen.\n",
    "\n",
    "2. **División por Cuartiles:** Para un análisis más detallado, divide las plataformas en grupos según sus ventas totales (por ejemplo, usando cuartiles). Esto permitirá identificar patrones entre plataformas de alto, medio y bajo desempeño.\n",
    "\n",
    "Implementar estas estrategias hará que tu visualización sea más clara y fácil de interpretar. ¡Sigue adelante, estás haciendo un gran trabajo!\n",
    "\n",
    "</div>\n"
   ]
  },
  {
   "cell_type": "code",
   "execution_count": 22,
   "metadata": {
    "scrolled": false
   },
   "outputs": [
    {
     "data": {
      "image/png": "[encoded data removed]",
      "text/plain": [
       "<Figure size 640x480 with 1 Axes>"
      ]
     },
     "metadata": {},
     "output_type": "display_data"
    }
   ],
   "source": [
    "df_top_platforms\n",
    "sns.boxplot(x='platform', y='total_sales', data=df_top_platforms)\n",
    "plt.title('Diagramas de Caja por Plataforma para todos los juegos')\n",
    "plt.show()"
   ]
  },
  {
   "cell_type": "code",
   "execution_count": 23,
   "metadata": {},
   "outputs": [
    {
     "name": "stdout",
     "output_type": "stream",
     "text": [
      "Cantidad de outliers por grupo:\n",
      "platform\n",
      "DS      233\n",
      "PS      114\n",
      "PS2     251\n",
      "PS3     119\n",
      "Wii     139\n",
      "X360    131\n",
      "Name: total_sales, dtype: int64\n",
      "\n",
      "Total de outliers en el conjunto de datos: 987\n"
     ]
    }
   ],
   "source": [
    "def contar_outliers(grupo):\n",
    "    Q1 = grupo.quantile(0.25)  # Primer cuartil\n",
    "    Q3 = grupo.quantile(0.75)  # Tercer cuartil\n",
    "    IQR = Q3 - Q1  # Rango intercuartílico\n",
    "    lower_bound = Q1 - 1.5 * IQR  # Límite inferior\n",
    "    upper_bound = Q3 + 1.5 * IQR  # Límite superior\n",
    "    # Contar datos fuera de los límites\n",
    "    outliers = grupo[(grupo < lower_bound) | (grupo > upper_bound)]\n",
    "    return len(outliers)\n",
    "outliers_por_grupo = df_top_platforms.groupby('platform')['total_sales'].apply(contar_outliers)\n",
    "print(\"Cantidad de outliers por grupo:\")\n",
    "print(outliers_por_grupo)\n",
    "total_outliers = outliers_por_grupo.sum()\n",
    "print(\"\\nTotal de outliers en el conjunto de datos:\", total_outliers)"
   ]
  },
  {
   "cell_type": "markdown",
   "metadata": {},
   "source": [
    "No existe diferencia significativa en las ventas entre las distintas plataformas"
   ]
  },
  {
   "cell_type": "markdown",
   "metadata": {},
   "source": [
    "Mira cómo las reseñas de usuarios y profesionales afectan las ventas de una plataforma popular (tu elección). Crea un gráfico de dispersión y calcula la correlación entre las reseñas y las ventas. Saca conclusiones."
   ]
  },
  {
   "cell_type": "code",
   "execution_count": 24,
   "metadata": {},
   "outputs": [],
   "source": [
    "correl_df = df\n",
    "correl_df = df.dropna(subset=['user_score'])\n",
    "\n",
    "correl_df = correl_df[correl_df['user_score'] != 'tbd']"
   ]
  },
  {
   "cell_type": "code",
   "execution_count": 25,
   "metadata": {},
   "outputs": [],
   "source": [
    "correl_df['user_score'] = correl_df['user_score'].astype('float')"
   ]
  },
  {
   "cell_type": "code",
   "execution_count": 26,
   "metadata": {},
   "outputs": [
    {
     "name": "stdout",
     "output_type": "stream",
     "text": [
      "user_score     float64\n",
      "total_sales    float64\n",
      "dtype: object\n",
      "0.08817911987579136\n"
     ]
    }
   ],
   "source": [
    "print(correl_df[['user_score', 'total_sales']].dtypes)\n",
    "print(correl_df['user_score'].corr(df['total_sales']))\n"
   ]
  },
  {
   "cell_type": "code",
   "execution_count": 27,
   "metadata": {},
   "outputs": [
    {
     "data": {
      "text/plain": [
       "<AxesSubplot:xlabel='user_score', ylabel='total_sales'>"
      ]
     },
     "execution_count": 27,
     "metadata": {},
     "output_type": "execute_result"
    },
    {
     "data": {
      "image/png": "[encoded data removed]",
      "text/plain": [
       "<Figure size 640x480 with 1 Axes>"
      ]
     },
     "metadata": {},
     "output_type": "display_data"
    }
   ],
   "source": [
    "correl_df.plot(kind='scatter', x='user_score', y='total_sales')"
   ]
  },
  {
   "cell_type": "code",
   "execution_count": null,
   "metadata": {},
   "outputs": [],
   "source": []
  },
  {
   "cell_type": "code",
   "execution_count": 28,
   "metadata": {},
   "outputs": [
    {
     "name": "stdout",
     "output_type": "stream",
     "text": [
      "0.23696225509682375\n"
     ]
    }
   ],
   "source": [
    "print(correl_df['critic_score'].corr(df['total_sales']))"
   ]
  },
  {
   "cell_type": "code",
   "execution_count": 29,
   "metadata": {},
   "outputs": [
    {
     "data": {
      "text/plain": [
       "<AxesSubplot:xlabel='critic_score', ylabel='total_sales'>"
      ]
     },
     "execution_count": 29,
     "metadata": {},
     "output_type": "execute_result"
    },
    {
     "data": {
      "image/png": "[encoded data removed]",
      "text/plain": [
       "<Figure size 640x480 with 1 Axes>"
      ]
     },
     "metadata": {},
     "output_type": "display_data"
    }
   ],
   "source": [
    "correl_df.plot(kind='scatter', x='critic_score', y='total_sales')"
   ]
  },
  {
   "cell_type": "markdown",
   "metadata": {},
   "source": [
    "De acuerdo a la correlación de Pearson y las graficas de dispersión, no existe una correlación ya sea entre la calificación del usuario o de un crítico y las ventas totales"
   ]
  },
  {
   "cell_type": "code",
   "execution_count": 30,
   "metadata": {},
   "outputs": [
    {
     "data": {
      "text/plain": [
       "7383"
      ]
     },
     "execution_count": 30,
     "metadata": {},
     "output_type": "execute_result"
    }
   ],
   "source": [
    "len(df_top_platforms['name'].unique())\n"
   ]
  },
  {
   "cell_type": "code",
   "execution_count": 31,
   "metadata": {},
   "outputs": [],
   "source": [
    "games_sorted = df_top_platforms.sort_values(by='total_sales', ascending=False)"
   ]
  },
  {
   "cell_type": "code",
   "execution_count": 32,
   "metadata": {},
   "outputs": [
    {
     "data": {
      "text/html": [
       "<div>\n",
       "<style scoped>\n",
       "    .dataframe tbody tr th:only-of-type {\n",
       "        vertical-align: middle;\n",
       "    }\n",
       "\n",
       "    .dataframe tbody tr th {\n",
       "        vertical-align: top;\n",
       "    }\n",
       "\n",
       "    .dataframe thead th {\n",
       "        text-align: right;\n",
       "    }\n",
       "</style>\n",
       "<table border=\"1\" class=\"dataframe\">\n",
       "  <thead>\n",
       "    <tr style=\"text-align: right;\">\n",
       "      <th></th>\n",
       "      <th>name</th>\n",
       "      <th>platform</th>\n",
       "      <th>year_of_release</th>\n",
       "      <th>genre</th>\n",
       "      <th>na_sales</th>\n",
       "      <th>eu_sales</th>\n",
       "      <th>jp_sales</th>\n",
       "      <th>other_sales</th>\n",
       "      <th>critic_score</th>\n",
       "      <th>user_score</th>\n",
       "      <th>rating</th>\n",
       "      <th>total_sales</th>\n",
       "    </tr>\n",
       "  </thead>\n",
       "  <tbody>\n",
       "    <tr>\n",
       "      <th>0</th>\n",
       "      <td>Wii Sports</td>\n",
       "      <td>Wii</td>\n",
       "      <td>2006.0</td>\n",
       "      <td>Sports</td>\n",
       "      <td>41.36</td>\n",
       "      <td>28.96</td>\n",
       "      <td>3.77</td>\n",
       "      <td>8.45</td>\n",
       "      <td>76.0</td>\n",
       "      <td>8</td>\n",
       "      <td>E</td>\n",
       "      <td>82.54</td>\n",
       "    </tr>\n",
       "    <tr>\n",
       "      <th>2</th>\n",
       "      <td>Mario Kart Wii</td>\n",
       "      <td>Wii</td>\n",
       "      <td>2008.0</td>\n",
       "      <td>Racing</td>\n",
       "      <td>15.68</td>\n",
       "      <td>12.76</td>\n",
       "      <td>3.79</td>\n",
       "      <td>3.29</td>\n",
       "      <td>82.0</td>\n",
       "      <td>8.3</td>\n",
       "      <td>E</td>\n",
       "      <td>35.52</td>\n",
       "    </tr>\n",
       "    <tr>\n",
       "      <th>3</th>\n",
       "      <td>Wii Sports Resort</td>\n",
       "      <td>Wii</td>\n",
       "      <td>2009.0</td>\n",
       "      <td>Sports</td>\n",
       "      <td>15.61</td>\n",
       "      <td>10.93</td>\n",
       "      <td>3.28</td>\n",
       "      <td>2.95</td>\n",
       "      <td>80.0</td>\n",
       "      <td>8</td>\n",
       "      <td>E</td>\n",
       "      <td>32.77</td>\n",
       "    </tr>\n",
       "    <tr>\n",
       "      <th>6</th>\n",
       "      <td>New Super Mario Bros.</td>\n",
       "      <td>DS</td>\n",
       "      <td>2006.0</td>\n",
       "      <td>Platform</td>\n",
       "      <td>11.28</td>\n",
       "      <td>9.14</td>\n",
       "      <td>6.50</td>\n",
       "      <td>2.88</td>\n",
       "      <td>89.0</td>\n",
       "      <td>8.5</td>\n",
       "      <td>E</td>\n",
       "      <td>29.80</td>\n",
       "    </tr>\n",
       "    <tr>\n",
       "      <th>7</th>\n",
       "      <td>Wii Play</td>\n",
       "      <td>Wii</td>\n",
       "      <td>2006.0</td>\n",
       "      <td>Misc</td>\n",
       "      <td>13.96</td>\n",
       "      <td>9.18</td>\n",
       "      <td>2.93</td>\n",
       "      <td>2.84</td>\n",
       "      <td>58.0</td>\n",
       "      <td>6.6</td>\n",
       "      <td>E</td>\n",
       "      <td>28.91</td>\n",
       "    </tr>\n",
       "    <tr>\n",
       "      <th>8</th>\n",
       "      <td>New Super Mario Bros. Wii</td>\n",
       "      <td>Wii</td>\n",
       "      <td>2009.0</td>\n",
       "      <td>Platform</td>\n",
       "      <td>14.44</td>\n",
       "      <td>6.94</td>\n",
       "      <td>4.70</td>\n",
       "      <td>2.24</td>\n",
       "      <td>87.0</td>\n",
       "      <td>8.4</td>\n",
       "      <td>E</td>\n",
       "      <td>28.32</td>\n",
       "    </tr>\n",
       "    <tr>\n",
       "      <th>10</th>\n",
       "      <td>Nintendogs</td>\n",
       "      <td>DS</td>\n",
       "      <td>2005.0</td>\n",
       "      <td>Simulation</td>\n",
       "      <td>9.05</td>\n",
       "      <td>10.95</td>\n",
       "      <td>1.93</td>\n",
       "      <td>2.74</td>\n",
       "      <td>NaN</td>\n",
       "      <td>NaN</td>\n",
       "      <td>NaN</td>\n",
       "      <td>24.67</td>\n",
       "    </tr>\n",
       "    <tr>\n",
       "      <th>11</th>\n",
       "      <td>Mario Kart DS</td>\n",
       "      <td>DS</td>\n",
       "      <td>2005.0</td>\n",
       "      <td>Racing</td>\n",
       "      <td>9.71</td>\n",
       "      <td>7.47</td>\n",
       "      <td>4.13</td>\n",
       "      <td>1.90</td>\n",
       "      <td>91.0</td>\n",
       "      <td>8.6</td>\n",
       "      <td>E</td>\n",
       "      <td>23.21</td>\n",
       "    </tr>\n",
       "    <tr>\n",
       "      <th>13</th>\n",
       "      <td>Wii Fit</td>\n",
       "      <td>Wii</td>\n",
       "      <td>2007.0</td>\n",
       "      <td>Sports</td>\n",
       "      <td>8.92</td>\n",
       "      <td>8.03</td>\n",
       "      <td>3.60</td>\n",
       "      <td>2.15</td>\n",
       "      <td>80.0</td>\n",
       "      <td>7.7</td>\n",
       "      <td>E</td>\n",
       "      <td>22.70</td>\n",
       "    </tr>\n",
       "    <tr>\n",
       "      <th>14</th>\n",
       "      <td>Kinect Adventures!</td>\n",
       "      <td>X360</td>\n",
       "      <td>2010.0</td>\n",
       "      <td>Misc</td>\n",
       "      <td>15.00</td>\n",
       "      <td>4.89</td>\n",
       "      <td>0.24</td>\n",
       "      <td>1.69</td>\n",
       "      <td>61.0</td>\n",
       "      <td>6.3</td>\n",
       "      <td>E</td>\n",
       "      <td>21.82</td>\n",
       "    </tr>\n",
       "    <tr>\n",
       "      <th>15</th>\n",
       "      <td>Wii Fit Plus</td>\n",
       "      <td>Wii</td>\n",
       "      <td>2009.0</td>\n",
       "      <td>Sports</td>\n",
       "      <td>9.01</td>\n",
       "      <td>8.49</td>\n",
       "      <td>2.53</td>\n",
       "      <td>1.77</td>\n",
       "      <td>80.0</td>\n",
       "      <td>7.4</td>\n",
       "      <td>E</td>\n",
       "      <td>21.80</td>\n",
       "    </tr>\n",
       "    <tr>\n",
       "      <th>16</th>\n",
       "      <td>Grand Theft Auto V</td>\n",
       "      <td>PS3</td>\n",
       "      <td>2013.0</td>\n",
       "      <td>Action</td>\n",
       "      <td>7.02</td>\n",
       "      <td>9.09</td>\n",
       "      <td>0.98</td>\n",
       "      <td>3.96</td>\n",
       "      <td>97.0</td>\n",
       "      <td>8.2</td>\n",
       "      <td>M</td>\n",
       "      <td>21.05</td>\n",
       "    </tr>\n",
       "    <tr>\n",
       "      <th>17</th>\n",
       "      <td>Grand Theft Auto: San Andreas</td>\n",
       "      <td>PS2</td>\n",
       "      <td>2004.0</td>\n",
       "      <td>Action</td>\n",
       "      <td>9.43</td>\n",
       "      <td>0.40</td>\n",
       "      <td>0.41</td>\n",
       "      <td>10.57</td>\n",
       "      <td>95.0</td>\n",
       "      <td>9</td>\n",
       "      <td>M</td>\n",
       "      <td>20.81</td>\n",
       "    </tr>\n",
       "    <tr>\n",
       "      <th>19</th>\n",
       "      <td>Brain Age: Train Your Brain in Minutes a Day</td>\n",
       "      <td>DS</td>\n",
       "      <td>2005.0</td>\n",
       "      <td>Misc</td>\n",
       "      <td>4.74</td>\n",
       "      <td>9.20</td>\n",
       "      <td>4.16</td>\n",
       "      <td>2.04</td>\n",
       "      <td>77.0</td>\n",
       "      <td>7.9</td>\n",
       "      <td>E</td>\n",
       "      <td>20.14</td>\n",
       "    </tr>\n",
       "    <tr>\n",
       "      <th>20</th>\n",
       "      <td>Pokemon Diamond/Pokemon Pearl</td>\n",
       "      <td>DS</td>\n",
       "      <td>2006.0</td>\n",
       "      <td>Role-Playing</td>\n",
       "      <td>6.38</td>\n",
       "      <td>4.46</td>\n",
       "      <td>6.04</td>\n",
       "      <td>1.36</td>\n",
       "      <td>NaN</td>\n",
       "      <td>NaN</td>\n",
       "      <td>NaN</td>\n",
       "      <td>18.24</td>\n",
       "    </tr>\n",
       "    <tr>\n",
       "      <th>23</th>\n",
       "      <td>Grand Theft Auto V</td>\n",
       "      <td>X360</td>\n",
       "      <td>2013.0</td>\n",
       "      <td>Action</td>\n",
       "      <td>9.66</td>\n",
       "      <td>5.14</td>\n",
       "      <td>0.06</td>\n",
       "      <td>1.41</td>\n",
       "      <td>97.0</td>\n",
       "      <td>8.1</td>\n",
       "      <td>M</td>\n",
       "      <td>16.27</td>\n",
       "    </tr>\n",
       "    <tr>\n",
       "      <th>24</th>\n",
       "      <td>Grand Theft Auto: Vice City</td>\n",
       "      <td>PS2</td>\n",
       "      <td>2002.0</td>\n",
       "      <td>Action</td>\n",
       "      <td>8.41</td>\n",
       "      <td>5.49</td>\n",
       "      <td>0.47</td>\n",
       "      <td>1.78</td>\n",
       "      <td>95.0</td>\n",
       "      <td>8.7</td>\n",
       "      <td>M</td>\n",
       "      <td>16.15</td>\n",
       "    </tr>\n",
       "    <tr>\n",
       "      <th>26</th>\n",
       "      <td>Brain Age 2: More Training in Minutes a Day</td>\n",
       "      <td>DS</td>\n",
       "      <td>2005.0</td>\n",
       "      <td>Puzzle</td>\n",
       "      <td>3.43</td>\n",
       "      <td>5.35</td>\n",
       "      <td>5.32</td>\n",
       "      <td>1.18</td>\n",
       "      <td>77.0</td>\n",
       "      <td>7.1</td>\n",
       "      <td>E</td>\n",
       "      <td>15.28</td>\n",
       "    </tr>\n",
       "    <tr>\n",
       "      <th>27</th>\n",
       "      <td>Pokemon Black/Pokemon White</td>\n",
       "      <td>DS</td>\n",
       "      <td>2010.0</td>\n",
       "      <td>Role-Playing</td>\n",
       "      <td>5.51</td>\n",
       "      <td>3.17</td>\n",
       "      <td>5.65</td>\n",
       "      <td>0.80</td>\n",
       "      <td>NaN</td>\n",
       "      <td>NaN</td>\n",
       "      <td>NaN</td>\n",
       "      <td>15.13</td>\n",
       "    </tr>\n",
       "    <tr>\n",
       "      <th>28</th>\n",
       "      <td>Gran Turismo 3: A-Spec</td>\n",
       "      <td>PS2</td>\n",
       "      <td>2001.0</td>\n",
       "      <td>Racing</td>\n",
       "      <td>6.85</td>\n",
       "      <td>5.09</td>\n",
       "      <td>1.87</td>\n",
       "      <td>1.16</td>\n",
       "      <td>95.0</td>\n",
       "      <td>8.4</td>\n",
       "      <td>E</td>\n",
       "      <td>14.97</td>\n",
       "    </tr>\n",
       "  </tbody>\n",
       "</table>\n",
       "</div>"
      ],
      "text/plain": [
       "                                            name platform  year_of_release  \\\n",
       "0                                     Wii Sports      Wii           2006.0   \n",
       "2                                 Mario Kart Wii      Wii           2008.0   \n",
       "3                              Wii Sports Resort      Wii           2009.0   \n",
       "6                          New Super Mario Bros.       DS           2006.0   \n",
       "7                                       Wii Play      Wii           2006.0   \n",
       "8                      New Super Mario Bros. Wii      Wii           2009.0   \n",
       "10                                    Nintendogs       DS           2005.0   \n",
       "11                                 Mario Kart DS       DS           2005.0   \n",
       "13                                       Wii Fit      Wii           2007.0   \n",
       "14                            Kinect Adventures!     X360           2010.0   \n",
       "15                                  Wii Fit Plus      Wii           2009.0   \n",
       "16                            Grand Theft Auto V      PS3           2013.0   \n",
       "17                 Grand Theft Auto: San Andreas      PS2           2004.0   \n",
       "19  Brain Age: Train Your Brain in Minutes a Day       DS           2005.0   \n",
       "20                 Pokemon Diamond/Pokemon Pearl       DS           2006.0   \n",
       "23                            Grand Theft Auto V     X360           2013.0   \n",
       "24                   Grand Theft Auto: Vice City      PS2           2002.0   \n",
       "26   Brain Age 2: More Training in Minutes a Day       DS           2005.0   \n",
       "27                   Pokemon Black/Pokemon White       DS           2010.0   \n",
       "28                        Gran Turismo 3: A-Spec      PS2           2001.0   \n",
       "\n",
       "           genre  na_sales  eu_sales  jp_sales  other_sales  critic_score  \\\n",
       "0         Sports     41.36     28.96      3.77         8.45          76.0   \n",
       "2         Racing     15.68     12.76      3.79         3.29          82.0   \n",
       "3         Sports     15.61     10.93      3.28         2.95          80.0   \n",
       "6       Platform     11.28      9.14      6.50         2.88          89.0   \n",
       "7           Misc     13.96      9.18      2.93         2.84          58.0   \n",
       "8       Platform     14.44      6.94      4.70         2.24          87.0   \n",
       "10    Simulation      9.05     10.95      1.93         2.74           NaN   \n",
       "11        Racing      9.71      7.47      4.13         1.90          91.0   \n",
       "13        Sports      8.92      8.03      3.60         2.15          80.0   \n",
       "14          Misc     15.00      4.89      0.24         1.69          61.0   \n",
       "15        Sports      9.01      8.49      2.53         1.77          80.0   \n",
       "16        Action      7.02      9.09      0.98         3.96          97.0   \n",
       "17        Action      9.43      0.40      0.41        10.57          95.0   \n",
       "19          Misc      4.74      9.20      4.16         2.04          77.0   \n",
       "20  Role-Playing      6.38      4.46      6.04         1.36           NaN   \n",
       "23        Action      9.66      5.14      0.06         1.41          97.0   \n",
       "24        Action      8.41      5.49      0.47         1.78          95.0   \n",
       "26        Puzzle      3.43      5.35      5.32         1.18          77.0   \n",
       "27  Role-Playing      5.51      3.17      5.65         0.80           NaN   \n",
       "28        Racing      6.85      5.09      1.87         1.16          95.0   \n",
       "\n",
       "   user_score rating  total_sales  \n",
       "0           8      E        82.54  \n",
       "2         8.3      E        35.52  \n",
       "3           8      E        32.77  \n",
       "6         8.5      E        29.80  \n",
       "7         6.6      E        28.91  \n",
       "8         8.4      E        28.32  \n",
       "10        NaN    NaN        24.67  \n",
       "11        8.6      E        23.21  \n",
       "13        7.7      E        22.70  \n",
       "14        6.3      E        21.82  \n",
       "15        7.4      E        21.80  \n",
       "16        8.2      M        21.05  \n",
       "17          9      M        20.81  \n",
       "19        7.9      E        20.14  \n",
       "20        NaN    NaN        18.24  \n",
       "23        8.1      M        16.27  \n",
       "24        8.7      M        16.15  \n",
       "26        7.1      E        15.28  \n",
       "27        NaN    NaN        15.13  \n",
       "28        8.4      E        14.97  "
      ]
     },
     "execution_count": 32,
     "metadata": {},
     "output_type": "execute_result"
    }
   ],
   "source": [
    "games_sorted.head(20)"
   ]
  },
  {
   "cell_type": "markdown",
   "metadata": {},
   "source": [
    "Selecciono los juegos con más ventas que no sean exclusivos de una plataforma: Grand Theft Auto V y Grand Theft Auto: San Andreas."
   ]
  },
  {
   "cell_type": "code",
   "execution_count": 33,
   "metadata": {},
   "outputs": [
    {
     "data": {
      "text/html": [
       "<div>\n",
       "<style scoped>\n",
       "    .dataframe tbody tr th:only-of-type {\n",
       "        vertical-align: middle;\n",
       "    }\n",
       "\n",
       "    .dataframe tbody tr th {\n",
       "        vertical-align: top;\n",
       "    }\n",
       "\n",
       "    .dataframe thead th {\n",
       "        text-align: right;\n",
       "    }\n",
       "</style>\n",
       "<table border=\"1\" class=\"dataframe\">\n",
       "  <thead>\n",
       "    <tr style=\"text-align: right;\">\n",
       "      <th></th>\n",
       "      <th>name</th>\n",
       "      <th>platform</th>\n",
       "      <th>year_of_release</th>\n",
       "      <th>genre</th>\n",
       "      <th>na_sales</th>\n",
       "      <th>eu_sales</th>\n",
       "      <th>jp_sales</th>\n",
       "      <th>other_sales</th>\n",
       "      <th>critic_score</th>\n",
       "      <th>user_score</th>\n",
       "      <th>rating</th>\n",
       "      <th>total_sales</th>\n",
       "    </tr>\n",
       "  </thead>\n",
       "  <tbody>\n",
       "    <tr>\n",
       "      <th>16</th>\n",
       "      <td>Grand Theft Auto V</td>\n",
       "      <td>PS3</td>\n",
       "      <td>2013.0</td>\n",
       "      <td>Action</td>\n",
       "      <td>7.02</td>\n",
       "      <td>9.09</td>\n",
       "      <td>0.98</td>\n",
       "      <td>3.96</td>\n",
       "      <td>97.0</td>\n",
       "      <td>8.2</td>\n",
       "      <td>M</td>\n",
       "      <td>21.05</td>\n",
       "    </tr>\n",
       "    <tr>\n",
       "      <th>23</th>\n",
       "      <td>Grand Theft Auto V</td>\n",
       "      <td>X360</td>\n",
       "      <td>2013.0</td>\n",
       "      <td>Action</td>\n",
       "      <td>9.66</td>\n",
       "      <td>5.14</td>\n",
       "      <td>0.06</td>\n",
       "      <td>1.41</td>\n",
       "      <td>97.0</td>\n",
       "      <td>8.1</td>\n",
       "      <td>M</td>\n",
       "      <td>16.27</td>\n",
       "    </tr>\n",
       "  </tbody>\n",
       "</table>\n",
       "</div>"
      ],
      "text/plain": [
       "                  name platform  year_of_release   genre  na_sales  eu_sales  \\\n",
       "16  Grand Theft Auto V      PS3           2013.0  Action      7.02      9.09   \n",
       "23  Grand Theft Auto V     X360           2013.0  Action      9.66      5.14   \n",
       "\n",
       "    jp_sales  other_sales  critic_score user_score rating  total_sales  \n",
       "16      0.98         3.96          97.0        8.2      M        21.05  \n",
       "23      0.06         1.41          97.0        8.1      M        16.27  "
      ]
     },
     "execution_count": 33,
     "metadata": {},
     "output_type": "execute_result"
    }
   ],
   "source": [
    "df_top_platforms[df_top_platforms['name'] == 'Grand Theft Auto V']"
   ]
  },
  {
   "cell_type": "code",
   "execution_count": 34,
   "metadata": {},
   "outputs": [
    {
     "data": {
      "text/html": [
       "<div>\n",
       "<style scoped>\n",
       "    .dataframe tbody tr th:only-of-type {\n",
       "        vertical-align: middle;\n",
       "    }\n",
       "\n",
       "    .dataframe tbody tr th {\n",
       "        vertical-align: top;\n",
       "    }\n",
       "\n",
       "    .dataframe thead th {\n",
       "        text-align: right;\n",
       "    }\n",
       "</style>\n",
       "<table border=\"1\" class=\"dataframe\">\n",
       "  <thead>\n",
       "    <tr style=\"text-align: right;\">\n",
       "      <th></th>\n",
       "      <th>name</th>\n",
       "      <th>platform</th>\n",
       "      <th>year_of_release</th>\n",
       "      <th>genre</th>\n",
       "      <th>na_sales</th>\n",
       "      <th>eu_sales</th>\n",
       "      <th>jp_sales</th>\n",
       "      <th>other_sales</th>\n",
       "      <th>critic_score</th>\n",
       "      <th>user_score</th>\n",
       "      <th>rating</th>\n",
       "      <th>total_sales</th>\n",
       "    </tr>\n",
       "  </thead>\n",
       "  <tbody>\n",
       "    <tr>\n",
       "      <th>17</th>\n",
       "      <td>Grand Theft Auto: San Andreas</td>\n",
       "      <td>PS2</td>\n",
       "      <td>2004.0</td>\n",
       "      <td>Action</td>\n",
       "      <td>9.43</td>\n",
       "      <td>0.40</td>\n",
       "      <td>0.41</td>\n",
       "      <td>10.57</td>\n",
       "      <td>95.0</td>\n",
       "      <td>9</td>\n",
       "      <td>M</td>\n",
       "      <td>20.81</td>\n",
       "    </tr>\n",
       "    <tr>\n",
       "      <th>10311</th>\n",
       "      <td>Grand Theft Auto: San Andreas</td>\n",
       "      <td>X360</td>\n",
       "      <td>2008.0</td>\n",
       "      <td>Action</td>\n",
       "      <td>0.08</td>\n",
       "      <td>0.02</td>\n",
       "      <td>0.00</td>\n",
       "      <td>0.01</td>\n",
       "      <td>NaN</td>\n",
       "      <td>7.5</td>\n",
       "      <td>M</td>\n",
       "      <td>0.11</td>\n",
       "    </tr>\n",
       "  </tbody>\n",
       "</table>\n",
       "</div>"
      ],
      "text/plain": [
       "                                name platform  year_of_release   genre  \\\n",
       "17     Grand Theft Auto: San Andreas      PS2           2004.0  Action   \n",
       "10311  Grand Theft Auto: San Andreas     X360           2008.0  Action   \n",
       "\n",
       "       na_sales  eu_sales  jp_sales  other_sales  critic_score user_score  \\\n",
       "17         9.43      0.40      0.41        10.57          95.0          9   \n",
       "10311      0.08      0.02      0.00         0.01           NaN        7.5   \n",
       "\n",
       "      rating  total_sales  \n",
       "17         M        20.81  \n",
       "10311      M         0.11  "
      ]
     },
     "execution_count": 34,
     "metadata": {},
     "output_type": "execute_result"
    }
   ],
   "source": [
    "df_top_platforms[df_top_platforms['name'] == 'Grand Theft Auto: San Andreas']"
   ]
  },
  {
   "cell_type": "markdown",
   "metadata": {},
   "source": [
    "Los juegos Grand Theft Auto V y Grand Theft Auto: San Andreas se vendieron notablemente más en PlayStation que en XBox"
   ]
  },
  {
   "cell_type": "code",
   "execution_count": 35,
   "metadata": {},
   "outputs": [
    {
     "data": {
      "text/html": [
       "<div>\n",
       "<style scoped>\n",
       "    .dataframe tbody tr th:only-of-type {\n",
       "        vertical-align: middle;\n",
       "    }\n",
       "\n",
       "    .dataframe tbody tr th {\n",
       "        vertical-align: top;\n",
       "    }\n",
       "\n",
       "    .dataframe thead th {\n",
       "        text-align: right;\n",
       "    }\n",
       "</style>\n",
       "<table border=\"1\" class=\"dataframe\">\n",
       "  <thead>\n",
       "    <tr style=\"text-align: right;\">\n",
       "      <th></th>\n",
       "      <th>genre</th>\n",
       "      <th>total_sales</th>\n",
       "    </tr>\n",
       "  </thead>\n",
       "  <tbody>\n",
       "    <tr>\n",
       "      <th>0</th>\n",
       "      <td>Action</td>\n",
       "      <td>1168.01</td>\n",
       "    </tr>\n",
       "    <tr>\n",
       "      <th>1</th>\n",
       "      <td>Sports</td>\n",
       "      <td>986.47</td>\n",
       "    </tr>\n",
       "    <tr>\n",
       "      <th>2</th>\n",
       "      <td>Shooter</td>\n",
       "      <td>653.21</td>\n",
       "    </tr>\n",
       "    <tr>\n",
       "      <th>3</th>\n",
       "      <td>Misc</td>\n",
       "      <td>636.25</td>\n",
       "    </tr>\n",
       "    <tr>\n",
       "      <th>4</th>\n",
       "      <td>Racing</td>\n",
       "      <td>494.87</td>\n",
       "    </tr>\n",
       "    <tr>\n",
       "      <th>5</th>\n",
       "      <td>Role-Playing</td>\n",
       "      <td>455.21</td>\n",
       "    </tr>\n",
       "    <tr>\n",
       "      <th>6</th>\n",
       "      <td>Platform</td>\n",
       "      <td>342.60</td>\n",
       "    </tr>\n",
       "    <tr>\n",
       "      <th>7</th>\n",
       "      <td>Fighting</td>\n",
       "      <td>284.25</td>\n",
       "    </tr>\n",
       "    <tr>\n",
       "      <th>8</th>\n",
       "      <td>Simulation</td>\n",
       "      <td>258.44</td>\n",
       "    </tr>\n",
       "    <tr>\n",
       "      <th>9</th>\n",
       "      <td>Adventure</td>\n",
       "      <td>143.14</td>\n",
       "    </tr>\n",
       "    <tr>\n",
       "      <th>10</th>\n",
       "      <td>Puzzle</td>\n",
       "      <td>117.27</td>\n",
       "    </tr>\n",
       "    <tr>\n",
       "      <th>11</th>\n",
       "      <td>Strategy</td>\n",
       "      <td>71.61</td>\n",
       "    </tr>\n",
       "  </tbody>\n",
       "</table>\n",
       "</div>"
      ],
      "text/plain": [
       "           genre  total_sales\n",
       "0         Action      1168.01\n",
       "1         Sports       986.47\n",
       "2        Shooter       653.21\n",
       "3           Misc       636.25\n",
       "4         Racing       494.87\n",
       "5   Role-Playing       455.21\n",
       "6       Platform       342.60\n",
       "7       Fighting       284.25\n",
       "8     Simulation       258.44\n",
       "9      Adventure       143.14\n",
       "10        Puzzle       117.27\n",
       "11      Strategy        71.61"
      ]
     },
     "execution_count": 35,
     "metadata": {},
     "output_type": "execute_result"
    }
   ],
   "source": [
    "df_top_platforms.groupby('genre')['total_sales'].sum().sort_values(ascending=False).reset_index()"
   ]
  },
  {
   "cell_type": "markdown",
   "metadata": {},
   "source": [
    "De los 10 géneros de juegos, los 2 má rentables son los de acción y los de deporte mientras que los de menos ventas son los de estrategia y los puzzles."
   ]
  },
  {
   "cell_type": "code",
   "execution_count": 36,
   "metadata": {},
   "outputs": [
    {
     "data": {
      "text/html": [
       "<div>\n",
       "<style scoped>\n",
       "    .dataframe tbody tr th:only-of-type {\n",
       "        vertical-align: middle;\n",
       "    }\n",
       "\n",
       "    .dataframe tbody tr th {\n",
       "        vertical-align: top;\n",
       "    }\n",
       "\n",
       "    .dataframe thead tr th {\n",
       "        text-align: left;\n",
       "    }\n",
       "\n",
       "    .dataframe thead tr:last-of-type th {\n",
       "        text-align: right;\n",
       "    }\n",
       "</style>\n",
       "<table border=\"1\" class=\"dataframe\">\n",
       "  <thead>\n",
       "    <tr>\n",
       "      <th></th>\n",
       "      <th colspan=\"3\" halign=\"left\">na_sales</th>\n",
       "      <th colspan=\"3\" halign=\"left\">eu_sales</th>\n",
       "      <th colspan=\"3\" halign=\"left\">jp_sales</th>\n",
       "    </tr>\n",
       "    <tr>\n",
       "      <th></th>\n",
       "      <th>sum</th>\n",
       "      <th>mean</th>\n",
       "      <th>max</th>\n",
       "      <th>sum</th>\n",
       "      <th>mean</th>\n",
       "      <th>max</th>\n",
       "      <th>sum</th>\n",
       "      <th>mean</th>\n",
       "      <th>max</th>\n",
       "    </tr>\n",
       "    <tr>\n",
       "      <th>platform</th>\n",
       "      <th></th>\n",
       "      <th></th>\n",
       "      <th></th>\n",
       "      <th></th>\n",
       "      <th></th>\n",
       "      <th></th>\n",
       "      <th></th>\n",
       "      <th></th>\n",
       "      <th></th>\n",
       "    </tr>\n",
       "  </thead>\n",
       "  <tbody>\n",
       "    <tr>\n",
       "      <th>DS</th>\n",
       "      <td>382.40</td>\n",
       "      <td>0.177778</td>\n",
       "      <td>11.28</td>\n",
       "      <td>188.89</td>\n",
       "      <td>0.087815</td>\n",
       "      <td>10.95</td>\n",
       "      <td>175.57</td>\n",
       "      <td>0.081623</td>\n",
       "      <td>6.50</td>\n",
       "    </tr>\n",
       "    <tr>\n",
       "      <th>PS</th>\n",
       "      <td>336.52</td>\n",
       "      <td>0.281136</td>\n",
       "      <td>4.02</td>\n",
       "      <td>213.61</td>\n",
       "      <td>0.178454</td>\n",
       "      <td>3.87</td>\n",
       "      <td>139.82</td>\n",
       "      <td>0.116809</td>\n",
       "      <td>4.10</td>\n",
       "    </tr>\n",
       "    <tr>\n",
       "      <th>PS2</th>\n",
       "      <td>583.84</td>\n",
       "      <td>0.270171</td>\n",
       "      <td>9.43</td>\n",
       "      <td>339.29</td>\n",
       "      <td>0.157006</td>\n",
       "      <td>5.49</td>\n",
       "      <td>139.20</td>\n",
       "      <td>0.064415</td>\n",
       "      <td>3.61</td>\n",
       "    </tr>\n",
       "    <tr>\n",
       "      <th>PS3</th>\n",
       "      <td>393.49</td>\n",
       "      <td>0.295635</td>\n",
       "      <td>7.02</td>\n",
       "      <td>330.29</td>\n",
       "      <td>0.248152</td>\n",
       "      <td>9.09</td>\n",
       "      <td>80.19</td>\n",
       "      <td>0.060248</td>\n",
       "      <td>1.87</td>\n",
       "    </tr>\n",
       "    <tr>\n",
       "      <th>Wii</th>\n",
       "      <td>496.90</td>\n",
       "      <td>0.376439</td>\n",
       "      <td>41.36</td>\n",
       "      <td>262.21</td>\n",
       "      <td>0.198644</td>\n",
       "      <td>28.96</td>\n",
       "      <td>69.33</td>\n",
       "      <td>0.052523</td>\n",
       "      <td>4.70</td>\n",
       "    </tr>\n",
       "    <tr>\n",
       "      <th>X360</th>\n",
       "      <td>602.47</td>\n",
       "      <td>0.477393</td>\n",
       "      <td>15.00</td>\n",
       "      <td>270.76</td>\n",
       "      <td>0.214548</td>\n",
       "      <td>5.14</td>\n",
       "      <td>12.43</td>\n",
       "      <td>0.009849</td>\n",
       "      <td>0.24</td>\n",
       "    </tr>\n",
       "  </tbody>\n",
       "</table>\n",
       "</div>"
      ],
      "text/plain": [
       "         na_sales                  eu_sales                  jp_sales  \\\n",
       "              sum      mean    max      sum      mean    max      sum   \n",
       "platform                                                                \n",
       "DS         382.40  0.177778  11.28   188.89  0.087815  10.95   175.57   \n",
       "PS         336.52  0.281136   4.02   213.61  0.178454   3.87   139.82   \n",
       "PS2        583.84  0.270171   9.43   339.29  0.157006   5.49   139.20   \n",
       "PS3        393.49  0.295635   7.02   330.29  0.248152   9.09    80.19   \n",
       "Wii        496.90  0.376439  41.36   262.21  0.198644  28.96    69.33   \n",
       "X360       602.47  0.477393  15.00   270.76  0.214548   5.14    12.43   \n",
       "\n",
       "                          \n",
       "              mean   max  \n",
       "platform                  \n",
       "DS        0.081623  6.50  \n",
       "PS        0.116809  4.10  \n",
       "PS2       0.064415  3.61  \n",
       "PS3       0.060248  1.87  \n",
       "Wii       0.052523  4.70  \n",
       "X360      0.009849  0.24  "
      ]
     },
     "execution_count": 36,
     "metadata": {},
     "output_type": "execute_result"
    }
   ],
   "source": [
    "df_top_platforms.groupby('platform').agg({\n",
    "    'na_sales': ['sum', 'mean', 'max'],  # A 'Values1' aplica sum y mean\n",
    "    'eu_sales': ['sum', 'mean', 'max'],\n",
    "    'jp_sales': ['sum', 'mean', 'max']\n",
    "})"
   ]
  },
  {
   "cell_type": "code",
   "execution_count": 37,
   "metadata": {},
   "outputs": [
    {
     "data": {
      "text/html": [
       "<div>\n",
       "<style scoped>\n",
       "    .dataframe tbody tr th:only-of-type {\n",
       "        vertical-align: middle;\n",
       "    }\n",
       "\n",
       "    .dataframe tbody tr th {\n",
       "        vertical-align: top;\n",
       "    }\n",
       "\n",
       "    .dataframe thead tr th {\n",
       "        text-align: left;\n",
       "    }\n",
       "\n",
       "    .dataframe thead tr:last-of-type th {\n",
       "        text-align: right;\n",
       "    }\n",
       "</style>\n",
       "<table border=\"1\" class=\"dataframe\">\n",
       "  <thead>\n",
       "    <tr>\n",
       "      <th></th>\n",
       "      <th colspan=\"3\" halign=\"left\">na_sales</th>\n",
       "      <th colspan=\"3\" halign=\"left\">eu_sales</th>\n",
       "      <th colspan=\"3\" halign=\"left\">jp_sales</th>\n",
       "    </tr>\n",
       "    <tr>\n",
       "      <th></th>\n",
       "      <th>sum</th>\n",
       "      <th>mean</th>\n",
       "      <th>max</th>\n",
       "      <th>sum</th>\n",
       "      <th>mean</th>\n",
       "      <th>max</th>\n",
       "      <th>sum</th>\n",
       "      <th>mean</th>\n",
       "      <th>max</th>\n",
       "    </tr>\n",
       "    <tr>\n",
       "      <th>genre</th>\n",
       "      <th></th>\n",
       "      <th></th>\n",
       "      <th></th>\n",
       "      <th></th>\n",
       "      <th></th>\n",
       "      <th></th>\n",
       "      <th></th>\n",
       "      <th></th>\n",
       "      <th></th>\n",
       "    </tr>\n",
       "  </thead>\n",
       "  <tbody>\n",
       "    <tr>\n",
       "      <th>Action</th>\n",
       "      <td>586.90</td>\n",
       "      <td>0.328796</td>\n",
       "      <td>9.66</td>\n",
       "      <td>353.60</td>\n",
       "      <td>0.198095</td>\n",
       "      <td>9.09</td>\n",
       "      <td>87.35</td>\n",
       "      <td>0.048936</td>\n",
       "      <td>3.96</td>\n",
       "    </tr>\n",
       "    <tr>\n",
       "      <th>Adventure</th>\n",
       "      <td>68.08</td>\n",
       "      <td>0.096158</td>\n",
       "      <td>3.28</td>\n",
       "      <td>39.42</td>\n",
       "      <td>0.055678</td>\n",
       "      <td>2.00</td>\n",
       "      <td>23.21</td>\n",
       "      <td>0.032782</td>\n",
       "      <td>1.06</td>\n",
       "    </tr>\n",
       "    <tr>\n",
       "      <th>Fighting</th>\n",
       "      <td>142.88</td>\n",
       "      <td>0.299539</td>\n",
       "      <td>6.62</td>\n",
       "      <td>72.37</td>\n",
       "      <td>0.151719</td>\n",
       "      <td>2.55</td>\n",
       "      <td>40.83</td>\n",
       "      <td>0.085597</td>\n",
       "      <td>2.66</td>\n",
       "    </tr>\n",
       "    <tr>\n",
       "      <th>Misc</th>\n",
       "      <td>320.48</td>\n",
       "      <td>0.262473</td>\n",
       "      <td>15.00</td>\n",
       "      <td>178.27</td>\n",
       "      <td>0.146003</td>\n",
       "      <td>9.20</td>\n",
       "      <td>70.01</td>\n",
       "      <td>0.057338</td>\n",
       "      <td>4.16</td>\n",
       "    </tr>\n",
       "    <tr>\n",
       "      <th>Platform</th>\n",
       "      <td>175.38</td>\n",
       "      <td>0.463968</td>\n",
       "      <td>14.44</td>\n",
       "      <td>101.87</td>\n",
       "      <td>0.269497</td>\n",
       "      <td>9.14</td>\n",
       "      <td>33.61</td>\n",
       "      <td>0.088915</td>\n",
       "      <td>6.50</td>\n",
       "    </tr>\n",
       "    <tr>\n",
       "      <th>Puzzle</th>\n",
       "      <td>52.93</td>\n",
       "      <td>0.150798</td>\n",
       "      <td>3.43</td>\n",
       "      <td>33.52</td>\n",
       "      <td>0.095499</td>\n",
       "      <td>5.35</td>\n",
       "      <td>21.89</td>\n",
       "      <td>0.062365</td>\n",
       "      <td>5.32</td>\n",
       "    </tr>\n",
       "    <tr>\n",
       "      <th>Racing</th>\n",
       "      <td>235.63</td>\n",
       "      <td>0.328633</td>\n",
       "      <td>15.68</td>\n",
       "      <td>169.83</td>\n",
       "      <td>0.236862</td>\n",
       "      <td>12.76</td>\n",
       "      <td>29.14</td>\n",
       "      <td>0.040642</td>\n",
       "      <td>4.13</td>\n",
       "    </tr>\n",
       "    <tr>\n",
       "      <th>Role-Playing</th>\n",
       "      <td>179.88</td>\n",
       "      <td>0.252286</td>\n",
       "      <td>6.38</td>\n",
       "      <td>86.50</td>\n",
       "      <td>0.121318</td>\n",
       "      <td>4.46</td>\n",
       "      <td>154.60</td>\n",
       "      <td>0.216830</td>\n",
       "      <td>6.04</td>\n",
       "    </tr>\n",
       "    <tr>\n",
       "      <th>Shooter</th>\n",
       "      <td>359.91</td>\n",
       "      <td>0.498490</td>\n",
       "      <td>9.70</td>\n",
       "      <td>201.70</td>\n",
       "      <td>0.279363</td>\n",
       "      <td>5.73</td>\n",
       "      <td>19.11</td>\n",
       "      <td>0.026468</td>\n",
       "      <td>0.88</td>\n",
       "    </tr>\n",
       "    <tr>\n",
       "      <th>Simulation</th>\n",
       "      <td>129.69</td>\n",
       "      <td>0.219442</td>\n",
       "      <td>9.05</td>\n",
       "      <td>67.28</td>\n",
       "      <td>0.113841</td>\n",
       "      <td>10.95</td>\n",
       "      <td>38.67</td>\n",
       "      <td>0.065431</td>\n",
       "      <td>5.33</td>\n",
       "    </tr>\n",
       "    <tr>\n",
       "      <th>Sports</th>\n",
       "      <td>514.27</td>\n",
       "      <td>0.351999</td>\n",
       "      <td>41.36</td>\n",
       "      <td>286.27</td>\n",
       "      <td>0.195941</td>\n",
       "      <td>28.96</td>\n",
       "      <td>75.49</td>\n",
       "      <td>0.051670</td>\n",
       "      <td>3.77</td>\n",
       "    </tr>\n",
       "    <tr>\n",
       "      <th>Strategy</th>\n",
       "      <td>29.59</td>\n",
       "      <td>0.099295</td>\n",
       "      <td>2.79</td>\n",
       "      <td>14.42</td>\n",
       "      <td>0.048389</td>\n",
       "      <td>1.89</td>\n",
       "      <td>22.63</td>\n",
       "      <td>0.075940</td>\n",
       "      <td>0.75</td>\n",
       "    </tr>\n",
       "  </tbody>\n",
       "</table>\n",
       "</div>"
      ],
      "text/plain": [
       "             na_sales                  eu_sales                  jp_sales  \\\n",
       "                  sum      mean    max      sum      mean    max      sum   \n",
       "genre                                                                       \n",
       "Action         586.90  0.328796   9.66   353.60  0.198095   9.09    87.35   \n",
       "Adventure       68.08  0.096158   3.28    39.42  0.055678   2.00    23.21   \n",
       "Fighting       142.88  0.299539   6.62    72.37  0.151719   2.55    40.83   \n",
       "Misc           320.48  0.262473  15.00   178.27  0.146003   9.20    70.01   \n",
       "Platform       175.38  0.463968  14.44   101.87  0.269497   9.14    33.61   \n",
       "Puzzle          52.93  0.150798   3.43    33.52  0.095499   5.35    21.89   \n",
       "Racing         235.63  0.328633  15.68   169.83  0.236862  12.76    29.14   \n",
       "Role-Playing   179.88  0.252286   6.38    86.50  0.121318   4.46   154.60   \n",
       "Shooter        359.91  0.498490   9.70   201.70  0.279363   5.73    19.11   \n",
       "Simulation     129.69  0.219442   9.05    67.28  0.113841  10.95    38.67   \n",
       "Sports         514.27  0.351999  41.36   286.27  0.195941  28.96    75.49   \n",
       "Strategy        29.59  0.099295   2.79    14.42  0.048389   1.89    22.63   \n",
       "\n",
       "                              \n",
       "                  mean   max  \n",
       "genre                         \n",
       "Action        0.048936  3.96  \n",
       "Adventure     0.032782  1.06  \n",
       "Fighting      0.085597  2.66  \n",
       "Misc          0.057338  4.16  \n",
       "Platform      0.088915  6.50  \n",
       "Puzzle        0.062365  5.32  \n",
       "Racing        0.040642  4.13  \n",
       "Role-Playing  0.216830  6.04  \n",
       "Shooter       0.026468  0.88  \n",
       "Simulation    0.065431  5.33  \n",
       "Sports        0.051670  3.77  \n",
       "Strategy      0.075940  0.75  "
      ]
     },
     "execution_count": 37,
     "metadata": {},
     "output_type": "execute_result"
    }
   ],
   "source": [
    "df_top_platforms.groupby('genre').agg({\n",
    "    'na_sales': ['sum', 'mean', 'max'],\n",
    "    'eu_sales': ['sum', 'mean', 'max'],\n",
    "    'jp_sales': ['sum', 'mean', 'max']\n",
    "})"
   ]
  },
  {
   "cell_type": "code",
   "execution_count": 38,
   "metadata": {},
   "outputs": [
    {
     "data": {
      "text/html": [
       "<div>\n",
       "<style scoped>\n",
       "    .dataframe tbody tr th:only-of-type {\n",
       "        vertical-align: middle;\n",
       "    }\n",
       "\n",
       "    .dataframe tbody tr th {\n",
       "        vertical-align: top;\n",
       "    }\n",
       "\n",
       "    .dataframe thead tr th {\n",
       "        text-align: left;\n",
       "    }\n",
       "\n",
       "    .dataframe thead tr:last-of-type th {\n",
       "        text-align: right;\n",
       "    }\n",
       "</style>\n",
       "<table border=\"1\" class=\"dataframe\">\n",
       "  <thead>\n",
       "    <tr>\n",
       "      <th></th>\n",
       "      <th colspan=\"3\" halign=\"left\">na_sales</th>\n",
       "      <th colspan=\"3\" halign=\"left\">eu_sales</th>\n",
       "      <th colspan=\"3\" halign=\"left\">jp_sales</th>\n",
       "    </tr>\n",
       "    <tr>\n",
       "      <th></th>\n",
       "      <th>sum</th>\n",
       "      <th>mean</th>\n",
       "      <th>max</th>\n",
       "      <th>sum</th>\n",
       "      <th>mean</th>\n",
       "      <th>max</th>\n",
       "      <th>sum</th>\n",
       "      <th>mean</th>\n",
       "      <th>max</th>\n",
       "    </tr>\n",
       "    <tr>\n",
       "      <th>genre</th>\n",
       "      <th></th>\n",
       "      <th></th>\n",
       "      <th></th>\n",
       "      <th></th>\n",
       "      <th></th>\n",
       "      <th></th>\n",
       "      <th></th>\n",
       "      <th></th>\n",
       "      <th></th>\n",
       "    </tr>\n",
       "  </thead>\n",
       "  <tbody>\n",
       "    <tr>\n",
       "      <th>Action</th>\n",
       "      <td>586.90</td>\n",
       "      <td>0.328796</td>\n",
       "      <td>9.66</td>\n",
       "      <td>353.60</td>\n",
       "      <td>0.198095</td>\n",
       "      <td>9.09</td>\n",
       "      <td>87.35</td>\n",
       "      <td>0.048936</td>\n",
       "      <td>3.96</td>\n",
       "    </tr>\n",
       "    <tr>\n",
       "      <th>Misc</th>\n",
       "      <td>320.48</td>\n",
       "      <td>0.262473</td>\n",
       "      <td>15.00</td>\n",
       "      <td>178.27</td>\n",
       "      <td>0.146003</td>\n",
       "      <td>9.20</td>\n",
       "      <td>70.01</td>\n",
       "      <td>0.057338</td>\n",
       "      <td>4.16</td>\n",
       "    </tr>\n",
       "    <tr>\n",
       "      <th>Racing</th>\n",
       "      <td>235.63</td>\n",
       "      <td>0.328633</td>\n",
       "      <td>15.68</td>\n",
       "      <td>169.83</td>\n",
       "      <td>0.236862</td>\n",
       "      <td>12.76</td>\n",
       "      <td>29.14</td>\n",
       "      <td>0.040642</td>\n",
       "      <td>4.13</td>\n",
       "    </tr>\n",
       "    <tr>\n",
       "      <th>Shooter</th>\n",
       "      <td>359.91</td>\n",
       "      <td>0.498490</td>\n",
       "      <td>9.70</td>\n",
       "      <td>201.70</td>\n",
       "      <td>0.279363</td>\n",
       "      <td>5.73</td>\n",
       "      <td>19.11</td>\n",
       "      <td>0.026468</td>\n",
       "      <td>0.88</td>\n",
       "    </tr>\n",
       "    <tr>\n",
       "      <th>Sports</th>\n",
       "      <td>514.27</td>\n",
       "      <td>0.351999</td>\n",
       "      <td>41.36</td>\n",
       "      <td>286.27</td>\n",
       "      <td>0.195941</td>\n",
       "      <td>28.96</td>\n",
       "      <td>75.49</td>\n",
       "      <td>0.051670</td>\n",
       "      <td>3.77</td>\n",
       "    </tr>\n",
       "  </tbody>\n",
       "</table>\n",
       "</div>"
      ],
      "text/plain": [
       "        na_sales                  eu_sales                  jp_sales  \\\n",
       "             sum      mean    max      sum      mean    max      sum   \n",
       "genre                                                                  \n",
       "Action    586.90  0.328796   9.66   353.60  0.198095   9.09    87.35   \n",
       "Misc      320.48  0.262473  15.00   178.27  0.146003   9.20    70.01   \n",
       "Racing    235.63  0.328633  15.68   169.83  0.236862  12.76    29.14   \n",
       "Shooter   359.91  0.498490   9.70   201.70  0.279363   5.73    19.11   \n",
       "Sports    514.27  0.351999  41.36   286.27  0.195941  28.96    75.49   \n",
       "\n",
       "                         \n",
       "             mean   max  \n",
       "genre                    \n",
       "Action   0.048936  3.96  \n",
       "Misc     0.057338  4.16  \n",
       "Racing   0.040642  4.13  \n",
       "Shooter  0.026468  0.88  \n",
       "Sports   0.051670  3.77  "
      ]
     },
     "execution_count": 38,
     "metadata": {},
     "output_type": "execute_result"
    }
   ],
   "source": [
    "top_5_genres = ['Action', 'Sports', 'Shooter', 'Misc', 'Racing']\n",
    "top_5_genres_df = df_top_platforms[df_top_platforms['genre'].isin(top_5_genres)].sort_values(by='total_sales')\n",
    "\n",
    "top_5_genres_df.groupby('genre').agg({\n",
    "    'na_sales': ['sum', 'mean', 'max'],\n",
    "    'eu_sales': ['sum', 'mean', 'max'],\n",
    "    'jp_sales': ['sum', 'mean', 'max']\n",
    "})"
   ]
  },
  {
   "cell_type": "code",
   "execution_count": 39,
   "metadata": {},
   "outputs": [],
   "source": [
    "top_5_genres_df_groupby = top_5_genres_df.groupby('genre').agg({\n",
    "    'na_sales': ['sum'],\n",
    "    'eu_sales': ['sum'],\n",
    "    'jp_sales': ['sum']\n",
    "})"
   ]
  },
  {
   "cell_type": "code",
   "execution_count": 40,
   "metadata": {},
   "outputs": [
    {
     "data": {
      "text/plain": [
       "<AxesSubplot:xlabel='genre'>"
      ]
     },
     "execution_count": 40,
     "metadata": {},
     "output_type": "execute_result"
    },
    {
     "data": {
      "image/png": "[encoded data removed]",
      "text/plain": [
       "<Figure size 640x480 with 1 Axes>"
      ]
     },
     "metadata": {},
     "output_type": "display_data"
    }
   ],
   "source": [
    "top_5_genres_df_groupby.plot(kind='bar')"
   ]
  },
  {
   "cell_type": "markdown",
   "metadata": {},
   "source": [
    "Para el top 5 de los juegos más vendidos su desplazamiento es en el siguiente órden: Norteamérica, Unión europea y Japón."
   ]
  },
  {
   "cell_type": "code",
   "execution_count": 41,
   "metadata": {},
   "outputs": [
    {
     "data": {
      "text/plain": [
       "array(['E', nan, 'M', 'T', 'E10+', 'K-A', 'AO', 'EC', 'RP'], dtype=object)"
      ]
     },
     "execution_count": 41,
     "metadata": {},
     "output_type": "execute_result"
    }
   ],
   "source": [
    "df['rating'].unique()"
   ]
  },
  {
   "cell_type": "code",
   "execution_count": 42,
   "metadata": {},
   "outputs": [
    {
     "data": {
      "text/html": [
       "<div>\n",
       "<style scoped>\n",
       "    .dataframe tbody tr th:only-of-type {\n",
       "        vertical-align: middle;\n",
       "    }\n",
       "\n",
       "    .dataframe tbody tr th {\n",
       "        vertical-align: top;\n",
       "    }\n",
       "\n",
       "    .dataframe thead tr th {\n",
       "        text-align: left;\n",
       "    }\n",
       "\n",
       "    .dataframe thead tr:last-of-type th {\n",
       "        text-align: right;\n",
       "    }\n",
       "</style>\n",
       "<table border=\"1\" class=\"dataframe\">\n",
       "  <thead>\n",
       "    <tr>\n",
       "      <th></th>\n",
       "      <th colspan=\"3\" halign=\"left\">na_sales</th>\n",
       "      <th colspan=\"3\" halign=\"left\">eu_sales</th>\n",
       "      <th colspan=\"3\" halign=\"left\">jp_sales</th>\n",
       "    </tr>\n",
       "    <tr>\n",
       "      <th></th>\n",
       "      <th>sum</th>\n",
       "      <th>mean</th>\n",
       "      <th>max</th>\n",
       "      <th>sum</th>\n",
       "      <th>mean</th>\n",
       "      <th>max</th>\n",
       "      <th>sum</th>\n",
       "      <th>mean</th>\n",
       "      <th>max</th>\n",
       "    </tr>\n",
       "    <tr>\n",
       "      <th>rating</th>\n",
       "      <th></th>\n",
       "      <th></th>\n",
       "      <th></th>\n",
       "      <th></th>\n",
       "      <th></th>\n",
       "      <th></th>\n",
       "      <th></th>\n",
       "      <th></th>\n",
       "      <th></th>\n",
       "    </tr>\n",
       "  </thead>\n",
       "  <tbody>\n",
       "    <tr>\n",
       "      <th>AO</th>\n",
       "      <td>1.26</td>\n",
       "      <td>1.260000</td>\n",
       "      <td>1.26</td>\n",
       "      <td>0.61</td>\n",
       "      <td>0.610000</td>\n",
       "      <td>0.61</td>\n",
       "      <td>0.00</td>\n",
       "      <td>0.000000</td>\n",
       "      <td>0.00</td>\n",
       "    </tr>\n",
       "    <tr>\n",
       "      <th>E</th>\n",
       "      <td>1292.99</td>\n",
       "      <td>0.324058</td>\n",
       "      <td>41.36</td>\n",
       "      <td>710.25</td>\n",
       "      <td>0.178008</td>\n",
       "      <td>28.96</td>\n",
       "      <td>198.11</td>\n",
       "      <td>0.049652</td>\n",
       "      <td>6.50</td>\n",
       "    </tr>\n",
       "    <tr>\n",
       "      <th>E10+</th>\n",
       "      <td>353.32</td>\n",
       "      <td>0.248817</td>\n",
       "      <td>5.95</td>\n",
       "      <td>188.52</td>\n",
       "      <td>0.132761</td>\n",
       "      <td>3.11</td>\n",
       "      <td>40.20</td>\n",
       "      <td>0.028310</td>\n",
       "      <td>4.35</td>\n",
       "    </tr>\n",
       "    <tr>\n",
       "      <th>EC</th>\n",
       "      <td>1.53</td>\n",
       "      <td>0.191250</td>\n",
       "      <td>0.42</td>\n",
       "      <td>0.11</td>\n",
       "      <td>0.013750</td>\n",
       "      <td>0.09</td>\n",
       "      <td>0.00</td>\n",
       "      <td>0.000000</td>\n",
       "      <td>0.00</td>\n",
       "    </tr>\n",
       "    <tr>\n",
       "      <th>K-A</th>\n",
       "      <td>2.56</td>\n",
       "      <td>0.853333</td>\n",
       "      <td>2.30</td>\n",
       "      <td>0.27</td>\n",
       "      <td>0.090000</td>\n",
       "      <td>0.16</td>\n",
       "      <td>1.46</td>\n",
       "      <td>0.486667</td>\n",
       "      <td>1.46</td>\n",
       "    </tr>\n",
       "    <tr>\n",
       "      <th>M</th>\n",
       "      <td>748.48</td>\n",
       "      <td>0.478874</td>\n",
       "      <td>9.70</td>\n",
       "      <td>483.97</td>\n",
       "      <td>0.309642</td>\n",
       "      <td>9.09</td>\n",
       "      <td>64.24</td>\n",
       "      <td>0.041100</td>\n",
       "      <td>2.02</td>\n",
       "    </tr>\n",
       "    <tr>\n",
       "      <th>RP</th>\n",
       "      <td>0.00</td>\n",
       "      <td>0.000000</td>\n",
       "      <td>0.00</td>\n",
       "      <td>0.08</td>\n",
       "      <td>0.026667</td>\n",
       "      <td>0.04</td>\n",
       "      <td>0.00</td>\n",
       "      <td>0.000000</td>\n",
       "      <td>0.00</td>\n",
       "    </tr>\n",
       "    <tr>\n",
       "      <th>T</th>\n",
       "      <td>759.75</td>\n",
       "      <td>0.256586</td>\n",
       "      <td>6.62</td>\n",
       "      <td>427.03</td>\n",
       "      <td>0.144218</td>\n",
       "      <td>6.42</td>\n",
       "      <td>151.40</td>\n",
       "      <td>0.051131</td>\n",
       "      <td>4.13</td>\n",
       "    </tr>\n",
       "  </tbody>\n",
       "</table>\n",
       "</div>"
      ],
      "text/plain": [
       "       na_sales                  eu_sales                  jp_sales            \\\n",
       "            sum      mean    max      sum      mean    max      sum      mean   \n",
       "rating                                                                          \n",
       "AO         1.26  1.260000   1.26     0.61  0.610000   0.61     0.00  0.000000   \n",
       "E       1292.99  0.324058  41.36   710.25  0.178008  28.96   198.11  0.049652   \n",
       "E10+     353.32  0.248817   5.95   188.52  0.132761   3.11    40.20  0.028310   \n",
       "EC         1.53  0.191250   0.42     0.11  0.013750   0.09     0.00  0.000000   \n",
       "K-A        2.56  0.853333   2.30     0.27  0.090000   0.16     1.46  0.486667   \n",
       "M        748.48  0.478874   9.70   483.97  0.309642   9.09    64.24  0.041100   \n",
       "RP         0.00  0.000000   0.00     0.08  0.026667   0.04     0.00  0.000000   \n",
       "T        759.75  0.256586   6.62   427.03  0.144218   6.42   151.40  0.051131   \n",
       "\n",
       "              \n",
       "         max  \n",
       "rating        \n",
       "AO      0.00  \n",
       "E       6.50  \n",
       "E10+    4.35  \n",
       "EC      0.00  \n",
       "K-A     1.46  \n",
       "M       2.02  \n",
       "RP      0.00  \n",
       "T       4.13  "
      ]
     },
     "execution_count": 42,
     "metadata": {},
     "output_type": "execute_result"
    }
   ],
   "source": [
    "rating_df = df.dropna(subset=['rating'])\n",
    "\n",
    "rating_df.groupby('rating').agg({\n",
    "    'na_sales': ['sum', 'mean', 'max'],\n",
    "    'eu_sales': ['sum', 'mean', 'max'],\n",
    "    'jp_sales': ['sum', 'mean', 'max']\n",
    "})\n"
   ]
  },
  {
   "cell_type": "code",
   "execution_count": 43,
   "metadata": {},
   "outputs": [
    {
     "data": {
      "text/plain": [
       "<AxesSubplot:xlabel='rating'>"
      ]
     },
     "execution_count": 43,
     "metadata": {},
     "output_type": "execute_result"
    },
    {
     "data": {
      "image/png": "[encoded data removed]",
      "text/plain": [
       "<Figure size 640x480 with 1 Axes>"
      ]
     },
     "metadata": {},
     "output_type": "display_data"
    }
   ],
   "source": [
    "rating_df_groupby = rating_df.groupby('rating').agg({\n",
    "    'na_sales': ['sum'],\n",
    "    'eu_sales': ['sum'],\n",
    "    'jp_sales': ['sum']\n",
    "})\n",
    "rating_df_groupby.plot(kind='bar')"
   ]
  },
  {
   "cell_type": "markdown",
   "metadata": {},
   "source": [
    "Las clasificaciones de juegos con muy pocas ventas son AO, EC, K-A, y RP"
   ]
  },
  {
   "cell_type": "markdown",
   "metadata": {},
   "source": [
    "# Prueba de hipótesis"
   ]
  },
  {
   "cell_type": "code",
   "execution_count": 44,
   "metadata": {},
   "outputs": [
    {
     "data": {
      "text/html": [
       "<div>\n",
       "<style scoped>\n",
       "    .dataframe tbody tr th:only-of-type {\n",
       "        vertical-align: middle;\n",
       "    }\n",
       "\n",
       "    .dataframe tbody tr th {\n",
       "        vertical-align: top;\n",
       "    }\n",
       "\n",
       "    .dataframe thead th {\n",
       "        text-align: right;\n",
       "    }\n",
       "</style>\n",
       "<table border=\"1\" class=\"dataframe\">\n",
       "  <thead>\n",
       "    <tr style=\"text-align: right;\">\n",
       "      <th></th>\n",
       "      <th>name</th>\n",
       "      <th>platform</th>\n",
       "      <th>year_of_release</th>\n",
       "      <th>genre</th>\n",
       "      <th>na_sales</th>\n",
       "      <th>eu_sales</th>\n",
       "      <th>jp_sales</th>\n",
       "      <th>other_sales</th>\n",
       "      <th>critic_score</th>\n",
       "      <th>user_score</th>\n",
       "      <th>rating</th>\n",
       "      <th>total_sales</th>\n",
       "    </tr>\n",
       "  </thead>\n",
       "  <tbody>\n",
       "    <tr>\n",
       "      <th>0</th>\n",
       "      <td>Wii Sports</td>\n",
       "      <td>Wii</td>\n",
       "      <td>2006.0</td>\n",
       "      <td>Sports</td>\n",
       "      <td>41.36</td>\n",
       "      <td>28.96</td>\n",
       "      <td>3.77</td>\n",
       "      <td>8.45</td>\n",
       "      <td>76.0</td>\n",
       "      <td>8.0</td>\n",
       "      <td>E</td>\n",
       "      <td>82.54</td>\n",
       "    </tr>\n",
       "    <tr>\n",
       "      <th>2</th>\n",
       "      <td>Mario Kart Wii</td>\n",
       "      <td>Wii</td>\n",
       "      <td>2008.0</td>\n",
       "      <td>Racing</td>\n",
       "      <td>15.68</td>\n",
       "      <td>12.76</td>\n",
       "      <td>3.79</td>\n",
       "      <td>3.29</td>\n",
       "      <td>82.0</td>\n",
       "      <td>8.3</td>\n",
       "      <td>E</td>\n",
       "      <td>35.52</td>\n",
       "    </tr>\n",
       "    <tr>\n",
       "      <th>3</th>\n",
       "      <td>Wii Sports Resort</td>\n",
       "      <td>Wii</td>\n",
       "      <td>2009.0</td>\n",
       "      <td>Sports</td>\n",
       "      <td>15.61</td>\n",
       "      <td>10.93</td>\n",
       "      <td>3.28</td>\n",
       "      <td>2.95</td>\n",
       "      <td>80.0</td>\n",
       "      <td>8.0</td>\n",
       "      <td>E</td>\n",
       "      <td>32.77</td>\n",
       "    </tr>\n",
       "    <tr>\n",
       "      <th>6</th>\n",
       "      <td>New Super Mario Bros.</td>\n",
       "      <td>DS</td>\n",
       "      <td>2006.0</td>\n",
       "      <td>Platform</td>\n",
       "      <td>11.28</td>\n",
       "      <td>9.14</td>\n",
       "      <td>6.50</td>\n",
       "      <td>2.88</td>\n",
       "      <td>89.0</td>\n",
       "      <td>8.5</td>\n",
       "      <td>E</td>\n",
       "      <td>29.80</td>\n",
       "    </tr>\n",
       "    <tr>\n",
       "      <th>7</th>\n",
       "      <td>Wii Play</td>\n",
       "      <td>Wii</td>\n",
       "      <td>2006.0</td>\n",
       "      <td>Misc</td>\n",
       "      <td>13.96</td>\n",
       "      <td>9.18</td>\n",
       "      <td>2.93</td>\n",
       "      <td>2.84</td>\n",
       "      <td>58.0</td>\n",
       "      <td>6.6</td>\n",
       "      <td>E</td>\n",
       "      <td>28.91</td>\n",
       "    </tr>\n",
       "    <tr>\n",
       "      <th>...</th>\n",
       "      <td>...</td>\n",
       "      <td>...</td>\n",
       "      <td>...</td>\n",
       "      <td>...</td>\n",
       "      <td>...</td>\n",
       "      <td>...</td>\n",
       "      <td>...</td>\n",
       "      <td>...</td>\n",
       "      <td>...</td>\n",
       "      <td>...</td>\n",
       "      <td>...</td>\n",
       "      <td>...</td>\n",
       "    </tr>\n",
       "    <tr>\n",
       "      <th>16681</th>\n",
       "      <td>Worms 2</td>\n",
       "      <td>PC</td>\n",
       "      <td>1997.0</td>\n",
       "      <td>Strategy</td>\n",
       "      <td>0.00</td>\n",
       "      <td>0.01</td>\n",
       "      <td>0.00</td>\n",
       "      <td>0.00</td>\n",
       "      <td>NaN</td>\n",
       "      <td>8.1</td>\n",
       "      <td>K-A</td>\n",
       "      <td>0.01</td>\n",
       "    </tr>\n",
       "    <tr>\n",
       "      <th>16692</th>\n",
       "      <td>Metal Gear Solid V: Ground Zeroes</td>\n",
       "      <td>PC</td>\n",
       "      <td>2014.0</td>\n",
       "      <td>Action</td>\n",
       "      <td>0.00</td>\n",
       "      <td>0.01</td>\n",
       "      <td>0.00</td>\n",
       "      <td>0.00</td>\n",
       "      <td>80.0</td>\n",
       "      <td>7.6</td>\n",
       "      <td>M</td>\n",
       "      <td>0.01</td>\n",
       "    </tr>\n",
       "    <tr>\n",
       "      <th>16696</th>\n",
       "      <td>Breach</td>\n",
       "      <td>PC</td>\n",
       "      <td>2011.0</td>\n",
       "      <td>Shooter</td>\n",
       "      <td>0.01</td>\n",
       "      <td>0.00</td>\n",
       "      <td>0.00</td>\n",
       "      <td>0.00</td>\n",
       "      <td>61.0</td>\n",
       "      <td>5.8</td>\n",
       "      <td>T</td>\n",
       "      <td>0.01</td>\n",
       "    </tr>\n",
       "    <tr>\n",
       "      <th>16702</th>\n",
       "      <td>STORM: Frontline Nation</td>\n",
       "      <td>PC</td>\n",
       "      <td>2011.0</td>\n",
       "      <td>Strategy</td>\n",
       "      <td>0.00</td>\n",
       "      <td>0.01</td>\n",
       "      <td>0.00</td>\n",
       "      <td>0.00</td>\n",
       "      <td>60.0</td>\n",
       "      <td>7.2</td>\n",
       "      <td>E10+</td>\n",
       "      <td>0.01</td>\n",
       "    </tr>\n",
       "    <tr>\n",
       "      <th>16705</th>\n",
       "      <td>15 Days</td>\n",
       "      <td>PC</td>\n",
       "      <td>2009.0</td>\n",
       "      <td>Adventure</td>\n",
       "      <td>0.00</td>\n",
       "      <td>0.01</td>\n",
       "      <td>0.00</td>\n",
       "      <td>0.00</td>\n",
       "      <td>63.0</td>\n",
       "      <td>5.8</td>\n",
       "      <td>NaN</td>\n",
       "      <td>0.01</td>\n",
       "    </tr>\n",
       "  </tbody>\n",
       "</table>\n",
       "<p>7590 rows × 12 columns</p>\n",
       "</div>"
      ],
      "text/plain": [
       "                                    name platform  year_of_release      genre  \\\n",
       "0                             Wii Sports      Wii           2006.0     Sports   \n",
       "2                         Mario Kart Wii      Wii           2008.0     Racing   \n",
       "3                      Wii Sports Resort      Wii           2009.0     Sports   \n",
       "6                  New Super Mario Bros.       DS           2006.0   Platform   \n",
       "7                               Wii Play      Wii           2006.0       Misc   \n",
       "...                                  ...      ...              ...        ...   \n",
       "16681                            Worms 2       PC           1997.0   Strategy   \n",
       "16692  Metal Gear Solid V: Ground Zeroes       PC           2014.0     Action   \n",
       "16696                             Breach       PC           2011.0    Shooter   \n",
       "16702            STORM: Frontline Nation       PC           2011.0   Strategy   \n",
       "16705                            15 Days       PC           2009.0  Adventure   \n",
       "\n",
       "       na_sales  eu_sales  jp_sales  other_sales  critic_score  user_score  \\\n",
       "0         41.36     28.96      3.77         8.45          76.0         8.0   \n",
       "2         15.68     12.76      3.79         3.29          82.0         8.3   \n",
       "3         15.61     10.93      3.28         2.95          80.0         8.0   \n",
       "6         11.28      9.14      6.50         2.88          89.0         8.5   \n",
       "7         13.96      9.18      2.93         2.84          58.0         6.6   \n",
       "...         ...       ...       ...          ...           ...         ...   \n",
       "16681      0.00      0.01      0.00         0.00           NaN         8.1   \n",
       "16692      0.00      0.01      0.00         0.00          80.0         7.6   \n",
       "16696      0.01      0.00      0.00         0.00          61.0         5.8   \n",
       "16702      0.00      0.01      0.00         0.00          60.0         7.2   \n",
       "16705      0.00      0.01      0.00         0.00          63.0         5.8   \n",
       "\n",
       "      rating  total_sales  \n",
       "0          E        82.54  \n",
       "2          E        35.52  \n",
       "3          E        32.77  \n",
       "6          E        29.80  \n",
       "7          E        28.91  \n",
       "...      ...          ...  \n",
       "16681    K-A         0.01  \n",
       "16692      M         0.01  \n",
       "16696      T         0.01  \n",
       "16702   E10+         0.01  \n",
       "16705    NaN         0.01  \n",
       "\n",
       "[7590 rows x 12 columns]"
      ]
     },
     "execution_count": 44,
     "metadata": {},
     "output_type": "execute_result"
    }
   ],
   "source": [
    "correl_df"
   ]
  },
  {
   "cell_type": "code",
   "execution_count": 45,
   "metadata": {},
   "outputs": [],
   "source": [
    "grupos = [plataforma['user_score'].values for nombre, plataforma in correl_df.groupby('platform')]"
   ]
  },
  {
   "cell_type": "code",
   "execution_count": 46,
   "metadata": {},
   "outputs": [
    {
     "name": "stdout",
     "output_type": "stream",
     "text": [
      "Estadístico de Levene: 5.083913480798646\n",
      "Valor p: 1.1058100179120777e-10\n"
     ]
    }
   ],
   "source": [
    "estadistico, p_valor = stats.levene(*grupos)\n",
    "print(f\"Estadístico de Levene: {estadistico}\")\n",
    "print(f\"Valor p: {p_valor}\")"
   ]
  },
  {
   "cell_type": "markdown",
   "metadata": {},
   "source": [
    "p es menor a 0.05 se rechaza la hipótesis nula. Las varianzas son diferentes evidenciado con la preuba de Levene."
   ]
  },
  {
   "cell_type": "code",
   "execution_count": 47,
   "metadata": {},
   "outputs": [],
   "source": [
    "ks_results = correl_df.groupby('platform')['user_score'].apply(lambda x: stats.kstest(x, 'norm'))"
   ]
  },
  {
   "cell_type": "code",
   "execution_count": 48,
   "metadata": {},
   "outputs": [],
   "source": [
    "ks_statistic = ks_results.apply(lambda result: result.statistic)\n",
    "ks_p_value = ks_results.apply(lambda result: result.pvalue)"
   ]
  },
  {
   "cell_type": "code",
   "execution_count": 49,
   "metadata": {},
   "outputs": [
    {
     "name": "stdout",
     "output_type": "stream",
     "text": [
      "platform\n",
      "3DS     0.991802\n",
      "DC      1.000000\n",
      "DS      0.976299\n",
      "GBA     0.987881\n",
      "GC      0.991980\n",
      "PC      0.985998\n",
      "PS      0.987582\n",
      "PS2     0.993299\n",
      "PS3     0.981710\n",
      "PS4     0.977078\n",
      "PSP     0.992694\n",
      "PSV     0.979804\n",
      "Wii     0.963433\n",
      "WiiU    0.996533\n",
      "X360    0.982952\n",
      "XB      0.982881\n",
      "XOne    0.987661\n",
      "Name: user_score, dtype: float64 platform\n",
      "3DS      0.000000e+00\n",
      "DC      1.655502e-126\n",
      "DS       0.000000e+00\n",
      "GBA      0.000000e+00\n",
      "GC       0.000000e+00\n",
      "PC       0.000000e+00\n",
      "PS      3.447875e-309\n",
      "PS2      0.000000e+00\n",
      "PS3      0.000000e+00\n",
      "PS4      0.000000e+00\n",
      "PSP      0.000000e+00\n",
      "PSV     8.974094e-243\n",
      "Wii      0.000000e+00\n",
      "WiiU    1.977361e-246\n",
      "X360     0.000000e+00\n",
      "XB       0.000000e+00\n",
      "XOne     0.000000e+00\n",
      "Name: user_score, dtype: float64\n"
     ]
    }
   ],
   "source": [
    "print(ks_statistic, ks_p_value)"
   ]
  },
  {
   "cell_type": "code",
   "execution_count": 50,
   "metadata": {},
   "outputs": [
    {
     "name": "stdout",
     "output_type": "stream",
     "text": [
      "platform\n",
      "3DS      0.000000e+00\n",
      "DC      1.655502e-126\n",
      "DS       0.000000e+00\n",
      "GBA      0.000000e+00\n",
      "GC       0.000000e+00\n",
      "PC       0.000000e+00\n",
      "PS      3.447875e-309\n",
      "PS2      0.000000e+00\n",
      "PS3      0.000000e+00\n",
      "PS4      0.000000e+00\n",
      "PSP      0.000000e+00\n",
      "PSV     8.974094e-243\n",
      "Wii      0.000000e+00\n",
      "WiiU    1.977361e-246\n",
      "X360     0.000000e+00\n",
      "XB       0.000000e+00\n",
      "XOne     0.000000e+00\n",
      "Name: user_score, dtype: float64\n"
     ]
    }
   ],
   "source": [
    "print(ks_p_value)"
   ]
  },
  {
   "cell_type": "code",
   "execution_count": 51,
   "metadata": {},
   "outputs": [
    {
     "data": {
      "text/plain": [
       "<AxesSubplot:xlabel='platform', ylabel='user_score'>"
      ]
     },
     "execution_count": 51,
     "metadata": {},
     "output_type": "execute_result"
    },
    {
     "data": {
      "image/png": "[encoded data removed]",
      "text/plain": [
       "<Figure size 640x480 with 1 Axes>"
      ]
     },
     "metadata": {},
     "output_type": "display_data"
    }
   ],
   "source": [
    "#ks_results_graph = correl_df.groupby('platform')['user_score']\n",
    "sns.boxplot(x='platform', y='user_score', data=correl_df)"
   ]
  },
  {
   "cell_type": "code",
   "execution_count": 52,
   "metadata": {},
   "outputs": [
    {
     "data": {
      "image/png": "[encoded data removed]",
      "text/plain": [
       "<Figure size 640x480 with 1 Axes>"
      ]
     },
     "metadata": {},
     "output_type": "display_data"
    }
   ],
   "source": [
    "sns.histplot(data=correl_df, x='user_score', hue='platform', kde=True, bins=20)\n",
    "\n",
    "# Opcionalmente, agregar título y etiquetas\n",
    "plt.title('Histograma de Frecuencias por Plataforma')\n",
    "plt.xlabel('Puntaje de Usuario')\n",
    "plt.ylabel('Frecuencia')\n",
    "\n",
    "# Mostrar el gráfico\n",
    "plt.show()"
   ]
  },
  {
   "cell_type": "code",
   "execution_count": 53,
   "metadata": {},
   "outputs": [],
   "source": [
    "filtered_xone_pc_df = correl_df[correl_df['platform'].isin(['XOne', 'PC'])]"
   ]
  },
  {
   "cell_type": "code",
   "execution_count": 54,
   "metadata": {},
   "outputs": [
    {
     "data": {
      "image/png": "[encoded data removed]",
      "text/plain": [
       "<Figure size 640x480 with 1 Axes>"
      ]
     },
     "metadata": {},
     "output_type": "display_data"
    }
   ],
   "source": [
    "sns.histplot(data=filtered_xone_pc_df, x='user_score', hue='platform', kde=True, bins=20)\n",
    "\n",
    "plt.title('Histograma de Frecuencias por Plataforma')\n",
    "plt.xlabel('Puntaje de Usuario')\n",
    "plt.ylabel('Frecuencia')\n",
    "\n",
    "plt.show()"
   ]
  },
  {
   "cell_type": "markdown",
   "metadata": {},
   "source": [
    "Debido a que el conjunto de datos de las calificaciones de los usuarios para las plataformas XBOX One y PC no siguen una distribución normal, evidenciado por la prueba de Kolmogorov-Smirnov y el histograma de frecuencias, se aplicará una prueba de hipótesis no paramétrica en lugar de la T de Student"
   ]
  },
  {
   "cell_type": "code",
   "execution_count": 55,
   "metadata": {},
   "outputs": [
    {
     "data": {
      "text/plain": [
       "<AxesSubplot:xlabel='platform', ylabel='user_score'>"
      ]
     },
     "execution_count": 55,
     "metadata": {},
     "output_type": "execute_result"
    },
    {
     "data": {
      "image/png": "[encoded data removed]",
      "text/plain": [
       "<Figure size 640x480 with 1 Axes>"
      ]
     },
     "metadata": {},
     "output_type": "display_data"
    }
   ],
   "source": [
    "sns.boxplot(x='platform', y='user_score', data=filtered_xone_pc_df)"
   ]
  },
  {
   "cell_type": "code",
   "execution_count": 56,
   "metadata": {},
   "outputs": [
    {
     "name": "stdout",
     "output_type": "stream",
     "text": [
      "Estadístico U de Mann-Whitney: 51080.5\n",
      "Valor p: 1.2410720835179343e-08\n"
     ]
    }
   ],
   "source": [
    "group_xone = correl_df[correl_df['platform'] == 'XOne']['user_score']\n",
    "group_pc = correl_df[correl_df['platform'] == 'PC']['user_score']\n",
    "statistic, p_value = stats.mannwhitneyu(group_xone, group_pc, alternative='two-sided')\n",
    "\n",
    "print(f\"Estadístico U de Mann-Whitney: {statistic}\")\n",
    "print(f\"Valor p: {p_value}\")"
   ]
  },
  {
   "cell_type": "markdown",
   "metadata": {},
   "source": [
    "El valor de p es menor a 0.05 por loq que se rechaza la hipotesis nula. Es decir existe un diferencia estadisticamente significativa entre ambos gupos. Las calificaciones del usuario son mayores en la PC en comparacion del XBox ONE."
   ]
  },
  {
   "cell_type": "markdown",
   "metadata": {},
   "source": [
    "### — Las calificaciones promedio de los usuarios para los géneros de Acción y Deportes son diferentes."
   ]
  },
  {
   "cell_type": "code",
   "execution_count": 57,
   "metadata": {},
   "outputs": [],
   "source": [
    "ks_genre_results = correl_df.groupby('genre')['user_score'].apply(lambda x: stats.kstest(x, 'norm'))"
   ]
  },
  {
   "cell_type": "code",
   "execution_count": 58,
   "metadata": {},
   "outputs": [
    {
     "data": {
      "text/plain": [
       "genre\n",
       "Action                              (0.9870623560083698, 0.0)\n",
       "Adventure                           (0.9748008533662826, 0.0)\n",
       "Fighting                              (0.98491354134877, 0.0)\n",
       "Misc                                (0.9816713860081719, 0.0)\n",
       "Platform                             (0.987187231804436, 0.0)\n",
       "Puzzle          (0.9704715524865014, 3.1033345924072117e-196)\n",
       "Racing                               (0.980284183242115, 0.0)\n",
       "Role-Playing                        (0.9973042069481814, 0.0)\n",
       "Shooter                              (0.981885572769462, 0.0)\n",
       "Simulation                          (0.9831895757423154, 0.0)\n",
       "Sports                              (0.9802138965505405, 0.0)\n",
       "Strategy                            (0.9781522651679643, 0.0)\n",
       "Name: user_score, dtype: object"
      ]
     },
     "execution_count": 58,
     "metadata": {},
     "output_type": "execute_result"
    }
   ],
   "source": [
    "ks_genre_results"
   ]
  },
  {
   "cell_type": "code",
   "execution_count": 59,
   "metadata": {},
   "outputs": [],
   "source": [
    "filtered_action_sports_df = correl_df[correl_df['genre'].isin(['Action', 'Sports'])]"
   ]
  },
  {
   "cell_type": "code",
   "execution_count": 60,
   "metadata": {},
   "outputs": [
    {
     "data": {
      "text/plain": [
       "0.2"
      ]
     },
     "execution_count": 60,
     "metadata": {},
     "output_type": "execute_result"
    }
   ],
   "source": [
    "filtered_action_sports_df['user_score'].min()"
   ]
  },
  {
   "cell_type": "code",
   "execution_count": 64,
   "metadata": {},
   "outputs": [
    {
     "data": {
      "text/plain": [
       "9.5"
      ]
     },
     "execution_count": 64,
     "metadata": {},
     "output_type": "execute_result"
    }
   ],
   "source": [
    "filtered_action_sports_df['user_score'].max()"
   ]
  },
  {
   "cell_type": "code",
   "execution_count": 65,
   "metadata": {},
   "outputs": [
    {
     "data": {
      "image/png": "[encoded data removed]",
      "text/plain": [
       "<Figure size 640x480 with 1 Axes>"
      ]
     },
     "metadata": {},
     "output_type": "display_data"
    }
   ],
   "source": [
    "sns.histplot(data=filtered_action_sports_df, x='user_score', hue='genre', kde=True, bins=10)\n",
    "\n",
    "plt.title('Histograma de Frecuencias por Plataforma')\n",
    "plt.xlabel('Puntaje de Usuario')\n",
    "plt.ylabel('Frecuencia')\n",
    "\n",
    "plt.show()"
   ]
  },
  {
   "cell_type": "markdown",
   "metadata": {},
   "source": [
    "Los conjuntos de datos de los generos accion y deportes no siguen una distribución normal, evidenciado por la prueba de Kolmogorov-Smirnov y el histograme de frecuencias. Por lo tanto se aplicará una prueba de hipótesis no paramétrica."
   ]
  },
  {
   "cell_type": "code",
   "execution_count": 62,
   "metadata": {},
   "outputs": [
    {
     "name": "stdout",
     "output_type": "stream",
     "text": [
      "Estadístico U de Mann-Whitney: 1017262.5\n",
      "Valor p: 0.7181033337168699\n"
     ]
    }
   ],
   "source": [
    "group_action = correl_df[correl_df['genre'] == 'Action']['user_score']\n",
    "group_sports = correl_df[correl_df['genre'] == 'Sports']['user_score']\n",
    "statistic_2, p_value_2 = stats.mannwhitneyu(group_action, group_sports, alternative='two-sided')\n",
    "\n",
    "print(f\"Estadístico U de Mann-Whitney: {statistic_2}\")\n",
    "print(f\"Valor p: {p_value_2}\")"
   ]
  },
  {
   "cell_type": "code",
   "execution_count": 63,
   "metadata": {},
   "outputs": [
    {
     "data": {
      "text/plain": [
       "<AxesSubplot:xlabel='genre', ylabel='user_score'>"
      ]
     },
     "execution_count": 63,
     "metadata": {},
     "output_type": "execute_result"
    },
    {
     "data": {
      "image/png": "[encoded data removed]",
      "text/plain": [
       "<Figure size 640x480 with 1 Axes>"
      ]
     },
     "metadata": {},
     "output_type": "display_data"
    }
   ],
   "source": [
    "sns.boxplot(x='genre', y='user_score', data=filtered_action_sports_df)"
   ]
  },
  {
   "cell_type": "markdown",
   "metadata": {},
   "source": [
    "El valor de p es superior a 0.05 por lo que se acepta la hipótesis nula. Es decir no existen diferencias de las calificaciones de los usuarios entre los géneros acción y deporte."
   ]
  },
  {
   "cell_type": "markdown",
   "metadata": {},
   "source": [
    "\n",
    "<div class=\"alert alert-block alert-success\">\n",
    "\n",
    "<b>Comentario del revisor</b> <a class=\"tocSkip\"></a><br>\n",
    "\n",
    "<b>Éxito</b> - Excelente trabajo aplicando pruebas estadísticas para validar hipótesis sobre las calificaciones de los usuarios. Utilizaste correctamente las pruebas de Levene, Kolmogorov-Smirnov y Mann-Whitney U para analizar las varianzas y distribuciones de los datos, adaptando las metodologías según la naturaleza de las variables. Además, complementaste el análisis con visualizaciones como histogramas y diagramas de caja, lo que refuerza la interpretación de los resultados.\n",
    "\n",
    "#### Aspectos Destacados:\n",
    "1. **Uso Apropiado de Pruebas Estadísticas:** La decisión de usar pruebas no paramétricas debido a la falta de normalidad en los datos es acertada y demuestra un entendimiento sólido de los fundamentos estadísticos.\n",
    "2. **Análisis Comparativo:** Identificaste diferencias significativas entre plataformas y evaluaste géneros de juegos con un enfoque detallado.\n",
    "3. **Apoyo con Visualizaciones:** Los histogramas y diagramas de caja refuerzan tus conclusiones, ayudando a visualizar las distribuciones y diferencias entre grupos.\n",
    "\n",
    "</div> "
   ]
  },
  {
   "cell_type": "markdown",
   "metadata": {},
   "source": [
    "# Comentario General del Revisor"
   ]
  },
  {
   "cell_type": "markdown",
   "metadata": {},
   "source": [
    "<div class=\"alert alert-block alert-success\">\n",
    "\n",
    "<b>Comentario del Revisor</b> <a class=\"tocSkip\"></a><br>\n",
    "\n",
    "<b>¡Aprobado!</b> 🎉 - Has realizado un excelente análisis, aplicando correctamente las pruebas estadísticas, visualizaciones y técnicas adecuadas para respaldar tus hipótesis y conclusiones intermedias. Tu enfoque metódico y detallado destaca en este proyecto.\n",
    "\n",
    "### Sugerencia:\n",
    "Aunque tu análisis es muy completo, falta incluir una **conclusión final** que resuma tus hallazgos y los conecte con el objetivo del análisis. Aquí tienes una pauta para estructurar tus conclusiones:\n",
    "\n",
    "1. **Resumen de Hallazgos Clave:** Resalta los puntos más importantes que descubriste durante tu análisis. Por ejemplo:\n",
    "   - Diferencias significativas en las calificaciones entre plataformas como PC y Xbox One.\n",
    "   - Identificación de géneros más rentables o diferencias regionales en ventas.\n",
    "\n",
    "2. **Implicaciones Prácticas:** Explica cómo estos hallazgos pueden ser útiles. Por ejemplo:\n",
    "   - ¿Cómo pueden las diferencias en plataformas influir en la estrategia de marketing?\n",
    "   - ¿Qué géneros de juegos podrían priorizarse según los datos?\n",
    "\n",
    "3. **Limitaciones del Análisis:** Comenta cualquier limitación que enfrentaste (por ejemplo, datos faltantes o valores \"tbd\") y cómo podrían abordarse en estudios futuros.\n",
    "\n",
    "4. **Recomendaciones Finales:** Proporciona sugerencias basadas en tus resultados. Esto podría incluir recomendaciones de estrategias comerciales o líneas de investigación futura.\n",
    "\n",
    "Con una conclusión final clara y bien estructurada, tu proyecto estará completamente redondeado. ¡Sigue así, estás haciendo un gran trabajo! 😊\n",
    "\n",
    "</div> "
   ]
  }
 ],
 "metadata": {
  "ExecuteTimeLog": [
   {
    "duration": 2203,
    "start_time": "2024-12-09T17:13:54.037Z"
   },
   {
    "duration": 555,
    "start_time": "2024-12-09T17:14:49.734Z"
   },
   {
    "duration": 14,
    "start_time": "2024-12-09T17:20:06.179Z"
   },
   {
    "duration": 43,
    "start_time": "2024-12-09T17:20:14.197Z"
   },
   {
    "duration": 12,
    "start_time": "2024-12-09T17:20:16.048Z"
   },
   {
    "duration": 477,
    "start_time": "2024-12-09T17:22:06.959Z"
   },
   {
    "duration": 72,
    "start_time": "2024-12-09T17:22:07.439Z"
   },
   {
    "duration": 15,
    "start_time": "2024-12-09T17:22:07.513Z"
   },
   {
    "duration": 6,
    "start_time": "2024-12-09T17:22:44.273Z"
   },
   {
    "duration": 12,
    "start_time": "2024-12-09T17:22:51.298Z"
   },
   {
    "duration": 12,
    "start_time": "2024-12-09T17:23:09.610Z"
   },
   {
    "duration": 188,
    "start_time": "2024-12-09T17:24:31.021Z"
   },
   {
    "duration": 5,
    "start_time": "2024-12-09T17:25:35.760Z"
   },
   {
    "duration": 3,
    "start_time": "2024-12-09T17:25:52.838Z"
   },
   {
    "duration": 14,
    "start_time": "2024-12-09T17:26:09.645Z"
   },
   {
    "duration": 12,
    "start_time": "2024-12-09T17:26:18.540Z"
   },
   {
    "duration": 411,
    "start_time": "2024-12-09T17:27:13.298Z"
   },
   {
    "duration": 63,
    "start_time": "2024-12-09T17:27:13.712Z"
   },
   {
    "duration": 13,
    "start_time": "2024-12-09T17:27:13.778Z"
   },
   {
    "duration": 25,
    "start_time": "2024-12-09T17:27:13.793Z"
   },
   {
    "duration": 3,
    "start_time": "2024-12-09T17:27:13.820Z"
   },
   {
    "duration": 10,
    "start_time": "2024-12-09T17:27:13.825Z"
   },
   {
    "duration": 697,
    "start_time": "2024-12-09T17:29:45.402Z"
   },
   {
    "duration": 14,
    "start_time": "2024-12-09T17:29:52.619Z"
   },
   {
    "duration": 47,
    "start_time": "2024-12-09T17:30:08.777Z"
   },
   {
    "duration": 5,
    "start_time": "2024-12-09T17:38:43.612Z"
   },
   {
    "duration": 14,
    "start_time": "2024-12-09T17:41:21.375Z"
   },
   {
    "duration": 14,
    "start_time": "2024-12-09T17:41:27.624Z"
   },
   {
    "duration": 4,
    "start_time": "2024-12-09T17:42:27.332Z"
   },
   {
    "duration": 4,
    "start_time": "2024-12-09T17:43:03.332Z"
   },
   {
    "duration": 7,
    "start_time": "2024-12-09T17:43:12.189Z"
   },
   {
    "duration": 4,
    "start_time": "2024-12-09T17:43:15.461Z"
   },
   {
    "duration": 48,
    "start_time": "2024-12-09T17:43:53.490Z"
   },
   {
    "duration": 3,
    "start_time": "2024-12-09T17:44:00.851Z"
   },
   {
    "duration": 441,
    "start_time": "2024-12-09T17:48:42.957Z"
   },
   {
    "duration": 65,
    "start_time": "2024-12-09T17:48:43.400Z"
   },
   {
    "duration": 13,
    "start_time": "2024-12-09T17:48:43.467Z"
   },
   {
    "duration": 12,
    "start_time": "2024-12-09T17:48:43.481Z"
   },
   {
    "duration": 3,
    "start_time": "2024-12-09T17:48:43.508Z"
   },
   {
    "duration": 11,
    "start_time": "2024-12-09T17:48:43.512Z"
   },
   {
    "duration": 767,
    "start_time": "2024-12-09T17:48:43.525Z"
   },
   {
    "duration": 3,
    "start_time": "2024-12-09T17:49:12.476Z"
   },
   {
    "duration": 13,
    "start_time": "2024-12-09T17:55:53.866Z"
   },
   {
    "duration": 14,
    "start_time": "2024-12-09T17:57:00.815Z"
   },
   {
    "duration": 17,
    "start_time": "2024-12-09T17:57:19.805Z"
   },
   {
    "duration": 8,
    "start_time": "2024-12-09T17:57:31.231Z"
   },
   {
    "duration": 5,
    "start_time": "2024-12-09T17:57:48.484Z"
   },
   {
    "duration": 6,
    "start_time": "2024-12-09T17:57:55.572Z"
   },
   {
    "duration": 5,
    "start_time": "2024-12-09T17:58:06.283Z"
   },
   {
    "duration": 4,
    "start_time": "2024-12-09T17:58:11.634Z"
   },
   {
    "duration": 5,
    "start_time": "2024-12-09T17:58:15.440Z"
   },
   {
    "duration": 5,
    "start_time": "2024-12-09T17:58:23.163Z"
   },
   {
    "duration": 20,
    "start_time": "2024-12-09T17:58:28.468Z"
   },
   {
    "duration": 11,
    "start_time": "2024-12-09T18:00:56.106Z"
   },
   {
    "duration": 7,
    "start_time": "2024-12-09T18:01:51.098Z"
   },
   {
    "duration": 8,
    "start_time": "2024-12-09T18:02:03.151Z"
   },
   {
    "duration": 3,
    "start_time": "2024-12-09T18:02:27.345Z"
   },
   {
    "duration": 15,
    "start_time": "2024-12-09T18:02:37.451Z"
   },
   {
    "duration": 23,
    "start_time": "2024-12-09T18:02:49.754Z"
   },
   {
    "duration": 293,
    "start_time": "2024-12-09T18:04:13.516Z"
   },
   {
    "duration": 16,
    "start_time": "2024-12-09T18:04:25.206Z"
   },
   {
    "duration": 210,
    "start_time": "2024-12-09T18:04:43.757Z"
   },
   {
    "duration": 7,
    "start_time": "2024-12-09T18:04:58.699Z"
   },
   {
    "duration": 22,
    "start_time": "2024-12-09T18:06:05.595Z"
   },
   {
    "duration": 15,
    "start_time": "2024-12-09T18:27:30.558Z"
   },
   {
    "duration": 19,
    "start_time": "2024-12-09T18:27:43.519Z"
   },
   {
    "duration": 12,
    "start_time": "2024-12-09T18:28:29.628Z"
   },
   {
    "duration": 2143,
    "start_time": "2024-12-12T01:49:51.592Z"
   },
   {
    "duration": 35,
    "start_time": "2024-12-12T01:49:53.737Z"
   },
   {
    "duration": 13,
    "start_time": "2024-12-12T01:49:53.774Z"
   },
   {
    "duration": 11,
    "start_time": "2024-12-12T01:49:53.789Z"
   },
   {
    "duration": 3,
    "start_time": "2024-12-12T01:49:53.806Z"
   },
   {
    "duration": 11,
    "start_time": "2024-12-12T01:49:53.811Z"
   },
   {
    "duration": 2224,
    "start_time": "2024-12-13T15:13:14.128Z"
   },
   {
    "duration": 40,
    "start_time": "2024-12-13T15:13:16.354Z"
   },
   {
    "duration": 13,
    "start_time": "2024-12-13T15:13:16.396Z"
   },
   {
    "duration": 11,
    "start_time": "2024-12-13T15:13:16.411Z"
   },
   {
    "duration": 3,
    "start_time": "2024-12-13T15:13:16.425Z"
   },
   {
    "duration": 10,
    "start_time": "2024-12-13T15:13:16.430Z"
   },
   {
    "duration": 5,
    "start_time": "2024-12-13T15:13:16.441Z"
   },
   {
    "duration": 154,
    "start_time": "2024-12-13T17:16:55.344Z"
   },
   {
    "duration": 2165,
    "start_time": "2024-12-13T17:17:03.084Z"
   },
   {
    "duration": 33,
    "start_time": "2024-12-13T17:17:05.251Z"
   },
   {
    "duration": 13,
    "start_time": "2024-12-13T17:17:05.285Z"
   },
   {
    "duration": 11,
    "start_time": "2024-12-13T17:17:05.300Z"
   },
   {
    "duration": 2,
    "start_time": "2024-12-13T17:17:05.313Z"
   },
   {
    "duration": 11,
    "start_time": "2024-12-13T17:17:05.317Z"
   },
   {
    "duration": 4,
    "start_time": "2024-12-13T17:17:05.330Z"
   },
   {
    "duration": 41,
    "start_time": "2024-12-13T17:17:05.335Z"
   },
   {
    "duration": 18,
    "start_time": "2024-12-13T17:24:57.357Z"
   },
   {
    "duration": 6,
    "start_time": "2024-12-13T17:25:22.389Z"
   },
   {
    "duration": 215,
    "start_time": "2024-12-13T17:36:09.078Z"
   },
   {
    "duration": 3,
    "start_time": "2024-12-13T17:36:18.312Z"
   },
   {
    "duration": 12,
    "start_time": "2024-12-13T17:36:20.086Z"
   },
   {
    "duration": 226,
    "start_time": "2024-12-13T17:36:32.007Z"
   },
   {
    "duration": 5,
    "start_time": "2024-12-13T17:36:49.168Z"
   },
   {
    "duration": 2143,
    "start_time": "2024-12-15T13:25:01.968Z"
   },
   {
    "duration": 35,
    "start_time": "2024-12-15T13:25:04.113Z"
   },
   {
    "duration": 14,
    "start_time": "2024-12-15T13:25:04.152Z"
   },
   {
    "duration": 12,
    "start_time": "2024-12-15T13:25:04.167Z"
   },
   {
    "duration": 3,
    "start_time": "2024-12-15T13:25:04.181Z"
   },
   {
    "duration": 10,
    "start_time": "2024-12-15T13:25:04.185Z"
   },
   {
    "duration": 4,
    "start_time": "2024-12-15T13:25:04.196Z"
   },
   {
    "duration": 11,
    "start_time": "2024-12-15T13:25:04.202Z"
   },
   {
    "duration": 4,
    "start_time": "2024-12-15T13:25:04.243Z"
   },
   {
    "duration": 237,
    "start_time": "2024-12-15T13:25:04.249Z"
   },
   {
    "duration": 7,
    "start_time": "2024-12-15T13:42:21.017Z"
   },
   {
    "duration": 3,
    "start_time": "2024-12-15T13:43:06.112Z"
   },
   {
    "duration": 397,
    "start_time": "2024-12-15T13:43:46.817Z"
   },
   {
    "duration": 58,
    "start_time": "2024-12-15T13:43:47.216Z"
   },
   {
    "duration": 14,
    "start_time": "2024-12-15T13:43:47.275Z"
   },
   {
    "duration": 12,
    "start_time": "2024-12-15T13:43:47.291Z"
   },
   {
    "duration": 2,
    "start_time": "2024-12-15T13:43:47.305Z"
   },
   {
    "duration": 9,
    "start_time": "2024-12-15T13:43:47.309Z"
   },
   {
    "duration": 25,
    "start_time": "2024-12-15T13:43:47.319Z"
   },
   {
    "duration": 14,
    "start_time": "2024-12-15T13:43:47.346Z"
   },
   {
    "duration": 13,
    "start_time": "2024-12-15T13:43:47.362Z"
   },
   {
    "duration": 242,
    "start_time": "2024-12-15T13:43:47.376Z"
   },
   {
    "duration": 7,
    "start_time": "2024-12-15T13:43:47.620Z"
   },
   {
    "duration": 154057,
    "start_time": "2024-12-15T13:43:47.629Z"
   },
   {
    "duration": 153128,
    "start_time": "2024-12-15T13:46:59.316Z"
   },
   {
    "duration": 205,
    "start_time": "2024-12-15T13:49:32.447Z"
   },
   {
    "duration": 5,
    "start_time": "2024-12-15T13:56:07.860Z"
   },
   {
    "duration": 97,
    "start_time": "2024-12-15T13:56:21.854Z"
   },
   {
    "duration": 10,
    "start_time": "2024-12-15T13:56:26.121Z"
   },
   {
    "duration": 11,
    "start_time": "2024-12-15T13:56:38.344Z"
   },
   {
    "duration": 7,
    "start_time": "2024-12-15T13:57:30.500Z"
   },
   {
    "duration": 5,
    "start_time": "2024-12-15T13:57:56.709Z"
   },
   {
    "duration": 5,
    "start_time": "2024-12-15T14:27:15.589Z"
   },
   {
    "duration": 3,
    "start_time": "2024-12-15T14:30:38.822Z"
   },
   {
    "duration": 5,
    "start_time": "2024-12-15T14:32:05.149Z"
   },
   {
    "duration": 17,
    "start_time": "2024-12-15T14:32:12.410Z"
   },
   {
    "duration": 12,
    "start_time": "2024-12-15T14:38:33.492Z"
   },
   {
    "duration": 769,
    "start_time": "2024-12-15T14:40:43.943Z"
   },
   {
    "duration": 648,
    "start_time": "2024-12-15T14:42:03.897Z"
   },
   {
    "duration": 740,
    "start_time": "2024-12-15T14:42:21.502Z"
   },
   {
    "duration": 2228,
    "start_time": "2024-12-15T23:09:32.495Z"
   },
   {
    "duration": 32,
    "start_time": "2024-12-15T23:09:34.725Z"
   },
   {
    "duration": 13,
    "start_time": "2024-12-15T23:09:34.758Z"
   },
   {
    "duration": 11,
    "start_time": "2024-12-15T23:09:34.772Z"
   },
   {
    "duration": 3,
    "start_time": "2024-12-15T23:09:34.785Z"
   },
   {
    "duration": 21,
    "start_time": "2024-12-15T23:09:34.790Z"
   },
   {
    "duration": 4,
    "start_time": "2024-12-15T23:09:34.813Z"
   },
   {
    "duration": 12,
    "start_time": "2024-12-15T23:09:34.819Z"
   },
   {
    "duration": 5,
    "start_time": "2024-12-15T23:09:34.832Z"
   },
   {
    "duration": 263,
    "start_time": "2024-12-15T23:09:34.838Z"
   },
   {
    "duration": 7,
    "start_time": "2024-12-15T23:09:35.102Z"
   },
   {
    "duration": 238,
    "start_time": "2024-12-15T23:09:35.111Z"
   },
   {
    "duration": 5,
    "start_time": "2024-12-15T23:09:35.351Z"
   },
   {
    "duration": 3,
    "start_time": "2024-12-15T23:09:35.359Z"
   },
   {
    "duration": 6,
    "start_time": "2024-12-15T23:09:35.363Z"
   },
   {
    "duration": 37,
    "start_time": "2024-12-15T23:09:35.370Z"
   },
   {
    "duration": 12,
    "start_time": "2024-12-15T23:09:35.408Z"
   },
   {
    "duration": 735,
    "start_time": "2024-12-15T23:09:35.422Z"
   },
   {
    "duration": 729,
    "start_time": "2024-12-15T23:15:04.322Z"
   },
   {
    "duration": 987,
    "start_time": "2024-12-15T23:15:22.518Z"
   },
   {
    "duration": 284,
    "start_time": "2024-12-15T23:16:08.314Z"
   },
   {
    "duration": 26,
    "start_time": "2024-12-15T23:16:19.665Z"
   },
   {
    "duration": 417,
    "start_time": "2024-12-15T23:16:25.438Z"
   },
   {
    "duration": 959,
    "start_time": "2024-12-15T23:18:29.451Z"
   },
   {
    "duration": 4,
    "start_time": "2024-12-15T23:21:15.265Z"
   },
   {
    "duration": 14,
    "start_time": "2024-12-15T23:21:33.323Z"
   },
   {
    "duration": 1019,
    "start_time": "2024-12-15T23:21:57.135Z"
   },
   {
    "duration": 994,
    "start_time": "2024-12-15T23:23:08.025Z"
   },
   {
    "duration": 1030,
    "start_time": "2024-12-15T23:23:15.635Z"
   },
   {
    "duration": 1336,
    "start_time": "2024-12-15T23:23:26.672Z"
   },
   {
    "duration": 1074,
    "start_time": "2024-12-15T23:23:44.737Z"
   },
   {
    "duration": 3,
    "start_time": "2024-12-15T23:25:17.671Z"
   },
   {
    "duration": 148,
    "start_time": "2024-12-15T23:26:09.570Z"
   },
   {
    "duration": 701,
    "start_time": "2024-12-15T23:27:08.981Z"
   },
   {
    "duration": 697,
    "start_time": "2024-12-15T23:27:28.737Z"
   },
   {
    "duration": 1219,
    "start_time": "2024-12-15T23:28:02.303Z"
   },
   {
    "duration": 1015,
    "start_time": "2024-12-15T23:28:57.967Z"
   },
   {
    "duration": 1036,
    "start_time": "2024-12-15T23:29:12.413Z"
   },
   {
    "duration": 1023,
    "start_time": "2024-12-15T23:29:26.694Z"
   },
   {
    "duration": 999,
    "start_time": "2024-12-15T23:30:58.193Z"
   },
   {
    "duration": 306,
    "start_time": "2024-12-15T23:31:10.256Z"
   },
   {
    "duration": 1028,
    "start_time": "2024-12-15T23:31:18.665Z"
   },
   {
    "duration": 2087,
    "start_time": "2024-12-17T17:09:02.407Z"
   },
   {
    "duration": 39,
    "start_time": "2024-12-17T17:09:04.496Z"
   },
   {
    "duration": 13,
    "start_time": "2024-12-17T17:09:04.537Z"
   },
   {
    "duration": 12,
    "start_time": "2024-12-17T17:09:04.553Z"
   },
   {
    "duration": 2,
    "start_time": "2024-12-17T17:09:04.567Z"
   },
   {
    "duration": 10,
    "start_time": "2024-12-17T17:09:04.571Z"
   },
   {
    "duration": 4,
    "start_time": "2024-12-17T17:09:04.583Z"
   },
   {
    "duration": 12,
    "start_time": "2024-12-17T17:09:04.608Z"
   },
   {
    "duration": 6,
    "start_time": "2024-12-17T17:09:04.621Z"
   },
   {
    "duration": 245,
    "start_time": "2024-12-17T17:09:04.630Z"
   },
   {
    "duration": 7,
    "start_time": "2024-12-17T17:09:04.877Z"
   },
   {
    "duration": 206,
    "start_time": "2024-12-17T17:09:04.885Z"
   },
   {
    "duration": 5,
    "start_time": "2024-12-17T17:09:05.093Z"
   },
   {
    "duration": 4,
    "start_time": "2024-12-17T17:09:05.109Z"
   },
   {
    "duration": 6,
    "start_time": "2024-12-17T17:09:05.114Z"
   },
   {
    "duration": 19,
    "start_time": "2024-12-17T17:09:05.123Z"
   },
   {
    "duration": 13,
    "start_time": "2024-12-17T17:09:05.144Z"
   },
   {
    "duration": 14,
    "start_time": "2024-12-17T17:09:05.159Z"
   },
   {
    "duration": 1121,
    "start_time": "2024-12-17T17:09:05.175Z"
   },
   {
    "duration": 187,
    "start_time": "2024-12-17T17:47:08.797Z"
   },
   {
    "duration": 4,
    "start_time": "2024-12-17T17:48:28.199Z"
   },
   {
    "duration": 15,
    "start_time": "2024-12-17T17:48:39.195Z"
   },
   {
    "duration": 8,
    "start_time": "2024-12-17T17:49:13.794Z"
   },
   {
    "duration": 14,
    "start_time": "2024-12-17T17:49:38.182Z"
   },
   {
    "duration": 6,
    "start_time": "2024-12-17T17:49:54.516Z"
   },
   {
    "duration": 4,
    "start_time": "2024-12-17T17:50:12.914Z"
   },
   {
    "duration": 5,
    "start_time": "2024-12-17T17:50:33.625Z"
   },
   {
    "duration": 5,
    "start_time": "2024-12-17T17:54:00.743Z"
   },
   {
    "duration": 5,
    "start_time": "2024-12-17T17:55:30.973Z"
   },
   {
    "duration": 16,
    "start_time": "2024-12-17T17:55:53.244Z"
   },
   {
    "duration": 157,
    "start_time": "2024-12-17T19:06:28.254Z"
   },
   {
    "duration": 2109,
    "start_time": "2024-12-17T19:06:49.551Z"
   },
   {
    "duration": 38,
    "start_time": "2024-12-17T19:06:51.663Z"
   },
   {
    "duration": 13,
    "start_time": "2024-12-17T19:06:51.703Z"
   },
   {
    "duration": 11,
    "start_time": "2024-12-17T19:06:51.718Z"
   },
   {
    "duration": 3,
    "start_time": "2024-12-17T19:06:51.730Z"
   },
   {
    "duration": 10,
    "start_time": "2024-12-17T19:06:51.734Z"
   },
   {
    "duration": 4,
    "start_time": "2024-12-17T19:06:51.746Z"
   },
   {
    "duration": 11,
    "start_time": "2024-12-17T19:06:51.752Z"
   },
   {
    "duration": 5,
    "start_time": "2024-12-17T19:06:51.764Z"
   },
   {
    "duration": 261,
    "start_time": "2024-12-17T19:06:51.772Z"
   },
   {
    "duration": 7,
    "start_time": "2024-12-17T19:06:52.034Z"
   },
   {
    "duration": 202,
    "start_time": "2024-12-17T19:06:52.043Z"
   },
   {
    "duration": 5,
    "start_time": "2024-12-17T19:06:52.247Z"
   },
   {
    "duration": 4,
    "start_time": "2024-12-17T19:06:52.254Z"
   },
   {
    "duration": 5,
    "start_time": "2024-12-17T19:06:52.259Z"
   },
   {
    "duration": 16,
    "start_time": "2024-12-17T19:06:52.265Z"
   },
   {
    "duration": 40,
    "start_time": "2024-12-17T19:06:52.282Z"
   },
   {
    "duration": 10,
    "start_time": "2024-12-17T19:06:52.324Z"
   },
   {
    "duration": 1069,
    "start_time": "2024-12-17T19:06:52.336Z"
   },
   {
    "duration": 187,
    "start_time": "2024-12-17T19:06:53.411Z"
   },
   {
    "duration": 766,
    "start_time": "2024-12-17T19:08:43.265Z"
   },
   {
    "duration": 134,
    "start_time": "2024-12-17T19:08:56.062Z"
   },
   {
    "duration": 790,
    "start_time": "2024-12-17T19:10:19.618Z"
   },
   {
    "duration": 30,
    "start_time": "2024-12-17T19:10:20.410Z"
   },
   {
    "duration": 14,
    "start_time": "2024-12-17T19:10:20.441Z"
   },
   {
    "duration": 11,
    "start_time": "2024-12-17T19:10:20.457Z"
   },
   {
    "duration": 3,
    "start_time": "2024-12-17T19:10:20.470Z"
   },
   {
    "duration": 37,
    "start_time": "2024-12-17T19:10:20.475Z"
   },
   {
    "duration": 4,
    "start_time": "2024-12-17T19:10:20.514Z"
   },
   {
    "duration": 12,
    "start_time": "2024-12-17T19:10:20.519Z"
   },
   {
    "duration": 5,
    "start_time": "2024-12-17T19:10:20.532Z"
   },
   {
    "duration": 248,
    "start_time": "2024-12-17T19:10:20.539Z"
   },
   {
    "duration": 7,
    "start_time": "2024-12-17T19:10:20.788Z"
   },
   {
    "duration": 193,
    "start_time": "2024-12-17T19:10:20.797Z"
   },
   {
    "duration": 5,
    "start_time": "2024-12-17T19:10:20.992Z"
   },
   {
    "duration": 3,
    "start_time": "2024-12-17T19:10:21.011Z"
   },
   {
    "duration": 4,
    "start_time": "2024-12-17T19:10:21.016Z"
   },
   {
    "duration": 16,
    "start_time": "2024-12-17T19:10:21.022Z"
   },
   {
    "duration": 12,
    "start_time": "2024-12-17T19:10:21.039Z"
   },
   {
    "duration": 11,
    "start_time": "2024-12-17T19:10:21.052Z"
   },
   {
    "duration": 1098,
    "start_time": "2024-12-17T19:10:21.064Z"
   },
   {
    "duration": 124,
    "start_time": "2024-12-17T19:10:22.164Z"
   },
   {
    "duration": 4,
    "start_time": "2024-12-17T19:10:22.290Z"
   },
   {
    "duration": 789,
    "start_time": "2024-12-17T19:18:36.719Z"
   },
   {
    "duration": 23,
    "start_time": "2024-12-17T19:18:37.511Z"
   },
   {
    "duration": 13,
    "start_time": "2024-12-17T19:18:37.536Z"
   },
   {
    "duration": 11,
    "start_time": "2024-12-17T19:18:37.550Z"
   },
   {
    "duration": 3,
    "start_time": "2024-12-17T19:18:37.563Z"
   },
   {
    "duration": 11,
    "start_time": "2024-12-17T19:18:37.567Z"
   },
   {
    "duration": 32,
    "start_time": "2024-12-17T19:18:37.580Z"
   },
   {
    "duration": 11,
    "start_time": "2024-12-17T19:18:37.614Z"
   },
   {
    "duration": 5,
    "start_time": "2024-12-17T19:18:37.626Z"
   },
   {
    "duration": 240,
    "start_time": "2024-12-17T19:18:37.632Z"
   },
   {
    "duration": 7,
    "start_time": "2024-12-17T19:18:37.874Z"
   },
   {
    "duration": 224,
    "start_time": "2024-12-17T19:18:37.882Z"
   },
   {
    "duration": 5,
    "start_time": "2024-12-17T19:18:38.111Z"
   },
   {
    "duration": 3,
    "start_time": "2024-12-17T19:18:38.120Z"
   },
   {
    "duration": 4,
    "start_time": "2024-12-17T19:18:38.125Z"
   },
   {
    "duration": 17,
    "start_time": "2024-12-17T19:18:38.130Z"
   },
   {
    "duration": 12,
    "start_time": "2024-12-17T19:18:38.148Z"
   },
   {
    "duration": 12,
    "start_time": "2024-12-17T19:18:38.161Z"
   },
   {
    "duration": 1098,
    "start_time": "2024-12-17T19:18:38.175Z"
   },
   {
    "duration": 119,
    "start_time": "2024-12-17T19:18:39.275Z"
   },
   {
    "duration": 132,
    "start_time": "2024-12-17T19:18:39.396Z"
   },
   {
    "duration": 2437,
    "start_time": "2024-12-18T17:47:49.459Z"
   },
   {
    "duration": 36,
    "start_time": "2024-12-18T17:47:51.899Z"
   },
   {
    "duration": 14,
    "start_time": "2024-12-18T17:47:51.936Z"
   },
   {
    "duration": 11,
    "start_time": "2024-12-18T17:47:51.951Z"
   },
   {
    "duration": 2,
    "start_time": "2024-12-18T17:47:51.971Z"
   },
   {
    "duration": 10,
    "start_time": "2024-12-18T17:47:51.975Z"
   },
   {
    "duration": 4,
    "start_time": "2024-12-18T17:47:51.987Z"
   },
   {
    "duration": 12,
    "start_time": "2024-12-18T17:47:51.992Z"
   },
   {
    "duration": 5,
    "start_time": "2024-12-18T17:47:52.006Z"
   },
   {
    "duration": 270,
    "start_time": "2024-12-18T17:47:52.012Z"
   },
   {
    "duration": 7,
    "start_time": "2024-12-18T17:47:52.284Z"
   },
   {
    "duration": 204,
    "start_time": "2024-12-18T17:47:52.292Z"
   },
   {
    "duration": 5,
    "start_time": "2024-12-18T17:47:52.498Z"
   },
   {
    "duration": 3,
    "start_time": "2024-12-18T17:47:52.506Z"
   },
   {
    "duration": 4,
    "start_time": "2024-12-18T17:47:52.511Z"
   },
   {
    "duration": 16,
    "start_time": "2024-12-18T17:47:52.517Z"
   },
   {
    "duration": 42,
    "start_time": "2024-12-18T17:47:52.535Z"
   },
   {
    "duration": 12,
    "start_time": "2024-12-18T17:47:52.578Z"
   },
   {
    "duration": 1054,
    "start_time": "2024-12-18T17:47:52.591Z"
   },
   {
    "duration": 139,
    "start_time": "2024-12-18T17:47:53.647Z"
   },
   {
    "duration": 426,
    "start_time": "2024-12-18T17:47:53.788Z"
   },
   {
    "duration": 17,
    "start_time": "2024-12-18T17:47:54.216Z"
   },
   {
    "duration": 132,
    "start_time": "2024-12-18T17:52:18.933Z"
   },
   {
    "duration": 131,
    "start_time": "2024-12-18T17:54:09.440Z"
   },
   {
    "duration": 134,
    "start_time": "2024-12-18T17:54:22.830Z"
   },
   {
    "duration": 14,
    "start_time": "2024-12-18T18:04:23.207Z"
   },
   {
    "duration": 13,
    "start_time": "2024-12-18T18:04:40.589Z"
   },
   {
    "duration": 156,
    "start_time": "2024-12-18T18:56:37.359Z"
   },
   {
    "duration": 2529,
    "start_time": "2024-12-18T18:56:45.243Z"
   },
   {
    "duration": 35,
    "start_time": "2024-12-18T18:56:47.774Z"
   },
   {
    "duration": 14,
    "start_time": "2024-12-18T18:56:47.810Z"
   },
   {
    "duration": 11,
    "start_time": "2024-12-18T18:56:47.826Z"
   },
   {
    "duration": 3,
    "start_time": "2024-12-18T18:56:47.842Z"
   },
   {
    "duration": 10,
    "start_time": "2024-12-18T18:56:47.847Z"
   },
   {
    "duration": 4,
    "start_time": "2024-12-18T18:56:47.859Z"
   },
   {
    "duration": 12,
    "start_time": "2024-12-18T18:56:47.865Z"
   },
   {
    "duration": 5,
    "start_time": "2024-12-18T18:56:47.879Z"
   },
   {
    "duration": 265,
    "start_time": "2024-12-18T18:56:47.887Z"
   },
   {
    "duration": 7,
    "start_time": "2024-12-18T18:56:48.154Z"
   },
   {
    "duration": 202,
    "start_time": "2024-12-18T18:56:48.163Z"
   },
   {
    "duration": 5,
    "start_time": "2024-12-18T18:56:48.367Z"
   },
   {
    "duration": 4,
    "start_time": "2024-12-18T18:56:48.373Z"
   },
   {
    "duration": 4,
    "start_time": "2024-12-18T18:56:48.378Z"
   },
   {
    "duration": 16,
    "start_time": "2024-12-18T18:56:48.384Z"
   },
   {
    "duration": 42,
    "start_time": "2024-12-18T18:56:48.401Z"
   },
   {
    "duration": 13,
    "start_time": "2024-12-18T18:56:48.444Z"
   },
   {
    "duration": 1079,
    "start_time": "2024-12-18T18:56:48.459Z"
   },
   {
    "duration": 188,
    "start_time": "2024-12-18T18:56:49.542Z"
   },
   {
    "duration": 359,
    "start_time": "2024-12-18T18:56:49.732Z"
   },
   {
    "duration": 152,
    "start_time": "2024-12-18T18:56:50.092Z"
   },
   {
    "duration": 14,
    "start_time": "2024-12-18T18:56:50.246Z"
   },
   {
    "duration": 1250,
    "start_time": "2024-12-18T18:56:50.262Z"
   },
   {
    "duration": 177,
    "start_time": "2024-12-18T18:57:05.535Z"
   },
   {
    "duration": 179,
    "start_time": "2024-12-18T18:59:49.238Z"
   },
   {
    "duration": 938,
    "start_time": "2024-12-18T19:02:14.211Z"
   },
   {
    "duration": 345,
    "start_time": "2024-12-18T19:04:13.226Z"
   },
   {
    "duration": 10,
    "start_time": "2024-12-18T19:14:10.396Z"
   },
   {
    "duration": 605,
    "start_time": "2024-12-18T19:15:42.487Z"
   },
   {
    "duration": 552,
    "start_time": "2024-12-18T19:18:01.528Z"
   },
   {
    "duration": 818,
    "start_time": "2024-12-18T19:20:06.104Z"
   },
   {
    "duration": 10,
    "start_time": "2024-12-18T19:20:15.037Z"
   },
   {
    "duration": 10,
    "start_time": "2024-12-18T19:20:33.729Z"
   },
   {
    "duration": 4,
    "start_time": "2024-12-18T19:22:32.616Z"
   },
   {
    "duration": 51,
    "start_time": "2024-12-18T19:23:10.656Z"
   },
   {
    "duration": 50,
    "start_time": "2024-12-18T19:23:45.914Z"
   },
   {
    "duration": 47,
    "start_time": "2024-12-18T19:24:15.214Z"
   },
   {
    "duration": 52,
    "start_time": "2024-12-18T19:27:58.611Z"
   },
   {
    "duration": 791,
    "start_time": "2024-12-18T19:28:15.512Z"
   },
   {
    "duration": 25,
    "start_time": "2024-12-18T19:28:16.305Z"
   },
   {
    "duration": 21,
    "start_time": "2024-12-18T19:28:16.331Z"
   },
   {
    "duration": 11,
    "start_time": "2024-12-18T19:28:16.353Z"
   },
   {
    "duration": 3,
    "start_time": "2024-12-18T19:28:16.366Z"
   },
   {
    "duration": 10,
    "start_time": "2024-12-18T19:28:16.370Z"
   },
   {
    "duration": 4,
    "start_time": "2024-12-18T19:28:16.382Z"
   },
   {
    "duration": 11,
    "start_time": "2024-12-18T19:28:16.387Z"
   },
   {
    "duration": 5,
    "start_time": "2024-12-18T19:28:16.399Z"
   },
   {
    "duration": 276,
    "start_time": "2024-12-18T19:28:16.405Z"
   },
   {
    "duration": 8,
    "start_time": "2024-12-18T19:28:16.683Z"
   },
   {
    "duration": 195,
    "start_time": "2024-12-18T19:28:16.692Z"
   },
   {
    "duration": 6,
    "start_time": "2024-12-18T19:28:16.888Z"
   },
   {
    "duration": 2,
    "start_time": "2024-12-18T19:28:16.898Z"
   },
   {
    "duration": 4,
    "start_time": "2024-12-18T19:28:16.902Z"
   },
   {
    "duration": 49,
    "start_time": "2024-12-18T19:28:16.908Z"
   },
   {
    "duration": 12,
    "start_time": "2024-12-18T19:28:16.960Z"
   },
   {
    "duration": 12,
    "start_time": "2024-12-18T19:28:16.973Z"
   },
   {
    "duration": 1059,
    "start_time": "2024-12-18T19:28:16.986Z"
   },
   {
    "duration": 146,
    "start_time": "2024-12-18T19:28:18.047Z"
   },
   {
    "duration": 358,
    "start_time": "2024-12-18T19:28:18.195Z"
   },
   {
    "duration": 143,
    "start_time": "2024-12-18T19:28:18.555Z"
   },
   {
    "duration": 15,
    "start_time": "2024-12-18T19:28:18.700Z"
   },
   {
    "duration": 876,
    "start_time": "2024-12-18T19:28:18.716Z"
   },
   {
    "duration": 0,
    "start_time": "2024-12-18T19:28:19.593Z"
   },
   {
    "duration": 0,
    "start_time": "2024-12-18T19:28:19.597Z"
   },
   {
    "duration": 7,
    "start_time": "2024-12-18T19:28:57.529Z"
   },
   {
    "duration": 49,
    "start_time": "2024-12-18T19:29:12.063Z"
   },
   {
    "duration": 4,
    "start_time": "2024-12-18T19:29:38.414Z"
   },
   {
    "duration": 11,
    "start_time": "2024-12-18T19:33:37.907Z"
   },
   {
    "duration": 54,
    "start_time": "2024-12-18T19:33:46.276Z"
   },
   {
    "duration": 13,
    "start_time": "2024-12-18T19:34:16.244Z"
   },
   {
    "duration": 56,
    "start_time": "2024-12-18T19:34:21.318Z"
   },
   {
    "duration": 56,
    "start_time": "2024-12-18T19:35:17.343Z"
   },
   {
    "duration": 16,
    "start_time": "2024-12-18T19:35:43.748Z"
   },
   {
    "duration": 14,
    "start_time": "2024-12-18T19:36:13.968Z"
   },
   {
    "duration": 9,
    "start_time": "2024-12-18T19:36:51.045Z"
   },
   {
    "duration": 11,
    "start_time": "2024-12-18T19:37:49.554Z"
   },
   {
    "duration": 2545,
    "start_time": "2024-12-20T14:17:01.005Z"
   },
   {
    "duration": 39,
    "start_time": "2024-12-20T14:17:03.552Z"
   },
   {
    "duration": 15,
    "start_time": "2024-12-20T14:17:03.593Z"
   },
   {
    "duration": 12,
    "start_time": "2024-12-20T14:17:03.611Z"
   },
   {
    "duration": 3,
    "start_time": "2024-12-20T14:17:03.624Z"
   },
   {
    "duration": 10,
    "start_time": "2024-12-20T14:17:03.629Z"
   },
   {
    "duration": 4,
    "start_time": "2024-12-20T14:17:03.641Z"
   },
   {
    "duration": 51,
    "start_time": "2024-12-20T14:17:03.647Z"
   },
   {
    "duration": 5,
    "start_time": "2024-12-20T14:17:03.699Z"
   },
   {
    "duration": 248,
    "start_time": "2024-12-20T14:17:03.708Z"
   },
   {
    "duration": 8,
    "start_time": "2024-12-20T14:17:03.959Z"
   },
   {
    "duration": 211,
    "start_time": "2024-12-20T14:17:03.969Z"
   },
   {
    "duration": 5,
    "start_time": "2024-12-20T14:17:04.186Z"
   },
   {
    "duration": 4,
    "start_time": "2024-12-20T14:17:04.192Z"
   },
   {
    "duration": 6,
    "start_time": "2024-12-20T14:17:04.197Z"
   },
   {
    "duration": 16,
    "start_time": "2024-12-20T14:17:04.205Z"
   },
   {
    "duration": 11,
    "start_time": "2024-12-20T14:17:04.223Z"
   },
   {
    "duration": 11,
    "start_time": "2024-12-20T14:17:04.236Z"
   },
   {
    "duration": 1089,
    "start_time": "2024-12-20T14:17:04.249Z"
   },
   {
    "duration": 146,
    "start_time": "2024-12-20T14:17:05.340Z"
   },
   {
    "duration": 423,
    "start_time": "2024-12-20T14:17:05.488Z"
   },
   {
    "duration": 160,
    "start_time": "2024-12-20T14:17:05.913Z"
   },
   {
    "duration": 23,
    "start_time": "2024-12-20T14:17:06.075Z"
   },
   {
    "duration": 9,
    "start_time": "2024-12-20T14:17:06.100Z"
   },
   {
    "duration": 6,
    "start_time": "2024-12-20T14:17:06.111Z"
   },
   {
    "duration": 5,
    "start_time": "2024-12-20T14:17:06.118Z"
   },
   {
    "duration": 9,
    "start_time": "2024-12-20T14:26:57.092Z"
   },
   {
    "duration": 9,
    "start_time": "2024-12-20T14:27:11.431Z"
   },
   {
    "duration": 5,
    "start_time": "2024-12-20T14:28:06.324Z"
   },
   {
    "duration": 630,
    "start_time": "2024-12-20T14:28:20.819Z"
   },
   {
    "duration": 7,
    "start_time": "2024-12-20T14:28:40.117Z"
   },
   {
    "duration": 2,
    "start_time": "2024-12-20T14:28:51.228Z"
   },
   {
    "duration": 11,
    "start_time": "2024-12-20T14:30:06.929Z"
   },
   {
    "duration": 6,
    "start_time": "2024-12-20T14:30:49.551Z"
   },
   {
    "duration": 10,
    "start_time": "2024-12-20T14:30:57.467Z"
   },
   {
    "duration": 6,
    "start_time": "2024-12-20T14:31:14.356Z"
   },
   {
    "duration": 6,
    "start_time": "2024-12-20T14:31:35.665Z"
   },
   {
    "duration": 2,
    "start_time": "2024-12-20T14:31:40.032Z"
   },
   {
    "duration": 7,
    "start_time": "2024-12-20T14:31:42.673Z"
   },
   {
    "duration": 4,
    "start_time": "2024-12-20T14:32:06.575Z"
   },
   {
    "duration": 10,
    "start_time": "2024-12-20T14:32:10.963Z"
   },
   {
    "duration": 71,
    "start_time": "2024-12-20T14:32:19.618Z"
   },
   {
    "duration": 5,
    "start_time": "2024-12-20T15:48:31.816Z"
   },
   {
    "duration": 5,
    "start_time": "2024-12-20T15:48:58.139Z"
   },
   {
    "duration": 5,
    "start_time": "2024-12-20T15:49:22.583Z"
   },
   {
    "duration": 6,
    "start_time": "2024-12-20T15:49:40.204Z"
   },
   {
    "duration": 7,
    "start_time": "2024-12-20T15:52:20.676Z"
   },
   {
    "duration": 6,
    "start_time": "2024-12-20T15:52:36.719Z"
   },
   {
    "duration": 8,
    "start_time": "2024-12-20T15:53:12.702Z"
   },
   {
    "duration": 791,
    "start_time": "2024-12-20T15:56:05.078Z"
   },
   {
    "duration": 29,
    "start_time": "2024-12-20T15:56:05.871Z"
   },
   {
    "duration": 12,
    "start_time": "2024-12-20T15:56:05.902Z"
   },
   {
    "duration": 11,
    "start_time": "2024-12-20T15:56:05.915Z"
   },
   {
    "duration": 2,
    "start_time": "2024-12-20T15:56:05.928Z"
   },
   {
    "duration": 10,
    "start_time": "2024-12-20T15:56:05.932Z"
   },
   {
    "duration": 5,
    "start_time": "2024-12-20T15:56:05.944Z"
   },
   {
    "duration": 39,
    "start_time": "2024-12-20T15:56:05.951Z"
   },
   {
    "duration": 5,
    "start_time": "2024-12-20T15:56:05.992Z"
   },
   {
    "duration": 243,
    "start_time": "2024-12-20T15:56:05.998Z"
   },
   {
    "duration": 7,
    "start_time": "2024-12-20T15:56:06.243Z"
   },
   {
    "duration": 206,
    "start_time": "2024-12-20T15:56:06.251Z"
   },
   {
    "duration": 5,
    "start_time": "2024-12-20T15:56:06.459Z"
   },
   {
    "duration": 3,
    "start_time": "2024-12-20T15:56:06.468Z"
   },
   {
    "duration": 14,
    "start_time": "2024-12-20T15:56:06.473Z"
   },
   {
    "duration": 15,
    "start_time": "2024-12-20T15:56:06.489Z"
   },
   {
    "duration": 12,
    "start_time": "2024-12-20T15:56:06.506Z"
   },
   {
    "duration": 11,
    "start_time": "2024-12-20T15:56:06.519Z"
   },
   {
    "duration": 1114,
    "start_time": "2024-12-20T15:56:06.531Z"
   },
   {
    "duration": 141,
    "start_time": "2024-12-20T15:56:07.647Z"
   },
   {
    "duration": 379,
    "start_time": "2024-12-20T15:56:07.790Z"
   },
   {
    "duration": 141,
    "start_time": "2024-12-20T15:56:08.171Z"
   },
   {
    "duration": 13,
    "start_time": "2024-12-20T15:56:08.314Z"
   },
   {
    "duration": 8,
    "start_time": "2024-12-20T15:56:08.329Z"
   },
   {
    "duration": 635,
    "start_time": "2024-12-20T15:56:08.338Z"
   },
   {
    "duration": 0,
    "start_time": "2024-12-20T15:56:08.975Z"
   },
   {
    "duration": 0,
    "start_time": "2024-12-20T15:56:08.977Z"
   },
   {
    "duration": 4,
    "start_time": "2024-12-20T15:57:02.528Z"
   },
   {
    "duration": 4,
    "start_time": "2024-12-20T15:57:20.137Z"
   },
   {
    "duration": 3,
    "start_time": "2024-12-20T15:57:31.908Z"
   },
   {
    "duration": 3,
    "start_time": "2024-12-20T15:57:49.940Z"
   },
   {
    "duration": 792,
    "start_time": "2024-12-20T15:57:58.669Z"
   },
   {
    "duration": 24,
    "start_time": "2024-12-20T15:57:59.463Z"
   },
   {
    "duration": 12,
    "start_time": "2024-12-20T15:57:59.489Z"
   },
   {
    "duration": 10,
    "start_time": "2024-12-20T15:57:59.503Z"
   },
   {
    "duration": 3,
    "start_time": "2024-12-20T15:57:59.515Z"
   },
   {
    "duration": 10,
    "start_time": "2024-12-20T15:57:59.519Z"
   },
   {
    "duration": 5,
    "start_time": "2024-12-20T15:57:59.530Z"
   },
   {
    "duration": 11,
    "start_time": "2024-12-20T15:57:59.536Z"
   },
   {
    "duration": 40,
    "start_time": "2024-12-20T15:57:59.549Z"
   },
   {
    "duration": 245,
    "start_time": "2024-12-20T15:57:59.591Z"
   },
   {
    "duration": 7,
    "start_time": "2024-12-20T15:57:59.838Z"
   },
   {
    "duration": 213,
    "start_time": "2024-12-20T15:57:59.847Z"
   },
   {
    "duration": 5,
    "start_time": "2024-12-20T15:58:00.062Z"
   },
   {
    "duration": 3,
    "start_time": "2024-12-20T15:58:00.071Z"
   },
   {
    "duration": 5,
    "start_time": "2024-12-20T15:58:00.087Z"
   },
   {
    "duration": 18,
    "start_time": "2024-12-20T15:58:00.094Z"
   },
   {
    "duration": 13,
    "start_time": "2024-12-20T15:58:00.113Z"
   },
   {
    "duration": 11,
    "start_time": "2024-12-20T15:58:00.128Z"
   },
   {
    "duration": 1132,
    "start_time": "2024-12-20T15:58:00.141Z"
   },
   {
    "duration": 145,
    "start_time": "2024-12-20T15:58:01.274Z"
   },
   {
    "duration": 386,
    "start_time": "2024-12-20T15:58:01.421Z"
   },
   {
    "duration": 144,
    "start_time": "2024-12-20T15:58:01.809Z"
   },
   {
    "duration": 14,
    "start_time": "2024-12-20T15:58:01.955Z"
   },
   {
    "duration": 19,
    "start_time": "2024-12-20T15:58:01.971Z"
   },
   {
    "duration": 4,
    "start_time": "2024-12-20T15:58:01.991Z"
   },
   {
    "duration": 0,
    "start_time": "2024-12-20T15:58:01.997Z"
   },
   {
    "duration": 0,
    "start_time": "2024-12-20T15:58:01.998Z"
   },
   {
    "duration": 4,
    "start_time": "2024-12-20T15:58:25.833Z"
   },
   {
    "duration": 7,
    "start_time": "2024-12-20T15:58:41.128Z"
   },
   {
    "duration": 6,
    "start_time": "2024-12-20T15:58:52.821Z"
   },
   {
    "duration": 612,
    "start_time": "2024-12-20T15:59:00.073Z"
   },
   {
    "duration": 4,
    "start_time": "2024-12-20T15:59:13.210Z"
   },
   {
    "duration": 6,
    "start_time": "2024-12-20T15:59:16.223Z"
   },
   {
    "duration": 10,
    "start_time": "2024-12-20T16:02:53.024Z"
   },
   {
    "duration": 15,
    "start_time": "2024-12-20T16:03:45.437Z"
   },
   {
    "duration": 111,
    "start_time": "2024-12-20T16:05:28.524Z"
   },
   {
    "duration": 175,
    "start_time": "2024-12-20T16:06:29.456Z"
   },
   {
    "duration": 10,
    "start_time": "2024-12-20T16:07:06.503Z"
   },
   {
    "duration": 4,
    "start_time": "2024-12-20T16:07:25.548Z"
   },
   {
    "duration": 5,
    "start_time": "2024-12-20T16:07:32.075Z"
   },
   {
    "duration": 4,
    "start_time": "2024-12-20T16:07:54.864Z"
   },
   {
    "duration": 13,
    "start_time": "2024-12-20T16:08:00.214Z"
   },
   {
    "duration": 9,
    "start_time": "2024-12-20T16:08:06.332Z"
   },
   {
    "duration": 434,
    "start_time": "2024-12-20T16:08:36.670Z"
   },
   {
    "duration": 5,
    "start_time": "2024-12-20T16:08:45.683Z"
   },
   {
    "duration": 109,
    "start_time": "2024-12-20T16:09:02.192Z"
   },
   {
    "duration": 4,
    "start_time": "2024-12-20T16:12:35.743Z"
   },
   {
    "duration": 11,
    "start_time": "2024-12-20T16:19:25.306Z"
   },
   {
    "duration": 787,
    "start_time": "2024-12-20T16:19:38.982Z"
   },
   {
    "duration": 29,
    "start_time": "2024-12-20T16:19:39.771Z"
   },
   {
    "duration": 12,
    "start_time": "2024-12-20T16:19:39.802Z"
   },
   {
    "duration": 11,
    "start_time": "2024-12-20T16:19:39.816Z"
   },
   {
    "duration": 3,
    "start_time": "2024-12-20T16:19:39.828Z"
   },
   {
    "duration": 9,
    "start_time": "2024-12-20T16:19:39.833Z"
   },
   {
    "duration": 4,
    "start_time": "2024-12-20T16:19:39.844Z"
   },
   {
    "duration": 40,
    "start_time": "2024-12-20T16:19:39.850Z"
   },
   {
    "duration": 4,
    "start_time": "2024-12-20T16:19:39.892Z"
   },
   {
    "duration": 245,
    "start_time": "2024-12-20T16:19:39.899Z"
   },
   {
    "duration": 6,
    "start_time": "2024-12-20T16:19:40.146Z"
   },
   {
    "duration": 199,
    "start_time": "2024-12-20T16:19:40.154Z"
   },
   {
    "duration": 5,
    "start_time": "2024-12-20T16:19:40.355Z"
   },
   {
    "duration": 3,
    "start_time": "2024-12-20T16:19:40.362Z"
   },
   {
    "duration": 19,
    "start_time": "2024-12-20T16:19:40.367Z"
   },
   {
    "duration": 16,
    "start_time": "2024-12-20T16:19:40.388Z"
   },
   {
    "duration": 12,
    "start_time": "2024-12-20T16:19:40.405Z"
   },
   {
    "duration": 11,
    "start_time": "2024-12-20T16:19:40.418Z"
   },
   {
    "duration": 1120,
    "start_time": "2024-12-20T16:19:40.431Z"
   },
   {
    "duration": 139,
    "start_time": "2024-12-20T16:19:41.553Z"
   },
   {
    "duration": 356,
    "start_time": "2024-12-20T16:19:41.694Z"
   },
   {
    "duration": 139,
    "start_time": "2024-12-20T16:19:42.052Z"
   },
   {
    "duration": 14,
    "start_time": "2024-12-20T16:19:42.192Z"
   },
   {
    "duration": 6,
    "start_time": "2024-12-20T16:19:42.208Z"
   },
   {
    "duration": 3,
    "start_time": "2024-12-20T16:19:42.216Z"
   },
   {
    "duration": 5,
    "start_time": "2024-12-20T16:19:42.221Z"
   },
   {
    "duration": 141,
    "start_time": "2024-12-20T16:19:42.228Z"
   },
   {
    "duration": 5,
    "start_time": "2024-12-20T16:19:42.372Z"
   },
   {
    "duration": 114,
    "start_time": "2024-12-20T16:19:42.387Z"
   },
   {
    "duration": 5,
    "start_time": "2024-12-20T16:19:42.503Z"
   },
   {
    "duration": 9,
    "start_time": "2024-12-20T16:19:42.510Z"
   },
   {
    "duration": 284,
    "start_time": "2024-12-20T16:19:59.270Z"
   },
   {
    "duration": 6,
    "start_time": "2024-12-20T16:20:06.775Z"
   },
   {
    "duration": 17,
    "start_time": "2024-12-20T16:21:46.192Z"
   },
   {
    "duration": 7,
    "start_time": "2024-12-20T16:21:51.279Z"
   },
   {
    "duration": 6,
    "start_time": "2024-12-20T16:22:09.633Z"
   },
   {
    "duration": 4,
    "start_time": "2024-12-20T16:22:32.862Z"
   },
   {
    "duration": 5,
    "start_time": "2024-12-20T16:22:37.103Z"
   },
   {
    "duration": 14,
    "start_time": "2024-12-20T16:22:44.664Z"
   },
   {
    "duration": 344,
    "start_time": "2024-12-20T16:23:05.346Z"
   },
   {
    "duration": 4,
    "start_time": "2024-12-20T16:23:21.117Z"
   },
   {
    "duration": 4,
    "start_time": "2024-12-20T16:23:23.885Z"
   },
   {
    "duration": 5,
    "start_time": "2024-12-20T16:23:29.164Z"
   },
   {
    "duration": 4,
    "start_time": "2024-12-20T16:24:52.592Z"
   },
   {
    "duration": 17,
    "start_time": "2024-12-20T16:24:57.296Z"
   },
   {
    "duration": 17,
    "start_time": "2024-12-20T16:25:22.986Z"
   },
   {
    "duration": 10,
    "start_time": "2024-12-20T16:31:48.534Z"
   },
   {
    "duration": 10,
    "start_time": "2024-12-20T16:32:17.141Z"
   },
   {
    "duration": 11,
    "start_time": "2024-12-20T16:32:27.121Z"
   },
   {
    "duration": 10,
    "start_time": "2024-12-20T16:32:42.944Z"
   },
   {
    "duration": 11,
    "start_time": "2024-12-20T16:33:06.849Z"
   },
   {
    "duration": 12,
    "start_time": "2024-12-20T16:33:51.857Z"
   },
   {
    "duration": 10,
    "start_time": "2024-12-20T16:34:32.497Z"
   },
   {
    "duration": 6,
    "start_time": "2024-12-20T16:39:19.188Z"
   },
   {
    "duration": 6,
    "start_time": "2024-12-20T16:39:57.561Z"
   },
   {
    "duration": 6,
    "start_time": "2024-12-20T16:40:08.517Z"
   },
   {
    "duration": 9,
    "start_time": "2024-12-20T16:40:55.501Z"
   },
   {
    "duration": 3,
    "start_time": "2024-12-20T16:43:11.159Z"
   },
   {
    "duration": 17,
    "start_time": "2024-12-20T16:43:44.471Z"
   },
   {
    "duration": 12,
    "start_time": "2024-12-20T16:50:54.748Z"
   },
   {
    "duration": 5,
    "start_time": "2024-12-20T16:51:21.366Z"
   },
   {
    "duration": 17,
    "start_time": "2024-12-20T16:51:34.176Z"
   },
   {
    "duration": 4,
    "start_time": "2024-12-20T16:51:41.992Z"
   },
   {
    "duration": 4,
    "start_time": "2024-12-20T16:51:58.387Z"
   },
   {
    "duration": 17,
    "start_time": "2024-12-20T16:52:07.594Z"
   },
   {
    "duration": 19,
    "start_time": "2024-12-20T16:52:55.749Z"
   },
   {
    "duration": 5,
    "start_time": "2024-12-20T16:53:02.423Z"
   },
   {
    "duration": 19,
    "start_time": "2024-12-20T16:53:08.475Z"
   },
   {
    "duration": 20,
    "start_time": "2024-12-20T16:56:05.344Z"
   },
   {
    "duration": 6,
    "start_time": "2024-12-20T16:57:42.207Z"
   },
   {
    "duration": 9,
    "start_time": "2024-12-20T16:57:53.121Z"
   },
   {
    "duration": 3,
    "start_time": "2024-12-20T16:58:25.204Z"
   },
   {
    "duration": 3,
    "start_time": "2024-12-20T16:58:41.377Z"
   },
   {
    "duration": 6,
    "start_time": "2024-12-20T16:58:56.512Z"
   },
   {
    "duration": 14,
    "start_time": "2024-12-20T16:59:32.653Z"
   },
   {
    "duration": 84,
    "start_time": "2024-12-20T17:00:20.539Z"
   },
   {
    "duration": 19,
    "start_time": "2024-12-20T17:00:53.431Z"
   },
   {
    "duration": 17,
    "start_time": "2024-12-20T17:01:19.645Z"
   },
   {
    "duration": 746,
    "start_time": "2024-12-20T17:02:14.251Z"
   },
   {
    "duration": 25,
    "start_time": "2024-12-20T17:02:14.999Z"
   },
   {
    "duration": 13,
    "start_time": "2024-12-20T17:02:15.026Z"
   },
   {
    "duration": 11,
    "start_time": "2024-12-20T17:02:15.040Z"
   },
   {
    "duration": 2,
    "start_time": "2024-12-20T17:02:15.054Z"
   },
   {
    "duration": 30,
    "start_time": "2024-12-20T17:02:15.058Z"
   },
   {
    "duration": 4,
    "start_time": "2024-12-20T17:02:15.090Z"
   },
   {
    "duration": 12,
    "start_time": "2024-12-20T17:02:15.095Z"
   },
   {
    "duration": 4,
    "start_time": "2024-12-20T17:02:15.109Z"
   },
   {
    "duration": 262,
    "start_time": "2024-12-20T17:02:15.115Z"
   },
   {
    "duration": 19,
    "start_time": "2024-12-20T17:02:15.379Z"
   },
   {
    "duration": 198,
    "start_time": "2024-12-20T17:02:15.399Z"
   },
   {
    "duration": 5,
    "start_time": "2024-12-20T17:02:15.599Z"
   },
   {
    "duration": 2,
    "start_time": "2024-12-20T17:02:15.609Z"
   },
   {
    "duration": 5,
    "start_time": "2024-12-20T17:02:15.613Z"
   },
   {
    "duration": 16,
    "start_time": "2024-12-20T17:02:15.619Z"
   },
   {
    "duration": 88,
    "start_time": "2024-12-20T17:02:15.637Z"
   },
   {
    "duration": 11,
    "start_time": "2024-12-20T17:02:15.728Z"
   },
   {
    "duration": 1027,
    "start_time": "2024-12-20T17:02:15.741Z"
   },
   {
    "duration": 138,
    "start_time": "2024-12-20T17:02:16.770Z"
   },
   {
    "duration": 378,
    "start_time": "2024-12-20T17:02:16.910Z"
   },
   {
    "duration": 142,
    "start_time": "2024-12-20T17:02:17.289Z"
   },
   {
    "duration": 14,
    "start_time": "2024-12-20T17:02:17.432Z"
   },
   {
    "duration": 6,
    "start_time": "2024-12-20T17:02:17.448Z"
   },
   {
    "duration": 3,
    "start_time": "2024-12-20T17:02:17.456Z"
   },
   {
    "duration": 29,
    "start_time": "2024-12-20T17:02:17.461Z"
   },
   {
    "duration": 119,
    "start_time": "2024-12-20T17:02:17.492Z"
   },
   {
    "duration": 4,
    "start_time": "2024-12-20T17:02:17.613Z"
   },
   {
    "duration": 128,
    "start_time": "2024-12-20T17:02:17.621Z"
   },
   {
    "duration": 5,
    "start_time": "2024-12-20T17:02:17.754Z"
   },
   {
    "duration": 4,
    "start_time": "2024-12-20T17:02:17.762Z"
   },
   {
    "duration": 25,
    "start_time": "2024-12-20T17:02:17.768Z"
   },
   {
    "duration": 10,
    "start_time": "2024-12-20T17:02:17.795Z"
   },
   {
    "duration": 10,
    "start_time": "2024-12-20T17:02:17.807Z"
   },
   {
    "duration": 9,
    "start_time": "2024-12-20T17:02:17.819Z"
   },
   {
    "duration": 119,
    "start_time": "2024-12-20T17:02:17.830Z"
   },
   {
    "duration": 238,
    "start_time": "2024-12-20T17:02:17.951Z"
   },
   {
    "duration": 0,
    "start_time": "2024-12-20T17:02:18.190Z"
   },
   {
    "duration": 19,
    "start_time": "2024-12-20T17:05:41.970Z"
   },
   {
    "duration": 2548,
    "start_time": "2024-12-20T18:18:19.387Z"
   },
   {
    "duration": 36,
    "start_time": "2024-12-20T18:18:21.937Z"
   },
   {
    "duration": 13,
    "start_time": "2024-12-20T18:18:21.974Z"
   },
   {
    "duration": 11,
    "start_time": "2024-12-20T18:18:21.989Z"
   },
   {
    "duration": 3,
    "start_time": "2024-12-20T18:18:22.007Z"
   },
   {
    "duration": 12,
    "start_time": "2024-12-20T18:18:22.011Z"
   },
   {
    "duration": 5,
    "start_time": "2024-12-20T18:18:22.024Z"
   },
   {
    "duration": 11,
    "start_time": "2024-12-20T18:18:22.031Z"
   },
   {
    "duration": 4,
    "start_time": "2024-12-20T18:18:22.044Z"
   },
   {
    "duration": 274,
    "start_time": "2024-12-20T18:18:22.050Z"
   },
   {
    "duration": 6,
    "start_time": "2024-12-20T18:18:22.326Z"
   },
   {
    "duration": 215,
    "start_time": "2024-12-20T18:18:22.334Z"
   },
   {
    "duration": 7,
    "start_time": "2024-12-20T18:18:22.551Z"
   },
   {
    "duration": 3,
    "start_time": "2024-12-20T18:18:22.561Z"
   },
   {
    "duration": 4,
    "start_time": "2024-12-20T18:18:22.566Z"
   },
   {
    "duration": 37,
    "start_time": "2024-12-20T18:18:22.571Z"
   },
   {
    "duration": 13,
    "start_time": "2024-12-20T18:18:22.610Z"
   },
   {
    "duration": 11,
    "start_time": "2024-12-20T18:18:22.625Z"
   },
   {
    "duration": 1061,
    "start_time": "2024-12-20T18:18:22.638Z"
   },
   {
    "duration": 144,
    "start_time": "2024-12-20T18:18:23.704Z"
   },
   {
    "duration": 428,
    "start_time": "2024-12-20T18:18:23.851Z"
   },
   {
    "duration": 142,
    "start_time": "2024-12-20T18:18:24.281Z"
   },
   {
    "duration": 13,
    "start_time": "2024-12-20T18:18:24.425Z"
   },
   {
    "duration": 6,
    "start_time": "2024-12-20T18:18:24.440Z"
   },
   {
    "duration": 3,
    "start_time": "2024-12-20T18:18:24.447Z"
   },
   {
    "duration": 5,
    "start_time": "2024-12-20T18:18:24.452Z"
   },
   {
    "duration": 137,
    "start_time": "2024-12-20T18:18:24.458Z"
   },
   {
    "duration": 10,
    "start_time": "2024-12-20T18:18:24.597Z"
   },
   {
    "duration": 117,
    "start_time": "2024-12-20T18:18:24.609Z"
   },
   {
    "duration": 5,
    "start_time": "2024-12-20T18:18:24.728Z"
   },
   {
    "duration": 4,
    "start_time": "2024-12-20T18:18:24.735Z"
   },
   {
    "duration": 15,
    "start_time": "2024-12-20T18:18:24.740Z"
   },
   {
    "duration": 10,
    "start_time": "2024-12-20T18:18:24.757Z"
   },
   {
    "duration": 39,
    "start_time": "2024-12-20T18:18:24.768Z"
   },
   {
    "duration": 7,
    "start_time": "2024-12-20T18:18:24.809Z"
   },
   {
    "duration": 17,
    "start_time": "2024-12-20T18:18:24.818Z"
   },
   {
    "duration": 17,
    "start_time": "2024-12-20T18:18:24.837Z"
   },
   {
    "duration": 4,
    "start_time": "2024-12-20T18:18:24.855Z"
   },
   {
    "duration": 52,
    "start_time": "2024-12-20T18:18:24.861Z"
   },
   {
    "duration": 4,
    "start_time": "2024-12-20T18:18:24.915Z"
   },
   {
    "duration": 16,
    "start_time": "2024-12-20T18:19:06.745Z"
   },
   {
    "duration": 6,
    "start_time": "2024-12-20T18:19:26.397Z"
   },
   {
    "duration": 9,
    "start_time": "2024-12-20T18:19:37.628Z"
   },
   {
    "duration": 18,
    "start_time": "2024-12-20T18:22:50.769Z"
   },
   {
    "duration": 18,
    "start_time": "2024-12-20T18:23:14.683Z"
   },
   {
    "duration": 18,
    "start_time": "2024-12-20T18:23:59.193Z"
   },
   {
    "duration": 20,
    "start_time": "2024-12-20T18:24:17.215Z"
   },
   {
    "duration": 219,
    "start_time": "2024-12-20T18:24:40.090Z"
   },
   {
    "duration": 19,
    "start_time": "2024-12-20T18:25:15.481Z"
   },
   {
    "duration": 8,
    "start_time": "2024-12-20T18:27:46.979Z"
   },
   {
    "duration": 133,
    "start_time": "2024-12-20T18:28:11.794Z"
   },
   {
    "duration": 17,
    "start_time": "2024-12-20T18:30:47.618Z"
   },
   {
    "duration": 14,
    "start_time": "2024-12-20T18:31:02.591Z"
   },
   {
    "duration": 4,
    "start_time": "2024-12-20T18:31:10.208Z"
   },
   {
    "duration": 3,
    "start_time": "2024-12-20T18:45:04.077Z"
   },
   {
    "duration": 2524,
    "start_time": "2024-12-21T14:41:06.730Z"
   },
   {
    "duration": 33,
    "start_time": "2024-12-21T14:41:09.256Z"
   },
   {
    "duration": 14,
    "start_time": "2024-12-21T14:41:09.290Z"
   },
   {
    "duration": 20,
    "start_time": "2024-12-21T14:41:09.305Z"
   },
   {
    "duration": 2,
    "start_time": "2024-12-21T14:41:09.328Z"
   },
   {
    "duration": 10,
    "start_time": "2024-12-21T14:41:09.332Z"
   },
   {
    "duration": 4,
    "start_time": "2024-12-21T14:41:09.344Z"
   },
   {
    "duration": 11,
    "start_time": "2024-12-21T14:41:09.350Z"
   },
   {
    "duration": 4,
    "start_time": "2024-12-21T14:41:09.363Z"
   },
   {
    "duration": 263,
    "start_time": "2024-12-21T14:41:09.369Z"
   },
   {
    "duration": 7,
    "start_time": "2024-12-21T14:41:09.634Z"
   },
   {
    "duration": 207,
    "start_time": "2024-12-21T14:41:09.642Z"
   },
   {
    "duration": 5,
    "start_time": "2024-12-21T14:41:09.851Z"
   },
   {
    "duration": 4,
    "start_time": "2024-12-21T14:41:09.859Z"
   },
   {
    "duration": 5,
    "start_time": "2024-12-21T14:41:09.864Z"
   },
   {
    "duration": 17,
    "start_time": "2024-12-21T14:41:09.871Z"
   },
   {
    "duration": 41,
    "start_time": "2024-12-21T14:41:09.890Z"
   },
   {
    "duration": 13,
    "start_time": "2024-12-21T14:41:09.933Z"
   },
   {
    "duration": 1045,
    "start_time": "2024-12-21T14:41:09.947Z"
   },
   {
    "duration": 142,
    "start_time": "2024-12-21T14:41:10.993Z"
   },
   {
    "duration": 419,
    "start_time": "2024-12-21T14:41:11.136Z"
   },
   {
    "duration": 132,
    "start_time": "2024-12-21T14:41:11.557Z"
   },
   {
    "duration": 14,
    "start_time": "2024-12-21T14:41:11.691Z"
   },
   {
    "duration": 18,
    "start_time": "2024-12-21T14:41:11.707Z"
   },
   {
    "duration": 3,
    "start_time": "2024-12-21T14:41:11.727Z"
   },
   {
    "duration": 6,
    "start_time": "2024-12-21T14:41:11.732Z"
   },
   {
    "duration": 141,
    "start_time": "2024-12-21T14:41:11.739Z"
   },
   {
    "duration": 4,
    "start_time": "2024-12-21T14:41:11.881Z"
   },
   {
    "duration": 119,
    "start_time": "2024-12-21T14:41:11.887Z"
   },
   {
    "duration": 17,
    "start_time": "2024-12-21T14:41:12.007Z"
   },
   {
    "duration": 3,
    "start_time": "2024-12-21T14:41:12.026Z"
   },
   {
    "duration": 15,
    "start_time": "2024-12-21T14:41:12.031Z"
   },
   {
    "duration": 10,
    "start_time": "2024-12-21T14:41:12.048Z"
   },
   {
    "duration": 10,
    "start_time": "2024-12-21T14:41:12.059Z"
   },
   {
    "duration": 8,
    "start_time": "2024-12-21T14:41:12.071Z"
   },
   {
    "duration": 48,
    "start_time": "2024-12-21T14:41:12.082Z"
   },
   {
    "duration": 17,
    "start_time": "2024-12-21T14:41:12.132Z"
   },
   {
    "duration": 18,
    "start_time": "2024-12-21T14:41:12.150Z"
   },
   {
    "duration": 8,
    "start_time": "2024-12-21T14:41:12.169Z"
   },
   {
    "duration": 158,
    "start_time": "2024-12-21T14:41:12.178Z"
   },
   {
    "duration": 5,
    "start_time": "2024-12-21T14:41:12.341Z"
   },
   {
    "duration": 6,
    "start_time": "2024-12-21T14:41:12.347Z"
   },
   {
    "duration": 21,
    "start_time": "2024-12-21T14:50:11.653Z"
   },
   {
    "duration": 815,
    "start_time": "2024-12-21T14:51:18.944Z"
   },
   {
    "duration": 24,
    "start_time": "2024-12-21T14:51:19.762Z"
   },
   {
    "duration": 13,
    "start_time": "2024-12-21T14:51:19.787Z"
   },
   {
    "duration": 22,
    "start_time": "2024-12-21T14:51:19.802Z"
   },
   {
    "duration": 3,
    "start_time": "2024-12-21T14:51:19.827Z"
   },
   {
    "duration": 10,
    "start_time": "2024-12-21T14:51:19.831Z"
   },
   {
    "duration": 4,
    "start_time": "2024-12-21T14:51:19.843Z"
   },
   {
    "duration": 12,
    "start_time": "2024-12-21T14:51:19.849Z"
   },
   {
    "duration": 5,
    "start_time": "2024-12-21T14:51:19.862Z"
   },
   {
    "duration": 266,
    "start_time": "2024-12-21T14:51:19.869Z"
   },
   {
    "duration": 7,
    "start_time": "2024-12-21T14:51:20.136Z"
   },
   {
    "duration": 201,
    "start_time": "2024-12-21T14:51:20.145Z"
   },
   {
    "duration": 5,
    "start_time": "2024-12-21T14:51:20.348Z"
   },
   {
    "duration": 3,
    "start_time": "2024-12-21T14:51:20.357Z"
   },
   {
    "duration": 4,
    "start_time": "2024-12-21T14:51:20.362Z"
   },
   {
    "duration": 16,
    "start_time": "2024-12-21T14:51:20.367Z"
   },
   {
    "duration": 92,
    "start_time": "2024-12-21T14:51:20.385Z"
   },
   {
    "duration": 12,
    "start_time": "2024-12-21T14:51:20.478Z"
   },
   {
    "duration": 1010,
    "start_time": "2024-12-21T14:51:20.491Z"
   },
   {
    "duration": 140,
    "start_time": "2024-12-21T14:51:21.503Z"
   },
   {
    "duration": 379,
    "start_time": "2024-12-21T14:51:21.645Z"
   },
   {
    "duration": 135,
    "start_time": "2024-12-21T14:51:22.025Z"
   },
   {
    "duration": 14,
    "start_time": "2024-12-21T14:51:22.162Z"
   },
   {
    "duration": 7,
    "start_time": "2024-12-21T14:51:22.177Z"
   },
   {
    "duration": 4,
    "start_time": "2024-12-21T14:51:22.185Z"
   },
   {
    "duration": 6,
    "start_time": "2024-12-21T14:51:22.191Z"
   },
   {
    "duration": 148,
    "start_time": "2024-12-21T14:51:22.199Z"
   },
   {
    "duration": 5,
    "start_time": "2024-12-21T14:51:22.349Z"
   },
   {
    "duration": 124,
    "start_time": "2024-12-21T14:51:22.355Z"
   },
   {
    "duration": 5,
    "start_time": "2024-12-21T14:51:22.481Z"
   },
   {
    "duration": 4,
    "start_time": "2024-12-21T14:51:22.487Z"
   },
   {
    "duration": 32,
    "start_time": "2024-12-21T14:51:22.493Z"
   },
   {
    "duration": 11,
    "start_time": "2024-12-21T14:51:22.527Z"
   },
   {
    "duration": 10,
    "start_time": "2024-12-21T14:51:22.540Z"
   },
   {
    "duration": 8,
    "start_time": "2024-12-21T14:51:22.552Z"
   },
   {
    "duration": 106,
    "start_time": "2024-12-21T14:51:22.562Z"
   },
   {
    "duration": 18,
    "start_time": "2024-12-21T14:51:22.670Z"
   },
   {
    "duration": 16,
    "start_time": "2024-12-21T14:51:22.690Z"
   },
   {
    "duration": 7,
    "start_time": "2024-12-21T14:51:22.724Z"
   },
   {
    "duration": 143,
    "start_time": "2024-12-21T14:51:22.733Z"
   },
   {
    "duration": 4,
    "start_time": "2024-12-21T14:51:22.879Z"
   },
   {
    "duration": 19,
    "start_time": "2024-12-21T14:51:22.885Z"
   },
   {
    "duration": 181347,
    "start_time": "2024-12-21T14:51:22.905Z"
   },
   {
    "duration": 156,
    "start_time": "2024-12-21T14:56:55.670Z"
   },
   {
    "duration": 4,
    "start_time": "2024-12-21T14:59:10.531Z"
   },
   {
    "duration": 8,
    "start_time": "2024-12-21T15:24:58.731Z"
   },
   {
    "duration": 532,
    "start_time": "2024-12-21T15:25:14.670Z"
   },
   {
    "duration": 6,
    "start_time": "2024-12-21T15:59:07.658Z"
   },
   {
    "duration": 9,
    "start_time": "2024-12-21T15:59:10.320Z"
   },
   {
    "duration": 57,
    "start_time": "2024-12-21T15:59:12.685Z"
   },
   {
    "duration": 6,
    "start_time": "2024-12-21T15:59:33.342Z"
   },
   {
    "duration": 9,
    "start_time": "2024-12-21T15:59:35.097Z"
   },
   {
    "duration": 59,
    "start_time": "2024-12-21T15:59:37.244Z"
   },
   {
    "duration": 11,
    "start_time": "2024-12-21T16:00:02.781Z"
   },
   {
    "duration": 508,
    "start_time": "2024-12-21T16:01:14.238Z"
   },
   {
    "duration": 52,
    "start_time": "2024-12-21T16:02:13.886Z"
   },
   {
    "duration": 2,
    "start_time": "2024-12-21T16:03:44.773Z"
   },
   {
    "duration": 5,
    "start_time": "2024-12-21T16:03:55.115Z"
   },
   {
    "duration": 17,
    "start_time": "2024-12-21T16:04:02.736Z"
   },
   {
    "duration": 6,
    "start_time": "2024-12-21T16:06:39.883Z"
   },
   {
    "duration": 5,
    "start_time": "2024-12-21T16:06:53.801Z"
   },
   {
    "duration": 78,
    "start_time": "2024-12-21T16:12:34.758Z"
   },
   {
    "duration": 5,
    "start_time": "2024-12-21T16:14:38.570Z"
   },
   {
    "duration": 3,
    "start_time": "2024-12-21T16:14:44.028Z"
   },
   {
    "duration": 4,
    "start_time": "2024-12-21T16:14:49.125Z"
   },
   {
    "duration": 4,
    "start_time": "2024-12-21T16:15:22.237Z"
   },
   {
    "duration": 4,
    "start_time": "2024-12-21T16:16:46.323Z"
   },
   {
    "duration": 4,
    "start_time": "2024-12-21T16:18:06.925Z"
   },
   {
    "duration": 4,
    "start_time": "2024-12-21T16:18:19.531Z"
   },
   {
    "duration": 22,
    "start_time": "2024-12-21T16:18:32.810Z"
   },
   {
    "duration": 11,
    "start_time": "2024-12-21T16:19:05.703Z"
   },
   {
    "duration": 5,
    "start_time": "2024-12-21T16:19:17.667Z"
   },
   {
    "duration": 21,
    "start_time": "2024-12-21T16:20:24.543Z"
   },
   {
    "duration": 10,
    "start_time": "2024-12-21T16:21:46.539Z"
   },
   {
    "duration": 4,
    "start_time": "2024-12-21T16:22:00.159Z"
   },
   {
    "duration": 5,
    "start_time": "2024-12-21T16:22:49.187Z"
   },
   {
    "duration": 3,
    "start_time": "2024-12-21T16:25:34.538Z"
   },
   {
    "duration": 180,
    "start_time": "2024-12-21T16:26:24.221Z"
   },
   {
    "duration": 42,
    "start_time": "2024-12-21T16:27:33.218Z"
   },
   {
    "duration": 228,
    "start_time": "2024-12-21T16:27:40.704Z"
   },
   {
    "duration": 1000,
    "start_time": "2024-12-21T16:29:04.425Z"
   },
   {
    "duration": 4,
    "start_time": "2024-12-21T16:30:43.920Z"
   },
   {
    "duration": 309,
    "start_time": "2024-12-21T16:31:06.455Z"
   },
   {
    "duration": 4,
    "start_time": "2024-12-21T16:34:23.935Z"
   },
   {
    "duration": 15,
    "start_time": "2024-12-21T16:34:26.124Z"
   },
   {
    "duration": 287,
    "start_time": "2024-12-21T16:34:30.771Z"
   },
   {
    "duration": 95,
    "start_time": "2024-12-21T16:35:21.733Z"
   },
   {
    "duration": 8,
    "start_time": "2024-12-21T16:38:44.609Z"
   },
   {
    "duration": 5,
    "start_time": "2024-12-21T16:39:40.727Z"
   },
   {
    "duration": 5,
    "start_time": "2024-12-21T16:39:52.508Z"
   },
   {
    "duration": 9,
    "start_time": "2024-12-21T16:49:52.556Z"
   },
   {
    "duration": 5,
    "start_time": "2024-12-21T16:49:54.289Z"
   },
   {
    "duration": 4,
    "start_time": "2024-12-21T16:50:47.617Z"
   },
   {
    "duration": 321,
    "start_time": "2024-12-21T16:51:19.240Z"
   },
   {
    "duration": 98,
    "start_time": "2024-12-21T16:51:47.275Z"
   },
   {
    "duration": 4,
    "start_time": "2024-12-21T16:52:10.534Z"
   },
   {
    "duration": 278,
    "start_time": "2024-12-21T16:52:12.287Z"
   },
   {
    "duration": 9,
    "start_time": "2024-12-21T16:56:08.739Z"
   },
   {
    "duration": 86,
    "start_time": "2024-12-21T16:56:49.845Z"
   },
   {
    "duration": 794,
    "start_time": "2024-12-21T17:00:39.609Z"
   },
   {
    "duration": 29,
    "start_time": "2024-12-21T17:00:40.406Z"
   },
   {
    "duration": 22,
    "start_time": "2024-12-21T17:00:40.439Z"
   },
   {
    "duration": 11,
    "start_time": "2024-12-21T17:00:40.464Z"
   },
   {
    "duration": 3,
    "start_time": "2024-12-21T17:00:40.476Z"
   },
   {
    "duration": 10,
    "start_time": "2024-12-21T17:00:40.480Z"
   },
   {
    "duration": 5,
    "start_time": "2024-12-21T17:00:40.491Z"
   },
   {
    "duration": 38,
    "start_time": "2024-12-21T17:00:40.497Z"
   },
   {
    "duration": 5,
    "start_time": "2024-12-21T17:00:40.536Z"
   },
   {
    "duration": 242,
    "start_time": "2024-12-21T17:00:40.542Z"
   },
   {
    "duration": 7,
    "start_time": "2024-12-21T17:00:40.787Z"
   },
   {
    "duration": 200,
    "start_time": "2024-12-21T17:00:40.795Z"
   },
   {
    "duration": 5,
    "start_time": "2024-12-21T17:00:40.999Z"
   },
   {
    "duration": 5,
    "start_time": "2024-12-21T17:00:41.005Z"
   },
   {
    "duration": 5,
    "start_time": "2024-12-21T17:00:41.023Z"
   },
   {
    "duration": 16,
    "start_time": "2024-12-21T17:00:41.030Z"
   },
   {
    "duration": 58,
    "start_time": "2024-12-21T17:00:41.047Z"
   },
   {
    "duration": 12,
    "start_time": "2024-12-21T17:00:41.125Z"
   },
   {
    "duration": 1040,
    "start_time": "2024-12-21T17:00:41.139Z"
   },
   {
    "duration": 138,
    "start_time": "2024-12-21T17:00:42.181Z"
   },
   {
    "duration": 365,
    "start_time": "2024-12-21T17:00:42.321Z"
   },
   {
    "duration": 139,
    "start_time": "2024-12-21T17:00:42.687Z"
   },
   {
    "duration": 13,
    "start_time": "2024-12-21T17:00:42.828Z"
   },
   {
    "duration": 6,
    "start_time": "2024-12-21T17:00:42.843Z"
   },
   {
    "duration": 3,
    "start_time": "2024-12-21T17:00:42.851Z"
   },
   {
    "duration": 5,
    "start_time": "2024-12-21T17:00:42.856Z"
   },
   {
    "duration": 141,
    "start_time": "2024-12-21T17:00:42.863Z"
   },
   {
    "duration": 5,
    "start_time": "2024-12-21T17:00:43.005Z"
   },
   {
    "duration": 119,
    "start_time": "2024-12-21T17:00:43.011Z"
   },
   {
    "duration": 4,
    "start_time": "2024-12-21T17:00:43.133Z"
   },
   {
    "duration": 4,
    "start_time": "2024-12-21T17:00:43.139Z"
   },
   {
    "duration": 16,
    "start_time": "2024-12-21T17:00:43.144Z"
   },
   {
    "duration": 9,
    "start_time": "2024-12-21T17:00:43.162Z"
   },
   {
    "duration": 11,
    "start_time": "2024-12-21T17:00:43.173Z"
   },
   {
    "duration": 41,
    "start_time": "2024-12-21T17:00:43.185Z"
   },
   {
    "duration": 84,
    "start_time": "2024-12-21T17:00:43.227Z"
   },
   {
    "duration": 27,
    "start_time": "2024-12-21T17:00:43.312Z"
   },
   {
    "duration": 18,
    "start_time": "2024-12-21T17:00:43.341Z"
   },
   {
    "duration": 7,
    "start_time": "2024-12-21T17:00:43.360Z"
   },
   {
    "duration": 155,
    "start_time": "2024-12-21T17:00:43.372Z"
   },
   {
    "duration": 5,
    "start_time": "2024-12-21T17:00:43.529Z"
   },
   {
    "duration": 20,
    "start_time": "2024-12-21T17:00:43.536Z"
   },
   {
    "duration": 169,
    "start_time": "2024-12-21T17:00:43.558Z"
   },
   {
    "duration": 17,
    "start_time": "2024-12-21T17:00:43.729Z"
   },
   {
    "duration": 6,
    "start_time": "2024-12-21T17:00:43.747Z"
   },
   {
    "duration": 5,
    "start_time": "2024-12-21T17:00:43.755Z"
   },
   {
    "duration": 11,
    "start_time": "2024-12-21T17:00:43.761Z"
   },
   {
    "duration": 3,
    "start_time": "2024-12-21T17:00:43.774Z"
   },
   {
    "duration": 4,
    "start_time": "2024-12-21T17:00:43.778Z"
   },
   {
    "duration": 42,
    "start_time": "2024-12-21T17:00:43.784Z"
   },
   {
    "duration": 243,
    "start_time": "2024-12-21T17:00:43.828Z"
   },
   {
    "duration": 990,
    "start_time": "2024-12-21T17:00:44.072Z"
   },
   {
    "duration": 3,
    "start_time": "2024-12-21T17:00:45.064Z"
   },
   {
    "duration": 301,
    "start_time": "2024-12-21T17:00:45.069Z"
   },
   {
    "duration": 179,
    "start_time": "2024-12-21T17:00:45.371Z"
   },
   {
    "duration": 8,
    "start_time": "2024-12-21T17:00:45.552Z"
   },
   {
    "duration": 11,
    "start_time": "2024-12-21T17:00:45.562Z"
   },
   {
    "duration": 5,
    "start_time": "2024-12-21T17:00:45.575Z"
   },
   {
    "duration": 5,
    "start_time": "2024-12-21T17:00:45.582Z"
   },
   {
    "duration": 363,
    "start_time": "2024-12-21T17:00:45.588Z"
   },
   {
    "duration": 8,
    "start_time": "2024-12-21T17:00:45.953Z"
   },
   {
    "duration": 102,
    "start_time": "2024-12-21T17:00:45.963Z"
   },
   {
    "duration": 166,
    "start_time": "2024-12-23T14:38:12.258Z"
   },
   {
    "duration": 2521,
    "start_time": "2024-12-23T14:38:22.016Z"
   },
   {
    "duration": 34,
    "start_time": "2024-12-23T14:38:24.541Z"
   },
   {
    "duration": 13,
    "start_time": "2024-12-23T14:38:24.577Z"
   },
   {
    "duration": 11,
    "start_time": "2024-12-23T14:38:24.592Z"
   },
   {
    "duration": 3,
    "start_time": "2024-12-23T14:38:24.614Z"
   },
   {
    "duration": 11,
    "start_time": "2024-12-23T14:38:24.618Z"
   },
   {
    "duration": 4,
    "start_time": "2024-12-23T14:38:24.631Z"
   },
   {
    "duration": 11,
    "start_time": "2024-12-23T14:38:24.637Z"
   },
   {
    "duration": 6,
    "start_time": "2024-12-23T14:38:24.649Z"
   },
   {
    "duration": 262,
    "start_time": "2024-12-23T14:38:24.657Z"
   },
   {
    "duration": 7,
    "start_time": "2024-12-23T14:38:24.921Z"
   },
   {
    "duration": 205,
    "start_time": "2024-12-23T14:38:24.929Z"
   },
   {
    "duration": 5,
    "start_time": "2024-12-23T14:38:25.136Z"
   },
   {
    "duration": 3,
    "start_time": "2024-12-23T14:38:25.145Z"
   },
   {
    "duration": 4,
    "start_time": "2024-12-23T14:38:25.150Z"
   },
   {
    "duration": 16,
    "start_time": "2024-12-23T14:38:25.155Z"
   },
   {
    "duration": 40,
    "start_time": "2024-12-23T14:38:25.173Z"
   },
   {
    "duration": 12,
    "start_time": "2024-12-23T14:38:25.214Z"
   },
   {
    "duration": 1064,
    "start_time": "2024-12-23T14:38:25.227Z"
   },
   {
    "duration": 202,
    "start_time": "2024-12-23T14:38:26.293Z"
   },
   {
    "duration": 370,
    "start_time": "2024-12-23T14:38:26.497Z"
   },
   {
    "duration": 144,
    "start_time": "2024-12-23T14:38:26.869Z"
   },
   {
    "duration": 15,
    "start_time": "2024-12-23T14:38:27.015Z"
   },
   {
    "duration": 7,
    "start_time": "2024-12-23T14:38:27.031Z"
   },
   {
    "duration": 4,
    "start_time": "2024-12-23T14:38:27.040Z"
   },
   {
    "duration": 5,
    "start_time": "2024-12-23T14:38:27.046Z"
   },
   {
    "duration": 155,
    "start_time": "2024-12-23T14:38:27.052Z"
   },
   {
    "duration": 6,
    "start_time": "2024-12-23T14:38:27.212Z"
   },
   {
    "duration": 126,
    "start_time": "2024-12-23T14:38:27.220Z"
   },
   {
    "duration": 4,
    "start_time": "2024-12-23T14:38:27.348Z"
   },
   {
    "duration": 4,
    "start_time": "2024-12-23T14:38:27.354Z"
   },
   {
    "duration": 18,
    "start_time": "2024-12-23T14:38:27.360Z"
   },
   {
    "duration": 37,
    "start_time": "2024-12-23T14:38:27.380Z"
   },
   {
    "duration": 11,
    "start_time": "2024-12-23T14:38:27.419Z"
   },
   {
    "duration": 9,
    "start_time": "2024-12-23T14:38:27.432Z"
   },
   {
    "duration": 16,
    "start_time": "2024-12-23T14:38:27.442Z"
   },
   {
    "duration": 18,
    "start_time": "2024-12-23T14:38:27.460Z"
   },
   {
    "duration": 21,
    "start_time": "2024-12-23T14:38:27.509Z"
   },
   {
    "duration": 8,
    "start_time": "2024-12-23T14:38:27.532Z"
   },
   {
    "duration": 160,
    "start_time": "2024-12-23T14:38:27.541Z"
   },
   {
    "duration": 5,
    "start_time": "2024-12-23T14:38:27.706Z"
   },
   {
    "duration": 23,
    "start_time": "2024-12-23T14:38:27.712Z"
   },
   {
    "duration": 187,
    "start_time": "2024-12-23T14:38:27.737Z"
   },
   {
    "duration": 20,
    "start_time": "2024-12-23T14:38:27.927Z"
   },
   {
    "duration": 6,
    "start_time": "2024-12-23T14:38:27.948Z"
   },
   {
    "duration": 4,
    "start_time": "2024-12-23T14:38:27.956Z"
   },
   {
    "duration": 11,
    "start_time": "2024-12-23T14:38:27.962Z"
   },
   {
    "duration": 3,
    "start_time": "2024-12-23T14:38:27.974Z"
   },
   {
    "duration": 33,
    "start_time": "2024-12-23T14:38:27.979Z"
   },
   {
    "duration": 4,
    "start_time": "2024-12-23T14:38:28.013Z"
   },
   {
    "duration": 321,
    "start_time": "2024-12-23T14:38:28.018Z"
   },
   {
    "duration": 1009,
    "start_time": "2024-12-23T14:38:28.341Z"
   },
   {
    "duration": 5,
    "start_time": "2024-12-23T14:38:29.351Z"
   },
   {
    "duration": 292,
    "start_time": "2024-12-23T14:38:29.357Z"
   },
   {
    "duration": 107,
    "start_time": "2024-12-23T14:38:29.651Z"
   },
   {
    "duration": 10,
    "start_time": "2024-12-23T14:38:29.760Z"
   },
   {
    "duration": 11,
    "start_time": "2024-12-23T14:38:29.772Z"
   },
   {
    "duration": 5,
    "start_time": "2024-12-23T14:38:29.784Z"
   },
   {
    "duration": 4,
    "start_time": "2024-12-23T14:38:29.809Z"
   },
   {
    "duration": 4,
    "start_time": "2024-12-23T14:38:29.814Z"
   },
   {
    "duration": 332,
    "start_time": "2024-12-23T14:38:29.820Z"
   },
   {
    "duration": 9,
    "start_time": "2024-12-23T14:38:30.154Z"
   },
   {
    "duration": 101,
    "start_time": "2024-12-23T14:38:30.166Z"
   },
   {
    "duration": 4,
    "start_time": "2024-12-23T14:38:51.479Z"
   },
   {
    "duration": 377,
    "start_time": "2024-12-23T14:39:10.197Z"
   }
  ],
  "kernelspec": {
   "display_name": "Python 3 (ipykernel)",
   "language": "python",
   "name": "python3"
  },
  "language_info": {
   "codemirror_mode": {
    "name": "ipython",
    "version": 3
   },
   "file_extension": ".py",
   "mimetype": "text/x-python",
   "name": "python",
   "nbconvert_exporter": "python",
   "pygments_lexer": "ipython3",
   "version": "3.9.19"
  },
  "toc": {
   "base_numbering": 1,
   "nav_menu": {},
   "number_sections": true,
   "sideBar": true,
   "skip_h1_title": true,
   "title_cell": "Table of Contents",
   "title_sidebar": "Contents",
   "toc_cell": false,
   "toc_position": {},
   "toc_section_display": true,
   "toc_window_display": false
  }
 },
 "nbformat": 4,
 "nbformat_minor": 2
}
