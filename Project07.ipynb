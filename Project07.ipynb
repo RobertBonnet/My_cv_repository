{
 "cells": [
  {
   "cell_type": "markdown",
   "metadata": {},
   "source": [
    "# ¡Hola Robert! 😊\n",
    "\n",
    "Mi nombre es **Alejandro Castellanos** y hoy tengo el placer de ser el revisor de tu proyecto.\n",
    "\n",
    "Voy a revisar todo tu código con detalle, buscando tanto los puntos fuertes como aquellos en los que podrías mejorar. Te dejaré comentarios a lo largo del notebook, destacando lo que has hecho bien y sugiriendo ajustes donde sea necesario. Si encuentro algún error, no te preocupes, te lo haré saber de forma clara y te daré información útil para que puedas corregirlo en la próxima iteración. Si en algún punto tienes comentarios, siéntete libre de dejarlos también.\n",
    "\n",
    "\n",
    "Encontrarás mis comentarios específicos dentro de cajas verdes, amarillas o rojas, es muy importante que no muevas, modifiques o borres mis comentarios, con el fin de tener un seguimiento adecuado de tu proceso:\n",
    "\n",
    "\n",
    "<div class=\"alert alert-block alert-success\">\n",
    "<b>Comentario del revisor</b> <a class=“tocSkip”></a>\n",
    "Si todo está perfecto.\n",
    "</div>\n",
    "\n",
    "<div class=\"alert alert-block alert-warning\">\n",
    "<b>Comentario del revisor</b> <a class=“tocSkip”></a>\n",
    "Si tu código está bien pero se puede mejorar o hay algún detalle que le hace falta.\n",
    "</div>\n",
    "\n",
    "<div class=\"alert alert-block alert-danger\">\n",
    "<b>Comentario del revisor</b> <a class=“tocSkip”></a>\n",
    "Si de pronto hace falta algo o existe algún problema con tu código o conclusiones.\n",
    "</div>\n",
    "\n",
    "Puedes responderme de esta forma:\n",
    "<div class=\"alert alert-block alert-info\">\n",
    "<b>Respuesta del estudiante</b> <a class=“tocSkip”></a>\n",
    "</div>\n",
    "\n",
    "A continuación te dejaré un comentario general con mi valoración del proyecto. **¡Mi objetivo es que sigas aprendiendo y mejorando con cada paso!**"
   ]
  },
  {
   "cell_type": "markdown",
   "metadata": {},
   "source": [
    "----"
   ]
  },
  {
   "cell_type": "code",
   "execution_count": null,
   "metadata": {},
   "outputs": [],
   "source": []
  },
  {
   "cell_type": "markdown",
   "metadata": {},
   "source": [
    "----"
   ]
  },
  {
   "cell_type": "markdown",
   "metadata": {},
   "source": [
    "# Paso 4"
   ]
  },
  {
   "cell_type": "code",
   "execution_count": 1,
   "metadata": {},
   "outputs": [],
   "source": [
    "import pandas as pd #Importar la librería pandas\n",
    "import matplotlib.pyplot as plt #Importar la librería matplotlib para graficar\n",
    "import scipy.stats as stats #Importar librería para analisis estadístico\n",
    "import seaborn as sns #Importar librería para boxplots"
   ]
  },
  {
   "cell_type": "code",
   "execution_count": 2,
   "metadata": {},
   "outputs": [],
   "source": [
    "Data_Frame_01 = pd.read_csv('/datasets/project_sql_result_01.csv') #Leer primer DataFrame"
   ]
  },
  {
   "cell_type": "code",
   "execution_count": 3,
   "metadata": {},
   "outputs": [
    {
     "name": "stdout",
     "output_type": "stream",
     "text": [
      "<class 'pandas.core.frame.DataFrame'>\n",
      "RangeIndex: 64 entries, 0 to 63\n",
      "Data columns (total 2 columns):\n",
      " #   Column        Non-Null Count  Dtype \n",
      "---  ------        --------------  ----- \n",
      " 0   company_name  64 non-null     object\n",
      " 1   trips_amount  64 non-null     int64 \n",
      "dtypes: int64(1), object(1)\n",
      "memory usage: 1.1+ KB\n"
     ]
    },
    {
     "data": {
      "text/html": [
       "<div>\n",
       "<style scoped>\n",
       "    .dataframe tbody tr th:only-of-type {\n",
       "        vertical-align: middle;\n",
       "    }\n",
       "\n",
       "    .dataframe tbody tr th {\n",
       "        vertical-align: top;\n",
       "    }\n",
       "\n",
       "    .dataframe thead th {\n",
       "        text-align: right;\n",
       "    }\n",
       "</style>\n",
       "<table border=\"1\" class=\"dataframe\">\n",
       "  <thead>\n",
       "    <tr style=\"text-align: right;\">\n",
       "      <th></th>\n",
       "      <th>company_name</th>\n",
       "      <th>trips_amount</th>\n",
       "    </tr>\n",
       "  </thead>\n",
       "  <tbody>\n",
       "    <tr>\n",
       "      <th>0</th>\n",
       "      <td>Flash Cab</td>\n",
       "      <td>19558</td>\n",
       "    </tr>\n",
       "    <tr>\n",
       "      <th>1</th>\n",
       "      <td>Taxi Affiliation Services</td>\n",
       "      <td>11422</td>\n",
       "    </tr>\n",
       "    <tr>\n",
       "      <th>2</th>\n",
       "      <td>Medallion Leasing</td>\n",
       "      <td>10367</td>\n",
       "    </tr>\n",
       "    <tr>\n",
       "      <th>3</th>\n",
       "      <td>Yellow Cab</td>\n",
       "      <td>9888</td>\n",
       "    </tr>\n",
       "    <tr>\n",
       "      <th>4</th>\n",
       "      <td>Taxi Affiliation Service Yellow</td>\n",
       "      <td>9299</td>\n",
       "    </tr>\n",
       "    <tr>\n",
       "      <th>...</th>\n",
       "      <td>...</td>\n",
       "      <td>...</td>\n",
       "    </tr>\n",
       "    <tr>\n",
       "      <th>59</th>\n",
       "      <td>4053 - 40193 Adwar H. Nikola</td>\n",
       "      <td>7</td>\n",
       "    </tr>\n",
       "    <tr>\n",
       "      <th>60</th>\n",
       "      <td>2733 - 74600 Benny Jona</td>\n",
       "      <td>7</td>\n",
       "    </tr>\n",
       "    <tr>\n",
       "      <th>61</th>\n",
       "      <td>5874 - 73628 Sergey Cab Corp.</td>\n",
       "      <td>5</td>\n",
       "    </tr>\n",
       "    <tr>\n",
       "      <th>62</th>\n",
       "      <td>2241 - 44667 - Felman Corp</td>\n",
       "      <td>3</td>\n",
       "    </tr>\n",
       "    <tr>\n",
       "      <th>63</th>\n",
       "      <td>3556 - 36214 RC Andrews Cab</td>\n",
       "      <td>2</td>\n",
       "    </tr>\n",
       "  </tbody>\n",
       "</table>\n",
       "<p>64 rows × 2 columns</p>\n",
       "</div>"
      ],
      "text/plain": [
       "                       company_name  trips_amount\n",
       "0                         Flash Cab         19558\n",
       "1         Taxi Affiliation Services         11422\n",
       "2                 Medallion Leasing         10367\n",
       "3                        Yellow Cab          9888\n",
       "4   Taxi Affiliation Service Yellow          9299\n",
       "..                              ...           ...\n",
       "59     4053 - 40193 Adwar H. Nikola             7\n",
       "60          2733 - 74600 Benny Jona             7\n",
       "61    5874 - 73628 Sergey Cab Corp.             5\n",
       "62       2241 - 44667 - Felman Corp             3\n",
       "63      3556 - 36214 RC Andrews Cab             2\n",
       "\n",
       "[64 rows x 2 columns]"
      ]
     },
     "execution_count": 3,
     "metadata": {},
     "output_type": "execute_result"
    }
   ],
   "source": [
    "Data_Frame_01.info() #Análisis exploratorio\n",
    "Data_Frame_01"
   ]
  },
  {
   "cell_type": "code",
   "execution_count": 4,
   "metadata": {},
   "outputs": [],
   "source": [
    "Data_Frame_04 = pd.read_csv('/datasets/project_sql_result_04.csv') #Leer segundo DataFrame"
   ]
  },
  {
   "cell_type": "code",
   "execution_count": 5,
   "metadata": {},
   "outputs": [
    {
     "name": "stdout",
     "output_type": "stream",
     "text": [
      "<class 'pandas.core.frame.DataFrame'>\n",
      "RangeIndex: 94 entries, 0 to 93\n",
      "Data columns (total 2 columns):\n",
      " #   Column                 Non-Null Count  Dtype  \n",
      "---  ------                 --------------  -----  \n",
      " 0   dropoff_location_name  94 non-null     object \n",
      " 1   average_trips          94 non-null     float64\n",
      "dtypes: float64(1), object(1)\n",
      "memory usage: 1.6+ KB\n"
     ]
    },
    {
     "data": {
      "text/html": [
       "<div>\n",
       "<style scoped>\n",
       "    .dataframe tbody tr th:only-of-type {\n",
       "        vertical-align: middle;\n",
       "    }\n",
       "\n",
       "    .dataframe tbody tr th {\n",
       "        vertical-align: top;\n",
       "    }\n",
       "\n",
       "    .dataframe thead th {\n",
       "        text-align: right;\n",
       "    }\n",
       "</style>\n",
       "<table border=\"1\" class=\"dataframe\">\n",
       "  <thead>\n",
       "    <tr style=\"text-align: right;\">\n",
       "      <th></th>\n",
       "      <th>dropoff_location_name</th>\n",
       "      <th>average_trips</th>\n",
       "    </tr>\n",
       "  </thead>\n",
       "  <tbody>\n",
       "    <tr>\n",
       "      <th>0</th>\n",
       "      <td>Loop</td>\n",
       "      <td>10727.466667</td>\n",
       "    </tr>\n",
       "    <tr>\n",
       "      <th>1</th>\n",
       "      <td>River North</td>\n",
       "      <td>9523.666667</td>\n",
       "    </tr>\n",
       "    <tr>\n",
       "      <th>2</th>\n",
       "      <td>Streeterville</td>\n",
       "      <td>6664.666667</td>\n",
       "    </tr>\n",
       "    <tr>\n",
       "      <th>3</th>\n",
       "      <td>West Loop</td>\n",
       "      <td>5163.666667</td>\n",
       "    </tr>\n",
       "    <tr>\n",
       "      <th>4</th>\n",
       "      <td>O'Hare</td>\n",
       "      <td>2546.900000</td>\n",
       "    </tr>\n",
       "    <tr>\n",
       "      <th>...</th>\n",
       "      <td>...</td>\n",
       "      <td>...</td>\n",
       "    </tr>\n",
       "    <tr>\n",
       "      <th>89</th>\n",
       "      <td>Mount Greenwood</td>\n",
       "      <td>3.137931</td>\n",
       "    </tr>\n",
       "    <tr>\n",
       "      <th>90</th>\n",
       "      <td>Hegewisch</td>\n",
       "      <td>3.117647</td>\n",
       "    </tr>\n",
       "    <tr>\n",
       "      <th>91</th>\n",
       "      <td>Burnside</td>\n",
       "      <td>2.333333</td>\n",
       "    </tr>\n",
       "    <tr>\n",
       "      <th>92</th>\n",
       "      <td>East Side</td>\n",
       "      <td>1.961538</td>\n",
       "    </tr>\n",
       "    <tr>\n",
       "      <th>93</th>\n",
       "      <td>Riverdale</td>\n",
       "      <td>1.800000</td>\n",
       "    </tr>\n",
       "  </tbody>\n",
       "</table>\n",
       "<p>94 rows × 2 columns</p>\n",
       "</div>"
      ],
      "text/plain": [
       "   dropoff_location_name  average_trips\n",
       "0                   Loop   10727.466667\n",
       "1            River North    9523.666667\n",
       "2          Streeterville    6664.666667\n",
       "3              West Loop    5163.666667\n",
       "4                 O'Hare    2546.900000\n",
       "..                   ...            ...\n",
       "89       Mount Greenwood       3.137931\n",
       "90             Hegewisch       3.117647\n",
       "91              Burnside       2.333333\n",
       "92             East Side       1.961538\n",
       "93             Riverdale       1.800000\n",
       "\n",
       "[94 rows x 2 columns]"
      ]
     },
     "execution_count": 5,
     "metadata": {},
     "output_type": "execute_result"
    }
   ],
   "source": [
    "Data_Frame_04.info() #Análisis exploratorio\n",
    "Data_Frame_04"
   ]
  },
  {
   "cell_type": "code",
   "execution_count": 6,
   "metadata": {},
   "outputs": [],
   "source": [
    "Data_Frame_07 = pd.read_csv('/datasets/project_sql_result_07.csv') #Leer tercer DataFrame"
   ]
  },
  {
   "cell_type": "code",
   "execution_count": 7,
   "metadata": {},
   "outputs": [
    {
     "name": "stdout",
     "output_type": "stream",
     "text": [
      "<class 'pandas.core.frame.DataFrame'>\n",
      "RangeIndex: 1068 entries, 0 to 1067\n",
      "Data columns (total 3 columns):\n",
      " #   Column              Non-Null Count  Dtype  \n",
      "---  ------              --------------  -----  \n",
      " 0   start_ts            1068 non-null   object \n",
      " 1   weather_conditions  1068 non-null   object \n",
      " 2   duration_seconds    1068 non-null   float64\n",
      "dtypes: float64(1), object(2)\n",
      "memory usage: 25.2+ KB\n"
     ]
    },
    {
     "data": {
      "text/html": [
       "<div>\n",
       "<style scoped>\n",
       "    .dataframe tbody tr th:only-of-type {\n",
       "        vertical-align: middle;\n",
       "    }\n",
       "\n",
       "    .dataframe tbody tr th {\n",
       "        vertical-align: top;\n",
       "    }\n",
       "\n",
       "    .dataframe thead th {\n",
       "        text-align: right;\n",
       "    }\n",
       "</style>\n",
       "<table border=\"1\" class=\"dataframe\">\n",
       "  <thead>\n",
       "    <tr style=\"text-align: right;\">\n",
       "      <th></th>\n",
       "      <th>start_ts</th>\n",
       "      <th>weather_conditions</th>\n",
       "      <th>duration_seconds</th>\n",
       "    </tr>\n",
       "  </thead>\n",
       "  <tbody>\n",
       "    <tr>\n",
       "      <th>0</th>\n",
       "      <td>2017-11-25 16:00:00</td>\n",
       "      <td>Good</td>\n",
       "      <td>2410.0</td>\n",
       "    </tr>\n",
       "    <tr>\n",
       "      <th>1</th>\n",
       "      <td>2017-11-25 14:00:00</td>\n",
       "      <td>Good</td>\n",
       "      <td>1920.0</td>\n",
       "    </tr>\n",
       "    <tr>\n",
       "      <th>2</th>\n",
       "      <td>2017-11-25 12:00:00</td>\n",
       "      <td>Good</td>\n",
       "      <td>1543.0</td>\n",
       "    </tr>\n",
       "    <tr>\n",
       "      <th>3</th>\n",
       "      <td>2017-11-04 10:00:00</td>\n",
       "      <td>Good</td>\n",
       "      <td>2512.0</td>\n",
       "    </tr>\n",
       "    <tr>\n",
       "      <th>4</th>\n",
       "      <td>2017-11-11 07:00:00</td>\n",
       "      <td>Good</td>\n",
       "      <td>1440.0</td>\n",
       "    </tr>\n",
       "    <tr>\n",
       "      <th>...</th>\n",
       "      <td>...</td>\n",
       "      <td>...</td>\n",
       "      <td>...</td>\n",
       "    </tr>\n",
       "    <tr>\n",
       "      <th>1063</th>\n",
       "      <td>2017-11-25 11:00:00</td>\n",
       "      <td>Good</td>\n",
       "      <td>0.0</td>\n",
       "    </tr>\n",
       "    <tr>\n",
       "      <th>1064</th>\n",
       "      <td>2017-11-11 10:00:00</td>\n",
       "      <td>Good</td>\n",
       "      <td>1318.0</td>\n",
       "    </tr>\n",
       "    <tr>\n",
       "      <th>1065</th>\n",
       "      <td>2017-11-11 13:00:00</td>\n",
       "      <td>Good</td>\n",
       "      <td>2100.0</td>\n",
       "    </tr>\n",
       "    <tr>\n",
       "      <th>1066</th>\n",
       "      <td>2017-11-11 08:00:00</td>\n",
       "      <td>Good</td>\n",
       "      <td>1380.0</td>\n",
       "    </tr>\n",
       "    <tr>\n",
       "      <th>1067</th>\n",
       "      <td>2017-11-04 16:00:00</td>\n",
       "      <td>Bad</td>\n",
       "      <td>2834.0</td>\n",
       "    </tr>\n",
       "  </tbody>\n",
       "</table>\n",
       "<p>1068 rows × 3 columns</p>\n",
       "</div>"
      ],
      "text/plain": [
       "                 start_ts weather_conditions  duration_seconds\n",
       "0     2017-11-25 16:00:00               Good            2410.0\n",
       "1     2017-11-25 14:00:00               Good            1920.0\n",
       "2     2017-11-25 12:00:00               Good            1543.0\n",
       "3     2017-11-04 10:00:00               Good            2512.0\n",
       "4     2017-11-11 07:00:00               Good            1440.0\n",
       "...                   ...                ...               ...\n",
       "1063  2017-11-25 11:00:00               Good               0.0\n",
       "1064  2017-11-11 10:00:00               Good            1318.0\n",
       "1065  2017-11-11 13:00:00               Good            2100.0\n",
       "1066  2017-11-11 08:00:00               Good            1380.0\n",
       "1067  2017-11-04 16:00:00                Bad            2834.0\n",
       "\n",
       "[1068 rows x 3 columns]"
      ]
     },
     "execution_count": 7,
     "metadata": {},
     "output_type": "execute_result"
    }
   ],
   "source": [
    "Data_Frame_07.info() #Análisis exploratorio\n",
    "Data_Frame_07"
   ]
  },
  {
   "cell_type": "markdown",
   "metadata": {},
   "source": [
    "La mayoría de los datos de los 3 DataFrames parecen estar correctos. A excepción de start_ts del tercer DataFrame. No existen valores ausentes. "
   ]
  },
  {
   "cell_type": "code",
   "execution_count": 8,
   "metadata": {},
   "outputs": [],
   "source": [
    "Data_Frame_07['start_ts'] = pd.to_datetime(Data_Frame_07['start_ts'], format='%Y-%m-%d %H:%M:%S')\n",
    "#Se cambia la columna 'start_ts' al formato correcto datetime"
   ]
  },
  {
   "cell_type": "markdown",
   "metadata": {},
   "source": [
    "<div class=\"alert alert-block alert-success\">\n",
    "<b>Comentario del revisor (1ra Iteración)</b> <a class=“tocSkip”></a>\n",
    "\n",
    "Gran idea ajustar el formato de fecha, esto permtirá hacer un análisis más adecuado\n",
    "\n",
    "</div>"
   ]
  },
  {
   "cell_type": "code",
   "execution_count": 9,
   "metadata": {},
   "outputs": [
    {
     "name": "stdout",
     "output_type": "stream",
     "text": [
      "<class 'pandas.core.frame.DataFrame'>\n",
      "RangeIndex: 1068 entries, 0 to 1067\n",
      "Data columns (total 3 columns):\n",
      " #   Column              Non-Null Count  Dtype         \n",
      "---  ------              --------------  -----         \n",
      " 0   start_ts            1068 non-null   datetime64[ns]\n",
      " 1   weather_conditions  1068 non-null   object        \n",
      " 2   duration_seconds    1068 non-null   float64       \n",
      "dtypes: datetime64[ns](1), float64(1), object(1)\n",
      "memory usage: 25.2+ KB\n"
     ]
    },
    {
     "data": {
      "text/html": [
       "<div>\n",
       "<style scoped>\n",
       "    .dataframe tbody tr th:only-of-type {\n",
       "        vertical-align: middle;\n",
       "    }\n",
       "\n",
       "    .dataframe tbody tr th {\n",
       "        vertical-align: top;\n",
       "    }\n",
       "\n",
       "    .dataframe thead th {\n",
       "        text-align: right;\n",
       "    }\n",
       "</style>\n",
       "<table border=\"1\" class=\"dataframe\">\n",
       "  <thead>\n",
       "    <tr style=\"text-align: right;\">\n",
       "      <th></th>\n",
       "      <th>start_ts</th>\n",
       "      <th>weather_conditions</th>\n",
       "      <th>duration_seconds</th>\n",
       "    </tr>\n",
       "  </thead>\n",
       "  <tbody>\n",
       "    <tr>\n",
       "      <th>0</th>\n",
       "      <td>2017-11-25 16:00:00</td>\n",
       "      <td>Good</td>\n",
       "      <td>2410.0</td>\n",
       "    </tr>\n",
       "    <tr>\n",
       "      <th>1</th>\n",
       "      <td>2017-11-25 14:00:00</td>\n",
       "      <td>Good</td>\n",
       "      <td>1920.0</td>\n",
       "    </tr>\n",
       "    <tr>\n",
       "      <th>2</th>\n",
       "      <td>2017-11-25 12:00:00</td>\n",
       "      <td>Good</td>\n",
       "      <td>1543.0</td>\n",
       "    </tr>\n",
       "    <tr>\n",
       "      <th>3</th>\n",
       "      <td>2017-11-04 10:00:00</td>\n",
       "      <td>Good</td>\n",
       "      <td>2512.0</td>\n",
       "    </tr>\n",
       "    <tr>\n",
       "      <th>4</th>\n",
       "      <td>2017-11-11 07:00:00</td>\n",
       "      <td>Good</td>\n",
       "      <td>1440.0</td>\n",
       "    </tr>\n",
       "    <tr>\n",
       "      <th>...</th>\n",
       "      <td>...</td>\n",
       "      <td>...</td>\n",
       "      <td>...</td>\n",
       "    </tr>\n",
       "    <tr>\n",
       "      <th>1063</th>\n",
       "      <td>2017-11-25 11:00:00</td>\n",
       "      <td>Good</td>\n",
       "      <td>0.0</td>\n",
       "    </tr>\n",
       "    <tr>\n",
       "      <th>1064</th>\n",
       "      <td>2017-11-11 10:00:00</td>\n",
       "      <td>Good</td>\n",
       "      <td>1318.0</td>\n",
       "    </tr>\n",
       "    <tr>\n",
       "      <th>1065</th>\n",
       "      <td>2017-11-11 13:00:00</td>\n",
       "      <td>Good</td>\n",
       "      <td>2100.0</td>\n",
       "    </tr>\n",
       "    <tr>\n",
       "      <th>1066</th>\n",
       "      <td>2017-11-11 08:00:00</td>\n",
       "      <td>Good</td>\n",
       "      <td>1380.0</td>\n",
       "    </tr>\n",
       "    <tr>\n",
       "      <th>1067</th>\n",
       "      <td>2017-11-04 16:00:00</td>\n",
       "      <td>Bad</td>\n",
       "      <td>2834.0</td>\n",
       "    </tr>\n",
       "  </tbody>\n",
       "</table>\n",
       "<p>1068 rows × 3 columns</p>\n",
       "</div>"
      ],
      "text/plain": [
       "                start_ts weather_conditions  duration_seconds\n",
       "0    2017-11-25 16:00:00               Good            2410.0\n",
       "1    2017-11-25 14:00:00               Good            1920.0\n",
       "2    2017-11-25 12:00:00               Good            1543.0\n",
       "3    2017-11-04 10:00:00               Good            2512.0\n",
       "4    2017-11-11 07:00:00               Good            1440.0\n",
       "...                  ...                ...               ...\n",
       "1063 2017-11-25 11:00:00               Good               0.0\n",
       "1064 2017-11-11 10:00:00               Good            1318.0\n",
       "1065 2017-11-11 13:00:00               Good            2100.0\n",
       "1066 2017-11-11 08:00:00               Good            1380.0\n",
       "1067 2017-11-04 16:00:00                Bad            2834.0\n",
       "\n",
       "[1068 rows x 3 columns]"
      ]
     },
     "execution_count": 9,
     "metadata": {},
     "output_type": "execute_result"
    }
   ],
   "source": [
    "Data_Frame_07.info() #Verificación de conversión correcta\n",
    "Data_Frame_07"
   ]
  },
  {
   "cell_type": "code",
   "execution_count": 10,
   "metadata": {},
   "outputs": [
    {
     "data": {
      "text/plain": [
       "count           94\n",
       "unique          94\n",
       "top       Old Town\n",
       "freq             1\n",
       "Name: dropoff_location_name, dtype: object"
      ]
     },
     "execution_count": 10,
     "metadata": {},
     "output_type": "execute_result"
    }
   ],
   "source": [
    "Data_Frame_04['dropoff_location_name'].describe()"
   ]
  },
  {
   "cell_type": "markdown",
   "metadata": {},
   "source": [
    "<div class=\"alert alert-block alert-success\">\n",
    "<b>Comentario del revisor (1ra Iteración)</b> <a class=“tocSkip”></a>\n",
    "\n",
    "Muy buen trabajo importando las librerías y los datasets del proyecto. Adicionalmente usaste correctamente la función `info`, esto te permite hacer una primera revisión de los datos, su estructura y contenido. Con esta información, podemos establecer una hoja de ruta para ajustar, modificar y analizar los datos de una manera adecuada. \n",
    "\n",
    "</div>"
   ]
  },
  {
   "cell_type": "markdown",
   "metadata": {},
   "source": [
    "Identificar los 10 principales barrios en términos de finalización del recorrido"
   ]
  },
  {
   "cell_type": "code",
   "execution_count": 11,
   "metadata": {},
   "outputs": [
    {
     "data": {
      "text/html": [
       "<div>\n",
       "<style scoped>\n",
       "    .dataframe tbody tr th:only-of-type {\n",
       "        vertical-align: middle;\n",
       "    }\n",
       "\n",
       "    .dataframe tbody tr th {\n",
       "        vertical-align: top;\n",
       "    }\n",
       "\n",
       "    .dataframe thead th {\n",
       "        text-align: right;\n",
       "    }\n",
       "</style>\n",
       "<table border=\"1\" class=\"dataframe\">\n",
       "  <thead>\n",
       "    <tr style=\"text-align: right;\">\n",
       "      <th></th>\n",
       "      <th>dropoff_location_name</th>\n",
       "      <th>average_trips</th>\n",
       "    </tr>\n",
       "  </thead>\n",
       "  <tbody>\n",
       "    <tr>\n",
       "      <th>0</th>\n",
       "      <td>Loop</td>\n",
       "      <td>10727.466667</td>\n",
       "    </tr>\n",
       "    <tr>\n",
       "      <th>1</th>\n",
       "      <td>River North</td>\n",
       "      <td>9523.666667</td>\n",
       "    </tr>\n",
       "    <tr>\n",
       "      <th>2</th>\n",
       "      <td>Streeterville</td>\n",
       "      <td>6664.666667</td>\n",
       "    </tr>\n",
       "    <tr>\n",
       "      <th>3</th>\n",
       "      <td>West Loop</td>\n",
       "      <td>5163.666667</td>\n",
       "    </tr>\n",
       "    <tr>\n",
       "      <th>4</th>\n",
       "      <td>O'Hare</td>\n",
       "      <td>2546.900000</td>\n",
       "    </tr>\n",
       "    <tr>\n",
       "      <th>5</th>\n",
       "      <td>Lake View</td>\n",
       "      <td>2420.966667</td>\n",
       "    </tr>\n",
       "    <tr>\n",
       "      <th>6</th>\n",
       "      <td>Grant Park</td>\n",
       "      <td>2068.533333</td>\n",
       "    </tr>\n",
       "    <tr>\n",
       "      <th>7</th>\n",
       "      <td>Museum Campus</td>\n",
       "      <td>1510.000000</td>\n",
       "    </tr>\n",
       "    <tr>\n",
       "      <th>8</th>\n",
       "      <td>Gold Coast</td>\n",
       "      <td>1364.233333</td>\n",
       "    </tr>\n",
       "    <tr>\n",
       "      <th>9</th>\n",
       "      <td>Sheffield &amp; DePaul</td>\n",
       "      <td>1259.766667</td>\n",
       "    </tr>\n",
       "  </tbody>\n",
       "</table>\n",
       "</div>"
      ],
      "text/plain": [
       "  dropoff_location_name  average_trips\n",
       "0                  Loop   10727.466667\n",
       "1           River North    9523.666667\n",
       "2         Streeterville    6664.666667\n",
       "3             West Loop    5163.666667\n",
       "4                O'Hare    2546.900000\n",
       "5             Lake View    2420.966667\n",
       "6            Grant Park    2068.533333\n",
       "7         Museum Campus    1510.000000\n",
       "8            Gold Coast    1364.233333\n",
       "9    Sheffield & DePaul    1259.766667"
      ]
     },
     "execution_count": 11,
     "metadata": {},
     "output_type": "execute_result"
    }
   ],
   "source": [
    "Data_Frame_04.head(10) #Identificar los 10 principales barrios en términos de finalización del recorrido"
   ]
  },
  {
   "cell_type": "code",
   "execution_count": 12,
   "metadata": {},
   "outputs": [
    {
     "name": "stdout",
     "output_type": "stream",
     "text": [
      "\n",
      "Top 10 barrios por finalización de viajes:\n",
      "  dropoff_location_name  average_trips\n",
      "0                  Loop   10727.466667\n",
      "1           River North    9523.666667\n",
      "2         Streeterville    6664.666667\n",
      "3             West Loop    5163.666667\n",
      "4                O'Hare    2546.900000\n",
      "5             Lake View    2420.966667\n",
      "6            Grant Park    2068.533333\n",
      "7         Museum Campus    1510.000000\n",
      "8            Gold Coast    1364.233333\n",
      "9    Sheffield & DePaul    1259.766667\n"
     ]
    }
   ],
   "source": [
    "top_10_neighborhoods = Data_Frame_04.nlargest(10, 'average_trips')\n",
    "print(\"\\nTop 10 barrios por finalización de viajes:\")\n",
    "print(top_10_neighborhoods)"
   ]
  },
  {
   "cell_type": "code",
   "execution_count": 13,
   "metadata": {},
   "outputs": [
    {
     "data": {
      "image/png": "[encoded data removed]",
      "text/plain": [
       "<Figure size 1200x600 with 1 Axes>"
      ]
     },
     "metadata": {},
     "output_type": "display_data"
    }
   ],
   "source": [
    "#Hacer gráficos: empresas de taxis y número de viajes\n",
    "plt.figure(figsize=(12, 6))\n",
    "plt.bar(Data_Frame_01['company_name'], Data_Frame_01['trips_amount'])\n",
    "plt.xticks(rotation=90)\n",
    "plt.xlabel(\"Empresas de Taxis\")\n",
    "plt.ylabel(\"Número de Viajes\")\n",
    "plt.title(\"Número de Viajes por Empresa de Taxis\")\n",
    "plt.show()"
   ]
  },
  {
   "cell_type": "markdown",
   "metadata": {},
   "source": [
    "<div class=\"alert alert-block alert-success\">\n",
    "<b>Comentario del revisor (1ra Iteración)</b> <a class=“tocSkip”></a>\n",
    "\n",
    "Buen trabajo mostrando el top de compañias de taxis. Vemos como *Flash Cab* tiene una gran cuota de mercado en comparación a las demás empresas\n",
    "\n",
    "<div class=\"alert alert-block alert-warning\">\n",
    "<b>Comentario del revisor (1ra Iteración)</b> <a class=“tocSkip”></a>\n",
    "\n",
    "Como recomendación, puedes limitar a mostrar el top 10 de compañias, con el fin de que la información se más fácil de estudiar\n",
    "\n",
    "</div>\n",
    "\n",
    "</div>"
   ]
  },
  {
   "cell_type": "code",
   "execution_count": 14,
   "metadata": {},
   "outputs": [
    {
     "data": {
      "image/png": "[encoded data removed]",
      "text/plain": [
       "<Figure size 1200x600 with 1 Axes>"
      ]
     },
     "metadata": {},
     "output_type": "display_data"
    }
   ],
   "source": [
    "# Gráfico: Top 10 barrios por número de finalizaciones de viajes\n",
    "plt.figure(figsize=(12, 6))\n",
    "plt.bar(top_10_neighborhoods['dropoff_location_name'], top_10_neighborhoods['average_trips'])\n",
    "plt.xticks(rotation=45)\n",
    "plt.xlabel(\"Barrios\")\n",
    "plt.ylabel(\"Viajes Promedio\")\n",
    "plt.title(\"Top 10 Barrios por Finalización de Viajes\")\n",
    "plt.show()"
   ]
  },
  {
   "cell_type": "markdown",
   "metadata": {},
   "source": [
    "<div class=\"alert alert-block alert-success\">\n",
    "<b>Comentario del revisor (1ra Iteración)</b> <a class=“tocSkip”></a>\n",
    "\n",
    "Excelente trabajo mostrando la información del Top de barrios.\n",
    "\n",
    "</div>"
   ]
  },
  {
   "cell_type": "markdown",
   "metadata": {},
   "source": [
    "Conclusiones:\n",
    "Empresas de taxis y número de viajes:\n",
    "Hay una gran variabilidad en la cantidad de viajes entre las empresas de taxis.\n",
    "Algunas compañías, como \"Flash Cab\", \"Taxi Affiliation Services\" y \"Medallion Leasing\", dominan el mercado con un número significativamente mayor de viajes en comparación con otras.\n",
    "Esto podría indicar una concentración del mercado en ciertas compañías con mayor reconocimiento o disponibilidad de vehículos."
   ]
  },
  {
   "cell_type": "markdown",
   "metadata": {},
   "source": [
    "<div class=\"alert alert-block alert-success\">\n",
    "<b>Comentario del revisor (1ra Iteración)</b> <a class=“tocSkip”></a>\n",
    "\n",
    "Robert tu análisis destaca de manera clara y concisa la concentración del mercado de taxis en Chicago, identificando a empresas líderes como Flash Cab, Taxi Affiliation Services y Medallion Leasing como actores dominantes. Has señalado acertadamente que esta disparidad en el número de viajes podría estar relacionada con factores como el reconocimiento de marca o la capacidad operativa de estas empresas. Para futuros trabajos, sería interesante explorar las razones detrás de esta concentración, como estrategias de marketing, cobertura geográfica o calidad del servicio, lo que permitiría un entendimiento más profundo de la dinámica competitiva en el sector. \n",
    "\n",
    "</div>"
   ]
  },
  {
   "cell_type": "markdown",
   "metadata": {},
   "source": [
    "# Paso 5"
   ]
  },
  {
   "cell_type": "code",
   "execution_count": 15,
   "metadata": {},
   "outputs": [
    {
     "name": "stdout",
     "output_type": "stream",
     "text": [
      "<class 'pandas.core.frame.DataFrame'>\n",
      "RangeIndex: 1068 entries, 0 to 1067\n",
      "Data columns (total 3 columns):\n",
      " #   Column              Non-Null Count  Dtype         \n",
      "---  ------              --------------  -----         \n",
      " 0   start_ts            1068 non-null   datetime64[ns]\n",
      " 1   weather_conditions  1068 non-null   object        \n",
      " 2   duration_seconds    1068 non-null   float64       \n",
      "dtypes: datetime64[ns](1), float64(1), object(1)\n",
      "memory usage: 25.2+ KB\n"
     ]
    },
    {
     "data": {
      "text/html": [
       "<div>\n",
       "<style scoped>\n",
       "    .dataframe tbody tr th:only-of-type {\n",
       "        vertical-align: middle;\n",
       "    }\n",
       "\n",
       "    .dataframe tbody tr th {\n",
       "        vertical-align: top;\n",
       "    }\n",
       "\n",
       "    .dataframe thead th {\n",
       "        text-align: right;\n",
       "    }\n",
       "</style>\n",
       "<table border=\"1\" class=\"dataframe\">\n",
       "  <thead>\n",
       "    <tr style=\"text-align: right;\">\n",
       "      <th></th>\n",
       "      <th>start_ts</th>\n",
       "      <th>weather_conditions</th>\n",
       "      <th>duration_seconds</th>\n",
       "    </tr>\n",
       "  </thead>\n",
       "  <tbody>\n",
       "    <tr>\n",
       "      <th>0</th>\n",
       "      <td>2017-11-25 16:00:00</td>\n",
       "      <td>Good</td>\n",
       "      <td>2410.0</td>\n",
       "    </tr>\n",
       "    <tr>\n",
       "      <th>1</th>\n",
       "      <td>2017-11-25 14:00:00</td>\n",
       "      <td>Good</td>\n",
       "      <td>1920.0</td>\n",
       "    </tr>\n",
       "    <tr>\n",
       "      <th>2</th>\n",
       "      <td>2017-11-25 12:00:00</td>\n",
       "      <td>Good</td>\n",
       "      <td>1543.0</td>\n",
       "    </tr>\n",
       "    <tr>\n",
       "      <th>3</th>\n",
       "      <td>2017-11-04 10:00:00</td>\n",
       "      <td>Good</td>\n",
       "      <td>2512.0</td>\n",
       "    </tr>\n",
       "    <tr>\n",
       "      <th>4</th>\n",
       "      <td>2017-11-11 07:00:00</td>\n",
       "      <td>Good</td>\n",
       "      <td>1440.0</td>\n",
       "    </tr>\n",
       "    <tr>\n",
       "      <th>...</th>\n",
       "      <td>...</td>\n",
       "      <td>...</td>\n",
       "      <td>...</td>\n",
       "    </tr>\n",
       "    <tr>\n",
       "      <th>1063</th>\n",
       "      <td>2017-11-25 11:00:00</td>\n",
       "      <td>Good</td>\n",
       "      <td>0.0</td>\n",
       "    </tr>\n",
       "    <tr>\n",
       "      <th>1064</th>\n",
       "      <td>2017-11-11 10:00:00</td>\n",
       "      <td>Good</td>\n",
       "      <td>1318.0</td>\n",
       "    </tr>\n",
       "    <tr>\n",
       "      <th>1065</th>\n",
       "      <td>2017-11-11 13:00:00</td>\n",
       "      <td>Good</td>\n",
       "      <td>2100.0</td>\n",
       "    </tr>\n",
       "    <tr>\n",
       "      <th>1066</th>\n",
       "      <td>2017-11-11 08:00:00</td>\n",
       "      <td>Good</td>\n",
       "      <td>1380.0</td>\n",
       "    </tr>\n",
       "    <tr>\n",
       "      <th>1067</th>\n",
       "      <td>2017-11-04 16:00:00</td>\n",
       "      <td>Bad</td>\n",
       "      <td>2834.0</td>\n",
       "    </tr>\n",
       "  </tbody>\n",
       "</table>\n",
       "<p>1068 rows × 3 columns</p>\n",
       "</div>"
      ],
      "text/plain": [
       "                start_ts weather_conditions  duration_seconds\n",
       "0    2017-11-25 16:00:00               Good            2410.0\n",
       "1    2017-11-25 14:00:00               Good            1920.0\n",
       "2    2017-11-25 12:00:00               Good            1543.0\n",
       "3    2017-11-04 10:00:00               Good            2512.0\n",
       "4    2017-11-11 07:00:00               Good            1440.0\n",
       "...                  ...                ...               ...\n",
       "1063 2017-11-25 11:00:00               Good               0.0\n",
       "1064 2017-11-11 10:00:00               Good            1318.0\n",
       "1065 2017-11-11 13:00:00               Good            2100.0\n",
       "1066 2017-11-11 08:00:00               Good            1380.0\n",
       "1067 2017-11-04 16:00:00                Bad            2834.0\n",
       "\n",
       "[1068 rows x 3 columns]"
      ]
     },
     "execution_count": 15,
     "metadata": {},
     "output_type": "execute_result"
    }
   ],
   "source": [
    "Data_Frame_07.info() #Verificación de conversión correcta\n",
    "Data_Frame_07"
   ]
  },
  {
   "cell_type": "code",
   "execution_count": 16,
   "metadata": {},
   "outputs": [
    {
     "name": "stdout",
     "output_type": "stream",
     "text": [
      "                start_ts weather_conditions  duration_seconds       dow\n",
      "0    2017-11-25 16:00:00               Good            2410.0  Saturday\n",
      "1    2017-11-25 14:00:00               Good            1920.0  Saturday\n",
      "2    2017-11-25 12:00:00               Good            1543.0  Saturday\n",
      "3    2017-11-04 10:00:00               Good            2512.0  Saturday\n",
      "4    2017-11-11 07:00:00               Good            1440.0  Saturday\n",
      "...                  ...                ...               ...       ...\n",
      "1063 2017-11-25 11:00:00               Good               0.0  Saturday\n",
      "1064 2017-11-11 10:00:00               Good            1318.0  Saturday\n",
      "1065 2017-11-11 13:00:00               Good            2100.0  Saturday\n",
      "1066 2017-11-11 08:00:00               Good            1380.0  Saturday\n",
      "1067 2017-11-04 16:00:00                Bad            2834.0  Saturday\n",
      "\n",
      "[1068 rows x 4 columns]\n"
     ]
    }
   ],
   "source": [
    "Data_Frame_07['dow'] = Data_Frame_07['start_ts'].dt.day_name() #Extracción del día de la semana desde 'start_ts'\n",
    "print(Data_Frame_07)"
   ]
  },
  {
   "cell_type": "markdown",
   "metadata": {},
   "source": [
    "Prueba la hipótesis:\n",
    "\n",
    "\"La duración promedio de los viajes desde el Loop hasta el Aeropuerto Internacional O'Hare cambia los sábados lluviosos\"."
   ]
  },
  {
   "cell_type": "code",
   "execution_count": 17,
   "metadata": {},
   "outputs": [],
   "source": [
    "# Filtrar datos de sábados lluviosos y sábados no lluviosos\n",
    "rainy_saturdays = Data_Frame_07[(Data_Frame_07['dow'] == 'Saturday') & (Data_Frame_07['weather_conditions'] == 'Bad')]\n",
    "non_rainy_saturdays = Data_Frame_07[(Data_Frame_07['dow'] == 'Saturday') & (Data_Frame_07['weather_conditions'] != 'Bad')]"
   ]
  },
  {
   "cell_type": "code",
   "execution_count": 18,
   "metadata": {},
   "outputs": [
    {
     "name": "stdout",
     "output_type": "stream",
     "text": [
      "<class 'pandas.core.frame.DataFrame'>\n",
      "Int64Index: 180 entries, 6 to 1067\n",
      "Data columns (total 4 columns):\n",
      " #   Column              Non-Null Count  Dtype         \n",
      "---  ------              --------------  -----         \n",
      " 0   start_ts            180 non-null    datetime64[ns]\n",
      " 1   weather_conditions  180 non-null    object        \n",
      " 2   duration_seconds    180 non-null    float64       \n",
      " 3   dow                 180 non-null    object        \n",
      "dtypes: datetime64[ns](1), float64(1), object(2)\n",
      "memory usage: 7.0+ KB\n"
     ]
    },
    {
     "data": {
      "text/html": [
       "<div>\n",
       "<style scoped>\n",
       "    .dataframe tbody tr th:only-of-type {\n",
       "        vertical-align: middle;\n",
       "    }\n",
       "\n",
       "    .dataframe tbody tr th {\n",
       "        vertical-align: top;\n",
       "    }\n",
       "\n",
       "    .dataframe thead th {\n",
       "        text-align: right;\n",
       "    }\n",
       "</style>\n",
       "<table border=\"1\" class=\"dataframe\">\n",
       "  <thead>\n",
       "    <tr style=\"text-align: right;\">\n",
       "      <th></th>\n",
       "      <th>duration_seconds</th>\n",
       "    </tr>\n",
       "  </thead>\n",
       "  <tbody>\n",
       "    <tr>\n",
       "      <th>count</th>\n",
       "      <td>180.000000</td>\n",
       "    </tr>\n",
       "    <tr>\n",
       "      <th>mean</th>\n",
       "      <td>2427.205556</td>\n",
       "    </tr>\n",
       "    <tr>\n",
       "      <th>std</th>\n",
       "      <td>721.314138</td>\n",
       "    </tr>\n",
       "    <tr>\n",
       "      <th>min</th>\n",
       "      <td>480.000000</td>\n",
       "    </tr>\n",
       "    <tr>\n",
       "      <th>25%</th>\n",
       "      <td>1962.000000</td>\n",
       "    </tr>\n",
       "    <tr>\n",
       "      <th>50%</th>\n",
       "      <td>2540.000000</td>\n",
       "    </tr>\n",
       "    <tr>\n",
       "      <th>75%</th>\n",
       "      <td>2928.000000</td>\n",
       "    </tr>\n",
       "    <tr>\n",
       "      <th>max</th>\n",
       "      <td>4980.000000</td>\n",
       "    </tr>\n",
       "  </tbody>\n",
       "</table>\n",
       "</div>"
      ],
      "text/plain": [
       "       duration_seconds\n",
       "count        180.000000\n",
       "mean        2427.205556\n",
       "std          721.314138\n",
       "min          480.000000\n",
       "25%         1962.000000\n",
       "50%         2540.000000\n",
       "75%         2928.000000\n",
       "max         4980.000000"
      ]
     },
     "execution_count": 18,
     "metadata": {},
     "output_type": "execute_result"
    }
   ],
   "source": [
    "rainy_saturdays.info()\n",
    "rainy_saturdays\n",
    "rainy_saturdays.describe()"
   ]
  },
  {
   "cell_type": "code",
   "execution_count": 19,
   "metadata": {},
   "outputs": [
    {
     "name": "stdout",
     "output_type": "stream",
     "text": [
      "<class 'pandas.core.frame.DataFrame'>\n",
      "Int64Index: 888 entries, 0 to 1066\n",
      "Data columns (total 4 columns):\n",
      " #   Column              Non-Null Count  Dtype         \n",
      "---  ------              --------------  -----         \n",
      " 0   start_ts            888 non-null    datetime64[ns]\n",
      " 1   weather_conditions  888 non-null    object        \n",
      " 2   duration_seconds    888 non-null    float64       \n",
      " 3   dow                 888 non-null    object        \n",
      "dtypes: datetime64[ns](1), float64(1), object(2)\n",
      "memory usage: 34.7+ KB\n"
     ]
    },
    {
     "data": {
      "text/html": [
       "<div>\n",
       "<style scoped>\n",
       "    .dataframe tbody tr th:only-of-type {\n",
       "        vertical-align: middle;\n",
       "    }\n",
       "\n",
       "    .dataframe tbody tr th {\n",
       "        vertical-align: top;\n",
       "    }\n",
       "\n",
       "    .dataframe thead th {\n",
       "        text-align: right;\n",
       "    }\n",
       "</style>\n",
       "<table border=\"1\" class=\"dataframe\">\n",
       "  <thead>\n",
       "    <tr style=\"text-align: right;\">\n",
       "      <th></th>\n",
       "      <th>duration_seconds</th>\n",
       "    </tr>\n",
       "  </thead>\n",
       "  <tbody>\n",
       "    <tr>\n",
       "      <th>count</th>\n",
       "      <td>888.000000</td>\n",
       "    </tr>\n",
       "    <tr>\n",
       "      <th>mean</th>\n",
       "      <td>1999.675676</td>\n",
       "    </tr>\n",
       "    <tr>\n",
       "      <th>std</th>\n",
       "      <td>759.198268</td>\n",
       "    </tr>\n",
       "    <tr>\n",
       "      <th>min</th>\n",
       "      <td>0.000000</td>\n",
       "    </tr>\n",
       "    <tr>\n",
       "      <th>25%</th>\n",
       "      <td>1389.750000</td>\n",
       "    </tr>\n",
       "    <tr>\n",
       "      <th>50%</th>\n",
       "      <td>1800.000000</td>\n",
       "    </tr>\n",
       "    <tr>\n",
       "      <th>75%</th>\n",
       "      <td>2460.000000</td>\n",
       "    </tr>\n",
       "    <tr>\n",
       "      <th>max</th>\n",
       "      <td>7440.000000</td>\n",
       "    </tr>\n",
       "  </tbody>\n",
       "</table>\n",
       "</div>"
      ],
      "text/plain": [
       "       duration_seconds\n",
       "count        888.000000\n",
       "mean        1999.675676\n",
       "std          759.198268\n",
       "min            0.000000\n",
       "25%         1389.750000\n",
       "50%         1800.000000\n",
       "75%         2460.000000\n",
       "max         7440.000000"
      ]
     },
     "execution_count": 19,
     "metadata": {},
     "output_type": "execute_result"
    }
   ],
   "source": [
    "non_rainy_saturdays.info()\n",
    "non_rainy_saturdays\n",
    "non_rainy_saturdays.describe()"
   ]
  },
  {
   "cell_type": "code",
   "execution_count": 20,
   "metadata": {},
   "outputs": [],
   "source": [
    "#Analizar varianzas con test de Levene\n",
    "levene_stat, levene_p_value = stats.levene(rainy_saturdays['duration_seconds'], non_rainy_saturdays['duration_seconds'])"
   ]
  },
  {
   "cell_type": "code",
   "execution_count": 21,
   "metadata": {},
   "outputs": [
    {
     "name": "stdout",
     "output_type": "stream",
     "text": [
      "Estadístico de Levene: 0.38853489683656073\n",
      "Valor p de Levene: 0.5332038671974493\n"
     ]
    }
   ],
   "source": [
    "print(\"Estadístico de Levene:\", levene_stat)\n",
    "print(\"Valor p de Levene:\", levene_p_value)"
   ]
  },
  {
   "cell_type": "code",
   "execution_count": 22,
   "metadata": {},
   "outputs": [
    {
     "name": "stdout",
     "output_type": "stream",
     "text": [
      "No se rechaza la hipótesis nula: las varianzas son homogéneas.\n"
     ]
    }
   ],
   "source": [
    "# Interpretación del resultado\n",
    "if levene_p_value < 0.05:\n",
    "    print(\"Se rechaza la hipótesis nula: las varianzas son diferentes.\")\n",
    "else:\n",
    "    print(\"No se rechaza la hipótesis nula: las varianzas son homogéneas.\")"
   ]
  },
  {
   "cell_type": "code",
   "execution_count": 23,
   "metadata": {},
   "outputs": [],
   "source": [
    "t_stat, t_p_value = stats.ttest_ind(\n",
    "        rainy_saturdays['duration_seconds'], non_rainy_saturdays['duration_seconds'], equal_var=True\n",
    "    )"
   ]
  },
  {
   "cell_type": "code",
   "execution_count": 24,
   "metadata": {},
   "outputs": [
    {
     "name": "stdout",
     "output_type": "stream",
     "text": [
      "Estadístico de T-test: 6.946177714041499\n",
      "Valor p de T-test: 6.517970327099473e-12\n"
     ]
    }
   ],
   "source": [
    "print(\"Estadístico de T-test:\", t_stat)\n",
    "print(\"Valor p de T-test:\", t_p_value)"
   ]
  },
  {
   "cell_type": "code",
   "execution_count": 25,
   "metadata": {},
   "outputs": [
    {
     "name": "stdout",
     "output_type": "stream",
     "text": [
      "Se rechaza la hipótesis nula: La duración promedio de los viajes desde el Loop hasta el Aeropuerto Internacional O'Hare cambia los sábados lluviosos.\n"
     ]
    }
   ],
   "source": [
    "# Interpretación del resultado\n",
    "if t_p_value < 0.05:\n",
    "    print(\"Se rechaza la hipótesis nula: La duración promedio de los viajes desde el Loop hasta el Aeropuerto Internacional O'Hare cambia los sábados lluviosos.\")\n",
    "else:\n",
    "    print(\"No se rechaza la hipótesis nula: La duración promedio de los viajes desde el Loop hasta el Aeropuerto Internacional O'Hare NO cambia los sábados lluviosos.\")"
   ]
  },
  {
   "cell_type": "code",
   "execution_count": 26,
   "metadata": {},
   "outputs": [
    {
     "data": {
      "image/png": "[encoded data removed]",
      "text/plain": [
       "<Figure size 800x600 with 1 Axes>"
      ]
     },
     "metadata": {},
     "output_type": "display_data"
    }
   ],
   "source": [
    "# Crear boxplot de la duración de los viajes en sábados lluviosos y no lluviosos\n",
    "plt.figure(figsize=(8, 6))\n",
    "plt.boxplot(\n",
    "    [rainy_saturdays['duration_seconds'], non_rainy_saturdays['duration_seconds']],\n",
    "    labels=['Sábados Lluviosos', 'Sábados No Lluviosos'],\n",
    "    patch_artist=True\n",
    ")\n",
    "\n",
    "# Etiquetas y título\n",
    "plt.ylabel(\"Duración del Viaje (segundos)\")\n",
    "plt.title(\"Distribución de la Duración de Viajes en Sábados Lluviosos vs No Lluviosos\")\n",
    "plt.grid(axis='y', linestyle='--', alpha=0.7)\n",
    "\n",
    "# Mostrar el gráfico\n",
    "plt.show()"
   ]
  },
  {
   "cell_type": "markdown",
   "metadata": {},
   "source": [
    "En la hipotesis nula no hay cambios significativos entre ambas pruebas.\n",
    "Mi hipotesis alternativo supone que la duracion de los viajes en los días lluviosos es mayor que cuando no llueve en el mismo día. La hipotesis nula resultó ser rechazada."
   ]
  },
  {
   "cell_type": "markdown",
   "metadata": {},
   "source": [
    "<div class=\"alert alert-block alert-success\">\n",
    "<b>Comentario del revisor (1ra Iteración)</b> <a class=“tocSkip”></a>\n",
    "\n",
    "Robert aplicaste de manera correcta la prueba de hipótesis comparando la media de dos muestras independientes, incluyendo la prueba de Levene que permite validar la igualdad entre varianzas, algo clave para realizar la t-test de manera acertada.  Un buen detalle es haber incluido los *box-plot* para \n",
    "\n",
    "\n",
    "</div>"
   ]
  }
 ],
 "metadata": {
  "ExecuteTimeLog": [
   {
    "duration": 288,
    "start_time": "2025-02-08T00:40:36.883Z"
   },
   {
    "duration": 2,
    "start_time": "2025-02-08T00:40:44.563Z"
   },
   {
    "duration": 6,
    "start_time": "2025-02-08T00:41:45.487Z"
   },
   {
    "duration": 508,
    "start_time": "2025-02-08T00:42:05.685Z"
   },
   {
    "duration": 8,
    "start_time": "2025-02-08T00:42:34.281Z"
   },
   {
    "duration": 12,
    "start_time": "2025-02-08T00:42:43.895Z"
   },
   {
    "duration": 13,
    "start_time": "2025-02-08T00:42:50.779Z"
   },
   {
    "duration": 12,
    "start_time": "2025-02-08T00:42:53.888Z"
   },
   {
    "duration": 8,
    "start_time": "2025-02-08T00:43:00.277Z"
   },
   {
    "duration": 8,
    "start_time": "2025-02-08T00:44:30.130Z"
   },
   {
    "duration": 12,
    "start_time": "2025-02-08T00:44:40.719Z"
   },
   {
    "duration": 12,
    "start_time": "2025-02-08T00:44:45.141Z"
   },
   {
    "duration": 10,
    "start_time": "2025-02-08T00:44:50.142Z"
   },
   {
    "duration": 14,
    "start_time": "2025-02-08T00:45:02.558Z"
   },
   {
    "duration": 12,
    "start_time": "2025-02-08T00:45:11.788Z"
   },
   {
    "duration": 20,
    "start_time": "2025-02-08T00:45:14.240Z"
   },
   {
    "duration": 13,
    "start_time": "2025-02-08T00:45:18.360Z"
   },
   {
    "duration": 12,
    "start_time": "2025-02-08T00:46:28.993Z"
   },
   {
    "duration": 13,
    "start_time": "2025-02-08T00:46:48.816Z"
   },
   {
    "duration": 5,
    "start_time": "2025-02-08T00:46:58.206Z"
   },
   {
    "duration": 17,
    "start_time": "2025-02-08T00:46:59.651Z"
   },
   {
    "duration": 19,
    "start_time": "2025-02-08T00:54:31.146Z"
   },
   {
    "duration": 5,
    "start_time": "2025-02-08T00:55:44.990Z"
   },
   {
    "duration": 16,
    "start_time": "2025-02-08T00:55:53.521Z"
   },
   {
    "duration": 12,
    "start_time": "2025-02-08T00:59:19.617Z"
   },
   {
    "duration": 9,
    "start_time": "2025-02-08T00:59:30.166Z"
   },
   {
    "duration": 13,
    "start_time": "2025-02-08T01:00:31.128Z"
   },
   {
    "duration": 6,
    "start_time": "2025-02-08T01:01:28.929Z"
   },
   {
    "duration": 13,
    "start_time": "2025-02-08T01:10:19.954Z"
   },
   {
    "duration": 1911,
    "start_time": "2025-02-08T01:10:34.459Z"
   },
   {
    "duration": 21,
    "start_time": "2025-02-08T01:10:39.584Z"
   },
   {
    "duration": 7,
    "start_time": "2025-02-08T01:10:59.225Z"
   },
   {
    "duration": 13,
    "start_time": "2025-02-08T01:11:01.111Z"
   },
   {
    "duration": 968,
    "start_time": "2025-02-08T01:11:05.826Z"
   },
   {
    "duration": 1013,
    "start_time": "2025-02-08T01:19:52.687Z"
   },
   {
    "duration": 8,
    "start_time": "2025-02-08T01:21:02.201Z"
   },
   {
    "duration": 1014,
    "start_time": "2025-02-08T01:23:08.366Z"
   },
   {
    "duration": 1000,
    "start_time": "2025-02-08T01:27:49.951Z"
   },
   {
    "duration": 1002,
    "start_time": "2025-02-08T01:27:56.822Z"
   },
   {
    "duration": 1116,
    "start_time": "2025-02-08T01:31:03.030Z"
   },
   {
    "duration": 975,
    "start_time": "2025-02-08T01:32:43.065Z"
   },
   {
    "duration": 7,
    "start_time": "2025-02-08T01:33:13.434Z"
   },
   {
    "duration": 958,
    "start_time": "2025-02-08T01:33:16.395Z"
   },
   {
    "duration": 16,
    "start_time": "2025-02-08T01:42:19.438Z"
   },
   {
    "duration": 13,
    "start_time": "2025-02-08T01:43:11.738Z"
   },
   {
    "duration": 6,
    "start_time": "2025-02-08T01:43:28.557Z"
   },
   {
    "duration": 144,
    "start_time": "2025-02-08T01:43:53.419Z"
   },
   {
    "duration": 3,
    "start_time": "2025-02-08T01:49:55.171Z"
   },
   {
    "duration": 15,
    "start_time": "2025-02-08T01:51:13.978Z"
   },
   {
    "duration": 3,
    "start_time": "2025-02-08T01:56:50.018Z"
   },
   {
    "duration": 9,
    "start_time": "2025-02-08T01:57:03.549Z"
   },
   {
    "duration": 8,
    "start_time": "2025-02-08T01:57:35.193Z"
   },
   {
    "duration": 325,
    "start_time": "2025-02-08T02:02:20.510Z"
   },
   {
    "duration": 6,
    "start_time": "2025-02-08T02:06:22.970Z"
   },
   {
    "duration": 5,
    "start_time": "2025-02-08T02:06:40.055Z"
   },
   {
    "duration": 39,
    "start_time": "2025-02-08T02:06:49.495Z"
   },
   {
    "duration": 5,
    "start_time": "2025-02-08T02:06:59.549Z"
   },
   {
    "duration": 5,
    "start_time": "2025-02-08T02:07:06.065Z"
   },
   {
    "duration": 7,
    "start_time": "2025-02-08T02:07:09.241Z"
   },
   {
    "duration": 6,
    "start_time": "2025-02-08T02:07:24.414Z"
   },
   {
    "duration": 8,
    "start_time": "2025-02-08T02:07:26.264Z"
   },
   {
    "duration": 18,
    "start_time": "2025-02-08T02:07:30.112Z"
   },
   {
    "duration": 10,
    "start_time": "2025-02-08T02:07:41.952Z"
   },
   {
    "duration": 19,
    "start_time": "2025-02-08T02:07:56.557Z"
   },
   {
    "duration": 16,
    "start_time": "2025-02-08T02:08:08.661Z"
   },
   {
    "duration": 15,
    "start_time": "2025-02-08T02:09:04.954Z"
   },
   {
    "duration": 16,
    "start_time": "2025-02-08T02:09:28.758Z"
   },
   {
    "duration": 15,
    "start_time": "2025-02-08T02:09:34.933Z"
   },
   {
    "duration": 3,
    "start_time": "2025-02-08T02:10:52.661Z"
   },
   {
    "duration": 4,
    "start_time": "2025-02-08T02:11:07.115Z"
   },
   {
    "duration": 4,
    "start_time": "2025-02-08T02:11:23.225Z"
   },
   {
    "duration": 2,
    "start_time": "2025-02-08T02:14:10.252Z"
   },
   {
    "duration": 448,
    "start_time": "2025-02-08T02:15:45.837Z"
   },
   {
    "duration": 3,
    "start_time": "2025-02-08T02:15:58.538Z"
   },
   {
    "duration": 3,
    "start_time": "2025-02-08T02:16:40.549Z"
   },
   {
    "duration": 13,
    "start_time": "2025-02-08T02:16:57.185Z"
   },
   {
    "duration": 3,
    "start_time": "2025-02-08T02:17:10.809Z"
   },
   {
    "duration": 3,
    "start_time": "2025-02-08T02:19:05.863Z"
   },
   {
    "duration": 3,
    "start_time": "2025-02-08T02:19:17.013Z"
   },
   {
    "duration": 3,
    "start_time": "2025-02-08T02:20:34.766Z"
   },
   {
    "duration": 4,
    "start_time": "2025-02-08T02:22:02.194Z"
   },
   {
    "duration": 18,
    "start_time": "2025-02-08T02:22:31.188Z"
   },
   {
    "duration": 65,
    "start_time": "2025-02-08T02:30:23.398Z"
   },
   {
    "duration": 113,
    "start_time": "2025-02-08T02:35:24.597Z"
   },
   {
    "duration": 3,
    "start_time": "2025-02-08T02:35:50.724Z"
   },
   {
    "duration": 4,
    "start_time": "2025-02-08T02:35:55.436Z"
   },
   {
    "duration": 855,
    "start_time": "2025-02-08T02:42:42.963Z"
   },
   {
    "duration": 6,
    "start_time": "2025-02-08T02:42:43.824Z"
   },
   {
    "duration": 15,
    "start_time": "2025-02-08T02:42:43.832Z"
   },
   {
    "duration": 5,
    "start_time": "2025-02-08T02:42:43.849Z"
   },
   {
    "duration": 18,
    "start_time": "2025-02-08T02:42:43.856Z"
   },
   {
    "duration": 5,
    "start_time": "2025-02-08T02:42:43.876Z"
   },
   {
    "duration": 44,
    "start_time": "2025-02-08T02:42:43.882Z"
   },
   {
    "duration": 5,
    "start_time": "2025-02-08T02:42:43.928Z"
   },
   {
    "duration": 16,
    "start_time": "2025-02-08T02:42:43.935Z"
   },
   {
    "duration": 7,
    "start_time": "2025-02-08T02:42:43.952Z"
   },
   {
    "duration": 6,
    "start_time": "2025-02-08T02:42:43.960Z"
   },
   {
    "duration": 5,
    "start_time": "2025-02-08T02:42:43.968Z"
   },
   {
    "duration": 1074,
    "start_time": "2025-02-08T02:42:43.975Z"
   },
   {
    "duration": 224,
    "start_time": "2025-02-08T02:42:45.052Z"
   },
   {
    "duration": 16,
    "start_time": "2025-02-08T02:42:45.277Z"
   },
   {
    "duration": 9,
    "start_time": "2025-02-08T02:42:45.295Z"
   },
   {
    "duration": 23,
    "start_time": "2025-02-08T02:42:45.306Z"
   },
   {
    "duration": 14,
    "start_time": "2025-02-08T02:42:45.331Z"
   },
   {
    "duration": 15,
    "start_time": "2025-02-08T02:42:45.346Z"
   },
   {
    "duration": 3,
    "start_time": "2025-02-08T02:42:45.363Z"
   },
   {
    "duration": 3,
    "start_time": "2025-02-08T02:42:45.368Z"
   },
   {
    "duration": 3,
    "start_time": "2025-02-08T02:42:45.373Z"
   },
   {
    "duration": 47,
    "start_time": "2025-02-08T02:42:45.378Z"
   },
   {
    "duration": 4,
    "start_time": "2025-02-08T02:42:45.427Z"
   },
   {
    "duration": 3,
    "start_time": "2025-02-08T02:42:45.433Z"
   },
   {
    "duration": 132,
    "start_time": "2025-02-08T02:42:45.438Z"
   },
   {
    "duration": 795,
    "start_time": "2025-02-08T13:35:05.327Z"
   },
   {
    "duration": 6,
    "start_time": "2025-02-08T13:35:06.124Z"
   },
   {
    "duration": 21,
    "start_time": "2025-02-08T13:35:06.132Z"
   },
   {
    "duration": 5,
    "start_time": "2025-02-08T13:35:06.154Z"
   },
   {
    "duration": 12,
    "start_time": "2025-02-08T13:35:06.161Z"
   },
   {
    "duration": 5,
    "start_time": "2025-02-08T13:35:06.175Z"
   },
   {
    "duration": 12,
    "start_time": "2025-02-08T13:35:06.182Z"
   },
   {
    "duration": 4,
    "start_time": "2025-02-08T13:35:06.196Z"
   },
   {
    "duration": 49,
    "start_time": "2025-02-08T13:35:06.202Z"
   },
   {
    "duration": 7,
    "start_time": "2025-02-08T13:35:06.253Z"
   },
   {
    "duration": 6,
    "start_time": "2025-02-08T13:35:06.261Z"
   },
   {
    "duration": 6,
    "start_time": "2025-02-08T13:35:06.268Z"
   },
   {
    "duration": 1028,
    "start_time": "2025-02-08T13:35:06.275Z"
   },
   {
    "duration": 207,
    "start_time": "2025-02-08T13:35:07.306Z"
   },
   {
    "duration": 14,
    "start_time": "2025-02-08T13:35:07.515Z"
   },
   {
    "duration": 19,
    "start_time": "2025-02-08T13:35:07.530Z"
   },
   {
    "duration": 5,
    "start_time": "2025-02-08T13:35:07.551Z"
   },
   {
    "duration": 14,
    "start_time": "2025-02-08T13:35:07.558Z"
   },
   {
    "duration": 14,
    "start_time": "2025-02-08T13:35:07.573Z"
   },
   {
    "duration": 3,
    "start_time": "2025-02-08T13:35:07.588Z"
   },
   {
    "duration": 3,
    "start_time": "2025-02-08T13:35:07.593Z"
   },
   {
    "duration": 4,
    "start_time": "2025-02-08T13:35:07.598Z"
   },
   {
    "duration": 3,
    "start_time": "2025-02-08T13:35:07.643Z"
   },
   {
    "duration": 4,
    "start_time": "2025-02-08T13:35:07.648Z"
   },
   {
    "duration": 3,
    "start_time": "2025-02-08T13:35:07.653Z"
   },
   {
    "duration": 134,
    "start_time": "2025-02-08T13:35:07.658Z"
   },
   {
    "duration": 3,
    "start_time": "2025-02-08T13:39:45.144Z"
   }
  ],
  "kernelspec": {
   "display_name": "Python 3 (ipykernel)",
   "language": "python",
   "name": "python3"
  },
  "language_info": {
   "codemirror_mode": {
    "name": "ipython",
    "version": 3
   },
   "file_extension": ".py",
   "mimetype": "text/x-python",
   "name": "python",
   "nbconvert_exporter": "python",
   "pygments_lexer": "ipython3",
   "version": "3.9.19"
  },
  "toc": {
   "base_numbering": 1,
   "nav_menu": {},
   "number_sections": true,
   "sideBar": true,
   "skip_h1_title": true,
   "title_cell": "Table of Contents",
   "title_sidebar": "Contents",
   "toc_cell": false,
   "toc_position": {},
   "toc_section_display": true,
   "toc_window_display": false
  }
 },
 "nbformat": 4,
 "nbformat_minor": 2
}
