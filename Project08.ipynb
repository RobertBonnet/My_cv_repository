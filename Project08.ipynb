{
 "cells": [
  {
   "cell_type": "markdown",
   "metadata": {},
   "source": [
    "# Hola &#x1F600;,\n",
    "\n",
    "Soy **Hesus Garcia** – **\"Soy el único Hesus que conoces (y probablemente conocerás) 🌟\"** – Sí, como \"Jesús\", pero con una H que me hace único. Puede sonar raro, pero créeme, ¡no lo olvidarás! Como tu revisor en Triple-Ten, estoy aquí para guiarte y ayudarte a mejorar tu código. Si algo necesita un ajuste, no hay de qué preocuparse; ¡aquí estoy para hacer que tu trabajo brille con todo su potencial! ✨\n",
    "\n",
    "Cada vez que encuentre un detalle importante en tu código, te lo señalaré para que puedas corregirlo y así te prepares para un ambiente de trabajo real, donde el líder de tu equipo actuaría de manera similar. Si en algún momento no logras solucionar el problema, te daré más detalles para ayudarte en nuestra próxima oportunidad de revisión.\n",
    "\n",
    "Es importante que cuando encuentres un comentario, **no los muevas, no los modifiques, ni los borres**.\n",
    "\n",
    "---\n",
    "\n",
    "### Formato de Comentarios\n",
    "\n",
    "Revisaré cuidadosamente cada implementación en tu notebook para asegurar que cumpla con los requisitos y te daré comentarios de acuerdo al siguiente formato:\n",
    "\n",
    "\n",
    "<div class=\"alert alert-block alert-success\">\n",
    "<b>Comentario del revisor</b> <a class=\"tocSkip\"></a><br>\n",
    "    \n",
    "<b>Éxito</b> - ¡Excelente trabajo! Esta parte está bien implementada y contribuye significativamente al análisis de datos o al proyecto. Continúa aplicando estas buenas prácticas en futuras secciones.\n",
    "    \n",
    "</div>\n",
    "\n",
    "<div class=\"alert alert-block alert-warning\">\n",
    "<b>Comentario del revisor</b> <a class=\"tocSkip\"></a><br>\n",
    "    \n",
    "<b>Atención</b> ⚠️ - Este código está correcto, pero se puede optimizar. Considera implementar mejoras para que sea más eficiente y fácil de leer. Esto fortalecerá la calidad de tu proyecto.\n",
    "    \n",
    "</div>\n",
    "\n",
    "<div class=\"alert alert-block alert-danger\">\n",
    "<b>Comentario del revisor</b> <a class=\"tocSkip\"></a><br>\n",
    "    \n",
    "<b>A resolver</b> ❗ - Aquí hay un problema o error en el código que es necesario corregir para aprobar esta sección. Por favor, revisa y corrige este punto, ya que es fundamental para la validez del análisis y la precisión de los resultados.\n",
    "    \n",
    "</div>\n",
    "\n",
    "---\n",
    "\n",
    "Al final de cada revisión, recibirás un **Comentario General del Revisor** que incluirá:\n",
    "\n",
    "- **Aspectos positivos:** Un resumen de los puntos fuertes de tu proyecto.\n",
    "- **Áreas de mejora:** Sugerencias sobre aspectos donde puedes mejorar.\n",
    "- **Temas adicionales para investigar:** Ideas de temas opcionales que puedes explorar por tu cuenta para desarrollar aún más tus habilidades.\n",
    "\n",
    "Estos temas adicionales no son obligatorios en esta etapa, pero pueden serte útiles para profundizar en el futuro.\n",
    "\n",
    "---\n",
    "\n",
    "\n",
    "Esta estructura en viñetas facilita la lectura y comprensión de cada parte del comentario final.\n",
    "\n",
    "También puedes responderme de la siguiente manera si tienes alguna duda o quieres aclarar algo específico:\n",
    "\n",
    "\n",
    "<div class=\"alert alert-block alert-info\">\n",
    "<b>Respuesta del estudiante</b> <a class=\"tocSkip\"></a>\n",
    "    \n",
    "Aquí puedes escribir tu respuesta o pregunta sobre el comentario.\n",
    "    \n",
    "</div>\n",
    "\n",
    "\n",
    "**¡Empecemos!** &#x1F680;\n",
    "\n",
    "\n",
    "\n",
    "\n",
    "\n",
    "\n",
    "\n",
    "\n",
    "\n",
    "\n",
    "\n",
    "\n"
   ]
  },
  {
   "cell_type": "code",
   "execution_count": 1,
   "metadata": {},
   "outputs": [],
   "source": [
    "import pandas as pd #Importar librería de pandas para manejo de DataFrames"
   ]
  },
  {
   "cell_type": "code",
   "execution_count": 2,
   "metadata": {},
   "outputs": [
    {
     "name": "stdout",
     "output_type": "stream",
     "text": [
      "      calls  minutes  messages   mb_used  is_ultra\n",
      "0      40.0   311.90      83.0  19915.42         0\n",
      "1      85.0   516.75      56.0  22696.96         0\n",
      "2      77.0   467.66      86.0  21060.45         0\n",
      "3     106.0   745.53      81.0   8437.39         1\n",
      "4      66.0   418.74       1.0  14502.75         0\n",
      "...     ...      ...       ...       ...       ...\n",
      "3209  122.0   910.98      20.0  35124.90         1\n",
      "3210   25.0   190.36       0.0   3275.61         0\n",
      "3211   97.0   634.44      70.0  13974.06         0\n",
      "3212   64.0   462.32      90.0  31239.78         0\n",
      "3213   80.0   566.09       6.0  29480.52         1\n",
      "\n",
      "[3214 rows x 5 columns]\n"
     ]
    }
   ],
   "source": [
    "df = pd.read_csv('/datasets/users_behavior.csv') #Leer el conjunto de datos y asignarlo a la variable df\n",
    "print(df) #Comprobar la lectura correcta"
   ]
  },
  {
   "cell_type": "code",
   "execution_count": 3,
   "metadata": {},
   "outputs": [
    {
     "name": "stdout",
     "output_type": "stream",
     "text": [
      "<class 'pandas.core.frame.DataFrame'>\n",
      "RangeIndex: 3214 entries, 0 to 3213\n",
      "Data columns (total 5 columns):\n",
      " #   Column    Non-Null Count  Dtype  \n",
      "---  ------    --------------  -----  \n",
      " 0   calls     3214 non-null   float64\n",
      " 1   minutes   3214 non-null   float64\n",
      " 2   messages  3214 non-null   float64\n",
      " 3   mb_used   3214 non-null   float64\n",
      " 4   is_ultra  3214 non-null   int64  \n",
      "dtypes: float64(4), int64(1)\n",
      "memory usage: 125.7 KB\n"
     ]
    }
   ],
   "source": [
    "df.info() #analizar el DataFrame"
   ]
  },
  {
   "cell_type": "code",
   "execution_count": 4,
   "metadata": {},
   "outputs": [
    {
     "data": {
      "text/html": [
       "<div>\n",
       "<style scoped>\n",
       "    .dataframe tbody tr th:only-of-type {\n",
       "        vertical-align: middle;\n",
       "    }\n",
       "\n",
       "    .dataframe tbody tr th {\n",
       "        vertical-align: top;\n",
       "    }\n",
       "\n",
       "    .dataframe thead th {\n",
       "        text-align: right;\n",
       "    }\n",
       "</style>\n",
       "<table border=\"1\" class=\"dataframe\">\n",
       "  <thead>\n",
       "    <tr style=\"text-align: right;\">\n",
       "      <th></th>\n",
       "      <th>calls</th>\n",
       "      <th>minutes</th>\n",
       "      <th>messages</th>\n",
       "      <th>mb_used</th>\n",
       "      <th>is_ultra</th>\n",
       "    </tr>\n",
       "  </thead>\n",
       "  <tbody>\n",
       "    <tr>\n",
       "      <th>count</th>\n",
       "      <td>3214.000000</td>\n",
       "      <td>3214.000000</td>\n",
       "      <td>3214.000000</td>\n",
       "      <td>3214.000000</td>\n",
       "      <td>3214.000000</td>\n",
       "    </tr>\n",
       "    <tr>\n",
       "      <th>mean</th>\n",
       "      <td>63.038892</td>\n",
       "      <td>438.208787</td>\n",
       "      <td>38.281269</td>\n",
       "      <td>17207.673836</td>\n",
       "      <td>0.306472</td>\n",
       "    </tr>\n",
       "    <tr>\n",
       "      <th>std</th>\n",
       "      <td>33.236368</td>\n",
       "      <td>234.569872</td>\n",
       "      <td>36.148326</td>\n",
       "      <td>7570.968246</td>\n",
       "      <td>0.461100</td>\n",
       "    </tr>\n",
       "    <tr>\n",
       "      <th>min</th>\n",
       "      <td>0.000000</td>\n",
       "      <td>0.000000</td>\n",
       "      <td>0.000000</td>\n",
       "      <td>0.000000</td>\n",
       "      <td>0.000000</td>\n",
       "    </tr>\n",
       "    <tr>\n",
       "      <th>25%</th>\n",
       "      <td>40.000000</td>\n",
       "      <td>274.575000</td>\n",
       "      <td>9.000000</td>\n",
       "      <td>12491.902500</td>\n",
       "      <td>0.000000</td>\n",
       "    </tr>\n",
       "    <tr>\n",
       "      <th>50%</th>\n",
       "      <td>62.000000</td>\n",
       "      <td>430.600000</td>\n",
       "      <td>30.000000</td>\n",
       "      <td>16943.235000</td>\n",
       "      <td>0.000000</td>\n",
       "    </tr>\n",
       "    <tr>\n",
       "      <th>75%</th>\n",
       "      <td>82.000000</td>\n",
       "      <td>571.927500</td>\n",
       "      <td>57.000000</td>\n",
       "      <td>21424.700000</td>\n",
       "      <td>1.000000</td>\n",
       "    </tr>\n",
       "    <tr>\n",
       "      <th>max</th>\n",
       "      <td>244.000000</td>\n",
       "      <td>1632.060000</td>\n",
       "      <td>224.000000</td>\n",
       "      <td>49745.730000</td>\n",
       "      <td>1.000000</td>\n",
       "    </tr>\n",
       "  </tbody>\n",
       "</table>\n",
       "</div>"
      ],
      "text/plain": [
       "             calls      minutes     messages       mb_used     is_ultra\n",
       "count  3214.000000  3214.000000  3214.000000   3214.000000  3214.000000\n",
       "mean     63.038892   438.208787    38.281269  17207.673836     0.306472\n",
       "std      33.236368   234.569872    36.148326   7570.968246     0.461100\n",
       "min       0.000000     0.000000     0.000000      0.000000     0.000000\n",
       "25%      40.000000   274.575000     9.000000  12491.902500     0.000000\n",
       "50%      62.000000   430.600000    30.000000  16943.235000     0.000000\n",
       "75%      82.000000   571.927500    57.000000  21424.700000     1.000000\n",
       "max     244.000000  1632.060000   224.000000  49745.730000     1.000000"
      ]
     },
     "execution_count": 4,
     "metadata": {},
     "output_type": "execute_result"
    }
   ],
   "source": [
    "df.describe()"
   ]
  },
  {
   "cell_type": "markdown",
   "metadata": {},
   "source": [
    "Aproximadamente un poco más del 30% de los usuarios han migrado al plan Ultra"
   ]
  },
  {
   "cell_type": "markdown",
   "metadata": {},
   "source": [
    "Los tipos de datos parecen ser los correctos. No existen valores ausentes."
   ]
  },
  {
   "cell_type": "code",
   "execution_count": 5,
   "metadata": {},
   "outputs": [],
   "source": [
    "import matplotlib.pyplot as plt #Importar módulo pyplot de la librería matplotlib para graficar"
   ]
  },
  {
   "cell_type": "code",
   "execution_count": 6,
   "metadata": {},
   "outputs": [
    {
     "data": {
      "image/png": "[encoded data removed]",
      "text/plain": [
       "<Figure size 600x400 with 1 Axes>"
      ]
     },
     "metadata": {},
     "output_type": "display_data"
    }
   ],
   "source": [
    "plt.figure(figsize=(6, 4))\n",
    "plt.hist(df['is_ultra'], bins=2, edgecolor='black', alpha=0.7)\n",
    "plt.xticks([0, 1], labels=[\"No Ultra\", \"Ultra\"])\n",
    "plt.xlabel(\"Categoría de Usuario\")\n",
    "plt.ylabel(\"Frecuencia\")\n",
    "plt.title(\"Distribución de Usuarios por Categoría (is_ultra)\")\n",
    "plt.grid(axis='y', linestyle='--', alpha=0.7)\n",
    "plt.show()"
   ]
  },
  {
   "cell_type": "code",
   "execution_count": 7,
   "metadata": {},
   "outputs": [
    {
     "data": {
      "image/png": "[encoded data removed]",
      "text/plain": [
       "<Figure size 1000x800 with 6 Axes>"
      ]
     },
     "metadata": {},
     "output_type": "display_data"
    }
   ],
   "source": [
    "# Crear histogramas para todas las variables numéricas en el DataFrame\n",
    "df.hist(figsize=(10, 8), bins=20, edgecolor='black', alpha=0.7)\n",
    "\n",
    "# Ajustar diseño\n",
    "plt.suptitle(\"Histogramas de todas las variables\", fontsize=16)\n",
    "plt.tight_layout()\n",
    "plt.show()\n"
   ]
  },
  {
   "cell_type": "markdown",
   "metadata": {},
   "source": [
    "<div class=\"alert alert-block alert-danger\">\n",
    "<b>Comentario del revisor</b> <a class=\"tocSkip\"></a><br>\n",
    "\n",
    "❗ A resolver - No se realizó una exploración detallada de los datos antes del modelado.\n",
    "\n",
    "📌 Problema:\n",
    "Solo se utilizó df.info() para revisar la estructura del dataset, pero no se incluyeron estadísticas descriptivas (df.describe()) ni gráficos exploratorios (como histogramas o distribuciones de las variables). Esto es importante para detectar valores atípicos o problemas en los datos antes del entrenamiento del modelo.\n",
    "\n",
    "📌 Solución recomendada:\n",
    "\n",
    "Incluir df.describe() para ver estadísticas básicas de las variables.\n",
    "Graficar histogramas (df.hist()) para visualizar la distribución de las características.\n",
    "Verificar si is_ultra está equilibrado en el dataset usando df['is_ultra'].value_counts(normalize=True).\n",
    "</div>"
   ]
  },
  {
   "cell_type": "markdown",
   "metadata": {},
   "source": [
    "# Segmenta los datos fuente en un conjunto de entrenamiento, uno de validación y uno de prueba."
   ]
  },
  {
   "cell_type": "code",
   "execution_count": 8,
   "metadata": {},
   "outputs": [],
   "source": [
    "from sklearn.model_selection import train_test_split #Importar el paquete encargado de dividir en conjunto de entramiento y de prueba"
   ]
  },
  {
   "cell_type": "code",
   "execution_count": 9,
   "metadata": {},
   "outputs": [],
   "source": [
    "features = df.drop(['is_ultra'], axis=1) #Seleccionar las caracteristicas del df\n",
    "target = df['is_ultra'] #Seleccionar el objetivo del df"
   ]
  },
  {
   "cell_type": "code",
   "execution_count": 10,
   "metadata": {},
   "outputs": [],
   "source": [
    "train_features, valid_test_features, train_target, valid_test_target = train_test_split(features, target, random_state=12345, test_size=0.40)\n",
    "#Dividir features y target en conjuntos de entrenamiento y de validación_test en un ratio 60:40"
   ]
  },
  {
   "cell_type": "code",
   "execution_count": 11,
   "metadata": {},
   "outputs": [],
   "source": [
    "valid_features, test_features, valid_target, test_target = train_test_split(valid_test_features, valid_test_target, random_state=12345, test_size=0.5)\n",
    "#Dividir valid_test_features y valid_test_target en conjunto de datos para validación y para prueba en un ratio 50:50"
   ]
  },
  {
   "cell_type": "markdown",
   "metadata": {},
   "source": [
    "La proporción final para el conjunto de datos divididos de entrenamiento, validación y prueba es de 60:20:20"
   ]
  },
  {
   "cell_type": "code",
   "execution_count": 12,
   "metadata": {},
   "outputs": [
    {
     "name": "stdout",
     "output_type": "stream",
     "text": [
      "(1928, 4)\n",
      "\n",
      "(1928,)\n",
      "\n",
      "(643, 4)\n",
      "\n",
      "(643,)\n",
      "\n",
      "(643, 4)\n",
      "\n",
      "(643,)\n"
     ]
    }
   ],
   "source": [
    "print(train_features.shape)\n",
    "print()\n",
    "print(train_target.shape)\n",
    "print()\n",
    "print(valid_features.shape)\n",
    "print()\n",
    "print(valid_target.shape)\n",
    "print()\n",
    "print(test_features.shape)\n",
    "print()\n",
    "print(test_target.shape)"
   ]
  },
  {
   "cell_type": "markdown",
   "metadata": {},
   "source": [
    "Comprobamos con el código anterior que la división fue correcta con la proporción deseada 60:20:20"
   ]
  },
  {
   "cell_type": "code",
   "execution_count": 13,
   "metadata": {},
   "outputs": [
    {
     "data": {
      "text/plain": [
       "0    0.692427\n",
       "1    0.307573\n",
       "Name: is_ultra, dtype: float64"
      ]
     },
     "execution_count": 13,
     "metadata": {},
     "output_type": "execute_result"
    }
   ],
   "source": [
    "train_target.value_counts(normalize=True)"
   ]
  },
  {
   "cell_type": "code",
   "execution_count": 14,
   "metadata": {},
   "outputs": [
    {
     "data": {
      "text/plain": [
       "0    0.706065\n",
       "1    0.293935\n",
       "Name: is_ultra, dtype: float64"
      ]
     },
     "execution_count": 14,
     "metadata": {},
     "output_type": "execute_result"
    }
   ],
   "source": [
    "valid_target.value_counts(normalize=True)"
   ]
  },
  {
   "cell_type": "code",
   "execution_count": 15,
   "metadata": {},
   "outputs": [
    {
     "data": {
      "text/plain": [
       "0    0.684292\n",
       "1    0.315708\n",
       "Name: is_ultra, dtype: float64"
      ]
     },
     "execution_count": 15,
     "metadata": {},
     "output_type": "execute_result"
    }
   ],
   "source": [
    "test_target.value_counts(normalize=True)"
   ]
  },
  {
   "cell_type": "markdown",
   "metadata": {},
   "source": [
    "La distribución de la variable dicotómica se mantuvo similar (70:30) tras la segmentación en los 3 conjuntos de entrenamient, validación y prueba"
   ]
  },
  {
   "cell_type": "markdown",
   "metadata": {},
   "source": [
    "<div class=\"alert alert-block alert-danger\">\n",
    "<b>Comentario del revisor</b> <a class=\"tocSkip\"></a><br>\n",
    "\n",
    "❗ A resolver - No se verificó el balance de clases en la segmentación de datos.\n",
    "\n",
    "📌 Problema:\n",
    "Se dividieron los datos en conjuntos de entrenamiento, validación y prueba con una proporción de 60:20:20, lo cual está bien, pero no se verificó si la variable objetivo (is_ultra) mantiene una distribución similar en cada conjunto. Si hay un desbalance de clases, el modelo puede aprender de manera sesgada.\n",
    "\n",
    "📌 Solución recomendada:\n",
    "\n",
    "Revisar train_target.value_counts(normalize=True), valid_target.value_counts(normalize=True), y test_target.value_counts(normalize=True).\n",
    "Si hay una diferencia significativa en la distribución, usar StratifiedShuffleSplit para garantizar un reparto más equilibrado de las clases en cada conjunto.\n",
    "</div>"
   ]
  },
  {
   "cell_type": "markdown",
   "metadata": {},
   "source": [
    "<div class=\"alert alert-block alert-info\">\n",
    "<b>Respuesta del estudiante</b> <a class=\"tocSkip\"></a>\n",
    "    \n",
    "Muchas gracias por esta recomendación. Desconocía el parámetro normalize del método value_counts. Aunque se espera que una división al azar mantenga una similar proporción tras su segmentación, es buena práctica verificar si efectivamente la proporción de las variables del objetivo se mantiene equitativa.\n",
    "    \n",
    "</div>\n"
   ]
  },
  {
   "cell_type": "markdown",
   "metadata": {},
   "source": [
    "<div class=\"alert alert-block alert-info\"> \n",
    "<b>Comentario del revisor</b> <a class=\"tocSkip\"></a><br> \n",
    "    \n",
    " ¡Gracias a ti Robert! Es genial ver tu interés en comprender mejor estas herramientas. Para profundizar aún más en su uso, te recomiendo leer la documentación oficial de las bibliotecas como **Pandas**, **NumPy** y otras que utilices en tu análisis. Las API de estas paqueterías ofrecen ejemplos detallados y explicaciones que pueden ayudarte a descubrir nuevas funcionalidades y optimizar tu código. ¡Sigue explorando y aprendiendo! \n",
    "</div>\n"
   ]
  },
  {
   "cell_type": "markdown",
   "metadata": {},
   "source": [
    "# Investiga la calidad de diferentes modelos cambiando los hiperparámetros. Describe brevemente los hallazgos del estudio."
   ]
  },
  {
   "cell_type": "code",
   "execution_count": 16,
   "metadata": {},
   "outputs": [],
   "source": [
    "from sklearn.tree import DecisionTreeClassifier #Importar el paquete árbol de decisión\n",
    "from sklearn.metrics import accuracy_score #Importar el paquete accuracy_score"
   ]
  },
  {
   "cell_type": "code",
   "execution_count": 17,
   "metadata": {},
   "outputs": [
    {
     "name": "stdout",
     "output_type": "stream",
     "text": [
      "max_depth = 1 : 0.7542768273716952\n",
      "max_depth = 2 : 0.7822706065318819\n",
      "max_depth = 3 : 0.7853810264385692\n",
      "max_depth = 4 : 0.7791601866251944\n",
      "max_depth = 5 : 0.7791601866251944\n"
     ]
    }
   ],
   "source": [
    "for max_depth in range(1, 6):\n",
    "    tree_model = DecisionTreeClassifier(max_depth=max_depth, random_state=12345)\n",
    "    tree_model.fit(train_features, train_target)\n",
    "    train_predictions = tree_model.predict(train_features)\n",
    "    valid_predictions = tree_model.predict(valid_features)\n",
    "    print(f\"max_depth = {max_depth} :\", accuracy_score(valid_target, valid_predictions))"
   ]
  },
  {
   "cell_type": "markdown",
   "metadata": {},
   "source": [
    "El árbol de decisión con profundidad máxima de 3 tiene la mayor exactitud (78.5%)"
   ]
  },
  {
   "cell_type": "code",
   "execution_count": 18,
   "metadata": {},
   "outputs": [],
   "source": [
    "from sklearn.ensemble import RandomForestClassifier #Importar el paquete bosque aleatorio"
   ]
  },
  {
   "cell_type": "code",
   "execution_count": 19,
   "metadata": {},
   "outputs": [],
   "source": [
    "from sklearn.model_selection import GridSearchCV"
   ]
  },
  {
   "cell_type": "code",
   "execution_count": 20,
   "metadata": {},
   "outputs": [
    {
     "name": "stdout",
     "output_type": "stream",
     "text": [
      "Fitting 5 folds for each of 81 candidates, totalling 405 fits\n",
      "Mejores hiperparámetros: {'max_depth': None, 'min_samples_leaf': 4, 'min_samples_split': 2, 'n_estimators': 100}\n",
      "Exactitud en prueba: 0.8040435458786936\n"
     ]
    }
   ],
   "source": [
    "# 1️⃣ Definir el modelo base\n",
    "forest_model = RandomForestClassifier(random_state=54321)\n",
    "\n",
    "# 2️⃣ Definir el espacio de búsqueda de hiperparámetros\n",
    "param_grid = {\n",
    "    'n_estimators': [10, 50, 100],   # Número de árboles en el bosque\n",
    "    'max_depth': [3, 5, None],       # Profundidad máxima de los árboles\n",
    "    'min_samples_split': [2, 5, 10], # Muestras mínimas para dividir un nodo\n",
    "    'min_samples_leaf': [1, 2, 4]    # Muestras mínimas en una hoja\n",
    "}\n",
    "\n",
    "# 3️⃣ Configurar `GridSearchCV`\n",
    "grid_search = GridSearchCV(\n",
    "    forest_model, param_grid, cv=5, scoring='accuracy', n_jobs=-1, verbose=1\n",
    ")\n",
    "\n",
    "# 4️⃣ Entrenar el modelo y encontrar los mejores hiperparámetros\n",
    "grid_search.fit(train_features, train_target)\n",
    "\n",
    "# Obtener el mejor modelo entrenado\n",
    "best_rf = grid_search.best_estimator_\n",
    "\n",
    "# Evaluar en el conjunto de prueba\n",
    "test_predictions = best_rf.predict(test_features)\n",
    "test_accuracy = accuracy_score(test_target, test_predictions)\n",
    "\n",
    "# Mostrar los mejores hiperparámetros y la precisión final\n",
    "print(\"Mejores hiperparámetros:\", grid_search.best_params_)\n",
    "print(\"Exactitud en prueba:\", test_accuracy)"
   ]
  },
  {
   "cell_type": "markdown",
   "metadata": {},
   "source": [
    "El bosque aleatorio con 40 estimadores tiene la mayor exactitud (80.4%)"
   ]
  },
  {
   "cell_type": "code",
   "execution_count": 21,
   "metadata": {},
   "outputs": [],
   "source": [
    "from sklearn.linear_model import LogisticRegression #Importar el paquete de regresión logística de scikitlearn"
   ]
  },
  {
   "cell_type": "code",
   "execution_count": 22,
   "metadata": {},
   "outputs": [
    {
     "name": "stdout",
     "output_type": "stream",
     "text": [
      "Accuracy del modelo de regresión logística en el conjunto de entrenamiento: 0.7505186721991701\n",
      "Accuracy del modelo de regresión logística en el conjunto de validación: 0.7589424572317263\n"
     ]
    }
   ],
   "source": [
    "logistic_model = LogisticRegression(random_state=54321, solver='liblinear')# inicializa el constructor de regresión logística con los parámetros random_state=54321 y solver='liblinear'\n",
    "logistic_model.fit(train_features, train_target) # entrena el modelo en el conjunto de entrenamiento\n",
    "score_train = logistic_model.score(train_features, train_target) # calcula la puntuación de accuracy en el conjunto de entrenamiento\n",
    "score_valid = logistic_model.score(valid_features, valid_target) # calcula la puntuación de accuracy en el conjunto de validación\n",
    "\n",
    "print(\"Accuracy del modelo de regresión logística en el conjunto de entrenamiento:\", score_train)\n",
    "print(\"Accuracy del modelo de regresión logística en el conjunto de validación:\", score_valid)"
   ]
  },
  {
   "cell_type": "markdown",
   "metadata": {},
   "source": [
    "El modelo de regresión logística arrojó el valor más bajo de exactitud de los 3 modelos categóricos (75.9%)"
   ]
  },
  {
   "cell_type": "markdown",
   "metadata": {},
   "source": [
    "# Seleccionaremos el modelo de bosque aleatorio para comprobar la calidad del modelo usando el conjunto de prueba"
   ]
  },
  {
   "cell_type": "code",
   "execution_count": 23,
   "metadata": {},
   "outputs": [
    {
     "name": "stdout",
     "output_type": "stream",
     "text": [
      "La exactitud del mejor de los 3 modelos en el conjunto de prueba es: 0.8040435458786936\n"
     ]
    }
   ],
   "source": [
    "final_model = best_rf\n",
    "final_model.fit(train_features, train_target) #Entrenar el modelo con el conjunto de entrenamiento\n",
    "final_score = final_model.score(test_features, test_target) # calcula la puntuación de accuracy en el conjunto de prueba\n",
    "print(\"La exactitud del mejor de los 3 modelos en el conjunto de prueba es:\", final_score)"
   ]
  },
  {
   "cell_type": "markdown",
   "metadata": {},
   "source": [
    "# Prueba de cordura"
   ]
  },
  {
   "cell_type": "markdown",
   "metadata": {},
   "source": [
    "Realizaremos una predicción en los datos de entrenamiento con el mejor modelo anterior seleccionado. La predicción se espera que sea muy cercana al 100%:"
   ]
  },
  {
   "cell_type": "code",
   "execution_count": 24,
   "metadata": {},
   "outputs": [
    {
     "name": "stdout",
     "output_type": "stream",
     "text": [
      "0.891597510373444\n"
     ]
    }
   ],
   "source": [
    "sanity_check = final_model.score(train_features, train_target)\n",
    "print(sanity_check)"
   ]
  },
  {
   "cell_type": "markdown",
   "metadata": {},
   "source": [
    "Encontramos una diferencia de <10% entre la exactitud con el conjunto de datos de entrenamiento comparado con los de prueba."
   ]
  },
  {
   "cell_type": "markdown",
   "metadata": {},
   "source": [
    "<div class=\"alert alert-block alert-danger\">\n",
    "<b>Comentario del revisor</b> <a class=\"tocSkip\"></a><br>\n",
    "\n",
    "❗ A resolver - Posible sobreajuste en RandomForestClassifier.\n",
    "\n",
    "📌 Problema:\n",
    "El sanity check mostró que el modelo de RandomForestClassifier tiene una exactitud de 99.9% en entrenamiento, lo cual es demasiado alto y sugiere sobreajuste. Esto significa que el modelo ha memorizado demasiado bien los datos de entrenamiento y puede no generalizar bien a nuevos datos.\n",
    "\n",
    "📌 Solución recomendada:\n",
    "\n",
    "Verificar la diferencia entre la exactitud en entrenamiento y prueba. Si la diferencia es grande, es un indicio claro de sobreajuste.\n",
    "Reducir la profundidad del árbol (max_depth) o limitar el número de características en RandomForestClassifier.\n",
    "Agregar regularización con min_samples_split y min_samples_leaf para reducir el sobreajuste.\n",
    "</div>"
   ]
  },
  {
   "cell_type": "markdown",
   "metadata": {},
   "source": [
    "<div class=\"alert alert-block alert-info\">\n",
    "<b>Respuesta del estudiante</b> <a class=\"tocSkip\"></a>\n",
    "    \n",
    "Gracias por esta aclaración. Tenía erróneamente entendido que lo mejor era tener una exactitud cercana al 100% en el conjunto de entrenamiento. Ahora me queda claro que la exactitud en los datos de entrenamiento y los de prueba deben ser similares.\n",
    "    \n",
    "</div>"
   ]
  },
  {
   "cell_type": "markdown",
   "metadata": {},
   "source": [
    "---\n",
    "\n",
    "## 📌 **Comentario General del Revisor**  \n",
    "\n",
    "<div class=\"alert alert-block alert-success\">\n",
    "\n",
    "<b>Comentario del revisor</b> <a class=\"tocSkip\"></a>\n",
    "\n",
    "🎉 **¡Felicidades!** Tu proyecto está bien estructurado y sigue un flujo lógico desde la exploración de datos hasta la implementación y evaluación del modelo. Se probaron diferentes enfoques de clasificación y se documentaron los hallazgos de manera clara.  \n",
    "\n",
    "### ✅ **Puntos Fuertes del Proyecto:**  \n",
    "✔ **Segmentación de datos bien realizada:** La división 60:20:20 es adecuada para evaluar modelos de clasificación.  \n",
    "✔ **Comparación de múltiples modelos:** Se probaron `DecisionTree`, `RandomForest` y `LogisticRegression`, lo que permite una mejor toma de decisiones.  \n",
    "✔ **Optimización de hiperparámetros:** Se realizó una búsqueda iterativa para ajustar `max_depth` y `n_estimators`.  \n",
    "✔ **Evaluación y prueba de cordura:** Se utilizó `sanity check` para verificar el aprendizaje del modelo.  \n",
    "\n",
    "### 🛠 **Áreas de Mejora y Sugerencias:**  \n",
    "🔹 **Exploración de datos más profunda:** Incluir estadísticas descriptivas para detectar valores atípicos.  \n",
    "🔹 **Verificación de balance en la segmentación:** Asegurar que `is_ultra` tenga una distribución similar en los conjuntos de entrenamiento, validación y prueba.  \n",
    "🔹 **Uso de `GridSearchCV` para optimización:** Facilitar la búsqueda de hiperparámetros de manera más eficiente.  \n",
    "🔹 **Manejo del posible sobreajuste en `RandomForestClassifier`**: Considerar reducir la profundidad del árbol o aplicar técnicas de regularización.  \n",
    "\n",
    "### 🚀 **Conclusión Final:**  \n",
    "El proyecto cumple con los objetivos planteados y la implementación del modelo es sólida. Con algunos ajustes en la optimización de hiperparámetros y la verificación del sobreajuste, podrías mejorar aún más la generalización del modelo. ¡Gran trabajo, sigue adelante! 💪🔥  \n",
    "\n",
    "</div>"
   ]
  },
  {
   "cell_type": "markdown",
   "metadata": {},
   "source": [
    "\n",
    "<div class=\"alert alert-block alert-success\"> \n",
    "<b>Comentario del revisor</b> <a class=\"tocSkip\"></a><br> \n",
    "    \n",
    "¡Felicidades Robert! Tu proyecto está **aprobado**. Se nota el esfuerzo y la dedicación que has puesto en cada etapa del análisis. Agradezco el tiempo que tomaste para realizar los ajustes y la apertura con la que aceptaste las sugerencias. Esa actitud de aprendizaje continuo es clave para seguir mejorando en ciencia de datos. \n",
    "\n",
    "Has logrado un excelente trabajo aplicando las herramientas adecuadas y fortaleciendo tu comprensión de los conceptos clave. Te animo a seguir explorando nuevas técnicas y profundizando en el uso de las bibliotecas para optimizar aún más tu código. ¡Sigue adelante con este gran compromiso y entusiasmo! \n",
    "</div>\n"
   ]
  },
  {
   "cell_type": "code",
   "execution_count": null,
   "metadata": {},
   "outputs": [],
   "source": []
  }
 ],
 "metadata": {
  "ExecuteTimeLog": [
   {
    "duration": 304,
    "start_time": "2025-02-16T15:00:14.383Z"
   },
   {
    "duration": 183,
    "start_time": "2025-02-16T15:00:41.362Z"
   },
   {
    "duration": 15,
    "start_time": "2025-02-16T15:00:55.904Z"
   },
   {
    "duration": 13,
    "start_time": "2025-02-16T15:02:35.356Z"
   },
   {
    "duration": 10,
    "start_time": "2025-02-16T15:02:45.257Z"
   },
   {
    "duration": 470,
    "start_time": "2025-02-16T15:06:39.712Z"
   },
   {
    "duration": 3,
    "start_time": "2025-02-16T15:33:10.358Z"
   },
   {
    "duration": 5,
    "start_time": "2025-02-16T15:33:12.703Z"
   },
   {
    "duration": 79,
    "start_time": "2025-02-16T15:39:23.011Z"
   },
   {
    "duration": 345,
    "start_time": "2025-02-16T15:42:31.313Z"
   },
   {
    "duration": 17,
    "start_time": "2025-02-16T15:42:31.661Z"
   },
   {
    "duration": 12,
    "start_time": "2025-02-16T15:42:31.681Z"
   },
   {
    "duration": 517,
    "start_time": "2025-02-16T15:42:31.696Z"
   },
   {
    "duration": 5,
    "start_time": "2025-02-16T15:42:32.215Z"
   },
   {
    "duration": 5,
    "start_time": "2025-02-16T15:42:32.222Z"
   },
   {
    "duration": 4,
    "start_time": "2025-02-16T15:42:32.228Z"
   },
   {
    "duration": 15,
    "start_time": "2025-02-16T15:46:20.831Z"
   },
   {
    "duration": 14,
    "start_time": "2025-02-16T15:46:32.783Z"
   },
   {
    "duration": 143,
    "start_time": "2025-02-16T15:46:54.042Z"
   },
   {
    "duration": 108,
    "start_time": "2025-02-16T15:47:26.920Z"
   },
   {
    "duration": 24,
    "start_time": "2025-02-16T15:47:52.385Z"
   },
   {
    "duration": 14,
    "start_time": "2025-02-16T15:48:02.288Z"
   },
   {
    "duration": 15,
    "start_time": "2025-02-16T15:48:16.615Z"
   },
   {
    "duration": 3,
    "start_time": "2025-02-16T15:49:09.776Z"
   },
   {
    "duration": 646,
    "start_time": "2025-02-16T17:33:40.210Z"
   },
   {
    "duration": 294,
    "start_time": "2025-02-16T17:33:50.758Z"
   },
   {
    "duration": 18,
    "start_time": "2025-02-16T17:33:51.054Z"
   },
   {
    "duration": 8,
    "start_time": "2025-02-16T17:33:51.073Z"
   },
   {
    "duration": 433,
    "start_time": "2025-02-16T17:33:51.084Z"
   },
   {
    "duration": 3,
    "start_time": "2025-02-16T17:33:51.519Z"
   },
   {
    "duration": 4,
    "start_time": "2025-02-16T17:33:51.524Z"
   },
   {
    "duration": 3,
    "start_time": "2025-02-16T17:33:51.530Z"
   },
   {
    "duration": 4,
    "start_time": "2025-02-16T17:33:51.535Z"
   },
   {
    "duration": 26,
    "start_time": "2025-02-16T17:33:51.540Z"
   },
   {
    "duration": 249,
    "start_time": "2025-02-16T17:33:51.569Z"
   },
   {
    "duration": 20,
    "start_time": "2025-02-16T17:35:00.673Z"
   },
   {
    "duration": 30,
    "start_time": "2025-02-16T17:36:09.615Z"
   },
   {
    "duration": 65,
    "start_time": "2025-02-16T17:37:19.155Z"
   },
   {
    "duration": 155,
    "start_time": "2025-02-16T17:37:36.496Z"
   },
   {
    "duration": 65,
    "start_time": "2025-02-16T17:37:56.706Z"
   },
   {
    "duration": 29,
    "start_time": "2025-02-16T17:38:21.145Z"
   },
   {
    "duration": 19,
    "start_time": "2025-02-16T17:42:45.229Z"
   },
   {
    "duration": 8,
    "start_time": "2025-02-16T17:42:49.945Z"
   },
   {
    "duration": 203,
    "start_time": "2025-02-16T17:42:52.309Z"
   },
   {
    "duration": 4018,
    "start_time": "2025-02-16T17:43:17.219Z"
   },
   {
    "duration": 15429,
    "start_time": "2025-02-16T17:43:29.131Z"
   },
   {
    "duration": 688,
    "start_time": "2025-02-16T17:43:51.356Z"
   },
   {
    "duration": 15490,
    "start_time": "2025-02-16T17:44:04.473Z"
   },
   {
    "duration": 3977,
    "start_time": "2025-02-16T17:44:27.920Z"
   },
   {
    "duration": 3,
    "start_time": "2025-02-16T17:46:57.689Z"
   },
   {
    "duration": 13,
    "start_time": "2025-02-16T17:51:10.447Z"
   },
   {
    "duration": 127,
    "start_time": "2025-02-16T18:10:55.195Z"
   },
   {
    "duration": 3981,
    "start_time": "2025-02-16T18:12:29.430Z"
   },
   {
    "duration": 329,
    "start_time": "2025-02-16T18:12:46.727Z"
   },
   {
    "duration": 12,
    "start_time": "2025-02-16T18:12:47.058Z"
   },
   {
    "duration": 8,
    "start_time": "2025-02-16T18:12:47.073Z"
   },
   {
    "duration": 498,
    "start_time": "2025-02-16T18:12:47.083Z"
   },
   {
    "duration": 4,
    "start_time": "2025-02-16T18:12:47.584Z"
   },
   {
    "duration": 4,
    "start_time": "2025-02-16T18:12:47.589Z"
   },
   {
    "duration": 15,
    "start_time": "2025-02-16T18:12:47.595Z"
   },
   {
    "duration": 5,
    "start_time": "2025-02-16T18:12:47.612Z"
   },
   {
    "duration": 27,
    "start_time": "2025-02-16T18:12:47.619Z"
   },
   {
    "duration": 29,
    "start_time": "2025-02-16T18:12:47.648Z"
   },
   {
    "duration": 8,
    "start_time": "2025-02-16T18:12:47.678Z"
   },
   {
    "duration": 3997,
    "start_time": "2025-02-16T18:12:47.709Z"
   },
   {
    "duration": 2,
    "start_time": "2025-02-16T18:12:51.710Z"
   },
   {
    "duration": 13,
    "start_time": "2025-02-16T18:12:51.716Z"
   },
   {
    "duration": 142,
    "start_time": "2025-02-16T18:12:51.731Z"
   },
   {
    "duration": 4019,
    "start_time": "2025-02-16T18:13:56.967Z"
   },
   {
    "duration": 268,
    "start_time": "2025-02-16T18:14:10.199Z"
   },
   {
    "duration": 12,
    "start_time": "2025-02-16T18:14:10.469Z"
   },
   {
    "duration": 8,
    "start_time": "2025-02-16T18:14:10.483Z"
   },
   {
    "duration": 476,
    "start_time": "2025-02-16T18:14:10.493Z"
   },
   {
    "duration": 3,
    "start_time": "2025-02-16T18:14:10.972Z"
   },
   {
    "duration": 4,
    "start_time": "2025-02-16T18:14:10.977Z"
   },
   {
    "duration": 4,
    "start_time": "2025-02-16T18:14:10.982Z"
   },
   {
    "duration": 3,
    "start_time": "2025-02-16T18:14:10.988Z"
   },
   {
    "duration": 43,
    "start_time": "2025-02-16T18:14:10.992Z"
   },
   {
    "duration": 27,
    "start_time": "2025-02-16T18:14:11.037Z"
   },
   {
    "duration": 7,
    "start_time": "2025-02-16T18:14:11.066Z"
   },
   {
    "duration": 4014,
    "start_time": "2025-02-16T18:14:11.074Z"
   },
   {
    "duration": 2,
    "start_time": "2025-02-16T18:14:15.090Z"
   },
   {
    "duration": 21,
    "start_time": "2025-02-16T18:14:15.095Z"
   },
   {
    "duration": 144,
    "start_time": "2025-02-16T18:14:15.118Z"
   },
   {
    "duration": 130,
    "start_time": "2025-02-16T18:15:10.972Z"
   },
   {
    "duration": 301,
    "start_time": "2025-02-16T18:21:01.312Z"
   },
   {
    "duration": 12,
    "start_time": "2025-02-16T18:21:01.615Z"
   },
   {
    "duration": 9,
    "start_time": "2025-02-16T18:21:01.629Z"
   },
   {
    "duration": 465,
    "start_time": "2025-02-16T18:21:01.640Z"
   },
   {
    "duration": 3,
    "start_time": "2025-02-16T18:21:02.107Z"
   },
   {
    "duration": 4,
    "start_time": "2025-02-16T18:21:02.112Z"
   },
   {
    "duration": 3,
    "start_time": "2025-02-16T18:21:02.118Z"
   },
   {
    "duration": 3,
    "start_time": "2025-02-16T18:21:02.123Z"
   },
   {
    "duration": 27,
    "start_time": "2025-02-16T18:21:02.128Z"
   },
   {
    "duration": 53,
    "start_time": "2025-02-16T18:21:02.158Z"
   },
   {
    "duration": 8,
    "start_time": "2025-02-16T18:21:02.216Z"
   },
   {
    "duration": 3962,
    "start_time": "2025-02-16T18:21:02.225Z"
   },
   {
    "duration": 3,
    "start_time": "2025-02-16T18:21:06.189Z"
   },
   {
    "duration": 22,
    "start_time": "2025-02-16T18:21:06.194Z"
   },
   {
    "duration": 135,
    "start_time": "2025-02-16T18:21:06.217Z"
   },
   {
    "duration": 14,
    "start_time": "2025-02-16T18:23:25.087Z"
   },
   {
    "duration": 291,
    "start_time": "2025-02-16T18:24:27.266Z"
   },
   {
    "duration": 12,
    "start_time": "2025-02-16T18:24:27.559Z"
   },
   {
    "duration": 9,
    "start_time": "2025-02-16T18:24:27.573Z"
   },
   {
    "duration": 484,
    "start_time": "2025-02-16T18:24:27.583Z"
   },
   {
    "duration": 3,
    "start_time": "2025-02-16T18:24:28.070Z"
   },
   {
    "duration": 4,
    "start_time": "2025-02-16T18:24:28.075Z"
   },
   {
    "duration": 4,
    "start_time": "2025-02-16T18:24:28.080Z"
   },
   {
    "duration": 4,
    "start_time": "2025-02-16T18:24:28.086Z"
   },
   {
    "duration": 42,
    "start_time": "2025-02-16T18:24:28.092Z"
   },
   {
    "duration": 28,
    "start_time": "2025-02-16T18:24:28.135Z"
   },
   {
    "duration": 9,
    "start_time": "2025-02-16T18:24:28.164Z"
   },
   {
    "duration": 3988,
    "start_time": "2025-02-16T18:24:28.175Z"
   },
   {
    "duration": 2,
    "start_time": "2025-02-16T18:24:32.165Z"
   },
   {
    "duration": 12,
    "start_time": "2025-02-16T18:24:32.170Z"
   },
   {
    "duration": 144,
    "start_time": "2025-02-16T18:24:32.183Z"
   },
   {
    "duration": 14,
    "start_time": "2025-02-16T18:24:32.329Z"
   },
   {
    "duration": 156,
    "start_time": "2025-02-17T22:21:43.045Z"
   },
   {
    "duration": 312,
    "start_time": "2025-02-17T22:21:56.779Z"
   },
   {
    "duration": 19,
    "start_time": "2025-02-17T22:21:57.095Z"
   },
   {
    "duration": 10,
    "start_time": "2025-02-17T22:21:57.116Z"
   },
   {
    "duration": 21,
    "start_time": "2025-02-17T22:21:57.128Z"
   },
   {
    "duration": 524,
    "start_time": "2025-02-17T22:21:57.152Z"
   },
   {
    "duration": 4,
    "start_time": "2025-02-17T22:21:57.678Z"
   },
   {
    "duration": 4,
    "start_time": "2025-02-17T22:21:57.684Z"
   },
   {
    "duration": 5,
    "start_time": "2025-02-17T22:21:57.689Z"
   },
   {
    "duration": 4,
    "start_time": "2025-02-17T22:21:57.697Z"
   },
   {
    "duration": 34,
    "start_time": "2025-02-17T22:21:57.724Z"
   },
   {
    "duration": 29,
    "start_time": "2025-02-17T22:21:57.760Z"
   },
   {
    "duration": 9,
    "start_time": "2025-02-17T22:21:57.791Z"
   },
   {
    "duration": 4110,
    "start_time": "2025-02-17T22:21:57.801Z"
   },
   {
    "duration": 2,
    "start_time": "2025-02-17T22:22:01.914Z"
   },
   {
    "duration": 12,
    "start_time": "2025-02-17T22:22:01.924Z"
   },
   {
    "duration": 144,
    "start_time": "2025-02-17T22:22:01.938Z"
   },
   {
    "duration": 14,
    "start_time": "2025-02-17T22:22:02.083Z"
   },
   {
    "duration": 1955,
    "start_time": "2025-02-17T22:50:33.748Z"
   },
   {
    "duration": 133,
    "start_time": "2025-02-17T22:51:14.055Z"
   },
   {
    "duration": 733,
    "start_time": "2025-02-17T22:54:11.051Z"
   },
   {
    "duration": 5,
    "start_time": "2025-02-17T23:13:36.337Z"
   },
   {
    "duration": 6,
    "start_time": "2025-02-17T23:13:55.670Z"
   },
   {
    "duration": 6,
    "start_time": "2025-02-17T23:14:12.100Z"
   },
   {
    "duration": 6,
    "start_time": "2025-02-17T23:17:13.539Z"
   },
   {
    "duration": 4,
    "start_time": "2025-02-17T23:17:48.598Z"
   },
   {
    "duration": 5,
    "start_time": "2025-02-17T23:17:56.658Z"
   },
   {
    "duration": 322,
    "start_time": "2025-02-18T00:44:15.839Z"
   },
   {
    "duration": 13,
    "start_time": "2025-02-18T00:44:16.163Z"
   },
   {
    "duration": 8,
    "start_time": "2025-02-18T00:44:16.178Z"
   },
   {
    "duration": 36,
    "start_time": "2025-02-18T00:44:16.188Z"
   },
   {
    "duration": 126,
    "start_time": "2025-02-18T00:44:16.227Z"
   },
   {
    "duration": 128,
    "start_time": "2025-02-18T00:44:16.355Z"
   },
   {
    "duration": 623,
    "start_time": "2025-02-18T00:44:16.485Z"
   },
   {
    "duration": 468,
    "start_time": "2025-02-18T00:44:17.110Z"
   },
   {
    "duration": 3,
    "start_time": "2025-02-18T00:44:17.580Z"
   },
   {
    "duration": 4,
    "start_time": "2025-02-18T00:44:17.585Z"
   },
   {
    "duration": 4,
    "start_time": "2025-02-18T00:44:17.591Z"
   },
   {
    "duration": 4,
    "start_time": "2025-02-18T00:44:17.596Z"
   },
   {
    "duration": 28,
    "start_time": "2025-02-18T00:44:17.601Z"
   },
   {
    "duration": 5,
    "start_time": "2025-02-18T00:44:17.633Z"
   },
   {
    "duration": 5,
    "start_time": "2025-02-18T00:44:17.639Z"
   },
   {
    "duration": 27,
    "start_time": "2025-02-18T00:44:17.646Z"
   },
   {
    "duration": 58,
    "start_time": "2025-02-18T00:44:17.674Z"
   },
   {
    "duration": 9,
    "start_time": "2025-02-18T00:44:17.733Z"
   },
   {
    "duration": 5,
    "start_time": "2025-02-18T00:44:17.743Z"
   },
   {
    "duration": 0,
    "start_time": "2025-02-18T00:44:17.750Z"
   },
   {
    "duration": 0,
    "start_time": "2025-02-18T00:44:17.752Z"
   },
   {
    "duration": 0,
    "start_time": "2025-02-18T00:44:17.753Z"
   },
   {
    "duration": 0,
    "start_time": "2025-02-18T00:44:17.754Z"
   },
   {
    "duration": 563,
    "start_time": "2025-02-18T00:45:00.348Z"
   },
   {
    "duration": 0,
    "start_time": "2025-02-18T00:51:53.478Z"
   },
   {
    "duration": 77,
    "start_time": "2025-02-18T00:53:00.883Z"
   },
   {
    "duration": 78,
    "start_time": "2025-02-18T00:53:31.888Z"
   },
   {
    "duration": 6163,
    "start_time": "2025-02-18T00:54:03.453Z"
   },
   {
    "duration": 286,
    "start_time": "2025-02-18T00:54:53.984Z"
   },
   {
    "duration": 11,
    "start_time": "2025-02-18T00:54:54.272Z"
   },
   {
    "duration": 8,
    "start_time": "2025-02-18T00:54:54.285Z"
   },
   {
    "duration": 36,
    "start_time": "2025-02-18T00:54:54.295Z"
   },
   {
    "duration": 133,
    "start_time": "2025-02-18T00:54:54.334Z"
   },
   {
    "duration": 125,
    "start_time": "2025-02-18T00:54:54.469Z"
   },
   {
    "duration": 649,
    "start_time": "2025-02-18T00:54:54.596Z"
   },
   {
    "duration": 496,
    "start_time": "2025-02-18T00:54:55.248Z"
   },
   {
    "duration": 4,
    "start_time": "2025-02-18T00:54:55.746Z"
   },
   {
    "duration": 5,
    "start_time": "2025-02-18T00:54:55.752Z"
   },
   {
    "duration": 4,
    "start_time": "2025-02-18T00:54:55.758Z"
   },
   {
    "duration": 4,
    "start_time": "2025-02-18T00:54:55.764Z"
   },
   {
    "duration": 7,
    "start_time": "2025-02-18T00:54:55.771Z"
   },
   {
    "duration": 5,
    "start_time": "2025-02-18T00:54:55.780Z"
   },
   {
    "duration": 38,
    "start_time": "2025-02-18T00:54:55.787Z"
   },
   {
    "duration": 28,
    "start_time": "2025-02-18T00:54:55.827Z"
   },
   {
    "duration": 29,
    "start_time": "2025-02-18T00:54:55.857Z"
   },
   {
    "duration": 9,
    "start_time": "2025-02-18T00:54:55.888Z"
   },
   {
    "duration": 6268,
    "start_time": "2025-02-18T00:54:55.898Z"
   },
   {
    "duration": 3,
    "start_time": "2025-02-18T00:55:02.167Z"
   },
   {
    "duration": 11,
    "start_time": "2025-02-18T00:55:02.173Z"
   },
   {
    "duration": 148,
    "start_time": "2025-02-18T00:55:02.186Z"
   },
   {
    "duration": 14,
    "start_time": "2025-02-18T00:55:02.336Z"
   },
   {
    "duration": 4681,
    "start_time": "2025-02-18T00:58:53.620Z"
   },
   {
    "duration": 338,
    "start_time": "2025-02-18T00:59:31.356Z"
   },
   {
    "duration": 13,
    "start_time": "2025-02-18T00:59:31.696Z"
   },
   {
    "duration": 18,
    "start_time": "2025-02-18T00:59:31.711Z"
   },
   {
    "duration": 20,
    "start_time": "2025-02-18T00:59:31.731Z"
   },
   {
    "duration": 149,
    "start_time": "2025-02-18T00:59:31.753Z"
   },
   {
    "duration": 142,
    "start_time": "2025-02-18T00:59:31.903Z"
   },
   {
    "duration": 659,
    "start_time": "2025-02-18T00:59:32.046Z"
   },
   {
    "duration": 475,
    "start_time": "2025-02-18T00:59:32.707Z"
   },
   {
    "duration": 4,
    "start_time": "2025-02-18T00:59:33.183Z"
   },
   {
    "duration": 5,
    "start_time": "2025-02-18T00:59:33.190Z"
   },
   {
    "duration": 4,
    "start_time": "2025-02-18T00:59:33.196Z"
   },
   {
    "duration": 3,
    "start_time": "2025-02-18T00:59:33.202Z"
   },
   {
    "duration": 7,
    "start_time": "2025-02-18T00:59:33.225Z"
   },
   {
    "duration": 5,
    "start_time": "2025-02-18T00:59:33.234Z"
   },
   {
    "duration": 5,
    "start_time": "2025-02-18T00:59:33.241Z"
   },
   {
    "duration": 28,
    "start_time": "2025-02-18T00:59:33.248Z"
   },
   {
    "duration": 63,
    "start_time": "2025-02-18T00:59:33.278Z"
   },
   {
    "duration": 8,
    "start_time": "2025-02-18T00:59:33.343Z"
   },
   {
    "duration": 4754,
    "start_time": "2025-02-18T00:59:33.352Z"
   },
   {
    "duration": 3,
    "start_time": "2025-02-18T00:59:38.108Z"
   },
   {
    "duration": 14,
    "start_time": "2025-02-18T00:59:38.124Z"
   },
   {
    "duration": 141,
    "start_time": "2025-02-18T00:59:38.140Z"
   },
   {
    "duration": 15,
    "start_time": "2025-02-18T00:59:38.283Z"
   },
   {
    "duration": 297,
    "start_time": "2025-02-18T01:00:57.588Z"
   },
   {
    "duration": 14,
    "start_time": "2025-02-18T01:00:57.887Z"
   },
   {
    "duration": 9,
    "start_time": "2025-02-18T01:00:57.903Z"
   },
   {
    "duration": 21,
    "start_time": "2025-02-18T01:00:57.924Z"
   },
   {
    "duration": 143,
    "start_time": "2025-02-18T01:00:57.948Z"
   },
   {
    "duration": 163,
    "start_time": "2025-02-18T01:00:58.093Z"
   },
   {
    "duration": 651,
    "start_time": "2025-02-18T01:00:58.258Z"
   },
   {
    "duration": 494,
    "start_time": "2025-02-18T01:00:58.911Z"
   },
   {
    "duration": 5,
    "start_time": "2025-02-18T01:00:59.406Z"
   },
   {
    "duration": 5,
    "start_time": "2025-02-18T01:00:59.413Z"
   },
   {
    "duration": 5,
    "start_time": "2025-02-18T01:00:59.423Z"
   },
   {
    "duration": 3,
    "start_time": "2025-02-18T01:00:59.430Z"
   },
   {
    "duration": 6,
    "start_time": "2025-02-18T01:00:59.435Z"
   },
   {
    "duration": 5,
    "start_time": "2025-02-18T01:00:59.444Z"
   },
   {
    "duration": 4,
    "start_time": "2025-02-18T01:00:59.451Z"
   },
   {
    "duration": 29,
    "start_time": "2025-02-18T01:00:59.457Z"
   },
   {
    "duration": 64,
    "start_time": "2025-02-18T01:00:59.487Z"
   },
   {
    "duration": 9,
    "start_time": "2025-02-18T01:00:59.553Z"
   },
   {
    "duration": 4751,
    "start_time": "2025-02-18T01:00:59.563Z"
   },
   {
    "duration": 3,
    "start_time": "2025-02-18T01:01:04.323Z"
   },
   {
    "duration": 12,
    "start_time": "2025-02-18T01:01:04.328Z"
   },
   {
    "duration": 140,
    "start_time": "2025-02-18T01:01:04.343Z"
   },
   {
    "duration": 15,
    "start_time": "2025-02-18T01:01:04.484Z"
   },
   {
    "duration": 288,
    "start_time": "2025-02-18T01:01:40.011Z"
   },
   {
    "duration": 12,
    "start_time": "2025-02-18T01:01:40.301Z"
   },
   {
    "duration": 16,
    "start_time": "2025-02-18T01:01:40.315Z"
   },
   {
    "duration": 19,
    "start_time": "2025-02-18T01:01:40.334Z"
   },
   {
    "duration": 149,
    "start_time": "2025-02-18T01:01:40.355Z"
   },
   {
    "duration": 153,
    "start_time": "2025-02-18T01:01:40.506Z"
   },
   {
    "duration": 652,
    "start_time": "2025-02-18T01:01:40.661Z"
   },
   {
    "duration": 515,
    "start_time": "2025-02-18T01:01:41.315Z"
   },
   {
    "duration": 4,
    "start_time": "2025-02-18T01:01:41.832Z"
   },
   {
    "duration": 4,
    "start_time": "2025-02-18T01:01:41.840Z"
   },
   {
    "duration": 4,
    "start_time": "2025-02-18T01:01:41.847Z"
   },
   {
    "duration": 4,
    "start_time": "2025-02-18T01:01:41.853Z"
   },
   {
    "duration": 7,
    "start_time": "2025-02-18T01:01:41.859Z"
   },
   {
    "duration": 5,
    "start_time": "2025-02-18T01:01:41.867Z"
   },
   {
    "duration": 5,
    "start_time": "2025-02-18T01:01:41.874Z"
   },
   {
    "duration": 67,
    "start_time": "2025-02-18T01:01:41.882Z"
   },
   {
    "duration": 30,
    "start_time": "2025-02-18T01:01:41.951Z"
   },
   {
    "duration": 9,
    "start_time": "2025-02-18T01:01:41.983Z"
   },
   {
    "duration": 3346,
    "start_time": "2025-02-18T01:01:41.993Z"
   },
   {
    "duration": 3,
    "start_time": "2025-02-18T01:01:45.340Z"
   },
   {
    "duration": 12,
    "start_time": "2025-02-18T01:01:45.345Z"
   },
   {
    "duration": 147,
    "start_time": "2025-02-18T01:01:45.358Z"
   },
   {
    "duration": 26,
    "start_time": "2025-02-18T01:01:45.507Z"
   },
   {
    "duration": 323,
    "start_time": "2025-02-18T02:22:33.919Z"
   },
   {
    "duration": 14,
    "start_time": "2025-02-18T02:22:34.246Z"
   },
   {
    "duration": 10,
    "start_time": "2025-02-18T02:22:34.263Z"
   },
   {
    "duration": 18,
    "start_time": "2025-02-18T02:22:34.276Z"
   },
   {
    "duration": 153,
    "start_time": "2025-02-18T02:22:34.296Z"
   },
   {
    "duration": 169,
    "start_time": "2025-02-18T02:22:34.451Z"
   },
   {
    "duration": 666,
    "start_time": "2025-02-18T02:22:34.622Z"
   },
   {
    "duration": 519,
    "start_time": "2025-02-18T02:22:35.290Z"
   },
   {
    "duration": 3,
    "start_time": "2025-02-18T02:22:35.811Z"
   },
   {
    "duration": 5,
    "start_time": "2025-02-18T02:22:35.825Z"
   },
   {
    "duration": 5,
    "start_time": "2025-02-18T02:22:35.831Z"
   },
   {
    "duration": 5,
    "start_time": "2025-02-18T02:22:35.838Z"
   },
   {
    "duration": 7,
    "start_time": "2025-02-18T02:22:35.845Z"
   },
   {
    "duration": 4,
    "start_time": "2025-02-18T02:22:35.854Z"
   },
   {
    "duration": 7,
    "start_time": "2025-02-18T02:22:35.860Z"
   },
   {
    "duration": 77,
    "start_time": "2025-02-18T02:22:35.869Z"
   },
   {
    "duration": 30,
    "start_time": "2025-02-18T02:22:35.948Z"
   },
   {
    "duration": 9,
    "start_time": "2025-02-18T02:22:35.980Z"
   },
   {
    "duration": 3364,
    "start_time": "2025-02-18T02:22:35.991Z"
   },
   {
    "duration": 3,
    "start_time": "2025-02-18T02:22:39.357Z"
   },
   {
    "duration": 11,
    "start_time": "2025-02-18T02:22:39.362Z"
   },
   {
    "duration": 73,
    "start_time": "2025-02-18T02:22:39.375Z"
   },
   {
    "duration": 9,
    "start_time": "2025-02-18T02:22:39.450Z"
   },
   {
    "duration": 6451,
    "start_time": "2025-02-18T02:25:33.701Z"
   },
   {
    "duration": 6357,
    "start_time": "2025-02-18T02:25:54.933Z"
   },
   {
    "duration": 6390,
    "start_time": "2025-02-18T02:26:27.784Z"
   },
   {
    "duration": 374,
    "start_time": "2025-02-18T02:26:58.384Z"
   },
   {
    "duration": 19,
    "start_time": "2025-02-18T02:26:58.764Z"
   },
   {
    "duration": 14,
    "start_time": "2025-02-18T02:26:58.788Z"
   },
   {
    "duration": 26,
    "start_time": "2025-02-18T02:26:58.808Z"
   },
   {
    "duration": 174,
    "start_time": "2025-02-18T02:26:58.840Z"
   },
   {
    "duration": 164,
    "start_time": "2025-02-18T02:26:59.022Z"
   },
   {
    "duration": 648,
    "start_time": "2025-02-18T02:26:59.188Z"
   },
   {
    "duration": 505,
    "start_time": "2025-02-18T02:26:59.838Z"
   },
   {
    "duration": 3,
    "start_time": "2025-02-18T02:27:00.345Z"
   },
   {
    "duration": 4,
    "start_time": "2025-02-18T02:27:00.352Z"
   },
   {
    "duration": 4,
    "start_time": "2025-02-18T02:27:00.358Z"
   },
   {
    "duration": 4,
    "start_time": "2025-02-18T02:27:00.363Z"
   },
   {
    "duration": 7,
    "start_time": "2025-02-18T02:27:00.369Z"
   },
   {
    "duration": 7,
    "start_time": "2025-02-18T02:27:00.377Z"
   },
   {
    "duration": 4,
    "start_time": "2025-02-18T02:27:00.386Z"
   },
   {
    "duration": 29,
    "start_time": "2025-02-18T02:27:00.425Z"
   },
   {
    "duration": 30,
    "start_time": "2025-02-18T02:27:00.456Z"
   },
   {
    "duration": 9,
    "start_time": "2025-02-18T02:27:00.488Z"
   },
   {
    "duration": 6364,
    "start_time": "2025-02-18T02:27:00.498Z"
   },
   {
    "duration": 2,
    "start_time": "2025-02-18T02:27:06.864Z"
   },
   {
    "duration": 15,
    "start_time": "2025-02-18T02:27:06.871Z"
   },
   {
    "duration": 37,
    "start_time": "2025-02-18T02:27:06.888Z"
   },
   {
    "duration": 8,
    "start_time": "2025-02-18T02:27:06.927Z"
   },
   {
    "duration": 293,
    "start_time": "2025-02-18T02:31:58.689Z"
   },
   {
    "duration": 14,
    "start_time": "2025-02-18T02:31:58.984Z"
   },
   {
    "duration": 10,
    "start_time": "2025-02-18T02:31:59.000Z"
   },
   {
    "duration": 29,
    "start_time": "2025-02-18T02:31:59.012Z"
   },
   {
    "duration": 149,
    "start_time": "2025-02-18T02:31:59.045Z"
   },
   {
    "duration": 164,
    "start_time": "2025-02-18T02:31:59.196Z"
   },
   {
    "duration": 644,
    "start_time": "2025-02-18T02:31:59.362Z"
   },
   {
    "duration": 514,
    "start_time": "2025-02-18T02:32:00.008Z"
   },
   {
    "duration": 4,
    "start_time": "2025-02-18T02:32:00.524Z"
   },
   {
    "duration": 4,
    "start_time": "2025-02-18T02:32:00.530Z"
   },
   {
    "duration": 5,
    "start_time": "2025-02-18T02:32:00.537Z"
   },
   {
    "duration": 5,
    "start_time": "2025-02-18T02:32:00.543Z"
   },
   {
    "duration": 7,
    "start_time": "2025-02-18T02:32:00.550Z"
   },
   {
    "duration": 4,
    "start_time": "2025-02-18T02:32:00.561Z"
   },
   {
    "duration": 5,
    "start_time": "2025-02-18T02:32:00.568Z"
   },
   {
    "duration": 71,
    "start_time": "2025-02-18T02:32:00.574Z"
   },
   {
    "duration": 30,
    "start_time": "2025-02-18T02:32:00.647Z"
   },
   {
    "duration": 9,
    "start_time": "2025-02-18T02:32:00.679Z"
   },
   {
    "duration": 6360,
    "start_time": "2025-02-18T02:32:00.690Z"
   },
   {
    "duration": 3,
    "start_time": "2025-02-18T02:32:07.053Z"
   },
   {
    "duration": 16,
    "start_time": "2025-02-18T02:32:07.058Z"
   },
   {
    "duration": 27,
    "start_time": "2025-02-18T02:32:07.076Z"
   },
   {
    "duration": 7,
    "start_time": "2025-02-18T02:32:07.124Z"
   },
   {
    "duration": 328,
    "start_time": "2025-02-18T02:32:58.758Z"
   },
   {
    "duration": 15,
    "start_time": "2025-02-18T02:32:59.088Z"
   },
   {
    "duration": 19,
    "start_time": "2025-02-18T02:32:59.105Z"
   },
   {
    "duration": 21,
    "start_time": "2025-02-18T02:32:59.127Z"
   },
   {
    "duration": 160,
    "start_time": "2025-02-18T02:32:59.149Z"
   },
   {
    "duration": 155,
    "start_time": "2025-02-18T02:32:59.312Z"
   },
   {
    "duration": 638,
    "start_time": "2025-02-18T02:32:59.470Z"
   },
   {
    "duration": 510,
    "start_time": "2025-02-18T02:33:00.110Z"
   },
   {
    "duration": 4,
    "start_time": "2025-02-18T02:33:00.622Z"
   },
   {
    "duration": 7,
    "start_time": "2025-02-18T02:33:00.629Z"
   },
   {
    "duration": 4,
    "start_time": "2025-02-18T02:33:00.639Z"
   },
   {
    "duration": 7,
    "start_time": "2025-02-18T02:33:00.645Z"
   },
   {
    "duration": 6,
    "start_time": "2025-02-18T02:33:00.654Z"
   },
   {
    "duration": 5,
    "start_time": "2025-02-18T02:33:00.662Z"
   },
   {
    "duration": 6,
    "start_time": "2025-02-18T02:33:00.668Z"
   },
   {
    "duration": 67,
    "start_time": "2025-02-18T02:33:00.676Z"
   },
   {
    "duration": 32,
    "start_time": "2025-02-18T02:33:00.744Z"
   },
   {
    "duration": 9,
    "start_time": "2025-02-18T02:33:00.777Z"
   },
   {
    "duration": 6391,
    "start_time": "2025-02-18T02:33:00.788Z"
   },
   {
    "duration": 2,
    "start_time": "2025-02-18T02:33:07.181Z"
   },
   {
    "duration": 12,
    "start_time": "2025-02-18T02:33:07.185Z"
   },
   {
    "duration": 36,
    "start_time": "2025-02-18T02:33:07.200Z"
   },
   {
    "duration": 8,
    "start_time": "2025-02-18T02:33:07.238Z"
   },
   {
    "duration": 3,
    "start_time": "2025-02-18T02:52:29.000Z"
   },
   {
    "duration": 40838,
    "start_time": "2025-02-18T02:55:21.682Z"
   },
   {
    "duration": 294,
    "start_time": "2025-02-18T02:59:16.872Z"
   },
   {
    "duration": 13,
    "start_time": "2025-02-18T02:59:17.170Z"
   },
   {
    "duration": 10,
    "start_time": "2025-02-18T02:59:17.185Z"
   },
   {
    "duration": 31,
    "start_time": "2025-02-18T02:59:17.197Z"
   },
   {
    "duration": 138,
    "start_time": "2025-02-18T02:59:17.230Z"
   },
   {
    "duration": 128,
    "start_time": "2025-02-18T02:59:17.370Z"
   },
   {
    "duration": 743,
    "start_time": "2025-02-18T02:59:17.500Z"
   },
   {
    "duration": 539,
    "start_time": "2025-02-18T02:59:18.245Z"
   },
   {
    "duration": 3,
    "start_time": "2025-02-18T02:59:18.786Z"
   },
   {
    "duration": 5,
    "start_time": "2025-02-18T02:59:18.791Z"
   },
   {
    "duration": 4,
    "start_time": "2025-02-18T02:59:18.799Z"
   },
   {
    "duration": 22,
    "start_time": "2025-02-18T02:59:18.804Z"
   },
   {
    "duration": 6,
    "start_time": "2025-02-18T02:59:18.828Z"
   },
   {
    "duration": 4,
    "start_time": "2025-02-18T02:59:18.837Z"
   },
   {
    "duration": 4,
    "start_time": "2025-02-18T02:59:18.843Z"
   },
   {
    "duration": 27,
    "start_time": "2025-02-18T02:59:18.849Z"
   },
   {
    "duration": 54,
    "start_time": "2025-02-18T02:59:18.878Z"
   },
   {
    "duration": 8,
    "start_time": "2025-02-18T02:59:18.934Z"
   },
   {
    "duration": 3,
    "start_time": "2025-02-18T02:59:18.943Z"
   },
   {
    "duration": 39676,
    "start_time": "2025-02-18T02:59:18.948Z"
   },
   {
    "duration": 6309,
    "start_time": "2025-02-18T02:59:58.627Z"
   },
   {
    "duration": 2,
    "start_time": "2025-02-18T03:00:04.938Z"
   },
   {
    "duration": 12,
    "start_time": "2025-02-18T03:00:04.942Z"
   },
   {
    "duration": 22,
    "start_time": "2025-02-18T03:00:04.956Z"
   },
   {
    "duration": 6,
    "start_time": "2025-02-18T03:00:04.980Z"
   },
   {
    "duration": 316,
    "start_time": "2025-02-18T03:03:49.260Z"
   },
   {
    "duration": 290,
    "start_time": "2025-02-18T03:04:05.918Z"
   },
   {
    "duration": 15,
    "start_time": "2025-02-18T03:04:06.210Z"
   },
   {
    "duration": 11,
    "start_time": "2025-02-18T03:04:06.226Z"
   },
   {
    "duration": 19,
    "start_time": "2025-02-18T03:04:06.239Z"
   },
   {
    "duration": 155,
    "start_time": "2025-02-18T03:04:06.261Z"
   },
   {
    "duration": 148,
    "start_time": "2025-02-18T03:04:06.418Z"
   },
   {
    "duration": 686,
    "start_time": "2025-02-18T03:04:06.567Z"
   },
   {
    "duration": 511,
    "start_time": "2025-02-18T03:04:07.255Z"
   },
   {
    "duration": 5,
    "start_time": "2025-02-18T03:04:07.768Z"
   },
   {
    "duration": 5,
    "start_time": "2025-02-18T03:04:07.775Z"
   },
   {
    "duration": 5,
    "start_time": "2025-02-18T03:04:07.781Z"
   },
   {
    "duration": 4,
    "start_time": "2025-02-18T03:04:07.787Z"
   },
   {
    "duration": 32,
    "start_time": "2025-02-18T03:04:07.793Z"
   },
   {
    "duration": 6,
    "start_time": "2025-02-18T03:04:07.830Z"
   },
   {
    "duration": 4,
    "start_time": "2025-02-18T03:04:07.838Z"
   },
   {
    "duration": 28,
    "start_time": "2025-02-18T03:04:07.844Z"
   },
   {
    "duration": 29,
    "start_time": "2025-02-18T03:04:07.875Z"
   },
   {
    "duration": 10,
    "start_time": "2025-02-18T03:04:07.925Z"
   },
   {
    "duration": 3,
    "start_time": "2025-02-18T03:04:07.937Z"
   },
   {
    "duration": 39911,
    "start_time": "2025-02-18T03:04:07.942Z"
   },
   {
    "duration": 4,
    "start_time": "2025-02-18T03:04:47.855Z"
   },
   {
    "duration": 15,
    "start_time": "2025-02-18T03:04:47.861Z"
   },
   {
    "duration": 322,
    "start_time": "2025-02-18T03:04:47.878Z"
   },
   {
    "duration": 38,
    "start_time": "2025-02-18T03:04:48.202Z"
   },
   {
    "duration": 298,
    "start_time": "2025-02-18T03:07:14.660Z"
   },
   {
    "duration": 14,
    "start_time": "2025-02-18T03:07:14.962Z"
   },
   {
    "duration": 12,
    "start_time": "2025-02-18T03:07:14.978Z"
   },
   {
    "duration": 39,
    "start_time": "2025-02-18T03:07:14.992Z"
   },
   {
    "duration": 142,
    "start_time": "2025-02-18T03:07:15.035Z"
   },
   {
    "duration": 129,
    "start_time": "2025-02-18T03:07:15.179Z"
   },
   {
    "duration": 683,
    "start_time": "2025-02-18T03:07:15.309Z"
   },
   {
    "duration": 455,
    "start_time": "2025-02-18T03:07:15.994Z"
   },
   {
    "duration": 4,
    "start_time": "2025-02-18T03:07:16.452Z"
   },
   {
    "duration": 5,
    "start_time": "2025-02-18T03:07:16.457Z"
   },
   {
    "duration": 4,
    "start_time": "2025-02-18T03:07:16.465Z"
   },
   {
    "duration": 5,
    "start_time": "2025-02-18T03:07:16.470Z"
   },
   {
    "duration": 7,
    "start_time": "2025-02-18T03:07:16.476Z"
   },
   {
    "duration": 5,
    "start_time": "2025-02-18T03:07:16.486Z"
   },
   {
    "duration": 34,
    "start_time": "2025-02-18T03:07:16.494Z"
   },
   {
    "duration": 33,
    "start_time": "2025-02-18T03:07:16.530Z"
   },
   {
    "duration": 33,
    "start_time": "2025-02-18T03:07:16.564Z"
   },
   {
    "duration": 28,
    "start_time": "2025-02-18T03:07:16.599Z"
   },
   {
    "duration": 2,
    "start_time": "2025-02-18T03:07:16.629Z"
   },
   {
    "duration": 39827,
    "start_time": "2025-02-18T03:07:16.632Z"
   },
   {
    "duration": 2,
    "start_time": "2025-02-18T03:07:56.462Z"
   },
   {
    "duration": 11,
    "start_time": "2025-02-18T03:07:56.466Z"
   },
   {
    "duration": 306,
    "start_time": "2025-02-18T03:07:56.480Z"
   },
   {
    "duration": 35,
    "start_time": "2025-02-18T03:07:56.790Z"
   }
  ],
  "kernelspec": {
   "display_name": "Python 3 (ipykernel)",
   "language": "python",
   "name": "python3"
  },
  "language_info": {
   "codemirror_mode": {
    "name": "ipython",
    "version": 3
   },
   "file_extension": ".py",
   "mimetype": "text/x-python",
   "name": "python",
   "nbconvert_exporter": "python",
   "pygments_lexer": "ipython3",
   "version": "3.9.19"
  },
  "toc": {
   "base_numbering": 1,
   "nav_menu": {},
   "number_sections": true,
   "sideBar": true,
   "skip_h1_title": true,
   "title_cell": "Table of Contents",
   "title_sidebar": "Contents",
   "toc_cell": false,
   "toc_position": {},
   "toc_section_display": true,
   "toc_window_display": false
  }
 },
 "nbformat": 4,
 "nbformat_minor": 2
}
