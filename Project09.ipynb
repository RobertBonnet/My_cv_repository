{
 "cells": [
  {
   "cell_type": "markdown",
   "metadata": {},
   "source": [
    "# ¡Hola Robert! 😊\n",
    "\n",
    "Mi nombre es **Alejandro Castellanos** y hoy tengo el placer de ser el revisor de tu proyecto.\n",
    "\n",
    "Voy a revisar todo tu código con detalle, buscando tanto los puntos fuertes como aquellos en los que podrías mejorar. Te dejaré comentarios a lo largo del notebook, destacando lo que has hecho bien y sugiriendo ajustes donde sea necesario. Si encuentro algún error, no te preocupes, te lo haré saber de forma clara y te daré información útil para que puedas corregirlo en la próxima iteración. Si en algún punto tienes comentarios, siéntete libre de dejarlos también.\n",
    "\n",
    "\n",
    "Encontrarás mis comentarios específicos dentro de cajas verdes, amarillas o rojas, es muy importante que no muevas, modifiques o borres mis comentarios, con el fin de tener un seguimiento adecuado de tu proceso:\n",
    "\n",
    "\n",
    "<div class=\"alert alert-block alert-success\">\n",
    "<b>Comentario del revisor</b> <a class=“tocSkip”></a>\n",
    "Si todo está perfecto.\n",
    "</div>\n",
    "\n",
    "<div class=\"alert alert-block alert-warning\">\n",
    "<b>Comentario del revisor</b> <a class=“tocSkip”></a>\n",
    "Si tu código está bien pero se puede mejorar o hay algún detalle que le hace falta.\n",
    "</div>\n",
    "\n",
    "<div class=\"alert alert-block alert-danger\">\n",
    "<b>Comentario del revisor</b> <a class=“tocSkip”></a>\n",
    "Si de pronto hace falta algo o existe algún problema con tu código o conclusiones.\n",
    "</div>\n",
    "\n",
    "Puedes responderme de esta forma:\n",
    "<div class=\"alert alert-block alert-info\">\n",
    "<b>Respuesta del estudiante</b> <a class=“tocSkip”></a>\n",
    "</div>\n",
    "\n",
    "A continuación te dejaré un comentario general con mi valoración del proyecto. **¡Mi objetivo es que sigas aprendiendo y mejorando con cada paso!**"
   ]
  },
  {
   "cell_type": "markdown",
   "metadata": {},
   "source": [
    "----"
   ]
  },
  {
   "cell_type": "markdown",
   "metadata": {},
   "source": [
    "<div class=\"alert alert-block alert-success\">\n",
    "<b>Comentario General del revisor (1ra Iteración)</b> <a class=“tocSkip”></a>\n",
    "\n",
    "Robert quiero felicitarte por el excelente trabajo que hiciste. Has realizado un análisis exploratorio de datos (EDA) apropiado, preparando la información de manera cuidadosa para el entrenamiento de los modelos predictivos, lo cual establece una base sólida para las etapas posteriores. Tu implementación de tus modelos de clasifiación ha sido acertada en combinación con técnicas de manejo de clases desbalanceadas, logrando alcanzar los objetivos establecidos en términos del F1-Score, lo que demuestra tu capacidad para ajustar modelos de clasificación efectivos.  \n",
    "    \n",
    "Ten en cuenta que es crucial incluir tus análisis en cada sección y una conclusión general. Un proyecto en el contexto de ciencia o análisis de datos va más allá de escribir código y obtener valores; se trata de darles sentido y contexto para convertirlos en conocimiento útil. Este proceso permite tomar decisiones informadas, optimizar modelos y comunicar hallazgos de manera clara y efectiva, asegurando que el análisis no solo sea técnico, sino también comprensible y aplicable a la resolución de problemas reales.\n",
    "    \n",
    "Recuerda que en el aprendizaje automático, la exploración de diferentes técnicas y enfoques es clave para desarrollar una comprensión más profunda y encontrar las soluciones más efectivas para cada problema específico. \n",
    "    \n",
    "Te deseo éxitos en tu próximo sprint 🚀\n",
    "    \n",
    "    \n",
    "*Estado del Proyecto:* **Aprobado**\n",
    "\n",
    "</div>"
   ]
  },
  {
   "cell_type": "markdown",
   "metadata": {},
   "source": [
    "-----"
   ]
  },
  {
   "cell_type": "code",
   "execution_count": 1,
   "metadata": {},
   "outputs": [],
   "source": [
    "import pandas as pd #Download the library to manage DataFrames"
   ]
  },
  {
   "cell_type": "code",
   "execution_count": 2,
   "metadata": {},
   "outputs": [],
   "source": [
    "df = pd.read_csv('/datasets/Churn.csv') #Asign a csv file to the variable df"
   ]
  },
  {
   "cell_type": "code",
   "execution_count": 3,
   "metadata": {},
   "outputs": [
    {
     "name": "stdout",
     "output_type": "stream",
     "text": [
      "<class 'pandas.core.frame.DataFrame'>\n",
      "RangeIndex: 10000 entries, 0 to 9999\n",
      "Data columns (total 14 columns):\n",
      " #   Column           Non-Null Count  Dtype  \n",
      "---  ------           --------------  -----  \n",
      " 0   RowNumber        10000 non-null  int64  \n",
      " 1   CustomerId       10000 non-null  int64  \n",
      " 2   Surname          10000 non-null  object \n",
      " 3   CreditScore      10000 non-null  int64  \n",
      " 4   Geography        10000 non-null  object \n",
      " 5   Gender           10000 non-null  object \n",
      " 6   Age              10000 non-null  int64  \n",
      " 7   Tenure           9091 non-null   float64\n",
      " 8   Balance          10000 non-null  float64\n",
      " 9   NumOfProducts    10000 non-null  int64  \n",
      " 10  HasCrCard        10000 non-null  int64  \n",
      " 11  IsActiveMember   10000 non-null  int64  \n",
      " 12  EstimatedSalary  10000 non-null  float64\n",
      " 13  Exited           10000 non-null  int64  \n",
      "dtypes: float64(3), int64(8), object(3)\n",
      "memory usage: 1.1+ MB\n",
      "None\n",
      "      RowNumber  CustomerId    Surname  CreditScore Geography  Gender  Age  \\\n",
      "0             1    15634602   Hargrave          619    France  Female   42   \n",
      "1             2    15647311       Hill          608     Spain  Female   41   \n",
      "2             3    15619304       Onio          502    France  Female   42   \n",
      "3             4    15701354       Boni          699    France  Female   39   \n",
      "4             5    15737888   Mitchell          850     Spain  Female   43   \n",
      "...         ...         ...        ...          ...       ...     ...  ...   \n",
      "9995       9996    15606229   Obijiaku          771    France    Male   39   \n",
      "9996       9997    15569892  Johnstone          516    France    Male   35   \n",
      "9997       9998    15584532        Liu          709    France  Female   36   \n",
      "9998       9999    15682355  Sabbatini          772   Germany    Male   42   \n",
      "9999      10000    15628319     Walker          792    France  Female   28   \n",
      "\n",
      "      Tenure    Balance  NumOfProducts  HasCrCard  IsActiveMember  \\\n",
      "0        2.0       0.00              1          1               1   \n",
      "1        1.0   83807.86              1          0               1   \n",
      "2        8.0  159660.80              3          1               0   \n",
      "3        1.0       0.00              2          0               0   \n",
      "4        2.0  125510.82              1          1               1   \n",
      "...      ...        ...            ...        ...             ...   \n",
      "9995     5.0       0.00              2          1               0   \n",
      "9996    10.0   57369.61              1          1               1   \n",
      "9997     7.0       0.00              1          0               1   \n",
      "9998     3.0   75075.31              2          1               0   \n",
      "9999     NaN  130142.79              1          1               0   \n",
      "\n",
      "      EstimatedSalary  Exited  \n",
      "0           101348.88       1  \n",
      "1           112542.58       0  \n",
      "2           113931.57       1  \n",
      "3            93826.63       0  \n",
      "4            79084.10       0  \n",
      "...               ...     ...  \n",
      "9995         96270.64       0  \n",
      "9996        101699.77       0  \n",
      "9997         42085.58       1  \n",
      "9998         92888.52       1  \n",
      "9999         38190.78       0  \n",
      "\n",
      "[10000 rows x 14 columns]\n"
     ]
    }
   ],
   "source": [
    "print(df.info()) #Data Exploratory Analysis\n",
    "print(df)"
   ]
  },
  {
   "cell_type": "markdown",
   "metadata": {},
   "source": [
    "Data seem to be the correct type.\n",
    "The only field that has missing values is \"Tenure\" which I understand is valid since there might be clients whose fixed term deposit hasn't matured. However, in order to build a ML model, these observations must be transform into a numerical value. In this case, I will create a -1 value for them to represent they haven't achieved their fixed term."
   ]
  },
  {
   "cell_type": "markdown",
   "metadata": {},
   "source": [
    "<div class=\"alert alert-block alert-success\">\n",
    "<b>Comentario del revisor (1ra Iteración)</b> <a class=“tocSkip”></a>\n",
    "\n",
    "Muy buen trabajo importando las librerías y los datos del proyecto. Adicionalmente usaste correctamente la función `info`, esto te permite hacer una primera revisión de los datos, su estructura y contenido. Con esta información, podemos establecer una hoja de ruta para ajustar, modificar y analizar los datos de una manera adecuada.\n",
    "\n",
    "</div>"
   ]
  },
  {
   "cell_type": "code",
   "execution_count": 4,
   "metadata": {},
   "outputs": [],
   "source": [
    "df['Tenure'] = df['Tenure'].fillna(-1) #Fill NaN with -1"
   ]
  },
  {
   "cell_type": "markdown",
   "metadata": {},
   "source": [
    "<div class=\"alert alert-block alert-success\">\n",
    "<b>Comentario del revisor (1ra Iteración)</b> <a class=“tocSkip”></a>\n",
    "\n",
    "Buen trabajo manejando los datas faltantes de Tenure, esto es clave para evitar errores en el desarrollo de los modelos,\n",
    "\n",
    "<div class=\"alert alert-block alert-warning\">\n",
    "<b>Comentario del revisor (1ra Iteración)</b> <a class=“tocSkip”></a>\n",
    "\n",
    "Con respecto a la imputación de datos faltantes, si bien usar -1 es una opción válida, hay otro métodos que pueden ser más adecuados y que pueden reducir la posibilidad de agregar sesgo a los datos, acá te comparto un artículo donde hablan sobre diferentes [métodos de imputación](https://www.kaggle.com/code/parulpandey/a-guide-to-handling-missing-values-in-python)\n",
    "\n",
    "</div>\n",
    "</div>"
   ]
  },
  {
   "cell_type": "code",
   "execution_count": 5,
   "metadata": {},
   "outputs": [
    {
     "name": "stdout",
     "output_type": "stream",
     "text": [
      "<class 'pandas.core.frame.DataFrame'>\n",
      "RangeIndex: 10000 entries, 0 to 9999\n",
      "Data columns (total 14 columns):\n",
      " #   Column           Non-Null Count  Dtype  \n",
      "---  ------           --------------  -----  \n",
      " 0   RowNumber        10000 non-null  int64  \n",
      " 1   CustomerId       10000 non-null  int64  \n",
      " 2   Surname          10000 non-null  object \n",
      " 3   CreditScore      10000 non-null  int64  \n",
      " 4   Geography        10000 non-null  object \n",
      " 5   Gender           10000 non-null  object \n",
      " 6   Age              10000 non-null  int64  \n",
      " 7   Tenure           10000 non-null  float64\n",
      " 8   Balance          10000 non-null  float64\n",
      " 9   NumOfProducts    10000 non-null  int64  \n",
      " 10  HasCrCard        10000 non-null  int64  \n",
      " 11  IsActiveMember   10000 non-null  int64  \n",
      " 12  EstimatedSalary  10000 non-null  float64\n",
      " 13  Exited           10000 non-null  int64  \n",
      "dtypes: float64(3), int64(8), object(3)\n",
      "memory usage: 1.1+ MB\n",
      "None\n",
      "      RowNumber  CustomerId    Surname  CreditScore Geography  Gender  Age  \\\n",
      "0             1    15634602   Hargrave          619    France  Female   42   \n",
      "1             2    15647311       Hill          608     Spain  Female   41   \n",
      "2             3    15619304       Onio          502    France  Female   42   \n",
      "3             4    15701354       Boni          699    France  Female   39   \n",
      "4             5    15737888   Mitchell          850     Spain  Female   43   \n",
      "...         ...         ...        ...          ...       ...     ...  ...   \n",
      "9995       9996    15606229   Obijiaku          771    France    Male   39   \n",
      "9996       9997    15569892  Johnstone          516    France    Male   35   \n",
      "9997       9998    15584532        Liu          709    France  Female   36   \n",
      "9998       9999    15682355  Sabbatini          772   Germany    Male   42   \n",
      "9999      10000    15628319     Walker          792    France  Female   28   \n",
      "\n",
      "      Tenure    Balance  NumOfProducts  HasCrCard  IsActiveMember  \\\n",
      "0        2.0       0.00              1          1               1   \n",
      "1        1.0   83807.86              1          0               1   \n",
      "2        8.0  159660.80              3          1               0   \n",
      "3        1.0       0.00              2          0               0   \n",
      "4        2.0  125510.82              1          1               1   \n",
      "...      ...        ...            ...        ...             ...   \n",
      "9995     5.0       0.00              2          1               0   \n",
      "9996    10.0   57369.61              1          1               1   \n",
      "9997     7.0       0.00              1          0               1   \n",
      "9998     3.0   75075.31              2          1               0   \n",
      "9999    -1.0  130142.79              1          1               0   \n",
      "\n",
      "      EstimatedSalary  Exited  \n",
      "0           101348.88       1  \n",
      "1           112542.58       0  \n",
      "2           113931.57       1  \n",
      "3            93826.63       0  \n",
      "4            79084.10       0  \n",
      "...               ...     ...  \n",
      "9995         96270.64       0  \n",
      "9996        101699.77       0  \n",
      "9997         42085.58       1  \n",
      "9998         92888.52       1  \n",
      "9999         38190.78       0  \n",
      "\n",
      "[10000 rows x 14 columns]\n"
     ]
    }
   ],
   "source": [
    "print(df.info()) #Verify the change has been made\n",
    "print(df)"
   ]
  },
  {
   "cell_type": "code",
   "execution_count": 6,
   "metadata": {},
   "outputs": [
    {
     "data": {
      "text/html": [
       "<div>\n",
       "<style scoped>\n",
       "    .dataframe tbody tr th:only-of-type {\n",
       "        vertical-align: middle;\n",
       "    }\n",
       "\n",
       "    .dataframe tbody tr th {\n",
       "        vertical-align: top;\n",
       "    }\n",
       "\n",
       "    .dataframe thead th {\n",
       "        text-align: right;\n",
       "    }\n",
       "</style>\n",
       "<table border=\"1\" class=\"dataframe\">\n",
       "  <thead>\n",
       "    <tr style=\"text-align: right;\">\n",
       "      <th></th>\n",
       "      <th>RowNumber</th>\n",
       "      <th>CustomerId</th>\n",
       "      <th>CreditScore</th>\n",
       "      <th>Age</th>\n",
       "      <th>Tenure</th>\n",
       "      <th>Balance</th>\n",
       "      <th>NumOfProducts</th>\n",
       "      <th>HasCrCard</th>\n",
       "      <th>IsActiveMember</th>\n",
       "      <th>EstimatedSalary</th>\n",
       "      <th>Exited</th>\n",
       "    </tr>\n",
       "  </thead>\n",
       "  <tbody>\n",
       "    <tr>\n",
       "      <th>count</th>\n",
       "      <td>10000.00000</td>\n",
       "      <td>1.000000e+04</td>\n",
       "      <td>10000.000000</td>\n",
       "      <td>10000.000000</td>\n",
       "      <td>10000.000000</td>\n",
       "      <td>10000.000000</td>\n",
       "      <td>10000.000000</td>\n",
       "      <td>10000.00000</td>\n",
       "      <td>10000.000000</td>\n",
       "      <td>10000.000000</td>\n",
       "      <td>10000.000000</td>\n",
       "    </tr>\n",
       "    <tr>\n",
       "      <th>mean</th>\n",
       "      <td>5000.50000</td>\n",
       "      <td>1.569094e+07</td>\n",
       "      <td>650.528800</td>\n",
       "      <td>38.921800</td>\n",
       "      <td>4.452500</td>\n",
       "      <td>76485.889288</td>\n",
       "      <td>1.530200</td>\n",
       "      <td>0.70550</td>\n",
       "      <td>0.515100</td>\n",
       "      <td>100090.239881</td>\n",
       "      <td>0.203700</td>\n",
       "    </tr>\n",
       "    <tr>\n",
       "      <th>std</th>\n",
       "      <td>2886.89568</td>\n",
       "      <td>7.193619e+04</td>\n",
       "      <td>96.653299</td>\n",
       "      <td>10.487806</td>\n",
       "      <td>3.254321</td>\n",
       "      <td>62397.405202</td>\n",
       "      <td>0.581654</td>\n",
       "      <td>0.45584</td>\n",
       "      <td>0.499797</td>\n",
       "      <td>57510.492818</td>\n",
       "      <td>0.402769</td>\n",
       "    </tr>\n",
       "    <tr>\n",
       "      <th>min</th>\n",
       "      <td>1.00000</td>\n",
       "      <td>1.556570e+07</td>\n",
       "      <td>350.000000</td>\n",
       "      <td>18.000000</td>\n",
       "      <td>-1.000000</td>\n",
       "      <td>0.000000</td>\n",
       "      <td>1.000000</td>\n",
       "      <td>0.00000</td>\n",
       "      <td>0.000000</td>\n",
       "      <td>11.580000</td>\n",
       "      <td>0.000000</td>\n",
       "    </tr>\n",
       "    <tr>\n",
       "      <th>25%</th>\n",
       "      <td>2500.75000</td>\n",
       "      <td>1.562853e+07</td>\n",
       "      <td>584.000000</td>\n",
       "      <td>32.000000</td>\n",
       "      <td>2.000000</td>\n",
       "      <td>0.000000</td>\n",
       "      <td>1.000000</td>\n",
       "      <td>0.00000</td>\n",
       "      <td>0.000000</td>\n",
       "      <td>51002.110000</td>\n",
       "      <td>0.000000</td>\n",
       "    </tr>\n",
       "    <tr>\n",
       "      <th>50%</th>\n",
       "      <td>5000.50000</td>\n",
       "      <td>1.569074e+07</td>\n",
       "      <td>652.000000</td>\n",
       "      <td>37.000000</td>\n",
       "      <td>4.000000</td>\n",
       "      <td>97198.540000</td>\n",
       "      <td>1.000000</td>\n",
       "      <td>1.00000</td>\n",
       "      <td>1.000000</td>\n",
       "      <td>100193.915000</td>\n",
       "      <td>0.000000</td>\n",
       "    </tr>\n",
       "    <tr>\n",
       "      <th>75%</th>\n",
       "      <td>7500.25000</td>\n",
       "      <td>1.575323e+07</td>\n",
       "      <td>718.000000</td>\n",
       "      <td>44.000000</td>\n",
       "      <td>7.000000</td>\n",
       "      <td>127644.240000</td>\n",
       "      <td>2.000000</td>\n",
       "      <td>1.00000</td>\n",
       "      <td>1.000000</td>\n",
       "      <td>149388.247500</td>\n",
       "      <td>0.000000</td>\n",
       "    </tr>\n",
       "    <tr>\n",
       "      <th>max</th>\n",
       "      <td>10000.00000</td>\n",
       "      <td>1.581569e+07</td>\n",
       "      <td>850.000000</td>\n",
       "      <td>92.000000</td>\n",
       "      <td>10.000000</td>\n",
       "      <td>250898.090000</td>\n",
       "      <td>4.000000</td>\n",
       "      <td>1.00000</td>\n",
       "      <td>1.000000</td>\n",
       "      <td>199992.480000</td>\n",
       "      <td>1.000000</td>\n",
       "    </tr>\n",
       "  </tbody>\n",
       "</table>\n",
       "</div>"
      ],
      "text/plain": [
       "         RowNumber    CustomerId   CreditScore           Age        Tenure  \\\n",
       "count  10000.00000  1.000000e+04  10000.000000  10000.000000  10000.000000   \n",
       "mean    5000.50000  1.569094e+07    650.528800     38.921800      4.452500   \n",
       "std     2886.89568  7.193619e+04     96.653299     10.487806      3.254321   \n",
       "min        1.00000  1.556570e+07    350.000000     18.000000     -1.000000   \n",
       "25%     2500.75000  1.562853e+07    584.000000     32.000000      2.000000   \n",
       "50%     5000.50000  1.569074e+07    652.000000     37.000000      4.000000   \n",
       "75%     7500.25000  1.575323e+07    718.000000     44.000000      7.000000   \n",
       "max    10000.00000  1.581569e+07    850.000000     92.000000     10.000000   \n",
       "\n",
       "             Balance  NumOfProducts    HasCrCard  IsActiveMember  \\\n",
       "count   10000.000000   10000.000000  10000.00000    10000.000000   \n",
       "mean    76485.889288       1.530200      0.70550        0.515100   \n",
       "std     62397.405202       0.581654      0.45584        0.499797   \n",
       "min         0.000000       1.000000      0.00000        0.000000   \n",
       "25%         0.000000       1.000000      0.00000        0.000000   \n",
       "50%     97198.540000       1.000000      1.00000        1.000000   \n",
       "75%    127644.240000       2.000000      1.00000        1.000000   \n",
       "max    250898.090000       4.000000      1.00000        1.000000   \n",
       "\n",
       "       EstimatedSalary        Exited  \n",
       "count     10000.000000  10000.000000  \n",
       "mean     100090.239881      0.203700  \n",
       "std       57510.492818      0.402769  \n",
       "min          11.580000      0.000000  \n",
       "25%       51002.110000      0.000000  \n",
       "50%      100193.915000      0.000000  \n",
       "75%      149388.247500      0.000000  \n",
       "max      199992.480000      1.000000  "
      ]
     },
     "execution_count": 6,
     "metadata": {},
     "output_type": "execute_result"
    }
   ],
   "source": [
    "df.describe() #Descriptive stastistics"
   ]
  },
  {
   "cell_type": "code",
   "execution_count": 7,
   "metadata": {},
   "outputs": [
    {
     "data": {
      "text/plain": [
       "count     10000\n",
       "unique     2932\n",
       "top       Smith\n",
       "freq         32\n",
       "Name: Surname, dtype: object"
      ]
     },
     "execution_count": 7,
     "metadata": {},
     "output_type": "execute_result"
    }
   ],
   "source": [
    "df['Surname'].describe() #Descriptive stastistics"
   ]
  },
  {
   "cell_type": "code",
   "execution_count": 8,
   "metadata": {},
   "outputs": [
    {
     "data": {
      "text/plain": [
       "count      10000\n",
       "unique         3\n",
       "top       France\n",
       "freq        5014\n",
       "Name: Geography, dtype: object"
      ]
     },
     "execution_count": 8,
     "metadata": {},
     "output_type": "execute_result"
    }
   ],
   "source": [
    "df['Geography'].describe() #Descriptive stastistics"
   ]
  },
  {
   "cell_type": "code",
   "execution_count": 9,
   "metadata": {},
   "outputs": [
    {
     "data": {
      "text/plain": [
       "count     10000\n",
       "unique        2\n",
       "top        Male\n",
       "freq       5457\n",
       "Name: Gender, dtype: object"
      ]
     },
     "execution_count": 9,
     "metadata": {},
     "output_type": "execute_result"
    }
   ],
   "source": [
    "df['Gender'].describe() #Descriptive stastistics"
   ]
  },
  {
   "cell_type": "code",
   "execution_count": 10,
   "metadata": {},
   "outputs": [],
   "source": [
    "import matplotlib.pyplot as plt #Import module to graph descriptive statistics"
   ]
  },
  {
   "cell_type": "code",
   "execution_count": 11,
   "metadata": {},
   "outputs": [
    {
     "data": {
      "image/png": "[encoded data removed]",
      "text/plain": [
       "<Figure size 600x400 with 1 Axes>"
      ]
     },
     "metadata": {},
     "output_type": "display_data"
    }
   ],
   "source": [
    "plt.figure(figsize=(6, 4)) #Graphing target distribution before split\n",
    "plt.hist(df['Exited'], bins=2, edgecolor='black', alpha=0.7)\n",
    "plt.xticks([0, 1], labels=[\"No Exited\", \"Exited\"])\n",
    "plt.xlabel(\"Exit status\")\n",
    "plt.ylabel(\"Frequency\")\n",
    "plt.title(\"Exit Status Distribution\")\n",
    "plt.grid(axis='y', linestyle='--', alpha=0.7)\n",
    "plt.show()"
   ]
  },
  {
   "cell_type": "markdown",
   "metadata": {},
   "source": [
    "Around 20% of Beta Bank clients have left. This is evidenced by the descriptive statistics and shown by the previous graph."
   ]
  },
  {
   "cell_type": "code",
   "execution_count": 12,
   "metadata": {},
   "outputs": [
    {
     "data": {
      "image/png": "[encoded data removed]",
      "text/plain": [
       "<Figure size 1000x800 with 12 Axes>"
      ]
     },
     "metadata": {},
     "output_type": "display_data"
    }
   ],
   "source": [
    "# Make histograms for all numeric variables in df\n",
    "df.hist(figsize=(10, 8), bins=20, edgecolor='black', alpha=0.7)\n",
    "\n",
    "# Design\n",
    "plt.suptitle(\"Histogramas de todas las variables\", fontsize=16)\n",
    "plt.tight_layout()\n",
    "plt.show()"
   ]
  },
  {
   "cell_type": "markdown",
   "metadata": {},
   "source": [
    "There are normal, balanced and impaired distributions among the features."
   ]
  },
  {
   "cell_type": "markdown",
   "metadata": {},
   "source": [
    "<div class=\"alert alert-block alert-success\">\n",
    "<b>Comentario del revisor (1ra Iteración)</b> <a class=“tocSkip”></a>\n",
    "\n",
    "Muy bien Robert, has identificado que el dataset está desbalanceado. Esto es clave para definir el plan de trabajo\n",
    "\n",
    "</div>"
   ]
  },
  {
   "cell_type": "markdown",
   "metadata": {},
   "source": [
    "# Features and target general selection"
   ]
  },
  {
   "cell_type": "code",
   "execution_count": 13,
   "metadata": {},
   "outputs": [],
   "source": [
    "features = df.drop(['Exited', 'Surname'], axis=1) #Select features out of the dateframe"
   ]
  },
  {
   "cell_type": "markdown",
   "metadata": {},
   "source": [
    "'Surname' column was eliminated since it could have an overfitting effect on the results. It would also be unlikely that the future features we wanted to test, match the encoded previous data."
   ]
  },
  {
   "cell_type": "markdown",
   "metadata": {},
   "source": [
    "<div class=\"alert alert-block alert-warning\">\n",
    "<b>Comentario del revisor (1ra Iteración)</b> <a class=“tocSkip”></a>\n",
    "\n",
    "Buen trabajo eliminando la columna *Surname*, aunque también valdría la pena eliminar columnas como RowNumber y CustomerId, que dependen más de las estructura del dataset y no aportan mucho al modelo \n",
    "\n",
    "</div>"
   ]
  },
  {
   "cell_type": "code",
   "execution_count": 14,
   "metadata": {},
   "outputs": [],
   "source": [
    "target = df['Exited'] #Select target out of the dataframe"
   ]
  },
  {
   "cell_type": "code",
   "execution_count": 15,
   "metadata": {},
   "outputs": [],
   "source": [
    "from sklearn.model_selection import train_test_split #Import module to split dataset into training, validation and test sets"
   ]
  },
  {
   "cell_type": "code",
   "execution_count": 16,
   "metadata": {},
   "outputs": [],
   "source": [
    "train_features, valid_test_features, train_target, valid_test_target = train_test_split(features, target, test_size=0.4, random_state=12345)\n",
    "#Split features and target into train and valid_test sets with a 60:40 ratio"
   ]
  },
  {
   "cell_type": "code",
   "execution_count": 17,
   "metadata": {},
   "outputs": [],
   "source": [
    "valid_features, test_features, valid_target, test_target = train_test_split(valid_test_features, valid_test_target, test_size=0.5, random_state=12345)\n",
    "#Split valid_test_features and valid_test_target into separated validation and test sets"
   ]
  },
  {
   "cell_type": "code",
   "execution_count": 18,
   "metadata": {},
   "outputs": [
    {
     "name": "stdout",
     "output_type": "stream",
     "text": [
      "(6000, 12)\n",
      "\n",
      "(6000,)\n",
      "\n",
      "(2000, 12)\n",
      "\n",
      "(2000,)\n",
      "\n",
      "(2000, 12)\n",
      "\n",
      "(2000,)\n"
     ]
    }
   ],
   "source": [
    "print(train_features.shape)\n",
    "print()\n",
    "print(train_target.shape)\n",
    "print()\n",
    "print(valid_features.shape)\n",
    "print()\n",
    "print(valid_target.shape)\n",
    "print()\n",
    "print(test_features.shape)\n",
    "print()\n",
    "print(test_target.shape)"
   ]
  },
  {
   "cell_type": "code",
   "execution_count": 19,
   "metadata": {},
   "outputs": [
    {
     "name": "stdout",
     "output_type": "stream",
     "text": [
      "Train ratio: 60.00%\n",
      "Valid ratio: 20.00%\n",
      "Test ratio: 20.00%\n"
     ]
    }
   ],
   "source": [
    "# Total sample number\n",
    "total_samples = train_features.shape[0] + valid_features.shape[0] + test_features.shape[0]\n",
    "\n",
    "# Ratio calculation\n",
    "train_ratio = (train_features.shape[0] / total_samples) * 100\n",
    "valid_ratio = (valid_features.shape[0] / total_samples) * 100\n",
    "test_ratio = (test_features.shape[0] / total_samples) * 100\n",
    "\n",
    "# Show ratios\n",
    "print(f\"Train ratio: {train_ratio:.2f}%\")\n",
    "print(f\"Valid ratio: {valid_ratio:.2f}%\")\n",
    "print(f\"Test ratio: {test_ratio:.2f}%\")"
   ]
  },
  {
   "cell_type": "markdown",
   "metadata": {},
   "source": [
    "We verified that final ratios of the train, valid and test sets were the desired ones: 60:20:20."
   ]
  },
  {
   "cell_type": "code",
   "execution_count": 20,
   "metadata": {},
   "outputs": [
    {
     "data": {
      "text/plain": [
       "0    0.800667\n",
       "1    0.199333\n",
       "Name: Exited, dtype: float64"
      ]
     },
     "execution_count": 20,
     "metadata": {},
     "output_type": "execute_result"
    }
   ],
   "source": [
    "train_target.value_counts(normalize=True)"
   ]
  },
  {
   "cell_type": "code",
   "execution_count": 21,
   "metadata": {},
   "outputs": [
    {
     "data": {
      "text/plain": [
       "0    0.791\n",
       "1    0.209\n",
       "Name: Exited, dtype: float64"
      ]
     },
     "execution_count": 21,
     "metadata": {},
     "output_type": "execute_result"
    }
   ],
   "source": [
    "valid_target.value_counts(normalize=True)"
   ]
  },
  {
   "cell_type": "code",
   "execution_count": 22,
   "metadata": {},
   "outputs": [
    {
     "data": {
      "text/plain": [
       "0    0.7885\n",
       "1    0.2115\n",
       "Name: Exited, dtype: float64"
      ]
     },
     "execution_count": 22,
     "metadata": {},
     "output_type": "execute_result"
    }
   ],
   "source": [
    "test_target.value_counts(normalize=True)"
   ]
  },
  {
   "cell_type": "markdown",
   "metadata": {},
   "source": [
    "The dichotomous variable target kept in a similar proportion after the split (80:20)"
   ]
  },
  {
   "cell_type": "markdown",
   "metadata": {},
   "source": [
    "<div class=\"alert alert-block alert-success\">\n",
    "<b>Comentario del revisor (1ra Iteración)</b> <a class=“tocSkip”></a>\n",
    "\n",
    "Has dividido correctamente los datos en subconjunto de entrenamiento, validación y prueba. Esta separación garantiza una evaluación objetiva, evita el sobreajuste y asegura que el modelo sea confiable.\n",
    "\n",
    "</div>"
   ]
  },
  {
   "cell_type": "markdown",
   "metadata": {},
   "source": [
    "# One-Hot Encoding"
   ]
  },
  {
   "cell_type": "code",
   "execution_count": 23,
   "metadata": {},
   "outputs": [],
   "source": [
    "from sklearn.metrics import accuracy_score #Import accuracy score metric"
   ]
  },
  {
   "cell_type": "code",
   "execution_count": 24,
   "metadata": {},
   "outputs": [],
   "source": [
    "ohe_train_features = pd.get_dummies(train_features, drop_first=True) #One-Hot enconding for train features\n",
    "ohe_valid_features = pd.get_dummies(valid_features, drop_first=True) #One-Hot enconding for valid features\n",
    "ohe_test_features = pd.get_dummies(test_features, drop_first=True) #One-Hot enconding for test features"
   ]
  },
  {
   "cell_type": "code",
   "execution_count": 25,
   "metadata": {},
   "outputs": [
    {
     "name": "stdout",
     "output_type": "stream",
     "text": [
      "<class 'pandas.core.frame.DataFrame'>\n",
      "Int64Index: 6000 entries, 7479 to 4578\n",
      "Data columns (total 13 columns):\n",
      " #   Column             Non-Null Count  Dtype  \n",
      "---  ------             --------------  -----  \n",
      " 0   RowNumber          6000 non-null   int64  \n",
      " 1   CustomerId         6000 non-null   int64  \n",
      " 2   CreditScore        6000 non-null   int64  \n",
      " 3   Age                6000 non-null   int64  \n",
      " 4   Tenure             6000 non-null   float64\n",
      " 5   Balance            6000 non-null   float64\n",
      " 6   NumOfProducts      6000 non-null   int64  \n",
      " 7   HasCrCard          6000 non-null   int64  \n",
      " 8   IsActiveMember     6000 non-null   int64  \n",
      " 9   EstimatedSalary    6000 non-null   float64\n",
      " 10  Geography_Germany  6000 non-null   uint8  \n",
      " 11  Geography_Spain    6000 non-null   uint8  \n",
      " 12  Gender_Male        6000 non-null   uint8  \n",
      "dtypes: float64(3), int64(7), uint8(3)\n",
      "memory usage: 533.2 KB\n",
      "None\n",
      "\n",
      "<class 'pandas.core.frame.DataFrame'>\n",
      "Int64Index: 2000 entries, 8532 to 6895\n",
      "Data columns (total 13 columns):\n",
      " #   Column             Non-Null Count  Dtype  \n",
      "---  ------             --------------  -----  \n",
      " 0   RowNumber          2000 non-null   int64  \n",
      " 1   CustomerId         2000 non-null   int64  \n",
      " 2   CreditScore        2000 non-null   int64  \n",
      " 3   Age                2000 non-null   int64  \n",
      " 4   Tenure             2000 non-null   float64\n",
      " 5   Balance            2000 non-null   float64\n",
      " 6   NumOfProducts      2000 non-null   int64  \n",
      " 7   HasCrCard          2000 non-null   int64  \n",
      " 8   IsActiveMember     2000 non-null   int64  \n",
      " 9   EstimatedSalary    2000 non-null   float64\n",
      " 10  Geography_Germany  2000 non-null   uint8  \n",
      " 11  Geography_Spain    2000 non-null   uint8  \n",
      " 12  Gender_Male        2000 non-null   uint8  \n",
      "dtypes: float64(3), int64(7), uint8(3)\n",
      "memory usage: 177.7 KB\n",
      "None\n",
      "\n",
      "<class 'pandas.core.frame.DataFrame'>\n",
      "Int64Index: 2000 entries, 7041 to 3366\n",
      "Data columns (total 13 columns):\n",
      " #   Column             Non-Null Count  Dtype  \n",
      "---  ------             --------------  -----  \n",
      " 0   RowNumber          2000 non-null   int64  \n",
      " 1   CustomerId         2000 non-null   int64  \n",
      " 2   CreditScore        2000 non-null   int64  \n",
      " 3   Age                2000 non-null   int64  \n",
      " 4   Tenure             2000 non-null   float64\n",
      " 5   Balance            2000 non-null   float64\n",
      " 6   NumOfProducts      2000 non-null   int64  \n",
      " 7   HasCrCard          2000 non-null   int64  \n",
      " 8   IsActiveMember     2000 non-null   int64  \n",
      " 9   EstimatedSalary    2000 non-null   float64\n",
      " 10  Geography_Germany  2000 non-null   uint8  \n",
      " 11  Geography_Spain    2000 non-null   uint8  \n",
      " 12  Gender_Male        2000 non-null   uint8  \n",
      "dtypes: float64(3), int64(7), uint8(3)\n",
      "memory usage: 177.7 KB\n",
      "None\n"
     ]
    }
   ],
   "source": [
    "#One-Hot Encoding verification\n",
    "print(ohe_train_features.info())\n",
    "print()\n",
    "print(ohe_valid_features.info())\n",
    "print()\n",
    "print(ohe_test_features.info())"
   ]
  },
  {
   "cell_type": "markdown",
   "metadata": {},
   "source": [
    "There isn't any object data type anymore."
   ]
  },
  {
   "cell_type": "markdown",
   "metadata": {},
   "source": [
    "<div class=\"alert alert-block alert-success\">\n",
    "<b>Comentario del revisor (1ra Iteración)</b> <a class=“tocSkip”></a>\n",
    "\n",
    "Buen trabajo codificando las variables categóricas esto garantizará que los modelos se entrenen correctamente.\n",
    "\n",
    "</div>"
   ]
  },
  {
   "cell_type": "markdown",
   "metadata": {},
   "source": [
    "# Upsampling with One-Hot encoding"
   ]
  },
  {
   "cell_type": "code",
   "execution_count": 26,
   "metadata": {},
   "outputs": [],
   "source": [
    "from sklearn.utils import shuffle #Import module to shuffle duplicated observations"
   ]
  },
  {
   "cell_type": "code",
   "execution_count": 27,
   "metadata": {},
   "outputs": [],
   "source": [
    "def ohe_upsample(features, target, repeat):\n",
    "    features_zeros = features[target == 0]\n",
    "    features_ones = features[target == 1]\n",
    "    target_zeros = target[target == 0]\n",
    "    target_ones = target[target == 1]\n",
    "\n",
    "    ohe_features_upsampled = pd.concat([features_zeros] + [features_ones] * repeat)\n",
    "    ohe_target_upsampled = pd.concat([target_zeros] + [target_ones] * repeat)\n",
    "\n",
    "    ohe_features_upsampled, ohe_target_upsampled = shuffle(\n",
    "        ohe_features_upsampled, ohe_target_upsampled, random_state=12345\n",
    "    )\n",
    "\n",
    "    return ohe_features_upsampled, ohe_target_upsampled\n",
    "\n",
    "\n",
    "ohe_features_upsampled, ohe_target_upsampled = ohe_upsample(\n",
    "    ohe_train_features, train_target, 4\n",
    ")"
   ]
  },
  {
   "cell_type": "code",
   "execution_count": 28,
   "metadata": {},
   "outputs": [
    {
     "data": {
      "text/plain": [
       "0    0.501043\n",
       "1    0.498957\n",
       "Name: Exited, dtype: float64"
      ]
     },
     "execution_count": 28,
     "metadata": {},
     "output_type": "execute_result"
    }
   ],
   "source": [
    "ohe_target_upsampled.value_counts(normalize=True)"
   ]
  },
  {
   "cell_type": "markdown",
   "metadata": {},
   "source": [
    "Now the ratio among the dichotomous target value is approximately 1:1"
   ]
  },
  {
   "cell_type": "markdown",
   "metadata": {},
   "source": [
    "# Downsampling with One-Hot encoding"
   ]
  },
  {
   "cell_type": "code",
   "execution_count": 29,
   "metadata": {},
   "outputs": [],
   "source": [
    "def ohe_downsample(features, target, fraction):\n",
    "    features_zeros = features[target == 0]\n",
    "    features_ones = features[target == 1]\n",
    "    target_zeros = target[target == 0]\n",
    "    target_ones = target[target == 1]\n",
    "\n",
    "    ohe_features_downsampled = pd.concat(\n",
    "        [features_zeros.sample(frac=fraction, random_state=12345)]\n",
    "        + [features_ones]\n",
    "    )\n",
    "    ohe_target_downsampled = pd.concat(\n",
    "        [target_zeros.sample(frac=fraction, random_state=12345)]\n",
    "        + [target_ones]\n",
    "    )\n",
    "\n",
    "    ohe_features_downsampled, ohe_target_downsampled = shuffle(\n",
    "        ohe_features_downsampled, ohe_target_downsampled, random_state=12345\n",
    "    )\n",
    "\n",
    "    return ohe_features_downsampled, ohe_target_downsampled\n",
    "\n",
    "\n",
    "ohe_features_downsampled, ohe_target_downsampled = ohe_downsample(\n",
    "    ohe_train_features, train_target, 0.25\n",
    ")"
   ]
  },
  {
   "cell_type": "code",
   "execution_count": 30,
   "metadata": {},
   "outputs": [
    {
     "data": {
      "text/plain": [
       "0    0.501043\n",
       "1    0.498957\n",
       "Name: Exited, dtype: float64"
      ]
     },
     "execution_count": 30,
     "metadata": {},
     "output_type": "execute_result"
    }
   ],
   "source": [
    "ohe_target_downsampled.value_counts(normalize=True)"
   ]
  },
  {
   "cell_type": "markdown",
   "metadata": {},
   "source": [
    "The ratio among the dichotomous target value is approximately 1:1"
   ]
  },
  {
   "cell_type": "markdown",
   "metadata": {},
   "source": [
    "<div class=\"alert alert-block alert-success\">\n",
    "<b>Comentario del revisor (1ra Iteración)</b> <a class=“tocSkip”></a>\n",
    "\n",
    "Excelente implemantación de las técnicas de balanceo, has logrados equilibrar correctamente las clases, lo cual es clave para garantizar el buen rendimiento de los modelosm\n",
    "\n",
    "</div>"
   ]
  },
  {
   "cell_type": "markdown",
   "metadata": {},
   "source": [
    "# Logistic Regression Model without class imbalance adjustments"
   ]
  },
  {
   "cell_type": "code",
   "execution_count": 31,
   "metadata": {},
   "outputs": [],
   "source": [
    "from sklearn.linear_model import LogisticRegression #Import Logistic Regression model builder"
   ]
  },
  {
   "cell_type": "code",
   "execution_count": 32,
   "metadata": {},
   "outputs": [],
   "source": [
    "lr_model = LogisticRegression(solver='liblinear', random_state=12345) #Define Logistic Regression model"
   ]
  },
  {
   "cell_type": "code",
   "execution_count": 33,
   "metadata": {},
   "outputs": [
    {
     "data": {
      "text/plain": [
       "LogisticRegression(random_state=12345, solver='liblinear')"
      ]
     },
     "execution_count": 33,
     "metadata": {},
     "output_type": "execute_result"
    }
   ],
   "source": [
    "lr_model.fit(ohe_train_features, train_target) #Train the LR model"
   ]
  },
  {
   "cell_type": "code",
   "execution_count": 34,
   "metadata": {},
   "outputs": [],
   "source": [
    "lr_model_train_score = lr_model.score(ohe_train_features, train_target) #Score the model with the train data"
   ]
  },
  {
   "cell_type": "code",
   "execution_count": 35,
   "metadata": {},
   "outputs": [],
   "source": [
    "lr_model_valid_score = lr_model.score(ohe_valid_features, valid_target) #Score the model with the valid data"
   ]
  },
  {
   "cell_type": "code",
   "execution_count": 36,
   "metadata": {},
   "outputs": [
    {
     "name": "stdout",
     "output_type": "stream",
     "text": [
      "Accuracy of the logistic regression model on the training set: 0.8006666666666666\n",
      "Accuracy of the logistic regression model on the validation set: 0.791\n"
     ]
    }
   ],
   "source": [
    "print(\"Accuracy of the logistic regression model on the training set:\", lr_model_train_score)\n",
    "print(\"Accuracy of the logistic regression model on the validation set:\", lr_model_valid_score)"
   ]
  },
  {
   "cell_type": "code",
   "execution_count": 37,
   "metadata": {},
   "outputs": [],
   "source": [
    "from sklearn.metrics import f1_score #Import F1 metric"
   ]
  },
  {
   "cell_type": "code",
   "execution_count": 38,
   "metadata": {},
   "outputs": [],
   "source": [
    "lr_model_valid_prediction = lr_model.predict(ohe_valid_features)"
   ]
  },
  {
   "cell_type": "code",
   "execution_count": 39,
   "metadata": {},
   "outputs": [
    {
     "name": "stdout",
     "output_type": "stream",
     "text": [
      "0.0\n"
     ]
    }
   ],
   "source": [
    "print(f1_score(valid_target, lr_model_valid_prediction))"
   ]
  },
  {
   "cell_type": "markdown",
   "metadata": {},
   "source": [
    "<div class=\"alert alert-block alert-success\">\n",
    "<b>Comentario del revisor (1ra Iteración)</b> <a class=“tocSkip”></a>\n",
    "\n",
    "Excelente Robert, realizar esta primera implementación del modelo de clasificación nos permitirá tener una base para evaluar el efecto de las técnica de equilibrio de clases.\n",
    "\n",
    "</div>"
   ]
  },
  {
   "cell_type": "markdown",
   "metadata": {},
   "source": [
    "# Improve the LR model by addressing class imbalance with class_weight"
   ]
  },
  {
   "cell_type": "code",
   "execution_count": 40,
   "metadata": {},
   "outputs": [],
   "source": [
    "#Define LR model with class_weight adjustment\n",
    "cw_lr_model = LogisticRegression(random_state=12345, solver='liblinear', class_weight='balanced')"
   ]
  },
  {
   "cell_type": "code",
   "execution_count": 41,
   "metadata": {},
   "outputs": [],
   "source": [
    "cw_lr_model.fit(ohe_train_features, train_target)\n",
    "cw_lr_valid_prediction = cw_lr_model.predict(ohe_valid_features)"
   ]
  },
  {
   "cell_type": "code",
   "execution_count": 42,
   "metadata": {},
   "outputs": [
    {
     "name": "stdout",
     "output_type": "stream",
     "text": [
      "Accuracy 0.7075\n"
     ]
    }
   ],
   "source": [
    "print('Accuracy', accuracy_score(valid_target, cw_lr_valid_prediction))"
   ]
  },
  {
   "cell_type": "code",
   "execution_count": 43,
   "metadata": {},
   "outputs": [
    {
     "name": "stdout",
     "output_type": "stream",
     "text": [
      "F1: 0.496124031007752\n"
     ]
    }
   ],
   "source": [
    "print('F1:', f1_score(valid_target, cw_lr_valid_prediction))"
   ]
  },
  {
   "cell_type": "markdown",
   "metadata": {},
   "source": [
    "The class_weight adjustment obtained 0.7075 for accuracy and 0.496 for F1 score"
   ]
  },
  {
   "cell_type": "markdown",
   "metadata": {},
   "source": [
    "# Improve the LR model by addressing class imbalance with upsampling"
   ]
  },
  {
   "cell_type": "code",
   "execution_count": 44,
   "metadata": {},
   "outputs": [
    {
     "data": {
      "text/plain": [
       "LogisticRegression(random_state=12345, solver='liblinear')"
      ]
     },
     "execution_count": 44,
     "metadata": {},
     "output_type": "execute_result"
    }
   ],
   "source": [
    "#Define and train LR model with upsampling adjustment\n",
    "up_lr_model = LogisticRegression(solver='liblinear', random_state=12345)\n",
    "up_lr_model.fit(ohe_features_upsampled, ohe_target_upsampled)"
   ]
  },
  {
   "cell_type": "code",
   "execution_count": 45,
   "metadata": {},
   "outputs": [],
   "source": [
    "up_valid_prediction = up_lr_model.predict(ohe_valid_features)"
   ]
  },
  {
   "cell_type": "code",
   "execution_count": 46,
   "metadata": {},
   "outputs": [
    {
     "name": "stdout",
     "output_type": "stream",
     "text": [
      "Accuracy 0.705\n"
     ]
    }
   ],
   "source": [
    "print('Accuracy', accuracy_score(valid_target, up_valid_prediction))"
   ]
  },
  {
   "cell_type": "code",
   "execution_count": 47,
   "metadata": {},
   "outputs": [
    {
     "name": "stdout",
     "output_type": "stream",
     "text": [
      "F1: 0.49225473321858865\n"
     ]
    }
   ],
   "source": [
    "print('F1:', f1_score(valid_target, up_valid_prediction))"
   ]
  },
  {
   "cell_type": "markdown",
   "metadata": {},
   "source": [
    "# Improve the LR model by addressing class imbalance with downsampling"
   ]
  },
  {
   "cell_type": "code",
   "execution_count": 48,
   "metadata": {},
   "outputs": [
    {
     "data": {
      "text/plain": [
       "LogisticRegression(random_state=12345, solver='liblinear')"
      ]
     },
     "execution_count": 48,
     "metadata": {},
     "output_type": "execute_result"
    }
   ],
   "source": [
    "#Define and train LR model with downsampling adjustment\n",
    "down_lr_model = LogisticRegression(solver='liblinear', random_state=12345)\n",
    "down_lr_model.fit(ohe_features_downsampled, ohe_target_downsampled)"
   ]
  },
  {
   "cell_type": "code",
   "execution_count": 49,
   "metadata": {},
   "outputs": [],
   "source": [
    "down_valid_prediction = down_lr_model.predict(ohe_valid_features)"
   ]
  },
  {
   "cell_type": "code",
   "execution_count": 50,
   "metadata": {},
   "outputs": [
    {
     "name": "stdout",
     "output_type": "stream",
     "text": [
      "Accuracy 0.7025\n"
     ]
    }
   ],
   "source": [
    "print('Accuracy', accuracy_score(valid_target, down_valid_prediction))"
   ]
  },
  {
   "cell_type": "code",
   "execution_count": 51,
   "metadata": {},
   "outputs": [
    {
     "name": "stdout",
     "output_type": "stream",
     "text": [
      "F1: 0.4848484848484849\n"
     ]
    }
   ],
   "source": [
    "print('F1:', f1_score(valid_target, down_valid_prediction))"
   ]
  },
  {
   "cell_type": "markdown",
   "metadata": {},
   "source": [
    "# Improve the LR model by addressing class imbalance with class threshold adjustment"
   ]
  },
  {
   "cell_type": "code",
   "execution_count": 52,
   "metadata": {},
   "outputs": [
    {
     "data": {
      "text/plain": [
       "LogisticRegression(random_state=12345, solver='liblinear')"
      ]
     },
     "execution_count": 52,
     "metadata": {},
     "output_type": "execute_result"
    }
   ],
   "source": [
    "#Define and train LR model with class threshold adjustment\n",
    "threshold_lr_model = LogisticRegression(random_state=12345, solver='liblinear')\n",
    "threshold_lr_model.fit(ohe_train_features, train_target)"
   ]
  },
  {
   "cell_type": "code",
   "execution_count": 53,
   "metadata": {},
   "outputs": [],
   "source": [
    "#Calculate the target class probability\n",
    "probabilities_valid = threshold_lr_model.predict_proba(ohe_valid_features)\n",
    "probabilities_one_valid = probabilities_valid[:, 1]"
   ]
  },
  {
   "cell_type": "code",
   "execution_count": 54,
   "metadata": {},
   "outputs": [],
   "source": [
    "import numpy as np #Import Numpy Library to range decimal numbers\n",
    "from sklearn.metrics import precision_score, recall_score #Import precision and recall metrics"
   ]
  },
  {
   "cell_type": "code",
   "execution_count": 55,
   "metadata": {},
   "outputs": [
    {
     "name": "stdout",
     "output_type": "stream",
     "text": [
      "Threshold = 0.00 | Precision = 0.209, Recall = 1.000, F1 = 0.346\n",
      "Threshold = 0.02 | Precision = 0.209, Recall = 1.000, F1 = 0.346\n",
      "Threshold = 0.04 | Precision = 0.209, Recall = 1.000, F1 = 0.346\n",
      "Threshold = 0.06 | Precision = 0.209, Recall = 1.000, F1 = 0.346\n",
      "Threshold = 0.08 | Precision = 0.209, Recall = 1.000, F1 = 0.346\n",
      "Threshold = 0.10 | Precision = 0.209, Recall = 1.000, F1 = 0.346\n",
      "Threshold = 0.12 | Precision = 0.209, Recall = 1.000, F1 = 0.346\n",
      "Threshold = 0.14 | Precision = 0.229, Recall = 0.852, F1 = 0.361\n",
      "Threshold = 0.16 | Precision = 0.245, Recall = 0.749, F1 = 0.369\n",
      "Threshold = 0.18 | Precision = 0.246, Recall = 0.737, F1 = 0.369\n",
      "Threshold = 0.20 | Precision = 0.251, Recall = 0.684, F1 = 0.367\n",
      "Threshold = 0.22 | Precision = 0.246, Recall = 0.522, F1 = 0.335\n",
      "Threshold = 0.24 | Precision = 0.226, Recall = 0.287, F1 = 0.253\n",
      "Threshold = 0.26 | Precision = 0.221, Recall = 0.129, F1 = 0.163\n",
      "Threshold = 0.28 | Precision = 0.264, Recall = 0.055, F1 = 0.091\n"
     ]
    }
   ],
   "source": [
    "for threshold in np.arange(0, 0.3, 0.02):\n",
    "    predicted_valid = probabilities_one_valid > threshold\n",
    "    precision = precision_score(valid_target, predicted_valid)\n",
    "    recall = recall_score(valid_target, predicted_valid)\n",
    "    f1 = f1_score(valid_target, predicted_valid)\n",
    "\n",
    "    print(\n",
    "        \t'Threshold = {:.2f} | Precision = {:.3f}, Recall = {:.3f}, F1 = {:.3f}'.format(\n",
    "            \tthreshold, precision, recall, f1\n",
    "        \t)\n",
    "    \t)"
   ]
  },
  {
   "cell_type": "markdown",
   "metadata": {},
   "source": [
    "<div class=\"alert alert-block alert-success\">\n",
    "<b>Comentario del revisor (1ra Iteración)</b> <a class=“tocSkip”></a>\n",
    "\n",
    "Gran trabajo Robert, tu implementación de las técnicas de equilibrio de clases evidencian un dominió claro en la implementación y mejora de los modelos de machine learning para clasificación. \n",
    "\n",
    "</div>"
   ]
  },
  {
   "cell_type": "markdown",
   "metadata": {},
   "source": [
    "# Ordinal Encoder"
   ]
  },
  {
   "cell_type": "code",
   "execution_count": 56,
   "metadata": {},
   "outputs": [],
   "source": [
    "from sklearn.preprocessing import OrdinalEncoder #Import Ordinal Encoder module"
   ]
  },
  {
   "cell_type": "code",
   "execution_count": 57,
   "metadata": {},
   "outputs": [],
   "source": [
    "ordinal_encoder = OrdinalEncoder() #Asign Ordinal Enconcer to a variable"
   ]
  },
  {
   "cell_type": "code",
   "execution_count": 58,
   "metadata": {},
   "outputs": [
    {
     "data": {
      "text/plain": [
       "OrdinalEncoder()"
      ]
     },
     "execution_count": 58,
     "metadata": {},
     "output_type": "execute_result"
    }
   ],
   "source": [
    "ordinal_encoder.fit(features) #Train the ordinal encoder with the whole features"
   ]
  },
  {
   "cell_type": "code",
   "execution_count": 59,
   "metadata": {},
   "outputs": [],
   "source": [
    "ordinal_train_features = pd.DataFrame(ordinal_encoder.transform(train_features), columns=train_features.columns)\n",
    "#Transform train features into a label coded DF"
   ]
  },
  {
   "cell_type": "code",
   "execution_count": 60,
   "metadata": {},
   "outputs": [],
   "source": [
    "ordinal_valid_features = pd.DataFrame(ordinal_encoder.transform(valid_features), columns=valid_features.columns)\n",
    "#Transform valid features into a label coded DF"
   ]
  },
  {
   "cell_type": "code",
   "execution_count": 61,
   "metadata": {},
   "outputs": [],
   "source": [
    "ordinal_test_features = pd.DataFrame(ordinal_encoder.transform(test_features), columns=test_features.columns)\n",
    "#Transform test features into a label coded DF"
   ]
  },
  {
   "cell_type": "code",
   "execution_count": 62,
   "metadata": {},
   "outputs": [
    {
     "name": "stdout",
     "output_type": "stream",
     "text": [
      "<class 'pandas.core.frame.DataFrame'>\n",
      "RangeIndex: 6000 entries, 0 to 5999\n",
      "Data columns (total 12 columns):\n",
      " #   Column           Non-Null Count  Dtype  \n",
      "---  ------           --------------  -----  \n",
      " 0   RowNumber        6000 non-null   float64\n",
      " 1   CustomerId       6000 non-null   float64\n",
      " 2   CreditScore      6000 non-null   float64\n",
      " 3   Geography        6000 non-null   float64\n",
      " 4   Gender           6000 non-null   float64\n",
      " 5   Age              6000 non-null   float64\n",
      " 6   Tenure           6000 non-null   float64\n",
      " 7   Balance          6000 non-null   float64\n",
      " 8   NumOfProducts    6000 non-null   float64\n",
      " 9   HasCrCard        6000 non-null   float64\n",
      " 10  IsActiveMember   6000 non-null   float64\n",
      " 11  EstimatedSalary  6000 non-null   float64\n",
      "dtypes: float64(12)\n",
      "memory usage: 562.6 KB\n",
      "None\n",
      "\n",
      "<class 'pandas.core.frame.DataFrame'>\n",
      "RangeIndex: 2000 entries, 0 to 1999\n",
      "Data columns (total 12 columns):\n",
      " #   Column           Non-Null Count  Dtype  \n",
      "---  ------           --------------  -----  \n",
      " 0   RowNumber        2000 non-null   float64\n",
      " 1   CustomerId       2000 non-null   float64\n",
      " 2   CreditScore      2000 non-null   float64\n",
      " 3   Geography        2000 non-null   float64\n",
      " 4   Gender           2000 non-null   float64\n",
      " 5   Age              2000 non-null   float64\n",
      " 6   Tenure           2000 non-null   float64\n",
      " 7   Balance          2000 non-null   float64\n",
      " 8   NumOfProducts    2000 non-null   float64\n",
      " 9   HasCrCard        2000 non-null   float64\n",
      " 10  IsActiveMember   2000 non-null   float64\n",
      " 11  EstimatedSalary  2000 non-null   float64\n",
      "dtypes: float64(12)\n",
      "memory usage: 187.6 KB\n",
      "None\n",
      "\n",
      "<class 'pandas.core.frame.DataFrame'>\n",
      "RangeIndex: 2000 entries, 0 to 1999\n",
      "Data columns (total 12 columns):\n",
      " #   Column           Non-Null Count  Dtype  \n",
      "---  ------           --------------  -----  \n",
      " 0   RowNumber        2000 non-null   float64\n",
      " 1   CustomerId       2000 non-null   float64\n",
      " 2   CreditScore      2000 non-null   float64\n",
      " 3   Geography        2000 non-null   float64\n",
      " 4   Gender           2000 non-null   float64\n",
      " 5   Age              2000 non-null   float64\n",
      " 6   Tenure           2000 non-null   float64\n",
      " 7   Balance          2000 non-null   float64\n",
      " 8   NumOfProducts    2000 non-null   float64\n",
      " 9   HasCrCard        2000 non-null   float64\n",
      " 10  IsActiveMember   2000 non-null   float64\n",
      " 11  EstimatedSalary  2000 non-null   float64\n",
      "dtypes: float64(12)\n",
      "memory usage: 187.6 KB\n",
      "None\n"
     ]
    }
   ],
   "source": [
    "#Verify that the object data were converted into a numerical type\n",
    "print(ordinal_train_features.info())\n",
    "print()\n",
    "print(ordinal_valid_features.info())\n",
    "print()\n",
    "print(ordinal_test_features.info())"
   ]
  },
  {
   "cell_type": "markdown",
   "metadata": {},
   "source": [
    "<div class=\"alert alert-block alert-success\">\n",
    "<b>Comentario del revisor (1ra Iteración)</b> <a class=“tocSkip”></a>\n",
    "\n",
    "Excelente idea probar diferentes técnicas de codificación de valores categorícos esto te permitirá encontrar la mejor combinación en la implementación del modelo. \n",
    "\n",
    "</div>"
   ]
  },
  {
   "cell_type": "markdown",
   "metadata": {},
   "source": [
    "# Decision Tree Classifier Model without class imbalance adjustments"
   ]
  },
  {
   "cell_type": "code",
   "execution_count": 63,
   "metadata": {},
   "outputs": [],
   "source": [
    "from sklearn.tree import DecisionTreeClassifier #Import Decision Tree Classifier model builder"
   ]
  },
  {
   "cell_type": "code",
   "execution_count": 64,
   "metadata": {},
   "outputs": [],
   "source": [
    "dtc_model = DecisionTreeClassifier(random_state=12345)"
   ]
  },
  {
   "cell_type": "code",
   "execution_count": 65,
   "metadata": {},
   "outputs": [
    {
     "data": {
      "text/plain": [
       "DecisionTreeClassifier(random_state=12345)"
      ]
     },
     "execution_count": 65,
     "metadata": {},
     "output_type": "execute_result"
    }
   ],
   "source": [
    "dtc_model.fit(ordinal_train_features, train_target)"
   ]
  },
  {
   "cell_type": "markdown",
   "metadata": {},
   "source": [
    "Bucle for para buscar mejor profundidad"
   ]
  },
  {
   "cell_type": "code",
   "execution_count": 66,
   "metadata": {},
   "outputs": [
    {
     "name": "stdout",
     "output_type": "stream",
     "text": [
      "max_depth = 1 : 0.791\n",
      "max_depth = 2 : 0.824\n",
      "max_depth = 3 : 0.838\n",
      "max_depth = 4 : 0.852\n",
      "max_depth = 5 : 0.851\n"
     ]
    }
   ],
   "source": [
    "for max_depth in range(1, 6):\n",
    "    dtc_model = DecisionTreeClassifier(max_depth=max_depth, random_state=12345)\n",
    "    dtc_model.fit(ordinal_train_features, train_target)\n",
    "    dtc_train_predictions = dtc_model.predict(ordinal_train_features)\n",
    "    dtc_valid_predictions = dtc_model.predict(ordinal_valid_features)\n",
    "    print(f\"max_depth = {max_depth} :\", accuracy_score(valid_target, dtc_valid_predictions))"
   ]
  },
  {
   "cell_type": "markdown",
   "metadata": {},
   "source": [
    "The best maximal depth for this model was 4"
   ]
  },
  {
   "cell_type": "code",
   "execution_count": 67,
   "metadata": {},
   "outputs": [],
   "source": [
    "dtc_model = DecisionTreeClassifier(max_depth=4, random_state=12345) #We pick the best previous model for the validation\n",
    "dtc_model.fit(ordinal_train_features, train_target) #Train the best model\n",
    "dtc_model_valid_prediction = dtc_model.predict(ordinal_valid_features) #Make valid predictions"
   ]
  },
  {
   "cell_type": "code",
   "execution_count": 68,
   "metadata": {},
   "outputs": [
    {
     "name": "stdout",
     "output_type": "stream",
     "text": [
      "0.5515151515151515\n"
     ]
    }
   ],
   "source": [
    "print(f1_score(valid_target, dtc_model_valid_prediction)) #Obtain the F1 score"
   ]
  },
  {
   "cell_type": "markdown",
   "metadata": {},
   "source": [
    "# Improve the DTC model by addressing class imbalance with class_weight"
   ]
  },
  {
   "cell_type": "code",
   "execution_count": 69,
   "metadata": {},
   "outputs": [
    {
     "data": {
      "text/plain": [
       "DecisionTreeClassifier(class_weight='balanced', random_state=12345)"
      ]
     },
     "execution_count": 69,
     "metadata": {},
     "output_type": "execute_result"
    }
   ],
   "source": [
    "cw_dtc_model = DecisionTreeClassifier(random_state=12345, class_weight='balanced')\n",
    "cw_dtc_model.fit(ordinal_train_features, train_target)"
   ]
  },
  {
   "cell_type": "code",
   "execution_count": 70,
   "metadata": {},
   "outputs": [
    {
     "name": "stdout",
     "output_type": "stream",
     "text": [
      "max_depth = 1 : 0.7545\n",
      "max_depth = 2 : 0.765\n",
      "max_depth = 3 : 0.765\n",
      "max_depth = 4 : 0.711\n",
      "max_depth = 5 : 0.8065\n",
      "max_depth = 6 : 0.7495\n"
     ]
    }
   ],
   "source": [
    "for max_depth in range(1, 7):\n",
    "    cw_dtc_model = DecisionTreeClassifier(max_depth=max_depth, random_state=12345, class_weight='balanced')\n",
    "    cw_dtc_model.fit(ordinal_train_features, train_target)\n",
    "    cw_dtc_train_predictions = cw_dtc_model.predict(ordinal_train_features)\n",
    "    cw_dtc_valid_predictions = cw_dtc_model.predict(ordinal_valid_features)\n",
    "    print(f\"max_depth = {max_depth} :\", accuracy_score(valid_target, cw_dtc_valid_predictions))"
   ]
  },
  {
   "cell_type": "markdown",
   "metadata": {},
   "source": [
    "The best maximal depth for this model was 5"
   ]
  },
  {
   "cell_type": "code",
   "execution_count": 71,
   "metadata": {},
   "outputs": [],
   "source": [
    "#Define DTC model with class_weight adjustment\n",
    "cw_dtc_model = DecisionTreeClassifier(max_depth=5, random_state=12345, class_weight='balanced')"
   ]
  },
  {
   "cell_type": "code",
   "execution_count": 72,
   "metadata": {},
   "outputs": [],
   "source": [
    "cw_dtc_model.fit(ordinal_train_features, train_target)\n",
    "cw_dtc_valid_prediction = cw_dtc_model.predict(ordinal_valid_features)"
   ]
  },
  {
   "cell_type": "code",
   "execution_count": 73,
   "metadata": {},
   "outputs": [
    {
     "name": "stdout",
     "output_type": "stream",
     "text": [
      "Accuracy 0.8065\n"
     ]
    }
   ],
   "source": [
    "print('Accuracy', accuracy_score(valid_target, cw_dtc_valid_prediction))"
   ]
  },
  {
   "cell_type": "code",
   "execution_count": 74,
   "metadata": {},
   "outputs": [
    {
     "name": "stdout",
     "output_type": "stream",
     "text": [
      "F1 0.5887353878852285\n"
     ]
    }
   ],
   "source": [
    "print('F1', f1_score(valid_target, cw_dtc_valid_prediction))"
   ]
  },
  {
   "cell_type": "markdown",
   "metadata": {},
   "source": [
    "Althoug the accuracy of the class_weight Decision Tree Classfier got worse compared to the normal Decision Tree Classfier, the F1 score improved. Acuracy: 0.852 vs 0.8065. F1 score: 0.551 vs 0.588."
   ]
  },
  {
   "cell_type": "markdown",
   "metadata": {},
   "source": [
    "# Upsampling with Ordinal Encoder"
   ]
  },
  {
   "cell_type": "code",
   "execution_count": 75,
   "metadata": {},
   "outputs": [],
   "source": [
    "def oe_upsample(features, target, repeat):\n",
    "    # Reset the indices of both features and target\n",
    "    features = features.reset_index(drop=True)\n",
    "    target = target.reset_index(drop=True)\n",
    "    # I don't know why resetting indexes was necessary in this code while the Upsampling with One-Hot Encoding worked withour this index reset\n",
    "    # I WILL APPRECIATE IF THE CODE REVISER CAN EVALUATE THE DIFFERENCE AMONG THE 2 OF THEM.\n",
    "    \n",
    "    features_zeros = features[target == 0]\n",
    "    features_ones = features[target == 1]\n",
    "    target_zeros = target[target == 0]\n",
    "    target_ones = target[target == 1]\n",
    "\n",
    "    oe_features_upsampled = pd.concat([features_zeros] + [features_ones] * repeat)\n",
    "    oe_target_upsampled = pd.concat([target_zeros] + [target_ones] * repeat)\n",
    "\n",
    "    oe_features_upsampled, oe_target_upsampled = shuffle(\n",
    "        oe_features_upsampled, oe_target_upsampled, random_state=12345\n",
    "    )\n",
    "\n",
    "    return oe_features_upsampled, oe_target_upsampled"
   ]
  },
  {
   "cell_type": "code",
   "execution_count": 76,
   "metadata": {},
   "outputs": [],
   "source": [
    "oe_features_upsampled, oe_target_upsampled = oe_upsample(\n",
    "    ordinal_train_features, train_target, 4\n",
    ")"
   ]
  },
  {
   "cell_type": "code",
   "execution_count": 77,
   "metadata": {},
   "outputs": [
    {
     "data": {
      "text/plain": [
       "0    0.501043\n",
       "1    0.498957\n",
       "Name: Exited, dtype: float64"
      ]
     },
     "execution_count": 77,
     "metadata": {},
     "output_type": "execute_result"
    }
   ],
   "source": [
    "oe_target_upsampled.value_counts(normalize=True)"
   ]
  },
  {
   "cell_type": "markdown",
   "metadata": {},
   "source": [
    "The ratio among the dichotomous target value is approximately 1:1"
   ]
  },
  {
   "cell_type": "markdown",
   "metadata": {},
   "source": [
    "# Downsampling with Ordinal Encoder"
   ]
  },
  {
   "cell_type": "code",
   "execution_count": 78,
   "metadata": {},
   "outputs": [],
   "source": [
    "def oe_downsample(features, target, fraction):\n",
    "        # Reset the indices of both features and target\n",
    "    features = features.reset_index(drop=True)\n",
    "    target = target.reset_index(drop=True)\n",
    "    # Still don't know why resetting indexes was necessary in this code while the downsampling with One-Hot Encoding worked withour this index reset\n",
    "    # I WISH YOU CAN PLEASE CLARIFY THIS FOR ME.\n",
    "    \n",
    "    \n",
    "    features_zeros = features[target == 0]\n",
    "    features_ones = features[target == 1]\n",
    "    target_zeros = target[target == 0]\n",
    "    target_ones = target[target == 1]\n",
    "\n",
    "    oe_features_downsampled = pd.concat(\n",
    "        [features_zeros.sample(frac=fraction, random_state=12345)]\n",
    "        + [features_ones]\n",
    "    )\n",
    "    oe_target_downsampled = pd.concat(\n",
    "        [target_zeros.sample(frac=fraction, random_state=12345)]\n",
    "        + [target_ones]\n",
    "    )\n",
    "\n",
    "    oe_features_downsampled, oe_target_downsampled = shuffle(\n",
    "        oe_features_downsampled, oe_target_downsampled, random_state=12345\n",
    "    )\n",
    "\n",
    "    return oe_features_downsampled, oe_target_downsampled\n",
    "\n",
    "\n",
    "oe_features_downsampled, oe_target_downsampled = oe_downsample(\n",
    "    ordinal_train_features, train_target, 0.25\n",
    ")"
   ]
  },
  {
   "cell_type": "code",
   "execution_count": 79,
   "metadata": {},
   "outputs": [
    {
     "data": {
      "text/plain": [
       "0    0.501043\n",
       "1    0.498957\n",
       "Name: Exited, dtype: float64"
      ]
     },
     "execution_count": 79,
     "metadata": {},
     "output_type": "execute_result"
    }
   ],
   "source": [
    "oe_target_downsampled.value_counts(normalize=True)"
   ]
  },
  {
   "cell_type": "markdown",
   "metadata": {},
   "source": [
    "The ratio among the dichotomous target value is approximately 1:1"
   ]
  },
  {
   "cell_type": "markdown",
   "metadata": {},
   "source": [
    "# Improve the DTC model by addressing class imbalance with upsampling"
   ]
  },
  {
   "cell_type": "code",
   "execution_count": 80,
   "metadata": {},
   "outputs": [
    {
     "data": {
      "text/plain": [
       "DecisionTreeClassifier(random_state=12345)"
      ]
     },
     "execution_count": 80,
     "metadata": {},
     "output_type": "execute_result"
    }
   ],
   "source": [
    "#Define and train DTC model with upsampling adjustment\n",
    "up_dtc_model = DecisionTreeClassifier(random_state=12345)\n",
    "up_dtc_model.fit(oe_features_upsampled, oe_target_upsampled)"
   ]
  },
  {
   "cell_type": "code",
   "execution_count": 81,
   "metadata": {},
   "outputs": [
    {
     "name": "stdout",
     "output_type": "stream",
     "text": [
      "max_depth = 1 : 0.7545\n",
      "max_depth = 2 : 0.765\n",
      "max_depth = 3 : 0.765\n",
      "max_depth = 4 : 0.711\n",
      "max_depth = 5 : 0.8075\n",
      "max_depth = 6 : 0.749\n"
     ]
    }
   ],
   "source": [
    "for max_depth in range(1, 7):\n",
    "    up_dtc_model = DecisionTreeClassifier(max_depth=max_depth, random_state=12345)\n",
    "    up_dtc_model.fit(oe_features_upsampled, oe_target_upsampled)\n",
    "    up_dtc_train_predictions = up_dtc_model.predict(oe_features_upsampled)\n",
    "    up_dtc_valid_predictions = up_dtc_model.predict(ordinal_valid_features)\n",
    "    print(f\"max_depth = {max_depth} :\", accuracy_score(valid_target, up_dtc_valid_predictions))"
   ]
  },
  {
   "cell_type": "markdown",
   "metadata": {},
   "source": [
    "The best maximal depth for this model was 5"
   ]
  },
  {
   "cell_type": "code",
   "execution_count": 82,
   "metadata": {},
   "outputs": [],
   "source": [
    "#Define best DTC model with upsampling\n",
    "up_dtc_model = DecisionTreeClassifier(max_depth=5, random_state=12345)"
   ]
  },
  {
   "cell_type": "code",
   "execution_count": 83,
   "metadata": {},
   "outputs": [],
   "source": [
    "up_dtc_model.fit(oe_features_upsampled, oe_target_upsampled)\n",
    "up_dtc_valid_prediction = up_dtc_model.predict(ordinal_valid_features)"
   ]
  },
  {
   "cell_type": "code",
   "execution_count": 84,
   "metadata": {},
   "outputs": [
    {
     "name": "stdout",
     "output_type": "stream",
     "text": [
      "Accuracy 0.8075\n"
     ]
    }
   ],
   "source": [
    "print('Accuracy', accuracy_score(valid_target, up_dtc_valid_prediction))"
   ]
  },
  {
   "cell_type": "code",
   "execution_count": 85,
   "metadata": {},
   "outputs": [
    {
     "name": "stdout",
     "output_type": "stream",
     "text": [
      "F1 0.591728525980912\n"
     ]
    }
   ],
   "source": [
    "print('F1', f1_score(valid_target, up_dtc_valid_prediction))"
   ]
  },
  {
   "cell_type": "markdown",
   "metadata": {},
   "source": [
    "Althoug the accuracy of the class_weight Decision Tree Classfier got worse compared to the normal Decision Tree Classfier, the F1 score improved. Acuracy: 0.852 vs 0.8075. F1 score: 0.551 vs 0.591."
   ]
  },
  {
   "cell_type": "markdown",
   "metadata": {},
   "source": [
    "# Improve the DTC model by addressing class imbalance with downsampling\n"
   ]
  },
  {
   "cell_type": "code",
   "execution_count": 86,
   "metadata": {},
   "outputs": [
    {
     "data": {
      "text/plain": [
       "DecisionTreeClassifier(random_state=12345)"
      ]
     },
     "execution_count": 86,
     "metadata": {},
     "output_type": "execute_result"
    }
   ],
   "source": [
    "#Define and train DTC model with downsampling adjustment\n",
    "down_dtc_model = DecisionTreeClassifier(random_state=12345)\n",
    "down_dtc_model.fit(oe_features_downsampled, oe_target_downsampled)"
   ]
  },
  {
   "cell_type": "code",
   "execution_count": 87,
   "metadata": {},
   "outputs": [
    {
     "name": "stdout",
     "output_type": "stream",
     "text": [
      "max_depth = 1 : 0.7405\n",
      "max_depth = 2 : 0.749\n",
      "max_depth = 3 : 0.7685\n",
      "max_depth = 4 : 0.7675\n",
      "max_depth = 5 : 0.7395\n",
      "max_depth = 6 : 0.752\n"
     ]
    }
   ],
   "source": [
    "for max_depth in range(1, 7):\n",
    "    down_dtc_model = DecisionTreeClassifier(max_depth=max_depth, random_state=12345)\n",
    "    down_dtc_model.fit(oe_features_downsampled, oe_target_downsampled)\n",
    "    down_dtc_train_predictions = down_dtc_model.predict(oe_features_downsampled)\n",
    "    down_dtc_valid_predictions = down_dtc_model.predict(ordinal_valid_features)\n",
    "    print(f\"max_depth = {max_depth} :\", accuracy_score(valid_target, down_dtc_valid_predictions))"
   ]
  },
  {
   "cell_type": "markdown",
   "metadata": {},
   "source": [
    "The best maximal depth for this model was 4"
   ]
  },
  {
   "cell_type": "code",
   "execution_count": 88,
   "metadata": {},
   "outputs": [],
   "source": [
    "#Define best DTC model with downsampling\n",
    "down_dtc_model = DecisionTreeClassifier(max_depth=4, random_state=12345)"
   ]
  },
  {
   "cell_type": "code",
   "execution_count": 89,
   "metadata": {},
   "outputs": [],
   "source": [
    "down_dtc_model.fit(oe_features_downsampled, oe_target_downsampled)\n",
    "down_dtc_valid_prediction = down_dtc_model.predict(ordinal_valid_features)"
   ]
  },
  {
   "cell_type": "code",
   "execution_count": 90,
   "metadata": {},
   "outputs": [
    {
     "name": "stdout",
     "output_type": "stream",
     "text": [
      "Accuracy 0.7675\n"
     ]
    }
   ],
   "source": [
    "print('Accuracy', accuracy_score(valid_target, down_dtc_valid_prediction))"
   ]
  },
  {
   "cell_type": "code",
   "execution_count": 91,
   "metadata": {},
   "outputs": [
    {
     "name": "stdout",
     "output_type": "stream",
     "text": [
      "F1 0.5541706615532118\n"
     ]
    }
   ],
   "source": [
    "print('F1', f1_score(valid_target, down_dtc_valid_prediction))"
   ]
  },
  {
   "cell_type": "markdown",
   "metadata": {},
   "source": [
    "Althoug the accuracy of the class_weight Decision Tree Classfier got worse compared to the normal Decision Tree Classfier, the F1 score improved. Acuracy: 0.852 vs 0.7675. F1 score: 0.551 vs 0.554."
   ]
  },
  {
   "cell_type": "markdown",
   "metadata": {},
   "source": [
    "# Improve the DTC model by addressing class imbalance with class threshold adjustment"
   ]
  },
  {
   "cell_type": "code",
   "execution_count": 92,
   "metadata": {},
   "outputs": [
    {
     "data": {
      "text/plain": [
       "DecisionTreeClassifier(random_state=12345)"
      ]
     },
     "execution_count": 92,
     "metadata": {},
     "output_type": "execute_result"
    }
   ],
   "source": [
    "#Define and train DTC model with class threshold adjustment\n",
    "threshold_dtc_model = DecisionTreeClassifier(random_state=12345)\n",
    "threshold_dtc_model.fit(ordinal_train_features, train_target)"
   ]
  },
  {
   "cell_type": "code",
   "execution_count": 93,
   "metadata": {},
   "outputs": [],
   "source": [
    "#Calculate the target class probability\n",
    "probabilities_valid = threshold_dtc_model.predict_proba(ordinal_valid_features)\n",
    "probabilities_one_valid = probabilities_valid[:, 1]"
   ]
  },
  {
   "cell_type": "code",
   "execution_count": 94,
   "metadata": {},
   "outputs": [
    {
     "name": "stdout",
     "output_type": "stream",
     "text": [
      "Threshold = 0.00 | Precision = 0.470, Recall = 0.467, F1 = 0.468\n",
      "Threshold = 0.02 | Precision = 0.470, Recall = 0.467, F1 = 0.468\n",
      "Threshold = 0.04 | Precision = 0.470, Recall = 0.467, F1 = 0.468\n",
      "Threshold = 0.06 | Precision = 0.470, Recall = 0.467, F1 = 0.468\n",
      "Threshold = 0.08 | Precision = 0.470, Recall = 0.467, F1 = 0.468\n",
      "Threshold = 0.10 | Precision = 0.470, Recall = 0.467, F1 = 0.468\n",
      "Threshold = 0.12 | Precision = 0.470, Recall = 0.467, F1 = 0.468\n",
      "Threshold = 0.14 | Precision = 0.470, Recall = 0.467, F1 = 0.468\n",
      "Threshold = 0.16 | Precision = 0.470, Recall = 0.467, F1 = 0.468\n",
      "Threshold = 0.18 | Precision = 0.470, Recall = 0.467, F1 = 0.468\n",
      "Threshold = 0.20 | Precision = 0.470, Recall = 0.467, F1 = 0.468\n",
      "Threshold = 0.22 | Precision = 0.470, Recall = 0.467, F1 = 0.468\n",
      "Threshold = 0.24 | Precision = 0.470, Recall = 0.467, F1 = 0.468\n",
      "Threshold = 0.26 | Precision = 0.470, Recall = 0.467, F1 = 0.468\n",
      "Threshold = 0.28 | Precision = 0.470, Recall = 0.467, F1 = 0.468\n"
     ]
    }
   ],
   "source": [
    "for threshold in np.arange(0, 0.3, 0.02):\n",
    "    predicted_valid = probabilities_one_valid > threshold\n",
    "    precision = precision_score(valid_target, predicted_valid)\n",
    "    recall = recall_score(valid_target, predicted_valid)\n",
    "    f1 = f1_score(valid_target, predicted_valid)\n",
    "\n",
    "    print(\n",
    "        \t'Threshold = {:.2f} | Precision = {:.3f}, Recall = {:.3f}, F1 = {:.3f}'.format(\n",
    "            \tthreshold, precision, recall, f1\n",
    "        \t)\n",
    "    \t)"
   ]
  },
  {
   "cell_type": "markdown",
   "metadata": {},
   "source": [
    "I see the class threshold adjustment doesn't have an impact on Decision Tree Classifier models since the metrics don't vary as the threshold changes"
   ]
  },
  {
   "cell_type": "markdown",
   "metadata": {},
   "source": [
    "<div class=\"alert alert-block alert-success\">\n",
    "<b>Comentario del revisor (1ra Iteración)</b> <a class=“tocSkip”></a>\n",
    "\n",
    "Perfecta implementación de la estrategía que propusiste en este caso para el Decision Tree Classifier. Gran trabajo\n",
    "\n",
    "</div>"
   ]
  },
  {
   "cell_type": "markdown",
   "metadata": {},
   "source": [
    "# Random Forest Classifier Model without class imbalance adjustments"
   ]
  },
  {
   "cell_type": "code",
   "execution_count": 95,
   "metadata": {},
   "outputs": [],
   "source": [
    "from sklearn.ensemble import RandomForestClassifier #Import Random Forest Classifier model builder"
   ]
  },
  {
   "cell_type": "code",
   "execution_count": 96,
   "metadata": {},
   "outputs": [],
   "source": [
    "from sklearn.model_selection import GridSearchCV"
   ]
  },
  {
   "cell_type": "code",
   "execution_count": 97,
   "metadata": {},
   "outputs": [
    {
     "name": "stdout",
     "output_type": "stream",
     "text": [
      "Fitting 5 folds for each of 81 candidates, totalling 405 fits\n",
      "Best hyperparameters: {'max_depth': None, 'min_samples_leaf': 4, 'min_samples_split': 2, 'n_estimators': 50}\n",
      "Valid accuracy: 0.8565\n"
     ]
    }
   ],
   "source": [
    "# 1️⃣ Define the base model\n",
    "rfc_model = RandomForestClassifier(random_state=12345)\n",
    "\n",
    "# 2️⃣ Define the hyperparameter search space\n",
    "param_grid = {\n",
    "    'n_estimators': [10, 50, 100],   # Number of trees in the forest\n",
    "    'max_depth': [3, 5, None],       # Tree maximal depth\n",
    "    'min_samples_split': [2, 5, 10], # Minimum samples to split a node\n",
    "    'min_samples_leaf': [1, 2, 4]    # Minimum samples on a leaf\n",
    "}\n",
    "\n",
    "# 3️⃣ Set up `GridSearchCV`\n",
    "grid_search = GridSearchCV(\n",
    "    rfc_model, param_grid, cv=5, scoring='f1', n_jobs=-1, verbose=1\n",
    ")\n",
    "\n",
    "# 4️⃣ Train the model and find the best hyperparameters\n",
    "grid_search.fit(ordinal_train_features, train_target)\n",
    "\n",
    "#Getting the best trained model \n",
    "best_rf = grid_search.best_estimator_\n",
    "\n",
    "# Accuracy score for valid features\n",
    "valid_predictions = best_rf.predict(ordinal_valid_features)\n",
    "valid_accuracy = accuracy_score(valid_target, valid_predictions)\n",
    "\n",
    "# Show the best hyperparameters and the final accuracy\n",
    "print(\"Best hyperparameters:\", grid_search.best_params_)\n",
    "print(\"Valid accuracy:\", valid_accuracy)"
   ]
  },
  {
   "cell_type": "code",
   "execution_count": 98,
   "metadata": {},
   "outputs": [],
   "source": [
    "rfc_best_model = RandomForestClassifier(\n",
    "    max_depth=None, min_samples_leaf=4, min_samples_split=2, n_estimators=50, random_state=12345\n",
    ") #We pick the best previous model for the validation\n",
    "rfc_best_model.fit(ordinal_train_features, train_target) #Train the best model\n",
    "rfc_best_model_valid_prediction = rfc_best_model.predict(ordinal_valid_features) #Make valid predictions"
   ]
  },
  {
   "cell_type": "code",
   "execution_count": 99,
   "metadata": {},
   "outputs": [
    {
     "name": "stdout",
     "output_type": "stream",
     "text": [
      "0.8565\n"
     ]
    }
   ],
   "source": [
    "print(rfc_best_model.score(ordinal_valid_features, valid_target))"
   ]
  },
  {
   "cell_type": "code",
   "execution_count": 100,
   "metadata": {},
   "outputs": [
    {
     "name": "stdout",
     "output_type": "stream",
     "text": [
      "0.5494505494505494\n"
     ]
    }
   ],
   "source": [
    "print(f1_score(valid_target, rfc_best_model_valid_prediction)) #Obtain the F1 score"
   ]
  },
  {
   "cell_type": "markdown",
   "metadata": {},
   "source": [
    "The best model without considering the class imbalance was the forest tree classifier.\n",
    "It obtained a 91.8% accuracy and 0.548 as F1 score."
   ]
  },
  {
   "cell_type": "markdown",
   "metadata": {},
   "source": [
    "# Improve the RFC model by addressing the class imbalance with class_weight"
   ]
  },
  {
   "cell_type": "code",
   "execution_count": 101,
   "metadata": {},
   "outputs": [],
   "source": [
    "from sklearn.model_selection import RandomizedSearchCV"
   ]
  },
  {
   "cell_type": "code",
   "execution_count": 102,
   "metadata": {},
   "outputs": [
    {
     "name": "stdout",
     "output_type": "stream",
     "text": [
      "Fitting 5 folds for each of 100 candidates, totalling 500 fits\n",
      "Best hyperparameters: {'n_estimators': 200, 'min_samples_split': 5, 'min_samples_leaf': 6, 'max_features': 'auto', 'max_depth': None, 'bootstrap': True}\n",
      "Valid accuracy: 0.8425\n"
     ]
    }
   ],
   "source": [
    "# 1️⃣ Define the base model\n",
    "cw_rfc_model = RandomForestClassifier(class_weight='balanced', random_state=12345)\n",
    "\n",
    "# 2️⃣ Define the hyperparameter search space\n",
    "param_dist = {\n",
    "    'n_estimators': [10, 50, 100, 150, 200],   # Aumentar el rango\n",
    "    'max_depth': [3, 5, 10, None],              # Añadir más opciones\n",
    "    'min_samples_split': [2, 5, 10, 20],\n",
    "    'min_samples_leaf': [1, 2, 4, 6],\n",
    "    'max_features': ['auto', 'sqrt'],           # Añadir este parámetro\n",
    "    'bootstrap': [True, False]                   # Añadir opción de bootstrap\n",
    "}\n",
    "\n",
    "# 3️⃣ Set up `RandomizedSearchCV`\n",
    "random_search = RandomizedSearchCV(\n",
    "    cw_rfc_model, param_distributions=param_dist, n_iter=100, cv=5, scoring='f1', n_jobs=-1, verbose=1, random_state=12345\n",
    ")\n",
    "\n",
    "# 4️⃣ Train the model and find the best hyperparameters\n",
    "random_search.fit(ordinal_train_features, train_target)\n",
    "\n",
    "# Getting the best trained model \n",
    "best_rf = random_search.best_estimator_\n",
    "\n",
    "# Accuracy score for valid features\n",
    "valid_predictions = best_rf.predict(ordinal_valid_features)\n",
    "valid_accuracy = accuracy_score(valid_target, valid_predictions)\n",
    "\n",
    "# Show the best hyperparameters and the final accuracy\n",
    "print(\"Best hyperparameters:\", random_search.best_params_)\n",
    "print(\"Valid accuracy:\", valid_accuracy)\n"
   ]
  },
  {
   "cell_type": "code",
   "execution_count": 103,
   "metadata": {},
   "outputs": [],
   "source": [
    "cw_rfc_best_model = RandomForestClassifier(\n",
    "    class_weight='balanced', max_depth=None, min_samples_leaf=6, min_samples_split=5, n_estimators=200, max_features='auto', bootstrap=True, random_state=12345\n",
    ") #We pick the best previous model for the validation\n",
    "cw_rfc_best_model.fit(ordinal_train_features, train_target) #Train the best model\n",
    "cw_rfc_best_model_valid_prediction = cw_rfc_best_model.predict(ordinal_valid_features) #Make valid predictions"
   ]
  },
  {
   "cell_type": "code",
   "execution_count": 104,
   "metadata": {},
   "outputs": [
    {
     "name": "stdout",
     "output_type": "stream",
     "text": [
      "0.8425\n"
     ]
    }
   ],
   "source": [
    "print(cw_rfc_best_model.score(ordinal_valid_features, valid_target))"
   ]
  },
  {
   "cell_type": "code",
   "execution_count": 105,
   "metadata": {},
   "outputs": [
    {
     "name": "stdout",
     "output_type": "stream",
     "text": [
      "0.6163215590742996\n"
     ]
    }
   ],
   "source": [
    "print(f1_score(valid_target, cw_rfc_best_model_valid_prediction)) #Obtain the F1 score"
   ]
  },
  {
   "cell_type": "markdown",
   "metadata": {},
   "source": [
    "# Improve the RFC model by addressing the class imbalance with upsampling"
   ]
  },
  {
   "cell_type": "code",
   "execution_count": 106,
   "metadata": {},
   "outputs": [
    {
     "name": "stdout",
     "output_type": "stream",
     "text": [
      "Fitting 5 folds for each of 81 candidates, totalling 405 fits\n",
      "Best hyperparameters: {'max_depth': None, 'min_samples_leaf': 1, 'min_samples_split': 2, 'n_estimators': 100}\n",
      "Valid accuracy: 0.8495\n"
     ]
    }
   ],
   "source": [
    "# 1️⃣ Define the base model\n",
    "up_rfc_model = RandomForestClassifier(random_state=12345)\n",
    "\n",
    "# 2️⃣ Define the hyperparameter search space\n",
    "param_grid = {\n",
    "    'n_estimators': [10, 50, 100],   # Number of trees in the forest\n",
    "    'max_depth': [3, 5, None],       # Tree maximal depth\n",
    "    'min_samples_split': [2, 5, 10], # Minimum samples to split a node\n",
    "    'min_samples_leaf': [1, 2, 4]    # Minimum samples on a leaf\n",
    "}\n",
    "\n",
    "# 3️⃣ Set up `GridSearchCV`\n",
    "grid_search = GridSearchCV(\n",
    "    up_rfc_model, param_grid, cv=5, scoring='f1', n_jobs=-1, verbose=1\n",
    ")\n",
    "\n",
    "# 4️⃣ Train the model and find the best hyperparameters\n",
    "grid_search.fit(oe_features_upsampled, oe_target_upsampled)\n",
    "\n",
    "#Getting the best trained model \n",
    "best_rf = grid_search.best_estimator_\n",
    "\n",
    "# Accuracy score for valid features\n",
    "valid_predictions = best_rf.predict(ordinal_valid_features)\n",
    "valid_accuracy = accuracy_score(valid_target, valid_predictions)\n",
    "\n",
    "# Show the best hyperparameters and the final accuracy\n",
    "print(\"Best hyperparameters:\", grid_search.best_params_)\n",
    "print(\"Valid accuracy:\", valid_accuracy)"
   ]
  },
  {
   "cell_type": "code",
   "execution_count": 107,
   "metadata": {},
   "outputs": [],
   "source": [
    "up_rfc_best_model = RandomForestClassifier(\n",
    "    max_depth=None, min_samples_leaf=1, min_samples_split=2, n_estimators=100, random_state=12345\n",
    ") #We pick the best previous model for the validation\n",
    "up_rfc_best_model.fit(oe_features_upsampled, oe_target_upsampled) #Train the best model\n",
    "up_rfc_best_model_valid_prediction = up_rfc_best_model.predict(ordinal_valid_features) #Make valid predictions"
   ]
  },
  {
   "cell_type": "code",
   "execution_count": 108,
   "metadata": {},
   "outputs": [
    {
     "name": "stdout",
     "output_type": "stream",
     "text": [
      "0.8495\n"
     ]
    }
   ],
   "source": [
    "print(up_rfc_best_model.score(ordinal_valid_features, valid_target))"
   ]
  },
  {
   "cell_type": "code",
   "execution_count": 109,
   "metadata": {},
   "outputs": [
    {
     "name": "stdout",
     "output_type": "stream",
     "text": [
      "0.5848275862068965\n"
     ]
    }
   ],
   "source": [
    "print(f1_score(valid_target, up_rfc_best_model_valid_prediction)) #Obtain the F1 score"
   ]
  },
  {
   "cell_type": "markdown",
   "metadata": {},
   "source": [
    "# Improve the RFC model by addressing the class imbalance with downsampling"
   ]
  },
  {
   "cell_type": "code",
   "execution_count": 110,
   "metadata": {},
   "outputs": [
    {
     "name": "stdout",
     "output_type": "stream",
     "text": [
      "Fitting 5 folds for each of 81 candidates, totalling 405 fits\n",
      "Best hyperparameters: {'max_depth': None, 'min_samples_leaf': 1, 'min_samples_split': 2, 'n_estimators': 100}\n",
      "Valid accuracy: 0.8495\n"
     ]
    }
   ],
   "source": [
    "# 1️⃣ Define the base model\n",
    "down_rfc_model = RandomForestClassifier(random_state=12345)\n",
    "\n",
    "# 2️⃣ Define the hyperparameter search space\n",
    "param_grid = {\n",
    "    'n_estimators': [10, 50, 100],   # Number of trees in the forest\n",
    "    'max_depth': [3, 5, None],       # Tree maximal depth\n",
    "    'min_samples_split': [2, 5, 10], # Minimum samples to split a node\n",
    "    'min_samples_leaf': [1, 2, 4]    # Minimum samples on a leaf\n",
    "}\n",
    "\n",
    "# 3️⃣ Set up `GridSearchCV`\n",
    "grid_search = GridSearchCV(\n",
    "    down_rfc_model, param_grid, cv=5, scoring='f1', n_jobs=-1, verbose=1\n",
    ")\n",
    "\n",
    "# 4️⃣ Train the model and find the best hyperparameters\n",
    "grid_search.fit(oe_features_upsampled, oe_target_upsampled)\n",
    "\n",
    "#Getting the best trained model \n",
    "best_rf = grid_search.best_estimator_\n",
    "\n",
    "# Accuracy score for valid features\n",
    "valid_predictions = best_rf.predict(ordinal_valid_features)\n",
    "valid_accuracy = accuracy_score(valid_target, valid_predictions)\n",
    "\n",
    "# Show the best hyperparameters and the final accuracy\n",
    "print(\"Best hyperparameters:\", grid_search.best_params_)\n",
    "print(\"Valid accuracy:\", valid_accuracy)"
   ]
  },
  {
   "cell_type": "code",
   "execution_count": 111,
   "metadata": {},
   "outputs": [],
   "source": [
    "down_rfc_best_model = RandomForestClassifier(\n",
    "    max_depth=None, min_samples_leaf=1, min_samples_split=2, n_estimators=100, random_state=12345\n",
    ") #We pick the best previous model for the validation\n",
    "down_rfc_best_model.fit(oe_features_downsampled, oe_target_downsampled) #Train the best model\n",
    "down_rfc_best_model_valid_prediction = down_rfc_best_model.predict(ordinal_valid_features) #Make valid predictions"
   ]
  },
  {
   "cell_type": "code",
   "execution_count": 112,
   "metadata": {},
   "outputs": [
    {
     "name": "stdout",
     "output_type": "stream",
     "text": [
      "0.775\n"
     ]
    }
   ],
   "source": [
    "print(down_rfc_best_model.score(ordinal_valid_features, valid_target))"
   ]
  },
  {
   "cell_type": "code",
   "execution_count": 113,
   "metadata": {},
   "outputs": [
    {
     "name": "stdout",
     "output_type": "stream",
     "text": [
      "0.5778611632270169\n"
     ]
    }
   ],
   "source": [
    "print(f1_score(valid_target, down_rfc_best_model_valid_prediction)) #Obtain the F1 score"
   ]
  },
  {
   "cell_type": "markdown",
   "metadata": {},
   "source": [
    "# Improve the RFC model by addressing the class imbalance with class threshold adjustment"
   ]
  },
  {
   "cell_type": "code",
   "execution_count": 114,
   "metadata": {},
   "outputs": [
    {
     "data": {
      "text/plain": [
       "RandomForestClassifier(min_samples_leaf=4, n_estimators=50, random_state=12345)"
      ]
     },
     "execution_count": 114,
     "metadata": {},
     "output_type": "execute_result"
    }
   ],
   "source": [
    "#Define and train RFC model with class threshold adjustment\n",
    "threshold_rfc_model = RandomForestClassifier(max_depth=None, min_samples_leaf=4, min_samples_split=2, n_estimators=50, random_state=12345)\n",
    "threshold_rfc_model.fit(ordinal_train_features, train_target)"
   ]
  },
  {
   "cell_type": "code",
   "execution_count": 115,
   "metadata": {},
   "outputs": [],
   "source": [
    "#Calculate the target class probability\n",
    "probabilities_valid = threshold_rfc_model.predict_proba(ordinal_valid_features)\n",
    "probabilities_one_valid = probabilities_valid[:, 1]"
   ]
  },
  {
   "cell_type": "code",
   "execution_count": 116,
   "metadata": {},
   "outputs": [
    {
     "name": "stdout",
     "output_type": "stream",
     "text": [
      "Threshold = 0.00 | Precision = 0.210, Recall = 0.998, F1 = 0.347\n",
      "Threshold = 0.02 | Precision = 0.224, Recall = 0.986, F1 = 0.365\n",
      "Threshold = 0.04 | Precision = 0.243, Recall = 0.969, F1 = 0.389\n",
      "Threshold = 0.06 | Precision = 0.264, Recall = 0.950, F1 = 0.414\n",
      "Threshold = 0.08 | Precision = 0.287, Recall = 0.919, F1 = 0.437\n",
      "Threshold = 0.10 | Precision = 0.315, Recall = 0.902, F1 = 0.467\n",
      "Threshold = 0.12 | Precision = 0.343, Recall = 0.876, F1 = 0.493\n",
      "Threshold = 0.14 | Precision = 0.368, Recall = 0.844, F1 = 0.512\n",
      "Threshold = 0.16 | Precision = 0.394, Recall = 0.818, F1 = 0.531\n",
      "Threshold = 0.18 | Precision = 0.421, Recall = 0.799, F1 = 0.552\n",
      "Threshold = 0.20 | Precision = 0.453, Recall = 0.761, F1 = 0.568\n",
      "Threshold = 0.22 | Precision = 0.484, Recall = 0.732, F1 = 0.583\n",
      "Threshold = 0.24 | Precision = 0.510, Recall = 0.706, F1 = 0.592\n",
      "Threshold = 0.26 | Precision = 0.534, Recall = 0.687, F1 = 0.601\n",
      "Threshold = 0.28 | Precision = 0.551, Recall = 0.656, F1 = 0.599\n"
     ]
    }
   ],
   "source": [
    "for threshold in np.arange(0, 0.3, 0.02):\n",
    "    predicted_valid = probabilities_one_valid > threshold\n",
    "    precision = precision_score(valid_target, predicted_valid)\n",
    "    recall = recall_score(valid_target, predicted_valid)\n",
    "    f1 = f1_score(valid_target, predicted_valid)\n",
    "\n",
    "    print(\n",
    "        \t'Threshold = {:.2f} | Precision = {:.3f}, Recall = {:.3f}, F1 = {:.3f}'.format(\n",
    "            \tthreshold, precision, recall, f1\n",
    "        \t)\n",
    "    \t)"
   ]
  },
  {
   "cell_type": "markdown",
   "metadata": {},
   "source": [
    "<div class=\"alert alert-block alert-success\">\n",
    "<b>Comentario del revisor (1ra Iteración)</b> <a class=“tocSkip”></a>\n",
    "\n",
    "Has replicado correctamente la implementación del modelo de clasificaicón para RandomForestClassifie.\n",
    "\n",
    "</div>"
   ]
  },
  {
   "cell_type": "markdown",
   "metadata": {},
   "source": [
    "# Final best model test"
   ]
  },
  {
   "cell_type": "code",
   "execution_count": 117,
   "metadata": {},
   "outputs": [
    {
     "data": {
      "text/plain": [
       "RandomForestClassifier(class_weight='balanced', min_samples_leaf=6,\n",
       "                       min_samples_split=5, n_estimators=200,\n",
       "                       random_state=12345)"
      ]
     },
     "execution_count": 117,
     "metadata": {},
     "output_type": "execute_result"
    }
   ],
   "source": [
    "cw_rfc_best_model"
   ]
  },
  {
   "cell_type": "code",
   "execution_count": 118,
   "metadata": {},
   "outputs": [
    {
     "data": {
      "image/png": "[encoded data removed]",
      "text/plain": [
       "<Figure size 600x600 with 1 Axes>"
      ]
     },
     "metadata": {},
     "output_type": "display_data"
    }
   ],
   "source": [
    "import matplotlib.pyplot as plt\n",
    "from sklearn.metrics import precision_recall_curve\n",
    "from sklearn.linear_model import LogisticRegression\n",
    "\n",
    "\n",
    "best_model = cw_rfc_best_model\n",
    "\n",
    "probabilities_test = best_model.predict_proba(ordinal_test_features)\n",
    "precision, recall, thresholds = precision_recall_curve(\n",
    "    test_target, probabilities_test[:, 1]\n",
    ")\n",
    "\n",
    "plt.figure(figsize=(6, 6))\n",
    "plt.step(recall, precision, where='post')\n",
    "plt.xlabel('Recall')\n",
    "plt.ylabel('Precision')\n",
    "plt.ylim([0.0, 1.05])\n",
    "plt.xlim([0.0, 1.0])\n",
    "plt.title('Precision-Recall Curve')\n",
    "plt.show()"
   ]
  },
  {
   "cell_type": "code",
   "execution_count": 119,
   "metadata": {},
   "outputs": [
    {
     "name": "stdout",
     "output_type": "stream",
     "text": [
      "0.8491494908338092\n"
     ]
    }
   ],
   "source": [
    "from sklearn.metrics import roc_curve\n",
    "from sklearn.metrics import roc_auc_score\n",
    "\n",
    "probabilities_test = best_model.predict_proba(ordinal_test_features)\n",
    "probabilities_one_test = probabilities_test[:, 1]\n",
    "\n",
    "auc_roc = roc_auc_score(test_target, probabilities_one_test)\n",
    "\n",
    "print(auc_roc)"
   ]
  },
  {
   "cell_type": "code",
   "execution_count": 120,
   "metadata": {},
   "outputs": [],
   "source": [
    "best_model_prediction = best_model.predict(ordinal_test_features)"
   ]
  },
  {
   "cell_type": "code",
   "execution_count": 121,
   "metadata": {},
   "outputs": [
    {
     "name": "stdout",
     "output_type": "stream",
     "text": [
      "Accuracy 0.841\n"
     ]
    }
   ],
   "source": [
    "print('Accuracy', accuracy_score(test_target, best_model_prediction))"
   ]
  },
  {
   "cell_type": "code",
   "execution_count": 122,
   "metadata": {},
   "outputs": [
    {
     "name": "stdout",
     "output_type": "stream",
     "text": [
      "F1 0.6102941176470588\n"
     ]
    }
   ],
   "source": [
    "print('F1', f1_score(test_target, best_model_prediction))"
   ]
  },
  {
   "cell_type": "code",
   "execution_count": 123,
   "metadata": {},
   "outputs": [],
   "source": [
    "from sklearn.metrics import confusion_matrix"
   ]
  },
  {
   "cell_type": "code",
   "execution_count": 124,
   "metadata": {},
   "outputs": [
    {
     "name": "stdout",
     "output_type": "stream",
     "text": [
      "[[1433  144]\n",
      " [ 174  249]]\n"
     ]
    }
   ],
   "source": [
    "print(confusion_matrix(test_target, best_model_prediction))"
   ]
  },
  {
   "cell_type": "markdown",
   "metadata": {},
   "source": [
    "The previous code shows the confusion matrix that represent true positive, true negative, false positive, and false negative results. "
   ]
  },
  {
   "cell_type": "code",
   "execution_count": 125,
   "metadata": {},
   "outputs": [],
   "source": [
    "fpr, tpr, thresholds = roc_curve(test_target, probabilities_one_test)"
   ]
  },
  {
   "cell_type": "code",
   "execution_count": 126,
   "metadata": {},
   "outputs": [
    {
     "data": {
      "image/png": "[encoded data removed]",
      "text/plain": [
       "<Figure size 640x480 with 1 Axes>"
      ]
     },
     "metadata": {},
     "output_type": "display_data"
    }
   ],
   "source": [
    "plt.figure()\n",
    "\n",
    "# Make the graph\n",
    "plt.plot(fpr, tpr)\n",
    "# ROC curve for the random model (straight line)\n",
    "plt.plot([0, 1], [0, 1], linestyle='--')\n",
    "\n",
    "# Use the functions plt.xlim() and plt.ylim() to establish the 0 and 1 limit\n",
    "plt.xlim([0.0,1.0])\n",
    "plt.ylim([0.0, 1.0])\n",
    "# Use the functions plt.xlabel() and plt.ylabel() to name the axis: \"False positive rate\" and \"True positive rate\"\n",
    "plt.xlabel(\"False positive rate\")\n",
    "plt.ylabel(\"True positive rate\")\n",
    "# Add the header: \"ROC curve\" with the plt.title function\n",
    "plt.title(\"ROC curve\")\n",
    "plt.show()"
   ]
  },
  {
   "cell_type": "markdown",
   "metadata": {},
   "source": [
    "The ROC curve for our RFC model (blue) clearly shows a superior prediction effect than the random prediction (diagonal straight line)"
   ]
  },
  {
   "cell_type": "markdown",
   "metadata": {},
   "source": [
    "<div class=\"alert alert-block alert-success\">\n",
    "<b>Comentario del revisor (1ra Iteración)</b> <a class=“tocSkip”></a>\n",
    "\n",
    "Excelente trabajo implementado las técnicas para el manejo de datos desbalanceados. Has logrado mejorar el rendimiento de los tres modelos de clasificación que planteaste, Aunque es importante saber que los efectos en el rendimiento dependerá de los modelos utilizados, las técnicas de equilibrio empleadas y de la estructura misma de los datos. En otras circuntancias, los resultados pueden variar, por eso es clave hacer varias pruebas con el fin de identificar la mejor combinación o estrategía que nos de el mejor resultado,\n",
    "\n",
    "</div>"
   ]
  },
  {
   "cell_type": "markdown",
   "metadata": {},
   "source": [
    "# Conclusion"
   ]
  },
  {
   "cell_type": "markdown",
   "metadata": {},
   "source": [
    "The best model built was created with a Forest Random classifier adjusted by its class weight.\n",
    "This model obtained the next metrics:\n",
    "Accuracy 0.841\n",
    "F1 score 0.61\n",
    "AUC-ROC 0.85"
   ]
  }
 ],
 "metadata": {
  "ExecuteTimeLog": [
   {
    "duration": 8,
    "start_time": "2025-02-23T12:57:44.192Z"
   },
   {
    "duration": 299,
    "start_time": "2025-02-23T12:57:49.810Z"
   },
   {
    "duration": 28,
    "start_time": "2025-02-23T12:58:11.033Z"
   },
   {
    "duration": 17,
    "start_time": "2025-02-23T12:59:03.321Z"
   },
   {
    "duration": 14,
    "start_time": "2025-02-23T13:03:22.684Z"
   },
   {
    "duration": 30,
    "start_time": "2025-02-23T13:14:00.135Z"
   },
   {
    "duration": 581,
    "start_time": "2025-02-23T13:22:05.645Z"
   },
   {
    "duration": 30,
    "start_time": "2025-02-23T13:22:41.702Z"
   },
   {
    "duration": 13,
    "start_time": "2025-02-23T13:22:52.391Z"
   },
   {
    "duration": 7,
    "start_time": "2025-02-23T13:24:41.447Z"
   },
   {
    "duration": 7,
    "start_time": "2025-02-23T13:24:47.262Z"
   },
   {
    "duration": 1863,
    "start_time": "2025-02-23T13:29:18.249Z"
   },
   {
    "duration": 25,
    "start_time": "2025-02-23T13:33:04.676Z"
   },
   {
    "duration": 334,
    "start_time": "2025-02-23T13:34:04.661Z"
   },
   {
    "duration": 17,
    "start_time": "2025-02-23T13:34:04.997Z"
   },
   {
    "duration": 194,
    "start_time": "2025-02-23T13:34:05.016Z"
   },
   {
    "duration": 0,
    "start_time": "2025-02-23T13:34:05.212Z"
   },
   {
    "duration": 0,
    "start_time": "2025-02-23T13:34:05.214Z"
   },
   {
    "duration": 0,
    "start_time": "2025-02-23T13:34:05.224Z"
   },
   {
    "duration": 0,
    "start_time": "2025-02-23T13:34:05.226Z"
   },
   {
    "duration": 0,
    "start_time": "2025-02-23T13:34:05.227Z"
   },
   {
    "duration": 0,
    "start_time": "2025-02-23T13:34:05.228Z"
   },
   {
    "duration": 303,
    "start_time": "2025-02-23T13:34:29.122Z"
   },
   {
    "duration": 15,
    "start_time": "2025-02-23T13:34:29.427Z"
   },
   {
    "duration": 17,
    "start_time": "2025-02-23T13:34:29.444Z"
   },
   {
    "duration": 30,
    "start_time": "2025-02-23T13:34:29.464Z"
   },
   {
    "duration": 33,
    "start_time": "2025-02-23T13:34:29.495Z"
   },
   {
    "duration": 6,
    "start_time": "2025-02-23T13:34:29.530Z"
   },
   {
    "duration": 6,
    "start_time": "2025-02-23T13:34:29.537Z"
   },
   {
    "duration": 141,
    "start_time": "2025-02-23T13:34:29.545Z"
   },
   {
    "duration": 146,
    "start_time": "2025-02-23T13:34:29.688Z"
   },
   {
    "duration": 99,
    "start_time": "2025-02-23T13:35:07.242Z"
   },
   {
    "duration": 1151,
    "start_time": "2025-02-23T13:40:44.981Z"
   },
   {
    "duration": 158,
    "start_time": "2025-02-23T14:23:24.293Z"
   },
   {
    "duration": 286,
    "start_time": "2025-02-23T14:23:42.317Z"
   },
   {
    "duration": 27,
    "start_time": "2025-02-23T14:23:42.605Z"
   },
   {
    "duration": 17,
    "start_time": "2025-02-23T14:23:42.633Z"
   },
   {
    "duration": 6,
    "start_time": "2025-02-23T14:23:42.652Z"
   },
   {
    "duration": 29,
    "start_time": "2025-02-23T14:23:42.660Z"
   },
   {
    "duration": 7,
    "start_time": "2025-02-23T14:23:42.691Z"
   },
   {
    "duration": 29,
    "start_time": "2025-02-23T14:23:42.700Z"
   },
   {
    "duration": 7,
    "start_time": "2025-02-23T14:23:42.730Z"
   },
   {
    "duration": 1973,
    "start_time": "2025-02-23T14:23:42.738Z"
   },
   {
    "duration": 113,
    "start_time": "2025-02-23T14:23:44.715Z"
   },
   {
    "duration": 1274,
    "start_time": "2025-02-23T14:23:44.831Z"
   },
   {
    "duration": 16,
    "start_time": "2025-02-23T14:24:36.799Z"
   },
   {
    "duration": 3,
    "start_time": "2025-02-23T14:25:24.404Z"
   },
   {
    "duration": 16,
    "start_time": "2025-02-23T14:25:29.122Z"
   },
   {
    "duration": 317,
    "start_time": "2025-02-23T14:25:51.522Z"
   },
   {
    "duration": 15,
    "start_time": "2025-02-23T14:25:51.841Z"
   },
   {
    "duration": 18,
    "start_time": "2025-02-23T14:25:51.858Z"
   },
   {
    "duration": 3,
    "start_time": "2025-02-23T14:25:51.878Z"
   },
   {
    "duration": 39,
    "start_time": "2025-02-23T14:25:51.884Z"
   },
   {
    "duration": 33,
    "start_time": "2025-02-23T14:25:51.925Z"
   },
   {
    "duration": 8,
    "start_time": "2025-02-23T14:25:51.960Z"
   },
   {
    "duration": 7,
    "start_time": "2025-02-23T14:25:51.969Z"
   },
   {
    "duration": 7,
    "start_time": "2025-02-23T14:25:51.978Z"
   },
   {
    "duration": 165,
    "start_time": "2025-02-23T14:25:51.987Z"
   },
   {
    "duration": 165,
    "start_time": "2025-02-23T14:25:52.154Z"
   },
   {
    "duration": 1237,
    "start_time": "2025-02-23T14:25:52.324Z"
   },
   {
    "duration": 523,
    "start_time": "2025-02-23T14:30:21.152Z"
   },
   {
    "duration": 2,
    "start_time": "2025-02-23T14:31:57.207Z"
   },
   {
    "duration": 3,
    "start_time": "2025-02-23T14:35:04.414Z"
   },
   {
    "duration": 6,
    "start_time": "2025-02-23T14:48:04.469Z"
   },
   {
    "duration": 900,
    "start_time": "2025-02-23T14:48:22.872Z"
   },
   {
    "duration": 3,
    "start_time": "2025-02-23T14:48:47.161Z"
   },
   {
    "duration": 2,
    "start_time": "2025-02-23T14:49:36.862Z"
   },
   {
    "duration": 6,
    "start_time": "2025-02-23T14:53:18.520Z"
   },
   {
    "duration": 6,
    "start_time": "2025-02-23T14:56:32.725Z"
   },
   {
    "duration": 3,
    "start_time": "2025-02-23T14:57:19.526Z"
   },
   {
    "duration": 5,
    "start_time": "2025-02-23T14:59:42.722Z"
   },
   {
    "duration": 4,
    "start_time": "2025-02-23T15:01:46.427Z"
   },
   {
    "duration": 45,
    "start_time": "2025-02-23T15:24:39.346Z"
   },
   {
    "duration": 237,
    "start_time": "2025-02-23T15:25:10.608Z"
   },
   {
    "duration": 17,
    "start_time": "2025-02-23T15:25:51.267Z"
   },
   {
    "duration": 91,
    "start_time": "2025-02-23T15:26:35.960Z"
   },
   {
    "duration": 42,
    "start_time": "2025-02-23T15:26:50.991Z"
   },
   {
    "duration": 293,
    "start_time": "2025-02-23T15:27:15.480Z"
   },
   {
    "duration": 16,
    "start_time": "2025-02-23T15:27:15.775Z"
   },
   {
    "duration": 17,
    "start_time": "2025-02-23T15:27:15.793Z"
   },
   {
    "duration": 14,
    "start_time": "2025-02-23T15:27:15.811Z"
   },
   {
    "duration": 15,
    "start_time": "2025-02-23T15:27:15.828Z"
   },
   {
    "duration": 30,
    "start_time": "2025-02-23T15:27:15.846Z"
   },
   {
    "duration": 8,
    "start_time": "2025-02-23T15:27:15.878Z"
   },
   {
    "duration": 36,
    "start_time": "2025-02-23T15:27:15.888Z"
   },
   {
    "duration": 6,
    "start_time": "2025-02-23T15:27:15.926Z"
   },
   {
    "duration": 132,
    "start_time": "2025-02-23T15:27:15.934Z"
   },
   {
    "duration": 143,
    "start_time": "2025-02-23T15:27:16.068Z"
   },
   {
    "duration": 1188,
    "start_time": "2025-02-23T15:27:16.212Z"
   },
   {
    "duration": 4,
    "start_time": "2025-02-23T15:27:17.402Z"
   },
   {
    "duration": 2,
    "start_time": "2025-02-23T15:27:17.410Z"
   },
   {
    "duration": 477,
    "start_time": "2025-02-23T15:27:17.413Z"
   },
   {
    "duration": 6,
    "start_time": "2025-02-23T15:27:17.891Z"
   },
   {
    "duration": 4,
    "start_time": "2025-02-23T15:27:17.899Z"
   },
   {
    "duration": 20,
    "start_time": "2025-02-23T15:27:17.904Z"
   },
   {
    "duration": 5,
    "start_time": "2025-02-23T15:27:17.926Z"
   },
   {
    "duration": 20,
    "start_time": "2025-02-23T15:27:17.933Z"
   },
   {
    "duration": 48,
    "start_time": "2025-02-23T15:27:17.956Z"
   },
   {
    "duration": 629,
    "start_time": "2025-02-23T15:27:18.024Z"
   },
   {
    "duration": 3,
    "start_time": "2025-02-23T15:29:20.705Z"
   },
   {
    "duration": 16,
    "start_time": "2025-02-23T15:30:40.136Z"
   },
   {
    "duration": 3,
    "start_time": "2025-02-23T15:30:48.734Z"
   },
   {
    "duration": 13,
    "start_time": "2025-02-23T15:30:58.404Z"
   },
   {
    "duration": 11,
    "start_time": "2025-02-23T15:31:20.479Z"
   },
   {
    "duration": 11,
    "start_time": "2025-02-23T15:31:49.137Z"
   },
   {
    "duration": 135,
    "start_time": "2025-02-23T15:32:04.476Z"
   },
   {
    "duration": 73,
    "start_time": "2025-02-23T15:38:39.667Z"
   },
   {
    "duration": 5,
    "start_time": "2025-02-23T15:45:45.430Z"
   },
   {
    "duration": 6,
    "start_time": "2025-02-23T15:46:01.993Z"
   },
   {
    "duration": 5,
    "start_time": "2025-02-23T15:46:18.940Z"
   },
   {
    "duration": 2,
    "start_time": "2025-02-23T15:50:42.712Z"
   },
   {
    "duration": 12,
    "start_time": "2025-02-23T15:51:55.694Z"
   },
   {
    "duration": 103,
    "start_time": "2025-02-23T15:52:03.599Z"
   },
   {
    "duration": 16,
    "start_time": "2025-02-23T16:05:17.483Z"
   },
   {
    "duration": 13,
    "start_time": "2025-02-23T16:05:45.241Z"
   },
   {
    "duration": 32,
    "start_time": "2025-02-23T16:06:13.273Z"
   },
   {
    "duration": 83,
    "start_time": "2025-02-23T16:07:52.174Z"
   },
   {
    "duration": 280,
    "start_time": "2025-02-23T16:11:16.890Z"
   },
   {
    "duration": 16,
    "start_time": "2025-02-23T16:11:17.174Z"
   },
   {
    "duration": 17,
    "start_time": "2025-02-23T16:11:17.191Z"
   },
   {
    "duration": 15,
    "start_time": "2025-02-23T16:11:17.210Z"
   },
   {
    "duration": 14,
    "start_time": "2025-02-23T16:11:17.227Z"
   },
   {
    "duration": 29,
    "start_time": "2025-02-23T16:11:17.243Z"
   },
   {
    "duration": 8,
    "start_time": "2025-02-23T16:11:17.273Z"
   },
   {
    "duration": 6,
    "start_time": "2025-02-23T16:11:17.282Z"
   },
   {
    "duration": 36,
    "start_time": "2025-02-23T16:11:17.289Z"
   },
   {
    "duration": 133,
    "start_time": "2025-02-23T16:11:17.327Z"
   },
   {
    "duration": 148,
    "start_time": "2025-02-23T16:11:17.462Z"
   },
   {
    "duration": 1228,
    "start_time": "2025-02-23T16:11:17.612Z"
   },
   {
    "duration": 5,
    "start_time": "2025-02-23T16:11:18.842Z"
   },
   {
    "duration": 3,
    "start_time": "2025-02-23T16:11:18.850Z"
   },
   {
    "duration": 483,
    "start_time": "2025-02-23T16:11:18.854Z"
   },
   {
    "duration": 6,
    "start_time": "2025-02-23T16:11:19.340Z"
   },
   {
    "duration": 5,
    "start_time": "2025-02-23T16:11:19.347Z"
   },
   {
    "duration": 3,
    "start_time": "2025-02-23T16:11:19.355Z"
   },
   {
    "duration": 5,
    "start_time": "2025-02-23T16:11:19.359Z"
   },
   {
    "duration": 5,
    "start_time": "2025-02-23T16:11:19.366Z"
   },
   {
    "duration": 6,
    "start_time": "2025-02-23T16:11:19.373Z"
   },
   {
    "duration": 5,
    "start_time": "2025-02-23T16:11:19.381Z"
   },
   {
    "duration": 50,
    "start_time": "2025-02-23T16:11:19.388Z"
   },
   {
    "duration": 46,
    "start_time": "2025-02-23T16:11:19.440Z"
   },
   {
    "duration": 196,
    "start_time": "2025-02-23T16:11:19.488Z"
   },
   {
    "duration": 3,
    "start_time": "2025-02-23T16:11:19.685Z"
   },
   {
    "duration": 110,
    "start_time": "2025-02-23T16:11:19.690Z"
   },
   {
    "duration": 38,
    "start_time": "2025-02-23T16:11:19.802Z"
   },
   {
    "duration": 400,
    "start_time": "2025-02-23T16:11:19.842Z"
   },
   {
    "duration": 13,
    "start_time": "2025-02-23T16:14:05.539Z"
   },
   {
    "duration": 13,
    "start_time": "2025-02-23T16:14:20.135Z"
   },
   {
    "duration": 2,
    "start_time": "2025-02-23T16:14:31.711Z"
   },
   {
    "duration": 3,
    "start_time": "2025-02-23T16:17:35.655Z"
   },
   {
    "duration": 3,
    "start_time": "2025-02-23T16:17:51.295Z"
   },
   {
    "duration": 3,
    "start_time": "2025-02-23T16:18:09.298Z"
   },
   {
    "duration": 37,
    "start_time": "2025-02-23T16:18:13.860Z"
   },
   {
    "duration": 4,
    "start_time": "2025-02-23T16:21:09.014Z"
   },
   {
    "duration": 2,
    "start_time": "2025-02-23T16:21:12.836Z"
   },
   {
    "duration": 293,
    "start_time": "2025-02-23T16:36:35.620Z"
   },
   {
    "duration": 20,
    "start_time": "2025-02-23T16:36:35.915Z"
   },
   {
    "duration": 16,
    "start_time": "2025-02-23T16:36:35.937Z"
   },
   {
    "duration": 4,
    "start_time": "2025-02-23T16:36:35.955Z"
   },
   {
    "duration": 14,
    "start_time": "2025-02-23T16:36:35.961Z"
   },
   {
    "duration": 54,
    "start_time": "2025-02-23T16:36:35.977Z"
   },
   {
    "duration": 8,
    "start_time": "2025-02-23T16:36:36.032Z"
   },
   {
    "duration": 6,
    "start_time": "2025-02-23T16:36:36.042Z"
   },
   {
    "duration": 7,
    "start_time": "2025-02-23T16:36:36.049Z"
   },
   {
    "duration": 153,
    "start_time": "2025-02-23T16:36:36.057Z"
   },
   {
    "duration": 140,
    "start_time": "2025-02-23T16:36:36.211Z"
   },
   {
    "duration": 1178,
    "start_time": "2025-02-23T16:36:36.353Z"
   },
   {
    "duration": 4,
    "start_time": "2025-02-23T16:36:37.533Z"
   },
   {
    "duration": 3,
    "start_time": "2025-02-23T16:36:37.541Z"
   },
   {
    "duration": 496,
    "start_time": "2025-02-23T16:36:37.545Z"
   },
   {
    "duration": 6,
    "start_time": "2025-02-23T16:36:38.043Z"
   },
   {
    "duration": 4,
    "start_time": "2025-02-23T16:36:38.051Z"
   },
   {
    "duration": 4,
    "start_time": "2025-02-23T16:36:38.057Z"
   },
   {
    "duration": 4,
    "start_time": "2025-02-23T16:36:38.063Z"
   },
   {
    "duration": 6,
    "start_time": "2025-02-23T16:36:38.068Z"
   },
   {
    "duration": 5,
    "start_time": "2025-02-23T16:36:38.075Z"
   },
   {
    "duration": 4,
    "start_time": "2025-02-23T16:36:38.082Z"
   },
   {
    "duration": 18,
    "start_time": "2025-02-23T16:36:38.124Z"
   },
   {
    "duration": 16,
    "start_time": "2025-02-23T16:36:38.143Z"
   },
   {
    "duration": 19,
    "start_time": "2025-02-23T16:36:38.161Z"
   },
   {
    "duration": 3,
    "start_time": "2025-02-23T16:36:38.182Z"
   },
   {
    "duration": 43,
    "start_time": "2025-02-23T16:36:38.187Z"
   },
   {
    "duration": 12,
    "start_time": "2025-02-23T16:36:38.233Z"
   },
   {
    "duration": 3,
    "start_time": "2025-02-23T16:36:38.246Z"
   },
   {
    "duration": 5,
    "start_time": "2025-02-23T16:36:38.250Z"
   },
   {
    "duration": 4,
    "start_time": "2025-02-23T16:36:38.256Z"
   },
   {
    "duration": 66,
    "start_time": "2025-02-23T16:36:38.261Z"
   },
   {
    "duration": 4,
    "start_time": "2025-02-23T16:38:08.433Z"
   },
   {
    "duration": 7,
    "start_time": "2025-02-23T16:39:29.377Z"
   },
   {
    "duration": 2,
    "start_time": "2025-02-23T16:44:41.768Z"
   },
   {
    "duration": 3,
    "start_time": "2025-02-23T16:47:59.125Z"
   },
   {
    "duration": 146,
    "start_time": "2025-02-23T16:49:03.359Z"
   },
   {
    "duration": 5,
    "start_time": "2025-02-23T16:49:45.148Z"
   },
   {
    "duration": 111,
    "start_time": "2025-02-23T16:50:58.199Z"
   },
   {
    "duration": 11,
    "start_time": "2025-02-23T16:51:23.308Z"
   },
   {
    "duration": 5,
    "start_time": "2025-02-23T16:51:24.739Z"
   },
   {
    "duration": 5,
    "start_time": "2025-02-23T16:54:32.644Z"
   },
   {
    "duration": 6,
    "start_time": "2025-02-23T16:54:34.548Z"
   },
   {
    "duration": 4,
    "start_time": "2025-02-23T16:55:04.231Z"
   },
   {
    "duration": 5,
    "start_time": "2025-02-23T16:55:05.881Z"
   },
   {
    "duration": 13,
    "start_time": "2025-02-23T17:00:41.281Z"
   },
   {
    "duration": 84,
    "start_time": "2025-02-23T17:01:05.509Z"
   },
   {
    "duration": 2,
    "start_time": "2025-02-23T17:01:43.829Z"
   },
   {
    "duration": 3,
    "start_time": "2025-02-23T17:04:45.860Z"
   },
   {
    "duration": 2,
    "start_time": "2025-02-23T17:07:35.518Z"
   },
   {
    "duration": 7,
    "start_time": "2025-02-23T17:08:56.675Z"
   },
   {
    "duration": 13,
    "start_time": "2025-02-23T17:10:36.204Z"
   },
   {
    "duration": 11,
    "start_time": "2025-02-23T17:10:55.595Z"
   },
   {
    "duration": 3,
    "start_time": "2025-02-23T17:11:10.817Z"
   },
   {
    "duration": 13,
    "start_time": "2025-02-23T17:11:19.076Z"
   },
   {
    "duration": 17,
    "start_time": "2025-02-23T17:11:22.252Z"
   },
   {
    "duration": 3,
    "start_time": "2025-02-23T17:11:37.976Z"
   },
   {
    "duration": 15,
    "start_time": "2025-02-23T17:13:45.037Z"
   },
   {
    "duration": 2,
    "start_time": "2025-02-23T17:14:11.406Z"
   },
   {
    "duration": 3,
    "start_time": "2025-02-23T17:14:17.127Z"
   },
   {
    "duration": 14,
    "start_time": "2025-02-23T17:14:30.004Z"
   },
   {
    "duration": 9,
    "start_time": "2025-02-23T17:14:32.551Z"
   },
   {
    "duration": 2,
    "start_time": "2025-02-23T17:17:15.111Z"
   },
   {
    "duration": 3,
    "start_time": "2025-02-23T17:19:22.508Z"
   },
   {
    "duration": 43,
    "start_time": "2025-02-23T17:19:44.828Z"
   },
   {
    "duration": 164,
    "start_time": "2025-02-23T18:46:51.458Z"
   },
   {
    "duration": 336,
    "start_time": "2025-02-23T18:47:01.353Z"
   },
   {
    "duration": 24,
    "start_time": "2025-02-23T18:47:01.691Z"
   },
   {
    "duration": 17,
    "start_time": "2025-02-23T18:47:01.717Z"
   },
   {
    "duration": 3,
    "start_time": "2025-02-23T18:47:01.737Z"
   },
   {
    "duration": 15,
    "start_time": "2025-02-23T18:47:01.743Z"
   },
   {
    "duration": 31,
    "start_time": "2025-02-23T18:47:01.760Z"
   },
   {
    "duration": 8,
    "start_time": "2025-02-23T18:47:01.793Z"
   },
   {
    "duration": 34,
    "start_time": "2025-02-23T18:47:01.802Z"
   },
   {
    "duration": 7,
    "start_time": "2025-02-23T18:47:01.838Z"
   },
   {
    "duration": 1892,
    "start_time": "2025-02-23T18:47:01.847Z"
   },
   {
    "duration": 109,
    "start_time": "2025-02-23T18:47:03.741Z"
   },
   {
    "duration": 1275,
    "start_time": "2025-02-23T18:47:03.852Z"
   },
   {
    "duration": 4,
    "start_time": "2025-02-23T18:47:05.129Z"
   },
   {
    "duration": 2,
    "start_time": "2025-02-23T18:47:05.138Z"
   },
   {
    "duration": 524,
    "start_time": "2025-02-23T18:47:05.142Z"
   },
   {
    "duration": 6,
    "start_time": "2025-02-23T18:47:05.668Z"
   },
   {
    "duration": 4,
    "start_time": "2025-02-23T18:47:05.675Z"
   },
   {
    "duration": 4,
    "start_time": "2025-02-23T18:47:05.680Z"
   },
   {
    "duration": 5,
    "start_time": "2025-02-23T18:47:05.685Z"
   },
   {
    "duration": 6,
    "start_time": "2025-02-23T18:47:05.691Z"
   },
   {
    "duration": 6,
    "start_time": "2025-02-23T18:47:05.698Z"
   },
   {
    "duration": 31,
    "start_time": "2025-02-23T18:47:05.706Z"
   },
   {
    "duration": 20,
    "start_time": "2025-02-23T18:47:05.738Z"
   },
   {
    "duration": 16,
    "start_time": "2025-02-23T18:47:05.759Z"
   },
   {
    "duration": 19,
    "start_time": "2025-02-23T18:47:05.777Z"
   },
   {
    "duration": 34,
    "start_time": "2025-02-23T18:47:05.798Z"
   },
   {
    "duration": 16,
    "start_time": "2025-02-23T18:47:05.833Z"
   },
   {
    "duration": 5,
    "start_time": "2025-02-23T18:47:05.850Z"
   },
   {
    "duration": 7,
    "start_time": "2025-02-23T18:47:05.857Z"
   },
   {
    "duration": 3,
    "start_time": "2025-02-23T18:47:05.866Z"
   },
   {
    "duration": 3,
    "start_time": "2025-02-23T18:47:05.870Z"
   },
   {
    "duration": 4,
    "start_time": "2025-02-23T18:47:05.932Z"
   },
   {
    "duration": 4,
    "start_time": "2025-02-23T18:47:05.938Z"
   },
   {
    "duration": 94,
    "start_time": "2025-02-23T18:47:05.944Z"
   },
   {
    "duration": 2,
    "start_time": "2025-02-23T18:47:06.040Z"
   },
   {
    "duration": 3,
    "start_time": "2025-02-23T18:47:06.044Z"
   },
   {
    "duration": 8,
    "start_time": "2025-02-23T18:47:06.049Z"
   },
   {
    "duration": 10,
    "start_time": "2025-02-23T18:47:06.059Z"
   },
   {
    "duration": 3,
    "start_time": "2025-02-23T18:47:06.071Z"
   },
   {
    "duration": 3,
    "start_time": "2025-02-23T18:47:06.076Z"
   },
   {
    "duration": 10,
    "start_time": "2025-02-23T18:47:06.132Z"
   },
   {
    "duration": 3,
    "start_time": "2025-02-23T18:47:06.143Z"
   },
   {
    "duration": 44,
    "start_time": "2025-02-23T18:47:06.147Z"
   },
   {
    "duration": 252,
    "start_time": "2025-02-23T18:47:06.192Z"
   },
   {
    "duration": 22,
    "start_time": "2025-02-23T18:47:16.333Z"
   },
   {
    "duration": 21,
    "start_time": "2025-02-23T18:47:40.845Z"
   },
   {
    "duration": 9,
    "start_time": "2025-02-23T18:59:02.934Z"
   },
   {
    "duration": 12,
    "start_time": "2025-02-23T19:02:33.354Z"
   },
   {
    "duration": 8,
    "start_time": "2025-02-23T19:03:07.350Z"
   },
   {
    "duration": 7,
    "start_time": "2025-02-23T19:03:46.607Z"
   },
   {
    "duration": 17,
    "start_time": "2025-02-23T19:05:35.047Z"
   },
   {
    "duration": 23,
    "start_time": "2025-02-23T19:07:42.934Z"
   },
   {
    "duration": 3,
    "start_time": "2025-02-23T19:08:45.052Z"
   },
   {
    "duration": 22,
    "start_time": "2025-02-23T19:08:46.936Z"
   },
   {
    "duration": 78,
    "start_time": "2025-02-23T19:10:26.155Z"
   },
   {
    "duration": 155,
    "start_time": "2025-02-23T19:14:55.418Z"
   },
   {
    "duration": 18,
    "start_time": "2025-02-23T19:15:20.950Z"
   },
   {
    "duration": 5,
    "start_time": "2025-02-23T19:16:04.523Z"
   },
   {
    "duration": 12,
    "start_time": "2025-02-23T19:23:57.880Z"
   },
   {
    "duration": 8,
    "start_time": "2025-02-23T19:24:10.916Z"
   },
   {
    "duration": 20,
    "start_time": "2025-02-23T20:39:50.600Z"
   },
   {
    "duration": 3,
    "start_time": "2025-02-23T20:40:19.555Z"
   },
   {
    "duration": 0,
    "start_time": "2025-02-23T20:41:42.038Z"
   },
   {
    "duration": 81418,
    "start_time": "2025-02-23T20:41:54.314Z"
   },
   {
    "duration": 80977,
    "start_time": "2025-02-23T20:58:44.411Z"
   },
   {
    "duration": 7,
    "start_time": "2025-02-23T21:11:08.746Z"
   },
   {
    "duration": 689,
    "start_time": "2025-02-23T21:11:37.971Z"
   },
   {
    "duration": 5,
    "start_time": "2025-02-23T21:11:44.804Z"
   },
   {
    "duration": 4,
    "start_time": "2025-02-23T21:12:59.195Z"
   },
   {
    "duration": 70,
    "start_time": "2025-02-23T21:13:52.665Z"
   },
   {
    "duration": 81331,
    "start_time": "2025-02-23T21:17:03.032Z"
   },
   {
    "duration": 2,
    "start_time": "2025-02-23T21:26:36.358Z"
   },
   {
    "duration": 98,
    "start_time": "2025-02-23T21:28:36.951Z"
   },
   {
    "duration": 80,
    "start_time": "2025-02-23T21:28:58.816Z"
   },
   {
    "duration": 72,
    "start_time": "2025-02-23T21:29:12.241Z"
   },
   {
    "duration": 6,
    "start_time": "2025-02-23T21:29:16.539Z"
   },
   {
    "duration": 14,
    "start_time": "2025-02-23T21:30:53.388Z"
   },
   {
    "duration": 3,
    "start_time": "2025-02-23T21:31:45.299Z"
   },
   {
    "duration": 12,
    "start_time": "2025-02-23T21:31:51.076Z"
   },
   {
    "duration": 2,
    "start_time": "2025-02-23T21:32:18.439Z"
   },
   {
    "duration": 4,
    "start_time": "2025-02-23T21:35:42.863Z"
   },
   {
    "duration": 2,
    "start_time": "2025-02-23T22:29:57.223Z"
   },
   {
    "duration": 17,
    "start_time": "2025-02-23T22:31:39.752Z"
   },
   {
    "duration": 340,
    "start_time": "2025-02-23T22:32:11.848Z"
   },
   {
    "duration": 16,
    "start_time": "2025-02-23T22:32:12.191Z"
   },
   {
    "duration": 22,
    "start_time": "2025-02-23T22:32:12.209Z"
   },
   {
    "duration": 3,
    "start_time": "2025-02-23T22:32:12.233Z"
   },
   {
    "duration": 15,
    "start_time": "2025-02-23T22:32:12.238Z"
   },
   {
    "duration": 31,
    "start_time": "2025-02-23T22:32:12.255Z"
   },
   {
    "duration": 8,
    "start_time": "2025-02-23T22:32:12.288Z"
   },
   {
    "duration": 34,
    "start_time": "2025-02-23T22:32:12.297Z"
   },
   {
    "duration": 7,
    "start_time": "2025-02-23T22:32:12.333Z"
   },
   {
    "duration": 140,
    "start_time": "2025-02-23T22:32:12.341Z"
   },
   {
    "duration": 150,
    "start_time": "2025-02-23T22:32:12.483Z"
   },
   {
    "duration": 1236,
    "start_time": "2025-02-23T22:32:12.636Z"
   },
   {
    "duration": 4,
    "start_time": "2025-02-23T22:32:13.874Z"
   },
   {
    "duration": 2,
    "start_time": "2025-02-23T22:32:13.882Z"
   },
   {
    "duration": 461,
    "start_time": "2025-02-23T22:32:13.886Z"
   },
   {
    "duration": 8,
    "start_time": "2025-02-23T22:32:14.350Z"
   },
   {
    "duration": 6,
    "start_time": "2025-02-23T22:32:14.362Z"
   },
   {
    "duration": 3,
    "start_time": "2025-02-23T22:32:14.371Z"
   },
   {
    "duration": 5,
    "start_time": "2025-02-23T22:32:14.377Z"
   },
   {
    "duration": 5,
    "start_time": "2025-02-23T22:32:14.384Z"
   },
   {
    "duration": 5,
    "start_time": "2025-02-23T22:32:14.391Z"
   },
   {
    "duration": 34,
    "start_time": "2025-02-23T22:32:14.398Z"
   },
   {
    "duration": 2,
    "start_time": "2025-02-23T22:32:14.434Z"
   },
   {
    "duration": 16,
    "start_time": "2025-02-23T22:32:14.438Z"
   },
   {
    "duration": 20,
    "start_time": "2025-02-23T22:32:14.456Z"
   },
   {
    "duration": 3,
    "start_time": "2025-02-23T22:32:14.478Z"
   },
   {
    "duration": 252,
    "start_time": "2025-02-23T22:32:14.483Z"
   },
   {
    "duration": 0,
    "start_time": "2025-02-23T22:32:14.738Z"
   },
   {
    "duration": 0,
    "start_time": "2025-02-23T22:32:14.740Z"
   },
   {
    "duration": 0,
    "start_time": "2025-02-23T22:32:14.741Z"
   },
   {
    "duration": 0,
    "start_time": "2025-02-23T22:32:14.743Z"
   },
   {
    "duration": 0,
    "start_time": "2025-02-23T22:32:14.744Z"
   },
   {
    "duration": 0,
    "start_time": "2025-02-23T22:32:14.745Z"
   },
   {
    "duration": 0,
    "start_time": "2025-02-23T22:32:14.746Z"
   },
   {
    "duration": 0,
    "start_time": "2025-02-23T22:32:14.747Z"
   },
   {
    "duration": 0,
    "start_time": "2025-02-23T22:32:14.748Z"
   },
   {
    "duration": 0,
    "start_time": "2025-02-23T22:32:14.749Z"
   },
   {
    "duration": 0,
    "start_time": "2025-02-23T22:32:14.750Z"
   },
   {
    "duration": 0,
    "start_time": "2025-02-23T22:32:14.751Z"
   },
   {
    "duration": 0,
    "start_time": "2025-02-23T22:32:14.752Z"
   },
   {
    "duration": 0,
    "start_time": "2025-02-23T22:32:14.753Z"
   },
   {
    "duration": 0,
    "start_time": "2025-02-23T22:32:14.755Z"
   },
   {
    "duration": 0,
    "start_time": "2025-02-23T22:32:14.756Z"
   },
   {
    "duration": 0,
    "start_time": "2025-02-23T22:32:14.757Z"
   },
   {
    "duration": 0,
    "start_time": "2025-02-23T22:32:14.758Z"
   },
   {
    "duration": 0,
    "start_time": "2025-02-23T22:32:14.759Z"
   },
   {
    "duration": 0,
    "start_time": "2025-02-23T22:32:14.760Z"
   },
   {
    "duration": 0,
    "start_time": "2025-02-23T22:32:14.762Z"
   },
   {
    "duration": 0,
    "start_time": "2025-02-23T22:32:14.763Z"
   },
   {
    "duration": 0,
    "start_time": "2025-02-23T22:32:14.764Z"
   },
   {
    "duration": 0,
    "start_time": "2025-02-23T22:32:14.767Z"
   },
   {
    "duration": 0,
    "start_time": "2025-02-23T22:32:14.768Z"
   },
   {
    "duration": 0,
    "start_time": "2025-02-23T22:32:14.769Z"
   },
   {
    "duration": 0,
    "start_time": "2025-02-23T22:32:14.770Z"
   },
   {
    "duration": 0,
    "start_time": "2025-02-23T22:32:14.771Z"
   },
   {
    "duration": 0,
    "start_time": "2025-02-23T22:32:14.772Z"
   },
   {
    "duration": 0,
    "start_time": "2025-02-23T22:32:14.773Z"
   },
   {
    "duration": 0,
    "start_time": "2025-02-23T22:32:14.830Z"
   },
   {
    "duration": 1,
    "start_time": "2025-02-23T22:32:14.832Z"
   },
   {
    "duration": 0,
    "start_time": "2025-02-23T22:32:14.833Z"
   },
   {
    "duration": 13,
    "start_time": "2025-02-23T22:35:00.765Z"
   },
   {
    "duration": 10,
    "start_time": "2025-02-23T22:35:28.122Z"
   },
   {
    "duration": 9,
    "start_time": "2025-02-23T22:37:48.743Z"
   },
   {
    "duration": 3,
    "start_time": "2025-02-23T22:37:58.420Z"
   },
   {
    "duration": 15,
    "start_time": "2025-02-23T22:39:04.460Z"
   },
   {
    "duration": 14,
    "start_time": "2025-02-23T22:39:29.922Z"
   },
   {
    "duration": 20,
    "start_time": "2025-02-23T22:39:59.615Z"
   },
   {
    "duration": 14,
    "start_time": "2025-02-23T22:40:16.447Z"
   },
   {
    "duration": 5,
    "start_time": "2025-02-23T22:40:25.847Z"
   },
   {
    "duration": 9,
    "start_time": "2025-02-23T22:41:38.264Z"
   },
   {
    "duration": 4,
    "start_time": "2025-02-23T22:41:49.104Z"
   },
   {
    "duration": 14,
    "start_time": "2025-02-23T22:42:36.422Z"
   },
   {
    "duration": 5,
    "start_time": "2025-02-23T22:42:42.476Z"
   },
   {
    "duration": 4,
    "start_time": "2025-02-23T22:43:17.960Z"
   },
   {
    "duration": 14,
    "start_time": "2025-02-23T22:43:53.060Z"
   },
   {
    "duration": 3,
    "start_time": "2025-02-23T22:44:02.238Z"
   },
   {
    "duration": 28,
    "start_time": "2025-02-23T22:57:32.105Z"
   },
   {
    "duration": 11,
    "start_time": "2025-02-23T22:58:28.039Z"
   },
   {
    "duration": 5,
    "start_time": "2025-02-23T22:58:31.967Z"
   },
   {
    "duration": 5,
    "start_time": "2025-02-23T22:59:06.981Z"
   },
   {
    "duration": 300,
    "start_time": "2025-02-23T22:59:28.827Z"
   },
   {
    "duration": 17,
    "start_time": "2025-02-23T22:59:29.129Z"
   },
   {
    "duration": 18,
    "start_time": "2025-02-23T22:59:29.147Z"
   },
   {
    "duration": 3,
    "start_time": "2025-02-23T22:59:29.167Z"
   },
   {
    "duration": 16,
    "start_time": "2025-02-23T22:59:29.172Z"
   },
   {
    "duration": 56,
    "start_time": "2025-02-23T22:59:29.190Z"
   },
   {
    "duration": 9,
    "start_time": "2025-02-23T22:59:29.248Z"
   },
   {
    "duration": 7,
    "start_time": "2025-02-23T22:59:29.258Z"
   },
   {
    "duration": 6,
    "start_time": "2025-02-23T22:59:29.267Z"
   },
   {
    "duration": 157,
    "start_time": "2025-02-23T22:59:29.275Z"
   },
   {
    "duration": 152,
    "start_time": "2025-02-23T22:59:29.434Z"
   },
   {
    "duration": 1244,
    "start_time": "2025-02-23T22:59:29.588Z"
   },
   {
    "duration": 4,
    "start_time": "2025-02-23T22:59:30.833Z"
   },
   {
    "duration": 2,
    "start_time": "2025-02-23T22:59:30.841Z"
   },
   {
    "duration": 521,
    "start_time": "2025-02-23T22:59:30.845Z"
   },
   {
    "duration": 6,
    "start_time": "2025-02-23T22:59:31.368Z"
   },
   {
    "duration": 5,
    "start_time": "2025-02-23T22:59:31.376Z"
   },
   {
    "duration": 3,
    "start_time": "2025-02-23T22:59:31.383Z"
   },
   {
    "duration": 4,
    "start_time": "2025-02-23T22:59:31.387Z"
   },
   {
    "duration": 6,
    "start_time": "2025-02-23T22:59:31.393Z"
   },
   {
    "duration": 31,
    "start_time": "2025-02-23T22:59:31.401Z"
   },
   {
    "duration": 5,
    "start_time": "2025-02-23T22:59:31.434Z"
   },
   {
    "duration": 2,
    "start_time": "2025-02-23T22:59:31.441Z"
   },
   {
    "duration": 16,
    "start_time": "2025-02-23T22:59:31.444Z"
   },
   {
    "duration": 19,
    "start_time": "2025-02-23T22:59:31.462Z"
   },
   {
    "duration": 2,
    "start_time": "2025-02-23T22:59:31.483Z"
   },
   {
    "duration": 44,
    "start_time": "2025-02-23T22:59:31.487Z"
   },
   {
    "duration": 239,
    "start_time": "2025-02-23T22:59:31.533Z"
   },
   {
    "duration": 0,
    "start_time": "2025-02-23T22:59:31.776Z"
   },
   {
    "duration": 0,
    "start_time": "2025-02-23T22:59:31.777Z"
   },
   {
    "duration": 0,
    "start_time": "2025-02-23T22:59:31.779Z"
   },
   {
    "duration": 0,
    "start_time": "2025-02-23T22:59:31.781Z"
   },
   {
    "duration": 0,
    "start_time": "2025-02-23T22:59:31.782Z"
   },
   {
    "duration": 0,
    "start_time": "2025-02-23T22:59:31.784Z"
   },
   {
    "duration": 0,
    "start_time": "2025-02-23T22:59:31.785Z"
   },
   {
    "duration": 0,
    "start_time": "2025-02-23T22:59:31.786Z"
   },
   {
    "duration": 0,
    "start_time": "2025-02-23T22:59:31.788Z"
   },
   {
    "duration": 0,
    "start_time": "2025-02-23T22:59:31.789Z"
   },
   {
    "duration": 0,
    "start_time": "2025-02-23T22:59:31.791Z"
   },
   {
    "duration": 0,
    "start_time": "2025-02-23T22:59:31.792Z"
   },
   {
    "duration": 0,
    "start_time": "2025-02-23T22:59:31.794Z"
   },
   {
    "duration": 0,
    "start_time": "2025-02-23T22:59:31.832Z"
   },
   {
    "duration": 0,
    "start_time": "2025-02-23T22:59:31.834Z"
   },
   {
    "duration": 0,
    "start_time": "2025-02-23T22:59:31.835Z"
   },
   {
    "duration": 0,
    "start_time": "2025-02-23T22:59:31.836Z"
   },
   {
    "duration": 0,
    "start_time": "2025-02-23T22:59:31.837Z"
   },
   {
    "duration": 0,
    "start_time": "2025-02-23T22:59:31.838Z"
   },
   {
    "duration": 0,
    "start_time": "2025-02-23T22:59:31.839Z"
   },
   {
    "duration": 0,
    "start_time": "2025-02-23T22:59:31.840Z"
   },
   {
    "duration": 0,
    "start_time": "2025-02-23T22:59:31.841Z"
   },
   {
    "duration": 0,
    "start_time": "2025-02-23T22:59:31.842Z"
   },
   {
    "duration": 0,
    "start_time": "2025-02-23T22:59:31.843Z"
   },
   {
    "duration": 0,
    "start_time": "2025-02-23T22:59:31.843Z"
   },
   {
    "duration": 0,
    "start_time": "2025-02-23T22:59:31.845Z"
   },
   {
    "duration": 0,
    "start_time": "2025-02-23T22:59:31.847Z"
   },
   {
    "duration": 0,
    "start_time": "2025-02-23T22:59:31.848Z"
   },
   {
    "duration": 0,
    "start_time": "2025-02-23T22:59:31.850Z"
   },
   {
    "duration": 0,
    "start_time": "2025-02-23T22:59:31.851Z"
   },
   {
    "duration": 0,
    "start_time": "2025-02-23T22:59:31.853Z"
   },
   {
    "duration": 0,
    "start_time": "2025-02-23T22:59:31.855Z"
   },
   {
    "duration": 0,
    "start_time": "2025-02-23T22:59:31.857Z"
   },
   {
    "duration": 0,
    "start_time": "2025-02-23T22:59:31.858Z"
   },
   {
    "duration": 6,
    "start_time": "2025-02-23T22:59:40.346Z"
   },
   {
    "duration": 329,
    "start_time": "2025-02-23T23:01:11.245Z"
   },
   {
    "duration": 16,
    "start_time": "2025-02-23T23:01:11.576Z"
   },
   {
    "duration": 18,
    "start_time": "2025-02-23T23:01:11.594Z"
   },
   {
    "duration": 3,
    "start_time": "2025-02-23T23:01:11.631Z"
   },
   {
    "duration": 19,
    "start_time": "2025-02-23T23:01:11.636Z"
   },
   {
    "duration": 33,
    "start_time": "2025-02-23T23:01:11.657Z"
   },
   {
    "duration": 8,
    "start_time": "2025-02-23T23:01:11.692Z"
   },
   {
    "duration": 30,
    "start_time": "2025-02-23T23:01:11.702Z"
   },
   {
    "duration": 7,
    "start_time": "2025-02-23T23:01:11.734Z"
   },
   {
    "duration": 147,
    "start_time": "2025-02-23T23:01:11.743Z"
   },
   {
    "duration": 150,
    "start_time": "2025-02-23T23:01:11.892Z"
   },
   {
    "duration": 1259,
    "start_time": "2025-02-23T23:01:12.045Z"
   },
   {
    "duration": 3,
    "start_time": "2025-02-23T23:01:13.306Z"
   },
   {
    "duration": 3,
    "start_time": "2025-02-23T23:01:13.311Z"
   },
   {
    "duration": 461,
    "start_time": "2025-02-23T23:01:13.316Z"
   },
   {
    "duration": 6,
    "start_time": "2025-02-23T23:01:13.779Z"
   },
   {
    "duration": 4,
    "start_time": "2025-02-23T23:01:13.787Z"
   },
   {
    "duration": 4,
    "start_time": "2025-02-23T23:01:13.792Z"
   },
   {
    "duration": 5,
    "start_time": "2025-02-23T23:01:13.798Z"
   },
   {
    "duration": 28,
    "start_time": "2025-02-23T23:01:13.805Z"
   },
   {
    "duration": 6,
    "start_time": "2025-02-23T23:01:13.835Z"
   },
   {
    "duration": 7,
    "start_time": "2025-02-23T23:01:13.844Z"
   },
   {
    "duration": 3,
    "start_time": "2025-02-23T23:01:13.852Z"
   },
   {
    "duration": 15,
    "start_time": "2025-02-23T23:01:13.856Z"
   },
   {
    "duration": 18,
    "start_time": "2025-02-23T23:01:13.873Z"
   },
   {
    "duration": 3,
    "start_time": "2025-02-23T23:01:13.892Z"
   },
   {
    "duration": 43,
    "start_time": "2025-02-23T23:01:13.896Z"
   },
   {
    "duration": 6,
    "start_time": "2025-02-23T23:01:13.944Z"
   },
   {
    "duration": 241,
    "start_time": "2025-02-23T23:01:13.951Z"
   },
   {
    "duration": 0,
    "start_time": "2025-02-23T23:01:14.194Z"
   },
   {
    "duration": 0,
    "start_time": "2025-02-23T23:01:14.196Z"
   },
   {
    "duration": 0,
    "start_time": "2025-02-23T23:01:14.196Z"
   },
   {
    "duration": 0,
    "start_time": "2025-02-23T23:01:14.197Z"
   },
   {
    "duration": 0,
    "start_time": "2025-02-23T23:01:14.199Z"
   },
   {
    "duration": 0,
    "start_time": "2025-02-23T23:01:14.200Z"
   },
   {
    "duration": 0,
    "start_time": "2025-02-23T23:01:14.200Z"
   },
   {
    "duration": 0,
    "start_time": "2025-02-23T23:01:14.202Z"
   },
   {
    "duration": 0,
    "start_time": "2025-02-23T23:01:14.203Z"
   },
   {
    "duration": 0,
    "start_time": "2025-02-23T23:01:14.204Z"
   },
   {
    "duration": 0,
    "start_time": "2025-02-23T23:01:14.231Z"
   },
   {
    "duration": 0,
    "start_time": "2025-02-23T23:01:14.232Z"
   },
   {
    "duration": 0,
    "start_time": "2025-02-23T23:01:14.234Z"
   },
   {
    "duration": 0,
    "start_time": "2025-02-23T23:01:14.235Z"
   },
   {
    "duration": 0,
    "start_time": "2025-02-23T23:01:14.236Z"
   },
   {
    "duration": 0,
    "start_time": "2025-02-23T23:01:14.236Z"
   },
   {
    "duration": 0,
    "start_time": "2025-02-23T23:01:14.239Z"
   },
   {
    "duration": 0,
    "start_time": "2025-02-23T23:01:14.240Z"
   },
   {
    "duration": 0,
    "start_time": "2025-02-23T23:01:14.241Z"
   },
   {
    "duration": 0,
    "start_time": "2025-02-23T23:01:14.242Z"
   },
   {
    "duration": 0,
    "start_time": "2025-02-23T23:01:14.243Z"
   },
   {
    "duration": 0,
    "start_time": "2025-02-23T23:01:14.244Z"
   },
   {
    "duration": 0,
    "start_time": "2025-02-23T23:01:14.245Z"
   },
   {
    "duration": 0,
    "start_time": "2025-02-23T23:01:14.247Z"
   },
   {
    "duration": 0,
    "start_time": "2025-02-23T23:01:14.248Z"
   },
   {
    "duration": 0,
    "start_time": "2025-02-23T23:01:14.249Z"
   },
   {
    "duration": 0,
    "start_time": "2025-02-23T23:01:14.250Z"
   },
   {
    "duration": 0,
    "start_time": "2025-02-23T23:01:14.251Z"
   },
   {
    "duration": 0,
    "start_time": "2025-02-23T23:01:14.253Z"
   },
   {
    "duration": 0,
    "start_time": "2025-02-23T23:01:14.254Z"
   },
   {
    "duration": 0,
    "start_time": "2025-02-23T23:01:14.255Z"
   },
   {
    "duration": 0,
    "start_time": "2025-02-23T23:01:14.256Z"
   },
   {
    "duration": 0,
    "start_time": "2025-02-23T23:01:14.258Z"
   },
   {
    "duration": 17,
    "start_time": "2025-02-23T23:03:25.326Z"
   },
   {
    "duration": 13,
    "start_time": "2025-02-23T23:03:39.761Z"
   },
   {
    "duration": 5,
    "start_time": "2025-02-23T23:04:00.718Z"
   },
   {
    "duration": 298,
    "start_time": "2025-02-23T23:07:01.811Z"
   },
   {
    "duration": 20,
    "start_time": "2025-02-23T23:07:02.111Z"
   },
   {
    "duration": 19,
    "start_time": "2025-02-23T23:07:02.133Z"
   },
   {
    "duration": 3,
    "start_time": "2025-02-23T23:07:02.154Z"
   },
   {
    "duration": 15,
    "start_time": "2025-02-23T23:07:02.160Z"
   },
   {
    "duration": 55,
    "start_time": "2025-02-23T23:07:02.177Z"
   },
   {
    "duration": 9,
    "start_time": "2025-02-23T23:07:02.234Z"
   },
   {
    "duration": 6,
    "start_time": "2025-02-23T23:07:02.244Z"
   },
   {
    "duration": 7,
    "start_time": "2025-02-23T23:07:02.252Z"
   },
   {
    "duration": 155,
    "start_time": "2025-02-23T23:07:02.260Z"
   },
   {
    "duration": 145,
    "start_time": "2025-02-23T23:07:02.416Z"
   },
   {
    "duration": 1237,
    "start_time": "2025-02-23T23:07:02.563Z"
   },
   {
    "duration": 3,
    "start_time": "2025-02-23T23:07:03.802Z"
   },
   {
    "duration": 2,
    "start_time": "2025-02-23T23:07:03.810Z"
   },
   {
    "duration": 482,
    "start_time": "2025-02-23T23:07:03.814Z"
   },
   {
    "duration": 6,
    "start_time": "2025-02-23T23:07:04.297Z"
   },
   {
    "duration": 4,
    "start_time": "2025-02-23T23:07:04.305Z"
   },
   {
    "duration": 4,
    "start_time": "2025-02-23T23:07:04.311Z"
   },
   {
    "duration": 5,
    "start_time": "2025-02-23T23:07:04.331Z"
   },
   {
    "duration": 6,
    "start_time": "2025-02-23T23:07:04.337Z"
   },
   {
    "duration": 5,
    "start_time": "2025-02-23T23:07:04.345Z"
   },
   {
    "duration": 4,
    "start_time": "2025-02-23T23:07:04.351Z"
   },
   {
    "duration": 3,
    "start_time": "2025-02-23T23:07:04.357Z"
   },
   {
    "duration": 15,
    "start_time": "2025-02-23T23:07:04.362Z"
   },
   {
    "duration": 57,
    "start_time": "2025-02-23T23:07:04.378Z"
   },
   {
    "duration": 3,
    "start_time": "2025-02-23T23:07:04.437Z"
   },
   {
    "duration": 11,
    "start_time": "2025-02-23T23:07:04.442Z"
   },
   {
    "duration": 5,
    "start_time": "2025-02-23T23:07:04.455Z"
   },
   {
    "duration": 9,
    "start_time": "2025-02-23T23:07:04.461Z"
   },
   {
    "duration": 5,
    "start_time": "2025-02-23T23:07:04.471Z"
   },
   {
    "duration": 15,
    "start_time": "2025-02-23T23:07:04.479Z"
   },
   {
    "duration": 36,
    "start_time": "2025-02-23T23:07:04.496Z"
   },
   {
    "duration": 17,
    "start_time": "2025-02-23T23:07:04.533Z"
   },
   {
    "duration": 7,
    "start_time": "2025-02-23T23:07:04.552Z"
   },
   {
    "duration": 5,
    "start_time": "2025-02-23T23:07:04.560Z"
   },
   {
    "duration": 3,
    "start_time": "2025-02-23T23:07:04.567Z"
   },
   {
    "duration": 61,
    "start_time": "2025-02-23T23:07:04.571Z"
   },
   {
    "duration": 5,
    "start_time": "2025-02-23T23:07:04.634Z"
   },
   {
    "duration": 5,
    "start_time": "2025-02-23T23:07:04.640Z"
   },
   {
    "duration": 4,
    "start_time": "2025-02-23T23:07:04.647Z"
   },
   {
    "duration": 125,
    "start_time": "2025-02-23T23:07:04.656Z"
   },
   {
    "duration": 51,
    "start_time": "2025-02-23T23:07:04.785Z"
   },
   {
    "duration": 5,
    "start_time": "2025-02-23T23:07:04.839Z"
   },
   {
    "duration": 89,
    "start_time": "2025-02-23T23:07:04.846Z"
   },
   {
    "duration": 2,
    "start_time": "2025-02-23T23:07:04.937Z"
   },
   {
    "duration": 3,
    "start_time": "2025-02-23T23:07:04.941Z"
   },
   {
    "duration": 9,
    "start_time": "2025-02-23T23:07:04.945Z"
   },
   {
    "duration": 12,
    "start_time": "2025-02-23T23:07:04.956Z"
   },
   {
    "duration": 8,
    "start_time": "2025-02-23T23:07:04.969Z"
   },
   {
    "duration": 7,
    "start_time": "2025-02-23T23:07:04.979Z"
   },
   {
    "duration": 49,
    "start_time": "2025-02-23T23:07:04.987Z"
   },
   {
    "duration": 4,
    "start_time": "2025-02-23T23:07:05.038Z"
   },
   {
    "duration": 43,
    "start_time": "2025-02-23T23:07:05.043Z"
   },
   {
    "duration": 96,
    "start_time": "2025-02-23T23:07:05.088Z"
   },
   {
    "duration": 19,
    "start_time": "2025-02-23T23:07:05.187Z"
   },
   {
    "duration": 5,
    "start_time": "2025-02-23T23:07:05.207Z"
   },
   {
    "duration": 4,
    "start_time": "2025-02-23T23:07:05.213Z"
   },
   {
    "duration": 0,
    "start_time": "2025-02-23T23:07:05.218Z"
   },
   {
    "duration": 0,
    "start_time": "2025-02-23T23:07:05.232Z"
   },
   {
    "duration": 0,
    "start_time": "2025-02-23T23:07:05.233Z"
   },
   {
    "duration": 0,
    "start_time": "2025-02-23T23:07:05.234Z"
   },
   {
    "duration": 0,
    "start_time": "2025-02-23T23:07:05.235Z"
   },
   {
    "duration": 0,
    "start_time": "2025-02-23T23:07:05.236Z"
   },
   {
    "duration": 296,
    "start_time": "2025-02-23T23:07:27.799Z"
   },
   {
    "duration": 16,
    "start_time": "2025-02-23T23:07:28.097Z"
   },
   {
    "duration": 28,
    "start_time": "2025-02-23T23:07:28.115Z"
   },
   {
    "duration": 3,
    "start_time": "2025-02-23T23:07:28.145Z"
   },
   {
    "duration": 14,
    "start_time": "2025-02-23T23:07:28.150Z"
   },
   {
    "duration": 30,
    "start_time": "2025-02-23T23:07:28.166Z"
   },
   {
    "duration": 35,
    "start_time": "2025-02-23T23:07:28.198Z"
   },
   {
    "duration": 10,
    "start_time": "2025-02-23T23:07:28.235Z"
   },
   {
    "duration": 7,
    "start_time": "2025-02-23T23:07:28.247Z"
   },
   {
    "duration": 145,
    "start_time": "2025-02-23T23:07:28.255Z"
   },
   {
    "duration": 150,
    "start_time": "2025-02-23T23:07:28.402Z"
   },
   {
    "duration": 1190,
    "start_time": "2025-02-23T23:07:28.554Z"
   },
   {
    "duration": 4,
    "start_time": "2025-02-23T23:07:29.746Z"
   },
   {
    "duration": 3,
    "start_time": "2025-02-23T23:07:29.755Z"
   },
   {
    "duration": 497,
    "start_time": "2025-02-23T23:07:29.760Z"
   },
   {
    "duration": 6,
    "start_time": "2025-02-23T23:07:30.259Z"
   },
   {
    "duration": 4,
    "start_time": "2025-02-23T23:07:30.267Z"
   },
   {
    "duration": 3,
    "start_time": "2025-02-23T23:07:30.273Z"
   },
   {
    "duration": 4,
    "start_time": "2025-02-23T23:07:30.278Z"
   },
   {
    "duration": 7,
    "start_time": "2025-02-23T23:07:30.283Z"
   },
   {
    "duration": 5,
    "start_time": "2025-02-23T23:07:30.291Z"
   },
   {
    "duration": 35,
    "start_time": "2025-02-23T23:07:30.297Z"
   },
   {
    "duration": 3,
    "start_time": "2025-02-23T23:07:30.334Z"
   },
   {
    "duration": 15,
    "start_time": "2025-02-23T23:07:30.339Z"
   },
   {
    "duration": 18,
    "start_time": "2025-02-23T23:07:30.356Z"
   },
   {
    "duration": 2,
    "start_time": "2025-02-23T23:07:30.377Z"
   },
   {
    "duration": 11,
    "start_time": "2025-02-23T23:07:30.382Z"
   },
   {
    "duration": 38,
    "start_time": "2025-02-23T23:07:30.395Z"
   },
   {
    "duration": 9,
    "start_time": "2025-02-23T23:07:30.435Z"
   },
   {
    "duration": 5,
    "start_time": "2025-02-23T23:07:30.446Z"
   },
   {
    "duration": 15,
    "start_time": "2025-02-23T23:07:30.453Z"
   },
   {
    "duration": 3,
    "start_time": "2025-02-23T23:07:30.470Z"
   },
   {
    "duration": 17,
    "start_time": "2025-02-23T23:07:30.474Z"
   },
   {
    "duration": 41,
    "start_time": "2025-02-23T23:07:30.492Z"
   },
   {
    "duration": 6,
    "start_time": "2025-02-23T23:07:30.535Z"
   },
   {
    "duration": 3,
    "start_time": "2025-02-23T23:07:30.542Z"
   },
   {
    "duration": 3,
    "start_time": "2025-02-23T23:07:30.547Z"
   },
   {
    "duration": 4,
    "start_time": "2025-02-23T23:07:30.552Z"
   },
   {
    "duration": 5,
    "start_time": "2025-02-23T23:07:30.631Z"
   },
   {
    "duration": 2,
    "start_time": "2025-02-23T23:07:30.638Z"
   },
   {
    "duration": 122,
    "start_time": "2025-02-23T23:07:30.648Z"
   },
   {
    "duration": 3,
    "start_time": "2025-02-23T23:07:30.772Z"
   },
   {
    "duration": 4,
    "start_time": "2025-02-23T23:07:30.777Z"
   },
   {
    "duration": 63,
    "start_time": "2025-02-23T23:07:30.783Z"
   },
   {
    "duration": 5,
    "start_time": "2025-02-23T23:07:30.847Z"
   },
   {
    "duration": 79,
    "start_time": "2025-02-23T23:07:30.855Z"
   },
   {
    "duration": 9,
    "start_time": "2025-02-23T23:07:30.936Z"
   },
   {
    "duration": 11,
    "start_time": "2025-02-23T23:07:30.947Z"
   },
   {
    "duration": 6,
    "start_time": "2025-02-23T23:07:30.960Z"
   },
   {
    "duration": 7,
    "start_time": "2025-02-23T23:07:30.967Z"
   },
   {
    "duration": 17,
    "start_time": "2025-02-23T23:07:30.975Z"
   },
   {
    "duration": 4,
    "start_time": "2025-02-23T23:07:30.994Z"
   },
   {
    "duration": 72,
    "start_time": "2025-02-23T23:07:31.000Z"
   },
   {
    "duration": 87,
    "start_time": "2025-02-23T23:07:31.073Z"
   },
   {
    "duration": 20,
    "start_time": "2025-02-23T23:07:31.161Z"
   },
   {
    "duration": 5,
    "start_time": "2025-02-23T23:07:31.183Z"
   },
   {
    "duration": 8,
    "start_time": "2025-02-23T23:07:31.190Z"
   },
   {
    "duration": 3,
    "start_time": "2025-02-23T23:07:31.200Z"
   },
   {
    "duration": 81739,
    "start_time": "2025-02-23T23:07:31.204Z"
   },
   {
    "duration": 686,
    "start_time": "2025-02-23T23:08:52.945Z"
   },
   {
    "duration": 72,
    "start_time": "2025-02-23T23:08:53.633Z"
   },
   {
    "duration": 6,
    "start_time": "2025-02-23T23:08:53.708Z"
   },
   {
    "duration": 230,
    "start_time": "2025-02-23T23:15:55.428Z"
   },
   {
    "duration": 47,
    "start_time": "2025-02-23T23:16:12.975Z"
   },
   {
    "duration": 47,
    "start_time": "2025-02-23T23:16:41.647Z"
   },
   {
    "duration": 4,
    "start_time": "2025-02-23T23:21:31.513Z"
   },
   {
    "duration": 3,
    "start_time": "2025-02-23T23:21:33.463Z"
   },
   {
    "duration": 5,
    "start_time": "2025-02-23T23:21:35.428Z"
   },
   {
    "duration": 17,
    "start_time": "2025-02-23T23:23:08.540Z"
   },
   {
    "duration": 9,
    "start_time": "2025-02-23T23:23:26.950Z"
   },
   {
    "duration": 4,
    "start_time": "2025-02-23T23:23:50.580Z"
   },
   {
    "duration": 5,
    "start_time": "2025-02-23T23:24:09.769Z"
   },
   {
    "duration": 13,
    "start_time": "2025-02-23T23:30:41.436Z"
   },
   {
    "duration": 5,
    "start_time": "2025-02-24T00:09:43.756Z"
   },
   {
    "duration": 20,
    "start_time": "2025-02-24T00:10:38.601Z"
   },
   {
    "duration": 2,
    "start_time": "2025-02-24T00:11:09.505Z"
   },
   {
    "duration": 14,
    "start_time": "2025-02-24T00:11:11.406Z"
   },
   {
    "duration": 3,
    "start_time": "2025-02-24T00:11:43.494Z"
   },
   {
    "duration": 15,
    "start_time": "2025-02-24T00:11:46.121Z"
   },
   {
    "duration": 3,
    "start_time": "2025-02-24T00:12:46.059Z"
   },
   {
    "duration": 16,
    "start_time": "2025-02-24T00:12:49.313Z"
   },
   {
    "duration": 17,
    "start_time": "2025-02-24T00:13:05.201Z"
   },
   {
    "duration": 31,
    "start_time": "2025-02-24T00:13:16.742Z"
   },
   {
    "duration": 47,
    "start_time": "2025-02-24T00:19:53.805Z"
   },
   {
    "duration": 2,
    "start_time": "2025-02-24T00:25:08.735Z"
   },
   {
    "duration": 3,
    "start_time": "2025-02-24T00:28:35.322Z"
   },
   {
    "duration": 3,
    "start_time": "2025-02-24T00:28:44.198Z"
   },
   {
    "duration": 51,
    "start_time": "2025-02-24T00:35:30.884Z"
   },
   {
    "duration": 3,
    "start_time": "2025-02-24T00:35:46.508Z"
   },
   {
    "duration": 5,
    "start_time": "2025-02-24T00:35:49.905Z"
   },
   {
    "duration": 74,
    "start_time": "2025-02-24T00:36:24.799Z"
   },
   {
    "duration": 38,
    "start_time": "2025-02-24T00:36:56.389Z"
   },
   {
    "duration": 4,
    "start_time": "2025-02-24T00:38:57.293Z"
   },
   {
    "duration": 3,
    "start_time": "2025-02-24T00:39:00.158Z"
   },
   {
    "duration": 5,
    "start_time": "2025-02-24T00:39:08.693Z"
   },
   {
    "duration": 52,
    "start_time": "2025-02-24T00:54:18.878Z"
   },
   {
    "duration": 2,
    "start_time": "2025-02-24T00:55:08.521Z"
   },
   {
    "duration": 4,
    "start_time": "2025-02-24T00:55:21.321Z"
   },
   {
    "duration": 39,
    "start_time": "2025-02-24T00:55:23.073Z"
   },
   {
    "duration": 4,
    "start_time": "2025-02-24T00:55:24.716Z"
   },
   {
    "duration": 5,
    "start_time": "2025-02-24T00:55:27.081Z"
   },
   {
    "duration": 3,
    "start_time": "2025-02-24T00:55:46.636Z"
   },
   {
    "duration": 20,
    "start_time": "2025-02-24T00:55:48.918Z"
   },
   {
    "duration": 4,
    "start_time": "2025-02-24T00:55:51.452Z"
   },
   {
    "duration": 5,
    "start_time": "2025-02-24T00:55:55.503Z"
   },
   {
    "duration": 21,
    "start_time": "2025-02-24T00:58:38.949Z"
   },
   {
    "duration": 39,
    "start_time": "2025-02-24T00:58:52.222Z"
   },
   {
    "duration": 71,
    "start_time": "2025-02-24T00:59:44.868Z"
   },
   {
    "duration": 75,
    "start_time": "2025-02-24T01:01:39.592Z"
   },
   {
    "duration": 79,
    "start_time": "2025-02-24T01:03:02.605Z"
   },
   {
    "duration": 74,
    "start_time": "2025-02-24T01:03:22.808Z"
   },
   {
    "duration": 77,
    "start_time": "2025-02-24T01:03:38.288Z"
   },
   {
    "duration": 105,
    "start_time": "2025-02-24T01:03:46.066Z"
   },
   {
    "duration": 3,
    "start_time": "2025-02-24T01:04:04.869Z"
   },
   {
    "duration": 23,
    "start_time": "2025-02-24T01:04:07.251Z"
   },
   {
    "duration": 3,
    "start_time": "2025-02-24T01:04:09.385Z"
   },
   {
    "duration": 5,
    "start_time": "2025-02-24T01:04:13.099Z"
   },
   {
    "duration": 9,
    "start_time": "2025-02-24T01:15:00.385Z"
   },
   {
    "duration": 6,
    "start_time": "2025-02-24T01:15:06.132Z"
   },
   {
    "duration": 11,
    "start_time": "2025-02-24T01:15:32.925Z"
   },
   {
    "duration": 6,
    "start_time": "2025-02-24T01:15:35.829Z"
   },
   {
    "duration": 395,
    "start_time": "2025-02-24T01:19:19.723Z"
   },
   {
    "duration": 333,
    "start_time": "2025-02-24T01:30:52.254Z"
   },
   {
    "duration": 17,
    "start_time": "2025-02-24T01:30:52.589Z"
   },
   {
    "duration": 24,
    "start_time": "2025-02-24T01:30:52.608Z"
   },
   {
    "duration": 3,
    "start_time": "2025-02-24T01:30:52.633Z"
   },
   {
    "duration": 15,
    "start_time": "2025-02-24T01:30:52.639Z"
   },
   {
    "duration": 30,
    "start_time": "2025-02-24T01:30:52.656Z"
   },
   {
    "duration": 7,
    "start_time": "2025-02-24T01:30:52.688Z"
   },
   {
    "duration": 34,
    "start_time": "2025-02-24T01:30:52.697Z"
   },
   {
    "duration": 7,
    "start_time": "2025-02-24T01:30:52.734Z"
   },
   {
    "duration": 141,
    "start_time": "2025-02-24T01:30:52.743Z"
   },
   {
    "duration": 163,
    "start_time": "2025-02-24T01:30:52.886Z"
   },
   {
    "duration": 1205,
    "start_time": "2025-02-24T01:30:53.051Z"
   },
   {
    "duration": 5,
    "start_time": "2025-02-24T01:30:54.257Z"
   },
   {
    "duration": 2,
    "start_time": "2025-02-24T01:30:54.267Z"
   },
   {
    "duration": 495,
    "start_time": "2025-02-24T01:30:54.271Z"
   },
   {
    "duration": 6,
    "start_time": "2025-02-24T01:30:54.767Z"
   },
   {
    "duration": 5,
    "start_time": "2025-02-24T01:30:54.775Z"
   },
   {
    "duration": 4,
    "start_time": "2025-02-24T01:30:54.782Z"
   },
   {
    "duration": 4,
    "start_time": "2025-02-24T01:30:54.788Z"
   },
   {
    "duration": 6,
    "start_time": "2025-02-24T01:30:54.794Z"
   },
   {
    "duration": 31,
    "start_time": "2025-02-24T01:30:54.802Z"
   },
   {
    "duration": 5,
    "start_time": "2025-02-24T01:30:54.834Z"
   },
   {
    "duration": 2,
    "start_time": "2025-02-24T01:30:54.841Z"
   },
   {
    "duration": 15,
    "start_time": "2025-02-24T01:30:54.845Z"
   },
   {
    "duration": 18,
    "start_time": "2025-02-24T01:30:54.861Z"
   },
   {
    "duration": 3,
    "start_time": "2025-02-24T01:30:54.881Z"
   },
   {
    "duration": 45,
    "start_time": "2025-02-24T01:30:54.886Z"
   },
   {
    "duration": 6,
    "start_time": "2025-02-24T01:30:54.933Z"
   },
   {
    "duration": 9,
    "start_time": "2025-02-24T01:30:54.941Z"
   },
   {
    "duration": 4,
    "start_time": "2025-02-24T01:30:54.952Z"
   },
   {
    "duration": 15,
    "start_time": "2025-02-24T01:30:54.958Z"
   },
   {
    "duration": 2,
    "start_time": "2025-02-24T01:30:54.975Z"
   },
   {
    "duration": 14,
    "start_time": "2025-02-24T01:30:54.979Z"
   },
   {
    "duration": 39,
    "start_time": "2025-02-24T01:30:54.994Z"
   },
   {
    "duration": 11,
    "start_time": "2025-02-24T01:30:55.035Z"
   },
   {
    "duration": 3,
    "start_time": "2025-02-24T01:30:55.048Z"
   },
   {
    "duration": 3,
    "start_time": "2025-02-24T01:30:55.053Z"
   },
   {
    "duration": 78,
    "start_time": "2025-02-24T01:30:55.058Z"
   },
   {
    "duration": 5,
    "start_time": "2025-02-24T01:30:55.138Z"
   },
   {
    "duration": 3,
    "start_time": "2025-02-24T01:30:55.144Z"
   },
   {
    "duration": 119,
    "start_time": "2025-02-24T01:30:55.155Z"
   },
   {
    "duration": 54,
    "start_time": "2025-02-24T01:30:55.276Z"
   },
   {
    "duration": 4,
    "start_time": "2025-02-24T01:30:55.333Z"
   },
   {
    "duration": 124,
    "start_time": "2025-02-24T01:30:55.339Z"
   },
   {
    "duration": 5,
    "start_time": "2025-02-24T01:30:55.465Z"
   },
   {
    "duration": 3,
    "start_time": "2025-02-24T01:30:55.472Z"
   },
   {
    "duration": 4,
    "start_time": "2025-02-24T01:30:55.477Z"
   },
   {
    "duration": 22,
    "start_time": "2025-02-24T01:30:55.532Z"
   },
   {
    "duration": 79,
    "start_time": "2025-02-24T01:30:55.556Z"
   },
   {
    "duration": 3,
    "start_time": "2025-02-24T01:30:55.637Z"
   },
   {
    "duration": 6,
    "start_time": "2025-02-24T01:30:55.644Z"
   },
   {
    "duration": 93,
    "start_time": "2025-02-24T01:30:55.651Z"
   },
   {
    "duration": 5,
    "start_time": "2025-02-24T01:30:55.746Z"
   },
   {
    "duration": 3,
    "start_time": "2025-02-24T01:30:55.753Z"
   },
   {
    "duration": 179,
    "start_time": "2025-02-24T01:30:55.757Z"
   },
   {
    "duration": 3,
    "start_time": "2025-02-24T01:30:55.937Z"
   },
   {
    "duration": 2,
    "start_time": "2025-02-24T01:30:55.942Z"
   },
   {
    "duration": 9,
    "start_time": "2025-02-24T01:30:55.946Z"
   },
   {
    "duration": 10,
    "start_time": "2025-02-24T01:30:55.957Z"
   },
   {
    "duration": 7,
    "start_time": "2025-02-24T01:30:55.969Z"
   },
   {
    "duration": 6,
    "start_time": "2025-02-24T01:30:55.979Z"
   },
   {
    "duration": 45,
    "start_time": "2025-02-24T01:30:55.987Z"
   },
   {
    "duration": 14,
    "start_time": "2025-02-24T01:30:56.034Z"
   },
   {
    "duration": 3,
    "start_time": "2025-02-24T01:30:56.050Z"
   },
   {
    "duration": 45,
    "start_time": "2025-02-24T01:30:56.054Z"
   },
   {
    "duration": 104,
    "start_time": "2025-02-24T01:30:56.101Z"
   },
   {
    "duration": 29,
    "start_time": "2025-02-24T01:30:56.207Z"
   },
   {
    "duration": 5,
    "start_time": "2025-02-24T01:30:56.238Z"
   },
   {
    "duration": 39,
    "start_time": "2025-02-24T01:30:56.244Z"
   },
   {
    "duration": 118,
    "start_time": "2025-02-24T01:30:56.286Z"
   },
   {
    "duration": 3,
    "start_time": "2025-02-24T01:30:56.406Z"
   },
   {
    "duration": 35,
    "start_time": "2025-02-24T01:30:56.410Z"
   },
   {
    "duration": 4,
    "start_time": "2025-02-24T01:30:56.447Z"
   },
   {
    "duration": 5,
    "start_time": "2025-02-24T01:30:56.452Z"
   },
   {
    "duration": 580,
    "start_time": "2025-02-24T01:30:56.458Z"
   },
   {
    "duration": 0,
    "start_time": "2025-02-24T01:30:57.040Z"
   },
   {
    "duration": 0,
    "start_time": "2025-02-24T01:30:57.042Z"
   },
   {
    "duration": 0,
    "start_time": "2025-02-24T01:30:57.043Z"
   },
   {
    "duration": 0,
    "start_time": "2025-02-24T01:30:57.044Z"
   },
   {
    "duration": 0,
    "start_time": "2025-02-24T01:30:57.046Z"
   },
   {
    "duration": 0,
    "start_time": "2025-02-24T01:30:57.048Z"
   },
   {
    "duration": 4,
    "start_time": "2025-02-24T01:37:38.851Z"
   },
   {
    "duration": 5,
    "start_time": "2025-02-24T01:37:44.917Z"
   },
   {
    "duration": 37,
    "start_time": "2025-02-24T01:37:51.993Z"
   },
   {
    "duration": 3,
    "start_time": "2025-02-24T01:37:55.585Z"
   },
   {
    "duration": 38,
    "start_time": "2025-02-24T01:38:47.689Z"
   },
   {
    "duration": 5,
    "start_time": "2025-02-24T01:38:52.316Z"
   },
   {
    "duration": 37,
    "start_time": "2025-02-24T01:40:15.215Z"
   },
   {
    "duration": 3,
    "start_time": "2025-02-24T01:40:51.121Z"
   },
   {
    "duration": 4,
    "start_time": "2025-02-24T01:40:56.117Z"
   },
   {
    "duration": 3,
    "start_time": "2025-02-24T01:41:16.914Z"
   },
   {
    "duration": 38,
    "start_time": "2025-02-24T01:44:40.229Z"
   },
   {
    "duration": 333,
    "start_time": "2025-02-24T01:45:59.363Z"
   },
   {
    "duration": 16,
    "start_time": "2025-02-24T01:45:59.699Z"
   },
   {
    "duration": 25,
    "start_time": "2025-02-24T01:45:59.717Z"
   },
   {
    "duration": 3,
    "start_time": "2025-02-24T01:45:59.744Z"
   },
   {
    "duration": 14,
    "start_time": "2025-02-24T01:45:59.750Z"
   },
   {
    "duration": 32,
    "start_time": "2025-02-24T01:45:59.766Z"
   },
   {
    "duration": 37,
    "start_time": "2025-02-24T01:45:59.800Z"
   },
   {
    "duration": 6,
    "start_time": "2025-02-24T01:45:59.839Z"
   },
   {
    "duration": 6,
    "start_time": "2025-02-24T01:45:59.848Z"
   },
   {
    "duration": 152,
    "start_time": "2025-02-24T01:45:59.855Z"
   },
   {
    "duration": 141,
    "start_time": "2025-02-24T01:46:00.009Z"
   },
   {
    "duration": 1234,
    "start_time": "2025-02-24T01:46:00.152Z"
   },
   {
    "duration": 4,
    "start_time": "2025-02-24T01:46:01.387Z"
   },
   {
    "duration": 2,
    "start_time": "2025-02-24T01:46:01.395Z"
   },
   {
    "duration": 498,
    "start_time": "2025-02-24T01:46:01.398Z"
   },
   {
    "duration": 7,
    "start_time": "2025-02-24T01:46:01.897Z"
   },
   {
    "duration": 4,
    "start_time": "2025-02-24T01:46:01.905Z"
   },
   {
    "duration": 4,
    "start_time": "2025-02-24T01:46:01.911Z"
   },
   {
    "duration": 4,
    "start_time": "2025-02-24T01:46:01.931Z"
   },
   {
    "duration": 6,
    "start_time": "2025-02-24T01:46:01.937Z"
   },
   {
    "duration": 9,
    "start_time": "2025-02-24T01:46:01.945Z"
   },
   {
    "duration": 9,
    "start_time": "2025-02-24T01:46:01.955Z"
   },
   {
    "duration": 3,
    "start_time": "2025-02-24T01:46:01.967Z"
   },
   {
    "duration": 17,
    "start_time": "2025-02-24T01:46:01.972Z"
   },
   {
    "duration": 60,
    "start_time": "2025-02-24T01:46:01.990Z"
   },
   {
    "duration": 3,
    "start_time": "2025-02-24T01:46:02.051Z"
   },
   {
    "duration": 11,
    "start_time": "2025-02-24T01:46:02.056Z"
   },
   {
    "duration": 6,
    "start_time": "2025-02-24T01:46:02.068Z"
   },
   {
    "duration": 9,
    "start_time": "2025-02-24T01:46:02.075Z"
   },
   {
    "duration": 5,
    "start_time": "2025-02-24T01:46:02.086Z"
   },
   {
    "duration": 55,
    "start_time": "2025-02-24T01:46:02.092Z"
   },
   {
    "duration": 3,
    "start_time": "2025-02-24T01:46:02.148Z"
   },
   {
    "duration": 15,
    "start_time": "2025-02-24T01:46:02.153Z"
   },
   {
    "duration": 10,
    "start_time": "2025-02-24T01:46:02.170Z"
   },
   {
    "duration": 56,
    "start_time": "2025-02-24T01:46:02.183Z"
   },
   {
    "duration": 3,
    "start_time": "2025-02-24T01:46:02.241Z"
   },
   {
    "duration": 2,
    "start_time": "2025-02-24T01:46:02.246Z"
   },
   {
    "duration": 83,
    "start_time": "2025-02-24T01:46:02.250Z"
   },
   {
    "duration": 7,
    "start_time": "2025-02-24T01:46:02.335Z"
   },
   {
    "duration": 3,
    "start_time": "2025-02-24T01:46:02.344Z"
   },
   {
    "duration": 50,
    "start_time": "2025-02-24T01:46:02.431Z"
   },
   {
    "duration": 3,
    "start_time": "2025-02-24T01:46:02.483Z"
   },
   {
    "duration": 5,
    "start_time": "2025-02-24T01:46:02.532Z"
   },
   {
    "duration": 124,
    "start_time": "2025-02-24T01:46:02.538Z"
   },
   {
    "duration": 10,
    "start_time": "2025-02-24T01:46:02.664Z"
   },
   {
    "duration": 3,
    "start_time": "2025-02-24T01:46:02.676Z"
   },
   {
    "duration": 58,
    "start_time": "2025-02-24T01:46:02.681Z"
   },
   {
    "duration": 97,
    "start_time": "2025-02-24T01:46:02.741Z"
   },
   {
    "duration": 4,
    "start_time": "2025-02-24T01:46:02.840Z"
   },
   {
    "duration": 4,
    "start_time": "2025-02-24T01:46:02.846Z"
   },
   {
    "duration": 4,
    "start_time": "2025-02-24T01:46:02.852Z"
   },
   {
    "duration": 85,
    "start_time": "2025-02-24T01:46:02.859Z"
   },
   {
    "duration": 4,
    "start_time": "2025-02-24T01:46:02.945Z"
   },
   {
    "duration": 3,
    "start_time": "2025-02-24T01:46:02.951Z"
   },
   {
    "duration": 110,
    "start_time": "2025-02-24T01:46:03.032Z"
   },
   {
    "duration": 3,
    "start_time": "2025-02-24T01:46:03.143Z"
   },
   {
    "duration": 3,
    "start_time": "2025-02-24T01:46:03.148Z"
   },
   {
    "duration": 10,
    "start_time": "2025-02-24T01:46:03.152Z"
   },
   {
    "duration": 11,
    "start_time": "2025-02-24T01:46:03.165Z"
   },
   {
    "duration": 7,
    "start_time": "2025-02-24T01:46:03.178Z"
   },
   {
    "duration": 7,
    "start_time": "2025-02-24T01:46:03.186Z"
   },
   {
    "duration": 53,
    "start_time": "2025-02-24T01:46:03.194Z"
   },
   {
    "duration": 15,
    "start_time": "2025-02-24T01:46:03.249Z"
   },
   {
    "duration": 3,
    "start_time": "2025-02-24T01:46:03.266Z"
   },
   {
    "duration": 68,
    "start_time": "2025-02-24T01:46:03.270Z"
   },
   {
    "duration": 74,
    "start_time": "2025-02-24T01:46:03.340Z"
   },
   {
    "duration": 35,
    "start_time": "2025-02-24T01:46:03.416Z"
   },
   {
    "duration": 5,
    "start_time": "2025-02-24T01:46:03.453Z"
   },
   {
    "duration": 43,
    "start_time": "2025-02-24T01:46:03.460Z"
   },
   {
    "duration": 135,
    "start_time": "2025-02-24T01:46:03.505Z"
   },
   {
    "duration": 3,
    "start_time": "2025-02-24T01:46:03.642Z"
   },
   {
    "duration": 24,
    "start_time": "2025-02-24T01:46:03.646Z"
   },
   {
    "duration": 3,
    "start_time": "2025-02-24T01:46:03.672Z"
   },
   {
    "duration": 4,
    "start_time": "2025-02-24T01:46:03.677Z"
   },
   {
    "duration": 4,
    "start_time": "2025-02-24T01:46:03.682Z"
   },
   {
    "duration": 5,
    "start_time": "2025-02-24T01:46:03.687Z"
   },
   {
    "duration": 2,
    "start_time": "2025-02-24T01:46:03.732Z"
   },
   {
    "duration": 588,
    "start_time": "2025-02-24T01:46:03.736Z"
   },
   {
    "duration": 0,
    "start_time": "2025-02-24T01:46:04.330Z"
   },
   {
    "duration": 0,
    "start_time": "2025-02-24T01:46:04.332Z"
   },
   {
    "duration": 0,
    "start_time": "2025-02-24T01:46:04.333Z"
   },
   {
    "duration": 0,
    "start_time": "2025-02-24T01:46:04.334Z"
   },
   {
    "duration": 0,
    "start_time": "2025-02-24T01:46:04.335Z"
   },
   {
    "duration": 0,
    "start_time": "2025-02-24T01:46:04.336Z"
   },
   {
    "duration": 3,
    "start_time": "2025-02-24T01:51:11.049Z"
   },
   {
    "duration": 3,
    "start_time": "2025-02-24T01:52:54.199Z"
   },
   {
    "duration": 3,
    "start_time": "2025-02-24T01:53:07.195Z"
   },
   {
    "duration": 8,
    "start_time": "2025-02-24T01:57:08.624Z"
   },
   {
    "duration": 11,
    "start_time": "2025-02-24T01:57:15.248Z"
   },
   {
    "duration": 44,
    "start_time": "2025-02-24T01:57:26.610Z"
   },
   {
    "duration": 8,
    "start_time": "2025-02-24T01:58:00.056Z"
   },
   {
    "duration": 11,
    "start_time": "2025-02-24T01:58:10.467Z"
   },
   {
    "duration": 3,
    "start_time": "2025-02-24T02:00:40.821Z"
   },
   {
    "duration": 300,
    "start_time": "2025-02-24T02:07:27.592Z"
   },
   {
    "duration": 16,
    "start_time": "2025-02-24T02:07:27.895Z"
   },
   {
    "duration": 28,
    "start_time": "2025-02-24T02:07:27.913Z"
   },
   {
    "duration": 4,
    "start_time": "2025-02-24T02:07:27.943Z"
   },
   {
    "duration": 15,
    "start_time": "2025-02-24T02:07:27.948Z"
   },
   {
    "duration": 30,
    "start_time": "2025-02-24T02:07:27.965Z"
   },
   {
    "duration": 37,
    "start_time": "2025-02-24T02:07:27.997Z"
   },
   {
    "duration": 7,
    "start_time": "2025-02-24T02:07:28.036Z"
   },
   {
    "duration": 7,
    "start_time": "2025-02-24T02:07:28.045Z"
   },
   {
    "duration": 159,
    "start_time": "2025-02-24T02:07:28.056Z"
   },
   {
    "duration": 144,
    "start_time": "2025-02-24T02:07:28.217Z"
   },
   {
    "duration": 1177,
    "start_time": "2025-02-24T02:07:28.363Z"
   },
   {
    "duration": 5,
    "start_time": "2025-02-24T02:07:29.542Z"
   },
   {
    "duration": 3,
    "start_time": "2025-02-24T02:07:29.549Z"
   },
   {
    "duration": 510,
    "start_time": "2025-02-24T02:07:29.554Z"
   },
   {
    "duration": 6,
    "start_time": "2025-02-24T02:07:30.066Z"
   },
   {
    "duration": 6,
    "start_time": "2025-02-24T02:07:30.074Z"
   },
   {
    "duration": 4,
    "start_time": "2025-02-24T02:07:30.082Z"
   },
   {
    "duration": 4,
    "start_time": "2025-02-24T02:07:30.087Z"
   },
   {
    "duration": 6,
    "start_time": "2025-02-24T02:07:30.093Z"
   },
   {
    "duration": 6,
    "start_time": "2025-02-24T02:07:30.132Z"
   },
   {
    "duration": 4,
    "start_time": "2025-02-24T02:07:30.140Z"
   },
   {
    "duration": 2,
    "start_time": "2025-02-24T02:07:30.146Z"
   },
   {
    "duration": 15,
    "start_time": "2025-02-24T02:07:30.150Z"
   },
   {
    "duration": 20,
    "start_time": "2025-02-24T02:07:30.166Z"
   },
   {
    "duration": 3,
    "start_time": "2025-02-24T02:07:30.188Z"
   },
   {
    "duration": 271,
    "start_time": "2025-02-24T02:07:30.193Z"
   },
   {
    "duration": 0,
    "start_time": "2025-02-24T02:07:30.469Z"
   },
   {
    "duration": 0,
    "start_time": "2025-02-24T02:07:30.470Z"
   },
   {
    "duration": 0,
    "start_time": "2025-02-24T02:07:30.472Z"
   },
   {
    "duration": 0,
    "start_time": "2025-02-24T02:07:30.473Z"
   },
   {
    "duration": 0,
    "start_time": "2025-02-24T02:07:30.474Z"
   },
   {
    "duration": 0,
    "start_time": "2025-02-24T02:07:30.476Z"
   },
   {
    "duration": 0,
    "start_time": "2025-02-24T02:07:30.477Z"
   },
   {
    "duration": 0,
    "start_time": "2025-02-24T02:07:30.478Z"
   },
   {
    "duration": 0,
    "start_time": "2025-02-24T02:07:30.479Z"
   },
   {
    "duration": 0,
    "start_time": "2025-02-24T02:07:30.480Z"
   },
   {
    "duration": 0,
    "start_time": "2025-02-24T02:07:30.481Z"
   },
   {
    "duration": 0,
    "start_time": "2025-02-24T02:07:30.482Z"
   },
   {
    "duration": 0,
    "start_time": "2025-02-24T02:07:30.483Z"
   },
   {
    "duration": 0,
    "start_time": "2025-02-24T02:07:30.484Z"
   },
   {
    "duration": 0,
    "start_time": "2025-02-24T02:07:30.485Z"
   },
   {
    "duration": 0,
    "start_time": "2025-02-24T02:07:30.486Z"
   },
   {
    "duration": 0,
    "start_time": "2025-02-24T02:07:30.488Z"
   },
   {
    "duration": 0,
    "start_time": "2025-02-24T02:07:30.489Z"
   },
   {
    "duration": 0,
    "start_time": "2025-02-24T02:07:30.491Z"
   },
   {
    "duration": 0,
    "start_time": "2025-02-24T02:07:30.492Z"
   },
   {
    "duration": 0,
    "start_time": "2025-02-24T02:07:30.531Z"
   },
   {
    "duration": 0,
    "start_time": "2025-02-24T02:07:30.532Z"
   },
   {
    "duration": 0,
    "start_time": "2025-02-24T02:07:30.533Z"
   },
   {
    "duration": 0,
    "start_time": "2025-02-24T02:07:30.534Z"
   },
   {
    "duration": 0,
    "start_time": "2025-02-24T02:07:30.536Z"
   },
   {
    "duration": 0,
    "start_time": "2025-02-24T02:07:30.536Z"
   },
   {
    "duration": 0,
    "start_time": "2025-02-24T02:07:30.537Z"
   },
   {
    "duration": 0,
    "start_time": "2025-02-24T02:07:30.538Z"
   },
   {
    "duration": 0,
    "start_time": "2025-02-24T02:07:30.539Z"
   },
   {
    "duration": 0,
    "start_time": "2025-02-24T02:07:30.540Z"
   },
   {
    "duration": 0,
    "start_time": "2025-02-24T02:07:30.542Z"
   },
   {
    "duration": 0,
    "start_time": "2025-02-24T02:07:30.543Z"
   },
   {
    "duration": 0,
    "start_time": "2025-02-24T02:07:30.544Z"
   },
   {
    "duration": 0,
    "start_time": "2025-02-24T02:07:30.546Z"
   },
   {
    "duration": 0,
    "start_time": "2025-02-24T02:07:30.547Z"
   },
   {
    "duration": 0,
    "start_time": "2025-02-24T02:07:30.549Z"
   },
   {
    "duration": 0,
    "start_time": "2025-02-24T02:07:30.550Z"
   },
   {
    "duration": 0,
    "start_time": "2025-02-24T02:07:30.552Z"
   },
   {
    "duration": 0,
    "start_time": "2025-02-24T02:07:30.553Z"
   },
   {
    "duration": 0,
    "start_time": "2025-02-24T02:07:30.554Z"
   },
   {
    "duration": 0,
    "start_time": "2025-02-24T02:07:30.556Z"
   },
   {
    "duration": 0,
    "start_time": "2025-02-24T02:07:30.557Z"
   },
   {
    "duration": 0,
    "start_time": "2025-02-24T02:07:30.559Z"
   },
   {
    "duration": 0,
    "start_time": "2025-02-24T02:07:30.560Z"
   },
   {
    "duration": 0,
    "start_time": "2025-02-24T02:07:30.562Z"
   },
   {
    "duration": 0,
    "start_time": "2025-02-24T02:07:30.563Z"
   },
   {
    "duration": 0,
    "start_time": "2025-02-24T02:07:30.565Z"
   },
   {
    "duration": 0,
    "start_time": "2025-02-24T02:07:30.566Z"
   },
   {
    "duration": 0,
    "start_time": "2025-02-24T02:07:30.571Z"
   },
   {
    "duration": 0,
    "start_time": "2025-02-24T02:07:30.631Z"
   },
   {
    "duration": 0,
    "start_time": "2025-02-24T02:07:30.632Z"
   },
   {
    "duration": 0,
    "start_time": "2025-02-24T02:07:30.633Z"
   },
   {
    "duration": 0,
    "start_time": "2025-02-24T02:07:30.634Z"
   },
   {
    "duration": 0,
    "start_time": "2025-02-24T02:07:30.635Z"
   },
   {
    "duration": 0,
    "start_time": "2025-02-24T02:07:30.636Z"
   },
   {
    "duration": 0,
    "start_time": "2025-02-24T02:07:30.637Z"
   },
   {
    "duration": 0,
    "start_time": "2025-02-24T02:07:30.639Z"
   },
   {
    "duration": 0,
    "start_time": "2025-02-24T02:07:30.639Z"
   },
   {
    "duration": 0,
    "start_time": "2025-02-24T02:07:30.640Z"
   },
   {
    "duration": 0,
    "start_time": "2025-02-24T02:07:30.641Z"
   },
   {
    "duration": 323,
    "start_time": "2025-02-24T02:07:57.691Z"
   },
   {
    "duration": 20,
    "start_time": "2025-02-24T02:07:58.016Z"
   },
   {
    "duration": 20,
    "start_time": "2025-02-24T02:07:58.038Z"
   },
   {
    "duration": 3,
    "start_time": "2025-02-24T02:07:58.060Z"
   },
   {
    "duration": 16,
    "start_time": "2025-02-24T02:07:58.066Z"
   },
   {
    "duration": 63,
    "start_time": "2025-02-24T02:07:58.084Z"
   },
   {
    "duration": 8,
    "start_time": "2025-02-24T02:07:58.149Z"
   },
   {
    "duration": 6,
    "start_time": "2025-02-24T02:07:58.158Z"
   },
   {
    "duration": 8,
    "start_time": "2025-02-24T02:07:58.166Z"
   },
   {
    "duration": 163,
    "start_time": "2025-02-24T02:07:58.176Z"
   },
   {
    "duration": 143,
    "start_time": "2025-02-24T02:07:58.341Z"
   },
   {
    "duration": 1212,
    "start_time": "2025-02-24T02:07:58.486Z"
   },
   {
    "duration": 5,
    "start_time": "2025-02-24T02:07:59.700Z"
   },
   {
    "duration": 3,
    "start_time": "2025-02-24T02:07:59.709Z"
   },
   {
    "duration": 516,
    "start_time": "2025-02-24T02:07:59.731Z"
   },
   {
    "duration": 7,
    "start_time": "2025-02-24T02:08:00.248Z"
   },
   {
    "duration": 5,
    "start_time": "2025-02-24T02:08:00.256Z"
   },
   {
    "duration": 4,
    "start_time": "2025-02-24T02:08:00.263Z"
   },
   {
    "duration": 5,
    "start_time": "2025-02-24T02:08:00.268Z"
   },
   {
    "duration": 5,
    "start_time": "2025-02-24T02:08:00.275Z"
   },
   {
    "duration": 6,
    "start_time": "2025-02-24T02:08:00.282Z"
   },
   {
    "duration": 42,
    "start_time": "2025-02-24T02:08:00.290Z"
   },
   {
    "duration": 2,
    "start_time": "2025-02-24T02:08:00.335Z"
   },
   {
    "duration": 17,
    "start_time": "2025-02-24T02:08:00.339Z"
   },
   {
    "duration": 19,
    "start_time": "2025-02-24T02:08:00.358Z"
   },
   {
    "duration": 3,
    "start_time": "2025-02-24T02:08:00.379Z"
   },
   {
    "duration": 48,
    "start_time": "2025-02-24T02:08:00.383Z"
   },
   {
    "duration": 6,
    "start_time": "2025-02-24T02:08:00.433Z"
   },
   {
    "duration": 16,
    "start_time": "2025-02-24T02:08:00.441Z"
   },
   {
    "duration": 2,
    "start_time": "2025-02-24T02:08:00.459Z"
   },
   {
    "duration": 15,
    "start_time": "2025-02-24T02:08:00.463Z"
   },
   {
    "duration": 4,
    "start_time": "2025-02-24T02:08:00.479Z"
   },
   {
    "duration": 8,
    "start_time": "2025-02-24T02:08:00.531Z"
   },
   {
    "duration": 3,
    "start_time": "2025-02-24T02:08:00.541Z"
   },
   {
    "duration": 3,
    "start_time": "2025-02-24T02:08:00.546Z"
   },
   {
    "duration": 4,
    "start_time": "2025-02-24T02:08:00.551Z"
   },
   {
    "duration": 6,
    "start_time": "2025-02-24T02:08:00.632Z"
   },
   {
    "duration": 7,
    "start_time": "2025-02-24T02:08:00.640Z"
   },
   {
    "duration": 143,
    "start_time": "2025-02-24T02:08:00.648Z"
   },
   {
    "duration": 6,
    "start_time": "2025-02-24T02:08:00.792Z"
   },
   {
    "duration": 5,
    "start_time": "2025-02-24T02:08:00.833Z"
   },
   {
    "duration": 305,
    "start_time": "2025-02-24T02:08:00.839Z"
   },
   {
    "duration": 0,
    "start_time": "2025-02-24T02:08:01.146Z"
   },
   {
    "duration": 0,
    "start_time": "2025-02-24T02:08:01.147Z"
   },
   {
    "duration": 0,
    "start_time": "2025-02-24T02:08:01.148Z"
   },
   {
    "duration": 0,
    "start_time": "2025-02-24T02:08:01.149Z"
   },
   {
    "duration": 0,
    "start_time": "2025-02-24T02:08:01.150Z"
   },
   {
    "duration": 0,
    "start_time": "2025-02-24T02:08:01.151Z"
   },
   {
    "duration": 0,
    "start_time": "2025-02-24T02:08:01.152Z"
   },
   {
    "duration": 0,
    "start_time": "2025-02-24T02:08:01.154Z"
   },
   {
    "duration": 0,
    "start_time": "2025-02-24T02:08:01.155Z"
   },
   {
    "duration": 0,
    "start_time": "2025-02-24T02:08:01.156Z"
   },
   {
    "duration": 0,
    "start_time": "2025-02-24T02:08:01.158Z"
   },
   {
    "duration": 0,
    "start_time": "2025-02-24T02:08:01.159Z"
   },
   {
    "duration": 0,
    "start_time": "2025-02-24T02:08:01.161Z"
   },
   {
    "duration": 0,
    "start_time": "2025-02-24T02:08:01.162Z"
   },
   {
    "duration": 0,
    "start_time": "2025-02-24T02:08:01.163Z"
   },
   {
    "duration": 0,
    "start_time": "2025-02-24T02:08:01.166Z"
   },
   {
    "duration": 0,
    "start_time": "2025-02-24T02:08:01.167Z"
   },
   {
    "duration": 0,
    "start_time": "2025-02-24T02:08:01.168Z"
   },
   {
    "duration": 0,
    "start_time": "2025-02-24T02:08:01.169Z"
   },
   {
    "duration": 0,
    "start_time": "2025-02-24T02:08:01.171Z"
   },
   {
    "duration": 0,
    "start_time": "2025-02-24T02:08:01.172Z"
   },
   {
    "duration": 0,
    "start_time": "2025-02-24T02:08:01.173Z"
   },
   {
    "duration": 0,
    "start_time": "2025-02-24T02:08:01.174Z"
   },
   {
    "duration": 0,
    "start_time": "2025-02-24T02:08:01.175Z"
   },
   {
    "duration": 0,
    "start_time": "2025-02-24T02:08:01.176Z"
   },
   {
    "duration": 0,
    "start_time": "2025-02-24T02:08:01.178Z"
   },
   {
    "duration": 0,
    "start_time": "2025-02-24T02:08:01.231Z"
   },
   {
    "duration": 0,
    "start_time": "2025-02-24T02:08:01.232Z"
   },
   {
    "duration": 0,
    "start_time": "2025-02-24T02:08:01.234Z"
   },
   {
    "duration": 0,
    "start_time": "2025-02-24T02:08:01.235Z"
   },
   {
    "duration": 0,
    "start_time": "2025-02-24T02:08:01.236Z"
   },
   {
    "duration": 0,
    "start_time": "2025-02-24T02:08:01.237Z"
   },
   {
    "duration": 0,
    "start_time": "2025-02-24T02:08:01.238Z"
   },
   {
    "duration": 0,
    "start_time": "2025-02-24T02:08:01.239Z"
   },
   {
    "duration": 0,
    "start_time": "2025-02-24T02:08:01.240Z"
   },
   {
    "duration": 0,
    "start_time": "2025-02-24T02:08:01.241Z"
   },
   {
    "duration": 0,
    "start_time": "2025-02-24T02:08:01.242Z"
   },
   {
    "duration": 0,
    "start_time": "2025-02-24T02:08:01.243Z"
   },
   {
    "duration": 0,
    "start_time": "2025-02-24T02:08:01.244Z"
   },
   {
    "duration": 0,
    "start_time": "2025-02-24T02:08:01.245Z"
   },
   {
    "duration": 0,
    "start_time": "2025-02-24T02:08:01.246Z"
   },
   {
    "duration": 0,
    "start_time": "2025-02-24T02:08:01.248Z"
   },
   {
    "duration": 0,
    "start_time": "2025-02-24T02:08:01.249Z"
   },
   {
    "duration": 0,
    "start_time": "2025-02-24T02:08:01.250Z"
   },
   {
    "duration": 4,
    "start_time": "2025-02-24T02:08:20.230Z"
   },
   {
    "duration": 2,
    "start_time": "2025-02-24T02:08:20.808Z"
   },
   {
    "duration": 9,
    "start_time": "2025-02-24T02:08:21.090Z"
   },
   {
    "duration": 12,
    "start_time": "2025-02-24T02:08:21.293Z"
   },
   {
    "duration": 9,
    "start_time": "2025-02-24T02:08:21.538Z"
   },
   {
    "duration": 9,
    "start_time": "2025-02-24T02:08:22.074Z"
   },
   {
    "duration": 18,
    "start_time": "2025-02-24T02:08:22.326Z"
   },
   {
    "duration": 112,
    "start_time": "2025-02-24T02:08:26.455Z"
   },
   {
    "duration": 2,
    "start_time": "2025-02-24T02:08:26.865Z"
   },
   {
    "duration": 44,
    "start_time": "2025-02-24T02:08:27.244Z"
   },
   {
    "duration": 76,
    "start_time": "2025-02-24T02:08:28.653Z"
   },
   {
    "duration": 19,
    "start_time": "2025-02-24T02:08:29.218Z"
   },
   {
    "duration": 5,
    "start_time": "2025-02-24T02:08:29.551Z"
   },
   {
    "duration": 41,
    "start_time": "2025-02-24T02:08:31.770Z"
   },
   {
    "duration": 101,
    "start_time": "2025-02-24T02:08:32.711Z"
   },
   {
    "duration": 3,
    "start_time": "2025-02-24T02:08:33.362Z"
   },
   {
    "duration": 23,
    "start_time": "2025-02-24T02:08:33.723Z"
   },
   {
    "duration": 5,
    "start_time": "2025-02-24T02:08:34.112Z"
   },
   {
    "duration": 8,
    "start_time": "2025-02-24T02:08:34.629Z"
   },
   {
    "duration": 4,
    "start_time": "2025-02-24T02:08:36.650Z"
   },
   {
    "duration": 6,
    "start_time": "2025-02-24T02:08:37.661Z"
   },
   {
    "duration": 4,
    "start_time": "2025-02-24T02:08:38.209Z"
   },
   {
    "duration": 3,
    "start_time": "2025-02-24T02:08:38.512Z"
   },
   {
    "duration": 3,
    "start_time": "2025-02-24T02:08:38.971Z"
   },
   {
    "duration": 3,
    "start_time": "2025-02-24T02:08:40.151Z"
   },
   {
    "duration": 3,
    "start_time": "2025-02-24T02:08:40.754Z"
   },
   {
    "duration": 285,
    "start_time": "2025-02-24T02:08:42.307Z"
   },
   {
    "duration": 294,
    "start_time": "2025-02-24T02:09:24.797Z"
   },
   {
    "duration": 15,
    "start_time": "2025-02-24T02:09:25.093Z"
   },
   {
    "duration": 29,
    "start_time": "2025-02-24T02:09:25.109Z"
   },
   {
    "duration": 3,
    "start_time": "2025-02-24T02:09:25.140Z"
   },
   {
    "duration": 16,
    "start_time": "2025-02-24T02:09:25.145Z"
   },
   {
    "duration": 32,
    "start_time": "2025-02-24T02:09:25.162Z"
   },
   {
    "duration": 41,
    "start_time": "2025-02-24T02:09:25.196Z"
   },
   {
    "duration": 6,
    "start_time": "2025-02-24T02:09:25.239Z"
   },
   {
    "duration": 6,
    "start_time": "2025-02-24T02:09:25.246Z"
   },
   {
    "duration": 153,
    "start_time": "2025-02-24T02:09:25.253Z"
   },
   {
    "duration": 139,
    "start_time": "2025-02-24T02:09:25.408Z"
   },
   {
    "duration": 1195,
    "start_time": "2025-02-24T02:09:25.549Z"
   },
   {
    "duration": 4,
    "start_time": "2025-02-24T02:09:26.745Z"
   },
   {
    "duration": 2,
    "start_time": "2025-02-24T02:09:26.753Z"
   },
   {
    "duration": 517,
    "start_time": "2025-02-24T02:09:26.757Z"
   },
   {
    "duration": 7,
    "start_time": "2025-02-24T02:09:27.277Z"
   },
   {
    "duration": 4,
    "start_time": "2025-02-24T02:09:27.285Z"
   },
   {
    "duration": 3,
    "start_time": "2025-02-24T02:09:27.292Z"
   },
   {
    "duration": 5,
    "start_time": "2025-02-24T02:09:27.297Z"
   },
   {
    "duration": 5,
    "start_time": "2025-02-24T02:09:27.332Z"
   },
   {
    "duration": 6,
    "start_time": "2025-02-24T02:09:27.339Z"
   },
   {
    "duration": 5,
    "start_time": "2025-02-24T02:09:27.347Z"
   },
   {
    "duration": 2,
    "start_time": "2025-02-24T02:09:27.354Z"
   },
   {
    "duration": 15,
    "start_time": "2025-02-24T02:09:27.358Z"
   },
   {
    "duration": 59,
    "start_time": "2025-02-24T02:09:27.374Z"
   },
   {
    "duration": 2,
    "start_time": "2025-02-24T02:09:27.436Z"
   },
   {
    "duration": 12,
    "start_time": "2025-02-24T02:09:27.440Z"
   },
   {
    "duration": 4,
    "start_time": "2025-02-24T02:09:27.454Z"
   },
   {
    "duration": 0,
    "start_time": "2025-02-24T02:09:27.462Z"
   },
   {
    "duration": 0,
    "start_time": "2025-02-24T02:09:27.465Z"
   },
   {
    "duration": 0,
    "start_time": "2025-02-24T02:09:27.467Z"
   },
   {
    "duration": 0,
    "start_time": "2025-02-24T02:09:27.468Z"
   },
   {
    "duration": 0,
    "start_time": "2025-02-24T02:09:27.470Z"
   },
   {
    "duration": 0,
    "start_time": "2025-02-24T02:09:27.471Z"
   },
   {
    "duration": 0,
    "start_time": "2025-02-24T02:09:27.473Z"
   },
   {
    "duration": 0,
    "start_time": "2025-02-24T02:09:27.474Z"
   },
   {
    "duration": 0,
    "start_time": "2025-02-24T02:09:27.475Z"
   },
   {
    "duration": 0,
    "start_time": "2025-02-24T02:09:27.477Z"
   },
   {
    "duration": 0,
    "start_time": "2025-02-24T02:09:27.478Z"
   },
   {
    "duration": 0,
    "start_time": "2025-02-24T02:09:27.479Z"
   },
   {
    "duration": 1,
    "start_time": "2025-02-24T02:09:27.536Z"
   },
   {
    "duration": 0,
    "start_time": "2025-02-24T02:09:27.539Z"
   },
   {
    "duration": 0,
    "start_time": "2025-02-24T02:09:27.548Z"
   },
   {
    "duration": 0,
    "start_time": "2025-02-24T02:09:27.549Z"
   },
   {
    "duration": 0,
    "start_time": "2025-02-24T02:09:27.551Z"
   },
   {
    "duration": 0,
    "start_time": "2025-02-24T02:09:27.552Z"
   },
   {
    "duration": 0,
    "start_time": "2025-02-24T02:09:27.553Z"
   },
   {
    "duration": 0,
    "start_time": "2025-02-24T02:09:27.555Z"
   },
   {
    "duration": 0,
    "start_time": "2025-02-24T02:09:27.557Z"
   },
   {
    "duration": 0,
    "start_time": "2025-02-24T02:09:27.558Z"
   },
   {
    "duration": 0,
    "start_time": "2025-02-24T02:09:27.560Z"
   },
   {
    "duration": 0,
    "start_time": "2025-02-24T02:09:27.561Z"
   },
   {
    "duration": 0,
    "start_time": "2025-02-24T02:09:27.563Z"
   },
   {
    "duration": 0,
    "start_time": "2025-02-24T02:09:27.564Z"
   },
   {
    "duration": 0,
    "start_time": "2025-02-24T02:09:27.565Z"
   },
   {
    "duration": 0,
    "start_time": "2025-02-24T02:09:27.567Z"
   },
   {
    "duration": 0,
    "start_time": "2025-02-24T02:09:27.568Z"
   },
   {
    "duration": 0,
    "start_time": "2025-02-24T02:09:27.569Z"
   },
   {
    "duration": 0,
    "start_time": "2025-02-24T02:09:27.570Z"
   },
   {
    "duration": 0,
    "start_time": "2025-02-24T02:09:27.571Z"
   },
   {
    "duration": 0,
    "start_time": "2025-02-24T02:09:27.572Z"
   },
   {
    "duration": 0,
    "start_time": "2025-02-24T02:09:27.574Z"
   },
   {
    "duration": 0,
    "start_time": "2025-02-24T02:09:27.577Z"
   },
   {
    "duration": 0,
    "start_time": "2025-02-24T02:09:27.578Z"
   },
   {
    "duration": 0,
    "start_time": "2025-02-24T02:09:27.579Z"
   },
   {
    "duration": 0,
    "start_time": "2025-02-24T02:09:27.581Z"
   },
   {
    "duration": 0,
    "start_time": "2025-02-24T02:09:27.631Z"
   },
   {
    "duration": 0,
    "start_time": "2025-02-24T02:09:27.632Z"
   },
   {
    "duration": 0,
    "start_time": "2025-02-24T02:09:27.634Z"
   },
   {
    "duration": 0,
    "start_time": "2025-02-24T02:09:27.635Z"
   },
   {
    "duration": 0,
    "start_time": "2025-02-24T02:09:27.637Z"
   },
   {
    "duration": 0,
    "start_time": "2025-02-24T02:09:27.638Z"
   },
   {
    "duration": 0,
    "start_time": "2025-02-24T02:09:27.640Z"
   },
   {
    "duration": 0,
    "start_time": "2025-02-24T02:09:27.642Z"
   },
   {
    "duration": 0,
    "start_time": "2025-02-24T02:09:27.643Z"
   },
   {
    "duration": 0,
    "start_time": "2025-02-24T02:09:27.644Z"
   },
   {
    "duration": 0,
    "start_time": "2025-02-24T02:09:27.647Z"
   },
   {
    "duration": 0,
    "start_time": "2025-02-24T02:09:27.648Z"
   },
   {
    "duration": 0,
    "start_time": "2025-02-24T02:09:27.649Z"
   },
   {
    "duration": 0,
    "start_time": "2025-02-24T02:09:27.650Z"
   },
   {
    "duration": 0,
    "start_time": "2025-02-24T02:09:27.651Z"
   },
   {
    "duration": 0,
    "start_time": "2025-02-24T02:09:27.652Z"
   },
   {
    "duration": 0,
    "start_time": "2025-02-24T02:09:27.653Z"
   },
   {
    "duration": 0,
    "start_time": "2025-02-24T02:09:27.658Z"
   },
   {
    "duration": 0,
    "start_time": "2025-02-24T02:09:27.659Z"
   },
   {
    "duration": 0,
    "start_time": "2025-02-24T02:09:27.660Z"
   },
   {
    "duration": 0,
    "start_time": "2025-02-24T02:09:27.662Z"
   },
   {
    "duration": 0,
    "start_time": "2025-02-24T02:09:27.663Z"
   },
   {
    "duration": 282,
    "start_time": "2025-02-24T02:17:29.792Z"
   },
   {
    "duration": 16,
    "start_time": "2025-02-24T02:17:30.076Z"
   },
   {
    "duration": 17,
    "start_time": "2025-02-24T02:17:30.093Z"
   },
   {
    "duration": 3,
    "start_time": "2025-02-24T02:17:30.112Z"
   },
   {
    "duration": 16,
    "start_time": "2025-02-24T02:17:30.132Z"
   },
   {
    "duration": 31,
    "start_time": "2025-02-24T02:17:30.149Z"
   },
   {
    "duration": 9,
    "start_time": "2025-02-24T02:17:30.182Z"
   },
   {
    "duration": 6,
    "start_time": "2025-02-24T02:17:30.192Z"
   },
   {
    "duration": 39,
    "start_time": "2025-02-24T02:17:30.199Z"
   },
   {
    "duration": 146,
    "start_time": "2025-02-24T02:17:30.240Z"
   },
   {
    "duration": 150,
    "start_time": "2025-02-24T02:17:30.387Z"
   },
   {
    "duration": 1210,
    "start_time": "2025-02-24T02:17:30.538Z"
   },
   {
    "duration": 4,
    "start_time": "2025-02-24T02:17:31.750Z"
   },
   {
    "duration": 2,
    "start_time": "2025-02-24T02:17:31.759Z"
   },
   {
    "duration": 616,
    "start_time": "2025-02-24T02:17:31.764Z"
   },
   {
    "duration": 7,
    "start_time": "2025-02-24T02:17:32.382Z"
   },
   {
    "duration": 5,
    "start_time": "2025-02-24T02:17:32.391Z"
   },
   {
    "duration": 4,
    "start_time": "2025-02-24T02:17:32.399Z"
   },
   {
    "duration": 27,
    "start_time": "2025-02-24T02:17:32.405Z"
   },
   {
    "duration": 10,
    "start_time": "2025-02-24T02:17:32.435Z"
   },
   {
    "duration": 8,
    "start_time": "2025-02-24T02:17:32.448Z"
   },
   {
    "duration": 7,
    "start_time": "2025-02-24T02:17:32.458Z"
   },
   {
    "duration": 3,
    "start_time": "2025-02-24T02:17:32.470Z"
   },
   {
    "duration": 56,
    "start_time": "2025-02-24T02:17:32.475Z"
   },
   {
    "duration": 24,
    "start_time": "2025-02-24T02:17:32.533Z"
   },
   {
    "duration": 3,
    "start_time": "2025-02-24T02:17:32.559Z"
   },
   {
    "duration": 14,
    "start_time": "2025-02-24T02:17:32.564Z"
   },
   {
    "duration": 10,
    "start_time": "2025-02-24T02:17:32.579Z"
   },
   {
    "duration": 41,
    "start_time": "2025-02-24T02:17:32.591Z"
   },
   {
    "duration": 16,
    "start_time": "2025-02-24T02:17:32.634Z"
   },
   {
    "duration": 3,
    "start_time": "2025-02-24T02:17:32.651Z"
   },
   {
    "duration": 15,
    "start_time": "2025-02-24T02:17:32.655Z"
   },
   {
    "duration": 11,
    "start_time": "2025-02-24T02:17:32.672Z"
   },
   {
    "duration": 50,
    "start_time": "2025-02-24T02:17:32.684Z"
   },
   {
    "duration": 3,
    "start_time": "2025-02-24T02:17:32.736Z"
   },
   {
    "duration": 3,
    "start_time": "2025-02-24T02:17:32.741Z"
   },
   {
    "duration": 4,
    "start_time": "2025-02-24T02:17:32.746Z"
   },
   {
    "duration": 78,
    "start_time": "2025-02-24T02:17:32.752Z"
   },
   {
    "duration": 5,
    "start_time": "2025-02-24T02:17:32.832Z"
   },
   {
    "duration": 126,
    "start_time": "2025-02-24T02:17:32.839Z"
   },
   {
    "duration": 3,
    "start_time": "2025-02-24T02:17:32.973Z"
   },
   {
    "duration": 4,
    "start_time": "2025-02-24T02:17:32.978Z"
   },
   {
    "duration": 158,
    "start_time": "2025-02-24T02:17:32.984Z"
   },
   {
    "duration": 12,
    "start_time": "2025-02-24T02:17:33.144Z"
   },
   {
    "duration": 4,
    "start_time": "2025-02-24T02:17:33.158Z"
   },
   {
    "duration": 5,
    "start_time": "2025-02-24T02:17:33.163Z"
   },
   {
    "duration": 79,
    "start_time": "2025-02-24T02:17:33.170Z"
   },
   {
    "duration": 5,
    "start_time": "2025-02-24T02:17:33.251Z"
   },
   {
    "duration": 10,
    "start_time": "2025-02-24T02:17:33.332Z"
   },
   {
    "duration": 12,
    "start_time": "2025-02-24T02:17:33.345Z"
   },
   {
    "duration": 76,
    "start_time": "2025-02-24T02:17:33.359Z"
   },
   {
    "duration": 11,
    "start_time": "2025-02-24T02:17:33.438Z"
   },
   {
    "duration": 5,
    "start_time": "2025-02-24T02:17:33.451Z"
   },
   {
    "duration": 120,
    "start_time": "2025-02-24T02:17:33.458Z"
   },
   {
    "duration": 3,
    "start_time": "2025-02-24T02:17:33.580Z"
   },
   {
    "duration": 3,
    "start_time": "2025-02-24T02:17:33.585Z"
   },
   {
    "duration": 11,
    "start_time": "2025-02-24T02:17:33.632Z"
   },
   {
    "duration": 14,
    "start_time": "2025-02-24T02:17:33.645Z"
   },
   {
    "duration": 6,
    "start_time": "2025-02-24T02:17:33.663Z"
   },
   {
    "duration": 7,
    "start_time": "2025-02-24T02:17:33.671Z"
   },
   {
    "duration": 53,
    "start_time": "2025-02-24T02:17:33.680Z"
   },
   {
    "duration": 15,
    "start_time": "2025-02-24T02:17:33.735Z"
   },
   {
    "duration": 2,
    "start_time": "2025-02-24T02:17:33.752Z"
   },
   {
    "duration": 44,
    "start_time": "2025-02-24T02:17:33.756Z"
   },
   {
    "duration": 122,
    "start_time": "2025-02-24T02:17:33.802Z"
   },
   {
    "duration": 19,
    "start_time": "2025-02-24T02:17:33.932Z"
   },
   {
    "duration": 5,
    "start_time": "2025-02-24T02:17:33.953Z"
   },
   {
    "duration": 39,
    "start_time": "2025-02-24T02:17:33.960Z"
   },
   {
    "duration": 142,
    "start_time": "2025-02-24T02:17:34.000Z"
   },
   {
    "duration": 3,
    "start_time": "2025-02-24T02:17:34.144Z"
   },
   {
    "duration": 24,
    "start_time": "2025-02-24T02:17:34.150Z"
   },
   {
    "duration": 5,
    "start_time": "2025-02-24T02:17:34.176Z"
   },
   {
    "duration": 8,
    "start_time": "2025-02-24T02:17:34.182Z"
   },
   {
    "duration": 4,
    "start_time": "2025-02-24T02:17:34.192Z"
   },
   {
    "duration": 4,
    "start_time": "2025-02-24T02:17:34.232Z"
   },
   {
    "duration": 4,
    "start_time": "2025-02-24T02:17:34.238Z"
   },
   {
    "duration": 4,
    "start_time": "2025-02-24T02:17:34.244Z"
   },
   {
    "duration": 4,
    "start_time": "2025-02-24T02:17:34.250Z"
   },
   {
    "duration": 3,
    "start_time": "2025-02-24T02:17:34.256Z"
   },
   {
    "duration": 4,
    "start_time": "2025-02-24T02:17:34.261Z"
   },
   {
    "duration": 645,
    "start_time": "2025-02-24T02:17:34.267Z"
   },
   {
    "duration": 0,
    "start_time": "2025-02-24T02:17:34.916Z"
   },
   {
    "duration": 0,
    "start_time": "2025-02-24T02:17:34.917Z"
   },
   {
    "duration": 0,
    "start_time": "2025-02-24T02:17:34.918Z"
   },
   {
    "duration": 0,
    "start_time": "2025-02-24T02:17:34.919Z"
   },
   {
    "duration": 0,
    "start_time": "2025-02-24T02:17:34.920Z"
   },
   {
    "duration": 0,
    "start_time": "2025-02-24T02:17:34.921Z"
   },
   {
    "duration": 4,
    "start_time": "2025-02-24T02:17:45.156Z"
   },
   {
    "duration": 3,
    "start_time": "2025-02-24T02:17:49.985Z"
   },
   {
    "duration": 5,
    "start_time": "2025-02-24T02:18:47.836Z"
   },
   {
    "duration": 6,
    "start_time": "2025-02-24T02:19:00.070Z"
   },
   {
    "duration": 4,
    "start_time": "2025-02-24T02:20:15.494Z"
   },
   {
    "duration": 4,
    "start_time": "2025-02-24T02:20:28.762Z"
   },
   {
    "duration": 7,
    "start_time": "2025-02-24T02:20:44.078Z"
   },
   {
    "duration": 38,
    "start_time": "2025-02-24T02:27:00.930Z"
   },
   {
    "duration": 3,
    "start_time": "2025-02-24T02:29:17.879Z"
   },
   {
    "duration": 7,
    "start_time": "2025-02-24T02:29:20.835Z"
   },
   {
    "duration": 3,
    "start_time": "2025-02-24T02:30:41.258Z"
   },
   {
    "duration": 40,
    "start_time": "2025-02-24T02:30:43.028Z"
   },
   {
    "duration": 4,
    "start_time": "2025-02-24T02:40:06.767Z"
   },
   {
    "duration": 7,
    "start_time": "2025-02-24T02:40:10.367Z"
   },
   {
    "duration": 4,
    "start_time": "2025-02-24T02:40:50.036Z"
   },
   {
    "duration": 3,
    "start_time": "2025-02-24T02:42:34.044Z"
   },
   {
    "duration": 5,
    "start_time": "2025-02-24T02:43:06.543Z"
   },
   {
    "duration": 6,
    "start_time": "2025-02-24T02:43:39.557Z"
   },
   {
    "duration": 10,
    "start_time": "2025-02-24T02:45:24.339Z"
   },
   {
    "duration": 10,
    "start_time": "2025-02-24T02:46:44.006Z"
   },
   {
    "duration": 44,
    "start_time": "2025-02-24T02:46:48.712Z"
   },
   {
    "duration": 8,
    "start_time": "2025-02-24T02:48:17.867Z"
   },
   {
    "duration": 6,
    "start_time": "2025-02-24T02:48:42.471Z"
   },
   {
    "duration": 49,
    "start_time": "2025-02-24T02:54:15.377Z"
   },
   {
    "duration": 123,
    "start_time": "2025-02-24T02:57:07.300Z"
   },
   {
    "duration": 2,
    "start_time": "2025-02-24T02:59:22.335Z"
   },
   {
    "duration": 28,
    "start_time": "2025-02-24T03:00:48.797Z"
   },
   {
    "duration": 4,
    "start_time": "2025-02-24T03:01:10.474Z"
   },
   {
    "duration": 4,
    "start_time": "2025-02-24T03:01:29.908Z"
   },
   {
    "duration": 17,
    "start_time": "2025-02-24T03:04:28.698Z"
   },
   {
    "duration": 52,
    "start_time": "2025-02-24T03:05:56.689Z"
   },
   {
    "duration": 2,
    "start_time": "2025-02-24T03:07:01.551Z"
   },
   {
    "duration": 11,
    "start_time": "2025-02-24T03:07:31.190Z"
   },
   {
    "duration": 4,
    "start_time": "2025-02-24T03:07:47.244Z"
   },
   {
    "duration": 4,
    "start_time": "2025-02-24T03:08:00.794Z"
   },
   {
    "duration": 13,
    "start_time": "2025-02-24T03:11:17.400Z"
   },
   {
    "duration": 286,
    "start_time": "2025-02-24T03:11:31.458Z"
   },
   {
    "duration": 3,
    "start_time": "2025-02-24T03:15:00.149Z"
   },
   {
    "duration": 44,
    "start_time": "2025-02-24T03:15:01.998Z"
   },
   {
    "duration": 43,
    "start_time": "2025-02-24T03:16:23.708Z"
   },
   {
    "duration": 4,
    "start_time": "2025-02-24T03:18:06.813Z"
   },
   {
    "duration": 46,
    "start_time": "2025-02-24T03:18:35.768Z"
   },
   {
    "duration": 347,
    "start_time": "2025-02-24T03:33:47.430Z"
   },
   {
    "duration": 19,
    "start_time": "2025-02-24T03:33:47.779Z"
   },
   {
    "duration": 36,
    "start_time": "2025-02-24T03:33:47.800Z"
   },
   {
    "duration": 4,
    "start_time": "2025-02-24T03:33:47.838Z"
   },
   {
    "duration": 18,
    "start_time": "2025-02-24T03:33:47.847Z"
   },
   {
    "duration": 32,
    "start_time": "2025-02-24T03:33:47.867Z"
   },
   {
    "duration": 41,
    "start_time": "2025-02-24T03:33:47.901Z"
   },
   {
    "duration": 10,
    "start_time": "2025-02-24T03:33:47.944Z"
   },
   {
    "duration": 8,
    "start_time": "2025-02-24T03:33:47.956Z"
   },
   {
    "duration": 166,
    "start_time": "2025-02-24T03:33:47.966Z"
   },
   {
    "duration": 199,
    "start_time": "2025-02-24T03:33:48.135Z"
   },
   {
    "duration": 1227,
    "start_time": "2025-02-24T03:33:48.338Z"
   },
   {
    "duration": 4,
    "start_time": "2025-02-24T03:33:49.567Z"
   },
   {
    "duration": 4,
    "start_time": "2025-02-24T03:33:49.581Z"
   },
   {
    "duration": 495,
    "start_time": "2025-02-24T03:33:49.587Z"
   },
   {
    "duration": 7,
    "start_time": "2025-02-24T03:33:50.084Z"
   },
   {
    "duration": 4,
    "start_time": "2025-02-24T03:33:50.093Z"
   },
   {
    "duration": 4,
    "start_time": "2025-02-24T03:33:50.099Z"
   },
   {
    "duration": 3,
    "start_time": "2025-02-24T03:33:50.131Z"
   },
   {
    "duration": 17,
    "start_time": "2025-02-24T03:33:50.136Z"
   },
   {
    "duration": 5,
    "start_time": "2025-02-24T03:33:50.155Z"
   },
   {
    "duration": 6,
    "start_time": "2025-02-24T03:33:50.161Z"
   },
   {
    "duration": 2,
    "start_time": "2025-02-24T03:33:50.169Z"
   },
   {
    "duration": 61,
    "start_time": "2025-02-24T03:33:50.173Z"
   },
   {
    "duration": 20,
    "start_time": "2025-02-24T03:33:50.237Z"
   },
   {
    "duration": 3,
    "start_time": "2025-02-24T03:33:50.259Z"
   },
   {
    "duration": 11,
    "start_time": "2025-02-24T03:33:50.263Z"
   },
   {
    "duration": 6,
    "start_time": "2025-02-24T03:33:50.275Z"
   },
   {
    "duration": 48,
    "start_time": "2025-02-24T03:33:50.283Z"
   },
   {
    "duration": 5,
    "start_time": "2025-02-24T03:33:50.333Z"
   },
   {
    "duration": 16,
    "start_time": "2025-02-24T03:33:50.340Z"
   },
   {
    "duration": 3,
    "start_time": "2025-02-24T03:33:50.357Z"
   },
   {
    "duration": 19,
    "start_time": "2025-02-24T03:33:50.362Z"
   },
   {
    "duration": 53,
    "start_time": "2025-02-24T03:33:50.383Z"
   },
   {
    "duration": 5,
    "start_time": "2025-02-24T03:33:50.440Z"
   },
   {
    "duration": 3,
    "start_time": "2025-02-24T03:33:50.447Z"
   },
   {
    "duration": 2,
    "start_time": "2025-02-24T03:33:50.452Z"
   },
   {
    "duration": 75,
    "start_time": "2025-02-24T03:33:50.456Z"
   },
   {
    "duration": 4,
    "start_time": "2025-02-24T03:33:50.534Z"
   },
   {
    "duration": 2,
    "start_time": "2025-02-24T03:33:50.540Z"
   },
   {
    "duration": 133,
    "start_time": "2025-02-24T03:33:50.555Z"
   },
   {
    "duration": 42,
    "start_time": "2025-02-24T03:33:50.690Z"
   },
   {
    "duration": 6,
    "start_time": "2025-02-24T03:33:50.734Z"
   },
   {
    "duration": 128,
    "start_time": "2025-02-24T03:33:50.742Z"
   },
   {
    "duration": 11,
    "start_time": "2025-02-24T03:33:50.872Z"
   },
   {
    "duration": 5,
    "start_time": "2025-02-24T03:33:50.885Z"
   },
   {
    "duration": 5,
    "start_time": "2025-02-24T03:33:50.931Z"
   },
   {
    "duration": 23,
    "start_time": "2025-02-24T03:33:50.938Z"
   },
   {
    "duration": 73,
    "start_time": "2025-02-24T03:33:50.963Z"
   },
   {
    "duration": 3,
    "start_time": "2025-02-24T03:33:51.038Z"
   },
   {
    "duration": 5,
    "start_time": "2025-02-24T03:33:51.043Z"
   },
   {
    "duration": 82,
    "start_time": "2025-02-24T03:33:51.050Z"
   },
   {
    "duration": 6,
    "start_time": "2025-02-24T03:33:51.134Z"
   },
   {
    "duration": 3,
    "start_time": "2025-02-24T03:33:51.142Z"
   },
   {
    "duration": 129,
    "start_time": "2025-02-24T03:33:51.146Z"
   },
   {
    "duration": 2,
    "start_time": "2025-02-24T03:33:51.332Z"
   },
   {
    "duration": 3,
    "start_time": "2025-02-24T03:33:51.336Z"
   },
   {
    "duration": 11,
    "start_time": "2025-02-24T03:33:51.341Z"
   },
   {
    "duration": 12,
    "start_time": "2025-02-24T03:33:51.353Z"
   },
   {
    "duration": 7,
    "start_time": "2025-02-24T03:33:51.367Z"
   },
   {
    "duration": 7,
    "start_time": "2025-02-24T03:33:51.375Z"
   },
   {
    "duration": 61,
    "start_time": "2025-02-24T03:33:51.384Z"
   },
   {
    "duration": 15,
    "start_time": "2025-02-24T03:33:51.447Z"
   },
   {
    "duration": 3,
    "start_time": "2025-02-24T03:33:51.463Z"
   },
   {
    "duration": 74,
    "start_time": "2025-02-24T03:33:51.467Z"
   },
   {
    "duration": 95,
    "start_time": "2025-02-24T03:33:51.544Z"
   },
   {
    "duration": 20,
    "start_time": "2025-02-24T03:33:51.641Z"
   },
   {
    "duration": 4,
    "start_time": "2025-02-24T03:33:51.663Z"
   },
   {
    "duration": 64,
    "start_time": "2025-02-24T03:33:51.669Z"
   },
   {
    "duration": 123,
    "start_time": "2025-02-24T03:33:51.734Z"
   },
   {
    "duration": 3,
    "start_time": "2025-02-24T03:33:51.859Z"
   },
   {
    "duration": 25,
    "start_time": "2025-02-24T03:33:51.864Z"
   },
   {
    "duration": 3,
    "start_time": "2025-02-24T03:33:51.891Z"
   },
   {
    "duration": 4,
    "start_time": "2025-02-24T03:33:51.897Z"
   },
   {
    "duration": 30,
    "start_time": "2025-02-24T03:33:51.903Z"
   },
   {
    "duration": 9,
    "start_time": "2025-02-24T03:33:51.936Z"
   },
   {
    "duration": 6,
    "start_time": "2025-02-24T03:33:51.947Z"
   },
   {
    "duration": 12,
    "start_time": "2025-02-24T03:33:51.954Z"
   },
   {
    "duration": 6,
    "start_time": "2025-02-24T03:33:51.968Z"
   },
   {
    "duration": 94,
    "start_time": "2025-02-24T03:33:51.976Z"
   },
   {
    "duration": 146,
    "start_time": "2025-02-24T03:33:52.072Z"
   },
   {
    "duration": 2,
    "start_time": "2025-02-24T03:33:52.220Z"
   },
   {
    "duration": 27,
    "start_time": "2025-02-24T03:33:52.231Z"
   },
   {
    "duration": 3,
    "start_time": "2025-02-24T03:33:52.259Z"
   },
   {
    "duration": 4,
    "start_time": "2025-02-24T03:33:52.264Z"
   },
   {
    "duration": 17,
    "start_time": "2025-02-24T03:33:52.270Z"
   },
   {
    "duration": 90,
    "start_time": "2025-02-24T03:33:52.288Z"
   },
   {
    "duration": 2,
    "start_time": "2025-02-24T03:33:52.380Z"
   },
   {
    "duration": 11,
    "start_time": "2025-02-24T03:33:52.384Z"
   },
   {
    "duration": 3,
    "start_time": "2025-02-24T03:33:52.396Z"
   },
   {
    "duration": 32,
    "start_time": "2025-02-24T03:33:52.401Z"
   },
   {
    "duration": 44,
    "start_time": "2025-02-24T03:33:52.435Z"
   },
   {
    "duration": 4,
    "start_time": "2025-02-24T03:33:52.481Z"
   },
   {
    "duration": 76,
    "start_time": "2025-02-24T03:33:52.486Z"
   },
   {
    "duration": 10,
    "start_time": "2025-02-24T03:33:52.565Z"
   },
   {
    "duration": 3,
    "start_time": "2025-02-24T03:33:52.577Z"
   },
   {
    "duration": 82956,
    "start_time": "2025-02-24T03:33:52.582Z"
   },
   {
    "duration": 691,
    "start_time": "2025-02-24T03:35:15.540Z"
   },
   {
    "duration": 72,
    "start_time": "2025-02-24T03:35:16.233Z"
   },
   {
    "duration": 25,
    "start_time": "2025-02-24T03:35:16.307Z"
   },
   {
    "duration": 81115,
    "start_time": "2025-02-24T03:36:48.742Z"
   },
   {
    "duration": 673,
    "start_time": "2025-02-24T03:38:51.379Z"
   },
   {
    "duration": 70,
    "start_time": "2025-02-24T03:39:05.953Z"
   },
   {
    "duration": 70,
    "start_time": "2025-02-24T03:39:18.575Z"
   },
   {
    "duration": 643,
    "start_time": "2025-02-24T03:39:58.879Z"
   },
   {
    "duration": 71,
    "start_time": "2025-02-24T03:40:06.471Z"
   },
   {
    "duration": 5,
    "start_time": "2025-02-24T03:40:59.137Z"
   },
   {
    "duration": 81374,
    "start_time": "2025-02-24T03:47:45.288Z"
   },
   {
    "duration": 81742,
    "start_time": "2025-02-24T03:49:06.664Z"
   },
   {
    "duration": 656,
    "start_time": "2025-02-24T03:50:46.586Z"
   },
   {
    "duration": 71,
    "start_time": "2025-02-24T03:50:52.893Z"
   },
   {
    "duration": 5,
    "start_time": "2025-02-24T03:50:56.193Z"
   },
   {
    "duration": 430,
    "start_time": "2025-02-24T03:53:07.440Z"
   },
   {
    "duration": 115101,
    "start_time": "2025-02-24T03:53:22.278Z"
   },
   {
    "duration": 1034,
    "start_time": "2025-02-24T03:59:06.170Z"
   },
   {
    "duration": 32,
    "start_time": "2025-02-24T04:07:10.120Z"
   },
   {
    "duration": 5,
    "start_time": "2025-02-24T04:07:38.430Z"
   },
   {
    "duration": 138,
    "start_time": "2025-02-24T04:08:07.168Z"
   },
   {
    "duration": 69,
    "start_time": "2025-02-24T04:10:47.837Z"
   },
   {
    "duration": 31,
    "start_time": "2025-02-24T04:11:23.767Z"
   },
   {
    "duration": 37,
    "start_time": "2025-02-24T04:11:35.826Z"
   },
   {
    "duration": 5,
    "start_time": "2025-02-24T04:12:08.844Z"
   },
   {
    "duration": 337,
    "start_time": "2025-02-24T04:12:52.365Z"
   },
   {
    "duration": 19,
    "start_time": "2025-02-24T04:12:56.524Z"
   },
   {
    "duration": 6,
    "start_time": "2025-02-24T04:13:04.849Z"
   },
   {
    "duration": 343,
    "start_time": "2025-02-24T04:13:14.888Z"
   },
   {
    "duration": 19,
    "start_time": "2025-02-24T04:13:17.029Z"
   },
   {
    "duration": 5,
    "start_time": "2025-02-24T04:13:19.100Z"
   },
   {
    "duration": 350,
    "start_time": "2025-02-24T04:13:49.803Z"
   },
   {
    "duration": 19,
    "start_time": "2025-02-24T04:13:53.379Z"
   },
   {
    "duration": 4,
    "start_time": "2025-02-24T04:13:56.805Z"
   },
   {
    "duration": 115493,
    "start_time": "2025-02-24T04:16:00.893Z"
   },
   {
    "duration": 385,
    "start_time": "2025-02-24T04:19:28.345Z"
   },
   {
    "duration": 32,
    "start_time": "2025-02-24T04:19:50.674Z"
   },
   {
    "duration": 6,
    "start_time": "2025-02-24T04:20:06.411Z"
   },
   {
    "duration": 741,
    "start_time": "2025-02-24T04:23:43.242Z"
   },
   {
    "duration": 33,
    "start_time": "2025-02-24T04:24:02.248Z"
   },
   {
    "duration": 65,
    "start_time": "2025-02-24T04:24:19.771Z"
   },
   {
    "duration": 5,
    "start_time": "2025-02-24T04:30:59.752Z"
   },
   {
    "duration": 345,
    "start_time": "2025-02-24T04:31:22.911Z"
   },
   {
    "duration": 21,
    "start_time": "2025-02-24T04:31:26.103Z"
   },
   {
    "duration": 56,
    "start_time": "2025-02-24T04:31:35.835Z"
   },
   {
    "duration": 21,
    "start_time": "2025-02-24T04:37:11.763Z"
   },
   {
    "duration": 30,
    "start_time": "2025-02-24T04:37:24.472Z"
   },
   {
    "duration": 36,
    "start_time": "2025-02-24T04:37:38.610Z"
   },
   {
    "duration": 125,
    "start_time": "2025-02-24T04:37:57.711Z"
   },
   {
    "duration": 19,
    "start_time": "2025-02-24T04:39:56.399Z"
   },
   {
    "duration": 25,
    "start_time": "2025-02-24T04:44:26.942Z"
   },
   {
    "duration": 19,
    "start_time": "2025-02-24T04:44:40.967Z"
   },
   {
    "duration": 4,
    "start_time": "2025-02-24T04:45:12.329Z"
   },
   {
    "duration": 6,
    "start_time": "2025-02-24T04:45:29.696Z"
   },
   {
    "duration": 372,
    "start_time": "2025-02-24T17:24:37.802Z"
   },
   {
    "duration": 25,
    "start_time": "2025-02-24T17:24:38.176Z"
   },
   {
    "duration": 17,
    "start_time": "2025-02-24T17:24:38.202Z"
   },
   {
    "duration": 2,
    "start_time": "2025-02-24T17:24:38.221Z"
   },
   {
    "duration": 14,
    "start_time": "2025-02-24T17:24:38.226Z"
   },
   {
    "duration": 54,
    "start_time": "2025-02-24T17:24:38.242Z"
   },
   {
    "duration": 9,
    "start_time": "2025-02-24T17:24:38.297Z"
   },
   {
    "duration": 7,
    "start_time": "2025-02-24T17:24:38.307Z"
   },
   {
    "duration": 7,
    "start_time": "2025-02-24T17:24:38.315Z"
   },
   {
    "duration": 1860,
    "start_time": "2025-02-24T17:24:38.325Z"
   },
   {
    "duration": 108,
    "start_time": "2025-02-24T17:24:40.189Z"
   },
   {
    "duration": 1228,
    "start_time": "2025-02-24T17:24:40.299Z"
   },
   {
    "duration": 4,
    "start_time": "2025-02-24T17:24:41.529Z"
   },
   {
    "duration": 3,
    "start_time": "2025-02-24T17:24:41.535Z"
   },
   {
    "duration": 479,
    "start_time": "2025-02-24T17:24:41.540Z"
   },
   {
    "duration": 6,
    "start_time": "2025-02-24T17:24:42.021Z"
   },
   {
    "duration": 5,
    "start_time": "2025-02-24T17:24:42.029Z"
   },
   {
    "duration": 4,
    "start_time": "2025-02-24T17:24:42.036Z"
   },
   {
    "duration": 5,
    "start_time": "2025-02-24T17:24:42.042Z"
   },
   {
    "duration": 5,
    "start_time": "2025-02-24T17:24:42.049Z"
   },
   {
    "duration": 5,
    "start_time": "2025-02-24T17:24:42.087Z"
   },
   {
    "duration": 5,
    "start_time": "2025-02-24T17:24:42.093Z"
   },
   {
    "duration": 2,
    "start_time": "2025-02-24T17:24:42.100Z"
   },
   {
    "duration": 16,
    "start_time": "2025-02-24T17:24:42.104Z"
   },
   {
    "duration": 19,
    "start_time": "2025-02-24T17:24:42.122Z"
   },
   {
    "duration": 3,
    "start_time": "2025-02-24T17:24:42.187Z"
   },
   {
    "duration": 11,
    "start_time": "2025-02-24T17:24:42.191Z"
   },
   {
    "duration": 6,
    "start_time": "2025-02-24T17:24:42.206Z"
   },
   {
    "duration": 10,
    "start_time": "2025-02-24T17:24:42.213Z"
   },
   {
    "duration": 4,
    "start_time": "2025-02-24T17:24:42.224Z"
   },
   {
    "duration": 16,
    "start_time": "2025-02-24T17:24:42.230Z"
   },
   {
    "duration": 3,
    "start_time": "2025-02-24T17:24:42.286Z"
   },
   {
    "duration": 17,
    "start_time": "2025-02-24T17:24:42.291Z"
   },
   {
    "duration": 16,
    "start_time": "2025-02-24T17:24:42.310Z"
   },
   {
    "duration": 5,
    "start_time": "2025-02-24T17:24:42.328Z"
   },
   {
    "duration": 55,
    "start_time": "2025-02-24T17:24:42.334Z"
   },
   {
    "duration": 2,
    "start_time": "2025-02-24T17:24:42.391Z"
   },
   {
    "duration": 4,
    "start_time": "2025-02-24T17:24:42.395Z"
   },
   {
    "duration": 6,
    "start_time": "2025-02-24T17:24:42.401Z"
   },
   {
    "duration": 79,
    "start_time": "2025-02-24T17:24:42.408Z"
   },
   {
    "duration": 93,
    "start_time": "2025-02-24T17:24:42.496Z"
   },
   {
    "duration": 3,
    "start_time": "2025-02-24T17:24:42.591Z"
   },
   {
    "duration": 5,
    "start_time": "2025-02-24T17:24:42.595Z"
   },
   {
    "duration": 129,
    "start_time": "2025-02-24T17:24:42.601Z"
   },
   {
    "duration": 7,
    "start_time": "2025-02-24T17:24:42.732Z"
   },
   {
    "duration": 47,
    "start_time": "2025-02-24T17:24:42.740Z"
   },
   {
    "duration": 4,
    "start_time": "2025-02-24T17:24:42.789Z"
   },
   {
    "duration": 95,
    "start_time": "2025-02-24T17:24:42.795Z"
   },
   {
    "duration": 4,
    "start_time": "2025-02-24T17:24:42.892Z"
   },
   {
    "duration": 3,
    "start_time": "2025-02-24T17:24:42.899Z"
   },
   {
    "duration": 4,
    "start_time": "2025-02-24T17:24:42.905Z"
   },
   {
    "duration": 78,
    "start_time": "2025-02-24T17:24:42.910Z"
   },
   {
    "duration": 6,
    "start_time": "2025-02-24T17:24:42.991Z"
   },
   {
    "duration": 5,
    "start_time": "2025-02-24T17:24:43.000Z"
   },
   {
    "duration": 131,
    "start_time": "2025-02-24T17:24:43.007Z"
   },
   {
    "duration": 3,
    "start_time": "2025-02-24T17:24:43.139Z"
   },
   {
    "duration": 3,
    "start_time": "2025-02-24T17:24:43.188Z"
   },
   {
    "duration": 11,
    "start_time": "2025-02-24T17:24:43.192Z"
   },
   {
    "duration": 11,
    "start_time": "2025-02-24T17:24:43.204Z"
   },
   {
    "duration": 7,
    "start_time": "2025-02-24T17:24:43.217Z"
   },
   {
    "duration": 7,
    "start_time": "2025-02-24T17:24:43.226Z"
   },
   {
    "duration": 58,
    "start_time": "2025-02-24T17:24:43.234Z"
   },
   {
    "duration": 17,
    "start_time": "2025-02-24T17:24:43.294Z"
   },
   {
    "duration": 3,
    "start_time": "2025-02-24T17:24:43.313Z"
   },
   {
    "duration": 43,
    "start_time": "2025-02-24T17:24:43.317Z"
   },
   {
    "duration": 97,
    "start_time": "2025-02-24T17:24:43.362Z"
   },
   {
    "duration": 33,
    "start_time": "2025-02-24T17:24:43.461Z"
   },
   {
    "duration": 4,
    "start_time": "2025-02-24T17:24:43.498Z"
   },
   {
    "duration": 39,
    "start_time": "2025-02-24T17:24:43.504Z"
   },
   {
    "duration": 124,
    "start_time": "2025-02-24T17:24:43.546Z"
   },
   {
    "duration": 15,
    "start_time": "2025-02-24T17:24:43.672Z"
   },
   {
    "duration": 26,
    "start_time": "2025-02-24T17:24:43.688Z"
   },
   {
    "duration": 3,
    "start_time": "2025-02-24T17:24:43.716Z"
   },
   {
    "duration": 5,
    "start_time": "2025-02-24T17:24:43.721Z"
   },
   {
    "duration": 5,
    "start_time": "2025-02-24T17:24:43.728Z"
   },
   {
    "duration": 8,
    "start_time": "2025-02-24T17:24:43.734Z"
   },
   {
    "duration": 5,
    "start_time": "2025-02-24T17:24:43.743Z"
   },
   {
    "duration": 9,
    "start_time": "2025-02-24T17:24:43.786Z"
   },
   {
    "duration": 5,
    "start_time": "2025-02-24T17:24:43.796Z"
   },
   {
    "duration": 52,
    "start_time": "2025-02-24T17:24:43.803Z"
   },
   {
    "duration": 153,
    "start_time": "2025-02-24T17:24:43.858Z"
   },
   {
    "duration": 2,
    "start_time": "2025-02-24T17:24:44.018Z"
   },
   {
    "duration": 29,
    "start_time": "2025-02-24T17:24:44.022Z"
   },
   {
    "duration": 3,
    "start_time": "2025-02-24T17:24:44.053Z"
   },
   {
    "duration": 30,
    "start_time": "2025-02-24T17:24:44.058Z"
   },
   {
    "duration": 18,
    "start_time": "2025-02-24T17:24:44.089Z"
   },
   {
    "duration": 53,
    "start_time": "2025-02-24T17:24:44.108Z"
   },
   {
    "duration": 25,
    "start_time": "2025-02-24T17:24:44.162Z"
   },
   {
    "duration": 11,
    "start_time": "2025-02-24T17:24:44.189Z"
   },
   {
    "duration": 4,
    "start_time": "2025-02-24T17:24:44.201Z"
   },
   {
    "duration": 6,
    "start_time": "2025-02-24T17:24:44.206Z"
   },
   {
    "duration": 73,
    "start_time": "2025-02-24T17:24:44.213Z"
   },
   {
    "duration": 4,
    "start_time": "2025-02-24T17:24:44.289Z"
   },
   {
    "duration": 45,
    "start_time": "2025-02-24T17:24:44.296Z"
   },
   {
    "duration": 9,
    "start_time": "2025-02-24T17:24:44.343Z"
   },
   {
    "duration": 3,
    "start_time": "2025-02-24T17:24:44.353Z"
   },
   {
    "duration": 80978,
    "start_time": "2025-02-24T17:24:44.386Z"
   },
   {
    "duration": 342,
    "start_time": "2025-02-24T17:26:05.366Z"
   },
   {
    "duration": 18,
    "start_time": "2025-02-24T17:26:05.710Z"
   },
   {
    "duration": 4,
    "start_time": "2025-02-24T17:26:05.730Z"
   },
   {
    "duration": 79740,
    "start_time": "2025-02-24T17:26:05.737Z"
   },
   {
    "duration": 327,
    "start_time": "2025-02-24T17:27:25.486Z"
   },
   {
    "duration": 18,
    "start_time": "2025-02-24T17:27:25.815Z"
   },
   {
    "duration": 5,
    "start_time": "2025-02-24T17:27:25.835Z"
   },
   {
    "duration": 115058,
    "start_time": "2025-02-24T17:27:25.842Z"
   },
   {
    "duration": 1034,
    "start_time": "2025-02-24T17:29:20.903Z"
   },
   {
    "duration": 34,
    "start_time": "2025-02-24T17:29:21.938Z"
   },
   {
    "duration": 5,
    "start_time": "2025-02-24T17:29:21.986Z"
   },
   {
    "duration": 333,
    "start_time": "2025-02-24T17:31:16.810Z"
   },
   {
    "duration": 30,
    "start_time": "2025-02-24T17:31:17.144Z"
   },
   {
    "duration": 13,
    "start_time": "2025-02-24T17:31:17.176Z"
   },
   {
    "duration": 339,
    "start_time": "2025-02-24T17:31:17.191Z"
   },
   {
    "duration": 18,
    "start_time": "2025-02-24T17:31:17.533Z"
   },
   {
    "duration": 60,
    "start_time": "2025-02-24T17:31:17.553Z"
   },
   {
    "duration": 3,
    "start_time": "2025-02-24T17:31:17.615Z"
   },
   {
    "duration": 126,
    "start_time": "2025-02-24T17:31:17.620Z"
   },
   {
    "duration": 20,
    "start_time": "2025-02-24T17:31:17.748Z"
   },
   {
    "duration": 30,
    "start_time": "2025-02-24T17:31:17.770Z"
   },
   {
    "duration": 3,
    "start_time": "2025-02-24T17:31:17.802Z"
   },
   {
    "duration": 5,
    "start_time": "2025-02-24T17:31:17.807Z"
   },
   {
    "duration": 114590,
    "start_time": "2025-02-24T17:33:12.176Z"
   },
   {
    "duration": 338,
    "start_time": "2025-02-24T17:38:08.524Z"
   },
   {
    "duration": 19,
    "start_time": "2025-02-24T17:38:11.573Z"
   },
   {
    "duration": 5,
    "start_time": "2025-02-24T17:38:15.661Z"
   },
   {
    "duration": 4,
    "start_time": "2025-02-24T17:39:04.132Z"
   },
   {
    "duration": 113,
    "start_time": "2025-02-24T17:39:05.789Z"
   },
   {
    "duration": 20,
    "start_time": "2025-02-24T17:39:56.782Z"
   },
   {
    "duration": 17,
    "start_time": "2025-02-24T17:40:00.752Z"
   },
   {
    "duration": 3,
    "start_time": "2025-02-24T17:40:03.037Z"
   },
   {
    "duration": 6,
    "start_time": "2025-02-24T17:40:05.635Z"
   },
   {
    "duration": 161,
    "start_time": "2025-02-24T18:16:48.129Z"
   },
   {
    "duration": 339,
    "start_time": "2025-02-24T18:16:59.366Z"
   },
   {
    "duration": 24,
    "start_time": "2025-02-24T18:16:59.707Z"
   },
   {
    "duration": 17,
    "start_time": "2025-02-24T18:16:59.733Z"
   },
   {
    "duration": 2,
    "start_time": "2025-02-24T18:16:59.752Z"
   },
   {
    "duration": 13,
    "start_time": "2025-02-24T18:16:59.757Z"
   },
   {
    "duration": 46,
    "start_time": "2025-02-24T18:16:59.772Z"
   },
   {
    "duration": 7,
    "start_time": "2025-02-24T18:16:59.821Z"
   },
   {
    "duration": 6,
    "start_time": "2025-02-24T18:16:59.830Z"
   },
   {
    "duration": 5,
    "start_time": "2025-02-24T18:16:59.838Z"
   },
   {
    "duration": 1901,
    "start_time": "2025-02-24T18:16:59.845Z"
   },
   {
    "duration": 107,
    "start_time": "2025-02-24T18:17:01.748Z"
   },
   {
    "duration": 1329,
    "start_time": "2025-02-24T18:17:01.857Z"
   },
   {
    "duration": 4,
    "start_time": "2025-02-24T18:17:03.188Z"
   },
   {
    "duration": 3,
    "start_time": "2025-02-24T18:17:03.196Z"
   },
   {
    "duration": 509,
    "start_time": "2025-02-24T18:17:03.200Z"
   },
   {
    "duration": 6,
    "start_time": "2025-02-24T18:17:03.711Z"
   },
   {
    "duration": 5,
    "start_time": "2025-02-24T18:17:03.718Z"
   },
   {
    "duration": 4,
    "start_time": "2025-02-24T18:17:03.725Z"
   },
   {
    "duration": 5,
    "start_time": "2025-02-24T18:17:03.730Z"
   },
   {
    "duration": 6,
    "start_time": "2025-02-24T18:17:03.736Z"
   },
   {
    "duration": 6,
    "start_time": "2025-02-24T18:17:03.743Z"
   },
   {
    "duration": 6,
    "start_time": "2025-02-24T18:17:03.751Z"
   },
   {
    "duration": 2,
    "start_time": "2025-02-24T18:17:03.759Z"
   },
   {
    "duration": 53,
    "start_time": "2025-02-24T18:17:03.763Z"
   },
   {
    "duration": 19,
    "start_time": "2025-02-24T18:17:03.817Z"
   },
   {
    "duration": 2,
    "start_time": "2025-02-24T18:17:03.838Z"
   },
   {
    "duration": 11,
    "start_time": "2025-02-24T18:17:03.842Z"
   },
   {
    "duration": 5,
    "start_time": "2025-02-24T18:17:03.854Z"
   },
   {
    "duration": 9,
    "start_time": "2025-02-24T18:17:03.861Z"
   },
   {
    "duration": 36,
    "start_time": "2025-02-24T18:17:03.872Z"
   },
   {
    "duration": 17,
    "start_time": "2025-02-24T18:17:03.909Z"
   },
   {
    "duration": 2,
    "start_time": "2025-02-24T18:17:03.928Z"
   },
   {
    "duration": 14,
    "start_time": "2025-02-24T18:17:03.932Z"
   },
   {
    "duration": 11,
    "start_time": "2025-02-24T18:17:03.947Z"
   },
   {
    "duration": 46,
    "start_time": "2025-02-24T18:17:03.960Z"
   },
   {
    "duration": 3,
    "start_time": "2025-02-24T18:17:04.008Z"
   },
   {
    "duration": 3,
    "start_time": "2025-02-24T18:17:04.013Z"
   },
   {
    "duration": 5,
    "start_time": "2025-02-24T18:17:04.018Z"
   },
   {
    "duration": 82,
    "start_time": "2025-02-24T18:17:04.025Z"
   },
   {
    "duration": 3,
    "start_time": "2025-02-24T18:17:04.109Z"
   },
   {
    "duration": 110,
    "start_time": "2025-02-24T18:17:04.122Z"
   },
   {
    "duration": 3,
    "start_time": "2025-02-24T18:17:04.236Z"
   },
   {
    "duration": 64,
    "start_time": "2025-02-24T18:17:04.241Z"
   },
   {
    "duration": 126,
    "start_time": "2025-02-24T18:17:04.307Z"
   },
   {
    "duration": 6,
    "start_time": "2025-02-24T18:17:04.435Z"
   },
   {
    "duration": 4,
    "start_time": "2025-02-24T18:17:04.442Z"
   },
   {
    "duration": 4,
    "start_time": "2025-02-24T18:17:04.448Z"
   },
   {
    "duration": 98,
    "start_time": "2025-02-24T18:17:04.506Z"
   },
   {
    "duration": 5,
    "start_time": "2025-02-24T18:17:04.606Z"
   },
   {
    "duration": 4,
    "start_time": "2025-02-24T18:17:04.612Z"
   },
   {
    "duration": 5,
    "start_time": "2025-02-24T18:17:04.617Z"
   },
   {
    "duration": 85,
    "start_time": "2025-02-24T18:17:04.623Z"
   },
   {
    "duration": 4,
    "start_time": "2025-02-24T18:17:04.712Z"
   },
   {
    "duration": 2,
    "start_time": "2025-02-24T18:17:04.720Z"
   },
   {
    "duration": 122,
    "start_time": "2025-02-24T18:17:04.724Z"
   },
   {
    "duration": 3,
    "start_time": "2025-02-24T18:17:04.848Z"
   },
   {
    "duration": 3,
    "start_time": "2025-02-24T18:17:04.853Z"
   },
   {
    "duration": 48,
    "start_time": "2025-02-24T18:17:04.858Z"
   },
   {
    "duration": 12,
    "start_time": "2025-02-24T18:17:04.908Z"
   },
   {
    "duration": 6,
    "start_time": "2025-02-24T18:17:04.922Z"
   },
   {
    "duration": 7,
    "start_time": "2025-02-24T18:17:04.930Z"
   },
   {
    "duration": 18,
    "start_time": "2025-02-24T18:17:04.938Z"
   },
   {
    "duration": 15,
    "start_time": "2025-02-24T18:17:04.958Z"
   },
   {
    "duration": 2,
    "start_time": "2025-02-24T18:17:04.975Z"
   },
   {
    "duration": 43,
    "start_time": "2025-02-24T18:17:05.004Z"
   },
   {
    "duration": 88,
    "start_time": "2025-02-24T18:17:05.049Z"
   },
   {
    "duration": 19,
    "start_time": "2025-02-24T18:17:05.139Z"
   },
   {
    "duration": 5,
    "start_time": "2025-02-24T18:17:05.159Z"
   },
   {
    "duration": 52,
    "start_time": "2025-02-24T18:17:05.165Z"
   },
   {
    "duration": 113,
    "start_time": "2025-02-24T18:17:05.219Z"
   },
   {
    "duration": 3,
    "start_time": "2025-02-24T18:17:05.333Z"
   },
   {
    "duration": 23,
    "start_time": "2025-02-24T18:17:05.337Z"
   },
   {
    "duration": 4,
    "start_time": "2025-02-24T18:17:05.361Z"
   },
   {
    "duration": 4,
    "start_time": "2025-02-24T18:17:05.366Z"
   },
   {
    "duration": 4,
    "start_time": "2025-02-24T18:17:05.372Z"
   },
   {
    "duration": 32,
    "start_time": "2025-02-24T18:17:05.378Z"
   },
   {
    "duration": 5,
    "start_time": "2025-02-24T18:17:05.411Z"
   },
   {
    "duration": 8,
    "start_time": "2025-02-24T18:17:05.418Z"
   },
   {
    "duration": 6,
    "start_time": "2025-02-24T18:17:05.427Z"
   },
   {
    "duration": 73,
    "start_time": "2025-02-24T18:17:05.434Z"
   },
   {
    "duration": 135,
    "start_time": "2025-02-24T18:17:05.508Z"
   },
   {
    "duration": 3,
    "start_time": "2025-02-24T18:17:05.645Z"
   },
   {
    "duration": 29,
    "start_time": "2025-02-24T18:17:05.649Z"
   },
   {
    "duration": 3,
    "start_time": "2025-02-24T18:17:05.679Z"
   },
   {
    "duration": 23,
    "start_time": "2025-02-24T18:17:05.684Z"
   },
   {
    "duration": 18,
    "start_time": "2025-02-24T18:17:05.708Z"
   },
   {
    "duration": 49,
    "start_time": "2025-02-24T18:17:05.727Z"
   },
   {
    "duration": 2,
    "start_time": "2025-02-24T18:17:05.778Z"
   },
   {
    "duration": 31,
    "start_time": "2025-02-24T18:17:05.781Z"
   },
   {
    "duration": 3,
    "start_time": "2025-02-24T18:17:05.814Z"
   },
   {
    "duration": 6,
    "start_time": "2025-02-24T18:17:05.821Z"
   },
   {
    "duration": 42,
    "start_time": "2025-02-24T18:17:05.829Z"
   },
   {
    "duration": 4,
    "start_time": "2025-02-24T18:17:05.873Z"
   },
   {
    "duration": 69,
    "start_time": "2025-02-24T18:17:05.878Z"
   },
   {
    "duration": 10,
    "start_time": "2025-02-24T18:17:05.949Z"
   },
   {
    "duration": 3,
    "start_time": "2025-02-24T18:17:05.961Z"
   },
   {
    "duration": 80765,
    "start_time": "2025-02-24T18:17:05.966Z"
   },
   {
    "duration": 339,
    "start_time": "2025-02-24T18:18:26.733Z"
   },
   {
    "duration": 17,
    "start_time": "2025-02-24T18:18:27.074Z"
   },
   {
    "duration": 14,
    "start_time": "2025-02-24T18:18:27.093Z"
   },
   {
    "duration": 287,
    "start_time": "2025-02-24T18:18:27.109Z"
   },
   {
    "duration": 0,
    "start_time": "2025-02-24T18:18:27.397Z"
   },
   {
    "duration": 0,
    "start_time": "2025-02-24T18:18:27.399Z"
   },
   {
    "duration": 0,
    "start_time": "2025-02-24T18:18:27.405Z"
   },
   {
    "duration": 0,
    "start_time": "2025-02-24T18:18:27.407Z"
   },
   {
    "duration": 0,
    "start_time": "2025-02-24T18:18:27.408Z"
   },
   {
    "duration": 0,
    "start_time": "2025-02-24T18:18:27.409Z"
   },
   {
    "duration": 0,
    "start_time": "2025-02-24T18:18:27.411Z"
   },
   {
    "duration": 0,
    "start_time": "2025-02-24T18:18:27.413Z"
   },
   {
    "duration": 0,
    "start_time": "2025-02-24T18:18:27.414Z"
   },
   {
    "duration": 0,
    "start_time": "2025-02-24T18:18:27.415Z"
   },
   {
    "duration": 0,
    "start_time": "2025-02-24T18:18:27.417Z"
   },
   {
    "duration": 0,
    "start_time": "2025-02-24T18:18:27.418Z"
   },
   {
    "duration": 0,
    "start_time": "2025-02-24T18:18:27.419Z"
   },
   {
    "duration": 0,
    "start_time": "2025-02-24T18:18:27.421Z"
   },
   {
    "duration": 0,
    "start_time": "2025-02-24T18:18:27.422Z"
   },
   {
    "duration": 0,
    "start_time": "2025-02-24T18:18:27.424Z"
   },
   {
    "duration": 0,
    "start_time": "2025-02-24T18:18:27.426Z"
   },
   {
    "duration": 0,
    "start_time": "2025-02-24T18:18:27.427Z"
   },
   {
    "duration": 0,
    "start_time": "2025-02-24T18:18:27.429Z"
   },
   {
    "duration": 0,
    "start_time": "2025-02-24T18:18:27.431Z"
   },
   {
    "duration": 2,
    "start_time": "2025-02-24T18:19:17.826Z"
   },
   {
    "duration": 207546,
    "start_time": "2025-02-24T18:19:23.443Z"
   },
   {
    "duration": 338,
    "start_time": "2025-02-24T18:28:20.492Z"
   },
   {
    "duration": 1248,
    "start_time": "2025-02-24T19:25:16.204Z"
   },
   {
    "duration": 54,
    "start_time": "2025-02-24T19:25:39.416Z"
   },
   {
    "duration": 5,
    "start_time": "2025-02-24T19:25:41.731Z"
   },
   {
    "duration": 313,
    "start_time": "2025-02-24T19:25:56.456Z"
   },
   {
    "duration": 21,
    "start_time": "2025-02-24T19:25:56.771Z"
   },
   {
    "duration": 27,
    "start_time": "2025-02-24T19:25:56.794Z"
   },
   {
    "duration": 3,
    "start_time": "2025-02-24T19:25:56.824Z"
   },
   {
    "duration": 17,
    "start_time": "2025-02-24T19:25:56.831Z"
   },
   {
    "duration": 30,
    "start_time": "2025-02-24T19:25:56.850Z"
   },
   {
    "duration": 27,
    "start_time": "2025-02-24T19:25:56.882Z"
   },
   {
    "duration": 5,
    "start_time": "2025-02-24T19:25:56.911Z"
   },
   {
    "duration": 7,
    "start_time": "2025-02-24T19:25:56.918Z"
   },
   {
    "duration": 138,
    "start_time": "2025-02-24T19:25:56.928Z"
   },
   {
    "duration": 138,
    "start_time": "2025-02-24T19:25:57.067Z"
   },
   {
    "duration": 1170,
    "start_time": "2025-02-24T19:25:57.207Z"
   },
   {
    "duration": 4,
    "start_time": "2025-02-24T19:25:58.379Z"
   },
   {
    "duration": 11,
    "start_time": "2025-02-24T19:25:58.386Z"
   },
   {
    "duration": 476,
    "start_time": "2025-02-24T19:25:58.399Z"
   },
   {
    "duration": 6,
    "start_time": "2025-02-24T19:25:58.877Z"
   },
   {
    "duration": 4,
    "start_time": "2025-02-24T19:25:58.885Z"
   },
   {
    "duration": 14,
    "start_time": "2025-02-24T19:25:58.891Z"
   },
   {
    "duration": 4,
    "start_time": "2025-02-24T19:25:58.907Z"
   },
   {
    "duration": 6,
    "start_time": "2025-02-24T19:25:58.912Z"
   },
   {
    "duration": 5,
    "start_time": "2025-02-24T19:25:58.920Z"
   },
   {
    "duration": 5,
    "start_time": "2025-02-24T19:25:58.926Z"
   },
   {
    "duration": 2,
    "start_time": "2025-02-24T19:25:58.933Z"
   },
   {
    "duration": 17,
    "start_time": "2025-02-24T19:25:58.936Z"
   },
   {
    "duration": 58,
    "start_time": "2025-02-24T19:25:58.955Z"
   },
   {
    "duration": 2,
    "start_time": "2025-02-24T19:25:59.015Z"
   },
   {
    "duration": 11,
    "start_time": "2025-02-24T19:25:59.019Z"
   },
   {
    "duration": 4,
    "start_time": "2025-02-24T19:25:59.036Z"
   },
   {
    "duration": 9,
    "start_time": "2025-02-24T19:25:59.042Z"
   },
   {
    "duration": 4,
    "start_time": "2025-02-24T19:25:59.053Z"
   },
   {
    "duration": 46,
    "start_time": "2025-02-24T19:25:59.059Z"
   },
   {
    "duration": 3,
    "start_time": "2025-02-24T19:25:59.107Z"
   },
   {
    "duration": 14,
    "start_time": "2025-02-24T19:25:59.112Z"
   },
   {
    "duration": 10,
    "start_time": "2025-02-24T19:25:59.128Z"
   },
   {
    "duration": 6,
    "start_time": "2025-02-24T19:25:59.139Z"
   },
   {
    "duration": 62,
    "start_time": "2025-02-24T19:25:59.147Z"
   },
   {
    "duration": 3,
    "start_time": "2025-02-24T19:25:59.211Z"
   },
   {
    "duration": 5,
    "start_time": "2025-02-24T19:25:59.216Z"
   },
   {
    "duration": 6,
    "start_time": "2025-02-24T19:25:59.222Z"
   },
   {
    "duration": 76,
    "start_time": "2025-02-24T19:25:59.230Z"
   },
   {
    "duration": 51,
    "start_time": "2025-02-24T19:25:59.308Z"
   },
   {
    "duration": 4,
    "start_time": "2025-02-24T19:25:59.406Z"
   },
   {
    "duration": 9,
    "start_time": "2025-02-24T19:25:59.413Z"
   },
   {
    "duration": 116,
    "start_time": "2025-02-24T19:25:59.426Z"
   },
   {
    "duration": 6,
    "start_time": "2025-02-24T19:25:59.544Z"
   },
   {
    "duration": 3,
    "start_time": "2025-02-24T19:25:59.552Z"
   },
   {
    "duration": 52,
    "start_time": "2025-02-24T19:25:59.557Z"
   },
   {
    "duration": 101,
    "start_time": "2025-02-24T19:25:59.611Z"
   },
   {
    "duration": 5,
    "start_time": "2025-02-24T19:25:59.713Z"
   },
   {
    "duration": 4,
    "start_time": "2025-02-24T19:25:59.719Z"
   },
   {
    "duration": 5,
    "start_time": "2025-02-24T19:25:59.724Z"
   },
   {
    "duration": 82,
    "start_time": "2025-02-24T19:25:59.730Z"
   },
   {
    "duration": 6,
    "start_time": "2025-02-24T19:25:59.815Z"
   },
   {
    "duration": 3,
    "start_time": "2025-02-24T19:25:59.826Z"
   },
   {
    "duration": 96,
    "start_time": "2025-02-24T19:25:59.909Z"
   },
   {
    "duration": 2,
    "start_time": "2025-02-24T19:26:00.007Z"
   },
   {
    "duration": 3,
    "start_time": "2025-02-24T19:26:00.011Z"
   },
   {
    "duration": 10,
    "start_time": "2025-02-24T19:26:00.016Z"
   },
   {
    "duration": 13,
    "start_time": "2025-02-24T19:26:00.027Z"
   },
   {
    "duration": 9,
    "start_time": "2025-02-24T19:26:00.041Z"
   },
   {
    "duration": 7,
    "start_time": "2025-02-24T19:26:00.052Z"
   },
   {
    "duration": 50,
    "start_time": "2025-02-24T19:26:00.061Z"
   },
   {
    "duration": 15,
    "start_time": "2025-02-24T19:26:00.113Z"
   },
   {
    "duration": 3,
    "start_time": "2025-02-24T19:26:00.129Z"
   },
   {
    "duration": 44,
    "start_time": "2025-02-24T19:26:00.134Z"
   },
   {
    "duration": 92,
    "start_time": "2025-02-24T19:26:00.180Z"
   },
   {
    "duration": 19,
    "start_time": "2025-02-24T19:26:00.274Z"
   },
   {
    "duration": 13,
    "start_time": "2025-02-24T19:26:00.295Z"
   },
   {
    "duration": 38,
    "start_time": "2025-02-24T19:26:00.309Z"
   },
   {
    "duration": 119,
    "start_time": "2025-02-24T19:26:00.349Z"
   },
   {
    "duration": 2,
    "start_time": "2025-02-24T19:26:00.470Z"
   },
   {
    "duration": 35,
    "start_time": "2025-02-24T19:26:00.474Z"
   },
   {
    "duration": 5,
    "start_time": "2025-02-24T19:26:00.511Z"
   },
   {
    "duration": 4,
    "start_time": "2025-02-24T19:26:00.519Z"
   },
   {
    "duration": 4,
    "start_time": "2025-02-24T19:26:00.524Z"
   },
   {
    "duration": 8,
    "start_time": "2025-02-24T19:26:00.529Z"
   },
   {
    "duration": 4,
    "start_time": "2025-02-24T19:26:00.539Z"
   },
   {
    "duration": 8,
    "start_time": "2025-02-24T19:26:00.544Z"
   },
   {
    "duration": 6,
    "start_time": "2025-02-24T19:26:00.553Z"
   },
   {
    "duration": 81,
    "start_time": "2025-02-24T19:26:00.560Z"
   },
   {
    "duration": 131,
    "start_time": "2025-02-24T19:26:00.642Z"
   },
   {
    "duration": 2,
    "start_time": "2025-02-24T19:26:00.781Z"
   },
   {
    "duration": 40,
    "start_time": "2025-02-24T19:26:00.785Z"
   },
   {
    "duration": 4,
    "start_time": "2025-02-24T19:26:00.826Z"
   },
   {
    "duration": 5,
    "start_time": "2025-02-24T19:26:00.831Z"
   },
   {
    "duration": 17,
    "start_time": "2025-02-24T19:26:00.838Z"
   },
   {
    "duration": 70,
    "start_time": "2025-02-24T19:26:00.857Z"
   },
   {
    "duration": 3,
    "start_time": "2025-02-24T19:26:00.928Z"
   },
   {
    "duration": 11,
    "start_time": "2025-02-24T19:26:00.932Z"
   },
   {
    "duration": 4,
    "start_time": "2025-02-24T19:26:00.944Z"
   },
   {
    "duration": 4,
    "start_time": "2025-02-24T19:26:00.949Z"
   },
   {
    "duration": 67,
    "start_time": "2025-02-24T19:26:00.955Z"
   },
   {
    "duration": 3,
    "start_time": "2025-02-24T19:26:01.024Z"
   },
   {
    "duration": 43,
    "start_time": "2025-02-24T19:26:01.029Z"
   },
   {
    "duration": 9,
    "start_time": "2025-02-24T19:26:01.073Z"
   },
   {
    "duration": 23,
    "start_time": "2025-02-24T19:26:01.083Z"
   },
   {
    "duration": 80853,
    "start_time": "2025-02-24T19:26:01.109Z"
   },
   {
    "duration": 341,
    "start_time": "2025-02-24T19:27:21.964Z"
   },
   {
    "duration": 17,
    "start_time": "2025-02-24T19:27:22.307Z"
   },
   {
    "duration": 4,
    "start_time": "2025-02-24T19:27:22.325Z"
   },
   {
    "duration": 2,
    "start_time": "2025-02-24T19:27:22.331Z"
   },
   {
    "duration": 207261,
    "start_time": "2025-02-24T19:27:22.335Z"
   },
   {
    "duration": 1258,
    "start_time": "2025-02-24T19:30:49.599Z"
   },
   {
    "duration": 62,
    "start_time": "2025-02-24T19:30:50.859Z"
   },
   {
    "duration": 5,
    "start_time": "2025-02-24T19:30:50.922Z"
   },
   {
    "duration": 114272,
    "start_time": "2025-02-24T19:30:50.928Z"
   },
   {
    "duration": 1021,
    "start_time": "2025-02-24T19:32:45.206Z"
   },
   {
    "duration": 34,
    "start_time": "2025-02-24T19:32:46.229Z"
   },
   {
    "duration": 4,
    "start_time": "2025-02-24T19:32:46.265Z"
   },
   {
    "duration": 114535,
    "start_time": "2025-02-24T19:32:46.271Z"
   },
   {
    "duration": 331,
    "start_time": "2025-02-24T19:34:40.808Z"
   },
   {
    "duration": 30,
    "start_time": "2025-02-24T19:34:41.140Z"
   },
   {
    "duration": 5,
    "start_time": "2025-02-24T19:34:41.171Z"
   },
   {
    "duration": 337,
    "start_time": "2025-02-24T19:34:41.177Z"
   },
   {
    "duration": 18,
    "start_time": "2025-02-24T19:34:41.516Z"
   },
   {
    "duration": 43,
    "start_time": "2025-02-24T19:34:41.536Z"
   },
   {
    "duration": 4,
    "start_time": "2025-02-24T19:34:41.581Z"
   },
   {
    "duration": 156,
    "start_time": "2025-02-24T19:34:41.605Z"
   },
   {
    "duration": 67,
    "start_time": "2025-02-24T19:34:41.763Z"
   },
   {
    "duration": 54,
    "start_time": "2025-02-24T19:34:41.833Z"
   },
   {
    "duration": 3,
    "start_time": "2025-02-24T19:34:41.889Z"
   },
   {
    "duration": 4,
    "start_time": "2025-02-24T19:34:41.905Z"
   },
   {
    "duration": 615,
    "start_time": "2025-02-24T22:02:12.043Z"
   },
   {
    "duration": 334,
    "start_time": "2025-02-24T22:05:56.572Z"
   },
   {
    "duration": 46,
    "start_time": "2025-02-24T22:05:56.908Z"
   },
   {
    "duration": 16,
    "start_time": "2025-02-24T22:05:56.958Z"
   },
   {
    "duration": 3,
    "start_time": "2025-02-24T22:05:56.976Z"
   },
   {
    "duration": 14,
    "start_time": "2025-02-24T22:05:56.981Z"
   },
   {
    "duration": 29,
    "start_time": "2025-02-24T22:05:56.997Z"
   },
   {
    "duration": 30,
    "start_time": "2025-02-24T22:05:57.028Z"
   },
   {
    "duration": 7,
    "start_time": "2025-02-24T22:05:57.060Z"
   },
   {
    "duration": 7,
    "start_time": "2025-02-24T22:05:57.068Z"
   },
   {
    "duration": 2072,
    "start_time": "2025-02-24T22:05:57.078Z"
   },
   {
    "duration": 114,
    "start_time": "2025-02-24T22:05:59.152Z"
   },
   {
    "duration": 1300,
    "start_time": "2025-02-24T22:05:59.267Z"
   },
   {
    "duration": 5,
    "start_time": "2025-02-24T22:06:00.569Z"
   },
   {
    "duration": 2,
    "start_time": "2025-02-24T22:06:00.579Z"
   },
   {
    "duration": 476,
    "start_time": "2025-02-24T22:06:00.582Z"
   },
   {
    "duration": 5,
    "start_time": "2025-02-24T22:06:01.060Z"
   },
   {
    "duration": 5,
    "start_time": "2025-02-24T22:06:01.067Z"
   },
   {
    "duration": 4,
    "start_time": "2025-02-24T22:06:01.073Z"
   },
   {
    "duration": 5,
    "start_time": "2025-02-24T22:06:01.079Z"
   },
   {
    "duration": 5,
    "start_time": "2025-02-24T22:06:01.086Z"
   },
   {
    "duration": 6,
    "start_time": "2025-02-24T22:06:01.092Z"
   },
   {
    "duration": 35,
    "start_time": "2025-02-24T22:06:01.099Z"
   },
   {
    "duration": 15,
    "start_time": "2025-02-24T22:06:01.135Z"
   },
   {
    "duration": 16,
    "start_time": "2025-02-24T22:06:01.151Z"
   },
   {
    "duration": 19,
    "start_time": "2025-02-24T22:06:01.168Z"
   },
   {
    "duration": 2,
    "start_time": "2025-02-24T22:06:01.189Z"
   },
   {
    "duration": 11,
    "start_time": "2025-02-24T22:06:01.193Z"
   },
   {
    "duration": 5,
    "start_time": "2025-02-24T22:06:01.205Z"
   },
   {
    "duration": 43,
    "start_time": "2025-02-24T22:06:01.211Z"
   },
   {
    "duration": 6,
    "start_time": "2025-02-24T22:06:01.256Z"
   },
   {
    "duration": 16,
    "start_time": "2025-02-24T22:06:01.263Z"
   },
   {
    "duration": 3,
    "start_time": "2025-02-24T22:06:01.280Z"
   },
   {
    "duration": 15,
    "start_time": "2025-02-24T22:06:01.284Z"
   },
   {
    "duration": 4,
    "start_time": "2025-02-24T22:06:01.300Z"
   },
   {
    "duration": 32,
    "start_time": "2025-02-24T22:06:01.306Z"
   },
   {
    "duration": 15,
    "start_time": "2025-02-24T22:06:01.340Z"
   },
   {
    "duration": 7,
    "start_time": "2025-02-24T22:06:01.357Z"
   },
   {
    "duration": 4,
    "start_time": "2025-02-24T22:06:01.367Z"
   },
   {
    "duration": 5,
    "start_time": "2025-02-24T22:06:01.373Z"
   },
   {
    "duration": 59,
    "start_time": "2025-02-24T22:06:01.380Z"
   },
   {
    "duration": 121,
    "start_time": "2025-02-24T22:06:01.463Z"
   },
   {
    "duration": 4,
    "start_time": "2025-02-24T22:06:01.585Z"
   },
   {
    "duration": 48,
    "start_time": "2025-02-24T22:06:01.591Z"
   },
   {
    "duration": 133,
    "start_time": "2025-02-24T22:06:01.641Z"
   },
   {
    "duration": 8,
    "start_time": "2025-02-24T22:06:01.776Z"
   },
   {
    "duration": 3,
    "start_time": "2025-02-24T22:06:01.786Z"
   },
   {
    "duration": 41,
    "start_time": "2025-02-24T22:06:01.791Z"
   },
   {
    "duration": 37,
    "start_time": "2025-02-24T22:06:01.833Z"
   },
   {
    "duration": 64,
    "start_time": "2025-02-24T22:06:01.872Z"
   },
   {
    "duration": 8,
    "start_time": "2025-02-24T22:06:01.938Z"
   },
   {
    "duration": 23,
    "start_time": "2025-02-24T22:06:01.947Z"
   },
   {
    "duration": 19,
    "start_time": "2025-02-24T22:06:01.972Z"
   },
   {
    "duration": 39,
    "start_time": "2025-02-24T22:06:01.993Z"
   },
   {
    "duration": 6,
    "start_time": "2025-02-24T22:06:02.033Z"
   },
   {
    "duration": 112,
    "start_time": "2025-02-24T22:06:02.041Z"
   },
   {
    "duration": 4,
    "start_time": "2025-02-24T22:06:02.158Z"
   },
   {
    "duration": 5,
    "start_time": "2025-02-24T22:06:02.165Z"
   },
   {
    "duration": 11,
    "start_time": "2025-02-24T22:06:02.171Z"
   },
   {
    "duration": 11,
    "start_time": "2025-02-24T22:06:02.184Z"
   },
   {
    "duration": 6,
    "start_time": "2025-02-24T22:06:02.197Z"
   },
   {
    "duration": 6,
    "start_time": "2025-02-24T22:06:02.205Z"
   },
   {
    "duration": 56,
    "start_time": "2025-02-24T22:06:02.212Z"
   },
   {
    "duration": 16,
    "start_time": "2025-02-24T22:06:02.269Z"
   },
   {
    "duration": 4,
    "start_time": "2025-02-24T22:06:02.286Z"
   },
   {
    "duration": 60,
    "start_time": "2025-02-24T22:06:02.292Z"
   },
   {
    "duration": 73,
    "start_time": "2025-02-24T22:06:02.353Z"
   },
   {
    "duration": 30,
    "start_time": "2025-02-24T22:06:02.428Z"
   },
   {
    "duration": 4,
    "start_time": "2025-02-24T22:06:02.463Z"
   },
   {
    "duration": 50,
    "start_time": "2025-02-24T22:06:02.469Z"
   },
   {
    "duration": 102,
    "start_time": "2025-02-24T22:06:02.521Z"
   },
   {
    "duration": 2,
    "start_time": "2025-02-24T22:06:02.625Z"
   },
   {
    "duration": 34,
    "start_time": "2025-02-24T22:06:02.628Z"
   },
   {
    "duration": 3,
    "start_time": "2025-02-24T22:06:02.663Z"
   },
   {
    "duration": 5,
    "start_time": "2025-02-24T22:06:02.668Z"
   },
   {
    "duration": 4,
    "start_time": "2025-02-24T22:06:02.676Z"
   },
   {
    "duration": 8,
    "start_time": "2025-02-24T22:06:02.681Z"
   },
   {
    "duration": 5,
    "start_time": "2025-02-24T22:06:02.691Z"
   },
   {
    "duration": 36,
    "start_time": "2025-02-24T22:06:02.697Z"
   },
   {
    "duration": 4,
    "start_time": "2025-02-24T22:06:02.734Z"
   },
   {
    "duration": 56,
    "start_time": "2025-02-24T22:06:02.739Z"
   },
   {
    "duration": 141,
    "start_time": "2025-02-24T22:06:02.797Z"
   },
   {
    "duration": 8,
    "start_time": "2025-02-24T22:06:02.951Z"
   },
   {
    "duration": 28,
    "start_time": "2025-02-24T22:06:02.961Z"
   },
   {
    "duration": 3,
    "start_time": "2025-02-24T22:06:02.991Z"
   },
   {
    "duration": 5,
    "start_time": "2025-02-24T22:06:02.996Z"
   },
   {
    "duration": 18,
    "start_time": "2025-02-24T22:06:03.003Z"
   },
   {
    "duration": 65,
    "start_time": "2025-02-24T22:06:03.023Z"
   },
   {
    "duration": 3,
    "start_time": "2025-02-24T22:06:03.089Z"
   },
   {
    "duration": 11,
    "start_time": "2025-02-24T22:06:03.093Z"
   },
   {
    "duration": 3,
    "start_time": "2025-02-24T22:06:03.106Z"
   },
   {
    "duration": 4,
    "start_time": "2025-02-24T22:06:03.110Z"
   },
   {
    "duration": 57,
    "start_time": "2025-02-24T22:06:03.115Z"
   },
   {
    "duration": 4,
    "start_time": "2025-02-24T22:06:03.174Z"
   },
   {
    "duration": 62,
    "start_time": "2025-02-24T22:06:03.180Z"
   },
   {
    "duration": 9,
    "start_time": "2025-02-24T22:06:03.246Z"
   },
   {
    "duration": 3,
    "start_time": "2025-02-24T22:06:03.262Z"
   },
   {
    "duration": 82591,
    "start_time": "2025-02-24T22:06:03.267Z"
   },
   {
    "duration": 347,
    "start_time": "2025-02-24T22:07:25.860Z"
   },
   {
    "duration": 37,
    "start_time": "2025-02-24T22:07:26.209Z"
   },
   {
    "duration": 5,
    "start_time": "2025-02-24T22:07:26.255Z"
   },
   {
    "duration": 2,
    "start_time": "2025-02-24T22:07:26.263Z"
   },
   {
    "duration": 211302,
    "start_time": "2025-02-24T22:07:26.267Z"
   },
   {
    "duration": 1287,
    "start_time": "2025-02-24T22:10:57.571Z"
   },
   {
    "duration": 53,
    "start_time": "2025-02-24T22:10:58.860Z"
   },
   {
    "duration": 5,
    "start_time": "2025-02-24T22:10:58.915Z"
   },
   {
    "duration": 116956,
    "start_time": "2025-02-24T22:10:58.922Z"
   },
   {
    "duration": 1046,
    "start_time": "2025-02-24T22:12:55.881Z"
   },
   {
    "duration": 42,
    "start_time": "2025-02-24T22:12:56.935Z"
   },
   {
    "duration": 5,
    "start_time": "2025-02-24T22:12:56.979Z"
   },
   {
    "duration": 116738,
    "start_time": "2025-02-24T22:12:56.985Z"
   },
   {
    "duration": 344,
    "start_time": "2025-02-24T22:14:53.725Z"
   },
   {
    "duration": 30,
    "start_time": "2025-02-24T22:14:54.071Z"
   },
   {
    "duration": 4,
    "start_time": "2025-02-24T22:14:54.103Z"
   },
   {
    "duration": 359,
    "start_time": "2025-02-24T22:14:54.109Z"
   },
   {
    "duration": 17,
    "start_time": "2025-02-24T22:14:54.473Z"
   },
   {
    "duration": 48,
    "start_time": "2025-02-24T22:14:54.492Z"
   },
   {
    "duration": 5,
    "start_time": "2025-02-24T22:14:54.547Z"
   },
   {
    "duration": 153,
    "start_time": "2025-02-24T22:14:54.553Z"
   },
   {
    "duration": 62,
    "start_time": "2025-02-24T22:14:54.708Z"
   },
   {
    "duration": 52,
    "start_time": "2025-02-24T22:14:54.772Z"
   },
   {
    "duration": 29,
    "start_time": "2025-02-24T22:14:54.825Z"
   },
   {
    "duration": 5,
    "start_time": "2025-02-24T22:14:54.865Z"
   },
   {
    "duration": 3,
    "start_time": "2025-02-24T22:14:54.871Z"
   },
   {
    "duration": 4,
    "start_time": "2025-02-24T22:19:42.064Z"
   },
   {
    "duration": 107,
    "start_time": "2025-02-24T22:19:44.178Z"
   },
   {
    "duration": 13,
    "start_time": "2025-02-24T22:25:25.843Z"
   },
   {
    "duration": 6,
    "start_time": "2025-02-24T22:26:30.352Z"
   },
   {
    "duration": 56,
    "start_time": "2025-02-24T22:42:56.456Z"
   },
   {
    "duration": 68,
    "start_time": "2025-02-24T22:43:06.570Z"
   },
   {
    "duration": 64,
    "start_time": "2025-02-24T22:44:00.578Z"
   },
   {
    "duration": 60,
    "start_time": "2025-02-24T22:45:46.547Z"
   },
   {
    "duration": 17,
    "start_time": "2025-02-24T22:46:04.710Z"
   },
   {
    "duration": 153,
    "start_time": "2025-02-24T22:46:08.864Z"
   },
   {
    "duration": 166,
    "start_time": "2025-02-24T22:48:22.759Z"
   },
   {
    "duration": 333,
    "start_time": "2025-02-24T22:52:28.067Z"
   },
   {
    "duration": 16,
    "start_time": "2025-02-24T22:52:28.402Z"
   },
   {
    "duration": 20,
    "start_time": "2025-02-24T22:52:28.419Z"
   },
   {
    "duration": 3,
    "start_time": "2025-02-24T22:52:28.441Z"
   },
   {
    "duration": 13,
    "start_time": "2025-02-24T22:52:28.447Z"
   },
   {
    "duration": 29,
    "start_time": "2025-02-24T22:52:28.462Z"
   },
   {
    "duration": 9,
    "start_time": "2025-02-24T22:52:28.492Z"
   },
   {
    "duration": 6,
    "start_time": "2025-02-24T22:52:28.532Z"
   },
   {
    "duration": 5,
    "start_time": "2025-02-24T22:52:28.540Z"
   },
   {
    "duration": 139,
    "start_time": "2025-02-24T22:52:28.547Z"
   },
   {
    "duration": 138,
    "start_time": "2025-02-24T22:52:28.688Z"
   },
   {
    "duration": 1201,
    "start_time": "2025-02-24T22:52:28.830Z"
   },
   {
    "duration": 4,
    "start_time": "2025-02-24T22:52:30.033Z"
   },
   {
    "duration": 2,
    "start_time": "2025-02-24T22:52:30.040Z"
   },
   {
    "duration": 510,
    "start_time": "2025-02-24T22:52:30.044Z"
   },
   {
    "duration": 6,
    "start_time": "2025-02-24T22:52:30.556Z"
   },
   {
    "duration": 5,
    "start_time": "2025-02-24T22:52:30.563Z"
   },
   {
    "duration": 3,
    "start_time": "2025-02-24T22:52:30.569Z"
   },
   {
    "duration": 4,
    "start_time": "2025-02-24T22:52:30.574Z"
   },
   {
    "duration": 6,
    "start_time": "2025-02-24T22:52:30.580Z"
   },
   {
    "duration": 5,
    "start_time": "2025-02-24T22:52:30.587Z"
   },
   {
    "duration": 4,
    "start_time": "2025-02-24T22:52:30.595Z"
   },
   {
    "duration": 32,
    "start_time": "2025-02-24T22:52:30.600Z"
   },
   {
    "duration": 14,
    "start_time": "2025-02-24T22:52:30.634Z"
   },
   {
    "duration": 18,
    "start_time": "2025-02-24T22:52:30.650Z"
   },
   {
    "duration": 2,
    "start_time": "2025-02-24T22:52:30.670Z"
   },
   {
    "duration": 11,
    "start_time": "2025-02-24T22:52:30.674Z"
   },
   {
    "duration": 5,
    "start_time": "2025-02-24T22:52:30.686Z"
   },
   {
    "duration": 42,
    "start_time": "2025-02-24T22:52:30.694Z"
   },
   {
    "duration": 5,
    "start_time": "2025-02-24T22:52:30.738Z"
   },
   {
    "duration": 15,
    "start_time": "2025-02-24T22:52:30.745Z"
   },
   {
    "duration": 3,
    "start_time": "2025-02-24T22:52:30.761Z"
   },
   {
    "duration": 13,
    "start_time": "2025-02-24T22:52:30.766Z"
   },
   {
    "duration": 56,
    "start_time": "2025-02-24T22:52:30.781Z"
   },
   {
    "duration": 7,
    "start_time": "2025-02-24T22:52:30.839Z"
   },
   {
    "duration": 3,
    "start_time": "2025-02-24T22:52:30.848Z"
   },
   {
    "duration": 7,
    "start_time": "2025-02-24T22:52:30.855Z"
   },
   {
    "duration": 69,
    "start_time": "2025-02-24T22:52:30.864Z"
   },
   {
    "duration": 6,
    "start_time": "2025-02-24T22:52:30.935Z"
   },
   {
    "duration": 3,
    "start_time": "2025-02-24T22:52:30.943Z"
   },
   {
    "duration": 124,
    "start_time": "2025-02-24T22:52:30.953Z"
   },
   {
    "duration": 7,
    "start_time": "2025-02-24T22:52:31.080Z"
   },
   {
    "duration": 44,
    "start_time": "2025-02-24T22:52:31.088Z"
   },
   {
    "duration": 124,
    "start_time": "2025-02-24T22:52:31.134Z"
   },
   {
    "duration": 5,
    "start_time": "2025-02-24T22:52:31.260Z"
   },
   {
    "duration": 3,
    "start_time": "2025-02-24T22:52:31.267Z"
   },
   {
    "duration": 4,
    "start_time": "2025-02-24T22:52:31.272Z"
   },
   {
    "duration": 68,
    "start_time": "2025-02-24T22:52:31.278Z"
   },
   {
    "duration": 4,
    "start_time": "2025-02-24T22:52:31.349Z"
   },
   {
    "duration": 77,
    "start_time": "2025-02-24T22:52:31.355Z"
   },
   {
    "duration": 5,
    "start_time": "2025-02-24T22:52:31.433Z"
   },
   {
    "duration": 14,
    "start_time": "2025-02-24T22:52:31.440Z"
   },
   {
    "duration": 5,
    "start_time": "2025-02-24T22:52:31.455Z"
   },
   {
    "duration": 72,
    "start_time": "2025-02-24T22:52:31.461Z"
   },
   {
    "duration": 120,
    "start_time": "2025-02-24T22:52:31.535Z"
   },
   {
    "duration": 3,
    "start_time": "2025-02-24T22:52:31.657Z"
   },
   {
    "duration": 4,
    "start_time": "2025-02-24T22:52:31.661Z"
   },
   {
    "duration": 9,
    "start_time": "2025-02-24T22:52:31.666Z"
   },
   {
    "duration": 11,
    "start_time": "2025-02-24T22:52:31.676Z"
   },
   {
    "duration": 6,
    "start_time": "2025-02-24T22:52:31.689Z"
   },
   {
    "duration": 34,
    "start_time": "2025-02-24T22:52:31.697Z"
   },
   {
    "duration": 16,
    "start_time": "2025-02-24T22:52:31.733Z"
   },
   {
    "duration": 14,
    "start_time": "2025-02-24T22:52:31.751Z"
   },
   {
    "duration": 3,
    "start_time": "2025-02-24T22:52:31.767Z"
   },
   {
    "duration": 62,
    "start_time": "2025-02-24T22:52:31.772Z"
   },
   {
    "duration": 71,
    "start_time": "2025-02-24T22:52:31.836Z"
   },
   {
    "duration": 28,
    "start_time": "2025-02-24T22:52:31.908Z"
   },
   {
    "duration": 5,
    "start_time": "2025-02-24T22:52:31.937Z"
   },
   {
    "duration": 41,
    "start_time": "2025-02-24T22:52:31.943Z"
   },
   {
    "duration": 115,
    "start_time": "2025-02-24T22:52:31.985Z"
   },
   {
    "duration": 3,
    "start_time": "2025-02-24T22:52:32.101Z"
   },
   {
    "duration": 35,
    "start_time": "2025-02-24T22:52:32.105Z"
   },
   {
    "duration": 3,
    "start_time": "2025-02-24T22:52:32.142Z"
   },
   {
    "duration": 5,
    "start_time": "2025-02-24T22:52:32.147Z"
   },
   {
    "duration": 4,
    "start_time": "2025-02-24T22:52:32.153Z"
   },
   {
    "duration": 7,
    "start_time": "2025-02-24T22:52:32.158Z"
   },
   {
    "duration": 4,
    "start_time": "2025-02-24T22:52:32.167Z"
   },
   {
    "duration": 9,
    "start_time": "2025-02-24T22:52:32.173Z"
   },
   {
    "duration": 4,
    "start_time": "2025-02-24T22:52:32.184Z"
   },
   {
    "duration": 86,
    "start_time": "2025-02-24T22:52:32.190Z"
   },
   {
    "duration": 131,
    "start_time": "2025-02-24T22:52:32.278Z"
   },
   {
    "duration": 2,
    "start_time": "2025-02-24T22:52:32.411Z"
   },
   {
    "duration": 40,
    "start_time": "2025-02-24T22:52:32.414Z"
   },
   {
    "duration": 3,
    "start_time": "2025-02-24T22:52:32.455Z"
   },
   {
    "duration": 5,
    "start_time": "2025-02-24T22:52:32.460Z"
   },
   {
    "duration": 17,
    "start_time": "2025-02-24T22:52:32.467Z"
   },
   {
    "duration": 74,
    "start_time": "2025-02-24T22:52:32.485Z"
   },
   {
    "duration": 2,
    "start_time": "2025-02-24T22:52:32.561Z"
   },
   {
    "duration": 10,
    "start_time": "2025-02-24T22:52:32.565Z"
   },
   {
    "duration": 4,
    "start_time": "2025-02-24T22:52:32.578Z"
   },
   {
    "duration": 4,
    "start_time": "2025-02-24T22:52:32.583Z"
   },
   {
    "duration": 68,
    "start_time": "2025-02-24T22:52:32.589Z"
   },
   {
    "duration": 5,
    "start_time": "2025-02-24T22:52:32.659Z"
   },
   {
    "duration": 45,
    "start_time": "2025-02-24T22:52:32.666Z"
   },
   {
    "duration": 26,
    "start_time": "2025-02-24T22:52:32.712Z"
   },
   {
    "duration": 2,
    "start_time": "2025-02-24T22:52:32.739Z"
   },
   {
    "duration": 80888,
    "start_time": "2025-02-24T22:52:32.743Z"
   },
   {
    "duration": 332,
    "start_time": "2025-02-24T22:53:53.634Z"
   },
   {
    "duration": 18,
    "start_time": "2025-02-24T22:53:53.968Z"
   },
   {
    "duration": 4,
    "start_time": "2025-02-24T22:53:53.988Z"
   },
   {
    "duration": 3,
    "start_time": "2025-02-24T22:53:53.993Z"
   },
   {
    "duration": 332,
    "start_time": "2025-02-24T22:56:42.252Z"
   },
   {
    "duration": 15,
    "start_time": "2025-02-24T22:56:42.586Z"
   },
   {
    "duration": 15,
    "start_time": "2025-02-24T22:56:42.603Z"
   },
   {
    "duration": 3,
    "start_time": "2025-02-24T22:56:42.631Z"
   },
   {
    "duration": 16,
    "start_time": "2025-02-24T22:56:42.637Z"
   },
   {
    "duration": 30,
    "start_time": "2025-02-24T22:56:42.654Z"
   },
   {
    "duration": 8,
    "start_time": "2025-02-24T22:56:42.685Z"
   },
   {
    "duration": 6,
    "start_time": "2025-02-24T22:56:42.694Z"
   },
   {
    "duration": 34,
    "start_time": "2025-02-24T22:56:42.701Z"
   },
   {
    "duration": 132,
    "start_time": "2025-02-24T22:56:42.737Z"
   },
   {
    "duration": 133,
    "start_time": "2025-02-24T22:56:42.872Z"
   },
   {
    "duration": 1240,
    "start_time": "2025-02-24T22:56:43.007Z"
   },
   {
    "duration": 4,
    "start_time": "2025-02-24T22:56:44.249Z"
   },
   {
    "duration": 2,
    "start_time": "2025-02-24T22:56:44.257Z"
   },
   {
    "duration": 491,
    "start_time": "2025-02-24T22:56:44.260Z"
   },
   {
    "duration": 6,
    "start_time": "2025-02-24T22:56:44.753Z"
   },
   {
    "duration": 4,
    "start_time": "2025-02-24T22:56:44.761Z"
   },
   {
    "duration": 3,
    "start_time": "2025-02-24T22:56:44.767Z"
   },
   {
    "duration": 4,
    "start_time": "2025-02-24T22:56:44.772Z"
   },
   {
    "duration": 6,
    "start_time": "2025-02-24T22:56:44.777Z"
   },
   {
    "duration": 4,
    "start_time": "2025-02-24T22:56:44.785Z"
   },
   {
    "duration": 4,
    "start_time": "2025-02-24T22:56:44.791Z"
   },
   {
    "duration": 3,
    "start_time": "2025-02-24T22:56:44.830Z"
   },
   {
    "duration": 15,
    "start_time": "2025-02-24T22:56:44.834Z"
   },
   {
    "duration": 20,
    "start_time": "2025-02-24T22:56:44.850Z"
   },
   {
    "duration": 2,
    "start_time": "2025-02-24T22:56:44.872Z"
   },
   {
    "duration": 10,
    "start_time": "2025-02-24T22:56:44.876Z"
   },
   {
    "duration": 4,
    "start_time": "2025-02-24T22:56:44.888Z"
   },
   {
    "duration": 44,
    "start_time": "2025-02-24T22:56:44.894Z"
   },
   {
    "duration": 5,
    "start_time": "2025-02-24T22:56:44.939Z"
   },
   {
    "duration": 15,
    "start_time": "2025-02-24T22:56:44.945Z"
   },
   {
    "duration": 3,
    "start_time": "2025-02-24T22:56:44.961Z"
   },
   {
    "duration": 13,
    "start_time": "2025-02-24T22:56:44.966Z"
   },
   {
    "duration": 7,
    "start_time": "2025-02-24T22:56:44.981Z"
   },
   {
    "duration": 42,
    "start_time": "2025-02-24T22:56:44.991Z"
   },
   {
    "duration": 3,
    "start_time": "2025-02-24T22:56:45.035Z"
   },
   {
    "duration": 3,
    "start_time": "2025-02-24T22:56:45.040Z"
   },
   {
    "duration": 5,
    "start_time": "2025-02-24T22:56:45.045Z"
   },
   {
    "duration": 82,
    "start_time": "2025-02-24T22:56:45.053Z"
   },
   {
    "duration": 2,
    "start_time": "2025-02-24T22:56:45.139Z"
   },
   {
    "duration": 109,
    "start_time": "2025-02-24T22:56:45.151Z"
   },
   {
    "duration": 4,
    "start_time": "2025-02-24T22:56:45.262Z"
   },
   {
    "duration": 5,
    "start_time": "2025-02-24T22:56:45.268Z"
   },
   {
    "duration": 173,
    "start_time": "2025-02-24T22:56:45.274Z"
   },
   {
    "duration": 5,
    "start_time": "2025-02-24T22:56:45.449Z"
   },
   {
    "duration": 4,
    "start_time": "2025-02-24T22:56:45.456Z"
   },
   {
    "duration": 7,
    "start_time": "2025-02-24T22:56:45.461Z"
   },
   {
    "duration": 86,
    "start_time": "2025-02-24T22:56:45.469Z"
   },
   {
    "duration": 77,
    "start_time": "2025-02-24T22:56:45.557Z"
   },
   {
    "duration": 3,
    "start_time": "2025-02-24T22:56:45.635Z"
   },
   {
    "duration": 4,
    "start_time": "2025-02-24T22:56:45.640Z"
   },
   {
    "duration": 88,
    "start_time": "2025-02-24T22:56:45.646Z"
   },
   {
    "duration": 3,
    "start_time": "2025-02-24T22:56:45.736Z"
   },
   {
    "duration": 3,
    "start_time": "2025-02-24T22:56:45.741Z"
   },
   {
    "duration": 124,
    "start_time": "2025-02-24T22:56:45.745Z"
   },
   {
    "duration": 2,
    "start_time": "2025-02-24T22:56:45.871Z"
   },
   {
    "duration": 2,
    "start_time": "2025-02-24T22:56:45.875Z"
   },
   {
    "duration": 9,
    "start_time": "2025-02-24T22:56:45.879Z"
   },
   {
    "duration": 50,
    "start_time": "2025-02-24T22:56:45.889Z"
   },
   {
    "duration": 7,
    "start_time": "2025-02-24T22:56:45.942Z"
   },
   {
    "duration": 8,
    "start_time": "2025-02-24T22:56:45.950Z"
   },
   {
    "duration": 19,
    "start_time": "2025-02-24T22:56:45.968Z"
   },
   {
    "duration": 14,
    "start_time": "2025-02-24T22:56:45.988Z"
   },
   {
    "duration": 3,
    "start_time": "2025-02-24T22:56:46.004Z"
   },
   {
    "duration": 62,
    "start_time": "2025-02-24T22:56:46.008Z"
   },
   {
    "duration": 76,
    "start_time": "2025-02-24T22:56:46.072Z"
   },
   {
    "duration": 20,
    "start_time": "2025-02-24T22:56:46.149Z"
   },
   {
    "duration": 4,
    "start_time": "2025-02-24T22:56:46.171Z"
   },
   {
    "duration": 54,
    "start_time": "2025-02-24T22:56:46.178Z"
   },
   {
    "duration": 106,
    "start_time": "2025-02-24T22:56:46.234Z"
   },
   {
    "duration": 3,
    "start_time": "2025-02-24T22:56:46.342Z"
   },
   {
    "duration": 22,
    "start_time": "2025-02-24T22:56:46.347Z"
   },
   {
    "duration": 4,
    "start_time": "2025-02-24T22:56:46.370Z"
   },
   {
    "duration": 4,
    "start_time": "2025-02-24T22:56:46.376Z"
   },
   {
    "duration": 3,
    "start_time": "2025-02-24T22:56:46.382Z"
   },
   {
    "duration": 8,
    "start_time": "2025-02-24T22:56:46.387Z"
   },
   {
    "duration": 36,
    "start_time": "2025-02-24T22:56:46.396Z"
   },
   {
    "duration": 8,
    "start_time": "2025-02-24T22:56:46.433Z"
   },
   {
    "duration": 5,
    "start_time": "2025-02-24T22:56:46.442Z"
   },
   {
    "duration": 48,
    "start_time": "2025-02-24T22:56:46.448Z"
   },
   {
    "duration": 142,
    "start_time": "2025-02-24T22:56:46.497Z"
   },
   {
    "duration": 3,
    "start_time": "2025-02-24T22:56:46.640Z"
   },
   {
    "duration": 27,
    "start_time": "2025-02-24T22:56:46.645Z"
   },
   {
    "duration": 4,
    "start_time": "2025-02-24T22:56:46.674Z"
   },
   {
    "duration": 5,
    "start_time": "2025-02-24T22:56:46.680Z"
   },
   {
    "duration": 45,
    "start_time": "2025-02-24T22:56:46.688Z"
   },
   {
    "duration": 50,
    "start_time": "2025-02-24T22:56:46.734Z"
   },
   {
    "duration": 3,
    "start_time": "2025-02-24T22:56:46.785Z"
   },
   {
    "duration": 11,
    "start_time": "2025-02-24T22:56:46.789Z"
   },
   {
    "duration": 3,
    "start_time": "2025-02-24T22:56:46.801Z"
   },
   {
    "duration": 25,
    "start_time": "2025-02-24T22:56:46.806Z"
   },
   {
    "duration": 44,
    "start_time": "2025-02-24T22:56:46.833Z"
   },
   {
    "duration": 4,
    "start_time": "2025-02-24T22:56:46.880Z"
   },
   {
    "duration": 62,
    "start_time": "2025-02-24T22:56:46.886Z"
   },
   {
    "duration": 8,
    "start_time": "2025-02-24T22:56:46.950Z"
   },
   {
    "duration": 2,
    "start_time": "2025-02-24T22:56:46.960Z"
   },
   {
    "duration": 80945,
    "start_time": "2025-02-24T22:56:46.965Z"
   },
   {
    "duration": 348,
    "start_time": "2025-02-24T22:58:07.912Z"
   },
   {
    "duration": 18,
    "start_time": "2025-02-24T22:58:08.261Z"
   },
   {
    "duration": 4,
    "start_time": "2025-02-24T22:58:08.280Z"
   },
   {
    "duration": 2,
    "start_time": "2025-02-24T22:58:08.286Z"
   },
   {
    "duration": 207283,
    "start_time": "2025-02-24T22:58:08.291Z"
   },
   {
    "duration": 1265,
    "start_time": "2025-02-24T23:01:35.576Z"
   },
   {
    "duration": 53,
    "start_time": "2025-02-24T23:01:36.843Z"
   },
   {
    "duration": 5,
    "start_time": "2025-02-24T23:01:36.897Z"
   },
   {
    "duration": 113841,
    "start_time": "2025-02-24T23:01:36.903Z"
   },
   {
    "duration": 1017,
    "start_time": "2025-02-24T23:03:30.747Z"
   },
   {
    "duration": 35,
    "start_time": "2025-02-24T23:03:31.766Z"
   },
   {
    "duration": 5,
    "start_time": "2025-02-24T23:03:31.804Z"
   },
   {
    "duration": 116125,
    "start_time": "2025-02-24T23:03:31.811Z"
   },
   {
    "duration": 371,
    "start_time": "2025-02-24T23:05:27.939Z"
   },
   {
    "duration": 36,
    "start_time": "2025-02-24T23:05:28.312Z"
   },
   {
    "duration": 6,
    "start_time": "2025-02-24T23:05:28.351Z"
   },
   {
    "duration": 341,
    "start_time": "2025-02-24T23:05:28.358Z"
   },
   {
    "duration": 18,
    "start_time": "2025-02-24T23:05:28.701Z"
   },
   {
    "duration": 53,
    "start_time": "2025-02-24T23:05:28.721Z"
   },
   {
    "duration": 5,
    "start_time": "2025-02-24T23:05:28.778Z"
   },
   {
    "duration": 164,
    "start_time": "2025-02-24T23:05:28.786Z"
   },
   {
    "duration": 57,
    "start_time": "2025-02-24T23:05:28.954Z"
   },
   {
    "duration": 63,
    "start_time": "2025-02-24T23:05:29.013Z"
   },
   {
    "duration": 4,
    "start_time": "2025-02-24T23:05:29.078Z"
   },
   {
    "duration": 4,
    "start_time": "2025-02-24T23:05:29.092Z"
   },
   {
    "duration": 2,
    "start_time": "2025-02-24T23:05:29.098Z"
   },
   {
    "duration": 4,
    "start_time": "2025-02-24T23:05:29.102Z"
   },
   {
    "duration": 3,
    "start_time": "2025-02-24T23:05:29.132Z"
   },
   {
    "duration": 114,
    "start_time": "2025-02-24T23:05:29.137Z"
   }
  ],
  "kernelspec": {
   "display_name": "Python 3 (ipykernel)",
   "language": "python",
   "name": "python3"
  },
  "language_info": {
   "codemirror_mode": {
    "name": "ipython",
    "version": 3
   },
   "file_extension": ".py",
   "mimetype": "text/x-python",
   "name": "python",
   "nbconvert_exporter": "python",
   "pygments_lexer": "ipython3",
   "version": "3.9.19"
  },
  "toc": {
   "base_numbering": 1,
   "nav_menu": {},
   "number_sections": true,
   "sideBar": true,
   "skip_h1_title": true,
   "title_cell": "Table of Contents",
   "title_sidebar": "Contents",
   "toc_cell": false,
   "toc_position": {},
   "toc_section_display": true,
   "toc_window_display": false
  }
 },
 "nbformat": 4,
 "nbformat_minor": 2
}
