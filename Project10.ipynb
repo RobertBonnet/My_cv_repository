{
 "cells": [
  {
   "cell_type": "markdown",
   "metadata": {},
   "source": [
    "<div class=\"alert alert-block alert-success\">\n",
    "<b>Comentario general del revisor</b> <a class=\"tocSkip\"></a><br />\n",
    "Status del proyecto: <b>Aprobado</b>\n",
    "</div>\n"
   ]
  },
  {
   "cell_type": "markdown",
   "metadata": {},
   "source": [
    "¡Hola!<br />\n",
    "Soy **Francisco Cortés**, estoy contento de revisar tu proyecto y ser parte de tu proceso de aprendizaje.\n",
    "A lo largo del texto, haré algunas observaciones sobre mejoras en el código y también haré comentarios sobre tus percepciones sobre el tema. Si existe algún error en el código, no te preocupes, estoy aquí para ayudarte a mejorarlo, en la primera iteración te lo señalaré para que tengas la oportunidad de corregirlo, pero si aún no encuentras una solución para esta tarea, te daré una pista más precisa en la próxima iteración y también algunos ejemplos prácticos. Estaré abierto a retroalimentación y discusiones sobre el tema.<br />\n",
    "Encontrarás mis comentarios a continuación - **por favor no los muevas, modifiques o borres**.\n",
    "Revisaré cuidadosamente tu código para comprobar que se han cumplido con los requisitos y te proporcionaré mis comentarios en cajas verdes, amarillas o rojas como esta:\n",
    "\n",
    "<div class=\"alert alert-block alert-success\">\n",
    "<b>Comentario del revisor</b> <a class=\"tocSkip\"></a>\n",
    "\n",
    "Si la ejecución fue perfecta succesfully.\n",
    "</div>\n",
    "\n",
    "<div class=\"alert alert-block alert-warning\">\n",
    "<b>Comentario del revisor</b> <a class=\"tocSkip\"></a>\n",
    "\n",
    "Si existe alguna recomendación para que tu código mejore.\n",
    "</div>\n",
    "\n",
    "<div class=\"alert alert-block alert-danger\">\n",
    "\n",
    "<b>Comentario del revisor</b> <a class=\"tocSkip\"></a>\n",
    "\n",
    "Si existen correcciones necesarias para cumplir con los requisitos. El trabajo no puede ser aceptado si hay alguna caja roja.\n",
    "</div>\n",
    "\n",
    "Puedes responderme de la siguiente manera:\n",
    "\n",
    "<div class=\"alert alert-block alert-info\">\n",
    "<b>Respuesta del estudiante.</b> <a class=\"tocSkip\"></a>\n",
    "</div>"
   ]
  },
  {
   "cell_type": "code",
   "execution_count": 1,
   "metadata": {},
   "outputs": [],
   "source": [
    "import pandas as pd #Import library to manage DataFrames"
   ]
  },
  {
   "cell_type": "code",
   "execution_count": 2,
   "metadata": {},
   "outputs": [],
   "source": [
    "df_1 = pd.read_csv('/datasets/geo_data_0.csv') #Read and assign region 1 to a DF\n",
    "df_2 = pd.read_csv('/datasets/geo_data_1.csv') #Read and assign region 2 to a DF\n",
    "df_3 = pd.read_csv('/datasets/geo_data_2.csv') #Read and assign region 3 to a DF"
   ]
  },
  {
   "cell_type": "markdown",
   "metadata": {},
   "source": [
    "# Exploratory Analysis"
   ]
  },
  {
   "cell_type": "code",
   "execution_count": 3,
   "metadata": {},
   "outputs": [
    {
     "name": "stdout",
     "output_type": "stream",
     "text": [
      "<class 'pandas.core.frame.DataFrame'>\n",
      "RangeIndex: 100000 entries, 0 to 99999\n",
      "Data columns (total 5 columns):\n",
      " #   Column   Non-Null Count   Dtype  \n",
      "---  ------   --------------   -----  \n",
      " 0   id       100000 non-null  object \n",
      " 1   f0       100000 non-null  float64\n",
      " 2   f1       100000 non-null  float64\n",
      " 3   f2       100000 non-null  float64\n",
      " 4   product  100000 non-null  float64\n",
      "dtypes: float64(4), object(1)\n",
      "memory usage: 3.8+ MB\n"
     ]
    }
   ],
   "source": [
    "df_1.info()"
   ]
  },
  {
   "cell_type": "code",
   "execution_count": 4,
   "metadata": {},
   "outputs": [
    {
     "data": {
      "text/html": [
       "<div>\n",
       "<style scoped>\n",
       "    .dataframe tbody tr th:only-of-type {\n",
       "        vertical-align: middle;\n",
       "    }\n",
       "\n",
       "    .dataframe tbody tr th {\n",
       "        vertical-align: top;\n",
       "    }\n",
       "\n",
       "    .dataframe thead th {\n",
       "        text-align: right;\n",
       "    }\n",
       "</style>\n",
       "<table border=\"1\" class=\"dataframe\">\n",
       "  <thead>\n",
       "    <tr style=\"text-align: right;\">\n",
       "      <th></th>\n",
       "      <th>f0</th>\n",
       "      <th>f1</th>\n",
       "      <th>f2</th>\n",
       "      <th>product</th>\n",
       "    </tr>\n",
       "  </thead>\n",
       "  <tbody>\n",
       "    <tr>\n",
       "      <th>count</th>\n",
       "      <td>100000.000000</td>\n",
       "      <td>100000.000000</td>\n",
       "      <td>100000.000000</td>\n",
       "      <td>100000.000000</td>\n",
       "    </tr>\n",
       "    <tr>\n",
       "      <th>mean</th>\n",
       "      <td>0.500419</td>\n",
       "      <td>0.250143</td>\n",
       "      <td>2.502647</td>\n",
       "      <td>92.500000</td>\n",
       "    </tr>\n",
       "    <tr>\n",
       "      <th>std</th>\n",
       "      <td>0.871832</td>\n",
       "      <td>0.504433</td>\n",
       "      <td>3.248248</td>\n",
       "      <td>44.288691</td>\n",
       "    </tr>\n",
       "    <tr>\n",
       "      <th>min</th>\n",
       "      <td>-1.408605</td>\n",
       "      <td>-0.848218</td>\n",
       "      <td>-12.088328</td>\n",
       "      <td>0.000000</td>\n",
       "    </tr>\n",
       "    <tr>\n",
       "      <th>25%</th>\n",
       "      <td>-0.072580</td>\n",
       "      <td>-0.200881</td>\n",
       "      <td>0.287748</td>\n",
       "      <td>56.497507</td>\n",
       "    </tr>\n",
       "    <tr>\n",
       "      <th>50%</th>\n",
       "      <td>0.502360</td>\n",
       "      <td>0.250252</td>\n",
       "      <td>2.515969</td>\n",
       "      <td>91.849972</td>\n",
       "    </tr>\n",
       "    <tr>\n",
       "      <th>75%</th>\n",
       "      <td>1.073581</td>\n",
       "      <td>0.700646</td>\n",
       "      <td>4.715088</td>\n",
       "      <td>128.564089</td>\n",
       "    </tr>\n",
       "    <tr>\n",
       "      <th>max</th>\n",
       "      <td>2.362331</td>\n",
       "      <td>1.343769</td>\n",
       "      <td>16.003790</td>\n",
       "      <td>185.364347</td>\n",
       "    </tr>\n",
       "  </tbody>\n",
       "</table>\n",
       "</div>"
      ],
      "text/plain": [
       "                  f0             f1             f2        product\n",
       "count  100000.000000  100000.000000  100000.000000  100000.000000\n",
       "mean        0.500419       0.250143       2.502647      92.500000\n",
       "std         0.871832       0.504433       3.248248      44.288691\n",
       "min        -1.408605      -0.848218     -12.088328       0.000000\n",
       "25%        -0.072580      -0.200881       0.287748      56.497507\n",
       "50%         0.502360       0.250252       2.515969      91.849972\n",
       "75%         1.073581       0.700646       4.715088     128.564089\n",
       "max         2.362331       1.343769      16.003790     185.364347"
      ]
     },
     "execution_count": 4,
     "metadata": {},
     "output_type": "execute_result"
    }
   ],
   "source": [
    "df_1.describe()"
   ]
  },
  {
   "cell_type": "code",
   "execution_count": 5,
   "metadata": {},
   "outputs": [
    {
     "name": "stdout",
     "output_type": "stream",
     "text": [
      "<class 'pandas.core.frame.DataFrame'>\n",
      "RangeIndex: 100000 entries, 0 to 99999\n",
      "Data columns (total 5 columns):\n",
      " #   Column   Non-Null Count   Dtype  \n",
      "---  ------   --------------   -----  \n",
      " 0   id       100000 non-null  object \n",
      " 1   f0       100000 non-null  float64\n",
      " 2   f1       100000 non-null  float64\n",
      " 3   f2       100000 non-null  float64\n",
      " 4   product  100000 non-null  float64\n",
      "dtypes: float64(4), object(1)\n",
      "memory usage: 3.8+ MB\n"
     ]
    }
   ],
   "source": [
    "df_2.info()"
   ]
  },
  {
   "cell_type": "code",
   "execution_count": 6,
   "metadata": {},
   "outputs": [
    {
     "data": {
      "text/html": [
       "<div>\n",
       "<style scoped>\n",
       "    .dataframe tbody tr th:only-of-type {\n",
       "        vertical-align: middle;\n",
       "    }\n",
       "\n",
       "    .dataframe tbody tr th {\n",
       "        vertical-align: top;\n",
       "    }\n",
       "\n",
       "    .dataframe thead th {\n",
       "        text-align: right;\n",
       "    }\n",
       "</style>\n",
       "<table border=\"1\" class=\"dataframe\">\n",
       "  <thead>\n",
       "    <tr style=\"text-align: right;\">\n",
       "      <th></th>\n",
       "      <th>f0</th>\n",
       "      <th>f1</th>\n",
       "      <th>f2</th>\n",
       "      <th>product</th>\n",
       "    </tr>\n",
       "  </thead>\n",
       "  <tbody>\n",
       "    <tr>\n",
       "      <th>count</th>\n",
       "      <td>100000.000000</td>\n",
       "      <td>100000.000000</td>\n",
       "      <td>100000.000000</td>\n",
       "      <td>100000.000000</td>\n",
       "    </tr>\n",
       "    <tr>\n",
       "      <th>mean</th>\n",
       "      <td>1.141296</td>\n",
       "      <td>-4.796579</td>\n",
       "      <td>2.494541</td>\n",
       "      <td>68.825000</td>\n",
       "    </tr>\n",
       "    <tr>\n",
       "      <th>std</th>\n",
       "      <td>8.965932</td>\n",
       "      <td>5.119872</td>\n",
       "      <td>1.703572</td>\n",
       "      <td>45.944423</td>\n",
       "    </tr>\n",
       "    <tr>\n",
       "      <th>min</th>\n",
       "      <td>-31.609576</td>\n",
       "      <td>-26.358598</td>\n",
       "      <td>-0.018144</td>\n",
       "      <td>0.000000</td>\n",
       "    </tr>\n",
       "    <tr>\n",
       "      <th>25%</th>\n",
       "      <td>-6.298551</td>\n",
       "      <td>-8.267985</td>\n",
       "      <td>1.000021</td>\n",
       "      <td>26.953261</td>\n",
       "    </tr>\n",
       "    <tr>\n",
       "      <th>50%</th>\n",
       "      <td>1.153055</td>\n",
       "      <td>-4.813172</td>\n",
       "      <td>2.011479</td>\n",
       "      <td>57.085625</td>\n",
       "    </tr>\n",
       "    <tr>\n",
       "      <th>75%</th>\n",
       "      <td>8.621015</td>\n",
       "      <td>-1.332816</td>\n",
       "      <td>3.999904</td>\n",
       "      <td>107.813044</td>\n",
       "    </tr>\n",
       "    <tr>\n",
       "      <th>max</th>\n",
       "      <td>29.421755</td>\n",
       "      <td>18.734063</td>\n",
       "      <td>5.019721</td>\n",
       "      <td>137.945408</td>\n",
       "    </tr>\n",
       "  </tbody>\n",
       "</table>\n",
       "</div>"
      ],
      "text/plain": [
       "                  f0             f1             f2        product\n",
       "count  100000.000000  100000.000000  100000.000000  100000.000000\n",
       "mean        1.141296      -4.796579       2.494541      68.825000\n",
       "std         8.965932       5.119872       1.703572      45.944423\n",
       "min       -31.609576     -26.358598      -0.018144       0.000000\n",
       "25%        -6.298551      -8.267985       1.000021      26.953261\n",
       "50%         1.153055      -4.813172       2.011479      57.085625\n",
       "75%         8.621015      -1.332816       3.999904     107.813044\n",
       "max        29.421755      18.734063       5.019721     137.945408"
      ]
     },
     "execution_count": 6,
     "metadata": {},
     "output_type": "execute_result"
    }
   ],
   "source": [
    "df_2.describe()"
   ]
  },
  {
   "cell_type": "code",
   "execution_count": 7,
   "metadata": {},
   "outputs": [
    {
     "name": "stdout",
     "output_type": "stream",
     "text": [
      "<class 'pandas.core.frame.DataFrame'>\n",
      "RangeIndex: 100000 entries, 0 to 99999\n",
      "Data columns (total 5 columns):\n",
      " #   Column   Non-Null Count   Dtype  \n",
      "---  ------   --------------   -----  \n",
      " 0   id       100000 non-null  object \n",
      " 1   f0       100000 non-null  float64\n",
      " 2   f1       100000 non-null  float64\n",
      " 3   f2       100000 non-null  float64\n",
      " 4   product  100000 non-null  float64\n",
      "dtypes: float64(4), object(1)\n",
      "memory usage: 3.8+ MB\n"
     ]
    }
   ],
   "source": [
    "df_3.info()"
   ]
  },
  {
   "cell_type": "code",
   "execution_count": 8,
   "metadata": {},
   "outputs": [
    {
     "data": {
      "text/html": [
       "<div>\n",
       "<style scoped>\n",
       "    .dataframe tbody tr th:only-of-type {\n",
       "        vertical-align: middle;\n",
       "    }\n",
       "\n",
       "    .dataframe tbody tr th {\n",
       "        vertical-align: top;\n",
       "    }\n",
       "\n",
       "    .dataframe thead th {\n",
       "        text-align: right;\n",
       "    }\n",
       "</style>\n",
       "<table border=\"1\" class=\"dataframe\">\n",
       "  <thead>\n",
       "    <tr style=\"text-align: right;\">\n",
       "      <th></th>\n",
       "      <th>f0</th>\n",
       "      <th>f1</th>\n",
       "      <th>f2</th>\n",
       "      <th>product</th>\n",
       "    </tr>\n",
       "  </thead>\n",
       "  <tbody>\n",
       "    <tr>\n",
       "      <th>count</th>\n",
       "      <td>100000.000000</td>\n",
       "      <td>100000.000000</td>\n",
       "      <td>100000.000000</td>\n",
       "      <td>100000.000000</td>\n",
       "    </tr>\n",
       "    <tr>\n",
       "      <th>mean</th>\n",
       "      <td>0.002023</td>\n",
       "      <td>-0.002081</td>\n",
       "      <td>2.495128</td>\n",
       "      <td>95.000000</td>\n",
       "    </tr>\n",
       "    <tr>\n",
       "      <th>std</th>\n",
       "      <td>1.732045</td>\n",
       "      <td>1.730417</td>\n",
       "      <td>3.473445</td>\n",
       "      <td>44.749921</td>\n",
       "    </tr>\n",
       "    <tr>\n",
       "      <th>min</th>\n",
       "      <td>-8.760004</td>\n",
       "      <td>-7.084020</td>\n",
       "      <td>-11.970335</td>\n",
       "      <td>0.000000</td>\n",
       "    </tr>\n",
       "    <tr>\n",
       "      <th>25%</th>\n",
       "      <td>-1.162288</td>\n",
       "      <td>-1.174820</td>\n",
       "      <td>0.130359</td>\n",
       "      <td>59.450441</td>\n",
       "    </tr>\n",
       "    <tr>\n",
       "      <th>50%</th>\n",
       "      <td>0.009424</td>\n",
       "      <td>-0.009482</td>\n",
       "      <td>2.484236</td>\n",
       "      <td>94.925613</td>\n",
       "    </tr>\n",
       "    <tr>\n",
       "      <th>75%</th>\n",
       "      <td>1.158535</td>\n",
       "      <td>1.163678</td>\n",
       "      <td>4.858794</td>\n",
       "      <td>130.595027</td>\n",
       "    </tr>\n",
       "    <tr>\n",
       "      <th>max</th>\n",
       "      <td>7.238262</td>\n",
       "      <td>7.844801</td>\n",
       "      <td>16.739402</td>\n",
       "      <td>190.029838</td>\n",
       "    </tr>\n",
       "  </tbody>\n",
       "</table>\n",
       "</div>"
      ],
      "text/plain": [
       "                  f0             f1             f2        product\n",
       "count  100000.000000  100000.000000  100000.000000  100000.000000\n",
       "mean        0.002023      -0.002081       2.495128      95.000000\n",
       "std         1.732045       1.730417       3.473445      44.749921\n",
       "min        -8.760004      -7.084020     -11.970335       0.000000\n",
       "25%        -1.162288      -1.174820       0.130359      59.450441\n",
       "50%         0.009424      -0.009482       2.484236      94.925613\n",
       "75%         1.158535       1.163678       4.858794     130.595027\n",
       "max         7.238262       7.844801      16.739402     190.029838"
      ]
     },
     "execution_count": 8,
     "metadata": {},
     "output_type": "execute_result"
    }
   ],
   "source": [
    "df_3.describe()"
   ]
  },
  {
   "cell_type": "markdown",
   "metadata": {},
   "source": [
    "<div class=\"alert alert-block alert-success\">\n",
    "<b>Comentario del revisor</b> <a class=\"tocSkip\"></a><br />\n",
    "Correcto!<br/>\n",
    "\n",
    "Buena manera de leer los datos y de hacer una revisión inicial\n",
    "</div>\n"
   ]
  },
  {
   "cell_type": "markdown",
   "metadata": {},
   "source": [
    "# Distribution of variables Analysis before the split"
   ]
  },
  {
   "cell_type": "code",
   "execution_count": 9,
   "metadata": {},
   "outputs": [],
   "source": [
    "import matplotlib.pyplot as plt #Import module to graph descriptive statistics"
   ]
  },
  {
   "cell_type": "code",
   "execution_count": 10,
   "metadata": {},
   "outputs": [
    {
     "data": {
      "image/png": "[encoded data removed]",
      "text/plain": [
       "<Figure size 1000x800 with 4 Axes>"
      ]
     },
     "metadata": {},
     "output_type": "display_data"
    }
   ],
   "source": [
    "# Make histograms for all numeric variables in df_1\n",
    "df_1.hist(figsize=(10, 8), edgecolor='black', alpha=0.7)\n",
    "\n",
    "# Design\n",
    "plt.suptitle(\"Histograms of all variables\", fontsize=16)\n",
    "plt.tight_layout()\n",
    "plt.show()"
   ]
  },
  {
   "cell_type": "code",
   "execution_count": 11,
   "metadata": {},
   "outputs": [
    {
     "data": {
      "image/png": "[encoded data removed]",
      "text/plain": [
       "<Figure size 1000x800 with 4 Axes>"
      ]
     },
     "metadata": {},
     "output_type": "display_data"
    }
   ],
   "source": [
    "# Make histograms for all numeric variables in df_2\n",
    "df_2.hist(figsize=(10, 8), edgecolor='black', alpha=0.7)\n",
    "\n",
    "# Design\n",
    "plt.suptitle(\"Histograms of all variables\", fontsize=16)\n",
    "plt.tight_layout()\n",
    "plt.show()"
   ]
  },
  {
   "cell_type": "code",
   "execution_count": 12,
   "metadata": {},
   "outputs": [
    {
     "data": {
      "image/png": "[encoded data removed]",
      "text/plain": [
       "<Figure size 1000x800 with 4 Axes>"
      ]
     },
     "metadata": {},
     "output_type": "display_data"
    }
   ],
   "source": [
    "# Make histograms for all numeric variables in df_3\n",
    "df_3.hist(figsize=(10, 8), edgecolor='black', alpha=0.7)\n",
    "\n",
    "# Design\n",
    "plt.suptitle(\"Histograms of all variables\", fontsize=16)\n",
    "plt.tight_layout()\n",
    "plt.show()"
   ]
  },
  {
   "cell_type": "markdown",
   "metadata": {},
   "source": [
    "<div class=\"alert alert-block alert-success\">\n",
    "<b>Comentario del revisor</b> <a class=\"tocSkip\"></a><br />\n",
    "Correcto!<br/>\n",
    "\n",
    "Buena manera de hacer una revisión inicial de la distribución de las variables\n",
    "</div>\n"
   ]
  },
  {
   "cell_type": "markdown",
   "metadata": {},
   "source": [
    "# Features and target split"
   ]
  },
  {
   "cell_type": "code",
   "execution_count": 13,
   "metadata": {},
   "outputs": [],
   "source": [
    "df1_features = df_1.drop(['product', 'id'], axis=1) #Getting features for df_1\n",
    "df1_target = df_1['product'] #Getting target for df_1"
   ]
  },
  {
   "cell_type": "code",
   "execution_count": 14,
   "metadata": {},
   "outputs": [],
   "source": [
    "df2_features = df_2.drop(['product', 'id'], axis=1) #Getting features for df_2\n",
    "df2_target = df_2['product'] #Getting target for df_2"
   ]
  },
  {
   "cell_type": "code",
   "execution_count": 15,
   "metadata": {},
   "outputs": [],
   "source": [
    "df3_features = df_3.drop(['product', 'id'], axis=1) #Getting features for df_3\n",
    "df3_target = df_3['product'] #Getting target for df_3"
   ]
  },
  {
   "cell_type": "code",
   "execution_count": 16,
   "metadata": {},
   "outputs": [],
   "source": [
    "from sklearn.model_selection import train_test_split\n",
    "#Import module to split dataset into training and validation sets"
   ]
  },
  {
   "cell_type": "code",
   "execution_count": 17,
   "metadata": {},
   "outputs": [],
   "source": [
    "#Split features and targets into train and valid sets\n",
    "train_features_1, valid_features_1, train_target_1, valid_target_1 = train_test_split(df1_features, df1_target, test_size=0.25, random_state=12345)\n",
    "train_features_2, valid_features_2, train_target_2, valid_target_2 = train_test_split(df2_features, df2_target, test_size=0.25, random_state=12345)\n",
    "train_features_3, valid_features_3, train_target_3, valid_target_3 = train_test_split(df3_features, df3_target, test_size=0.25, random_state=12345)"
   ]
  },
  {
   "cell_type": "markdown",
   "metadata": {},
   "source": [
    "<div class=\"alert alert-block alert-warning\">\n",
    "<b>Comentario del revisor</b> <a class=\"tocSkip\"></a><br />\n",
    "\n",
    "Este código es algo repetitivo, por lo que una función nos hubiera ayudado con la separación de los datos, además de que si queremos cambiar algún parametro después es más fácil hacerlo a través de una función que hacerlo todo por separado\n",
    "</div>\n"
   ]
  },
  {
   "cell_type": "markdown",
   "metadata": {},
   "source": [
    "# Distribution of variables after the split"
   ]
  },
  {
   "cell_type": "code",
   "execution_count": 18,
   "metadata": {},
   "outputs": [
    {
     "data": {
      "image/png": "[encoded data removed]",
      "text/plain": [
       "<Figure size 1000x800 with 4 Axes>"
      ]
     },
     "metadata": {},
     "output_type": "display_data"
    }
   ],
   "source": [
    "# Make histograms for all numeric variables in train_features_1\n",
    "train_features_1.hist(figsize=(10, 8), edgecolor='black', alpha=0.7)\n",
    "\n",
    "# Design\n",
    "plt.suptitle(\"Histograms of all variables\", fontsize=16)\n",
    "plt.tight_layout()\n",
    "plt.show()"
   ]
  },
  {
   "cell_type": "code",
   "execution_count": 19,
   "metadata": {},
   "outputs": [
    {
     "data": {
      "image/png": "[encoded data removed]",
      "text/plain": [
       "<Figure size 1000x800 with 4 Axes>"
      ]
     },
     "metadata": {},
     "output_type": "display_data"
    }
   ],
   "source": [
    "# Make histograms for all numeric variables in valid_features_1\n",
    "valid_features_1.hist(figsize=(10, 8), edgecolor='black', alpha=0.7)\n",
    "\n",
    "# Design\n",
    "plt.suptitle(\"Histograms of all variables\", fontsize=16)\n",
    "plt.tight_layout()\n",
    "plt.show()"
   ]
  },
  {
   "cell_type": "code",
   "execution_count": 20,
   "metadata": {},
   "outputs": [
    {
     "data": {
      "image/png": "[encoded data removed]",
      "text/plain": [
       "<Figure size 1000x800 with 1 Axes>"
      ]
     },
     "metadata": {},
     "output_type": "display_data"
    }
   ],
   "source": [
    "# Make a histogram for train_target_1\n",
    "train_target_1.hist(figsize=(10, 8), edgecolor='black', alpha=0.7)\n",
    "\n",
    "# Design\n",
    "plt.suptitle(\"Histogram of the product target\", fontsize=16)\n",
    "plt.tight_layout()\n",
    "plt.show()"
   ]
  },
  {
   "cell_type": "code",
   "execution_count": 21,
   "metadata": {},
   "outputs": [
    {
     "data": {
      "image/png": "[encoded data removed]",
      "text/plain": [
       "<Figure size 1000x800 with 1 Axes>"
      ]
     },
     "metadata": {},
     "output_type": "display_data"
    }
   ],
   "source": [
    "# Make a histogram for valid_target_1\n",
    "valid_target_1.hist(figsize=(10, 8), edgecolor='black', alpha=0.7)\n",
    "\n",
    "# Design\n",
    "plt.suptitle(\"Histogram of the product target\", fontsize=16)\n",
    "plt.tight_layout()\n",
    "plt.show()"
   ]
  },
  {
   "cell_type": "code",
   "execution_count": 22,
   "metadata": {},
   "outputs": [
    {
     "data": {
      "image/png": "[encoded data removed]",
      "text/plain": [
       "<Figure size 1000x800 with 4 Axes>"
      ]
     },
     "metadata": {},
     "output_type": "display_data"
    }
   ],
   "source": [
    "# Make histograms for all numeric variables in train_features_2\n",
    "train_features_2.hist(figsize=(10, 8), edgecolor='black', alpha=0.7)\n",
    "\n",
    "# Design\n",
    "plt.suptitle(\"Histograms of all variables\", fontsize=16)\n",
    "plt.tight_layout()\n",
    "plt.show()"
   ]
  },
  {
   "cell_type": "code",
   "execution_count": 23,
   "metadata": {},
   "outputs": [
    {
     "data": {
      "image/png": "[encoded data removed]",
      "text/plain": [
       "<Figure size 1000x800 with 4 Axes>"
      ]
     },
     "metadata": {},
     "output_type": "display_data"
    }
   ],
   "source": [
    "# Make histograms for all numeric variables in valid_features_2\n",
    "valid_features_2.hist(figsize=(10, 8), edgecolor='black', alpha=0.7)\n",
    "\n",
    "# Design\n",
    "plt.suptitle(\"Histograms of all variables\", fontsize=16)\n",
    "plt.tight_layout()\n",
    "plt.show()"
   ]
  },
  {
   "cell_type": "code",
   "execution_count": 24,
   "metadata": {},
   "outputs": [
    {
     "data": {
      "image/png": "[encoded data removed]",
      "text/plain": [
       "<Figure size 1000x800 with 1 Axes>"
      ]
     },
     "metadata": {},
     "output_type": "display_data"
    }
   ],
   "source": [
    "# Make a histogram in train_target_2\n",
    "train_target_2.hist(figsize=(10, 8), edgecolor='black', alpha=0.7)\n",
    "\n",
    "# Design\n",
    "plt.suptitle(\"Histogram of the product target\", fontsize=16)\n",
    "plt.tight_layout()\n",
    "plt.show()"
   ]
  },
  {
   "cell_type": "code",
   "execution_count": 25,
   "metadata": {},
   "outputs": [
    {
     "data": {
      "image/png": "[encoded data removed]",
      "text/plain": [
       "<Figure size 1000x800 with 1 Axes>"
      ]
     },
     "metadata": {},
     "output_type": "display_data"
    }
   ],
   "source": [
    "# Make a histogram in valid_target_2\n",
    "valid_target_2.hist(figsize=(10, 8), edgecolor='black', alpha=0.7)\n",
    "\n",
    "# Design\n",
    "plt.suptitle(\"Histogram of the product target\", fontsize=16)\n",
    "plt.tight_layout()\n",
    "plt.show()"
   ]
  },
  {
   "cell_type": "code",
   "execution_count": 26,
   "metadata": {},
   "outputs": [
    {
     "data": {
      "image/png": "[encoded data removed]",
      "text/plain": [
       "<Figure size 1000x800 with 4 Axes>"
      ]
     },
     "metadata": {},
     "output_type": "display_data"
    }
   ],
   "source": [
    "# Make histograms for all numeric variables in train_features_3\n",
    "train_features_3.hist(figsize=(10, 8), edgecolor='black', alpha=0.7)\n",
    "\n",
    "# Design\n",
    "plt.suptitle(\"Histograms of all variables\", fontsize=16)\n",
    "plt.tight_layout()\n",
    "plt.show()"
   ]
  },
  {
   "cell_type": "code",
   "execution_count": 27,
   "metadata": {},
   "outputs": [
    {
     "data": {
      "image/png": "[encoded data removed]",
      "text/plain": [
       "<Figure size 1000x800 with 4 Axes>"
      ]
     },
     "metadata": {},
     "output_type": "display_data"
    }
   ],
   "source": [
    "# Make histograms for all numeric variables in valid_features_3\n",
    "valid_features_3.hist(figsize=(10, 8), edgecolor='black', alpha=0.7)\n",
    "\n",
    "# Design\n",
    "plt.suptitle(\"Histograms of all variables\", fontsize=16)\n",
    "plt.tight_layout()\n",
    "plt.show()"
   ]
  },
  {
   "cell_type": "code",
   "execution_count": 28,
   "metadata": {},
   "outputs": [
    {
     "data": {
      "image/png": "[encoded data removed]",
      "text/plain": [
       "<Figure size 1000x800 with 1 Axes>"
      ]
     },
     "metadata": {},
     "output_type": "display_data"
    }
   ],
   "source": [
    "# Make a histogram in train_target_3\n",
    "train_target_3.hist(figsize=(10, 8), edgecolor='black', alpha=0.7)\n",
    "\n",
    "# Design\n",
    "plt.suptitle(\"Histogram of the product target\", fontsize=16)\n",
    "plt.tight_layout()\n",
    "plt.show()"
   ]
  },
  {
   "cell_type": "code",
   "execution_count": 29,
   "metadata": {},
   "outputs": [
    {
     "data": {
      "image/png": "[encoded data removed]",
      "text/plain": [
       "<Figure size 1000x800 with 1 Axes>"
      ]
     },
     "metadata": {},
     "output_type": "display_data"
    }
   ],
   "source": [
    "# Make a histogram in valid_target_3\n",
    "valid_target_3.hist(figsize=(10, 8), edgecolor='black', alpha=0.7)\n",
    "\n",
    "# Design\n",
    "plt.suptitle(\"Histogram of the product target\", fontsize=16)\n",
    "plt.tight_layout()\n",
    "plt.show()"
   ]
  },
  {
   "cell_type": "markdown",
   "metadata": {},
   "source": [
    "The distribution of the features and target variables are similar among the train and valid sets after the split"
   ]
  },
  {
   "cell_type": "markdown",
   "metadata": {},
   "source": [
    "<div class=\"alert alert-block alert-success\">\n",
    "<b>Comentario del revisor</b> <a class=\"tocSkip\"></a><br />\n",
    "\n",
    "Buena manera de mostrar los resultados después de la separación de los datos\n",
    "</div>\n"
   ]
  },
  {
   "cell_type": "markdown",
   "metadata": {},
   "source": [
    "<div class=\"alert alert-block alert-warning\">\n",
    "<b>Comentario del revisor</b> <a class=\"tocSkip\"></a><br />\n",
    "Recomiendo limitar el tamaño de las graficas para que todas aparezcan de una manera estandarizada y no consuman tanto tamaño en la pantalla, de esta manera será más fácil visualizarlas\n",
    "</div>\n"
   ]
  },
  {
   "cell_type": "code",
   "execution_count": 31,
   "metadata": {},
   "outputs": [
    {
     "name": "stdout",
     "output_type": "stream",
     "text": [
      "(75000, 3)\n",
      "(75000,)\n",
      "(25000, 3)\n",
      "(25000,)\n",
      "(75000, 3)\n",
      "(75000,)\n",
      "(25000, 3)\n",
      "(25000,)\n",
      "(75000, 3)\n",
      "(75000,)\n",
      "(25000, 3)\n",
      "(25000,)\n"
     ]
    }
   ],
   "source": [
    "#Verification of the split size\n",
    "print(train_features_1.shape)\n",
    "print(train_target_1.shape)\n",
    "print(valid_features_1.shape)\n",
    "print(valid_target_1.shape)\n",
    "print(train_features_2.shape)\n",
    "print(train_target_2.shape)\n",
    "print(valid_features_2.shape)\n",
    "print(valid_target_2.shape)\n",
    "print(train_features_3.shape)\n",
    "print(train_target_3.shape)\n",
    "print(valid_features_3.shape)\n",
    "print(valid_target_3.shape)"
   ]
  },
  {
   "cell_type": "markdown",
   "metadata": {},
   "source": [
    "# ML model training and prediction metrics for dataset 1"
   ]
  },
  {
   "cell_type": "code",
   "execution_count": 32,
   "metadata": {},
   "outputs": [],
   "source": [
    "from sklearn.linear_model import LinearRegression #Import Linear Regression model builder"
   ]
  },
  {
   "cell_type": "code",
   "execution_count": 33,
   "metadata": {},
   "outputs": [],
   "source": [
    "model_1 = LinearRegression() #Define the model type"
   ]
  },
  {
   "cell_type": "code",
   "execution_count": 34,
   "metadata": {},
   "outputs": [
    {
     "data": {
      "text/plain": [
       "LinearRegression()"
      ]
     },
     "execution_count": 34,
     "metadata": {},
     "output_type": "execute_result"
    }
   ],
   "source": [
    "model_1.fit(train_features_1, train_target_1) #Train the model"
   ]
  },
  {
   "cell_type": "code",
   "execution_count": 35,
   "metadata": {},
   "outputs": [],
   "source": [
    "train_predictions_1 = model_1.predict(train_features_1) #Train predictions"
   ]
  },
  {
   "cell_type": "code",
   "execution_count": 36,
   "metadata": {},
   "outputs": [],
   "source": [
    "valid_predictions_1 = model_1.predict(valid_features_1) #Valid predictions"
   ]
  },
  {
   "cell_type": "code",
   "execution_count": 37,
   "metadata": {},
   "outputs": [
    {
     "data": {
      "text/plain": [
       "92.64046775305692"
      ]
     },
     "execution_count": 37,
     "metadata": {},
     "output_type": "execute_result"
    }
   ],
   "source": [
    "train_target_1.mean() #Product mean of the train set"
   ]
  },
  {
   "cell_type": "code",
   "execution_count": 38,
   "metadata": {},
   "outputs": [
    {
     "data": {
      "text/plain": [
       "92.07859674082927"
      ]
     },
     "execution_count": 38,
     "metadata": {},
     "output_type": "execute_result"
    }
   ],
   "source": [
    "valid_target_1.mean() #Product mean of the valid set"
   ]
  },
  {
   "cell_type": "code",
   "execution_count": 39,
   "metadata": {},
   "outputs": [],
   "source": [
    "from sklearn.metrics import mean_squared_error #Import module to calculate MSE"
   ]
  },
  {
   "cell_type": "code",
   "execution_count": 40,
   "metadata": {},
   "outputs": [
    {
     "data": {
      "text/plain": [
       "1423.5523113396391"
      ]
     },
     "execution_count": 40,
     "metadata": {},
     "output_type": "execute_result"
    }
   ],
   "source": [
    "mean_squared_error(train_target_1, train_predictions_1) #Train MSE"
   ]
  },
  {
   "cell_type": "code",
   "execution_count": 41,
   "metadata": {},
   "outputs": [
    {
     "data": {
      "text/plain": [
       "37.72999219904026"
      ]
     },
     "execution_count": 41,
     "metadata": {},
     "output_type": "execute_result"
    }
   ],
   "source": [
    "mean_squared_error(train_target_1, train_predictions_1, squared=False) #Train RMSE"
   ]
  },
  {
   "cell_type": "code",
   "execution_count": 42,
   "metadata": {},
   "outputs": [
    {
     "data": {
      "text/plain": [
       "1412.2129364399243"
      ]
     },
     "execution_count": 42,
     "metadata": {},
     "output_type": "execute_result"
    }
   ],
   "source": [
    "mean_squared_error(valid_target_1, valid_predictions_1) #Valid MSE"
   ]
  },
  {
   "cell_type": "code",
   "execution_count": 43,
   "metadata": {},
   "outputs": [
    {
     "data": {
      "text/plain": [
       "37.5794217150813"
      ]
     },
     "execution_count": 43,
     "metadata": {},
     "output_type": "execute_result"
    }
   ],
   "source": [
    "mean_squared_error(valid_target_1, valid_predictions_1, squared=False) #Valid RMSE"
   ]
  },
  {
   "cell_type": "code",
   "execution_count": 44,
   "metadata": {},
   "outputs": [
    {
     "data": {
      "text/plain": [
       "0.27423906493940775"
      ]
     },
     "execution_count": 44,
     "metadata": {},
     "output_type": "execute_result"
    }
   ],
   "source": [
    "model_1.score(train_features_1, train_target_1) #Train R2"
   ]
  },
  {
   "cell_type": "code",
   "execution_count": 45,
   "metadata": {},
   "outputs": [
    {
     "data": {
      "text/plain": [
       "0.27994321524487786"
      ]
     },
     "execution_count": 45,
     "metadata": {},
     "output_type": "execute_result"
    }
   ],
   "source": [
    "model_1.score(valid_features_1, valid_target_1) #Valid R2"
   ]
  },
  {
   "cell_type": "markdown",
   "metadata": {},
   "source": [
    "The r2 shows that the model, althoug is far from being perfect (r2<1), is 28% superior than the mean to predict the target."
   ]
  },
  {
   "cell_type": "markdown",
   "metadata": {},
   "source": [
    "# ML model training and prediction metrics for dataset 2"
   ]
  },
  {
   "cell_type": "code",
   "execution_count": 46,
   "metadata": {},
   "outputs": [],
   "source": [
    "model_2 = LinearRegression() #Define the model type"
   ]
  },
  {
   "cell_type": "code",
   "execution_count": 47,
   "metadata": {},
   "outputs": [
    {
     "data": {
      "text/plain": [
       "LinearRegression()"
      ]
     },
     "execution_count": 47,
     "metadata": {},
     "output_type": "execute_result"
    }
   ],
   "source": [
    "model_2.fit(train_features_2, train_target_2) #Train the model"
   ]
  },
  {
   "cell_type": "code",
   "execution_count": 48,
   "metadata": {},
   "outputs": [],
   "source": [
    "train_predictions_2 = model_2.predict(train_features_2) #Train predictions"
   ]
  },
  {
   "cell_type": "code",
   "execution_count": 49,
   "metadata": {},
   "outputs": [],
   "source": [
    "valid_predictions_2 = model_2.predict(valid_features_2) #Valid predictions"
   ]
  },
  {
   "cell_type": "code",
   "execution_count": 50,
   "metadata": {},
   "outputs": [
    {
     "data": {
      "text/plain": [
       "68.85895465854666"
      ]
     },
     "execution_count": 50,
     "metadata": {},
     "output_type": "execute_result"
    }
   ],
   "source": [
    "train_target_2.mean() #Product mean of the train set"
   ]
  },
  {
   "cell_type": "code",
   "execution_count": 51,
   "metadata": {},
   "outputs": [
    {
     "data": {
      "text/plain": [
       "68.72313602435997"
      ]
     },
     "execution_count": 51,
     "metadata": {},
     "output_type": "execute_result"
    }
   ],
   "source": [
    "valid_target_2.mean() #Product mean of the valid set"
   ]
  },
  {
   "cell_type": "code",
   "execution_count": 52,
   "metadata": {},
   "outputs": [
    {
     "data": {
      "text/plain": [
       "0.791160576459575"
      ]
     },
     "execution_count": 52,
     "metadata": {},
     "output_type": "execute_result"
    }
   ],
   "source": [
    "mean_squared_error(train_target_2, train_predictions_2) #Train MSE"
   ]
  },
  {
   "cell_type": "code",
   "execution_count": 53,
   "metadata": {},
   "outputs": [
    {
     "data": {
      "text/plain": [
       "0.8894720773917386"
      ]
     },
     "execution_count": 53,
     "metadata": {},
     "output_type": "execute_result"
    }
   ],
   "source": [
    "mean_squared_error(train_target_2, train_predictions_2, squared=False) #Train RMSE"
   ]
  },
  {
   "cell_type": "code",
   "execution_count": 54,
   "metadata": {},
   "outputs": [
    {
     "data": {
      "text/plain": [
       "0.7976263360391157"
      ]
     },
     "execution_count": 54,
     "metadata": {},
     "output_type": "execute_result"
    }
   ],
   "source": [
    "mean_squared_error(valid_target_2, valid_predictions_2) #Valid MSE"
   ]
  },
  {
   "cell_type": "code",
   "execution_count": 55,
   "metadata": {},
   "outputs": [
    {
     "data": {
      "text/plain": [
       "0.893099286775617"
      ]
     },
     "execution_count": 55,
     "metadata": {},
     "output_type": "execute_result"
    }
   ],
   "source": [
    "mean_squared_error(valid_target_2, valid_predictions_2, squared=False) #Valid RMSE"
   ]
  },
  {
   "cell_type": "code",
   "execution_count": 56,
   "metadata": {},
   "outputs": [
    {
     "data": {
      "text/plain": [
       "0.9996247760326118"
      ]
     },
     "execution_count": 56,
     "metadata": {},
     "output_type": "execute_result"
    }
   ],
   "source": [
    "model_2.score(train_features_2, train_target_2) #Train R2"
   ]
  },
  {
   "cell_type": "code",
   "execution_count": 57,
   "metadata": {},
   "outputs": [
    {
     "data": {
      "text/plain": [
       "0.9996233978805127"
      ]
     },
     "execution_count": 57,
     "metadata": {},
     "output_type": "execute_result"
    }
   ],
   "source": [
    "model_2.score(valid_features_2, valid_target_2) #Valid R2"
   ]
  },
  {
   "cell_type": "markdown",
   "metadata": {},
   "source": [
    "The r2 shows that this model for the dataset 2 predicts the target with a 99.9% of closeness to real data."
   ]
  },
  {
   "cell_type": "markdown",
   "metadata": {},
   "source": [
    "# ML model training and prediction metrics for dataset 3"
   ]
  },
  {
   "cell_type": "code",
   "execution_count": 58,
   "metadata": {},
   "outputs": [],
   "source": [
    "model_3 = LinearRegression() #Define the model type"
   ]
  },
  {
   "cell_type": "code",
   "execution_count": 59,
   "metadata": {},
   "outputs": [
    {
     "data": {
      "text/plain": [
       "LinearRegression()"
      ]
     },
     "execution_count": 59,
     "metadata": {},
     "output_type": "execute_result"
    }
   ],
   "source": [
    "model_3.fit(train_features_3, train_target_3) #Train the model"
   ]
  },
  {
   "cell_type": "code",
   "execution_count": 60,
   "metadata": {},
   "outputs": [],
   "source": [
    "train_predictions_3 = model_3.predict(train_features_3) #Train predictions"
   ]
  },
  {
   "cell_type": "code",
   "execution_count": 61,
   "metadata": {},
   "outputs": [],
   "source": [
    "valid_predictions_3 = model_3.predict(valid_features_3) #Valid predictions"
   ]
  },
  {
   "cell_type": "code",
   "execution_count": 62,
   "metadata": {},
   "outputs": [
    {
     "data": {
      "text/plain": [
       "95.03858906371522"
      ]
     },
     "execution_count": 62,
     "metadata": {},
     "output_type": "execute_result"
    }
   ],
   "source": [
    "train_target_3.mean() #Product mean of the train set"
   ]
  },
  {
   "cell_type": "code",
   "execution_count": 63,
   "metadata": {},
   "outputs": [
    {
     "data": {
      "text/plain": [
       "94.88423280885438"
      ]
     },
     "execution_count": 63,
     "metadata": {},
     "output_type": "execute_result"
    }
   ],
   "source": [
    "valid_target_3.mean() #Product mean of the valid set"
   ]
  },
  {
   "cell_type": "code",
   "execution_count": 64,
   "metadata": {},
   "outputs": [
    {
     "data": {
      "text/plain": [
       "1605.1449123863026"
      ]
     },
     "execution_count": 64,
     "metadata": {},
     "output_type": "execute_result"
    }
   ],
   "source": [
    "mean_squared_error(train_target_3, train_predictions_3) #Train MSE"
   ]
  },
  {
   "cell_type": "code",
   "execution_count": 65,
   "metadata": {},
   "outputs": [
    {
     "data": {
      "text/plain": [
       "40.06425978832384"
      ]
     },
     "execution_count": 65,
     "metadata": {},
     "output_type": "execute_result"
    }
   ],
   "source": [
    "mean_squared_error(train_target_3, train_predictions_3, squared=False) #Train RMSE"
   ]
  },
  {
   "cell_type": "code",
   "execution_count": 66,
   "metadata": {},
   "outputs": [
    {
     "data": {
      "text/plain": [
       "1602.3775813236196"
      ]
     },
     "execution_count": 66,
     "metadata": {},
     "output_type": "execute_result"
    }
   ],
   "source": [
    "mean_squared_error(valid_target_3, valid_predictions_3) #Valid MSE"
   ]
  },
  {
   "cell_type": "code",
   "execution_count": 67,
   "metadata": {},
   "outputs": [
    {
     "data": {
      "text/plain": [
       "40.02970873393434"
      ]
     },
     "execution_count": 67,
     "metadata": {},
     "output_type": "execute_result"
    }
   ],
   "source": [
    "mean_squared_error(valid_target_3, valid_predictions_3, squared=False) #Valid RMSE"
   ]
  },
  {
   "cell_type": "code",
   "execution_count": 68,
   "metadata": {},
   "outputs": [
    {
     "data": {
      "text/plain": [
       "0.19661432867329998"
      ]
     },
     "execution_count": 68,
     "metadata": {},
     "output_type": "execute_result"
    }
   ],
   "source": [
    "model_3.score(train_features_3, train_target_3) #Train R2"
   ]
  },
  {
   "cell_type": "code",
   "execution_count": 69,
   "metadata": {},
   "outputs": [
    {
     "data": {
      "text/plain": [
       "0.20524758386040443"
      ]
     },
     "execution_count": 69,
     "metadata": {},
     "output_type": "execute_result"
    }
   ],
   "source": [
    "model_3.score(valid_features_3, valid_target_3) #Valid R2"
   ]
  },
  {
   "cell_type": "markdown",
   "metadata": {},
   "source": [
    "This R2 result shows that the model is 20% better to predict compared to the target mean value"
   ]
  },
  {
   "cell_type": "markdown",
   "metadata": {},
   "source": [
    "<div class=\"alert alert-block alert-success\">\n",
    "<b>Comentario del revisor</b> <a class=\"tocSkip\"></a><br />\n",
    "Correcto!<br/>\n",
    "\n",
    "Buena manera de entrenar los modelos con los distintos conjuntos de datos\n",
    "</div>\n"
   ]
  },
  {
   "cell_type": "markdown",
   "metadata": {},
   "source": [
    "<div class=\"alert alert-block alert-warning\">\n",
    "<b>Comentario del revisor</b> <a class=\"tocSkip\"></a><br />\n",
    "\n",
    "\n",
    "definitivamente esta es una parte donde nos podemos beneficiar mucho al crear una función para entrenar los modelos, ya que es el mismo proceso para todos los conjuntos de datos, incluso se puede incluir la separación de los datos dentro de la misma función lo que ahorra todavía más código, te dejo un ejemplo de como se pudiera ver esta función (depende de ti cuantos parametros quieras añadir para su personalización):\n",
    "    \n",
    "```\n",
    "def entrenamiento(region_data, random_state=estado):\n",
    "    \"\"\"Función para entrenar un modelo y obtener predicciones.\"\"\"\n",
    "    \n",
    "    # Convertir variables categóricas en dummies\n",
    "    region_encoded = pd.get_dummies(region_data, drop_first=True)\n",
    "    \n",
    "    # Dividir los datos en características (X) y etiquetas (y)\n",
    "    X = region_encoded.drop(columns=['product'])\n",
    "    y = region_encoded['product']\n",
    "    \n",
    "    # Dividir los datos en conjunto de entrenamiento y validación\n",
    "    X_train, X_valid, y_train, y_valid = train_test_split(X, y, test_size=0.25, random_state=estado)\n",
    "    \n",
    "    # Entrenar el modelo\n",
    "    model = LinearRegression()\n",
    "    model.fit(X_train, y_train)\n",
    "    \n",
    "    # Realizar predicciones\n",
    "    predictions = model.predict(X_valid)\n",
    "    predictions_validation = model_3.predict(valid_features_3)\n",
    "    \n",
    "    # Calcular el RMSE\n",
    "    rmse = mean_squared_error(y_valid, predictions, squared=False)\n",
    "    \n",
    "    # Volumen medio de reservas predicho\n",
    "    predicted_mean = predictions.mean()\n",
    "    \n",
    "    # Crear DataFrame con los resultados\n",
    "    resultado = pd.DataFrame({\n",
    "        'valor_prediccion': predictions,\n",
    "        'valor_real': y_valid\n",
    "    })\n",
    "    \n",
    "    return resultado, rmse, predicted_mean\n",
    "```\n",
    "</div>\n"
   ]
  },
  {
   "cell_type": "markdown",
   "metadata": {},
   "source": [
    "# Exploring area 1 production calculations"
   ]
  },
  {
   "cell_type": "code",
   "execution_count": 70,
   "metadata": {},
   "outputs": [],
   "source": [
    "import numpy as np #Import numpy library"
   ]
  },
  {
   "cell_type": "code",
   "execution_count": 71,
   "metadata": {},
   "outputs": [],
   "source": [
    "investment = 100000000"
   ]
  },
  {
   "cell_type": "code",
   "execution_count": 72,
   "metadata": {},
   "outputs": [],
   "source": [
    "income_mean_target = 500000"
   ]
  },
  {
   "cell_type": "code",
   "execution_count": 73,
   "metadata": {},
   "outputs": [],
   "source": [
    "exploring_area_1 = valid_features_1.sample(n=500, random_state=12345)\n",
    "#Sample 500 oil wells randomly from valid_features_1"
   ]
  },
  {
   "cell_type": "code",
   "execution_count": 74,
   "metadata": {},
   "outputs": [],
   "source": [
    "exploring_area_1_predictions = model_1.predict(exploring_area_1) #Predict the target"
   ]
  },
  {
   "cell_type": "code",
   "execution_count": 75,
   "metadata": {
    "scrolled": true
   },
   "outputs": [],
   "source": [
    "sorted_exploring_area_1_predictions = np.sort(exploring_area_1_predictions)[::-1]\n",
    "#Sort the values from higher to lower"
   ]
  },
  {
   "cell_type": "code",
   "execution_count": 76,
   "metadata": {},
   "outputs": [],
   "source": [
    "top_200_1 = sorted_exploring_area_1_predictions[:200]\n",
    "#Slice the top 200 best predicted values"
   ]
  },
  {
   "cell_type": "code",
   "execution_count": 77,
   "metadata": {},
   "outputs": [
    {
     "data": {
      "text/plain": [
       "23345.215322290176"
      ]
     },
     "execution_count": 77,
     "metadata": {},
     "output_type": "execute_result"
    }
   ],
   "source": [
    "top_200_1.sum()\n",
    "#Estimate the total oil barrels units in the 200 wells"
   ]
  },
  {
   "cell_type": "code",
   "execution_count": 78,
   "metadata": {},
   "outputs": [],
   "source": [
    "total_revenue_1 = top_200_1.sum() * 4500\n",
    "#Calculate the revenue for all the units in the 200 wells"
   ]
  },
  {
   "cell_type": "code",
   "execution_count": 79,
   "metadata": {},
   "outputs": [],
   "source": [
    "total_profit_1 = total_revenue_1 - investment"
   ]
  },
  {
   "cell_type": "code",
   "execution_count": 80,
   "metadata": {},
   "outputs": [],
   "source": [
    "total_profit_1_percentage = total_profit_1 * 100 / investment"
   ]
  },
  {
   "cell_type": "code",
   "execution_count": 81,
   "metadata": {},
   "outputs": [
    {
     "data": {
      "text/plain": [
       "116.72607661145088"
      ]
     },
     "execution_count": 81,
     "metadata": {},
     "output_type": "execute_result"
    }
   ],
   "source": [
    "top_200_1.mean()\n",
    "#Estimate the oil barrels units mean"
   ]
  },
  {
   "cell_type": "code",
   "execution_count": 82,
   "metadata": {},
   "outputs": [],
   "source": [
    "revenue_mean_1 = top_200_1.mean() * 4500\n",
    "#Calculate the revenue mean"
   ]
  },
  {
   "cell_type": "code",
   "execution_count": 83,
   "metadata": {},
   "outputs": [],
   "source": [
    "mean_profit_1 = revenue_mean_1 - income_mean_target"
   ]
  },
  {
   "cell_type": "code",
   "execution_count": 84,
   "metadata": {},
   "outputs": [],
   "source": [
    "mean_profit_1_percentage = mean_profit_1 * 100 / income_mean_target"
   ]
  },
  {
   "cell_type": "code",
   "execution_count": 85,
   "metadata": {},
   "outputs": [
    {
     "name": "stdout",
     "output_type": "stream",
     "text": [
      "\n",
      "The total profit for the 200 wells is 5053468.95030579,\n",
      "which represents a 5.05346895030579% of the investment\n"
     ]
    }
   ],
   "source": [
    "print(f'''\n",
    "The total profit for the 200 wells is {total_profit_1},\n",
    "which represents a {total_profit_1_percentage}% of the investment'''\n",
    "     )"
   ]
  },
  {
   "cell_type": "code",
   "execution_count": 86,
   "metadata": {},
   "outputs": [
    {
     "name": "stdout",
     "output_type": "stream",
     "text": [
      "\n",
      "The mean profit for the 200 wells is 25267.34475152893,\n",
      "which represents a 5.053468950305786% of the investment\n"
     ]
    }
   ],
   "source": [
    "print(f'''\n",
    "The mean profit for the 200 wells is {mean_profit_1},\n",
    "which represents a {mean_profit_1_percentage}% of the investment'''\n",
    "     )"
   ]
  },
  {
   "cell_type": "markdown",
   "metadata": {},
   "source": [
    "# Exploring area 2 production calculations"
   ]
  },
  {
   "cell_type": "code",
   "execution_count": 87,
   "metadata": {},
   "outputs": [],
   "source": [
    "exploring_area_2 = valid_features_2.sample(n=500, random_state=12345)\n",
    "#Sample 500 oil wells randomly from valid_features_2"
   ]
  },
  {
   "cell_type": "code",
   "execution_count": 88,
   "metadata": {},
   "outputs": [],
   "source": [
    "exploring_area_2_predictions = model_2.predict(exploring_area_2) #Predict the target"
   ]
  },
  {
   "cell_type": "code",
   "execution_count": 89,
   "metadata": {},
   "outputs": [],
   "source": [
    "sorted_exploring_area_2_predictions = np.sort(exploring_area_2_predictions)[::-1]\n",
    "#Sort the values from higher to lower"
   ]
  },
  {
   "cell_type": "code",
   "execution_count": 90,
   "metadata": {},
   "outputs": [],
   "source": [
    "top_200_2 = sorted_exploring_area_2_predictions[:200]\n",
    "#Slice the top 200 best predicted values"
   ]
  },
  {
   "cell_type": "code",
   "execution_count": 91,
   "metadata": {},
   "outputs": [
    {
     "data": {
      "text/plain": [
       "23953.82043647268"
      ]
     },
     "execution_count": 91,
     "metadata": {},
     "output_type": "execute_result"
    }
   ],
   "source": [
    "top_200_2.sum()\n",
    "#Estimate the total oil barrels units in the 200 wells"
   ]
  },
  {
   "cell_type": "code",
   "execution_count": 92,
   "metadata": {},
   "outputs": [],
   "source": [
    "total_revenue_2 = top_200_2.sum() * 4500\n",
    "#Calculate the revenue for all the units in the 200 wells"
   ]
  },
  {
   "cell_type": "code",
   "execution_count": 93,
   "metadata": {},
   "outputs": [],
   "source": [
    "total_profit_2 = total_revenue_2 - investment"
   ]
  },
  {
   "cell_type": "code",
   "execution_count": 94,
   "metadata": {},
   "outputs": [],
   "source": [
    "total_profit_2_percentage = total_profit_2 * 100 / investment"
   ]
  },
  {
   "cell_type": "code",
   "execution_count": 95,
   "metadata": {},
   "outputs": [
    {
     "data": {
      "text/plain": [
       "119.7691021823634"
      ]
     },
     "execution_count": 95,
     "metadata": {},
     "output_type": "execute_result"
    }
   ],
   "source": [
    "top_200_2.mean()\n",
    "#Estimate the oil barrels units mean"
   ]
  },
  {
   "cell_type": "code",
   "execution_count": 96,
   "metadata": {},
   "outputs": [],
   "source": [
    "revenue_mean_2 = top_200_2.mean() * 4500\n",
    "#Calculate the revenue mean"
   ]
  },
  {
   "cell_type": "code",
   "execution_count": 97,
   "metadata": {},
   "outputs": [],
   "source": [
    "mean_profit_2 = revenue_mean_2 - income_mean_target"
   ]
  },
  {
   "cell_type": "code",
   "execution_count": 98,
   "metadata": {},
   "outputs": [],
   "source": [
    "mean_profit_2_percentage = mean_profit_2 * 100 / income_mean_target"
   ]
  },
  {
   "cell_type": "code",
   "execution_count": 99,
   "metadata": {},
   "outputs": [
    {
     "name": "stdout",
     "output_type": "stream",
     "text": [
      "\n",
      "The total profit for the 200 wells is 7792191.964127064,\n",
      "which represents a 7.792191964127063% of the investment\n"
     ]
    }
   ],
   "source": [
    "print(f'''\n",
    "The total profit for the 200 wells is {total_profit_2},\n",
    "which represents a {total_profit_2_percentage}% of the investment'''\n",
    "     )"
   ]
  },
  {
   "cell_type": "code",
   "execution_count": 100,
   "metadata": {},
   "outputs": [
    {
     "name": "stdout",
     "output_type": "stream",
     "text": [
      "\n",
      "The mean profit for the 200 wells is 38960.95982063527,\n",
      "which represents a 7.792191964127054% of the investment\n"
     ]
    }
   ],
   "source": [
    "print(f'''\n",
    "The mean profit for the 200 wells is {mean_profit_2},\n",
    "which represents a {mean_profit_2_percentage}% of the investment'''\n",
    "     )"
   ]
  },
  {
   "cell_type": "markdown",
   "metadata": {},
   "source": [
    "# Exploring area 3 production calculations"
   ]
  },
  {
   "cell_type": "code",
   "execution_count": 101,
   "metadata": {},
   "outputs": [],
   "source": [
    "exploring_area_3 = valid_features_3.sample(n=500, random_state=12345)\n",
    "#Sample 500 oil wells randomly from valid_features_3"
   ]
  },
  {
   "cell_type": "code",
   "execution_count": 102,
   "metadata": {},
   "outputs": [],
   "source": [
    "exploring_area_3_predictions = model_3.predict(exploring_area_3) #Predict the target"
   ]
  },
  {
   "cell_type": "code",
   "execution_count": 103,
   "metadata": {},
   "outputs": [],
   "source": [
    "sorted_exploring_area_3_predictions = np.sort(exploring_area_3_predictions)[::-1]\n",
    "#Sort the values from higher to lower"
   ]
  },
  {
   "cell_type": "code",
   "execution_count": 104,
   "metadata": {},
   "outputs": [],
   "source": [
    "top_200_3 = sorted_exploring_area_3_predictions[:200]\n",
    "#Slice the top 200 best predicted values"
   ]
  },
  {
   "cell_type": "code",
   "execution_count": 105,
   "metadata": {},
   "outputs": [
    {
     "data": {
      "text/plain": [
       "22978.221506140973"
      ]
     },
     "execution_count": 105,
     "metadata": {},
     "output_type": "execute_result"
    }
   ],
   "source": [
    "top_200_3.sum()\n",
    "#Estimate the total oil barrels units in the 200 wells"
   ]
  },
  {
   "cell_type": "code",
   "execution_count": 106,
   "metadata": {},
   "outputs": [],
   "source": [
    "total_revenue_3 = top_200_3.sum() * 4500\n",
    "#Calculate the revenue for all the units in the 200 wells"
   ]
  },
  {
   "cell_type": "code",
   "execution_count": 107,
   "metadata": {},
   "outputs": [],
   "source": [
    "total_profit_3 = total_revenue_3 - investment"
   ]
  },
  {
   "cell_type": "code",
   "execution_count": 108,
   "metadata": {},
   "outputs": [],
   "source": [
    "total_profit_3_percentage = total_profit_3 * 100 / investment"
   ]
  },
  {
   "cell_type": "code",
   "execution_count": 109,
   "metadata": {},
   "outputs": [
    {
     "data": {
      "text/plain": [
       "114.89110753070487"
      ]
     },
     "execution_count": 109,
     "metadata": {},
     "output_type": "execute_result"
    }
   ],
   "source": [
    "top_200_3.mean()\n",
    "#Estimate the oil barrels units mean"
   ]
  },
  {
   "cell_type": "code",
   "execution_count": 110,
   "metadata": {},
   "outputs": [],
   "source": [
    "revenue_mean_3 = top_200_3.mean() * 4500\n",
    "#Calculate the revenue mean"
   ]
  },
  {
   "cell_type": "code",
   "execution_count": 111,
   "metadata": {},
   "outputs": [],
   "source": [
    "mean_profit_3 = revenue_mean_3 - income_mean_target"
   ]
  },
  {
   "cell_type": "code",
   "execution_count": 112,
   "metadata": {},
   "outputs": [],
   "source": [
    "mean_profit_3_percentage = mean_profit_3 * 100 / income_mean_target"
   ]
  },
  {
   "cell_type": "code",
   "execution_count": 113,
   "metadata": {},
   "outputs": [
    {
     "name": "stdout",
     "output_type": "stream",
     "text": [
      "\n",
      "The total profit for the 200 wells is 3401996.7776343822,\n",
      "which represents a 3.4019967776343822% of the investment\n"
     ]
    }
   ],
   "source": [
    "print(f'''\n",
    "The total profit for the 200 wells is {total_profit_3},\n",
    "which represents a {total_profit_3_percentage}% of the investment'''\n",
    "     )"
   ]
  },
  {
   "cell_type": "code",
   "execution_count": 114,
   "metadata": {},
   "outputs": [
    {
     "name": "stdout",
     "output_type": "stream",
     "text": [
      "\n",
      "The mean profit for the 200 wells is 17009.983888171904,\n",
      "which represents a 3.401996777634381% of the investment\n"
     ]
    }
   ],
   "source": [
    "print(f'''\n",
    "The mean profit for the 200 wells is {mean_profit_3},\n",
    "which represents a {mean_profit_3_percentage}% of the investment'''\n",
    "     )"
   ]
  },
  {
   "cell_type": "code",
   "execution_count": 115,
   "metadata": {},
   "outputs": [
    {
     "name": "stdout",
     "output_type": "stream",
     "text": [
      "\n",
      "The region more profitable is the 2nd (7.79)%,\n",
      "then the 1st (5.05)%,\n",
      "and finally the 3rd one (3.4)%.\n"
     ]
    }
   ],
   "source": [
    "print(f'''\n",
    "The region more profitable is the 2nd ({round(total_profit_2_percentage, 2)})%,\n",
    "then the 1st ({round(total_profit_1_percentage, 2)})%,\n",
    "and finally the 3rd one ({round(total_profit_3_percentage, 2)})%.'''\n",
    "     )"
   ]
  },
  {
   "cell_type": "markdown",
   "metadata": {},
   "source": [
    "<div class=\"alert alert-block alert-success\">\n",
    "<b>Comentario del revisor</b> <a class=\"tocSkip\"></a><br />\n",
    "\n",
    "Buena manera de hacer los calculos de los beneficios de cada una de las regiones\n",
    "</div>\n"
   ]
  },
  {
   "cell_type": "markdown",
   "metadata": {},
   "source": [
    "<div class=\"alert alert-block alert-warning\">\n",
    "<b>Comentario del revisor</b> <a class=\"tocSkip\"></a><br />\n",
    "\n",
    "\n",
    "Aquí también nos pudieramos beneficiar al escribir una función para hacer los mismos calculos, ya que son iguales para las tres regiones, solo cambian los datos que se envian\n",
    "</div>\n"
   ]
  },
  {
   "cell_type": "markdown",
   "metadata": {},
   "source": [
    "# Confidence Interval Bootstrapping in region 1"
   ]
  },
  {
   "cell_type": "code",
   "execution_count": 116,
   "metadata": {},
   "outputs": [],
   "source": [
    "top_200_1 = pd.Series(top_200_1)"
   ]
  },
  {
   "cell_type": "code",
   "execution_count": 117,
   "metadata": {},
   "outputs": [
    {
     "data": {
      "text/plain": [
       "116.72607661145088"
      ]
     },
     "execution_count": 117,
     "metadata": {},
     "output_type": "execute_result"
    }
   ],
   "source": [
    "top_200_1.mean()"
   ]
  },
  {
   "cell_type": "code",
   "execution_count": 118,
   "metadata": {},
   "outputs": [],
   "source": [
    "from scipy import stats as st"
   ]
  },
  {
   "cell_type": "code",
   "execution_count": 119,
   "metadata": {},
   "outputs": [
    {
     "data": {
      "text/plain": [
       "(114.9230603139281, 118.52909290897365)"
      ]
     },
     "execution_count": 119,
     "metadata": {},
     "output_type": "execute_result"
    }
   ],
   "source": [
    "simple_confidence_interval_1 = st.t.interval(0.95, len(top_200_1)-1, top_200_1.mean(), top_200_1.sem())\n",
    "\n",
    "simple_confidence_interval_1"
   ]
  },
  {
   "cell_type": "code",
   "execution_count": 120,
   "metadata": {},
   "outputs": [
    {
     "name": "stdout",
     "output_type": "stream",
     "text": [
      "116.27760077539938\n",
      "117.17211150245278\n"
     ]
    }
   ],
   "source": [
    "state_1 = np.random.RandomState(12345)\n",
    "\n",
    "values_1 = []\n",
    "for i in range(1000):\n",
    "    subsample_1 = top_200_1.sample(frac=15, replace=True, random_state=state_1)\n",
    "    values_1.append(subsample_1.mean())\n",
    "\n",
    "values_1 = pd.Series(values_1)\n",
    "\n",
    "lower_1 = values_1.quantile(0.025)\n",
    "upper_1 = values_1.quantile(0.975)\n",
    "\n",
    "print(lower_1)\n",
    "print(upper_1)"
   ]
  },
  {
   "cell_type": "markdown",
   "metadata": {},
   "source": [
    "The confidence interval shows that the 95% of the probable mean product result range is 116.3 - 117.2 units of barrels.\n",
    "So, even with the lowest product mean, there would be no losses with a 95% confidence, since the revenue with 116.3 units of barrels is 523,350 which is still higher than the target (500,000)"
   ]
  },
  {
   "cell_type": "markdown",
   "metadata": {},
   "source": [
    "# Confidence Interval Bootstrapping in region 2"
   ]
  },
  {
   "cell_type": "code",
   "execution_count": 121,
   "metadata": {},
   "outputs": [],
   "source": [
    "top_200_2 = pd.Series(top_200_2)"
   ]
  },
  {
   "cell_type": "code",
   "execution_count": 122,
   "metadata": {},
   "outputs": [
    {
     "data": {
      "text/plain": [
       "119.7691021823634"
      ]
     },
     "execution_count": 122,
     "metadata": {},
     "output_type": "execute_result"
    }
   ],
   "source": [
    "top_200_2.mean()"
   ]
  },
  {
   "cell_type": "code",
   "execution_count": 123,
   "metadata": {},
   "outputs": [
    {
     "data": {
      "text/plain": [
       "(117.2212226815911, 122.3169816831357)"
      ]
     },
     "execution_count": 123,
     "metadata": {},
     "output_type": "execute_result"
    }
   ],
   "source": [
    "simple_confidence_interval_2 = st.t.interval(0.95, len(top_200_2)-1, top_200_2.mean(), top_200_2.sem())\n",
    "\n",
    "simple_confidence_interval_2"
   ]
  },
  {
   "cell_type": "code",
   "execution_count": 124,
   "metadata": {},
   "outputs": [
    {
     "name": "stdout",
     "output_type": "stream",
     "text": [
      "119.07714501340732\n",
      "120.36875729271588\n"
     ]
    }
   ],
   "source": [
    "state_2 = np.random.RandomState(12345)\n",
    "\n",
    "values_2 = []\n",
    "for i in range(1000):\n",
    "    subsample_2 = top_200_2.sample(frac=15, replace=True, random_state=state_2)\n",
    "    values_2.append(subsample_2.mean())\n",
    "\n",
    "values_2 = pd.Series(values_2)\n",
    "\n",
    "lower_2 = values_2.quantile(0.025)\n",
    "upper_2 = values_2.quantile(0.975)\n",
    "\n",
    "print(lower_2)\n",
    "print(upper_2)"
   ]
  },
  {
   "cell_type": "markdown",
   "metadata": {},
   "source": [
    "The confidence interval shows that the 95% of the probable mean product result range is 119.1 - 120.4 units of barrels. So, even with the lowest product mean, there would be no losses with a 95% confidence, since the revenue with 119.1 units of barrels is 535,950 which is still higher than the target (500,000)"
   ]
  },
  {
   "cell_type": "markdown",
   "metadata": {},
   "source": [
    "# Confidence Interval Bootstrapping in region 3"
   ]
  },
  {
   "cell_type": "code",
   "execution_count": 125,
   "metadata": {},
   "outputs": [],
   "source": [
    "top_200_3 = pd.Series(top_200_3)"
   ]
  },
  {
   "cell_type": "code",
   "execution_count": 126,
   "metadata": {},
   "outputs": [
    {
     "data": {
      "text/plain": [
       "114.89110753070487"
      ]
     },
     "execution_count": 126,
     "metadata": {},
     "output_type": "execute_result"
    }
   ],
   "source": [
    "top_200_3.mean()"
   ]
  },
  {
   "cell_type": "code",
   "execution_count": 127,
   "metadata": {},
   "outputs": [
    {
     "data": {
      "text/plain": [
       "(113.41072861096117, 116.37148645044857)"
      ]
     },
     "execution_count": 127,
     "metadata": {},
     "output_type": "execute_result"
    }
   ],
   "source": [
    "simple_confidence_interval_3 = st.t.interval(0.95, len(top_200_3)-1, top_200_3.mean(), top_200_3.sem())\n",
    "\n",
    "simple_confidence_interval_3"
   ]
  },
  {
   "cell_type": "code",
   "execution_count": 128,
   "metadata": {},
   "outputs": [
    {
     "name": "stdout",
     "output_type": "stream",
     "text": [
      "114.51388386788155\n",
      "115.26616827306503\n"
     ]
    }
   ],
   "source": [
    "state_3 = np.random.RandomState(12345)\n",
    "\n",
    "values_3 = []\n",
    "for i in range(1000):\n",
    "    subsample_3 = top_200_3.sample(frac=15, replace=True, random_state=state_3)\n",
    "    values_3.append(subsample_3.mean())\n",
    "\n",
    "values_3 = pd.Series(values_3)\n",
    "\n",
    "lower_3 = values_3.quantile(0.025)\n",
    "upper_3 = values_3.quantile(0.975)\n",
    "\n",
    "print(lower_3)\n",
    "print(upper_3)"
   ]
  },
  {
   "cell_type": "markdown",
   "metadata": {},
   "source": [
    "<div class=\"alert alert-block alert-success\">\n",
    "<b>Comentario del revisor</b> <a class=\"tocSkip\"></a><br />\n",
    "\n",
    "La manera de hacer bootstrapping me parece acertada, las observaciones realizadas también me parecen correctas\n",
    "</div>\n"
   ]
  },
  {
   "cell_type": "markdown",
   "metadata": {},
   "source": [
    "<div class=\"alert alert-block alert-warning\">\n",
    "<b>Comentario del revisor</b> <a class=\"tocSkip\"></a><br />\n",
    "\n",
    "La misma recomendación anterior, en esta parte podemos crear una función que nos ayude para no reescribir código\n",
    "</div>\n"
   ]
  },
  {
   "cell_type": "markdown",
   "metadata": {},
   "source": [
    "The confidence interval shows that the 95% of the probable mean product result range is 114.5 - 115.3 units of barrels. So, even with the lowest product mean, there would be no losses with a 95% confidence, since the revenue with 114.5 units of barrels is 515,250 which is still higher than the target (500,000)"
   ]
  },
  {
   "cell_type": "markdown",
   "metadata": {},
   "source": [
    "# Confidence interval bootstrapping conclusion"
   ]
  },
  {
   "cell_type": "markdown",
   "metadata": {},
   "source": [
    "The boostrapping confirms the priority that every oil region deserves.\n",
    "The order in which the regions would generate more profits are 2, 1, and 3."
   ]
  },
  {
   "cell_type": "markdown",
   "metadata": {},
   "source": [
    "<div class=\"alert alert-block alert-success\">\n",
    "<b>Comentario del revisor</b> <a class=\"tocSkip\"></a><br />\n",
    "Has realizado un buen trabajo, me doy cuenta de que has aplicado los conocimientos que has adquirido durante el curso y los procedimientos realizados son correctos, esta es una gran herramienta que nos ayuda en muchos casos y es bastante útil en proyectos reales.<br/>\n",
    "    \n",
    "El documento que entregas es organizado y fácil de entender.<br/>\n",
    "\n",
    "Este tipo de analisis nos ayuda a confirmar suposiciones o apoyar decisiones de negocio las cuales muchas veces entre más puntos de vista se analisen mejores resultados se obtendrán al final.\n",
    "Continúa con el buen trabajo y mucho éxito en el siguiente Sprint!\n",
    "</div>\n"
   ]
  },
  {
   "cell_type": "markdown",
   "metadata": {},
   "source": [
    "<div class=\"alert alert-block alert-warning\">\n",
    "<b>Comentario del revisor</b> <a class=\"tocSkip\"></a><br />\n",
    "\n",
    "\n",
    "Definitivamente una recomendación que te puedo hacer es que pienses más en como se pueden aplicar las funciones para facilitar la escritura del código, antes de que empieces a hacer algo con el código es bueno revisar todo el proyecto o unas instrucciones más adelante, de esta manera te puedes empezar a dar una ídea si lo que tienes que hacer se va a repetir constantemente a lo largo del proyecto, si el código se repite entonces vale la pena analizar si debemos crear una función o no\n",
    "</div>\n"
   ]
  }
 ],
 "metadata": {
  "ExecuteTimeLog": [
   {
    "duration": 315,
    "start_time": "2025-03-07T15:26:31.970Z"
   },
   {
    "duration": 187,
    "start_time": "2025-03-07T15:28:30.094Z"
   },
   {
    "duration": 351,
    "start_time": "2025-03-07T15:28:32.451Z"
   },
   {
    "duration": 58,
    "start_time": "2025-03-07T15:31:03.365Z"
   },
   {
    "duration": 61,
    "start_time": "2025-03-07T15:31:46.807Z"
   },
   {
    "duration": 2,
    "start_time": "2025-03-07T15:33:13.548Z"
   },
   {
    "duration": 58,
    "start_time": "2025-03-07T15:33:15.799Z"
   },
   {
    "duration": 323,
    "start_time": "2025-03-07T15:42:03.129Z"
   },
   {
    "duration": 14,
    "start_time": "2025-03-07T15:42:08.557Z"
   },
   {
    "duration": 10,
    "start_time": "2025-03-07T15:43:29.502Z"
   },
   {
    "duration": 10,
    "start_time": "2025-03-07T15:43:33.343Z"
   },
   {
    "duration": 11,
    "start_time": "2025-03-07T15:45:55.543Z"
   },
   {
    "duration": 10,
    "start_time": "2025-03-07T15:46:07.812Z"
   },
   {
    "duration": 14,
    "start_time": "2025-03-07T15:46:10.942Z"
   },
   {
    "duration": 11,
    "start_time": "2025-03-07T15:46:38.408Z"
   },
   {
    "duration": 25,
    "start_time": "2025-03-07T15:46:50.151Z"
   },
   {
    "duration": 25,
    "start_time": "2025-03-07T15:51:09.655Z"
   },
   {
    "duration": 12,
    "start_time": "2025-03-07T15:51:11.757Z"
   },
   {
    "duration": 24,
    "start_time": "2025-03-07T15:51:13.500Z"
   },
   {
    "duration": 11,
    "start_time": "2025-03-07T15:51:21.106Z"
   },
   {
    "duration": 25,
    "start_time": "2025-03-07T15:51:34.876Z"
   },
   {
    "duration": 4,
    "start_time": "2025-03-07T16:01:44.171Z"
   },
   {
    "duration": 4,
    "start_time": "2025-03-07T16:01:47.038Z"
   },
   {
    "duration": 4,
    "start_time": "2025-03-07T16:02:10.660Z"
   },
   {
    "duration": 18,
    "start_time": "2025-03-07T16:13:12.180Z"
   },
   {
    "duration": 1852,
    "start_time": "2025-03-07T16:13:44.747Z"
   },
   {
    "duration": 14,
    "start_time": "2025-03-07T16:15:03.977Z"
   },
   {
    "duration": 17,
    "start_time": "2025-03-07T16:17:22.812Z"
   },
   {
    "duration": 132,
    "start_time": "2025-03-07T16:18:11.168Z"
   },
   {
    "duration": 171,
    "start_time": "2025-03-07T16:19:43.435Z"
   },
   {
    "duration": 544,
    "start_time": "2025-03-07T16:20:23.715Z"
   },
   {
    "duration": 159,
    "start_time": "2025-03-07T18:09:01.517Z"
   },
   {
    "duration": 316,
    "start_time": "2025-03-07T18:09:11.574Z"
   },
   {
    "duration": 304,
    "start_time": "2025-03-07T18:09:11.892Z"
   },
   {
    "duration": 12,
    "start_time": "2025-03-07T18:09:12.198Z"
   },
   {
    "duration": 37,
    "start_time": "2025-03-07T18:09:12.212Z"
   },
   {
    "duration": 10,
    "start_time": "2025-03-07T18:09:12.251Z"
   },
   {
    "duration": 23,
    "start_time": "2025-03-07T18:09:12.263Z"
   },
   {
    "duration": 10,
    "start_time": "2025-03-07T18:09:12.288Z"
   },
   {
    "duration": 48,
    "start_time": "2025-03-07T18:09:12.299Z"
   },
   {
    "duration": 3,
    "start_time": "2025-03-07T18:09:12.349Z"
   },
   {
    "duration": 4,
    "start_time": "2025-03-07T18:09:12.355Z"
   },
   {
    "duration": 5,
    "start_time": "2025-03-07T18:09:12.361Z"
   },
   {
    "duration": 2385,
    "start_time": "2025-03-07T18:09:12.367Z"
   },
   {
    "duration": 398,
    "start_time": "2025-03-07T18:09:43.714Z"
   },
   {
    "duration": 3,
    "start_time": "2025-03-07T18:11:40.606Z"
   },
   {
    "duration": 533,
    "start_time": "2025-03-07T18:11:42.938Z"
   },
   {
    "duration": 519,
    "start_time": "2025-03-07T18:12:20.254Z"
   },
   {
    "duration": 539,
    "start_time": "2025-03-07T18:12:35.676Z"
   },
   {
    "duration": 5,
    "start_time": "2025-03-07T18:21:46.052Z"
   },
   {
    "duration": 4,
    "start_time": "2025-03-07T18:21:47.614Z"
   },
   {
    "duration": 5,
    "start_time": "2025-03-07T18:21:59.070Z"
   },
   {
    "duration": 3,
    "start_time": "2025-03-07T18:22:09.546Z"
   },
   {
    "duration": 3,
    "start_time": "2025-03-07T18:24:03.921Z"
   },
   {
    "duration": 512,
    "start_time": "2025-03-07T18:25:13.875Z"
   },
   {
    "duration": 3,
    "start_time": "2025-03-07T18:25:25.359Z"
   },
   {
    "duration": 3,
    "start_time": "2025-03-07T18:26:18.298Z"
   },
   {
    "duration": 2,
    "start_time": "2025-03-07T18:26:27.545Z"
   },
   {
    "duration": 50,
    "start_time": "2025-03-07T18:32:11.765Z"
   },
   {
    "duration": 24,
    "start_time": "2025-03-07T18:32:40.779Z"
   },
   {
    "duration": 487,
    "start_time": "2025-03-07T18:33:42.015Z"
   },
   {
    "duration": 448,
    "start_time": "2025-03-07T18:34:48.902Z"
   },
   {
    "duration": 223,
    "start_time": "2025-03-07T18:35:25.600Z"
   },
   {
    "duration": 280,
    "start_time": "2025-03-07T18:39:15.423Z"
   },
   {
    "duration": 406,
    "start_time": "2025-03-07T18:40:21.544Z"
   },
   {
    "duration": 419,
    "start_time": "2025-03-07T18:40:44.728Z"
   },
   {
    "duration": 406,
    "start_time": "2025-03-07T18:41:18.961Z"
   },
   {
    "duration": 314,
    "start_time": "2025-03-07T18:42:43.307Z"
   },
   {
    "duration": 285,
    "start_time": "2025-03-07T18:43:02.829Z"
   },
   {
    "duration": 249,
    "start_time": "2025-03-07T18:43:53.401Z"
   },
   {
    "duration": 240,
    "start_time": "2025-03-07T18:44:07.170Z"
   },
   {
    "duration": 441,
    "start_time": "2025-03-07T18:48:00.095Z"
   },
   {
    "duration": 426,
    "start_time": "2025-03-07T18:48:03.576Z"
   },
   {
    "duration": 247,
    "start_time": "2025-03-07T18:48:11.158Z"
   },
   {
    "duration": 248,
    "start_time": "2025-03-07T18:48:13.865Z"
   },
   {
    "duration": 157,
    "start_time": "2025-03-08T13:07:00.008Z"
   },
   {
    "duration": 284,
    "start_time": "2025-03-08T13:07:10.711Z"
   },
   {
    "duration": 294,
    "start_time": "2025-03-08T13:07:10.997Z"
   },
   {
    "duration": 12,
    "start_time": "2025-03-08T13:07:11.292Z"
   },
   {
    "duration": 32,
    "start_time": "2025-03-08T13:07:11.306Z"
   },
   {
    "duration": 10,
    "start_time": "2025-03-08T13:07:11.339Z"
   },
   {
    "duration": 23,
    "start_time": "2025-03-08T13:07:11.351Z"
   },
   {
    "duration": 10,
    "start_time": "2025-03-08T13:07:11.376Z"
   },
   {
    "duration": 48,
    "start_time": "2025-03-08T13:07:11.388Z"
   },
   {
    "duration": 1827,
    "start_time": "2025-03-08T13:07:11.438Z"
   },
   {
    "duration": 582,
    "start_time": "2025-03-08T13:07:13.269Z"
   },
   {
    "duration": 549,
    "start_time": "2025-03-08T13:07:13.853Z"
   },
   {
    "duration": 524,
    "start_time": "2025-03-08T13:07:14.404Z"
   },
   {
    "duration": 4,
    "start_time": "2025-03-08T13:07:14.930Z"
   },
   {
    "duration": 4,
    "start_time": "2025-03-08T13:07:14.936Z"
   },
   {
    "duration": 5,
    "start_time": "2025-03-08T13:07:14.941Z"
   },
   {
    "duration": 510,
    "start_time": "2025-03-08T13:07:14.947Z"
   },
   {
    "duration": 23,
    "start_time": "2025-03-08T13:07:15.459Z"
   },
   {
    "duration": 444,
    "start_time": "2025-03-08T13:07:15.484Z"
   },
   {
    "duration": 429,
    "start_time": "2025-03-08T13:07:15.931Z"
   },
   {
    "duration": 242,
    "start_time": "2025-03-08T13:07:16.362Z"
   },
   {
    "duration": 293,
    "start_time": "2025-03-08T13:07:16.606Z"
   },
   {
    "duration": 421,
    "start_time": "2025-03-08T13:07:16.901Z"
   },
   {
    "duration": 500,
    "start_time": "2025-03-08T13:07:17.324Z"
   },
   {
    "duration": 274,
    "start_time": "2025-03-08T13:07:17.826Z"
   },
   {
    "duration": 303,
    "start_time": "2025-03-08T13:07:18.102Z"
   },
   {
    "duration": 420,
    "start_time": "2025-03-08T13:07:18.407Z"
   },
   {
    "duration": 406,
    "start_time": "2025-03-08T13:07:18.828Z"
   },
   {
    "duration": 260,
    "start_time": "2025-03-08T13:07:19.239Z"
   },
   {
    "duration": 291,
    "start_time": "2025-03-08T13:07:19.501Z"
   },
   {
    "duration": 299,
    "start_time": "2025-03-08T13:07:19.793Z"
   },
   {
    "duration": 4,
    "start_time": "2025-03-08T13:07:32.873Z"
   },
   {
    "duration": 4,
    "start_time": "2025-03-08T13:08:05.398Z"
   },
   {
    "duration": 3,
    "start_time": "2025-03-08T13:08:54.805Z"
   },
   {
    "duration": 4,
    "start_time": "2025-03-08T13:11:22.715Z"
   },
   {
    "duration": 16,
    "start_time": "2025-03-08T13:14:58.451Z"
   },
   {
    "duration": 55,
    "start_time": "2025-03-08T13:25:22.869Z"
   },
   {
    "duration": 2,
    "start_time": "2025-03-08T13:25:43.938Z"
   },
   {
    "duration": 3,
    "start_time": "2025-03-08T13:29:56.143Z"
   },
   {
    "duration": 8,
    "start_time": "2025-03-08T13:30:42.819Z"
   },
   {
    "duration": 158,
    "start_time": "2025-03-08T15:39:22.258Z"
   },
   {
    "duration": 289,
    "start_time": "2025-03-08T15:39:48.018Z"
   },
   {
    "duration": 311,
    "start_time": "2025-03-08T15:39:48.310Z"
   },
   {
    "duration": 11,
    "start_time": "2025-03-08T15:39:48.623Z"
   },
   {
    "duration": 29,
    "start_time": "2025-03-08T15:39:48.636Z"
   },
   {
    "duration": 11,
    "start_time": "2025-03-08T15:39:48.667Z"
   },
   {
    "duration": 23,
    "start_time": "2025-03-08T15:39:48.679Z"
   },
   {
    "duration": 38,
    "start_time": "2025-03-08T15:39:48.704Z"
   },
   {
    "duration": 26,
    "start_time": "2025-03-08T15:39:48.744Z"
   },
   {
    "duration": 1863,
    "start_time": "2025-03-08T15:39:48.772Z"
   },
   {
    "duration": 592,
    "start_time": "2025-03-08T15:39:50.639Z"
   },
   {
    "duration": 518,
    "start_time": "2025-03-08T15:39:51.234Z"
   },
   {
    "duration": 553,
    "start_time": "2025-03-08T15:39:51.754Z"
   },
   {
    "duration": 4,
    "start_time": "2025-03-08T15:39:52.309Z"
   },
   {
    "duration": 16,
    "start_time": "2025-03-08T15:39:52.315Z"
   },
   {
    "duration": 4,
    "start_time": "2025-03-08T15:39:52.333Z"
   },
   {
    "duration": 513,
    "start_time": "2025-03-08T15:39:52.338Z"
   },
   {
    "duration": 24,
    "start_time": "2025-03-08T15:39:52.853Z"
   },
   {
    "duration": 454,
    "start_time": "2025-03-08T15:39:52.878Z"
   },
   {
    "duration": 411,
    "start_time": "2025-03-08T15:39:53.334Z"
   },
   {
    "duration": 255,
    "start_time": "2025-03-08T15:39:53.747Z"
   },
   {
    "duration": 295,
    "start_time": "2025-03-08T15:39:54.004Z"
   },
   {
    "duration": 425,
    "start_time": "2025-03-08T15:39:54.301Z"
   },
   {
    "duration": 509,
    "start_time": "2025-03-08T15:39:54.729Z"
   },
   {
    "duration": 256,
    "start_time": "2025-03-08T15:39:55.240Z"
   },
   {
    "duration": 274,
    "start_time": "2025-03-08T15:39:55.498Z"
   },
   {
    "duration": 441,
    "start_time": "2025-03-08T15:39:55.774Z"
   },
   {
    "duration": 421,
    "start_time": "2025-03-08T15:39:56.217Z"
   },
   {
    "duration": 263,
    "start_time": "2025-03-08T15:39:56.641Z"
   },
   {
    "duration": 292,
    "start_time": "2025-03-08T15:39:56.906Z"
   },
   {
    "duration": 5,
    "start_time": "2025-03-08T15:39:57.200Z"
   },
   {
    "duration": 32,
    "start_time": "2025-03-08T15:39:57.206Z"
   },
   {
    "duration": 2,
    "start_time": "2025-03-08T15:39:57.240Z"
   },
   {
    "duration": 9,
    "start_time": "2025-03-08T15:39:57.244Z"
   },
   {
    "duration": 13,
    "start_time": "2025-03-08T15:39:57.256Z"
   },
   {
    "duration": 65,
    "start_time": "2025-03-08T15:39:57.271Z"
   },
   {
    "duration": 5,
    "start_time": "2025-03-08T15:40:47.198Z"
   },
   {
    "duration": 3,
    "start_time": "2025-03-08T15:40:50.720Z"
   },
   {
    "duration": 2,
    "start_time": "2025-03-08T15:42:38.367Z"
   },
   {
    "duration": 5,
    "start_time": "2025-03-08T15:43:33.463Z"
   },
   {
    "duration": 4,
    "start_time": "2025-03-08T15:44:15.071Z"
   },
   {
    "duration": 5,
    "start_time": "2025-03-08T15:44:46.693Z"
   },
   {
    "duration": 5,
    "start_time": "2025-03-08T15:45:33.491Z"
   },
   {
    "duration": 5,
    "start_time": "2025-03-08T15:46:13.403Z"
   },
   {
    "duration": 298,
    "start_time": "2025-03-08T15:48:02.053Z"
   },
   {
    "duration": 8,
    "start_time": "2025-03-08T15:48:08.422Z"
   },
   {
    "duration": 6,
    "start_time": "2025-03-08T15:48:22.512Z"
   },
   {
    "duration": 7,
    "start_time": "2025-03-08T16:08:53.097Z"
   },
   {
    "duration": 4,
    "start_time": "2025-03-08T16:09:03.701Z"
   },
   {
    "duration": 5,
    "start_time": "2025-03-08T16:09:16.423Z"
   },
   {
    "duration": 2,
    "start_time": "2025-03-08T16:20:28.462Z"
   },
   {
    "duration": 8,
    "start_time": "2025-03-08T16:21:13.366Z"
   },
   {
    "duration": 4,
    "start_time": "2025-03-08T16:21:25.419Z"
   },
   {
    "duration": 6,
    "start_time": "2025-03-08T16:21:35.481Z"
   },
   {
    "duration": 6,
    "start_time": "2025-03-08T16:22:02.833Z"
   },
   {
    "duration": 4,
    "start_time": "2025-03-08T16:22:22.344Z"
   },
   {
    "duration": 4,
    "start_time": "2025-03-08T16:22:55.018Z"
   },
   {
    "duration": 6,
    "start_time": "2025-03-08T16:23:41.222Z"
   },
   {
    "duration": 7,
    "start_time": "2025-03-08T16:24:06.798Z"
   },
   {
    "duration": 5,
    "start_time": "2025-03-08T16:24:37.180Z"
   },
   {
    "duration": 5,
    "start_time": "2025-03-08T16:27:59.119Z"
   },
   {
    "duration": 5,
    "start_time": "2025-03-08T16:28:09.009Z"
   },
   {
    "duration": 5,
    "start_time": "2025-03-08T16:28:53.700Z"
   },
   {
    "duration": 8,
    "start_time": "2025-03-08T16:29:02.214Z"
   },
   {
    "duration": 7,
    "start_time": "2025-03-08T16:29:49.291Z"
   },
   {
    "duration": 9,
    "start_time": "2025-03-08T16:30:42.590Z"
   },
   {
    "duration": 6,
    "start_time": "2025-03-08T16:31:11.064Z"
   },
   {
    "duration": 264,
    "start_time": "2025-03-08T16:36:21.830Z"
   },
   {
    "duration": 235,
    "start_time": "2025-03-08T16:36:31.473Z"
   },
   {
    "duration": 229,
    "start_time": "2025-03-08T16:36:45.876Z"
   },
   {
    "duration": 236,
    "start_time": "2025-03-08T16:36:54.957Z"
   },
   {
    "duration": 258,
    "start_time": "2025-03-08T16:37:05.236Z"
   },
   {
    "duration": 265,
    "start_time": "2025-03-08T16:37:15.638Z"
   },
   {
    "duration": 2,
    "start_time": "2025-03-08T16:38:09.459Z"
   },
   {
    "duration": 8,
    "start_time": "2025-03-08T16:38:19.987Z"
   },
   {
    "duration": 4,
    "start_time": "2025-03-08T16:38:39.535Z"
   },
   {
    "duration": 4,
    "start_time": "2025-03-08T16:39:04.943Z"
   },
   {
    "duration": 4,
    "start_time": "2025-03-08T16:39:29.386Z"
   },
   {
    "duration": 4,
    "start_time": "2025-03-08T16:39:54.151Z"
   },
   {
    "duration": 4,
    "start_time": "2025-03-08T16:40:22.093Z"
   },
   {
    "duration": 4,
    "start_time": "2025-03-08T16:40:41.999Z"
   },
   {
    "duration": 4,
    "start_time": "2025-03-08T16:41:34.154Z"
   },
   {
    "duration": 5,
    "start_time": "2025-03-08T16:41:49.349Z"
   },
   {
    "duration": 15,
    "start_time": "2025-03-08T16:42:21.922Z"
   },
   {
    "duration": 7,
    "start_time": "2025-03-08T16:42:38.841Z"
   },
   {
    "duration": 8,
    "start_time": "2025-03-08T16:42:48.114Z"
   },
   {
    "duration": 7,
    "start_time": "2025-03-08T16:54:45.721Z"
   },
   {
    "duration": 6,
    "start_time": "2025-03-08T16:54:59.353Z"
   },
   {
    "duration": 7,
    "start_time": "2025-03-08T16:57:15.882Z"
   },
   {
    "duration": 9,
    "start_time": "2025-03-08T17:05:32.535Z"
   },
   {
    "duration": 9,
    "start_time": "2025-03-08T17:05:41.888Z"
   },
   {
    "duration": 14,
    "start_time": "2025-03-08T17:05:50.559Z"
   },
   {
    "duration": 3,
    "start_time": "2025-03-08T17:11:17.341Z"
   },
   {
    "duration": 8,
    "start_time": "2025-03-08T17:16:37.067Z"
   },
   {
    "duration": 14,
    "start_time": "2025-03-08T17:16:50.444Z"
   },
   {
    "duration": 14,
    "start_time": "2025-03-08T17:16:57.300Z"
   },
   {
    "duration": 4,
    "start_time": "2025-03-08T17:17:08.082Z"
   },
   {
    "duration": 7,
    "start_time": "2025-03-08T17:17:49.022Z"
   },
   {
    "duration": 15,
    "start_time": "2025-03-08T17:22:20.447Z"
   },
   {
    "duration": 2,
    "start_time": "2025-03-08T17:24:33.395Z"
   },
   {
    "duration": 8,
    "start_time": "2025-03-08T17:27:26.316Z"
   },
   {
    "duration": 4,
    "start_time": "2025-03-08T17:28:33.070Z"
   },
   {
    "duration": 5,
    "start_time": "2025-03-08T17:29:01.869Z"
   },
   {
    "duration": 14,
    "start_time": "2025-03-08T17:29:09.129Z"
   },
   {
    "duration": 3,
    "start_time": "2025-03-08T17:30:47.991Z"
   },
   {
    "duration": 5,
    "start_time": "2025-03-08T17:31:02.651Z"
   },
   {
    "duration": 5,
    "start_time": "2025-03-08T17:31:14.555Z"
   },
   {
    "duration": 2,
    "start_time": "2025-03-08T17:31:33.300Z"
   },
   {
    "duration": 4,
    "start_time": "2025-03-08T17:38:05.438Z"
   },
   {
    "duration": 4,
    "start_time": "2025-03-08T17:39:01.945Z"
   },
   {
    "duration": 4,
    "start_time": "2025-03-08T17:47:30.711Z"
   },
   {
    "duration": 3,
    "start_time": "2025-03-08T17:47:40.328Z"
   },
   {
    "duration": 2,
    "start_time": "2025-03-08T17:52:50.488Z"
   },
   {
    "duration": 3,
    "start_time": "2025-03-08T17:53:58.499Z"
   },
   {
    "duration": 5,
    "start_time": "2025-03-08T17:54:13.202Z"
   },
   {
    "duration": 6,
    "start_time": "2025-03-08T17:54:48.989Z"
   },
   {
    "duration": 2,
    "start_time": "2025-03-08T17:55:05.823Z"
   },
   {
    "duration": 7,
    "start_time": "2025-03-08T17:55:32.132Z"
   },
   {
    "duration": 2,
    "start_time": "2025-03-08T17:56:03.213Z"
   },
   {
    "duration": 4,
    "start_time": "2025-03-08T17:56:08.443Z"
   },
   {
    "duration": 2,
    "start_time": "2025-03-08T17:56:15.549Z"
   },
   {
    "duration": 4,
    "start_time": "2025-03-08T18:00:14.837Z"
   },
   {
    "duration": 2,
    "start_time": "2025-03-08T18:01:19.315Z"
   },
   {
    "duration": 2,
    "start_time": "2025-03-08T18:02:20.869Z"
   },
   {
    "duration": 4,
    "start_time": "2025-03-08T18:02:44.304Z"
   },
   {
    "duration": 4,
    "start_time": "2025-03-08T18:03:24.181Z"
   },
   {
    "duration": 3,
    "start_time": "2025-03-08T18:03:54.041Z"
   },
   {
    "duration": 4,
    "start_time": "2025-03-08T18:04:04.142Z"
   },
   {
    "duration": 2,
    "start_time": "2025-03-08T18:04:38.011Z"
   },
   {
    "duration": 4,
    "start_time": "2025-03-08T18:05:28.188Z"
   },
   {
    "duration": 3,
    "start_time": "2025-03-08T18:06:04.041Z"
   },
   {
    "duration": 3,
    "start_time": "2025-03-08T18:06:16.901Z"
   },
   {
    "duration": 2,
    "start_time": "2025-03-08T18:21:34.315Z"
   },
   {
    "duration": 164,
    "start_time": "2025-03-08T21:39:14.400Z"
   },
   {
    "duration": 356,
    "start_time": "2025-03-08T21:39:21.434Z"
   },
   {
    "duration": 290,
    "start_time": "2025-03-08T21:39:21.792Z"
   },
   {
    "duration": 13,
    "start_time": "2025-03-08T21:39:22.083Z"
   },
   {
    "duration": 30,
    "start_time": "2025-03-08T21:39:22.097Z"
   },
   {
    "duration": 12,
    "start_time": "2025-03-08T21:39:22.130Z"
   },
   {
    "duration": 25,
    "start_time": "2025-03-08T21:39:22.143Z"
   },
   {
    "duration": 36,
    "start_time": "2025-03-08T21:39:22.169Z"
   },
   {
    "duration": 27,
    "start_time": "2025-03-08T21:39:22.207Z"
   },
   {
    "duration": 1946,
    "start_time": "2025-03-08T21:39:22.235Z"
   },
   {
    "duration": 600,
    "start_time": "2025-03-08T21:39:24.182Z"
   },
   {
    "duration": 499,
    "start_time": "2025-03-08T21:39:24.783Z"
   },
   {
    "duration": 516,
    "start_time": "2025-03-08T21:39:25.284Z"
   },
   {
    "duration": 4,
    "start_time": "2025-03-08T21:39:25.802Z"
   },
   {
    "duration": 4,
    "start_time": "2025-03-08T21:39:25.810Z"
   },
   {
    "duration": 5,
    "start_time": "2025-03-08T21:39:25.816Z"
   },
   {
    "duration": 517,
    "start_time": "2025-03-08T21:39:25.823Z"
   },
   {
    "duration": 22,
    "start_time": "2025-03-08T21:39:26.342Z"
   },
   {
    "duration": 440,
    "start_time": "2025-03-08T21:39:26.366Z"
   },
   {
    "duration": 441,
    "start_time": "2025-03-08T21:39:26.808Z"
   },
   {
    "duration": 230,
    "start_time": "2025-03-08T21:39:27.251Z"
   },
   {
    "duration": 301,
    "start_time": "2025-03-08T21:39:27.482Z"
   },
   {
    "duration": 427,
    "start_time": "2025-03-08T21:39:27.785Z"
   },
   {
    "duration": 403,
    "start_time": "2025-03-08T21:39:28.213Z"
   },
   {
    "duration": 260,
    "start_time": "2025-03-08T21:39:28.618Z"
   },
   {
    "duration": 294,
    "start_time": "2025-03-08T21:39:28.881Z"
   },
   {
    "duration": 428,
    "start_time": "2025-03-08T21:39:29.177Z"
   },
   {
    "duration": 404,
    "start_time": "2025-03-08T21:39:29.607Z"
   },
   {
    "duration": 362,
    "start_time": "2025-03-08T21:39:30.013Z"
   },
   {
    "duration": 283,
    "start_time": "2025-03-08T21:39:30.379Z"
   },
   {
    "duration": 4,
    "start_time": "2025-03-08T21:39:30.664Z"
   },
   {
    "duration": 16,
    "start_time": "2025-03-08T21:39:30.670Z"
   },
   {
    "duration": 18,
    "start_time": "2025-03-08T21:39:30.688Z"
   },
   {
    "duration": 17,
    "start_time": "2025-03-08T21:39:30.707Z"
   },
   {
    "duration": 8,
    "start_time": "2025-03-08T21:39:30.725Z"
   },
   {
    "duration": 5,
    "start_time": "2025-03-08T21:39:30.735Z"
   },
   {
    "duration": 5,
    "start_time": "2025-03-08T21:39:30.742Z"
   },
   {
    "duration": 59,
    "start_time": "2025-03-08T21:39:30.749Z"
   },
   {
    "duration": 3,
    "start_time": "2025-03-08T21:39:30.810Z"
   },
   {
    "duration": 8,
    "start_time": "2025-03-08T21:39:30.816Z"
   },
   {
    "duration": 80,
    "start_time": "2025-03-08T21:39:30.828Z"
   },
   {
    "duration": 5,
    "start_time": "2025-03-08T21:39:30.914Z"
   },
   {
    "duration": 4,
    "start_time": "2025-03-08T21:39:30.921Z"
   },
   {
    "duration": 8,
    "start_time": "2025-03-08T21:39:30.926Z"
   },
   {
    "duration": 6,
    "start_time": "2025-03-08T21:39:30.936Z"
   },
   {
    "duration": 5,
    "start_time": "2025-03-08T21:39:31.006Z"
   },
   {
    "duration": 14,
    "start_time": "2025-03-08T21:39:31.013Z"
   },
   {
    "duration": 80,
    "start_time": "2025-03-08T21:39:31.030Z"
   },
   {
    "duration": 5,
    "start_time": "2025-03-08T21:39:31.115Z"
   },
   {
    "duration": 82,
    "start_time": "2025-03-08T21:39:31.125Z"
   },
   {
    "duration": 8,
    "start_time": "2025-03-08T21:39:31.210Z"
   },
   {
    "duration": 4,
    "start_time": "2025-03-08T21:39:31.221Z"
   },
   {
    "duration": 4,
    "start_time": "2025-03-08T21:39:31.227Z"
   },
   {
    "duration": 4,
    "start_time": "2025-03-08T21:39:31.233Z"
   },
   {
    "duration": 69,
    "start_time": "2025-03-08T21:39:31.239Z"
   },
   {
    "duration": 14,
    "start_time": "2025-03-08T21:39:31.310Z"
   },
   {
    "duration": 8,
    "start_time": "2025-03-08T21:39:31.327Z"
   },
   {
    "duration": 3,
    "start_time": "2025-03-08T21:39:31.406Z"
   },
   {
    "duration": 15,
    "start_time": "2025-03-08T21:39:31.412Z"
   },
   {
    "duration": 76,
    "start_time": "2025-03-08T21:39:31.432Z"
   },
   {
    "duration": 5,
    "start_time": "2025-03-08T21:39:31.513Z"
   },
   {
    "duration": 83,
    "start_time": "2025-03-08T21:39:31.522Z"
   },
   {
    "duration": 6,
    "start_time": "2025-03-08T21:39:31.611Z"
   },
   {
    "duration": 5,
    "start_time": "2025-03-08T21:39:31.619Z"
   },
   {
    "duration": 4,
    "start_time": "2025-03-08T21:39:31.626Z"
   },
   {
    "duration": 4,
    "start_time": "2025-03-08T21:39:31.632Z"
   },
   {
    "duration": 69,
    "start_time": "2025-03-08T21:39:31.637Z"
   },
   {
    "duration": 14,
    "start_time": "2025-03-08T21:39:31.708Z"
   },
   {
    "duration": 6,
    "start_time": "2025-03-08T21:39:31.723Z"
   },
   {
    "duration": 2,
    "start_time": "2025-03-08T21:39:31.731Z"
   },
   {
    "duration": 2,
    "start_time": "2025-03-08T21:39:31.806Z"
   },
   {
    "duration": 2,
    "start_time": "2025-03-08T21:39:31.810Z"
   },
   {
    "duration": 5,
    "start_time": "2025-03-08T21:39:31.816Z"
   },
   {
    "duration": 5,
    "start_time": "2025-03-08T21:39:31.824Z"
   },
   {
    "duration": 77,
    "start_time": "2025-03-08T21:39:31.830Z"
   },
   {
    "duration": 3,
    "start_time": "2025-03-08T21:39:31.909Z"
   },
   {
    "duration": 5,
    "start_time": "2025-03-08T21:39:31.914Z"
   },
   {
    "duration": 3,
    "start_time": "2025-03-08T21:39:31.920Z"
   },
   {
    "duration": 2,
    "start_time": "2025-03-08T21:39:31.925Z"
   },
   {
    "duration": 3,
    "start_time": "2025-03-08T21:39:31.929Z"
   },
   {
    "duration": 5,
    "start_time": "2025-03-08T21:39:31.933Z"
   },
   {
    "duration": 3,
    "start_time": "2025-03-08T21:39:31.939Z"
   },
   {
    "duration": 4,
    "start_time": "2025-03-08T21:39:31.943Z"
   },
   {
    "duration": 2,
    "start_time": "2025-03-08T21:39:31.949Z"
   },
   {
    "duration": 4,
    "start_time": "2025-03-08T21:39:31.953Z"
   },
   {
    "duration": 4,
    "start_time": "2025-03-08T21:39:46.969Z"
   },
   {
    "duration": 2,
    "start_time": "2025-03-08T21:41:22.470Z"
   },
   {
    "duration": 3,
    "start_time": "2025-03-08T21:41:24.488Z"
   },
   {
    "duration": 4,
    "start_time": "2025-03-08T21:41:25.661Z"
   },
   {
    "duration": 3,
    "start_time": "2025-03-08T21:41:27.866Z"
   },
   {
    "duration": 2,
    "start_time": "2025-03-08T21:41:28.434Z"
   },
   {
    "duration": 3,
    "start_time": "2025-03-08T21:41:29.587Z"
   },
   {
    "duration": 3,
    "start_time": "2025-03-08T21:41:32.152Z"
   },
   {
    "duration": 3,
    "start_time": "2025-03-08T21:41:33.683Z"
   },
   {
    "duration": 3,
    "start_time": "2025-03-08T21:41:35.618Z"
   },
   {
    "duration": 3,
    "start_time": "2025-03-08T21:41:36.288Z"
   },
   {
    "duration": 3,
    "start_time": "2025-03-08T21:41:45.553Z"
   },
   {
    "duration": 4,
    "start_time": "2025-03-08T21:41:52.545Z"
   },
   {
    "duration": 3,
    "start_time": "2025-03-08T21:42:00.930Z"
   },
   {
    "duration": 3,
    "start_time": "2025-03-08T21:43:03.216Z"
   },
   {
    "duration": 3,
    "start_time": "2025-03-08T21:43:41.571Z"
   },
   {
    "duration": 3,
    "start_time": "2025-03-08T21:43:53.623Z"
   },
   {
    "duration": 3,
    "start_time": "2025-03-08T21:44:15.220Z"
   },
   {
    "duration": 6,
    "start_time": "2025-03-08T21:44:40.514Z"
   },
   {
    "duration": 2,
    "start_time": "2025-03-08T21:44:53.119Z"
   },
   {
    "duration": 5,
    "start_time": "2025-03-08T21:45:05.130Z"
   },
   {
    "duration": 3,
    "start_time": "2025-03-08T21:46:04.306Z"
   },
   {
    "duration": 3,
    "start_time": "2025-03-08T21:46:15.088Z"
   },
   {
    "duration": 3,
    "start_time": "2025-03-08T21:46:26.207Z"
   },
   {
    "duration": 2,
    "start_time": "2025-03-08T21:46:38.158Z"
   },
   {
    "duration": 4,
    "start_time": "2025-03-08T21:47:46.424Z"
   },
   {
    "duration": 4,
    "start_time": "2025-03-08T21:48:05.533Z"
   },
   {
    "duration": 2,
    "start_time": "2025-03-08T21:48:38.228Z"
   },
   {
    "duration": 3,
    "start_time": "2025-03-08T21:49:06.961Z"
   },
   {
    "duration": 3,
    "start_time": "2025-03-08T21:49:17.480Z"
   },
   {
    "duration": 3,
    "start_time": "2025-03-08T21:49:55.633Z"
   },
   {
    "duration": 2,
    "start_time": "2025-03-08T21:50:23.167Z"
   },
   {
    "duration": 3,
    "start_time": "2025-03-08T21:50:49.577Z"
   },
   {
    "duration": 3,
    "start_time": "2025-03-08T21:51:01.499Z"
   },
   {
    "duration": 3,
    "start_time": "2025-03-08T21:53:13.167Z"
   },
   {
    "duration": 3,
    "start_time": "2025-03-08T21:53:38.258Z"
   },
   {
    "duration": 3,
    "start_time": "2025-03-08T21:53:52.166Z"
   },
   {
    "duration": 2,
    "start_time": "2025-03-08T21:54:14.386Z"
   },
   {
    "duration": 4,
    "start_time": "2025-03-08T22:00:03.086Z"
   },
   {
    "duration": 4,
    "start_time": "2025-03-08T22:00:14.291Z"
   },
   {
    "duration": 231,
    "start_time": "2025-03-08T22:00:48.431Z"
   },
   {
    "duration": 3,
    "start_time": "2025-03-08T22:01:14.078Z"
   },
   {
    "duration": 3,
    "start_time": "2025-03-08T22:01:17.053Z"
   },
   {
    "duration": 3,
    "start_time": "2025-03-08T22:01:42.250Z"
   },
   {
    "duration": 3,
    "start_time": "2025-03-08T22:01:54.787Z"
   },
   {
    "duration": 2,
    "start_time": "2025-03-08T22:02:05.046Z"
   },
   {
    "duration": 3,
    "start_time": "2025-03-08T22:02:40.421Z"
   },
   {
    "duration": 3,
    "start_time": "2025-03-08T22:02:58.546Z"
   },
   {
    "duration": 3,
    "start_time": "2025-03-08T22:09:21.139Z"
   },
   {
    "duration": 3,
    "start_time": "2025-03-08T22:09:32.056Z"
   },
   {
    "duration": 3,
    "start_time": "2025-03-08T22:09:53.843Z"
   },
   {
    "duration": 4,
    "start_time": "2025-03-08T22:11:13.388Z"
   },
   {
    "duration": 4,
    "start_time": "2025-03-08T22:11:29.518Z"
   },
   {
    "duration": 17,
    "start_time": "2025-03-08T22:27:09.902Z"
   },
   {
    "duration": 1915,
    "start_time": "2025-03-08T22:29:36.881Z"
   },
   {
    "duration": 19,
    "start_time": "2025-03-08T22:33:51.806Z"
   },
   {
    "duration": 332,
    "start_time": "2025-03-08T22:36:50.819Z"
   },
   {
    "duration": 21,
    "start_time": "2025-03-08T22:45:17.606Z"
   },
   {
    "duration": 221,
    "start_time": "2025-03-08T22:46:06.228Z"
   },
   {
    "duration": 220,
    "start_time": "2025-03-08T22:47:57.330Z"
   },
   {
    "duration": 9,
    "start_time": "2025-03-08T22:48:11.120Z"
   },
   {
    "duration": 3,
    "start_time": "2025-03-08T22:48:20.897Z"
   },
   {
    "duration": 6,
    "start_time": "2025-03-08T22:48:29.922Z"
   },
   {
    "duration": 336,
    "start_time": "2025-03-08T22:48:56.201Z"
   },
   {
    "duration": 228,
    "start_time": "2025-03-08T22:48:56.539Z"
   },
   {
    "duration": 13,
    "start_time": "2025-03-08T22:48:56.769Z"
   },
   {
    "duration": 42,
    "start_time": "2025-03-08T22:48:56.785Z"
   },
   {
    "duration": 11,
    "start_time": "2025-03-08T22:48:56.829Z"
   },
   {
    "duration": 25,
    "start_time": "2025-03-08T22:48:56.842Z"
   },
   {
    "duration": 11,
    "start_time": "2025-03-08T22:48:56.868Z"
   },
   {
    "duration": 45,
    "start_time": "2025-03-08T22:48:56.881Z"
   },
   {
    "duration": 136,
    "start_time": "2025-03-08T22:48:56.928Z"
   },
   {
    "duration": 580,
    "start_time": "2025-03-08T22:48:57.066Z"
   },
   {
    "duration": 520,
    "start_time": "2025-03-08T22:48:57.648Z"
   },
   {
    "duration": 542,
    "start_time": "2025-03-08T22:48:58.170Z"
   },
   {
    "duration": 4,
    "start_time": "2025-03-08T22:48:58.714Z"
   },
   {
    "duration": 4,
    "start_time": "2025-03-08T22:48:58.719Z"
   },
   {
    "duration": 5,
    "start_time": "2025-03-08T22:48:58.725Z"
   },
   {
    "duration": 500,
    "start_time": "2025-03-08T22:48:58.732Z"
   },
   {
    "duration": 26,
    "start_time": "2025-03-08T22:48:59.234Z"
   },
   {
    "duration": 467,
    "start_time": "2025-03-08T22:48:59.262Z"
   },
   {
    "duration": 505,
    "start_time": "2025-03-08T22:48:59.731Z"
   },
   {
    "duration": 240,
    "start_time": "2025-03-08T22:49:00.238Z"
   },
   {
    "duration": 299,
    "start_time": "2025-03-08T22:49:00.480Z"
   },
   {
    "duration": 427,
    "start_time": "2025-03-08T22:49:00.780Z"
   },
   {
    "duration": 474,
    "start_time": "2025-03-08T22:49:01.209Z"
   },
   {
    "duration": 285,
    "start_time": "2025-03-08T22:49:01.686Z"
   },
   {
    "duration": 304,
    "start_time": "2025-03-08T22:49:01.973Z"
   },
   {
    "duration": 430,
    "start_time": "2025-03-08T22:49:02.279Z"
   },
   {
    "duration": 509,
    "start_time": "2025-03-08T22:49:02.711Z"
   },
   {
    "duration": 256,
    "start_time": "2025-03-08T22:49:03.226Z"
   },
   {
    "duration": 293,
    "start_time": "2025-03-08T22:49:03.484Z"
   },
   {
    "duration": 5,
    "start_time": "2025-03-08T22:49:03.779Z"
   },
   {
    "duration": 31,
    "start_time": "2025-03-08T22:49:03.785Z"
   },
   {
    "duration": 3,
    "start_time": "2025-03-08T22:49:03.818Z"
   },
   {
    "duration": 11,
    "start_time": "2025-03-08T22:49:03.823Z"
   },
   {
    "duration": 6,
    "start_time": "2025-03-08T22:49:03.837Z"
   },
   {
    "duration": 58,
    "start_time": "2025-03-08T22:49:03.847Z"
   },
   {
    "duration": 8,
    "start_time": "2025-03-08T22:49:03.908Z"
   },
   {
    "duration": 6,
    "start_time": "2025-03-08T22:49:03.919Z"
   },
   {
    "duration": 77,
    "start_time": "2025-03-08T22:49:03.928Z"
   },
   {
    "duration": 5,
    "start_time": "2025-03-08T22:49:04.007Z"
   },
   {
    "duration": 5,
    "start_time": "2025-03-08T22:49:04.014Z"
   },
   {
    "duration": 4,
    "start_time": "2025-03-08T22:49:04.021Z"
   },
   {
    "duration": 5,
    "start_time": "2025-03-08T22:49:04.027Z"
   },
   {
    "duration": 72,
    "start_time": "2025-03-08T22:49:04.033Z"
   },
   {
    "duration": 9,
    "start_time": "2025-03-08T22:49:04.109Z"
   },
   {
    "duration": 6,
    "start_time": "2025-03-08T22:49:04.121Z"
   },
   {
    "duration": 84,
    "start_time": "2025-03-08T22:49:04.129Z"
   },
   {
    "duration": 4,
    "start_time": "2025-03-08T22:49:04.216Z"
   },
   {
    "duration": 5,
    "start_time": "2025-03-08T22:49:04.223Z"
   },
   {
    "duration": 80,
    "start_time": "2025-03-08T22:49:04.230Z"
   },
   {
    "duration": 6,
    "start_time": "2025-03-08T22:49:04.313Z"
   },
   {
    "duration": 4,
    "start_time": "2025-03-08T22:49:04.322Z"
   },
   {
    "duration": 5,
    "start_time": "2025-03-08T22:49:04.328Z"
   },
   {
    "duration": 73,
    "start_time": "2025-03-08T22:49:04.334Z"
   },
   {
    "duration": 5,
    "start_time": "2025-03-08T22:49:04.408Z"
   },
   {
    "duration": 10,
    "start_time": "2025-03-08T22:49:04.414Z"
   },
   {
    "duration": 7,
    "start_time": "2025-03-08T22:49:04.425Z"
   },
   {
    "duration": 2,
    "start_time": "2025-03-08T22:49:04.434Z"
   },
   {
    "duration": 76,
    "start_time": "2025-03-08T22:49:04.438Z"
   },
   {
    "duration": 3,
    "start_time": "2025-03-08T22:49:04.516Z"
   },
   {
    "duration": 4,
    "start_time": "2025-03-08T22:49:04.521Z"
   },
   {
    "duration": 78,
    "start_time": "2025-03-08T22:49:04.527Z"
   },
   {
    "duration": 5,
    "start_time": "2025-03-08T22:49:04.607Z"
   },
   {
    "duration": 7,
    "start_time": "2025-03-08T22:49:04.614Z"
   },
   {
    "duration": 5,
    "start_time": "2025-03-08T22:49:04.623Z"
   },
   {
    "duration": 4,
    "start_time": "2025-03-08T22:49:04.630Z"
   },
   {
    "duration": 6,
    "start_time": "2025-03-08T22:49:04.704Z"
   },
   {
    "duration": 11,
    "start_time": "2025-03-08T22:49:04.712Z"
   },
   {
    "duration": 9,
    "start_time": "2025-03-08T22:49:04.726Z"
   },
   {
    "duration": 72,
    "start_time": "2025-03-08T22:49:04.737Z"
   },
   {
    "duration": 2,
    "start_time": "2025-03-08T22:49:04.811Z"
   },
   {
    "duration": 3,
    "start_time": "2025-03-08T22:49:04.815Z"
   },
   {
    "duration": 6,
    "start_time": "2025-03-08T22:49:04.820Z"
   },
   {
    "duration": 79,
    "start_time": "2025-03-08T22:49:04.828Z"
   },
   {
    "duration": 3,
    "start_time": "2025-03-08T22:49:04.910Z"
   },
   {
    "duration": 3,
    "start_time": "2025-03-08T22:49:04.915Z"
   },
   {
    "duration": 4,
    "start_time": "2025-03-08T22:49:04.920Z"
   },
   {
    "duration": 3,
    "start_time": "2025-03-08T22:49:04.926Z"
   },
   {
    "duration": 4,
    "start_time": "2025-03-08T22:49:04.930Z"
   },
   {
    "duration": 4,
    "start_time": "2025-03-08T22:49:04.935Z"
   },
   {
    "duration": 6,
    "start_time": "2025-03-08T22:49:04.940Z"
   },
   {
    "duration": 3,
    "start_time": "2025-03-08T22:49:04.949Z"
   },
   {
    "duration": 42,
    "start_time": "2025-03-08T22:49:04.962Z"
   },
   {
    "duration": 3,
    "start_time": "2025-03-08T22:49:05.006Z"
   },
   {
    "duration": 3,
    "start_time": "2025-03-08T22:49:05.011Z"
   },
   {
    "duration": 3,
    "start_time": "2025-03-08T22:49:05.016Z"
   },
   {
    "duration": 4,
    "start_time": "2025-03-08T22:49:05.022Z"
   },
   {
    "duration": 4,
    "start_time": "2025-03-08T22:49:05.027Z"
   },
   {
    "duration": 3,
    "start_time": "2025-03-08T22:49:05.033Z"
   },
   {
    "duration": 3,
    "start_time": "2025-03-08T22:49:05.038Z"
   },
   {
    "duration": 5,
    "start_time": "2025-03-08T22:49:05.042Z"
   },
   {
    "duration": 3,
    "start_time": "2025-03-08T22:49:05.048Z"
   },
   {
    "duration": 4,
    "start_time": "2025-03-08T22:49:05.052Z"
   },
   {
    "duration": 48,
    "start_time": "2025-03-08T22:49:05.058Z"
   },
   {
    "duration": 5,
    "start_time": "2025-03-08T22:49:05.108Z"
   },
   {
    "duration": 3,
    "start_time": "2025-03-08T22:49:05.114Z"
   },
   {
    "duration": 3,
    "start_time": "2025-03-08T22:49:05.118Z"
   },
   {
    "duration": 3,
    "start_time": "2025-03-08T22:49:05.123Z"
   },
   {
    "duration": 4,
    "start_time": "2025-03-08T22:49:05.127Z"
   },
   {
    "duration": 3,
    "start_time": "2025-03-08T22:49:05.132Z"
   },
   {
    "duration": 4,
    "start_time": "2025-03-08T22:49:05.137Z"
   },
   {
    "duration": 4,
    "start_time": "2025-03-08T22:49:05.142Z"
   },
   {
    "duration": 2,
    "start_time": "2025-03-08T22:49:05.148Z"
   },
   {
    "duration": 4,
    "start_time": "2025-03-08T22:49:05.152Z"
   },
   {
    "duration": 49,
    "start_time": "2025-03-08T22:49:05.157Z"
   },
   {
    "duration": 3,
    "start_time": "2025-03-08T22:49:05.208Z"
   },
   {
    "duration": 3,
    "start_time": "2025-03-08T22:49:05.214Z"
   },
   {
    "duration": 3,
    "start_time": "2025-03-08T22:49:05.219Z"
   },
   {
    "duration": 4,
    "start_time": "2025-03-08T22:49:05.224Z"
   },
   {
    "duration": 3,
    "start_time": "2025-03-08T22:49:05.229Z"
   },
   {
    "duration": 2,
    "start_time": "2025-03-08T22:49:05.234Z"
   },
   {
    "duration": 3,
    "start_time": "2025-03-08T22:49:05.238Z"
   },
   {
    "duration": 3,
    "start_time": "2025-03-08T22:49:05.243Z"
   },
   {
    "duration": 3,
    "start_time": "2025-03-08T22:49:05.248Z"
   },
   {
    "duration": 4,
    "start_time": "2025-03-08T22:49:05.253Z"
   },
   {
    "duration": 54,
    "start_time": "2025-03-08T22:49:05.258Z"
   },
   {
    "duration": 1267,
    "start_time": "2025-03-08T22:49:05.314Z"
   },
   {
    "duration": 21,
    "start_time": "2025-03-08T22:49:54.598Z"
   },
   {
    "duration": 16,
    "start_time": "2025-03-08T22:50:27.335Z"
   },
   {
    "duration": 8,
    "start_time": "2025-03-08T22:50:46.794Z"
   },
   {
    "duration": 4,
    "start_time": "2025-03-08T22:51:01.631Z"
   },
   {
    "duration": 317,
    "start_time": "2025-03-08T22:51:26.451Z"
   },
   {
    "duration": 238,
    "start_time": "2025-03-08T22:51:26.770Z"
   },
   {
    "duration": 13,
    "start_time": "2025-03-08T22:51:27.010Z"
   },
   {
    "duration": 30,
    "start_time": "2025-03-08T22:51:27.025Z"
   },
   {
    "duration": 11,
    "start_time": "2025-03-08T22:51:27.057Z"
   },
   {
    "duration": 45,
    "start_time": "2025-03-08T22:51:27.070Z"
   },
   {
    "duration": 11,
    "start_time": "2025-03-08T22:51:27.117Z"
   },
   {
    "duration": 25,
    "start_time": "2025-03-08T22:51:27.130Z"
   },
   {
    "duration": 149,
    "start_time": "2025-03-08T22:51:27.156Z"
   },
   {
    "duration": 625,
    "start_time": "2025-03-08T22:51:27.309Z"
   },
   {
    "duration": 536,
    "start_time": "2025-03-08T22:51:27.936Z"
   },
   {
    "duration": 532,
    "start_time": "2025-03-08T22:51:28.473Z"
   },
   {
    "duration": 5,
    "start_time": "2025-03-08T22:51:29.007Z"
   },
   {
    "duration": 4,
    "start_time": "2025-03-08T22:51:29.014Z"
   },
   {
    "duration": 4,
    "start_time": "2025-03-08T22:51:29.020Z"
   },
   {
    "duration": 507,
    "start_time": "2025-03-08T22:51:29.025Z"
   },
   {
    "duration": 25,
    "start_time": "2025-03-08T22:51:29.534Z"
   },
   {
    "duration": 449,
    "start_time": "2025-03-08T22:51:29.560Z"
   },
   {
    "duration": 518,
    "start_time": "2025-03-08T22:51:30.012Z"
   },
   {
    "duration": 257,
    "start_time": "2025-03-08T22:51:30.531Z"
   },
   {
    "duration": 286,
    "start_time": "2025-03-08T22:51:30.790Z"
   },
   {
    "duration": 434,
    "start_time": "2025-03-08T22:51:31.078Z"
   },
   {
    "duration": 421,
    "start_time": "2025-03-08T22:51:31.515Z"
   },
   {
    "duration": 246,
    "start_time": "2025-03-08T22:51:31.939Z"
   },
   {
    "duration": 302,
    "start_time": "2025-03-08T22:51:32.187Z"
   },
   {
    "duration": 429,
    "start_time": "2025-03-08T22:51:32.491Z"
   },
   {
    "duration": 524,
    "start_time": "2025-03-08T22:51:32.922Z"
   },
   {
    "duration": 230,
    "start_time": "2025-03-08T22:51:33.451Z"
   },
   {
    "duration": 288,
    "start_time": "2025-03-08T22:51:33.683Z"
   },
   {
    "duration": 4,
    "start_time": "2025-03-08T22:51:33.972Z"
   },
   {
    "duration": 27,
    "start_time": "2025-03-08T22:51:33.979Z"
   },
   {
    "duration": 3,
    "start_time": "2025-03-08T22:51:34.007Z"
   },
   {
    "duration": 11,
    "start_time": "2025-03-08T22:51:34.011Z"
   },
   {
    "duration": 7,
    "start_time": "2025-03-08T22:51:34.024Z"
   },
   {
    "duration": 6,
    "start_time": "2025-03-08T22:51:34.033Z"
   },
   {
    "duration": 66,
    "start_time": "2025-03-08T22:51:34.040Z"
   },
   {
    "duration": 4,
    "start_time": "2025-03-08T22:51:34.108Z"
   },
   {
    "duration": 3,
    "start_time": "2025-03-08T22:51:34.114Z"
   },
   {
    "duration": 5,
    "start_time": "2025-03-08T22:51:34.118Z"
   },
   {
    "duration": 81,
    "start_time": "2025-03-08T22:51:34.125Z"
   },
   {
    "duration": 6,
    "start_time": "2025-03-08T22:51:34.208Z"
   },
   {
    "duration": 5,
    "start_time": "2025-03-08T22:51:34.216Z"
   },
   {
    "duration": 8,
    "start_time": "2025-03-08T22:51:34.223Z"
   },
   {
    "duration": 7,
    "start_time": "2025-03-08T22:51:34.233Z"
   },
   {
    "duration": 3,
    "start_time": "2025-03-08T22:51:34.306Z"
   },
   {
    "duration": 13,
    "start_time": "2025-03-08T22:51:34.310Z"
   },
   {
    "duration": 4,
    "start_time": "2025-03-08T22:51:34.325Z"
   },
   {
    "duration": 77,
    "start_time": "2025-03-08T22:51:34.331Z"
   },
   {
    "duration": 4,
    "start_time": "2025-03-08T22:51:34.410Z"
   },
   {
    "duration": 3,
    "start_time": "2025-03-08T22:51:34.416Z"
   },
   {
    "duration": 8,
    "start_time": "2025-03-08T22:51:34.421Z"
   },
   {
    "duration": 4,
    "start_time": "2025-03-08T22:51:34.507Z"
   },
   {
    "duration": 4,
    "start_time": "2025-03-08T22:51:34.513Z"
   },
   {
    "duration": 4,
    "start_time": "2025-03-08T22:51:34.519Z"
   },
   {
    "duration": 7,
    "start_time": "2025-03-08T22:51:34.525Z"
   },
   {
    "duration": 5,
    "start_time": "2025-03-08T22:51:34.534Z"
   },
   {
    "duration": 3,
    "start_time": "2025-03-08T22:51:34.605Z"
   },
   {
    "duration": 11,
    "start_time": "2025-03-08T22:51:34.610Z"
   },
   {
    "duration": 80,
    "start_time": "2025-03-08T22:51:34.626Z"
   },
   {
    "duration": 7,
    "start_time": "2025-03-08T22:51:34.710Z"
   },
   {
    "duration": 7,
    "start_time": "2025-03-08T22:51:34.721Z"
   },
   {
    "duration": 7,
    "start_time": "2025-03-08T22:51:34.807Z"
   },
   {
    "duration": 5,
    "start_time": "2025-03-08T22:51:34.818Z"
   },
   {
    "duration": 4,
    "start_time": "2025-03-08T22:51:34.825Z"
   },
   {
    "duration": 4,
    "start_time": "2025-03-08T22:51:34.831Z"
   },
   {
    "duration": 4,
    "start_time": "2025-03-08T22:51:34.836Z"
   },
   {
    "duration": 66,
    "start_time": "2025-03-08T22:51:34.842Z"
   },
   {
    "duration": 8,
    "start_time": "2025-03-08T22:51:34.912Z"
   },
   {
    "duration": 4,
    "start_time": "2025-03-08T22:51:34.922Z"
   },
   {
    "duration": 80,
    "start_time": "2025-03-08T22:51:34.928Z"
   },
   {
    "duration": 3,
    "start_time": "2025-03-08T22:51:35.010Z"
   },
   {
    "duration": 4,
    "start_time": "2025-03-08T22:51:35.015Z"
   },
   {
    "duration": 4,
    "start_time": "2025-03-08T22:51:35.021Z"
   },
   {
    "duration": 3,
    "start_time": "2025-03-08T22:51:35.027Z"
   },
   {
    "duration": 3,
    "start_time": "2025-03-08T22:51:35.032Z"
   },
   {
    "duration": 4,
    "start_time": "2025-03-08T22:51:35.037Z"
   },
   {
    "duration": 3,
    "start_time": "2025-03-08T22:51:35.042Z"
   },
   {
    "duration": 60,
    "start_time": "2025-03-08T22:51:35.046Z"
   },
   {
    "duration": 3,
    "start_time": "2025-03-08T22:51:35.109Z"
   },
   {
    "duration": 5,
    "start_time": "2025-03-08T22:51:35.113Z"
   },
   {
    "duration": 2,
    "start_time": "2025-03-08T22:51:35.120Z"
   },
   {
    "duration": 2,
    "start_time": "2025-03-08T22:51:35.129Z"
   },
   {
    "duration": 4,
    "start_time": "2025-03-08T22:51:35.132Z"
   },
   {
    "duration": 4,
    "start_time": "2025-03-08T22:51:35.137Z"
   },
   {
    "duration": 3,
    "start_time": "2025-03-08T22:51:35.142Z"
   },
   {
    "duration": 4,
    "start_time": "2025-03-08T22:51:35.147Z"
   },
   {
    "duration": 5,
    "start_time": "2025-03-08T22:51:35.153Z"
   },
   {
    "duration": 47,
    "start_time": "2025-03-08T22:51:35.160Z"
   },
   {
    "duration": 3,
    "start_time": "2025-03-08T22:51:35.210Z"
   },
   {
    "duration": 5,
    "start_time": "2025-03-08T22:51:35.214Z"
   },
   {
    "duration": 3,
    "start_time": "2025-03-08T22:51:35.221Z"
   },
   {
    "duration": 4,
    "start_time": "2025-03-08T22:51:35.225Z"
   },
   {
    "duration": 2,
    "start_time": "2025-03-08T22:51:35.232Z"
   },
   {
    "duration": 4,
    "start_time": "2025-03-08T22:51:35.236Z"
   },
   {
    "duration": 2,
    "start_time": "2025-03-08T22:51:35.242Z"
   },
   {
    "duration": 3,
    "start_time": "2025-03-08T22:51:35.246Z"
   },
   {
    "duration": 3,
    "start_time": "2025-03-08T22:51:35.250Z"
   },
   {
    "duration": 51,
    "start_time": "2025-03-08T22:51:35.255Z"
   },
   {
    "duration": 3,
    "start_time": "2025-03-08T22:51:35.308Z"
   },
   {
    "duration": 3,
    "start_time": "2025-03-08T22:51:35.313Z"
   },
   {
    "duration": 5,
    "start_time": "2025-03-08T22:51:35.318Z"
   },
   {
    "duration": 2,
    "start_time": "2025-03-08T22:51:35.325Z"
   },
   {
    "duration": 3,
    "start_time": "2025-03-08T22:51:35.329Z"
   },
   {
    "duration": 4,
    "start_time": "2025-03-08T22:51:35.334Z"
   },
   {
    "duration": 6,
    "start_time": "2025-03-08T22:51:35.340Z"
   },
   {
    "duration": 4,
    "start_time": "2025-03-08T22:51:35.348Z"
   },
   {
    "duration": 3,
    "start_time": "2025-03-08T22:51:35.354Z"
   },
   {
    "duration": 4,
    "start_time": "2025-03-08T22:51:35.359Z"
   },
   {
    "duration": 42,
    "start_time": "2025-03-08T22:51:35.364Z"
   },
   {
    "duration": 3,
    "start_time": "2025-03-08T22:51:35.408Z"
   },
   {
    "duration": 3,
    "start_time": "2025-03-08T22:51:35.413Z"
   },
   {
    "duration": 3,
    "start_time": "2025-03-08T22:51:35.420Z"
   },
   {
    "duration": 4,
    "start_time": "2025-03-08T22:51:35.424Z"
   },
   {
    "duration": 4,
    "start_time": "2025-03-08T22:51:35.429Z"
   },
   {
    "duration": 4,
    "start_time": "2025-03-08T22:51:35.435Z"
   },
   {
    "duration": 3,
    "start_time": "2025-03-08T22:51:35.441Z"
   },
   {
    "duration": 1426,
    "start_time": "2025-03-08T22:51:35.446Z"
   },
   {
    "duration": 307,
    "start_time": "2025-03-08T22:52:25.306Z"
   },
   {
    "duration": 4,
    "start_time": "2025-03-08T22:52:56.774Z"
   },
   {
    "duration": 5,
    "start_time": "2025-03-08T22:55:13.334Z"
   },
   {
    "duration": 437,
    "start_time": "2025-03-08T22:57:10.104Z"
   },
   {
    "duration": 171,
    "start_time": "2025-03-08T23:17:07.776Z"
   },
   {
    "duration": 4,
    "start_time": "2025-03-08T23:17:34.566Z"
   },
   {
    "duration": 2,
    "start_time": "2025-03-08T23:18:23.850Z"
   },
   {
    "duration": 170,
    "start_time": "2025-03-08T23:19:13.115Z"
   },
   {
    "duration": 4,
    "start_time": "2025-03-08T23:19:58.547Z"
   },
   {
    "duration": 4,
    "start_time": "2025-03-08T23:20:14.176Z"
   },
   {
    "duration": 330,
    "start_time": "2025-03-08T23:21:03.452Z"
   },
   {
    "duration": 241,
    "start_time": "2025-03-08T23:21:03.784Z"
   },
   {
    "duration": 12,
    "start_time": "2025-03-08T23:21:04.026Z"
   },
   {
    "duration": 30,
    "start_time": "2025-03-08T23:21:04.040Z"
   },
   {
    "duration": 11,
    "start_time": "2025-03-08T23:21:04.072Z"
   },
   {
    "duration": 43,
    "start_time": "2025-03-08T23:21:04.085Z"
   },
   {
    "duration": 14,
    "start_time": "2025-03-08T23:21:04.129Z"
   },
   {
    "duration": 28,
    "start_time": "2025-03-08T23:21:04.144Z"
   },
   {
    "duration": 148,
    "start_time": "2025-03-08T23:21:04.174Z"
   },
   {
    "duration": 602,
    "start_time": "2025-03-08T23:21:04.324Z"
   },
   {
    "duration": 503,
    "start_time": "2025-03-08T23:21:04.927Z"
   },
   {
    "duration": 553,
    "start_time": "2025-03-08T23:21:05.432Z"
   },
   {
    "duration": 4,
    "start_time": "2025-03-08T23:21:05.987Z"
   },
   {
    "duration": 3,
    "start_time": "2025-03-08T23:21:06.008Z"
   },
   {
    "duration": 5,
    "start_time": "2025-03-08T23:21:06.013Z"
   },
   {
    "duration": 517,
    "start_time": "2025-03-08T23:21:06.020Z"
   },
   {
    "duration": 26,
    "start_time": "2025-03-08T23:21:06.538Z"
   },
   {
    "duration": 431,
    "start_time": "2025-03-08T23:21:06.566Z"
   },
   {
    "duration": 506,
    "start_time": "2025-03-08T23:21:06.999Z"
   },
   {
    "duration": 270,
    "start_time": "2025-03-08T23:21:07.507Z"
   },
   {
    "duration": 277,
    "start_time": "2025-03-08T23:21:07.779Z"
   },
   {
    "duration": 451,
    "start_time": "2025-03-08T23:21:08.058Z"
   },
   {
    "duration": 408,
    "start_time": "2025-03-08T23:21:08.511Z"
   },
   {
    "duration": 265,
    "start_time": "2025-03-08T23:21:08.921Z"
   },
   {
    "duration": 278,
    "start_time": "2025-03-08T23:21:09.188Z"
   },
   {
    "duration": 439,
    "start_time": "2025-03-08T23:21:09.468Z"
   },
   {
    "duration": 500,
    "start_time": "2025-03-08T23:21:09.909Z"
   },
   {
    "duration": 260,
    "start_time": "2025-03-08T23:21:10.411Z"
   },
   {
    "duration": 292,
    "start_time": "2025-03-08T23:21:10.673Z"
   },
   {
    "duration": 5,
    "start_time": "2025-03-08T23:21:10.966Z"
   },
   {
    "duration": 15,
    "start_time": "2025-03-08T23:21:10.972Z"
   },
   {
    "duration": 17,
    "start_time": "2025-03-08T23:21:10.988Z"
   },
   {
    "duration": 9,
    "start_time": "2025-03-08T23:21:11.007Z"
   },
   {
    "duration": 5,
    "start_time": "2025-03-08T23:21:11.018Z"
   },
   {
    "duration": 5,
    "start_time": "2025-03-08T23:21:11.028Z"
   },
   {
    "duration": 5,
    "start_time": "2025-03-08T23:21:11.035Z"
   },
   {
    "duration": 5,
    "start_time": "2025-03-08T23:21:11.106Z"
   },
   {
    "duration": 4,
    "start_time": "2025-03-08T23:21:11.113Z"
   },
   {
    "duration": 5,
    "start_time": "2025-03-08T23:21:11.119Z"
   },
   {
    "duration": 5,
    "start_time": "2025-03-08T23:21:11.126Z"
   },
   {
    "duration": 5,
    "start_time": "2025-03-08T23:21:11.211Z"
   },
   {
    "duration": 5,
    "start_time": "2025-03-08T23:21:11.218Z"
   },
   {
    "duration": 14,
    "start_time": "2025-03-08T23:21:11.224Z"
   },
   {
    "duration": 10,
    "start_time": "2025-03-08T23:21:11.239Z"
   },
   {
    "duration": 2,
    "start_time": "2025-03-08T23:21:11.251Z"
   },
   {
    "duration": 58,
    "start_time": "2025-03-08T23:21:11.255Z"
   },
   {
    "duration": 5,
    "start_time": "2025-03-08T23:21:11.319Z"
   },
   {
    "duration": 81,
    "start_time": "2025-03-08T23:21:11.325Z"
   },
   {
    "duration": 7,
    "start_time": "2025-03-08T23:21:11.411Z"
   },
   {
    "duration": 6,
    "start_time": "2025-03-08T23:21:11.423Z"
   },
   {
    "duration": 5,
    "start_time": "2025-03-08T23:21:11.506Z"
   },
   {
    "duration": 5,
    "start_time": "2025-03-08T23:21:11.513Z"
   },
   {
    "duration": 6,
    "start_time": "2025-03-08T23:21:11.519Z"
   },
   {
    "duration": 6,
    "start_time": "2025-03-08T23:21:11.526Z"
   },
   {
    "duration": 9,
    "start_time": "2025-03-08T23:21:11.534Z"
   },
   {
    "duration": 68,
    "start_time": "2025-03-08T23:21:11.545Z"
   },
   {
    "duration": 3,
    "start_time": "2025-03-08T23:21:11.614Z"
   },
   {
    "duration": 88,
    "start_time": "2025-03-08T23:21:11.619Z"
   },
   {
    "duration": 4,
    "start_time": "2025-03-08T23:21:11.709Z"
   },
   {
    "duration": 7,
    "start_time": "2025-03-08T23:21:11.715Z"
   },
   {
    "duration": 5,
    "start_time": "2025-03-08T23:21:11.726Z"
   },
   {
    "duration": 4,
    "start_time": "2025-03-08T23:21:11.806Z"
   },
   {
    "duration": 6,
    "start_time": "2025-03-08T23:21:11.813Z"
   },
   {
    "duration": 4,
    "start_time": "2025-03-08T23:21:11.822Z"
   },
   {
    "duration": 4,
    "start_time": "2025-03-08T23:21:11.828Z"
   },
   {
    "duration": 4,
    "start_time": "2025-03-08T23:21:11.833Z"
   },
   {
    "duration": 9,
    "start_time": "2025-03-08T23:21:11.906Z"
   },
   {
    "duration": 9,
    "start_time": "2025-03-08T23:21:11.916Z"
   },
   {
    "duration": 2,
    "start_time": "2025-03-08T23:21:11.927Z"
   },
   {
    "duration": 76,
    "start_time": "2025-03-08T23:21:11.931Z"
   },
   {
    "duration": 3,
    "start_time": "2025-03-08T23:21:12.009Z"
   },
   {
    "duration": 6,
    "start_time": "2025-03-08T23:21:12.013Z"
   },
   {
    "duration": 4,
    "start_time": "2025-03-08T23:21:12.022Z"
   },
   {
    "duration": 3,
    "start_time": "2025-03-08T23:21:12.027Z"
   },
   {
    "duration": 3,
    "start_time": "2025-03-08T23:21:12.031Z"
   },
   {
    "duration": 72,
    "start_time": "2025-03-08T23:21:12.036Z"
   },
   {
    "duration": 3,
    "start_time": "2025-03-08T23:21:12.110Z"
   },
   {
    "duration": 4,
    "start_time": "2025-03-08T23:21:12.114Z"
   },
   {
    "duration": 3,
    "start_time": "2025-03-08T23:21:12.119Z"
   },
   {
    "duration": 4,
    "start_time": "2025-03-08T23:21:12.124Z"
   },
   {
    "duration": 3,
    "start_time": "2025-03-08T23:21:12.130Z"
   },
   {
    "duration": 3,
    "start_time": "2025-03-08T23:21:12.135Z"
   },
   {
    "duration": 3,
    "start_time": "2025-03-08T23:21:12.139Z"
   },
   {
    "duration": 4,
    "start_time": "2025-03-08T23:21:12.144Z"
   },
   {
    "duration": 4,
    "start_time": "2025-03-08T23:21:12.149Z"
   },
   {
    "duration": 4,
    "start_time": "2025-03-08T23:21:12.155Z"
   },
   {
    "duration": 6,
    "start_time": "2025-03-08T23:21:12.206Z"
   },
   {
    "duration": 4,
    "start_time": "2025-03-08T23:21:12.215Z"
   },
   {
    "duration": 2,
    "start_time": "2025-03-08T23:21:12.221Z"
   },
   {
    "duration": 4,
    "start_time": "2025-03-08T23:21:12.225Z"
   },
   {
    "duration": 2,
    "start_time": "2025-03-08T23:21:12.231Z"
   },
   {
    "duration": 3,
    "start_time": "2025-03-08T23:21:12.235Z"
   },
   {
    "duration": 3,
    "start_time": "2025-03-08T23:21:12.240Z"
   },
   {
    "duration": 4,
    "start_time": "2025-03-08T23:21:12.245Z"
   },
   {
    "duration": 3,
    "start_time": "2025-03-08T23:21:12.251Z"
   },
   {
    "duration": 3,
    "start_time": "2025-03-08T23:21:12.255Z"
   },
   {
    "duration": 2,
    "start_time": "2025-03-08T23:21:12.261Z"
   },
   {
    "duration": 43,
    "start_time": "2025-03-08T23:21:12.265Z"
   },
   {
    "duration": 4,
    "start_time": "2025-03-08T23:21:12.309Z"
   },
   {
    "duration": 5,
    "start_time": "2025-03-08T23:21:12.315Z"
   },
   {
    "duration": 5,
    "start_time": "2025-03-08T23:21:12.321Z"
   },
   {
    "duration": 6,
    "start_time": "2025-03-08T23:21:12.328Z"
   },
   {
    "duration": 4,
    "start_time": "2025-03-08T23:21:12.335Z"
   },
   {
    "duration": 5,
    "start_time": "2025-03-08T23:21:12.340Z"
   },
   {
    "duration": 3,
    "start_time": "2025-03-08T23:21:12.346Z"
   },
   {
    "duration": 3,
    "start_time": "2025-03-08T23:21:12.351Z"
   },
   {
    "duration": 3,
    "start_time": "2025-03-08T23:21:12.356Z"
   },
   {
    "duration": 49,
    "start_time": "2025-03-08T23:21:12.360Z"
   },
   {
    "duration": 3,
    "start_time": "2025-03-08T23:21:12.410Z"
   },
   {
    "duration": 3,
    "start_time": "2025-03-08T23:21:12.415Z"
   },
   {
    "duration": 4,
    "start_time": "2025-03-08T23:21:12.421Z"
   },
   {
    "duration": 4,
    "start_time": "2025-03-08T23:21:12.427Z"
   },
   {
    "duration": 8,
    "start_time": "2025-03-08T23:21:12.432Z"
   },
   {
    "duration": 2,
    "start_time": "2025-03-08T23:21:12.442Z"
   },
   {
    "duration": 7,
    "start_time": "2025-03-08T23:21:12.446Z"
   },
   {
    "duration": 8,
    "start_time": "2025-03-08T23:21:12.455Z"
   },
   {
    "duration": 3,
    "start_time": "2025-03-08T23:21:12.465Z"
   },
   {
    "duration": 35,
    "start_time": "2025-03-08T23:21:12.471Z"
   },
   {
    "duration": 182,
    "start_time": "2025-03-08T23:21:12.509Z"
   },
   {
    "duration": 5,
    "start_time": "2025-03-08T23:24:22.538Z"
   },
   {
    "duration": 5,
    "start_time": "2025-03-08T23:25:50.910Z"
   },
   {
    "duration": 2,
    "start_time": "2025-03-08T23:35:27.569Z"
   },
   {
    "duration": 4,
    "start_time": "2025-03-08T23:35:39.545Z"
   },
   {
    "duration": 5,
    "start_time": "2025-03-08T23:35:59.270Z"
   },
   {
    "duration": 5,
    "start_time": "2025-03-08T23:36:25.314Z"
   },
   {
    "duration": 163,
    "start_time": "2025-03-08T23:37:24.197Z"
   },
   {
    "duration": 161,
    "start_time": "2025-03-08T23:38:49.350Z"
   },
   {
    "duration": 163,
    "start_time": "2025-03-08T23:39:13.407Z"
   },
   {
    "duration": 173,
    "start_time": "2025-03-08T23:39:42.325Z"
   },
   {
    "duration": 167,
    "start_time": "2025-03-08T23:40:25.409Z"
   },
   {
    "duration": 327,
    "start_time": "2025-03-08T23:40:38.135Z"
   },
   {
    "duration": 227,
    "start_time": "2025-03-08T23:40:38.464Z"
   },
   {
    "duration": 13,
    "start_time": "2025-03-08T23:40:38.693Z"
   },
   {
    "duration": 32,
    "start_time": "2025-03-08T23:40:38.707Z"
   },
   {
    "duration": 10,
    "start_time": "2025-03-08T23:40:38.742Z"
   },
   {
    "duration": 27,
    "start_time": "2025-03-08T23:40:38.753Z"
   },
   {
    "duration": 31,
    "start_time": "2025-03-08T23:40:38.782Z"
   },
   {
    "duration": 26,
    "start_time": "2025-03-08T23:40:38.815Z"
   },
   {
    "duration": 151,
    "start_time": "2025-03-08T23:40:38.843Z"
   },
   {
    "duration": 618,
    "start_time": "2025-03-08T23:40:38.996Z"
   },
   {
    "duration": 491,
    "start_time": "2025-03-08T23:40:39.616Z"
   },
   {
    "duration": 518,
    "start_time": "2025-03-08T23:40:40.109Z"
   },
   {
    "duration": 3,
    "start_time": "2025-03-08T23:40:40.629Z"
   },
   {
    "duration": 3,
    "start_time": "2025-03-08T23:40:40.636Z"
   },
   {
    "duration": 4,
    "start_time": "2025-03-08T23:40:40.641Z"
   },
   {
    "duration": 486,
    "start_time": "2025-03-08T23:40:40.647Z"
   },
   {
    "duration": 25,
    "start_time": "2025-03-08T23:40:41.135Z"
   },
   {
    "duration": 451,
    "start_time": "2025-03-08T23:40:41.163Z"
   },
   {
    "duration": 508,
    "start_time": "2025-03-08T23:40:41.616Z"
   },
   {
    "duration": 256,
    "start_time": "2025-03-08T23:40:42.127Z"
   },
   {
    "duration": 298,
    "start_time": "2025-03-08T23:40:42.385Z"
   },
   {
    "duration": 436,
    "start_time": "2025-03-08T23:40:42.685Z"
   },
   {
    "duration": 446,
    "start_time": "2025-03-08T23:40:43.123Z"
   },
   {
    "duration": 264,
    "start_time": "2025-03-08T23:40:43.571Z"
   },
   {
    "duration": 252,
    "start_time": "2025-03-08T23:40:43.837Z"
   },
   {
    "duration": 426,
    "start_time": "2025-03-08T23:40:44.091Z"
   },
   {
    "duration": 493,
    "start_time": "2025-03-08T23:40:44.519Z"
   },
   {
    "duration": 253,
    "start_time": "2025-03-08T23:40:45.015Z"
   },
   {
    "duration": 284,
    "start_time": "2025-03-08T23:40:45.271Z"
   },
   {
    "duration": 4,
    "start_time": "2025-03-08T23:40:45.557Z"
   },
   {
    "duration": 16,
    "start_time": "2025-03-08T23:40:45.563Z"
   },
   {
    "duration": 2,
    "start_time": "2025-03-08T23:40:45.581Z"
   },
   {
    "duration": 21,
    "start_time": "2025-03-08T23:40:45.585Z"
   },
   {
    "duration": 7,
    "start_time": "2025-03-08T23:40:45.608Z"
   },
   {
    "duration": 4,
    "start_time": "2025-03-08T23:40:45.617Z"
   },
   {
    "duration": 4,
    "start_time": "2025-03-08T23:40:45.623Z"
   },
   {
    "duration": 4,
    "start_time": "2025-03-08T23:40:45.629Z"
   },
   {
    "duration": 72,
    "start_time": "2025-03-08T23:40:45.634Z"
   },
   {
    "duration": 6,
    "start_time": "2025-03-08T23:40:45.709Z"
   },
   {
    "duration": 6,
    "start_time": "2025-03-08T23:40:45.717Z"
   },
   {
    "duration": 4,
    "start_time": "2025-03-08T23:40:45.734Z"
   },
   {
    "duration": 5,
    "start_time": "2025-03-08T23:40:45.806Z"
   },
   {
    "duration": 9,
    "start_time": "2025-03-08T23:40:45.813Z"
   },
   {
    "duration": 9,
    "start_time": "2025-03-08T23:40:45.823Z"
   },
   {
    "duration": 2,
    "start_time": "2025-03-08T23:40:45.834Z"
   },
   {
    "duration": 10,
    "start_time": "2025-03-08T23:40:45.906Z"
   },
   {
    "duration": 6,
    "start_time": "2025-03-08T23:40:45.918Z"
   },
   {
    "duration": 79,
    "start_time": "2025-03-08T23:40:45.926Z"
   },
   {
    "duration": 6,
    "start_time": "2025-03-08T23:40:46.010Z"
   },
   {
    "duration": 5,
    "start_time": "2025-03-08T23:40:46.020Z"
   },
   {
    "duration": 79,
    "start_time": "2025-03-08T23:40:46.027Z"
   },
   {
    "duration": 5,
    "start_time": "2025-03-08T23:40:46.108Z"
   },
   {
    "duration": 5,
    "start_time": "2025-03-08T23:40:46.115Z"
   },
   {
    "duration": 4,
    "start_time": "2025-03-08T23:40:46.121Z"
   },
   {
    "duration": 7,
    "start_time": "2025-03-08T23:40:46.128Z"
   },
   {
    "duration": 7,
    "start_time": "2025-03-08T23:40:46.137Z"
   },
   {
    "duration": 62,
    "start_time": "2025-03-08T23:40:46.145Z"
   },
   {
    "duration": 19,
    "start_time": "2025-03-08T23:40:46.209Z"
   },
   {
    "duration": 76,
    "start_time": "2025-03-08T23:40:46.230Z"
   },
   {
    "duration": 5,
    "start_time": "2025-03-08T23:40:46.308Z"
   },
   {
    "duration": 6,
    "start_time": "2025-03-08T23:40:46.315Z"
   },
   {
    "duration": 6,
    "start_time": "2025-03-08T23:40:46.323Z"
   },
   {
    "duration": 5,
    "start_time": "2025-03-08T23:40:46.404Z"
   },
   {
    "duration": 4,
    "start_time": "2025-03-08T23:40:46.411Z"
   },
   {
    "duration": 5,
    "start_time": "2025-03-08T23:40:46.417Z"
   },
   {
    "duration": 5,
    "start_time": "2025-03-08T23:40:46.423Z"
   },
   {
    "duration": 7,
    "start_time": "2025-03-08T23:40:46.430Z"
   },
   {
    "duration": 73,
    "start_time": "2025-03-08T23:40:46.439Z"
   },
   {
    "duration": 4,
    "start_time": "2025-03-08T23:40:46.513Z"
   },
   {
    "duration": 4,
    "start_time": "2025-03-08T23:40:46.520Z"
   },
   {
    "duration": 3,
    "start_time": "2025-03-08T23:40:46.527Z"
   },
   {
    "duration": 77,
    "start_time": "2025-03-08T23:40:46.532Z"
   },
   {
    "duration": 3,
    "start_time": "2025-03-08T23:40:46.612Z"
   },
   {
    "duration": 5,
    "start_time": "2025-03-08T23:40:46.617Z"
   },
   {
    "duration": 3,
    "start_time": "2025-03-08T23:40:46.623Z"
   },
   {
    "duration": 4,
    "start_time": "2025-03-08T23:40:46.627Z"
   },
   {
    "duration": 3,
    "start_time": "2025-03-08T23:40:46.633Z"
   },
   {
    "duration": 4,
    "start_time": "2025-03-08T23:40:46.637Z"
   },
   {
    "duration": 4,
    "start_time": "2025-03-08T23:40:46.642Z"
   },
   {
    "duration": 4,
    "start_time": "2025-03-08T23:40:46.648Z"
   },
   {
    "duration": 52,
    "start_time": "2025-03-08T23:40:46.653Z"
   },
   {
    "duration": 3,
    "start_time": "2025-03-08T23:40:46.707Z"
   },
   {
    "duration": 3,
    "start_time": "2025-03-08T23:40:46.712Z"
   },
   {
    "duration": 3,
    "start_time": "2025-03-08T23:40:46.717Z"
   },
   {
    "duration": 3,
    "start_time": "2025-03-08T23:40:46.722Z"
   },
   {
    "duration": 4,
    "start_time": "2025-03-08T23:40:46.727Z"
   },
   {
    "duration": 3,
    "start_time": "2025-03-08T23:40:46.733Z"
   },
   {
    "duration": 3,
    "start_time": "2025-03-08T23:40:46.738Z"
   },
   {
    "duration": 3,
    "start_time": "2025-03-08T23:40:46.743Z"
   },
   {
    "duration": 4,
    "start_time": "2025-03-08T23:40:46.748Z"
   },
   {
    "duration": 3,
    "start_time": "2025-03-08T23:40:46.754Z"
   },
   {
    "duration": 46,
    "start_time": "2025-03-08T23:40:46.759Z"
   },
   {
    "duration": 3,
    "start_time": "2025-03-08T23:40:46.807Z"
   },
   {
    "duration": 4,
    "start_time": "2025-03-08T23:40:46.812Z"
   },
   {
    "duration": 2,
    "start_time": "2025-03-08T23:40:46.818Z"
   },
   {
    "duration": 4,
    "start_time": "2025-03-08T23:40:46.822Z"
   },
   {
    "duration": 3,
    "start_time": "2025-03-08T23:40:46.828Z"
   },
   {
    "duration": 3,
    "start_time": "2025-03-08T23:40:46.833Z"
   },
   {
    "duration": 3,
    "start_time": "2025-03-08T23:40:46.838Z"
   },
   {
    "duration": 4,
    "start_time": "2025-03-08T23:40:46.843Z"
   },
   {
    "duration": 5,
    "start_time": "2025-03-08T23:40:46.848Z"
   },
   {
    "duration": 5,
    "start_time": "2025-03-08T23:40:46.854Z"
   },
   {
    "duration": 3,
    "start_time": "2025-03-08T23:40:46.860Z"
   },
   {
    "duration": 43,
    "start_time": "2025-03-08T23:40:46.865Z"
   },
   {
    "duration": 2,
    "start_time": "2025-03-08T23:40:46.910Z"
   },
   {
    "duration": 4,
    "start_time": "2025-03-08T23:40:46.913Z"
   },
   {
    "duration": 3,
    "start_time": "2025-03-08T23:40:46.919Z"
   },
   {
    "duration": 4,
    "start_time": "2025-03-08T23:40:46.924Z"
   },
   {
    "duration": 3,
    "start_time": "2025-03-08T23:40:46.930Z"
   },
   {
    "duration": 4,
    "start_time": "2025-03-08T23:40:46.934Z"
   },
   {
    "duration": 4,
    "start_time": "2025-03-08T23:40:46.939Z"
   },
   {
    "duration": 4,
    "start_time": "2025-03-08T23:40:46.944Z"
   },
   {
    "duration": 5,
    "start_time": "2025-03-08T23:40:46.950Z"
   },
   {
    "duration": 48,
    "start_time": "2025-03-08T23:40:46.957Z"
   },
   {
    "duration": 3,
    "start_time": "2025-03-08T23:40:47.007Z"
   },
   {
    "duration": 4,
    "start_time": "2025-03-08T23:40:47.012Z"
   },
   {
    "duration": 3,
    "start_time": "2025-03-08T23:40:47.018Z"
   },
   {
    "duration": 5,
    "start_time": "2025-03-08T23:40:47.022Z"
   },
   {
    "duration": 415,
    "start_time": "2025-03-08T23:40:47.028Z"
   },
   {
    "duration": 0,
    "start_time": "2025-03-08T23:40:47.445Z"
   },
   {
    "duration": 0,
    "start_time": "2025-03-08T23:40:47.447Z"
   },
   {
    "duration": 0,
    "start_time": "2025-03-08T23:40:47.448Z"
   },
   {
    "duration": 0,
    "start_time": "2025-03-08T23:40:47.449Z"
   },
   {
    "duration": 165,
    "start_time": "2025-03-08T23:40:58.211Z"
   },
   {
    "duration": 2,
    "start_time": "2025-03-08T23:41:05.390Z"
   },
   {
    "duration": 5,
    "start_time": "2025-03-08T23:41:05.883Z"
   },
   {
    "duration": 6,
    "start_time": "2025-03-08T23:41:06.874Z"
   },
   {
    "duration": 163,
    "start_time": "2025-03-08T23:41:14.445Z"
   },
   {
    "duration": 2,
    "start_time": "2025-03-08T23:43:22.361Z"
   },
   {
    "duration": 4,
    "start_time": "2025-03-08T23:43:25.527Z"
   },
   {
    "duration": 5,
    "start_time": "2025-03-08T23:43:55.356Z"
   },
   {
    "duration": 165,
    "start_time": "2025-03-08T23:44:39.965Z"
   },
   {
    "duration": 345,
    "start_time": "2025-03-08T23:50:20.348Z"
   },
   {
    "duration": 226,
    "start_time": "2025-03-08T23:50:20.695Z"
   },
   {
    "duration": 12,
    "start_time": "2025-03-08T23:50:20.923Z"
   },
   {
    "duration": 30,
    "start_time": "2025-03-08T23:50:20.936Z"
   },
   {
    "duration": 11,
    "start_time": "2025-03-08T23:50:20.969Z"
   },
   {
    "duration": 26,
    "start_time": "2025-03-08T23:50:21.005Z"
   },
   {
    "duration": 11,
    "start_time": "2025-03-08T23:50:21.033Z"
   },
   {
    "duration": 25,
    "start_time": "2025-03-08T23:50:21.048Z"
   },
   {
    "duration": 146,
    "start_time": "2025-03-08T23:50:21.075Z"
   },
   {
    "duration": 618,
    "start_time": "2025-03-08T23:50:21.223Z"
   },
   {
    "duration": 515,
    "start_time": "2025-03-08T23:50:21.843Z"
   },
   {
    "duration": 557,
    "start_time": "2025-03-08T23:50:22.360Z"
   },
   {
    "duration": 4,
    "start_time": "2025-03-08T23:50:22.919Z"
   },
   {
    "duration": 3,
    "start_time": "2025-03-08T23:50:22.927Z"
   },
   {
    "duration": 4,
    "start_time": "2025-03-08T23:50:22.932Z"
   },
   {
    "duration": 494,
    "start_time": "2025-03-08T23:50:22.938Z"
   },
   {
    "duration": 25,
    "start_time": "2025-03-08T23:50:23.434Z"
   },
   {
    "duration": 455,
    "start_time": "2025-03-08T23:50:23.462Z"
   },
   {
    "duration": 509,
    "start_time": "2025-03-08T23:50:23.919Z"
   },
   {
    "duration": 257,
    "start_time": "2025-03-08T23:50:24.431Z"
   },
   {
    "duration": 280,
    "start_time": "2025-03-08T23:50:24.691Z"
   },
   {
    "duration": 442,
    "start_time": "2025-03-08T23:50:24.973Z"
   },
   {
    "duration": 405,
    "start_time": "2025-03-08T23:50:25.417Z"
   },
   {
    "duration": 264,
    "start_time": "2025-03-08T23:50:25.823Z"
   },
   {
    "duration": 287,
    "start_time": "2025-03-08T23:50:26.089Z"
   },
   {
    "duration": 438,
    "start_time": "2025-03-08T23:50:26.379Z"
   },
   {
    "duration": 498,
    "start_time": "2025-03-08T23:50:26.820Z"
   },
   {
    "duration": 258,
    "start_time": "2025-03-08T23:50:27.320Z"
   },
   {
    "duration": 295,
    "start_time": "2025-03-08T23:50:27.580Z"
   },
   {
    "duration": 4,
    "start_time": "2025-03-08T23:50:27.877Z"
   },
   {
    "duration": 27,
    "start_time": "2025-03-08T23:50:27.883Z"
   },
   {
    "duration": 3,
    "start_time": "2025-03-08T23:50:27.911Z"
   },
   {
    "duration": 9,
    "start_time": "2025-03-08T23:50:27.916Z"
   },
   {
    "duration": 9,
    "start_time": "2025-03-08T23:50:27.926Z"
   },
   {
    "duration": 5,
    "start_time": "2025-03-08T23:50:27.937Z"
   },
   {
    "duration": 64,
    "start_time": "2025-03-08T23:50:27.944Z"
   },
   {
    "duration": 7,
    "start_time": "2025-03-08T23:50:28.010Z"
   },
   {
    "duration": 3,
    "start_time": "2025-03-08T23:50:28.019Z"
   },
   {
    "duration": 4,
    "start_time": "2025-03-08T23:50:28.024Z"
   },
   {
    "duration": 77,
    "start_time": "2025-03-08T23:50:28.030Z"
   },
   {
    "duration": 5,
    "start_time": "2025-03-08T23:50:28.115Z"
   },
   {
    "duration": 5,
    "start_time": "2025-03-08T23:50:28.121Z"
   },
   {
    "duration": 7,
    "start_time": "2025-03-08T23:50:28.127Z"
   },
   {
    "duration": 70,
    "start_time": "2025-03-08T23:50:28.136Z"
   },
   {
    "duration": 7,
    "start_time": "2025-03-08T23:50:28.208Z"
   },
   {
    "duration": 90,
    "start_time": "2025-03-08T23:50:28.216Z"
   },
   {
    "duration": 7,
    "start_time": "2025-03-08T23:50:28.308Z"
   },
   {
    "duration": 3,
    "start_time": "2025-03-08T23:50:28.317Z"
   },
   {
    "duration": 4,
    "start_time": "2025-03-08T23:50:28.322Z"
   },
   {
    "duration": 76,
    "start_time": "2025-03-08T23:50:28.328Z"
   },
   {
    "duration": 7,
    "start_time": "2025-03-08T23:50:28.409Z"
   },
   {
    "duration": 5,
    "start_time": "2025-03-08T23:50:28.419Z"
   },
   {
    "duration": 5,
    "start_time": "2025-03-08T23:50:28.427Z"
   },
   {
    "duration": 5,
    "start_time": "2025-03-08T23:50:28.434Z"
   },
   {
    "duration": 70,
    "start_time": "2025-03-08T23:50:28.441Z"
   },
   {
    "duration": 6,
    "start_time": "2025-03-08T23:50:28.513Z"
   },
   {
    "duration": 3,
    "start_time": "2025-03-08T23:50:28.521Z"
   },
   {
    "duration": 80,
    "start_time": "2025-03-08T23:50:28.526Z"
   },
   {
    "duration": 7,
    "start_time": "2025-03-08T23:50:28.608Z"
   },
   {
    "duration": 6,
    "start_time": "2025-03-08T23:50:28.616Z"
   },
   {
    "duration": 80,
    "start_time": "2025-03-08T23:50:28.624Z"
   },
   {
    "duration": 7,
    "start_time": "2025-03-08T23:50:28.708Z"
   },
   {
    "duration": 6,
    "start_time": "2025-03-08T23:50:28.718Z"
   },
   {
    "duration": 4,
    "start_time": "2025-03-08T23:50:28.726Z"
   },
   {
    "duration": 5,
    "start_time": "2025-03-08T23:50:28.732Z"
   },
   {
    "duration": 69,
    "start_time": "2025-03-08T23:50:28.739Z"
   },
   {
    "duration": 10,
    "start_time": "2025-03-08T23:50:28.810Z"
   },
   {
    "duration": 6,
    "start_time": "2025-03-08T23:50:28.822Z"
   },
   {
    "duration": 2,
    "start_time": "2025-03-08T23:50:28.831Z"
   },
   {
    "duration": 2,
    "start_time": "2025-03-08T23:50:28.835Z"
   },
   {
    "duration": 3,
    "start_time": "2025-03-08T23:50:28.907Z"
   },
   {
    "duration": 9,
    "start_time": "2025-03-08T23:50:28.911Z"
   },
   {
    "duration": 5,
    "start_time": "2025-03-08T23:50:28.922Z"
   },
   {
    "duration": 3,
    "start_time": "2025-03-08T23:50:28.928Z"
   },
   {
    "duration": 3,
    "start_time": "2025-03-08T23:50:29.006Z"
   },
   {
    "duration": 6,
    "start_time": "2025-03-08T23:50:29.010Z"
   },
   {
    "duration": 2,
    "start_time": "2025-03-08T23:50:29.020Z"
   },
   {
    "duration": 3,
    "start_time": "2025-03-08T23:50:29.023Z"
   },
   {
    "duration": 3,
    "start_time": "2025-03-08T23:50:29.028Z"
   },
   {
    "duration": 4,
    "start_time": "2025-03-08T23:50:29.033Z"
   },
   {
    "duration": 3,
    "start_time": "2025-03-08T23:50:29.039Z"
   },
   {
    "duration": 2,
    "start_time": "2025-03-08T23:50:29.045Z"
   },
   {
    "duration": 3,
    "start_time": "2025-03-08T23:50:29.049Z"
   },
   {
    "duration": 4,
    "start_time": "2025-03-08T23:50:29.053Z"
   },
   {
    "duration": 48,
    "start_time": "2025-03-08T23:50:29.059Z"
   },
   {
    "duration": 4,
    "start_time": "2025-03-08T23:50:29.109Z"
   },
   {
    "duration": 6,
    "start_time": "2025-03-08T23:50:29.114Z"
   },
   {
    "duration": 3,
    "start_time": "2025-03-08T23:50:29.122Z"
   },
   {
    "duration": 5,
    "start_time": "2025-03-08T23:50:29.127Z"
   },
   {
    "duration": 4,
    "start_time": "2025-03-08T23:50:29.133Z"
   },
   {
    "duration": 3,
    "start_time": "2025-03-08T23:50:29.139Z"
   },
   {
    "duration": 4,
    "start_time": "2025-03-08T23:50:29.143Z"
   },
   {
    "duration": 3,
    "start_time": "2025-03-08T23:50:29.149Z"
   },
   {
    "duration": 4,
    "start_time": "2025-03-08T23:50:29.154Z"
   },
   {
    "duration": 3,
    "start_time": "2025-03-08T23:50:29.159Z"
   },
   {
    "duration": 3,
    "start_time": "2025-03-08T23:50:29.206Z"
   },
   {
    "duration": 3,
    "start_time": "2025-03-08T23:50:29.210Z"
   },
   {
    "duration": 4,
    "start_time": "2025-03-08T23:50:29.215Z"
   },
   {
    "duration": 4,
    "start_time": "2025-03-08T23:50:29.221Z"
   },
   {
    "duration": 4,
    "start_time": "2025-03-08T23:50:29.227Z"
   },
   {
    "duration": 4,
    "start_time": "2025-03-08T23:50:29.232Z"
   },
   {
    "duration": 3,
    "start_time": "2025-03-08T23:50:29.239Z"
   },
   {
    "duration": 3,
    "start_time": "2025-03-08T23:50:29.244Z"
   },
   {
    "duration": 5,
    "start_time": "2025-03-08T23:50:29.248Z"
   },
   {
    "duration": 4,
    "start_time": "2025-03-08T23:50:29.254Z"
   },
   {
    "duration": 46,
    "start_time": "2025-03-08T23:50:29.259Z"
   },
   {
    "duration": 4,
    "start_time": "2025-03-08T23:50:29.307Z"
   },
   {
    "duration": 5,
    "start_time": "2025-03-08T23:50:29.312Z"
   },
   {
    "duration": 3,
    "start_time": "2025-03-08T23:50:29.319Z"
   },
   {
    "duration": 3,
    "start_time": "2025-03-08T23:50:29.324Z"
   },
   {
    "duration": 4,
    "start_time": "2025-03-08T23:50:29.329Z"
   },
   {
    "duration": 4,
    "start_time": "2025-03-08T23:50:29.334Z"
   },
   {
    "duration": 6,
    "start_time": "2025-03-08T23:50:29.340Z"
   },
   {
    "duration": 4,
    "start_time": "2025-03-08T23:50:29.347Z"
   },
   {
    "duration": 4,
    "start_time": "2025-03-08T23:50:29.352Z"
   },
   {
    "duration": 5,
    "start_time": "2025-03-08T23:50:29.357Z"
   },
   {
    "duration": 3,
    "start_time": "2025-03-08T23:50:29.406Z"
   },
   {
    "duration": 5,
    "start_time": "2025-03-08T23:50:29.411Z"
   },
   {
    "duration": 190,
    "start_time": "2025-03-08T23:50:29.417Z"
   },
   {
    "duration": 2,
    "start_time": "2025-03-08T23:50:29.609Z"
   },
   {
    "duration": 6,
    "start_time": "2025-03-08T23:50:29.613Z"
   },
   {
    "duration": 6,
    "start_time": "2025-03-08T23:50:29.627Z"
   },
   {
    "duration": 187,
    "start_time": "2025-03-08T23:50:29.635Z"
   },
   {
    "duration": 3,
    "start_time": "2025-03-08T23:50:29.824Z"
   },
   {
    "duration": 5,
    "start_time": "2025-03-08T23:50:29.829Z"
   },
   {
    "duration": 6,
    "start_time": "2025-03-08T23:50:29.835Z"
   },
   {
    "duration": 189,
    "start_time": "2025-03-08T23:50:29.842Z"
   },
   {
    "duration": 293,
    "start_time": "2025-03-09T10:28:15.119Z"
   },
   {
    "duration": 281,
    "start_time": "2025-03-09T10:28:15.414Z"
   },
   {
    "duration": 12,
    "start_time": "2025-03-09T10:28:16.845Z"
   },
   {
    "duration": 31,
    "start_time": "2025-03-09T10:28:17.493Z"
   },
   {
    "duration": 12,
    "start_time": "2025-03-09T10:28:17.707Z"
   },
   {
    "duration": 27,
    "start_time": "2025-03-09T10:28:18.419Z"
   },
   {
    "duration": 11,
    "start_time": "2025-03-09T10:28:18.792Z"
   },
   {
    "duration": 24,
    "start_time": "2025-03-09T10:28:26.609Z"
   },
   {
    "duration": 124,
    "start_time": "2025-03-09T10:28:30.564Z"
   },
   {
    "duration": 576,
    "start_time": "2025-03-09T10:28:31.669Z"
   },
   {
    "duration": 494,
    "start_time": "2025-03-09T10:28:32.750Z"
   },
   {
    "duration": 502,
    "start_time": "2025-03-09T10:28:33.472Z"
   },
   {
    "duration": 4,
    "start_time": "2025-03-09T10:38:16.268Z"
   },
   {
    "duration": 4,
    "start_time": "2025-03-09T10:38:16.549Z"
   },
   {
    "duration": 4,
    "start_time": "2025-03-09T10:38:17.286Z"
   },
   {
    "duration": 528,
    "start_time": "2025-03-09T10:38:17.660Z"
   },
   {
    "duration": 25,
    "start_time": "2025-03-09T10:38:19.900Z"
   },
   {
    "duration": 414,
    "start_time": "2025-03-09T10:39:41.385Z"
   },
   {
    "duration": 642,
    "start_time": "2025-03-09T10:39:43.159Z"
   },
   {
    "duration": 262,
    "start_time": "2025-03-09T10:39:43.975Z"
   },
   {
    "duration": 252,
    "start_time": "2025-03-09T10:39:45.787Z"
   },
   {
    "duration": 435,
    "start_time": "2025-03-09T10:39:48.207Z"
   },
   {
    "duration": 401,
    "start_time": "2025-03-09T10:39:48.702Z"
   },
   {
    "duration": 258,
    "start_time": "2025-03-09T10:39:50.441Z"
   },
   {
    "duration": 239,
    "start_time": "2025-03-09T10:39:52.599Z"
   },
   {
    "duration": 401,
    "start_time": "2025-03-09T10:39:53.186Z"
   },
   {
    "duration": 517,
    "start_time": "2025-03-09T10:39:54.462Z"
   },
   {
    "duration": 252,
    "start_time": "2025-03-09T10:39:55.773Z"
   },
   {
    "duration": 259,
    "start_time": "2025-03-09T10:39:57.848Z"
   },
   {
    "duration": 3,
    "start_time": "2025-03-09T10:40:02.467Z"
   },
   {
    "duration": 4,
    "start_time": "2025-03-09T10:41:14.577Z"
   },
   {
    "duration": 16,
    "start_time": "2025-03-09T10:41:16.780Z"
   },
   {
    "duration": 2,
    "start_time": "2025-03-09T10:41:17.500Z"
   },
   {
    "duration": 10,
    "start_time": "2025-03-09T10:41:18.047Z"
   },
   {
    "duration": 5,
    "start_time": "2025-03-09T10:41:18.687Z"
   },
   {
    "duration": 4,
    "start_time": "2025-03-09T10:41:19.207Z"
   },
   {
    "duration": 4,
    "start_time": "2025-03-09T10:41:19.639Z"
   },
   {
    "duration": 5,
    "start_time": "2025-03-09T10:41:20.132Z"
   },
   {
    "duration": 3,
    "start_time": "2025-03-09T10:41:22.056Z"
   },
   {
    "duration": 5,
    "start_time": "2025-03-09T10:41:22.343Z"
   },
   {
    "duration": 5,
    "start_time": "2025-03-09T10:41:22.568Z"
   },
   {
    "duration": 5,
    "start_time": "2025-03-09T10:41:22.780Z"
   },
   {
    "duration": 5,
    "start_time": "2025-03-09T10:41:22.991Z"
   },
   {
    "duration": 10,
    "start_time": "2025-03-09T10:41:23.207Z"
   },
   {
    "duration": 5,
    "start_time": "2025-03-09T10:41:23.456Z"
   },
   {
    "duration": 2,
    "start_time": "2025-03-09T10:41:40.959Z"
   },
   {
    "duration": 8,
    "start_time": "2025-03-09T10:41:41.158Z"
   },
   {
    "duration": 6,
    "start_time": "2025-03-09T10:41:41.303Z"
   },
   {
    "duration": 6,
    "start_time": "2025-03-09T10:41:41.509Z"
   },
   {
    "duration": 4,
    "start_time": "2025-03-09T10:41:41.688Z"
   },
   {
    "duration": 5,
    "start_time": "2025-03-09T10:41:41.863Z"
   },
   {
    "duration": 5,
    "start_time": "2025-03-09T10:41:42.038Z"
   },
   {
    "duration": 5,
    "start_time": "2025-03-09T10:41:42.220Z"
   },
   {
    "duration": 4,
    "start_time": "2025-03-09T10:41:42.421Z"
   },
   {
    "duration": 5,
    "start_time": "2025-03-09T10:41:42.596Z"
   },
   {
    "duration": 8,
    "start_time": "2025-03-09T10:41:42.880Z"
   },
   {
    "duration": 6,
    "start_time": "2025-03-09T10:41:43.447Z"
   },
   {
    "duration": 2,
    "start_time": "2025-03-09T10:41:44.594Z"
   },
   {
    "duration": 9,
    "start_time": "2025-03-09T10:41:44.747Z"
   },
   {
    "duration": 6,
    "start_time": "2025-03-09T10:41:44.935Z"
   },
   {
    "duration": 6,
    "start_time": "2025-03-09T10:41:45.101Z"
   },
   {
    "duration": 4,
    "start_time": "2025-03-09T10:41:45.271Z"
   },
   {
    "duration": 5,
    "start_time": "2025-03-09T10:41:45.578Z"
   },
   {
    "duration": 5,
    "start_time": "2025-03-09T10:41:45.714Z"
   },
   {
    "duration": 5,
    "start_time": "2025-03-09T10:41:45.905Z"
   },
   {
    "duration": 4,
    "start_time": "2025-03-09T10:41:46.072Z"
   },
   {
    "duration": 5,
    "start_time": "2025-03-09T10:41:46.233Z"
   },
   {
    "duration": 9,
    "start_time": "2025-03-09T10:41:46.517Z"
   },
   {
    "duration": 8,
    "start_time": "2025-03-09T10:41:46.879Z"
   },
   {
    "duration": 2,
    "start_time": "2025-03-09T10:49:36.140Z"
   },
   {
    "duration": 2,
    "start_time": "2025-03-09T10:49:36.724Z"
   },
   {
    "duration": 3,
    "start_time": "2025-03-09T10:49:36.957Z"
   },
   {
    "duration": 8,
    "start_time": "2025-03-09T10:49:37.174Z"
   },
   {
    "duration": 3,
    "start_time": "2025-03-09T10:49:37.418Z"
   },
   {
    "duration": 3,
    "start_time": "2025-03-09T10:49:37.646Z"
   },
   {
    "duration": 3,
    "start_time": "2025-03-09T10:49:37.872Z"
   },
   {
    "duration": 4,
    "start_time": "2025-03-09T10:49:38.097Z"
   },
   {
    "duration": 2,
    "start_time": "2025-03-09T10:49:38.436Z"
   },
   {
    "duration": 3,
    "start_time": "2025-03-09T10:49:38.767Z"
   },
   {
    "duration": 2,
    "start_time": "2025-03-09T10:49:39.054Z"
   },
   {
    "duration": 3,
    "start_time": "2025-03-09T10:49:39.266Z"
   },
   {
    "duration": 2,
    "start_time": "2025-03-09T10:49:39.688Z"
   },
   {
    "duration": 2,
    "start_time": "2025-03-09T10:49:40.344Z"
   },
   {
    "duration": 2,
    "start_time": "2025-03-09T10:49:40.854Z"
   },
   {
    "duration": 3,
    "start_time": "2025-03-09T10:49:41.145Z"
   },
   {
    "duration": 3,
    "start_time": "2025-03-09T10:49:41.869Z"
   },
   {
    "duration": 3,
    "start_time": "2025-03-09T10:50:17.076Z"
   },
   {
    "duration": 4,
    "start_time": "2025-03-09T10:50:17.287Z"
   },
   {
    "duration": 3,
    "start_time": "2025-03-09T10:50:17.503Z"
   },
   {
    "duration": 3,
    "start_time": "2025-03-09T10:50:17.664Z"
   },
   {
    "duration": 4,
    "start_time": "2025-03-09T10:50:17.819Z"
   },
   {
    "duration": 3,
    "start_time": "2025-03-09T10:50:18.009Z"
   },
   {
    "duration": 2,
    "start_time": "2025-03-09T10:50:18.208Z"
   },
   {
    "duration": 2,
    "start_time": "2025-03-09T10:50:18.412Z"
   },
   {
    "duration": 4,
    "start_time": "2025-03-09T10:50:18.632Z"
   },
   {
    "duration": 3,
    "start_time": "2025-03-09T10:50:19.059Z"
   },
   {
    "duration": 2,
    "start_time": "2025-03-09T10:50:19.380Z"
   },
   {
    "duration": 3,
    "start_time": "2025-03-09T10:50:19.679Z"
   },
   {
    "duration": 3,
    "start_time": "2025-03-09T10:50:19.933Z"
   },
   {
    "duration": 2,
    "start_time": "2025-03-09T10:50:20.205Z"
   },
   {
    "duration": 3,
    "start_time": "2025-03-09T10:50:23.899Z"
   },
   {
    "duration": 4,
    "start_time": "2025-03-09T10:50:24.093Z"
   },
   {
    "duration": 3,
    "start_time": "2025-03-09T10:50:24.285Z"
   },
   {
    "duration": 2,
    "start_time": "2025-03-09T10:50:24.482Z"
   },
   {
    "duration": 3,
    "start_time": "2025-03-09T10:50:24.693Z"
   },
   {
    "duration": 3,
    "start_time": "2025-03-09T10:50:24.897Z"
   },
   {
    "duration": 3,
    "start_time": "2025-03-09T10:50:25.809Z"
   },
   {
    "duration": 2,
    "start_time": "2025-03-09T10:50:25.990Z"
   },
   {
    "duration": 4,
    "start_time": "2025-03-09T10:50:26.186Z"
   },
   {
    "duration": 2,
    "start_time": "2025-03-09T10:50:26.382Z"
   },
   {
    "duration": 2,
    "start_time": "2025-03-09T10:50:26.583Z"
   },
   {
    "duration": 3,
    "start_time": "2025-03-09T10:50:26.941Z"
   },
   {
    "duration": 3,
    "start_time": "2025-03-09T10:50:27.519Z"
   },
   {
    "duration": 3,
    "start_time": "2025-03-09T10:50:29.639Z"
   },
   {
    "duration": 3,
    "start_time": "2025-03-09T10:50:29.890Z"
   },
   {
    "duration": 3,
    "start_time": "2025-03-09T10:51:52.515Z"
   },
   {
    "duration": 4,
    "start_time": "2025-03-09T10:51:52.703Z"
   },
   {
    "duration": 3,
    "start_time": "2025-03-09T10:51:52.948Z"
   },
   {
    "duration": 5,
    "start_time": "2025-03-09T10:51:53.176Z"
   },
   {
    "duration": 162,
    "start_time": "2025-03-09T10:51:53.403Z"
   },
   {
    "duration": 3,
    "start_time": "2025-03-09T10:51:55.766Z"
   },
   {
    "duration": 4,
    "start_time": "2025-03-09T10:51:56.043Z"
   },
   {
    "duration": 4,
    "start_time": "2025-03-09T10:51:56.379Z"
   },
   {
    "duration": 163,
    "start_time": "2025-03-09T10:51:56.806Z"
   },
   {
    "duration": 3,
    "start_time": "2025-03-09T10:51:58.618Z"
   },
   {
    "duration": 3,
    "start_time": "2025-03-09T10:51:58.779Z"
   },
   {
    "duration": 5,
    "start_time": "2025-03-09T10:51:58.963Z"
   },
   {
    "duration": 176,
    "start_time": "2025-03-09T10:51:59.168Z"
   }
  ],
  "kernelspec": {
   "display_name": "Python 3 (ipykernel)",
   "language": "python",
   "name": "python3"
  },
  "language_info": {
   "codemirror_mode": {
    "name": "ipython",
    "version": 3
   },
   "file_extension": ".py",
   "mimetype": "text/x-python",
   "name": "python",
   "nbconvert_exporter": "python",
   "pygments_lexer": "ipython3",
   "version": "3.9.19"
  },
  "toc": {
   "base_numbering": 1,
   "nav_menu": {},
   "number_sections": true,
   "sideBar": true,
   "skip_h1_title": true,
   "title_cell": "Table of Contents",
   "title_sidebar": "Contents",
   "toc_cell": false,
   "toc_position": {},
   "toc_section_display": true,
   "toc_window_display": false
  }
 },
 "nbformat": 4,
 "nbformat_minor": 2
}
