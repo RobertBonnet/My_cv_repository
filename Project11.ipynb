{
 "cells": [
  {
   "cell_type": "markdown",
   "metadata": {},
   "source": [
    "# ¡Hola Robert! 😊\n",
    "\n",
    "Mi nombre es **Alejandro Castellanos** y hoy tengo el placer de ser el revisor de tu proyecto.\n",
    "\n",
    "Voy a revisar todo tu código con detalle, buscando tanto los puntos fuertes como aquellos en los que podrías mejorar. Te dejaré comentarios a lo largo del notebook, destacando lo que has hecho bien y sugiriendo ajustes donde sea necesario. Si encuentro algún error, no te preocupes, te lo haré saber de forma clara y te daré información útil para que puedas corregirlo en la próxima iteración. Si en algún punto tienes comentarios, siéntete libre de dejarlos también.\n",
    "\n",
    "\n",
    "Encontrarás mis comentarios específicos dentro de cajas verdes, amarillas o rojas, es muy importante que no muevas, modifiques o borres mis comentarios, con el fin de tener un seguimiento adecuado de tu proceso:\n",
    "\n",
    "\n",
    "<div class=\"alert alert-block alert-success\">\n",
    "<b>Comentario del revisor</b> <a class=“tocSkip”></a>\n",
    "Si todo está perfecto.\n",
    "</div>\n",
    "\n",
    "<div class=\"alert alert-block alert-warning\">\n",
    "<b>Comentario del revisor</b> <a class=“tocSkip”></a>\n",
    "Si tu código está bien pero se puede mejorar o hay algún detalle que le hace falta.\n",
    "</div>\n",
    "\n",
    "<div class=\"alert alert-block alert-danger\">\n",
    "<b>Comentario del revisor</b> <a class=“tocSkip”></a>\n",
    "Si de pronto hace falta algo o existe algún problema con tu código o conclusiones.\n",
    "</div>\n",
    "\n",
    "Puedes responderme de esta forma:\n",
    "<div class=\"alert alert-block alert-info\">\n",
    "<b>Respuesta del estudiante</b> <a class=“tocSkip”></a>\n",
    "</div>\n",
    "\n",
    "A continuación te dejaré un comentario general con mi valoración del proyecto. **¡Mi objetivo es que sigas aprendiendo y mejorando con cada paso!**"
   ]
  },
  {
   "cell_type": "markdown",
   "metadata": {},
   "source": [
    "----"
   ]
  },
  {
   "cell_type": "markdown",
   "metadata": {},
   "source": [
    "<div class=\"alert alert-block alert-success\">\n",
    "<b>Comentario General del revisor (1ra Iteración)</b> <a class=“tocSkip”></a>\n",
    "\n",
    "Robert tu proyecto se destaca como un trabajo integral y meticuloso en cada etapa del proyecto, desde la preparación de datos hasta la evaluación del modelo, lo cual demuestra un enfoque sólido y profesional. Es admirable cómo abordaste la limpieza y validación de datos, incluyendo el manejo de valores faltantes y anomalías, asegurando la confiabilidad del modelo. Además, tu elección y optimización de los modelos predictivos fueron acertadas, obteniendo un sMAPE competitivo que respalda la precisión de las predicciones. \n",
    "    \n",
    "Aunque incluiste interpretación en varias partes de tu desarrollo, es posible plantear ideas más profundas. Un proyecto en el contexto de ciencia o análisis de datos va más allá de escribir código y obtener valores; se trata de darles sentido y contexto para convertirlos en conocimiento útil. No basta con ejecutar funciones y visualizar datos; es fundamental comprender lo que significan, identificar patrones, detectar anomalías y extraer conclusiones relevantes. Este proceso permite tomar decisiones informadas, optimizar modelos y comunicar hallazgos de manera clara y efectiva, asegurando que el análisis no solo sea técnico, sino también comprensible y aplicable a la resolución de problemas reales. Ten en cuenta esto para futuros proyectos\n",
    "    \n",
    "Te deseo éxitos en tu próximo Sprint 🚀\n",
    "    \n",
    "*Estado del Proyecto:* **Aprobado**\n",
    "\n",
    "</div>"
   ]
  },
  {
   "cell_type": "markdown",
   "metadata": {},
   "source": [
    "----"
   ]
  },
  {
   "cell_type": "code",
   "execution_count": 1,
   "metadata": {},
   "outputs": [],
   "source": [
    "import pandas as pd #Import library to manage DataFrames"
   ]
  },
  {
   "cell_type": "code",
   "execution_count": 2,
   "metadata": {},
   "outputs": [],
   "source": [
    "train_df = pd.read_csv('/datasets/gold_recovery_train.csv')"
   ]
  },
  {
   "cell_type": "code",
   "execution_count": 3,
   "metadata": {},
   "outputs": [],
   "source": [
    "test_df = pd.read_csv('/datasets/gold_recovery_test.csv')"
   ]
  },
  {
   "cell_type": "code",
   "execution_count": 4,
   "metadata": {},
   "outputs": [],
   "source": [
    "full_df = pd.read_csv('/datasets/gold_recovery_full.csv')"
   ]
  },
  {
   "cell_type": "code",
   "execution_count": 5,
   "metadata": {},
   "outputs": [
    {
     "name": "stdout",
     "output_type": "stream",
     "text": [
      "<class 'pandas.core.frame.DataFrame'>\n",
      "RangeIndex: 16860 entries, 0 to 16859\n",
      "Data columns (total 87 columns):\n",
      " #   Column                                              Non-Null Count  Dtype  \n",
      "---  ------                                              --------------  -----  \n",
      " 0   date                                                16860 non-null  object \n",
      " 1   final.output.concentrate_ag                         16788 non-null  float64\n",
      " 2   final.output.concentrate_pb                         16788 non-null  float64\n",
      " 3   final.output.concentrate_sol                        16490 non-null  float64\n",
      " 4   final.output.concentrate_au                         16789 non-null  float64\n",
      " 5   final.output.recovery                               15339 non-null  float64\n",
      " 6   final.output.tail_ag                                16794 non-null  float64\n",
      " 7   final.output.tail_pb                                16677 non-null  float64\n",
      " 8   final.output.tail_sol                               16715 non-null  float64\n",
      " 9   final.output.tail_au                                16794 non-null  float64\n",
      " 10  primary_cleaner.input.sulfate                       15553 non-null  float64\n",
      " 11  primary_cleaner.input.depressant                    15598 non-null  float64\n",
      " 12  primary_cleaner.input.feed_size                     16860 non-null  float64\n",
      " 13  primary_cleaner.input.xanthate                      15875 non-null  float64\n",
      " 14  primary_cleaner.output.concentrate_ag               16778 non-null  float64\n",
      " 15  primary_cleaner.output.concentrate_pb               16502 non-null  float64\n",
      " 16  primary_cleaner.output.concentrate_sol              16224 non-null  float64\n",
      " 17  primary_cleaner.output.concentrate_au               16778 non-null  float64\n",
      " 18  primary_cleaner.output.tail_ag                      16777 non-null  float64\n",
      " 19  primary_cleaner.output.tail_pb                      16761 non-null  float64\n",
      " 20  primary_cleaner.output.tail_sol                     16579 non-null  float64\n",
      " 21  primary_cleaner.output.tail_au                      16777 non-null  float64\n",
      " 22  primary_cleaner.state.floatbank8_a_air              16820 non-null  float64\n",
      " 23  primary_cleaner.state.floatbank8_a_level            16827 non-null  float64\n",
      " 24  primary_cleaner.state.floatbank8_b_air              16820 non-null  float64\n",
      " 25  primary_cleaner.state.floatbank8_b_level            16833 non-null  float64\n",
      " 26  primary_cleaner.state.floatbank8_c_air              16822 non-null  float64\n",
      " 27  primary_cleaner.state.floatbank8_c_level            16833 non-null  float64\n",
      " 28  primary_cleaner.state.floatbank8_d_air              16821 non-null  float64\n",
      " 29  primary_cleaner.state.floatbank8_d_level            16833 non-null  float64\n",
      " 30  rougher.calculation.sulfate_to_au_concentrate       16833 non-null  float64\n",
      " 31  rougher.calculation.floatbank10_sulfate_to_au_feed  16833 non-null  float64\n",
      " 32  rougher.calculation.floatbank11_sulfate_to_au_feed  16833 non-null  float64\n",
      " 33  rougher.calculation.au_pb_ratio                     15618 non-null  float64\n",
      " 34  rougher.input.feed_ag                               16778 non-null  float64\n",
      " 35  rougher.input.feed_pb                               16632 non-null  float64\n",
      " 36  rougher.input.feed_rate                             16347 non-null  float64\n",
      " 37  rougher.input.feed_size                             16443 non-null  float64\n",
      " 38  rougher.input.feed_sol                              16568 non-null  float64\n",
      " 39  rougher.input.feed_au                               16777 non-null  float64\n",
      " 40  rougher.input.floatbank10_sulfate                   15816 non-null  float64\n",
      " 41  rougher.input.floatbank10_xanthate                  16514 non-null  float64\n",
      " 42  rougher.input.floatbank11_sulfate                   16237 non-null  float64\n",
      " 43  rougher.input.floatbank11_xanthate                  14956 non-null  float64\n",
      " 44  rougher.output.concentrate_ag                       16778 non-null  float64\n",
      " 45  rougher.output.concentrate_pb                       16778 non-null  float64\n",
      " 46  rougher.output.concentrate_sol                      16698 non-null  float64\n",
      " 47  rougher.output.concentrate_au                       16778 non-null  float64\n",
      " 48  rougher.output.recovery                             14287 non-null  float64\n",
      " 49  rougher.output.tail_ag                              14610 non-null  float64\n",
      " 50  rougher.output.tail_pb                              16778 non-null  float64\n",
      " 51  rougher.output.tail_sol                             14611 non-null  float64\n",
      " 52  rougher.output.tail_au                              14611 non-null  float64\n",
      " 53  rougher.state.floatbank10_a_air                     16807 non-null  float64\n",
      " 54  rougher.state.floatbank10_a_level                   16807 non-null  float64\n",
      " 55  rougher.state.floatbank10_b_air                     16807 non-null  float64\n",
      " 56  rougher.state.floatbank10_b_level                   16807 non-null  float64\n",
      " 57  rougher.state.floatbank10_c_air                     16807 non-null  float64\n",
      " 58  rougher.state.floatbank10_c_level                   16814 non-null  float64\n",
      " 59  rougher.state.floatbank10_d_air                     16802 non-null  float64\n",
      " 60  rougher.state.floatbank10_d_level                   16809 non-null  float64\n",
      " 61  rougher.state.floatbank10_e_air                     16257 non-null  float64\n",
      " 62  rougher.state.floatbank10_e_level                   16809 non-null  float64\n",
      " 63  rougher.state.floatbank10_f_air                     16802 non-null  float64\n",
      " 64  rougher.state.floatbank10_f_level                   16802 non-null  float64\n",
      " 65  secondary_cleaner.output.tail_ag                    16776 non-null  float64\n",
      " 66  secondary_cleaner.output.tail_pb                    16764 non-null  float64\n",
      " 67  secondary_cleaner.output.tail_sol                   14874 non-null  float64\n",
      " 68  secondary_cleaner.output.tail_au                    16778 non-null  float64\n",
      " 69  secondary_cleaner.state.floatbank2_a_air            16497 non-null  float64\n",
      " 70  secondary_cleaner.state.floatbank2_a_level          16751 non-null  float64\n",
      " 71  secondary_cleaner.state.floatbank2_b_air            16705 non-null  float64\n",
      " 72  secondary_cleaner.state.floatbank2_b_level          16748 non-null  float64\n",
      " 73  secondary_cleaner.state.floatbank3_a_air            16763 non-null  float64\n",
      " 74  secondary_cleaner.state.floatbank3_a_level          16747 non-null  float64\n",
      " 75  secondary_cleaner.state.floatbank3_b_air            16752 non-null  float64\n",
      " 76  secondary_cleaner.state.floatbank3_b_level          16750 non-null  float64\n",
      " 77  secondary_cleaner.state.floatbank4_a_air            16731 non-null  float64\n",
      " 78  secondary_cleaner.state.floatbank4_a_level          16747 non-null  float64\n",
      " 79  secondary_cleaner.state.floatbank4_b_air            16768 non-null  float64\n",
      " 80  secondary_cleaner.state.floatbank4_b_level          16767 non-null  float64\n",
      " 81  secondary_cleaner.state.floatbank5_a_air            16775 non-null  float64\n",
      " 82  secondary_cleaner.state.floatbank5_a_level          16775 non-null  float64\n",
      " 83  secondary_cleaner.state.floatbank5_b_air            16775 non-null  float64\n",
      " 84  secondary_cleaner.state.floatbank5_b_level          16776 non-null  float64\n",
      " 85  secondary_cleaner.state.floatbank6_a_air            16757 non-null  float64\n",
      " 86  secondary_cleaner.state.floatbank6_a_level          16775 non-null  float64\n",
      "dtypes: float64(86), object(1)\n",
      "memory usage: 11.2+ MB\n"
     ]
    }
   ],
   "source": [
    "train_df.info()"
   ]
  },
  {
   "cell_type": "code",
   "execution_count": 6,
   "metadata": {},
   "outputs": [
    {
     "name": "stdout",
     "output_type": "stream",
     "text": [
      "<class 'pandas.core.frame.DataFrame'>\n",
      "RangeIndex: 5856 entries, 0 to 5855\n",
      "Data columns (total 53 columns):\n",
      " #   Column                                      Non-Null Count  Dtype  \n",
      "---  ------                                      --------------  -----  \n",
      " 0   date                                        5856 non-null   object \n",
      " 1   primary_cleaner.input.sulfate               5554 non-null   float64\n",
      " 2   primary_cleaner.input.depressant            5572 non-null   float64\n",
      " 3   primary_cleaner.input.feed_size             5856 non-null   float64\n",
      " 4   primary_cleaner.input.xanthate              5690 non-null   float64\n",
      " 5   primary_cleaner.state.floatbank8_a_air      5840 non-null   float64\n",
      " 6   primary_cleaner.state.floatbank8_a_level    5840 non-null   float64\n",
      " 7   primary_cleaner.state.floatbank8_b_air      5840 non-null   float64\n",
      " 8   primary_cleaner.state.floatbank8_b_level    5840 non-null   float64\n",
      " 9   primary_cleaner.state.floatbank8_c_air      5840 non-null   float64\n",
      " 10  primary_cleaner.state.floatbank8_c_level    5840 non-null   float64\n",
      " 11  primary_cleaner.state.floatbank8_d_air      5840 non-null   float64\n",
      " 12  primary_cleaner.state.floatbank8_d_level    5840 non-null   float64\n",
      " 13  rougher.input.feed_ag                       5840 non-null   float64\n",
      " 14  rougher.input.feed_pb                       5840 non-null   float64\n",
      " 15  rougher.input.feed_rate                     5816 non-null   float64\n",
      " 16  rougher.input.feed_size                     5834 non-null   float64\n",
      " 17  rougher.input.feed_sol                      5789 non-null   float64\n",
      " 18  rougher.input.feed_au                       5840 non-null   float64\n",
      " 19  rougher.input.floatbank10_sulfate           5599 non-null   float64\n",
      " 20  rougher.input.floatbank10_xanthate          5733 non-null   float64\n",
      " 21  rougher.input.floatbank11_sulfate           5801 non-null   float64\n",
      " 22  rougher.input.floatbank11_xanthate          5503 non-null   float64\n",
      " 23  rougher.state.floatbank10_a_air             5839 non-null   float64\n",
      " 24  rougher.state.floatbank10_a_level           5840 non-null   float64\n",
      " 25  rougher.state.floatbank10_b_air             5839 non-null   float64\n",
      " 26  rougher.state.floatbank10_b_level           5840 non-null   float64\n",
      " 27  rougher.state.floatbank10_c_air             5839 non-null   float64\n",
      " 28  rougher.state.floatbank10_c_level           5840 non-null   float64\n",
      " 29  rougher.state.floatbank10_d_air             5839 non-null   float64\n",
      " 30  rougher.state.floatbank10_d_level           5840 non-null   float64\n",
      " 31  rougher.state.floatbank10_e_air             5839 non-null   float64\n",
      " 32  rougher.state.floatbank10_e_level           5840 non-null   float64\n",
      " 33  rougher.state.floatbank10_f_air             5839 non-null   float64\n",
      " 34  rougher.state.floatbank10_f_level           5840 non-null   float64\n",
      " 35  secondary_cleaner.state.floatbank2_a_air    5836 non-null   float64\n",
      " 36  secondary_cleaner.state.floatbank2_a_level  5840 non-null   float64\n",
      " 37  secondary_cleaner.state.floatbank2_b_air    5833 non-null   float64\n",
      " 38  secondary_cleaner.state.floatbank2_b_level  5840 non-null   float64\n",
      " 39  secondary_cleaner.state.floatbank3_a_air    5822 non-null   float64\n",
      " 40  secondary_cleaner.state.floatbank3_a_level  5840 non-null   float64\n",
      " 41  secondary_cleaner.state.floatbank3_b_air    5840 non-null   float64\n",
      " 42  secondary_cleaner.state.floatbank3_b_level  5840 non-null   float64\n",
      " 43  secondary_cleaner.state.floatbank4_a_air    5840 non-null   float64\n",
      " 44  secondary_cleaner.state.floatbank4_a_level  5840 non-null   float64\n",
      " 45  secondary_cleaner.state.floatbank4_b_air    5840 non-null   float64\n",
      " 46  secondary_cleaner.state.floatbank4_b_level  5840 non-null   float64\n",
      " 47  secondary_cleaner.state.floatbank5_a_air    5840 non-null   float64\n",
      " 48  secondary_cleaner.state.floatbank5_a_level  5840 non-null   float64\n",
      " 49  secondary_cleaner.state.floatbank5_b_air    5840 non-null   float64\n",
      " 50  secondary_cleaner.state.floatbank5_b_level  5840 non-null   float64\n",
      " 51  secondary_cleaner.state.floatbank6_a_air    5840 non-null   float64\n",
      " 52  secondary_cleaner.state.floatbank6_a_level  5840 non-null   float64\n",
      "dtypes: float64(52), object(1)\n",
      "memory usage: 2.4+ MB\n"
     ]
    }
   ],
   "source": [
    "test_df.info()"
   ]
  },
  {
   "cell_type": "code",
   "execution_count": 7,
   "metadata": {},
   "outputs": [
    {
     "name": "stdout",
     "output_type": "stream",
     "text": [
      "<class 'pandas.core.frame.DataFrame'>\n",
      "RangeIndex: 22716 entries, 0 to 22715\n",
      "Data columns (total 87 columns):\n",
      " #   Column                                              Non-Null Count  Dtype  \n",
      "---  ------                                              --------------  -----  \n",
      " 0   date                                                22716 non-null  object \n",
      " 1   final.output.concentrate_ag                         22627 non-null  float64\n",
      " 2   final.output.concentrate_pb                         22629 non-null  float64\n",
      " 3   final.output.concentrate_sol                        22331 non-null  float64\n",
      " 4   final.output.concentrate_au                         22630 non-null  float64\n",
      " 5   final.output.recovery                               20753 non-null  float64\n",
      " 6   final.output.tail_ag                                22633 non-null  float64\n",
      " 7   final.output.tail_pb                                22516 non-null  float64\n",
      " 8   final.output.tail_sol                               22445 non-null  float64\n",
      " 9   final.output.tail_au                                22635 non-null  float64\n",
      " 10  primary_cleaner.input.sulfate                       21107 non-null  float64\n",
      " 11  primary_cleaner.input.depressant                    21170 non-null  float64\n",
      " 12  primary_cleaner.input.feed_size                     22716 non-null  float64\n",
      " 13  primary_cleaner.input.xanthate                      21565 non-null  float64\n",
      " 14  primary_cleaner.output.concentrate_ag               22618 non-null  float64\n",
      " 15  primary_cleaner.output.concentrate_pb               22268 non-null  float64\n",
      " 16  primary_cleaner.output.concentrate_sol              21918 non-null  float64\n",
      " 17  primary_cleaner.output.concentrate_au               22618 non-null  float64\n",
      " 18  primary_cleaner.output.tail_ag                      22614 non-null  float64\n",
      " 19  primary_cleaner.output.tail_pb                      22594 non-null  float64\n",
      " 20  primary_cleaner.output.tail_sol                     22365 non-null  float64\n",
      " 21  primary_cleaner.output.tail_au                      22617 non-null  float64\n",
      " 22  primary_cleaner.state.floatbank8_a_air              22660 non-null  float64\n",
      " 23  primary_cleaner.state.floatbank8_a_level            22667 non-null  float64\n",
      " 24  primary_cleaner.state.floatbank8_b_air              22660 non-null  float64\n",
      " 25  primary_cleaner.state.floatbank8_b_level            22673 non-null  float64\n",
      " 26  primary_cleaner.state.floatbank8_c_air              22662 non-null  float64\n",
      " 27  primary_cleaner.state.floatbank8_c_level            22673 non-null  float64\n",
      " 28  primary_cleaner.state.floatbank8_d_air              22661 non-null  float64\n",
      " 29  primary_cleaner.state.floatbank8_d_level            22673 non-null  float64\n",
      " 30  rougher.calculation.sulfate_to_au_concentrate       22672 non-null  float64\n",
      " 31  rougher.calculation.floatbank10_sulfate_to_au_feed  22672 non-null  float64\n",
      " 32  rougher.calculation.floatbank11_sulfate_to_au_feed  22672 non-null  float64\n",
      " 33  rougher.calculation.au_pb_ratio                     21089 non-null  float64\n",
      " 34  rougher.input.feed_ag                               22618 non-null  float64\n",
      " 35  rougher.input.feed_pb                               22472 non-null  float64\n",
      " 36  rougher.input.feed_rate                             22163 non-null  float64\n",
      " 37  rougher.input.feed_size                             22277 non-null  float64\n",
      " 38  rougher.input.feed_sol                              22357 non-null  float64\n",
      " 39  rougher.input.feed_au                               22617 non-null  float64\n",
      " 40  rougher.input.floatbank10_sulfate                   21415 non-null  float64\n",
      " 41  rougher.input.floatbank10_xanthate                  22247 non-null  float64\n",
      " 42  rougher.input.floatbank11_sulfate                   22038 non-null  float64\n",
      " 43  rougher.input.floatbank11_xanthate                  20459 non-null  float64\n",
      " 44  rougher.output.concentrate_ag                       22618 non-null  float64\n",
      " 45  rougher.output.concentrate_pb                       22618 non-null  float64\n",
      " 46  rougher.output.concentrate_sol                      22526 non-null  float64\n",
      " 47  rougher.output.concentrate_au                       22618 non-null  float64\n",
      " 48  rougher.output.recovery                             19597 non-null  float64\n",
      " 49  rougher.output.tail_ag                              19979 non-null  float64\n",
      " 50  rougher.output.tail_pb                              22618 non-null  float64\n",
      " 51  rougher.output.tail_sol                             19980 non-null  float64\n",
      " 52  rougher.output.tail_au                              19980 non-null  float64\n",
      " 53  rougher.state.floatbank10_a_air                     22646 non-null  float64\n",
      " 54  rougher.state.floatbank10_a_level                   22647 non-null  float64\n",
      " 55  rougher.state.floatbank10_b_air                     22646 non-null  float64\n",
      " 56  rougher.state.floatbank10_b_level                   22647 non-null  float64\n",
      " 57  rougher.state.floatbank10_c_air                     22646 non-null  float64\n",
      " 58  rougher.state.floatbank10_c_level                   22654 non-null  float64\n",
      " 59  rougher.state.floatbank10_d_air                     22641 non-null  float64\n",
      " 60  rougher.state.floatbank10_d_level                   22649 non-null  float64\n",
      " 61  rougher.state.floatbank10_e_air                     22096 non-null  float64\n",
      " 62  rougher.state.floatbank10_e_level                   22649 non-null  float64\n",
      " 63  rougher.state.floatbank10_f_air                     22641 non-null  float64\n",
      " 64  rougher.state.floatbank10_f_level                   22642 non-null  float64\n",
      " 65  secondary_cleaner.output.tail_ag                    22616 non-null  float64\n",
      " 66  secondary_cleaner.output.tail_pb                    22600 non-null  float64\n",
      " 67  secondary_cleaner.output.tail_sol                   20501 non-null  float64\n",
      " 68  secondary_cleaner.output.tail_au                    22618 non-null  float64\n",
      " 69  secondary_cleaner.state.floatbank2_a_air            22333 non-null  float64\n",
      " 70  secondary_cleaner.state.floatbank2_a_level          22591 non-null  float64\n",
      " 71  secondary_cleaner.state.floatbank2_b_air            22538 non-null  float64\n",
      " 72  secondary_cleaner.state.floatbank2_b_level          22588 non-null  float64\n",
      " 73  secondary_cleaner.state.floatbank3_a_air            22585 non-null  float64\n",
      " 74  secondary_cleaner.state.floatbank3_a_level          22587 non-null  float64\n",
      " 75  secondary_cleaner.state.floatbank3_b_air            22592 non-null  float64\n",
      " 76  secondary_cleaner.state.floatbank3_b_level          22590 non-null  float64\n",
      " 77  secondary_cleaner.state.floatbank4_a_air            22571 non-null  float64\n",
      " 78  secondary_cleaner.state.floatbank4_a_level          22587 non-null  float64\n",
      " 79  secondary_cleaner.state.floatbank4_b_air            22608 non-null  float64\n",
      " 80  secondary_cleaner.state.floatbank4_b_level          22607 non-null  float64\n",
      " 81  secondary_cleaner.state.floatbank5_a_air            22615 non-null  float64\n",
      " 82  secondary_cleaner.state.floatbank5_a_level          22615 non-null  float64\n",
      " 83  secondary_cleaner.state.floatbank5_b_air            22615 non-null  float64\n",
      " 84  secondary_cleaner.state.floatbank5_b_level          22616 non-null  float64\n",
      " 85  secondary_cleaner.state.floatbank6_a_air            22597 non-null  float64\n",
      " 86  secondary_cleaner.state.floatbank6_a_level          22615 non-null  float64\n",
      "dtypes: float64(86), object(1)\n",
      "memory usage: 15.1+ MB\n"
     ]
    }
   ],
   "source": [
    "full_df.info()"
   ]
  },
  {
   "cell_type": "markdown",
   "metadata": {},
   "source": [
    "(C * (F - T)) * 100 / (F * (C -T))"
   ]
  },
  {
   "cell_type": "markdown",
   "metadata": {},
   "source": [
    "C= rougher.output.concentrate_au / final.output.concentrate_au\n",
    "F= rougher.input.feed_au / rougher.output.concentrate_au\n",
    "T= rougher.output.tail_au / final.output.tail_au"
   ]
  },
  {
   "cell_type": "markdown",
   "metadata": {},
   "source": [
    "((train_df['rougher.output.concentrate_au'] / (train_df['final.output.concentrate_au'])\n",
    "* (train_df['rougher.input.feed_au'] / train_df['rougher.output.concentrate_au']\n",
    "- train_df['rougher.output.tail_au'] / train_df['final.output.tail_au']))\n",
    "* 100\n",
    "/ ((train_df['rougher.input.feed_au'] / train_df['rougher.output.concentrate_au'])\n",
    "* (train_df['rougher.output.concentrate_au'] / train_df['final.output.concentrate_au']   \n",
    "- train_df['rougher.output.tail_au'] / train_df['final.output.tail_au']))"
   ]
  },
  {
   "cell_type": "code",
   "execution_count": 8,
   "metadata": {},
   "outputs": [
    {
     "data": {
      "text/plain": [
       "0        87.107763\n",
       "1        86.843261\n",
       "2        86.842308\n",
       "3        87.226430\n",
       "4        86.688794\n",
       "           ...    \n",
       "16855    89.574376\n",
       "16856    87.724007\n",
       "16857    88.890579\n",
       "16858    89.858126\n",
       "16859    89.514960\n",
       "Length: 16860, dtype: float64"
      ]
     },
     "execution_count": 8,
     "metadata": {},
     "output_type": "execute_result"
    }
   ],
   "source": [
    "#Calculate the rougher output recovery\n",
    "(\n",
    "    (train_df['rougher.output.concentrate_au']) *\n",
    "    (train_df['rougher.input.feed_au'] -\n",
    "     train_df['rougher.output.tail_au'])\n",
    ") * 100 / (\n",
    "    (train_df['rougher.input.feed_au']) *\n",
    "    (train_df['rougher.output.concentrate_au'] -\n",
    "     train_df['rougher.output.tail_au'])\n",
    ")"
   ]
  },
  {
   "cell_type": "code",
   "execution_count": 9,
   "metadata": {},
   "outputs": [],
   "source": [
    "#Assign the rougher output recovery to a variable\n",
    "rougher_output_recovery_calculation = (\n",
    "    (train_df['rougher.output.concentrate_au']) *\n",
    "    (train_df['rougher.input.feed_au'] -\n",
    "     train_df['rougher.output.tail_au'])\n",
    ") * 100 / (\n",
    "    (train_df['rougher.input.feed_au']) *\n",
    "    (train_df['rougher.output.concentrate_au'] -\n",
    "     train_df['rougher.output.tail_au'])\n",
    ")"
   ]
  },
  {
   "cell_type": "code",
   "execution_count": 10,
   "metadata": {},
   "outputs": [
    {
     "data": {
      "text/plain": [
       "0        87.107763\n",
       "1        86.843261\n",
       "2        86.842308\n",
       "3        87.226430\n",
       "4        86.688794\n",
       "           ...    \n",
       "16855    89.574376\n",
       "16856    87.724007\n",
       "16857    88.890579\n",
       "16858    89.858126\n",
       "16859    89.514960\n",
       "Name: rougher.output.recovery, Length: 16860, dtype: float64"
      ]
     },
     "execution_count": 10,
     "metadata": {},
     "output_type": "execute_result"
    }
   ],
   "source": [
    "#Show the rougher output recovery column\n",
    "train_df['rougher.output.recovery']"
   ]
  },
  {
   "cell_type": "code",
   "execution_count": 11,
   "metadata": {},
   "outputs": [],
   "source": [
    "#Drop NaN values from the column\n",
    "no_nan_rougher_output_recovery = train_df['rougher.output.recovery'].dropna()"
   ]
  },
  {
   "cell_type": "code",
   "execution_count": 12,
   "metadata": {},
   "outputs": [],
   "source": [
    "#Select the same date than the one there is in the no_nan_rougher_output_recovery column\n",
    "no_nan_rougher_output_recovery_calculation = rougher_output_recovery_calculation[pd.notna(train_df['rougher.output.recovery'])]"
   ]
  },
  {
   "cell_type": "code",
   "execution_count": 13,
   "metadata": {},
   "outputs": [
    {
     "data": {
      "text/plain": [
       "0        87.107763\n",
       "1        86.843261\n",
       "2        86.842308\n",
       "3        87.226430\n",
       "4        86.688794\n",
       "           ...    \n",
       "16855    89.574376\n",
       "16856    87.724007\n",
       "16857    88.890579\n",
       "16858    89.858126\n",
       "16859    89.514960\n",
       "Length: 14287, dtype: float64"
      ]
     },
     "execution_count": 13,
     "metadata": {},
     "output_type": "execute_result"
    }
   ],
   "source": [
    "no_nan_rougher_output_recovery_calculation"
   ]
  },
  {
   "cell_type": "code",
   "execution_count": 14,
   "metadata": {},
   "outputs": [
    {
     "data": {
      "text/plain": [
       "14287"
      ]
     },
     "execution_count": 14,
     "metadata": {},
     "output_type": "execute_result"
    }
   ],
   "source": [
    "len(no_nan_rougher_output_recovery) #Verify both sets have the same amount of observations to compare"
   ]
  },
  {
   "cell_type": "code",
   "execution_count": 15,
   "metadata": {},
   "outputs": [
    {
     "data": {
      "text/plain": [
       "14287"
      ]
     },
     "execution_count": 15,
     "metadata": {},
     "output_type": "execute_result"
    }
   ],
   "source": [
    "len(no_nan_rougher_output_recovery_calculation) #Verify both sets have the same amount of observations to compare"
   ]
  },
  {
   "cell_type": "code",
   "execution_count": 16,
   "metadata": {},
   "outputs": [],
   "source": [
    "from sklearn.metrics import mean_absolute_error #Import module to get MAE"
   ]
  },
  {
   "cell_type": "code",
   "execution_count": 17,
   "metadata": {},
   "outputs": [
    {
     "name": "stdout",
     "output_type": "stream",
     "text": [
      "1.0724115653039479e-14\n"
     ]
    }
   ],
   "source": [
    "print(mean_absolute_error(no_nan_rougher_output_recovery, no_nan_rougher_output_recovery_calculation))"
   ]
  },
  {
   "cell_type": "markdown",
   "metadata": {},
   "source": [
    "There is a minimal difference in the mean absolute error (MAE) of the rougher output recovery column and the recently calculated data. The data shown by head and tail methods is identical. This insignificant difference could be related to the decimals rounding."
   ]
  },
  {
   "cell_type": "markdown",
   "metadata": {},
   "source": [
    "<div class=\"alert alert-block alert-success\">\n",
    "<b>Comentario del revisor (1ra Iteración)</b> <a class=“tocSkip”></a>\n",
    "\n",
    "Has hecho un buen trabajo implementando la fórmula de recuperación del concentrado de oro, y el uso de la asignación a una variable mejora la legibilidad del código.\n",
    "\n",
    "</div>"
   ]
  },
  {
   "cell_type": "code",
   "execution_count": 18,
   "metadata": {},
   "outputs": [
    {
     "data": {
      "text/plain": [
       "0        70.541216\n",
       "1        69.266198\n",
       "2        68.116445\n",
       "3        68.347543\n",
       "4        66.927016\n",
       "           ...    \n",
       "16855    73.755150\n",
       "16856    69.049291\n",
       "16857    67.002189\n",
       "16858    65.523246\n",
       "16859    70.281454\n",
       "Name: final.output.recovery, Length: 16860, dtype: float64"
      ]
     },
     "execution_count": 18,
     "metadata": {},
     "output_type": "execute_result"
    }
   ],
   "source": [
    "train_df['final.output.recovery']"
   ]
  },
  {
   "cell_type": "code",
   "execution_count": 19,
   "metadata": {},
   "outputs": [
    {
     "data": {
      "text/plain": [
       "1521"
      ]
     },
     "execution_count": 19,
     "metadata": {},
     "output_type": "execute_result"
    }
   ],
   "source": [
    "#Look for the presence of NaN values\n",
    "train_df['final.output.recovery'].isna().sum()"
   ]
  },
  {
   "cell_type": "code",
   "execution_count": 20,
   "metadata": {},
   "outputs": [],
   "source": [
    "#Drop NaN values from the column\n",
    "no_nan_final_output_recovery = train_df['final.output.recovery'].dropna()"
   ]
  },
  {
   "cell_type": "code",
   "execution_count": 21,
   "metadata": {},
   "outputs": [
    {
     "data": {
      "text/plain": [
       "0        93.944554\n",
       "1        93.790501\n",
       "2        93.509750\n",
       "3        93.595268\n",
       "4        93.811976\n",
       "           ...    \n",
       "16855    94.886132\n",
       "16856    94.507593\n",
       "16857    92.593426\n",
       "16858    94.268532\n",
       "16859    95.048379\n",
       "Length: 16860, dtype: float64"
      ]
     },
     "execution_count": 21,
     "metadata": {},
     "output_type": "execute_result"
    }
   ],
   "source": [
    "#Calculate the actual final output recovery\n",
    "(\n",
    "    (train_df['final.output.concentrate_au']) *\n",
    "    (train_df['rougher.output.concentrate_au'] -\n",
    "     train_df['final.output.tail_au'])\n",
    ") * 100 / (\n",
    "    (train_df['rougher.output.concentrate_au']) *\n",
    "    (train_df['final.output.concentrate_au'] -\n",
    "     train_df['final.output.tail_au'])\n",
    ")"
   ]
  },
  {
   "cell_type": "code",
   "execution_count": 22,
   "metadata": {},
   "outputs": [],
   "source": [
    "#Assign the final output recovery to a variable\n",
    "final_output_recovery_calculation = (\n",
    "    (train_df['final.output.concentrate_au']) *\n",
    "    (train_df['rougher.output.concentrate_au'] -\n",
    "     train_df['final.output.tail_au'])\n",
    ") * 100 / (\n",
    "    (train_df['rougher.output.concentrate_au']) *\n",
    "    (train_df['final.output.concentrate_au'] -\n",
    "     train_df['final.output.tail_au'])\n",
    ")"
   ]
  },
  {
   "cell_type": "code",
   "execution_count": 23,
   "metadata": {},
   "outputs": [
    {
     "data": {
      "text/plain": [
       "1283"
      ]
     },
     "execution_count": 23,
     "metadata": {},
     "output_type": "execute_result"
    }
   ],
   "source": [
    "#Look for the presence of NaN values\n",
    "final_output_recovery_calculation.isna().sum()"
   ]
  },
  {
   "cell_type": "code",
   "execution_count": 24,
   "metadata": {},
   "outputs": [],
   "source": [
    "#Select the same date than the one there is in the no_nan_rougher_output_recovery column\n",
    "no_nan_final_output_recovery_calculation = final_output_recovery_calculation[pd.notna(train_df['final.output.recovery'])]"
   ]
  },
  {
   "cell_type": "code",
   "execution_count": 25,
   "metadata": {},
   "outputs": [
    {
     "data": {
      "text/plain": [
       "15339"
      ]
     },
     "execution_count": 25,
     "metadata": {},
     "output_type": "execute_result"
    }
   ],
   "source": [
    "#Verify both sets have the same amount of observations to compare\n",
    "len(no_nan_final_output_recovery)"
   ]
  },
  {
   "cell_type": "code",
   "execution_count": 26,
   "metadata": {},
   "outputs": [
    {
     "data": {
      "text/plain": [
       "15339"
      ]
     },
     "execution_count": 26,
     "metadata": {},
     "output_type": "execute_result"
    }
   ],
   "source": [
    "#Verify both sets have the same amount of observations to compare\n",
    "len(no_nan_final_output_recovery_calculation)"
   ]
  },
  {
   "cell_type": "code",
   "execution_count": 27,
   "metadata": {},
   "outputs": [
    {
     "data": {
      "text/plain": [
       "15"
      ]
     },
     "execution_count": 27,
     "metadata": {},
     "output_type": "execute_result"
    }
   ],
   "source": [
    "#Verify remaining NaN values\n",
    "no_nan_final_output_recovery_calculation.isna().sum()"
   ]
  },
  {
   "cell_type": "code",
   "execution_count": 28,
   "metadata": {},
   "outputs": [],
   "source": [
    "import numpy as np #Import numpy library to identify finite values"
   ]
  },
  {
   "cell_type": "code",
   "execution_count": 29,
   "metadata": {},
   "outputs": [],
   "source": [
    "#Select values that are finite\n",
    "no_nan_final_output_recovery = no_nan_final_output_recovery[np.isfinite(no_nan_final_output_recovery_calculation)]"
   ]
  },
  {
   "cell_type": "code",
   "execution_count": 30,
   "metadata": {},
   "outputs": [],
   "source": [
    "#Select values that are finite\n",
    "no_nan_final_output_recovery = no_nan_final_output_recovery[np.isfinite(no_nan_final_output_recovery)]\n",
    "no_nan_final_output_recovery_calculation = no_nan_final_output_recovery_calculation[np.isfinite(no_nan_final_output_recovery_calculation)]"
   ]
  },
  {
   "cell_type": "code",
   "execution_count": 31,
   "metadata": {},
   "outputs": [],
   "source": [
    "#Final selection of not NaN values\n",
    "no_nan_final_output_recovery = no_nan_final_output_recovery[pd.notna(no_nan_final_output_recovery_calculation)]"
   ]
  },
  {
   "cell_type": "code",
   "execution_count": 32,
   "metadata": {},
   "outputs": [],
   "source": [
    "#Final selection of not NaN values\n",
    "no_nan_final_output_recovery_calculation.dropna(inplace=True)"
   ]
  },
  {
   "cell_type": "code",
   "execution_count": 33,
   "metadata": {},
   "outputs": [
    {
     "name": "stdout",
     "output_type": "stream",
     "text": [
      "178.2376411115655\n"
     ]
    }
   ],
   "source": [
    "print(mean_absolute_error(no_nan_final_output_recovery, no_nan_final_output_recovery_calculation))"
   ]
  },
  {
   "cell_type": "markdown",
   "metadata": {},
   "source": [
    "Greater differences are found in the final ouput recovery calculations compared to its original column.\n",
    "That's why a replacement of this colum data by the real calculated values is recommended and will be done in the next code line"
   ]
  },
  {
   "cell_type": "code",
   "execution_count": 34,
   "metadata": {},
   "outputs": [],
   "source": [
    "train_df['rougher.output.recovery'] = no_nan_final_output_recovery_calculation"
   ]
  },
  {
   "cell_type": "code",
   "execution_count": 35,
   "metadata": {},
   "outputs": [
    {
     "data": {
      "text/plain": [
       "0        93.944554\n",
       "1        93.790501\n",
       "2        93.509750\n",
       "3        93.595268\n",
       "4        93.811976\n",
       "           ...    \n",
       "16855    94.886132\n",
       "16856    94.507593\n",
       "16857    92.593426\n",
       "16858    94.268532\n",
       "16859    95.048379\n",
       "Name: rougher.output.recovery, Length: 16860, dtype: float64"
      ]
     },
     "execution_count": 35,
     "metadata": {},
     "output_type": "execute_result"
    }
   ],
   "source": [
    "train_df['rougher.output.recovery']"
   ]
  },
  {
   "cell_type": "markdown",
   "metadata": {},
   "source": [
    "<div class=\"alert alert-block alert-success\">\n",
    "<b>Comentario del revisor (1ra Iteración)</b> <a class=“tocSkip”></a>\n",
    "\n",
    "Tu trabajo muestra un buen manejo de la limpieza y validación de datos, lo cual es fundamental en cualquier proyecto de ciencia de datos. Has realizado un buen uso de métodos como dropna() y notna() para eliminar valores faltantes y asegurarte de que los conjuntos de datos estén alineados. \n",
    "\n",
    "</div>"
   ]
  },
  {
   "cell_type": "markdown",
   "metadata": {},
   "source": [
    "# Remove date column from both dataframes"
   ]
  },
  {
   "cell_type": "code",
   "execution_count": 36,
   "metadata": {},
   "outputs": [],
   "source": [
    "train_df.drop('date', axis=1, inplace=True)\n",
    "test_df.drop('date', axis=1, inplace=True)"
   ]
  },
  {
   "cell_type": "code",
   "execution_count": null,
   "metadata": {},
   "outputs": [],
   "source": []
  },
  {
   "cell_type": "markdown",
   "metadata": {},
   "source": [
    "# Analyze absent features in the test data set"
   ]
  },
  {
   "cell_type": "markdown",
   "metadata": {},
   "source": [
    "The absent columns in the test dataframe are the ones releted to the output production of minerals.\n",
    "Since we don't have any data to calculate the proportion of recovery, we have to predic it using machine learning models."
   ]
  },
  {
   "cell_type": "markdown",
   "metadata": {},
   "source": [
    "# Eliminate NaN from train_df to do the distruibution of minerals output analysis"
   ]
  },
  {
   "cell_type": "code",
   "execution_count": 37,
   "metadata": {},
   "outputs": [],
   "source": [
    "train_df.dropna(inplace=True)"
   ]
  },
  {
   "cell_type": "code",
   "execution_count": 38,
   "metadata": {},
   "outputs": [
    {
     "name": "stdout",
     "output_type": "stream",
     "text": [
      "<class 'pandas.core.frame.DataFrame'>\n",
      "Int64Index: 10958 entries, 0 to 16859\n",
      "Data columns (total 86 columns):\n",
      " #   Column                                              Non-Null Count  Dtype  \n",
      "---  ------                                              --------------  -----  \n",
      " 0   final.output.concentrate_ag                         10958 non-null  float64\n",
      " 1   final.output.concentrate_pb                         10958 non-null  float64\n",
      " 2   final.output.concentrate_sol                        10958 non-null  float64\n",
      " 3   final.output.concentrate_au                         10958 non-null  float64\n",
      " 4   final.output.recovery                               10958 non-null  float64\n",
      " 5   final.output.tail_ag                                10958 non-null  float64\n",
      " 6   final.output.tail_pb                                10958 non-null  float64\n",
      " 7   final.output.tail_sol                               10958 non-null  float64\n",
      " 8   final.output.tail_au                                10958 non-null  float64\n",
      " 9   primary_cleaner.input.sulfate                       10958 non-null  float64\n",
      " 10  primary_cleaner.input.depressant                    10958 non-null  float64\n",
      " 11  primary_cleaner.input.feed_size                     10958 non-null  float64\n",
      " 12  primary_cleaner.input.xanthate                      10958 non-null  float64\n",
      " 13  primary_cleaner.output.concentrate_ag               10958 non-null  float64\n",
      " 14  primary_cleaner.output.concentrate_pb               10958 non-null  float64\n",
      " 15  primary_cleaner.output.concentrate_sol              10958 non-null  float64\n",
      " 16  primary_cleaner.output.concentrate_au               10958 non-null  float64\n",
      " 17  primary_cleaner.output.tail_ag                      10958 non-null  float64\n",
      " 18  primary_cleaner.output.tail_pb                      10958 non-null  float64\n",
      " 19  primary_cleaner.output.tail_sol                     10958 non-null  float64\n",
      " 20  primary_cleaner.output.tail_au                      10958 non-null  float64\n",
      " 21  primary_cleaner.state.floatbank8_a_air              10958 non-null  float64\n",
      " 22  primary_cleaner.state.floatbank8_a_level            10958 non-null  float64\n",
      " 23  primary_cleaner.state.floatbank8_b_air              10958 non-null  float64\n",
      " 24  primary_cleaner.state.floatbank8_b_level            10958 non-null  float64\n",
      " 25  primary_cleaner.state.floatbank8_c_air              10958 non-null  float64\n",
      " 26  primary_cleaner.state.floatbank8_c_level            10958 non-null  float64\n",
      " 27  primary_cleaner.state.floatbank8_d_air              10958 non-null  float64\n",
      " 28  primary_cleaner.state.floatbank8_d_level            10958 non-null  float64\n",
      " 29  rougher.calculation.sulfate_to_au_concentrate       10958 non-null  float64\n",
      " 30  rougher.calculation.floatbank10_sulfate_to_au_feed  10958 non-null  float64\n",
      " 31  rougher.calculation.floatbank11_sulfate_to_au_feed  10958 non-null  float64\n",
      " 32  rougher.calculation.au_pb_ratio                     10958 non-null  float64\n",
      " 33  rougher.input.feed_ag                               10958 non-null  float64\n",
      " 34  rougher.input.feed_pb                               10958 non-null  float64\n",
      " 35  rougher.input.feed_rate                             10958 non-null  float64\n",
      " 36  rougher.input.feed_size                             10958 non-null  float64\n",
      " 37  rougher.input.feed_sol                              10958 non-null  float64\n",
      " 38  rougher.input.feed_au                               10958 non-null  float64\n",
      " 39  rougher.input.floatbank10_sulfate                   10958 non-null  float64\n",
      " 40  rougher.input.floatbank10_xanthate                  10958 non-null  float64\n",
      " 41  rougher.input.floatbank11_sulfate                   10958 non-null  float64\n",
      " 42  rougher.input.floatbank11_xanthate                  10958 non-null  float64\n",
      " 43  rougher.output.concentrate_ag                       10958 non-null  float64\n",
      " 44  rougher.output.concentrate_pb                       10958 non-null  float64\n",
      " 45  rougher.output.concentrate_sol                      10958 non-null  float64\n",
      " 46  rougher.output.concentrate_au                       10958 non-null  float64\n",
      " 47  rougher.output.recovery                             10958 non-null  float64\n",
      " 48  rougher.output.tail_ag                              10958 non-null  float64\n",
      " 49  rougher.output.tail_pb                              10958 non-null  float64\n",
      " 50  rougher.output.tail_sol                             10958 non-null  float64\n",
      " 51  rougher.output.tail_au                              10958 non-null  float64\n",
      " 52  rougher.state.floatbank10_a_air                     10958 non-null  float64\n",
      " 53  rougher.state.floatbank10_a_level                   10958 non-null  float64\n",
      " 54  rougher.state.floatbank10_b_air                     10958 non-null  float64\n",
      " 55  rougher.state.floatbank10_b_level                   10958 non-null  float64\n",
      " 56  rougher.state.floatbank10_c_air                     10958 non-null  float64\n",
      " 57  rougher.state.floatbank10_c_level                   10958 non-null  float64\n",
      " 58  rougher.state.floatbank10_d_air                     10958 non-null  float64\n",
      " 59  rougher.state.floatbank10_d_level                   10958 non-null  float64\n",
      " 60  rougher.state.floatbank10_e_air                     10958 non-null  float64\n",
      " 61  rougher.state.floatbank10_e_level                   10958 non-null  float64\n",
      " 62  rougher.state.floatbank10_f_air                     10958 non-null  float64\n",
      " 63  rougher.state.floatbank10_f_level                   10958 non-null  float64\n",
      " 64  secondary_cleaner.output.tail_ag                    10958 non-null  float64\n",
      " 65  secondary_cleaner.output.tail_pb                    10958 non-null  float64\n",
      " 66  secondary_cleaner.output.tail_sol                   10958 non-null  float64\n",
      " 67  secondary_cleaner.output.tail_au                    10958 non-null  float64\n",
      " 68  secondary_cleaner.state.floatbank2_a_air            10958 non-null  float64\n",
      " 69  secondary_cleaner.state.floatbank2_a_level          10958 non-null  float64\n",
      " 70  secondary_cleaner.state.floatbank2_b_air            10958 non-null  float64\n",
      " 71  secondary_cleaner.state.floatbank2_b_level          10958 non-null  float64\n",
      " 72  secondary_cleaner.state.floatbank3_a_air            10958 non-null  float64\n",
      " 73  secondary_cleaner.state.floatbank3_a_level          10958 non-null  float64\n",
      " 74  secondary_cleaner.state.floatbank3_b_air            10958 non-null  float64\n",
      " 75  secondary_cleaner.state.floatbank3_b_level          10958 non-null  float64\n",
      " 76  secondary_cleaner.state.floatbank4_a_air            10958 non-null  float64\n",
      " 77  secondary_cleaner.state.floatbank4_a_level          10958 non-null  float64\n",
      " 78  secondary_cleaner.state.floatbank4_b_air            10958 non-null  float64\n",
      " 79  secondary_cleaner.state.floatbank4_b_level          10958 non-null  float64\n",
      " 80  secondary_cleaner.state.floatbank5_a_air            10958 non-null  float64\n",
      " 81  secondary_cleaner.state.floatbank5_a_level          10958 non-null  float64\n",
      " 82  secondary_cleaner.state.floatbank5_b_air            10958 non-null  float64\n",
      " 83  secondary_cleaner.state.floatbank5_b_level          10958 non-null  float64\n",
      " 84  secondary_cleaner.state.floatbank6_a_air            10958 non-null  float64\n",
      " 85  secondary_cleaner.state.floatbank6_a_level          10958 non-null  float64\n",
      "dtypes: float64(86)\n",
      "memory usage: 7.3 MB\n"
     ]
    }
   ],
   "source": [
    "train_df.info()"
   ]
  },
  {
   "cell_type": "markdown",
   "metadata": {},
   "source": [
    "There were a lot of data that was erased because of null values.\n",
    "Have to comunicate this with the data engineer so his team makes sure the data is properly collected or has a reason why this data couldn't be taken."
   ]
  },
  {
   "cell_type": "code",
   "execution_count": 39,
   "metadata": {},
   "outputs": [],
   "source": [
    "import matplotlib.pyplot as plt #Import package to graph boxplots"
   ]
  },
  {
   "cell_type": "code",
   "execution_count": 40,
   "metadata": {},
   "outputs": [
    {
     "data": {
      "image/png": "[encoded data removed]",
      "text/plain": [
       "<Figure size 800x600 with 1 Axes>"
      ]
     },
     "metadata": {},
     "output_type": "display_data"
    }
   ],
   "source": [
    "# Graph mineral distribution among extraction phases\n",
    "plt.figure(figsize=(8, 6))\n",
    "box = plt.boxplot(\n",
    "    \n",
    "    [train_df['rougher.input.feed_ag'], \n",
    "     train_df['rougher.input.feed_au'],\n",
    "     train_df['rougher.input.feed_pb'], \n",
    "     train_df['rougher.output.concentrate_ag'],\n",
    "     train_df['rougher.output.concentrate_au'],\n",
    "     train_df['rougher.output.concentrate_pb'],\n",
    "     train_df['primary_cleaner.output.concentrate_ag'],\n",
    "     train_df['primary_cleaner.output.concentrate_au'],\n",
    "     train_df['primary_cleaner.output.concentrate_pb'], \n",
    "     train_df['final.output.concentrate_ag'],\n",
    "     train_df['final.output.concentrate_au'],\n",
    "     train_df['final.output.concentrate_pb']],\n",
    "    \n",
    "    labels=['Ag Input', \n",
    "            'Au Input', \n",
    "            'Pb Input', \n",
    "            'Ag Rougher Output', \n",
    "            'Au Rougher Output', \n",
    "            'Pb Rougher Output', \n",
    "            'Ag Prim clean Output', \n",
    "            'Au Prim clean Output',\n",
    "            'Pb Prim clean Output',\n",
    "            'Ag Final Output',\n",
    "            'Au Final Output',\n",
    "            'Pb Final Output'],\n",
    "    \n",
    "    patch_artist=True, #Fill the boxes with color\n",
    "    \n",
    "    # Separate each extraction phase by skipping one number in between them\n",
    "positions = [1, 2, 3, 5, 6, 7, 9, 10, 11, 13, 14, 15],\n",
    "    \n",
    "    showfliers=False #Hide outliers\n",
    ")\n",
    "\n",
    "colors = [\n",
    "    '#C0C0C0',  # Ag Input (Silver)\n",
    "    '#FFD700',  # Au Input (Gold)\n",
    "    '#808080',  # Pb Input (Lead)\n",
    "    '#C0C0C0',  # Ag Rougher Output (Silver)\n",
    "    '#FFD700',  # Au Rougher Output (Gold)\n",
    "    '#808080',  # Pb Rougher Output (Lead)\n",
    "    '#C0C0C0',  # Ag Prim clean Output (Silver)\n",
    "    '#FFD700',  # Au Prim clean Output (Gold)\n",
    "    '#808080',  # Pb Prim clean Output (Lead)\n",
    "    '#C0C0C0',  # Ag Final Output (Silver)\n",
    "    '#FFD700',  # Au Final Output (Gold)\n",
    "    '#808080',  # Pb Final Output (Lead)\n",
    "]\n",
    "\n",
    "# Asign a color per mineral\n",
    "for i, patch in enumerate(box['boxes']):\n",
    "    patch.set_facecolor(colors[i])  # Asigna color a cada caja\n",
    "\n",
    "# Rotate the labels\n",
    "plt.xticks(rotation=45, ha='right')  # 45 roation degrees to the right\n",
    "\n",
    "# ELabels and title\n",
    "plt.ylabel(\"Mineral content\")\n",
    "plt.title(\"Mineral content distribution among the extraction phases in the concentrate\")\n",
    "plt.grid(axis='y', linestyle='--', alpha=0.7)"
   ]
  },
  {
   "cell_type": "markdown",
   "metadata": {},
   "source": [
    "The previous graph shows that as the extraction phases move forward, the concentration of gold increases.\n",
    "While the silver concetration decreases, the lead concentration remains relatively stable."
   ]
  },
  {
   "cell_type": "code",
   "execution_count": 41,
   "metadata": {},
   "outputs": [
    {
     "data": {
      "image/png": "[encoded data removed]",
      "text/plain": [
       "<Figure size 800x600 with 1 Axes>"
      ]
     },
     "metadata": {},
     "output_type": "display_data"
    }
   ],
   "source": [
    "# Graph mineral distribution among extraction phases\n",
    "plt.figure(figsize=(8, 6))\n",
    "box = plt.boxplot(\n",
    "    \n",
    "    [train_df['rougher.input.feed_ag'], \n",
    "     train_df['rougher.input.feed_au'],\n",
    "     train_df['rougher.input.feed_pb'], \n",
    "     train_df['rougher.output.tail_ag'],\n",
    "     train_df['rougher.output.tail_au'],\n",
    "     train_df['rougher.output.tail_pb'],\n",
    "     train_df['primary_cleaner.output.tail_ag'],\n",
    "     train_df['primary_cleaner.output.tail_au'],\n",
    "     train_df['primary_cleaner.output.tail_pb'],\n",
    "     train_df['secondary_cleaner.output.tail_ag'], \n",
    "     train_df['secondary_cleaner.output.tail_au'],\n",
    "     train_df['secondary_cleaner.output.tail_pb'],\n",
    "     train_df['final.output.tail_ag'],\n",
    "     train_df['final.output.tail_au'],\n",
    "     train_df['final.output.tail_pb']],\n",
    "    \n",
    "    labels=['Ag Input', \n",
    "            'Au Input', \n",
    "            'Pb Input', \n",
    "            'Ag Rougher Output Tail', \n",
    "            'Au Rougher Output Tail', \n",
    "            'Pb Rougher Output Tail', \n",
    "            'Ag Prim clean Output Tail', \n",
    "            'Au Prim clean Output Tail',\n",
    "            'Pb Prim clean Output Tail',\n",
    "            'Ag Sec clean Output Tail', \n",
    "            'Au Sec clean Output Tail',\n",
    "            'Pb Sec clean Output Tail',\n",
    "            'Ag Final Output Tail',\n",
    "            'Au Final Output Tail',\n",
    "            'Pb Final Output Tail'],\n",
    "    \n",
    "    patch_artist=True, #Fill the boxes with color\n",
    "    \n",
    "    # Separate each extraction phase by skipping one number in between them\n",
    "positions = [1, 2, 3, 5, 6, 7, 9, 10, 11, 13, 14, 15, 17, 18, 19],\n",
    "    \n",
    "    showfliers=False #Hide outliers\n",
    ")\n",
    "\n",
    "colors = [\n",
    "    '#C0C0C0',  # Ag Input (Silver)\n",
    "    '#FFD700',  # Au Input (Gold)\n",
    "    '#808080',  # Pb Input (Lead)\n",
    "    '#C0C0C0',  # Ag Rougher Output (Silver)\n",
    "    '#FFD700',  # Au Rougher Output (Gold)\n",
    "    '#808080',  # Pb Rougher Output (Lead)\n",
    "    '#C0C0C0',  # Ag Prim clean Output (Silver)\n",
    "    '#FFD700',  # Au Prim clean Output (Gold)\n",
    "    '#808080',  # Pb Prim clean Output (Lead)\n",
    "    '#C0C0C0',  # Ag Sec clean Output (Silver)\n",
    "    '#FFD700',  # Au Sec clean Output (Gold)\n",
    "    '#808080',  # Pb Sec clean Output (Lead)\n",
    "    '#C0C0C0',  # Ag Final Output (Silver)\n",
    "    '#FFD700',  # Au Final Output (Gold)\n",
    "    '#808080',  # Pb Final Output (Lead)\n",
    "]\n",
    "\n",
    "# Asign a color per mineral\n",
    "for i, patch in enumerate(box['boxes']):\n",
    "    patch.set_facecolor(colors[i])  # Asigna color a cada caja\n",
    "\n",
    "# Rotate the labels\n",
    "plt.xticks(rotation=45, ha='right')  # 45 roation degrees to the right\n",
    "\n",
    "# ELabels and title\n",
    "plt.ylabel(\"Mineral content\")\n",
    "plt.title(\"Mineral content distribution among the extraction phases in the tails\")\n",
    "plt.grid(axis='y', linestyle='--', alpha=0.7)"
   ]
  },
  {
   "cell_type": "markdown",
   "metadata": {},
   "source": [
    "The graph shows that the tails keep a low proportion of the initial gold feed.\n",
    "As the extraction phases move forward the concentration of gold and lead stays relatively stable as it gets rid of the silver."
   ]
  },
  {
   "cell_type": "markdown",
   "metadata": {},
   "source": [
    "<div class=\"alert alert-block alert-success\">\n",
    "<b>Comentario del revisor (1ra Iteración)</b> <a class=“tocSkip”></a>\n",
    "\n",
    "Tu análisis y visualización de datos son muy sólidos y demuestran un buen entendimiento del proceso de extracción de minerales. Has realizado un trabajo excelente al eliminar la columna date y al identificar las características ausentes en el conjunto de prueba, lo cual es crucial para preparar los datos para el modelado. Además, tu enfoque para eliminar valores NaN y comunicar este problema al equipo de ingeniería de datos es muy profesional y refleja una buena práctica en ciencia de datos. Las visualizaciones con matplotlib están bien diseñadas, con colores distintivos para cada mineral y etiquetas claras, lo que facilita la interpretación de los resultados. \n",
    "\n",
    "<div class=\"alert alert-block alert-warning\">\n",
    "<b>Comentario del revisor (1ra Iteración)</b> <a class=“tocSkip”></a>\n",
    "\n",
    "\n",
    "    \n",
    "Sería recomendable explorar técnicas de imputación de datos para manejar los valores faltantes en lugar de eliminarlos directamente. Segundo, aunque has ocultado los outliers con showfliers=False, sería útil analizarlos por separado para entender si representan errores de medición o comportamientos anómalos en el proceso.\n",
    "\n",
    "</div>\n",
    "\n",
    "\n",
    "</div>"
   ]
  },
  {
   "cell_type": "markdown",
   "metadata": {},
   "source": [
    "# Eliminate NaN from test_df to do an A/B test of the mineral feed size between train and test DF"
   ]
  },
  {
   "cell_type": "code",
   "execution_count": 42,
   "metadata": {},
   "outputs": [],
   "source": [
    "test_df.dropna(inplace=True)"
   ]
  },
  {
   "cell_type": "code",
   "execution_count": 43,
   "metadata": {},
   "outputs": [
    {
     "data": {
      "text/plain": [
       "0"
      ]
     },
     "execution_count": 43,
     "metadata": {},
     "output_type": "execute_result"
    }
   ],
   "source": [
    "test_df['rougher.input.feed_size'].isna().sum()"
   ]
  },
  {
   "cell_type": "code",
   "execution_count": 44,
   "metadata": {},
   "outputs": [],
   "source": [
    "from scipy import stats #Import package to do statiscal analysis"
   ]
  },
  {
   "cell_type": "code",
   "execution_count": 45,
   "metadata": {},
   "outputs": [
    {
     "name": "stdout",
     "output_type": "stream",
     "text": [
      "K-S Statistic: 1.0\n",
      "K-S p value: 0.0\n",
      "Reject H0: The train sample does not follow a normal distribution.\n",
      "\n",
      "K-S Statistic: 0.9992569199331228\n",
      "K-S p value: 0.0\n",
      "Reject H0: The test sample does not follow a normal distribution.\n"
     ]
    }
   ],
   "source": [
    "#Normal distribution test for rougher.input.feed_size\n",
    "train_ks_stat, train_ks_pvalue = stats.kstest(train_df['rougher.input.feed_size'], 'norm')\n",
    "\n",
    "print(f'K-S Statistic: {train_ks_stat}')\n",
    "print(f'K-S p value: {train_ks_pvalue}')\n",
    "\n",
    "# Interpret the result\n",
    "alpha = 0.05  # Significance level\n",
    "if train_ks_pvalue < alpha:\n",
    "    print(\"Reject H0: The train sample does not follow a normal distribution.\")\n",
    "else:\n",
    "    print(\"H0 is not rejected: The train sample follows a normal distribution.\")\n",
    "    \n",
    "print()    \n",
    "    \n",
    "test_ks_stat, test_ks_pvalue = stats.kstest(test_df['rougher.input.feed_size'], 'norm')\n",
    "\n",
    "print(f'K-S Statistic: {test_ks_stat}')\n",
    "print(f'K-S p value: {test_ks_pvalue}')\n",
    "\n",
    "# Interpret the result\n",
    "alpha = 0.05  # Significance level\n",
    "if test_ks_pvalue < alpha:\n",
    "    print(\"Reject H0: The test sample does not follow a normal distribution.\")\n",
    "else:\n",
    "    print(\"H0 is not rejected: test The sample follows a normal distribution.\")"
   ]
  },
  {
   "cell_type": "markdown",
   "metadata": {},
   "source": [
    "Test if train and test sample both come from the same distribution with the K_S 2_sample test"
   ]
  },
  {
   "cell_type": "code",
   "execution_count": 46,
   "metadata": {},
   "outputs": [
    {
     "name": "stdout",
     "output_type": "stream",
     "text": [
      "K-S 2 samp Statistic: 0.23654097246043418\n",
      "K-S 2 samp p value: 3.556738865784189e-178\n",
      "Reject H0: The 2 samples come from different distributions.\n"
     ]
    }
   ],
   "source": [
    "#Test if both samples (rougher.input.feed_size train and test) come from the same distribution\n",
    "ks2_stat, ks2_pvalue = stats.ks_2samp(train_df['rougher.input.feed_size'],\n",
    "                                                  test_df['rougher.input.feed_size'])\n",
    "\n",
    "print(f'K-S 2 samp Statistic: {ks2_stat}')\n",
    "print(f'K-S 2 samp p value: {ks2_pvalue}')\n",
    "\n",
    "# Interpret the result\n",
    "alpha = 0.05  # Significance level\n",
    "if train_ks_pvalue < alpha:\n",
    "    print(\"Reject H0: The 2 samples come from different distributions.\")\n",
    "else:\n",
    "    print(\"H0 is not rejected: The 2 samples come from the same distribution.\")"
   ]
  },
  {
   "cell_type": "markdown",
   "metadata": {},
   "source": [
    "Since the 2 samples to analyze don't have a normal distribution and come from different distributions the most appropiate statiscal A/B test is the bootstrapping one."
   ]
  },
  {
   "cell_type": "code",
   "execution_count": 47,
   "metadata": {},
   "outputs": [
    {
     "name": "stdout",
     "output_type": "stream",
     "text": [
      "Difference between the samples mean: 1.0330981292979189\n",
      "p-value = 0.002\n",
      "Reject H0: There is a significant difference between the samples mean.\n"
     ]
    }
   ],
   "source": [
    "# Real difference between the 2 samples mean\n",
    "sample_A = test_df['rougher.input.feed_size']\n",
    "sample_B = train_df['rougher.input.feed_size']\n",
    "\n",
    "AB_difference = sample_B.mean() - sample_A.mean()# Calculate the mean difference between samples\n",
    "print(\"Difference between the samples mean:\", AB_difference)\n",
    "\n",
    "alpha = 0.05 #Significance level\n",
    "    \n",
    "state = np.random.RandomState(12345)\n",
    "\n",
    "bootstrap_samples = 1000\n",
    "count = 0\n",
    "for i in range(bootstrap_samples):\n",
    "    # Concatenate the samples\n",
    "    united_samples = pd.concat([sample_A, sample_B])\n",
    "\n",
    "    # Create a subsample\n",
    "    subsample = united_samples.sample(frac=1, replace=True, random_state=state)\n",
    "    \n",
    "    # Split the subsample by lenght of the original sample\n",
    "    subsample_A = subsample[:len(sample_A)]# First slice\n",
    "    subsample_B = subsample[len(sample_A):]# Second slice\n",
    "\n",
    "    # Find the subsample mean difference\n",
    "    bootstrap_difference = subsample_B.mean() - subsample_A.mean()\n",
    "    \n",
    "    # If the difference of the subsample mean is NOT less than the sample mean difference, add 1 to the counter\n",
    "    if bootstrap_difference >= AB_difference:\n",
    "        count += 1\n",
    "\n",
    "# The p value is the proportion between the exceeded values and the number of subsamples taken\n",
    "pvalue = count / bootstrap_samples\n",
    "print('p-value =', pvalue)\n",
    "\n",
    "if pvalue < alpha:\n",
    "    print(\"Reject H0: There is a significant difference between the samples mean.\")\n",
    "else:\n",
    "    print(\"H0 is not rejected: There is NOT a significant difference between the samples mean.\")"
   ]
  },
  {
   "cell_type": "markdown",
   "metadata": {},
   "source": [
    "Since there is significant difference between the train and the test Rougher input feed size, the machine learning model application won't be correct.\n",
    "Have to inform the manager to take more data or have in mind that the ml model predictions wouldn't be the most suitable."
   ]
  },
  {
   "cell_type": "markdown",
   "metadata": {},
   "source": [
    "# Compare the particle size in the train and test sets with graphs"
   ]
  },
  {
   "cell_type": "code",
   "execution_count": 48,
   "metadata": {},
   "outputs": [
    {
     "data": {
      "image/png": "[encoded data removed]",
      "text/plain": [
       "<Figure size 800x600 with 1 Axes>"
      ]
     },
     "metadata": {},
     "output_type": "display_data"
    }
   ],
   "source": [
    "# Graph mineral distribution among extraction phases\n",
    "plt.figure(figsize=(8, 6))\n",
    "box = plt.boxplot(\n",
    "    \n",
    "    [train_df['rougher.input.feed_size'], \n",
    "     test_df['rougher.input.feed_size'],\n",
    "    ],\n",
    "    \n",
    "    labels=['Train DF', \n",
    "            'Test DF', \n",
    "            ],\n",
    "    \n",
    "    patch_artist=True, #Fill the boxes with color\n",
    "    \n",
    "    showfliers=False #Hide outliers\n",
    ")\n",
    "\n",
    "colors = [\n",
    "    \n",
    "]\n",
    "\n",
    "\n",
    "# Rotate the labels\n",
    "plt.xticks(rotation=45, ha='right')  # 45 roation degrees to the right\n",
    "\n",
    "# ELabels and title\n",
    "plt.ylabel(\"Rougher input feed size\")\n",
    "plt.title(\"Rougher input feed size in train and test sets\")\n",
    "plt.grid(axis='y', linestyle='--', alpha=0.7)"
   ]
  },
  {
   "cell_type": "code",
   "execution_count": 49,
   "metadata": {},
   "outputs": [],
   "source": [
    "#Create a function to remove outliers from train and test samples to make a violin plot\n",
    "def remove_outliers(df, column):\n",
    "    Q1 = df[column].quantile(0.25)\n",
    "    Q3 = df[column].quantile(0.75)\n",
    "    IQR = Q3 - Q1\n",
    "    # Remove values outside of 1.5*IQR from the quartiles\n",
    "    lower_bound = Q1 - 1.5 * IQR\n",
    "    upper_bound = Q3 + 1.5 * IQR\n",
    "    return df[(df[column] >= lower_bound) & (df[column] <= upper_bound)]"
   ]
  },
  {
   "cell_type": "code",
   "execution_count": 50,
   "metadata": {},
   "outputs": [],
   "source": [
    "#Apply remove_outliers function to the 2 samples\n",
    "no_ol_sample_B = remove_outliers(train_df, 'rougher.input.feed_size')\n",
    "no_ol_sample_A = remove_outliers(test_df, 'rougher.input.feed_size')"
   ]
  },
  {
   "cell_type": "code",
   "execution_count": 51,
   "metadata": {},
   "outputs": [
    {
     "data": {
      "image/png": "[encoded data removed]",
      "text/plain": [
       "<Figure size 800x600 with 1 Axes>"
      ]
     },
     "metadata": {},
     "output_type": "display_data"
    }
   ],
   "source": [
    "#Build a violin plot the compare the train and the test Rougher input size\n",
    "import seaborn as sns #Impor library that crates violin plots\n",
    "\n",
    "# Prepare the data\n",
    "data = {\n",
    "    'train_feed_size': no_ol_sample_B['rougher.input.feed_size'],\n",
    "    'test_feed_size': no_ol_sample_A['rougher.input.feed_size']\n",
    "}\n",
    "\n",
    "# Create a DataFrame from the two sample sets\n",
    "df = pd.DataFrame(data)\n",
    "\n",
    "# Plot mustache-style graph (violin plot)\n",
    "plt.figure(figsize=(8, 6))\n",
    "\n",
    "# Violin plot for train and test feed sizes\n",
    "sns.violinplot(data=df, inner='box', scale='width', showfliers=False)\n",
    "\n",
    "# Labels and title\n",
    "plt.xlabel(\"Dataset\")\n",
    "plt.ylabel(\"Rougher input feed size\")\n",
    "plt.title(\"Rougher input feed size in train and test sets\")\n",
    "\n",
    "# Rotate the labels\n",
    "plt.xticks([0, 1], ['Train DF', 'Test DF'])\n",
    "\n",
    "# Grid and styling\n",
    "plt.grid(axis='y', linestyle='--', alpha=0.7)\n",
    "\n",
    "# Show plot\n",
    "plt.show()"
   ]
  },
  {
   "cell_type": "markdown",
   "metadata": {},
   "source": [
    "Both boxplot and violin plot graphs show the difference between train and test Rougher input size"
   ]
  },
  {
   "cell_type": "code",
   "execution_count": 52,
   "metadata": {},
   "outputs": [
    {
     "data": {
      "text/plain": [
       "count    5383.000000\n",
       "mean       56.338644\n",
       "std        21.836788\n",
       "min         0.046369\n",
       "25%        43.913766\n",
       "50%        50.924232\n",
       "75%        62.364984\n",
       "max       477.445473\n",
       "Name: rougher.input.feed_size, dtype: float64"
      ]
     },
     "execution_count": 52,
     "metadata": {},
     "output_type": "execute_result"
    }
   ],
   "source": [
    "test_df['rougher.input.feed_size'].describe()"
   ]
  },
  {
   "cell_type": "markdown",
   "metadata": {},
   "source": [
    "# Eliminate outliers from minerals in different stages and the other substances as well"
   ]
  },
  {
   "cell_type": "code",
   "execution_count": 53,
   "metadata": {},
   "outputs": [
    {
     "name": "stdout",
     "output_type": "stream",
     "text": [
      "\n",
      "Column: final.output.concentrate_ag\n",
      "Number of outliers: 347\n",
      "Proportion of outliers: 3.17%\n",
      "\n",
      "Column: final.output.concentrate_pb\n",
      "Number of outliers: 220\n",
      "Proportion of outliers: 2.01%\n",
      "\n",
      "Column: final.output.concentrate_sol\n",
      "Number of outliers: 671\n",
      "Proportion of outliers: 6.12%\n",
      "\n",
      "Column: final.output.concentrate_au\n",
      "Number of outliers: 561\n",
      "Proportion of outliers: 5.12%\n",
      "\n",
      "Column: final.output.recovery\n",
      "Number of outliers: 453\n",
      "Proportion of outliers: 4.13%\n",
      "\n",
      "Column: final.output.tail_ag\n",
      "Number of outliers: 204\n",
      "Proportion of outliers: 1.86%\n",
      "\n",
      "Column: final.output.tail_pb\n",
      "Number of outliers: 73\n",
      "Proportion of outliers: 0.67%\n",
      "\n",
      "Column: final.output.tail_sol\n",
      "Number of outliers: 879\n",
      "Proportion of outliers: 8.02%\n",
      "\n",
      "Column: final.output.tail_au\n",
      "Number of outliers: 306\n",
      "Proportion of outliers: 2.79%\n",
      "\n",
      "Column: primary_cleaner.input.sulfate\n",
      "Number of outliers: 20\n",
      "Proportion of outliers: 0.18%\n",
      "\n",
      "Column: primary_cleaner.input.depressant\n",
      "Number of outliers: 0\n",
      "Proportion of outliers: 0.00%\n",
      "\n",
      "Column: primary_cleaner.input.feed_size\n",
      "Number of outliers: 161\n",
      "Proportion of outliers: 1.47%\n",
      "\n",
      "Column: primary_cleaner.input.xanthate\n",
      "Number of outliers: 74\n",
      "Proportion of outliers: 0.68%\n",
      "\n",
      "Column: primary_cleaner.output.concentrate_ag\n",
      "Number of outliers: 238\n",
      "Proportion of outliers: 2.17%\n",
      "\n",
      "Column: primary_cleaner.output.concentrate_pb\n",
      "Number of outliers: 357\n",
      "Proportion of outliers: 3.26%\n",
      "\n",
      "Column: primary_cleaner.output.concentrate_sol\n",
      "Number of outliers: 1\n",
      "Proportion of outliers: 0.01%\n",
      "\n",
      "Column: primary_cleaner.output.concentrate_au\n",
      "Number of outliers: 464\n",
      "Proportion of outliers: 4.23%\n",
      "\n",
      "Column: primary_cleaner.output.tail_ag\n",
      "Number of outliers: 528\n",
      "Proportion of outliers: 4.82%\n",
      "\n",
      "Column: primary_cleaner.output.tail_pb\n",
      "Number of outliers: 440\n",
      "Proportion of outliers: 4.02%\n",
      "\n",
      "Column: primary_cleaner.output.tail_sol\n",
      "Number of outliers: 190\n",
      "Proportion of outliers: 1.73%\n",
      "\n",
      "Column: primary_cleaner.output.tail_au\n",
      "Number of outliers: 461\n",
      "Proportion of outliers: 4.21%\n",
      "\n",
      "Column: primary_cleaner.state.floatbank8_a_air\n",
      "Number of outliers: 1250\n",
      "Proportion of outliers: 11.41%\n",
      "\n",
      "Column: primary_cleaner.state.floatbank8_a_level\n",
      "Number of outliers: 1842\n",
      "Proportion of outliers: 16.81%\n",
      "\n",
      "Column: primary_cleaner.state.floatbank8_b_air\n",
      "Number of outliers: 1229\n",
      "Proportion of outliers: 11.22%\n",
      "\n",
      "Column: primary_cleaner.state.floatbank8_b_level\n",
      "Number of outliers: 1930\n",
      "Proportion of outliers: 17.61%\n",
      "\n",
      "Column: primary_cleaner.state.floatbank8_c_air\n",
      "Number of outliers: 324\n",
      "Proportion of outliers: 2.96%\n",
      "\n",
      "Column: primary_cleaner.state.floatbank8_c_level\n",
      "Number of outliers: 2572\n",
      "Proportion of outliers: 23.47%\n",
      "\n",
      "Column: primary_cleaner.state.floatbank8_d_air\n",
      "Number of outliers: 906\n",
      "Proportion of outliers: 8.27%\n",
      "\n",
      "Column: primary_cleaner.state.floatbank8_d_level\n",
      "Number of outliers: 2874\n",
      "Proportion of outliers: 26.23%\n",
      "\n",
      "Column: rougher.calculation.sulfate_to_au_concentrate\n",
      "Number of outliers: 196\n",
      "Proportion of outliers: 1.79%\n",
      "\n",
      "Column: rougher.calculation.floatbank10_sulfate_to_au_feed\n",
      "Number of outliers: 545\n",
      "Proportion of outliers: 4.97%\n",
      "\n",
      "Column: rougher.calculation.floatbank11_sulfate_to_au_feed\n",
      "Number of outliers: 543\n",
      "Proportion of outliers: 4.96%\n",
      "\n",
      "Column: rougher.calculation.au_pb_ratio\n",
      "Number of outliers: 309\n",
      "Proportion of outliers: 2.82%\n",
      "\n",
      "Column: rougher.input.feed_ag\n",
      "Number of outliers: 20\n",
      "Proportion of outliers: 0.18%\n",
      "\n",
      "Column: rougher.input.feed_pb\n",
      "Number of outliers: 74\n",
      "Proportion of outliers: 0.68%\n",
      "\n",
      "Column: rougher.input.feed_rate\n",
      "Number of outliers: 145\n",
      "Proportion of outliers: 1.32%\n",
      "\n",
      "Column: rougher.input.feed_size\n",
      "Number of outliers: 583\n",
      "Proportion of outliers: 5.32%\n",
      "\n",
      "Column: rougher.input.feed_sol\n",
      "Number of outliers: 303\n",
      "Proportion of outliers: 2.77%\n",
      "\n",
      "Column: rougher.input.feed_au\n",
      "Number of outliers: 27\n",
      "Proportion of outliers: 0.25%\n",
      "\n",
      "Column: rougher.input.floatbank10_sulfate\n",
      "Number of outliers: 192\n",
      "Proportion of outliers: 1.75%\n",
      "\n",
      "Column: rougher.input.floatbank10_xanthate\n",
      "Number of outliers: 78\n",
      "Proportion of outliers: 0.71%\n",
      "\n",
      "Column: rougher.input.floatbank11_sulfate\n",
      "Number of outliers: 194\n",
      "Proportion of outliers: 1.77%\n",
      "\n",
      "Column: rougher.input.floatbank11_xanthate\n",
      "Number of outliers: 90\n",
      "Proportion of outliers: 0.82%\n",
      "\n",
      "Column: rougher.output.concentrate_ag\n",
      "Number of outliers: 243\n",
      "Proportion of outliers: 2.22%\n",
      "\n",
      "Column: rougher.output.concentrate_pb\n",
      "Number of outliers: 379\n",
      "Proportion of outliers: 3.46%\n",
      "\n",
      "Column: rougher.output.concentrate_sol\n",
      "Number of outliers: 522\n",
      "Proportion of outliers: 4.76%\n",
      "\n",
      "Column: rougher.output.concentrate_au\n",
      "Number of outliers: 404\n",
      "Proportion of outliers: 3.69%\n",
      "\n",
      "Column: rougher.output.recovery\n",
      "Number of outliers: 695\n",
      "Proportion of outliers: 6.34%\n",
      "\n",
      "Column: rougher.output.tail_ag\n",
      "Number of outliers: 305\n",
      "Proportion of outliers: 2.78%\n",
      "\n",
      "Column: rougher.output.tail_pb\n",
      "Number of outliers: 218\n",
      "Proportion of outliers: 1.99%\n",
      "\n",
      "Column: rougher.output.tail_sol\n",
      "Number of outliers: 33\n",
      "Proportion of outliers: 0.30%\n",
      "\n",
      "Column: rougher.output.tail_au\n",
      "Number of outliers: 208\n",
      "Proportion of outliers: 1.90%\n",
      "\n",
      "Column: rougher.state.floatbank10_a_air\n",
      "Number of outliers: 12\n",
      "Proportion of outliers: 0.11%\n",
      "\n",
      "Column: rougher.state.floatbank10_a_level\n",
      "Number of outliers: 0\n",
      "Proportion of outliers: 0.00%\n",
      "\n",
      "Column: rougher.state.floatbank10_b_air\n",
      "Number of outliers: 3\n",
      "Proportion of outliers: 0.03%\n",
      "\n",
      "Column: rougher.state.floatbank10_b_level\n",
      "Number of outliers: 0\n",
      "Proportion of outliers: 0.00%\n",
      "\n",
      "Column: rougher.state.floatbank10_c_air\n",
      "Number of outliers: 37\n",
      "Proportion of outliers: 0.34%\n",
      "\n",
      "Column: rougher.state.floatbank10_c_level\n",
      "Number of outliers: 0\n",
      "Proportion of outliers: 0.00%\n",
      "\n",
      "Column: rougher.state.floatbank10_d_air\n",
      "Number of outliers: 35\n",
      "Proportion of outliers: 0.32%\n",
      "\n",
      "Column: rougher.state.floatbank10_d_level\n",
      "Number of outliers: 0\n",
      "Proportion of outliers: 0.00%\n",
      "\n",
      "Column: rougher.state.floatbank10_e_air\n",
      "Number of outliers: 251\n",
      "Proportion of outliers: 2.29%\n",
      "\n",
      "Column: rougher.state.floatbank10_e_level\n",
      "Number of outliers: 0\n",
      "Proportion of outliers: 0.00%\n",
      "\n",
      "Column: rougher.state.floatbank10_f_air\n",
      "Number of outliers: 744\n",
      "Proportion of outliers: 6.79%\n",
      "\n",
      "Column: rougher.state.floatbank10_f_level\n",
      "Number of outliers: 0\n",
      "Proportion of outliers: 0.00%\n",
      "\n",
      "Column: secondary_cleaner.output.tail_ag\n",
      "Number of outliers: 451\n",
      "Proportion of outliers: 4.12%\n",
      "\n",
      "Column: secondary_cleaner.output.tail_pb\n",
      "Number of outliers: 73\n",
      "Proportion of outliers: 0.67%\n",
      "\n",
      "Column: secondary_cleaner.output.tail_sol\n",
      "Number of outliers: 0\n",
      "Proportion of outliers: 0.00%\n",
      "\n",
      "Column: secondary_cleaner.output.tail_au\n",
      "Number of outliers: 1079\n",
      "Proportion of outliers: 9.85%\n",
      "\n",
      "Column: secondary_cleaner.state.floatbank2_a_air\n",
      "Number of outliers: 225\n",
      "Proportion of outliers: 2.05%\n",
      "\n",
      "Column: secondary_cleaner.state.floatbank2_a_level\n",
      "Number of outliers: 2405\n",
      "Proportion of outliers: 21.95%\n",
      "\n",
      "Column: secondary_cleaner.state.floatbank2_b_air\n",
      "Number of outliers: 227\n",
      "Proportion of outliers: 2.07%\n",
      "\n",
      "Column: secondary_cleaner.state.floatbank2_b_level\n",
      "Number of outliers: 1765\n",
      "Proportion of outliers: 16.11%\n",
      "\n",
      "Column: secondary_cleaner.state.floatbank3_a_air\n",
      "Number of outliers: 0\n",
      "Proportion of outliers: 0.00%\n",
      "\n",
      "Column: secondary_cleaner.state.floatbank3_a_level\n",
      "Number of outliers: 114\n",
      "Proportion of outliers: 1.04%\n",
      "\n",
      "Column: secondary_cleaner.state.floatbank3_b_air\n",
      "Number of outliers: 232\n",
      "Proportion of outliers: 2.12%\n",
      "\n",
      "Column: secondary_cleaner.state.floatbank3_b_level\n",
      "Number of outliers: 2732\n",
      "Proportion of outliers: 24.93%\n",
      "\n",
      "Column: secondary_cleaner.state.floatbank4_a_air\n",
      "Number of outliers: 0\n",
      "Proportion of outliers: 0.00%\n",
      "\n",
      "Column: secondary_cleaner.state.floatbank4_a_level\n",
      "Number of outliers: 68\n",
      "Proportion of outliers: 0.62%\n",
      "\n",
      "Column: secondary_cleaner.state.floatbank4_b_air\n",
      "Number of outliers: 0\n",
      "Proportion of outliers: 0.00%\n",
      "\n",
      "Column: secondary_cleaner.state.floatbank4_b_level\n",
      "Number of outliers: 66\n",
      "Proportion of outliers: 0.60%\n",
      "\n",
      "Column: secondary_cleaner.state.floatbank5_a_air\n",
      "Number of outliers: 6\n",
      "Proportion of outliers: 0.05%\n",
      "\n",
      "Column: secondary_cleaner.state.floatbank5_a_level\n",
      "Number of outliers: 232\n",
      "Proportion of outliers: 2.12%\n",
      "\n",
      "Column: secondary_cleaner.state.floatbank5_b_air\n",
      "Number of outliers: 0\n",
      "Proportion of outliers: 0.00%\n",
      "\n",
      "Column: secondary_cleaner.state.floatbank5_b_level\n",
      "Number of outliers: 202\n",
      "Proportion of outliers: 1.84%\n",
      "\n",
      "Column: secondary_cleaner.state.floatbank6_a_air\n",
      "Number of outliers: 0\n",
      "Proportion of outliers: 0.00%\n",
      "\n",
      "Column: secondary_cleaner.state.floatbank6_a_level\n",
      "Number of outliers: 2350\n",
      "Proportion of outliers: 21.45%\n"
     ]
    }
   ],
   "source": [
    "# Define a function to detect and count outliers based on the IQR\n",
    "def count_outliers(df):\n",
    "    outliers_info = {}  # Dictionary to store the results\n",
    "    \n",
    "    for column in df.select_dtypes(include=['float64', 'int64']).columns:\n",
    "        # Calculate Q1, Q3 and IQR\n",
    "        Q1 = df[column].quantile(0.25)\n",
    "        Q3 = df[column].quantile(0.75)\n",
    "        IQR = Q3 - Q1\n",
    "\n",
    "        # Calculate the upper and lower bounds\n",
    "        lower_bound = Q1 - 1.5 * IQR\n",
    "        upper_bound = Q3 + 1.5 * IQR\n",
    "\n",
    "        # Detect the outliers\n",
    "        outliers = df[(df[column] < lower_bound) | (df[column] > upper_bound)]\n",
    "\n",
    "        # Count the outliers\n",
    "        num_outliers = outliers.shape[0]\n",
    "        \n",
    "        # Calculate the proportion between outliers and the sample number\n",
    "        total_samples = df.shape[0]\n",
    "        proportion_outliers = num_outliers / total_samples\n",
    "\n",
    "        # Store the outliers data per column\n",
    "        outliers_info[column] = {\n",
    "            'num_outliers': num_outliers,\n",
    "            'proportion_outliers': proportion_outliers,\n",
    "            'outliers': outliers\n",
    "        }\n",
    "\n",
    "    return outliers_info\n",
    "\n",
    "# Count outliers in all the columns of the DF\n",
    "outliers_info = count_outliers(train_df)\n",
    "\n",
    "# Show the results for every column\n",
    "for column, info in outliers_info.items():\n",
    "    print(f\"\\nColumn: {column}\")\n",
    "    print(f\"Number of outliers: {info['num_outliers']}\")\n",
    "    print(f\"Proportion of outliers: {info['proportion_outliers'] * 100:.2f}%\")\n",
    "    \n",
    "    # Show the first rows with outliers if there are any\n",
    "    #if info['num_outliers'] > 0:\n",
    "        #print(f\"First outliers in {column}:\")\n",
    "        #print(info['outliers'].head())"
   ]
  },
  {
   "cell_type": "code",
   "execution_count": 54,
   "metadata": {},
   "outputs": [],
   "source": [
    "# Define a function to remove outliers based on the IQR\n",
    "def remove_outliers(df):\n",
    "    cleaned_df = df.copy()  # Make a copy of the original DataFrame to preserve it\n",
    "\n",
    "    for column in df.select_dtypes(include=['float64', 'int64']).columns:\n",
    "        # Calculate Q1, Q3, and IQR\n",
    "        Q1 = df[column].quantile(0.25)\n",
    "        Q3 = df[column].quantile(0.75)\n",
    "        IQR = Q3 - Q1\n",
    "\n",
    "        # Calculate lower and upper bounds to identify outliers\n",
    "        lower_bound = Q1 - 1.5 * IQR\n",
    "        upper_bound = Q3 + 1.5 * IQR\n",
    "\n",
    "        # Remove the outliers by filtering the rows within the bounds\n",
    "        cleaned_df = cleaned_df[(cleaned_df[column] >= lower_bound) & (cleaned_df[column] <= upper_bound)]\n",
    "\n",
    "    return cleaned_df\n",
    "\n",
    "# Remove outliers from the train DataFrame\n",
    "no_ol_train_df = remove_outliers(train_df)\n",
    "\n",
    "# We now have a 'no_ol_train_df' DataFrame without outliers\n"
   ]
  },
  {
   "cell_type": "code",
   "execution_count": 55,
   "metadata": {},
   "outputs": [
    {
     "name": "stdout",
     "output_type": "stream",
     "text": [
      "<class 'pandas.core.frame.DataFrame'>\n",
      "Int64Index: 1777 entries, 354 to 16428\n",
      "Data columns (total 86 columns):\n",
      " #   Column                                              Non-Null Count  Dtype  \n",
      "---  ------                                              --------------  -----  \n",
      " 0   final.output.concentrate_ag                         1777 non-null   float64\n",
      " 1   final.output.concentrate_pb                         1777 non-null   float64\n",
      " 2   final.output.concentrate_sol                        1777 non-null   float64\n",
      " 3   final.output.concentrate_au                         1777 non-null   float64\n",
      " 4   final.output.recovery                               1777 non-null   float64\n",
      " 5   final.output.tail_ag                                1777 non-null   float64\n",
      " 6   final.output.tail_pb                                1777 non-null   float64\n",
      " 7   final.output.tail_sol                               1777 non-null   float64\n",
      " 8   final.output.tail_au                                1777 non-null   float64\n",
      " 9   primary_cleaner.input.sulfate                       1777 non-null   float64\n",
      " 10  primary_cleaner.input.depressant                    1777 non-null   float64\n",
      " 11  primary_cleaner.input.feed_size                     1777 non-null   float64\n",
      " 12  primary_cleaner.input.xanthate                      1777 non-null   float64\n",
      " 13  primary_cleaner.output.concentrate_ag               1777 non-null   float64\n",
      " 14  primary_cleaner.output.concentrate_pb               1777 non-null   float64\n",
      " 15  primary_cleaner.output.concentrate_sol              1777 non-null   float64\n",
      " 16  primary_cleaner.output.concentrate_au               1777 non-null   float64\n",
      " 17  primary_cleaner.output.tail_ag                      1777 non-null   float64\n",
      " 18  primary_cleaner.output.tail_pb                      1777 non-null   float64\n",
      " 19  primary_cleaner.output.tail_sol                     1777 non-null   float64\n",
      " 20  primary_cleaner.output.tail_au                      1777 non-null   float64\n",
      " 21  primary_cleaner.state.floatbank8_a_air              1777 non-null   float64\n",
      " 22  primary_cleaner.state.floatbank8_a_level            1777 non-null   float64\n",
      " 23  primary_cleaner.state.floatbank8_b_air              1777 non-null   float64\n",
      " 24  primary_cleaner.state.floatbank8_b_level            1777 non-null   float64\n",
      " 25  primary_cleaner.state.floatbank8_c_air              1777 non-null   float64\n",
      " 26  primary_cleaner.state.floatbank8_c_level            1777 non-null   float64\n",
      " 27  primary_cleaner.state.floatbank8_d_air              1777 non-null   float64\n",
      " 28  primary_cleaner.state.floatbank8_d_level            1777 non-null   float64\n",
      " 29  rougher.calculation.sulfate_to_au_concentrate       1777 non-null   float64\n",
      " 30  rougher.calculation.floatbank10_sulfate_to_au_feed  1777 non-null   float64\n",
      " 31  rougher.calculation.floatbank11_sulfate_to_au_feed  1777 non-null   float64\n",
      " 32  rougher.calculation.au_pb_ratio                     1777 non-null   float64\n",
      " 33  rougher.input.feed_ag                               1777 non-null   float64\n",
      " 34  rougher.input.feed_pb                               1777 non-null   float64\n",
      " 35  rougher.input.feed_rate                             1777 non-null   float64\n",
      " 36  rougher.input.feed_size                             1777 non-null   float64\n",
      " 37  rougher.input.feed_sol                              1777 non-null   float64\n",
      " 38  rougher.input.feed_au                               1777 non-null   float64\n",
      " 39  rougher.input.floatbank10_sulfate                   1777 non-null   float64\n",
      " 40  rougher.input.floatbank10_xanthate                  1777 non-null   float64\n",
      " 41  rougher.input.floatbank11_sulfate                   1777 non-null   float64\n",
      " 42  rougher.input.floatbank11_xanthate                  1777 non-null   float64\n",
      " 43  rougher.output.concentrate_ag                       1777 non-null   float64\n",
      " 44  rougher.output.concentrate_pb                       1777 non-null   float64\n",
      " 45  rougher.output.concentrate_sol                      1777 non-null   float64\n",
      " 46  rougher.output.concentrate_au                       1777 non-null   float64\n",
      " 47  rougher.output.recovery                             1777 non-null   float64\n",
      " 48  rougher.output.tail_ag                              1777 non-null   float64\n",
      " 49  rougher.output.tail_pb                              1777 non-null   float64\n",
      " 50  rougher.output.tail_sol                             1777 non-null   float64\n",
      " 51  rougher.output.tail_au                              1777 non-null   float64\n",
      " 52  rougher.state.floatbank10_a_air                     1777 non-null   float64\n",
      " 53  rougher.state.floatbank10_a_level                   1777 non-null   float64\n",
      " 54  rougher.state.floatbank10_b_air                     1777 non-null   float64\n",
      " 55  rougher.state.floatbank10_b_level                   1777 non-null   float64\n",
      " 56  rougher.state.floatbank10_c_air                     1777 non-null   float64\n",
      " 57  rougher.state.floatbank10_c_level                   1777 non-null   float64\n",
      " 58  rougher.state.floatbank10_d_air                     1777 non-null   float64\n",
      " 59  rougher.state.floatbank10_d_level                   1777 non-null   float64\n",
      " 60  rougher.state.floatbank10_e_air                     1777 non-null   float64\n",
      " 61  rougher.state.floatbank10_e_level                   1777 non-null   float64\n",
      " 62  rougher.state.floatbank10_f_air                     1777 non-null   float64\n",
      " 63  rougher.state.floatbank10_f_level                   1777 non-null   float64\n",
      " 64  secondary_cleaner.output.tail_ag                    1777 non-null   float64\n",
      " 65  secondary_cleaner.output.tail_pb                    1777 non-null   float64\n",
      " 66  secondary_cleaner.output.tail_sol                   1777 non-null   float64\n",
      " 67  secondary_cleaner.output.tail_au                    1777 non-null   float64\n",
      " 68  secondary_cleaner.state.floatbank2_a_air            1777 non-null   float64\n",
      " 69  secondary_cleaner.state.floatbank2_a_level          1777 non-null   float64\n",
      " 70  secondary_cleaner.state.floatbank2_b_air            1777 non-null   float64\n",
      " 71  secondary_cleaner.state.floatbank2_b_level          1777 non-null   float64\n",
      " 72  secondary_cleaner.state.floatbank3_a_air            1777 non-null   float64\n",
      " 73  secondary_cleaner.state.floatbank3_a_level          1777 non-null   float64\n",
      " 74  secondary_cleaner.state.floatbank3_b_air            1777 non-null   float64\n",
      " 75  secondary_cleaner.state.floatbank3_b_level          1777 non-null   float64\n",
      " 76  secondary_cleaner.state.floatbank4_a_air            1777 non-null   float64\n",
      " 77  secondary_cleaner.state.floatbank4_a_level          1777 non-null   float64\n",
      " 78  secondary_cleaner.state.floatbank4_b_air            1777 non-null   float64\n",
      " 79  secondary_cleaner.state.floatbank4_b_level          1777 non-null   float64\n",
      " 80  secondary_cleaner.state.floatbank5_a_air            1777 non-null   float64\n",
      " 81  secondary_cleaner.state.floatbank5_a_level          1777 non-null   float64\n",
      " 82  secondary_cleaner.state.floatbank5_b_air            1777 non-null   float64\n",
      " 83  secondary_cleaner.state.floatbank5_b_level          1777 non-null   float64\n",
      " 84  secondary_cleaner.state.floatbank6_a_air            1777 non-null   float64\n",
      " 85  secondary_cleaner.state.floatbank6_a_level          1777 non-null   float64\n",
      "dtypes: float64(86)\n",
      "memory usage: 1.2 MB\n"
     ]
    }
   ],
   "source": [
    "no_ol_train_df.info()"
   ]
  },
  {
   "cell_type": "markdown",
   "metadata": {},
   "source": [
    "A lot of data was lost after erasing outliers"
   ]
  },
  {
   "cell_type": "markdown",
   "metadata": {},
   "source": [
    "<div class=\"alert alert-block alert-success\">\n",
    "<b>Comentario del revisor (1ra Iteración)</b> <a class=“tocSkip”></a>\n",
    "\n",
    "Robert has realizado un excelente trabajo al eliminar los valores NaN y al utilizar pruebas estadísticas como el test de Kolmogorov-Smirnov para evaluar la distribución de los datos. Además, tu implementación del bootstrapping para comparar las medias de las muestras es muy acertada, especialmente al identificar que las distribuciones no son normales. Las visualizaciones son claras y efectivas para comunicar las diferencias entre los conjuntos de entrenamiento y prueba.\n",
    "\n",
    "\n",
    "</div>"
   ]
  },
  {
   "cell_type": "markdown",
   "metadata": {},
   "source": [
    "# Machine learning model Cross-validation"
   ]
  },
  {
   "cell_type": "code",
   "execution_count": 56,
   "metadata": {},
   "outputs": [],
   "source": [
    "#Import ML model builder modules\n",
    "from sklearn.ensemble import RandomForestRegressor\n",
    "from sklearn.linear_model import LinearRegression"
   ]
  },
  {
   "cell_type": "code",
   "execution_count": 57,
   "metadata": {},
   "outputs": [],
   "source": [
    "from sklearn.model_selection import cross_val_score #Import library to do cross validation in ML models"
   ]
  },
  {
   "cell_type": "code",
   "execution_count": 58,
   "metadata": {},
   "outputs": [],
   "source": [
    "#Obtain the target columns to remove them later in the features DF\n",
    "target_columns = set(train_df.columns) - set(test_df.columns)"
   ]
  },
  {
   "cell_type": "code",
   "execution_count": 59,
   "metadata": {},
   "outputs": [],
   "source": [
    "#Define features\n",
    "no_ol_train_features = no_ol_train_df.drop(list(target_columns), axis=1)"
   ]
  },
  {
   "cell_type": "code",
   "execution_count": 60,
   "metadata": {},
   "outputs": [],
   "source": [
    "#Define targets\n",
    "rougher_no_ol_train_target = no_ol_train_df['rougher.output.recovery']\n",
    "final_no_ol_train_target = no_ol_train_df['final.output.recovery']"
   ]
  },
  {
   "cell_type": "code",
   "execution_count": 61,
   "metadata": {},
   "outputs": [
    {
     "name": "stdout",
     "output_type": "stream",
     "text": [
      "The coefficient of determination (R²) of the best model: 0.09144288161704836 best_depth: 1\n"
     ]
    }
   ],
   "source": [
    "#Search the best Random Forest model maximal depth for Rougher Output Recovery\n",
    "best_r2 = -float('inf')\n",
    "\n",
    "best_depth = 0\n",
    "for depth in range (1, 11):\n",
    "        model = RandomForestRegressor(max_depth=depth, random_state=54321, n_estimators=10)\n",
    "        \n",
    "        r2_scores = cross_val_score(model, no_ol_train_features, rougher_no_ol_train_target, cv=5, scoring='r2')\n",
    "        mean_r2 = r2_scores.mean()  # Promedio de R² de todas las particiones\n",
    "        \n",
    "        if mean_r2 > best_r2:\n",
    "            best_r2 = mean_r2\n",
    "            best_depth = depth\n",
    "            \n",
    "print(\n",
    "    \"The coefficient of determination (R²) of the best model:\",\n",
    "    best_r2,\n",
    "    \"best_depth:\", best_depth\n",
    ")"
   ]
  },
  {
   "cell_type": "code",
   "execution_count": 62,
   "metadata": {},
   "outputs": [
    {
     "name": "stdout",
     "output_type": "stream",
     "text": [
      "The coefficient of determination (R²) of the best model: 0.09332446030148958 n_estimators: 20 best_depth: 1\n"
     ]
    }
   ],
   "source": [
    "#Search the best Random Forest model maximal number of estimators for Rougher Output Recovery\n",
    "best_r2 = -float('inf')\n",
    "best_est = 0\n",
    "best_depth = 0\n",
    "for est in range(10, 31, 10):\n",
    "    for depth in range (1, 11):\n",
    "        model = RandomForestRegressor(max_depth=depth, random_state=54321, n_estimators=est)\n",
    "        \n",
    "        r2_scores = cross_val_score(model, no_ol_train_features, rougher_no_ol_train_target, cv=5, scoring='r2')\n",
    "        mean_r2 = r2_scores.mean()  # Promedio de R² de todas las particiones\n",
    "        \n",
    "        if mean_r2 > best_r2:\n",
    "            best_r2 = mean_r2\n",
    "            best_est = est\n",
    "            best_depth = depth\n",
    "            \n",
    "print(\n",
    "    \"The coefficient of determination (R²) of the best model:\",\n",
    "    best_r2,\n",
    "    \"n_estimators:\", best_est,\n",
    "    \"best_depth:\", best_depth\n",
    ")"
   ]
  },
  {
   "cell_type": "code",
   "execution_count": 63,
   "metadata": {},
   "outputs": [
    {
     "name": "stdout",
     "output_type": "stream",
     "text": [
      "Mean score of the model: 0.07676917914397899\n"
     ]
    }
   ],
   "source": [
    "# Define a Logistic Regression model for Rougher Output Recovery\n",
    "lr_model = LinearRegression()\n",
    "        \n",
    "r2_scores = cross_val_score(lr_model, no_ol_train_features, rougher_no_ol_train_target, cv=5, scoring='r2')\n",
    "mean_r2 = r2_scores.mean()  # Promedio de R² de todas las particiones\n",
    "        \n",
    "print('Mean score of the model:', mean_r2)"
   ]
  },
  {
   "cell_type": "code",
   "execution_count": 64,
   "metadata": {},
   "outputs": [
    {
     "name": "stdout",
     "output_type": "stream",
     "text": [
      "The coefficient of determination (R²) of the best model: -0.22204204849166098 best_depth: 5\n"
     ]
    }
   ],
   "source": [
    "#Search the best Random Forest model maximal depth for Final Output Recovery\n",
    "best_r2 = -float('inf')\n",
    "\n",
    "best_depth = 0\n",
    "for depth in range (1, 11):\n",
    "        model = RandomForestRegressor(max_depth=depth, random_state=54321, n_estimators=10)\n",
    "        \n",
    "        r2_scores = cross_val_score(model, no_ol_train_features, final_no_ol_train_target, cv=5, scoring='r2')\n",
    "        mean_r2 = r2_scores.mean()  # Promedio de R² de todas las particiones\n",
    "        \n",
    "        if mean_r2 > best_r2:\n",
    "            best_r2 = mean_r2\n",
    "            best_est = est\n",
    "            best_depth = depth\n",
    "            \n",
    "print(\n",
    "    \"The coefficient of determination (R²) of the best model:\",\n",
    "    best_r2,\n",
    "    \"best_depth:\", best_depth\n",
    ")"
   ]
  },
  {
   "cell_type": "code",
   "execution_count": 65,
   "metadata": {},
   "outputs": [
    {
     "name": "stdout",
     "output_type": "stream",
     "text": [
      "The coefficient of determination (R²) of the best model: -0.2040468635413517 n_estimators: 20 best_depth: 5\n"
     ]
    }
   ],
   "source": [
    "#Search the best Random Forest model maximal number of estimators for Final Output Recovery\n",
    "best_r2 = -float('inf')\n",
    "best_est = 0\n",
    "best_depth = 0\n",
    "for est in range(10, 31, 10):\n",
    "    for depth in range (1, 11):\n",
    "        model = RandomForestRegressor(max_depth=depth, random_state=54321, n_estimators=est)\n",
    "        \n",
    "        r2_scores = cross_val_score(model, no_ol_train_features, final_no_ol_train_target, cv=5, scoring='r2')\n",
    "        mean_r2 = r2_scores.mean()  # Promedio de R² de todas las particiones\n",
    "        \n",
    "        if mean_r2 > best_r2:\n",
    "            best_r2 = mean_r2\n",
    "            best_est = est\n",
    "            best_depth = depth\n",
    "            \n",
    "print(\n",
    "    \"The coefficient of determination (R²) of the best model:\",\n",
    "    best_r2,\n",
    "    \"n_estimators:\", best_est,\n",
    "    \"best_depth:\", best_depth\n",
    ")"
   ]
  },
  {
   "cell_type": "code",
   "execution_count": 66,
   "metadata": {},
   "outputs": [
    {
     "name": "stdout",
     "output_type": "stream",
     "text": [
      "Mean score of the model: 0.07676917914397899\n"
     ]
    }
   ],
   "source": [
    "# Define a Logistic Regression model for Final Output Recovery\n",
    "lr_model = LinearRegression()\n",
    "        \n",
    "r2_scores = cross_val_score(lr_model, no_ol_train_features, rougher_no_ol_train_target, cv=5, scoring='r2')\n",
    "mean_r2 = r2_scores.mean()  # Promedio de R² de todas las particiones\n",
    "        \n",
    "print('Mean score of the model:', mean_r2)"
   ]
  },
  {
   "cell_type": "markdown",
   "metadata": {},
   "source": [
    "The best models found were:\n",
    "    Random Forest Regressor for Rougher Output Recovery\n",
    "    Linear Regression for Final Output Recovery"
   ]
  },
  {
   "cell_type": "markdown",
   "metadata": {},
   "source": [
    "# Fitting best model for Rougher and final output recovery"
   ]
  },
  {
   "cell_type": "code",
   "execution_count": 67,
   "metadata": {},
   "outputs": [
    {
     "data": {
      "text/plain": [
       "RandomForestRegressor(max_depth=1, n_estimators=20, random_state=54321)"
      ]
     },
     "execution_count": 67,
     "metadata": {},
     "output_type": "execute_result"
    }
   ],
   "source": [
    "best_rougher_model = RandomForestRegressor(max_depth=1, random_state=54321, n_estimators=20)\n",
    "best_rougher_model.fit(no_ol_train_features, rougher_no_ol_train_target)"
   ]
  },
  {
   "cell_type": "code",
   "execution_count": 68,
   "metadata": {},
   "outputs": [
    {
     "data": {
      "text/plain": [
       "LinearRegression()"
      ]
     },
     "execution_count": 68,
     "metadata": {},
     "output_type": "execute_result"
    }
   ],
   "source": [
    "best_final_model = LinearRegression()\n",
    "best_final_model.fit(no_ol_train_features, final_no_ol_train_target)"
   ]
  },
  {
   "cell_type": "code",
   "execution_count": 69,
   "metadata": {},
   "outputs": [],
   "source": [
    "# Define function to calculate sMAPE\n",
    "from sklearn.metrics import mean_absolute_error\n",
    "\n",
    "\n",
    "def smape(y_true, y_pred):\n",
    "    #\n",
    "    denominator = (np.abs(y_true) + np.abs(y_pred)) / 2.0\n",
    "    diff = np.abs(y_true - y_pred) / denominator\n",
    "    return 100 * np.mean(diff)"
   ]
  },
  {
   "cell_type": "code",
   "execution_count": 70,
   "metadata": {},
   "outputs": [
    {
     "name": "stdout",
     "output_type": "stream",
     "text": [
      "1.2375356402372106\n"
     ]
    }
   ],
   "source": [
    "#Print Rougher Output Recovery sMAPE\n",
    "rougher_smape = smape(rougher_no_ol_train_target, best_rougher_model.predict(no_ol_train_features))\n",
    "print(rougher_smape)"
   ]
  },
  {
   "cell_type": "code",
   "execution_count": 71,
   "metadata": {},
   "outputs": [
    {
     "name": "stdout",
     "output_type": "stream",
     "text": [
      "3.885097615029969\n"
     ]
    }
   ],
   "source": [
    "#Print Final Output Recovery sMAPE\n",
    "final_smape = smape(final_no_ol_train_target, best_final_model.predict(no_ol_train_features))\n",
    "print(final_smape)"
   ]
  },
  {
   "cell_type": "code",
   "execution_count": 72,
   "metadata": {},
   "outputs": [
    {
     "name": "stdout",
     "output_type": "stream",
     "text": [
      "3.2232071213317792\n"
     ]
    }
   ],
   "source": [
    "# Calculate the Total sMAPE\n",
    "total_smape = 0.25 * rougher_smape + 0.75 * final_smape\n",
    "print(total_smape)"
   ]
  },
  {
   "cell_type": "markdown",
   "metadata": {},
   "source": [
    "The total_smape shows the percentage that the predictions of these models have"
   ]
  },
  {
   "cell_type": "markdown",
   "metadata": {},
   "source": [
    "# Predict targets in test DF"
   ]
  },
  {
   "cell_type": "code",
   "execution_count": 73,
   "metadata": {},
   "outputs": [
    {
     "name": "stdout",
     "output_type": "stream",
     "text": [
      "[90.70121086 90.70121086 90.70121086 ... 90.70121086 90.70121086\n",
      " 90.70121086]\n"
     ]
    }
   ],
   "source": [
    "rougher_test_predictions = best_rougher_model.predict(test_df)\n",
    "print(rougher_test_predictions)"
   ]
  },
  {
   "cell_type": "code",
   "execution_count": 74,
   "metadata": {},
   "outputs": [
    {
     "name": "stdout",
     "output_type": "stream",
     "text": [
      "[90.70121086 90.70121086 90.70121086 ... 90.70121086 90.70121086\n",
      " 90.70121086]\n"
     ]
    }
   ],
   "source": [
    "final_test_predictions = best_final_model.predict(test_df)\n",
    "print(rougher_test_predictions)"
   ]
  },
  {
   "cell_type": "markdown",
   "metadata": {},
   "source": [
    "# Predict targets in full DF"
   ]
  },
  {
   "cell_type": "code",
   "execution_count": 75,
   "metadata": {},
   "outputs": [],
   "source": [
    "full_df.drop('date', axis=1, inplace=True)\n"
   ]
  },
  {
   "cell_type": "code",
   "execution_count": 76,
   "metadata": {},
   "outputs": [],
   "source": [
    "full_df.dropna(inplace=True)"
   ]
  },
  {
   "cell_type": "code",
   "execution_count": 77,
   "metadata": {},
   "outputs": [],
   "source": [
    "full_features = full_df.drop(list(target_columns), axis=1)"
   ]
  },
  {
   "cell_type": "code",
   "execution_count": 78,
   "metadata": {},
   "outputs": [],
   "source": [
    "rougher_full_target = full_df['rougher.output.recovery']\n",
    "final_full_target = full_df['final.output.recovery']"
   ]
  },
  {
   "cell_type": "code",
   "execution_count": 79,
   "metadata": {},
   "outputs": [
    {
     "data": {
      "text/plain": [
       "(16094,)"
      ]
     },
     "execution_count": 79,
     "metadata": {},
     "output_type": "execute_result"
    }
   ],
   "source": [
    "rougher_full_target.shape"
   ]
  },
  {
   "cell_type": "code",
   "execution_count": 80,
   "metadata": {},
   "outputs": [
    {
     "data": {
      "text/plain": [
       "(16094, 52)"
      ]
     },
     "execution_count": 80,
     "metadata": {},
     "output_type": "execute_result"
    }
   ],
   "source": [
    "full_features.shape"
   ]
  },
  {
   "cell_type": "code",
   "execution_count": 81,
   "metadata": {},
   "outputs": [
    {
     "name": "stdout",
     "output_type": "stream",
     "text": [
      "12.037250296683947\n"
     ]
    }
   ],
   "source": [
    "full_rougher_smape = smape(rougher_full_target, best_rougher_model.predict(full_features))\n",
    "print(full_rougher_smape)"
   ]
  },
  {
   "cell_type": "code",
   "execution_count": 82,
   "metadata": {},
   "outputs": [
    {
     "name": "stdout",
     "output_type": "stream",
     "text": [
      "27.980620482130476\n"
     ]
    }
   ],
   "source": [
    "full_final_smape = smape(final_full_target, best_final_model.predict(full_features))\n",
    "print(full_final_smape)"
   ]
  },
  {
   "cell_type": "code",
   "execution_count": 83,
   "metadata": {},
   "outputs": [
    {
     "name": "stdout",
     "output_type": "stream",
     "text": [
      "23.994777935768845\n"
     ]
    }
   ],
   "source": [
    "full_total_smape = 0.25 * full_rougher_smape + 0.75 * full_final_smape\n",
    "print(full_total_smape)"
   ]
  },
  {
   "cell_type": "markdown",
   "metadata": {},
   "source": [
    "<div class=\"alert alert-block alert-success\">\n",
    "<b>Comentario del revisor (1ra Iteración)</b> <a class=“tocSkip”></a>\n",
    "\n",
    "Robert has implementado correctamente lo modelos predictivos. Además has realizado un trabajo excelente al utilizar cross_val_score para evaluar el rendimiento de los modelos y al buscar los mejores hiperparámetros para el RandomForestRegressor. Además, la implementación de la métrica sMAPE (Error Porcentual Absoluto Medio Simétrico) es adecuada para evaluar la precisión de las predicciones, especialmente en problemas de regresión. \n",
    "\n",
    "Hay algunos aspectos que podrías mejorar. Primero, los valores de R2 obtenidos para los modelos son bastante bajos (incluso negativos en algunos casos), lo que sugiere que los modelos no están capturando adecuadamente la variabilidad de los datos. Esto podría deberse a la falta de características relevantes, la presencia de ruido en los datos, o la necesidad de explorar otros algoritmos o técnicas de preprocesamiento. Segundo, aunque has eliminado los outliers, podrías explorar técnicas de ingeniería de características o transformaciones de datos para mejorar el rendimiento del modelo. \n",
    "\n",
    "</div>"
   ]
  }
 ],
 "metadata": {
  "ExecuteTimeLog": [
   {
    "duration": 331,
    "start_time": "2025-03-09T20:37:38.867Z"
   },
   {
    "duration": 514,
    "start_time": "2025-03-09T20:37:46.597Z"
   },
   {
    "duration": 257,
    "start_time": "2025-03-09T20:37:57.657Z"
   },
   {
    "duration": 95,
    "start_time": "2025-03-09T20:38:15.541Z"
   },
   {
    "duration": 199,
    "start_time": "2025-03-09T22:27:18.924Z"
   },
   {
    "duration": 65,
    "start_time": "2025-03-09T22:27:28.653Z"
   },
   {
    "duration": 310,
    "start_time": "2025-03-09T22:27:50.041Z"
   },
   {
    "duration": 254,
    "start_time": "2025-03-09T22:28:02.755Z"
   },
   {
    "duration": 14,
    "start_time": "2025-03-09T22:28:11.888Z"
   },
   {
    "duration": 11,
    "start_time": "2025-03-09T22:28:33.584Z"
   },
   {
    "duration": 14,
    "start_time": "2025-03-09T22:28:42.532Z"
   },
   {
    "duration": 5,
    "start_time": "2025-03-10T01:26:30.898Z"
   },
   {
    "duration": 11,
    "start_time": "2025-03-10T01:27:36.538Z"
   },
   {
    "duration": 8,
    "start_time": "2025-03-10T01:27:40.513Z"
   },
   {
    "duration": 5,
    "start_time": "2025-03-10T01:28:41.957Z"
   },
   {
    "duration": 8,
    "start_time": "2025-03-10T01:31:03.883Z"
   },
   {
    "duration": 6,
    "start_time": "2025-03-10T01:33:45.629Z"
   },
   {
    "duration": 8,
    "start_time": "2025-03-10T01:33:50.807Z"
   },
   {
    "duration": 5,
    "start_time": "2025-03-10T01:35:53.782Z"
   },
   {
    "duration": 5,
    "start_time": "2025-03-10T01:36:22.104Z"
   },
   {
    "duration": 6,
    "start_time": "2025-03-10T01:41:46.844Z"
   },
   {
    "duration": 286,
    "start_time": "2025-03-10T01:42:01.379Z"
   },
   {
    "duration": 195,
    "start_time": "2025-03-10T01:42:01.668Z"
   },
   {
    "duration": 47,
    "start_time": "2025-03-10T01:42:01.865Z"
   },
   {
    "duration": 254,
    "start_time": "2025-03-10T01:42:01.913Z"
   },
   {
    "duration": 14,
    "start_time": "2025-03-10T01:42:02.169Z"
   },
   {
    "duration": 9,
    "start_time": "2025-03-10T01:42:02.185Z"
   },
   {
    "duration": 32,
    "start_time": "2025-03-10T01:42:02.196Z"
   },
   {
    "duration": 10,
    "start_time": "2025-03-10T01:42:02.230Z"
   },
   {
    "duration": 4,
    "start_time": "2025-03-10T01:42:02.242Z"
   },
   {
    "duration": 5,
    "start_time": "2025-03-10T01:42:02.248Z"
   },
   {
    "duration": 8,
    "start_time": "2025-03-10T01:42:02.254Z"
   },
   {
    "duration": 8,
    "start_time": "2025-03-10T01:42:33.545Z"
   },
   {
    "duration": 178,
    "start_time": "2025-03-13T18:38:55.007Z"
   },
   {
    "duration": 306,
    "start_time": "2025-03-13T18:39:01.048Z"
   },
   {
    "duration": 254,
    "start_time": "2025-03-13T18:39:01.356Z"
   },
   {
    "duration": 73,
    "start_time": "2025-03-13T18:39:01.611Z"
   },
   {
    "duration": 307,
    "start_time": "2025-03-13T18:39:01.687Z"
   },
   {
    "duration": 18,
    "start_time": "2025-03-13T18:39:01.996Z"
   },
   {
    "duration": 9,
    "start_time": "2025-03-13T18:39:02.016Z"
   },
   {
    "duration": 12,
    "start_time": "2025-03-13T18:39:02.027Z"
   },
   {
    "duration": 8,
    "start_time": "2025-03-13T18:39:02.040Z"
   },
   {
    "duration": 7,
    "start_time": "2025-03-13T18:39:02.050Z"
   },
   {
    "duration": 5,
    "start_time": "2025-03-13T18:39:02.059Z"
   },
   {
    "duration": 5,
    "start_time": "2025-03-13T18:39:02.065Z"
   },
   {
    "duration": 589,
    "start_time": "2025-03-13T18:39:02.071Z"
   },
   {
    "duration": 6,
    "start_time": "2025-03-13T18:48:16.324Z"
   },
   {
    "duration": 8,
    "start_time": "2025-03-13T18:56:27.149Z"
   },
   {
    "duration": 7,
    "start_time": "2025-03-13T18:57:40.101Z"
   },
   {
    "duration": 482,
    "start_time": "2025-03-13T19:05:32.778Z"
   },
   {
    "duration": 5,
    "start_time": "2025-03-13T19:08:17.140Z"
   },
   {
    "duration": 154,
    "start_time": "2025-03-13T19:08:23.293Z"
   },
   {
    "duration": 13,
    "start_time": "2025-03-13T19:26:30.248Z"
   },
   {
    "duration": 6,
    "start_time": "2025-03-13T19:26:38.168Z"
   },
   {
    "duration": 55,
    "start_time": "2025-03-13T19:27:10.697Z"
   },
   {
    "duration": 6,
    "start_time": "2025-03-13T19:28:46.823Z"
   },
   {
    "duration": 5,
    "start_time": "2025-03-13T19:29:02.907Z"
   },
   {
    "duration": 3,
    "start_time": "2025-03-13T19:47:10.544Z"
   },
   {
    "duration": 3,
    "start_time": "2025-03-13T19:50:43.730Z"
   },
   {
    "duration": 4,
    "start_time": "2025-03-13T19:51:10.611Z"
   },
   {
    "duration": 45,
    "start_time": "2025-03-13T19:51:44.046Z"
   },
   {
    "duration": 15,
    "start_time": "2025-03-13T19:52:07.640Z"
   },
   {
    "duration": 3,
    "start_time": "2025-03-13T19:52:23.661Z"
   },
   {
    "duration": 3,
    "start_time": "2025-03-13T19:52:40.786Z"
   },
   {
    "duration": 3,
    "start_time": "2025-03-13T19:58:00.977Z"
   },
   {
    "duration": 4,
    "start_time": "2025-03-13T19:58:03.065Z"
   },
   {
    "duration": 4,
    "start_time": "2025-03-13T19:58:32.801Z"
   },
   {
    "duration": 4,
    "start_time": "2025-03-13T19:58:59.772Z"
   },
   {
    "duration": 3,
    "start_time": "2025-03-13T20:06:19.180Z"
   },
   {
    "duration": 3,
    "start_time": "2025-03-13T20:09:11.782Z"
   },
   {
    "duration": 4,
    "start_time": "2025-03-13T20:09:15.569Z"
   },
   {
    "duration": 5,
    "start_time": "2025-03-13T20:09:20.083Z"
   },
   {
    "duration": 4,
    "start_time": "2025-03-13T20:09:53.609Z"
   },
   {
    "duration": 4,
    "start_time": "2025-03-13T20:10:20.634Z"
   },
   {
    "duration": 3,
    "start_time": "2025-03-13T20:10:24.563Z"
   },
   {
    "duration": 4,
    "start_time": "2025-03-13T20:10:27.189Z"
   },
   {
    "duration": 3,
    "start_time": "2025-03-13T20:10:59.233Z"
   },
   {
    "duration": 3,
    "start_time": "2025-03-13T20:11:14.890Z"
   },
   {
    "duration": 3,
    "start_time": "2025-03-13T20:11:17.201Z"
   },
   {
    "duration": 291,
    "start_time": "2025-03-14T00:53:08.973Z"
   },
   {
    "duration": 239,
    "start_time": "2025-03-14T00:53:09.266Z"
   },
   {
    "duration": 78,
    "start_time": "2025-03-14T00:53:09.507Z"
   },
   {
    "duration": 502,
    "start_time": "2025-03-14T00:53:09.586Z"
   },
   {
    "duration": 20,
    "start_time": "2025-03-14T00:53:10.091Z"
   },
   {
    "duration": 11,
    "start_time": "2025-03-14T00:53:10.112Z"
   },
   {
    "duration": 14,
    "start_time": "2025-03-14T00:53:10.125Z"
   },
   {
    "duration": 9,
    "start_time": "2025-03-14T00:53:10.140Z"
   },
   {
    "duration": 4,
    "start_time": "2025-03-14T00:53:10.150Z"
   },
   {
    "duration": 4,
    "start_time": "2025-03-14T00:53:10.156Z"
   },
   {
    "duration": 3,
    "start_time": "2025-03-14T00:53:10.162Z"
   },
   {
    "duration": 219,
    "start_time": "2025-03-14T00:53:10.166Z"
   },
   {
    "duration": 0,
    "start_time": "2025-03-14T00:53:10.387Z"
   },
   {
    "duration": 0,
    "start_time": "2025-03-14T00:53:10.388Z"
   },
   {
    "duration": 0,
    "start_time": "2025-03-14T00:53:10.390Z"
   },
   {
    "duration": 0,
    "start_time": "2025-03-14T00:53:10.392Z"
   },
   {
    "duration": 0,
    "start_time": "2025-03-14T00:53:10.393Z"
   },
   {
    "duration": 0,
    "start_time": "2025-03-14T00:53:10.395Z"
   },
   {
    "duration": 0,
    "start_time": "2025-03-14T00:53:10.405Z"
   },
   {
    "duration": 0,
    "start_time": "2025-03-14T00:53:10.407Z"
   },
   {
    "duration": 0,
    "start_time": "2025-03-14T00:53:10.408Z"
   },
   {
    "duration": 7,
    "start_time": "2025-03-14T00:53:39.791Z"
   },
   {
    "duration": 4,
    "start_time": "2025-03-14T00:53:49.473Z"
   },
   {
    "duration": 4,
    "start_time": "2025-03-14T00:54:10.566Z"
   },
   {
    "duration": 9,
    "start_time": "2025-03-14T00:54:12.427Z"
   },
   {
    "duration": 4,
    "start_time": "2025-03-14T00:54:16.175Z"
   },
   {
    "duration": 4,
    "start_time": "2025-03-14T00:54:56.664Z"
   },
   {
    "duration": 13,
    "start_time": "2025-03-14T00:55:22.003Z"
   },
   {
    "duration": 6,
    "start_time": "2025-03-14T00:55:30.961Z"
   },
   {
    "duration": 13,
    "start_time": "2025-03-14T00:55:49.161Z"
   },
   {
    "duration": 4,
    "start_time": "2025-03-14T00:58:38.696Z"
   },
   {
    "duration": 5,
    "start_time": "2025-03-14T00:58:45.673Z"
   },
   {
    "duration": 4,
    "start_time": "2025-03-14T00:58:53.763Z"
   },
   {
    "duration": 448,
    "start_time": "2025-03-14T01:02:20.673Z"
   },
   {
    "duration": 4,
    "start_time": "2025-03-14T01:02:22.298Z"
   },
   {
    "duration": 8,
    "start_time": "2025-03-14T01:07:31.025Z"
   },
   {
    "duration": 5,
    "start_time": "2025-03-14T01:07:33.203Z"
   },
   {
    "duration": 345,
    "start_time": "2025-03-14T16:01:40.021Z"
   },
   {
    "duration": 235,
    "start_time": "2025-03-14T16:01:40.369Z"
   },
   {
    "duration": 70,
    "start_time": "2025-03-14T16:01:40.606Z"
   },
   {
    "duration": 321,
    "start_time": "2025-03-14T16:01:40.678Z"
   },
   {
    "duration": 14,
    "start_time": "2025-03-14T16:01:41.001Z"
   },
   {
    "duration": 11,
    "start_time": "2025-03-14T16:01:41.017Z"
   },
   {
    "duration": 12,
    "start_time": "2025-03-14T16:01:41.030Z"
   },
   {
    "duration": 9,
    "start_time": "2025-03-14T16:01:41.044Z"
   },
   {
    "duration": 4,
    "start_time": "2025-03-14T16:01:41.057Z"
   },
   {
    "duration": 40,
    "start_time": "2025-03-14T16:01:41.065Z"
   },
   {
    "duration": 3,
    "start_time": "2025-03-14T16:01:41.107Z"
   },
   {
    "duration": 3,
    "start_time": "2025-03-14T16:01:41.112Z"
   },
   {
    "duration": 5,
    "start_time": "2025-03-14T16:01:41.117Z"
   },
   {
    "duration": 4,
    "start_time": "2025-03-14T16:01:41.123Z"
   },
   {
    "duration": 4,
    "start_time": "2025-03-14T16:01:41.129Z"
   },
   {
    "duration": 502,
    "start_time": "2025-03-14T16:01:41.134Z"
   },
   {
    "duration": 4,
    "start_time": "2025-03-14T16:01:41.638Z"
   },
   {
    "duration": 7,
    "start_time": "2025-03-14T16:01:41.644Z"
   },
   {
    "duration": 4,
    "start_time": "2025-03-14T16:01:41.652Z"
   },
   {
    "duration": 13,
    "start_time": "2025-03-14T16:03:57.114Z"
   },
   {
    "duration": 18,
    "start_time": "2025-03-14T16:09:21.816Z"
   },
   {
    "duration": 15,
    "start_time": "2025-03-14T16:09:31.020Z"
   },
   {
    "duration": 326,
    "start_time": "2025-03-14T17:16:02.027Z"
   },
   {
    "duration": 241,
    "start_time": "2025-03-14T17:16:02.355Z"
   },
   {
    "duration": 84,
    "start_time": "2025-03-14T17:16:02.598Z"
   },
   {
    "duration": 371,
    "start_time": "2025-03-14T17:16:02.684Z"
   },
   {
    "duration": 15,
    "start_time": "2025-03-14T17:16:03.058Z"
   },
   {
    "duration": 11,
    "start_time": "2025-03-14T17:16:03.074Z"
   },
   {
    "duration": 15,
    "start_time": "2025-03-14T17:16:03.105Z"
   },
   {
    "duration": 12,
    "start_time": "2025-03-14T17:16:03.122Z"
   },
   {
    "duration": 4,
    "start_time": "2025-03-14T17:16:03.136Z"
   },
   {
    "duration": 6,
    "start_time": "2025-03-14T17:16:03.144Z"
   },
   {
    "duration": 3,
    "start_time": "2025-03-14T17:16:03.152Z"
   },
   {
    "duration": 3,
    "start_time": "2025-03-14T17:16:03.157Z"
   },
   {
    "duration": 5,
    "start_time": "2025-03-14T17:16:03.161Z"
   },
   {
    "duration": 6,
    "start_time": "2025-03-14T17:16:03.206Z"
   },
   {
    "duration": 4,
    "start_time": "2025-03-14T17:16:03.214Z"
   },
   {
    "duration": 547,
    "start_time": "2025-03-14T17:16:03.219Z"
   },
   {
    "duration": 3,
    "start_time": "2025-03-14T17:16:03.769Z"
   },
   {
    "duration": 8,
    "start_time": "2025-03-14T17:16:03.774Z"
   },
   {
    "duration": 21,
    "start_time": "2025-03-14T17:16:03.784Z"
   },
   {
    "duration": 16,
    "start_time": "2025-03-14T17:16:03.808Z"
   },
   {
    "duration": 23,
    "start_time": "2025-03-14T17:16:03.825Z"
   },
   {
    "duration": 4,
    "start_time": "2025-03-14T17:19:11.394Z"
   },
   {
    "duration": 334,
    "start_time": "2025-03-14T17:19:59.697Z"
   },
   {
    "duration": 2,
    "start_time": "2025-03-14T17:20:17.041Z"
   },
   {
    "duration": 17,
    "start_time": "2025-03-14T17:20:32.291Z"
   },
   {
    "duration": 12,
    "start_time": "2025-03-14T17:20:43.065Z"
   },
   {
    "duration": 8,
    "start_time": "2025-03-14T17:21:54.348Z"
   },
   {
    "duration": 5,
    "start_time": "2025-03-14T17:22:05.357Z"
   },
   {
    "duration": 4,
    "start_time": "2025-03-14T17:22:10.377Z"
   },
   {
    "duration": 9,
    "start_time": "2025-03-14T17:22:22.714Z"
   },
   {
    "duration": 5,
    "start_time": "2025-03-14T17:22:32.087Z"
   },
   {
    "duration": 4,
    "start_time": "2025-03-14T17:22:41.797Z"
   },
   {
    "duration": 6,
    "start_time": "2025-03-14T17:22:49.214Z"
   },
   {
    "duration": 4,
    "start_time": "2025-03-14T17:23:28.800Z"
   },
   {
    "duration": 4,
    "start_time": "2025-03-14T17:24:38.537Z"
   },
   {
    "duration": 6,
    "start_time": "2025-03-14T17:24:57.156Z"
   },
   {
    "duration": 5,
    "start_time": "2025-03-14T17:25:15.830Z"
   },
   {
    "duration": 52,
    "start_time": "2025-03-14T17:25:29.945Z"
   },
   {
    "duration": 286,
    "start_time": "2025-03-14T17:25:41.198Z"
   },
   {
    "duration": 200,
    "start_time": "2025-03-14T17:25:41.486Z"
   },
   {
    "duration": 56,
    "start_time": "2025-03-14T17:25:41.689Z"
   },
   {
    "duration": 254,
    "start_time": "2025-03-14T17:25:41.747Z"
   },
   {
    "duration": 14,
    "start_time": "2025-03-14T17:25:42.005Z"
   },
   {
    "duration": 10,
    "start_time": "2025-03-14T17:25:42.021Z"
   },
   {
    "duration": 13,
    "start_time": "2025-03-14T17:25:42.033Z"
   },
   {
    "duration": 9,
    "start_time": "2025-03-14T17:25:42.047Z"
   },
   {
    "duration": 4,
    "start_time": "2025-03-14T17:25:42.057Z"
   },
   {
    "duration": 4,
    "start_time": "2025-03-14T17:25:42.064Z"
   },
   {
    "duration": 37,
    "start_time": "2025-03-14T17:25:42.070Z"
   },
   {
    "duration": 4,
    "start_time": "2025-03-14T17:25:42.108Z"
   },
   {
    "duration": 6,
    "start_time": "2025-03-14T17:25:42.113Z"
   },
   {
    "duration": 4,
    "start_time": "2025-03-14T17:25:42.120Z"
   },
   {
    "duration": 4,
    "start_time": "2025-03-14T17:25:42.126Z"
   },
   {
    "duration": 498,
    "start_time": "2025-03-14T17:25:42.131Z"
   },
   {
    "duration": 4,
    "start_time": "2025-03-14T17:25:42.631Z"
   },
   {
    "duration": 7,
    "start_time": "2025-03-14T17:25:42.636Z"
   },
   {
    "duration": 4,
    "start_time": "2025-03-14T17:25:42.645Z"
   },
   {
    "duration": 5,
    "start_time": "2025-03-14T17:25:42.651Z"
   },
   {
    "duration": 5,
    "start_time": "2025-03-14T17:25:42.657Z"
   },
   {
    "duration": 4,
    "start_time": "2025-03-14T17:25:42.664Z"
   },
   {
    "duration": 38,
    "start_time": "2025-03-14T17:25:42.670Z"
   },
   {
    "duration": 4,
    "start_time": "2025-03-14T17:25:42.710Z"
   },
   {
    "duration": 336,
    "start_time": "2025-03-14T17:25:42.716Z"
   },
   {
    "duration": 0,
    "start_time": "2025-03-14T17:25:43.055Z"
   },
   {
    "duration": 0,
    "start_time": "2025-03-14T17:25:43.056Z"
   },
   {
    "duration": 3,
    "start_time": "2025-03-14T17:26:33.550Z"
   },
   {
    "duration": 36,
    "start_time": "2025-03-14T17:26:43.087Z"
   },
   {
    "duration": 5,
    "start_time": "2025-03-14T17:33:32.890Z"
   },
   {
    "duration": 5,
    "start_time": "2025-03-14T17:33:46.331Z"
   },
   {
    "duration": 4,
    "start_time": "2025-03-14T17:34:03.055Z"
   },
   {
    "duration": 5,
    "start_time": "2025-03-14T17:34:13.917Z"
   },
   {
    "duration": 5,
    "start_time": "2025-03-14T17:34:21.123Z"
   },
   {
    "duration": 5,
    "start_time": "2025-03-14T17:34:26.584Z"
   },
   {
    "duration": 4,
    "start_time": "2025-03-14T17:35:08.278Z"
   },
   {
    "duration": 4,
    "start_time": "2025-03-14T17:35:16.513Z"
   },
   {
    "duration": 4,
    "start_time": "2025-03-14T17:35:32.998Z"
   },
   {
    "duration": 284,
    "start_time": "2025-03-14T17:38:19.581Z"
   },
   {
    "duration": 207,
    "start_time": "2025-03-14T17:38:19.867Z"
   },
   {
    "duration": 56,
    "start_time": "2025-03-14T17:38:20.075Z"
   },
   {
    "duration": 249,
    "start_time": "2025-03-14T17:38:20.133Z"
   },
   {
    "duration": 14,
    "start_time": "2025-03-14T17:38:20.384Z"
   },
   {
    "duration": 14,
    "start_time": "2025-03-14T17:38:20.406Z"
   },
   {
    "duration": 12,
    "start_time": "2025-03-14T17:38:20.422Z"
   },
   {
    "duration": 9,
    "start_time": "2025-03-14T17:38:20.436Z"
   },
   {
    "duration": 5,
    "start_time": "2025-03-14T17:38:20.446Z"
   },
   {
    "duration": 5,
    "start_time": "2025-03-14T17:38:20.453Z"
   },
   {
    "duration": 3,
    "start_time": "2025-03-14T17:38:20.459Z"
   },
   {
    "duration": 44,
    "start_time": "2025-03-14T17:38:20.463Z"
   },
   {
    "duration": 5,
    "start_time": "2025-03-14T17:38:20.509Z"
   },
   {
    "duration": 4,
    "start_time": "2025-03-14T17:38:20.515Z"
   },
   {
    "duration": 4,
    "start_time": "2025-03-14T17:38:20.521Z"
   },
   {
    "duration": 491,
    "start_time": "2025-03-14T17:38:20.527Z"
   },
   {
    "duration": 4,
    "start_time": "2025-03-14T17:38:21.021Z"
   },
   {
    "duration": 8,
    "start_time": "2025-03-14T17:38:21.028Z"
   },
   {
    "duration": 4,
    "start_time": "2025-03-14T17:38:21.038Z"
   },
   {
    "duration": 5,
    "start_time": "2025-03-14T17:38:21.045Z"
   },
   {
    "duration": 5,
    "start_time": "2025-03-14T17:38:21.051Z"
   },
   {
    "duration": 5,
    "start_time": "2025-03-14T17:38:21.057Z"
   },
   {
    "duration": 41,
    "start_time": "2025-03-14T17:38:21.064Z"
   },
   {
    "duration": 3,
    "start_time": "2025-03-14T17:38:21.106Z"
   },
   {
    "duration": 5,
    "start_time": "2025-03-14T17:38:21.111Z"
   },
   {
    "duration": 5,
    "start_time": "2025-03-14T17:38:21.117Z"
   },
   {
    "duration": 4,
    "start_time": "2025-03-14T17:38:21.123Z"
   },
   {
    "duration": 2,
    "start_time": "2025-03-14T17:38:21.130Z"
   },
   {
    "duration": 315,
    "start_time": "2025-03-14T17:38:21.134Z"
   },
   {
    "duration": 0,
    "start_time": "2025-03-14T17:38:21.450Z"
   },
   {
    "duration": 0,
    "start_time": "2025-03-14T17:38:21.452Z"
   },
   {
    "duration": 4,
    "start_time": "2025-03-14T17:54:03.376Z"
   },
   {
    "duration": 4,
    "start_time": "2025-03-14T17:56:51.190Z"
   },
   {
    "duration": 4,
    "start_time": "2025-03-14T17:59:42.652Z"
   },
   {
    "duration": 4,
    "start_time": "2025-03-14T18:00:01.122Z"
   },
   {
    "duration": 3,
    "start_time": "2025-03-14T18:00:29.977Z"
   },
   {
    "duration": 5,
    "start_time": "2025-03-14T18:00:50.265Z"
   },
   {
    "duration": 5,
    "start_time": "2025-03-14T18:00:54.364Z"
   },
   {
    "duration": 331,
    "start_time": "2025-03-14T18:01:16.530Z"
   },
   {
    "duration": 205,
    "start_time": "2025-03-14T18:01:16.864Z"
   },
   {
    "duration": 53,
    "start_time": "2025-03-14T18:01:17.071Z"
   },
   {
    "duration": 260,
    "start_time": "2025-03-14T18:01:17.126Z"
   },
   {
    "duration": 17,
    "start_time": "2025-03-14T18:01:17.389Z"
   },
   {
    "duration": 12,
    "start_time": "2025-03-14T18:01:17.408Z"
   },
   {
    "duration": 13,
    "start_time": "2025-03-14T18:01:17.421Z"
   },
   {
    "duration": 8,
    "start_time": "2025-03-14T18:01:17.436Z"
   },
   {
    "duration": 4,
    "start_time": "2025-03-14T18:01:17.446Z"
   },
   {
    "duration": 5,
    "start_time": "2025-03-14T18:01:17.451Z"
   },
   {
    "duration": 3,
    "start_time": "2025-03-14T18:01:17.458Z"
   },
   {
    "duration": 3,
    "start_time": "2025-03-14T18:01:17.464Z"
   },
   {
    "duration": 5,
    "start_time": "2025-03-14T18:01:17.506Z"
   },
   {
    "duration": 4,
    "start_time": "2025-03-14T18:01:17.514Z"
   },
   {
    "duration": 3,
    "start_time": "2025-03-14T18:01:17.520Z"
   },
   {
    "duration": 484,
    "start_time": "2025-03-14T18:01:17.524Z"
   },
   {
    "duration": 4,
    "start_time": "2025-03-14T18:01:18.010Z"
   },
   {
    "duration": 7,
    "start_time": "2025-03-14T18:01:18.015Z"
   },
   {
    "duration": 4,
    "start_time": "2025-03-14T18:01:18.023Z"
   },
   {
    "duration": 5,
    "start_time": "2025-03-14T18:01:18.029Z"
   },
   {
    "duration": 4,
    "start_time": "2025-03-14T18:01:18.035Z"
   },
   {
    "duration": 4,
    "start_time": "2025-03-14T18:01:18.040Z"
   },
   {
    "duration": 4,
    "start_time": "2025-03-14T18:01:18.046Z"
   },
   {
    "duration": 5,
    "start_time": "2025-03-14T18:01:18.051Z"
   },
   {
    "duration": 4,
    "start_time": "2025-03-14T18:01:18.057Z"
   },
   {
    "duration": 4,
    "start_time": "2025-03-14T18:01:18.106Z"
   },
   {
    "duration": 3,
    "start_time": "2025-03-14T18:01:18.112Z"
   },
   {
    "duration": 3,
    "start_time": "2025-03-14T18:01:18.117Z"
   },
   {
    "duration": 6,
    "start_time": "2025-03-14T18:01:18.121Z"
   },
   {
    "duration": 4,
    "start_time": "2025-03-14T18:01:18.128Z"
   },
   {
    "duration": 4,
    "start_time": "2025-03-14T18:01:18.135Z"
   },
   {
    "duration": 3,
    "start_time": "2025-03-14T18:01:18.140Z"
   },
   {
    "duration": 318,
    "start_time": "2025-03-14T18:01:18.145Z"
   },
   {
    "duration": 0,
    "start_time": "2025-03-14T18:01:18.465Z"
   },
   {
    "duration": 0,
    "start_time": "2025-03-14T18:01:18.466Z"
   },
   {
    "duration": 4,
    "start_time": "2025-03-14T18:25:11.729Z"
   },
   {
    "duration": 33,
    "start_time": "2025-03-14T18:25:17.635Z"
   },
   {
    "duration": 36,
    "start_time": "2025-03-14T18:26:12.906Z"
   },
   {
    "duration": 7,
    "start_time": "2025-03-14T18:27:24.294Z"
   },
   {
    "duration": 4,
    "start_time": "2025-03-14T18:27:48.012Z"
   },
   {
    "duration": 5,
    "start_time": "2025-03-14T18:28:04.921Z"
   },
   {
    "duration": 3,
    "start_time": "2025-03-14T18:28:43.317Z"
   },
   {
    "duration": 6,
    "start_time": "2025-03-14T18:29:40.414Z"
   },
   {
    "duration": 287,
    "start_time": "2025-03-14T18:30:45.170Z"
   },
   {
    "duration": 202,
    "start_time": "2025-03-14T18:30:45.460Z"
   },
   {
    "duration": 58,
    "start_time": "2025-03-14T18:30:45.664Z"
   },
   {
    "duration": 247,
    "start_time": "2025-03-14T18:30:45.724Z"
   },
   {
    "duration": 14,
    "start_time": "2025-03-14T18:30:45.975Z"
   },
   {
    "duration": 23,
    "start_time": "2025-03-14T18:30:45.991Z"
   },
   {
    "duration": 14,
    "start_time": "2025-03-14T18:30:46.016Z"
   },
   {
    "duration": 9,
    "start_time": "2025-03-14T18:30:46.031Z"
   },
   {
    "duration": 4,
    "start_time": "2025-03-14T18:30:46.042Z"
   },
   {
    "duration": 6,
    "start_time": "2025-03-14T18:30:46.047Z"
   },
   {
    "duration": 3,
    "start_time": "2025-03-14T18:30:46.054Z"
   },
   {
    "duration": 3,
    "start_time": "2025-03-14T18:30:46.058Z"
   },
   {
    "duration": 5,
    "start_time": "2025-03-14T18:30:46.063Z"
   },
   {
    "duration": 4,
    "start_time": "2025-03-14T18:30:46.109Z"
   },
   {
    "duration": 5,
    "start_time": "2025-03-14T18:30:46.115Z"
   },
   {
    "duration": 470,
    "start_time": "2025-03-14T18:30:46.123Z"
   },
   {
    "duration": 4,
    "start_time": "2025-03-14T18:30:46.594Z"
   },
   {
    "duration": 5,
    "start_time": "2025-03-14T18:30:46.605Z"
   },
   {
    "duration": 4,
    "start_time": "2025-03-14T18:30:46.612Z"
   },
   {
    "duration": 4,
    "start_time": "2025-03-14T18:30:46.617Z"
   },
   {
    "duration": 6,
    "start_time": "2025-03-14T18:30:46.624Z"
   },
   {
    "duration": 4,
    "start_time": "2025-03-14T18:30:46.631Z"
   },
   {
    "duration": 5,
    "start_time": "2025-03-14T18:30:46.637Z"
   },
   {
    "duration": 2,
    "start_time": "2025-03-14T18:30:46.644Z"
   },
   {
    "duration": 4,
    "start_time": "2025-03-14T18:30:46.648Z"
   },
   {
    "duration": 333,
    "start_time": "2025-03-14T18:30:46.653Z"
   },
   {
    "duration": 0,
    "start_time": "2025-03-14T18:30:46.988Z"
   },
   {
    "duration": 0,
    "start_time": "2025-03-14T18:30:46.990Z"
   },
   {
    "duration": 32,
    "start_time": "2025-03-14T18:30:54.545Z"
   },
   {
    "duration": 12,
    "start_time": "2025-03-14T18:32:12.234Z"
   },
   {
    "duration": 3,
    "start_time": "2025-03-14T18:32:17.351Z"
   },
   {
    "duration": 2,
    "start_time": "2025-03-14T18:32:20.793Z"
   },
   {
    "duration": 4,
    "start_time": "2025-03-14T18:32:31.356Z"
   },
   {
    "duration": 3,
    "start_time": "2025-03-14T18:34:52.206Z"
   },
   {
    "duration": 4,
    "start_time": "2025-03-14T18:35:02.115Z"
   },
   {
    "duration": 68,
    "start_time": "2025-03-14T18:35:05.411Z"
   },
   {
    "duration": 295,
    "start_time": "2025-03-14T18:35:51.390Z"
   },
   {
    "duration": 205,
    "start_time": "2025-03-14T18:35:51.687Z"
   },
   {
    "duration": 59,
    "start_time": "2025-03-14T18:35:51.893Z"
   },
   {
    "duration": 260,
    "start_time": "2025-03-14T18:35:51.954Z"
   },
   {
    "duration": 14,
    "start_time": "2025-03-14T18:35:52.217Z"
   },
   {
    "duration": 10,
    "start_time": "2025-03-14T18:35:52.234Z"
   },
   {
    "duration": 14,
    "start_time": "2025-03-14T18:35:52.246Z"
   },
   {
    "duration": 9,
    "start_time": "2025-03-14T18:35:52.262Z"
   },
   {
    "duration": 3,
    "start_time": "2025-03-14T18:35:52.273Z"
   },
   {
    "duration": 5,
    "start_time": "2025-03-14T18:35:52.306Z"
   },
   {
    "duration": 3,
    "start_time": "2025-03-14T18:35:52.313Z"
   },
   {
    "duration": 3,
    "start_time": "2025-03-14T18:35:52.318Z"
   },
   {
    "duration": 5,
    "start_time": "2025-03-14T18:35:52.323Z"
   },
   {
    "duration": 4,
    "start_time": "2025-03-14T18:35:52.331Z"
   },
   {
    "duration": 4,
    "start_time": "2025-03-14T18:35:52.336Z"
   },
   {
    "duration": 464,
    "start_time": "2025-03-14T18:35:52.342Z"
   },
   {
    "duration": 6,
    "start_time": "2025-03-14T18:35:52.808Z"
   },
   {
    "duration": 4,
    "start_time": "2025-03-14T18:35:52.818Z"
   },
   {
    "duration": 4,
    "start_time": "2025-03-14T18:35:52.823Z"
   },
   {
    "duration": 3,
    "start_time": "2025-03-14T18:35:52.829Z"
   },
   {
    "duration": 6,
    "start_time": "2025-03-14T18:35:52.833Z"
   },
   {
    "duration": 4,
    "start_time": "2025-03-14T18:35:52.840Z"
   },
   {
    "duration": 4,
    "start_time": "2025-03-14T18:35:52.846Z"
   },
   {
    "duration": 2,
    "start_time": "2025-03-14T18:35:52.852Z"
   },
   {
    "duration": 3,
    "start_time": "2025-03-14T18:35:52.856Z"
   },
   {
    "duration": 44,
    "start_time": "2025-03-14T18:35:52.861Z"
   },
   {
    "duration": 3,
    "start_time": "2025-03-14T18:35:52.908Z"
   },
   {
    "duration": 343,
    "start_time": "2025-03-14T18:35:52.917Z"
   },
   {
    "duration": 0,
    "start_time": "2025-03-14T18:35:53.262Z"
   },
   {
    "duration": 0,
    "start_time": "2025-03-14T18:35:53.263Z"
   },
   {
    "duration": 5,
    "start_time": "2025-03-14T18:36:43.616Z"
   },
   {
    "duration": 6,
    "start_time": "2025-03-14T18:37:02.004Z"
   },
   {
    "duration": 3,
    "start_time": "2025-03-14T19:02:49.375Z"
   },
   {
    "duration": 2,
    "start_time": "2025-03-14T19:02:52.704Z"
   },
   {
    "duration": 4,
    "start_time": "2025-03-14T19:02:59.805Z"
   },
   {
    "duration": 219,
    "start_time": "2025-03-14T19:05:37.758Z"
   },
   {
    "duration": 308,
    "start_time": "2025-03-14T19:15:12.658Z"
   },
   {
    "duration": 195,
    "start_time": "2025-03-14T19:15:12.968Z"
   },
   {
    "duration": 52,
    "start_time": "2025-03-14T19:15:13.165Z"
   },
   {
    "duration": 257,
    "start_time": "2025-03-14T19:15:13.220Z"
   },
   {
    "duration": 14,
    "start_time": "2025-03-14T19:15:13.479Z"
   },
   {
    "duration": 20,
    "start_time": "2025-03-14T19:15:13.495Z"
   },
   {
    "duration": 12,
    "start_time": "2025-03-14T19:15:13.518Z"
   },
   {
    "duration": 8,
    "start_time": "2025-03-14T19:15:13.532Z"
   },
   {
    "duration": 4,
    "start_time": "2025-03-14T19:15:13.542Z"
   },
   {
    "duration": 4,
    "start_time": "2025-03-14T19:15:13.550Z"
   },
   {
    "duration": 3,
    "start_time": "2025-03-14T19:15:13.556Z"
   },
   {
    "duration": 3,
    "start_time": "2025-03-14T19:15:13.561Z"
   },
   {
    "duration": 43,
    "start_time": "2025-03-14T19:15:13.566Z"
   },
   {
    "duration": 4,
    "start_time": "2025-03-14T19:15:13.611Z"
   },
   {
    "duration": 4,
    "start_time": "2025-03-14T19:15:13.617Z"
   },
   {
    "duration": 475,
    "start_time": "2025-03-14T19:15:13.623Z"
   },
   {
    "duration": 8,
    "start_time": "2025-03-14T19:15:14.099Z"
   },
   {
    "duration": 6,
    "start_time": "2025-03-14T19:15:14.108Z"
   },
   {
    "duration": 4,
    "start_time": "2025-03-14T19:15:14.117Z"
   },
   {
    "duration": 3,
    "start_time": "2025-03-14T19:15:14.122Z"
   },
   {
    "duration": 7,
    "start_time": "2025-03-14T19:15:14.126Z"
   },
   {
    "duration": 5,
    "start_time": "2025-03-14T19:15:14.134Z"
   },
   {
    "duration": 4,
    "start_time": "2025-03-14T19:15:14.141Z"
   },
   {
    "duration": 2,
    "start_time": "2025-03-14T19:15:14.147Z"
   },
   {
    "duration": 6,
    "start_time": "2025-03-14T19:15:14.151Z"
   },
   {
    "duration": 4,
    "start_time": "2025-03-14T19:15:14.159Z"
   },
   {
    "duration": 44,
    "start_time": "2025-03-14T19:15:14.164Z"
   },
   {
    "duration": 3,
    "start_time": "2025-03-14T19:15:14.212Z"
   },
   {
    "duration": 6,
    "start_time": "2025-03-14T19:15:14.216Z"
   },
   {
    "duration": 2,
    "start_time": "2025-03-14T19:15:14.223Z"
   },
   {
    "duration": 5,
    "start_time": "2025-03-14T19:15:14.227Z"
   },
   {
    "duration": 4,
    "start_time": "2025-03-14T19:15:14.233Z"
   },
   {
    "duration": 3,
    "start_time": "2025-03-14T19:15:14.238Z"
   },
   {
    "duration": 11,
    "start_time": "2025-03-14T19:15:14.243Z"
   },
   {
    "duration": 57,
    "start_time": "2025-03-14T19:15:14.256Z"
   },
   {
    "duration": 282,
    "start_time": "2025-03-14T19:15:40.543Z"
   },
   {
    "duration": 311,
    "start_time": "2025-03-14T19:16:04.453Z"
   },
   {
    "duration": 205,
    "start_time": "2025-03-14T19:16:04.766Z"
   },
   {
    "duration": 53,
    "start_time": "2025-03-14T19:16:04.972Z"
   },
   {
    "duration": 261,
    "start_time": "2025-03-14T19:16:05.027Z"
   },
   {
    "duration": 18,
    "start_time": "2025-03-14T19:16:05.291Z"
   },
   {
    "duration": 10,
    "start_time": "2025-03-14T19:16:05.311Z"
   },
   {
    "duration": 13,
    "start_time": "2025-03-14T19:16:05.323Z"
   },
   {
    "duration": 8,
    "start_time": "2025-03-14T19:16:05.338Z"
   },
   {
    "duration": 3,
    "start_time": "2025-03-14T19:16:05.348Z"
   },
   {
    "duration": 4,
    "start_time": "2025-03-14T19:16:05.353Z"
   },
   {
    "duration": 3,
    "start_time": "2025-03-14T19:16:05.359Z"
   },
   {
    "duration": 3,
    "start_time": "2025-03-14T19:16:05.363Z"
   },
   {
    "duration": 4,
    "start_time": "2025-03-14T19:16:05.407Z"
   },
   {
    "duration": 4,
    "start_time": "2025-03-14T19:16:05.415Z"
   },
   {
    "duration": 4,
    "start_time": "2025-03-14T19:16:05.421Z"
   },
   {
    "duration": 500,
    "start_time": "2025-03-14T19:16:05.426Z"
   },
   {
    "duration": 5,
    "start_time": "2025-03-14T19:16:05.927Z"
   },
   {
    "duration": 5,
    "start_time": "2025-03-14T19:16:05.934Z"
   },
   {
    "duration": 4,
    "start_time": "2025-03-14T19:16:05.941Z"
   },
   {
    "duration": 4,
    "start_time": "2025-03-14T19:16:05.946Z"
   },
   {
    "duration": 7,
    "start_time": "2025-03-14T19:16:05.952Z"
   },
   {
    "duration": 4,
    "start_time": "2025-03-14T19:16:05.961Z"
   },
   {
    "duration": 4,
    "start_time": "2025-03-14T19:16:05.966Z"
   },
   {
    "duration": 35,
    "start_time": "2025-03-14T19:16:05.971Z"
   },
   {
    "duration": 4,
    "start_time": "2025-03-14T19:16:06.007Z"
   },
   {
    "duration": 4,
    "start_time": "2025-03-14T19:16:06.013Z"
   },
   {
    "duration": 4,
    "start_time": "2025-03-14T19:16:06.019Z"
   },
   {
    "duration": 3,
    "start_time": "2025-03-14T19:16:06.025Z"
   },
   {
    "duration": 5,
    "start_time": "2025-03-14T19:16:06.030Z"
   },
   {
    "duration": 3,
    "start_time": "2025-03-14T19:16:06.036Z"
   },
   {
    "duration": 4,
    "start_time": "2025-03-14T19:16:06.041Z"
   },
   {
    "duration": 400,
    "start_time": "2025-03-14T19:16:06.046Z"
   },
   {
    "duration": 0,
    "start_time": "2025-03-14T19:16:06.448Z"
   },
   {
    "duration": 0,
    "start_time": "2025-03-14T19:16:06.449Z"
   },
   {
    "duration": 0,
    "start_time": "2025-03-14T19:16:06.450Z"
   },
   {
    "duration": 326,
    "start_time": "2025-03-14T19:16:41.235Z"
   },
   {
    "duration": 211,
    "start_time": "2025-03-14T19:16:41.563Z"
   },
   {
    "duration": 54,
    "start_time": "2025-03-14T19:16:41.776Z"
   },
   {
    "duration": 254,
    "start_time": "2025-03-14T19:16:41.832Z"
   },
   {
    "duration": 18,
    "start_time": "2025-03-14T19:16:42.089Z"
   },
   {
    "duration": 10,
    "start_time": "2025-03-14T19:16:42.109Z"
   },
   {
    "duration": 13,
    "start_time": "2025-03-14T19:16:42.121Z"
   },
   {
    "duration": 9,
    "start_time": "2025-03-14T19:16:42.136Z"
   },
   {
    "duration": 4,
    "start_time": "2025-03-14T19:16:42.147Z"
   },
   {
    "duration": 5,
    "start_time": "2025-03-14T19:16:42.152Z"
   },
   {
    "duration": 3,
    "start_time": "2025-03-14T19:16:42.159Z"
   },
   {
    "duration": 4,
    "start_time": "2025-03-14T19:16:42.163Z"
   },
   {
    "duration": 5,
    "start_time": "2025-03-14T19:16:42.205Z"
   },
   {
    "duration": 4,
    "start_time": "2025-03-14T19:16:42.214Z"
   },
   {
    "duration": 5,
    "start_time": "2025-03-14T19:16:42.219Z"
   },
   {
    "duration": 515,
    "start_time": "2025-03-14T19:16:42.227Z"
   },
   {
    "duration": 3,
    "start_time": "2025-03-14T19:16:42.745Z"
   },
   {
    "duration": 6,
    "start_time": "2025-03-14T19:16:42.750Z"
   },
   {
    "duration": 5,
    "start_time": "2025-03-14T19:16:42.757Z"
   },
   {
    "duration": 3,
    "start_time": "2025-03-14T19:16:42.763Z"
   },
   {
    "duration": 7,
    "start_time": "2025-03-14T19:16:42.767Z"
   },
   {
    "duration": 31,
    "start_time": "2025-03-14T19:16:42.776Z"
   },
   {
    "duration": 6,
    "start_time": "2025-03-14T19:16:42.809Z"
   },
   {
    "duration": 2,
    "start_time": "2025-03-14T19:16:42.817Z"
   },
   {
    "duration": 5,
    "start_time": "2025-03-14T19:16:42.821Z"
   },
   {
    "duration": 4,
    "start_time": "2025-03-14T19:16:42.827Z"
   },
   {
    "duration": 5,
    "start_time": "2025-03-14T19:16:42.832Z"
   },
   {
    "duration": 5,
    "start_time": "2025-03-14T19:16:42.838Z"
   },
   {
    "duration": 5,
    "start_time": "2025-03-14T19:16:42.844Z"
   },
   {
    "duration": 2,
    "start_time": "2025-03-14T19:16:42.851Z"
   },
   {
    "duration": 4,
    "start_time": "2025-03-14T19:16:42.855Z"
   },
   {
    "duration": 47,
    "start_time": "2025-03-14T19:16:42.860Z"
   },
   {
    "duration": 4,
    "start_time": "2025-03-14T19:16:42.909Z"
   },
   {
    "duration": 13,
    "start_time": "2025-03-14T19:16:42.915Z"
   },
   {
    "duration": 16,
    "start_time": "2025-03-14T19:16:42.929Z"
   },
   {
    "duration": 3,
    "start_time": "2025-03-14T19:17:41.946Z"
   },
   {
    "duration": 315,
    "start_time": "2025-03-14T19:17:45.002Z"
   },
   {
    "duration": 4,
    "start_time": "2025-03-14T19:18:09.671Z"
   },
   {
    "duration": 4,
    "start_time": "2025-03-14T19:18:16.368Z"
   },
   {
    "duration": 3,
    "start_time": "2025-03-14T19:18:45.831Z"
   },
   {
    "duration": 3,
    "start_time": "2025-03-14T19:18:50.102Z"
   },
   {
    "duration": 4,
    "start_time": "2025-03-14T19:19:01.503Z"
   },
   {
    "duration": 53,
    "start_time": "2025-03-14T19:19:13.159Z"
   },
   {
    "duration": 14,
    "start_time": "2025-03-14T19:21:18.492Z"
   },
   {
    "duration": 17,
    "start_time": "2025-03-14T19:22:02.928Z"
   },
   {
    "duration": 3,
    "start_time": "2025-03-14T19:22:10.483Z"
   },
   {
    "duration": 4,
    "start_time": "2025-03-14T19:22:13.236Z"
   },
   {
    "duration": 37,
    "start_time": "2025-03-14T19:22:16.013Z"
   },
   {
    "duration": 343,
    "start_time": "2025-03-14T19:29:35.609Z"
   },
   {
    "duration": 206,
    "start_time": "2025-03-14T19:29:35.956Z"
   },
   {
    "duration": 55,
    "start_time": "2025-03-14T19:29:36.163Z"
   },
   {
    "duration": 323,
    "start_time": "2025-03-14T19:29:36.221Z"
   },
   {
    "duration": 22,
    "start_time": "2025-03-14T19:29:36.546Z"
   },
   {
    "duration": 11,
    "start_time": "2025-03-14T19:29:36.570Z"
   },
   {
    "duration": 33,
    "start_time": "2025-03-14T19:29:36.583Z"
   },
   {
    "duration": 10,
    "start_time": "2025-03-14T19:29:36.618Z"
   },
   {
    "duration": 4,
    "start_time": "2025-03-14T19:29:36.630Z"
   },
   {
    "duration": 6,
    "start_time": "2025-03-14T19:29:36.637Z"
   },
   {
    "duration": 4,
    "start_time": "2025-03-14T19:29:36.644Z"
   },
   {
    "duration": 4,
    "start_time": "2025-03-14T19:29:36.650Z"
   },
   {
    "duration": 8,
    "start_time": "2025-03-14T19:29:36.655Z"
   },
   {
    "duration": 3,
    "start_time": "2025-03-14T19:29:36.669Z"
   },
   {
    "duration": 5,
    "start_time": "2025-03-14T19:29:36.705Z"
   },
   {
    "duration": 564,
    "start_time": "2025-03-14T19:29:36.712Z"
   },
   {
    "duration": 3,
    "start_time": "2025-03-14T19:29:37.278Z"
   },
   {
    "duration": 6,
    "start_time": "2025-03-14T19:29:37.283Z"
   },
   {
    "duration": 16,
    "start_time": "2025-03-14T19:29:37.290Z"
   },
   {
    "duration": 4,
    "start_time": "2025-03-14T19:29:37.308Z"
   },
   {
    "duration": 7,
    "start_time": "2025-03-14T19:29:37.313Z"
   },
   {
    "duration": 4,
    "start_time": "2025-03-14T19:29:37.321Z"
   },
   {
    "duration": 6,
    "start_time": "2025-03-14T19:29:37.327Z"
   },
   {
    "duration": 2,
    "start_time": "2025-03-14T19:29:37.336Z"
   },
   {
    "duration": 3,
    "start_time": "2025-03-14T19:29:37.340Z"
   },
   {
    "duration": 5,
    "start_time": "2025-03-14T19:29:37.345Z"
   },
   {
    "duration": 6,
    "start_time": "2025-03-14T19:29:37.352Z"
   },
   {
    "duration": 3,
    "start_time": "2025-03-14T19:29:37.361Z"
   },
   {
    "duration": 4,
    "start_time": "2025-03-14T19:29:37.407Z"
   },
   {
    "duration": 6,
    "start_time": "2025-03-14T19:29:37.413Z"
   },
   {
    "duration": 3,
    "start_time": "2025-03-14T19:29:37.421Z"
   },
   {
    "duration": 3,
    "start_time": "2025-03-14T19:29:37.425Z"
   },
   {
    "duration": 3,
    "start_time": "2025-03-14T19:29:37.430Z"
   },
   {
    "duration": 4,
    "start_time": "2025-03-14T19:29:37.435Z"
   },
   {
    "duration": 3,
    "start_time": "2025-03-14T19:29:37.440Z"
   },
   {
    "duration": 3,
    "start_time": "2025-03-14T19:29:37.445Z"
   },
   {
    "duration": 457,
    "start_time": "2025-03-14T19:29:37.450Z"
   },
   {
    "duration": 0,
    "start_time": "2025-03-14T19:29:37.909Z"
   },
   {
    "duration": 0,
    "start_time": "2025-03-14T19:29:37.911Z"
   },
   {
    "duration": 0,
    "start_time": "2025-03-14T19:29:37.912Z"
   },
   {
    "duration": 0,
    "start_time": "2025-03-14T19:29:37.913Z"
   },
   {
    "duration": 313,
    "start_time": "2025-03-14T19:30:57.306Z"
   },
   {
    "duration": 206,
    "start_time": "2025-03-14T19:30:57.621Z"
   },
   {
    "duration": 49,
    "start_time": "2025-03-14T19:30:57.829Z"
   },
   {
    "duration": 267,
    "start_time": "2025-03-14T19:30:57.880Z"
   },
   {
    "duration": 14,
    "start_time": "2025-03-14T19:30:58.150Z"
   },
   {
    "duration": 11,
    "start_time": "2025-03-14T19:30:58.166Z"
   },
   {
    "duration": 32,
    "start_time": "2025-03-14T19:30:58.180Z"
   },
   {
    "duration": 13,
    "start_time": "2025-03-14T19:30:58.214Z"
   },
   {
    "duration": 5,
    "start_time": "2025-03-14T19:30:58.229Z"
   },
   {
    "duration": 5,
    "start_time": "2025-03-14T19:30:58.236Z"
   },
   {
    "duration": 5,
    "start_time": "2025-03-14T19:30:58.243Z"
   },
   {
    "duration": 4,
    "start_time": "2025-03-14T19:30:58.250Z"
   },
   {
    "duration": 5,
    "start_time": "2025-03-14T19:30:58.256Z"
   },
   {
    "duration": 40,
    "start_time": "2025-03-14T19:30:58.265Z"
   },
   {
    "duration": 4,
    "start_time": "2025-03-14T19:30:58.309Z"
   },
   {
    "duration": 492,
    "start_time": "2025-03-14T19:30:58.315Z"
   },
   {
    "duration": 4,
    "start_time": "2025-03-14T19:30:58.809Z"
   },
   {
    "duration": 8,
    "start_time": "2025-03-14T19:30:58.815Z"
   },
   {
    "duration": 6,
    "start_time": "2025-03-14T19:30:58.826Z"
   },
   {
    "duration": 3,
    "start_time": "2025-03-14T19:30:58.834Z"
   },
   {
    "duration": 6,
    "start_time": "2025-03-14T19:30:58.839Z"
   },
   {
    "duration": 4,
    "start_time": "2025-03-14T19:30:58.847Z"
   },
   {
    "duration": 4,
    "start_time": "2025-03-14T19:30:58.853Z"
   },
   {
    "duration": 3,
    "start_time": "2025-03-14T19:30:58.858Z"
   },
   {
    "duration": 45,
    "start_time": "2025-03-14T19:30:58.862Z"
   },
   {
    "duration": 4,
    "start_time": "2025-03-14T19:30:58.910Z"
   },
   {
    "duration": 7,
    "start_time": "2025-03-14T19:30:58.916Z"
   },
   {
    "duration": 3,
    "start_time": "2025-03-14T19:30:58.925Z"
   },
   {
    "duration": 4,
    "start_time": "2025-03-14T19:30:58.930Z"
   },
   {
    "duration": 4,
    "start_time": "2025-03-14T19:30:58.936Z"
   },
   {
    "duration": 3,
    "start_time": "2025-03-14T19:30:58.941Z"
   },
   {
    "duration": 3,
    "start_time": "2025-03-14T19:30:58.945Z"
   },
   {
    "duration": 4,
    "start_time": "2025-03-14T19:30:58.950Z"
   },
   {
    "duration": 52,
    "start_time": "2025-03-14T19:30:58.956Z"
   },
   {
    "duration": 3,
    "start_time": "2025-03-14T19:30:59.009Z"
   },
   {
    "duration": 4,
    "start_time": "2025-03-14T19:30:59.014Z"
   },
   {
    "duration": 5,
    "start_time": "2025-03-14T19:30:59.019Z"
   },
   {
    "duration": 414,
    "start_time": "2025-03-14T19:30:59.026Z"
   },
   {
    "duration": 0,
    "start_time": "2025-03-14T19:30:59.442Z"
   },
   {
    "duration": 0,
    "start_time": "2025-03-14T19:30:59.443Z"
   },
   {
    "duration": 0,
    "start_time": "2025-03-14T19:30:59.445Z"
   },
   {
    "duration": 0,
    "start_time": "2025-03-14T19:30:59.446Z"
   },
   {
    "duration": 293,
    "start_time": "2025-03-14T19:32:03.790Z"
   },
   {
    "duration": 225,
    "start_time": "2025-03-14T19:32:04.085Z"
   },
   {
    "duration": 50,
    "start_time": "2025-03-14T19:32:04.312Z"
   },
   {
    "duration": 266,
    "start_time": "2025-03-14T19:32:04.364Z"
   },
   {
    "duration": 15,
    "start_time": "2025-03-14T19:32:04.633Z"
   },
   {
    "duration": 10,
    "start_time": "2025-03-14T19:32:04.649Z"
   },
   {
    "duration": 13,
    "start_time": "2025-03-14T19:32:04.660Z"
   },
   {
    "duration": 31,
    "start_time": "2025-03-14T19:32:04.675Z"
   },
   {
    "duration": 4,
    "start_time": "2025-03-14T19:32:04.708Z"
   },
   {
    "duration": 4,
    "start_time": "2025-03-14T19:32:04.715Z"
   },
   {
    "duration": 3,
    "start_time": "2025-03-14T19:32:04.721Z"
   },
   {
    "duration": 3,
    "start_time": "2025-03-14T19:32:04.726Z"
   },
   {
    "duration": 5,
    "start_time": "2025-03-14T19:32:04.731Z"
   },
   {
    "duration": 3,
    "start_time": "2025-03-14T19:32:04.741Z"
   },
   {
    "duration": 4,
    "start_time": "2025-03-14T19:32:04.745Z"
   },
   {
    "duration": 491,
    "start_time": "2025-03-14T19:32:04.750Z"
   },
   {
    "duration": 6,
    "start_time": "2025-03-14T19:32:05.245Z"
   },
   {
    "duration": 7,
    "start_time": "2025-03-14T19:32:05.253Z"
   },
   {
    "duration": 4,
    "start_time": "2025-03-14T19:32:05.263Z"
   },
   {
    "duration": 3,
    "start_time": "2025-03-14T19:32:05.269Z"
   },
   {
    "duration": 8,
    "start_time": "2025-03-14T19:32:05.274Z"
   },
   {
    "duration": 5,
    "start_time": "2025-03-14T19:32:05.305Z"
   },
   {
    "duration": 4,
    "start_time": "2025-03-14T19:32:05.311Z"
   },
   {
    "duration": 3,
    "start_time": "2025-03-14T19:32:05.316Z"
   },
   {
    "duration": 3,
    "start_time": "2025-03-14T19:32:05.321Z"
   },
   {
    "duration": 4,
    "start_time": "2025-03-14T19:32:05.325Z"
   },
   {
    "duration": 4,
    "start_time": "2025-03-14T19:32:05.331Z"
   },
   {
    "duration": 4,
    "start_time": "2025-03-14T19:32:05.336Z"
   },
   {
    "duration": 4,
    "start_time": "2025-03-14T19:32:05.342Z"
   },
   {
    "duration": 4,
    "start_time": "2025-03-14T19:32:05.347Z"
   },
   {
    "duration": 4,
    "start_time": "2025-03-14T19:32:05.353Z"
   },
   {
    "duration": 3,
    "start_time": "2025-03-14T19:32:05.404Z"
   },
   {
    "duration": 5,
    "start_time": "2025-03-14T19:32:05.409Z"
   },
   {
    "duration": 4,
    "start_time": "2025-03-14T19:32:05.415Z"
   },
   {
    "duration": 2,
    "start_time": "2025-03-14T19:32:05.421Z"
   },
   {
    "duration": 245,
    "start_time": "2025-03-14T19:32:05.426Z"
   },
   {
    "duration": 0,
    "start_time": "2025-03-14T19:32:05.673Z"
   },
   {
    "duration": 0,
    "start_time": "2025-03-14T19:32:05.674Z"
   },
   {
    "duration": 0,
    "start_time": "2025-03-14T19:32:05.675Z"
   },
   {
    "duration": 0,
    "start_time": "2025-03-14T19:32:05.677Z"
   },
   {
    "duration": 0,
    "start_time": "2025-03-14T19:32:05.678Z"
   },
   {
    "duration": 0,
    "start_time": "2025-03-14T19:32:05.679Z"
   },
   {
    "duration": 18,
    "start_time": "2025-03-14T19:33:34.893Z"
   },
   {
    "duration": 4,
    "start_time": "2025-03-14T19:33:45.988Z"
   },
   {
    "duration": 3,
    "start_time": "2025-03-14T19:33:48.767Z"
   },
   {
    "duration": 3,
    "start_time": "2025-03-14T19:33:50.221Z"
   },
   {
    "duration": 3,
    "start_time": "2025-03-14T19:33:51.827Z"
   },
   {
    "duration": 3,
    "start_time": "2025-03-14T19:33:53.047Z"
   },
   {
    "duration": 3,
    "start_time": "2025-03-14T20:02:46.460Z"
   },
   {
    "duration": 313,
    "start_time": "2025-03-14T20:02:54.967Z"
   },
   {
    "duration": 230,
    "start_time": "2025-03-14T20:02:55.283Z"
   },
   {
    "duration": 55,
    "start_time": "2025-03-14T20:02:55.514Z"
   },
   {
    "duration": 274,
    "start_time": "2025-03-14T20:02:55.570Z"
   },
   {
    "duration": 14,
    "start_time": "2025-03-14T20:02:55.848Z"
   },
   {
    "duration": 10,
    "start_time": "2025-03-14T20:02:55.865Z"
   },
   {
    "duration": 30,
    "start_time": "2025-03-14T20:02:55.877Z"
   },
   {
    "duration": 10,
    "start_time": "2025-03-14T20:02:55.909Z"
   },
   {
    "duration": 3,
    "start_time": "2025-03-14T20:02:55.921Z"
   },
   {
    "duration": 7,
    "start_time": "2025-03-14T20:02:55.926Z"
   },
   {
    "duration": 3,
    "start_time": "2025-03-14T20:02:55.934Z"
   },
   {
    "duration": 4,
    "start_time": "2025-03-14T20:02:55.938Z"
   },
   {
    "duration": 5,
    "start_time": "2025-03-14T20:02:55.943Z"
   },
   {
    "duration": 5,
    "start_time": "2025-03-14T20:02:55.952Z"
   },
   {
    "duration": 3,
    "start_time": "2025-03-14T20:02:55.959Z"
   },
   {
    "duration": 532,
    "start_time": "2025-03-14T20:02:55.963Z"
   },
   {
    "duration": 5,
    "start_time": "2025-03-14T20:02:56.497Z"
   },
   {
    "duration": 5,
    "start_time": "2025-03-14T20:02:56.505Z"
   },
   {
    "duration": 4,
    "start_time": "2025-03-14T20:02:56.512Z"
   },
   {
    "duration": 4,
    "start_time": "2025-03-14T20:02:56.517Z"
   },
   {
    "duration": 6,
    "start_time": "2025-03-14T20:02:56.522Z"
   },
   {
    "duration": 4,
    "start_time": "2025-03-14T20:02:56.529Z"
   },
   {
    "duration": 5,
    "start_time": "2025-03-14T20:02:56.535Z"
   },
   {
    "duration": 4,
    "start_time": "2025-03-14T20:02:56.541Z"
   },
   {
    "duration": 4,
    "start_time": "2025-03-14T20:02:56.546Z"
   },
   {
    "duration": 3,
    "start_time": "2025-03-14T20:02:56.552Z"
   },
   {
    "duration": 51,
    "start_time": "2025-03-14T20:02:56.557Z"
   },
   {
    "duration": 3,
    "start_time": "2025-03-14T20:02:56.610Z"
   },
   {
    "duration": 4,
    "start_time": "2025-03-14T20:02:56.614Z"
   },
   {
    "duration": 3,
    "start_time": "2025-03-14T20:02:56.621Z"
   },
   {
    "duration": 3,
    "start_time": "2025-03-14T20:02:56.626Z"
   },
   {
    "duration": 4,
    "start_time": "2025-03-14T20:02:56.631Z"
   },
   {
    "duration": 3,
    "start_time": "2025-03-14T20:02:56.636Z"
   },
   {
    "duration": 318,
    "start_time": "2025-03-14T20:02:56.640Z"
   },
   {
    "duration": 0,
    "start_time": "2025-03-14T20:02:56.960Z"
   },
   {
    "duration": 0,
    "start_time": "2025-03-14T20:02:56.961Z"
   },
   {
    "duration": 332,
    "start_time": "2025-03-14T20:03:19.230Z"
   },
   {
    "duration": 200,
    "start_time": "2025-03-14T20:03:19.564Z"
   },
   {
    "duration": 52,
    "start_time": "2025-03-14T20:03:19.765Z"
   },
   {
    "duration": 251,
    "start_time": "2025-03-14T20:03:19.819Z"
   },
   {
    "duration": 15,
    "start_time": "2025-03-14T20:03:20.073Z"
   },
   {
    "duration": 20,
    "start_time": "2025-03-14T20:03:20.090Z"
   },
   {
    "duration": 13,
    "start_time": "2025-03-14T20:03:20.113Z"
   },
   {
    "duration": 11,
    "start_time": "2025-03-14T20:03:20.128Z"
   },
   {
    "duration": 3,
    "start_time": "2025-03-14T20:03:20.141Z"
   },
   {
    "duration": 5,
    "start_time": "2025-03-14T20:03:20.146Z"
   },
   {
    "duration": 4,
    "start_time": "2025-03-14T20:03:20.152Z"
   },
   {
    "duration": 3,
    "start_time": "2025-03-14T20:03:20.158Z"
   },
   {
    "duration": 44,
    "start_time": "2025-03-14T20:03:20.162Z"
   },
   {
    "duration": 4,
    "start_time": "2025-03-14T20:03:20.209Z"
   },
   {
    "duration": 3,
    "start_time": "2025-03-14T20:03:20.215Z"
   },
   {
    "duration": 469,
    "start_time": "2025-03-14T20:03:20.221Z"
   },
   {
    "duration": 5,
    "start_time": "2025-03-14T20:03:20.692Z"
   },
   {
    "duration": 6,
    "start_time": "2025-03-14T20:03:20.705Z"
   },
   {
    "duration": 5,
    "start_time": "2025-03-14T20:03:20.713Z"
   },
   {
    "duration": 6,
    "start_time": "2025-03-14T20:03:20.720Z"
   },
   {
    "duration": 7,
    "start_time": "2025-03-14T20:03:20.727Z"
   },
   {
    "duration": 5,
    "start_time": "2025-03-14T20:03:20.736Z"
   },
   {
    "duration": 4,
    "start_time": "2025-03-14T20:03:20.742Z"
   },
   {
    "duration": 3,
    "start_time": "2025-03-14T20:03:20.748Z"
   },
   {
    "duration": 4,
    "start_time": "2025-03-14T20:03:20.752Z"
   },
   {
    "duration": 3,
    "start_time": "2025-03-14T20:03:20.759Z"
   },
   {
    "duration": 42,
    "start_time": "2025-03-14T20:03:20.763Z"
   },
   {
    "duration": 3,
    "start_time": "2025-03-14T20:03:20.807Z"
   },
   {
    "duration": 4,
    "start_time": "2025-03-14T20:03:20.812Z"
   },
   {
    "duration": 3,
    "start_time": "2025-03-14T20:03:20.817Z"
   },
   {
    "duration": 3,
    "start_time": "2025-03-14T20:03:20.822Z"
   },
   {
    "duration": 3,
    "start_time": "2025-03-14T20:03:20.827Z"
   },
   {
    "duration": 2,
    "start_time": "2025-03-14T20:03:20.832Z"
   },
   {
    "duration": 313,
    "start_time": "2025-03-14T20:03:20.836Z"
   },
   {
    "duration": 0,
    "start_time": "2025-03-14T20:03:21.151Z"
   },
   {
    "duration": 0,
    "start_time": "2025-03-14T20:03:21.153Z"
   },
   {
    "duration": 4,
    "start_time": "2025-03-14T20:03:33.762Z"
   },
   {
    "duration": 321,
    "start_time": "2025-03-14T20:03:40.026Z"
   },
   {
    "duration": 199,
    "start_time": "2025-03-14T20:03:40.349Z"
   },
   {
    "duration": 59,
    "start_time": "2025-03-14T20:03:40.549Z"
   },
   {
    "duration": 256,
    "start_time": "2025-03-14T20:03:40.610Z"
   },
   {
    "duration": 14,
    "start_time": "2025-03-14T20:03:40.868Z"
   },
   {
    "duration": 20,
    "start_time": "2025-03-14T20:03:40.884Z"
   },
   {
    "duration": 14,
    "start_time": "2025-03-14T20:03:40.906Z"
   },
   {
    "duration": 9,
    "start_time": "2025-03-14T20:03:40.922Z"
   },
   {
    "duration": 4,
    "start_time": "2025-03-14T20:03:40.933Z"
   },
   {
    "duration": 5,
    "start_time": "2025-03-14T20:03:40.938Z"
   },
   {
    "duration": 3,
    "start_time": "2025-03-14T20:03:40.944Z"
   },
   {
    "duration": 4,
    "start_time": "2025-03-14T20:03:40.948Z"
   },
   {
    "duration": 5,
    "start_time": "2025-03-14T20:03:40.953Z"
   },
   {
    "duration": 2,
    "start_time": "2025-03-14T20:03:40.963Z"
   },
   {
    "duration": 3,
    "start_time": "2025-03-14T20:03:41.006Z"
   },
   {
    "duration": 497,
    "start_time": "2025-03-14T20:03:41.012Z"
   },
   {
    "duration": 5,
    "start_time": "2025-03-14T20:03:41.511Z"
   },
   {
    "duration": 6,
    "start_time": "2025-03-14T20:03:41.518Z"
   },
   {
    "duration": 4,
    "start_time": "2025-03-14T20:03:41.526Z"
   },
   {
    "duration": 2,
    "start_time": "2025-03-14T20:03:41.532Z"
   },
   {
    "duration": 7,
    "start_time": "2025-03-14T20:03:41.536Z"
   },
   {
    "duration": 5,
    "start_time": "2025-03-14T20:03:41.546Z"
   },
   {
    "duration": 9,
    "start_time": "2025-03-14T20:03:41.553Z"
   },
   {
    "duration": 43,
    "start_time": "2025-03-14T20:03:41.564Z"
   },
   {
    "duration": 4,
    "start_time": "2025-03-14T20:03:41.609Z"
   },
   {
    "duration": 4,
    "start_time": "2025-03-14T20:03:41.615Z"
   },
   {
    "duration": 7,
    "start_time": "2025-03-14T20:03:41.620Z"
   },
   {
    "duration": 2,
    "start_time": "2025-03-14T20:03:41.629Z"
   },
   {
    "duration": 4,
    "start_time": "2025-03-14T20:03:41.633Z"
   },
   {
    "duration": 4,
    "start_time": "2025-03-14T20:03:41.638Z"
   },
   {
    "duration": 4,
    "start_time": "2025-03-14T20:03:41.644Z"
   },
   {
    "duration": 4,
    "start_time": "2025-03-14T20:03:41.650Z"
   },
   {
    "duration": 3,
    "start_time": "2025-03-14T20:03:41.655Z"
   },
   {
    "duration": 322,
    "start_time": "2025-03-14T20:03:41.659Z"
   },
   {
    "duration": 0,
    "start_time": "2025-03-14T20:03:41.983Z"
   },
   {
    "duration": 0,
    "start_time": "2025-03-14T20:03:41.985Z"
   },
   {
    "duration": 347,
    "start_time": "2025-03-14T20:05:27.506Z"
   },
   {
    "duration": 205,
    "start_time": "2025-03-14T20:05:27.855Z"
   },
   {
    "duration": 55,
    "start_time": "2025-03-14T20:05:28.061Z"
   },
   {
    "duration": 266,
    "start_time": "2025-03-14T20:05:28.118Z"
   },
   {
    "duration": 19,
    "start_time": "2025-03-14T20:05:28.387Z"
   },
   {
    "duration": 11,
    "start_time": "2025-03-14T20:05:28.408Z"
   },
   {
    "duration": 15,
    "start_time": "2025-03-14T20:05:28.421Z"
   },
   {
    "duration": 9,
    "start_time": "2025-03-14T20:05:28.438Z"
   },
   {
    "duration": 5,
    "start_time": "2025-03-14T20:05:28.449Z"
   },
   {
    "duration": 5,
    "start_time": "2025-03-14T20:05:28.455Z"
   },
   {
    "duration": 3,
    "start_time": "2025-03-14T20:05:28.462Z"
   },
   {
    "duration": 4,
    "start_time": "2025-03-14T20:05:28.506Z"
   },
   {
    "duration": 6,
    "start_time": "2025-03-14T20:05:28.512Z"
   },
   {
    "duration": 6,
    "start_time": "2025-03-14T20:05:28.523Z"
   },
   {
    "duration": 3,
    "start_time": "2025-03-14T20:05:28.531Z"
   },
   {
    "duration": 473,
    "start_time": "2025-03-14T20:05:28.536Z"
   },
   {
    "duration": 4,
    "start_time": "2025-03-14T20:05:29.011Z"
   },
   {
    "duration": 6,
    "start_time": "2025-03-14T20:05:29.017Z"
   },
   {
    "duration": 3,
    "start_time": "2025-03-14T20:05:29.025Z"
   },
   {
    "duration": 3,
    "start_time": "2025-03-14T20:05:29.030Z"
   },
   {
    "duration": 6,
    "start_time": "2025-03-14T20:05:29.035Z"
   },
   {
    "duration": 4,
    "start_time": "2025-03-14T20:05:29.043Z"
   },
   {
    "duration": 4,
    "start_time": "2025-03-14T20:05:29.048Z"
   },
   {
    "duration": 3,
    "start_time": "2025-03-14T20:05:29.053Z"
   },
   {
    "duration": 47,
    "start_time": "2025-03-14T20:05:29.058Z"
   },
   {
    "duration": 4,
    "start_time": "2025-03-14T20:05:29.107Z"
   },
   {
    "duration": 4,
    "start_time": "2025-03-14T20:05:29.113Z"
   },
   {
    "duration": 2,
    "start_time": "2025-03-14T20:05:29.119Z"
   },
   {
    "duration": 4,
    "start_time": "2025-03-14T20:05:29.123Z"
   },
   {
    "duration": 2,
    "start_time": "2025-03-14T20:05:29.129Z"
   },
   {
    "duration": 3,
    "start_time": "2025-03-14T20:05:29.133Z"
   },
   {
    "duration": 3,
    "start_time": "2025-03-14T20:05:29.138Z"
   },
   {
    "duration": 4,
    "start_time": "2025-03-14T20:05:29.142Z"
   },
   {
    "duration": 4,
    "start_time": "2025-03-14T20:05:29.147Z"
   },
   {
    "duration": 60,
    "start_time": "2025-03-14T20:05:29.153Z"
   },
   {
    "duration": 26,
    "start_time": "2025-03-14T20:05:29.223Z"
   },
   {
    "duration": 340,
    "start_time": "2025-03-14T20:09:41.816Z"
   },
   {
    "duration": 206,
    "start_time": "2025-03-14T20:09:42.158Z"
   },
   {
    "duration": 58,
    "start_time": "2025-03-14T20:09:42.366Z"
   },
   {
    "duration": 267,
    "start_time": "2025-03-14T20:09:42.427Z"
   },
   {
    "duration": 25,
    "start_time": "2025-03-14T20:09:42.696Z"
   },
   {
    "duration": 10,
    "start_time": "2025-03-14T20:09:42.723Z"
   },
   {
    "duration": 13,
    "start_time": "2025-03-14T20:09:42.735Z"
   },
   {
    "duration": 10,
    "start_time": "2025-03-14T20:09:42.749Z"
   },
   {
    "duration": 4,
    "start_time": "2025-03-14T20:09:42.760Z"
   },
   {
    "duration": 5,
    "start_time": "2025-03-14T20:09:42.766Z"
   },
   {
    "duration": 35,
    "start_time": "2025-03-14T20:09:42.772Z"
   },
   {
    "duration": 4,
    "start_time": "2025-03-14T20:09:42.808Z"
   },
   {
    "duration": 8,
    "start_time": "2025-03-14T20:09:42.813Z"
   },
   {
    "duration": 4,
    "start_time": "2025-03-14T20:09:42.824Z"
   },
   {
    "duration": 4,
    "start_time": "2025-03-14T20:09:42.829Z"
   },
   {
    "duration": 473,
    "start_time": "2025-03-14T20:09:42.834Z"
   },
   {
    "duration": 4,
    "start_time": "2025-03-14T20:09:43.309Z"
   },
   {
    "duration": 4,
    "start_time": "2025-03-14T20:09:43.315Z"
   },
   {
    "duration": 4,
    "start_time": "2025-03-14T20:09:43.321Z"
   },
   {
    "duration": 3,
    "start_time": "2025-03-14T20:09:43.326Z"
   },
   {
    "duration": 7,
    "start_time": "2025-03-14T20:09:43.331Z"
   },
   {
    "duration": 4,
    "start_time": "2025-03-14T20:09:43.339Z"
   },
   {
    "duration": 6,
    "start_time": "2025-03-14T20:09:43.344Z"
   },
   {
    "duration": 3,
    "start_time": "2025-03-14T20:09:43.351Z"
   },
   {
    "duration": 4,
    "start_time": "2025-03-14T20:09:43.356Z"
   },
   {
    "duration": 5,
    "start_time": "2025-03-14T20:09:43.406Z"
   },
   {
    "duration": 4,
    "start_time": "2025-03-14T20:09:43.414Z"
   },
   {
    "duration": 3,
    "start_time": "2025-03-14T20:09:43.420Z"
   },
   {
    "duration": 6,
    "start_time": "2025-03-14T20:09:43.424Z"
   },
   {
    "duration": 4,
    "start_time": "2025-03-14T20:09:43.432Z"
   },
   {
    "duration": 4,
    "start_time": "2025-03-14T20:09:43.438Z"
   },
   {
    "duration": 4,
    "start_time": "2025-03-14T20:09:43.443Z"
   },
   {
    "duration": 4,
    "start_time": "2025-03-14T20:09:43.449Z"
   },
   {
    "duration": 60,
    "start_time": "2025-03-14T20:09:43.455Z"
   },
   {
    "duration": 17,
    "start_time": "2025-03-14T20:09:43.517Z"
   },
   {
    "duration": 5,
    "start_time": "2025-03-14T20:20:38.030Z"
   },
   {
    "duration": 3,
    "start_time": "2025-03-14T20:20:43.113Z"
   },
   {
    "duration": 3,
    "start_time": "2025-03-14T20:20:55.472Z"
   },
   {
    "duration": 4,
    "start_time": "2025-03-14T20:21:07.603Z"
   },
   {
    "duration": 5,
    "start_time": "2025-03-14T20:21:18.209Z"
   },
   {
    "duration": 155,
    "start_time": "2025-03-15T00:59:39.136Z"
   },
   {
    "duration": 296,
    "start_time": "2025-03-15T00:59:45.866Z"
   },
   {
    "duration": 278,
    "start_time": "2025-03-15T00:59:46.164Z"
   },
   {
    "duration": 80,
    "start_time": "2025-03-15T00:59:46.444Z"
   },
   {
    "duration": 315,
    "start_time": "2025-03-15T00:59:46.526Z"
   },
   {
    "duration": 14,
    "start_time": "2025-03-15T00:59:46.845Z"
   },
   {
    "duration": 20,
    "start_time": "2025-03-15T00:59:46.860Z"
   },
   {
    "duration": 13,
    "start_time": "2025-03-15T00:59:46.883Z"
   },
   {
    "duration": 9,
    "start_time": "2025-03-15T00:59:46.900Z"
   },
   {
    "duration": 4,
    "start_time": "2025-03-15T00:59:46.910Z"
   },
   {
    "duration": 4,
    "start_time": "2025-03-15T00:59:46.916Z"
   },
   {
    "duration": 3,
    "start_time": "2025-03-15T00:59:46.921Z"
   },
   {
    "duration": 3,
    "start_time": "2025-03-15T00:59:46.925Z"
   },
   {
    "duration": 41,
    "start_time": "2025-03-15T00:59:46.930Z"
   },
   {
    "duration": 7,
    "start_time": "2025-03-15T00:59:46.975Z"
   },
   {
    "duration": 3,
    "start_time": "2025-03-15T00:59:46.984Z"
   },
   {
    "duration": 491,
    "start_time": "2025-03-15T00:59:46.989Z"
   },
   {
    "duration": 3,
    "start_time": "2025-03-15T00:59:47.483Z"
   },
   {
    "duration": 7,
    "start_time": "2025-03-15T00:59:47.488Z"
   },
   {
    "duration": 4,
    "start_time": "2025-03-15T00:59:47.496Z"
   },
   {
    "duration": 3,
    "start_time": "2025-03-15T00:59:47.501Z"
   },
   {
    "duration": 6,
    "start_time": "2025-03-15T00:59:47.507Z"
   },
   {
    "duration": 3,
    "start_time": "2025-03-15T00:59:47.516Z"
   },
   {
    "duration": 4,
    "start_time": "2025-03-15T00:59:47.520Z"
   },
   {
    "duration": 3,
    "start_time": "2025-03-15T00:59:47.526Z"
   },
   {
    "duration": 4,
    "start_time": "2025-03-15T00:59:47.569Z"
   },
   {
    "duration": 4,
    "start_time": "2025-03-15T00:59:47.574Z"
   },
   {
    "duration": 5,
    "start_time": "2025-03-15T00:59:47.579Z"
   },
   {
    "duration": 3,
    "start_time": "2025-03-15T00:59:47.585Z"
   },
   {
    "duration": 4,
    "start_time": "2025-03-15T00:59:47.589Z"
   },
   {
    "duration": 3,
    "start_time": "2025-03-15T00:59:47.595Z"
   },
   {
    "duration": 3,
    "start_time": "2025-03-15T00:59:47.600Z"
   },
   {
    "duration": 3,
    "start_time": "2025-03-15T00:59:47.605Z"
   },
   {
    "duration": 4,
    "start_time": "2025-03-15T00:59:47.610Z"
   },
   {
    "duration": 4,
    "start_time": "2025-03-15T00:59:47.615Z"
   },
   {
    "duration": 51,
    "start_time": "2025-03-15T00:59:47.620Z"
   },
   {
    "duration": 20,
    "start_time": "2025-03-15T00:59:47.672Z"
   },
   {
    "duration": 13,
    "start_time": "2025-03-15T00:59:47.693Z"
   },
   {
    "duration": 20,
    "start_time": "2025-03-15T00:59:47.707Z"
   },
   {
    "duration": 12,
    "start_time": "2025-03-15T00:59:55.839Z"
   },
   {
    "duration": 5,
    "start_time": "2025-03-15T01:18:45.075Z"
   },
   {
    "duration": 322,
    "start_time": "2025-03-15T15:13:04.012Z"
   },
   {
    "duration": 247,
    "start_time": "2025-03-15T15:13:04.336Z"
   },
   {
    "duration": 92,
    "start_time": "2025-03-15T15:13:04.588Z"
   },
   {
    "duration": 316,
    "start_time": "2025-03-15T15:13:04.682Z"
   },
   {
    "duration": 16,
    "start_time": "2025-03-15T15:13:05.002Z"
   },
   {
    "duration": 11,
    "start_time": "2025-03-15T15:13:05.021Z"
   },
   {
    "duration": 13,
    "start_time": "2025-03-15T15:13:05.033Z"
   },
   {
    "duration": 9,
    "start_time": "2025-03-15T15:13:05.047Z"
   },
   {
    "duration": 29,
    "start_time": "2025-03-15T15:13:05.058Z"
   },
   {
    "duration": 5,
    "start_time": "2025-03-15T15:13:05.088Z"
   },
   {
    "duration": 3,
    "start_time": "2025-03-15T15:13:05.095Z"
   },
   {
    "duration": 4,
    "start_time": "2025-03-15T15:13:05.099Z"
   },
   {
    "duration": 5,
    "start_time": "2025-03-15T15:13:05.104Z"
   },
   {
    "duration": 3,
    "start_time": "2025-03-15T15:13:05.112Z"
   },
   {
    "duration": 4,
    "start_time": "2025-03-15T15:13:05.117Z"
   },
   {
    "duration": 476,
    "start_time": "2025-03-15T15:13:05.122Z"
   },
   {
    "duration": 4,
    "start_time": "2025-03-15T15:13:05.600Z"
   },
   {
    "duration": 5,
    "start_time": "2025-03-15T15:13:05.607Z"
   },
   {
    "duration": 4,
    "start_time": "2025-03-15T15:13:05.615Z"
   },
   {
    "duration": 3,
    "start_time": "2025-03-15T15:13:05.621Z"
   },
   {
    "duration": 6,
    "start_time": "2025-03-15T15:13:05.626Z"
   },
   {
    "duration": 5,
    "start_time": "2025-03-15T15:13:05.634Z"
   },
   {
    "duration": 4,
    "start_time": "2025-03-15T15:13:05.640Z"
   },
   {
    "duration": 42,
    "start_time": "2025-03-15T15:13:05.645Z"
   },
   {
    "duration": 4,
    "start_time": "2025-03-15T15:13:05.689Z"
   },
   {
    "duration": 4,
    "start_time": "2025-03-15T15:13:05.695Z"
   },
   {
    "duration": 4,
    "start_time": "2025-03-15T15:13:05.701Z"
   },
   {
    "duration": 2,
    "start_time": "2025-03-15T15:13:05.707Z"
   },
   {
    "duration": 5,
    "start_time": "2025-03-15T15:13:05.711Z"
   },
   {
    "duration": 4,
    "start_time": "2025-03-15T15:13:05.718Z"
   },
   {
    "duration": 3,
    "start_time": "2025-03-15T15:13:05.723Z"
   },
   {
    "duration": 4,
    "start_time": "2025-03-15T15:13:05.728Z"
   },
   {
    "duration": 4,
    "start_time": "2025-03-15T15:13:05.733Z"
   },
   {
    "duration": 51,
    "start_time": "2025-03-15T15:13:05.738Z"
   },
   {
    "duration": 305,
    "start_time": "2025-03-15T21:22:33.763Z"
   },
   {
    "duration": 239,
    "start_time": "2025-03-15T21:22:34.070Z"
   },
   {
    "duration": 73,
    "start_time": "2025-03-15T21:22:34.311Z"
   },
   {
    "duration": 290,
    "start_time": "2025-03-15T21:22:34.386Z"
   },
   {
    "duration": 14,
    "start_time": "2025-03-15T21:22:34.678Z"
   },
   {
    "duration": 10,
    "start_time": "2025-03-15T21:22:34.694Z"
   },
   {
    "duration": 27,
    "start_time": "2025-03-15T21:22:34.706Z"
   },
   {
    "duration": 9,
    "start_time": "2025-03-15T21:22:34.734Z"
   },
   {
    "duration": 3,
    "start_time": "2025-03-15T21:22:34.745Z"
   },
   {
    "duration": 4,
    "start_time": "2025-03-15T21:22:34.750Z"
   },
   {
    "duration": 3,
    "start_time": "2025-03-15T21:22:34.756Z"
   },
   {
    "duration": 4,
    "start_time": "2025-03-15T21:22:34.760Z"
   },
   {
    "duration": 5,
    "start_time": "2025-03-15T21:22:34.765Z"
   },
   {
    "duration": 3,
    "start_time": "2025-03-15T21:22:34.774Z"
   },
   {
    "duration": 45,
    "start_time": "2025-03-15T21:22:34.779Z"
   },
   {
    "duration": 464,
    "start_time": "2025-03-15T21:22:34.826Z"
   },
   {
    "duration": 4,
    "start_time": "2025-03-15T21:22:35.292Z"
   },
   {
    "duration": 5,
    "start_time": "2025-03-15T21:22:35.298Z"
   },
   {
    "duration": 20,
    "start_time": "2025-03-15T21:22:35.305Z"
   },
   {
    "duration": 2,
    "start_time": "2025-03-15T21:22:35.326Z"
   },
   {
    "duration": 7,
    "start_time": "2025-03-15T21:22:35.330Z"
   },
   {
    "duration": 4,
    "start_time": "2025-03-15T21:22:35.338Z"
   },
   {
    "duration": 4,
    "start_time": "2025-03-15T21:22:35.343Z"
   },
   {
    "duration": 3,
    "start_time": "2025-03-15T21:22:35.350Z"
   },
   {
    "duration": 4,
    "start_time": "2025-03-15T21:22:35.354Z"
   },
   {
    "duration": 4,
    "start_time": "2025-03-15T21:22:35.360Z"
   },
   {
    "duration": 5,
    "start_time": "2025-03-15T21:22:35.365Z"
   },
   {
    "duration": 3,
    "start_time": "2025-03-15T21:22:35.371Z"
   },
   {
    "duration": 50,
    "start_time": "2025-03-15T21:22:35.375Z"
   },
   {
    "duration": 4,
    "start_time": "2025-03-15T21:22:35.426Z"
   },
   {
    "duration": 3,
    "start_time": "2025-03-15T21:22:35.432Z"
   },
   {
    "duration": 3,
    "start_time": "2025-03-15T21:22:35.437Z"
   },
   {
    "duration": 4,
    "start_time": "2025-03-15T21:22:35.442Z"
   },
   {
    "duration": 3,
    "start_time": "2025-03-15T21:22:35.448Z"
   },
   {
    "duration": 208,
    "start_time": "2025-03-15T21:31:52.006Z"
   },
   {
    "duration": 10,
    "start_time": "2025-03-15T21:31:56.749Z"
   },
   {
    "duration": 23,
    "start_time": "2025-03-15T21:32:02.415Z"
   },
   {
    "duration": 12,
    "start_time": "2025-03-15T21:32:09.523Z"
   },
   {
    "duration": 1816,
    "start_time": "2025-03-15T21:47:10.133Z"
   },
   {
    "duration": 7,
    "start_time": "2025-03-15T22:03:29.450Z"
   },
   {
    "duration": 6,
    "start_time": "2025-03-15T22:07:26.830Z"
   },
   {
    "duration": 5,
    "start_time": "2025-03-15T22:07:50.165Z"
   },
   {
    "duration": 301,
    "start_time": "2025-03-15T22:08:14.416Z"
   },
   {
    "duration": 204,
    "start_time": "2025-03-15T22:10:22.283Z"
   },
   {
    "duration": 220,
    "start_time": "2025-03-15T22:13:42.116Z"
   },
   {
    "duration": 221,
    "start_time": "2025-03-15T22:13:48.586Z"
   },
   {
    "duration": 206,
    "start_time": "2025-03-15T22:16:01.940Z"
   },
   {
    "duration": 31,
    "start_time": "2025-03-15T22:22:39.514Z"
   },
   {
    "duration": 273,
    "start_time": "2025-03-15T22:26:01.291Z"
   },
   {
    "duration": 199,
    "start_time": "2025-03-15T22:26:19.906Z"
   },
   {
    "duration": 202,
    "start_time": "2025-03-15T22:27:41.241Z"
   },
   {
    "duration": 224,
    "start_time": "2025-03-15T22:27:57.278Z"
   },
   {
    "duration": 213,
    "start_time": "2025-03-15T22:28:31.997Z"
   },
   {
    "duration": 218,
    "start_time": "2025-03-15T22:28:51.778Z"
   },
   {
    "duration": 286,
    "start_time": "2025-03-15T22:31:59.071Z"
   },
   {
    "duration": 2,
    "start_time": "2025-03-15T22:32:38.751Z"
   },
   {
    "duration": 208,
    "start_time": "2025-03-15T22:32:53.843Z"
   },
   {
    "duration": 218,
    "start_time": "2025-03-15T22:33:07.338Z"
   },
   {
    "duration": 210,
    "start_time": "2025-03-15T22:33:19.855Z"
   },
   {
    "duration": 196,
    "start_time": "2025-03-15T22:33:28.681Z"
   },
   {
    "duration": 277,
    "start_time": "2025-03-15T22:33:36.013Z"
   },
   {
    "duration": 200,
    "start_time": "2025-03-15T22:34:27.185Z"
   },
   {
    "duration": 181,
    "start_time": "2025-03-15T22:37:26.348Z"
   },
   {
    "duration": 192,
    "start_time": "2025-03-15T22:37:46.432Z"
   },
   {
    "duration": 182,
    "start_time": "2025-03-15T22:38:31.437Z"
   },
   {
    "duration": 3,
    "start_time": "2025-03-15T22:41:40.799Z"
   },
   {
    "duration": 190,
    "start_time": "2025-03-15T22:42:30.034Z"
   },
   {
    "duration": 103,
    "start_time": "2025-03-15T22:49:52.968Z"
   },
   {
    "duration": 4,
    "start_time": "2025-03-15T22:51:04.333Z"
   },
   {
    "duration": 6,
    "start_time": "2025-03-15T22:51:08.910Z"
   },
   {
    "duration": 187,
    "start_time": "2025-03-15T22:51:45.356Z"
   },
   {
    "duration": 8,
    "start_time": "2025-03-15T22:51:59.117Z"
   },
   {
    "duration": 4,
    "start_time": "2025-03-15T22:53:38.565Z"
   },
   {
    "duration": 6,
    "start_time": "2025-03-15T22:56:36.763Z"
   },
   {
    "duration": 4,
    "start_time": "2025-03-15T22:56:57.969Z"
   },
   {
    "duration": 103,
    "start_time": "2025-03-15T22:57:01.488Z"
   },
   {
    "duration": 104,
    "start_time": "2025-03-15T22:57:09.245Z"
   },
   {
    "duration": 104,
    "start_time": "2025-03-15T22:57:16.948Z"
   },
   {
    "duration": 3,
    "start_time": "2025-03-15T23:04:35.331Z"
   },
   {
    "duration": 7,
    "start_time": "2025-03-15T23:07:10.112Z"
   },
   {
    "duration": 7,
    "start_time": "2025-03-15T23:10:16.822Z"
   },
   {
    "duration": 17,
    "start_time": "2025-03-15T23:14:22.763Z"
   },
   {
    "duration": 43,
    "start_time": "2025-03-15T23:15:26.783Z"
   },
   {
    "duration": 11,
    "start_time": "2025-03-15T23:15:41.188Z"
   },
   {
    "duration": 5,
    "start_time": "2025-03-15T23:17:52.417Z"
   },
   {
    "duration": 7,
    "start_time": "2025-03-15T23:21:05.178Z"
   },
   {
    "duration": 6,
    "start_time": "2025-03-15T23:21:17.691Z"
   },
   {
    "duration": 161,
    "start_time": "2025-03-16T13:10:16.026Z"
   },
   {
    "duration": 290,
    "start_time": "2025-03-16T13:10:31.786Z"
   },
   {
    "duration": 241,
    "start_time": "2025-03-16T13:10:32.078Z"
   },
   {
    "duration": 75,
    "start_time": "2025-03-16T13:10:32.320Z"
   },
   {
    "duration": 320,
    "start_time": "2025-03-16T13:10:32.396Z"
   },
   {
    "duration": 14,
    "start_time": "2025-03-16T13:10:32.719Z"
   },
   {
    "duration": 10,
    "start_time": "2025-03-16T13:10:32.735Z"
   },
   {
    "duration": 13,
    "start_time": "2025-03-16T13:10:32.746Z"
   },
   {
    "duration": 8,
    "start_time": "2025-03-16T13:10:32.761Z"
   },
   {
    "duration": 34,
    "start_time": "2025-03-16T13:10:32.771Z"
   },
   {
    "duration": 9,
    "start_time": "2025-03-16T13:10:32.807Z"
   },
   {
    "duration": 2,
    "start_time": "2025-03-16T13:10:32.821Z"
   },
   {
    "duration": 4,
    "start_time": "2025-03-16T13:10:32.825Z"
   },
   {
    "duration": 6,
    "start_time": "2025-03-16T13:10:32.831Z"
   },
   {
    "duration": 3,
    "start_time": "2025-03-16T13:10:32.840Z"
   },
   {
    "duration": 3,
    "start_time": "2025-03-16T13:10:32.844Z"
   },
   {
    "duration": 464,
    "start_time": "2025-03-16T13:10:32.849Z"
   },
   {
    "duration": 4,
    "start_time": "2025-03-16T13:10:33.314Z"
   },
   {
    "duration": 4,
    "start_time": "2025-03-16T13:10:33.320Z"
   },
   {
    "duration": 4,
    "start_time": "2025-03-16T13:10:33.326Z"
   },
   {
    "duration": 3,
    "start_time": "2025-03-16T13:10:33.331Z"
   },
   {
    "duration": 6,
    "start_time": "2025-03-16T13:10:33.335Z"
   },
   {
    "duration": 4,
    "start_time": "2025-03-16T13:10:33.343Z"
   },
   {
    "duration": 4,
    "start_time": "2025-03-16T13:10:33.348Z"
   },
   {
    "duration": 3,
    "start_time": "2025-03-16T13:10:33.354Z"
   },
   {
    "duration": 47,
    "start_time": "2025-03-16T13:10:33.359Z"
   },
   {
    "duration": 3,
    "start_time": "2025-03-16T13:10:33.408Z"
   },
   {
    "duration": 5,
    "start_time": "2025-03-16T13:10:33.413Z"
   },
   {
    "duration": 4,
    "start_time": "2025-03-16T13:10:33.420Z"
   },
   {
    "duration": 3,
    "start_time": "2025-03-16T13:10:33.426Z"
   },
   {
    "duration": 4,
    "start_time": "2025-03-16T13:10:33.431Z"
   },
   {
    "duration": 4,
    "start_time": "2025-03-16T13:10:33.436Z"
   },
   {
    "duration": 3,
    "start_time": "2025-03-16T13:10:33.441Z"
   },
   {
    "duration": 5,
    "start_time": "2025-03-16T13:10:33.445Z"
   },
   {
    "duration": 3,
    "start_time": "2025-03-16T13:10:33.451Z"
   },
   {
    "duration": 50,
    "start_time": "2025-03-16T13:10:33.456Z"
   },
   {
    "duration": 13,
    "start_time": "2025-03-16T13:10:33.507Z"
   },
   {
    "duration": 1901,
    "start_time": "2025-03-16T13:10:33.522Z"
   },
   {
    "duration": 232,
    "start_time": "2025-03-16T13:10:35.425Z"
   },
   {
    "duration": 7,
    "start_time": "2025-03-16T13:10:35.659Z"
   },
   {
    "duration": 4,
    "start_time": "2025-03-16T13:10:35.667Z"
   },
   {
    "duration": 4,
    "start_time": "2025-03-16T13:10:35.675Z"
   },
   {
    "duration": 6,
    "start_time": "2025-03-16T13:10:35.680Z"
   },
   {
    "duration": 6,
    "start_time": "2025-03-16T13:10:35.688Z"
   },
   {
    "duration": 123,
    "start_time": "2025-03-16T13:10:35.696Z"
   },
   {
    "duration": 8,
    "start_time": "2025-03-16T13:10:35.822Z"
   },
   {
    "duration": 564,
    "start_time": "2025-03-16T13:55:40.105Z"
   },
   {
    "duration": 563,
    "start_time": "2025-03-16T13:55:58.073Z"
   },
   {
    "duration": 338,
    "start_time": "2025-03-16T13:57:48.262Z"
   },
   {
    "duration": 14,
    "start_time": "2025-03-16T13:58:22.433Z"
   },
   {
    "duration": 12,
    "start_time": "2025-03-16T13:58:53.179Z"
   },
   {
    "duration": 5,
    "start_time": "2025-03-16T14:00:09.751Z"
   },
   {
    "duration": 6,
    "start_time": "2025-03-16T14:56:06.668Z"
   },
   {
    "duration": 319,
    "start_time": "2025-03-16T14:56:11.652Z"
   },
   {
    "duration": 235,
    "start_time": "2025-03-16T14:56:11.973Z"
   },
   {
    "duration": 73,
    "start_time": "2025-03-16T14:56:12.210Z"
   },
   {
    "duration": 300,
    "start_time": "2025-03-16T14:56:12.285Z"
   },
   {
    "duration": 15,
    "start_time": "2025-03-16T14:56:12.587Z"
   },
   {
    "duration": 21,
    "start_time": "2025-03-16T14:56:12.604Z"
   },
   {
    "duration": 13,
    "start_time": "2025-03-16T14:56:12.627Z"
   },
   {
    "duration": 9,
    "start_time": "2025-03-16T14:56:12.642Z"
   },
   {
    "duration": 4,
    "start_time": "2025-03-16T14:56:12.653Z"
   },
   {
    "duration": 5,
    "start_time": "2025-03-16T14:56:12.658Z"
   },
   {
    "duration": 3,
    "start_time": "2025-03-16T14:56:12.665Z"
   },
   {
    "duration": 4,
    "start_time": "2025-03-16T14:56:12.669Z"
   },
   {
    "duration": 5,
    "start_time": "2025-03-16T14:56:12.674Z"
   },
   {
    "duration": 43,
    "start_time": "2025-03-16T14:56:12.682Z"
   },
   {
    "duration": 3,
    "start_time": "2025-03-16T14:56:12.727Z"
   },
   {
    "duration": 478,
    "start_time": "2025-03-16T14:56:12.732Z"
   },
   {
    "duration": 4,
    "start_time": "2025-03-16T14:56:13.212Z"
   },
   {
    "duration": 4,
    "start_time": "2025-03-16T14:56:13.223Z"
   },
   {
    "duration": 4,
    "start_time": "2025-03-16T14:56:13.229Z"
   },
   {
    "duration": 3,
    "start_time": "2025-03-16T14:56:13.235Z"
   },
   {
    "duration": 7,
    "start_time": "2025-03-16T14:56:13.239Z"
   },
   {
    "duration": 4,
    "start_time": "2025-03-16T14:56:13.248Z"
   },
   {
    "duration": 4,
    "start_time": "2025-03-16T14:56:13.253Z"
   },
   {
    "duration": 3,
    "start_time": "2025-03-16T14:56:13.258Z"
   },
   {
    "duration": 4,
    "start_time": "2025-03-16T14:56:13.263Z"
   },
   {
    "duration": 4,
    "start_time": "2025-03-16T14:56:13.268Z"
   },
   {
    "duration": 52,
    "start_time": "2025-03-16T14:56:13.274Z"
   },
   {
    "duration": 3,
    "start_time": "2025-03-16T14:56:13.328Z"
   },
   {
    "duration": 4,
    "start_time": "2025-03-16T14:56:13.332Z"
   },
   {
    "duration": 3,
    "start_time": "2025-03-16T14:56:13.338Z"
   },
   {
    "duration": 3,
    "start_time": "2025-03-16T14:56:13.342Z"
   },
   {
    "duration": 4,
    "start_time": "2025-03-16T14:56:13.347Z"
   },
   {
    "duration": 4,
    "start_time": "2025-03-16T14:56:13.352Z"
   },
   {
    "duration": 3,
    "start_time": "2025-03-16T14:56:13.358Z"
   },
   {
    "duration": 10,
    "start_time": "2025-03-16T14:56:13.363Z"
   },
   {
    "duration": 53,
    "start_time": "2025-03-16T14:56:13.375Z"
   },
   {
    "duration": 1859,
    "start_time": "2025-03-16T14:56:13.430Z"
   },
   {
    "duration": 258,
    "start_time": "2025-03-16T14:56:15.290Z"
   },
   {
    "duration": 8,
    "start_time": "2025-03-16T14:56:15.550Z"
   },
   {
    "duration": 5,
    "start_time": "2025-03-16T14:56:15.560Z"
   },
   {
    "duration": 2,
    "start_time": "2025-03-16T14:56:15.571Z"
   },
   {
    "duration": 7,
    "start_time": "2025-03-16T14:56:15.574Z"
   },
   {
    "duration": 7,
    "start_time": "2025-03-16T14:56:15.582Z"
   },
   {
    "duration": 600,
    "start_time": "2025-03-16T14:56:15.591Z"
   },
   {
    "duration": 111,
    "start_time": "2025-03-16T14:56:16.193Z"
   },
   {
    "duration": 3,
    "start_time": "2025-03-16T14:56:16.306Z"
   },
   {
    "duration": 20,
    "start_time": "2025-03-16T14:56:16.310Z"
   },
   {
    "duration": 7,
    "start_time": "2025-03-16T14:58:20.656Z"
   },
   {
    "duration": 237,
    "start_time": "2025-03-16T14:58:26.125Z"
   },
   {
    "duration": 250,
    "start_time": "2025-03-16T15:00:20.598Z"
   },
   {
    "duration": 190,
    "start_time": "2025-03-16T15:09:17.236Z"
   },
   {
    "duration": 427,
    "start_time": "2025-03-16T15:14:37.332Z"
   },
   {
    "duration": 108,
    "start_time": "2025-03-16T15:56:14.810Z"
   },
   {
    "duration": 105,
    "start_time": "2025-03-16T15:57:10.990Z"
   },
   {
    "duration": 567,
    "start_time": "2025-03-16T16:00:12.232Z"
   },
   {
    "duration": 590,
    "start_time": "2025-03-16T16:03:11.419Z"
   },
   {
    "duration": 237,
    "start_time": "2025-03-16T16:03:19.015Z"
   },
   {
    "duration": 329,
    "start_time": "2025-03-16T16:03:23.586Z"
   },
   {
    "duration": 372,
    "start_time": "2025-03-16T16:15:28.429Z"
   },
   {
    "duration": 4,
    "start_time": "2025-03-16T16:15:56.630Z"
   },
   {
    "duration": 26,
    "start_time": "2025-03-16T16:17:17.074Z"
   },
   {
    "duration": 3,
    "start_time": "2025-03-16T16:17:29.869Z"
   },
   {
    "duration": 24,
    "start_time": "2025-03-16T16:17:39.548Z"
   },
   {
    "duration": 10,
    "start_time": "2025-03-16T16:18:37.719Z"
   },
   {
    "duration": 313,
    "start_time": "2025-03-16T16:20:11.607Z"
   },
   {
    "duration": 3,
    "start_time": "2025-03-16T16:23:39.946Z"
   },
   {
    "duration": 20,
    "start_time": "2025-03-16T16:24:07.319Z"
   },
   {
    "duration": 336,
    "start_time": "2025-03-16T16:25:49.323Z"
   },
   {
    "duration": 307,
    "start_time": "2025-03-16T16:31:09.934Z"
   },
   {
    "duration": 318,
    "start_time": "2025-03-16T16:32:57.910Z"
   },
   {
    "duration": 320,
    "start_time": "2025-03-16T16:33:20.529Z"
   },
   {
    "duration": 11915,
    "start_time": "2025-03-16T16:33:51.453Z"
   },
   {
    "duration": 273,
    "start_time": "2025-03-16T16:34:29.562Z"
   },
   {
    "duration": 361,
    "start_time": "2025-03-16T16:37:27.433Z"
   },
   {
    "duration": 245,
    "start_time": "2025-03-16T16:37:33.586Z"
   },
   {
    "duration": 281,
    "start_time": "2025-03-16T16:39:00.347Z"
   },
   {
    "duration": 338,
    "start_time": "2025-03-16T16:39:13.286Z"
   },
   {
    "duration": 310,
    "start_time": "2025-03-16T16:43:56.697Z"
   },
   {
    "duration": 322,
    "start_time": "2025-03-16T16:45:02.415Z"
   },
   {
    "duration": 195,
    "start_time": "2025-03-16T16:45:38.361Z"
   },
   {
    "duration": 217,
    "start_time": "2025-03-16T16:46:17.047Z"
   },
   {
    "duration": 158,
    "start_time": "2025-03-16T16:46:23.523Z"
   },
   {
    "duration": 205,
    "start_time": "2025-03-16T16:47:27.071Z"
   },
   {
    "duration": 169,
    "start_time": "2025-03-16T16:48:53.320Z"
   },
   {
    "duration": 178,
    "start_time": "2025-03-16T16:52:18.898Z"
   },
   {
    "duration": 203,
    "start_time": "2025-03-16T16:52:29.101Z"
   },
   {
    "duration": 389,
    "start_time": "2025-03-16T16:52:46.513Z"
   },
   {
    "duration": 285,
    "start_time": "2025-03-16T16:52:55.506Z"
   },
   {
    "duration": 272,
    "start_time": "2025-03-16T16:53:03.159Z"
   },
   {
    "duration": 288,
    "start_time": "2025-03-16T16:56:09.338Z"
   },
   {
    "duration": 200,
    "start_time": "2025-03-16T17:21:25.149Z"
   },
   {
    "duration": 191,
    "start_time": "2025-03-16T17:21:41.289Z"
   },
   {
    "duration": 201,
    "start_time": "2025-03-16T18:40:06.259Z"
   },
   {
    "duration": 8,
    "start_time": "2025-03-16T18:40:13.504Z"
   },
   {
    "duration": 187,
    "start_time": "2025-03-16T18:40:28.702Z"
   },
   {
    "duration": 195,
    "start_time": "2025-03-16T18:42:28.554Z"
   },
   {
    "duration": 6,
    "start_time": "2025-03-16T18:42:38.866Z"
   },
   {
    "duration": 523,
    "start_time": "2025-03-16T18:42:55.727Z"
   },
   {
    "duration": 192,
    "start_time": "2025-03-16T18:44:22.825Z"
   },
   {
    "duration": 212,
    "start_time": "2025-03-16T18:44:29.607Z"
   },
   {
    "duration": 9,
    "start_time": "2025-03-16T19:12:40.676Z"
   },
   {
    "duration": 321,
    "start_time": "2025-03-16T23:33:29.032Z"
   },
   {
    "duration": 236,
    "start_time": "2025-03-16T23:33:29.355Z"
   },
   {
    "duration": 78,
    "start_time": "2025-03-16T23:33:29.593Z"
   },
   {
    "duration": 307,
    "start_time": "2025-03-16T23:33:29.672Z"
   },
   {
    "duration": 14,
    "start_time": "2025-03-16T23:33:29.982Z"
   },
   {
    "duration": 11,
    "start_time": "2025-03-16T23:33:29.997Z"
   },
   {
    "duration": 12,
    "start_time": "2025-03-16T23:33:30.010Z"
   },
   {
    "duration": 8,
    "start_time": "2025-03-16T23:33:30.024Z"
   },
   {
    "duration": 4,
    "start_time": "2025-03-16T23:33:30.034Z"
   },
   {
    "duration": 5,
    "start_time": "2025-03-16T23:33:30.039Z"
   },
   {
    "duration": 3,
    "start_time": "2025-03-16T23:33:30.045Z"
   },
   {
    "duration": 4,
    "start_time": "2025-03-16T23:33:30.087Z"
   },
   {
    "duration": 5,
    "start_time": "2025-03-16T23:33:30.092Z"
   },
   {
    "duration": 3,
    "start_time": "2025-03-16T23:33:30.100Z"
   },
   {
    "duration": 3,
    "start_time": "2025-03-16T23:33:30.105Z"
   },
   {
    "duration": 471,
    "start_time": "2025-03-16T23:33:30.110Z"
   },
   {
    "duration": 5,
    "start_time": "2025-03-16T23:33:30.583Z"
   },
   {
    "duration": 6,
    "start_time": "2025-03-16T23:33:30.589Z"
   },
   {
    "duration": 4,
    "start_time": "2025-03-16T23:33:30.597Z"
   },
   {
    "duration": 3,
    "start_time": "2025-03-16T23:33:30.602Z"
   },
   {
    "duration": 6,
    "start_time": "2025-03-16T23:33:30.607Z"
   },
   {
    "duration": 4,
    "start_time": "2025-03-16T23:33:30.615Z"
   },
   {
    "duration": 4,
    "start_time": "2025-03-16T23:33:30.621Z"
   },
   {
    "duration": 3,
    "start_time": "2025-03-16T23:33:30.627Z"
   },
   {
    "duration": 4,
    "start_time": "2025-03-16T23:33:30.631Z"
   },
   {
    "duration": 49,
    "start_time": "2025-03-16T23:33:30.637Z"
   },
   {
    "duration": 5,
    "start_time": "2025-03-16T23:33:30.689Z"
   },
   {
    "duration": 3,
    "start_time": "2025-03-16T23:33:30.696Z"
   },
   {
    "duration": 3,
    "start_time": "2025-03-16T23:33:30.701Z"
   },
   {
    "duration": 3,
    "start_time": "2025-03-16T23:33:30.706Z"
   },
   {
    "duration": 3,
    "start_time": "2025-03-16T23:33:30.711Z"
   },
   {
    "duration": 4,
    "start_time": "2025-03-16T23:33:30.715Z"
   },
   {
    "duration": 4,
    "start_time": "2025-03-16T23:33:30.720Z"
   },
   {
    "duration": 4,
    "start_time": "2025-03-16T23:33:30.725Z"
   },
   {
    "duration": 56,
    "start_time": "2025-03-16T23:33:30.730Z"
   },
   {
    "duration": 13,
    "start_time": "2025-03-16T23:33:30.789Z"
   },
   {
    "duration": 1894,
    "start_time": "2025-03-16T23:33:30.804Z"
   },
   {
    "duration": 233,
    "start_time": "2025-03-16T23:33:32.700Z"
   },
   {
    "duration": 258,
    "start_time": "2025-03-16T23:33:32.935Z"
   },
   {
    "duration": 8,
    "start_time": "2025-03-16T23:33:33.196Z"
   },
   {
    "duration": 5,
    "start_time": "2025-03-16T23:33:33.210Z"
   },
   {
    "duration": 3,
    "start_time": "2025-03-16T23:33:33.216Z"
   },
   {
    "duration": 7,
    "start_time": "2025-03-16T23:33:33.221Z"
   },
   {
    "duration": 7,
    "start_time": "2025-03-16T23:33:33.230Z"
   },
   {
    "duration": 627,
    "start_time": "2025-03-16T23:33:33.239Z"
   },
   {
    "duration": 111,
    "start_time": "2025-03-16T23:33:33.868Z"
   },
   {
    "duration": 4,
    "start_time": "2025-03-16T23:33:33.987Z"
   },
   {
    "duration": 14,
    "start_time": "2025-03-16T23:33:33.993Z"
   },
   {
    "duration": 457,
    "start_time": "2025-03-16T23:33:34.010Z"
   },
   {
    "duration": 7,
    "start_time": "2025-03-16T23:33:34.469Z"
   },
   {
    "duration": 8,
    "start_time": "2025-03-16T23:33:34.486Z"
   },
   {
    "duration": 9,
    "start_time": "2025-03-16T23:39:44.609Z"
   },
   {
    "duration": 9,
    "start_time": "2025-03-16T23:40:24.369Z"
   },
   {
    "duration": 296,
    "start_time": "2025-03-17T12:00:59.971Z"
   },
   {
    "duration": 236,
    "start_time": "2025-03-17T12:01:00.269Z"
   },
   {
    "duration": 74,
    "start_time": "2025-03-17T12:01:00.507Z"
   },
   {
    "duration": 319,
    "start_time": "2025-03-17T12:01:00.583Z"
   },
   {
    "duration": 21,
    "start_time": "2025-03-17T12:01:00.905Z"
   },
   {
    "duration": 10,
    "start_time": "2025-03-17T12:01:00.928Z"
   },
   {
    "duration": 12,
    "start_time": "2025-03-17T12:01:00.940Z"
   },
   {
    "duration": 9,
    "start_time": "2025-03-17T12:01:00.954Z"
   },
   {
    "duration": 4,
    "start_time": "2025-03-17T12:01:00.965Z"
   },
   {
    "duration": 6,
    "start_time": "2025-03-17T12:01:00.970Z"
   },
   {
    "duration": 3,
    "start_time": "2025-03-17T12:01:00.977Z"
   },
   {
    "duration": 4,
    "start_time": "2025-03-17T12:01:00.981Z"
   },
   {
    "duration": 4,
    "start_time": "2025-03-17T12:01:01.025Z"
   },
   {
    "duration": 3,
    "start_time": "2025-03-17T12:01:01.033Z"
   },
   {
    "duration": 4,
    "start_time": "2025-03-17T12:01:01.038Z"
   },
   {
    "duration": 478,
    "start_time": "2025-03-17T12:01:01.043Z"
   },
   {
    "duration": 4,
    "start_time": "2025-03-17T12:01:01.523Z"
   },
   {
    "duration": 5,
    "start_time": "2025-03-17T12:01:01.529Z"
   },
   {
    "duration": 4,
    "start_time": "2025-03-17T12:01:01.536Z"
   },
   {
    "duration": 3,
    "start_time": "2025-03-17T12:01:01.541Z"
   },
   {
    "duration": 9,
    "start_time": "2025-03-17T12:01:01.546Z"
   },
   {
    "duration": 6,
    "start_time": "2025-03-17T12:01:01.557Z"
   },
   {
    "duration": 5,
    "start_time": "2025-03-17T12:01:01.565Z"
   },
   {
    "duration": 4,
    "start_time": "2025-03-17T12:01:01.572Z"
   },
   {
    "duration": 47,
    "start_time": "2025-03-17T12:01:01.577Z"
   },
   {
    "duration": 3,
    "start_time": "2025-03-17T12:01:01.626Z"
   },
   {
    "duration": 4,
    "start_time": "2025-03-17T12:01:01.631Z"
   },
   {
    "duration": 2,
    "start_time": "2025-03-17T12:01:01.637Z"
   },
   {
    "duration": 3,
    "start_time": "2025-03-17T12:01:01.641Z"
   },
   {
    "duration": 3,
    "start_time": "2025-03-17T12:01:01.646Z"
   },
   {
    "duration": 3,
    "start_time": "2025-03-17T12:01:01.651Z"
   },
   {
    "duration": 3,
    "start_time": "2025-03-17T12:01:01.656Z"
   },
   {
    "duration": 3,
    "start_time": "2025-03-17T12:01:01.662Z"
   },
   {
    "duration": 3,
    "start_time": "2025-03-17T12:01:01.667Z"
   },
   {
    "duration": 55,
    "start_time": "2025-03-17T12:01:01.672Z"
   },
   {
    "duration": 12,
    "start_time": "2025-03-17T12:01:01.729Z"
   },
   {
    "duration": 1873,
    "start_time": "2025-03-17T12:01:01.743Z"
   },
   {
    "duration": 234,
    "start_time": "2025-03-17T12:01:03.618Z"
   },
   {
    "duration": 226,
    "start_time": "2025-03-17T12:01:03.855Z"
   },
   {
    "duration": 6,
    "start_time": "2025-03-17T12:01:04.082Z"
   },
   {
    "duration": 4,
    "start_time": "2025-03-17T12:01:04.093Z"
   },
   {
    "duration": 3,
    "start_time": "2025-03-17T12:01:04.098Z"
   },
   {
    "duration": 25,
    "start_time": "2025-03-17T12:01:04.103Z"
   },
   {
    "duration": 8,
    "start_time": "2025-03-17T12:01:04.129Z"
   },
   {
    "duration": 584,
    "start_time": "2025-03-17T12:01:04.139Z"
   },
   {
    "duration": 108,
    "start_time": "2025-03-17T12:01:04.725Z"
   },
   {
    "duration": 3,
    "start_time": "2025-03-17T12:01:04.835Z"
   },
   {
    "duration": 10,
    "start_time": "2025-03-17T12:01:04.840Z"
   },
   {
    "duration": 444,
    "start_time": "2025-03-17T12:01:04.851Z"
   },
   {
    "duration": 8,
    "start_time": "2025-03-17T12:01:05.296Z"
   },
   {
    "duration": 17,
    "start_time": "2025-03-17T12:01:05.307Z"
   },
   {
    "duration": 3,
    "start_time": "2025-03-17T12:02:13.460Z"
   },
   {
    "duration": 7,
    "start_time": "2025-03-17T12:02:17.880Z"
   },
   {
    "duration": 6,
    "start_time": "2025-03-17T12:04:20.000Z"
   },
   {
    "duration": 530,
    "start_time": "2025-03-17T12:09:01.752Z"
   },
   {
    "duration": 142,
    "start_time": "2025-03-17T12:10:02.657Z"
   },
   {
    "duration": 130,
    "start_time": "2025-03-17T12:10:21.960Z"
   },
   {
    "duration": 140,
    "start_time": "2025-03-17T12:19:59.624Z"
   },
   {
    "duration": 169,
    "start_time": "2025-03-17T12:34:41.751Z"
   },
   {
    "duration": 12,
    "start_time": "2025-03-17T12:34:52.854Z"
   },
   {
    "duration": 10,
    "start_time": "2025-03-17T12:35:11.278Z"
   },
   {
    "duration": 268,
    "start_time": "2025-03-17T12:36:19.008Z"
   },
   {
    "duration": 206,
    "start_time": "2025-03-17T12:36:19.278Z"
   },
   {
    "duration": 57,
    "start_time": "2025-03-17T12:36:19.486Z"
   },
   {
    "duration": 249,
    "start_time": "2025-03-17T12:36:19.545Z"
   },
   {
    "duration": 15,
    "start_time": "2025-03-17T12:36:19.797Z"
   },
   {
    "duration": 16,
    "start_time": "2025-03-17T12:36:19.815Z"
   },
   {
    "duration": 12,
    "start_time": "2025-03-17T12:36:19.832Z"
   },
   {
    "duration": 10,
    "start_time": "2025-03-17T12:36:19.846Z"
   },
   {
    "duration": 4,
    "start_time": "2025-03-17T12:36:19.857Z"
   },
   {
    "duration": 4,
    "start_time": "2025-03-17T12:36:19.863Z"
   },
   {
    "duration": 3,
    "start_time": "2025-03-17T12:36:19.869Z"
   },
   {
    "duration": 4,
    "start_time": "2025-03-17T12:36:19.874Z"
   },
   {
    "duration": 4,
    "start_time": "2025-03-17T12:36:19.879Z"
   },
   {
    "duration": 3,
    "start_time": "2025-03-17T12:36:19.925Z"
   },
   {
    "duration": 4,
    "start_time": "2025-03-17T12:36:19.929Z"
   },
   {
    "duration": 471,
    "start_time": "2025-03-17T12:36:19.935Z"
   },
   {
    "duration": 4,
    "start_time": "2025-03-17T12:36:20.408Z"
   },
   {
    "duration": 11,
    "start_time": "2025-03-17T12:36:20.413Z"
   },
   {
    "duration": 4,
    "start_time": "2025-03-17T12:36:20.426Z"
   },
   {
    "duration": 2,
    "start_time": "2025-03-17T12:36:20.431Z"
   },
   {
    "duration": 6,
    "start_time": "2025-03-17T12:36:20.435Z"
   },
   {
    "duration": 4,
    "start_time": "2025-03-17T12:36:20.443Z"
   },
   {
    "duration": 5,
    "start_time": "2025-03-17T12:36:20.448Z"
   },
   {
    "duration": 3,
    "start_time": "2025-03-17T12:36:20.454Z"
   },
   {
    "duration": 5,
    "start_time": "2025-03-17T12:36:20.458Z"
   },
   {
    "duration": 3,
    "start_time": "2025-03-17T12:36:20.465Z"
   },
   {
    "duration": 55,
    "start_time": "2025-03-17T12:36:20.470Z"
   },
   {
    "duration": 3,
    "start_time": "2025-03-17T12:36:20.526Z"
   },
   {
    "duration": 3,
    "start_time": "2025-03-17T12:36:20.531Z"
   },
   {
    "duration": 3,
    "start_time": "2025-03-17T12:36:20.535Z"
   },
   {
    "duration": 3,
    "start_time": "2025-03-17T12:36:20.540Z"
   },
   {
    "duration": 2,
    "start_time": "2025-03-17T12:36:20.545Z"
   },
   {
    "duration": 4,
    "start_time": "2025-03-17T12:36:20.549Z"
   },
   {
    "duration": 4,
    "start_time": "2025-03-17T12:36:20.554Z"
   },
   {
    "duration": 11,
    "start_time": "2025-03-17T12:36:20.560Z"
   },
   {
    "duration": 52,
    "start_time": "2025-03-17T12:36:20.572Z"
   },
   {
    "duration": 125,
    "start_time": "2025-03-17T12:36:20.626Z"
   },
   {
    "duration": 279,
    "start_time": "2025-03-17T12:36:20.753Z"
   },
   {
    "duration": 219,
    "start_time": "2025-03-17T12:36:21.035Z"
   },
   {
    "duration": 5,
    "start_time": "2025-03-17T12:36:21.256Z"
   },
   {
    "duration": 4,
    "start_time": "2025-03-17T12:36:21.266Z"
   },
   {
    "duration": 2,
    "start_time": "2025-03-17T12:36:21.272Z"
   },
   {
    "duration": 6,
    "start_time": "2025-03-17T12:36:21.275Z"
   },
   {
    "duration": 10,
    "start_time": "2025-03-17T12:36:21.283Z"
   },
   {
    "duration": 632,
    "start_time": "2025-03-17T12:36:21.294Z"
   },
   {
    "duration": 114,
    "start_time": "2025-03-17T12:36:21.928Z"
   },
   {
    "duration": 3,
    "start_time": "2025-03-17T12:36:22.044Z"
   },
   {
    "duration": 10,
    "start_time": "2025-03-17T12:36:22.048Z"
   },
   {
    "duration": 362,
    "start_time": "2025-03-17T12:36:22.059Z"
   },
   {
    "duration": 8,
    "start_time": "2025-03-17T12:36:22.424Z"
   },
   {
    "duration": 163,
    "start_time": "2025-03-17T12:36:22.433Z"
   },
   {
    "duration": 178,
    "start_time": "2025-03-17T12:36:22.598Z"
   },
   {
    "duration": 12,
    "start_time": "2025-03-17T12:36:22.778Z"
   },
   {
    "duration": 13,
    "start_time": "2025-03-17T12:36:38.467Z"
   },
   {
    "duration": 8,
    "start_time": "2025-03-17T13:08:22.991Z"
   },
   {
    "duration": 323,
    "start_time": "2025-03-17T13:11:53.404Z"
   },
   {
    "duration": 9,
    "start_time": "2025-03-17T13:12:28.508Z"
   },
   {
    "duration": 20,
    "start_time": "2025-03-17T13:12:51.016Z"
   },
   {
    "duration": 3,
    "start_time": "2025-03-17T13:13:16.187Z"
   },
   {
    "duration": 314,
    "start_time": "2025-03-17T13:20:10.458Z"
   },
   {
    "duration": 2,
    "start_time": "2025-03-17T13:20:36.794Z"
   },
   {
    "duration": 4,
    "start_time": "2025-03-17T13:20:44.232Z"
   },
   {
    "duration": 165,
    "start_time": "2025-03-17T13:21:28.681Z"
   },
   {
    "duration": 3,
    "start_time": "2025-03-17T13:21:36.631Z"
   },
   {
    "duration": 4,
    "start_time": "2025-03-17T13:21:58.993Z"
   },
   {
    "duration": 510,
    "start_time": "2025-03-17T13:22:14.720Z"
   },
   {
    "duration": 38,
    "start_time": "2025-03-17T13:24:54.428Z"
   },
   {
    "duration": 4,
    "start_time": "2025-03-17T13:25:28.529Z"
   },
   {
    "duration": 2,
    "start_time": "2025-03-17T13:25:32.074Z"
   },
   {
    "duration": 3,
    "start_time": "2025-03-17T13:25:45.647Z"
   },
   {
    "duration": 35,
    "start_time": "2025-03-17T13:26:35.683Z"
   },
   {
    "duration": 109,
    "start_time": "2025-03-17T13:26:40.245Z"
   },
   {
    "duration": 37,
    "start_time": "2025-03-17T13:26:53.021Z"
   },
   {
    "duration": 5,
    "start_time": "2025-03-17T13:28:04.520Z"
   },
   {
    "duration": 22,
    "start_time": "2025-03-17T13:28:25.355Z"
   },
   {
    "duration": 37,
    "start_time": "2025-03-17T13:28:36.090Z"
   },
   {
    "duration": 4,
    "start_time": "2025-03-17T13:28:39.888Z"
   },
   {
    "duration": 4,
    "start_time": "2025-03-17T13:28:45.560Z"
   },
   {
    "duration": 11,
    "start_time": "2025-03-17T13:29:15.024Z"
   },
   {
    "duration": 4,
    "start_time": "2025-03-17T13:31:28.541Z"
   },
   {
    "duration": 5,
    "start_time": "2025-03-17T13:32:07.551Z"
   },
   {
    "duration": 5,
    "start_time": "2025-03-17T13:34:16.755Z"
   },
   {
    "duration": 326,
    "start_time": "2025-03-17T13:36:19.265Z"
   },
   {
    "duration": 214,
    "start_time": "2025-03-17T13:36:19.593Z"
   },
   {
    "duration": 60,
    "start_time": "2025-03-17T13:36:19.809Z"
   },
   {
    "duration": 271,
    "start_time": "2025-03-17T13:36:19.871Z"
   },
   {
    "duration": 16,
    "start_time": "2025-03-17T13:36:20.145Z"
   },
   {
    "duration": 11,
    "start_time": "2025-03-17T13:36:20.163Z"
   },
   {
    "duration": 14,
    "start_time": "2025-03-17T13:36:20.176Z"
   },
   {
    "duration": 38,
    "start_time": "2025-03-17T13:36:20.192Z"
   },
   {
    "duration": 5,
    "start_time": "2025-03-17T13:36:20.232Z"
   },
   {
    "duration": 6,
    "start_time": "2025-03-17T13:36:20.238Z"
   },
   {
    "duration": 3,
    "start_time": "2025-03-17T13:36:20.248Z"
   },
   {
    "duration": 3,
    "start_time": "2025-03-17T13:36:20.253Z"
   },
   {
    "duration": 5,
    "start_time": "2025-03-17T13:36:20.259Z"
   },
   {
    "duration": 6,
    "start_time": "2025-03-17T13:36:20.270Z"
   },
   {
    "duration": 4,
    "start_time": "2025-03-17T13:36:20.277Z"
   },
   {
    "duration": 530,
    "start_time": "2025-03-17T13:36:20.283Z"
   },
   {
    "duration": 5,
    "start_time": "2025-03-17T13:36:20.814Z"
   },
   {
    "duration": 5,
    "start_time": "2025-03-17T13:36:20.824Z"
   },
   {
    "duration": 6,
    "start_time": "2025-03-17T13:36:20.831Z"
   },
   {
    "duration": 3,
    "start_time": "2025-03-17T13:36:20.839Z"
   },
   {
    "duration": 7,
    "start_time": "2025-03-17T13:36:20.843Z"
   },
   {
    "duration": 5,
    "start_time": "2025-03-17T13:36:20.851Z"
   },
   {
    "duration": 5,
    "start_time": "2025-03-17T13:36:20.857Z"
   },
   {
    "duration": 4,
    "start_time": "2025-03-17T13:36:20.863Z"
   },
   {
    "duration": 4,
    "start_time": "2025-03-17T13:36:20.868Z"
   },
   {
    "duration": 51,
    "start_time": "2025-03-17T13:36:20.874Z"
   },
   {
    "duration": 6,
    "start_time": "2025-03-17T13:36:20.927Z"
   },
   {
    "duration": 3,
    "start_time": "2025-03-17T13:36:20.934Z"
   },
   {
    "duration": 4,
    "start_time": "2025-03-17T13:36:20.939Z"
   },
   {
    "duration": 4,
    "start_time": "2025-03-17T13:36:20.944Z"
   },
   {
    "duration": 3,
    "start_time": "2025-03-17T13:36:20.949Z"
   },
   {
    "duration": 3,
    "start_time": "2025-03-17T13:36:20.954Z"
   },
   {
    "duration": 3,
    "start_time": "2025-03-17T13:36:20.959Z"
   },
   {
    "duration": 3,
    "start_time": "2025-03-17T13:36:20.964Z"
   },
   {
    "duration": 10,
    "start_time": "2025-03-17T13:36:20.969Z"
   },
   {
    "duration": 54,
    "start_time": "2025-03-17T13:36:20.981Z"
   },
   {
    "duration": 152,
    "start_time": "2025-03-17T13:36:21.037Z"
   },
   {
    "duration": 304,
    "start_time": "2025-03-17T13:36:21.192Z"
   },
   {
    "duration": 224,
    "start_time": "2025-03-17T13:36:21.498Z"
   },
   {
    "duration": 7,
    "start_time": "2025-03-17T13:36:21.724Z"
   },
   {
    "duration": 5,
    "start_time": "2025-03-17T13:36:21.735Z"
   },
   {
    "duration": 3,
    "start_time": "2025-03-17T13:36:21.741Z"
   },
   {
    "duration": 7,
    "start_time": "2025-03-17T13:36:21.746Z"
   },
   {
    "duration": 7,
    "start_time": "2025-03-17T13:36:21.755Z"
   },
   {
    "duration": 625,
    "start_time": "2025-03-17T13:36:21.764Z"
   },
   {
    "duration": 114,
    "start_time": "2025-03-17T13:36:22.391Z"
   },
   {
    "duration": 3,
    "start_time": "2025-03-17T13:36:22.508Z"
   },
   {
    "duration": 20,
    "start_time": "2025-03-17T13:36:22.513Z"
   },
   {
    "duration": 406,
    "start_time": "2025-03-17T13:36:22.535Z"
   },
   {
    "duration": 8,
    "start_time": "2025-03-17T13:36:22.943Z"
   },
   {
    "duration": 160,
    "start_time": "2025-03-17T13:36:22.954Z"
   },
   {
    "duration": 174,
    "start_time": "2025-03-17T13:36:23.116Z"
   },
   {
    "duration": 13,
    "start_time": "2025-03-17T13:36:23.292Z"
   },
   {
    "duration": 48,
    "start_time": "2025-03-17T13:36:23.307Z"
   },
   {
    "duration": 4,
    "start_time": "2025-03-17T13:36:23.356Z"
   },
   {
    "duration": 3,
    "start_time": "2025-03-17T13:36:23.361Z"
   },
   {
    "duration": 5,
    "start_time": "2025-03-17T13:36:23.367Z"
   },
   {
    "duration": 6,
    "start_time": "2025-03-17T13:36:23.374Z"
   },
   {
    "duration": 0,
    "start_time": "2025-03-17T13:36:23.382Z"
   },
   {
    "duration": 2,
    "start_time": "2025-03-17T13:37:14.434Z"
   },
   {
    "duration": 3,
    "start_time": "2025-03-17T13:38:29.201Z"
   },
   {
    "duration": 96,
    "start_time": "2025-03-17T13:40:32.376Z"
   },
   {
    "duration": 3,
    "start_time": "2025-03-17T13:40:49.052Z"
   },
   {
    "duration": 88,
    "start_time": "2025-03-17T13:41:15.841Z"
   },
   {
    "duration": 4,
    "start_time": "2025-03-17T13:46:11.273Z"
   },
   {
    "duration": 5,
    "start_time": "2025-03-17T13:46:29.288Z"
   },
   {
    "duration": 282,
    "start_time": "2025-03-17T13:48:48.797Z"
   },
   {
    "duration": 14,
    "start_time": "2025-03-17T13:48:56.876Z"
   },
   {
    "duration": 21,
    "start_time": "2025-03-17T13:49:45.839Z"
   },
   {
    "duration": 12,
    "start_time": "2025-03-17T13:49:57.981Z"
   },
   {
    "duration": 19,
    "start_time": "2025-03-17T13:50:02.316Z"
   },
   {
    "duration": 16,
    "start_time": "2025-03-17T13:50:58.359Z"
   },
   {
    "duration": 6,
    "start_time": "2025-03-17T13:51:03.659Z"
   },
   {
    "duration": 287,
    "start_time": "2025-03-17T13:51:38.288Z"
   },
   {
    "duration": 219,
    "start_time": "2025-03-17T13:51:38.577Z"
   },
   {
    "duration": 54,
    "start_time": "2025-03-17T13:51:38.798Z"
   },
   {
    "duration": 248,
    "start_time": "2025-03-17T13:51:38.854Z"
   },
   {
    "duration": 20,
    "start_time": "2025-03-17T13:51:39.104Z"
   },
   {
    "duration": 11,
    "start_time": "2025-03-17T13:51:39.125Z"
   },
   {
    "duration": 13,
    "start_time": "2025-03-17T13:51:39.138Z"
   },
   {
    "duration": 9,
    "start_time": "2025-03-17T13:51:39.153Z"
   },
   {
    "duration": 3,
    "start_time": "2025-03-17T13:51:39.165Z"
   },
   {
    "duration": 4,
    "start_time": "2025-03-17T13:51:39.172Z"
   },
   {
    "duration": 3,
    "start_time": "2025-03-17T13:51:39.177Z"
   },
   {
    "duration": 2,
    "start_time": "2025-03-17T13:51:39.182Z"
   },
   {
    "duration": 40,
    "start_time": "2025-03-17T13:51:39.186Z"
   },
   {
    "duration": 3,
    "start_time": "2025-03-17T13:51:39.228Z"
   },
   {
    "duration": 4,
    "start_time": "2025-03-17T13:51:39.233Z"
   },
   {
    "duration": 464,
    "start_time": "2025-03-17T13:51:39.238Z"
   },
   {
    "duration": 5,
    "start_time": "2025-03-17T13:51:39.704Z"
   },
   {
    "duration": 5,
    "start_time": "2025-03-17T13:51:39.711Z"
   },
   {
    "duration": 4,
    "start_time": "2025-03-17T13:51:39.725Z"
   },
   {
    "duration": 3,
    "start_time": "2025-03-17T13:51:39.731Z"
   },
   {
    "duration": 7,
    "start_time": "2025-03-17T13:51:39.735Z"
   },
   {
    "duration": 4,
    "start_time": "2025-03-17T13:51:39.744Z"
   },
   {
    "duration": 4,
    "start_time": "2025-03-17T13:51:39.750Z"
   },
   {
    "duration": 4,
    "start_time": "2025-03-17T13:51:39.755Z"
   },
   {
    "duration": 3,
    "start_time": "2025-03-17T13:51:39.761Z"
   },
   {
    "duration": 6,
    "start_time": "2025-03-17T13:51:39.765Z"
   },
   {
    "duration": 51,
    "start_time": "2025-03-17T13:51:39.772Z"
   },
   {
    "duration": 2,
    "start_time": "2025-03-17T13:51:39.828Z"
   },
   {
    "duration": 3,
    "start_time": "2025-03-17T13:51:39.832Z"
   },
   {
    "duration": 3,
    "start_time": "2025-03-17T13:51:39.837Z"
   },
   {
    "duration": 3,
    "start_time": "2025-03-17T13:51:39.842Z"
   },
   {
    "duration": 2,
    "start_time": "2025-03-17T13:51:39.847Z"
   },
   {
    "duration": 3,
    "start_time": "2025-03-17T13:51:39.851Z"
   },
   {
    "duration": 3,
    "start_time": "2025-03-17T13:51:39.856Z"
   },
   {
    "duration": 5,
    "start_time": "2025-03-17T13:51:39.861Z"
   },
   {
    "duration": 6,
    "start_time": "2025-03-17T13:51:39.868Z"
   },
   {
    "duration": 49,
    "start_time": "2025-03-17T13:51:39.875Z"
   },
   {
    "duration": 12,
    "start_time": "2025-03-17T13:51:39.926Z"
   },
   {
    "duration": 137,
    "start_time": "2025-03-17T13:51:39.939Z"
   },
   {
    "duration": 264,
    "start_time": "2025-03-17T13:51:40.077Z"
   },
   {
    "duration": 218,
    "start_time": "2025-03-17T13:51:40.343Z"
   },
   {
    "duration": 5,
    "start_time": "2025-03-17T13:51:40.564Z"
   },
   {
    "duration": 12,
    "start_time": "2025-03-17T13:51:40.570Z"
   },
   {
    "duration": 3,
    "start_time": "2025-03-17T13:51:40.583Z"
   },
   {
    "duration": 7,
    "start_time": "2025-03-17T13:51:40.587Z"
   },
   {
    "duration": 7,
    "start_time": "2025-03-17T13:51:40.595Z"
   },
   {
    "duration": 584,
    "start_time": "2025-03-17T13:51:40.624Z"
   },
   {
    "duration": 116,
    "start_time": "2025-03-17T13:51:41.210Z"
   },
   {
    "duration": 3,
    "start_time": "2025-03-17T13:51:41.329Z"
   },
   {
    "duration": 9,
    "start_time": "2025-03-17T13:51:41.334Z"
   },
   {
    "duration": 420,
    "start_time": "2025-03-17T13:51:41.345Z"
   },
   {
    "duration": 7,
    "start_time": "2025-03-17T13:51:41.766Z"
   },
   {
    "duration": 158,
    "start_time": "2025-03-17T13:51:41.776Z"
   },
   {
    "duration": 168,
    "start_time": "2025-03-17T13:51:41.936Z"
   },
   {
    "duration": 11,
    "start_time": "2025-03-17T13:51:42.105Z"
   },
   {
    "duration": 33,
    "start_time": "2025-03-17T13:51:42.125Z"
   },
   {
    "duration": 3,
    "start_time": "2025-03-17T13:51:42.159Z"
   },
   {
    "duration": 3,
    "start_time": "2025-03-17T13:51:42.163Z"
   },
   {
    "duration": 5,
    "start_time": "2025-03-17T13:51:42.168Z"
   },
   {
    "duration": 4,
    "start_time": "2025-03-17T13:51:42.174Z"
   },
   {
    "duration": 3,
    "start_time": "2025-03-17T13:51:42.179Z"
   },
   {
    "duration": 330869,
    "start_time": "2025-03-17T13:51:42.184Z"
   },
   {
    "duration": 1645,
    "start_time": "2025-03-17T14:44:59.924Z"
   },
   {
    "duration": 1402,
    "start_time": "2025-03-17T14:45:17.102Z"
   },
   {
    "duration": 1399,
    "start_time": "2025-03-17T14:48:49.081Z"
   },
   {
    "duration": 3986,
    "start_time": "2025-03-17T14:49:20.516Z"
   },
   {
    "duration": 412790,
    "start_time": "2025-03-17T15:07:58.340Z"
   },
   {
    "duration": 5,
    "start_time": "2025-03-17T15:14:51.132Z"
   },
   {
    "duration": 69251,
    "start_time": "2025-03-17T15:29:35.618Z"
   },
   {
    "duration": 4,
    "start_time": "2025-03-17T15:30:44.871Z"
   },
   {
    "duration": 16,
    "start_time": "2025-03-17T16:13:22.873Z"
   },
   {
    "duration": 4,
    "start_time": "2025-03-17T16:14:07.966Z"
   },
   {
    "duration": 4,
    "start_time": "2025-03-17T16:14:18.199Z"
   },
   {
    "duration": 8032,
    "start_time": "2025-03-17T16:14:23.058Z"
   },
   {
    "duration": 47301,
    "start_time": "2025-03-17T16:19:37.663Z"
   },
   {
    "duration": 55,
    "start_time": "2025-03-17T16:28:10.295Z"
   },
   {
    "duration": 200,
    "start_time": "2025-03-17T16:28:49.232Z"
   },
   {
    "duration": 291,
    "start_time": "2025-03-17T16:33:13.035Z"
   },
   {
    "duration": 16,
    "start_time": "2025-03-17T16:33:37.370Z"
   },
   {
    "duration": 306,
    "start_time": "2025-03-17T16:33:52.222Z"
   },
   {
    "duration": 237,
    "start_time": "2025-03-17T16:34:03.096Z"
   },
   {
    "duration": 3,
    "start_time": "2025-03-17T16:50:58.930Z"
   },
   {
    "duration": 3,
    "start_time": "2025-03-17T16:51:42.860Z"
   },
   {
    "duration": 14963,
    "start_time": "2025-03-17T16:56:56.136Z"
   },
   {
    "duration": 4,
    "start_time": "2025-03-17T16:57:11.101Z"
   },
   {
    "duration": 4,
    "start_time": "2025-03-17T16:57:16.125Z"
   },
   {
    "duration": 4,
    "start_time": "2025-03-17T16:57:47.103Z"
   },
   {
    "duration": 4,
    "start_time": "2025-03-17T17:00:41.435Z"
   },
   {
    "duration": 15,
    "start_time": "2025-03-17T17:05:59.033Z"
   },
   {
    "duration": 137,
    "start_time": "2025-03-17T17:06:13.499Z"
   },
   {
    "duration": 188,
    "start_time": "2025-03-17T17:06:36.847Z"
   },
   {
    "duration": 14,
    "start_time": "2025-03-17T17:08:03.543Z"
   },
   {
    "duration": 52,
    "start_time": "2025-03-17T17:08:12.749Z"
   },
   {
    "duration": 8033,
    "start_time": "2025-03-17T17:19:29.384Z"
   },
   {
    "duration": 47804,
    "start_time": "2025-03-17T17:20:45.937Z"
   },
   {
    "duration": 96,
    "start_time": "2025-03-17T17:21:33.743Z"
   },
   {
    "duration": 107,
    "start_time": "2025-03-17T17:32:03.044Z"
   },
   {
    "duration": 15,
    "start_time": "2025-03-17T17:33:30.838Z"
   },
   {
    "duration": 2,
    "start_time": "2025-03-17T17:33:41.232Z"
   },
   {
    "duration": 7,
    "start_time": "2025-03-17T17:34:09.243Z"
   },
   {
    "duration": 11,
    "start_time": "2025-03-17T17:35:03.157Z"
   },
   {
    "duration": 6,
    "start_time": "2025-03-17T17:42:38.270Z"
   },
   {
    "duration": 6,
    "start_time": "2025-03-17T17:42:53.459Z"
   },
   {
    "duration": 7,
    "start_time": "2025-03-17T17:42:59.141Z"
   },
   {
    "duration": 7,
    "start_time": "2025-03-17T17:43:22.663Z"
   },
   {
    "duration": 4,
    "start_time": "2025-03-17T17:43:50.605Z"
   },
   {
    "duration": 3,
    "start_time": "2025-03-17T17:44:12.167Z"
   },
   {
    "duration": 7,
    "start_time": "2025-03-17T17:46:43.447Z"
   },
   {
    "duration": 8,
    "start_time": "2025-03-17T17:46:59.738Z"
   },
   {
    "duration": 6,
    "start_time": "2025-03-17T17:47:42.087Z"
   },
   {
    "duration": 5,
    "start_time": "2025-03-17T17:48:00.513Z"
   },
   {
    "duration": 6,
    "start_time": "2025-03-17T17:48:20.208Z"
   },
   {
    "duration": 7,
    "start_time": "2025-03-17T17:48:27.388Z"
   },
   {
    "duration": 9,
    "start_time": "2025-03-17T17:48:41.743Z"
   },
   {
    "duration": 24,
    "start_time": "2025-03-17T17:52:38.725Z"
   },
   {
    "duration": 5,
    "start_time": "2025-03-17T17:52:55.466Z"
   },
   {
    "duration": 713,
    "start_time": "2025-03-17T17:53:11.686Z"
   },
   {
    "duration": 37,
    "start_time": "2025-03-17T17:53:24.922Z"
   },
   {
    "duration": 39,
    "start_time": "2025-03-17T17:53:41.967Z"
   },
   {
    "duration": 36,
    "start_time": "2025-03-17T17:53:53.209Z"
   },
   {
    "duration": 36,
    "start_time": "2025-03-17T17:54:11.730Z"
   },
   {
    "duration": 8,
    "start_time": "2025-03-17T17:54:27.850Z"
   },
   {
    "duration": 83,
    "start_time": "2025-03-17T17:58:50.416Z"
   },
   {
    "duration": 307,
    "start_time": "2025-03-17T18:00:24.818Z"
   },
   {
    "duration": 218,
    "start_time": "2025-03-17T18:00:25.127Z"
   },
   {
    "duration": 50,
    "start_time": "2025-03-17T18:00:25.346Z"
   },
   {
    "duration": 287,
    "start_time": "2025-03-17T18:00:25.398Z"
   },
   {
    "duration": 14,
    "start_time": "2025-03-17T18:00:25.689Z"
   },
   {
    "duration": 25,
    "start_time": "2025-03-17T18:00:25.705Z"
   },
   {
    "duration": 13,
    "start_time": "2025-03-17T18:00:25.734Z"
   },
   {
    "duration": 9,
    "start_time": "2025-03-17T18:00:25.750Z"
   },
   {
    "duration": 4,
    "start_time": "2025-03-17T18:00:25.761Z"
   },
   {
    "duration": 4,
    "start_time": "2025-03-17T18:00:25.767Z"
   },
   {
    "duration": 4,
    "start_time": "2025-03-17T18:00:25.772Z"
   },
   {
    "duration": 3,
    "start_time": "2025-03-17T18:00:25.777Z"
   },
   {
    "duration": 6,
    "start_time": "2025-03-17T18:00:25.781Z"
   },
   {
    "duration": 3,
    "start_time": "2025-03-17T18:00:25.825Z"
   },
   {
    "duration": 4,
    "start_time": "2025-03-17T18:00:25.830Z"
   },
   {
    "duration": 482,
    "start_time": "2025-03-17T18:00:25.835Z"
   },
   {
    "duration": 6,
    "start_time": "2025-03-17T18:00:26.319Z"
   },
   {
    "duration": 5,
    "start_time": "2025-03-17T18:00:26.327Z"
   },
   {
    "duration": 5,
    "start_time": "2025-03-17T18:00:26.333Z"
   },
   {
    "duration": 3,
    "start_time": "2025-03-17T18:00:26.339Z"
   },
   {
    "duration": 6,
    "start_time": "2025-03-17T18:00:26.343Z"
   },
   {
    "duration": 4,
    "start_time": "2025-03-17T18:00:26.351Z"
   },
   {
    "duration": 5,
    "start_time": "2025-03-17T18:00:26.356Z"
   },
   {
    "duration": 3,
    "start_time": "2025-03-17T18:00:26.362Z"
   },
   {
    "duration": 4,
    "start_time": "2025-03-17T18:00:26.367Z"
   },
   {
    "duration": 51,
    "start_time": "2025-03-17T18:00:26.373Z"
   },
   {
    "duration": 5,
    "start_time": "2025-03-17T18:00:26.426Z"
   },
   {
    "duration": 3,
    "start_time": "2025-03-17T18:00:26.432Z"
   },
   {
    "duration": 3,
    "start_time": "2025-03-17T18:00:26.437Z"
   },
   {
    "duration": 3,
    "start_time": "2025-03-17T18:00:26.442Z"
   },
   {
    "duration": 3,
    "start_time": "2025-03-17T18:00:26.447Z"
   },
   {
    "duration": 4,
    "start_time": "2025-03-17T18:00:26.451Z"
   },
   {
    "duration": 4,
    "start_time": "2025-03-17T18:00:26.457Z"
   },
   {
    "duration": 3,
    "start_time": "2025-03-17T18:00:26.463Z"
   },
   {
    "duration": 4,
    "start_time": "2025-03-17T18:00:26.468Z"
   },
   {
    "duration": 51,
    "start_time": "2025-03-17T18:00:26.473Z"
   },
   {
    "duration": 8,
    "start_time": "2025-03-17T18:00:26.526Z"
   },
   {
    "duration": 13,
    "start_time": "2025-03-17T18:00:26.535Z"
   },
   {
    "duration": 147,
    "start_time": "2025-03-17T18:00:26.550Z"
   },
   {
    "duration": 256,
    "start_time": "2025-03-17T18:00:26.699Z"
   },
   {
    "duration": 227,
    "start_time": "2025-03-17T18:00:26.960Z"
   },
   {
    "duration": 5,
    "start_time": "2025-03-17T18:00:27.188Z"
   },
   {
    "duration": 4,
    "start_time": "2025-03-17T18:00:27.195Z"
   },
   {
    "duration": 4,
    "start_time": "2025-03-17T18:00:27.200Z"
   },
   {
    "duration": 22,
    "start_time": "2025-03-17T18:00:27.206Z"
   },
   {
    "duration": 7,
    "start_time": "2025-03-17T18:00:27.230Z"
   },
   {
    "duration": 619,
    "start_time": "2025-03-17T18:00:27.239Z"
   },
   {
    "duration": 115,
    "start_time": "2025-03-17T18:00:27.860Z"
   },
   {
    "duration": 3,
    "start_time": "2025-03-17T18:00:27.978Z"
   },
   {
    "duration": 8,
    "start_time": "2025-03-17T18:00:27.983Z"
   },
   {
    "duration": 416,
    "start_time": "2025-03-17T18:00:27.993Z"
   },
   {
    "duration": 16,
    "start_time": "2025-03-17T18:00:28.411Z"
   },
   {
    "duration": 142,
    "start_time": "2025-03-17T18:00:28.428Z"
   },
   {
    "duration": 171,
    "start_time": "2025-03-17T18:00:28.572Z"
   },
   {
    "duration": 12,
    "start_time": "2025-03-17T18:00:28.745Z"
   },
   {
    "duration": 34,
    "start_time": "2025-03-17T18:00:28.758Z"
   },
   {
    "duration": 3,
    "start_time": "2025-03-17T18:00:28.793Z"
   },
   {
    "duration": 2,
    "start_time": "2025-03-17T18:00:28.798Z"
   },
   {
    "duration": 3,
    "start_time": "2025-03-17T18:00:28.824Z"
   },
   {
    "duration": 3,
    "start_time": "2025-03-17T18:00:28.829Z"
   },
   {
    "duration": 532,
    "start_time": "2025-03-17T18:00:28.834Z"
   },
   {
    "duration": 0,
    "start_time": "2025-03-17T18:00:29.368Z"
   },
   {
    "duration": 0,
    "start_time": "2025-03-17T18:00:29.370Z"
   },
   {
    "duration": 0,
    "start_time": "2025-03-17T18:00:29.372Z"
   },
   {
    "duration": 0,
    "start_time": "2025-03-17T18:00:29.373Z"
   },
   {
    "duration": 0,
    "start_time": "2025-03-17T18:00:29.375Z"
   },
   {
    "duration": 0,
    "start_time": "2025-03-17T18:00:29.376Z"
   },
   {
    "duration": 0,
    "start_time": "2025-03-17T18:00:29.377Z"
   },
   {
    "duration": 0,
    "start_time": "2025-03-17T18:00:29.378Z"
   },
   {
    "duration": 0,
    "start_time": "2025-03-17T18:00:29.380Z"
   },
   {
    "duration": 0,
    "start_time": "2025-03-17T18:00:29.381Z"
   },
   {
    "duration": 0,
    "start_time": "2025-03-17T18:00:29.383Z"
   },
   {
    "duration": 0,
    "start_time": "2025-03-17T18:00:29.385Z"
   },
   {
    "duration": 0,
    "start_time": "2025-03-17T18:00:29.387Z"
   },
   {
    "duration": 0,
    "start_time": "2025-03-17T18:00:29.388Z"
   },
   {
    "duration": 0,
    "start_time": "2025-03-17T18:00:29.390Z"
   },
   {
    "duration": 0,
    "start_time": "2025-03-17T18:00:29.423Z"
   },
   {
    "duration": 0,
    "start_time": "2025-03-17T18:00:29.424Z"
   },
   {
    "duration": 285,
    "start_time": "2025-03-17T18:01:50.096Z"
   },
   {
    "duration": 206,
    "start_time": "2025-03-17T18:01:50.384Z"
   },
   {
    "duration": 53,
    "start_time": "2025-03-17T18:01:50.592Z"
   },
   {
    "duration": 288,
    "start_time": "2025-03-17T18:01:50.647Z"
   },
   {
    "duration": 13,
    "start_time": "2025-03-17T18:01:50.938Z"
   },
   {
    "duration": 10,
    "start_time": "2025-03-17T18:01:50.953Z"
   },
   {
    "duration": 12,
    "start_time": "2025-03-17T18:01:50.965Z"
   },
   {
    "duration": 8,
    "start_time": "2025-03-17T18:01:50.979Z"
   },
   {
    "duration": 4,
    "start_time": "2025-03-17T18:01:50.988Z"
   },
   {
    "duration": 32,
    "start_time": "2025-03-17T18:01:50.993Z"
   },
   {
    "duration": 3,
    "start_time": "2025-03-17T18:01:51.026Z"
   },
   {
    "duration": 3,
    "start_time": "2025-03-17T18:01:51.031Z"
   },
   {
    "duration": 6,
    "start_time": "2025-03-17T18:01:51.036Z"
   },
   {
    "duration": 3,
    "start_time": "2025-03-17T18:01:51.046Z"
   },
   {
    "duration": 4,
    "start_time": "2025-03-17T18:01:51.050Z"
   },
   {
    "duration": 458,
    "start_time": "2025-03-17T18:01:51.056Z"
   },
   {
    "duration": 4,
    "start_time": "2025-03-17T18:01:51.515Z"
   },
   {
    "duration": 5,
    "start_time": "2025-03-17T18:01:51.524Z"
   },
   {
    "duration": 4,
    "start_time": "2025-03-17T18:01:51.531Z"
   },
   {
    "duration": 3,
    "start_time": "2025-03-17T18:01:51.536Z"
   },
   {
    "duration": 6,
    "start_time": "2025-03-17T18:01:51.541Z"
   },
   {
    "duration": 4,
    "start_time": "2025-03-17T18:01:51.549Z"
   },
   {
    "duration": 4,
    "start_time": "2025-03-17T18:01:51.554Z"
   },
   {
    "duration": 3,
    "start_time": "2025-03-17T18:01:51.561Z"
   },
   {
    "duration": 4,
    "start_time": "2025-03-17T18:01:51.565Z"
   },
   {
    "duration": 4,
    "start_time": "2025-03-17T18:01:51.571Z"
   },
   {
    "duration": 5,
    "start_time": "2025-03-17T18:01:51.623Z"
   },
   {
    "duration": 3,
    "start_time": "2025-03-17T18:01:51.629Z"
   },
   {
    "duration": 4,
    "start_time": "2025-03-17T18:01:51.633Z"
   },
   {
    "duration": 3,
    "start_time": "2025-03-17T18:01:51.639Z"
   },
   {
    "duration": 3,
    "start_time": "2025-03-17T18:01:51.644Z"
   },
   {
    "duration": 3,
    "start_time": "2025-03-17T18:01:51.649Z"
   },
   {
    "duration": 4,
    "start_time": "2025-03-17T18:01:51.653Z"
   },
   {
    "duration": 5,
    "start_time": "2025-03-17T18:01:51.658Z"
   },
   {
    "duration": 5,
    "start_time": "2025-03-17T18:01:51.664Z"
   },
   {
    "duration": 9,
    "start_time": "2025-03-17T18:01:51.670Z"
   },
   {
    "duration": 48,
    "start_time": "2025-03-17T18:01:51.681Z"
   },
   {
    "duration": 11,
    "start_time": "2025-03-17T18:01:51.730Z"
   },
   {
    "duration": 142,
    "start_time": "2025-03-17T18:01:51.744Z"
   },
   {
    "duration": 262,
    "start_time": "2025-03-17T18:01:51.888Z"
   },
   {
    "duration": 239,
    "start_time": "2025-03-17T18:01:52.157Z"
   },
   {
    "duration": 5,
    "start_time": "2025-03-17T18:01:52.399Z"
   },
   {
    "duration": 3,
    "start_time": "2025-03-17T18:01:52.406Z"
   },
   {
    "duration": 3,
    "start_time": "2025-03-17T18:01:52.424Z"
   },
   {
    "duration": 6,
    "start_time": "2025-03-17T18:01:52.429Z"
   },
   {
    "duration": 7,
    "start_time": "2025-03-17T18:01:52.436Z"
   },
   {
    "duration": 594,
    "start_time": "2025-03-17T18:01:52.445Z"
   },
   {
    "duration": 113,
    "start_time": "2025-03-17T18:01:53.041Z"
   },
   {
    "duration": 4,
    "start_time": "2025-03-17T18:01:53.155Z"
   },
   {
    "duration": 10,
    "start_time": "2025-03-17T18:01:53.160Z"
   },
   {
    "duration": 346,
    "start_time": "2025-03-17T18:01:53.171Z"
   },
   {
    "duration": 7,
    "start_time": "2025-03-17T18:01:53.524Z"
   },
   {
    "duration": 147,
    "start_time": "2025-03-17T18:01:53.532Z"
   },
   {
    "duration": 165,
    "start_time": "2025-03-17T18:01:53.681Z"
   },
   {
    "duration": 14,
    "start_time": "2025-03-17T18:01:53.848Z"
   },
   {
    "duration": 38,
    "start_time": "2025-03-17T18:01:53.864Z"
   },
   {
    "duration": 3,
    "start_time": "2025-03-17T18:01:53.903Z"
   },
   {
    "duration": 3,
    "start_time": "2025-03-17T18:01:53.924Z"
   },
   {
    "duration": 3,
    "start_time": "2025-03-17T18:01:53.929Z"
   },
   {
    "duration": 2,
    "start_time": "2025-03-17T18:01:53.934Z"
   },
   {
    "duration": 7905,
    "start_time": "2025-03-17T18:01:53.938Z"
   },
   {
    "duration": 47028,
    "start_time": "2025-03-17T18:02:01.845Z"
   },
   {
    "duration": 353,
    "start_time": "2025-03-17T18:02:48.875Z"
   },
   {
    "duration": 8296,
    "start_time": "2025-03-17T18:02:49.238Z"
   },
   {
    "duration": 47523,
    "start_time": "2025-03-17T18:02:57.536Z"
   },
   {
    "duration": 374,
    "start_time": "2025-03-17T18:03:45.062Z"
   },
   {
    "duration": 208,
    "start_time": "2025-03-17T18:03:45.439Z"
   },
   {
    "duration": 9,
    "start_time": "2025-03-17T18:03:45.648Z"
   },
   {
    "duration": 5,
    "start_time": "2025-03-17T18:03:45.658Z"
   },
   {
    "duration": 61,
    "start_time": "2025-03-17T18:03:45.664Z"
   },
   {
    "duration": 8,
    "start_time": "2025-03-17T18:03:45.727Z"
   },
   {
    "duration": 8,
    "start_time": "2025-03-17T18:03:45.737Z"
   },
   {
    "duration": 85,
    "start_time": "2025-03-17T18:03:45.747Z"
   },
   {
    "duration": 5,
    "start_time": "2025-03-17T18:03:45.834Z"
   },
   {
    "duration": 11,
    "start_time": "2025-03-17T18:03:45.841Z"
   },
   {
    "duration": 71,
    "start_time": "2025-03-17T18:03:45.854Z"
   },
   {
    "duration": 230,
    "start_time": "2025-03-17T18:03:45.928Z"
   },
   {
    "duration": 0,
    "start_time": "2025-03-17T18:03:46.160Z"
   },
   {
    "duration": 792,
    "start_time": "2025-03-17T18:05:04.441Z"
   },
   {
    "duration": 22,
    "start_time": "2025-03-17T18:06:02.238Z"
   },
   {
    "duration": 64,
    "start_time": "2025-03-17T18:06:07.022Z"
   },
   {
    "duration": 21,
    "start_time": "2025-03-17T18:06:39.573Z"
   },
   {
    "duration": 13,
    "start_time": "2025-03-17T18:06:42.724Z"
   },
   {
    "duration": 20,
    "start_time": "2025-03-17T18:07:14.348Z"
   },
   {
    "duration": 9,
    "start_time": "2025-03-17T18:07:19.541Z"
   },
   {
    "duration": 3,
    "start_time": "2025-03-17T18:07:31.529Z"
   },
   {
    "duration": 60,
    "start_time": "2025-03-17T18:07:34.216Z"
   },
   {
    "duration": 6,
    "start_time": "2025-03-17T18:07:51.406Z"
   },
   {
    "duration": 8,
    "start_time": "2025-03-17T18:07:51.933Z"
   },
   {
    "duration": 3,
    "start_time": "2025-03-17T18:07:52.376Z"
   },
   {
    "duration": 172,
    "start_time": "2025-03-17T18:07:52.925Z"
   },
   {
    "duration": 8,
    "start_time": "2025-03-17T18:08:32.729Z"
   },
   {
    "duration": 8,
    "start_time": "2025-03-17T18:08:44.902Z"
   },
   {
    "duration": 12,
    "start_time": "2025-03-17T18:08:53.096Z"
   },
   {
    "duration": 22,
    "start_time": "2025-03-17T18:09:00.118Z"
   },
   {
    "duration": 11,
    "start_time": "2025-03-17T18:09:06.241Z"
   },
   {
    "duration": 4,
    "start_time": "2025-03-17T18:09:56.655Z"
   },
   {
    "duration": 3,
    "start_time": "2025-03-17T18:11:07.166Z"
   },
   {
    "duration": 4,
    "start_time": "2025-03-17T18:11:22.236Z"
   },
   {
    "duration": 4,
    "start_time": "2025-03-17T18:11:31.509Z"
   },
   {
    "duration": 4,
    "start_time": "2025-03-17T18:11:33.432Z"
   },
   {
    "duration": 41,
    "start_time": "2025-03-17T18:12:41.282Z"
   },
   {
    "duration": 3,
    "start_time": "2025-03-17T18:12:59.786Z"
   },
   {
    "duration": 314,
    "start_time": "2025-03-17T18:13:38.903Z"
   },
   {
    "duration": 252,
    "start_time": "2025-03-17T18:13:39.224Z"
   },
   {
    "duration": 56,
    "start_time": "2025-03-17T18:13:39.478Z"
   },
   {
    "duration": 290,
    "start_time": "2025-03-17T18:13:39.536Z"
   },
   {
    "duration": 15,
    "start_time": "2025-03-17T18:13:39.830Z"
   },
   {
    "duration": 12,
    "start_time": "2025-03-17T18:13:39.847Z"
   },
   {
    "duration": 13,
    "start_time": "2025-03-17T18:13:39.860Z"
   },
   {
    "duration": 13,
    "start_time": "2025-03-17T18:13:39.875Z"
   },
   {
    "duration": 36,
    "start_time": "2025-03-17T18:13:39.889Z"
   },
   {
    "duration": 7,
    "start_time": "2025-03-17T18:13:39.926Z"
   },
   {
    "duration": 3,
    "start_time": "2025-03-17T18:13:39.939Z"
   },
   {
    "duration": 3,
    "start_time": "2025-03-17T18:13:39.944Z"
   },
   {
    "duration": 7,
    "start_time": "2025-03-17T18:13:39.949Z"
   },
   {
    "duration": 3,
    "start_time": "2025-03-17T18:13:39.962Z"
   },
   {
    "duration": 5,
    "start_time": "2025-03-17T18:13:39.967Z"
   },
   {
    "duration": 521,
    "start_time": "2025-03-17T18:13:39.974Z"
   },
   {
    "duration": 4,
    "start_time": "2025-03-17T18:13:40.497Z"
   },
   {
    "duration": 5,
    "start_time": "2025-03-17T18:13:40.502Z"
   },
   {
    "duration": 17,
    "start_time": "2025-03-17T18:13:40.509Z"
   },
   {
    "duration": 3,
    "start_time": "2025-03-17T18:13:40.527Z"
   },
   {
    "duration": 6,
    "start_time": "2025-03-17T18:13:40.532Z"
   },
   {
    "duration": 4,
    "start_time": "2025-03-17T18:13:40.540Z"
   },
   {
    "duration": 4,
    "start_time": "2025-03-17T18:13:40.545Z"
   },
   {
    "duration": 3,
    "start_time": "2025-03-17T18:13:40.551Z"
   },
   {
    "duration": 5,
    "start_time": "2025-03-17T18:13:40.555Z"
   },
   {
    "duration": 3,
    "start_time": "2025-03-17T18:13:40.562Z"
   },
   {
    "duration": 4,
    "start_time": "2025-03-17T18:13:40.567Z"
   },
   {
    "duration": 2,
    "start_time": "2025-03-17T18:13:40.625Z"
   },
   {
    "duration": 3,
    "start_time": "2025-03-17T18:13:40.629Z"
   },
   {
    "duration": 5,
    "start_time": "2025-03-17T18:13:40.634Z"
   },
   {
    "duration": 4,
    "start_time": "2025-03-17T18:13:40.641Z"
   },
   {
    "duration": 3,
    "start_time": "2025-03-17T18:13:40.647Z"
   },
   {
    "duration": 4,
    "start_time": "2025-03-17T18:13:40.651Z"
   },
   {
    "duration": 4,
    "start_time": "2025-03-17T18:13:40.656Z"
   },
   {
    "duration": 4,
    "start_time": "2025-03-17T18:13:40.662Z"
   },
   {
    "duration": 56,
    "start_time": "2025-03-17T18:13:40.668Z"
   },
   {
    "duration": 8,
    "start_time": "2025-03-17T18:13:40.725Z"
   },
   {
    "duration": 13,
    "start_time": "2025-03-17T18:13:40.735Z"
   },
   {
    "duration": 170,
    "start_time": "2025-03-17T18:13:40.750Z"
   },
   {
    "duration": 285,
    "start_time": "2025-03-17T18:13:40.922Z"
   },
   {
    "duration": 233,
    "start_time": "2025-03-17T18:13:41.213Z"
   },
   {
    "duration": 5,
    "start_time": "2025-03-17T18:13:41.448Z"
   },
   {
    "duration": 4,
    "start_time": "2025-03-17T18:13:41.455Z"
   },
   {
    "duration": 3,
    "start_time": "2025-03-17T18:13:41.460Z"
   },
   {
    "duration": 7,
    "start_time": "2025-03-17T18:13:41.464Z"
   },
   {
    "duration": 8,
    "start_time": "2025-03-17T18:13:41.472Z"
   },
   {
    "duration": 632,
    "start_time": "2025-03-17T18:13:41.481Z"
   },
   {
    "duration": 124,
    "start_time": "2025-03-17T18:13:42.115Z"
   },
   {
    "duration": 4,
    "start_time": "2025-03-17T18:13:42.241Z"
   },
   {
    "duration": 10,
    "start_time": "2025-03-17T18:13:42.247Z"
   },
   {
    "duration": 414,
    "start_time": "2025-03-17T18:13:42.259Z"
   },
   {
    "duration": 7,
    "start_time": "2025-03-17T18:13:42.675Z"
   },
   {
    "duration": 159,
    "start_time": "2025-03-17T18:13:42.684Z"
   },
   {
    "duration": 171,
    "start_time": "2025-03-17T18:13:42.845Z"
   },
   {
    "duration": 14,
    "start_time": "2025-03-17T18:13:43.018Z"
   },
   {
    "duration": 47,
    "start_time": "2025-03-17T18:13:43.034Z"
   },
   {
    "duration": 3,
    "start_time": "2025-03-17T18:13:43.083Z"
   },
   {
    "duration": 3,
    "start_time": "2025-03-17T18:13:43.088Z"
   },
   {
    "duration": 32,
    "start_time": "2025-03-17T18:13:43.093Z"
   },
   {
    "duration": 5,
    "start_time": "2025-03-17T18:13:43.127Z"
   },
   {
    "duration": 8258,
    "start_time": "2025-03-17T18:13:43.133Z"
   },
   {
    "duration": 47783,
    "start_time": "2025-03-17T18:13:51.393Z"
   },
   {
    "duration": 473,
    "start_time": "2025-03-17T18:14:39.179Z"
   },
   {
    "duration": 8288,
    "start_time": "2025-03-17T18:14:39.655Z"
   },
   {
    "duration": 47641,
    "start_time": "2025-03-17T18:14:47.948Z"
   },
   {
    "duration": 436,
    "start_time": "2025-03-17T18:15:35.590Z"
   },
   {
    "duration": 182,
    "start_time": "2025-03-17T18:15:36.030Z"
   },
   {
    "duration": 14,
    "start_time": "2025-03-17T18:15:36.213Z"
   },
   {
    "duration": 3,
    "start_time": "2025-03-17T18:15:36.229Z"
   },
   {
    "duration": 7,
    "start_time": "2025-03-17T18:15:36.234Z"
   },
   {
    "duration": 6,
    "start_time": "2025-03-17T18:15:36.243Z"
   },
   {
    "duration": 5,
    "start_time": "2025-03-17T18:15:36.329Z"
   },
   {
    "duration": 11,
    "start_time": "2025-03-17T18:15:36.335Z"
   },
   {
    "duration": 78,
    "start_time": "2025-03-17T18:15:36.349Z"
   },
   {
    "duration": 7,
    "start_time": "2025-03-17T18:15:36.429Z"
   },
   {
    "duration": 9,
    "start_time": "2025-03-17T18:15:36.438Z"
   },
   {
    "duration": 76,
    "start_time": "2025-03-17T18:15:36.449Z"
   },
   {
    "duration": 3,
    "start_time": "2025-03-17T18:15:36.527Z"
   },
   {
    "duration": 4,
    "start_time": "2025-03-17T18:15:36.531Z"
   },
   {
    "duration": 4,
    "start_time": "2025-03-17T18:15:36.536Z"
   },
   {
    "duration": 10,
    "start_time": "2025-03-17T18:15:36.542Z"
   },
   {
    "duration": 8,
    "start_time": "2025-03-17T18:15:36.553Z"
   },
   {
    "duration": 3,
    "start_time": "2025-03-17T18:20:03.830Z"
   },
   {
    "duration": 311,
    "start_time": "2025-03-17T18:20:40.251Z"
   },
   {
    "duration": 203,
    "start_time": "2025-03-17T18:20:40.564Z"
   },
   {
    "duration": 56,
    "start_time": "2025-03-17T18:20:40.769Z"
   },
   {
    "duration": 264,
    "start_time": "2025-03-17T18:20:40.826Z"
   },
   {
    "duration": 14,
    "start_time": "2025-03-17T18:20:41.092Z"
   },
   {
    "duration": 22,
    "start_time": "2025-03-17T18:20:41.108Z"
   },
   {
    "duration": 13,
    "start_time": "2025-03-17T18:20:41.132Z"
   },
   {
    "duration": 8,
    "start_time": "2025-03-17T18:20:41.147Z"
   },
   {
    "duration": 4,
    "start_time": "2025-03-17T18:20:41.156Z"
   },
   {
    "duration": 4,
    "start_time": "2025-03-17T18:20:41.162Z"
   },
   {
    "duration": 2,
    "start_time": "2025-03-17T18:20:41.168Z"
   },
   {
    "duration": 4,
    "start_time": "2025-03-17T18:20:41.172Z"
   },
   {
    "duration": 5,
    "start_time": "2025-03-17T18:20:41.178Z"
   },
   {
    "duration": 4,
    "start_time": "2025-03-17T18:20:41.225Z"
   },
   {
    "duration": 4,
    "start_time": "2025-03-17T18:20:41.230Z"
   },
   {
    "duration": 465,
    "start_time": "2025-03-17T18:20:41.236Z"
   },
   {
    "duration": 4,
    "start_time": "2025-03-17T18:20:41.703Z"
   },
   {
    "duration": 5,
    "start_time": "2025-03-17T18:20:41.709Z"
   },
   {
    "duration": 4,
    "start_time": "2025-03-17T18:20:41.724Z"
   },
   {
    "duration": 3,
    "start_time": "2025-03-17T18:20:41.729Z"
   },
   {
    "duration": 6,
    "start_time": "2025-03-17T18:20:41.733Z"
   },
   {
    "duration": 5,
    "start_time": "2025-03-17T18:20:41.741Z"
   },
   {
    "duration": 5,
    "start_time": "2025-03-17T18:20:41.747Z"
   },
   {
    "duration": 2,
    "start_time": "2025-03-17T18:20:41.755Z"
   },
   {
    "duration": 4,
    "start_time": "2025-03-17T18:20:41.759Z"
   },
   {
    "duration": 3,
    "start_time": "2025-03-17T18:20:41.765Z"
   },
   {
    "duration": 4,
    "start_time": "2025-03-17T18:20:41.770Z"
   },
   {
    "duration": 48,
    "start_time": "2025-03-17T18:20:41.776Z"
   },
   {
    "duration": 3,
    "start_time": "2025-03-17T18:20:41.825Z"
   },
   {
    "duration": 4,
    "start_time": "2025-03-17T18:20:41.830Z"
   },
   {
    "duration": 3,
    "start_time": "2025-03-17T18:20:41.835Z"
   },
   {
    "duration": 3,
    "start_time": "2025-03-17T18:20:41.839Z"
   },
   {
    "duration": 4,
    "start_time": "2025-03-17T18:20:41.844Z"
   },
   {
    "duration": 3,
    "start_time": "2025-03-17T18:20:41.850Z"
   },
   {
    "duration": 5,
    "start_time": "2025-03-17T18:20:41.854Z"
   },
   {
    "duration": 7,
    "start_time": "2025-03-17T18:20:41.860Z"
   },
   {
    "duration": 7,
    "start_time": "2025-03-17T18:20:41.869Z"
   },
   {
    "duration": 61,
    "start_time": "2025-03-17T18:20:41.877Z"
   },
   {
    "duration": 148,
    "start_time": "2025-03-17T18:20:41.940Z"
   },
   {
    "duration": 257,
    "start_time": "2025-03-17T18:20:42.090Z"
   },
   {
    "duration": 232,
    "start_time": "2025-03-17T18:20:42.354Z"
   },
   {
    "duration": 5,
    "start_time": "2025-03-17T18:20:42.588Z"
   },
   {
    "duration": 5,
    "start_time": "2025-03-17T18:20:42.594Z"
   },
   {
    "duration": 25,
    "start_time": "2025-03-17T18:20:42.600Z"
   },
   {
    "duration": 7,
    "start_time": "2025-03-17T18:20:42.626Z"
   },
   {
    "duration": 8,
    "start_time": "2025-03-17T18:20:42.635Z"
   },
   {
    "duration": 613,
    "start_time": "2025-03-17T18:20:42.644Z"
   },
   {
    "duration": 119,
    "start_time": "2025-03-17T18:20:43.259Z"
   },
   {
    "duration": 3,
    "start_time": "2025-03-17T18:20:43.380Z"
   },
   {
    "duration": 11,
    "start_time": "2025-03-17T18:20:43.384Z"
   },
   {
    "duration": 338,
    "start_time": "2025-03-17T18:20:43.397Z"
   },
   {
    "duration": 6,
    "start_time": "2025-03-17T18:20:43.737Z"
   },
   {
    "duration": 153,
    "start_time": "2025-03-17T18:20:43.745Z"
   },
   {
    "duration": 170,
    "start_time": "2025-03-17T18:20:43.900Z"
   },
   {
    "duration": 12,
    "start_time": "2025-03-17T18:20:44.071Z"
   },
   {
    "duration": 50,
    "start_time": "2025-03-17T18:20:44.086Z"
   },
   {
    "duration": 3,
    "start_time": "2025-03-17T18:20:44.137Z"
   },
   {
    "duration": 3,
    "start_time": "2025-03-17T18:20:44.142Z"
   },
   {
    "duration": 3,
    "start_time": "2025-03-17T18:20:44.147Z"
   },
   {
    "duration": 3,
    "start_time": "2025-03-17T18:20:44.152Z"
   },
   {
    "duration": 8064,
    "start_time": "2025-03-17T18:20:44.158Z"
   },
   {
    "duration": 47300,
    "start_time": "2025-03-17T18:20:52.224Z"
   },
   {
    "duration": 127,
    "start_time": "2025-03-17T18:21:39.526Z"
   },
   {
    "duration": 8397,
    "start_time": "2025-03-17T18:21:39.655Z"
   },
   {
    "duration": 48081,
    "start_time": "2025-03-17T18:21:48.055Z"
   },
   {
    "duration": 119,
    "start_time": "2025-03-17T18:22:36.138Z"
   },
   {
    "duration": 248,
    "start_time": "2025-03-17T18:22:36.261Z"
   },
   {
    "duration": 21,
    "start_time": "2025-03-17T18:22:36.511Z"
   },
   {
    "duration": 6,
    "start_time": "2025-03-17T18:22:36.536Z"
   },
   {
    "duration": 10,
    "start_time": "2025-03-17T18:22:36.544Z"
   },
   {
    "duration": 80,
    "start_time": "2025-03-17T18:22:36.556Z"
   },
   {
    "duration": 3,
    "start_time": "2025-03-17T18:22:36.638Z"
   },
   {
    "duration": 11,
    "start_time": "2025-03-17T18:22:36.643Z"
   },
   {
    "duration": 72,
    "start_time": "2025-03-17T18:22:36.655Z"
   },
   {
    "duration": 13,
    "start_time": "2025-03-17T18:22:36.729Z"
   },
   {
    "duration": 82,
    "start_time": "2025-03-17T18:22:36.744Z"
   },
   {
    "duration": 5,
    "start_time": "2025-03-17T18:22:36.828Z"
   },
   {
    "duration": 3,
    "start_time": "2025-03-17T18:22:36.835Z"
   },
   {
    "duration": 3,
    "start_time": "2025-03-17T18:22:36.840Z"
   },
   {
    "duration": 4,
    "start_time": "2025-03-17T18:22:36.845Z"
   },
   {
    "duration": 9,
    "start_time": "2025-03-17T18:22:36.852Z"
   },
   {
    "duration": 5,
    "start_time": "2025-03-17T18:22:36.863Z"
   },
   {
    "duration": 55,
    "start_time": "2025-03-17T18:22:36.870Z"
   },
   {
    "duration": 8,
    "start_time": "2025-03-18T17:46:04.131Z"
   }
  ],
  "kernelspec": {
   "display_name": "Python 3 (ipykernel)",
   "language": "python",
   "name": "python3"
  },
  "language_info": {
   "codemirror_mode": {
    "name": "ipython",
    "version": 3
   },
   "file_extension": ".py",
   "mimetype": "text/x-python",
   "name": "python",
   "nbconvert_exporter": "python",
   "pygments_lexer": "ipython3",
   "version": "3.9.19"
  },
  "toc": {
   "base_numbering": 1,
   "nav_menu": {},
   "number_sections": true,
   "sideBar": true,
   "skip_h1_title": true,
   "title_cell": "Table of Contents",
   "title_sidebar": "Contents",
   "toc_cell": false,
   "toc_position": {},
   "toc_section_display": true,
   "toc_window_display": false
  }
 },
 "nbformat": 4,
 "nbformat_minor": 2
}
